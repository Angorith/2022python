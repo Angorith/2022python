{
  "nbformat": 4,
  "nbformat_minor": 0,
  "metadata": {
    "colab": {
      "name": "0520 11일차 파이썬 기초 11(클래스[__init__, 인스턴스객체,상속,메소드 호출]).ipynb",
      "provenance": [],
      "collapsed_sections": [],
      "authorship_tag": "ABX9TyMYCjvcmi0pvwjsGHLS4Si4",
      "include_colab_link": true
    },
    "kernelspec": {
      "name": "python3",
      "display_name": "Python 3"
    },
    "language_info": {
      "name": "python"
    }
  },
  "cells": [
    {
      "cell_type": "markdown",
      "metadata": {
        "id": "view-in-github",
        "colab_type": "text"
      },
      "source": [
        "<a href=\"https://colab.research.google.com/github/Angorith/acorn_python/blob/main/0520_11%EC%9D%BC%EC%B0%A8_%ED%8C%8C%EC%9D%B4%EC%8D%AC_%EA%B8%B0%EC%B4%88_11(%ED%81%B4%EB%9E%98%EC%8A%A4%5B__init__%2C_%EC%9D%B8%EC%8A%A4%ED%84%B4%EC%8A%A4%EA%B0%9D%EC%B2%B4%2C%EC%83%81%EC%86%8D%2C%EB%A9%94%EC%86%8C%EB%93%9C_%ED%98%B8%EC%B6%9C%5D).ipynb\" target=\"_parent\"><img src=\"https://colab.research.google.com/assets/colab-badge.svg\" alt=\"Open In Colab\"/></a>"
      ]
    },
    {
      "cell_type": "code",
      "execution_count": null,
      "metadata": {
        "id": "UvOTHHejIuHi"
      },
      "outputs": [],
      "source": [
        "def add(num):\n",
        "  result =0\n",
        "  #global result\n",
        "  result +=num\n",
        "  return result\n",
        "\n",
        "\n",
        "add(10)\n",
        "add(3)"
      ]
    },
    {
      "cell_type": "code",
      "source": [
        "def add(num):\n",
        "  #result =0\n",
        "  global result #global은 동일한 모듈에서 함수내부의 지역변수를 전역으로 설정\n",
        "  result +=num\n",
        "  return result\n",
        "\n",
        "result = 0\n",
        "add(10)\n",
        "add(3)\n",
        "add(7)"
      ],
      "metadata": {
        "id": "aLx62OR0I4dx"
      },
      "execution_count": null,
      "outputs": []
    },
    {
      "cell_type": "code",
      "source": [
        "#결국 계산기 2대가 필요하다!\n",
        "result1= 0\n",
        "result2 =0\n",
        "\n",
        "def add1(num):\n",
        "  global result1 \n",
        "  result1 +=num\n",
        "  return result1\n",
        "def add2(num):\n",
        "  global result2\n",
        "  result2 += num\n",
        "  return result2\n",
        "\n",
        "print(add1(3))\n",
        "print(add1(4))\n",
        "print(add2(12))\n",
        "print(add2(8))"
      ],
      "metadata": {
        "id": "LXP5QqBcI9iO"
      },
      "execution_count": null,
      "outputs": []
    },
    {
      "cell_type": "code",
      "source": [
        "#클래스를 사용해서 실제 계산기를 모델링하는 데이터 타입(사용자가 정의한)을 만들면 아래와 같이 간단하게 해결된다.\n",
        "\n",
        "class Calculator:\n",
        "  def __init__(self):\n",
        "    self.result =0\n",
        "\n",
        "  def add(self, num):\n",
        "    self.result+= num\n",
        "    return self.result\n",
        "\n",
        "cal1 = Calculator() #lvalue가 rvalue의 instance object입니다\n",
        "cal2 = Calculator()\n",
        "\n",
        "print(cal1.add(3))\n",
        "print(cal1.add(4))\n",
        "print(cal2.add(12))\n",
        "print(cal2.add(8))"
      ],
      "metadata": {
        "id": "JB2V1Fp9I_Qz"
      },
      "execution_count": null,
      "outputs": []
    },
    {
      "cell_type": "markdown",
      "source": [
        "\n",
        "\n",
        "*   클래스는 새로운 이름 공간을 지원하는 단위\n",
        "*   이 이름 공간에는 함수와 변수가 포함 될 수 있다.\n",
        "*   클래스를 정의하는 것은 새로운 자료형을 하나 만드는 것이다. (datatype)\n",
        "*   인스턴스는 이 자료형의 객체를 생성\n",
        "*   클래스 인스턴스 : 클래스를 호출하여 생성된 객체\n",
        "*   클래스 인스턴스는 클래스의 실제 객체이다.  \n",
        "*   클래스 인스턴스 객체 : 클래스 인스턴스와 같은 의미이다. 인스턴스 객체라고 부르기도 한다.\n",
        "*   멤버: 클래스 혹은 클래스 인스턴스 공간에 정의된 변수이다.\n",
        "*   매서드 : 클래스 공간에 정의된 함수이다.\n",
        "*   속성(Attribute) : 멤버와 매서드 전체를 가리킨다.\n",
        "\n"
      ],
      "metadata": {
        "id": "1sOsWSLSMYs4"
      }
    },
    {
      "cell_type": "markdown",
      "source": [
        "테이터 타입\n",
        "\n"
      ],
      "metadata": {
        "id": "Y__GWQ7rMrTm"
      }
    },
    {
      "cell_type": "code",
      "source": [
        "class test_class:\n",
        "  def __init__(self,a,b):   #인스턴스   __init__ 속성\n",
        "    self.a =a\n",
        "    self.b = b\n",
        "    print('점심 전입니다...')\n",
        "  def set_item(self, item): #매서드\n",
        "    self.item = item  #self.item = 멤버\n",
        "    print(self.item)"
      ],
      "metadata": {
        "id": "mHrE0hcENKIY"
      },
      "execution_count": null,
      "outputs": []
    },
    {
      "cell_type": "code",
      "source": [
        "tc = test_class(1,1)"
      ],
      "metadata": {
        "colab": {
          "base_uri": "https://localhost:8080/"
        },
        "id": "hKTRg4tONSym",
        "outputId": "47a7b5d6-47e2-4733-87d6-0d89e0f9bfe8"
      },
      "execution_count": null,
      "outputs": [
        {
          "output_type": "stream",
          "name": "stdout",
          "text": [
            "점심 전입니다...\n"
          ]
        }
      ]
    },
    {
      "cell_type": "code",
      "source": [
        "tc.a"
      ],
      "metadata": {
        "colab": {
          "base_uri": "https://localhost:8080/"
        },
        "id": "O-yOVsyhYGIF",
        "outputId": "1aa0b008-7c94-4aef-ffb2-d586e35ca01b"
      },
      "execution_count": null,
      "outputs": [
        {
          "output_type": "execute_result",
          "data": {
            "text/plain": [
              "1"
            ]
          },
          "metadata": {},
          "execution_count": 36
        }
      ]
    },
    {
      "cell_type": "code",
      "source": [
        "tc.set_item('test')"
      ],
      "metadata": {
        "colab": {
          "base_uri": "https://localhost:8080/"
        },
        "id": "9IvygQuAOxGG",
        "outputId": "dae08b75-c3ab-4b18-bcd2-8dd71bacdbf4"
      },
      "execution_count": null,
      "outputs": [
        {
          "output_type": "stream",
          "name": "stdout",
          "text": [
            "test\n"
          ]
        }
      ]
    },
    {
      "cell_type": "code",
      "source": [
        "tc.item"
      ],
      "metadata": {
        "colab": {
          "base_uri": "https://localhost:8080/",
          "height": 35
        },
        "id": "ZLq1li9BO1-p",
        "outputId": "20ffb776-a98d-49c7-a0a6-9062c0688080"
      },
      "execution_count": null,
      "outputs": [
        {
          "output_type": "execute_result",
          "data": {
            "text/plain": [
              "'test'"
            ],
            "application/vnd.google.colaboratory.intrinsic+json": {
              "type": "string"
            }
          },
          "metadata": {},
          "execution_count": 16
        }
      ]
    },
    {
      "cell_type": "code",
      "source": [
        "type(tc)"
      ],
      "metadata": {
        "colab": {
          "base_uri": "https://localhost:8080/"
        },
        "id": "TsVl6DohNVGv",
        "outputId": "fc9c07b2-93d9-4dbf-83d2-3e8f839da265"
      },
      "execution_count": null,
      "outputs": [
        {
          "output_type": "execute_result",
          "data": {
            "text/plain": [
              "__main__.test_class"
            ]
          },
          "metadata": {},
          "execution_count": 3
        }
      ]
    },
    {
      "cell_type": "code",
      "source": [
        "tc"
      ],
      "metadata": {
        "colab": {
          "base_uri": "https://localhost:8080/"
        },
        "id": "6MD9KF57NXsw",
        "outputId": "197566c2-3587-43da-f08a-8861571535b4"
      },
      "execution_count": null,
      "outputs": [
        {
          "output_type": "execute_result",
          "data": {
            "text/plain": [
              "<__main__.test_class at 0x7f3661762e10>"
            ]
          },
          "metadata": {},
          "execution_count": 4
        }
      ]
    },
    {
      "cell_type": "markdown",
      "source": [
        "================"
      ],
      "metadata": {
        "id": "iPy0a8dDVBUw"
      }
    },
    {
      "cell_type": "code",
      "source": [
        "class MyClass:\n",
        "  def __add__(self,b):\n",
        "    print('안더해준다!')"
      ],
      "metadata": {
        "id": "Vncz0l8QVCHo"
      },
      "execution_count": null,
      "outputs": []
    },
    {
      "cell_type": "markdown",
      "source": [
        "mc라는 인스턴스 객체 생성"
      ],
      "metadata": {
        "id": "LhAN6fsfVPn3"
      }
    },
    {
      "cell_type": "code",
      "source": [
        "mc = MyClass()"
      ],
      "metadata": {
        "id": "1S2gWh2ZVMEb"
      },
      "execution_count": null,
      "outputs": []
    },
    {
      "cell_type": "code",
      "source": [
        "mc + 'test'"
      ],
      "metadata": {
        "colab": {
          "base_uri": "https://localhost:8080/"
        },
        "id": "VsqrkRqoVURr",
        "outputId": "8536d409-2003-4a51-bd38-dffcb6290094"
      },
      "execution_count": null,
      "outputs": [
        {
          "output_type": "stream",
          "name": "stdout",
          "text": [
            "안더해준다!\n"
          ]
        }
      ]
    },
    {
      "cell_type": "code",
      "source": [
        "mc + 1"
      ],
      "metadata": {
        "colab": {
          "base_uri": "https://localhost:8080/"
        },
        "id": "5EN53AvPVaEq",
        "outputId": "89e81453-f6f9-4990-f2a1-8578b7cd6c53"
      },
      "execution_count": null,
      "outputs": [
        {
          "output_type": "stream",
          "name": "stdout",
          "text": [
            "안더해준다!\n"
          ]
        }
      ]
    },
    {
      "cell_type": "markdown",
      "source": [
        "--------------"
      ],
      "metadata": {
        "id": "8gjuffWEVdyC"
      }
    },
    {
      "cell_type": "code",
      "source": [
        "class MyClass:\n",
        "  def __add__(self,b):\n",
        "    print('더해주까?')"
      ],
      "metadata": {
        "id": "-2_088IRVett"
      },
      "execution_count": null,
      "outputs": []
    },
    {
      "cell_type": "code",
      "source": [
        "mc = MyClass()"
      ],
      "metadata": {
        "id": "QITZFVfGVhom"
      },
      "execution_count": null,
      "outputs": []
    },
    {
      "cell_type": "code",
      "source": [
        "mc + 'test'"
      ],
      "metadata": {
        "colab": {
          "base_uri": "https://localhost:8080/"
        },
        "id": "3u5SXZ0qViju",
        "outputId": "117751f2-9d8c-49ff-8d26-fed6f1111ef5"
      },
      "execution_count": null,
      "outputs": [
        {
          "output_type": "stream",
          "name": "stdout",
          "text": [
            "더해주까?\n"
          ]
        }
      ]
    },
    {
      "cell_type": "code",
      "source": [
        "mc + 1"
      ],
      "metadata": {
        "colab": {
          "base_uri": "https://localhost:8080/"
        },
        "id": "DFM8THPsVjwl",
        "outputId": "1c81dd99-f8b2-499c-b818-b96e5bd9d828"
      },
      "execution_count": null,
      "outputs": [
        {
          "output_type": "stream",
          "name": "stdout",
          "text": [
            "더해주까?\n"
          ]
        }
      ]
    },
    {
      "cell_type": "markdown",
      "source": [
        "스페셜 메서드는 모든 매서드를 연산해주는것"
      ],
      "metadata": {
        "id": "TGjhwMmDV2k9"
      }
    },
    {
      "cell_type": "code",
      "source": [
        "print(dir(int))"
      ],
      "metadata": {
        "colab": {
          "base_uri": "https://localhost:8080/"
        },
        "id": "HvfTb6YBWgnO",
        "outputId": "94e69dd9-4f61-4f4c-a7f6-8aab9cd9658f"
      },
      "execution_count": null,
      "outputs": [
        {
          "output_type": "stream",
          "name": "stdout",
          "text": [
            "['__abs__', '__add__', '__and__', '__bool__', '__ceil__', '__class__', '__delattr__', '__dir__', '__divmod__', '__doc__', '__eq__', '__float__', '__floor__', '__floordiv__', '__format__', '__ge__', '__getattribute__', '__getnewargs__', '__gt__', '__hash__', '__index__', '__init__', '__init_subclass__', '__int__', '__invert__', '__le__', '__lshift__', '__lt__', '__mod__', '__mul__', '__ne__', '__neg__', '__new__', '__or__', '__pos__', '__pow__', '__radd__', '__rand__', '__rdivmod__', '__reduce__', '__reduce_ex__', '__repr__', '__rfloordiv__', '__rlshift__', '__rmod__', '__rmul__', '__ror__', '__round__', '__rpow__', '__rrshift__', '__rshift__', '__rsub__', '__rtruediv__', '__rxor__', '__setattr__', '__sizeof__', '__str__', '__sub__', '__subclasshook__', '__truediv__', '__trunc__', '__xor__', 'bit_length', 'conjugate', 'denominator', 'from_bytes', 'imag', 'numerator', 'real', 'to_bytes']\n"
          ]
        }
      ]
    },
    {
      "cell_type": "markdown",
      "source": [
        "--------"
      ],
      "metadata": {
        "id": "fvVvcGHqel-Y"
      }
    },
    {
      "cell_type": "code",
      "source": [
        "class S1 :\n",
        "  a =1"
      ],
      "metadata": {
        "id": "mIjXdS-OemnU"
      },
      "execution_count": null,
      "outputs": []
    },
    {
      "cell_type": "code",
      "source": [
        "S1.a"
      ],
      "metadata": {
        "colab": {
          "base_uri": "https://localhost:8080/"
        },
        "id": "rp5cbajseo-Y",
        "outputId": "f55f9eda-961e-4666-a016-11574fa2571c"
      },
      "execution_count": null,
      "outputs": [
        {
          "output_type": "execute_result",
          "data": {
            "text/plain": [
              "1"
            ]
          },
          "metadata": {},
          "execution_count": 38
        }
      ]
    },
    {
      "cell_type": "code",
      "source": [
        "S1.b = 2 #클래스 외부에서 멤버 생성"
      ],
      "metadata": {
        "id": "l_PB2k0aeqR5"
      },
      "execution_count": null,
      "outputs": []
    },
    {
      "cell_type": "code",
      "source": [
        "S1.b"
      ],
      "metadata": {
        "colab": {
          "base_uri": "https://localhost:8080/"
        },
        "id": "EqG841cTetZ9",
        "outputId": "0fc7b08e-a06e-4ad8-d677-a69cbd679cd9"
      },
      "execution_count": null,
      "outputs": [
        {
          "output_type": "execute_result",
          "data": {
            "text/plain": [
              "2"
            ]
          },
          "metadata": {},
          "execution_count": 40
        }
      ]
    },
    {
      "cell_type": "markdown",
      "source": [
        "클래스에 내제된 함수들 (a,b는 위에 생성했기에 나타나는 매서드임)"
      ],
      "metadata": {
        "id": "kfB3-BqcgdMv"
      }
    },
    {
      "cell_type": "code",
      "source": [
        "dir(S1)"
      ],
      "metadata": {
        "colab": {
          "base_uri": "https://localhost:8080/"
        },
        "id": "7ExXgOuafkz5",
        "outputId": "7069a37f-7d92-4782-ad1e-e55f1e849857"
      },
      "execution_count": null,
      "outputs": [
        {
          "output_type": "execute_result",
          "data": {
            "text/plain": [
              "['__class__',\n",
              " '__delattr__',\n",
              " '__dict__',\n",
              " '__dir__',\n",
              " '__doc__',\n",
              " '__eq__',\n",
              " '__format__',\n",
              " '__ge__',\n",
              " '__getattribute__',\n",
              " '__gt__',\n",
              " '__hash__',\n",
              " '__init__',\n",
              " '__init_subclass__',\n",
              " '__le__',\n",
              " '__lt__',\n",
              " '__module__',\n",
              " '__ne__',\n",
              " '__new__',\n",
              " '__reduce__',\n",
              " '__reduce_ex__',\n",
              " '__repr__',\n",
              " '__setattr__',\n",
              " '__sizeof__',\n",
              " '__str__',\n",
              " '__subclasshook__',\n",
              " '__weakref__',\n",
              " 'a',\n",
              " 'b']"
            ]
          },
          "metadata": {},
          "execution_count": 41
        }
      ]
    },
    {
      "cell_type": "code",
      "source": [
        "x =S1() #인스턴스선언"
      ],
      "metadata": {
        "id": "7X7LXplGgVsQ"
      },
      "execution_count": null,
      "outputs": []
    },
    {
      "cell_type": "code",
      "source": [
        "x.a"
      ],
      "metadata": {
        "colab": {
          "base_uri": "https://localhost:8080/"
        },
        "id": "6auzRS6OgXJ-",
        "outputId": "11b99ba7-4ed6-4a0e-93e2-566e450bdc1c"
      },
      "execution_count": null,
      "outputs": [
        {
          "output_type": "execute_result",
          "data": {
            "text/plain": [
              "1"
            ]
          },
          "metadata": {},
          "execution_count": 43
        }
      ]
    },
    {
      "cell_type": "code",
      "source": [
        "x.a =10\n",
        "x.a"
      ],
      "metadata": {
        "colab": {
          "base_uri": "https://localhost:8080/"
        },
        "id": "24k6KA_7gY90",
        "outputId": "a92d3799-aac3-441b-b415-ba788c5f1b5b"
      },
      "execution_count": null,
      "outputs": [
        {
          "output_type": "execute_result",
          "data": {
            "text/plain": [
              "10"
            ]
          },
          "metadata": {},
          "execution_count": 44
        }
      ]
    },
    {
      "cell_type": "code",
      "source": [
        "S1.a"
      ],
      "metadata": {
        "colab": {
          "base_uri": "https://localhost:8080/"
        },
        "id": "sKUCj-j-gauT",
        "outputId": "0cf70d4d-63aa-43bb-b3a7-bc196a4badc5"
      },
      "execution_count": null,
      "outputs": [
        {
          "output_type": "execute_result",
          "data": {
            "text/plain": [
              "1"
            ]
          },
          "metadata": {},
          "execution_count": 45
        }
      ]
    },
    {
      "cell_type": "code",
      "source": [
        "y = S1()\n",
        "y.a =300\n",
        "y.a"
      ],
      "metadata": {
        "colab": {
          "base_uri": "https://localhost:8080/"
        },
        "id": "qfhSVULMhAfB",
        "outputId": "a60f02ae-7f46-4df7-db0e-7653aea368d4"
      },
      "execution_count": null,
      "outputs": [
        {
          "output_type": "execute_result",
          "data": {
            "text/plain": [
              "300"
            ]
          },
          "metadata": {},
          "execution_count": 48
        }
      ]
    },
    {
      "cell_type": "code",
      "source": [
        "y.b"
      ],
      "metadata": {
        "colab": {
          "base_uri": "https://localhost:8080/"
        },
        "id": "Q0SsbfT2hFR5",
        "outputId": "a9ebdd5e-ae39-4c90-af82-7daad1ae7196"
      },
      "execution_count": null,
      "outputs": [
        {
          "output_type": "execute_result",
          "data": {
            "text/plain": [
              "2"
            ]
          },
          "metadata": {},
          "execution_count": 49
        }
      ]
    },
    {
      "cell_type": "markdown",
      "source": [
        "S1.a는 1이네...... 뭐지\n"
      ],
      "metadata": {
        "id": "Yf3Jj6YEhMd9"
      }
    },
    {
      "cell_type": "code",
      "source": [
        "S1.a"
      ],
      "metadata": {
        "colab": {
          "base_uri": "https://localhost:8080/"
        },
        "id": "2E99NRglhH9X",
        "outputId": "d1a3a899-c9ab-4939-a09a-584ee79e5974"
      },
      "execution_count": null,
      "outputs": [
        {
          "output_type": "execute_result",
          "data": {
            "text/plain": [
              "1"
            ]
          },
          "metadata": {},
          "execution_count": 50
        }
      ]
    },
    {
      "cell_type": "code",
      "source": [
        "y.b = 20"
      ],
      "metadata": {
        "id": "8iZKCY9dhQzl"
      },
      "execution_count": null,
      "outputs": []
    },
    {
      "cell_type": "code",
      "source": [
        "y.b"
      ],
      "metadata": {
        "colab": {
          "base_uri": "https://localhost:8080/"
        },
        "id": "dl5uC1XWhSYz",
        "outputId": "4ee37ecf-6961-47a9-8989-bffe8a30a968"
      },
      "execution_count": null,
      "outputs": [
        {
          "output_type": "execute_result",
          "data": {
            "text/plain": [
              "20"
            ]
          },
          "metadata": {},
          "execution_count": 54
        }
      ]
    },
    {
      "cell_type": "code",
      "source": [
        "S1.b"
      ],
      "metadata": {
        "colab": {
          "base_uri": "https://localhost:8080/"
        },
        "id": "Es4v1NNthWPz",
        "outputId": "8bcdabbc-c97d-4e7f-bce8-1848749ad883"
      },
      "execution_count": null,
      "outputs": [
        {
          "output_type": "execute_result",
          "data": {
            "text/plain": [
              "2"
            ]
          },
          "metadata": {},
          "execution_count": 55
        }
      ]
    },
    {
      "cell_type": "markdown",
      "source": [
        "그럼 파악해보자\n",
        "\n",
        "S1.a = 1\n",
        "\n",
        "S1.b =2\n",
        "\n",
        "x.a = 10\n",
        "\n"
      ],
      "metadata": {
        "id": "GSwOqyfuhZ90"
      }
    },
    {
      "cell_type": "code",
      "source": [
        "y.c =300"
      ],
      "metadata": {
        "id": "eipiQYJ4hpwW"
      },
      "execution_count": null,
      "outputs": []
    },
    {
      "cell_type": "markdown",
      "source": [
        ". 은 속성 바인딩 연산자이다."
      ],
      "metadata": {
        "id": "IAfTd02WiM81"
      }
    },
    {
      "cell_type": "code",
      "source": [
        "def f():\n",
        "  pass"
      ],
      "metadata": {
        "id": "NQG1ruXTiuvr"
      },
      "execution_count": null,
      "outputs": []
    },
    {
      "cell_type": "code",
      "source": [
        "f.a = 1"
      ],
      "metadata": {
        "id": "qMvPIWk1isTd"
      },
      "execution_count": null,
      "outputs": []
    },
    {
      "cell_type": "code",
      "source": [
        "class Charge:\n",
        "\n",
        "    # Construct self centered at (x, y) with charge q.\n",
        "    def __init__(self, x0, y0, q0):\n",
        "        self._rx = x0  # x value of the query point\n",
        "        self._ry = y0  # y value of the query point\n",
        "        self._q = q0   # Charge\n",
        "\n",
        "    # Return the potential of self at (x, y).\n",
        "    def potentialAt(self, x, y):\n",
        "        COULOMB = 8.99e09\n",
        "        dx = x - self._rx\n",
        "        dy = y - self._ry\n",
        "        r = math.sqrt(dx*dx + dy*dy)\n",
        "        if r == 0.0: # Avoid division by 0\n",
        "            if self._q >= 0.0:\n",
        "                return float('inf')\n",
        "            else:\n",
        "                return float('-inf')\n",
        "        return COULOMB * self._q / r\n",
        "\n",
        "    # Return a string representation of self.\n",
        "    def __str__(self):\n",
        "        result = str(self._q) + ' at ('\n",
        "        result += str(self._rx) + ', ' + str(self._ry) + ')'\n",
        "        return result\n"
      ],
      "metadata": {
        "id": "oRhQvNGJ1xm1"
      },
      "execution_count": null,
      "outputs": []
    },
    {
      "cell_type": "markdown",
      "source": [
        "![20220520.drawio.png](data:image/png;base64,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)"
      ],
      "metadata": {
        "id": "Ro03qeCfajg6"
      }
    },
    {
      "cell_type": "markdown",
      "source": [
        "![20220520.drawio (1).png](data:image/png;base64,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)"
      ],
      "metadata": {
        "id": "jduhGzAeanaR"
      }
    },
    {
      "cell_type": "code",
      "source": [
        "class Simple:\n",
        "  pass\n",
        "\n",
        "s1 = Simple()\n",
        "s2 = Simple()\n",
        "s1"
      ],
      "metadata": {
        "colab": {
          "base_uri": "https://localhost:8080/"
        },
        "id": "EvqFu1z972J5",
        "outputId": "160b3ae3-7b86-4bb2-e81a-e814b4c760e2"
      },
      "execution_count": null,
      "outputs": [
        {
          "output_type": "execute_result",
          "data": {
            "text/plain": [
              "<__main__.Simple at 0x7f36596501d0>"
            ]
          },
          "metadata": {},
          "execution_count": 60
        }
      ]
    },
    {
      "cell_type": "code",
      "source": [
        "class MyClass :\n",
        "  def __init__(self,name, age):\n",
        "    self.name = name\n",
        "    self.age = age\n",
        "  \n",
        "mc_1 = MyClass('아무개', '아무살')"
      ],
      "metadata": {
        "id": "AEdDWYXF7-Qe"
      },
      "execution_count": null,
      "outputs": []
    },
    {
      "cell_type": "code",
      "source": [
        "mc_2 = MyClass('홍길동',23)"
      ],
      "metadata": {
        "id": "P8m5jwaY8JP4"
      },
      "execution_count": null,
      "outputs": []
    },
    {
      "cell_type": "code",
      "source": [
        "mc_1.name"
      ],
      "metadata": {
        "colab": {
          "base_uri": "https://localhost:8080/",
          "height": 35
        },
        "id": "LaYuEoAy8M4a",
        "outputId": "7b563f26-dabc-426e-837e-150055139d5f"
      },
      "execution_count": null,
      "outputs": [
        {
          "output_type": "execute_result",
          "data": {
            "text/plain": [
              "'아무개'"
            ],
            "application/vnd.google.colaboratory.intrinsic+json": {
              "type": "string"
            }
          },
          "metadata": {},
          "execution_count": 63
        }
      ]
    },
    {
      "cell_type": "code",
      "source": [
        "mc_1.age"
      ],
      "metadata": {
        "colab": {
          "base_uri": "https://localhost:8080/",
          "height": 35
        },
        "id": "LSwVDKMn8X99",
        "outputId": "679c4d80-0e85-48cb-cb27-d5b4027ec145"
      },
      "execution_count": null,
      "outputs": [
        {
          "output_type": "execute_result",
          "data": {
            "text/plain": [
              "'아무살'"
            ],
            "application/vnd.google.colaboratory.intrinsic+json": {
              "type": "string"
            }
          },
          "metadata": {},
          "execution_count": 65
        }
      ]
    },
    {
      "cell_type": "code",
      "source": [
        "mc_2.name"
      ],
      "metadata": {
        "colab": {
          "base_uri": "https://localhost:8080/",
          "height": 35
        },
        "id": "wDB_O8Rl8abG",
        "outputId": "9b985312-fbbc-4a12-9bb4-949d7ab57cc7"
      },
      "execution_count": null,
      "outputs": [
        {
          "output_type": "execute_result",
          "data": {
            "text/plain": [
              "'홍길동'"
            ],
            "application/vnd.google.colaboratory.intrinsic+json": {
              "type": "string"
            }
          },
          "metadata": {},
          "execution_count": 66
        }
      ]
    },
    {
      "cell_type": "code",
      "source": [
        "class MyClass:\n",
        "  def __init__(self):\n",
        "    self.age = 21\n",
        "    self.name = 'Guido'\n",
        "\n",
        "mc_2 = MyClass()\n",
        "mc_2.age"
      ],
      "metadata": {
        "colab": {
          "base_uri": "https://localhost:8080/"
        },
        "id": "eYvYlLv08mh8",
        "outputId": "8183d6a1-5519-40e7-bf9c-a741cf49c866"
      },
      "execution_count": null,
      "outputs": [
        {
          "output_type": "execute_result",
          "data": {
            "text/plain": [
              "21"
            ]
          },
          "metadata": {},
          "execution_count": 67
        }
      ]
    },
    {
      "cell_type": "code",
      "source": [
        "mc_2.name"
      ],
      "metadata": {
        "colab": {
          "base_uri": "https://localhost:8080/",
          "height": 35
        },
        "id": "YNhv_bak8wsT",
        "outputId": "1fbf4014-c3c9-4660-d1e3-e50740c17332"
      },
      "execution_count": null,
      "outputs": [
        {
          "output_type": "execute_result",
          "data": {
            "text/plain": [
              "'Guido'"
            ],
            "application/vnd.google.colaboratory.intrinsic+json": {
              "type": "string"
            }
          },
          "metadata": {},
          "execution_count": 68
        }
      ]
    },
    {
      "cell_type": "markdown",
      "source": [
        "클래스 B는 클래스 A를 상속받음\n",
        "\n",
        "그래서 클래스 A의 함수 f()를 사용 할 수 있음"
      ],
      "metadata": {
        "id": "-mqdc3aO-kR6"
      }
    },
    {
      "cell_type": "code",
      "source": [
        "class A:\n",
        "  def f(self):\n",
        "    print('base')\n",
        "class B(A):\n",
        "  pass\n",
        "  "
      ],
      "metadata": {
        "id": "Q8sasJZv-CXh"
      },
      "execution_count": null,
      "outputs": []
    },
    {
      "cell_type": "code",
      "source": [
        "b= B()\n",
        "b.f()"
      ],
      "metadata": {
        "colab": {
          "base_uri": "https://localhost:8080/"
        },
        "id": "istEe8My-Mj3",
        "outputId": "fb4b000e-1b0a-4723-8d16-684c1c129e7c"
      },
      "execution_count": null,
      "outputs": [
        {
          "output_type": "stream",
          "name": "stdout",
          "text": [
            "base\n"
          ]
        }
      ]
    },
    {
      "cell_type": "code",
      "source": [
        "dir(b)"
      ],
      "metadata": {
        "id": "q6w8uFEJ-zX1"
      },
      "execution_count": null,
      "outputs": []
    },
    {
      "cell_type": "code",
      "source": [
        "class A:\n",
        "  def __init__(self,name,age):\n",
        "    print('클래스에 맞게 인스턴스를 만들어주셨습니디')\n",
        "  def f(self):\n",
        "    print('base')\n",
        "class B(A):\n",
        "  def __init__(self, tel):\n",
        "    self.tel = tel\n",
        "    print(self.tel)\n",
        "  pass"
      ],
      "metadata": {
        "id": "UkrqXmvm-8np"
      },
      "execution_count": null,
      "outputs": []
    },
    {
      "cell_type": "code",
      "source": [
        "c = B('홍길동','12')"
      ],
      "metadata": {
        "colab": {
          "base_uri": "https://localhost:8080/"
        },
        "id": "_lPw4mE0_FGu",
        "outputId": "0b7568ea-f650-4fa1-cae5-dfd974a8b576"
      },
      "execution_count": null,
      "outputs": [
        {
          "output_type": "stream",
          "name": "stdout",
          "text": [
            "클래스에 맞게 인스턴스를 만들어주셨습니디\n"
          ]
        }
      ]
    },
    {
      "cell_type": "code",
      "source": [
        "d = B('01000001111')"
      ],
      "metadata": {
        "colab": {
          "base_uri": "https://localhost:8080/"
        },
        "id": "M7aQF8AH_gpF",
        "outputId": "5d17890a-4706-4d70-a802-6af3a7413644"
      },
      "execution_count": null,
      "outputs": [
        {
          "output_type": "stream",
          "name": "stdout",
          "text": [
            "01000001111\n"
          ]
        }
      ]
    },
    {
      "cell_type": "code",
      "source": [
        "class MyClass:\n",
        "  def set(self,v):\n",
        "    self.value = v\n",
        "  def get(self):\n",
        "    return self.value\n",
        "  def temp(self):\n",
        "    self.value2 = self.get()  #클래스 내부에서 매서드 호출\n",
        "    #self.value3 = get()"
      ],
      "metadata": {
        "id": "dAycOaBdAJGP"
      },
      "execution_count": null,
      "outputs": []
    },
    {
      "cell_type": "code",
      "source": [
        "e = MyClass() #인스턴스 생성"
      ],
      "metadata": {
        "id": "J0F4VamtAeHL"
      },
      "execution_count": null,
      "outputs": []
    },
    {
      "cell_type": "code",
      "source": [
        "dir(e)"
      ],
      "metadata": {
        "id": "K_wFRwZYAsm8"
      },
      "execution_count": null,
      "outputs": []
    },
    {
      "cell_type": "code",
      "source": [
        "e.set('egg') #set생성엔 값만 넣기   #Bound Method Call"
      ],
      "metadata": {
        "id": "APWe8jXIAshN"
      },
      "execution_count": null,
      "outputs": []
    },
    {
      "cell_type": "code",
      "source": [
        "MyClass.set(e, 'dgg') #Unbound Method Call"
      ],
      "metadata": {
        "id": "doGPrg53BK8v"
      },
      "execution_count": null,
      "outputs": []
    },
    {
      "cell_type": "code",
      "source": [
        "e.get()"
      ],
      "metadata": {
        "colab": {
          "base_uri": "https://localhost:8080/",
          "height": 35
        },
        "id": "28fR8ypTBVu-",
        "outputId": "90626361-8e34-416d-fc9b-f085b7d0b086"
      },
      "execution_count": null,
      "outputs": [
        {
          "output_type": "execute_result",
          "data": {
            "text/plain": [
              "'dgg'"
            ],
            "application/vnd.google.colaboratory.intrinsic+json": {
              "type": "string"
            }
          },
          "metadata": {},
          "execution_count": 107
        }
      ]
    },
    {
      "cell_type": "markdown",
      "source": [
        "멤버 메소드 호출 종류\n",
        "\n",
        "  Unbound method call : 클래스 객체를 이용한 메소드 호출\n",
        "\n",
        "  Bound  method call : 인스턴스 객체를 통한 메소드 호출(self인자는 호출받은 객체가 자동으로 할당)"
      ],
      "metadata": {
        "id": "TDlVXZ3yB66F"
      }
    },
    {
      "cell_type": "code",
      "source": [
        "e.set"
      ],
      "metadata": {
        "colab": {
          "base_uri": "https://localhost:8080/"
        },
        "id": "Yly1srhtCNPP",
        "outputId": "4b5133af-1e16-4043-d024-b53a44803a66"
      },
      "execution_count": null,
      "outputs": [
        {
          "output_type": "execute_result",
          "data": {
            "text/plain": [
              "<bound method MyClass.set of <__main__.MyClass object at 0x7f3659609810>>"
            ]
          },
          "metadata": {},
          "execution_count": 109
        }
      ]
    },
    {
      "cell_type": "code",
      "source": [
        "MyClass.set"
      ],
      "metadata": {
        "colab": {
          "base_uri": "https://localhost:8080/"
        },
        "id": "D1uDjEPoCwvt",
        "outputId": "ba2a8694-d2c0-435b-dffb-e34248b91ad9"
      },
      "execution_count": null,
      "outputs": [
        {
          "output_type": "execute_result",
          "data": {
            "text/plain": [
              "<function __main__.MyClass.set>"
            ]
          },
          "metadata": {},
          "execution_count": 110
        }
      ]
    },
    {
      "cell_type": "code",
      "source": [
        "class MyClass3:\n",
        "  def __init__(self, a):  #a가 있기에 아무값을 넣어주어야함\n",
        "    self.value = 100\n",
        "  def set(self, v):\n",
        "    self.value = v\n",
        "  def get(self):\n",
        "    return self.value"
      ],
      "metadata": {
        "id": "TWc5t-scCyZR"
      },
      "execution_count": null,
      "outputs": []
    },
    {
      "cell_type": "code",
      "source": [
        "instance_c = MyClass3(1)"
      ],
      "metadata": {
        "id": "lfPNerXBF0t5"
      },
      "execution_count": null,
      "outputs": []
    },
    {
      "cell_type": "code",
      "source": [
        "instance_c.get()"
      ],
      "metadata": {
        "colab": {
          "base_uri": "https://localhost:8080/"
        },
        "id": "2ekqPKXeGUhG",
        "outputId": "ffa58b4e-46c4-425a-948e-3fc1cd089717"
      },
      "execution_count": null,
      "outputs": [
        {
          "output_type": "execute_result",
          "data": {
            "text/plain": [
              "100"
            ]
          },
          "metadata": {},
          "execution_count": 136
        }
      ]
    },
    {
      "cell_type": "code",
      "source": [
        "instance_c.set(20)"
      ],
      "metadata": {
        "id": "ED1VfiqsGeQg"
      },
      "execution_count": null,
      "outputs": []
    },
    {
      "cell_type": "code",
      "source": [
        "instance_c.get()"
      ],
      "metadata": {
        "colab": {
          "base_uri": "https://localhost:8080/"
        },
        "id": "1mfcT_vJGghj",
        "outputId": "1611ee98-4a14-4923-b2c3-c4b88742bc9a"
      },
      "execution_count": null,
      "outputs": [
        {
          "output_type": "execute_result",
          "data": {
            "text/plain": [
              "20"
            ]
          },
          "metadata": {},
          "execution_count": 140
        }
      ]
    },
    {
      "cell_type": "code",
      "source": [
        "class Var:\n",
        "  c_mem = 100 #클래스 멤버\n",
        "  def f(self):\n",
        "    self.i_mem = 200 #인스턴스 멤버\n",
        "  def g(self):\n",
        "    return self.i_mem, self.c_mem"
      ],
      "metadata": {
        "id": "HDSBecCtGtRP"
      },
      "execution_count": null,
      "outputs": []
    },
    {
      "cell_type": "code",
      "source": [
        "k = Var()"
      ],
      "metadata": {
        "id": "mNdlGR3oG5dq"
      },
      "execution_count": null,
      "outputs": []
    },
    {
      "cell_type": "code",
      "source": [
        "k.i_mem"
      ],
      "metadata": {
        "colab": {
          "base_uri": "https://localhost:8080/",
          "height": 174
        },
        "id": "3WZcpk30HDbd",
        "outputId": "acaadeff-9ab3-4d0b-b9cf-f9757e0480ad"
      },
      "execution_count": null,
      "outputs": [
        {
          "output_type": "error",
          "ename": "AttributeError",
          "evalue": "ignored",
          "traceback": [
            "\u001b[0;31m---------------------------------------------------------------------------\u001b[0m",
            "\u001b[0;31mAttributeError\u001b[0m                            Traceback (most recent call last)",
            "\u001b[0;32m<ipython-input-174-57bd2288dc89>\u001b[0m in \u001b[0;36m<module>\u001b[0;34m()\u001b[0m\n\u001b[0;32m----> 1\u001b[0;31m \u001b[0mk\u001b[0m\u001b[0;34m.\u001b[0m\u001b[0mi_mem\u001b[0m\u001b[0;34m\u001b[0m\u001b[0;34m\u001b[0m\u001b[0m\n\u001b[0m",
            "\u001b[0;31mAttributeError\u001b[0m: 'Var' object has no attribute 'i_mem'"
          ]
        }
      ]
    },
    {
      "cell_type": "code",
      "source": [
        "k.f()"
      ],
      "metadata": {
        "id": "IlW1z_fbHYSE"
      },
      "execution_count": null,
      "outputs": []
    },
    {
      "cell_type": "code",
      "source": [
        "k.i_mem"
      ],
      "metadata": {
        "colab": {
          "base_uri": "https://localhost:8080/"
        },
        "id": "ooJeYDwDH_jH",
        "outputId": "717b9823-a233-434b-ad5c-7c831b02cba6"
      },
      "execution_count": null,
      "outputs": [
        {
          "output_type": "execute_result",
          "data": {
            "text/plain": [
              "200"
            ]
          },
          "metadata": {},
          "execution_count": 153
        }
      ]
    },
    {
      "cell_type": "code",
      "source": [
        "k.c_mem"
      ],
      "metadata": {
        "colab": {
          "base_uri": "https://localhost:8080/"
        },
        "id": "ldT333xFHqSr",
        "outputId": "411c47a5-f669-47a0-b8ac-c00818ef89ff"
      },
      "execution_count": null,
      "outputs": [
        {
          "output_type": "execute_result",
          "data": {
            "text/plain": [
              "100"
            ]
          },
          "metadata": {},
          "execution_count": 151
        }
      ]
    },
    {
      "cell_type": "code",
      "source": [
        "k.g"
      ],
      "metadata": {
        "id": "hP_tImIiH6yr"
      },
      "execution_count": null,
      "outputs": []
    },
    {
      "cell_type": "code",
      "source": [
        "k2 = Var()"
      ],
      "metadata": {
        "id": "srqJLbZPICkY"
      },
      "execution_count": null,
      "outputs": []
    },
    {
      "cell_type": "code",
      "source": [
        "k2.c_mem"
      ],
      "metadata": {
        "colab": {
          "base_uri": "https://localhost:8080/"
        },
        "id": "xMLwUh3RIGNh",
        "outputId": "b3530a75-24d1-4a72-db5c-80c6cce07167"
      },
      "execution_count": null,
      "outputs": [
        {
          "output_type": "execute_result",
          "data": {
            "text/plain": [
              "100"
            ]
          },
          "metadata": {},
          "execution_count": 156
        }
      ]
    },
    {
      "cell_type": "code",
      "source": [
        "Var.c_mem"
      ],
      "metadata": {
        "colab": {
          "base_uri": "https://localhost:8080/"
        },
        "id": "tK_Cgg5IILpi",
        "outputId": "e2753562-a782-4cf6-b4cc-a27c4651d50e"
      },
      "execution_count": null,
      "outputs": [
        {
          "output_type": "execute_result",
          "data": {
            "text/plain": [
              "100"
            ]
          },
          "metadata": {},
          "execution_count": 158
        }
      ]
    },
    {
      "cell_type": "code",
      "source": [
        "k.c_mem"
      ],
      "metadata": {
        "colab": {
          "base_uri": "https://localhost:8080/"
        },
        "id": "1AoPsaLUIM4v",
        "outputId": "0f53b467-5a1c-4dd5-9c46-18e1be5ff1f5"
      },
      "execution_count": null,
      "outputs": [
        {
          "output_type": "execute_result",
          "data": {
            "text/plain": [
              "100"
            ]
          },
          "metadata": {},
          "execution_count": 159
        }
      ]
    },
    {
      "cell_type": "code",
      "source": [
        "Var.c_mem=50"
      ],
      "metadata": {
        "id": "H1htLXZHIOmu"
      },
      "execution_count": null,
      "outputs": []
    },
    {
      "cell_type": "code",
      "source": [
        "k.c_mem"
      ],
      "metadata": {
        "colab": {
          "base_uri": "https://localhost:8080/"
        },
        "id": "ymT4UkRpI4XL",
        "outputId": "4c1a30c1-5160-4f74-ff77-e0ebe15e9503"
      },
      "execution_count": null,
      "outputs": [
        {
          "output_type": "execute_result",
          "data": {
            "text/plain": [
              "50"
            ]
          },
          "metadata": {},
          "execution_count": 164
        }
      ]
    },
    {
      "cell_type": "code",
      "source": [
        "k2.c_mem"
      ],
      "metadata": {
        "colab": {
          "base_uri": "https://localhost:8080/"
        },
        "id": "epbMgnldI7FY",
        "outputId": "4b15f08e-43cb-4f51-de93-f42e211f2712"
      },
      "execution_count": null,
      "outputs": [
        {
          "output_type": "execute_result",
          "data": {
            "text/plain": [
              "50"
            ]
          },
          "metadata": {},
          "execution_count": 165
        }
      ]
    },
    {
      "cell_type": "code",
      "source": [
        "k.c_mem, k2.c_mem, Var.c_mem"
      ],
      "metadata": {
        "colab": {
          "base_uri": "https://localhost:8080/"
        },
        "id": "-oq5ewXKIQj3",
        "outputId": "70e62b5e-6868-47d3-d08c-266586e10cba"
      },
      "execution_count": null,
      "outputs": [
        {
          "output_type": "execute_result",
          "data": {
            "text/plain": [
              "(50, 50, 50)"
            ]
          },
          "metadata": {},
          "execution_count": 161
        }
      ]
    },
    {
      "cell_type": "code",
      "source": [
        "dir(k2)"
      ],
      "metadata": {
        "colab": {
          "base_uri": "https://localhost:8080/"
        },
        "id": "ia5e_H3EJBmz",
        "outputId": "421e9660-3182-4a69-d98d-b421511e491c"
      },
      "execution_count": null,
      "outputs": [
        {
          "output_type": "execute_result",
          "data": {
            "text/plain": [
              "['__class__',\n",
              " '__delattr__',\n",
              " '__dict__',\n",
              " '__dir__',\n",
              " '__doc__',\n",
              " '__eq__',\n",
              " '__format__',\n",
              " '__ge__',\n",
              " '__getattribute__',\n",
              " '__gt__',\n",
              " '__hash__',\n",
              " '__init__',\n",
              " '__init_subclass__',\n",
              " '__le__',\n",
              " '__lt__',\n",
              " '__module__',\n",
              " '__ne__',\n",
              " '__new__',\n",
              " '__reduce__',\n",
              " '__reduce_ex__',\n",
              " '__repr__',\n",
              " '__setattr__',\n",
              " '__sizeof__',\n",
              " '__str__',\n",
              " '__subclasshook__',\n",
              " '__weakref__',\n",
              " 'c_mem',\n",
              " 'f',\n",
              " 'g']"
            ]
          },
          "metadata": {},
          "execution_count": 167
        }
      ]
    },
    {
      "cell_type": "markdown",
      "source": [
        "m1인스턴스"
      ],
      "metadata": {
        "id": "2o8PdZB4JZpk"
      }
    },
    {
      "cell_type": "code",
      "source": [
        "class Member:\n",
        "  def __init__(self, name, nick, birthday):  #생성자에 파라미터를 설정해 호출시 인수 전달을 해야한다.\n",
        "    self.name = name\n",
        "    self.nick = nick\n",
        "    self.birthday = birthday\n",
        "  def getName(self):\n",
        "    print(\"Member클래스의 인스턴스에서 getName 메서드를 호출하였습니다.\")\n",
        "    return self.name\n",
        "  def getNick(self):\n",
        "    return self.nick\n",
        "  def getBirthday(self):\n",
        "    return self.birthday"
      ],
      "metadata": {
        "id": "otIuiKjSJYp5"
      },
      "execution_count": null,
      "outputs": []
    },
    {
      "cell_type": "code",
      "source": [
        "m1 = Member('이열','해안선','1961')"
      ],
      "metadata": {
        "id": "W72TOpZEJ8tP"
      },
      "execution_count": null,
      "outputs": []
    },
    {
      "cell_type": "code",
      "source": [
        "m1"
      ],
      "metadata": {
        "colab": {
          "base_uri": "https://localhost:8080/"
        },
        "id": "QpR5S-a6Kr4h",
        "outputId": "934261cc-41bd-4ae3-97e4-6b50751f19f2"
      },
      "execution_count": null,
      "outputs": [
        {
          "output_type": "execute_result",
          "data": {
            "text/plain": [
              "<__main__.Member at 0x7f365954ce50>"
            ]
          },
          "metadata": {},
          "execution_count": 183
        }
      ]
    },
    {
      "cell_type": "code",
      "source": [
        "type(m1)"
      ],
      "metadata": {
        "colab": {
          "base_uri": "https://localhost:8080/"
        },
        "id": "d-GkX2yYKtfb",
        "outputId": "117ae2f0-0a0e-49cc-e1ec-a3e3cb8c144d"
      },
      "execution_count": null,
      "outputs": [
        {
          "output_type": "execute_result",
          "data": {
            "text/plain": [
              "__main__.Member"
            ]
          },
          "metadata": {},
          "execution_count": 184
        }
      ]
    },
    {
      "cell_type": "code",
      "source": [
        "m1.getBirthday()"
      ],
      "metadata": {
        "colab": {
          "base_uri": "https://localhost:8080/",
          "height": 35
        },
        "id": "EGmaeAezKvXc",
        "outputId": "627392ae-fde8-46b1-a3b9-ce0910d4bf68"
      },
      "execution_count": null,
      "outputs": [
        {
          "output_type": "execute_result",
          "data": {
            "text/plain": [
              "'1961'"
            ],
            "application/vnd.google.colaboratory.intrinsic+json": {
              "type": "string"
            }
          },
          "metadata": {},
          "execution_count": 185
        }
      ]
    },
    {
      "cell_type": "code",
      "source": [
        "m1.getNick()"
      ],
      "metadata": {
        "colab": {
          "base_uri": "https://localhost:8080/",
          "height": 35
        },
        "id": "xM0vll_yK1QU",
        "outputId": "4da31cbc-6b2d-47ae-e3db-eb8ea321b4e2"
      },
      "execution_count": null,
      "outputs": [
        {
          "output_type": "execute_result",
          "data": {
            "text/plain": [
              "'해안선'"
            ],
            "application/vnd.google.colaboratory.intrinsic+json": {
              "type": "string"
            }
          },
          "metadata": {},
          "execution_count": 187
        }
      ]
    },
    {
      "cell_type": "code",
      "source": [
        "m1.getName()"
      ],
      "metadata": {
        "colab": {
          "base_uri": "https://localhost:8080/",
          "height": 54
        },
        "id": "X8i1ALjTK45M",
        "outputId": "e7e3d092-76d6-4a28-a816-ee22ab97a67d"
      },
      "execution_count": null,
      "outputs": [
        {
          "output_type": "stream",
          "name": "stdout",
          "text": [
            "Member클래스의 인스턴스에서 getName 메서드를 호출하였습니다.\n"
          ]
        },
        {
          "output_type": "execute_result",
          "data": {
            "text/plain": [
              "'이열'"
            ],
            "application/vnd.google.colaboratory.intrinsic+json": {
              "type": "string"
            }
          },
          "metadata": {},
          "execution_count": 188
        }
      ]
    }
  ]
}