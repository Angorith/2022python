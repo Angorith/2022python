{
  "nbformat": 4,
  "nbformat_minor": 0,
  "metadata": {
    "colab": {
      "name": "0512 5일차 파이썬 기초 5 (pandas[주식 차트], 유닉스(파일 다루는법)).ipynb",
      "provenance": [],
      "collapsed_sections": [],
      "authorship_tag": "ABX9TyNdX+3WZuQ9VVd2Gl+XVP1G",
      "include_colab_link": true
    },
    "kernelspec": {
      "name": "python3",
      "display_name": "Python 3"
    },
    "language_info": {
      "name": "python"
    }
  },
  "cells": [
    {
      "cell_type": "markdown",
      "metadata": {
        "id": "view-in-github",
        "colab_type": "text"
      },
      "source": [
        "<a href=\"https://colab.research.google.com/github/Angorith/acorn_python/blob/main/0512_5%EC%9D%BC%EC%B0%A8_%ED%8C%8C%EC%9D%B4%EC%8D%AC_%EA%B8%B0%EC%B4%88_5_(pandas%5B%EC%A3%BC%EC%8B%9D_%EC%B0%A8%ED%8A%B8%5D%2C_%EC%9C%A0%EB%8B%89%EC%8A%A4(%ED%8C%8C%EC%9D%BC_%EB%8B%A4%EB%A3%A8%EB%8A%94%EB%B2%95)).ipynb\" target=\"_parent\"><img src=\"https://colab.research.google.com/assets/colab-badge.svg\" alt=\"Open In Colab\"/></a>"
      ]
    },
    {
      "cell_type": "code",
      "source": [
        "c_tuple = (1,)"
      ],
      "metadata": {
        "id": "MSxRpCWxsmXr"
      },
      "execution_count": null,
      "outputs": []
    },
    {
      "cell_type": "code",
      "source": [
        "type(c_tuple)"
      ],
      "metadata": {
        "colab": {
          "base_uri": "https://localhost:8080/"
        },
        "id": "SUw2ss45soWf",
        "outputId": "983ed02b-c9c6-44de-9b1b-60d01619925c"
      },
      "execution_count": null,
      "outputs": [
        {
          "output_type": "execute_result",
          "data": {
            "text/plain": [
              "tuple"
            ]
          },
          "metadata": {},
          "execution_count": 3
        }
      ]
    },
    {
      "cell_type": "code",
      "source": [
        "pack = 1,2,3,4,5"
      ],
      "metadata": {
        "id": "H-AW8uxzsqXn"
      },
      "execution_count": null,
      "outputs": []
    },
    {
      "cell_type": "code",
      "source": [
        "x, *y, z =pack"
      ],
      "metadata": {
        "id": "VxbCWrHQs00-"
      },
      "execution_count": null,
      "outputs": []
    },
    {
      "cell_type": "code",
      "source": [
        "x,y,z"
      ],
      "metadata": {
        "colab": {
          "base_uri": "https://localhost:8080/"
        },
        "id": "ssHu9fAqs2zF",
        "outputId": "c6d5e979-984d-4ba3-e89c-599ee049db79"
      },
      "execution_count": null,
      "outputs": [
        {
          "output_type": "execute_result",
          "data": {
            "text/plain": [
              "(1, [2, 3, 4], 5)"
            ]
          },
          "metadata": {},
          "execution_count": 6
        }
      ]
    },
    {
      "cell_type": "code",
      "source": [
        "pack"
      ],
      "metadata": {
        "colab": {
          "base_uri": "https://localhost:8080/"
        },
        "id": "9IKdHj5Bs7Gr",
        "outputId": "1a567226-a14b-4cef-ace7-88f4fe9cc4a3"
      },
      "execution_count": null,
      "outputs": [
        {
          "output_type": "execute_result",
          "data": {
            "text/plain": [
              "(1, 2, 3, 4, 5)"
            ]
          },
          "metadata": {},
          "execution_count": 7
        }
      ]
    },
    {
      "cell_type": "code",
      "source": [
        "d_set = set(pack)"
      ],
      "metadata": {
        "id": "-TtVFM29s8k0"
      },
      "execution_count": null,
      "outputs": []
    },
    {
      "cell_type": "code",
      "source": [
        "d_set"
      ],
      "metadata": {
        "colab": {
          "base_uri": "https://localhost:8080/"
        },
        "id": "lGamIEHds-z2",
        "outputId": "7d4a7dc0-00be-4ffe-9647-e5a482757e00"
      },
      "execution_count": null,
      "outputs": [
        {
          "output_type": "execute_result",
          "data": {
            "text/plain": [
              "{1, 2, 3, 4, 5}"
            ]
          },
          "metadata": {},
          "execution_count": 9
        }
      ]
    },
    {
      "cell_type": "code",
      "source": [
        "e_dict = {1:10,2:'two'}"
      ],
      "metadata": {
        "id": "KEnQUZZ9tFDB"
      },
      "execution_count": null,
      "outputs": []
    },
    {
      "cell_type": "code",
      "source": [
        "e_dict[1]"
      ],
      "metadata": {
        "colab": {
          "base_uri": "https://localhost:8080/"
        },
        "id": "fXX_MH0ntJQp",
        "outputId": "d4416964-a3c2-4e00-b1dc-d4e92c7703f5"
      },
      "execution_count": null,
      "outputs": [
        {
          "output_type": "execute_result",
          "data": {
            "text/plain": [
              "10"
            ]
          },
          "metadata": {},
          "execution_count": 11
        }
      ]
    },
    {
      "cell_type": "code",
      "source": [
        "e_dict[3]='three'"
      ],
      "metadata": {
        "id": "g2jq0v5GtMMY"
      },
      "execution_count": null,
      "outputs": []
    },
    {
      "cell_type": "code",
      "source": [
        "for i in e_dict.keys():\n",
        "  print(i)  #key만 보여줌"
      ],
      "metadata": {
        "colab": {
          "base_uri": "https://localhost:8080/"
        },
        "id": "jDt0nwjctPel",
        "outputId": "0fb497fd-7366-442a-a66c-34cf7a8e600b"
      },
      "execution_count": null,
      "outputs": [
        {
          "output_type": "stream",
          "name": "stdout",
          "text": [
            "1\n",
            "2\n",
            "3\n"
          ]
        }
      ]
    },
    {
      "cell_type": "code",
      "source": [
        "for i in e_dict.values():\n",
        "  print(i)"
      ],
      "metadata": {
        "colab": {
          "base_uri": "https://localhost:8080/"
        },
        "id": "i3JdKK7HtbD3",
        "outputId": "8850afe4-76f3-4bb8-a998-b9359037a356"
      },
      "execution_count": null,
      "outputs": [
        {
          "output_type": "stream",
          "name": "stdout",
          "text": [
            "10\n",
            "two\n",
            "three\n"
          ]
        }
      ]
    },
    {
      "cell_type": "code",
      "source": [
        "for i in e_dict.items():\n",
        "  print(i)"
      ],
      "metadata": {
        "colab": {
          "base_uri": "https://localhost:8080/"
        },
        "id": "ka_pEkv6thGb",
        "outputId": "e4cc41f5-e1fd-4ae2-e3f3-97ab0adcfd59"
      },
      "execution_count": null,
      "outputs": [
        {
          "output_type": "stream",
          "name": "stdout",
          "text": [
            "(1, 10)\n",
            "(2, 'two')\n",
            "(3, 'three')\n"
          ]
        }
      ]
    },
    {
      "cell_type": "code",
      "source": [
        "pip install --upgrade pandas"
      ],
      "metadata": {
        "colab": {
          "base_uri": "https://localhost:8080/"
        },
        "id": "M0ffN801uGSK",
        "outputId": "e33e2d19-3e4f-4281-8daf-d01784867fd4"
      },
      "execution_count": null,
      "outputs": [
        {
          "output_type": "stream",
          "name": "stdout",
          "text": [
            "Requirement already satisfied: pandas in /usr/local/lib/python3.7/dist-packages (1.3.5)\n",
            "Requirement already satisfied: numpy>=1.17.3 in /usr/local/lib/python3.7/dist-packages (from pandas) (1.21.6)\n",
            "Requirement already satisfied: python-dateutil>=2.7.3 in /usr/local/lib/python3.7/dist-packages (from pandas) (2.8.2)\n",
            "Requirement already satisfied: pytz>=2017.3 in /usr/local/lib/python3.7/dist-packages (from pandas) (2022.1)\n",
            "Requirement already satisfied: six>=1.5 in /usr/local/lib/python3.7/dist-packages (from python-dateutil>=2.7.3->pandas) (1.15.0)\n"
          ]
        }
      ]
    },
    {
      "cell_type": "code",
      "source": [
        "pip install --upgrade pandas-datareader"
      ],
      "metadata": {
        "colab": {
          "base_uri": "https://localhost:8080/"
        },
        "id": "ZW33zIWhuORO",
        "outputId": "88239234-a0dd-45ce-fc83-d9b0d731c4a4"
      },
      "execution_count": null,
      "outputs": [
        {
          "output_type": "stream",
          "name": "stdout",
          "text": [
            "Requirement already satisfied: pandas-datareader in /usr/local/lib/python3.7/dist-packages (0.9.0)\n",
            "Collecting pandas-datareader\n",
            "  Downloading pandas_datareader-0.10.0-py3-none-any.whl (109 kB)\n",
            "\u001b[K     |████████████████████████████████| 109 kB 7.6 MB/s \n",
            "\u001b[?25hRequirement already satisfied: pandas>=0.23 in /usr/local/lib/python3.7/dist-packages (from pandas-datareader) (1.3.5)\n",
            "Requirement already satisfied: requests>=2.19.0 in /usr/local/lib/python3.7/dist-packages (from pandas-datareader) (2.23.0)\n",
            "Requirement already satisfied: lxml in /usr/local/lib/python3.7/dist-packages (from pandas-datareader) (4.2.6)\n",
            "Requirement already satisfied: pytz>=2017.3 in /usr/local/lib/python3.7/dist-packages (from pandas>=0.23->pandas-datareader) (2022.1)\n",
            "Requirement already satisfied: numpy>=1.17.3 in /usr/local/lib/python3.7/dist-packages (from pandas>=0.23->pandas-datareader) (1.21.6)\n",
            "Requirement already satisfied: python-dateutil>=2.7.3 in /usr/local/lib/python3.7/dist-packages (from pandas>=0.23->pandas-datareader) (2.8.2)\n",
            "Requirement already satisfied: six>=1.5 in /usr/local/lib/python3.7/dist-packages (from python-dateutil>=2.7.3->pandas>=0.23->pandas-datareader) (1.15.0)\n",
            "Requirement already satisfied: certifi>=2017.4.17 in /usr/local/lib/python3.7/dist-packages (from requests>=2.19.0->pandas-datareader) (2021.10.8)\n",
            "Requirement already satisfied: idna<3,>=2.5 in /usr/local/lib/python3.7/dist-packages (from requests>=2.19.0->pandas-datareader) (2.10)\n",
            "Requirement already satisfied: urllib3!=1.25.0,!=1.25.1,<1.26,>=1.21.1 in /usr/local/lib/python3.7/dist-packages (from requests>=2.19.0->pandas-datareader) (1.24.3)\n",
            "Requirement already satisfied: chardet<4,>=3.0.2 in /usr/local/lib/python3.7/dist-packages (from requests>=2.19.0->pandas-datareader) (3.0.4)\n",
            "Installing collected packages: pandas-datareader\n",
            "  Attempting uninstall: pandas-datareader\n",
            "    Found existing installation: pandas-datareader 0.9.0\n",
            "    Uninstalling pandas-datareader-0.9.0:\n",
            "      Successfully uninstalled pandas-datareader-0.9.0\n",
            "Successfully installed pandas-datareader-0.10.0\n"
          ]
        }
      ]
    },
    {
      "cell_type": "code",
      "source": [
        "import pandas_datareader.data as web"
      ],
      "metadata": {
        "id": "JEFX0Wl6uZcI"
      },
      "execution_count": null,
      "outputs": []
    },
    {
      "cell_type": "code",
      "source": [
        "data = {ticker:web.get_data_yahoo(ticker) for ticker in ['AAPL','IBM','MSFT','GOOG']}"
      ],
      "metadata": {
        "id": "ep9gGQy-u2Ha"
      },
      "execution_count": null,
      "outputs": []
    },
    {
      "cell_type": "code",
      "source": [
        "data['GOOG']"
      ],
      "metadata": {
        "colab": {
          "base_uri": "https://localhost:8080/",
          "height": 455
        },
        "id": "OQ3aDIDRv5Sz",
        "outputId": "96d1f3f1-71ed-42b3-e373-2be22ca1676e"
      },
      "execution_count": null,
      "outputs": [
        {
          "output_type": "execute_result",
          "data": {
            "text/plain": [
              "                   High          Low         Open        Close   Volume  \\\n",
              "Date                                                                      \n",
              "2017-05-15   938.250000   929.340027   932.950012   937.080017  1108100   \n",
              "2017-05-16   943.109985   937.580017   940.000000   943.000000   969500   \n",
              "2017-05-17   939.333008   918.140015   935.669983   919.619995  2362100   \n",
              "2017-05-18   933.169983   918.750000   921.000000   930.239990  1596900   \n",
              "2017-05-19   937.755005   931.000000   931.469971   934.010010  1393000   \n",
              "...                 ...          ...          ...          ...      ...   \n",
              "2022-05-05  2424.665039  2303.649902  2404.409912  2334.929932  2154500   \n",
              "2022-05-06  2349.969971  2282.860107  2310.379883  2313.199951  1764000   \n",
              "2022-05-09  2311.258057  2251.030029  2266.070068  2261.679932  1726000   \n",
              "2022-05-10  2333.820068  2267.666016  2320.810059  2291.689941  1557900   \n",
              "2022-05-11  2333.219971  2273.000000  2274.209961  2279.219971  1825082   \n",
              "\n",
              "              Adj Close  \n",
              "Date                     \n",
              "2017-05-15   937.080017  \n",
              "2017-05-16   943.000000  \n",
              "2017-05-17   919.619995  \n",
              "2017-05-18   930.239990  \n",
              "2017-05-19   934.010010  \n",
              "...                 ...  \n",
              "2022-05-05  2334.929932  \n",
              "2022-05-06  2313.199951  \n",
              "2022-05-09  2261.679932  \n",
              "2022-05-10  2291.689941  \n",
              "2022-05-11  2279.219971  \n",
              "\n",
              "[1258 rows x 6 columns]"
            ],
            "text/html": [
              "\n",
              "  <div id=\"df-b92c36b4-dcef-4d56-8977-0176cb9c04c6\">\n",
              "    <div class=\"colab-df-container\">\n",
              "      <div>\n",
              "<style scoped>\n",
              "    .dataframe tbody tr th:only-of-type {\n",
              "        vertical-align: middle;\n",
              "    }\n",
              "\n",
              "    .dataframe tbody tr th {\n",
              "        vertical-align: top;\n",
              "    }\n",
              "\n",
              "    .dataframe thead th {\n",
              "        text-align: right;\n",
              "    }\n",
              "</style>\n",
              "<table border=\"1\" class=\"dataframe\">\n",
              "  <thead>\n",
              "    <tr style=\"text-align: right;\">\n",
              "      <th></th>\n",
              "      <th>High</th>\n",
              "      <th>Low</th>\n",
              "      <th>Open</th>\n",
              "      <th>Close</th>\n",
              "      <th>Volume</th>\n",
              "      <th>Adj Close</th>\n",
              "    </tr>\n",
              "    <tr>\n",
              "      <th>Date</th>\n",
              "      <th></th>\n",
              "      <th></th>\n",
              "      <th></th>\n",
              "      <th></th>\n",
              "      <th></th>\n",
              "      <th></th>\n",
              "    </tr>\n",
              "  </thead>\n",
              "  <tbody>\n",
              "    <tr>\n",
              "      <th>2017-05-15</th>\n",
              "      <td>938.250000</td>\n",
              "      <td>929.340027</td>\n",
              "      <td>932.950012</td>\n",
              "      <td>937.080017</td>\n",
              "      <td>1108100</td>\n",
              "      <td>937.080017</td>\n",
              "    </tr>\n",
              "    <tr>\n",
              "      <th>2017-05-16</th>\n",
              "      <td>943.109985</td>\n",
              "      <td>937.580017</td>\n",
              "      <td>940.000000</td>\n",
              "      <td>943.000000</td>\n",
              "      <td>969500</td>\n",
              "      <td>943.000000</td>\n",
              "    </tr>\n",
              "    <tr>\n",
              "      <th>2017-05-17</th>\n",
              "      <td>939.333008</td>\n",
              "      <td>918.140015</td>\n",
              "      <td>935.669983</td>\n",
              "      <td>919.619995</td>\n",
              "      <td>2362100</td>\n",
              "      <td>919.619995</td>\n",
              "    </tr>\n",
              "    <tr>\n",
              "      <th>2017-05-18</th>\n",
              "      <td>933.169983</td>\n",
              "      <td>918.750000</td>\n",
              "      <td>921.000000</td>\n",
              "      <td>930.239990</td>\n",
              "      <td>1596900</td>\n",
              "      <td>930.239990</td>\n",
              "    </tr>\n",
              "    <tr>\n",
              "      <th>2017-05-19</th>\n",
              "      <td>937.755005</td>\n",
              "      <td>931.000000</td>\n",
              "      <td>931.469971</td>\n",
              "      <td>934.010010</td>\n",
              "      <td>1393000</td>\n",
              "      <td>934.010010</td>\n",
              "    </tr>\n",
              "    <tr>\n",
              "      <th>...</th>\n",
              "      <td>...</td>\n",
              "      <td>...</td>\n",
              "      <td>...</td>\n",
              "      <td>...</td>\n",
              "      <td>...</td>\n",
              "      <td>...</td>\n",
              "    </tr>\n",
              "    <tr>\n",
              "      <th>2022-05-05</th>\n",
              "      <td>2424.665039</td>\n",
              "      <td>2303.649902</td>\n",
              "      <td>2404.409912</td>\n",
              "      <td>2334.929932</td>\n",
              "      <td>2154500</td>\n",
              "      <td>2334.929932</td>\n",
              "    </tr>\n",
              "    <tr>\n",
              "      <th>2022-05-06</th>\n",
              "      <td>2349.969971</td>\n",
              "      <td>2282.860107</td>\n",
              "      <td>2310.379883</td>\n",
              "      <td>2313.199951</td>\n",
              "      <td>1764000</td>\n",
              "      <td>2313.199951</td>\n",
              "    </tr>\n",
              "    <tr>\n",
              "      <th>2022-05-09</th>\n",
              "      <td>2311.258057</td>\n",
              "      <td>2251.030029</td>\n",
              "      <td>2266.070068</td>\n",
              "      <td>2261.679932</td>\n",
              "      <td>1726000</td>\n",
              "      <td>2261.679932</td>\n",
              "    </tr>\n",
              "    <tr>\n",
              "      <th>2022-05-10</th>\n",
              "      <td>2333.820068</td>\n",
              "      <td>2267.666016</td>\n",
              "      <td>2320.810059</td>\n",
              "      <td>2291.689941</td>\n",
              "      <td>1557900</td>\n",
              "      <td>2291.689941</td>\n",
              "    </tr>\n",
              "    <tr>\n",
              "      <th>2022-05-11</th>\n",
              "      <td>2333.219971</td>\n",
              "      <td>2273.000000</td>\n",
              "      <td>2274.209961</td>\n",
              "      <td>2279.219971</td>\n",
              "      <td>1825082</td>\n",
              "      <td>2279.219971</td>\n",
              "    </tr>\n",
              "  </tbody>\n",
              "</table>\n",
              "<p>1258 rows × 6 columns</p>\n",
              "</div>\n",
              "      <button class=\"colab-df-convert\" onclick=\"convertToInteractive('df-b92c36b4-dcef-4d56-8977-0176cb9c04c6')\"\n",
              "              title=\"Convert this dataframe to an interactive table.\"\n",
              "              style=\"display:none;\">\n",
              "        \n",
              "  <svg xmlns=\"http://www.w3.org/2000/svg\" height=\"24px\"viewBox=\"0 0 24 24\"\n",
              "       width=\"24px\">\n",
              "    <path d=\"M0 0h24v24H0V0z\" fill=\"none\"/>\n",
              "    <path d=\"M18.56 5.44l.94 2.06.94-2.06 2.06-.94-2.06-.94-.94-2.06-.94 2.06-2.06.94zm-11 1L8.5 8.5l.94-2.06 2.06-.94-2.06-.94L8.5 2.5l-.94 2.06-2.06.94zm10 10l.94 2.06.94-2.06 2.06-.94-2.06-.94-.94-2.06-.94 2.06-2.06.94z\"/><path d=\"M17.41 7.96l-1.37-1.37c-.4-.4-.92-.59-1.43-.59-.52 0-1.04.2-1.43.59L10.3 9.45l-7.72 7.72c-.78.78-.78 2.05 0 2.83L4 21.41c.39.39.9.59 1.41.59.51 0 1.02-.2 1.41-.59l7.78-7.78 2.81-2.81c.8-.78.8-2.07 0-2.86zM5.41 20L4 18.59l7.72-7.72 1.47 1.35L5.41 20z\"/>\n",
              "  </svg>\n",
              "      </button>\n",
              "      \n",
              "  <style>\n",
              "    .colab-df-container {\n",
              "      display:flex;\n",
              "      flex-wrap:wrap;\n",
              "      gap: 12px;\n",
              "    }\n",
              "\n",
              "    .colab-df-convert {\n",
              "      background-color: #E8F0FE;\n",
              "      border: none;\n",
              "      border-radius: 50%;\n",
              "      cursor: pointer;\n",
              "      display: none;\n",
              "      fill: #1967D2;\n",
              "      height: 32px;\n",
              "      padding: 0 0 0 0;\n",
              "      width: 32px;\n",
              "    }\n",
              "\n",
              "    .colab-df-convert:hover {\n",
              "      background-color: #E2EBFA;\n",
              "      box-shadow: 0px 1px 2px rgba(60, 64, 67, 0.3), 0px 1px 3px 1px rgba(60, 64, 67, 0.15);\n",
              "      fill: #174EA6;\n",
              "    }\n",
              "\n",
              "    [theme=dark] .colab-df-convert {\n",
              "      background-color: #3B4455;\n",
              "      fill: #D2E3FC;\n",
              "    }\n",
              "\n",
              "    [theme=dark] .colab-df-convert:hover {\n",
              "      background-color: #434B5C;\n",
              "      box-shadow: 0px 1px 3px 1px rgba(0, 0, 0, 0.15);\n",
              "      filter: drop-shadow(0px 1px 2px rgba(0, 0, 0, 0.3));\n",
              "      fill: #FFFFFF;\n",
              "    }\n",
              "  </style>\n",
              "\n",
              "      <script>\n",
              "        const buttonEl =\n",
              "          document.querySelector('#df-b92c36b4-dcef-4d56-8977-0176cb9c04c6 button.colab-df-convert');\n",
              "        buttonEl.style.display =\n",
              "          google.colab.kernel.accessAllowed ? 'block' : 'none';\n",
              "\n",
              "        async function convertToInteractive(key) {\n",
              "          const element = document.querySelector('#df-b92c36b4-dcef-4d56-8977-0176cb9c04c6');\n",
              "          const dataTable =\n",
              "            await google.colab.kernel.invokeFunction('convertToInteractive',\n",
              "                                                     [key], {});\n",
              "          if (!dataTable) return;\n",
              "\n",
              "          const docLinkHtml = 'Like what you see? Visit the ' +\n",
              "            '<a target=\"_blank\" href=https://colab.research.google.com/notebooks/data_table.ipynb>data table notebook</a>'\n",
              "            + ' to learn more about interactive tables.';\n",
              "          element.innerHTML = '';\n",
              "          dataTable['output_type'] = 'display_data';\n",
              "          await google.colab.output.renderOutput(dataTable, element);\n",
              "          const docLink = document.createElement('div');\n",
              "          docLink.innerHTML = docLinkHtml;\n",
              "          element.appendChild(docLink);\n",
              "        }\n",
              "      </script>\n",
              "    </div>\n",
              "  </div>\n",
              "  "
            ]
          },
          "metadata": {},
          "execution_count": 23
        }
      ]
    },
    {
      "cell_type": "code",
      "source": [
        "sample_data = {i:i*10 for i in [1,2,3,4] if i%2==0 }"
      ],
      "metadata": {
        "id": "ivw4ueUXz_d_"
      },
      "execution_count": null,
      "outputs": []
    },
    {
      "cell_type": "code",
      "source": [
        "sample_data"
      ],
      "metadata": {
        "colab": {
          "base_uri": "https://localhost:8080/"
        },
        "id": "_H38XnRL0JTJ",
        "outputId": "a4f7b43c-71a2-486d-9ac5-fe69ae2e61e5"
      },
      "execution_count": null,
      "outputs": [
        {
          "output_type": "execute_result",
          "data": {
            "text/plain": [
              "{2: 20, 4: 40}"
            ]
          },
          "metadata": {},
          "execution_count": 27
        }
      ]
    },
    {
      "cell_type": "code",
      "source": [
        "sample_data = {inum:item for inum, item in enumerate([10,20,30,40])}"
      ],
      "metadata": {
        "id": "8I54vB6G0WBG"
      },
      "execution_count": null,
      "outputs": []
    },
    {
      "cell_type": "code",
      "source": [
        "sample_data"
      ],
      "metadata": {
        "colab": {
          "base_uri": "https://localhost:8080/"
        },
        "id": "1YDJja2Z0e3c",
        "outputId": "d76d367a-19c9-4b5f-94da-e4f1fbee2f7c"
      },
      "execution_count": null,
      "outputs": [
        {
          "output_type": "execute_result",
          "data": {
            "text/plain": [
              "{0: 10, 1: 20, 2: 30, 3: 40}"
            ]
          },
          "metadata": {},
          "execution_count": 29
        }
      ]
    },
    {
      "cell_type": "code",
      "source": [
        "sample_data = {i:'회사이름 = ' + i for i in ['AAPL','IBM','MSFT','GOOG']}"
      ],
      "metadata": {
        "id": "xkqXc8d90ter"
      },
      "execution_count": null,
      "outputs": []
    },
    {
      "cell_type": "code",
      "source": [
        "sample_data"
      ],
      "metadata": {
        "colab": {
          "base_uri": "https://localhost:8080/"
        },
        "id": "h3OGrdkE04fk",
        "outputId": "a0eba78a-1200-4cb4-f0ba-585c43917d58"
      },
      "execution_count": null,
      "outputs": [
        {
          "output_type": "execute_result",
          "data": {
            "text/plain": [
              "{'AAPL': '회사이름 = AAPL',\n",
              " 'GOOG': '회사이름 = GOOG',\n",
              " 'IBM': '회사이름 = IBM',\n",
              " 'MSFT': '회사이름 = MSFT'}"
            ]
          },
          "metadata": {},
          "execution_count": 31
        }
      ]
    },
    {
      "cell_type": "code",
      "source": [
        "sample_data = {inum+1:item for inum, item in enumerate([10,20,30,40])}"
      ],
      "metadata": {
        "id": "NK1bMfEZ2b14"
      },
      "execution_count": null,
      "outputs": []
    },
    {
      "cell_type": "code",
      "source": [
        "sample_data"
      ],
      "metadata": {
        "colab": {
          "base_uri": "https://localhost:8080/"
        },
        "id": "Z138fugh2e1M",
        "outputId": "427e4d55-959e-4010-93a5-254d648c38a7"
      },
      "execution_count": null,
      "outputs": [
        {
          "output_type": "execute_result",
          "data": {
            "text/plain": [
              "{1: 10, 2: 20, 3: 30, 4: 40}"
            ]
          },
          "metadata": {},
          "execution_count": 35
        }
      ]
    },
    {
      "cell_type": "code",
      "source": [
        "numb = [2,7,11,15]\n",
        "target = 9"
      ],
      "metadata": {
        "id": "of-l6D3e25ow"
      },
      "execution_count": null,
      "outputs": []
    },
    {
      "cell_type": "code",
      "source": [
        "for i in numb:\n",
        "  for j in numb:\n",
        "    sums = i+j\n",
        "    if sums ==9:\n",
        "      print(numb.index(i), numb.index(j))"
      ],
      "metadata": {
        "colab": {
          "base_uri": "https://localhost:8080/"
        },
        "id": "PnoGwSd23BCU",
        "outputId": "a46ca428-4fe2-4652-d65d-6c4e29c17d0e"
      },
      "execution_count": null,
      "outputs": [
        {
          "output_type": "stream",
          "name": "stdout",
          "text": [
            "0 1\n",
            "1 0\n"
          ]
        }
      ]
    },
    {
      "cell_type": "code",
      "source": [
        "for inum, item in enumerate(numb):\n",
        "  diff = target-item\n",
        "  print(target,item,diff)"
      ],
      "metadata": {
        "colab": {
          "base_uri": "https://localhost:8080/"
        },
        "id": "fAA_OJ8T7rul",
        "outputId": "fd2a4ebd-7668-4662-c557-f35df07f5733"
      },
      "execution_count": null,
      "outputs": [
        {
          "output_type": "stream",
          "name": "stdout",
          "text": [
            "9 2 7\n",
            "9 7 2\n",
            "9 11 -2\n",
            "9 15 -6\n"
          ]
        }
      ]
    },
    {
      "cell_type": "code",
      "source": [
        "target = 9\n",
        "for i ,j in enumerate(a):\n",
        "  if (target-j) in a:\n",
        "    print(i,a.index(target-j))"
      ],
      "metadata": {
        "colab": {
          "base_uri": "https://localhost:8080/"
        },
        "id": "h0h51GLE73Da",
        "outputId": "8f95448a-f1ee-4ab4-da96-d9f4b34029c4"
      },
      "execution_count": null,
      "outputs": [
        {
          "output_type": "stream",
          "name": "stdout",
          "text": [
            "0 1\n",
            "1 0\n"
          ]
        }
      ]
    },
    {
      "cell_type": "code",
      "source": [
        "7 in a"
      ],
      "metadata": {
        "colab": {
          "base_uri": "https://localhost:8080/"
        },
        "id": "MGRn-jFR83qE",
        "outputId": "dafb2d0c-a826-4290-9d29-21244e0fa98c"
      },
      "execution_count": null,
      "outputs": [
        {
          "output_type": "execute_result",
          "data": {
            "text/plain": [
              "True"
            ]
          },
          "metadata": {},
          "execution_count": 60
        }
      ]
    },
    {
      "cell_type": "markdown",
      "source": [
        "# 프로그램 평가\n",
        "\n",
        "필수 요서 : 문제 해결, 정확성\n",
        "\n",
        "습관 : 문서화, 모듈회. 가독성 향상\n",
        "\n",
        "효율성 : 공간(메모리) 효율, 시간 효율"
      ],
      "metadata": {
        "id": "iJMg4jG04Ab9"
      }
    },
    {
      "cell_type": "markdown",
      "source": [
        "성능측정 : 실제 프로그램을 실행시켜 시간을 측정 => 프로그램 실행환경에 따라 달라짐\n",
        "\n",
        "성능 분석: 프로그램을 실행시키지 않고 성능을 확인 하는것 = 모의 실험과 복잡도가 있다."
      ],
      "metadata": {
        "id": "QY83vMEm4iGg"
      }
    },
    {
      "cell_type": "markdown",
      "source": [
        "공간 복잡도 : 메모리\n",
        "\n",
        "시간 복잡도 : 프로그램 실행에 걸리는 시간"
      ],
      "metadata": {
        "id": "80FCg2fH4jXy"
      }
    },
    {
      "cell_type": "markdown",
      "source": [
        "전체 프로그램 실행 걸리는 시간 = 컴파일 시간 + 코드 수행시간\n",
        "\n",
        "컴파일 시간 = 고정적, 1회만 필요\n",
        "코드 수행 시간 = 프로그램 단계수를 사용하여 측정"
      ],
      "metadata": {
        "id": "BOWhIIkp4sVZ"
      }
    },
    {
      "cell_type": "markdown",
      "source": [
        "프로그램 단계수 : 프로그램의 분벅적인 또는 논리적인 단위\n",
        "프로그램 수행 환경과 무관하게 프로그램의 시간을 측정하는 단위로 프로그램 단계수 사용\n"
      ],
      "metadata": {
        "id": "u-MuTimH4xhN"
      }
    },
    {
      "cell_type": "markdown",
      "source": [
        "\n",
        "프로그램 단계수 계산 방법\n",
        "\n",
        "Float sum(float list[],int n){\n",
        "\n",
        "    float tempsum = 0;\n",
        "\n",
        "    int i;\n",
        "\n",
        "    for (i=0,i<n;i++)\n",
        "\n",
        "      tempsum +=list[i]:\n",
        "\n",
        "    return tempsum;\n",
        "\n",
        "}\n",
        "Total = 2n +3"
      ],
      "metadata": {
        "id": "w-NGNWWl5Nhb"
      }
    },
    {
      "cell_type": "code",
      "source": [
        "numb_dict = {}    #dict 선언\n",
        "for inum,item in enumerate(numb): \n",
        "  numb_dict[item]=inum\n",
        "  print(f'key={item},value={inum}')   #확인\n",
        "\n",
        "\n",
        "for inum2, item2 in enumerate(numb):\n",
        "  diff = target - item2     #target = 9, item2 = 2,7,11,15 diff = 7,2,-2,-6\n",
        "  if diff in numb_dict and inum2 != numb_dict[diff]:\n",
        "    print(inum2, numb_dict[diff])"
      ],
      "metadata": {
        "colab": {
          "base_uri": "https://localhost:8080/"
        },
        "id": "Lm0O1AC09Fmn",
        "outputId": "1f058c64-007f-45c1-9d3c-66c8b9007f0b"
      },
      "execution_count": null,
      "outputs": [
        {
          "output_type": "stream",
          "name": "stdout",
          "text": [
            "key=2,value=0\n",
            "key=7,value=1\n",
            "key=11,value=2\n",
            "key=15,value=3\n",
            "0 1\n",
            "1 0\n"
          ]
        }
      ]
    },
    {
      "cell_type": "code",
      "source": [
        "numb_dict = {}    #dict 선언\n",
        "for inum,item in enumerate(numb): \n",
        "  numb_dict[item]=inum\n",
        "  #print(f'key={item},value={inum}')   #확인\n",
        "\n",
        "\n",
        "for inum2, item2 in enumerate(numb):\n",
        "  diff = target - item2     #target = 9, item2 = 2,7,11,15 diff = 7,2,-2,-6\n",
        "  if diff in numb_dict:\n",
        "    print(inum2,numb_dict[diff])"
      ],
      "metadata": {
        "colab": {
          "base_uri": "https://localhost:8080/"
        },
        "id": "8b9m8Fo0GYmD",
        "outputId": "77f28b5d-b311-49f4-c3c5-8f44e1a36b7b"
      },
      "execution_count": null,
      "outputs": [
        {
          "output_type": "stream",
          "name": "stdout",
          "text": [
            "0 1\n",
            "1 0\n"
          ]
        }
      ]
    },
    {
      "cell_type": "code",
      "source": [
        "numb"
      ],
      "metadata": {
        "colab": {
          "base_uri": "https://localhost:8080/"
        },
        "id": "bJpdjY5JIL_3",
        "outputId": "f1c58537-8a08-42c3-f399-6350d83970c1"
      },
      "execution_count": null,
      "outputs": [
        {
          "output_type": "execute_result",
          "data": {
            "text/plain": [
              "[2, 7, 11, 15]"
            ]
          },
          "metadata": {},
          "execution_count": 68
        }
      ]
    },
    {
      "cell_type": "code",
      "source": [
        "numb_dict"
      ],
      "metadata": {
        "colab": {
          "base_uri": "https://localhost:8080/"
        },
        "id": "uQ4g-IKWIM4h",
        "outputId": "3598d188-12eb-425d-a415-d23f814201bb"
      },
      "execution_count": null,
      "outputs": [
        {
          "output_type": "execute_result",
          "data": {
            "text/plain": [
              "{2: 0, 7: 1, 11: 2, 15: 3}"
            ]
          },
          "metadata": {},
          "execution_count": 69
        }
      ]
    },
    {
      "cell_type": "markdown",
      "source": [
        "inum2 = 1, item2 = 7, diff =2\n",
        "\n",
        "if 2 in numb_dict True\"1 0\" "
      ],
      "metadata": {
        "id": "HB08iXOmIzxN"
      }
    },
    {
      "cell_type": "code",
      "source": [
        "target = 8,"
      ],
      "metadata": {
        "id": "_opmc2fgG1lQ"
      },
      "execution_count": null,
      "outputs": []
    },
    {
      "cell_type": "code",
      "source": [
        "def TwoSumShortDict(numb, target):\n",
        "  "
      ],
      "metadata": {
        "id": "3YB0x7XR-nMd"
      },
      "execution_count": null,
      "outputs": []
    },
    {
      "cell_type": "markdown",
      "source": [
        "# **파일열기**"
      ],
      "metadata": {
        "id": "vGxDx9bbJLxw"
      }
    },
    {
      "cell_type": "code",
      "source": [
        "f = open('New File.txt','w')"
      ],
      "metadata": {
        "id": "0mEIBQ3yJERs"
      },
      "execution_count": null,
      "outputs": []
    },
    {
      "cell_type": "markdown",
      "source": [
        "* open('파일 이름','r=읽기모드,w=쓰기모드')\n",
        "*f = 파일 객체"
      ],
      "metadata": {
        "id": "Yq35F_OJJ1Sn"
      }
    },
    {
      "cell_type": "code",
      "source": [
        "f.close()"
      ],
      "metadata": {
        "id": "cn4b7FEEJPLc"
      },
      "execution_count": null,
      "outputs": []
    },
    {
      "cell_type": "code",
      "source": [
        "def add_(a,b):\n",
        "  return a+b"
      ],
      "metadata": {
        "id": "acRoFyH8KE4_"
      },
      "execution_count": null,
      "outputs": []
    },
    {
      "cell_type": "code",
      "source": [
        "result = add_(1,2)"
      ],
      "metadata": {
        "id": "ffegPCtzKKOV"
      },
      "execution_count": null,
      "outputs": []
    },
    {
      "cell_type": "code",
      "source": [
        "result"
      ],
      "metadata": {
        "colab": {
          "base_uri": "https://localhost:8080/"
        },
        "id": "I0vbo3XZKMct",
        "outputId": "8be7ea6a-3285-4c93-cfcb-3b6225af8f81"
      },
      "execution_count": null,
      "outputs": [
        {
          "output_type": "execute_result",
          "data": {
            "text/plain": [
              "3"
            ]
          },
          "metadata": {},
          "execution_count": 74
        }
      ]
    },
    {
      "cell_type": "code",
      "source": [
        "f = open('New File.txt','w')\n",
        "print(f)\n"
      ],
      "metadata": {
        "colab": {
          "base_uri": "https://localhost:8080/"
        },
        "id": "rlRJZsOcOTTC",
        "outputId": "02985e09-40b9-4c3e-a85c-9ac682d85476"
      },
      "execution_count": null,
      "outputs": [
        {
          "output_type": "stream",
          "name": "stdout",
          "text": [
            "<_io.TextIOWrapper name='New File.txt' mode='w' encoding='UTF-8'>\n"
          ]
        }
      ]
    },
    {
      "cell_type": "code",
      "source": [
        "f.close()"
      ],
      "metadata": {
        "id": "BVlp8EPbOepb"
      },
      "execution_count": null,
      "outputs": []
    },
    {
      "cell_type": "markdown",
      "source": [
        "# **파일 쓰기**"
      ],
      "metadata": {
        "id": "ojVfQSdVOtuN"
      }
    },
    {
      "cell_type": "code",
      "source": [
        "file = open('New File.txt','w')"
      ],
      "metadata": {
        "id": "couGQ2kkOtGI"
      },
      "execution_count": null,
      "outputs": []
    },
    {
      "cell_type": "code",
      "source": [
        "file.write(\"파이썬 월드에 오신 것을 환영합니다.\\n 여기서 세상을 배워가세요.\")"
      ],
      "metadata": {
        "colab": {
          "base_uri": "https://localhost:8080/"
        },
        "id": "fJp7Q_bCO08-",
        "outputId": "8fc5d844-6886-4f9a-8210-8781d247cc5e"
      },
      "execution_count": null,
      "outputs": [
        {
          "output_type": "execute_result",
          "data": {
            "text/plain": [
              "36"
            ]
          },
          "metadata": {},
          "execution_count": 81
        }
      ]
    },
    {
      "cell_type": "code",
      "source": [
        "file.close()"
      ],
      "metadata": {
        "id": "zFWrJQ9mPs8V"
      },
      "execution_count": null,
      "outputs": []
    },
    {
      "cell_type": "code",
      "source": [
        "file = open('New File.txt','w')\n",
        "file.writelines(['1','2','4','35'])\n",
        "file.close()"
      ],
      "metadata": {
        "id": "mJ01R6B9Pwdz"
      },
      "execution_count": null,
      "outputs": []
    },
    {
      "cell_type": "markdown",
      "source": [
        "1. 새로운 파일을 추가 후 1-10까지 수 입력"
      ],
      "metadata": {
        "id": "HybjEm0GQD-F"
      }
    },
    {
      "cell_type": "markdown",
      "source": [
        "**파일 내용 추가**"
      ],
      "metadata": {
        "id": "xFFERu2VQIP1"
      }
    },
    {
      "cell_type": "code",
      "source": [
        "data = \"으로 이루어지는 파이썬 세상\"\n",
        "f = open('New File.txt','a')\n",
        "f.write(data)\n",
        "f.close()"
      ],
      "metadata": {
        "id": "agSF6SWSQKH6"
      },
      "execution_count": null,
      "outputs": []
    },
    {
      "cell_type": "markdown",
      "source": [
        "**반복문**"
      ],
      "metadata": {
        "id": "ToQm2SzBQeg_"
      }
    },
    {
      "cell_type": "code",
      "source": [
        "a = 0\n",
        "f = open('New File.txt','at')\n",
        "while a < 10:\n",
        "  data = \"%d 숫자 \\n\" %a\n",
        "  f.write(data)\n",
        "  a=a+1"
      ],
      "metadata": {
        "id": "uZg2omKCQf2z"
      },
      "execution_count": null,
      "outputs": []
    },
    {
      "cell_type": "code",
      "source": [
        "cat test"
      ],
      "metadata": {
        "colab": {
          "base_uri": "https://localhost:8080/"
        },
        "id": "tH6xCeyZRNUh",
        "outputId": "78cc3a0e-e011-4830-ca79-a0aaa3c1eb32"
      },
      "execution_count": null,
      "outputs": [
        {
          "output_type": "stream",
          "name": "stdout",
          "text": [
            "cat: test: No such file or directory\n"
          ]
        }
      ]
    },
    {
      "cell_type": "markdown",
      "source": [
        "**연습문제**"
      ],
      "metadata": {
        "id": "_E4P5YRXTB5i"
      }
    },
    {
      "cell_type": "code",
      "source": [
        "f = open('loop.txt','w')"
      ],
      "metadata": {
        "id": "Ogy9uUubTBmx"
      },
      "execution_count": null,
      "outputs": []
    },
    {
      "cell_type": "code",
      "source": [
        "f = open('loop.txt','w')\n",
        "a=0\n",
        "while a<=101:\n",
        "  data = \"%d \"%a\n",
        "  f.write(data)\n",
        "  a=a+1\n",
        "f.close()\n",
        "cat loop.txt"
      ],
      "metadata": {
        "id": "dwQtIplkTTm_"
      },
      "execution_count": null,
      "outputs": []
    },
    {
      "cell_type": "code",
      "source": [
        "cat loop.txt"
      ],
      "metadata": {
        "colab": {
          "base_uri": "https://localhost:8080/"
        },
        "id": "Ir6_ZM42WvqX",
        "outputId": "0fbe44f8-8b3d-4fca-8e89-f3c16977e4f2"
      },
      "execution_count": null,
      "outputs": [
        {
          "output_type": "stream",
          "name": "stdout",
          "text": [
            "0 1 2 3 4 5 6 7 8 9 10 11 12 13 14 15 16 17 18 19 20 21 22 23 24 25 26 27 28 29 30 31 32 33 34 35 36 37 38 39 40 41 42 43 44 45 46 47 48 49 50 51 52 53 54 55 56 57 58 59 60 61 62 63 64 65 66 67 68 69 70 71 72 73 74 75 76 77 78 79 80 81 82 83 84 85 86 87 88 89 90 91 92 93 94 95 96 97 98 99 100 101 "
          ]
        }
      ]
    },
    {
      "cell_type": "code",
      "source": [
        "f = open('practice.txt','w')"
      ],
      "metadata": {
        "id": "JFn2rr4vVlSR"
      },
      "execution_count": null,
      "outputs": []
    },
    {
      "cell_type": "code",
      "source": [
        "f = open('practice.txt','w')\n",
        "for i in range(13):\n",
        "  f.write(\"제\"+ str(i) + \"의 아해가 무섭다고그리오\\n\")\n",
        "  #f.write(f\"제\"+ str{i} + \"의 아해가 무섭다고그리오\\n\")\n",
        "f.close()\n",
        "cat practice.txt"
      ],
      "metadata": {
        "id": "Fkw7bJh-VqO0"
      },
      "execution_count": null,
      "outputs": []
    },
    {
      "cell_type": "code",
      "source": [
        "cat practice.txt"
      ],
      "metadata": {
        "colab": {
          "base_uri": "https://localhost:8080/"
        },
        "id": "bHYPkL-EWh3P",
        "outputId": "3dde9bd5-8b78-451b-a851-daa808031d78"
      },
      "execution_count": null,
      "outputs": [
        {
          "output_type": "stream",
          "name": "stdout",
          "text": [
            "제0의 아해가 무섭다고그리오\n",
            "제1의 아해가 무섭다고그리오\n",
            "제2의 아해가 무섭다고그리오\n",
            "제3의 아해가 무섭다고그리오\n",
            "제4의 아해가 무섭다고그리오\n",
            "제5의 아해가 무섭다고그리오\n",
            "제6의 아해가 무섭다고그리오\n",
            "제7의 아해가 무섭다고그리오\n",
            "제8의 아해가 무섭다고그리오\n",
            "제9의 아해가 무섭다고그리오\n",
            "제10의 아해가 무섭다고그리오\n",
            "제11의 아해가 무섭다고그리오\n",
            "제12의 아해가 무섭다고그리오\n"
          ]
        }
      ]
    },
    {
      "cell_type": "markdown",
      "source": [
        "**파일 내용 읽기 read(),모드 r**"
      ],
      "metadata": {
        "id": "xne8N44qXci8"
      }
    },
    {
      "cell_type": "code",
      "source": [
        "f = open('practice.txt','r')\n",
        "f.read()\n",
        "f.close()"
      ],
      "metadata": {
        "id": "h5YODORbXb-b"
      },
      "execution_count": null,
      "outputs": []
    },
    {
      "cell_type": "code",
      "source": [
        "f= open('practice.txt','r')\n",
        "a=f.read()      #a에 읽은 내용 저장하기\n",
        "print(a)\n",
        "f.close()"
      ],
      "metadata": {
        "colab": {
          "base_uri": "https://localhost:8080/"
        },
        "id": "bHDwtrR4XoW_",
        "outputId": "8f522089-f6cd-4c94-e64b-69e1152f0968"
      },
      "execution_count": null,
      "outputs": [
        {
          "output_type": "stream",
          "name": "stdout",
          "text": [
            "제0의 아해가 무섭다고그리오\n",
            "제1의 아해가 무섭다고그리오\n",
            "제2의 아해가 무섭다고그리오\n",
            "제3의 아해가 무섭다고그리오\n",
            "제4의 아해가 무섭다고그리오\n",
            "제5의 아해가 무섭다고그리오\n",
            "제6의 아해가 무섭다고그리오\n",
            "제7의 아해가 무섭다고그리오\n",
            "제8의 아해가 무섭다고그리오\n",
            "제9의 아해가 무섭다고그리오\n",
            "제10의 아해가 무섭다고그리오\n",
            "제11의 아해가 무섭다고그리오\n",
            "제12의 아해가 무섭다고그리오\n",
            "\n"
          ]
        }
      ]
    },
    {
      "cell_type": "code",
      "source": [
        "a[:24]"
      ],
      "metadata": {
        "colab": {
          "base_uri": "https://localhost:8080/",
          "height": 35
        },
        "id": "ocXOqaP1Ysp2",
        "outputId": "04f6f3a7-941d-4bf8-b69e-23d0beafab06"
      },
      "execution_count": null,
      "outputs": [
        {
          "output_type": "execute_result",
          "data": {
            "text/plain": [
              "'제0의 아해가 무섭다고그리오\\n제1의 아해가 '"
            ],
            "application/vnd.google.colaboratory.intrinsic+json": {
              "type": "string"
            }
          },
          "metadata": {},
          "execution_count": 139
        }
      ]
    },
    {
      "cell_type": "code",
      "source": [
        "len(a)"
      ],
      "metadata": {
        "colab": {
          "base_uri": "https://localhost:8080/"
        },
        "id": "Rb6TFBn8Y7RB",
        "outputId": "f979cfbb-dbd2-49a2-9a24-31b643c87146"
      },
      "execution_count": null,
      "outputs": [
        {
          "output_type": "execute_result",
          "data": {
            "text/plain": [
              "211"
            ]
          },
          "metadata": {},
          "execution_count": 140
        }
      ]
    },
    {
      "cell_type": "code",
      "source": [
        "f=open('practice.txt','r')\n",
        "f.readline()\n",
        "f.readline()\n",
        "f.readline()\n",
        "f.readlines()\n",
        "f.close()"
      ],
      "metadata": {
        "id": "Wn_86gKJY-FR"
      },
      "execution_count": null,
      "outputs": []
    },
    {
      "cell_type": "markdown",
      "source": [
        "**# 예외처리**"
      ],
      "metadata": {
        "id": "J12mRHxfpJe1"
      }
    },
    {
      "cell_type": "code",
      "source": [
        "f=open('python.txt','r')"
      ],
      "metadata": {
        "colab": {
          "base_uri": "https://localhost:8080/",
          "height": 174
        },
        "id": "G9awFH_YpMl1",
        "outputId": "e5260b04-42e0-410e-ad94-83fa70893719"
      },
      "execution_count": null,
      "outputs": [
        {
          "output_type": "error",
          "ename": "FileNotFoundError",
          "evalue": "ignored",
          "traceback": [
            "\u001b[0;31m---------------------------------------------------------------------------\u001b[0m",
            "\u001b[0;31mFileNotFoundError\u001b[0m                         Traceback (most recent call last)",
            "\u001b[0;32m<ipython-input-147-73c102af8824>\u001b[0m in \u001b[0;36m<module>\u001b[0;34m()\u001b[0m\n\u001b[0;32m----> 1\u001b[0;31m \u001b[0mf\u001b[0m\u001b[0;34m=\u001b[0m\u001b[0mopen\u001b[0m\u001b[0;34m(\u001b[0m\u001b[0;34m'python.txt'\u001b[0m\u001b[0;34m,\u001b[0m\u001b[0;34m'r'\u001b[0m\u001b[0;34m)\u001b[0m\u001b[0;34m\u001b[0m\u001b[0;34m\u001b[0m\u001b[0m\n\u001b[0m",
            "\u001b[0;31mFileNotFoundError\u001b[0m: [Errno 2] No such file or directory: 'python.txt'"
          ]
        }
      ]
    },
    {
      "cell_type": "code",
      "source": [
        "numb=[2,7,11,15]\n",
        "target =9\n",
        "numb_dict ={}\n",
        "\n",
        "for inum,item in enumerate(numb): \n",
        "  numb_dict[item]=inum\n",
        "  #print(f'key={item},value={inum}')   #확인\n",
        "\n",
        "\n"
      ],
      "metadata": {
        "id": "fOcTOS0ipexW"
      },
      "execution_count": null,
      "outputs": []
    },
    {
      "cell_type": "code",
      "source": [
        "numb_dict"
      ],
      "metadata": {
        "colab": {
          "base_uri": "https://localhost:8080/"
        },
        "id": "cEqFoaqHpodZ",
        "outputId": "2c3aea1b-df66-40cb-8521-cf8f25666d2a"
      },
      "execution_count": null,
      "outputs": [
        {
          "output_type": "execute_result",
          "data": {
            "text/plain": [
              "{2: 0, 7: 1, 11: 2, 15: 3}"
            ]
          },
          "metadata": {},
          "execution_count": 149
        }
      ]
    },
    {
      "cell_type": "code",
      "source": [
        "for inum2, item2 in enumerate(numb):\n",
        "  diff = target - item2   \n",
        "  if diff in numb_dict:\n",
        "    print(target,inum2,item2,diff,numb_dict[diff])\n",
        "    print(inum2,numb_dict[diff])"
      ],
      "metadata": {
        "colab": {
          "base_uri": "https://localhost:8080/"
        },
        "id": "zgkpHvPhpnPZ",
        "outputId": "ec1ec91c-6941-4dbf-9067-39ea02457cea"
      },
      "execution_count": null,
      "outputs": [
        {
          "output_type": "stream",
          "name": "stdout",
          "text": [
            "9 0 2 7 1\n",
            "0 1\n",
            "9 1 7 2 0\n",
            "1 0\n"
          ]
        }
      ]
    },
    {
      "cell_type": "markdown",
      "source": [
        "target = 9, item2 = 2,7,11,15 diff = 7,2,-2,-6"
      ],
      "metadata": {
        "id": "HhCaKLPyprbZ"
      }
    },
    {
      "cell_type": "code",
      "source": [
        "for inum2, item2 in enumerate(numb):\n",
        "  diff = target - item2   \n",
        "  print(inum2,item2,diff,numb_dict.get(diff))\n",
        "  if diff in numb_dict:\n",
        "    pass\n",
        "    #print(inum2,numb_dict[diff])"
      ],
      "metadata": {
        "colab": {
          "base_uri": "https://localhost:8080/"
        },
        "id": "5gMROjuNq78A",
        "outputId": "6560f378-45f2-4862-fdca-e6fef0792c5b"
      },
      "execution_count": null,
      "outputs": [
        {
          "output_type": "stream",
          "name": "stdout",
          "text": [
            "0 2 7 1\n",
            "1 7 2 0\n",
            "2 11 -2 None\n",
            "3 15 -6 None\n"
          ]
        }
      ]
    },
    {
      "cell_type": "code",
      "source": [
        "f = open('practice.txt','r')"
      ],
      "metadata": {
        "id": "HNE6kgZrt7cg"
      },
      "execution_count": null,
      "outputs": []
    },
    {
      "cell_type": "code",
      "source": [
        "a = f.readlines()"
      ],
      "metadata": {
        "id": "gUGTR0OQt-ow"
      },
      "execution_count": null,
      "outputs": []
    },
    {
      "cell_type": "code",
      "source": [
        "f.close()"
      ],
      "metadata": {
        "id": "DEspHERkuJhW"
      },
      "execution_count": null,
      "outputs": []
    },
    {
      "cell_type": "code",
      "source": [
        "data=[]\n",
        "for i in a:\n",
        "\n",
        "  data.append(i.strip('\\n'))"
      ],
      "metadata": {
        "id": "ECPwrT-LuKoi"
      },
      "execution_count": null,
      "outputs": []
    },
    {
      "cell_type": "code",
      "source": [
        "data"
      ],
      "metadata": {
        "colab": {
          "base_uri": "https://localhost:8080/"
        },
        "id": "uGTyRw3auvaI",
        "outputId": "b61e415f-e57e-42aa-e495-1ad1bc5d6522"
      },
      "execution_count": null,
      "outputs": [
        {
          "output_type": "execute_result",
          "data": {
            "text/plain": [
              "['제0의 아해가 무섭다고그리오',\n",
              " '제1의 아해가 무섭다고그리오',\n",
              " '제2의 아해가 무섭다고그리오',\n",
              " '제3의 아해가 무섭다고그리오',\n",
              " '제4의 아해가 무섭다고그리오',\n",
              " '제5의 아해가 무섭다고그리오',\n",
              " '제6의 아해가 무섭다고그리오',\n",
              " '제7의 아해가 무섭다고그리오',\n",
              " '제8의 아해가 무섭다고그리오',\n",
              " '제9의 아해가 무섭다고그리오',\n",
              " '제10의 아해가 무섭다고그리오',\n",
              " '제11의 아해가 무섭다고그리오',\n",
              " '제12의 아해가 무섭다고그리오']"
            ]
          },
          "metadata": {},
          "execution_count": 174
        }
      ]
    },
    {
      "cell_type": "code",
      "source": [
        "try :\n",
        "  f=open('python.txt','r')\n",
        "except:\n",
        "  print('파일을 읽을 때 오류가 발생했습니다.')"
      ],
      "metadata": {
        "colab": {
          "base_uri": "https://localhost:8080/"
        },
        "id": "WCZzoMjxvUYH",
        "outputId": "dbe0f2ec-aa00-417a-ee41-f2844e6e7bb6"
      },
      "execution_count": null,
      "outputs": [
        {
          "output_type": "stream",
          "name": "stdout",
          "text": [
            "파일을 읽을 때 오류가 발생했습니다.\n"
          ]
        }
      ]
    },
    {
      "cell_type": "code",
      "source": [
        "try :\n",
        "  f =open('python.txt','r')\n",
        "except FileNotFoundError:\n",
        "  print('파일을 찾을 수 없습니다.')"
      ],
      "metadata": {
        "id": "s7s6UheovcHT"
      },
      "execution_count": null,
      "outputs": []
    },
    {
      "cell_type": "code",
      "source": [
        "is"
      ],
      "metadata": {
        "colab": {
          "base_uri": "https://localhost:8080/",
          "height": 137
        },
        "id": "cb2nrlqLyBjo",
        "outputId": "04e08d1c-5c70-42b1-ce12-20f067a7d8d0"
      },
      "execution_count": null,
      "outputs": [
        {
          "output_type": "error",
          "ename": "SyntaxError",
          "evalue": "ignored",
          "traceback": [
            "\u001b[0;36m  File \u001b[0;32m\"<ipython-input-177-5f790878d0ce>\"\u001b[0;36m, line \u001b[0;32m1\u001b[0m\n\u001b[0;31m    is\u001b[0m\n\u001b[0m     ^\u001b[0m\n\u001b[0;31mSyntaxError\u001b[0m\u001b[0;31m:\u001b[0m invalid syntax\n"
          ]
        }
      ]
    },
    {
      "cell_type": "code",
      "source": [
        "try :\n",
        "  b[40]\n",
        "except Except as e:\n",
        "  pass"
      ],
      "metadata": {
        "colab": {
          "base_uri": "https://localhost:8080/",
          "height": 413
        },
        "id": "OH2bhuqLyb81",
        "outputId": "83bb0de0-2090-4035-e238-455638ae0758"
      },
      "execution_count": null,
      "outputs": [
        {
          "output_type": "error",
          "ename": "NameError",
          "evalue": "ignored",
          "traceback": [
            "\u001b[0;31m---------------------------------------------------------------------------\u001b[0m",
            "\u001b[0;31mNameError\u001b[0m                                 Traceback (most recent call last)",
            "\u001b[0;32m<ipython-input-233-24807d0cf5d7>\u001b[0m in \u001b[0;36m<module>\u001b[0;34m()\u001b[0m\n\u001b[1;32m      1\u001b[0m \u001b[0;32mtry\u001b[0m \u001b[0;34m:\u001b[0m\u001b[0;34m\u001b[0m\u001b[0;34m\u001b[0m\u001b[0m\n\u001b[0;32m----> 2\u001b[0;31m   \u001b[0mb\u001b[0m\u001b[0;34m[\u001b[0m\u001b[0;36m40\u001b[0m\u001b[0;34m]\u001b[0m\u001b[0;34m\u001b[0m\u001b[0;34m\u001b[0m\u001b[0m\n\u001b[0m\u001b[1;32m      3\u001b[0m \u001b[0;32mexcept\u001b[0m \u001b[0mExcept\u001b[0m \u001b[0;32mas\u001b[0m \u001b[0me\u001b[0m\u001b[0;34m:\u001b[0m\u001b[0;34m\u001b[0m\u001b[0;34m\u001b[0m\u001b[0m\n",
            "\u001b[0;31mNameError\u001b[0m: name 'b' is not defined",
            "\nDuring handling of the above exception, another exception occurred:\n",
            "\u001b[0;31mNameError\u001b[0m                                 Traceback (most recent call last)",
            "\u001b[0;32m<ipython-input-233-24807d0cf5d7>\u001b[0m in \u001b[0;36m<module>\u001b[0;34m()\u001b[0m\n\u001b[1;32m      1\u001b[0m \u001b[0;32mtry\u001b[0m \u001b[0;34m:\u001b[0m\u001b[0;34m\u001b[0m\u001b[0;34m\u001b[0m\u001b[0m\n\u001b[1;32m      2\u001b[0m   \u001b[0mb\u001b[0m\u001b[0;34m[\u001b[0m\u001b[0;36m40\u001b[0m\u001b[0;34m]\u001b[0m\u001b[0;34m\u001b[0m\u001b[0;34m\u001b[0m\u001b[0m\n\u001b[0;32m----> 3\u001b[0;31m \u001b[0;32mexcept\u001b[0m \u001b[0mExcept\u001b[0m \u001b[0;32mas\u001b[0m \u001b[0me\u001b[0m\u001b[0;34m:\u001b[0m\u001b[0;34m\u001b[0m\u001b[0;34m\u001b[0m\u001b[0m\n\u001b[0m\u001b[1;32m      4\u001b[0m   \u001b[0;32mpass\u001b[0m\u001b[0;34m\u001b[0m\u001b[0;34m\u001b[0m\u001b[0m\n",
            "\u001b[0;31mNameError\u001b[0m: name 'Except' is not defined"
          ]
        }
      ]
    },
    {
      "cell_type": "code",
      "source": [
        "f=open('test.txt','w')\n",
        "for i in range(1,14):\n",
        "  f.write('제'+str(i)+'의아해\\n')\n",
        "f.close()"
      ],
      "metadata": {
        "id": "KinXFMtFzDgx"
      },
      "execution_count": null,
      "outputs": []
    },
    {
      "cell_type": "code",
      "source": [
        "cat test.txt"
      ],
      "metadata": {
        "colab": {
          "base_uri": "https://localhost:8080/"
        },
        "id": "YVxdU2i0zSK5",
        "outputId": "62b33e8a-7a29-4203-a78e-0375ba98fb39"
      },
      "execution_count": null,
      "outputs": [
        {
          "output_type": "stream",
          "name": "stdout",
          "text": [
            "제1의아해\n",
            "제2의아해\n",
            "제3의아해\n",
            "제4의아해\n",
            "제5의아해\n",
            "제6의아해\n",
            "제7의아해\n",
            "제8의아해\n",
            "제9의아해\n",
            "제10의아해\n",
            "제11의아해\n",
            "제12의아해\n",
            "제13의아해\n"
          ]
        }
      ]
    },
    {
      "cell_type": "code",
      "source": [
        "file_name = 'test.txt'\n",
        "f=open(file_name)\n",
        "\n",
        "while True:\n",
        "  a=f.readline()\n",
        "  if not a:\n",
        "    break\n",
        "  raw = a.split()\n",
        "  print(raw)\n",
        "f.close()\n"
      ],
      "metadata": {
        "colab": {
          "base_uri": "https://localhost:8080/"
        },
        "id": "kpfJAbAVzpix",
        "outputId": "efa51a31-60c0-4158-bace-ab4c01d79751"
      },
      "execution_count": null,
      "outputs": [
        {
          "output_type": "stream",
          "name": "stdout",
          "text": [
            "['제1의아해']\n",
            "['제2의아해']\n",
            "['제3의아해']\n",
            "['제4의아해']\n",
            "['제5의아해']\n",
            "['제6의아해']\n",
            "['제7의아해']\n",
            "['제8의아해']\n",
            "['제9의아해']\n",
            "['제10의아해']\n",
            "['제11의아해']\n",
            "['제12의아해']\n",
            "['제13의아해']\n"
          ]
        }
      ]
    },
    {
      "cell_type": "code",
      "source": [
        "file_name = 'test.txt'\n",
        "f=open(file_name)\n",
        "a=f.readline()\n",
        "\n",
        "while a :\n",
        "    print (a)\n",
        "    a = f.readline()\n",
        "f.close()\n"
      ],
      "metadata": {
        "colab": {
          "base_uri": "https://localhost:8080/"
        },
        "id": "sRIUcTSU5z85",
        "outputId": "e5452d41-77b5-4c1d-cc4c-dec65bd91886"
      },
      "execution_count": null,
      "outputs": [
        {
          "output_type": "stream",
          "name": "stdout",
          "text": [
            "제1의아해\n",
            "\n",
            "제2의아해\n",
            "\n",
            "제3의아해\n",
            "\n",
            "제4의아해\n",
            "\n",
            "제5의아해\n",
            "\n",
            "제6의아해\n",
            "\n",
            "제7의아해\n",
            "\n",
            "제8의아해\n",
            "\n",
            "제9의아해\n",
            "\n",
            "제10의아해\n",
            "\n",
            "제11의아해\n",
            "\n",
            "제12의아해\n",
            "\n",
            "제13의아해\n",
            "\n"
          ]
        }
      ]
    },
    {
      "cell_type": "code",
      "source": [
        "if None:\n",
        "  print('ok')"
      ],
      "metadata": {
        "id": "uUJU2a-k7b1h"
      },
      "execution_count": null,
      "outputs": []
    },
    {
      "cell_type": "code",
      "source": [
        "try:\n",
        "\n",
        "  except Exception as e:\n",
        "    pass"
      ],
      "metadata": {
        "id": "baTqMG7e9EZZ"
      },
      "execution_count": null,
      "outputs": []
    },
    {
      "cell_type": "markdown",
      "source": [
        "# **예외 처리 (else, finally)**"
      ],
      "metadata": {
        "id": "Wft9hfKZ7_jF"
      }
    },
    {
      "cell_type": "code",
      "source": [
        "try:\n",
        "  f = open('python.txt','r')\n",
        "except FileNotFoundError:\n",
        "  print('파일을 찾을 수 없습니다.')\n",
        "else:\n",
        "  a= f.read()\n",
        "  print(a)\n",
        "  f.close()"
      ],
      "metadata": {
        "colab": {
          "base_uri": "https://localhost:8080/"
        },
        "id": "dkipkFoD7mWN",
        "outputId": "78253a38-d1ce-4ab9-e1be-2aa9ed71132b"
      },
      "execution_count": null,
      "outputs": [
        {
          "output_type": "stream",
          "name": "stdout",
          "text": [
            "파일을 찾을 수 없습니다.\n"
          ]
        }
      ]
    },
    {
      "cell_type": "code",
      "source": [
        "try:\n",
        "  f = open('python.txt','r')\n",
        "except FileNotFoundError:\n",
        "  pass\n",
        "else:\n",
        "  a =f.read()\n",
        "  print(a)\n",
        "  f.close()\n",
        "finally :\n",
        "  print('작업을 모두 마쳤습니다.')"
      ],
      "metadata": {
        "colab": {
          "base_uri": "https://localhost:8080/"
        },
        "id": "4KmiqMdT8R7V",
        "outputId": "b6f24c26-f7b0-4f26-bd49-3b4a632151fe"
      },
      "execution_count": null,
      "outputs": [
        {
          "output_type": "stream",
          "name": "stdout",
          "text": [
            "작업을 모두 마쳤습니다.\n"
          ]
        }
      ]
    },
    {
      "cell_type": "code",
      "source": [
        "a = {'홍길동':'2000년 3월 1일', '김춘추' : '604년'}"
      ],
      "metadata": {
        "id": "4UkIoKnt9er5"
      },
      "execution_count": null,
      "outputs": []
    },
    {
      "cell_type": "code",
      "source": [
        "a"
      ],
      "metadata": {
        "colab": {
          "base_uri": "https://localhost:8080/"
        },
        "id": "hOAQlR1k9qen",
        "outputId": "f0825a83-fe76-465f-8717-2ee4969a2eb1"
      },
      "execution_count": null,
      "outputs": [
        {
          "output_type": "execute_result",
          "data": {
            "text/plain": [
              "{'김춘추': '604년', '홍길동': '2000년 3월 1일'}"
            ]
          },
          "metadata": {},
          "execution_count": 237
        }
      ]
    },
    {
      "cell_type": "code",
      "source": [
        "a = {'홍길동':'2000년 3월 1일', '김춘추' : '604년'}\n",
        "try:\n",
        "  b = a.value\n",
        "  input('생일을 알고 싶은 사람을 입력하세요')\n",
        "except FileNotFoundError:\n",
        "  print('데이터베이스에 존재하지 않는 이름입니다.')\n",
        "else:\n",
        "  print(b)"
      ],
      "metadata": {
        "colab": {
          "base_uri": "https://localhost:8080/",
          "height": 248
        },
        "id": "Ue0hs9w69rbL",
        "outputId": "c3a3e22c-fbea-481a-c7a2-45aedc96adce"
      },
      "execution_count": null,
      "outputs": [
        {
          "name": "stdout",
          "output_type": "stream",
          "text": [
            "생일을 알고 싶은 사람을 입력하세요홍길동\n"
          ]
        },
        {
          "output_type": "error",
          "ename": "AttributeError",
          "evalue": "ignored",
          "traceback": [
            "\u001b[0;31m---------------------------------------------------------------------------\u001b[0m",
            "\u001b[0;31mAttributeError\u001b[0m                            Traceback (most recent call last)",
            "\u001b[0;32m<ipython-input-243-e88e026e4c9d>\u001b[0m in \u001b[0;36m<module>\u001b[0;34m()\u001b[0m\n\u001b[1;32m      4\u001b[0m   \u001b[0mprint\u001b[0m\u001b[0;34m(\u001b[0m\u001b[0;34m'데이터베이스에 존재하지 않는 이름입니다.'\u001b[0m\u001b[0;34m)\u001b[0m\u001b[0;34m\u001b[0m\u001b[0;34m\u001b[0m\u001b[0m\n\u001b[1;32m      5\u001b[0m \u001b[0;32melse\u001b[0m\u001b[0;34m:\u001b[0m\u001b[0;34m\u001b[0m\u001b[0;34m\u001b[0m\u001b[0m\n\u001b[0;32m----> 6\u001b[0;31m   \u001b[0mb\u001b[0m \u001b[0;34m=\u001b[0m \u001b[0ma\u001b[0m\u001b[0;34m.\u001b[0m\u001b[0mvalue\u001b[0m\u001b[0;34m\u001b[0m\u001b[0;34m\u001b[0m\u001b[0m\n\u001b[0m\u001b[1;32m      7\u001b[0m   \u001b[0mprint\u001b[0m\u001b[0;34m(\u001b[0m\u001b[0mb\u001b[0m\u001b[0;34m)\u001b[0m\u001b[0;34m\u001b[0m\u001b[0;34m\u001b[0m\u001b[0m\n",
            "\u001b[0;31mAttributeError\u001b[0m: 'str' object has no attribute 'value'"
          ]
        }
      ]
    },
    {
      "cell_type": "code",
      "source": [
        "a = {'홍길동':'2000년 3월 1일', '김춘추' : '604년'}\n",
        "b = input('생일을 알고 싶은 사람을 입력하세요')\n",
        "try:\n",
        "  print(a[b])   #(딕셔너리[입력받은 value출력])\n",
        "  \n",
        "except Exception as e:\n",
        "  print('데이터베이스에 존재하지 않는 이름입니다.')"
      ],
      "metadata": {
        "colab": {
          "base_uri": "https://localhost:8080/"
        },
        "id": "79yrQFmSAuJJ",
        "outputId": "408d9bcd-d0db-460a-f78a-cc2d1df67d59"
      },
      "execution_count": null,
      "outputs": [
        {
          "output_type": "stream",
          "name": "stdout",
          "text": [
            "생일을 알고 싶은 사람을 입력하세요이황\n",
            "데이터베이스에 존재하지 않는 이름입니다.\n"
          ]
        }
      ]
    },
    {
      "cell_type": "code",
      "source": [
        "x=int(280)\n",
        "a = int(input('데미지를 몇 입었습니까 : '))\n",
        "while a !='save':\n",
        "  x=x-a\n",
        "  print(f'현재 체력은 {x}입니다')\n",
        "  if x ==0:\n",
        "    break\n",
        "  \n",
        " \n"
      ],
      "metadata": {
        "colab": {
          "base_uri": "https://localhost:8080/",
          "height": 266
        },
        "id": "TQFNMTgOBd48",
        "outputId": "ebb29b04-dc47-4de2-cff7-24cbf5a3b6b4"
      },
      "execution_count": null,
      "outputs": [
        {
          "name": "stdout",
          "output_type": "stream",
          "text": [
            "데미지를 몇 입었습니까 : save\n"
          ]
        },
        {
          "output_type": "error",
          "ename": "ValueError",
          "evalue": "ignored",
          "traceback": [
            "\u001b[0;31m---------------------------------------------------------------------------\u001b[0m",
            "\u001b[0;31mValueError\u001b[0m                                Traceback (most recent call last)",
            "\u001b[0;32m<ipython-input-264-fb1089fd22ac>\u001b[0m in \u001b[0;36m<module>\u001b[0;34m()\u001b[0m\n\u001b[1;32m      1\u001b[0m \u001b[0mx\u001b[0m\u001b[0;34m=\u001b[0m\u001b[0mint\u001b[0m\u001b[0;34m(\u001b[0m\u001b[0;36m280\u001b[0m\u001b[0;34m)\u001b[0m\u001b[0;34m\u001b[0m\u001b[0;34m\u001b[0m\u001b[0m\n\u001b[0;32m----> 2\u001b[0;31m \u001b[0ma\u001b[0m \u001b[0;34m=\u001b[0m \u001b[0mint\u001b[0m\u001b[0;34m(\u001b[0m\u001b[0minput\u001b[0m\u001b[0;34m(\u001b[0m\u001b[0;34m'데미지를 몇 입었습니까 : '\u001b[0m\u001b[0;34m)\u001b[0m\u001b[0;34m)\u001b[0m\u001b[0;34m\u001b[0m\u001b[0;34m\u001b[0m\u001b[0m\n\u001b[0m\u001b[1;32m      3\u001b[0m \u001b[0;32mwhile\u001b[0m \u001b[0ma\u001b[0m \u001b[0;34m!=\u001b[0m\u001b[0;34m'save'\u001b[0m\u001b[0;34m:\u001b[0m\u001b[0;34m\u001b[0m\u001b[0;34m\u001b[0m\u001b[0m\n\u001b[1;32m      4\u001b[0m   \u001b[0mx\u001b[0m\u001b[0;34m=\u001b[0m\u001b[0mx\u001b[0m\u001b[0;34m-\u001b[0m\u001b[0ma\u001b[0m\u001b[0;34m\u001b[0m\u001b[0;34m\u001b[0m\u001b[0m\n\u001b[1;32m      5\u001b[0m   \u001b[0mprint\u001b[0m\u001b[0;34m(\u001b[0m\u001b[0;34mf'현재 체력은 {x}입니다'\u001b[0m\u001b[0;34m)\u001b[0m\u001b[0;34m\u001b[0m\u001b[0;34m\u001b[0m\u001b[0m\n",
            "\u001b[0;31mValueError\u001b[0m: invalid literal for int() with base 10: 'save'"
          ]
        }
      ]
    },
    {
      "cell_type": "code",
      "source": [
        "file = open('heath.txt','w')"
      ],
      "metadata": {
        "id": "kpdXKKBxEY6Z"
      },
      "execution_count": null,
      "outputs": []
    },
    {
      "cell_type": "code",
      "source": [
        "file.write(\"현재 체력은 280입니다.\")"
      ],
      "metadata": {
        "colab": {
          "base_uri": "https://localhost:8080/"
        },
        "id": "JMd-HzUZEyUn",
        "outputId": "23201c08-e9c2-486a-c706-a41bd9b493a1"
      },
      "execution_count": null,
      "outputs": [
        {
          "output_type": "execute_result",
          "data": {
            "text/plain": [
              "14"
            ]
          },
          "metadata": {},
          "execution_count": 269
        }
      ]
    },
    {
      "cell_type": "code",
      "source": [
        "cat heath.txt"
      ],
      "metadata": {
        "colab": {
          "base_uri": "https://localhost:8080/"
        },
        "id": "ET9DTk_7E3I5",
        "outputId": "3219eccd-b780-4833-c94e-f9c3e6a22d35"
      },
      "execution_count": null,
      "outputs": [
        {
          "output_type": "stream",
          "name": "stdout",
          "text": [
            "현재 체력은 280입니다."
          ]
        }
      ]
    },
    {
      "cell_type": "code",
      "source": [
        "f = open('score.txt', 'w')\n",
        "hp = 280\n",
        "\n",
        "while 1:\n",
        "    print(\"현재 체력은 %d 입니다.\" %hp)\n",
        "    a = input(\"데미지를 몇 입었습니까 : \")\n",
        "    \n",
        "    if a == \"save\":\n",
        "        print(\"저장했습니다.\")\n",
        "        break\n",
        "\n",
        "    else:\n",
        "        hp -= int(a)\n",
        "\n",
        "f.write('%s' % hp)\n",
        "f.close()"
      ],
      "metadata": {
        "colab": {
          "base_uri": "https://localhost:8080/"
        },
        "id": "bBkw4IpHE7a6",
        "outputId": "3c3b5110-0001-43cd-e64d-66619ee6693f"
      },
      "execution_count": null,
      "outputs": [
        {
          "output_type": "stream",
          "name": "stdout",
          "text": [
            "현재 체력은 280 입니다.\n",
            "데미지를 몇 입었습니까 : 10\n",
            "현재 체력은 270 입니다.\n",
            "데미지를 몇 입었습니까 : 50\n",
            "현재 체력은 220 입니다.\n",
            "데미지를 몇 입었습니까 : 100\n",
            "현재 체력은 120 입니다.\n",
            "데미지를 몇 입었습니까 : save\n",
            "저장했습니다.\n"
          ]
        }
      ]
    },
    {
      "cell_type": "code",
      "source": [
        "hp=280\n",
        "print(f'현재 체력은 : {hp}')\n",
        "hit=''\n",
        "while hp>0 and hit !='save':\n",
        "  hit = input('데미지를 입었습니까?')\n",
        "  if hit =='save':\n",
        "    f=open('save.txt','w')\n",
        "    f.write(str(hp))\n",
        "    f.close()\n",
        "  else:\n",
        "    hit = int(hit)\n",
        "    hp -= hit\n",
        "    print(f'체력이 {hp} 남았습니다.')"
      ],
      "metadata": {
        "colab": {
          "base_uri": "https://localhost:8080/"
        },
        "id": "Bq6We6VzIt3E",
        "outputId": "41ec3ecd-8aca-480f-cecb-100af53206ba"
      },
      "execution_count": null,
      "outputs": [
        {
          "name": "stdout",
          "output_type": "stream",
          "text": [
            "현재 체력은 : 280\n",
            "데미지를 입었습니까?200\n",
            "체력이 80 남았습니다.\n",
            "데미지를 입었습니까?save\n"
          ]
        }
      ]
    },
    {
      "cell_type": "code",
      "source": [
        "file_name = 'score'\n",
        "score_list = [80,90,100,50,60,95]\n",
        "f= open(file_name,'w')\n",
        "for i in score_list:\n",
        "  f.write(str(i)+'\\n')\n",
        "f.close()"
      ],
      "metadata": {
        "id": "o_fQkKuNKN1r"
      },
      "execution_count": null,
      "outputs": []
    },
    {
      "cell_type": "code",
      "source": [
        "cat score"
      ],
      "metadata": {
        "colab": {
          "base_uri": "https://localhost:8080/"
        },
        "id": "WeWtTVLYTP4e",
        "outputId": "408e0ae0-cd0a-44e0-a840-bc0706d393ea"
      },
      "execution_count": null,
      "outputs": [
        {
          "output_type": "stream",
          "name": "stdout",
          "text": [
            "80\n",
            "90\n",
            "100\n",
            "50\n",
            "60\n",
            "95\n"
          ]
        }
      ]
    },
    {
      "cell_type": "code",
      "source": [
        "f=open(file_name)\n",
        "sc = f.readlines()\n",
        "f.close()"
      ],
      "metadata": {
        "id": "S62FTeTKSWWc"
      },
      "execution_count": null,
      "outputs": []
    },
    {
      "cell_type": "code",
      "source": [
        "sc"
      ],
      "metadata": {
        "colab": {
          "base_uri": "https://localhost:8080/"
        },
        "id": "j6YlGSJrSwrY",
        "outputId": "02a8290b-7187-4a2b-aa6e-2c2c4bada84c"
      },
      "execution_count": null,
      "outputs": [
        {
          "output_type": "execute_result",
          "data": {
            "text/plain": [
              "['80\\n', '90\\n', '100\\n', '50\\n', '60\\n', '95\\n']"
            ]
          },
          "metadata": {},
          "execution_count": 326
        }
      ]
    },
    {
      "cell_type": "code",
      "source": [
        "sums = 0\n",
        "for i in sc:\n",
        "  sc_int = int(i.strip('\\n'))\n",
        "  sums += sc_int\n",
        "avg = sums/len(sc)\n",
        "print(sums, avg)"
      ],
      "metadata": {
        "colab": {
          "base_uri": "https://localhost:8080/"
        },
        "id": "QerojnUWSWw8",
        "outputId": "1135462f-82d3-4fe1-8280-cf0d9c34c5a2"
      },
      "execution_count": null,
      "outputs": [
        {
          "output_type": "stream",
          "name": "stdout",
          "text": [
            "475 79.16666666666667\n"
          ]
        }
      ]
    },
    {
      "cell_type": "code",
      "source": [
        "int('80\\n')"
      ],
      "metadata": {
        "colab": {
          "base_uri": "https://localhost:8080/"
        },
        "id": "fLVim7-qS8tc",
        "outputId": "492cf05a-da34-4ae4-c5ab-205dc2063e42"
      },
      "execution_count": null,
      "outputs": [
        {
          "output_type": "execute_result",
          "data": {
            "text/plain": [
              "80"
            ]
          },
          "metadata": {},
          "execution_count": 328
        }
      ]
    },
    {
      "cell_type": "code",
      "source": [
        "map(int,sc)"
      ],
      "metadata": {
        "colab": {
          "base_uri": "https://localhost:8080/"
        },
        "id": "6VMYsfKBS---",
        "outputId": "64786fea-4742-48ad-a9ae-2beaa55afdca"
      },
      "execution_count": null,
      "outputs": [
        {
          "output_type": "execute_result",
          "data": {
            "text/plain": [
              "<map at 0x7f4ba540df50>"
            ]
          },
          "metadata": {},
          "execution_count": 329
        }
      ]
    },
    {
      "cell_type": "code",
      "source": [
        "for i in map(int,sc):\n",
        "  print(i)"
      ],
      "metadata": {
        "colab": {
          "base_uri": "https://localhost:8080/"
        },
        "id": "NImVxpGKTbbL",
        "outputId": "ed026273-b6bc-4ac8-eb90-5928ad848bcc"
      },
      "execution_count": null,
      "outputs": [
        {
          "output_type": "stream",
          "name": "stdout",
          "text": [
            "80\n",
            "90\n",
            "100\n",
            "50\n",
            "60\n",
            "95\n"
          ]
        }
      ]
    },
    {
      "cell_type": "code",
      "source": [
        "sc = list(map(int,sc))"
      ],
      "metadata": {
        "id": "cjMWIVoPTfWo"
      },
      "execution_count": null,
      "outputs": []
    },
    {
      "cell_type": "code",
      "source": [
        "sc"
      ],
      "metadata": {
        "colab": {
          "base_uri": "https://localhost:8080/"
        },
        "id": "5OybYpx7Thq0",
        "outputId": "d99523ff-495e-4071-d95b-09cf06383f2c"
      },
      "execution_count": null,
      "outputs": [
        {
          "output_type": "execute_result",
          "data": {
            "text/plain": [
              "[80, 90, 100, 50, 60, 95]"
            ]
          },
          "metadata": {},
          "execution_count": 332
        }
      ]
    },
    {
      "cell_type": "code",
      "source": [
        "f = open('score2.txt','w')\n",
        "f.write('80\\n')\n",
        "f.write('90\\n')\n",
        "f.write('100\\n')\n",
        "f.write('50\\n')\n",
        "f.write('60\\n')\n",
        "f.write('95')\n",
        "\n",
        "\n",
        "data = []\n",
        "sums= 0\n",
        "lines = f.readlines()\n",
        "\n",
        "for line in lines :\n",
        "  data.append(line)\n",
        "for i in range(0,len(data)):\n",
        "  sum += int(data[i])\n",
        "\n",
        "avg = sum/len(data)\n",
        "print(sum)\n",
        "print(avg)\n",
        "\n",
        "f.close()\n"
      ],
      "metadata": {
        "colab": {
          "base_uri": "https://localhost:8080/",
          "height": 248
        },
        "id": "SjCsZSzCJ55I",
        "outputId": "fdd74b6a-272b-44a3-e733-0b159ca2f97b"
      },
      "execution_count": null,
      "outputs": [
        {
          "output_type": "error",
          "ename": "UnsupportedOperation",
          "evalue": "ignored",
          "traceback": [
            "\u001b[0;31m---------------------------------------------------------------------------\u001b[0m",
            "\u001b[0;31mUnsupportedOperation\u001b[0m                      Traceback (most recent call last)",
            "\u001b[0;32m<ipython-input-288-ae660b73d002>\u001b[0m in \u001b[0;36m<module>\u001b[0;34m()\u001b[0m\n\u001b[1;32m     10\u001b[0m \u001b[0mdata\u001b[0m \u001b[0;34m=\u001b[0m \u001b[0;34m[\u001b[0m\u001b[0;34m]\u001b[0m\u001b[0;34m\u001b[0m\u001b[0;34m\u001b[0m\u001b[0m\n\u001b[1;32m     11\u001b[0m \u001b[0msums\u001b[0m\u001b[0;34m=\u001b[0m \u001b[0;36m0\u001b[0m\u001b[0;34m\u001b[0m\u001b[0;34m\u001b[0m\u001b[0m\n\u001b[0;32m---> 12\u001b[0;31m \u001b[0mlines\u001b[0m \u001b[0;34m=\u001b[0m \u001b[0mf\u001b[0m\u001b[0;34m.\u001b[0m\u001b[0mreadlines\u001b[0m\u001b[0;34m(\u001b[0m\u001b[0;34m)\u001b[0m\u001b[0;34m\u001b[0m\u001b[0;34m\u001b[0m\u001b[0m\n\u001b[0m\u001b[1;32m     13\u001b[0m \u001b[0;34m\u001b[0m\u001b[0m\n\u001b[1;32m     14\u001b[0m \u001b[0;32mfor\u001b[0m \u001b[0mline\u001b[0m \u001b[0;32min\u001b[0m \u001b[0mlines\u001b[0m \u001b[0;34m:\u001b[0m\u001b[0;34m\u001b[0m\u001b[0;34m\u001b[0m\u001b[0m\n",
            "\u001b[0;31mUnsupportedOperation\u001b[0m: not readable"
          ]
        }
      ]
    },
    {
      "cell_type": "code",
      "source": [
        "f = open('score2.txt','r')\n",
        "\n",
        "lines = f.read().splitlines() #한줄씩 문자열 읽기 \n",
        "data = []\n",
        "sum=0\n",
        "\n",
        "for line in lines:\n",
        "    data.append(line)\n",
        "\n",
        "for i in range(0,len(data)):\n",
        "    sum += int(data[i])\n",
        "\n",
        "avg = sum/len(data)\n",
        "print(data)\n",
        "print(f'전체 합은 {sum}입니다.')\n",
        "print(f'전체 평균은{avg}입니다.')\n",
        "\n",
        "f.close()"
      ],
      "metadata": {
        "colab": {
          "base_uri": "https://localhost:8080/"
        },
        "id": "v9Gx-NNJLyrl",
        "outputId": "62753fa7-6a81-4d6b-cd47-4db61b556198"
      },
      "execution_count": null,
      "outputs": [
        {
          "output_type": "stream",
          "name": "stdout",
          "text": [
            "['80', '90', '100', '50', '60', '95']\n",
            "전체 합은 475입니다.\n",
            "전체 평균은79.16666666666667입니다.\n"
          ]
        }
      ]
    },
    {
      "cell_type": "code",
      "source": [
        "with open(file_name)as f:\n",
        "  sc = f.readlines"
      ],
      "metadata": {
        "id": "QDdWhXQMTyOE"
      },
      "execution_count": null,
      "outputs": []
    },
    {
      "cell_type": "code",
      "source": [
        ""
      ],
      "metadata": {
        "id": "C3IDZr3NUd3z"
      },
      "execution_count": null,
      "outputs": []
    },
    {
      "cell_type": "code",
      "source": [
        "%%writefile main.c\n",
        "#include<studio.h>\n",
        "\n",
        "int main(){\n",
        "    printf(\"c code\"):\n",
        "    return 0;\n",
        "}\n"
      ],
      "metadata": {
        "colab": {
          "base_uri": "https://localhost:8080/"
        },
        "id": "sScaHKjNUI5T",
        "outputId": "e46c9cce-dc2c-4176-b343-183796f4fe7c"
      },
      "execution_count": null,
      "outputs": [
        {
          "output_type": "stream",
          "name": "stdout",
          "text": [
            "Writing main.c\n"
          ]
        }
      ]
    },
    {
      "cell_type": "code",
      "source": [
        "%%shell\n",
        "gcc main.c\n",
        "./a.out\n",
        "ls"
      ],
      "metadata": {
        "colab": {
          "base_uri": "https://localhost:8080/"
        },
        "id": "Fo8wOoVuUqz2",
        "outputId": "d6062d8b-320c-44b9-d7a8-b1ed860199fb"
      },
      "execution_count": null,
      "outputs": [
        {
          "output_type": "stream",
          "name": "stdout",
          "text": [
            "\u001b[01m\u001b[Kmain.c:1:9:\u001b[m\u001b[K \u001b[01;31m\u001b[Kfatal error: \u001b[m\u001b[Kstudio.h: No such file or directory\n",
            " #include\u001b[01;31m\u001b[K<studio.h>\u001b[m\u001b[K\n",
            "         \u001b[01;31m\u001b[K^~~~~~~~~~\u001b[m\u001b[K\n",
            "compilation terminated.\n",
            "/bin/bash: line 1: ./a.out: No such file or directory\n",
            "main.c\tsample_data  score\n"
          ]
        },
        {
          "output_type": "execute_result",
          "data": {
            "text/plain": [
              ""
            ]
          },
          "metadata": {},
          "execution_count": 335
        }
      ]
    },
    {
      "cell_type": "code",
      "source": [
        "ls"
      ],
      "metadata": {
        "colab": {
          "base_uri": "https://localhost:8080/"
        },
        "id": "8pwtCzdsU_kl",
        "outputId": "ecdd4e03-1f79-40a5-dd0c-9f1c6f0a14a9"
      },
      "execution_count": null,
      "outputs": [
        {
          "output_type": "stream",
          "name": "stdout",
          "text": [
            "main.c  \u001b[0m\u001b[01;34msample_data\u001b[0m/  score\n"
          ]
        }
      ]
    },
    {
      "cell_type": "code",
      "source": [
        "rm *.txt"
      ],
      "metadata": {
        "id": "jWqVzFglVBtz"
      },
      "execution_count": null,
      "outputs": []
    },
    {
      "cell_type": "code",
      "source": [
        "ls"
      ],
      "metadata": {
        "colab": {
          "base_uri": "https://localhost:8080/"
        },
        "id": "qRskuQiQVGFN",
        "outputId": "0e90a220-855b-41b7-845e-95cfbdddf59e"
      },
      "execution_count": null,
      "outputs": [
        {
          "output_type": "stream",
          "name": "stdout",
          "text": [
            "main.c  \u001b[0m\u001b[01;34msample_data\u001b[0m/  score3\n"
          ]
        }
      ]
    },
    {
      "cell_type": "code",
      "source": [
        "!cat score"
      ],
      "metadata": {
        "colab": {
          "base_uri": "https://localhost:8080/"
        },
        "id": "2nAEHzk7VHJY",
        "outputId": "7994596a-eec0-4383-c1d1-addf2ad8a2c9"
      },
      "execution_count": null,
      "outputs": [
        {
          "output_type": "stream",
          "name": "stdout",
          "text": [
            "80\n",
            "90\n",
            "100\n",
            "50\n",
            "60\n",
            "95\n"
          ]
        }
      ]
    },
    {
      "cell_type": "code",
      "source": [
        "!more score"
      ],
      "metadata": {
        "colab": {
          "base_uri": "https://localhost:8080/"
        },
        "id": "xQ2cMgxUVMAh",
        "outputId": "d5a00027-2ee9-45e5-c685-8145b61c35a3"
      },
      "execution_count": null,
      "outputs": [
        {
          "output_type": "stream",
          "name": "stdout",
          "text": [
            "80\n",
            "90\n",
            "100\n",
            "50\n",
            "60\n",
            "95\n"
          ]
        }
      ]
    },
    {
      "cell_type": "code",
      "source": [
        "!tail score"
      ],
      "metadata": {
        "colab": {
          "base_uri": "https://localhost:8080/"
        },
        "id": "zu4FAg92VPGY",
        "outputId": "53f47d2b-b901-40e6-c52c-c99f4c7e87f9"
      },
      "execution_count": null,
      "outputs": [
        {
          "output_type": "stream",
          "name": "stdout",
          "text": [
            "80\n",
            "90\n",
            "100\n",
            "50\n",
            "60\n",
            "95\n"
          ]
        }
      ]
    },
    {
      "cell_type": "code",
      "source": [
        "%%writefile score.py\n",
        "file_name = 'test.b'\n",
        "s = '에이지오브 울트론, 아바타, 인터스텔라, 유스,조커'\n",
        "with open(file_name,'wb') as f:\n",
        "  f.write(s.encode('cp949'))"
      ],
      "metadata": {
        "colab": {
          "base_uri": "https://localhost:8080/"
        },
        "id": "N_--7e9YWS0-",
        "outputId": "2df07e59-91b0-43d6-dc6f-5b803b81acea"
      },
      "execution_count": null,
      "outputs": [
        {
          "output_type": "stream",
          "name": "stdout",
          "text": [
            "Overwriting score.py\n"
          ]
        }
      ]
    },
    {
      "cell_type": "code",
      "source": [
        "ls"
      ],
      "metadata": {
        "colab": {
          "base_uri": "https://localhost:8080/"
        },
        "id": "7_yGIWGUXIaF",
        "outputId": "046a5c34-8007-4bc8-b1c0-9b40fcf2ae21"
      },
      "execution_count": null,
      "outputs": [
        {
          "output_type": "stream",
          "name": "stdout",
          "text": [
            "main.c  \u001b[0m\u001b[01;34msample_data\u001b[0m/  score  score.py\n"
          ]
        }
      ]
    },
    {
      "cell_type": "code",
      "source": [
        "%run score.py"
      ],
      "metadata": {
        "id": "MDgIv-ElXK44"
      },
      "execution_count": null,
      "outputs": []
    },
    {
      "cell_type": "code",
      "source": [
        "ls"
      ],
      "metadata": {
        "colab": {
          "base_uri": "https://localhost:8080/"
        },
        "id": "OitLtqskXNzA",
        "outputId": "b0e76886-82c6-4e5e-8523-7c060d83a895"
      },
      "execution_count": null,
      "outputs": [
        {
          "output_type": "stream",
          "name": "stdout",
          "text": [
            "main.c  \u001b[0m\u001b[01;34msample_data\u001b[0m/  score  score.py  test.b\n"
          ]
        }
      ]
    },
    {
      "cell_type": "code",
      "source": [
        "cat test.b"
      ],
      "metadata": {
        "colab": {
          "base_uri": "https://localhost:8080/"
        },
        "id": "gxbUSn8RXPlH",
        "outputId": "ffb0c21b-c3ad-4da0-c564-3eb576d49ad5"
      },
      "execution_count": null,
      "outputs": [
        {
          "output_type": "stream",
          "name": "stdout",
          "text": [
            "���������� ��Ʈ��, �ƹ�Ÿ, ���ͽ��ڶ�, ����,��Ŀ"
          ]
        }
      ]
    },
    {
      "cell_type": "code",
      "source": [
        "with open(file_name, 'rb')as f:\n",
        "  b_sentence = f.read()"
      ],
      "metadata": {
        "id": "da9uYcsWXRbP"
      },
      "execution_count": null,
      "outputs": []
    },
    {
      "cell_type": "code",
      "source": [
        "b_sentence.decode('cp949')"
      ],
      "metadata": {
        "colab": {
          "base_uri": "https://localhost:8080/",
          "height": 35
        },
        "id": "OSwBgspYXfaZ",
        "outputId": "23524d35-9c6b-402d-c44d-600faac7d177"
      },
      "execution_count": null,
      "outputs": [
        {
          "output_type": "execute_result",
          "data": {
            "text/plain": [
              "'에이지오브 울트론, 아바타, 인터스텔라, 유스,조커'"
            ],
            "application/vnd.google.colaboratory.intrinsic+json": {
              "type": "string"
            }
          },
          "metadata": {},
          "execution_count": 349
        }
      ]
    },
    {
      "cell_type": "code",
      "source": [
        "ord('a')"
      ],
      "metadata": {
        "colab": {
          "base_uri": "https://localhost:8080/"
        },
        "id": "rhODtXJ-YJFm",
        "outputId": "9e667fc7-48cc-4ee3-ba21-94cbc09a2d1b"
      },
      "execution_count": null,
      "outputs": [
        {
          "output_type": "execute_result",
          "data": {
            "text/plain": [
              "97"
            ]
          },
          "metadata": {},
          "execution_count": 350
        }
      ]
    },
    {
      "cell_type": "code",
      "source": [
        "import pickle"
      ],
      "metadata": {
        "id": "xsCxwSBBZnWT"
      },
      "execution_count": null,
      "outputs": []
    },
    {
      "cell_type": "code",
      "source": [
        "s"
      ],
      "metadata": {
        "colab": {
          "base_uri": "https://localhost:8080/",
          "height": 35
        },
        "id": "wp21TdfaZ5U3",
        "outputId": "8dc9236a-49f1-45b2-9fee-02b5f149a123"
      },
      "execution_count": null,
      "outputs": [
        {
          "output_type": "execute_result",
          "data": {
            "text/plain": [
              "'에이지오브 울트론, 아바타, 인터스텔라, 유스,조커'"
            ],
            "application/vnd.google.colaboratory.intrinsic+json": {
              "type": "string"
            }
          },
          "metadata": {},
          "execution_count": 352
        }
      ]
    },
    {
      "cell_type": "code",
      "source": [
        "my_list = ['mac book','toure']\n",
        "my_dict = {'영화':s, '연습장':'colab'}"
      ],
      "metadata": {
        "id": "2xIJx0ZhZ6Ld"
      },
      "execution_count": null,
      "outputs": []
    },
    {
      "cell_type": "code",
      "source": [
        "with open('data.pickle','wb')as f:\n",
        "  pickle.dump(my_list,f)\n",
        "  pickle.dump(my_dict, f)"
      ],
      "metadata": {
        "id": "cRfk6mk8aEJm"
      },
      "execution_count": null,
      "outputs": []
    },
    {
      "cell_type": "code",
      "source": [
        "ls"
      ],
      "metadata": {
        "colab": {
          "base_uri": "https://localhost:8080/"
        },
        "id": "xZqZwZkMaQBP",
        "outputId": "301710fb-3ed4-414c-ffd6-6d47e25b670a"
      },
      "execution_count": null,
      "outputs": [
        {
          "output_type": "stream",
          "name": "stdout",
          "text": [
            "data.pickle  main.c  \u001b[0m\u001b[01;34msample_data\u001b[0m/  score  score.py  test.b\n"
          ]
        }
      ]
    },
    {
      "cell_type": "code",
      "source": [
        "cat data.pickle"
      ],
      "metadata": {
        "colab": {
          "base_uri": "https://localhost:8080/"
        },
        "id": "ApHRFboWaR6z",
        "outputId": "b6558c75-3f09-4e92-bb79-3f385540e6a6"
      },
      "execution_count": null,
      "outputs": [
        {
          "output_type": "stream",
          "name": "stdout",
          "text": [
            "�\u0003]q\u0000(X\b\u0000\u0000\u0000mac bookq\u0001X\u0005\u0000\u0000\u0000toureq\u0002e.�\u0003}q\u0000(X\u0006\u0000\u0000\u0000영화q\u0001XD\u0000\u0000\u0000에이지오브 울트론, 아바타, 인터스텔라, 유스,조커q\u0002X\t\u0000\u0000\u0000연습장q\u0003X\u0005\u0000\u0000\u0000colabq\u0004u."
          ]
        }
      ]
    },
    {
      "cell_type": "code",
      "source": [
        "with open('data.pickle','rb')as f :\n",
        "  x = pickle.load(f)\n",
        "  y= pickle.load(f)"
      ],
      "metadata": {
        "id": "QPGhe2_9alA6"
      },
      "execution_count": null,
      "outputs": []
    },
    {
      "cell_type": "code",
      "source": [
        "x"
      ],
      "metadata": {
        "colab": {
          "base_uri": "https://localhost:8080/"
        },
        "id": "W-HtbIGDa8CY",
        "outputId": "b698cd0e-84d6-423c-dc8e-7cbce807c10f"
      },
      "execution_count": null,
      "outputs": [
        {
          "output_type": "execute_result",
          "data": {
            "text/plain": [
              "['mac book', 'toure']"
            ]
          },
          "metadata": {},
          "execution_count": 359
        }
      ]
    },
    {
      "cell_type": "code",
      "source": [
        "y"
      ],
      "metadata": {
        "colab": {
          "base_uri": "https://localhost:8080/"
        },
        "id": "2l8MS9yLa8tJ",
        "outputId": "eea64576-e9cd-4415-a72a-0678344f240f"
      },
      "execution_count": null,
      "outputs": [
        {
          "output_type": "execute_result",
          "data": {
            "text/plain": [
              "{'연습장': 'colab', '영화': '에이지오브 울트론, 아바타, 인터스텔라, 유스,조커'}"
            ]
          },
          "metadata": {},
          "execution_count": 360
        }
      ]
    }
  ]
}