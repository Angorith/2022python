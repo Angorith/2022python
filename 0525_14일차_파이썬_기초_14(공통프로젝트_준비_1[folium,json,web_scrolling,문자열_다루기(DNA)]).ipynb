{
  "nbformat": 4,
  "nbformat_minor": 0,
  "metadata": {
    "colab": {
      "name": "0525 14일차 파이썬 기초 14(공통프로젝트 준비 1[folium,json,web_scrolling,문자열 다루기(DNA)]).ipynb",
      "provenance": [],
      "collapsed_sections": [],
      "authorship_tag": "ABX9TyM2/vjZyREmAQSOzMdCofw6",
      "include_colab_link": true
    },
    "kernelspec": {
      "name": "python3",
      "display_name": "Python 3"
    },
    "language_info": {
      "name": "python"
    }
  },
  "cells": [
    {
      "cell_type": "markdown",
      "metadata": {
        "id": "view-in-github",
        "colab_type": "text"
      },
      "source": [
        "<a href=\"https://colab.research.google.com/github/Angorith/acorn_python/blob/main/0525_14%EC%9D%BC%EC%B0%A8_%ED%8C%8C%EC%9D%B4%EC%8D%AC_%EA%B8%B0%EC%B4%88_14(%EA%B3%B5%ED%86%B5%ED%94%84%EB%A1%9C%EC%A0%9D%ED%8A%B8_%EC%A4%80%EB%B9%84_1%5Bfolium%2Cjson%2Cweb_scrolling%2C%EB%AC%B8%EC%9E%90%EC%97%B4_%EB%8B%A4%EB%A3%A8%EA%B8%B0(DNA)%5D).ipynb\" target=\"_parent\"><img src=\"https://colab.research.google.com/assets/colab-badge.svg\" alt=\"Open In Colab\"/></a>"
      ]
    },
    {
      "cell_type": "code",
      "execution_count": null,
      "metadata": {
        "id": "wON9Wk0ShTWo"
      },
      "outputs": [],
      "source": [
        "import folium"
      ]
    },
    {
      "cell_type": "code",
      "source": [
        "def FoliumMap(datas, save_files):\n",
        "    maps = folium.Map(location=[37.5602, 126.982], zoom_start = 7, tiles= 'Stamen Terrain') #지도 열었을 때, 어디가 나오는지\n",
        "\n",
        "    for name in datas:\n",
        "        latitude = datas[name][0]#위도\n",
        "        longitude = datas[name][1]#경도\n",
        "        folium.CircleMarker([latitude, longitude], radius =4, color='red', fill_color='red',popup=name).add_to(maps)\n",
        "    maps.save(save_files)"
      ],
      "metadata": {
        "id": "flOSePDtii91"
      },
      "execution_count": null,
      "outputs": []
    },
    {
      "cell_type": "code",
      "source": [
        "data ={\n",
        "    'Ieodo':[32.116883, 125.166683]\n",
        "}"
      ],
      "metadata": {
        "id": "olBSqrFGik0E"
      },
      "execution_count": null,
      "outputs": []
    },
    {
      "cell_type": "code",
      "source": [
        "FoliumMap(data, 'test.html')"
      ],
      "metadata": {
        "id": "3vOkZQSsinD7"
      },
      "execution_count": null,
      "outputs": []
    },
    {
      "cell_type": "code",
      "source": [
        "import json\n",
        "def get_data(file_names):\n",
        "    with open(file_names) as f:\n",
        "        datas = json.load(f)\n",
        "    print(f)\n",
        "    return (datas)"
      ],
      "metadata": {
        "id": "T1s-pKr4io-n"
      },
      "execution_count": null,
      "outputs": []
    },
    {
      "cell_type": "code",
      "source": [
        "data = get_data('restroom.json')"
      ],
      "metadata": {
        "colab": {
          "base_uri": "https://localhost:8080/",
          "height": 303
        },
        "id": "g0cG75VcjPPC",
        "outputId": "fc2877cb-29bf-400f-89b0-d61f53296a20"
      },
      "execution_count": null,
      "outputs": [
        {
          "output_type": "error",
          "ename": "FileNotFoundError",
          "evalue": "ignored",
          "traceback": [
            "\u001b[0;31m---------------------------------------------------------------------------\u001b[0m",
            "\u001b[0;31mFileNotFoundError\u001b[0m                         Traceback (most recent call last)",
            "\u001b[0;32m<ipython-input-6-200c1df1d6d8>\u001b[0m in \u001b[0;36m<module>\u001b[0;34m()\u001b[0m\n\u001b[0;32m----> 1\u001b[0;31m \u001b[0mdata\u001b[0m \u001b[0;34m=\u001b[0m \u001b[0mget_data\u001b[0m\u001b[0;34m(\u001b[0m\u001b[0;34m'restroom.json'\u001b[0m\u001b[0;34m)\u001b[0m\u001b[0;34m\u001b[0m\u001b[0;34m\u001b[0m\u001b[0m\n\u001b[0m",
            "\u001b[0;32m<ipython-input-5-da8b10c858c1>\u001b[0m in \u001b[0;36mget_data\u001b[0;34m(file_names)\u001b[0m\n\u001b[1;32m      1\u001b[0m \u001b[0;32mimport\u001b[0m \u001b[0mjson\u001b[0m\u001b[0;34m\u001b[0m\u001b[0;34m\u001b[0m\u001b[0m\n\u001b[1;32m      2\u001b[0m \u001b[0;32mdef\u001b[0m \u001b[0mget_data\u001b[0m\u001b[0;34m(\u001b[0m\u001b[0mfile_names\u001b[0m\u001b[0;34m)\u001b[0m\u001b[0;34m:\u001b[0m\u001b[0;34m\u001b[0m\u001b[0;34m\u001b[0m\u001b[0m\n\u001b[0;32m----> 3\u001b[0;31m     \u001b[0;32mwith\u001b[0m \u001b[0mopen\u001b[0m\u001b[0;34m(\u001b[0m\u001b[0mfile_names\u001b[0m\u001b[0;34m)\u001b[0m \u001b[0;32mas\u001b[0m \u001b[0mf\u001b[0m\u001b[0;34m:\u001b[0m\u001b[0;34m\u001b[0m\u001b[0;34m\u001b[0m\u001b[0m\n\u001b[0m\u001b[1;32m      4\u001b[0m         \u001b[0mdatas\u001b[0m \u001b[0;34m=\u001b[0m \u001b[0mjson\u001b[0m\u001b[0;34m.\u001b[0m\u001b[0mload\u001b[0m\u001b[0;34m(\u001b[0m\u001b[0mf\u001b[0m\u001b[0;34m)\u001b[0m\u001b[0;34m\u001b[0m\u001b[0;34m\u001b[0m\u001b[0m\n\u001b[1;32m      5\u001b[0m     \u001b[0mprint\u001b[0m\u001b[0;34m(\u001b[0m\u001b[0mf\u001b[0m\u001b[0;34m)\u001b[0m\u001b[0;34m\u001b[0m\u001b[0;34m\u001b[0m\u001b[0m\n",
            "\u001b[0;31mFileNotFoundError\u001b[0m: [Errno 2] No such file or directory: 'restroom.json'"
          ]
        }
      ]
    },
    {
      "cell_type": "code",
      "source": [
        "with open('restroom.json') as f:\n",
        "    datas = json.load(f)"
      ],
      "metadata": {
        "id": "lf9EKVerjWEF"
      },
      "execution_count": null,
      "outputs": []
    },
    {
      "cell_type": "code",
      "source": [
        "def FoliumMap(datas, save_files):\n",
        "    maps = folium.Map(location=[37.5602, 126.982], zoom_start = 7, tiles= 'Stamen Terrain') #지도 열었을 때, 어디가 나오는지\n",
        "\n",
        "    for inum , name in enumerate(datas,keys()):\n",
        "        latitude = datas[name][0]#위도\n",
        "        longitude = datas[name][1]#경도\n",
        "        folium.CircleMarker([latitude, longitude], radius =4, color='red', fill_color='red',popup=name).add_to(maps)\n",
        "    maps.save(save_files)"
      ],
      "metadata": {
        "id": "3N9X2JYjkDQd"
      },
      "execution_count": null,
      "outputs": []
    },
    {
      "cell_type": "code",
      "source": [
        "for i in data:\n",
        "    print(i)"
      ],
      "metadata": {
        "id": "zr8hIZmUjguM"
      },
      "execution_count": null,
      "outputs": []
    },
    {
      "cell_type": "code",
      "source": [
        "for i in data :\n",
        "    try:\n",
        "        name = i['PBCTLT_PLC_NM']\n",
        "        lat = i['REFINE_WGS84_LAT']\n",
        "        log = i['REFINE_WGS84_LOGT']\n",
        "    except Exception as e:\n",
        "        pass\n",
        "    print(name,lat,log)"
      ],
      "metadata": {
        "id": "HCUWVsKwjrgz"
      },
      "execution_count": null,
      "outputs": []
    },
    {
      "cell_type": "code",
      "source": [
        "def FoliumMap(datas, save_files):\n",
        "    maps = folium.Map(location=[37.5602, 126.982], zoom_start =7, tiles= 'cartodbpositron') #지도 열었을 때, 어디가 나오는지\n",
        "\n",
        "    for i in datas :\n",
        "        try:\n",
        "            name = i['PBCTLT_PLC_NM']\n",
        "            lat = float(i['REFINE_WGS84_LAT'])\n",
        "            lon = float(i['REFINE_WGS84_LOGT'])\n",
        "        except Exception as e:\n",
        "            pass\n",
        "        folium.CircleMarker([lat, lon], radius =4, color='red', fill_color='red',popup=str(name)).add_to(maps)\n",
        "    maps.save(save_files)"
      ],
      "metadata": {
        "id": "1A_jcOrulvmN"
      },
      "execution_count": null,
      "outputs": []
    },
    {
      "cell_type": "code",
      "source": [
        "FoliumMap(data,'restroom.html')"
      ],
      "metadata": {
        "id": "xmWb_zg6nZdi"
      },
      "execution_count": null,
      "outputs": []
    },
    {
      "cell_type": "code",
      "source": [
        "data ={\n",
        "    'Ieodo':[32.116883, 125.166683]\n",
        "    \n",
        "    }"
      ],
      "metadata": {
        "id": "IVtl01TDl1sN"
      },
      "execution_count": null,
      "outputs": []
    },
    {
      "cell_type": "code",
      "source": [
        "from bs4 import BeautifulSoup"
      ],
      "metadata": {
        "id": "R7zIdFEq2GHR"
      },
      "execution_count": null,
      "outputs": []
    },
    {
      "cell_type": "code",
      "source": [
        "page = open('test.html','r').read()"
      ],
      "metadata": {
        "id": "R_rioLfH2KQR"
      },
      "execution_count": null,
      "outputs": []
    },
    {
      "cell_type": "code",
      "source": [
        "page"
      ],
      "metadata": {
        "colab": {
          "base_uri": "https://localhost:8080/",
          "height": 182
        },
        "id": "UFxJkJ7E2lxf",
        "outputId": "7f2254ea-70c0-43bb-a7c8-7865157c95ab"
      },
      "execution_count": null,
      "outputs": [
        {
          "output_type": "execute_result",
          "data": {
            "text/plain": [
              "'<!DOCTYPE html>\\n<head>    \\n    <meta http-equiv=\"content-type\" content=\"text/html; charset=UTF-8\" />\\n    <script>L_PREFER_CANVAS=false; L_NO_TOUCH=false; L_DISABLE_3D=false;</script>\\n    <script src=\"https://cdn.jsdelivr.net/npm/leaflet@1.4.0/dist/leaflet.js\"></script>\\n    <script src=\"https://code.jquery.com/jquery-1.12.4.min.js\"></script>\\n    <script src=\"https://maxcdn.bootstrapcdn.com/bootstrap/3.2.0/js/bootstrap.min.js\"></script>\\n    <script src=\"https://cdnjs.cloudflare.com/ajax/libs/Leaflet.awesome-markers/2.0.2/leaflet.awesome-markers.js\"></script>\\n    <link rel=\"stylesheet\" href=\"https://cdn.jsdelivr.net/npm/leaflet@1.4.0/dist/leaflet.css\"/>\\n    <link rel=\"stylesheet\" href=\"https://maxcdn.bootstrapcdn.com/bootstrap/3.2.0/css/bootstrap.min.css\"/>\\n    <link rel=\"stylesheet\" href=\"https://maxcdn.bootstrapcdn.com/bootstrap/3.2.0/css/bootstrap-theme.min.css\"/>\\n    <link rel=\"stylesheet\" href=\"https://maxcdn.bootstrapcdn.com/font-awesome/4.6.3/css/font-awesome.min.css\"/>\\n    <link rel=\"stylesheet\" href=\"https://cdnjs.cloudflare.com/ajax/libs/Leaflet.awesome-markers/2.0.2/leaflet.awesome-markers.css\"/>\\n    <link rel=\"stylesheet\" href=\"https://rawcdn.githack.com/python-visualization/folium/master/folium/templates/leaflet.awesome.rotate.css\"/>\\n    <style>html, body {width: 100%;height: 100%;margin: 0;padding: 0;}</style>\\n    <style>#map {position:absolute;top:0;bottom:0;right:0;left:0;}</style>\\n    \\n    <meta name=\"viewport\" content=\"width=device-width,\\n        initial-scale=1.0, maximum-scale=1.0, user-scalable=no\" />\\n    <style>#map_8c925696b9d8d5cd9e70df0ee1f2f94e {\\n        position: relative;\\n        width: 100.0%;\\n        height: 100.0%;\\n        left: 0.0%;\\n        top: 0.0%;\\n        }\\n    </style>\\n</head>\\n<body>    \\n    \\n    <div class=\"folium-map\" id=\"map_8c925696b9d8d5cd9e70df0ee1f2f94e\" ></div>\\n</body>\\n<script>    \\n    \\n    \\n        var bounds = null;\\n    \\n\\n    var map_8c925696b9d8d5cd9e70df0ee1f2f94e = L.map(\\n        \\'map_8c925696b9d8d5cd9e70df0ee1f2f94e\\', {\\n        center: [37.5602, 126.982],\\n        zoom: 7,\\n        maxBounds: bounds,\\n        layers: [],\\n        worldCopyJump: false,\\n        crs: L.CRS.EPSG3857,\\n        zoomControl: true,\\n        });\\n\\n\\n    \\n    var tile_layer_670946b40637901e5c0bc9ad51b75504 = L.tileLayer(\\n        \\'https://stamen-tiles-{s}.a.ssl.fastly.net/terrain/{z}/{x}/{y}.jpg\\',\\n        {\\n        \"attribution\": null,\\n        \"detectRetina\": false,\\n        \"maxNativeZoom\": 18,\\n        \"maxZoom\": 18,\\n        \"minZoom\": 0,\\n        \"noWrap\": false,\\n        \"opacity\": 1,\\n        \"subdomains\": \"abc\",\\n        \"tms\": false\\n}).addTo(map_8c925696b9d8d5cd9e70df0ee1f2f94e);\\n    \\n            var circle_marker_f033ace7a9fdd989039a9a77bd64dca0 = L.circleMarker(\\n                [32.116883, 125.166683],\\n                {\\n  \"bubblingMouseEvents\": true,\\n  \"color\": \"red\",\\n  \"dashArray\": null,\\n  \"dashOffset\": null,\\n  \"fill\": true,\\n  \"fillColor\": \"red\",\\n  \"fillOpacity\": 0.2,\\n  \"fillRule\": \"evenodd\",\\n  \"lineCap\": \"round\",\\n  \"lineJoin\": \"round\",\\n  \"opacity\": 1.0,\\n  \"radius\": 4,\\n  \"stroke\": true,\\n  \"weight\": 3\\n}\\n                )\\n                .addTo(map_8c925696b9d8d5cd9e70df0ee1f2f94e);\\n            \\n    \\n            var popup_17d838641ad03579f710d9819ae8bfee = L.popup({maxWidth: \\'100%\\'\\n            \\n            });\\n\\n            \\n                var html_cfd1269008cb0355326ac46c7086301d = $(`<div id=\"html_cfd1269008cb0355326ac46c7086301d\" style=\"width: 100.0%; height: 100.0%;\">Ieodo</div>`)[0];\\n                popup_17d838641ad03579f710d9819ae8bfee.setContent(html_cfd1269008cb0355326ac46c7086301d);\\n            \\n\\n            circle_marker_f033ace7a9fdd989039a9a77bd64dca0.bindPopup(popup_17d838641ad03579f710d9819ae8bfee)\\n            ;\\n\\n            \\n        \\n</script>'"
            ],
            "application/vnd.google.colaboratory.intrinsic+json": {
              "type": "string"
            }
          },
          "metadata": {},
          "execution_count": 32
        }
      ]
    },
    {
      "cell_type": "code",
      "source": [
        "soup = BeautifulSoup(page, 'html.parser')"
      ],
      "metadata": {
        "id": "oH6gnBHT25nd"
      },
      "execution_count": null,
      "outputs": []
    },
    {
      "cell_type": "code",
      "source": [
        "type(soup)"
      ],
      "metadata": {
        "colab": {
          "base_uri": "https://localhost:8080/"
        },
        "id": "9A5Q0ZwA3IXP",
        "outputId": "21d3a69a-8867-44b6-9895-34bd67216643"
      },
      "execution_count": null,
      "outputs": [
        {
          "output_type": "execute_result",
          "data": {
            "text/plain": [
              "bs4.BeautifulSoup"
            ]
          },
          "metadata": {},
          "execution_count": 34
        }
      ]
    },
    {
      "cell_type": "code",
      "source": [
        "soup"
      ],
      "metadata": {
        "id": "fX584r_H3kR6"
      },
      "execution_count": null,
      "outputs": []
    },
    {
      "cell_type": "code",
      "source": [
        "soup_list = list(soup.children)"
      ],
      "metadata": {
        "id": "zLeKx5Yi3RPy"
      },
      "execution_count": null,
      "outputs": []
    },
    {
      "cell_type": "code",
      "source": [
        "body = soup.body"
      ],
      "metadata": {
        "id": "vrLZvJ4b38XJ"
      },
      "execution_count": null,
      "outputs": []
    },
    {
      "cell_type": "code",
      "source": [
        "body"
      ],
      "metadata": {
        "colab": {
          "base_uri": "https://localhost:8080/"
        },
        "id": "6MDTCW4E6TD6",
        "outputId": "4e3e4763-79f5-4830-c2bb-8f6c530250df"
      },
      "execution_count": null,
      "outputs": [
        {
          "output_type": "execute_result",
          "data": {
            "text/plain": [
              "<body>\n",
              "<div class=\"folium-map\" id=\"map_8c925696b9d8d5cd9e70df0ee1f2f94e\"></div>\n",
              "</body>"
            ]
          },
          "metadata": {},
          "execution_count": 45
        }
      ]
    },
    {
      "cell_type": "code",
      "source": [
        "type(body)"
      ],
      "metadata": {
        "colab": {
          "base_uri": "https://localhost:8080/"
        },
        "id": "SJR12BTO6IT_",
        "outputId": "667d4aa2-d6b3-4093-e03c-f89586921183"
      },
      "execution_count": null,
      "outputs": [
        {
          "output_type": "execute_result",
          "data": {
            "text/plain": [
              "bs4.element.Tag"
            ]
          },
          "metadata": {},
          "execution_count": 43
        }
      ]
    },
    {
      "cell_type": "code",
      "source": [
        "body.find_all('div')"
      ],
      "metadata": {
        "colab": {
          "base_uri": "https://localhost:8080/"
        },
        "id": "VtR9jIW_6OFO",
        "outputId": "19dfe713-078a-4d78-aef3-6f32ec8241e2"
      },
      "execution_count": null,
      "outputs": [
        {
          "output_type": "execute_result",
          "data": {
            "text/plain": [
              "[<div class=\"folium-map\" id=\"map_8c925696b9d8d5cd9e70df0ee1f2f94e\"></div>]"
            ]
          },
          "metadata": {},
          "execution_count": 44
        }
      ]
    },
    {
      "cell_type": "code",
      "source": [
        "list(soup.children)[2].find_all('')"
      ],
      "metadata": {
        "colab": {
          "base_uri": "https://localhost:8080/"
        },
        "id": "Wu1cx0LR6U3U",
        "outputId": "011dff23-ed39-4a4c-ef96-983f1c53e9ea"
      },
      "execution_count": null,
      "outputs": [
        {
          "output_type": "execute_result",
          "data": {
            "text/plain": [
              "[]"
            ]
          },
          "metadata": {},
          "execution_count": 53
        }
      ]
    },
    {
      "cell_type": "code",
      "source": [
        "list(soup.children)"
      ],
      "metadata": {
        "id": "-unxeVaL9MGZ"
      },
      "execution_count": null,
      "outputs": []
    },
    {
      "cell_type": "code",
      "source": [
        "for i in list(soup.children):\n",
        "    print(i)"
      ],
      "metadata": {
        "id": "o183qm6m9IsV"
      },
      "execution_count": null,
      "outputs": []
    },
    {
      "cell_type": "code",
      "source": [
        "type(soup.find('div'))"
      ],
      "metadata": {
        "colab": {
          "base_uri": "https://localhost:8080/"
        },
        "id": "OYw64Y4e9ZSy",
        "outputId": "2da3da66-e211-4d9a-9147-f42ad2ce34c8"
      },
      "execution_count": null,
      "outputs": [
        {
          "output_type": "execute_result",
          "data": {
            "text/plain": [
              "bs4.element.Tag"
            ]
          },
          "metadata": {},
          "execution_count": 59
        }
      ]
    },
    {
      "cell_type": "code",
      "source": [
        "type(soup.find_all('div'))"
      ],
      "metadata": {
        "colab": {
          "base_uri": "https://localhost:8080/"
        },
        "id": "Da9DceCt9pfl",
        "outputId": "599432ae-8e99-4d1d-a2a4-0427578712e3"
      },
      "execution_count": null,
      "outputs": [
        {
          "output_type": "execute_result",
          "data": {
            "text/plain": [
              "bs4.element.ResultSet"
            ]
          },
          "metadata": {},
          "execution_count": 60
        }
      ]
    },
    {
      "cell_type": "code",
      "source": [
        "soup.find_all('div')"
      ],
      "metadata": {
        "colab": {
          "base_uri": "https://localhost:8080/"
        },
        "id": "2phDsO02-AkN",
        "outputId": "90dba191-e6b5-444e-95bc-11afc9ec51b5"
      },
      "execution_count": null,
      "outputs": [
        {
          "output_type": "execute_result",
          "data": {
            "text/plain": [
              "[<div class=\"folium-map\" id=\"map_8c925696b9d8d5cd9e70df0ee1f2f94e\"></div>]"
            ]
          },
          "metadata": {},
          "execution_count": 61
        }
      ]
    },
    {
      "cell_type": "code",
      "source": [
        "soup.head"
      ],
      "metadata": {
        "colab": {
          "base_uri": "https://localhost:8080/"
        },
        "id": "LNMUoHsV-p2x",
        "outputId": "8e31e2d2-d441-4f32-f1b1-318ef734ea77"
      },
      "execution_count": null,
      "outputs": [
        {
          "output_type": "execute_result",
          "data": {
            "text/plain": [
              "<head>\n",
              "<meta content=\"text/html; charset=utf-8\" http-equiv=\"content-type\"/>\n",
              "<script>L_PREFER_CANVAS=false; L_NO_TOUCH=false; L_DISABLE_3D=false;</script>\n",
              "<script src=\"https://cdn.jsdelivr.net/npm/leaflet@1.4.0/dist/leaflet.js\"></script>\n",
              "<script src=\"https://code.jquery.com/jquery-1.12.4.min.js\"></script>\n",
              "<script src=\"https://maxcdn.bootstrapcdn.com/bootstrap/3.2.0/js/bootstrap.min.js\"></script>\n",
              "<script src=\"https://cdnjs.cloudflare.com/ajax/libs/Leaflet.awesome-markers/2.0.2/leaflet.awesome-markers.js\"></script>\n",
              "<link href=\"https://cdn.jsdelivr.net/npm/leaflet@1.4.0/dist/leaflet.css\" rel=\"stylesheet\"/>\n",
              "<link href=\"https://maxcdn.bootstrapcdn.com/bootstrap/3.2.0/css/bootstrap.min.css\" rel=\"stylesheet\"/>\n",
              "<link href=\"https://maxcdn.bootstrapcdn.com/bootstrap/3.2.0/css/bootstrap-theme.min.css\" rel=\"stylesheet\"/>\n",
              "<link href=\"https://maxcdn.bootstrapcdn.com/font-awesome/4.6.3/css/font-awesome.min.css\" rel=\"stylesheet\"/>\n",
              "<link href=\"https://cdnjs.cloudflare.com/ajax/libs/Leaflet.awesome-markers/2.0.2/leaflet.awesome-markers.css\" rel=\"stylesheet\"/>\n",
              "<link href=\"https://rawcdn.githack.com/python-visualization/folium/master/folium/templates/leaflet.awesome.rotate.css\" rel=\"stylesheet\"/>\n",
              "<style>html, body {width: 100%;height: 100%;margin: 0;padding: 0;}</style>\n",
              "<style>#map {position:absolute;top:0;bottom:0;right:0;left:0;}</style>\n",
              "<meta content=\"width=device-width,\n",
              "        initial-scale=1.0, maximum-scale=1.0, user-scalable=no\" name=\"viewport\"/>\n",
              "<style>#map_8c925696b9d8d5cd9e70df0ee1f2f94e {\n",
              "        position: relative;\n",
              "        width: 100.0%;\n",
              "        height: 100.0%;\n",
              "        left: 0.0%;\n",
              "        top: 0.0%;\n",
              "        }\n",
              "    </style>\n",
              "</head>"
            ]
          },
          "metadata": {},
          "execution_count": 63
        }
      ]
    },
    {
      "cell_type": "code",
      "source": [
        "soup.head.next_sibling"
      ],
      "metadata": {
        "colab": {
          "base_uri": "https://localhost:8080/",
          "height": 35
        },
        "id": "r5XcOTTS-lF3",
        "outputId": "6ce3ec44-84f5-4362-e7c5-6556e073af1a"
      },
      "execution_count": null,
      "outputs": [
        {
          "output_type": "execute_result",
          "data": {
            "text/plain": [
              "'\\n'"
            ],
            "application/vnd.google.colaboratory.intrinsic+json": {
              "type": "string"
            }
          },
          "metadata": {},
          "execution_count": 67
        }
      ]
    },
    {
      "cell_type": "code",
      "source": [
        "body"
      ],
      "metadata": {
        "colab": {
          "base_uri": "https://localhost:8080/"
        },
        "id": "eDaZz8A7-yLa",
        "outputId": "1a1a2c0d-db17-4060-c989-e6cd2cddc894"
      },
      "execution_count": null,
      "outputs": [
        {
          "output_type": "execute_result",
          "data": {
            "text/plain": [
              "<body>\n",
              "<div class=\"folium-map\" id=\"map_8c925696b9d8d5cd9e70df0ee1f2f94e\"></div>\n",
              "</body>"
            ]
          },
          "metadata": {},
          "execution_count": 68
        }
      ]
    },
    {
      "cell_type": "code",
      "source": [
        "body.div"
      ],
      "metadata": {
        "colab": {
          "base_uri": "https://localhost:8080/"
        },
        "id": "veV_Rt4K-zeI",
        "outputId": "b98356f0-5615-4d26-8667-c4fb379da9e2"
      },
      "execution_count": null,
      "outputs": [
        {
          "output_type": "execute_result",
          "data": {
            "text/plain": [
              "<div class=\"folium-map\" id=\"map_8c925696b9d8d5cd9e70df0ee1f2f94e\"></div>"
            ]
          },
          "metadata": {},
          "execution_count": 69
        }
      ]
    },
    {
      "cell_type": "code",
      "source": [
        "page = '''\n",
        "<!DOCTYPE html>\n",
        "<html>\n",
        " <head>\n",
        "  <title>\n",
        "   Very Simple HTML Code by TDC\n",
        "  </title>\n",
        " </head>\n",
        " <body>\n",
        "  <div>\n",
        "   <p class=\"inner-text first-item\" id=\"first\">\n",
        "    Happy TDC.\n",
        "    <a href=\"http://www.tdc.kr\" id=\"tdc\">\n",
        "     TDC\n",
        "    </a>\n",
        "   </p>\n",
        "   <p class=\"inner-text second-item\">\n",
        "    Happy Data Science.\n",
        "    <a href=\"https://www.python.org\" id=\"tdc\">\n",
        "     Python\n",
        "    </a>\n",
        "   </p>\n",
        "  </div>\n",
        "  <p class=\"outer-text first-item\" id=\"second\">\n",
        "   <b>\n",
        "    Data Science is funny.\n",
        "   </b>\n",
        "  </p>\n",
        "  <p class=\"outer-text\">\n",
        "   <b>\n",
        "    All I need is Love.\n",
        "   </b>\n",
        "  </p>\n",
        " </body>\n",
        "</html>\n",
        "\n",
        "'''"
      ],
      "metadata": {
        "id": "cuUmKpf7_K37"
      },
      "execution_count": null,
      "outputs": []
    },
    {
      "cell_type": "code",
      "source": [
        "page"
      ],
      "metadata": {
        "colab": {
          "base_uri": "https://localhost:8080/",
          "height": 127
        },
        "id": "6WeZjRtL_O2r",
        "outputId": "194e3e91-9f6d-4aca-a3f8-2824a7fec3f9"
      },
      "execution_count": null,
      "outputs": [
        {
          "output_type": "execute_result",
          "data": {
            "text/plain": [
              "'\\n<!DOCTYPE html>\\n<html>\\n <head>\\n  <title>\\n   Very Simple HTML Code by TDC\\n  </title>\\n </head>\\n <body>\\n  <div>\\n   <p class=\"inner-text first-item\" id=\"first\">\\n    Happy TDC.\\n    <a href=\"http://www.tdc.kr\" id=\"tdc\">\\n     TDC\\n    </a>\\n   </p>\\n   <p class=\"inner-text second-item\">\\n    Happy Data Science.\\n    <a href=\"https://www.python.org\" id=\"tdc\">\\n     Python\\n    </a>\\n   </p>\\n  </div>\\n  <p class=\"outer-text first-item\" id=\"second\">\\n   <b>\\n    Data Science is funny.\\n   </b>\\n  </p>\\n  <p class=\"outer-text\">\\n   <b>\\n    All I need is Love.\\n   </b>\\n  </p>\\n </body>\\n</html>\\n\\n'"
            ],
            "application/vnd.google.colaboratory.intrinsic+json": {
              "type": "string"
            }
          },
          "metadata": {},
          "execution_count": 72
        }
      ]
    },
    {
      "cell_type": "code",
      "source": [
        "soup = BeautifulSoup(page, 'html.parser') #html 객체로 생성"
      ],
      "metadata": {
        "id": "S7Rg2sJI_W3y"
      },
      "execution_count": null,
      "outputs": []
    },
    {
      "cell_type": "code",
      "source": [
        "soup"
      ],
      "metadata": {
        "colab": {
          "base_uri": "https://localhost:8080/"
        },
        "id": "dQD4iOj6_afD",
        "outputId": "a16b177a-6b71-4e43-d843-f4b2750efa31"
      },
      "execution_count": null,
      "outputs": [
        {
          "output_type": "execute_result",
          "data": {
            "text/plain": [
              "\n",
              "<!DOCTYPE html>\n",
              "\n",
              "<html>\n",
              "<head>\n",
              "<title>\n",
              "   Very Simple HTML Code by TDC\n",
              "  </title>\n",
              "</head>\n",
              "<body>\n",
              "<div>\n",
              "<p class=\"inner-text first-item\" id=\"first\">\n",
              "    Happy TDC.\n",
              "    <a href=\"http://www.tdc.kr\" id=\"tdc\">\n",
              "     TDC\n",
              "    </a>\n",
              "</p>\n",
              "<p class=\"inner-text second-item\">\n",
              "    Happy Data Science.\n",
              "    <a href=\"https://www.python.org\" id=\"tdc\">\n",
              "     Python\n",
              "    </a>\n",
              "</p>\n",
              "</div>\n",
              "<p class=\"outer-text first-item\" id=\"second\">\n",
              "<b>\n",
              "    Data Science is funny.\n",
              "   </b>\n",
              "</p>\n",
              "<p class=\"outer-text\">\n",
              "<b>\n",
              "    All I need is Love.\n",
              "   </b>\n",
              "</p>\n",
              "</body>\n",
              "</html>"
            ]
          },
          "metadata": {},
          "execution_count": 74
        }
      ]
    },
    {
      "cell_type": "code",
      "source": [
        "soup.find_all('p')"
      ],
      "metadata": {
        "colab": {
          "base_uri": "https://localhost:8080/"
        },
        "id": "af3TdXTQ_mVH",
        "outputId": "59f82b7a-eb40-482b-e571-43973a0effaf"
      },
      "execution_count": null,
      "outputs": [
        {
          "output_type": "execute_result",
          "data": {
            "text/plain": [
              "[<p class=\"inner-text first-item\" id=\"first\">\n",
              "     Happy TDC.\n",
              "     <a href=\"http://www.tdc.kr\" id=\"tdc\">\n",
              "      TDC\n",
              "     </a>\n",
              " </p>, <p class=\"inner-text second-item\">\n",
              "     Happy Data Science.\n",
              "     <a href=\"https://www.python.org\" id=\"tdc\">\n",
              "      Python\n",
              "     </a>\n",
              " </p>, <p class=\"outer-text first-item\" id=\"second\">\n",
              " <b>\n",
              "     Data Science is funny.\n",
              "    </b>\n",
              " </p>, <p class=\"outer-text\">\n",
              " <b>\n",
              "     All I need is Love.\n",
              "    </b>\n",
              " </p>]"
            ]
          },
          "metadata": {},
          "execution_count": 75
        }
      ]
    },
    {
      "cell_type": "code",
      "source": [
        "soup.find('p').get_text()"
      ],
      "metadata": {
        "colab": {
          "base_uri": "https://localhost:8080/",
          "height": 35
        },
        "id": "P7TwxvKa_qF_",
        "outputId": "6441e40f-d16b-4233-8563-a9ac317ea9ca"
      },
      "execution_count": null,
      "outputs": [
        {
          "output_type": "execute_result",
          "data": {
            "text/plain": [
              "'\\n    Happy TDC.\\n    \\n     TDC\\n    \\n'"
            ],
            "application/vnd.google.colaboratory.intrinsic+json": {
              "type": "string"
            }
          },
          "metadata": {},
          "execution_count": 78
        }
      ]
    },
    {
      "cell_type": "code",
      "source": [
        "soup.body.find_all('p')"
      ],
      "metadata": {
        "colab": {
          "base_uri": "https://localhost:8080/"
        },
        "id": "SdTawMmy_-Ta",
        "outputId": "6bbd231d-5b8a-4148-9e4c-e9de354e102a"
      },
      "execution_count": null,
      "outputs": [
        {
          "output_type": "execute_result",
          "data": {
            "text/plain": [
              "[<p class=\"inner-text first-item\" id=\"first\">\n",
              "     Happy TDC.\n",
              "     <a href=\"http://www.tdc.kr\" id=\"tdc\">\n",
              "      TDC\n",
              "     </a>\n",
              " </p>, <p class=\"inner-text second-item\">\n",
              "     Happy Data Science.\n",
              "     <a href=\"https://www.python.org\" id=\"tdc\">\n",
              "      Python\n",
              "     </a>\n",
              " </p>, <p class=\"outer-text first-item\" id=\"second\">\n",
              " <b>\n",
              "     Data Science is funny.\n",
              "    </b>\n",
              " </p>, <p class=\"outer-text\">\n",
              " <b>\n",
              "     All I need is Love.\n",
              "    </b>\n",
              " </p>]"
            ]
          },
          "metadata": {},
          "execution_count": 83
        }
      ]
    },
    {
      "cell_type": "code",
      "source": [
        "for i in soup.body.find_all('p'):\n",
        "    print(i)"
      ],
      "metadata": {
        "colab": {
          "base_uri": "https://localhost:8080/"
        },
        "id": "C5E2WuKKAP3E",
        "outputId": "a30c0bf6-0431-41ae-a7e5-8dba84faadc7"
      },
      "execution_count": null,
      "outputs": [
        {
          "output_type": "stream",
          "name": "stdout",
          "text": [
            "<p class=\"inner-text first-item\" id=\"first\">\n",
            "    Happy TDC.\n",
            "    <a href=\"http://www.tdc.kr\" id=\"tdc\">\n",
            "     TDC\n",
            "    </a>\n",
            "</p>\n",
            "<p class=\"inner-text second-item\">\n",
            "    Happy Data Science.\n",
            "    <a href=\"https://www.python.org\" id=\"tdc\">\n",
            "     Python\n",
            "    </a>\n",
            "</p>\n",
            "<p class=\"outer-text first-item\" id=\"second\">\n",
            "<b>\n",
            "    Data Science is funny.\n",
            "   </b>\n",
            "</p>\n",
            "<p class=\"outer-text\">\n",
            "<b>\n",
            "    All I need is Love.\n",
            "   </b>\n",
            "</p>\n"
          ]
        }
      ]
    },
    {
      "cell_type": "code",
      "source": [
        "url = 'https://www.chicagomag.com/chicago-magazine/january-2021/the-four-best-pimiento-cheeses/'"
      ],
      "metadata": {
        "id": "Ao4LuN0nB5YR"
      },
      "execution_count": null,
      "outputs": []
    },
    {
      "cell_type": "code",
      "source": [
        "from urllib.request import urlopen"
      ],
      "metadata": {
        "id": "ZMY1zuMwAbJL"
      },
      "execution_count": null,
      "outputs": []
    },
    {
      "cell_type": "code",
      "source": [
        "url = \"https://finance.naver.com/sise/sise_index.naver?code=KOSPI\""
      ],
      "metadata": {
        "id": "jNihpEk9CeF7"
      },
      "execution_count": null,
      "outputs": []
    },
    {
      "cell_type": "code",
      "source": [
        "page = urlopen(url)"
      ],
      "metadata": {
        "id": "snZSO1qNCKbw"
      },
      "execution_count": null,
      "outputs": []
    },
    {
      "cell_type": "code",
      "source": [
        "type(page)"
      ],
      "metadata": {
        "colab": {
          "base_uri": "https://localhost:8080/"
        },
        "id": "E-Lnp4QOClmM",
        "outputId": "110a2b61-05a5-4299-ebd7-beedf86ab6a5"
      },
      "execution_count": null,
      "outputs": [
        {
          "output_type": "execute_result",
          "data": {
            "text/plain": [
              "http.client.HTTPResponse"
            ]
          },
          "metadata": {},
          "execution_count": 92
        }
      ]
    },
    {
      "cell_type": "markdown",
      "source": [
        ""
      ],
      "metadata": {
        "id": "TLvfZD-KvYY_"
      }
    },
    {
      "cell_type": "code",
      "source": [
        "soup = BeautifulSoup(page, 'html.parser')"
      ],
      "metadata": {
        "id": "UnHUndyZC1UD"
      },
      "execution_count": null,
      "outputs": []
    },
    {
      "cell_type": "code",
      "source": [
        "soup.find_all('em')"
      ],
      "metadata": {
        "colab": {
          "base_uri": "https://localhost:8080/"
        },
        "id": "sHh355JsC8i9",
        "outputId": "ecfca4bf-5cda-45e3-c2f9-3e8bc79664bc"
      },
      "execution_count": null,
      "outputs": [
        {
          "output_type": "execute_result",
          "data": {
            "text/plain": [
              "[<em id=\"now_value\">2,622.85</em>,\n",
              " <em>시황</em>,\n",
              " <em>시황정보</em>,\n",
              " <em>Copyright ©</em>]"
            ]
          },
          "metadata": {},
          "execution_count": 96
        }
      ]
    },
    {
      "cell_type": "code",
      "source": [
        "from  urllib.request import urlopen, Request"
      ],
      "metadata": {
        "id": "q657s_LzEgpf"
      },
      "execution_count": null,
      "outputs": []
    },
    {
      "cell_type": "code",
      "source": [
        "url = 'https://www.chicagomag.com/chicago-magazine/january-2021/the-four-best-pimiento-cheeses/'"
      ],
      "metadata": {
        "id": "RY5-ay1rE76x"
      },
      "execution_count": null,
      "outputs": []
    },
    {
      "cell_type": "code",
      "source": [
        "hdr= {'User-Agent': 'Mozilla/5.0'}"
      ],
      "metadata": {
        "id": "x1MkZR97EkgQ"
      },
      "execution_count": null,
      "outputs": []
    },
    {
      "cell_type": "code",
      "source": [
        "req = Request(url,headers=hdr)"
      ],
      "metadata": {
        "id": "EfDGpbK2EpGV"
      },
      "execution_count": null,
      "outputs": []
    },
    {
      "cell_type": "code",
      "source": [
        "page = urlopen(req)"
      ],
      "metadata": {
        "id": "FL_qnKC6E_gA"
      },
      "execution_count": null,
      "outputs": []
    },
    {
      "cell_type": "code",
      "source": [
        "soup = BeautifulSoup(page, 'html.parser')"
      ],
      "metadata": {
        "id": "m7veHWkrFB8Y"
      },
      "execution_count": null,
      "outputs": []
    },
    {
      "cell_type": "code",
      "source": [
        "soup"
      ],
      "metadata": {
        "id": "CATvxKBqFOL2"
      },
      "execution_count": null,
      "outputs": []
    },
    {
      "cell_type": "code",
      "source": [
        "soup.find_all('div','article-body')"
      ],
      "metadata": {
        "colab": {
          "base_uri": "https://localhost:8080/"
        },
        "id": "QbsXqj-sFnmC",
        "outputId": "4825b951-07b2-4b3c-92ab-f3811338eca0"
      },
      "execution_count": null,
      "outputs": [
        {
          "output_type": "execute_result",
          "data": {
            "text/plain": [
              "[<div class=\"article-body\">\n",
              " <h2><span class=\"drop-cap drop-cap-number\" style=\"color: white;\">1</span> Big Jones</h2>\n",
              " <p>Paul Fehribach layers textures and flavors in his superlative version. The thick, sharp spread (made with Hook’s cheddar, Duke’s mayo, house Worcestershire sauce, and roasted pimientos) comes topped with crisp, vinegary chow-chow and is served alongside crunchy benne seed crackers. <em>$8. 5347 N. Clark St., Andersonville</em></p>\n",
              " <h2><span class=\"drop-cap drop-cap-number\" style=\"color: white;\">2</span> Virtue</h2>\n",
              " <p>Erick Williams’s tangy, herby secret-recipe pimiento cheese would be delicious on its own, but spreading it onto the accompanying warm, honey-drizzled biscuits takes it to another level. <em>$6. 1462 E. 53rd St., Hyde Park</em></p>\n",
              " <h2><span class=\"drop-cap drop-cap-number\" style=\"color: white;\">3</span> Tempesta Market</h2>\n",
              " <p>The key to the Italian deli’s amped-up take: a mix of roasted red peppers for sweetness and Calabrian chiles for spicy notes, which cut right through the rich spread. <em>$9.99. 1372 W. Grand Ave., West Town</em></p>\n",
              " <h2><span class=\"drop-cap drop-cap-number\" style=\"color: white;\">4</span> Barnaby’s of Northbrook</h2>\n",
              " <p>For decades, Barnaby’s set out vats of its no-frills snack for patrons to nosh on while waiting for pizza. Mild and almost liquid, the oddly satisfying cheese is now sold to go with Ritz. <em>$5. 960 Skokie Blvd., Northbrook</em></p>\n",
              " </div>]"
            ]
          },
          "metadata": {},
          "execution_count": 111
        }
      ]
    },
    {
      "cell_type": "code",
      "source": [
        "type(soup.find_all('div','article-body'))"
      ],
      "metadata": {
        "colab": {
          "base_uri": "https://localhost:8080/"
        },
        "id": "h_kgPCRmF5Md",
        "outputId": "6c8dfd93-c7cd-4728-f330-24e3f9cd7731"
      },
      "execution_count": null,
      "outputs": [
        {
          "output_type": "execute_result",
          "data": {
            "text/plain": [
              "bs4.element.Tag"
            ]
          },
          "metadata": {},
          "execution_count": 113
        }
      ]
    },
    {
      "cell_type": "code",
      "source": [
        "tmp = soup.find_all('div','article-body')[0]"
      ],
      "metadata": {
        "id": "mJ6ZxGZHGI8b"
      },
      "execution_count": null,
      "outputs": []
    },
    {
      "cell_type": "code",
      "source": [
        "tmp"
      ],
      "metadata": {
        "id": "-fhUsH8WTnO9"
      },
      "execution_count": null,
      "outputs": []
    },
    {
      "cell_type": "code",
      "source": [
        "type(tmp.find_all('h2'))"
      ],
      "metadata": {
        "colab": {
          "base_uri": "https://localhost:8080/"
        },
        "id": "O29UdTcRGTDN",
        "outputId": "87540e48-e82a-495c-c786-eccb8db3f33e"
      },
      "execution_count": null,
      "outputs": [
        {
          "output_type": "execute_result",
          "data": {
            "text/plain": [
              "bs4.element.ResultSet"
            ]
          },
          "metadata": {},
          "execution_count": 119
        }
      ]
    },
    {
      "cell_type": "code",
      "source": [
        "for i in tmp.find_all('h2'):\n",
        "    print(i )"
      ],
      "metadata": {
        "colab": {
          "base_uri": "https://localhost:8080/"
        },
        "id": "DHbCnEE5Gc8D",
        "outputId": "52458fc9-de66-488b-a2f8-5d8e3620bb91"
      },
      "execution_count": null,
      "outputs": [
        {
          "output_type": "stream",
          "name": "stdout",
          "text": [
            "<h2><span class=\"drop-cap drop-cap-number\" style=\"color: white;\">1</span> Big Jones</h2>\n",
            "<h2><span class=\"drop-cap drop-cap-number\" style=\"color: white;\">2</span> Virtue</h2>\n",
            "<h2><span class=\"drop-cap drop-cap-number\" style=\"color: white;\">3</span> Tempesta Market</h2>\n",
            "<h2><span class=\"drop-cap drop-cap-number\" style=\"color: white;\">4</span> Barnaby’s of Northbrook</h2>\n"
          ]
        }
      ]
    },
    {
      "cell_type": "code",
      "source": [
        "for i in tmp.find_all('p'):\n",
        "    print(i)"
      ],
      "metadata": {
        "colab": {
          "base_uri": "https://localhost:8080/"
        },
        "id": "onMm4bV_KXvw",
        "outputId": "e51713be-c247-4f37-f5e2-6329425f4e4e"
      },
      "execution_count": null,
      "outputs": [
        {
          "output_type": "stream",
          "name": "stdout",
          "text": [
            "<p>Paul Fehribach layers textures and flavors in his superlative version. The thick, sharp spread (made with Hook’s cheddar, Duke’s mayo, house Worcestershire sauce, and roasted pimientos) comes topped with crisp, vinegary chow-chow and is served alongside crunchy benne seed crackers. <em>$8. 5347 N. Clark St., Andersonville</em></p>\n",
            "<p>Erick Williams’s tangy, herby secret-recipe pimiento cheese would be delicious on its own, but spreading it onto the accompanying warm, honey-drizzled biscuits takes it to another level. <em>$6. 1462 E. 53rd St., Hyde Park</em></p>\n",
            "<p>The key to the Italian deli’s amped-up take: a mix of roasted red peppers for sweetness and Calabrian chiles for spicy notes, which cut right through the rich spread. <em>$9.99. 1372 W. Grand Ave., West Town</em></p>\n",
            "<p>For decades, Barnaby’s set out vats of its no-frills snack for patrons to nosh on while waiting for pizza. Mild and almost liquid, the oddly satisfying cheese is now sold to go with Ritz. <em>$5. 960 Skokie Blvd., Northbrook</em></p>\n"
          ]
        }
      ]
    },
    {
      "cell_type": "code",
      "source": [
        "for i in tmp.find_all('h2'):\n",
        "    print(i.get_text())"
      ],
      "metadata": {
        "colab": {
          "base_uri": "https://localhost:8080/"
        },
        "id": "PDeJsyP_KxOk",
        "outputId": "f6da5575-475a-4c0c-8a6b-25f20bc099bc"
      },
      "execution_count": null,
      "outputs": [
        {
          "output_type": "stream",
          "name": "stdout",
          "text": [
            "1 Big Jones\n",
            "2 Virtue\n",
            "3 Tempesta Market\n",
            "4 Barnaby’s of Northbrook\n"
          ]
        }
      ]
    },
    {
      "cell_type": "code",
      "source": [
        "rank_list = []\n",
        "name_list = []\n",
        "for i in tmp.find_all('h2'):\n",
        "    dummy_txt = i.get_text().split()\n",
        "    name_list.append(' '.join(dummy_txt[1:]))\n",
        "    rank_list.append(dummy_txt[0])"
      ],
      "metadata": {
        "id": "tdT_93C8K7uW"
      },
      "execution_count": null,
      "outputs": []
    },
    {
      "cell_type": "code",
      "source": [
        "rank_list"
      ],
      "metadata": {
        "colab": {
          "base_uri": "https://localhost:8080/"
        },
        "id": "zn0_vJThLjws",
        "outputId": "3c1fc0ac-d95b-4489-98b5-171defd0c34f"
      },
      "execution_count": null,
      "outputs": [
        {
          "output_type": "execute_result",
          "data": {
            "text/plain": [
              "['1', '2', '3', '4']"
            ]
          },
          "metadata": {},
          "execution_count": 128
        }
      ]
    },
    {
      "cell_type": "code",
      "source": [
        "rank_list, name_list"
      ],
      "metadata": {
        "colab": {
          "base_uri": "https://localhost:8080/"
        },
        "id": "v6pvSLO8MOFS",
        "outputId": "9e1f2c02-82d8-4d65-c668-9139f7cb6e62"
      },
      "execution_count": null,
      "outputs": [
        {
          "output_type": "execute_result",
          "data": {
            "text/plain": [
              "(['1', '2', '3', '4'],\n",
              " ['Big Jones', 'Virtue', 'Tempesta Market', 'Barnaby’s of Northbrook'])"
            ]
          },
          "metadata": {},
          "execution_count": 133
        }
      ]
    },
    {
      "cell_type": "code",
      "source": [
        "money_list = []\n",
        "address_list = []\n",
        "for i in tmp.find_all('p'):\n",
        "    sample_txt = i.get_text()\n",
        "    idx_of_dollar = sample_txt.index('$')\n",
        "    #print(idx_of_dollar)\n",
        "    money_address = sample_txt[idx_of_dollar:].split()\n",
        "    money_list.append(money_address[0])\n",
        "    #print(money_list)\n",
        "    address = ' '.join(money_address[1:])\n",
        "    #print(address)\n",
        "    address_list.append(address)\n"
      ],
      "metadata": {
        "id": "Ub4doX3QMTBa"
      },
      "execution_count": null,
      "outputs": []
    },
    {
      "cell_type": "code",
      "source": [
        "'testss'.index('e')"
      ],
      "metadata": {
        "colab": {
          "base_uri": "https://localhost:8080/"
        },
        "id": "QVxald3QM94y",
        "outputId": "81d77390-8c6a-49b9-dc24-b9d728bef3e4"
      },
      "execution_count": null,
      "outputs": [
        {
          "output_type": "execute_result",
          "data": {
            "text/plain": [
              "1"
            ]
          },
          "metadata": {},
          "execution_count": 139
        }
      ]
    },
    {
      "cell_type": "code",
      "source": [
        "money_list, address_list"
      ],
      "metadata": {
        "colab": {
          "base_uri": "https://localhost:8080/"
        },
        "id": "ZfzQ24tYOCze",
        "outputId": "7696f3b6-16ab-4fa9-d000-938bd21c657b"
      },
      "execution_count": null,
      "outputs": [
        {
          "output_type": "execute_result",
          "data": {
            "text/plain": [
              "(['$8.', '$6.', '$9.99.', '$5.'],\n",
              " ['5347 N. Clark St., Andersonville',\n",
              "  '1462 E. 53rd St., Hyde Park',\n",
              "  '1372 W. Grand Ave., West Town',\n",
              "  '960 Skokie Blvd., Northbrook'])"
            ]
          },
          "metadata": {},
          "execution_count": 148
        }
      ]
    },
    {
      "cell_type": "code",
      "source": [
        "data = {'rank' : rank_list, 'name': name_list, 'money' : money_list, 'address': address_list}"
      ],
      "metadata": {
        "id": "WUZFhRvKOM3d"
      },
      "execution_count": null,
      "outputs": []
    },
    {
      "cell_type": "code",
      "source": [
        "data"
      ],
      "metadata": {
        "colab": {
          "base_uri": "https://localhost:8080/"
        },
        "id": "U8-hrz1UOXrT",
        "outputId": "52ea42ed-c022-4859-82cc-b91ab10af1c0"
      },
      "execution_count": null,
      "outputs": [
        {
          "output_type": "execute_result",
          "data": {
            "text/plain": [
              "{'address': ['5347 N. Clark St., Andersonville',\n",
              "  '1462 E. 53rd St., Hyde Park',\n",
              "  '1372 W. Grand Ave., West Town',\n",
              "  '960 Skokie Blvd., Northbrook'],\n",
              " 'money': ['$8.', '$6.', '$9.99.', '$5.'],\n",
              " 'name': ['Big Jones', 'Virtue', 'Tempesta Market', 'Barnaby’s of Northbrook'],\n",
              " 'rank': ['1', '2', '3', '4']}"
            ]
          },
          "metadata": {},
          "execution_count": 150
        }
      ]
    },
    {
      "cell_type": "code",
      "source": [
        "import pandas as pd"
      ],
      "metadata": {
        "id": "NXzv8mYvOaCg"
      },
      "execution_count": null,
      "outputs": []
    },
    {
      "cell_type": "code",
      "source": [
        "df = pd.DataFrame(data)"
      ],
      "metadata": {
        "id": "bGMYILbGOmD6"
      },
      "execution_count": null,
      "outputs": []
    },
    {
      "cell_type": "code",
      "source": [
        "df"
      ],
      "metadata": {
        "colab": {
          "base_uri": "https://localhost:8080/",
          "height": 175
        },
        "id": "OrAQXsmMOo2q",
        "outputId": "3c37bab8-d1df-40f8-a014-38ecaeaf3394"
      },
      "execution_count": null,
      "outputs": [
        {
          "output_type": "execute_result",
          "data": {
            "text/plain": [
              "  rank                     name   money                           address\n",
              "0    1                Big Jones     $8.  5347 N. Clark St., Andersonville\n",
              "1    2                   Virtue     $6.       1462 E. 53rd St., Hyde Park\n",
              "2    3          Tempesta Market  $9.99.     1372 W. Grand Ave., West Town\n",
              "3    4  Barnaby’s of Northbrook     $5.      960 Skokie Blvd., Northbrook"
            ],
            "text/html": [
              "\n",
              "  <div id=\"df-77e8c322-756c-4e52-a36c-6a8b57c1c461\">\n",
              "    <div class=\"colab-df-container\">\n",
              "      <div>\n",
              "<style scoped>\n",
              "    .dataframe tbody tr th:only-of-type {\n",
              "        vertical-align: middle;\n",
              "    }\n",
              "\n",
              "    .dataframe tbody tr th {\n",
              "        vertical-align: top;\n",
              "    }\n",
              "\n",
              "    .dataframe thead th {\n",
              "        text-align: right;\n",
              "    }\n",
              "</style>\n",
              "<table border=\"1\" class=\"dataframe\">\n",
              "  <thead>\n",
              "    <tr style=\"text-align: right;\">\n",
              "      <th></th>\n",
              "      <th>rank</th>\n",
              "      <th>name</th>\n",
              "      <th>money</th>\n",
              "      <th>address</th>\n",
              "    </tr>\n",
              "  </thead>\n",
              "  <tbody>\n",
              "    <tr>\n",
              "      <th>0</th>\n",
              "      <td>1</td>\n",
              "      <td>Big Jones</td>\n",
              "      <td>$8.</td>\n",
              "      <td>5347 N. Clark St., Andersonville</td>\n",
              "    </tr>\n",
              "    <tr>\n",
              "      <th>1</th>\n",
              "      <td>2</td>\n",
              "      <td>Virtue</td>\n",
              "      <td>$6.</td>\n",
              "      <td>1462 E. 53rd St., Hyde Park</td>\n",
              "    </tr>\n",
              "    <tr>\n",
              "      <th>2</th>\n",
              "      <td>3</td>\n",
              "      <td>Tempesta Market</td>\n",
              "      <td>$9.99.</td>\n",
              "      <td>1372 W. Grand Ave., West Town</td>\n",
              "    </tr>\n",
              "    <tr>\n",
              "      <th>3</th>\n",
              "      <td>4</td>\n",
              "      <td>Barnaby’s of Northbrook</td>\n",
              "      <td>$5.</td>\n",
              "      <td>960 Skokie Blvd., Northbrook</td>\n",
              "    </tr>\n",
              "  </tbody>\n",
              "</table>\n",
              "</div>\n",
              "      <button class=\"colab-df-convert\" onclick=\"convertToInteractive('df-77e8c322-756c-4e52-a36c-6a8b57c1c461')\"\n",
              "              title=\"Convert this dataframe to an interactive table.\"\n",
              "              style=\"display:none;\">\n",
              "        \n",
              "  <svg xmlns=\"http://www.w3.org/2000/svg\" height=\"24px\"viewBox=\"0 0 24 24\"\n",
              "       width=\"24px\">\n",
              "    <path d=\"M0 0h24v24H0V0z\" fill=\"none\"/>\n",
              "    <path d=\"M18.56 5.44l.94 2.06.94-2.06 2.06-.94-2.06-.94-.94-2.06-.94 2.06-2.06.94zm-11 1L8.5 8.5l.94-2.06 2.06-.94-2.06-.94L8.5 2.5l-.94 2.06-2.06.94zm10 10l.94 2.06.94-2.06 2.06-.94-2.06-.94-.94-2.06-.94 2.06-2.06.94z\"/><path d=\"M17.41 7.96l-1.37-1.37c-.4-.4-.92-.59-1.43-.59-.52 0-1.04.2-1.43.59L10.3 9.45l-7.72 7.72c-.78.78-.78 2.05 0 2.83L4 21.41c.39.39.9.59 1.41.59.51 0 1.02-.2 1.41-.59l7.78-7.78 2.81-2.81c.8-.78.8-2.07 0-2.86zM5.41 20L4 18.59l7.72-7.72 1.47 1.35L5.41 20z\"/>\n",
              "  </svg>\n",
              "      </button>\n",
              "      \n",
              "  <style>\n",
              "    .colab-df-container {\n",
              "      display:flex;\n",
              "      flex-wrap:wrap;\n",
              "      gap: 12px;\n",
              "    }\n",
              "\n",
              "    .colab-df-convert {\n",
              "      background-color: #E8F0FE;\n",
              "      border: none;\n",
              "      border-radius: 50%;\n",
              "      cursor: pointer;\n",
              "      display: none;\n",
              "      fill: #1967D2;\n",
              "      height: 32px;\n",
              "      padding: 0 0 0 0;\n",
              "      width: 32px;\n",
              "    }\n",
              "\n",
              "    .colab-df-convert:hover {\n",
              "      background-color: #E2EBFA;\n",
              "      box-shadow: 0px 1px 2px rgba(60, 64, 67, 0.3), 0px 1px 3px 1px rgba(60, 64, 67, 0.15);\n",
              "      fill: #174EA6;\n",
              "    }\n",
              "\n",
              "    [theme=dark] .colab-df-convert {\n",
              "      background-color: #3B4455;\n",
              "      fill: #D2E3FC;\n",
              "    }\n",
              "\n",
              "    [theme=dark] .colab-df-convert:hover {\n",
              "      background-color: #434B5C;\n",
              "      box-shadow: 0px 1px 3px 1px rgba(0, 0, 0, 0.15);\n",
              "      filter: drop-shadow(0px 1px 2px rgba(0, 0, 0, 0.3));\n",
              "      fill: #FFFFFF;\n",
              "    }\n",
              "  </style>\n",
              "\n",
              "      <script>\n",
              "        const buttonEl =\n",
              "          document.querySelector('#df-77e8c322-756c-4e52-a36c-6a8b57c1c461 button.colab-df-convert');\n",
              "        buttonEl.style.display =\n",
              "          google.colab.kernel.accessAllowed ? 'block' : 'none';\n",
              "\n",
              "        async function convertToInteractive(key) {\n",
              "          const element = document.querySelector('#df-77e8c322-756c-4e52-a36c-6a8b57c1c461');\n",
              "          const dataTable =\n",
              "            await google.colab.kernel.invokeFunction('convertToInteractive',\n",
              "                                                     [key], {});\n",
              "          if (!dataTable) return;\n",
              "\n",
              "          const docLinkHtml = 'Like what you see? Visit the ' +\n",
              "            '<a target=\"_blank\" href=https://colab.research.google.com/notebooks/data_table.ipynb>data table notebook</a>'\n",
              "            + ' to learn more about interactive tables.';\n",
              "          element.innerHTML = '';\n",
              "          dataTable['output_type'] = 'display_data';\n",
              "          await google.colab.output.renderOutput(dataTable, element);\n",
              "          const docLink = document.createElement('div');\n",
              "          docLink.innerHTML = docLinkHtml;\n",
              "          element.appendChild(docLink);\n",
              "        }\n",
              "      </script>\n",
              "    </div>\n",
              "  </div>\n",
              "  "
            ]
          },
          "metadata": {},
          "execution_count": 153
        }
      ]
    },
    {
      "cell_type": "markdown",
      "source": [
        "# **주소에 있는 문장 불러오기 선언**"
      ],
      "metadata": {
        "id": "wnBmlh7Ps5tt"
      }
    },
    {
      "cell_type": "code",
      "source": [
        "from  urllib.request import urlopen, Request\n",
        "url = 'https://www.mangoplate.com/top_lists/1953_rooftop_all'\n",
        "hdr= {'User-Agent': 'Mozilla/5.0'}\n",
        "req = Request(url,headers=hdr)\n",
        "page = urlopen(req)\n",
        "soup = BeautifulSoup(page, 'html.parser')"
      ],
      "metadata": {
        "id": "6THamyK7QO1B"
      },
      "execution_count": null,
      "outputs": []
    },
    {
      "cell_type": "code",
      "source": [
        "soup"
      ],
      "metadata": {
        "id": "5ggVSNPyRYg1",
        "colab": {
          "base_uri": "https://localhost:8080/"
        },
        "outputId": "f4702f13-5198-42b7-e65f-28431109a9b3"
      },
      "execution_count": null,
      "outputs": [
        {
          "output_type": "execute_result",
          "data": {
            "text/plain": [
              "<!DOCTYPE html>\n",
              "\n",
              "<html lang=\"ko\">\n",
              "<head>\n",
              "<meta content=\"#ff792a\" name=\"theme-color\"/>\n",
              "<meta content=\"text/html; charset=utf-8\" http-equiv=\"Content-Type\"/>\n",
              "<meta content=\"IE=edge\" http-equiv=\"X-UA-Compatible\"/>\n",
              "<meta content=\"width=device-width, initial-scale=1.0, maximum-scale=1.0, user-scalable=no\" name=\"viewport\">\n",
              "<meta content=\"telephone=no\" name=\"format-detection\">\n",
              "<meta content=\"루프탑 맛집 베스트 60곳 베스트 60곳\" name=\"subject\"/>\n",
              "<meta content=\"망고플레이트가 선정한 루프탑 맛집 베스트 60곳\" name=\"description\"/>\n",
              "<meta content=\"루프탑, 야외카페, 옥상카페, 옥상, 야외, 옥상식당, 정원, 야경, 뷰, 루프탑레스토랑, 루프탑 레스토랑, 루프탑 카페, 옥상 카페, 옥상 식당, 루프 탑, 뷰맛집, 센터커피, 포비, 르디투어, 더백푸드트럭, 이다, 어반루프, 카페메이븐, 비비커피, 정지영커피로스터즈, 잠수교집, 구스아일랜드 브루하우스, 독수리다방, 올드페리도넛, 음레코드, 오잇, The Finest, Cafe de 220VOLT, 코타티, 만선호프, 사유, 그린마일커피, 인왕산대충유원지, 곳, Bake29s, 카페아르크, 카페아키라, 5to7, 어그리커피, 카페연무장, 어느멋진날카페, 카린 영도 플레이스, Cafe105, 공극샌드커피, 매트그린, 버뮤다트라이앵글, 알베르, 어니언, 루프808, 수하담, 끼룩하우스, 사이드노트클럽, 오후의홍차, 오프닛, 반쥴, 명랑스낵, 낭만카페, 프레스커피, 팬케이크샵, 브레드쏭, 콜렉티보커피X사층빵집, 디퍼, 스페이스작, 루프탑클라우드, 월정리로와, 아루감, 루나씨엘로, 미르마르, 에어플레인모드, 미디엄스톤, 엣지993, 루프탑클라우드, 반쥴, 독수리다방, 월정리로와, 더백푸드트럭, 명랑스낵, 음레코드, 어니언, 사유, 팬케이크샵, 포비, 낭만카페, 수하담, 정지영커피로스터즈, 프레스커피, 비비커피, 끼룩하우스, 카린 영도 플레이스, Cafe de 220VOLT, 루프808, 그린마일커피, 카페아키라, 이다, 인왕산대충유원지, 콜렉티보커피X사층빵집, 카페아르크, 버뮤다트라이앵글, 센터커피, 올드페리도넛, 만선호프, 구스아일랜드 브루하우스, 알베르, 5to7, Bake29s, Cafe105, 곳, 르디투어, 매트그린, 브레드쏭, 사이드노트클럽, 스페이스작, 아루감, 어느멋진날카페, 어반루프, 에어플레인모드, 오후의홍차, The Finest, 공극샌드커피, 디퍼, 루나씨엘로, 미디엄스톤, 미르마르, 어그리커피, 엣지993, 오잇, 오프닛, 잠수교집, 카페메이븐, 카페연무장, 코타티\" name=\"keywords\"/>\n",
              "<meta content=\"https://mp-seoul-image-production-s3.mangoplate.com/keyword_search/meta/pictures/7aq3u-dlqswklat_.jpg\" name=\"image\">\n",
              "<meta content=\"http://www.mangoplate.com/top_lists/1953_rooftop_all\" property=\"og:url\">\n",
              "<meta content=\"website\" property=\"og:type\">\n",
              "<meta content=\"루프탑 맛집 베스트 60곳\" property=\"og:title\">\n",
              "<meta content=\"따뜻한 햇살과 함께 입이 더 즐거워지는 완벽한 시간:)\" property=\"og:description\"/>\n",
              "<meta content=\"https://mp-seoul-image-production-s3.mangoplate.com/keyword_search/meta/pictures/7aq3u-dlqswklat_.jpg\" property=\"og:image\"/>\n",
              "<link href=\"https://www.mangoplate.com/amp/top_lists/1953_rooftop_all\" rel=\"amphtml\"/>\n",
              "<!-- Twitter Meta -->\n",
              "<meta content=\"summary_large_image\" property=\"twitter:card\"/>\n",
              "<meta content=\"@MangoPlate\" property=\"twitter:site\"/>\n",
              "<meta content=\"http://www.mangoplate.com/top_lists/1953_rooftop_all\" property=\"twitter:url\"/>\n",
              "<meta content=\"루프탑 맛집 베스트 60곳 베스트 60곳\" property=\"twitter:title\"/>\n",
              "<meta content=\"망고플레이트가 선정한 루프탑 맛집 베스트 60곳\" property=\"twitter:description\"/>\n",
              "<meta content=\"https://mp-seoul-image-production-s3.mangoplate.com/keyword_search/meta/pictures/7aq3u-dlqswklat_.jpg\" property=\"twitter:image\"/>\n",
              "<meta content=\"476661545693695\" property=\"fb:app_id\">\n",
              "<meta content=\"mangoplate://toplists?link_name=1953_rooftop_all\" property=\"al:ios:url\">\n",
              "<meta content=\"628509224\" property=\"al:ios:app_store_id\">\n",
              "<meta content=\"MangoPlate\" property=\"al:ios:app_name\">\n",
              "<meta content=\"mangoplate://toplists?link_name=1953_rooftop_all\" property=\"al:android:url\">\n",
              "<meta content=\"com.mangoplate\" property=\"al:android:package\">\n",
              "<meta content=\"MangoPlate\" property=\"al:android:app_name\"/>\n",
              "<title>루프탑 맛집 베스트 60곳 | 맛집검색 망고플레이트</title>\n",
              "<link href=\"/assets/dist/top_list-58592e045145a855625d7d55627046f7f4f9bfb11331d216cbb995792ec3a6f5.css\" media=\"screen\" rel=\"stylesheet\"/>\n",
              "<link href=\"/assets/favicon.ico\" rel=\"shortcut icon\"/>\n",
              "<!-- Representative URL Setting-->\n",
              "<link href=\"https://www.mangoplate.com/top_lists/1953_rooftop_all\" rel=\"canonical\">\n",
              "<link href=\"https://www.mangoplate.com/top_lists/1953_rooftop_all\" hreflang=\"ko\" rel=\"alternate\"/>\n",
              "<link href=\"https://www.mangoplate.com/en/top_lists/1953_rooftop_all\" hreflang=\"en\" rel=\"alternate\"/>\n",
              "<link href=\"https://www.mangoplate.com/zh/top_lists/1953_rooftop_all\" hreflang=\"zh\" rel=\"alternate\"/>\n",
              "<!-- Google GPT Script -->\n",
              "<script async=\"async\" src=\"https://securepubads.g.doubleclick.net/tag/js/gpt.js\"></script>\n",
              "<script charset=\"utf-8\" type=\"application/ld+json\">{\"@type\":\"ItemList\",\"itemListElement\":[{\"@type\":\"ListItem\",\"position\":1,\"url\":\"https://www.mangoplate.com/restaurants/Nel5gICwJ98Y\"},{\"@type\":\"ListItem\",\"position\":2,\"url\":\"https://www.mangoplate.com/restaurants/SOtX1qn8lr2z\"},{\"@type\":\"ListItem\",\"position\":3,\"url\":\"https://www.mangoplate.com/restaurants/dGrzcb90tI\"},{\"@type\":\"ListItem\",\"position\":4,\"url\":\"https://www.mangoplate.com/restaurants/Hrii5HjHIRoi\"},{\"@type\":\"ListItem\",\"position\":5,\"url\":\"https://www.mangoplate.com/restaurants/J3PdFUAW1z6v\"},{\"@type\":\"ListItem\",\"position\":6,\"url\":\"https://www.mangoplate.com/restaurants/pdS7zz9pe6Mm\"},{\"@type\":\"ListItem\",\"position\":7,\"url\":\"https://www.mangoplate.com/restaurants/A-s7x51kFTGz\"},{\"@type\":\"ListItem\",\"position\":8,\"url\":\"https://www.mangoplate.com/restaurants/z6g7UUetwRDp\"},{\"@type\":\"ListItem\",\"position\":9,\"url\":\"https://www.mangoplate.com/restaurants/5bvTS5KyNk9g\"},{\"@type\":\"ListItem\",\"position\":10,\"url\":\"https://www.mangoplate.com/restaurants/TSdX_IszZ5mW\"},{\"@type\":\"ListItem\",\"position\":11,\"url\":\"https://www.mangoplate.com/restaurants/t7cH4kv6-M\"},{\"@type\":\"ListItem\",\"position\":12,\"url\":\"https://www.mangoplate.com/restaurants/I8D_OUKXpiVQ\"},{\"@type\":\"ListItem\",\"position\":13,\"url\":\"https://www.mangoplate.com/restaurants/kQqRYcdbJvX-\"},{\"@type\":\"ListItem\",\"position\":14,\"url\":\"https://www.mangoplate.com/restaurants/8Lbvbhs9d3bj\"},{\"@type\":\"ListItem\",\"position\":15,\"url\":\"https://www.mangoplate.com/restaurants/3LxeR54CtiHY\"},{\"@type\":\"ListItem\",\"position\":16,\"url\":\"https://www.mangoplate.com/restaurants/QcmqKFCGErgL\"},{\"@type\":\"ListItem\",\"position\":17,\"url\":\"https://www.mangoplate.com/restaurants/bxZeQvLfnTqG\"},{\"@type\":\"ListItem\",\"position\":18,\"url\":\"https://www.mangoplate.com/restaurants/iN6jtsbcQWs9\"},{\"@type\":\"ListItem\",\"position\":19,\"url\":\"https://www.mangoplate.com/restaurants/FpYe2S-PkS\"},{\"@type\":\"ListItem\",\"position\":20,\"url\":\"https://www.mangoplate.com/restaurants/DH9Enwm71a6I\"}],\"@context\":\"http://schema.org\",\"@id\":\"https://www.mangoplate.com\"}</script>\n",
              "<script id=\"dfp_ads\" type=\"application/json\">[{\"id\":1,\"platform\":\"web_desktop\",\"page\":\"toplist\",\"inventory\":\"card_list\",\"sizes\":[[728,90]],\"tag\":\"/395211568/production/desktop-web.toplist.contents.atf\",\"enabled\":true,\"created_at\":\"2017-05-18T03:35:58.000+09:00\",\"updated_at\":\"2017-05-18T03:35:59.000+09:00\",\"args\":{\"start\":{\"value\":2}}},{\"id\":4,\"platform\":\"web_mobile\",\"page\":\"toplist\",\"inventory\":\"card_list\",\"sizes\":[[300,250]],\"tag\":\"/395211568/production/mobile-web.toplist.contents.atf\",\"enabled\":true,\"created_at\":\"2017-05-18T03:38:40.000+09:00\",\"updated_at\":\"2017-05-18T03:38:40.000+09:00\",\"args\":{\"start\":{\"value\":0}}},{\"id\":5,\"platform\":\"web_mobile\",\"page\":\"toplist\",\"inventory\":\"download_banner\",\"sizes\":[[320,100]],\"tag\":\"/395211568/production/mobile-web.toplist.related\",\"enabled\":true,\"created_at\":\"2017-05-18T03:39:01.000+09:00\",\"updated_at\":\"2017-05-18T03:39:02.000+09:00\",\"args\":{}},{\"id\":21,\"platform\":\"web_desktop\",\"page\":\"init\",\"inventory\":\"all\",\"sizes\":null,\"tag\":\"/395211568/init/desktop_all\",\"enabled\":true,\"created_at\":\"2017-06-23T01:58:50.000+09:00\",\"updated_at\":\"2018-11-16T17:06:11.000+09:00\",\"args\":{\"display_type\":{\"value\":\"popup\"}}},{\"id\":35,\"platform\":\"web_desktop\",\"page\":\"toplist\",\"inventory\":\"card_list_btf\",\"sizes\":[[728,90]],\"tag\":\"/395211568/production/desktop-web.toplist.contents.btf\",\"enabled\":true,\"created_at\":\"2017-09-12T15:49:47.000+09:00\",\"updated_at\":\"2017-09-12T15:49:48.000+09:00\",\"args\":{\"start\":{\"value\":7},\"every\":{\"value\":5}}},{\"id\":36,\"platform\":\"web_mobile\",\"page\":\"toplist\",\"inventory\":\"card_list_btf\",\"sizes\":[[300,250]],\"tag\":\"/395211568/production/mobile-web.toplist.contents.btf\",\"enabled\":true,\"created_at\":\"2017-09-12T15:50:14.000+09:00\",\"updated_at\":\"2017-09-12T15:50:15.000+09:00\",\"args\":{\"start\":{\"value\":5},\"every\":{\"value\":5}}},{\"id\":43,\"platform\":\"web_mobile\",\"page\":\"init\",\"inventory\":\"all\",\"sizes\":null,\"tag\":\"/395211568/init/mobile_all\",\"enabled\":true,\"created_at\":\"2020-02-12T01:57:59.000+09:00\",\"updated_at\":\"2020-03-23T00:29:37.000+09:00\",\"args\":{\"display_type\":{\"value\":\"popup\"},\"display\":{\"value\":\"once\"}}},{\"id\":53,\"platform\":\"web_mobile\",\"page\":\"init\",\"inventory\":\"popop_use_app\",\"sizes\":null,\"tag\":\"\",\"enabled\":true,\"created_at\":\"2020-01-30T01:49:26.000+09:00\",\"updated_at\":\"2020-03-06T12:00:28.000+09:00\",\"args\":{}},{\"id\":55,\"platform\":\"web_desktop\",\"page\":\"toplist\",\"inventory\":\"right_space\",\"sizes\":[[160,600]],\"tag\":\"/395211568/alpha/desktop-web.toplist.right-side\",\"enabled\":true,\"created_at\":\"2017-08-22T08:43:43.000+09:00\",\"updated_at\":\"2020-03-05T10:51:10.000+09:00\",\"args\":{}},{\"id\":57,\"platform\":\"web_mobile\",\"page\":\"init\",\"inventory\":\"area_use_app\",\"sizes\":null,\"tag\":\"\",\"enabled\":true,\"created_at\":\"2020-01-30T01:49:26.000+09:00\",\"updated_at\":\"2020-03-06T12:22:14.000+09:00\",\"args\":{}}]</script>\n",
              "<script id=\"dfp_targeting\" type=\"application/json\">{\"key\":\"BZTRJNQ\",\"title\":\"루프탑 맛집 베스트 60곳\",\"description\":\"요즘 같은 때에 루프탑 안 가면 유죄예요\",\"tags\":\"분위기,커피,넓다,카페,케이크,리필,\"}</script>\n",
              "</link></meta></meta></meta></meta></meta></meta></meta></meta></meta></meta></meta></meta></head>\n",
              "<body class=\"top_list_page_body\" ng-app=\"mp20App\" onunload=\"\">\n",
              "<!-- 본문 영역 -->\n",
              "<main class=\"mn-toplist pg-toplist\" data-keyword=\"1953_rooftop_all\" data-restaurant_count=\"60\" data-restaurant_uuid=\"\">\n",
              "<article class=\"contents\">\n",
              "<header class=\"basic-info-list\">\n",
              "<div class=\"inner\" style=\"padding-bottom: 10px\">\n",
              "<p class=\"status\">\n",
              "<span>\n",
              "            68,474 클릭\n",
              "          </span> |\n",
              "          <time datetime=\"2022-05-17\">\n",
              "            2022-05-17\n",
              "          </time>\n",
              "</p>\n",
              "<h1 class=\"title\">루프탑 맛집 베스트 60곳</h1>\n",
              "<h2 class=\"desc\">\n",
              "          “요즘 같은 때에 루프탑 안 가면 유죄예요!”\n",
              "        </h2>\n",
              "</div>\n",
              "</header>\n",
              "<div class=\"container-list\" id=\"contents_width\">\n",
              "<div class=\"inner\">\n",
              "<div class=\"ad_placeholder\" data-inventory=\"right_space\" data-page=\"toplist\" data-platform=\"web_desktop\"></div>\n",
              "<!-- 해당 레스토랑 목록 -->\n",
              "<section id=\"contents_list\">\n",
              "<p class=\"hidden\">{{::top_list_info.title}} 목록</p>\n",
              "<ul class=\"list-restaurants type-single-big top_list_restaurant_list\">\n",
              "<li class=\"toplist_list\">\n",
              "<div class=\"with-review\">\n",
              "<figure class=\"restaurant-item\">\n",
              "<a href=\"/restaurants/Nel5gICwJ98Y\" onclick=\"trackEvent('CLICK_RESTAURANT', {&quot;position&quot;:0,&quot;restaurant_key&quot;:&quot;Nel5gICwJ98Y&quot;})\">\n",
              "<div class=\"thumb\">\n",
              "<img alt=\"센터커피 사진 - 서울특별시 성동구 서울숲2길 28-11\" class=\"center-croping lazy\" data-error=\"https://mp-seoul-image-production-s3.mangoplate.com/web/resources/kssf5eveeva_xlmy.jpg?fit=around|*:*&amp;crop=*:*;*,*&amp;output-format=jpg&amp;output-quality=80\" data-original=\"https://mp-seoul-image-production-s3.mangoplate.com/132097_1628965749563209.jpg?fit=around|738:738&amp;crop=738:738;*,*&amp;output-format=jpg&amp;output-quality=80\"/>\n",
              "</div>\n",
              "</a>\n",
              "<figcaption>\n",
              "<div class=\"info\">\n",
              "<div class=\"wannago_wrap\">\n",
              "<button class=\"btn-type-icon favorite wannago_btn \" data-action_id=\"\" data-restaurant_uuid=\"279901\">\n",
              "</button>\n",
              "<p class=\"wannago_txt\">가고싶다 </p>\n",
              "</div>\n",
              "<span class=\"title \">\n",
              "<a href=\"/restaurants/Nel5gICwJ98Y\" onclick=\"trackEvent('CLICK_RESTAURANT', {&quot;position&quot;:0,&quot;restaurant_key&quot;:&quot;Nel5gICwJ98Y&quot;})\">\n",
              "                            1.<h3> 센터커피</h3>\n",
              "</a>\n",
              "</span>\n",
              "<strong class=\"point \">\n",
              "<span>4.4</span>\n",
              "</strong>\n",
              "<p class=\"etc \">서울특별시 성동구 서울숲2길 28-11</p>\n",
              "</div>\n",
              "</figcaption>\n",
              "</figure>\n",
              "<div class=\"review-content no-bottom\">\n",
              "<figure class=\"user\">\n",
              "<div class=\"thumb lazy\" data-error=\"https://mp-seoul-image-production-s3.mangoplate.com/web/resources/jmcmlp180qwkp1jj.png?fit=around|*:*&amp;crop=*:*;*,*&amp;output-format=jpg&amp;output-quality=80\" data-original=\"https://s3-ap-northeast-2.amazonaws.com/mp-seoul-image-production/1175978_1650554030993?fit=around|56:56&amp;crop=56:56;*,*&amp;output-format=jpg&amp;output-quality=80\">\n",
              "</div>\n",
              "<figcaption class=\"\">\n",
              "                          Yeonhwa\n",
              "                        </figcaption>\n",
              "</figure>\n",
              "<p class=\"short_review \" data-is_long_reivew=\"\n",
              "                        true\n",
              "                        \" data-restaurant_key=\"Nel5gICwJ98Y\" onclick=\"trackEvent('CLICK_FEATURED_REVIEW')\">\n",
              "                          이곳은 커피맛집입니다 ~~ 까다로운 커피 취향을 저격해버린곳 날좋은날 루프탑에 앉아서 책을 읽으면 그곳이 천국입니다 ㅎ 맛있는 커피와 그옆집 맛...\n",
              "                      </p>\n",
              "<p class=\"long_review \">\n",
              "                        이곳은 커피맛집입니다 ~~ 까다로운 커피 취향을 저격해버린곳 날좋은날 루프탑에 앉아서 책을 읽으면 그곳이 천국입니다 ㅎ 맛있는 커피와 그옆집 맛있는 디저트! 저 레몬케이크를 드세요 ⭐️이곳은 드립커피가 맛있는곳입니다⭐️ 드립커피를 드셔야해요 !! 약간 산미가 있는 커피지만 넘나 맛있음\n",
              "                      </p>\n",
              "<span class=\"review_more_btn\" onclick=\"trackEvent('CLICK_MORE_REVIEW', {&quot;position&quot;:0,&quot;restaurant_key&quot;:&quot;Nel5gICwJ98Y&quot;})\">더보기</span>\n",
              "</div>\n",
              "<a class=\"btn-detail\" href=\"/restaurants/Nel5gICwJ98Y\" onclick=\"trackEvent('CLICK_RESTAURANT', {&quot;position&quot;:0,&quot;restaurant_key&quot;:&quot;Nel5gICwJ98Y&quot;})\">\n",
              "<div class=\"restaurant-more-name\">센터커피</div>\n",
              "<div class=\"restaurant-more-text\">더보기 &gt;</div>\n",
              "</a>\n",
              "</div>\n",
              "</li>\n",
              "<li class=\"toplist_list\">\n",
              "<div class=\"with-review\">\n",
              "<figure class=\"restaurant-item\">\n",
              "<a href=\"/restaurants/SOtX1qn8lr2z\" onclick=\"trackEvent('CLICK_RESTAURANT', {&quot;position&quot;:1,&quot;restaurant_key&quot;:&quot;SOtX1qn8lr2z&quot;})\">\n",
              "<div class=\"thumb\">\n",
              "<img alt=\"르디투어 사진 - 경기도 수원시 영통구 웰빙타운로36번길 46-234\" class=\"center-croping lazy\" data-error=\"https://mp-seoul-image-production-s3.mangoplate.com/web/resources/kssf5eveeva_xlmy.jpg?fit=around|*:*&amp;crop=*:*;*,*&amp;output-format=jpg&amp;output-quality=80\" data-original=\"https://mp-seoul-image-production-s3.mangoplate.com/567429_1626507780341375.jpg?fit=around|738:738&amp;crop=738:738;*,*&amp;output-format=jpg&amp;output-quality=80\"/>\n",
              "</div>\n",
              "</a>\n",
              "<figcaption>\n",
              "<div class=\"info\">\n",
              "<div class=\"wannago_wrap\">\n",
              "<button class=\"btn-type-icon favorite wannago_btn \" data-action_id=\"\" data-restaurant_uuid=\"442055\">\n",
              "</button>\n",
              "<p class=\"wannago_txt\">가고싶다 </p>\n",
              "</div>\n",
              "<span class=\"title \">\n",
              "<a href=\"/restaurants/SOtX1qn8lr2z\" onclick=\"trackEvent('CLICK_RESTAURANT', {&quot;position&quot;:1,&quot;restaurant_key&quot;:&quot;SOtX1qn8lr2z&quot;})\">\n",
              "                            2.<h3> 르디투어</h3>\n",
              "</a>\n",
              "</span>\n",
              "<strong class=\"point \">\n",
              "<span>4.4</span>\n",
              "</strong>\n",
              "<p class=\"etc \">경기도 수원시 영통구 웰빙타운로36번길 46-234</p>\n",
              "</div>\n",
              "</figcaption>\n",
              "</figure>\n",
              "<div class=\"review-content no-bottom\">\n",
              "<figure class=\"user\">\n",
              "<div class=\"thumb lazy\" data-error=\"https://mp-seoul-image-production-s3.mangoplate.com/web/resources/jmcmlp180qwkp1jj.png?fit=around|*:*&amp;crop=*:*;*,*&amp;output-format=jpg&amp;output-quality=80\" data-original=\"https://s3-ap-northeast-2.amazonaws.com/mp-seoul-image-production/43205_1649767567074?fit=around|56:56&amp;crop=56:56;*,*&amp;output-format=jpg&amp;output-quality=80\">\n",
              "</div>\n",
              "<figcaption class=\"\">\n",
              "                          배불러!!\n",
              "                        </figcaption>\n",
              "</figure>\n",
              "<p class=\"short_review \" data-is_long_reivew=\"\n",
              "                        true\n",
              "                        \" data-restaurant_key=\"SOtX1qn8lr2z\" onclick=\"trackEvent('CLICK_FEATURED_REVIEW')\">\n",
              "                          광교 카페거리로 밥먹으러 갔다가 새로운 카페를 찾아서 가본 곳인데 너무너무 만족스러워서 리뷰 올려봅니다 디자인대상 받은 건물이라는데 1,2,3층...\n",
              "                      </p>\n",
              "<p class=\"long_review \">\n",
              "                        광교 카페거리로 밥먹으러 갔다가 새로운 카페를 찾아서 가본 곳인데 너무너무 만족스러워서 리뷰 올려봅니다 디자인대상 받은 건물이라는데 1,2,3층+루프탑 까지 있어서 날씨 좋아지는 요새 방문하기에 딱 좋은 곳 같아요 원두도 클래식, 시즈널, 디카페인으로 3개나 준비되어있고 디저트류 빵이랑 식사빵도 종류별로 잘 구성되어있어서\n",
              "                      </p>\n",
              "<span class=\"review_more_btn\" onclick=\"trackEvent('CLICK_MORE_REVIEW', {&quot;position&quot;:1,&quot;restaurant_key&quot;:&quot;SOtX1qn8lr2z&quot;})\">더보기</span>\n",
              "</div>\n",
              "<a class=\"btn-detail\" href=\"/restaurants/SOtX1qn8lr2z\" onclick=\"trackEvent('CLICK_RESTAURANT', {&quot;position&quot;:1,&quot;restaurant_key&quot;:&quot;SOtX1qn8lr2z&quot;})\">\n",
              "<div class=\"restaurant-more-name\">르디투어</div>\n",
              "<div class=\"restaurant-more-text\">더보기 &gt;</div>\n",
              "</a>\n",
              "</div>\n",
              "</li>\n",
              "<li class=\"toplist_list\">\n",
              "<div class=\"with-review\">\n",
              "<figure class=\"restaurant-item\">\n",
              "<a href=\"/restaurants/dGrzcb90tI\" onclick=\"trackEvent('CLICK_RESTAURANT', {&quot;position&quot;:2,&quot;restaurant_key&quot;:&quot;dGrzcb90tI&quot;})\">\n",
              "<div class=\"thumb\">\n",
              "<img alt=\"더백푸드트럭 사진 - 서울특별시 용산구 신흥로20길 45 1-3F\" class=\"center-croping lazy\" data-error=\"https://mp-seoul-image-production-s3.mangoplate.com/web/resources/kssf5eveeva_xlmy.jpg?fit=around|*:*&amp;crop=*:*;*,*&amp;output-format=jpg&amp;output-quality=80\" data-original=\"https://mp-seoul-image-production-s3.mangoplate.com/840122_1623206227084474.jpg?fit=around|738:738&amp;crop=738:738;*,*&amp;output-format=jpg&amp;output-quality=80\"/>\n",
              "</div>\n",
              "</a>\n",
              "<figcaption>\n",
              "<div class=\"info\">\n",
              "<div class=\"wannago_wrap\">\n",
              "<button class=\"btn-type-icon favorite wannago_btn \" data-action_id=\"\" data-restaurant_uuid=\"196755\">\n",
              "</button>\n",
              "<p class=\"wannago_txt\">가고싶다 </p>\n",
              "</div>\n",
              "<span class=\"title \">\n",
              "<a href=\"/restaurants/dGrzcb90tI\" onclick=\"trackEvent('CLICK_RESTAURANT', {&quot;position&quot;:2,&quot;restaurant_key&quot;:&quot;dGrzcb90tI&quot;})\">\n",
              "                            3.<h3> 더백푸드트럭</h3>\n",
              "</a>\n",
              "</span>\n",
              "<strong class=\"point \">\n",
              "<span>4.3</span>\n",
              "</strong>\n",
              "<p class=\"etc \">서울특별시 용산구 신흥로20길 45 1-3F</p>\n",
              "</div>\n",
              "</figcaption>\n",
              "</figure>\n",
              "<div class=\"review-content no-bottom\">\n",
              "<figure class=\"user\">\n",
              "<div class=\"thumb lazy\" data-error=\"https://mp-seoul-image-production-s3.mangoplate.com/web/resources/jmcmlp180qwkp1jj.png?fit=around|*:*&amp;crop=*:*;*,*&amp;output-format=jpg&amp;output-quality=80\" data-original=\"https://s3-ap-northeast-2.amazonaws.com/mp-seoul-image-production/1059167_1642344949742?fit=around|56:56&amp;crop=56:56;*,*&amp;output-format=jpg&amp;output-quality=80\">\n",
              "</div>\n",
              "<figcaption class=\"\">\n",
              "                          미콩\n",
              "                        </figcaption>\n",
              "</figure>\n",
              "<p class=\"short_review \" data-is_long_reivew=\"\n",
              "                        true\n",
              "                        \" data-restaurant_key=\"dGrzcb90tI\" onclick=\"trackEvent('CLICK_FEATURED_REVIEW')\">\n",
              "                          너무너무너무 친절하셨다ㅋㅋㅋㅋ 다 먹고 이날 비가 와서 루프탑에는 오픈이 안 되어 있었는데 그냥 아쉬운 마음에 노을 보고 있으니 정리하러 올라오...\n",
              "                      </p>\n",
              "<p class=\"long_review \">\n",
              "                        너무너무너무 친절하셨다ㅋㅋㅋㅋ 다 먹고 이날 비가 와서 루프탑에는 오픈이 안 되어 있었는데 그냥 아쉬운 마음에 노을 보고 있으니 정리하러 올라오셔서 우리 발견하시고는 찐친텐션으로 사진찍어주셨음ㅋㅋㅋㅋ\n",
              "                      </p>\n",
              "<span class=\"review_more_btn\" onclick=\"trackEvent('CLICK_MORE_REVIEW', {&quot;position&quot;:2,&quot;restaurant_key&quot;:&quot;dGrzcb90tI&quot;})\">더보기</span>\n",
              "</div>\n",
              "<a class=\"btn-detail\" href=\"/restaurants/dGrzcb90tI\" onclick=\"trackEvent('CLICK_RESTAURANT', {&quot;position&quot;:2,&quot;restaurant_key&quot;:&quot;dGrzcb90tI&quot;})\">\n",
              "<div class=\"restaurant-more-name\">더백푸드트럭</div>\n",
              "<div class=\"restaurant-more-text\">더보기 &gt;</div>\n",
              "</a>\n",
              "</div>\n",
              "</li>\n",
              "<li class=\"toplist_list\">\n",
              "<div class=\"with-review\">\n",
              "<figure class=\"restaurant-item\">\n",
              "<a href=\"/restaurants/Hrii5HjHIRoi\" onclick=\"trackEvent('CLICK_RESTAURANT', {&quot;position&quot;:3,&quot;restaurant_key&quot;:&quot;Hrii5HjHIRoi&quot;})\">\n",
              "<div class=\"thumb\">\n",
              "<img alt=\"포비 사진 - 서울특별시 마포구 양화로3길 66\" class=\"center-croping lazy\" data-error=\"https://mp-seoul-image-production-s3.mangoplate.com/web/resources/kssf5eveeva_xlmy.jpg?fit=around|*:*&amp;crop=*:*;*,*&amp;output-format=jpg&amp;output-quality=80\" data-original=\"https://mp-seoul-image-production-s3.mangoplate.com/652493_1555331366273447.jpg?fit=around|738:738&amp;crop=738:738;*,*&amp;output-format=jpg&amp;output-quality=80\"/>\n",
              "</div>\n",
              "</a>\n",
              "<figcaption>\n",
              "<div class=\"info\">\n",
              "<div class=\"wannago_wrap\">\n",
              "<button class=\"btn-type-icon favorite wannago_btn \" data-action_id=\"\" data-restaurant_uuid=\"330348\">\n",
              "</button>\n",
              "<p class=\"wannago_txt\">가고싶다 </p>\n",
              "</div>\n",
              "<span class=\"title \">\n",
              "<a href=\"/restaurants/Hrii5HjHIRoi\" onclick=\"trackEvent('CLICK_RESTAURANT', {&quot;position&quot;:3,&quot;restaurant_key&quot;:&quot;Hrii5HjHIRoi&quot;})\">\n",
              "                            4.<h3> 포비</h3>\n",
              "</a>\n",
              "</span>\n",
              "<strong class=\"point \">\n",
              "<span>4.3</span>\n",
              "</strong>\n",
              "<p class=\"etc \">서울특별시 마포구 양화로3길 66</p>\n",
              "</div>\n",
              "</figcaption>\n",
              "</figure>\n",
              "<div class=\"review-content no-bottom\">\n",
              "<figure class=\"user\">\n",
              "<div class=\"thumb lazy\" data-error=\"https://mp-seoul-image-production-s3.mangoplate.com/web/resources/jmcmlp180qwkp1jj.png?fit=around|*:*&amp;crop=*:*;*,*&amp;output-format=jpg&amp;output-quality=80\" data-original=\"https://s3-ap-northeast-2.amazonaws.com/mp-seoul-image-production/2193984_1646021861386?fit=around|56:56&amp;crop=56:56;*,*&amp;output-format=jpg&amp;output-quality=80\">\n",
              "</div>\n",
              "<figcaption class=\"\">\n",
              "                          Ppp\n",
              "                        </figcaption>\n",
              "</figure>\n",
              "<p class=\"short_review \" data-is_long_reivew=\"\n",
              "                        true\n",
              "                        \" data-restaurant_key=\"Hrii5HjHIRoi\" onclick=\"trackEvent('CLICK_FEATURED_REVIEW')\">\n",
              "                          진짜 좋아하는곳 ! 동네도 아니고 같은곳 여러번 잘 안가는데 여기는 5번갔어요 ㅋㅋㅋ 베이글도 맛있고 이름으로 불러주는것도 특이하고 카페도 탁 ...\n",
              "                      </p>\n",
              "<p class=\"long_review \">\n",
              "                        진짜 좋아하는곳 ! 동네도 아니고 같은곳 여러번 잘 안가는데 여기는 5번갔어요 ㅋㅋㅋ 베이글도 맛있고 이름으로 불러주는것도 특이하고 카페도 탁 트여있고 커서 좋습니당 !\n",
              "                      </p>\n",
              "<span class=\"review_more_btn\" onclick=\"trackEvent('CLICK_MORE_REVIEW', {&quot;position&quot;:3,&quot;restaurant_key&quot;:&quot;Hrii5HjHIRoi&quot;})\">더보기</span>\n",
              "</div>\n",
              "<a class=\"btn-detail\" href=\"/restaurants/Hrii5HjHIRoi\" onclick=\"trackEvent('CLICK_RESTAURANT', {&quot;position&quot;:3,&quot;restaurant_key&quot;:&quot;Hrii5HjHIRoi&quot;})\">\n",
              "<div class=\"restaurant-more-name\">포비</div>\n",
              "<div class=\"restaurant-more-text\">더보기 &gt;</div>\n",
              "</a>\n",
              "</div>\n",
              "</li>\n",
              "<li class=\"toplist_list\">\n",
              "<div class=\"with-review\">\n",
              "<figure class=\"restaurant-item\">\n",
              "<a href=\"/restaurants/J3PdFUAW1z6v\" onclick=\"trackEvent('CLICK_RESTAURANT', {&quot;position&quot;:4,&quot;restaurant_key&quot;:&quot;J3PdFUAW1z6v&quot;})\">\n",
              "<div class=\"thumb\">\n",
              "<img alt=\"이다 사진 - 서울특별시 종로구 서순라길 153\" class=\"center-croping lazy\" data-error=\"https://mp-seoul-image-production-s3.mangoplate.com/web/resources/kssf5eveeva_xlmy.jpg?fit=around|*:*&amp;crop=*:*;*,*&amp;output-format=jpg&amp;output-quality=80\" data-original=\"https://mp-seoul-image-production-s3.mangoplate.com/564068_1622267862475460.jpg?fit=around|738:738&amp;crop=738:738;*,*&amp;output-format=jpg&amp;output-quality=80\"/>\n",
              "</div>\n",
              "</a>\n",
              "<figcaption>\n",
              "<div class=\"info\">\n",
              "<div class=\"wannago_wrap\">\n",
              "<button class=\"btn-type-icon favorite wannago_btn \" data-action_id=\"\" data-restaurant_uuid=\"390006\">\n",
              "</button>\n",
              "<p class=\"wannago_txt\">가고싶다 </p>\n",
              "</div>\n",
              "<span class=\"title \">\n",
              "<a href=\"/restaurants/J3PdFUAW1z6v\" onclick=\"trackEvent('CLICK_RESTAURANT', {&quot;position&quot;:4,&quot;restaurant_key&quot;:&quot;J3PdFUAW1z6v&quot;})\">\n",
              "                            5.<h3> 이다</h3>\n",
              "</a>\n",
              "</span>\n",
              "<strong class=\"point \">\n",
              "<span>4.3</span>\n",
              "</strong>\n",
              "<p class=\"etc \">서울특별시 종로구 서순라길 153</p>\n",
              "</div>\n",
              "</figcaption>\n",
              "</figure>\n",
              "<div class=\"review-content no-bottom\">\n",
              "<figure class=\"user\">\n",
              "<div class=\"thumb lazy\" data-error=\"https://mp-seoul-image-production-s3.mangoplate.com/web/resources/jmcmlp180qwkp1jj.png?fit=around|*:*&amp;crop=*:*;*,*&amp;output-format=jpg&amp;output-quality=80\" data-original=\"https://s3-ap-northeast-2.amazonaws.com/mp-seoul-image-production/2229677_1650002606371?fit=around|56:56&amp;crop=56:56;*,*&amp;output-format=jpg&amp;output-quality=80\">\n",
              "</div>\n",
              "<figcaption class=\"\">\n",
              "                          옥탑방\n",
              "                        </figcaption>\n",
              "</figure>\n",
              "<p class=\"short_review \" data-is_long_reivew=\"\n",
              "                        true\n",
              "                        \" data-restaurant_key=\"J3PdFUAW1z6v\" onclick=\"trackEvent('CLICK_FEATURED_REVIEW')\">\n",
              "                          특별한날에 2층 창가자리 예약해서 프라이빗하게 즐기기 좋음. 소스나 재료 조합도 굿 가리비가 맛있고, 문어는 식감이 좀 특이했습니다 항정살도 양...\n",
              "                      </p>\n",
              "<p class=\"long_review \">\n",
              "                        특별한날에 2층 창가자리 예약해서 프라이빗하게 즐기기 좋음. 소스나 재료 조합도 굿 가리비가 맛있고, 문어는 식감이 좀 특이했습니다 항정살도 양 많고 맛있어요 페어링한 하우스와인도 요리와 잘 맞았습니다\n",
              "                      </p>\n",
              "<span class=\"review_more_btn\" onclick=\"trackEvent('CLICK_MORE_REVIEW', {&quot;position&quot;:4,&quot;restaurant_key&quot;:&quot;J3PdFUAW1z6v&quot;})\">더보기</span>\n",
              "</div>\n",
              "<a class=\"btn-detail\" href=\"/restaurants/J3PdFUAW1z6v\" onclick=\"trackEvent('CLICK_RESTAURANT', {&quot;position&quot;:4,&quot;restaurant_key&quot;:&quot;J3PdFUAW1z6v&quot;})\">\n",
              "<div class=\"restaurant-more-name\">이다</div>\n",
              "<div class=\"restaurant-more-text\">더보기 &gt;</div>\n",
              "</a>\n",
              "</div>\n",
              "</li>\n",
              "<li class=\"toplist_list\">\n",
              "<div class=\"with-review\">\n",
              "<figure class=\"restaurant-item\">\n",
              "<a href=\"/restaurants/pdS7zz9pe6Mm\" onclick=\"trackEvent('CLICK_RESTAURANT', {&quot;position&quot;:5,&quot;restaurant_key&quot;:&quot;pdS7zz9pe6Mm&quot;})\">\n",
              "<div class=\"thumb\">\n",
              "<img alt=\"어반루프 사진 - 서울특별시 마포구 동교로38길 13 3F\" class=\"center-croping lazy\" data-error=\"https://mp-seoul-image-production-s3.mangoplate.com/web/resources/kssf5eveeva_xlmy.jpg?fit=around|*:*&amp;crop=*:*;*,*&amp;output-format=jpg&amp;output-quality=80\" data-original=\"https://mp-seoul-image-production-s3.mangoplate.com/357714/1715652_1619755381874_22503?fit=around|738:738&amp;crop=738:738;*,*&amp;output-format=jpg&amp;output-quality=80\"/>\n",
              "</div>\n",
              "</a>\n",
              "<figcaption>\n",
              "<div class=\"info\">\n",
              "<div class=\"wannago_wrap\">\n",
              "<button class=\"btn-type-icon favorite wannago_btn \" data-action_id=\"\" data-restaurant_uuid=\"357714\">\n",
              "</button>\n",
              "<p class=\"wannago_txt\">가고싶다 </p>\n",
              "</div>\n",
              "<span class=\"title \">\n",
              "<a href=\"/restaurants/pdS7zz9pe6Mm\" onclick=\"trackEvent('CLICK_RESTAURANT', {&quot;position&quot;:5,&quot;restaurant_key&quot;:&quot;pdS7zz9pe6Mm&quot;})\">\n",
              "                            6.<h3> 어반루프</h3>\n",
              "</a>\n",
              "</span>\n",
              "<strong class=\"point \">\n",
              "<span>4.2</span>\n",
              "</strong>\n",
              "<p class=\"etc \">서울특별시 마포구 동교로38길 13 3F</p>\n",
              "</div>\n",
              "</figcaption>\n",
              "</figure>\n",
              "<div class=\"review-content no-bottom\">\n",
              "<figure class=\"user\">\n",
              "<div class=\"thumb lazy\" data-error=\"https://mp-seoul-image-production-s3.mangoplate.com/web/resources/jmcmlp180qwkp1jj.png?fit=around|*:*&amp;crop=*:*;*,*&amp;output-format=jpg&amp;output-quality=80\" data-original=\"https://s3-ap-northeast-2.amazonaws.com/mp-seoul-image-production/2050161_1632923789048?fit=around|56:56&amp;crop=56:56;*,*&amp;output-format=jpg&amp;output-quality=80\">\n",
              "</div>\n",
              "<figcaption class=\"\">\n",
              "                          혀니\n",
              "                        </figcaption>\n",
              "</figure>\n",
              "<p class=\"short_review \" data-is_long_reivew=\"\n",
              "                        true\n",
              "                        \" data-restaurant_key=\"pdS7zz9pe6Mm\" onclick=\"trackEvent('CLICK_FEATURED_REVIEW')\">\n",
              "                          연남동에 위치한 루프탑입니다. 여러가지 맥주, 칵테일류를 판매중이었습니다. 생각보다 골목길을 올라가야 했지만 그만큼 뷰는 좋았네요. 매장이 넓은...\n",
              "                      </p>\n",
              "<p class=\"long_review \">\n",
              "                        연남동에 위치한 루프탑입니다. 여러가지 맥주, 칵테일류를 판매중이었습니다. 생각보다 골목길을 올라가야 했지만 그만큼 뷰는 좋았네요. 매장이 넓은 편은 아니지만 제법 깔끔하게 인테리어가 되어있었어요. 루프탑 분위기도 좋았습니다. 홍대특성 상 탁트인 뷰는 아니었지만 늦여름, 초가을 밤에 선선하게 즐기기 좋을 것 같아요.\n",
              "                      </p>\n",
              "<span class=\"review_more_btn\" onclick=\"trackEvent('CLICK_MORE_REVIEW', {&quot;position&quot;:5,&quot;restaurant_key&quot;:&quot;pdS7zz9pe6Mm&quot;})\">더보기</span>\n",
              "</div>\n",
              "<a class=\"btn-detail\" href=\"/restaurants/pdS7zz9pe6Mm\" onclick=\"trackEvent('CLICK_RESTAURANT', {&quot;position&quot;:5,&quot;restaurant_key&quot;:&quot;pdS7zz9pe6Mm&quot;})\">\n",
              "<div class=\"restaurant-more-name\">어반루프</div>\n",
              "<div class=\"restaurant-more-text\">더보기 &gt;</div>\n",
              "</a>\n",
              "</div>\n",
              "</li>\n",
              "<li class=\"toplist_list\">\n",
              "<div class=\"with-review\">\n",
              "<figure class=\"restaurant-item\">\n",
              "<a href=\"/restaurants/A-s7x51kFTGz\" onclick=\"trackEvent('CLICK_RESTAURANT', {&quot;position&quot;:6,&quot;restaurant_key&quot;:&quot;A-s7x51kFTGz&quot;})\">\n",
              "<div class=\"thumb\">\n",
              "<img alt=\"카페메이븐 사진 - 경기도 수원시 팔달구 창룡대로74번길 15\" class=\"center-croping lazy\" data-error=\"https://mp-seoul-image-production-s3.mangoplate.com/web/resources/kssf5eveeva_xlmy.jpg?fit=around|*:*&amp;crop=*:*;*,*&amp;output-format=jpg&amp;output-quality=80\" data-original=\"https://mp-seoul-image-production-s3.mangoplate.com/436208/1851545_1607868724930_32422?fit=around|738:738&amp;crop=738:738;*,*&amp;output-format=jpg&amp;output-quality=80\"/>\n",
              "</div>\n",
              "</a>\n",
              "<figcaption>\n",
              "<div class=\"info\">\n",
              "<div class=\"wannago_wrap\">\n",
              "<button class=\"btn-type-icon favorite wannago_btn \" data-action_id=\"\" data-restaurant_uuid=\"436208\">\n",
              "</button>\n",
              "<p class=\"wannago_txt\">가고싶다 </p>\n",
              "</div>\n",
              "<span class=\"title \">\n",
              "<a href=\"/restaurants/A-s7x51kFTGz\" onclick=\"trackEvent('CLICK_RESTAURANT', {&quot;position&quot;:6,&quot;restaurant_key&quot;:&quot;A-s7x51kFTGz&quot;})\">\n",
              "                            7.<h3> 카페메이븐</h3>\n",
              "</a>\n",
              "</span>\n",
              "<strong class=\"point expected \">\n",
              "<span>4.2</span>\n",
              "</strong>\n",
              "<p class=\"etc \">경기도 수원시 팔달구 창룡대로74번길 15</p>\n",
              "</div>\n",
              "</figcaption>\n",
              "</figure>\n",
              "<div class=\"review-content no-bottom\">\n",
              "<figure class=\"user\">\n",
              "<div class=\"thumb lazy\" data-error=\"https://mp-seoul-image-production-s3.mangoplate.com/web/resources/jmcmlp180qwkp1jj.png?fit=around|*:*&amp;crop=*:*;*,*&amp;output-format=jpg&amp;output-quality=80\" data-original=\"https://s3-ap-northeast-2.amazonaws.com/mp-seoul-image-production/903455_1623151638973?fit=around|56:56&amp;crop=56:56;*,*&amp;output-format=jpg&amp;output-quality=80\">\n",
              "</div>\n",
              "<figcaption class=\"\">\n",
              "                          먹린이\n",
              "                        </figcaption>\n",
              "</figure>\n",
              "<p class=\"short_review \" data-is_long_reivew=\"\n",
              "                        true\n",
              "                        \" data-restaurant_key=\"A-s7x51kFTGz\" onclick=\"trackEvent('CLICK_FEATURED_REVIEW')\">\n",
              "                          분위기 맛 다 좋아요! 저런 갬성뿜뿜한 브런치카페의 맛을 신뢰하지않는 편인데 이곳은 트렌디하면서도 가격도 괜찮고 맛도 있었어요. 내부규모도 엄청...\n",
              "                      </p>\n",
              "<p class=\"long_review \">\n",
              "                        분위기 맛 다 좋아요! 저런 갬성뿜뿜한 브런치카페의 맛을 신뢰하지않는 편인데 이곳은 트렌디하면서도 가격도 괜찮고 맛도 있었어요. 내부규모도 엄청 넓고, 야외 테라스나 루프탑도 있어요. 메뉴는 샐러드파스타, 프렌치토스트와 파니니를 시켰고 프렌치토스트는 같이간 일행 모두 감탄을 하면서 먹은 메뉴입니다ㅎㅎ\n",
              "                      </p>\n",
              "<span class=\"review_more_btn\" onclick=\"trackEvent('CLICK_MORE_REVIEW', {&quot;position&quot;:6,&quot;restaurant_key&quot;:&quot;A-s7x51kFTGz&quot;})\">더보기</span>\n",
              "</div>\n",
              "<a class=\"btn-detail\" href=\"/restaurants/A-s7x51kFTGz\" onclick=\"trackEvent('CLICK_RESTAURANT', {&quot;position&quot;:6,&quot;restaurant_key&quot;:&quot;A-s7x51kFTGz&quot;})\">\n",
              "<div class=\"restaurant-more-name\">카페메이븐</div>\n",
              "<div class=\"restaurant-more-text\">더보기 &gt;</div>\n",
              "</a>\n",
              "</div>\n",
              "</li>\n",
              "<li class=\"toplist_list\">\n",
              "<div class=\"with-review\">\n",
              "<figure class=\"restaurant-item\">\n",
              "<a href=\"/restaurants/z6g7UUetwRDp\" onclick=\"trackEvent('CLICK_RESTAURANT', {&quot;position&quot;:7,&quot;restaurant_key&quot;:&quot;z6g7UUetwRDp&quot;})\">\n",
              "<div class=\"thumb\">\n",
              "<img alt=\"비비커피 사진 - 경기도 과천시 찬우물로 21 3F\" class=\"center-croping lazy\" data-error=\"https://mp-seoul-image-production-s3.mangoplate.com/web/resources/kssf5eveeva_xlmy.jpg?fit=around|*:*&amp;crop=*:*;*,*&amp;output-format=jpg&amp;output-quality=80\" data-original=\"https://mp-seoul-image-production-s3.mangoplate.com/908198_1598016573677378.jpg?fit=around|738:738&amp;crop=738:738;*,*&amp;output-format=jpg&amp;output-quality=80\"/>\n",
              "</div>\n",
              "</a>\n",
              "<figcaption>\n",
              "<div class=\"info\">\n",
              "<div class=\"wannago_wrap\">\n",
              "<button class=\"btn-type-icon favorite wannago_btn \" data-action_id=\"\" data-restaurant_uuid=\"401272\">\n",
              "</button>\n",
              "<p class=\"wannago_txt\">가고싶다 </p>\n",
              "</div>\n",
              "<span class=\"title \">\n",
              "<a href=\"/restaurants/z6g7UUetwRDp\" onclick=\"trackEvent('CLICK_RESTAURANT', {&quot;position&quot;:7,&quot;restaurant_key&quot;:&quot;z6g7UUetwRDp&quot;})\">\n",
              "                            8.<h3> 비비커피</h3>\n",
              "</a>\n",
              "</span>\n",
              "<strong class=\"point \">\n",
              "<span>4.1</span>\n",
              "</strong>\n",
              "<p class=\"etc \">경기도 과천시 찬우물로 21 3F</p>\n",
              "</div>\n",
              "</figcaption>\n",
              "</figure>\n",
              "<div class=\"review-content no-bottom\">\n",
              "<figure class=\"user\">\n",
              "<div class=\"thumb lazy\" data-error=\"https://mp-seoul-image-production-s3.mangoplate.com/web/resources/jmcmlp180qwkp1jj.png?fit=around|*:*&amp;crop=*:*;*,*&amp;output-format=jpg&amp;output-quality=80\" data-original=\"https://k.kakaocdn.net/dn/4fBYC/btre4MURMkz/qe854XsxPVAsEmcP2Rijpk/img_640x640.jpg?fit=around|56:56&amp;crop=56:56;*,*&amp;output-format=jpg&amp;output-quality=80\">\n",
              "</div>\n",
              "<figcaption class=\"\">\n",
              "                          박솔지\n",
              "                        </figcaption>\n",
              "</figure>\n",
              "<p class=\"short_review \" data-is_long_reivew=\"\n",
              "                        true\n",
              "                        \" data-restaurant_key=\"z6g7UUetwRDp\" onclick=\"trackEvent('CLICK_FEATURED_REVIEW')\">\n",
              "                          최애 카페에요! 혼자 공부하기 좋고, 과천에 친구들 놀러오면 같이 가기도 좋아요 음료 가격도 적당하고 무엇보다 디저트가 다양하고 맛나요 인테리어...\n",
              "                      </p>\n",
              "<p class=\"long_review \">\n",
              "                        최애 카페에요! 혼자 공부하기 좋고, 과천에 친구들 놀러오면 같이 가기도 좋아요 음료 가격도 적당하고 무엇보다 디저트가 다양하고 맛나요 인테리어도 취향저격!! 이런 카페가 집 주변에 있어서 정말 좋아요♥️\n",
              "                      </p>\n",
              "<span class=\"review_more_btn\" onclick=\"trackEvent('CLICK_MORE_REVIEW', {&quot;position&quot;:7,&quot;restaurant_key&quot;:&quot;z6g7UUetwRDp&quot;})\">더보기</span>\n",
              "</div>\n",
              "<a class=\"btn-detail\" href=\"/restaurants/z6g7UUetwRDp\" onclick=\"trackEvent('CLICK_RESTAURANT', {&quot;position&quot;:7,&quot;restaurant_key&quot;:&quot;z6g7UUetwRDp&quot;})\">\n",
              "<div class=\"restaurant-more-name\">비비커피</div>\n",
              "<div class=\"restaurant-more-text\">더보기 &gt;</div>\n",
              "</a>\n",
              "</div>\n",
              "</li>\n",
              "<li class=\"toplist_list\">\n",
              "<div class=\"with-review\">\n",
              "<figure class=\"restaurant-item\">\n",
              "<a href=\"/restaurants/5bvTS5KyNk9g\" onclick=\"trackEvent('CLICK_RESTAURANT', {&quot;position&quot;:8,&quot;restaurant_key&quot;:&quot;5bvTS5KyNk9g&quot;})\">\n",
              "<div class=\"thumb\">\n",
              "<img alt=\"정지영커피로스터즈 사진 - 경기도 수원시 팔달구 수원천로 375\" class=\"center-croping lazy\" data-error=\"https://mp-seoul-image-production-s3.mangoplate.com/web/resources/kssf5eveeva_xlmy.jpg?fit=around|*:*&amp;crop=*:*;*,*&amp;output-format=jpg&amp;output-quality=80\" data-original=\"https://mp-seoul-image-production-s3.mangoplate.com/400262/965277_1599654351780_30968?fit=around|738:738&amp;crop=738:738;*,*&amp;output-format=jpg&amp;output-quality=80\"/>\n",
              "</div>\n",
              "</a>\n",
              "<figcaption>\n",
              "<div class=\"info\">\n",
              "<div class=\"wannago_wrap\">\n",
              "<button class=\"btn-type-icon favorite wannago_btn \" data-action_id=\"\" data-restaurant_uuid=\"400262\">\n",
              "</button>\n",
              "<p class=\"wannago_txt\">가고싶다 </p>\n",
              "</div>\n",
              "<span class=\"title \">\n",
              "<a href=\"/restaurants/5bvTS5KyNk9g\" onclick=\"trackEvent('CLICK_RESTAURANT', {&quot;position&quot;:8,&quot;restaurant_key&quot;:&quot;5bvTS5KyNk9g&quot;})\">\n",
              "                            9.<h3> 정지영커피로스터즈</h3>\n",
              "</a>\n",
              "</span>\n",
              "<strong class=\"point \">\n",
              "<span>4.1</span>\n",
              "</strong>\n",
              "<p class=\"etc \">경기도 수원시 팔달구 수원천로 375</p>\n",
              "</div>\n",
              "</figcaption>\n",
              "</figure>\n",
              "<div class=\"review-content no-bottom\">\n",
              "<figure class=\"user\">\n",
              "<div class=\"thumb lazy\" data-error=\"https://mp-seoul-image-production-s3.mangoplate.com/web/resources/jmcmlp180qwkp1jj.png?fit=around|*:*&amp;crop=*:*;*,*&amp;output-format=jpg&amp;output-quality=80\" data-original=\"https://s3-ap-northeast-2.amazonaws.com/mp-seoul-image-production/1679022_1643855207844?fit=around|56:56&amp;crop=56:56;*,*&amp;output-format=jpg&amp;output-quality=80\">\n",
              "</div>\n",
              "<figcaption class=\"\">\n",
              "                          단순이\n",
              "                        </figcaption>\n",
              "</figure>\n",
              "<p class=\"short_review \" data-is_long_reivew=\"\n",
              "                        true\n",
              "                        \" data-restaurant_key=\"5bvTS5KyNk9g\" onclick=\"trackEvent('CLICK_FEATURED_REVIEW')\">\n",
              "                          만족도 ☆☆☆☆☆ 카페는 작아보였지만 뒤쪽이 넓직하고 좋았다 주택을 개조해서 인테리어가 이쁘고 분위기가 좋았다~ 노래도 마음에드는, 그리고 루프...\n",
              "                      </p>\n",
              "<p class=\"long_review \">\n",
              "                        만족도 ☆☆☆☆☆ 카페는 작아보였지만 뒤쪽이 넓직하고 좋았다 주택을 개조해서 인테리어가 이쁘고 분위기가 좋았다~ 노래도 마음에드는, 그리고 루프탑은 밤에 정말 야경이 끝내준다 ! 아메리카노는 디카페인이 있어서 좋았다 그리고 더티초코 쿠키가 진짜 맛있다 꾸덕하고 달달하고 맛있었다 진한 초코는 언제나 옳다! 아메리카노랑 딱이였다 만족스러운 카페였다\n",
              "                      </p>\n",
              "<span class=\"review_more_btn\" onclick=\"trackEvent('CLICK_MORE_REVIEW', {&quot;position&quot;:8,&quot;restaurant_key&quot;:&quot;5bvTS5KyNk9g&quot;})\">더보기</span>\n",
              "</div>\n",
              "<a class=\"btn-detail\" href=\"/restaurants/5bvTS5KyNk9g\" onclick=\"trackEvent('CLICK_RESTAURANT', {&quot;position&quot;:8,&quot;restaurant_key&quot;:&quot;5bvTS5KyNk9g&quot;})\">\n",
              "<div class=\"restaurant-more-name\">정지영커피로스터즈</div>\n",
              "<div class=\"restaurant-more-text\">더보기 &gt;</div>\n",
              "</a>\n",
              "</div>\n",
              "</li>\n",
              "<li class=\"toplist_list\">\n",
              "<div class=\"with-review\">\n",
              "<figure class=\"restaurant-item\">\n",
              "<a href=\"/restaurants/TSdX_IszZ5mW\" onclick=\"trackEvent('CLICK_RESTAURANT', {&quot;position&quot;:9,&quot;restaurant_key&quot;:&quot;TSdX_IszZ5mW&quot;})\">\n",
              "<div class=\"thumb\">\n",
              "<img alt=\"구스아일랜드 브루하우스 사진 - 서울특별시 강남구 역삼로 118\" class=\"center-croping lazy\" data-error=\"https://mp-seoul-image-production-s3.mangoplate.com/web/resources/kssf5eveeva_xlmy.jpg?fit=around|*:*&amp;crop=*:*;*,*&amp;output-format=jpg&amp;output-quality=80\" data-original=\"https://mp-seoul-image-production-s3.mangoplate.com/1260779_1642676887373151.jpg?fit=around|738:738&amp;crop=738:738;*,*&amp;output-format=jpg&amp;output-quality=80\"/>\n",
              "</div>\n",
              "</a>\n",
              "<figcaption>\n",
              "<div class=\"info\">\n",
              "<div class=\"wannago_wrap\">\n",
              "<button class=\"btn-type-icon favorite wannago_btn \" data-action_id=\"\" data-restaurant_uuid=\"277239\">\n",
              "</button>\n",
              "<p class=\"wannago_txt\">가고싶다 </p>\n",
              "</div>\n",
              "<span class=\"title \">\n",
              "<a href=\"/restaurants/TSdX_IszZ5mW\" onclick=\"trackEvent('CLICK_RESTAURANT', {&quot;position&quot;:9,&quot;restaurant_key&quot;:&quot;TSdX_IszZ5mW&quot;})\">\n",
              "                            10.<h3> 구스아일랜드 브루하우스</h3>\n",
              "</a>\n",
              "</span>\n",
              "<strong class=\"point \">\n",
              "<span>4.0</span>\n",
              "</strong>\n",
              "<p class=\"etc \">서울특별시 강남구 역삼로 118</p>\n",
              "</div>\n",
              "</figcaption>\n",
              "</figure>\n",
              "<div class=\"review-content no-bottom\">\n",
              "<figure class=\"user\">\n",
              "<div class=\"thumb lazy\" data-error=\"https://mp-seoul-image-production-s3.mangoplate.com/web/resources/jmcmlp180qwkp1jj.png?fit=around|*:*&amp;crop=*:*;*,*&amp;output-format=jpg&amp;output-quality=80\" data-original=\"https://s3-ap-northeast-2.amazonaws.com/mp-seoul-image-production/1640124_1647515515993?fit=around|56:56&amp;crop=56:56;*,*&amp;output-format=jpg&amp;output-quality=80\">\n",
              "</div>\n",
              "<figcaption class=\"\">\n",
              "                          달리자크롱\n",
              "                        </figcaption>\n",
              "</figure>\n",
              "<p class=\"short_review \" data-is_long_reivew=\"\n",
              "                        true\n",
              "                        \" data-restaurant_key=\"TSdX_IszZ5mW\" onclick=\"trackEvent('CLICK_FEATURED_REVIEW')\">\n",
              "                          이곳은 다양한 수제맥주를 마실 수 있는게 장점이라 또 다른 맥주를 도전할 수 있었다. •감바스  올리브오일에 함께 나온 담백한 치아바타를 찍어먹...\n",
              "                      </p>\n",
              "<p class=\"long_review \">\n",
              "                        이곳은 다양한 수제맥주를 마실 수 있는게 장점이라 또 다른 맥주를 도전할 수 있었다. •감바스  올리브오일에 함께 나온 담백한 치아바타를 찍어먹으니 얼마나 맛있게요! 양은 적지만 마늘향이 은은하게 나고 맛있었다. 맥주 안주로 괜춘괜춘. #다시먹어봄 맥주 좋아하시는분들은 가시면 좋을것 같아요.\n",
              "                      </p>\n",
              "<span class=\"review_more_btn\" onclick=\"trackEvent('CLICK_MORE_REVIEW', {&quot;position&quot;:9,&quot;restaurant_key&quot;:&quot;TSdX_IszZ5mW&quot;})\">더보기</span>\n",
              "</div>\n",
              "<a class=\"btn-detail\" href=\"/restaurants/TSdX_IszZ5mW\" onclick=\"trackEvent('CLICK_RESTAURANT', {&quot;position&quot;:9,&quot;restaurant_key&quot;:&quot;TSdX_IszZ5mW&quot;})\">\n",
              "<div class=\"restaurant-more-name\">구스아일랜드 브루하우스</div>\n",
              "<div class=\"restaurant-more-text\">더보기 &gt;</div>\n",
              "</a>\n",
              "</div>\n",
              "</li>\n",
              "</ul>\n",
              "<div class=\"more_btn_wrapper\">\n",
              "<button class=\"more_btn\" onclick=\"trackEvent('CLICK_MORE_LIST')\">더보기</button>\n",
              "<img alt=\"loading bar\" class=\"loading_img\" src=\"https://mp-seoul-image-production-s3.mangoplate.com/web/resources/ldcyd5lxlvtlppe3.gif?fit=around|:&amp;crop=:;*,*&amp;output-format=gif&amp;output-quality=80\"/>\n",
              "</div>\n",
              "</section>\n",
              "<div class=\"module options only-desktop\">\n",
              "<div class=\"share-sns\">\n",
              "<p>\n",
              "<button class=\"btn-type-share facebook facebook_share_btn\" data-content=\"CLICK_SHARE_FACEBOOK\" data-term=\"v1\" onclick=\"trackEvent('CLICK_SHARE_FACEBOOK','','','PG_TOPLIST')\">페이스북에 공유</button>\n",
              "<button class=\"btn-type-share kakaotalk kakaotalk_share_btn only-mobile\" data-button_name=\"\" data-content=\"CLICK_SHARE_KAKAO\" data-image=\"https://mp-seoul-image-production-s3.mangoplate.com/keyword_search/meta/pictures/7aq3u-dlqswklat_.jpg\" data-message=\"루프탑 맛집 베스트 60곳 베스트 60곳\" data-term=\"v1\" data-url=\"http://www.mangoplate.com/top_lists/1953_rooftop_all\" onclick=\"trackEvent('CLICK_SHARE_KAKAO','','','PG_TOPLIST')\">카카오톡에 공유</button>\n",
              "<button class=\"btn-type-share band band_share_btn only-mobile\" data-content=\"CLICK_SHARE_BAND\" data-message=\"루프탑 맛집 베스트 60곳 베스트 60곳\" data-term=\"v1\" data-url=\"http://www.mangoplate.com/top_lists/1953_rooftop_all\" onclick=\"trackEvent('CLICK_SHARE_BAND','','','PG_TOPLIST')\">밴드에 공유</button>\n",
              "<button class=\"btn-type-share twitter twitter_share_btn\" data-content=\"CLICK_SHARE_TWITTER\" data-message=\"루프탑 맛집 베스트 60곳 베스트 60곳\" data-term=\"v1\" onclick=\"trackEvent('CLICK_SHARE_TWITTER','','','PG_TOPLIST')\">트위터에 공유</button>\n",
              "<button class=\"btn-type-share email mail_share_btn only-mobile\" data-content=\"CLICK_SHARE_EMAIL\" data-message=\"망고플레이트가 선정한 루프탑 맛집 베스트 60곳\" data-term=\"v1\" data-title=\"루프탑 맛집 베스트 60곳 베스트 60곳\" data-url=\"http://www.mangoplate.com/top_lists/1953_rooftop_all\" onclick=\"trackEvent('CLICK_SHARE_EMAIL','','','PG_TOPLIST')\">메일보내기</button>\n",
              "</p>\n",
              "</div>\n",
              "<!-- 페이지 링크 공유 -->\n",
              "<div class=\"share-link\" data-clipboard-text=\"http://www.mangoplate.com/top_lists/1953_rooftop_all\" onclick=\"trackEvent('CLICK_LINK_SHARE', {&quot;url&quot;:&quot;http://www.mangoplate.com/top_lists/1953_rooftop_all&quot;})\">\n",
              "<p>\n",
              "<span class=\"url copy_url\">http://www.mangoplate.com/top_lists/1953_rooftop_all</span>\n",
              "<button class=\"btn-url-share\">공유하기</button>\n",
              "</p>\n",
              "</div>\n",
              "</div>\n",
              "<section class=\"module map only-desktop\">\n",
              "<span class=\"title\">리스트 지도</span>\n",
              "<div class=\"map-container\">\n",
              "</div>\n",
              "</section>\n",
              "</div>\n",
              "</div>\n",
              "<!-- facebook social comment -->\n",
              "<div class=\"comment-wrapper\">\n",
              "</div>\n",
              "<!-- 관련 태그/맛집/탑리스트 -->\n",
              "<div class=\"container-related-list\">\n",
              "<div class=\"inner\">\n",
              "<!-- 관련 탑리스트 -->\n",
              "<section class=\"module related-toplist only-mobile\">\n",
              "<span class=\"title\">관련 탑리스트</span>\n",
              "<ul class=\"list-type-ls type-column02\">\n",
              "<li>\n",
              "<a href=\"/top_lists/bowlofrice_top20\" onclick=\"trackEvent('CLICK_RELATED_TOPLIST', {&quot;position&quot;:0,&quot;link_name&quot;:&quot;bowlofrice_top20&quot;})\">\n",
              "<figure class=\"ls-item\">\n",
              "<div class=\"thumb\">\n",
              "<div class=\"inner\">\n",
              "<img alt=\"백반 맛집 베스트 30곳 사진\" class=\"center-crop portrait lazy\" data-error=\"https://mp-seoul-image-production-s3.mangoplate.com/web/resources/kssf5eveeva_xlmy.jpg?fit=around|*:*&amp;crop=*:*;*,*&amp;output-format=jpg&amp;output-quality=80\" data-original=\"https://mp-seoul-image-production-s3.mangoplate.com/keyword_search/meta/pictures/m4kvvawkqcuf7p9i.jpg?fit=around|738:738&amp;crop=738:738;*,*&amp;output-format=jpg&amp;output-quality=80\"/>\n",
              "</div>\n",
              "</div>\n",
              "<figcaption class=\"info\">\n",
              "<div class=\"info_inner_wrap\">\n",
              "<span class=\"title\">백반 맛집 베스트 30곳</span>\n",
              "<p class=\"desc\">\"이 맛이라면 백반 백번도 먹을 수 있어!\"</p>\n",
              "<p class=\"hash\">\n",
              "<span>#백반 맛집 베스트 30곳</span>\n",
              "</p>\n",
              "</div>\n",
              "</figcaption>\n",
              "</figure>\n",
              "</a>\n",
              "</li>\n",
              "<li>\n",
              "<a href=\"/top_lists/2794_sanggyeonlye\" onclick=\"trackEvent('CLICK_RELATED_TOPLIST', {&quot;position&quot;:1,&quot;link_name&quot;:&quot;2794_sanggyeonlye&quot;})\">\n",
              "<figure class=\"ls-item\">\n",
              "<div class=\"thumb\">\n",
              "<div class=\"inner\">\n",
              "<img alt=\"상견례 하기 좋은 맛집 베스트 25곳 사진\" class=\"center-crop portrait lazy\" data-error=\"https://mp-seoul-image-production-s3.mangoplate.com/web/resources/kssf5eveeva_xlmy.jpg?fit=around|*:*&amp;crop=*:*;*,*&amp;output-format=jpg&amp;output-quality=80\" data-original=\"https://mp-seoul-image-production-s3.mangoplate.com/keyword_search/meta/pictures/lwpqkafmccx_ghbc.jpg?fit=around|738:738&amp;crop=738:738;*,*&amp;output-format=jpg&amp;output-quality=80\"/>\n",
              "</div>\n",
              "</div>\n",
              "<figcaption class=\"info\">\n",
              "<div class=\"info_inner_wrap\">\n",
              "<span class=\"title\">상견례 하기 좋은 맛집 베스트 25곳</span>\n",
              "<p class=\"desc\">\"예약 필요한지는 꼭 확인하고 가기!\"</p>\n",
              "<p class=\"hash\">\n",
              "<span>#상견례 하기 좋은 맛집 베스트 25곳</span>\n",
              "</p>\n",
              "</div>\n",
              "</figcaption>\n",
              "</figure>\n",
              "</a>\n",
              "</li>\n",
              "<li>\n",
              "<a href=\"/top_lists/622_cake_cheese\" onclick=\"trackEvent('CLICK_RELATED_TOPLIST', {&quot;position&quot;:2,&quot;link_name&quot;:&quot;622_cake_cheese&quot;})\">\n",
              "<figure class=\"ls-item\">\n",
              "<div class=\"thumb\">\n",
              "<div class=\"inner\">\n",
              "<img alt=\"치즈케이크 맛집 베스트 35곳 사진\" class=\"center-crop portrait lazy\" data-error=\"https://mp-seoul-image-production-s3.mangoplate.com/web/resources/kssf5eveeva_xlmy.jpg?fit=around|*:*&amp;crop=*:*;*,*&amp;output-format=jpg&amp;output-quality=80\" data-original=\"https://mp-seoul-image-production-s3.mangoplate.com/keyword_search/meta/pictures/lw08xlgxeh4cxomo.jpg?fit=around|738:738&amp;crop=738:738;*,*&amp;output-format=jpg&amp;output-quality=80\"/>\n",
              "</div>\n",
              "</div>\n",
              "<figcaption class=\"info\">\n",
              "<div class=\"info_inner_wrap\">\n",
              "<span class=\"title\">치즈케이크 맛집 베스트 35곳</span>\n",
              "<p class=\"desc\">\"먹어도 먹어도 중독적인 진한 치즈의 풍미!\"</p>\n",
              "<p class=\"hash\">\n",
              "<span>#치즈케이크 맛집 베스트 35곳</span>\n",
              "</p>\n",
              "</div>\n",
              "</figcaption>\n",
              "</figure>\n",
              "</a>\n",
              "</li>\n",
              "<li>\n",
              "<a href=\"/top_lists/1270_itaewon\" onclick=\"trackEvent('CLICK_RELATED_TOPLIST', {&quot;position&quot;:3,&quot;link_name&quot;:&quot;1270_itaewon&quot;})\">\n",
              "<figure class=\"ls-item\">\n",
              "<div class=\"thumb\">\n",
              "<div class=\"inner\">\n",
              "<img alt=\"이태원 맛집 베스트 65곳 사진\" class=\"center-crop portrait lazy\" data-error=\"https://mp-seoul-image-production-s3.mangoplate.com/web/resources/kssf5eveeva_xlmy.jpg?fit=around|*:*&amp;crop=*:*;*,*&amp;output-format=jpg&amp;output-quality=80\" data-original=\"https://mp-seoul-image-production-s3.mangoplate.com/keyword_search/meta/pictures/upm27ju_em2wbwtz.jpg?fit=around|738:738&amp;crop=738:738;*,*&amp;output-format=jpg&amp;output-quality=80\"/>\n",
              "</div>\n",
              "</div>\n",
              "<figcaption class=\"info\">\n",
              "<div class=\"info_inner_wrap\">\n",
              "<span class=\"title\">이태원 맛집 베스트 65곳</span>\n",
              "<p class=\"desc\">\"적어도 음식 때문에 여행은 안 가도 되겠네...!\"</p>\n",
              "<p class=\"hash\">\n",
              "<span>#이태원 맛집 베스트 65곳</span>\n",
              "</p>\n",
              "</div>\n",
              "</figcaption>\n",
              "</figure>\n",
              "</a>\n",
              "</li>\n",
              "<li>\n",
              "<a href=\"/top_lists/670_haejangguk\" onclick=\"trackEvent('CLICK_RELATED_TOPLIST', {&quot;position&quot;:4,&quot;link_name&quot;:&quot;670_haejangguk&quot;})\">\n",
              "<figure class=\"ls-item\">\n",
              "<div class=\"thumb\">\n",
              "<div class=\"inner\">\n",
              "<img alt=\"해장국 맛집 베스트 40곳 사진\" class=\"center-crop portrait lazy\" data-error=\"https://mp-seoul-image-production-s3.mangoplate.com/web/resources/kssf5eveeva_xlmy.jpg?fit=around|*:*&amp;crop=*:*;*,*&amp;output-format=jpg&amp;output-quality=80\" data-original=\"https://mp-seoul-image-production-s3.mangoplate.com/keyword_search/meta/pictures/osycij7rwkdrwnwq.jpg?fit=around|738:738&amp;crop=738:738;*,*&amp;output-format=jpg&amp;output-quality=80\"/>\n",
              "</div>\n",
              "</div>\n",
              "<figcaption class=\"info\">\n",
              "<div class=\"info_inner_wrap\">\n",
              "<span class=\"title\">해장국 맛집 베스트 40곳</span>\n",
              "<p class=\"desc\">\"먹지도 않은 술이 해장되는 기분이야!\"</p>\n",
              "<p class=\"hash\">\n",
              "<span>#해장국 맛집 베스트 40곳</span>\n",
              "</p>\n",
              "</div>\n",
              "</figcaption>\n",
              "</figure>\n",
              "</a>\n",
              "</li>\n",
              "<li>\n",
              "<a href=\"/top_lists/832_wangsimni\" onclick=\"trackEvent('CLICK_RELATED_TOPLIST', {&quot;position&quot;:5,&quot;link_name&quot;:&quot;832_wangsimni&quot;})\">\n",
              "<figure class=\"ls-item\">\n",
              "<div class=\"thumb\">\n",
              "<div class=\"inner\">\n",
              "<img alt=\"왕십리 맛집 베스트 35곳 사진\" class=\"center-crop portrait lazy\" data-error=\"https://mp-seoul-image-production-s3.mangoplate.com/web/resources/kssf5eveeva_xlmy.jpg?fit=around|*:*&amp;crop=*:*;*,*&amp;output-format=jpg&amp;output-quality=80\" data-original=\"https://mp-seoul-image-production-s3.mangoplate.com/keyword_search/meta/pictures/n3vh3lejtdcdqq2k.jpg?fit=around|738:738&amp;crop=738:738;*,*&amp;output-format=jpg&amp;output-quality=80\"/>\n",
              "</div>\n",
              "</div>\n",
              "<figcaption class=\"info\">\n",
              "<div class=\"info_inner_wrap\">\n",
              "<span class=\"title\">왕십리 맛집 베스트 35곳</span>\n",
              "<p class=\"desc\">\"안 먹고 가면 십 리도 못 가서 발병 난다~~\"</p>\n",
              "<p class=\"hash\">\n",
              "<span>#왕십리 맛집 베스트 35곳</span>\n",
              "</p>\n",
              "</div>\n",
              "</figcaption>\n",
              "</figure>\n",
              "</a>\n",
              "</li>\n",
              "</ul>\n",
              "</section>\n",
              "<div class=\"ad_placeholder\" data-inventory=\"download_banner\" data-page=\"toplist\" data-platform=\"web_mobile\"></div>\n",
              "<!-- 관련 식당 목록 -->\n",
              "<section class=\"module related-restaurant\">\n",
              "<span class=\"title\">리스트의 식당과 비슷한 맛집</span>\n",
              "<ul class=\"list-restaurants type-column04\">\n",
              "<li>\n",
              "<div class=\"restaurant-item\">\n",
              "<figure class=\"restaurant-item\">\n",
              "<div class=\"thumb\">\n",
              "<img alt=\"정지영커피로스터즈 사진 - 경기도 수원시 팔달구 장안동 22-15\" class=\"center-croping lazy\" data-error=\"https://mp-seoul-image-production-s3.mangoplate.com/web/resources/kssf5eveeva_xlmy.jpg?fit=around|*:*&amp;crop=*:*;*,*&amp;output-format=jpg&amp;output-quality=80\" data-original=\"https://mp-seoul-image-production-s3.mangoplate.com/1097918_1593655240244804.jpg?fit=around|362:362&amp;crop=362:362;*,*&amp;output-format=jpg&amp;output-quality=80\"/>\n",
              "<a href=\"/restaurants/aQbAmSP65VFT\" onclick=\"trackEvent('CLICK_RELATED_RESTAURANT', {&quot;position&quot;:0,&quot;restaurant_key&quot;:&quot;aQbAmSP65VFT&quot;})\">\n",
              "                          정지영커피로스터즈\n",
              "                          사진\n",
              "                        </a>\n",
              "</div>\n",
              "<figcaption>\n",
              "<div class=\"info\">\n",
              "<a href=\"/restaurants/aQbAmSP65VFT\" onclick=\"trackEvent('CLICK_RELATED_RESTAURANT', {&quot;position&quot;:0,&quot;restaurant_key&quot;:&quot;aQbAmSP65VFT&quot;})\">\n",
              "<span class=\"title\">정지영커피로스터즈</span>\n",
              "</a>\n",
              "<strong class=\"point \">3.9</strong>\n",
              "<p class=\"etc\">\n",
              "                            수원시 -\n",
              "                            카페 / 디저트\n",
              "                          </p>\n",
              "</div>\n",
              "</figcaption>\n",
              "</figure>\n",
              "</div>\n",
              "</li>\n",
              "<li>\n",
              "<div class=\"restaurant-item\">\n",
              "<figure class=\"restaurant-item\">\n",
              "<div class=\"thumb\">\n",
              "<img alt=\"숙달돼지 사진 - 서울시 영등포구 양평동1가 13-18\" class=\"center-croping lazy\" data-error=\"https://mp-seoul-image-production-s3.mangoplate.com/web/resources/kssf5eveeva_xlmy.jpg?fit=around|*:*&amp;crop=*:*;*,*&amp;output-format=jpg&amp;output-quality=80\" data-original=\"https://mp-seoul-image-production-s3.mangoplate.com/572243_1519861528509988.jpg?fit=around|362:362&amp;crop=362:362;*,*&amp;output-format=jpg&amp;output-quality=80\"/>\n",
              "<a href=\"/restaurants/yNU8wBWrkAHO\" onclick=\"trackEvent('CLICK_RELATED_RESTAURANT', {&quot;position&quot;:1,&quot;restaurant_key&quot;:&quot;yNU8wBWrkAHO&quot;})\">\n",
              "                          숙달돼지\n",
              "                          사진\n",
              "                        </a>\n",
              "</div>\n",
              "<figcaption>\n",
              "<div class=\"info\">\n",
              "<a href=\"/restaurants/yNU8wBWrkAHO\" onclick=\"trackEvent('CLICK_RELATED_RESTAURANT', {&quot;position&quot;:1,&quot;restaurant_key&quot;:&quot;yNU8wBWrkAHO&quot;})\">\n",
              "<span class=\"title\">숙달돼지</span>\n",
              "</a>\n",
              "<strong class=\"point \">3.9</strong>\n",
              "<p class=\"etc\">\n",
              "                            영등포구 -\n",
              "                            고기 요리\n",
              "                          </p>\n",
              "</div>\n",
              "</figcaption>\n",
              "</figure>\n",
              "</div>\n",
              "</li>\n",
              "<li>\n",
              "<div class=\"restaurant-item\">\n",
              "<figure class=\"restaurant-item\">\n",
              "<div class=\"thumb\">\n",
              "<img alt=\"마루팥빙수단팥죽 사진 - 부산시 해운대구 중동 1774-5\" class=\"center-croping lazy\" data-error=\"https://mp-seoul-image-production-s3.mangoplate.com/web/resources/kssf5eveeva_xlmy.jpg?fit=around|*:*&amp;crop=*:*;*,*&amp;output-format=jpg&amp;output-quality=80\" data-original=\"https://mp-seoul-image-production-s3.mangoplate.com/32946/467240_1464228076498_4768?fit=around|362:362&amp;crop=362:362;*,*&amp;output-format=jpg&amp;output-quality=80\"/>\n",
              "<a href=\"/restaurants/8oxl-x-3v2\" onclick=\"trackEvent('CLICK_RELATED_RESTAURANT', {&quot;position&quot;:2,&quot;restaurant_key&quot;:&quot;8oxl-x-3v2&quot;})\">\n",
              "                          마루팥빙수단팥죽\n",
              "                          사진\n",
              "                        </a>\n",
              "</div>\n",
              "<figcaption>\n",
              "<div class=\"info\">\n",
              "<a href=\"/restaurants/8oxl-x-3v2\" onclick=\"trackEvent('CLICK_RELATED_RESTAURANT', {&quot;position&quot;:2,&quot;restaurant_key&quot;:&quot;8oxl-x-3v2&quot;})\">\n",
              "<span class=\"title\">마루팥빙수단팥죽</span>\n",
              "</a>\n",
              "<strong class=\"point expected\">3.9</strong>\n",
              "<p class=\"etc\">\n",
              "                            부산 해운대구 -\n",
              "                            카페 / 디저트\n",
              "                          </p>\n",
              "</div>\n",
              "</figcaption>\n",
              "</figure>\n",
              "</div>\n",
              "</li>\n",
              "<li>\n",
              "<div class=\"restaurant-item\">\n",
              "<figure class=\"restaurant-item\">\n",
              "<div class=\"thumb\">\n",
              "<img alt=\"나무사이로 사진 - 서울시 종로구 내자동 196\" class=\"center-croping lazy\" data-error=\"https://mp-seoul-image-production-s3.mangoplate.com/web/resources/kssf5eveeva_xlmy.jpg?fit=around|*:*&amp;crop=*:*;*,*&amp;output-format=jpg&amp;output-quality=80\" data-original=\"https://mp-seoul-image-production-s3.mangoplate.com/37208_1593261911089040.jpg?fit=around|362:362&amp;crop=362:362;*,*&amp;output-format=jpg&amp;output-quality=80\"/>\n",
              "<a href=\"/restaurants/AdWddi4FyZ\" onclick=\"trackEvent('CLICK_RELATED_RESTAURANT', {&quot;position&quot;:3,&quot;restaurant_key&quot;:&quot;AdWddi4FyZ&quot;})\">\n",
              "                          나무사이로\n",
              "                          사진\n",
              "                        </a>\n",
              "</div>\n",
              "<figcaption>\n",
              "<div class=\"info\">\n",
              "<a href=\"/restaurants/AdWddi4FyZ\" onclick=\"trackEvent('CLICK_RELATED_RESTAURANT', {&quot;position&quot;:3,&quot;restaurant_key&quot;:&quot;AdWddi4FyZ&quot;})\">\n",
              "<span class=\"title\">나무사이로</span>\n",
              "</a>\n",
              "<strong class=\"point \">4.1</strong>\n",
              "<p class=\"etc\">\n",
              "                            종로 -\n",
              "                            카페 / 디저트\n",
              "                          </p>\n",
              "</div>\n",
              "</figcaption>\n",
              "</figure>\n",
              "</div>\n",
              "</li>\n",
              "</ul>\n",
              "</section>\n",
              "<!-- 관련 태그 -->\n",
              "<section class=\"module related-tags\">\n",
              "<span class=\"title\">실시간 인기 키워드</span>\n",
              "<p>\n",
              "<a class=\"tag-item\" href=\"/search/분위기\" onclick=\"trackEvent('CLICK_RELATED_KEYWORD', {&quot;position&quot;:0,&quot;keyword&quot;:&quot;분위기&quot;})\">\n",
              "                  분위기\n",
              "                </a>\n",
              "<a class=\"tag-item\" href=\"/search/커피\" onclick=\"trackEvent('CLICK_RELATED_KEYWORD', {&quot;position&quot;:1,&quot;keyword&quot;:&quot;커피&quot;})\">\n",
              "                  커피\n",
              "                </a>\n",
              "<a class=\"tag-item\" href=\"/search/넓다\" onclick=\"trackEvent('CLICK_RELATED_KEYWORD', {&quot;position&quot;:2,&quot;keyword&quot;:&quot;넓다&quot;})\">\n",
              "                  넓다\n",
              "                </a>\n",
              "<a class=\"tag-item\" href=\"/search/카페\" onclick=\"trackEvent('CLICK_RELATED_KEYWORD', {&quot;position&quot;:3,&quot;keyword&quot;:&quot;카페&quot;})\">\n",
              "                  카페\n",
              "                </a>\n",
              "<a class=\"tag-item\" href=\"/search/케이크\" onclick=\"trackEvent('CLICK_RELATED_KEYWORD', {&quot;position&quot;:4,&quot;keyword&quot;:&quot;케이크&quot;})\">\n",
              "                  케이크\n",
              "                </a>\n",
              "<a class=\"tag-item\" href=\"/search/리필\" onclick=\"trackEvent('CLICK_RELATED_KEYWORD', {&quot;position&quot;:5,&quot;keyword&quot;:&quot;리필&quot;})\">\n",
              "                  리필\n",
              "                </a>\n",
              "</p>\n",
              "</section>\n",
              "</div>\n",
              "</div>\n",
              "<!-- 신버전 공유 -->\n",
              "<div class=\"share-sns-another\">\n",
              "<div class=\"share-list\">\n",
              "<div class=\"share-list-divid last\">\n",
              "<div class=\"click_share\">공유 꾹!</div>\n",
              "<button class=\"share\">\n",
              "<span class=\"kakao_share kakaotalk_share_btn\" data-button_name=\"웹페이지에서 보기\" data-content=\"CLICK_SHARE_KAKAO_FLOATING\" data-image=\"https://mp-seoul-image-production-s3.mangoplate.com/keyword_search/meta/pictures/7aq3u-dlqswklat_.jpg?fit=around%7C300:200&amp;crop=300:200;*,*&amp;output-format=jpg&amp;output-quality=80\" data-message=\"[망고플레이트 탑리스트]\n",
              "루프탑 맛집 베스트 60곳 베스트 60곳\n",
              "\n",
              "MangoPlate에서 망고플레이트가 선정한 루프탑 맛집 베스트 60곳을(를) 확인해보세요!\n",
              " \" data-term=\"v1\" data-url=\"http://www.mangoplate.com/top_lists/1953_rooftop_all\" onclick=\"trackEvent('CLICK_SHARE_KAKAO_FLOATING','','','PG_TOPLIST')\"></span>\n",
              "</button>\n",
              "<button class=\"share\">\n",
              "<span class=\"facebook_share facebook_share_btn\" data-content=\"CLICK_SHARE_FACEBOOK_FLOATING\" data-term=\"v1\" onclick=\"trackEvent('CLICK_SHARE_FACEBOOK_FLOATING','','','PG_TOPLIST')\"></span>\n",
              "</button>\n",
              "</div>\n",
              "<div class=\"share-list-divid first\">\n",
              "<button class=\"share small\">\n",
              "<span class=\"mail mail_share_btn\" data-content=\"CLICK_SHARE_EMAIL_FLOATING\" data-message=\"망고플레이트가 선정한 루프탑 맛집 베스트 60곳\" data-term=\"v1\" data-title=\"루프탑 맛집 베스트 60곳 베스트 60곳\" data-url=\"http://www.mangoplate.com/top_lists/1953_rooftop_all\" onclick=\"trackEvent('CLICK_SHARE_EMAIL_FLOATING','','','PG_TOPLIST')\"></span>\n",
              "</button>\n",
              "<button class=\"share small\">\n",
              "<span class=\"band band_share_btn\" data-content=\"CLICK_SHARE_BAND_FLOATING\" data-message=\"루프탑 맛집 베스트 60곳 베스트 60곳\" data-term=\"v1\" data-url=\"http://www.mangoplate.com/top_lists/1953_rooftop_all\" onclick=\"trackEvent('CLICK_SHARE_BAND_FLOATING','','','PG_TOPLIST')\"></span>\n",
              "</button>\n",
              "<button class=\"share small\">\n",
              "<span class=\"twitter twitter_share_btn\" data-content=\"CLICK_SHARE_TWITTER_FLOATING\" data-message=\"루프탑 맛집 베스트 60곳 베스트 60곳\" data-term=\"v1\" onclick=\"trackEvent('CLICK_SHARE_TWITTER_FLOATING','','','PG_TOPLIST')\"></span>\n",
              "</button>\n",
              "<div class=\"click_share\">공유 꾹!</div>\n",
              "</div>\n",
              "</div>\n",
              "<div class=\"etc-btn\">\n",
              "<button class=\"etc-btn-click\">\n",
              "<img alt=\"toggle button\" src=\"https://mp-seoul-image-production-s3.mangoplate.com/web/resources/-phab3qlmjic6ohb.png?fit=around|:&amp;crop=:;*,*&amp;output-format=png&amp;output-quality=80\"/>\n",
              "</button>\n",
              "</div>\n",
              "</div>\n",
              "<div class=\"facebook_comments\" ng-cloak=\"\" ng-show=\"facebook_comments.length\">\n",
              "<div class=\"fb_comment_write_wrap\" ng-show=\"fb_comment_able\">\n",
              "<div class=\"fb_comment_write_uesr_info\">\n",
              "<img alt=\"\" ng-src=\"https://graph.facebook.com/{{::fb_user_id}}/picture\"/>\n",
              "</div>\n",
              "<div class=\"fb_comment_write_input_wrap\">\n",
              "<p class=\"fb_comment_write_user_name\">{{::fb_user_name}}</p>\n",
              "<textarea id=\"fb_comment_write_input\" ng-keyup=\"textAreaAdjust($event)\" placeholder=\"댓글을 입력해주세요.\"></textarea></div></div></div></article></main></body></html>\n",
              "\n",
              "<button class=\"fb_comment_write_submit\" ng-click=\"fb_comment_submit()\">등록</button>\n",
              "\n",
              "<div class=\"fb_comment_login_please_wrap\" ng-show=\"!fb_comment_able\">\n",
              "<p class=\"fb_comment_login_please_message\">페이스북 로그인을 하시면 댓글을 다실 수 있습니다 :)</p>\n",
              "<button class=\"fb_comment_login_please_btn\" ng-click=\"fb_comment_login()\">페이스북 로그인</button>\n",
              "</div>\n",
              "<ul class=\"fb_comment_list\">\n",
              "<li class=\"fb_comment_wrap\" ng-repeat=\"facebook_comment in facebook_comments\">\n",
              "<div class=\"fb_comment_user_picture_area\">\n",
              "<div class=\"fb_comment_user_picture\">\n",
              "<img alt=\"\" ng-src=\"https://graph.facebook.com/{{::facebook_comment.from.id}}/picture\"/>\n",
              "</div>\n",
              "</div>\n",
              "<div class=\"fb_comment\">\n",
              "<p class=\"fb_comment_user_name\">{{::facebook_comment.from.name}}</p>\n",
              "<p class=\"fb_comment_desc\" ng-bind-html=\"facebook_comment.message\"></p>\n",
              "<p class=\"fb_comment_date\">{{::momentjs(facebook_comment.created_time).format('YYYY-MM-DD HH:mm:ss')}}</p>\n",
              "</div>\n",
              "</li>\n",
              "<script charset=\"utf-8\" id=\"fb_comment_template\" type=\"text/template\">\n",
              "\t    <li class=\"fb_comment_wrap\">\n",
              "\t      <div class=\"fb_comment_user_picture_area\">\n",
              "\t        <div class=\"fb_comment_user_picture\">\n",
              "\t          <img src=\"\" alt=\"\" />\n",
              "\t        </div>\n",
              "\t      </div>\n",
              "\n",
              "\t      <div class=\"fb_comment\">\n",
              "\t        <p class=\"fb_comment_user_name\"></p>\n",
              "\t        <p class=\"fb_comment_desc\"></p>\n",
              "\t        <p class=\"fb_comment_date\"></p>\n",
              "\t      </div>\n",
              "\t    </li>\n",
              "\t  </script>\n",
              "</ul>\n",
              "<button class=\"fb_comment_more_btn\" ng-click=\"get_more_facebook_comment()\" ng-show=\"!facebook_comment_loading &amp;&amp; !facebook_comment_end\">더보기</button>\n",
              "<img alt=\"\" class=\"fb_comment_loading_bar\" ng-show=\"facebook_comment_loading\" src=\"https://mp-seoul-image-production-s3.mangoplate.com/web/resources/ldcyd5lxlvtlppe3.gif?fit=around|:&amp;crop=:;*,*&amp;output-format=gif&amp;output-quality=80\" width=\"40\"/>\n",
              "<div class=\"fb_loading_popup\">\n",
              "<img alt=\"\" class=\"fb_comment_loading_bar\" src=\"https://mp-seoul-image-production-s3.mangoplate.com/web/resources/ldcyd5lxlvtlppe3.gif?fit=around|:&amp;crop=:;*,*&amp;output-format=gif&amp;output-quality=80\" width=\"40\"/>\n",
              "</div>\n",
              "\n",
              "\n",
              "<div class=\"ad_placeholder\" data-inventory=\"all\" data-page=\"init\" data-platform=\"web_mobile\"></div>\n",
              "<div class=\"ad_placeholder\" data-inventory=\"all\" data-page=\"init\" data-platform=\"web_desktop\"></div>\n",
              "<div class=\"PopupUseApp__Dim\"></div>\n",
              "<div class=\"PopupUseApp\">\n",
              "<div class=\"PopupUseApp__Content\">\n",
              "<div class=\"PopupUseApp__Content__Align\">\n",
              "<div class=\"PopupUseApp__Content__Align__Inner\">\n",
              "<img alt=\"MangoPlate App Logo\" class=\"PopupUseApp__Content__Align__Inner--Logo\" src=\"https://mp-seoul-image-production-s3.mangoplate.com/web/resources/mp-product-app-logo@3x.png\"/>\n",
              "<div class=\"PopupUseApp__Content__Align__Inner--Text\">\n",
              "          앱으로 더욱 편리하게 주변 맛집을 검색하고, 할인도 받아보세요!\n",
              "        </div>\n",
              "</div>\n",
              "<div class=\"PopupUseApp__linkMain\">망고플레이트 앱으로 보기</div>\n",
              "<div class=\"PopupUseApp__linkSub\">모바일 웹으로 볼게요</div>\n",
              "</div>\n",
              "</div>\n",
              "</div>\n",
              "<div class=\"BottomBarUseApp\">\n",
              "<div class=\"BottomBarUseApp__Wrap\">\n",
              "<div class=\"BottomBarUseApp__Close\">\n",
              "<img alt=\"MangoPlate UseApp BottomBar Close\" src=\"https://mp-seoul-image-production-s3.mangoplate.com/web/resources/mobile-web-mini-popup-closed.svg\">\n",
              "</img></div>\n",
              "<div class=\"BottomBarUseApp__Content\">\n",
              "<img alt=\"MangoPlate UseApp BottomBar Logo\" class=\"BottomBarUseApp__Content-Logo\" src=\"https://mp-seoul-image-production-s3.mangoplate.com/web/resources/mp-product-app-logo@3x.png\"/>\n",
              "<div class=\"BottomBarUseApp__Content-Text\">\n",
              "        망고플레이트 앱으로<br/> 더욱 편리하게 이용하세요.\n",
              "      </div>\n",
              "<div class=\"BottomBarUseApp__Content-SeeToApp\">앱으로 보기</div>\n",
              "</div>\n",
              "</div>\n",
              "</div>\n",
              "\n",
              "<script charset=\"utf-8\" id=\"top_list_data_json\" type=\"application/json\">[{&quot;restaurant&quot;:{&quot;restaurant_uuid&quot;:279901,&quot;cusine_code&quot;:7,&quot;subcusine_code&quot;:30,&quot;region_code&quot;:2,&quot;metro_code&quot;:66,&quot;latitude&quot;:&quot;37.5465638&quot;,&quot;longitude&quot;:&quot;127.0416155&quot;,&quot;status_code&quot;:1,&quot;is_active&quot;:true,&quot;phone_number&quot;:&quot;070-8868-2008&quot;,&quot;phone1&quot;:&quot;070-8868-2008&quot;,&quot;price_range_code&quot;:1,&quot;is_verified&quot;:1,&quot;name&quot;:&quot;센터커피&quot;,&quot;branch_name&quot;:&quot;서울숲점&quot;,&quot;address&quot;:&quot;서울시 성동구 성수동1가 685-478&quot;,&quot;road_address&quot;:&quot;서울특별시 성동구 서울숲2길 28-11&quot;,&quot;building_name&quot;:&quot;&quot;,&quot;floor&quot;:&quot;&quot;,&quot;restaurant_key&quot;:&quot;Nel5gICwJ98Y&quot;,&quot;web_url&quot;:&quot;https://www.mangoplate.com/restaurants/Nel5gICwJ98Y&quot;,&quot;review_count&quot;:132,&quot;comment_count&quot;:132,&quot;picture_count&quot;:483,&quot;view_count&quot;:149607,&quot;beenhere_count&quot;:132,&quot;wannago_count&quot;:4004,&quot;checkin_count&quot;:280,&quot;rating&quot;:4.4,&quot;official_rating_available&quot;:1,&quot;picture_url&quot;:&quot;132097_1628965749563209.jpg&quot;,&quot;pic_domain&quot;:&quot;https://mp-seoul-image-production-s3.mangoplate.com&quot;,&quot;pic_key&quot;:&quot;132097_1628965749563209.jpg&quot;,&quot;distance&quot;:0},&quot;action&quot;:null,&quot;wanna_go_count&quot;:4004,&quot;been_here_count&quot;:132,&quot;view_count&quot;:149607,&quot;review_count&quot;:132,&quot;review_char_7_count&quot;:132,&quot;rating&quot;:4.4,&quot;official_rating_available&quot;:1,&quot;eat_deal_badge_url&quot;:null,&quot;features&quot;:[],&quot;featured_reviews&quot;:[{&quot;comment&quot;:&quot;이곳은 커피맛집입니다 ~~ 까다로운 커피 취향을 저격해버린곳 날좋은날 루프탑에 앉아서 책을 읽으면 그곳이 천국입니다 ㅎ 맛있는 커피와 그옆집 맛있는 디저트! 저 레몬케이크를 드세요 ⭐️이곳은 드립커피가 맛있는곳입니다⭐️ 드립커피를 드셔야해요 !! 약간 산미가 있는 커피지만 넘나 맛있음&quot;,&quot;user&quot;:{&quot;member_uuid&quot;:1175978,&quot;nick_name&quot;:&quot;Yeonhwa&quot;,&quot;picture_url&quot;:&quot;https://s3-ap-northeast-2.amazonaws.com/mp-seoul-image-production/1175978_1650554030993&quot;,&quot;picture_type&quot;:&quot;user&quot;,&quot;facebook_id&quot;:null,&quot;is_holic&quot;:true,&quot;badge_list&quot;:[{&quot;code&quot;:11,&quot;title&quot;:&quot;2020.2&quot;,&quot;description&quot;:&quot;2020년 하반기 홀릭&quot;,&quot;image_url&quot;:null},{&quot;code&quot;:12,&quot;title&quot;:&quot;2021.1&quot;,&quot;description&quot;:&quot;2021년 상반기 홀릭&quot;,&quot;image_url&quot;:null},{&quot;code&quot;:13,&quot;title&quot;:&quot;2021.2&quot;,&quot;description&quot;:&quot;2021년 하반기 홀릭&quot;,&quot;image_url&quot;:null},{&quot;code&quot;:20220110,&quot;title&quot;:&quot;2022.1&quot;,&quot;description&quot;:&quot;2022년 상반기 홀릭&quot;,&quot;image_url&quot;:null}]}}],&quot;description&quot;:null},{&quot;restaurant&quot;:{&quot;restaurant_uuid&quot;:442055,&quot;cusine_code&quot;:7,&quot;subcusine_code&quot;:31,&quot;region_code&quot;:3,&quot;metro_code&quot;:53,&quot;latitude&quot;:&quot;37.3121414&quot;,&quot;longitude&quot;:&quot;127.0549624&quot;,&quot;status_code&quot;:1,&quot;is_active&quot;:true,&quot;phone_number&quot;:&quot;031-217-0004&quot;,&quot;phone1&quot;:&quot;031-217-0004&quot;,&quot;price_range_code&quot;:1,&quot;is_verified&quot;:1,&quot;name&quot;:&quot;르디투어&quot;,&quot;branch_name&quot;:null,&quot;address&quot;:&quot;경기도 수원시 영통구 이의동 1222-2&quot;,&quot;road_address&quot;:&quot;경기도 수원시 영통구 웰빙타운로36번길 46-234&quot;,&quot;building_name&quot;:null,&quot;floor&quot;:null,&quot;restaurant_key&quot;:&quot;SOtX1qn8lr2z&quot;,&quot;web_url&quot;:&quot;https://www.mangoplate.com/restaurants/SOtX1qn8lr2z&quot;,&quot;review_count&quot;:19,&quot;comment_count&quot;:19,&quot;picture_count&quot;:123,&quot;view_count&quot;:15719,&quot;beenhere_count&quot;:19,&quot;wannago_count&quot;:425,&quot;checkin_count&quot;:38,&quot;rating&quot;:4.4,&quot;official_rating_available&quot;:1,&quot;picture_url&quot;:&quot;567429_1626507780341375.jpg&quot;,&quot;pic_domain&quot;:&quot;https://mp-seoul-image-production-s3.mangoplate.com&quot;,&quot;pic_key&quot;:&quot;567429_1626507780341375.jpg&quot;,&quot;distance&quot;:0},&quot;action&quot;:null,&quot;wanna_go_count&quot;:425,&quot;been_here_count&quot;:19,&quot;view_count&quot;:15719,&quot;review_count&quot;:19,&quot;review_char_7_count&quot;:19,&quot;rating&quot;:4.4,&quot;official_rating_available&quot;:1,&quot;eat_deal_badge_url&quot;:null,&quot;features&quot;:[],&quot;featured_reviews&quot;:[{&quot;comment&quot;:&quot;광교 카페거리로 밥먹으러 갔다가 새로운 카페를 찾아서 가본 곳인데 너무너무 만족스러워서 리뷰 올려봅니다 디자인대상 받은 건물이라는데 1,2,3층+루프탑 까지 있어서 날씨 좋아지는 요새 방문하기에 딱 좋은 곳 같아요 원두도 클래식, 시즈널, 디카페인으로 3개나 준비되어있고 디저트류 빵이랑 식사빵도 종류별로 잘 구성되어있어서&quot;,&quot;user&quot;:{&quot;member_uuid&quot;:43205,&quot;nick_name&quot;:&quot;배불러!!&quot;,&quot;picture_url&quot;:&quot;https://s3-ap-northeast-2.amazonaws.com/mp-seoul-image-production/43205_1649767567074&quot;,&quot;picture_type&quot;:&quot;user&quot;,&quot;facebook_id&quot;:&quot;10204388238080550&quot;,&quot;is_holic&quot;:false,&quot;badge_list&quot;:null}}],&quot;description&quot;:null},{&quot;restaurant&quot;:{&quot;restaurant_uuid&quot;:196755,&quot;cusine_code&quot;:4,&quot;subcusine_code&quot;:9,&quot;region_code&quot;:2,&quot;metro_code&quot;:39,&quot;latitude&quot;:&quot;37.5475152&quot;,&quot;longitude&quot;:&quot;126.9840075&quot;,&quot;status_code&quot;:1,&quot;is_active&quot;:true,&quot;phone_number&quot;:&quot;02-777-3338&quot;,&quot;phone1&quot;:&quot;02-777-3338&quot;,&quot;price_range_code&quot;:2,&quot;is_verified&quot;:1,&quot;name&quot;:&quot;더백푸드트럭&quot;,&quot;branch_name&quot;:null,&quot;address&quot;:&quot;서울시 용산구 후암동 406-55&quot;,&quot;road_address&quot;:&quot;서울특별시 용산구 신흥로20길 45&quot;,&quot;building_name&quot;:null,&quot;floor&quot;:&quot;1-3F&quot;,&quot;restaurant_key&quot;:&quot;dGrzcb90tI&quot;,&quot;web_url&quot;:&quot;https://www.mangoplate.com/restaurants/dGrzcb90tI&quot;,&quot;review_count&quot;:124,&quot;comment_count&quot;:124,&quot;picture_count&quot;:361,&quot;view_count&quot;:171840,&quot;beenhere_count&quot;:124,&quot;wannago_count&quot;:4322,&quot;checkin_count&quot;:234,&quot;rating&quot;:4.3,&quot;official_rating_available&quot;:1,&quot;picture_url&quot;:&quot;840122_1623206227084474.jpg&quot;,&quot;pic_domain&quot;:&quot;https://mp-seoul-image-production-s3.mangoplate.com&quot;,&quot;pic_key&quot;:&quot;840122_1623206227084474.jpg&quot;,&quot;distance&quot;:0},&quot;action&quot;:null,&quot;wanna_go_count&quot;:4322,&quot;been_here_count&quot;:124,&quot;view_count&quot;:171840,&quot;review_count&quot;:124,&quot;review_char_7_count&quot;:124,&quot;rating&quot;:4.3,&quot;official_rating_available&quot;:1,&quot;eat_deal_badge_url&quot;:null,&quot;features&quot;:[],&quot;featured_reviews&quot;:[{&quot;comment&quot;:&quot;너무너무너무 친절하셨다ㅋㅋㅋㅋ 다 먹고 이날 비가 와서 루프탑에는 오픈이 안 되어 있었는데 그냥 아쉬운 마음에 노을 보고 있으니 정리하러 올라오셔서 우리 발견하시고는 찐친텐션으로 사진찍어주셨음ㅋㅋㅋㅋ&quot;,&quot;user&quot;:{&quot;member_uuid&quot;:1059167,&quot;nick_name&quot;:&quot;미콩&quot;,&quot;picture_url&quot;:&quot;https://s3-ap-northeast-2.amazonaws.com/mp-seoul-image-production/1059167_1642344949742&quot;,&quot;picture_type&quot;:&quot;user&quot;,&quot;facebook_id&quot;:&quot;304151656792269&quot;,&quot;is_holic&quot;:true,&quot;badge_list&quot;:[{&quot;code&quot;:5,&quot;title&quot;:&quot;2017.2&quot;,&quot;description&quot;:&quot;2017년 하반기 홀릭&quot;,&quot;image_url&quot;:null},{&quot;code&quot;:6,&quot;title&quot;:&quot;2018.1&quot;,&quot;description&quot;:&quot;2018년 상반기 홀릭&quot;,&quot;image_url&quot;:null},{&quot;code&quot;:7,&quot;title&quot;:&quot;2018.2&quot;,&quot;description&quot;:&quot;2018년 하반기 홀릭&quot;,&quot;image_url&quot;:null},{&quot;code&quot;:8,&quot;title&quot;:&quot;2019.1&quot;,&quot;description&quot;:&quot;2019년 상반기 홀릭&quot;,&quot;image_url&quot;:null},{&quot;code&quot;:9,&quot;title&quot;:&quot;2019.2&quot;,&quot;description&quot;:&quot;2019년 하반기 홀릭&quot;,&quot;image_url&quot;:null},{&quot;code&quot;:10,&quot;title&quot;:&quot;2020.1&quot;,&quot;description&quot;:&quot;2020년 상반기 홀릭&quot;,&quot;image_url&quot;:null},{&quot;code&quot;:11,&quot;title&quot;:&quot;2020.2&quot;,&quot;description&quot;:&quot;2020년 하반기 홀릭&quot;,&quot;image_url&quot;:null},{&quot;code&quot;:12,&quot;title&quot;:&quot;2021.1&quot;,&quot;description&quot;:&quot;2021년 상반기 홀릭&quot;,&quot;image_url&quot;:null},{&quot;code&quot;:20210220,&quot;title&quot;:&quot;2022.2&quot;,&quot;description&quot;:&quot;2021년 하반기 블랙 홀릭&quot;,&quot;image_url&quot;:null},{&quot;code&quot;:20220120,&quot;title&quot;:&quot;2022.1&quot;,&quot;description&quot;:&quot;2022년 상반기 블랙 홀릭&quot;,&quot;image_url&quot;:null}]}}],&quot;description&quot;:null},{&quot;restaurant&quot;:{&quot;restaurant_uuid&quot;:330348,&quot;cusine_code&quot;:7,&quot;subcusine_code&quot;:30,&quot;region_code&quot;:2,&quot;metro_code&quot;:72,&quot;latitude&quot;:&quot;37.55187&quot;,&quot;longitude&quot;:&quot;126.9110635&quot;,&quot;status_code&quot;:1,&quot;is_active&quot;:true,&quot;phone_number&quot;:&quot;02-566-3861&quot;,&quot;phone1&quot;:&quot;02-566-3861&quot;,&quot;price_range_code&quot;:1,&quot;is_verified&quot;:1,&quot;name&quot;:&quot;포비&quot;,&quot;branch_name&quot;:&quot;합정점&quot;,&quot;address&quot;:&quot;서울시 마포구 합정동 426-18&quot;,&quot;road_address&quot;:&quot;서울특별시 마포구 양화로3길 66&quot;,&quot;building_name&quot;:null,&quot;floor&quot;:null,&quot;restaurant_key&quot;:&quot;Hrii5HjHIRoi&quot;,&quot;web_url&quot;:&quot;https://www.mangoplate.com/restaurants/Hrii5HjHIRoi&quot;,&quot;review_count&quot;:146,&quot;comment_count&quot;:146,&quot;picture_count&quot;:544,&quot;view_count&quot;:92998,&quot;beenhere_count&quot;:146,&quot;wannago_count&quot;:3524,&quot;checkin_count&quot;:260,&quot;rating&quot;:4.3,&quot;official_rating_available&quot;:1,&quot;picture_url&quot;:&quot;652493_1555331366273447.jpg&quot;,&quot;pic_domain&quot;:&quot;https://mp-seoul-image-production-s3.mangoplate.com&quot;,&quot;pic_key&quot;:&quot;652493_1555331366273447.jpg&quot;,&quot;distance&quot;:0},&quot;action&quot;:null,&quot;wanna_go_count&quot;:3524,&quot;been_here_count&quot;:146,&quot;view_count&quot;:92998,&quot;review_count&quot;:146,&quot;review_char_7_count&quot;:146,&quot;rating&quot;:4.3,&quot;official_rating_available&quot;:1,&quot;eat_deal_badge_url&quot;:null,&quot;features&quot;:[],&quot;featured_reviews&quot;:[{&quot;comment&quot;:&quot;진짜 좋아하는곳 ! 동네도 아니고 같은곳 여러번 잘 안가는데 여기는 5번갔어요 ㅋㅋㅋ 베이글도 맛있고 이름으로 불러주는것도 특이하고 카페도 탁 트여있고 커서 좋습니당 !&quot;,&quot;user&quot;:{&quot;member_uuid&quot;:2193984,&quot;nick_name&quot;:&quot;Ppp&quot;,&quot;picture_url&quot;:&quot;https://s3-ap-northeast-2.amazonaws.com/mp-seoul-image-production/2193984_1646021861386&quot;,&quot;picture_type&quot;:&quot;user&quot;,&quot;facebook_id&quot;:null,&quot;is_holic&quot;:false,&quot;badge_list&quot;:null}}],&quot;description&quot;:null},{&quot;restaurant&quot;:{&quot;restaurant_uuid&quot;:390006,&quot;cusine_code&quot;:1,&quot;subcusine_code&quot;:7,&quot;region_code&quot;:2,&quot;metro_code&quot;:20,&quot;latitude&quot;:&quot;37.5770374&quot;,&quot;longitude&quot;:&quot;126.9916975&quot;,&quot;status_code&quot;:1,&quot;is_active&quot;:true,&quot;phone_number&quot;:&quot;02-744-3979&quot;,&quot;phone1&quot;:&quot;02-744-3979&quot;,&quot;price_range_code&quot;:2,&quot;is_verified&quot;:1,&quot;name&quot;:&quot;이다&quot;,&quot;branch_name&quot;:&quot;&quot;,&quot;address&quot;:&quot;서울시 종로구 권농동 141-5&quot;,&quot;road_address&quot;:&quot;서울특별시 종로구 서순라길 153&quot;,&quot;building_name&quot;:&quot;&quot;,&quot;floor&quot;:&quot;&quot;,&quot;restaurant_key&quot;:&quot;J3PdFUAW1z6v&quot;,&quot;web_url&quot;:&quot;https://www.mangoplate.com/restaurants/J3PdFUAW1z6v&quot;,&quot;review_count&quot;:66,&quot;comment_count&quot;:66,&quot;picture_count&quot;:448,&quot;view_count&quot;:40968,&quot;beenhere_count&quot;:66,&quot;wannago_count&quot;:1693,&quot;checkin_count&quot;:54,&quot;rating&quot;:4.3,&quot;official_rating_available&quot;:1,&quot;picture_url&quot;:&quot;564068_1622267862475460.jpg&quot;,&quot;pic_domain&quot;:&quot;https://mp-seoul-image-production-s3.mangoplate.com&quot;,&quot;pic_key&quot;:&quot;564068_1622267862475460.jpg&quot;,&quot;distance&quot;:0},&quot;action&quot;:null,&quot;wanna_go_count&quot;:1693,&quot;been_here_count&quot;:66,&quot;view_count&quot;:40968,&quot;review_count&quot;:66,&quot;review_char_7_count&quot;:66,&quot;rating&quot;:4.3,&quot;official_rating_available&quot;:1,&quot;eat_deal_badge_url&quot;:null,&quot;features&quot;:[],&quot;featured_reviews&quot;:[{&quot;comment&quot;:&quot;특별한날에 2층 창가자리 예약해서 프라이빗하게 즐기기 좋음. 소스나 재료 조합도 굿 가리비가 맛있고, 문어는 식감이 좀 특이했습니다 항정살도 양 많고 맛있어요 페어링한 하우스와인도 요리와 잘 맞았습니다&quot;,&quot;user&quot;:{&quot;member_uuid&quot;:2229677,&quot;nick_name&quot;:&quot;옥탑방&quot;,&quot;picture_url&quot;:&quot;https://s3-ap-northeast-2.amazonaws.com/mp-seoul-image-production/2229677_1650002606371&quot;,&quot;picture_type&quot;:&quot;user&quot;,&quot;facebook_id&quot;:null,&quot;is_holic&quot;:false,&quot;badge_list&quot;:null}}],&quot;description&quot;:null},{&quot;restaurant&quot;:{&quot;restaurant_uuid&quot;:357714,&quot;cusine_code&quot;:8,&quot;subcusine_code&quot;:33,&quot;region_code&quot;:2,&quot;metro_code&quot;:71,&quot;latitude&quot;:&quot;37.562066&quot;,&quot;longitude&quot;:&quot;126.9250095&quot;,&quot;status_code&quot;:1,&quot;is_active&quot;:true,&quot;phone_number&quot;:&quot;010-4044-6320&quot;,&quot;phone1&quot;:&quot;010-4044-6320&quot;,&quot;price_range_code&quot;:2,&quot;is_verified&quot;:1,&quot;name&quot;:&quot;어반루프&quot;,&quot;branch_name&quot;:null,&quot;address&quot;:&quot;서울시 마포구 연남동 390-71&quot;,&quot;road_address&quot;:&quot;서울특별시 마포구 동교로38길 13&quot;,&quot;building_name&quot;:null,&quot;floor&quot;:&quot;3F&quot;,&quot;restaurant_key&quot;:&quot;pdS7zz9pe6Mm&quot;,&quot;web_url&quot;:&quot;https://www.mangoplate.com/restaurants/pdS7zz9pe6Mm&quot;,&quot;review_count&quot;:11,&quot;comment_count&quot;:11,&quot;picture_count&quot;:40,&quot;view_count&quot;:10945,&quot;beenhere_count&quot;:11,&quot;wannago_count&quot;:326,&quot;checkin_count&quot;:12,&quot;rating&quot;:4.2,&quot;official_rating_available&quot;:1,&quot;picture_url&quot;:&quot;357714/1715652_1619755381874_22503&quot;,&quot;pic_domain&quot;:&quot;https://mp-seoul-image-production-s3.mangoplate.com&quot;,&quot;pic_key&quot;:&quot;357714/1715652_1619755381874_22503&quot;,&quot;distance&quot;:0},&quot;action&quot;:null,&quot;wanna_go_count&quot;:326,&quot;been_here_count&quot;:11,&quot;view_count&quot;:10945,&quot;review_count&quot;:11,&quot;review_char_7_count&quot;:11,&quot;rating&quot;:4.2,&quot;official_rating_available&quot;:1,&quot;eat_deal_badge_url&quot;:null,&quot;features&quot;:[],&quot;featured_reviews&quot;:[{&quot;comment&quot;:&quot;연남동에 위치한 루프탑입니다. 여러가지 맥주, 칵테일류를 판매중이었습니다. 생각보다 골목길을 올라가야 했지만 그만큼 뷰는 좋았네요. 매장이 넓은 편은 아니지만 제법 깔끔하게 인테리어가 되어있었어요. 루프탑 분위기도 좋았습니다. 홍대특성 상 탁트인 뷰는 아니었지만 늦여름, 초가을 밤에 선선하게 즐기기 좋을 것 같아요.&quot;,&quot;user&quot;:{&quot;member_uuid&quot;:2050161,&quot;nick_name&quot;:&quot;혀니&quot;,&quot;picture_url&quot;:&quot;https://s3-ap-northeast-2.amazonaws.com/mp-seoul-image-production/2050161_1632923789048&quot;,&quot;picture_type&quot;:&quot;user&quot;,&quot;facebook_id&quot;:null,&quot;is_holic&quot;:true,&quot;badge_list&quot;:[{&quot;code&quot;:20220110,&quot;title&quot;:&quot;2022.1&quot;,&quot;description&quot;:&quot;2022년 상반기 홀릭&quot;,&quot;image_url&quot;:null}]}}],&quot;description&quot;:null},{&quot;restaurant&quot;:{&quot;restaurant_uuid&quot;:436208,&quot;cusine_code&quot;:4,&quot;subcusine_code&quot;:9,&quot;region_code&quot;:3,&quot;metro_code&quot;:53,&quot;latitude&quot;:&quot;37.2846819&quot;,&quot;longitude&quot;:&quot;127.0231278&quot;,&quot;status_code&quot;:1,&quot;is_active&quot;:true,&quot;phone_number&quot;:&quot;031-248-7752&quot;,&quot;phone1&quot;:&quot;031-248-7752&quot;,&quot;price_range_code&quot;:2,&quot;is_verified&quot;:1,&quot;name&quot;:&quot;카페메이븐&quot;,&quot;branch_name&quot;:null,&quot;address&quot;:&quot;경기도 수원시 팔달구 남수동 11-443&quot;,&quot;road_address&quot;:&quot;경기도 수원시 팔달구 창룡대로74번길 15&quot;,&quot;building_name&quot;:null,&quot;floor&quot;:null,&quot;restaurant_key&quot;:&quot;A-s7x51kFTGz&quot;,&quot;web_url&quot;:&quot;https://www.mangoplate.com/restaurants/A-s7x51kFTGz&quot;,&quot;review_count&quot;:6,&quot;comment_count&quot;:6,&quot;picture_count&quot;:9,&quot;view_count&quot;:4686,&quot;beenhere_count&quot;:6,&quot;wannago_count&quot;:147,&quot;checkin_count&quot;:7,&quot;rating&quot;:4.2,&quot;official_rating_available&quot;:0,&quot;picture_url&quot;:&quot;436208/1851545_1607868724930_32422&quot;,&quot;pic_domain&quot;:&quot;https://mp-seoul-image-production-s3.mangoplate.com&quot;,&quot;pic_key&quot;:&quot;436208/1851545_1607868724930_32422&quot;,&quot;distance&quot;:0},&quot;action&quot;:null,&quot;wanna_go_count&quot;:147,&quot;been_here_count&quot;:6,&quot;view_count&quot;:4686,&quot;review_count&quot;:6,&quot;review_char_7_count&quot;:6,&quot;rating&quot;:4.2,&quot;official_rating_available&quot;:0,&quot;eat_deal_badge_url&quot;:null,&quot;features&quot;:[],&quot;featured_reviews&quot;:[{&quot;comment&quot;:&quot;분위기 맛 다 좋아요! 저런 갬성뿜뿜한 브런치카페의 맛을 신뢰하지않는 편인데 이곳은 트렌디하면서도 가격도 괜찮고 맛도 있었어요. 내부규모도 엄청 넓고, 야외 테라스나 루프탑도 있어요. 메뉴는 샐러드파스타, 프렌치토스트와 파니니를 시켰고 프렌치토스트는 같이간 일행 모두 감탄을 하면서 먹은 메뉴입니다ㅎㅎ&quot;,&quot;user&quot;:{&quot;member_uuid&quot;:903455,&quot;nick_name&quot;:&quot;먹린이&quot;,&quot;picture_url&quot;:&quot;https://s3-ap-northeast-2.amazonaws.com/mp-seoul-image-production/903455_1623151638973&quot;,&quot;picture_type&quot;:&quot;user&quot;,&quot;facebook_id&quot;:null,&quot;is_holic&quot;:false,&quot;badge_list&quot;:null}}],&quot;description&quot;:null},{&quot;restaurant&quot;:{&quot;restaurant_uuid&quot;:401272,&quot;cusine_code&quot;:7,&quot;subcusine_code&quot;:30,&quot;region_code&quot;:3,&quot;metro_code&quot;:321,&quot;latitude&quot;:&quot;37.4167542&quot;,&quot;longitude&quot;:&quot;126.9852314&quot;,&quot;status_code&quot;:1,&quot;is_active&quot;:true,&quot;phone_number&quot;:&quot;070-8860-3703&quot;,&quot;phone1&quot;:&quot;070-8860-3703&quot;,&quot;price_range_code&quot;:1,&quot;is_verified&quot;:1,&quot;name&quot;:&quot;비비커피&quot;,&quot;branch_name&quot;:null,&quot;address&quot;:&quot;경기도 과천시 갈현동 15-14&quot;,&quot;road_address&quot;:&quot;경기도 과천시 찬우물로 21&quot;,&quot;building_name&quot;:null,&quot;floor&quot;:&quot;3F&quot;,&quot;restaurant_key&quot;:&quot;z6g7UUetwRDp&quot;,&quot;web_url&quot;:&quot;https://www.mangoplate.com/restaurants/z6g7UUetwRDp&quot;,&quot;review_count&quot;:16,&quot;comment_count&quot;:16,&quot;picture_count&quot;:75,&quot;view_count&quot;:18146,&quot;beenhere_count&quot;:16,&quot;wannago_count&quot;:420,&quot;checkin_count&quot;:26,&quot;rating&quot;:4.1,&quot;official_rating_available&quot;:1,&quot;picture_url&quot;:&quot;908198_1598016573677378.jpg&quot;,&quot;pic_domain&quot;:&quot;https://mp-seoul-image-production-s3.mangoplate.com&quot;,&quot;pic_key&quot;:&quot;908198_1598016573677378.jpg&quot;,&quot;distance&quot;:0},&quot;action&quot;:null,&quot;wanna_go_count&quot;:420,&quot;been_here_count&quot;:16,&quot;view_count&quot;:18146,&quot;review_count&quot;:16,&quot;review_char_7_count&quot;:16,&quot;rating&quot;:4.1,&quot;official_rating_available&quot;:1,&quot;eat_deal_badge_url&quot;:null,&quot;features&quot;:[],&quot;featured_reviews&quot;:[{&quot;comment&quot;:&quot;최애 카페에요! 혼자 공부하기 좋고, 과천에 친구들 놀러오면 같이 가기도 좋아요 음료 가격도 적당하고 무엇보다 디저트가 다양하고 맛나요 인테리어도 취향저격!! 이런 카페가 집 주변에 있어서 정말 좋아요♥️&quot;,&quot;user&quot;:{&quot;member_uuid&quot;:2094768,&quot;nick_name&quot;:&quot;박솔지&quot;,&quot;picture_url&quot;:&quot;https://k.kakaocdn.net/dn/4fBYC/btre4MURMkz/qe854XsxPVAsEmcP2Rijpk/img_640x640.jpg&quot;,&quot;picture_type&quot;:&quot;kakao&quot;,&quot;facebook_id&quot;:null,&quot;is_holic&quot;:false,&quot;badge_list&quot;:null}}],&quot;description&quot;:null},{&quot;restaurant&quot;:{&quot;restaurant_uuid&quot;:400262,&quot;cusine_code&quot;:7,&quot;subcusine_code&quot;:30,&quot;region_code&quot;:3,&quot;metro_code&quot;:53,&quot;latitude&quot;:&quot;37.2868728&quot;,&quot;longitude&quot;:&quot;127.01722&quot;,&quot;status_code&quot;:1,&quot;is_active&quot;:true,&quot;phone_number&quot;:&quot;070-7543-4332&quot;,&quot;phone1&quot;:&quot;070-7543-4332&quot;,&quot;price_range_code&quot;:1,&quot;is_verified&quot;:1,&quot;name&quot;:&quot;정지영커피로스터즈&quot;,&quot;branch_name&quot;:&quot;화홍문점&quot;,&quot;address&quot;:&quot;경기도 수원시 팔달구 북수동 33-9&quot;,&quot;road_address&quot;:&quot;경기도 수원시 팔달구 수원천로 375&quot;,&quot;building_name&quot;:null,&quot;floor&quot;:null,&quot;restaurant_key&quot;:&quot;5bvTS5KyNk9g&quot;,&quot;web_url&quot;:&quot;https://www.mangoplate.com/restaurants/5bvTS5KyNk9g&quot;,&quot;review_count&quot;:12,&quot;comment_count&quot;:12,&quot;picture_count&quot;:44,&quot;view_count&quot;:8205,&quot;beenhere_count&quot;:12,&quot;wannago_count&quot;:291,&quot;checkin_count&quot;:31,&quot;rating&quot;:4.1,&quot;official_rating_available&quot;:1,&quot;picture_url&quot;:&quot;400262/965277_1599654351780_30968&quot;,&quot;pic_domain&quot;:&quot;https://mp-seoul-image-production-s3.mangoplate.com&quot;,&quot;pic_key&quot;:&quot;400262/965277_1599654351780_30968&quot;,&quot;distance&quot;:0},&quot;action&quot;:null,&quot;wanna_go_count&quot;:291,&quot;been_here_count&quot;:12,&quot;view_count&quot;:8205,&quot;review_count&quot;:12,&quot;review_char_7_count&quot;:12,&quot;rating&quot;:4.1,&quot;official_rating_available&quot;:1,&quot;eat_deal_badge_url&quot;:null,&quot;features&quot;:[],&quot;featured_reviews&quot;:[{&quot;comment&quot;:&quot;만족도 ☆☆☆☆☆ 카페는 작아보였지만 뒤쪽이 넓직하고 좋았다 주택을 개조해서 인테리어가 이쁘고 분위기가 좋았다~ 노래도 마음에드는, 그리고 루프탑은 밤에 정말 야경이 끝내준다 ! 아메리카노는 디카페인이 있어서 좋았다 그리고 더티초코 쿠키가 진짜 맛있다 꾸덕하고 달달하고 맛있었다 진한 초코는 언제나 옳다! 아메리카노랑 딱이였다 만족스러운 카페였다&quot;,&quot;user&quot;:{&quot;member_uuid&quot;:1679022,&quot;nick_name&quot;:&quot;단순이&quot;,&quot;picture_url&quot;:&quot;https://s3-ap-northeast-2.amazonaws.com/mp-seoul-image-production/1679022_1643855207844&quot;,&quot;picture_type&quot;:&quot;user&quot;,&quot;facebook_id&quot;:null,&quot;is_holic&quot;:false,&quot;badge_list&quot;:null}}],&quot;description&quot;:null},{&quot;restaurant&quot;:{&quot;restaurant_uuid&quot;:277239,&quot;cusine_code&quot;:8,&quot;subcusine_code&quot;:33,&quot;region_code&quot;:1,&quot;metro_code&quot;:3,&quot;latitude&quot;:&quot;37.49360307&quot;,&quot;longitude&quot;:&quot;127.0323206&quot;,&quot;status_code&quot;:1,&quot;is_active&quot;:true,&quot;phone_number&quot;:&quot;02-6205-1785&quot;,&quot;phone1&quot;:&quot;02-6205-1785&quot;,&quot;price_range_code&quot;:3,&quot;is_verified&quot;:1,&quot;name&quot;:&quot;구스아일랜드 브루하우스&quot;,&quot;branch_name&quot;:&quot;&quot;,&quot;address&quot;:&quot;서울시 강남구 역삼동 833&quot;,&quot;road_address&quot;:&quot;서울특별시 강남구 역삼로 118&quot;,&quot;building_name&quot;:&quot;&quot;,&quot;floor&quot;:&quot;&quot;,&quot;restaurant_key&quot;:&quot;TSdX_IszZ5mW&quot;,&quot;web_url&quot;:&quot;https://www.mangoplate.com/restaurants/TSdX_IszZ5mW&quot;,&quot;review_count&quot;:224,&quot;comment_count&quot;:224,&quot;picture_count&quot;:737,&quot;view_count&quot;:147381,&quot;beenhere_count&quot;:224,&quot;wannago_count&quot;:2382,&quot;checkin_count&quot;:268,&quot;rating&quot;:4.0,&quot;official_rating_available&quot;:1,&quot;picture_url&quot;:&quot;1260779_1642676887373151.jpg&quot;,&quot;pic_domain&quot;:&quot;https://mp-seoul-image-production-s3.mangoplate.com&quot;,&quot;pic_key&quot;:&quot;1260779_1642676887373151.jpg&quot;,&quot;distance&quot;:0},&quot;action&quot;:null,&quot;wanna_go_count&quot;:2382,&quot;been_here_count&quot;:224,&quot;view_count&quot;:147381,&quot;review_count&quot;:224,&quot;review_char_7_count&quot;:224,&quot;rating&quot;:4.0,&quot;official_rating_available&quot;:1,&quot;eat_deal_badge_url&quot;:null,&quot;features&quot;:[],&quot;featured_reviews&quot;:[{&quot;comment&quot;:&quot;이곳은 다양한 수제맥주를 마실 수 있는게 장점이라 또 다른 맥주를 도전할 수 있었다. •감바스  올리브오일에 함께 나온 담백한 치아바타를 찍어먹으니 얼마나 맛있게요! 양은 적지만 마늘향이 은은하게 나고 맛있었다. 맥주 안주로 괜춘괜춘. #다시먹어봄 맥주 좋아하시는분들은 가시면 좋을것 같아요.&quot;,&quot;user&quot;:{&quot;member_uuid&quot;:1640124,&quot;nick_name&quot;:&quot;달리자크롱&quot;,&quot;picture_url&quot;:&quot;https://s3-ap-northeast-2.amazonaws.com/mp-seoul-image-production/1640124_1647515515993&quot;,&quot;picture_type&quot;:&quot;user&quot;,&quot;facebook_id&quot;:null,&quot;is_holic&quot;:true,&quot;badge_list&quot;:[{&quot;code&quot;:13,&quot;title&quot;:&quot;2021.2&quot;,&quot;description&quot;:&quot;2021년 하반기 홀릭&quot;,&quot;image_url&quot;:null},{&quot;code&quot;:20220110,&quot;title&quot;:&quot;2022.1&quot;,&quot;description&quot;:&quot;2022년 상반기 홀릭&quot;,&quot;image_url&quot;:null}]}}],&quot;description&quot;:null},{&quot;restaurant&quot;:{&quot;restaurant_uuid&quot;:14302,&quot;cusine_code&quot;:7,&quot;subcusine_code&quot;:30,&quot;region_code&quot;:2,&quot;metro_code&quot;:30,&quot;latitude&quot;:&quot;37.55875036&quot;,&quot;longitude&quot;:&quot;126.93711507&quot;,&quot;status_code&quot;:1,&quot;is_active&quot;:true,&quot;phone_number&quot;:&quot;02-363-1222&quot;,&quot;phone1&quot;:&quot;02-363-1222&quot;,&quot;price_range_code&quot;:1,&quot;is_verified&quot;:1,&quot;name&quot;:&quot;독수리다방&quot;,&quot;branch_name&quot;:&quot;&quot;,&quot;address&quot;:&quot;서울시 서대문구 창천동 31-4&quot;,&quot;road_address&quot;:&quot;서울특별시 서대문구 연세로 36&quot;,&quot;building_name&quot;:&quot;독수리빌딩&quot;,&quot;floor&quot;:&quot;8F&quot;,&quot;restaurant_key&quot;:&quot;t7cH4kv6-M&quot;,&quot;web_url&quot;:&quot;https://www.mangoplate.com/restaurants/t7cH4kv6-M&quot;,&quot;review_count&quot;:144,&quot;comment_count&quot;:144,&quot;picture_count&quot;:244,&quot;view_count&quot;:107180,&quot;beenhere_count&quot;:144,&quot;wannago_count&quot;:2627,&quot;checkin_count&quot;:345,&quot;rating&quot;:4.0,&quot;official_rating_available&quot;:1,&quot;picture_url&quot;:&quot;887188_1522577007966223.jpg&quot;,&quot;pic_domain&quot;:&quot;https://mp-seoul-image-production-s3.mangoplate.com&quot;,&quot;pic_key&quot;:&quot;887188_1522577007966223.jpg&quot;,&quot;distance&quot;:0},&quot;action&quot;:null,&quot;wanna_go_count&quot;:2627,&quot;been_here_count&quot;:144,&quot;view_count&quot;:107180,&quot;review_count&quot;:144,&quot;review_char_7_count&quot;:144,&quot;rating&quot;:4.0,&quot;official_rating_available&quot;:1,&quot;eat_deal_badge_url&quot;:null,&quot;features&quot;:[],&quot;featured_reviews&quot;:[{&quot;comment&quot;:&quot;조용하고 분위기와 좌석이 공부하기 너무 좋아요! 찌들어가는 시험기간에 방문해보았어요... 가격대는 좀 있지만 아메리카노로 리필이 가능하고, 루프탑 뷰랑 내부 인테리어가 너무 좋아서 공부하러 또 갈 것 같아요! 케이크는 사입인것 같지만 맛과 퀄리티 괜찮고, 커피도 나쁘지 않아요!&quot;,&quot;user&quot;:{&quot;member_uuid&quot;:1641180,&quot;nick_name&quot;:&quot;구우&quot;,&quot;picture_url&quot;:&quot;https://s3-ap-northeast-2.amazonaws.com/mp-seoul-image-production/1641180_1650338618414&quot;,&quot;picture_type&quot;:&quot;user&quot;,&quot;facebook_id&quot;:null,&quot;is_holic&quot;:true,&quot;badge_list&quot;:[{&quot;code&quot;:20220110,&quot;title&quot;:&quot;2022.1&quot;,&quot;description&quot;:&quot;2022년 상반기 홀릭&quot;,&quot;image_url&quot;:null}]}}],&quot;description&quot;:null},{&quot;restaurant&quot;:{&quot;restaurant_uuid&quot;:263737,&quot;cusine_code&quot;:7,&quot;subcusine_code&quot;:30,&quot;region_code&quot;:2,&quot;metro_code&quot;:8,&quot;latitude&quot;:&quot;37.5397053&quot;,&quot;longitude&quot;:&quot;127.0029705&quot;,&quot;status_code&quot;:1,&quot;is_active&quot;:true,&quot;phone_number&quot;:&quot;02-6015-2022&quot;,&quot;phone1&quot;:&quot;02-6015-2022&quot;,&quot;price_range_code&quot;:1,&quot;is_verified&quot;:1,&quot;name&quot;:&quot;올드페리도넛&quot;,&quot;branch_name&quot;:null,&quot;address&quot;:&quot;서울시 용산구 한남동 727-21&quot;,&quot;road_address&quot;:&quot;서울특별시 용산구 회나무로 34-8&quot;,&quot;building_name&quot;:null,&quot;floor&quot;:&quot;2F&quot;,&quot;restaurant_key&quot;:&quot;I8D_OUKXpiVQ&quot;,&quot;web_url&quot;:&quot;https://www.mangoplate.com/restaurants/I8D_OUKXpiVQ&quot;,&quot;review_count&quot;:160,&quot;comment_count&quot;:160,&quot;picture_count&quot;:550,&quot;view_count&quot;:87526,&quot;beenhere_count&quot;:160,&quot;wannago_count&quot;:3816,&quot;checkin_count&quot;:333,&quot;rating&quot;:4.0,&quot;official_rating_available&quot;:1,&quot;picture_url&quot;:&quot;885345_1645596464794585.jpg&quot;,&quot;pic_domain&quot;:&quot;https://mp-seoul-image-production-s3.mangoplate.com&quot;,&quot;pic_key&quot;:&quot;885345_1645596464794585.jpg&quot;,&quot;distance&quot;:0},&quot;action&quot;:null,&quot;wanna_go_count&quot;:3816,&quot;been_here_count&quot;:160,&quot;view_count&quot;:87526,&quot;review_count&quot;:160,&quot;review_char_7_count&quot;:160,&quot;rating&quot;:4.0,&quot;official_rating_available&quot;:1,&quot;eat_deal_badge_url&quot;:null,&quot;features&quot;:[],&quot;featured_reviews&quot;:[{&quot;comment&quot;:&quot;으어 ㅜㅜ 제가 인생에서 맛 본 제일 맛있는 도넛이에요.. 올드페리도넛의 라즈베리 도넛은 당 떨어질 때 불현듯 생각나는 맛입니다.. 이렇게 필링 꽉찬 도넛을 처음 맛봤어요. 처음 먹었던 날 충치때문에 제대로 못 즐긴 게 아쉬워요.. 노티드 도넛을 줄서거 사먹던데 그건 진짜 이해를 못했거든요. 근데 올드페리 도넛은 인정합니다! 다시 먹게되면 그때도 줄서서 먹고 싶어요..&quot;,&quot;user&quot;:{&quot;member_uuid&quot;:1572468,&quot;nick_name&quot;:&quot;정세진&quot;,&quot;picture_url&quot;:&quot;https://s3-ap-northeast-2.amazonaws.com/mp-seoul-image-production/1572468_1591837822434&quot;,&quot;picture_type&quot;:&quot;user&quot;,&quot;facebook_id&quot;:null,&quot;is_holic&quot;:true,&quot;badge_list&quot;:[{&quot;code&quot;:20220110,&quot;title&quot;:&quot;2022.1&quot;,&quot;description&quot;:&quot;2022년 상반기 홀릭&quot;,&quot;image_url&quot;:null}]}}],&quot;description&quot;:null},{&quot;restaurant&quot;:{&quot;restaurant_uuid&quot;:263231,&quot;cusine_code&quot;:7,&quot;subcusine_code&quot;:30,&quot;region_code&quot;:2,&quot;metro_code&quot;:8,&quot;latitude&quot;:&quot;37.53061496&quot;,&quot;longitude&quot;:&quot;127.00279672&quot;,&quot;status_code&quot;:1,&quot;is_active&quot;:true,&quot;phone_number&quot;:&quot;070-4001-0625&quot;,&quot;phone1&quot;:&quot;070-4001-0625&quot;,&quot;price_range_code&quot;:1,&quot;is_verified&quot;:1,&quot;name&quot;:&quot;음레코드&quot;,&quot;branch_name&quot;:null,&quot;address&quot;:&quot;서울시 용산구 한남동 620-152&quot;,&quot;road_address&quot;:&quot;서울특별시 용산구 우사단로10길 145&quot;,&quot;building_name&quot;:null,&quot;floor&quot;:null,&quot;restaurant_key&quot;:&quot;kQqRYcdbJvX-&quot;,&quot;web_url&quot;:&quot;https://www.mangoplate.com/restaurants/kQqRYcdbJvX-&quot;,&quot;review_count&quot;:25,&quot;comment_count&quot;:25,&quot;picture_count&quot;:116,&quot;view_count&quot;:38609,&quot;beenhere_count&quot;:25,&quot;wannago_count&quot;:1704,&quot;checkin_count&quot;:42,&quot;rating&quot;:4.0,&quot;official_rating_available&quot;:1,&quot;picture_url&quot;:&quot;26135_1616761166014556.jpg&quot;,&quot;pic_domain&quot;:&quot;https://mp-seoul-image-production-s3.mangoplate.com&quot;,&quot;pic_key&quot;:&quot;26135_1616761166014556.jpg&quot;,&quot;distance&quot;:0},&quot;action&quot;:null,&quot;wanna_go_count&quot;:1704,&quot;been_here_count&quot;:25,&quot;view_count&quot;:38609,&quot;review_count&quot;:25,&quot;review_char_7_count&quot;:25,&quot;rating&quot;:4.0,&quot;official_rating_available&quot;:1,&quot;eat_deal_badge_url&quot;:null,&quot;features&quot;:[],&quot;featured_reviews&quot;:[{&quot;comment&quot;:&quot;분위기가 압도적이다. 놀면 뭐 하니 에 들어온 듯한 분위기 이태원 근처의 루프탑 중에 단연 최고가 아닐까? 가는 길이 꼬불꼬불 들쭉날쭉해서 재밌었고 시내와 점 떨어져 있어서 한산했다. 이태원에서 만날 일 있으면 종종 찾을 것 같은 카페 겸 맥주집이다.&quot;,&quot;user&quot;:{&quot;member_uuid&quot;:707184,&quot;nick_name&quot;:&quot;모진수&quot;,&quot;picture_url&quot;:&quot;https://s3-ap-northeast-2.amazonaws.com/mp-seoul-image-production/707184_1605844282559&quot;,&quot;picture_type&quot;:&quot;user&quot;,&quot;facebook_id&quot;:null,&quot;is_holic&quot;:true,&quot;badge_list&quot;:[{&quot;code&quot;:8,&quot;title&quot;:&quot;2019.1&quot;,&quot;description&quot;:&quot;2019년 상반기 홀릭&quot;,&quot;image_url&quot;:null},{&quot;code&quot;:9,&quot;title&quot;:&quot;2019.2&quot;,&quot;description&quot;:&quot;2019년 하반기 홀릭&quot;,&quot;image_url&quot;:null},{&quot;code&quot;:10,&quot;title&quot;:&quot;2020.1&quot;,&quot;description&quot;:&quot;2020년 상반기 홀릭&quot;,&quot;image_url&quot;:null},{&quot;code&quot;:11,&quot;title&quot;:&quot;2020.2&quot;,&quot;description&quot;:&quot;2020년 하반기 홀릭&quot;,&quot;image_url&quot;:null},{&quot;code&quot;:12,&quot;title&quot;:&quot;2021.1&quot;,&quot;description&quot;:&quot;2021년 상반기 홀릭&quot;,&quot;image_url&quot;:null},{&quot;code&quot;:13,&quot;title&quot;:&quot;2021.2&quot;,&quot;description&quot;:&quot;2021년 하반기 홀릭&quot;,&quot;image_url&quot;:null},{&quot;code&quot;:20220110,&quot;title&quot;:&quot;2022.1&quot;,&quot;description&quot;:&quot;2022년 상반기 홀릭&quot;,&quot;image_url&quot;:null}]}}],&quot;description&quot;:null},{&quot;restaurant&quot;:{&quot;restaurant_uuid&quot;:406273,&quot;cusine_code&quot;:8,&quot;subcusine_code&quot;:32,&quot;region_code&quot;:2,&quot;metro_code&quot;:39,&quot;latitude&quot;:&quot;37.5455145&quot;,&quot;longitude&quot;:&quot;126.9850805&quot;,&quot;status_code&quot;:1,&quot;is_active&quot;:true,&quot;phone_number&quot;:&quot;0507-1418-2073&quot;,&quot;phone1&quot;:&quot;0507-1418-2073&quot;,&quot;price_range_code&quot;:1,&quot;is_verified&quot;:1,&quot;name&quot;:&quot;오잇&quot;,&quot;branch_name&quot;:&quot;&quot;,&quot;address&quot;:&quot;서울시 용산구 용산동2가 1-471&quot;,&quot;road_address&quot;:&quot;서울특별시 용산구 신흥로 95&quot;,&quot;building_name&quot;:&quot;&quot;,&quot;floor&quot;:&quot;&quot;,&quot;restaurant_key&quot;:&quot;8Lbvbhs9d3bj&quot;,&quot;web_url&quot;:&quot;https://www.mangoplate.com/restaurants/8Lbvbhs9d3bj&quot;,&quot;review_count&quot;:33,&quot;comment_count&quot;:33,&quot;picture_count&quot;:117,&quot;view_count&quot;:9397,&quot;beenhere_count&quot;:33,&quot;wannago_count&quot;:474,&quot;checkin_count&quot;:56,&quot;rating&quot;:4.0,&quot;official_rating_available&quot;:1,&quot;picture_url&quot;:&quot;41081_1623384563878741.jpg&quot;,&quot;pic_domain&quot;:&quot;https://mp-seoul-image-production-s3.mangoplate.com&quot;,&quot;pic_key&quot;:&quot;41081_1623384563878741.jpg&quot;,&quot;distance&quot;:0},&quot;action&quot;:null,&quot;wanna_go_count&quot;:474,&quot;been_here_count&quot;:33,&quot;view_count&quot;:9397,&quot;review_count&quot;:33,&quot;review_char_7_count&quot;:33,&quot;rating&quot;:4.0,&quot;official_rating_available&quot;:1,&quot;eat_deal_badge_url&quot;:null,&quot;features&quot;:[],&quot;featured_reviews&quot;:[{&quot;comment&quot;:&quot;해방촌에서 가장 유명한 카페 중 하나인 곳 루프탑에서 보는 시티뷰가 최고인 카페 음료나 크로플은 맛은 평범하나 둘 다 비주얼 적으로 아주 훌륭! 공간이 마음에 드는 카페 꼭 루프탑에 가시길&quot;,&quot;user&quot;:{&quot;member_uuid&quot;:1180992,&quot;nick_name&quot;:&quot;웅웅&quot;,&quot;picture_url&quot;:&quot;https://s3-ap-northeast-2.amazonaws.com/mp-seoul-image-production/1180992_1645022748285&quot;,&quot;picture_type&quot;:&quot;user&quot;,&quot;facebook_id&quot;:null,&quot;is_holic&quot;:false,&quot;badge_list&quot;:null}}],&quot;description&quot;:null},{&quot;restaurant&quot;:{&quot;restaurant_uuid&quot;:351538,&quot;cusine_code&quot;:7,&quot;subcusine_code&quot;:30,&quot;region_code&quot;:7,&quot;metro_code&quot;:714,&quot;latitude&quot;:&quot;35.0939585&quot;,&quot;longitude&quot;:&quot;129.0561747&quot;,&quot;status_code&quot;:1,&quot;is_active&quot;:true,&quot;phone_number&quot;:&quot;051-412-7082&quot;,&quot;phone1&quot;:&quot;051-412-7082&quot;,&quot;price_range_code&quot;:1,&quot;is_verified&quot;:1,&quot;name&quot;:&quot;Cafe de 220VOLT&quot;,&quot;branch_name&quot;:null,&quot;address&quot;:&quot;부산시 영도구 청학동 386-198&quot;,&quot;road_address&quot;:&quot;부산광역시 영도구 하나길 807&quot;,&quot;building_name&quot;:null,&quot;floor&quot;:null,&quot;restaurant_key&quot;:&quot;3LxeR54CtiHY&quot;,&quot;web_url&quot;:&quot;https://www.mangoplate.com/restaurants/3LxeR54CtiHY&quot;,&quot;review_count&quot;:9,&quot;comment_count&quot;:9,&quot;picture_count&quot;:44,&quot;view_count&quot;:7182,&quot;beenhere_count&quot;:9,&quot;wannago_count&quot;:177,&quot;checkin_count&quot;:9,&quot;rating&quot;:4.0,&quot;official_rating_available&quot;:0,&quot;picture_url&quot;:&quot;351538/777158_1625926222932_410&quot;,&quot;pic_domain&quot;:&quot;https://mp-seoul-image-production-s3.mangoplate.com&quot;,&quot;pic_key&quot;:&quot;351538/777158_1625926222932_410&quot;,&quot;distance&quot;:0},&quot;action&quot;:null,&quot;wanna_go_count&quot;:177,&quot;been_here_count&quot;:9,&quot;view_count&quot;:7182,&quot;review_count&quot;:9,&quot;review_char_7_count&quot;:9,&quot;rating&quot;:4.0,&quot;official_rating_available&quot;:0,&quot;eat_deal_badge_url&quot;:null,&quot;features&quot;:[],&quot;featured_reviews&quot;:[{&quot;comment&quot;:&quot;영도 청학동에 위치한, 목욕탕 개조 카페. 큰 목욕탕 굴뚝에 카페 이름이 적혀있어 꽤 멀리서도 보인다. 분위기도 괜찮고, 커피 맛도 괜찮아, 영도에 놀러 오는 사람들 한번 쯤 가볼만 한 듯! 비 안오는 날이면 루프탑도 추천!! i&quot;,&quot;user&quot;:{&quot;member_uuid&quot;:37208,&quot;nick_name&quot;:&quot;GoodVibesOnly&quot;,&quot;picture_url&quot;:&quot;https://mp-seoul-image-production-s3.mangoplate.com/37208_1575934601438&quot;,&quot;picture_type&quot;:&quot;user&quot;,&quot;facebook_id&quot;:&quot;738268856248054&quot;,&quot;is_holic&quot;:true,&quot;badge_list&quot;:[{&quot;code&quot;:1,&quot;title&quot;:&quot;2015&quot;,&quot;description&quot;:&quot;2015년 홀릭&quot;,&quot;image_url&quot;:null},{&quot;code&quot;:2,&quot;title&quot;:&quot;2016.1&quot;,&quot;description&quot;:&quot;2016년 상반기 홀릭&quot;,&quot;image_url&quot;:null},{&quot;code&quot;:3,&quot;title&quot;:&quot;2016.2&quot;,&quot;description&quot;:&quot;2016년 하반기 홀릭&quot;,&quot;image_url&quot;:null},{&quot;code&quot;:4,&quot;title&quot;:&quot;2017.1&quot;,&quot;description&quot;:&quot;2017년 상반기 홀릭&quot;,&quot;image_url&quot;:null},{&quot;code&quot;:5,&quot;title&quot;:&quot;2017.2&quot;,&quot;description&quot;:&quot;2017년 하반기 홀릭&quot;,&quot;image_url&quot;:null},{&quot;code&quot;:6,&quot;title&quot;:&quot;2018.1&quot;,&quot;description&quot;:&quot;2018년 상반기 홀릭&quot;,&quot;image_url&quot;:null},{&quot;code&quot;:7,&quot;title&quot;:&quot;2018.2&quot;,&quot;description&quot;:&quot;2018년 하반기 홀릭&quot;,&quot;image_url&quot;:null},{&quot;code&quot;:8,&quot;title&quot;:&quot;2019.1&quot;,&quot;description&quot;:&quot;2019년 상반기 홀릭&quot;,&quot;image_url&quot;:null},{&quot;code&quot;:9,&quot;title&quot;:&quot;2019.2&quot;,&quot;description&quot;:&quot;2019년 하반기 홀릭&quot;,&quot;image_url&quot;:null},{&quot;code&quot;:10,&quot;title&quot;:&quot;2020.1&quot;,&quot;description&quot;:&quot;2020년 상반기 홀릭&quot;,&quot;image_url&quot;:null},{&quot;code&quot;:11,&quot;title&quot;:&quot;2020.2&quot;,&quot;description&quot;:&quot;2020년 하반기 홀릭&quot;,&quot;image_url&quot;:null},{&quot;code&quot;:12,&quot;title&quot;:&quot;2021.1&quot;,&quot;description&quot;:&quot;2021년 상반기 홀릭&quot;,&quot;image_url&quot;:null},{&quot;code&quot;:20210220,&quot;title&quot;:&quot;2022.2&quot;,&quot;description&quot;:&quot;2021년 하반기 블랙 홀릭&quot;,&quot;image_url&quot;:null},{&quot;code&quot;:20220120,&quot;title&quot;:&quot;2022.1&quot;,&quot;description&quot;:&quot;2022년 상반기 블랙 홀릭&quot;,&quot;image_url&quot;:null}]}}],&quot;description&quot;:null},{&quot;restaurant&quot;:{&quot;restaurant_uuid&quot;:387745,&quot;cusine_code&quot;:7,&quot;subcusine_code&quot;:30,&quot;region_code&quot;:2,&quot;metro_code&quot;:71,&quot;latitude&quot;:&quot;37.562187&quot;,&quot;longitude&quot;:&quot;126.9211798&quot;,&quot;status_code&quot;:1,&quot;is_active&quot;:true,&quot;phone_number&quot;:&quot;070-4352-0646&quot;,&quot;phone1&quot;:&quot;070-4352-0646&quot;,&quot;price_range_code&quot;:1,&quot;is_verified&quot;:1,&quot;name&quot;:&quot;Cafe105&quot;,&quot;branch_name&quot;:null,&quot;address&quot;:&quot;서울시 마포구 연남동 509-4&quot;,&quot;road_address&quot;:&quot;서울특별시 마포구 연남로5길 12&quot;,&quot;building_name&quot;:null,&quot;floor&quot;:&quot;1-2F&quot;,&quot;restaurant_key&quot;:&quot;QcmqKFCGErgL&quot;,&quot;web_url&quot;:&quot;https://www.mangoplate.com/restaurants/QcmqKFCGErgL&quot;,&quot;review_count&quot;:7,&quot;comment_count&quot;:7,&quot;picture_count&quot;:46,&quot;view_count&quot;:3278,&quot;beenhere_count&quot;:7,&quot;wannago_count&quot;:100,&quot;checkin_count&quot;:2,&quot;rating&quot;:4.0,&quot;official_rating_available&quot;:0,&quot;picture_url&quot;:&quot;387745/1903456_1616866075507_3461&quot;,&quot;pic_domain&quot;:&quot;https://mp-seoul-image-production-s3.mangoplate.com&quot;,&quot;pic_key&quot;:&quot;387745/1903456_1616866075507_3461&quot;,&quot;distance&quot;:0},&quot;action&quot;:null,&quot;wanna_go_count&quot;:100,&quot;been_here_count&quot;:7,&quot;view_count&quot;:3278,&quot;review_count&quot;:7,&quot;review_char_7_count&quot;:7,&quot;rating&quot;:4.0,&quot;official_rating_available&quot;:0,&quot;eat_deal_badge_url&quot;:null,&quot;features&quot;:[],&quot;featured_reviews&quot;:[{&quot;comment&quot;:&quot; 모두 카페라 소파 공간, 좌식 공간, 일반 테이블 공간, 루프탑 등 다른 카페들보다 훨씬 좌석이 다양해 고르는 맛이 있었다. 허니라떼를 주문했는데 맛도 괜찮았고 가격대도 대부분의 음료가 합리적이다.. 데이트 장소로도 좋고, 독립된 모임공간이 있어서 스터디나 회의하기에도 괜찮을 것 같다.&quot;,&quot;user&quot;:{&quot;member_uuid&quot;:1807322,&quot;nick_name&quot;:&quot;아녜스&quot;,&quot;picture_url&quot;:&quot;https://s3-ap-northeast-2.amazonaws.com/mp-seoul-image-production/1807322_1609238557007&quot;,&quot;picture_type&quot;:&quot;user&quot;,&quot;facebook_id&quot;:null,&quot;is_holic&quot;:true,&quot;badge_list&quot;:[{&quot;code&quot;:8,&quot;title&quot;:&quot;2019.1&quot;,&quot;description&quot;:&quot;2019년 상반기 홀릭&quot;,&quot;image_url&quot;:null},{&quot;code&quot;:9,&quot;title&quot;:&quot;2019.2&quot;,&quot;description&quot;:&quot;2019년 하반기 홀릭&quot;,&quot;image_url&quot;:null},{&quot;code&quot;:10,&quot;title&quot;:&quot;2020.1&quot;,&quot;description&quot;:&quot;2020년 상반기 홀릭&quot;,&quot;image_url&quot;:null},{&quot;code&quot;:11,&quot;title&quot;:&quot;2020.2&quot;,&quot;description&quot;:&quot;2020년 하반기 홀릭&quot;,&quot;image_url&quot;:null},{&quot;code&quot;:12,&quot;title&quot;:&quot;2021.1&quot;,&quot;description&quot;:&quot;2021년 상반기 홀릭&quot;,&quot;image_url&quot;:null},{&quot;code&quot;:13,&quot;title&quot;:&quot;2021.2&quot;,&quot;description&quot;:&quot;2021년 하반기 홀릭&quot;,&quot;image_url&quot;:null},{&quot;code&quot;:20220110,&quot;title&quot;:&quot;2022.1&quot;,&quot;description&quot;:&quot;2022년 상반기 홀릭&quot;,&quot;image_url&quot;:null}]}}],&quot;description&quot;:null},{&quot;restaurant&quot;:{&quot;restaurant_uuid&quot;:455568,&quot;cusine_code&quot;:7,&quot;subcusine_code&quot;:30,&quot;region_code&quot;:2,&quot;metro_code&quot;:39,&quot;latitude&quot;:&quot;37.5300957&quot;,&quot;longitude&quot;:&quot;126.9707937&quot;,&quot;status_code&quot;:1,&quot;is_active&quot;:true,&quot;phone_number&quot;:&quot;02-792-8925&quot;,&quot;phone1&quot;:&quot;02-792-8925&quot;,&quot;price_range_code&quot;:1,&quot;is_verified&quot;:1,&quot;name&quot;:&quot;코타티&quot;,&quot;branch_name&quot;:&quot;신용산점&quot;,&quot;address&quot;:&quot;서울시 용산구 한강로2가 148-6&quot;,&quot;road_address&quot;:&quot;서울특별시 용산구 한강대로40길 28&quot;,&quot;building_name&quot;:null,&quot;floor&quot;:null,&quot;restaurant_key&quot;:&quot;bxZeQvLfnTqG&quot;,&quot;web_url&quot;:&quot;https://www.mangoplate.com/restaurants/bxZeQvLfnTqG&quot;,&quot;review_count&quot;:5,&quot;comment_count&quot;:5,&quot;picture_count&quot;:39,&quot;view_count&quot;:2113,&quot;beenhere_count&quot;:5,&quot;wannago_count&quot;:145,&quot;checkin_count&quot;:13,&quot;rating&quot;:4.0,&quot;official_rating_available&quot;:0,&quot;picture_url&quot;:&quot;1757052_1626416613619729.jpg&quot;,&quot;pic_domain&quot;:&quot;https://mp-seoul-image-production-s3.mangoplate.com&quot;,&quot;pic_key&quot;:&quot;1757052_1626416613619729.jpg&quot;,&quot;distance&quot;:0},&quot;action&quot;:null,&quot;wanna_go_count&quot;:145,&quot;been_here_count&quot;:5,&quot;view_count&quot;:2113,&quot;review_count&quot;:5,&quot;review_char_7_count&quot;:5,&quot;rating&quot;:4.0,&quot;official_rating_available&quot;:0,&quot;eat_deal_badge_url&quot;:null,&quot;features&quot;:[],&quot;featured_reviews&quot;:[{&quot;comment&quot;:&quot;쌀 ! 쌀젤라또 맛있네요. 디저트인 라이스푸딩 (구체적으로 제가 먹어본 것 중에 비슷한 걸 꼽자면 선릉역 세드라의 히오레 Riz au lait)이 떠오르는 맛. 같이 시킨 얼그레이 젤라또도 맛은 있는데 쌀젤라또가 더 개성이 강해요. 일행이 시킨 자두소르베와 골드키위소르베도 맛있었어요. 특히 자두소르베는 진~한 과일 맛이 잘 살아있는 새콤함이 좋았습니다. 쫀득함과 부드러움 사이의 균형을 잘 잡은 텍스처도 굳.&quot;,&quot;user&quot;:{&quot;member_uuid&quot;:1656652,&quot;nick_name&quot;:&quot;당케쉔&quot;,&quot;picture_url&quot;:&quot;https://mp-seoul-image-production-s3.mangoplate.com/1656652_1587388160590&quot;,&quot;picture_type&quot;:&quot;user&quot;,&quot;facebook_id&quot;:null,&quot;is_holic&quot;:true,&quot;badge_list&quot;:[{&quot;code&quot;:12,&quot;title&quot;:&quot;2021.1&quot;,&quot;description&quot;:&quot;2021년 상반기 홀릭&quot;,&quot;image_url&quot;:null},{&quot;code&quot;:13,&quot;title&quot;:&quot;2021.2&quot;,&quot;description&quot;:&quot;2021년 하반기 홀릭&quot;,&quot;image_url&quot;:null},{&quot;code&quot;:20220110,&quot;title&quot;:&quot;2022.1&quot;,&quot;description&quot;:&quot;2022년 상반기 홀릭&quot;,&quot;image_url&quot;:null}]}}],&quot;description&quot;:null},{&quot;restaurant&quot;:{&quot;restaurant_uuid&quot;:448534,&quot;cusine_code&quot;:1,&quot;subcusine_code&quot;:5,&quot;region_code&quot;:1,&quot;metro_code&quot;:47,&quot;latitude&quot;:&quot;37.5142265&quot;,&quot;longitude&quot;:&quot;126.8954943&quot;,&quot;status_code&quot;:1,&quot;is_active&quot;:true,&quot;phone_number&quot;:&quot;02-2632-0434&quot;,&quot;phone1&quot;:&quot;02-2632-0434&quot;,&quot;price_range_code&quot;:2,&quot;is_verified&quot;:1,&quot;name&quot;:&quot;잠수교집&quot;,&quot;branch_name&quot;:null,&quot;address&quot;:&quot;서울시 영등포구 문래동3가 58-84&quot;,&quot;road_address&quot;:&quot;서울특별시 영등포구 도림로 428-1&quot;,&quot;building_name&quot;:null,&quot;floor&quot;:&quot;2F&quot;,&quot;restaurant_key&quot;:&quot;iN6jtsbcQWs9&quot;,&quot;web_url&quot;:&quot;https://www.mangoplate.com/restaurants/iN6jtsbcQWs9&quot;,&quot;review_count&quot;:4,&quot;comment_count&quot;:4,&quot;picture_count&quot;:20,&quot;view_count&quot;:1490,&quot;beenhere_count&quot;:4,&quot;wannago_count&quot;:40,&quot;checkin_count&quot;:4,&quot;rating&quot;:4.0,&quot;official_rating_available&quot;:0,&quot;picture_url&quot;:&quot;2138647_1651217421894566.jpg&quot;,&quot;pic_domain&quot;:&quot;https://mp-seoul-image-production-s3.mangoplate.com&quot;,&quot;pic_key&quot;:&quot;2138647_1651217421894566.jpg&quot;,&quot;distance&quot;:0},&quot;action&quot;:null,&quot;wanna_go_count&quot;:40,&quot;been_here_count&quot;:4,&quot;view_count&quot;:1490,&quot;review_count&quot;:4,&quot;review_char_7_count&quot;:4,&quot;rating&quot;:4.0,&quot;official_rating_available&quot;:0,&quot;eat_deal_badge_url&quot;:null,&quot;features&quot;:[],&quot;featured_reviews&quot;:[{&quot;comment&quot;:&quot;냉삼 3인분을 주문했는데 밑반찬부터 고기까지 전부맛있었다. 웨이팅 효과인가...? 진짜 맛있었음! 곁들임 반찬도 많고 취향껏 즐길 수 있는 장도 많아서 좋았음! 날좋을때 여러명이서 방문하게된다면 요기 루프탑을 꼭 이용해보고싶당!&quot;,&quot;user&quot;:{&quot;member_uuid&quot;:27066,&quot;nick_name&quot;:&quot;*&quot;,&quot;picture_url&quot;:&quot;https://s3-ap-northeast-2.amazonaws.com/mp-seoul-image-production/27066_1632669437809&quot;,&quot;picture_type&quot;:&quot;user&quot;,&quot;facebook_id&quot;:null,&quot;is_holic&quot;:true,&quot;badge_list&quot;:[{&quot;code&quot;:1,&quot;title&quot;:&quot;2015&quot;,&quot;description&quot;:&quot;2015년 홀릭&quot;,&quot;image_url&quot;:null},{&quot;code&quot;:2,&quot;title&quot;:&quot;2016.1&quot;,&quot;description&quot;:&quot;2016년 상반기 홀릭&quot;,&quot;image_url&quot;:null},{&quot;code&quot;:3,&quot;title&quot;:&quot;2016.2&quot;,&quot;description&quot;:&quot;2016년 하반기 홀릭&quot;,&quot;image_url&quot;:null},{&quot;code&quot;:4,&quot;title&quot;:&quot;2017.1&quot;,&quot;description&quot;:&quot;2017년 상반기 홀릭&quot;,&quot;image_url&quot;:null},{&quot;code&quot;:5,&quot;title&quot;:&quot;2017.2&quot;,&quot;description&quot;:&quot;2017년 하반기 홀릭&quot;,&quot;image_url&quot;:null},{&quot;code&quot;:6,&quot;title&quot;:&quot;2018.1&quot;,&quot;description&quot;:&quot;2018년 상반기 홀릭&quot;,&quot;image_url&quot;:null},{&quot;code&quot;:7,&quot;title&quot;:&quot;2018.2&quot;,&quot;description&quot;:&quot;2018년 하반기 홀릭&quot;,&quot;image_url&quot;:null},{&quot;code&quot;:8,&quot;title&quot;:&quot;2019.1&quot;,&quot;description&quot;:&quot;2019년 상반기 홀릭&quot;,&quot;image_url&quot;:null},{&quot;code&quot;:9,&quot;title&quot;:&quot;2019.2&quot;,&quot;description&quot;:&quot;2019년 하반기 홀릭&quot;,&quot;image_url&quot;:null},{&quot;code&quot;:10,&quot;title&quot;:&quot;2020.1&quot;,&quot;description&quot;:&quot;2020년 상반기 홀릭&quot;,&quot;image_url&quot;:null},{&quot;code&quot;:11,&quot;title&quot;:&quot;2020.2&quot;,&quot;description&quot;:&quot;2020년 하반기 홀릭&quot;,&quot;image_url&quot;:null},{&quot;code&quot;:12,&quot;title&quot;:&quot;2021.1&quot;,&quot;description&quot;:&quot;2021년 상반기 홀릭&quot;,&quot;image_url&quot;:null},{&quot;code&quot;:20210220,&quot;title&quot;:&quot;2022.2&quot;,&quot;description&quot;:&quot;2021년 하반기 블랙 홀릭&quot;,&quot;image_url&quot;:null},{&quot;code&quot;:20220120,&quot;title&quot;:&quot;2022.1&quot;,&quot;description&quot;:&quot;2022년 상반기 블랙 홀릭&quot;,&quot;image_url&quot;:null}]}}],&quot;description&quot;:null},{&quot;restaurant&quot;:{&quot;restaurant_uuid&quot;:10408,&quot;cusine_code&quot;:8,&quot;subcusine_code&quot;:33,&quot;region_code&quot;:2,&quot;metro_code&quot;:13,&quot;latitude&quot;:&quot;37.56725652&quot;,&quot;longitude&quot;:&quot;126.99178232&quot;,&quot;status_code&quot;:1,&quot;is_active&quot;:true,&quot;phone_number&quot;:&quot;02-2274-1040&quot;,&quot;phone1&quot;:&quot;02-2274-1040&quot;,&quot;price_range_code&quot;:1,&quot;is_verified&quot;:1,&quot;name&quot;:&quot;만선호프&quot;,&quot;branch_name&quot;:null,&quot;address&quot;:&quot;서울시 중구 을지로3가 95-1&quot;,&quot;road_address&quot;:&quot;서울특별시 중구 을지로13길 19&quot;,&quot;building_name&quot;:null,&quot;floor&quot;:null,&quot;restaurant_key&quot;:&quot;FpYe2S-PkS&quot;,&quot;web_url&quot;:&quot;https://www.mangoplate.com/restaurants/FpYe2S-PkS&quot;,&quot;review_count&quot;:134,&quot;comment_count&quot;:134,&quot;picture_count&quot;:290,&quot;view_count&quot;:78209,&quot;beenhere_count&quot;:134,&quot;wannago_count&quot;:1940,&quot;checkin_count&quot;:331,&quot;rating&quot;:3.9,&quot;official_rating_available&quot;:1,&quot;picture_url&quot;:&quot;574886_1635688028558462.jpg&quot;,&quot;pic_domain&quot;:&quot;https://mp-seoul-image-production-s3.mangoplate.com&quot;,&quot;pic_key&quot;:&quot;574886_1635688028558462.jpg&quot;,&quot;distance&quot;:0},&quot;action&quot;:null,&quot;wanna_go_count&quot;:1940,&quot;been_here_count&quot;:134,&quot;view_count&quot;:78209,&quot;review_count&quot;:134,&quot;review_char_7_count&quot;:134,&quot;rating&quot;:3.9,&quot;official_rating_available&quot;:1,&quot;eat_deal_badge_url&quot;:null,&quot;features&quot;:[],&quot;featured_reviews&quot;:[{&quot;comment&quot;:&quot;퇴근길에 간만에 을지로 갈일이 있어서 지인과 함께 방문한 만선호프~^^/ 역시나 기대를 저버리지 않아요 ㅎㅎ 이제는 맛보다는 분위기 그리고 또 루프탑에서 좋아하는 사람과 시끌시끌한 분위기에서 맥주와 함께 하루를 마감하는??ㅎㅎ 그런게 좋네요 만선호프는 맥주회전률이 높아서 그런지 맥주가 맛이좋네요~^^&quot;,&quot;user&quot;:{&quot;member_uuid&quot;:1252942,&quot;nick_name&quot;:&quot;맛찾소&quot;,&quot;picture_url&quot;:&quot;https://mp-seoul-image-production-s3.mangoplate.com/1252942_1563433429479&quot;,&quot;picture_type&quot;:&quot;user&quot;,&quot;facebook_id&quot;:null,&quot;is_holic&quot;:false,&quot;badge_list&quot;:null}}],&quot;description&quot;:null},{&quot;restaurant&quot;:{&quot;restaurant_uuid&quot;:321544,&quot;cusine_code&quot;:7,&quot;subcusine_code&quot;:30,&quot;region_code&quot;:2,&quot;metro_code&quot;:8,&quot;latitude&quot;:&quot;37.53803409&quot;,&quot;longitude&quot;:&quot;127.001845&quot;,&quot;status_code&quot;:1,&quot;is_active&quot;:true,&quot;phone_number&quot;:&quot;02-2289-9050&quot;,&quot;phone1&quot;:&quot;02-2289-9050&quot;,&quot;price_range_code&quot;:1,&quot;is_verified&quot;:1,&quot;name&quot;:&quot;사유&quot;,&quot;branch_name&quot;:null,&quot;address&quot;:&quot;서울시 용산구 한남동 682-5&quot;,&quot;road_address&quot;:&quot;서울특별시 용산구 이태원로54길 5&quot;,&quot;building_name&quot;:null,&quot;floor&quot;:null,&quot;restaurant_key&quot;:&quot;DH9Enwm71a6I&quot;,&quot;web_url&quot;:&quot;https://www.mangoplate.com/restaurants/DH9Enwm71a6I&quot;,&quot;review_count&quot;:79,&quot;comment_count&quot;:79,&quot;picture_count&quot;:369,&quot;view_count&quot;:71103,&quot;beenhere_count&quot;:79,&quot;wannago_count&quot;:3065,&quot;checkin_count&quot;:224,&quot;rating&quot;:3.9,&quot;official_rating_available&quot;:1,&quot;picture_url&quot;:&quot;1351894_1570367950844698.jpg&quot;,&quot;pic_domain&quot;:&quot;https://mp-seoul-image-production-s3.mangoplate.com&quot;,&quot;pic_key&quot;:&quot;1351894_1570367950844698.jpg&quot;,&quot;distance&quot;:0},&quot;action&quot;:null,&quot;wanna_go_count&quot;:3065,&quot;been_here_count&quot;:79,&quot;view_count&quot;:71103,&quot;review_count&quot;:79,&quot;review_char_7_count&quot;:79,&quot;rating&quot;:3.9,&quot;official_rating_available&quot;:1,&quot;eat_deal_badge_url&quot;:null,&quot;features&quot;:[],&quot;featured_reviews&quot;:[{&quot;comment&quot;:&quot;한남동 힙한 카페로 워낙 유명한 사유 전면 통유리로 탁 트여서 개방감이 좋고 층고가 높아서 시원시원해요 카페 규모가 커서 각층마다 테마가 있어 커피한잔 하며 구경거리도 많고 차분한 분위기는 아니나 이색적이고 좋아요 특히나 포토스팟에서 사진찍으면 잘나옴 역시 인스타 핫플답게 사람은 많아용&quot;,&quot;user&quot;:{&quot;member_uuid&quot;:57716,&quot;nick_name&quot;:&quot;yoom&quot;,&quot;picture_url&quot;:&quot;https://mp-seoul-image-production-s3.mangoplate.com/57716_1565663118855&quot;,&quot;picture_type&quot;:&quot;user&quot;,&quot;facebook_id&quot;:null,&quot;is_holic&quot;:true,&quot;badge_list&quot;:[{&quot;code&quot;:1,&quot;title&quot;:&quot;2015&quot;,&quot;description&quot;:&quot;2015년 홀릭&quot;,&quot;image_url&quot;:null},{&quot;code&quot;:20220110,&quot;title&quot;:&quot;2022.1&quot;,&quot;description&quot;:&quot;2022년 상반기 홀릭&quot;,&quot;image_url&quot;:null}]}}],&quot;description&quot;:null}]</script>\n",
              "<script id=\"top_list_item\" type=\"text/x-handlebars-template\">\n",
              "  <li>\n",
              "    <div class=\"with-review\">\n",
              "      <figure class=\"restaurant-item\">\n",
              "        <a onclick=\"trackEvent('CLICK_RESTAURANT', {&quot;position&quot;:&quot;{{ index }}&quot;,&quot;restaurant_key&quot;:&quot;{{ restaurant_key }}&quot;})\"\n",
              "           href=\"/restaurants/{{ restaurant_key }}\">\n",
              "          <div class=\"thumb\">\n",
              "            <img class=\"center-croping lazy\"\n",
              "                 data-original=\"{{ picture_url }}\"\n",
              "                 data-error=\"https://mp-seoul-image-production-s3.mangoplate.com/web/resources/kssf5eveeva_xlmy.jpg?fit=around|*:*&amp;crop=*:*;*,*&amp;output-format=jpg&amp;output-quality=80\"\n",
              "                 alt=\"Top List Restaurant Image\"/>\n",
              "            {{#if restaurant_image_dim}}\n",
              "            <div class=\"Closed_Restaurant--Rect\"></div>\n",
              "            {{/if}}\n",
              "          </div>\n",
              "        </a>\n",
              "\n",
              "        <figcaption>\n",
              "          {{#if features_badge_url_list}}\n",
              "          <ul class=\"badge_list\">\n",
              "            {{#each features_badge_url_list}}\n",
              "            <li class=\"badge_item\">\n",
              "              <img src=\"{{ this }}\" class=\"badge_image\" alt=\"badge image\"/>\n",
              "            </li>\n",
              "            {{/each}}\n",
              "          </ul>\n",
              "          {{/if}}\n",
              "          <div class=\"info\">\n",
              "            {{#if restaurant_active}}\n",
              "            <div class=\"wannago_wrap\">\n",
              "              <button class=\"btn-type-icon favorite wannago_btn {{ action_class_name }}\" data-restaurant_uuid=\"{{ restaurant_uuid }}\" data-action_id=\"{{ action_id }}\"></button>\n",
              "              <p class=\"wannago_txt\">{{ wannago_text }}</p>\n",
              "            </div>\n",
              "            {{/if}}\n",
              "\n",
              "            <span class=\"title {{restaurant_closed_class_name}}\">\n",
              "              <a href=\"/restaurants/{{ restaurant_key }}\"\n",
              "                 onclick=\"trackEvent('CLICK_RESTAURANT', {&quot;position&quot;:&quot;{{ index }}&quot;,&quot;restaurant_key&quot;:&quot;{{ restaurant_key }}&quot;})\">\n",
              "                {{ index }}. {{ restaurant_name }}\n",
              "              </a>\n",
              "            </span>\n",
              "\n",
              "            <strong class=\"point {{ expected_rating_class_name }} {{restaurant_rating_class_name}}\">{{ rating }}</strong>\n",
              "            <p class=\"etc {{restaurant_closed_class_name}}\">{{ address }}</p>\n",
              "          </div>\n",
              "        </figcaption>\n",
              "      </figure>\n",
              "\n",
              "      {{#if review_comment.length}}\n",
              "      <div class=\"review-content no-bottom\">\n",
              "        <div>\n",
              "          <figure class=\"user\">\n",
              "            <div class=\"thumb lazy\"\n",
              "                 data-original=\"{{ user_image }}\"\n",
              "                 data-error=\"https://mp-seoul-image-production-s3.mangoplate.com/web/resources/jmcmlp180qwkp1jj.png?fit=around|*:*&amp;crop=*:*;*,*&amp;output-format=jpg&amp;output-quality=80\">\n",
              "            </div>\n",
              "            <figcaption class=\"{{restaurant_closed_class_name}}\">\n",
              "              {{ user_nick_name }}\n",
              "            </figcaption>\n",
              "          </figure>\n",
              "\n",
              "          <span>\n",
              "            <p class=\"short_review {{restaurant_closed_class_name}}\" onclick=\"trackEvent('CLICK_FEATURED_REVIEW', {&quot;position&quot;:&quot;{{ index }}&quot;,&quot;restaurant_key&quot;:&quot;{{ restaurant_key }}&quot;})\" data-restaurant_key=\"{{ restaurant_key }}\" data-is_long_reivew=\"{{ is_long_review }}\">\n",
              "              {{ short_review }}\n",
              "            </p>\n",
              "\n",
              "            <p class=\"long_review {{restaurant_closed_class_name}}\">\n",
              "              {{ review_comment }}\n",
              "            </p>\n",
              "\n",
              "            {{#if is_long_review}}\n",
              "            <span class=\"review_more_btn\" onclick=\"trackEvent('CLICK_MORE_LIST')\">더보기</span>\n",
              "            {{/if}}\n",
              "          </span>\n",
              "        </div>\n",
              "      </div>\n",
              "      {{/if}}\n",
              "\n",
              "      {{#unless review_comment.length}}\n",
              "      <p class=\"description {{restaurant_closed_class_name}}\">{{ description }}</p>\n",
              "      {{/unless}}\n",
              "\n",
              "      <a href=\"/restaurants/{{ restaurant_key }}\" class=\"btn-detail\"\n",
              "         onclick=\"trackEvent('CLICK_RESTAURANT', {&quot;position&quot;:&quot;{{ index }}&quot;,&quot;restaurant_key&quot;:&quot;{{ restaurant_key }}&quot;})\">\n",
              "        {{#if restaurant_active}}\n",
              "          {{ restaurant_name }} 더보기 >\n",
              "        {{/if}}\n",
              "        {{#if restaurant_closed}}\n",
              "          <div class=\"restaurant-more-name--closed\">폐점된 식당입니다</div>\n",
              "        {{/if}}\n",
              "      </a>\n",
              "    </div>\n",
              "  </li>\n",
              "</script>\n",
              "<script charset=\"utf-8\" id=\"top_list_download_item_banner_0\" type=\"text/template\">\n",
              "    <li onclick=\"trackEvent('CLICK_DWN_CARD_D4');go_to_app_or_market(this);return false;\" data-event_name=\"CLICK_DWN_CARD_D4\" data-event_term=\"V1\">\n",
              "  <div class=\"with-review\">\n",
              "    <figure class=\"restaurant-item\">\n",
              "      <a href=\"#\">\n",
              "        <div class=\"thumb\" style=\"background-image:url('https://d1jrqqyoo3n46w.cloudfront.net/web/resources/ernltspxa1ylcsom.png?fit=around|738:*&amp;crop=738:*;*,*&amp;output-format=jpg&amp;output-quality=80');\">\n",
              "          <div class=\"inner\">\n",
              "          </div>\n",
              "        </div>\n",
              "      </a>\n",
              "\n",
              "      <figcaption>\n",
              "        <div class=\"info\">\n",
              "          <div class=\"wannago_wrap\">\n",
              "            <button class=\"btn-type-icon donwload\"></button>\n",
              "            <p class=\"wannago_txt\">다운받기</p>\n",
              "          </div>\n",
              "\n",
              "          <span class=\"title\"> <a href=\"#\">Foodie를 위한 앱!</a></span>\n",
              "        </div>\n",
              "      </figcaption>\n",
              "    </figure>\n",
              "\n",
              "    <div class=\"review-content\" style=\"margin-top: 15px\">\n",
              "      <figure class=\"user\">\n",
              "        <div class=\"thumb\" style=\"background-image: url('https://d1jrqqyoo3n46w.cloudfront.net/web/resources/ejbcqyoc6chjsa9e.jpg'), url('https://mp-seoul-image-production-s3.mangoplate.com/web/resources/jmcmlp180qwkp1jj.png?fit=around|*:*&crop=*:*;*,*&output-format=jpg&output-quality=80')\">\n",
              "        </div>\n",
              "        <figcaption>\n",
              "          Andy\n",
              "        </figcaption>\n",
              "      </figure>\n",
              "\n",
              "      <p>\n",
              "        ‘점심 뭐 먹지’ 고민이, 망고플레이트 앱 설치 후에는 기대로 바뀌었어요. 내가 원하는 지역, 음식 별로 탑리스트, 스토리 등 컨텐츠도 다양해서 좋아요!\n",
              "      </p>\n",
              "\n",
              "      <!--<div class=\"go_to_detail_btn\" >앱에서 보기</div>-->\n",
              "    </div>\n",
              "\n",
              "\n",
              "    <a href=\"#\" class=\"btn-detail\">앱에서 보기</span></a>\n",
              "  </div>\n",
              "</li>\n",
              "\n",
              "  </script>\n",
              "<script charset=\"utf-8\" id=\"top_list_download_item_banner_1\" type=\"text/template\">\n",
              "    <li onclick=\"trackEvent('CLICK_DWN_CARD_D3');go_to_app_or_market(this);return false;\" data-event_name=\"CLICK_DWN_CARD_D3\" data-event_term=\"V1\">\n",
              "  <div class=\"with-review\">\n",
              "    <figure class=\"restaurant-item\">\n",
              "      <a href=\"#\">\n",
              "        <div class=\"thumb\" style=\"background-image:url('https://d1jrqqyoo3n46w.cloudfront.net/web/resources/oynzxzvaob2g55y1.png?fit=around|738:*&amp;crop=738:*;*,*&amp;output-format=jpg&amp;output-quality=80');\">\n",
              "          <div class=\"inner\">\n",
              "          </div>\n",
              "        </div>\n",
              "      </a>\n",
              "\n",
              "      <figcaption>\n",
              "        <div class=\"info\">\n",
              "          <div class=\"wannago_wrap\">\n",
              "            <button class=\"btn-type-icon donwload\"></button>\n",
              "            <p class=\"wannago_txt\">다운받기</p>\n",
              "          </div>\n",
              "\n",
              "          <span class=\"title\"> <a href=\"#\">맛집 일기장 같달까..?</a></span>\n",
              "        </div>\n",
              "      </figcaption>\n",
              "    </figure>\n",
              "\n",
              "    <div class=\"review-content\" style=\"margin-top: 15px\">\n",
              "      <figure class=\"user\">\n",
              "        <div class=\"thumb\" style=\"background-image: url('https://d1jrqqyoo3n46w.cloudfront.net/web/resources/cu8v_we41a7ewycc.jpg'), url('https://mp-seoul-image-production-s3.mangoplate.com/web/resources/jmcmlp180qwkp1jj.png?fit=around|*:*&crop=*:*;*,*&output-format=jpg&output-quality=80')\">\n",
              "        </div>\n",
              "        <figcaption>\n",
              "          은티\n",
              "        </figcaption>\n",
              "      </figure>\n",
              "\n",
              "      <p>\n",
              "        SNS에 음식 사진 매일같이 올리기 민망했는데, 망고플레이트 덕분에 마음껏 기록할 수 있게 됐어요 진짜 뿌듯해요. 나만의 맛집 포트폴리오 만들어 나가는 기분이에요.\n",
              "      </p>\n",
              "\n",
              "      <!--<div class=\"go_to_detail_btn\" >앱에서 보기</div>-->\n",
              "    </div>\n",
              "\n",
              "\n",
              "    <a href=\"#\" class=\"btn-detail\">앱에서 보기</span></a>\n",
              "  </div>\n",
              "</li>\n",
              "\n",
              "  </script>\n",
              "<script charset=\"utf-8\" id=\"top_list_download_item_banner_2\" type=\"text/template\">\n",
              "    <li onclick=\"trackEvent('CLICK_DWN_CARD_D1');go_to_app_or_market(this);return false;\" data-event_name=\"CLICK_DWN_CARD_D1\" data-event_term=\"V1\">\n",
              "  <div class=\"with-review\">\n",
              "    <figure class=\"restaurant-item\">\n",
              "      <a href=\"#\">\n",
              "        <div class=\"thumb\" style=\"background-image:url('https://d1jrqqyoo3n46w.cloudfront.net/web/resources/adrnf_hlqkbtaewp.png?fit=around|738:*&amp;crop=738:*;*,*&amp;output-format=jpg&amp;output-quality=80');\">\n",
              "          <div class=\"inner\">\n",
              "          </div>\n",
              "        </div>\n",
              "      </a>\n",
              "\n",
              "      <figcaption>\n",
              "        <div class=\"info\">\n",
              "          <div class=\"wannago_wrap\">\n",
              "            <button class=\"btn-type-icon donwload\"></button>\n",
              "            <p class=\"wannago_txt\">다운받기</p>\n",
              "          </div>\n",
              "\n",
              "          <span class=\"title\"> <a href=\"#\">나의 인생 맛집앱임</a></span>\n",
              "        </div>\n",
              "      </figcaption>\n",
              "    </figure>\n",
              "\n",
              "    <div class=\"review-content\" style=\"margin-top: 15px\">\n",
              "      <figure class=\"user\">\n",
              "        <div class=\"thumb\" style=\"background-image: url('https://d1jrqqyoo3n46w.cloudfront.net/web/resources/d0kkrylgoydsuuwy.png'), url('https://mp-seoul-image-production-s3.mangoplate.com/web/resources/jmcmlp180qwkp1jj.png?fit=around|*:*&crop=*:*;*,*&output-format=jpg&output-quality=80')\">\n",
              "        </div>\n",
              "        <figcaption>\n",
              "          Kalos\n",
              "        </figcaption>\n",
              "      </figure>\n",
              "\n",
              "      <p>\n",
              "        맛집 평점을 믿는다는게 이렇게 마음편한 일이라니. 눈 딱 감고 망고플레이트 평점 4점 이상인 곳들만 골라서 가니 늘 맛있는 곳만 찾게 되네요!\n",
              "      </p>\n",
              "\n",
              "      <!--<div class=\"go_to_detail_btn\" >앱에서 보기</div>-->\n",
              "    </div>\n",
              "\n",
              "\n",
              "    <a href=\"#\" class=\"btn-detail\">앱에서 보기</span></a>\n",
              "  </div>\n",
              "</li>\n",
              "\n",
              "  </script>\n",
              "<script crossorigin=\"anonymous\" src=\"https://browser.sentry-cdn.com/4.1.1/bundle.min.js\"></script>\n",
              "<script charset=\"utf-8\" type=\"text/javascript\">\n",
              "  Sentry.init({\n",
              "    dsn: 'https://36045d362ce347b8a2c56e6fa0d51fc7@sentry.io/1302030',\n",
              "    environment: \"production\"\n",
              "  });\n",
              "</script>\n",
              "<header class=\"Header \" data-page=\"normal\">\n",
              "<a class=\"Header__Logo\" href=\"/\" onclick=\"trackEvent('CLICK_HEADER_LOGO');\">\n",
              "<i class=\"Header__LogoIcon\"></i>\n",
              "</a>\n",
              "<div class=\"Header__SearchBox\">\n",
              "<i class=\"Header__SearchIcon\"></i>\n",
              "<label class=\"Header__SearchInputWrap\">\n",
              "<input autocomplete=\"off\" class=\"Header__SearchInput\" maxlength=\"50\" placeholder=\"지역, 식당 또는 음식\" type=\"text\" value=\"\"/>\n",
              "</label>\n",
              "<button class=\"Header__SearchInputClearButton\">CLEAR</button>\n",
              "</div>\n",
              "<ul class=\"Header__MenuList\">\n",
              "<li class=\"Header__MenuItem Header__MenuItem--New\">\n",
              "<a class=\"Header__MenuLink\" href=\"/eat_deals\" onclick=\"trackEvent('CLICK_EAT_DEALS')\">\n",
              "<span class=\"Header__MenuText\">EAT딜</span>\n",
              "</a>\n",
              "</li>\n",
              "<li class=\"Header__MenuItem\">\n",
              "<a class=\"Header__MenuLink\" href=\"/top_lists\" onclick=\"trackEvent('CLICK_TOP_LIST')\">\n",
              "<span class=\"Header__MenuText\">맛집 리스트</span>\n",
              "</a>\n",
              "</li>\n",
              "<li class=\"Header__MenuItem\">\n",
              "<a class=\"Header__MenuLink\" href=\"/mango_picks\" onclick=\"trackEvent('CLICK_MANGO_PICK')\">\n",
              "<span class=\"Header__MenuText\">망고 스토리</span>\n",
              "</a>\n",
              "</li>\n",
              "</ul>\n",
              "<ul class=\"Header__IconButtonList\">\n",
              "<li class=\"Header__IconButtonItem only-mobile Header__IconButtonItem--MenuButton\">\n",
              "<button class=\"MenuButton\" onclick=\"trackEvent('CLICK_MENU');\">\n",
              "<i class=\"MenuButton__Icon\"></i>\n",
              "</button>\n",
              "</li>\n",
              "<li class=\"Header__IconButtonItem Header__IconButtonItem--UserRestaurantHistory\">\n",
              "<button class=\"UserProfileButton\" onclick=\"trackEvent('CLICK_PROFILE');\">\n",
              "<i class=\"UserProfileButton__Picture\"></i>\n",
              "<i class=\"UserProfileButton__PersonIcon\"></i>\n",
              "<span class=\"UserProfileButton__HistoryCount\">0</span>\n",
              "</button>\n",
              "</li>\n",
              "<li class=\"Header__IconButtonItem Header__IconButtonItem--CloseButton Header__IconButtonItem--Hide\">\n",
              "<button class=\"Header__CloseButton\"></button>\n",
              "</li>\n",
              "</ul>\n",
              "</header>\n",
              "<div class=\"KeywordSuggester\">\n",
              "<div class=\"KeywordSuggester__BlackDeem\"></div>\n",
              "<div class=\"KeywordSuggester__Container\">\n",
              "<nav class=\"KeywordSuggester__TabNavigation\">\n",
              "<ul class=\"KeywordSuggester__TabList\">\n",
              "<li class=\"KeywordSuggester__TabItem\">\n",
              "<div class=\"KeywordSuggester__TabButton KeywordSuggester__RecommendTabButton\" onclick=\"trackEvent('CLICK_SEARCH_RECOMMEND')\" role=\"button\">\n",
              "            추천 검색어\n",
              "          </div>\n",
              "</li>\n",
              "<li class=\"KeywordSuggester__TabItem\">\n",
              "<div class=\"KeywordSuggester__TabButton KeywordSuggester__PopularTabButton\" onclick=\"trackEvent('CLICK_SEARCH_POPULAR')\" role=\"button\">\n",
              "            인기 검색어\n",
              "          </div>\n",
              "</li>\n",
              "<li class=\"KeywordSuggester__TabItem\">\n",
              "<div class=\"KeywordSuggester__TabButton KeywordSuggester__HistoryTabButton\" onclick=\"trackEvent('CLICK_SEARCH_RECENT')\" role=\"button\">\n",
              "            최근 검색어\n",
              "          </div>\n",
              "</li>\n",
              "</ul>\n",
              "</nav>\n",
              "<div class=\"KeywordSuggester__SuggestKeywordListWrap\">\n",
              "<p class=\"KeywordSuggester__EmptyKeywordMessage\">최근 검색어가 없습니다.</p>\n",
              "<div class=\"KeywordSuggester__Footer\">\n",
              "<button class=\"KeywordSuggester__RemoveAllHistoryKeywordButton\">\n",
              "          x clear all\n",
              "        </button>\n",
              "</div>\n",
              "</div>\n",
              "</div>\n",
              "</div>\n",
              "<div class=\"UserRestaurantHistory\">\n",
              "<div class=\"UserRestaurantHistory__BlackDeem\"></div>\n",
              "<div class=\"UserRestaurantHistory__Container\">\n",
              "<i class=\"UserRestaurantHistory__Triangle\"></i>\n",
              "<ul class=\"UserRestaurantHistory__TabList\">\n",
              "<li class=\"UserRestaurantHistory__TabItem UserRestaurantHistory__TabItem--Viewed\" onclick=\"trackEvent('CLICK_RECENT_TAB')\">\n",
              "<button class=\"UserRestaurantHistory__TabButton\">최근 본 맛집 </button>\n",
              "</li>\n",
              "<li class=\"UserRestaurantHistory__TabItem UserRestaurantHistory__TabItem--Wannago\" onclick=\"trackEvent('CLICK_WAANGO_TAB')\">\n",
              "<button class=\"UserRestaurantHistory__TabButton\">가고싶다</button>\n",
              "</li>\n",
              "</ul>\n",
              "<div class=\"UserRestaurantHistory__HistoryContainer\">\n",
              "<div class=\"UserRestaurantHistory__HistoryHeader\">\n",
              "<button class=\"UserRestaurantHistory__ClearAllHistoryButton\" onclick=\"trackEvent('CLICK_VIEWED_RESTAURANT_CLEAR')\">\n",
              "          x clear all\n",
              "        </button>\n",
              "</div>\n",
              "<ul class=\"UserRestaurantHistory__RestaurantList\">\n",
              "</ul>\n",
              "<div class=\"UserRestaurantHistory__EmptyViewedRestaurantHistory\">\n",
              "<span class=\"UserRestaurantHistory__EmptyViewedRestaurantHistoryTitle\">\n",
              "          거기가 어디였지?\n",
              "        </span>\n",
              "<p class=\"UserRestaurantHistory__EmptyViewedRestaurantHistoryDescription\">\n",
              "          내가 둘러 본 식당이 이 곳에 순서대로 기록됩니다.\n",
              "        </p>\n",
              "</div>\n",
              "<div class=\"UserRestaurantHistory__EmptyWannagoRestaurantHistory\">\n",
              "<img alt=\"wannago empty star\" class=\"UserRestaurantHistory__EmptyWannagoRestaurantHistoryImage\" src=\"https://mp-seoul-image-production-s3.mangoplate.com/web/resources/kycrji1bsrupvbem.png\">\n",
              "<p class=\"UserRestaurantHistory__EmptyWannagoRestaurantHistoryTitle\">격하게 가고싶다..</p>\n",
              "<p class=\"UserRestaurantHistory__EmptyWannagoRestaurantHistoryDescription\">\n",
              "          식당의 ‘별’ 아이콘을 누르면 가고싶은 곳을 쉽게 저장할 수 있습니다.\n",
              "        </p>\n",
              "</img></div>\n",
              "</div>\n",
              "<footer class=\"UserRestaurantHistory__Footer\">\n",
              "<button class=\"UserRestaurantHistory__LoginButton\" onclick=\"trackEvent('CLICK_LOGIN')\">로그인</button>\n",
              "<button class=\"UserRestaurantHistory__SettingButton\" onclick=\"trackEvent('CLICK_SETTING')\">내정보</button>\n",
              "</footer>\n",
              "</div>\n",
              "</div>\n",
              "<div class=\"UserProfile\">\n",
              "<div class=\"UserProfile__BlackDeem\"></div>\n",
              "<div class=\"UserProfile__Container\">\n",
              "<i class=\"UserProfile__Triangle\"></i>\n",
              "<ul class=\"UserProfile__TabList\">\n",
              "<li class=\"UserProfile__TabItem\">\n",
              "<button class=\"UserProfile__TabButton\">내정보</button>\n",
              "</li>\n",
              "</ul>\n",
              "<div class=\"UserProfile__Content\">\n",
              "<div class=\"UserProfile__InfoTable\">\n",
              "<i class=\"UserProfile__UserThumnail\"></i>\n",
              "<div class=\"UserProfile__InfoRow\">\n",
              "<div class=\"UserProfile__InfoRow--Label\">이름</div>\n",
              "<div class=\"UserProfile__InfoRow--Content UserProfile__UserName\"></div>\n",
              "</div>\n",
              "<div class=\"UserProfile__InfoSideRow\">\n",
              "<div class=\"UserProfile__InfoRow--Label\"></div>\n",
              "<span class=\"UserProfile__InfoSideRow--Info UserProfile__UserSignupType\"></span>\n",
              "</div>\n",
              "<div class=\"UserProfile__InfoRow\">\n",
              "<div class=\"UserProfile__InfoRow--Label\">이메일</div>\n",
              "<div class=\"UserProfile__InfoRow--Content UserProfile__UserEmail\"></div>\n",
              "</div>\n",
              "<div class=\"UserProfile__InfoRow\">\n",
              "<div class=\"UserProfile__InfoRow--Label\">전화번호</div>\n",
              "<div class=\"UserProfile__InfoRow--Content UserProfile__UserPhoneNumber\"></div>\n",
              "</div>\n",
              "<div class=\"UserProfile__InfoDetail\">정보 수정은 모바일앱 &gt; 내정보에서 가능합니다.</div>\n",
              "</div>\n",
              "</div>\n",
              "<div class=\"UserProfile__Footer\">\n",
              "<div class=\"UserProfile__Button UserProfile__DisactiveButton\">회원탈퇴</div>\n",
              "<div class=\"UserProfile__Footer--Line\"></div>\n",
              "<div class=\"UserProfile__Button UserProfile__LogoutButton\">로그아웃</div>\n",
              "</div>\n",
              "</div>\n",
              "</div>\n",
              "<div class=\"UserDisactiveInfo\">\n",
              "<div class=\"UserDisactiveInfo__BlackDeem\"></div>\n",
              "<div class=\"UserDisactiveInfo__Container\">\n",
              "<div class=\"UserDisactiveInfo__Header\">\n",
              "<button class=\"UserDisactiveInfo__ClostButton\">\n",
              "<i class=\"UserDisactiveInfo__ClostButton--Icon\"></i>\n",
              "</button>\n",
              "</div>\n",
              "<div class=\"UserDisactiveInfo__Content\">\n",
              "<span class=\"UserDisactiveInfo__Content--Notice\">회원 탈퇴 전 아래의 내용을 꼭 확인해 주세요.</span>\n",
              "<ul class=\"UserDisactiveInfo__Content--List\">\n",
              "</ul>\n",
              "</div>\n",
              "<div class=\"UserDisactiveInfo__Footer\">\n",
              "<div class=\"UserDisactiveInfo__CheckButton\">\n",
              "<i class=\"UserDisactiveInfo__CheckButton--Image\"></i>\n",
              "<div class=\"UserDisactiveInfo__CheckButton--Text\">위 내용을 모두 확인하였으며, 이에 동의합니다.</div>\n",
              "</div>\n",
              "<div class=\"UserDisactiveInfo__Button\">탈퇴하기</div>\n",
              "</div>\n",
              "</div>\n",
              "</div>\n",
              "<div class=\"PopupConfirmLayer UserDisactiveApprovePopup\">\n",
              "<div class=\"PopupConfirmLayer__Container\">\n",
              "<div class=\"PopupConfirmLayer__Title\">회원탈퇴</div>\n",
              "<p class=\"PopupConfirmLayer__DescriptionWithTitle\">탈퇴한 계정은 복구가 불가능합니다.<br/>탈퇴 하시겠습니까?</p>\n",
              "<div class=\"PopupConfirmLayer__Buttons\">\n",
              "<button class=\"PopupConfirmLayer__Button PopupConfirmLayer__GrayButton\">취소</button>\n",
              "<button class=\"PopupConfirmLayer__Button PopupConfirmLayer__OrangeButton\">탈퇴하기</button>\n",
              "</div>\n",
              "</div>\n",
              "</div>\n",
              "<div class=\"PopupConfirmLayer UserDisactiveConfirmPopup\">\n",
              "<div class=\"PopupConfirmLayer__Container\">\n",
              "<div class=\"PopupConfirmLayer__Title\">회원탈퇴</div>\n",
              "<p class=\"PopupConfirmLayer__DescriptionWithTitle\"></p>\n",
              "<div class=\"PopupConfirmLayer__Buttons\">\n",
              "<button class=\"PopupConfirmLayer__Button PopupConfirmLayer__OrangeButton\">확인</button>\n",
              "</div>\n",
              "</div>\n",
              "</div>\n",
              "<div class=\"wannago_go_app_popup\">\n",
              "<div class=\"wannago_go_app_popup_inner\">\n",
              "<img alt=\"wannago_go_app_popup_main_image\" class=\"wannago_go_app_popup_main_image\" src=\"https://mp-seoul-image-production-s3.mangoplate.com/web/resources/5rh5cjpxshg5kw7o.png?fit=around|:&amp;crop=:;*,*&amp;output-format=png&amp;output-quality=80\"/>\n",
              "<p class=\"wannago_go_app_popup_text\">더 많은 가고싶다를 원한다면<br/>망고플레이트 앱을 다운받아 보세요</p>\n",
              "<button class=\"wannago_go_app_popup_btn\" onclick=\"trackEvent('CLICK_WANNAGO_MORE_DWN');go_to_app_or_market(this);\">\n",
              "<img alt=\"wannago_go_app_popup_btn_icon\" class=\"wannago_go_app_popup_btn_icon\" src=\"https://mp-seoul-image-production-s3.mangoplate.com/web/resources/nsfd8y92hyjmlhtd.png?fit=around|*:*&amp;crop=*:*;*,*&amp;output-format=jpg&amp;output-quality=80\"/>\n",
              "      앱 다운받기, 클릭!\n",
              "    </button>\n",
              "</div>\n",
              "<button class=\"close_btn\">\n",
              "</button>\n",
              "</div>\n",
              "<div class=\"black_screen\"></div>\n",
              "<div class=\"wannago_login_popup\">\n",
              "<button class=\"close_btn\"></button>\n",
              "<div class=\"wannago_login_popup_inner\">\n",
              "<img alt=\"wannago_login_popup_main_img\" class=\"wannago_login_popup_main_img\" src=\"https://mp-seoul-image-production-s3.mangoplate.com/web/resources/belwdh7sngu0nq9r.png?fit=around|:&amp;crop=:;*,*&amp;output-format=png&amp;output-quality=80\"/>\n",
              "<div class=\"wannago_login_popup_main_tab\">\n",
              "<div class=\"wannago_login_popup_signin tab selected\" data-tab_name=\"signin\">로그인</div>\n",
              "<div class=\"wannago_login_popup_signup tab\" data-tab_name=\"signup\">회원가입</div>\n",
              "</div>\n",
              "<div class=\"wannago_login_popup_msg\">\n",
              "      로그인 해보세요<br/>가고싶은 곳을 저장할 수 있어요\n",
              "    </div>\n",
              "<div class=\"wannago_login_popup_sign_bar\">\n",
              "<button class=\"wannago_login_popup_sign facebook\">\n",
              "<div class=\"wannago_login_popup_sign_wrap\">\n",
              "<img alt=\"wannago_login_popup_sign_facebook_icon\" src=\"https://mp-seoul-image-production-s3.mangoplate.com/web/resources/3pe2me0b7amj8fw9.png?fit=around|:&amp;crop=:;*,*&amp;output-format=png&amp;output-quality=80\">\n",
              "<span class=\"wannago_login_popup_facebook_text\">클릭 한 번이면 페이스북 로그인</span>\n",
              "</img></div>\n",
              "</button>\n",
              "<button class=\"wannago_login_popup_sign kakao\">\n",
              "<div class=\"wannago_login_popup_sign_wrap\">\n",
              "<img alt=\"wannago_login_popup_sign_kakao_icon\" src=\"https://mp-seoul-image-production-s3.mangoplate.com/web/resources/7nvfge9jjvu6ngsw.png?fit=around|:&amp;crop=:;*,*&amp;output-format=png&amp;output-quality=80\"/>\n",
              "<span class=\"wannago_login_popup_kakao_text\">클릭 한 번이면 카카오톡 로그인</span>\n",
              "</div>\n",
              "</button>\n",
              "</div>\n",
              "</div>\n",
              "</div>\n",
              "<div class=\"black_screen\"></div>\n",
              "<div class=\"account_terms_layer\">\n",
              "<img alt=\"checkbox\" src=\"https://mp-seoul-image-production-s3.mangoplate.com/web/resources/ojlwsg-0cpi1dz8p.png?fit=around|*:*&amp;crop=*:*;*,*&amp;output-format=jpg&amp;output-quality=80\" style=\"position:absolute;top: -9999px;display: block\"/>\n",
              "<div class=\"account_terms_layer_header\">\n",
              "<button class=\"close_btn\">\n",
              "<img alt=\"arrow\" src=\"https://mp-seoul-image-production-s3.mangoplate.com/web/resources/zva6r-2wxzbxhw_n.png\"/>\n",
              "</button>\n",
              "<span>이용약관 동의</span>\n",
              "</div>\n",
              "<div class=\"account_terms_layer_content\">\n",
              "<div class=\"account_terms_layer_content_location\">\n",
              "<p class=\"terms_content\">\n",
              "        전체 동의\n",
              "      </p>\n",
              "<div class=\"check_area\">\n",
              "<button class=\"check_terms_btn all_terms_btn\" data-ischecked=\"false\">\n",
              "<img alt=\"arrow\" src=\"https://mp-seoul-image-production-s3.mangoplate.com/web/resources/24_jjq1lbdgzpdnp.png?fit=around|:&amp;crop=:;*,*&amp;output-format=png&amp;output-quality=80\" title=\"\">\n",
              "</img></button>\n",
              "</div>\n",
              "</div>\n",
              "<p class=\"sub_content\">\n",
              "      망고플레이트 서비스 이용을 위해 다음의 약관에 동의해 주세요.\n",
              "    </p>\n",
              "<hr class=\"seper_hr\"/>\n",
              "<ul class=\"account_terms_items\">\n",
              "</ul>\n",
              "</div>\n",
              "<button class=\"account_terms_layer_ok_btn\" disabled=\"true\">확인</button>\n",
              "</div>\n",
              "<aside class=\"pop-context pg-login\" style=\"display: none;\">\n",
              "<div class=\"contents-box\">\n",
              "<button class=\"btn-nav-close\" onclick=\"mp_login_layer.close_layer();\">\n",
              "      닫기\n",
              "    </button>\n",
              "<p class=\"title\">로그인</p>\n",
              "<p class=\"message\">\n",
              "       로그인 하면 가고싶은 식당을 <br/>저장할 수 있어요\n",
              "      </p>\n",
              "<p>\n",
              "<a class=\"btn-login facebook\" href=\"#\" onclick=\"trackEvent('CLICK_LOGIN_FACEBOOK','','','PU_LOGIN');\">\n",
              "<span class=\"text\">페이스북으로 계속하기</span>\n",
              "</a>\n",
              "<a class=\"btn-login kakaotalk\" href=\"#\" onclick=\"trackEvent('CLICK_LOGIN_KAKAO','','','PU_LOGIN');\">\n",
              "<span class=\"text\">카카오톡으로 계속하기</span>\n",
              "</a>\n",
              "<a class=\"btn-login apple\" href=\"#\" onclick=\"trackEvent('CLICK_LOGIN_APPLE','','','PU_LOGIN');\">\n",
              "<span class=\"text\">Apple로 계속하기</span>\n",
              "</a>\n",
              "</p>\n",
              "</div>\n",
              "</aside>\n",
              "<div class=\"login_loading_area\">\n",
              "<img alt=\"login loading bar\" src=\"https://mp-seoul-image-production-s3.mangoplate.com/web/resources/ldcyd5lxlvtlppe3.gif?fit=around|:&amp;crop=:;*,*&amp;output-format=gif&amp;output-quality=80\"/>\n",
              "</div>\n",
              "<div class=\"Menu\" data-new=\"true\">\n",
              "<header class=\"Menu__Header\">\n",
              "<a class=\"Menu__LogoLink\" href=\"/\">\n",
              "<i class=\"Menu__Logo sprite\"></i>\n",
              "</a>\n",
              "<button class=\"Menu__CloseButton\">\n",
              "<i class=\"Menu__CloseButtonIcon sprite\"></i>\n",
              "</button>\n",
              "</header>\n",
              "<nav class=\"Menu__Nav\">\n",
              "<ul class=\"Menu__NavList\">\n",
              "<li class=\"Menu__NavItem\">\n",
              "<a class=\"Menu__NavLink Menu__HomeLink\" href=\"/\" onclick=\"trackEvent('CLICK_HOME','','','PG_MENU');\">\n",
              "<span class=\"Menu__NavText\">홈</span>\n",
              "</a>\n",
              "</li>\n",
              "<li class=\"Menu__NavItem\">\n",
              "<a class=\"Menu__NavLink Menu__TopListLink\" href=\"/top_lists\" onclick=\"trackEvent('CLICK_TOP_LIST','','','PG_MENU');\">\n",
              "<span class=\"Menu__NavText\">맛집 리스트</span>\n",
              "</a>\n",
              "</li>\n",
              "<li class=\"Menu__NavItem\">\n",
              "<a class=\"Menu__NavLink Menu__StoryLink\" href=\"/mango_picks\" onclick=\"trackEvent('CLICK_MANGOPICK','','','PG_MENU');\">\n",
              "<span class=\"Menu__NavText\">망고 스토리</span>\n",
              "</a>\n",
              "</li>\n",
              "<li class=\"Menu__NavItem \">\n",
              "<a class=\"Menu__NavLink\" href=\"https://www.mangoforbiz.com/?utm_campaign=20180116v1&amp;utm_medium=main_menu_adinquiry&amp;utm_source=mp_web\" onclick=\"trackEvent('CLICK_SALES_LOCAL','','','PG_MENU')\">\n",
              "<span class=\"Menu__NavText\">광고 문의</span>\n",
              "</a>\n",
              "</li>\n",
              "<li class=\"Menu__NavItem Menu__NavItem--New \">\n",
              "<a class=\"Menu__NavLink\" href=\"/eat_deals\" onclick=\"trackEvent('CLICK_EAT_DEALS','','','PG_MENU')\">\n",
              "<span class=\"Menu__NavText\">EAT딜</span>\n",
              "</a>\n",
              "</li>\n",
              "<li class=\"Menu__NavItem Menu__NavItem--Hide\">\n",
              "<div class=\"Menu__NavLink Menu__LoginButton\">\n",
              "<span class=\"Menu__NavText\">로그인</span>\n",
              "</div>\n",
              "</li>\n",
              "<li class=\"Menu__NavItem Menu__NavItem--Hide\">\n",
              "<div class=\"Menu__NavLink Menu__LogoutButton\">\n",
              "<span class=\"Menu__NavText\">로그아웃</span>\n",
              "</div>\n",
              "</li>\n",
              "<li class=\"Menu__NavItem\">\n",
              "<div class=\"Menu__NavLink Menu__toAppButton\">\n",
              "<span class=\"Menu__NavText\">앱에서 보기</span>\n",
              "</div>\n",
              "</li>\n",
              "</ul>\n",
              "</nav>\n",
              "</div>\n",
              "<!-- 하단 영역 -->\n",
              "<footer class=\"footer\">\n",
              "<div class=\"inner\">\n",
              "<div class=\"mp_logo\">\n",
              "<a class=\"btn-mp\" href=\"/\">\n",
              "<img alt=\"mangoplate logo\" class=\"mp_logo_img\" src=\"https://mp-seoul-image-production-s3.mangoplate.com/web/resources/mangoplate-gray-logo.svg\"/>\n",
              "</a>\n",
              "<p class=\"subtitle\">Eat, Share, Be Happy.</p>\n",
              "</div>\n",
              "<button class=\"btn-mp-app\" data-event_name=\"CLICK_DOWNLOAD_BOTTOM_DEFAULT\" data-event_term=\"V1\" onclick=\"trackEvent('CLICK_DOWNLOAD_BOTTOM_DEFAULT'); go_to_app_or_market(this);\">\n",
              "      망고플레이트 앱에서 열기\n",
              "    </button>\n",
              "<p class=\"sns-shortcut\">\n",
              "<a class=\"btn facebook\" href=\"https://www.facebook.com/mangoplate\" onclick=\"trackEvent('CLICK_SHARE_FACEBOOK');\" target=\"_blank\">\n",
              "        망고플레이트 페이스북 계정으로 바로가기\n",
              "      </a>\n",
              "<a class=\"btn instagram\" href=\"https://instagram.com/mangoplate/\" onclick=\"trackEvent('CLICK_SHARE_INSTA');\" target=\"_blank\">\n",
              "        망고플레이트 인스타그램 계정으로 바로가기\n",
              "      </a>\n",
              "</p>\n",
              "<nav class=\"links-external\">\n",
              "<ul class=\"list-links\">\n",
              "<li>\n",
              "<a href=\"/company\">\n",
              "              회사소개\n",
              "            </a>\n",
              "</li>\n",
              "<li>\n",
              "<a href=\"/careers\">\n",
              "              망고플레이트 채용\n",
              "            </a>\n",
              "</li>\n",
              "<li>\n",
              "<a href=\"/investment\">\n",
              "                투자 정보\n",
              "              </a>\n",
              "</li>\n",
              "<li class=\"only-desktop\">\n",
              "<a href=\"/etc/download_company_ci\" target=\"_blank\">\n",
              "              브랜드 가이드라인\n",
              "            </a>\n",
              "</li>\n",
              "<li>\n",
              "<a href=\"https://www.mangoforbiz.com/?utm_campaign=main_bottom_business&amp;utm_medium=bizhome&amp;utm_source=web\" target=\"_blank\">\n",
              "                망고플레이트 비즈니스\n",
              "              </a>\n",
              "</li>\n",
              "<li>\n",
              "<a href=\"https://www.mangoforbiz.com/?utm_campaign=20180116v1&amp;utm_medium=main_bottom_adinquiry&amp;utm_source=mp_web\" target=\"_blank\">\n",
              "              광고 문의\n",
              "            </a>\n",
              "</li>\n",
              "</ul>\n",
              "<ul class=\"list-links\">\n",
              "<li>\n",
              "<a href=\"/notice\" target=\"_blank\">\n",
              "                공지사항\n",
              "              </a>\n",
              "</li>\n",
              "<li>\n",
              "<a class=\"\" href=\"/terms/contract\" onclick=\"trackEvent('CLICK_TERMS', 'contract')\" target=\"_blank\">\n",
              "                이용약관\n",
              "              </a>\n",
              "</li>\n",
              "<li>\n",
              "<a class=\"\" href=\"/terms/contract_non_signup\" onclick=\"trackEvent('CLICK_TERMS', 'contract_non_signup')\" target=\"_blank\">\n",
              "                비회원 이용자 이용정책\n",
              "              </a>\n",
              "</li>\n",
              "<li>\n",
              "<a class=\"bold\" href=\"/terms/privacy\" onclick=\"trackEvent('CLICK_TERMS', 'privacy')\" target=\"_blank\">\n",
              "                개인정보처리방침\n",
              "              </a>\n",
              "</li>\n",
              "<li>\n",
              "<a class=\"\" href=\"/terms/location\" onclick=\"trackEvent('CLICK_TERMS', 'location')\" target=\"_blank\">\n",
              "                위치기반서비스 이용약관\n",
              "              </a>\n",
              "</li>\n",
              "<li>\n",
              "<a class=\"\" href=\"/terms/community_guidelines\" onclick=\"trackEvent('CLICK_TERMS', 'community_guidelines')\" target=\"_blank\">\n",
              "                커뮤니티 가이드라인\n",
              "              </a>\n",
              "</li>\n",
              "<li>\n",
              "<a class=\"\" href=\"/terms/youth_protection\" onclick=\"trackEvent('CLICK_TERMS', 'youth_protection')\" target=\"_blank\">\n",
              "                청소년보호정책\n",
              "              </a>\n",
              "</li>\n",
              "<li>\n",
              "<a href=\"https://brunch.co.kr/@mangoplate/14\" target=\"_blank\">\n",
              "                홀릭 소개\n",
              "              </a>\n",
              "</li>\n",
              "<li>\n",
              "<a href=\"/company#contact\">\n",
              "                문의하기\n",
              "              </a>\n",
              "</li>\n",
              "</ul>\n",
              "</nav>\n",
              "<div class=\"sitemap-location-keywords\">\n",
              "<div class=\"keyword_wrap\">\n",
              "<span class=\"keyword\">인기지역 : </span>\n",
              "<a class=\"keyword\" href=\"/search/이태원\" onclick=\"trackEvent('CLICK_FOOTER_POPULAR_LOCATION', {&quot;position&quot;:0,&quot;keyword&quot;:&quot;이태원&quot;})\" target=\"_blank\">\n",
              "              이태원\n",
              "            </a>\n",
              "            |\n",
              "            <a class=\"keyword\" href=\"/search/홍대\" onclick=\"trackEvent('CLICK_FOOTER_POPULAR_LOCATION', {&quot;position&quot;:1,&quot;keyword&quot;:&quot;홍대&quot;})\" target=\"_blank\">\n",
              "              홍대\n",
              "            </a>\n",
              "            |\n",
              "            <a class=\"keyword\" href=\"/search/강남역\" onclick=\"trackEvent('CLICK_FOOTER_POPULAR_LOCATION', {&quot;position&quot;:2,&quot;keyword&quot;:&quot;강남역&quot;})\" target=\"_blank\">\n",
              "              강남역\n",
              "            </a>\n",
              "            |\n",
              "            <a class=\"keyword\" href=\"/search/가로수길\" onclick=\"trackEvent('CLICK_FOOTER_POPULAR_LOCATION', {&quot;position&quot;:3,&quot;keyword&quot;:&quot;가로수길&quot;})\" target=\"_blank\">\n",
              "              가로수길\n",
              "            </a>\n",
              "            |\n",
              "            <a class=\"keyword\" href=\"/search/신촌\" onclick=\"trackEvent('CLICK_FOOTER_POPULAR_LOCATION', {&quot;position&quot;:4,&quot;keyword&quot;:&quot;신촌&quot;})\" target=\"_blank\">\n",
              "              신촌\n",
              "            </a>\n",
              "            |\n",
              "            <a class=\"keyword\" href=\"/search/명동\" onclick=\"trackEvent('CLICK_FOOTER_POPULAR_LOCATION', {&quot;position&quot;:5,&quot;keyword&quot;:&quot;명동&quot;})\" target=\"_blank\">\n",
              "              명동\n",
              "            </a>\n",
              "            |\n",
              "            <a class=\"keyword\" href=\"/search/대학로\" onclick=\"trackEvent('CLICK_FOOTER_POPULAR_LOCATION', {&quot;position&quot;:6,&quot;keyword&quot;:&quot;대학로&quot;})\" target=\"_blank\">\n",
              "              대학로\n",
              "            </a>\n",
              "            |\n",
              "            <a class=\"keyword\" href=\"/search/연남동\" onclick=\"trackEvent('CLICK_FOOTER_POPULAR_LOCATION', {&quot;position&quot;:7,&quot;keyword&quot;:&quot;연남동&quot;})\" target=\"_blank\">\n",
              "              연남동\n",
              "            </a>\n",
              "            |\n",
              "            <a class=\"keyword\" href=\"/search/부산\" onclick=\"trackEvent('CLICK_FOOTER_POPULAR_LOCATION', {&quot;position&quot;:8,&quot;keyword&quot;:&quot;부산&quot;})\" target=\"_blank\">\n",
              "              부산\n",
              "            </a>\n",
              "            |\n",
              "            <a class=\"keyword\" href=\"/search/합정\" onclick=\"trackEvent('CLICK_FOOTER_POPULAR_LOCATION', {&quot;position&quot;:9,&quot;keyword&quot;:&quot;합정&quot;})\" target=\"_blank\">\n",
              "              합정\n",
              "            </a>\n",
              "            |\n",
              "            <a class=\"keyword\" href=\"/search/대구\" onclick=\"trackEvent('CLICK_FOOTER_POPULAR_LOCATION', {&quot;position&quot;:10,&quot;keyword&quot;:&quot;대구&quot;})\" target=\"_blank\">\n",
              "              대구\n",
              "            </a>\n",
              "            |\n",
              "            <a class=\"keyword\" href=\"/search/여의도\" onclick=\"trackEvent('CLICK_FOOTER_POPULAR_LOCATION', {&quot;position&quot;:11,&quot;keyword&quot;:&quot;여의도&quot;})\" target=\"_blank\">\n",
              "              여의도\n",
              "            </a>\n",
              "            |\n",
              "            <a class=\"keyword\" href=\"/search/건대\" onclick=\"trackEvent('CLICK_FOOTER_POPULAR_LOCATION', {&quot;position&quot;:12,&quot;keyword&quot;:&quot;건대&quot;})\" target=\"_blank\">\n",
              "              건대\n",
              "            </a>\n",
              "            |\n",
              "            <a class=\"keyword\" href=\"/search/광화문\" onclick=\"trackEvent('CLICK_FOOTER_POPULAR_LOCATION', {&quot;position&quot;:13,&quot;keyword&quot;:&quot;광화문&quot;})\" target=\"_blank\">\n",
              "              광화문\n",
              "            </a>\n",
              "            |\n",
              "            <a class=\"keyword\" href=\"/search/일산\" onclick=\"trackEvent('CLICK_FOOTER_POPULAR_LOCATION', {&quot;position&quot;:14,&quot;keyword&quot;:&quot;일산&quot;})\" target=\"_blank\">\n",
              "              일산\n",
              "            </a>\n",
              "            |\n",
              "            <a class=\"keyword\" href=\"/search/제주\" onclick=\"trackEvent('CLICK_FOOTER_POPULAR_LOCATION', {&quot;position&quot;:15,&quot;keyword&quot;:&quot;제주&quot;})\" target=\"_blank\">\n",
              "              제주\n",
              "            </a>\n",
              "            |\n",
              "            <a class=\"keyword\" href=\"/search/경리단길\" onclick=\"trackEvent('CLICK_FOOTER_POPULAR_LOCATION', {&quot;position&quot;:16,&quot;keyword&quot;:&quot;경리단길&quot;})\" target=\"_blank\">\n",
              "              경리단길\n",
              "            </a>\n",
              "            |\n",
              "            <a class=\"keyword\" href=\"/search/한남동\" onclick=\"trackEvent('CLICK_FOOTER_POPULAR_LOCATION', {&quot;position&quot;:17,&quot;keyword&quot;:&quot;한남동&quot;})\" target=\"_blank\">\n",
              "              한남동\n",
              "            </a>\n",
              "            |\n",
              "            <a class=\"keyword\" href=\"/search/삼청동\" onclick=\"trackEvent('CLICK_FOOTER_POPULAR_LOCATION', {&quot;position&quot;:18,&quot;keyword&quot;:&quot;삼청동&quot;})\" target=\"_blank\">\n",
              "              삼청동\n",
              "            </a>\n",
              "            |\n",
              "            <a class=\"keyword\" href=\"/search/대전\" onclick=\"trackEvent('CLICK_FOOTER_POPULAR_LOCATION', {&quot;position&quot;:19,&quot;keyword&quot;:&quot;대전&quot;})\" target=\"_blank\">\n",
              "              대전\n",
              "            </a>\n",
              "            |\n",
              "            <a class=\"keyword\" href=\"/search/종로\" onclick=\"trackEvent('CLICK_FOOTER_POPULAR_LOCATION', {&quot;position&quot;:20,&quot;keyword&quot;:&quot;종로&quot;})\" target=\"_blank\">\n",
              "              종로\n",
              "            </a>\n",
              "            |\n",
              "            <a class=\"keyword\" href=\"/search/서촌\" onclick=\"trackEvent('CLICK_FOOTER_POPULAR_LOCATION', {&quot;position&quot;:21,&quot;keyword&quot;:&quot;서촌&quot;})\" target=\"_blank\">\n",
              "              서촌\n",
              "            </a>\n",
              "            |\n",
              "            <a class=\"keyword\" href=\"/search/잠실\" onclick=\"trackEvent('CLICK_FOOTER_POPULAR_LOCATION', {&quot;position&quot;:22,&quot;keyword&quot;:&quot;잠실&quot;})\" target=\"_blank\">\n",
              "              잠실\n",
              "            </a>\n",
              "            |\n",
              "            <a class=\"keyword\" href=\"/search/사당역\" onclick=\"trackEvent('CLICK_FOOTER_POPULAR_LOCATION', {&quot;position&quot;:23,&quot;keyword&quot;:&quot;사당역&quot;})\" target=\"_blank\">\n",
              "              사당역\n",
              "            </a>\n",
              "            |\n",
              "            <a class=\"keyword\" href=\"/search/인천\" onclick=\"trackEvent('CLICK_FOOTER_POPULAR_LOCATION', {&quot;position&quot;:24,&quot;keyword&quot;:&quot;인천&quot;})\" target=\"_blank\">\n",
              "              인천\n",
              "            </a>\n",
              "            |\n",
              "            <a class=\"keyword\" href=\"/search/코엑스\" onclick=\"trackEvent('CLICK_FOOTER_POPULAR_LOCATION', {&quot;position&quot;:25,&quot;keyword&quot;:&quot;코엑스&quot;})\" target=\"_blank\">\n",
              "              코엑스\n",
              "            </a>\n",
              "            |\n",
              "            <a class=\"keyword\" href=\"/search/상수\" onclick=\"trackEvent('CLICK_FOOTER_POPULAR_LOCATION', {&quot;position&quot;:26,&quot;keyword&quot;:&quot;상수&quot;})\" target=\"_blank\">\n",
              "              상수\n",
              "            </a>\n",
              "            |\n",
              "            <a class=\"keyword\" href=\"/search/서래마을\" onclick=\"trackEvent('CLICK_FOOTER_POPULAR_LOCATION', {&quot;position&quot;:27,&quot;keyword&quot;:&quot;서래마을&quot;})\" target=\"_blank\">\n",
              "              서래마을\n",
              "            </a>\n",
              "            |\n",
              "            <a class=\"keyword\" href=\"/search/송도\" onclick=\"trackEvent('CLICK_FOOTER_POPULAR_LOCATION', {&quot;position&quot;:28,&quot;keyword&quot;:&quot;송도&quot;})\" target=\"_blank\">\n",
              "              송도\n",
              "            </a>\n",
              "            |\n",
              "            <a class=\"keyword\" href=\"/search/왕십리\" onclick=\"trackEvent('CLICK_FOOTER_POPULAR_LOCATION', {&quot;position&quot;:29,&quot;keyword&quot;:&quot;왕십리&quot;})\" target=\"_blank\">\n",
              "              왕십리\n",
              "            </a>\n",
              "            |\n",
              "            <a class=\"keyword\" href=\"/search/분당\" onclick=\"trackEvent('CLICK_FOOTER_POPULAR_LOCATION', {&quot;position&quot;:30,&quot;keyword&quot;:&quot;분당&quot;})\" target=\"_blank\">\n",
              "              분당\n",
              "            </a>\n",
              "            |\n",
              "            <a class=\"keyword\" href=\"/search/혜화\" onclick=\"trackEvent('CLICK_FOOTER_POPULAR_LOCATION', {&quot;position&quot;:31,&quot;keyword&quot;:&quot;혜화&quot;})\" target=\"_blank\">\n",
              "              혜화\n",
              "            </a>\n",
              "            |\n",
              "            <a class=\"keyword\" href=\"/search/고속터미널\" onclick=\"trackEvent('CLICK_FOOTER_POPULAR_LOCATION', {&quot;position&quot;:32,&quot;keyword&quot;:&quot;고속터미널&quot;})\" target=\"_blank\">\n",
              "              고속터미널\n",
              "            </a>\n",
              "</div>\n",
              "</div>\n",
              "<div class=\"language-copyrights\">\n",
              "<p class=\"select-language\">\n",
              "<a class=\"selected\" href=\"/\">\n",
              "          한국어\n",
              "        </a>\n",
              "<a href=\"/en\">\n",
              "          English\n",
              "        </a>\n",
              "<a href=\"/zh\">\n",
              "          简体中文\n",
              "        </a>\n",
              "</p>\n",
              "<small>\n",
              "<p>\n",
              "          \n",
              "          ㈜ 여기어때컴퍼니<br/>서울특별시 강남구 봉은사로 479, 479타워 11층<br/>대표이사: 정명훈<br/>사업자 등록번호: 742-86-00224 <a href=\"http://www.ftc.go.kr/bizCommPop.do?wrkr_no=7428600224\" target=\"_blank\">[사업자정보확인]</a><br/>통신판매업 신고번호: 2017-서울강남-01779<br/>고객센터: 02-565-5988<br/><br/>\n",
              "<span class=\"copyrights\">© 2022 MangoPlate Co., Ltd. All rights reserved.</span>\n",
              "</p>\n",
              "</small>\n",
              "</div>\n",
              "</div>\n",
              "</footer>\n",
              "<aside class=\"pop-context pg-share hide mp20_share_layer\">\n",
              "<div class=\"contents-box\">\n",
              "<span class=\"hidden\">공유</span>\n",
              "<ul class=\"list-popup-share\">\n",
              "<li>\n",
              "<a class=\"facebook facebook_share_btn\" data-content=\"CLICK_SHARE_FACEBOOK_ON\" data-image=\"\" data-message=\"\" data-term=\"V1\" data-title=\"\" data-url=\"\" onclick=\"trackEvent('CLICK_SHARE_FACEBOOK_ON','','','PG_TOPLIST')\">\n",
              "          페이스북에 공유하기\n",
              "        </a>\n",
              "</li>\n",
              "<li>\n",
              "<a class=\"kakaotalk kakaotalk_share_btn\" data-content=\"CLICK_SHARE_KAKAO_ON\" data-image=\"\" data-message=\"\" data-term=\"V1\" data-title=\"\" data-url=\"\" onclick=\"trackEvent('CLICK_SHARE_KAKAO_ON','','','PG_TOPLIST')\">\n",
              "          카카오톡에 공유하기\n",
              "        </a>\n",
              "</li>\n",
              "<li>\n",
              "<a class=\"band band_share_btn\" data-content=\"CLICK_SHARE_BAND_ON\" data-image=\"\" data-message=\"\" data-term=\"V1\" data-title=\"\" data-url=\"\" onclick=\"trackEvent('CLICK_SHARE_BAND_ON','','','PG_TOPLIST')\">\n",
              "          밴드에 공유하기\n",
              "        </a>\n",
              "</li>\n",
              "<li>\n",
              "<a class=\"twitter twitter_share_btn\" data-content=\"CLICK_SHARE_TWITTER_ON\" data-image=\"\" data-message=\"\" data-term=\"V1\" data-title=\"\" data-url=\"\" onclick=\"trackEvent('CLICK_SHARE_TWITTER_ON','','','PG_TOPLIST')\">\n",
              "          트위터에 공유하기\n",
              "        </a>\n",
              "</li>\n",
              "<li>\n",
              "<a class=\"email mail_share_btn\" data-content=\"CLICK_SHARE_EMAIL_ON\" data-image=\"\" data-message=\"\" data-term=\"V1\" data-title=\"\" data-url=\"\" onclick=\"trackEvent('CLICK_SHARE_EMAIL_ON','','','PG_TOPLIST')\">\n",
              "          이메일로 공유하기\n",
              "        </a>\n",
              "</li>\n",
              "<li>\n",
              "<a class=\"link\" href=\"#\" onclick=\"trackEvent('CLICK_SHARE_URL','','','PG_TOPLIST'); return false;\">\n",
              "<span class=\"url\"></span>\n",
              "<span class=\"desc\">길게 눌러서 복사</span>\n",
              "</a>\n",
              "</li>\n",
              "</ul>\n",
              "</div>\n",
              "</aside>\n",
              "<script type=\"text/javascript\">\n",
              "\t(function(i,s,o,g,r,a,m){i['GoogleAnalyticsObject']=r;i[r]=i[r]||function(){\n",
              "\t\t\t\t\t\t(i[r].q=i[r].q||[]).push(arguments)},i[r].l=1*new Date();a=s.createElement(o),\n",
              "\t\t\t\t\tm=s.getElementsByTagName(o)[0];a.async=1;a.src=g;m.parentNode.insertBefore(a,m)\n",
              "\t})(window,document,'script','https://www.google-analytics.com/analytics.js','ga');\n",
              "\n",
              "\tga('create', 'UA-39170270-2', 'auto');\n",
              "\tga('send', 'pageview');\n",
              "\n",
              "</script>\n",
              "<script src=\"/assets/dist/vendor.all.min-ca5bcef18b6eb37efe83cc77be5c25e8177c177f327aee8a96399966c51d0d33.js\"></script>\n",
              "<!-- Facebook SDK -->\n",
              "<script id=\"facebook-jssdk\" src=\"//connect.facebook.net/ko_KR/sdk.js\"></script>\n",
              "<script type=\"text/javascript\">\n",
              "  // \\x3C/ is <\n",
              "  if (!window.FB) {\n",
              "    $(\"#facebook-jssdk\").remove();\n",
              "    document.write('<script id=\"facebook-jssdk\" src=\"https://mp-seoul-image-production-s3.mangoplate.com/web/resources/facebook_sdk_20190510.js\">\\x3C/script>')\n",
              "  }\n",
              "</script>\n",
              "<!-- Kakao SDK -->\n",
              "<script src=\"https://mp-seoul-image-production-s3.mangoplate.com/web/resources/js/kakao-sdk/1.36.6/kakao.min.js\"></script>\n",
              "<!-- Apple SDK -->\n",
              "<script src=\"https://mp-seoul-image-production-s3.mangoplate.com/web/resources/js/apple-sdk/1.5.3/appleid.auth.js\"></script>\n",
              "<script type=\"text/javascript\">\n",
              "  if (!window.Kakao) {\n",
              "    document.write('<script src=\"//developers.kakao.com/sdk/js/kakao.min.js\">\\x3C/script>')\n",
              "  }\n",
              "  if (!window.AppleID) {\n",
              "    document.write('<script src=\"//appleid.cdn-apple.com/appleauth/static/jsapi/appleid/1/en_US/appleid.auth.js\">\\x3C/script>')\n",
              "  }\n",
              "  // I18n Default Setting\n",
              "  if (window.I18n) {\n",
              "    I18n.defaultLocale = \"ko\";\n",
              "    I18n.locale = \"ko\";\n",
              "  }\n",
              "</script>\n",
              "<script src=\"https://cdn.branch.io/branch-latest.min.js\" type=\"text/javascript\"></script>\n",
              "<!-- Branch io SDK -->\n",
              "<script charset=\"utf-8\" type=\"text/javascript\">\n",
              "  // \\x3C/ is <\n",
              "  if (!window.branch) {\n",
              "    document.write('<script src=\"/assets/vendor/branch_io.min.js\">\\x3C/script>')\n",
              "  }\n",
              "</script>\n",
              "<script src=\"/assets/dist/top_list.all.min-731db3e044344d6af945fe198f29fed67cf01f7648e7fd0b92348d16a1cc4444.js\"></script>\n",
              "<script src=\"/packs/top_list-d1068aa738e435c3abec.js\"></script>\n",
              "<script charset=\"utf-8\" id=\"map_info_window_template\" type=\"text/template\">\n",
              "  <div class=\"restaurant-in-map\">\n",
              "    <figure class=\"restaurant-item\">\n",
              "        <div class=\"thumb\">\n",
              "          <a href=\"/restaurants/{{ restaurant_key }}\">\n",
              "            <div class=\"inner\">\n",
              "              <img src=\"{{picture_url}}\" alt=\"{{ name }} 사진\" class=\"center-crop\" onerror=\"this.src='https://mp-seoul-image-production-s3.mangoplate.com/web/resources/kssf5eveeva_xlmy.jpg'\"  />\n",
              "            </div>\n",
              "          </a>\n",
              "        </div>\n",
              "      <figcaption>\n",
              "        <div class=\"info\">\n",
              "          <span class=\"title\"><a href=\"/restaurants/{{ restaurant_key }}\">{{ name }}</a></span>\n",
              "          <strong class=\"point {{ get_expected_rating_class(official_rating_available) }}\">{{ rating }}</strong>\n",
              "          <p class=\"etc\">{{ metro }} - {{ subcuisine }}</p>\n",
              "\n",
              "          <p class=\"status-cnt\">\n",
              "            <em class=\"review\"><span class=\"hidden\">리뷰수: </span>{{ review_count }}</em>\n",
              "            <em class=\"favorite\"><span class=\"hidden\">가고싶다 수: </span>{{ wannago_count }}</em>\n",
              "          </p>\n",
              "        </div>\n",
              "      </figcaption>\n",
              "    </figure>\n",
              "  </div>\n",
              "</script>\n",
              "<!-- Start Alexa Certify Javascript -->\n",
              "<script type=\"text/javascript\">\n",
              "\t_atrk_opts = { atrk_acct:\"hTunm1akKd60uG\", domain:\"mangoplate.com\",dynamic: true};\n",
              "\t(function() { var as = document.createElement('script'); as.type = 'text/javascript'; as.async = true; as.src = \"https://d31qbv1cthcecs.cloudfront.net/atrk.js\"; var s = document.getElementsByTagName('script')[0];s.parentNode.insertBefore(as, s); })();\n",
              "</script>\n",
              "<noscript><img alt=\"alexa analytics\" height=\"1\" src=\"https://d5nxst8fruw4z.cloudfront.net/atrk.gif?account=hTunm1akKd60uG\" style=\"display:none\" width=\"1\"/></noscript>\n",
              "<!-- End Alexa Certify Javascript -->\n",
              "\n"
            ]
          },
          "metadata": {},
          "execution_count": 5
        }
      ]
    },
    {
      "cell_type": "code",
      "source": [
        "soup.find_all('span','title')[:10]"
      ],
      "metadata": {
        "colab": {
          "base_uri": "https://localhost:8080/"
        },
        "id": "LzSJkXGMR0s0",
        "outputId": "27b12c1e-ebaf-4aa3-9d67-7f41372c2ad6"
      },
      "execution_count": null,
      "outputs": [
        {
          "output_type": "execute_result",
          "data": {
            "text/plain": [
              "[<span class=\"title \">\n",
              " <a href=\"/restaurants/Nel5gICwJ98Y\" onclick=\"trackEvent('CLICK_RESTAURANT', {&quot;position&quot;:0,&quot;restaurant_key&quot;:&quot;Nel5gICwJ98Y&quot;})\">\n",
              "                             1.<h3> 센터커피</h3>\n",
              " </a>\n",
              " </span>, <span class=\"title \">\n",
              " <a href=\"/restaurants/SOtX1qn8lr2z\" onclick=\"trackEvent('CLICK_RESTAURANT', {&quot;position&quot;:1,&quot;restaurant_key&quot;:&quot;SOtX1qn8lr2z&quot;})\">\n",
              "                             2.<h3> 르디투어</h3>\n",
              " </a>\n",
              " </span>, <span class=\"title \">\n",
              " <a href=\"/restaurants/dGrzcb90tI\" onclick=\"trackEvent('CLICK_RESTAURANT', {&quot;position&quot;:2,&quot;restaurant_key&quot;:&quot;dGrzcb90tI&quot;})\">\n",
              "                             3.<h3> 더백푸드트럭</h3>\n",
              " </a>\n",
              " </span>, <span class=\"title \">\n",
              " <a href=\"/restaurants/Hrii5HjHIRoi\" onclick=\"trackEvent('CLICK_RESTAURANT', {&quot;position&quot;:3,&quot;restaurant_key&quot;:&quot;Hrii5HjHIRoi&quot;})\">\n",
              "                             4.<h3> 포비</h3>\n",
              " </a>\n",
              " </span>, <span class=\"title \">\n",
              " <a href=\"/restaurants/J3PdFUAW1z6v\" onclick=\"trackEvent('CLICK_RESTAURANT', {&quot;position&quot;:4,&quot;restaurant_key&quot;:&quot;J3PdFUAW1z6v&quot;})\">\n",
              "                             5.<h3> 이다</h3>\n",
              " </a>\n",
              " </span>, <span class=\"title \">\n",
              " <a href=\"/restaurants/pdS7zz9pe6Mm\" onclick=\"trackEvent('CLICK_RESTAURANT', {&quot;position&quot;:5,&quot;restaurant_key&quot;:&quot;pdS7zz9pe6Mm&quot;})\">\n",
              "                             6.<h3> 어반루프</h3>\n",
              " </a>\n",
              " </span>, <span class=\"title \">\n",
              " <a href=\"/restaurants/A-s7x51kFTGz\" onclick=\"trackEvent('CLICK_RESTAURANT', {&quot;position&quot;:6,&quot;restaurant_key&quot;:&quot;A-s7x51kFTGz&quot;})\">\n",
              "                             7.<h3> 카페메이븐</h3>\n",
              " </a>\n",
              " </span>, <span class=\"title \">\n",
              " <a href=\"/restaurants/z6g7UUetwRDp\" onclick=\"trackEvent('CLICK_RESTAURANT', {&quot;position&quot;:7,&quot;restaurant_key&quot;:&quot;z6g7UUetwRDp&quot;})\">\n",
              "                             8.<h3> 비비커피</h3>\n",
              " </a>\n",
              " </span>, <span class=\"title \">\n",
              " <a href=\"/restaurants/5bvTS5KyNk9g\" onclick=\"trackEvent('CLICK_RESTAURANT', {&quot;position&quot;:8,&quot;restaurant_key&quot;:&quot;5bvTS5KyNk9g&quot;})\">\n",
              "                             9.<h3> 정지영커피로스터즈</h3>\n",
              " </a>\n",
              " </span>, <span class=\"title \">\n",
              " <a href=\"/restaurants/TSdX_IszZ5mW\" onclick=\"trackEvent('CLICK_RESTAURANT', {&quot;position&quot;:9,&quot;restaurant_key&quot;:&quot;TSdX_IszZ5mW&quot;})\">\n",
              "                             10.<h3> 구스아일랜드 브루하우스</h3>\n",
              " </a>\n",
              " </span>]"
            ]
          },
          "metadata": {},
          "execution_count": 6
        }
      ]
    },
    {
      "cell_type": "markdown",
      "source": [
        "**성공**"
      ],
      "metadata": {
        "id": "Esz21lRqsyfD"
      }
    },
    {
      "cell_type": "code",
      "source": [
        "name_list = []\n",
        "rank_list = []\n",
        "for i in soup.find_all('span','title')[:10]:\n",
        "    dummy_txt = i.get_text().split()\n",
        "    name_list.append(' '.join(dummy_txt[1:]))\n",
        "    print(name_list)\n",
        "    rank_list.append(dummy_txt[0])\n",
        "    print(rank_list)"
      ],
      "metadata": {
        "colab": {
          "base_uri": "https://localhost:8080/"
        },
        "id": "eO00W_C8sL4i",
        "outputId": "6f2a77c2-fa2d-45ab-8010-2708809b44df"
      },
      "execution_count": null,
      "outputs": [
        {
          "output_type": "stream",
          "name": "stdout",
          "text": [
            "['센터커피']\n",
            "['1.']\n",
            "['센터커피', '르디투어']\n",
            "['1.', '2.']\n",
            "['센터커피', '르디투어', '더백푸드트럭']\n",
            "['1.', '2.', '3.']\n",
            "['센터커피', '르디투어', '더백푸드트럭', '포비']\n",
            "['1.', '2.', '3.', '4.']\n",
            "['센터커피', '르디투어', '더백푸드트럭', '포비', '이다']\n",
            "['1.', '2.', '3.', '4.', '5.']\n",
            "['센터커피', '르디투어', '더백푸드트럭', '포비', '이다', '어반루프']\n",
            "['1.', '2.', '3.', '4.', '5.', '6.']\n",
            "['센터커피', '르디투어', '더백푸드트럭', '포비', '이다', '어반루프', '카페메이븐']\n",
            "['1.', '2.', '3.', '4.', '5.', '6.', '7.']\n",
            "['센터커피', '르디투어', '더백푸드트럭', '포비', '이다', '어반루프', '카페메이븐', '비비커피']\n",
            "['1.', '2.', '3.', '4.', '5.', '6.', '7.', '8.']\n",
            "['센터커피', '르디투어', '더백푸드트럭', '포비', '이다', '어반루프', '카페메이븐', '비비커피', '정지영커피로스터즈']\n",
            "['1.', '2.', '3.', '4.', '5.', '6.', '7.', '8.', '9.']\n",
            "['센터커피', '르디투어', '더백푸드트럭', '포비', '이다', '어반루프', '카페메이븐', '비비커피', '정지영커피로스터즈', '구스아일랜드 브루하우스']\n",
            "['1.', '2.', '3.', '4.', '5.', '6.', '7.', '8.', '9.', '10.']\n"
          ]
        }
      ]
    },
    {
      "cell_type": "code",
      "source": [
        "name_list, rank_list"
      ],
      "metadata": {
        "colab": {
          "base_uri": "https://localhost:8080/"
        },
        "id": "vQGS3aIkshtC",
        "outputId": "0fe086da-9dfe-4679-f27c-19dfea95cab2"
      },
      "execution_count": null,
      "outputs": [
        {
          "output_type": "execute_result",
          "data": {
            "text/plain": [
              "(['센터커피',\n",
              "  '르디투어',\n",
              "  '더백푸드트럭',\n",
              "  '포비',\n",
              "  '이다',\n",
              "  '어반루프',\n",
              "  '카페메이븐',\n",
              "  '비비커피',\n",
              "  '정지영커피로스터즈',\n",
              "  '구스아일랜드 브루하우스'],\n",
              " ['1.', '2.', '3.', '4.', '5.', '6.', '7.', '8.', '9.', '10.'])"
            ]
          },
          "metadata": {},
          "execution_count": 8
        }
      ]
    },
    {
      "cell_type": "markdown",
      "source": [
        "**주소**"
      ],
      "metadata": {
        "id": "sFLRjTl6s3sy"
      }
    },
    {
      "cell_type": "code",
      "source": [
        "soup.find_all('p','etc')[:10]"
      ],
      "metadata": {
        "colab": {
          "base_uri": "https://localhost:8080/"
        },
        "id": "E7yqWBQep9U1",
        "outputId": "345db9f9-712f-49e8-e060-bff4215532d0"
      },
      "execution_count": null,
      "outputs": [
        {
          "output_type": "execute_result",
          "data": {
            "text/plain": [
              "[<p class=\"etc \">서울특별시 성동구 서울숲2길 28-11</p>,\n",
              " <p class=\"etc \">경기도 수원시 영통구 웰빙타운로36번길 46-234</p>,\n",
              " <p class=\"etc \">서울특별시 용산구 신흥로20길 45 1-3F</p>,\n",
              " <p class=\"etc \">서울특별시 마포구 양화로3길 66</p>,\n",
              " <p class=\"etc \">서울특별시 종로구 서순라길 153</p>,\n",
              " <p class=\"etc \">서울특별시 마포구 동교로38길 13 3F</p>,\n",
              " <p class=\"etc \">경기도 수원시 팔달구 창룡대로74번길 15</p>,\n",
              " <p class=\"etc \">경기도 과천시 찬우물로 21 3F</p>,\n",
              " <p class=\"etc \">경기도 수원시 팔달구 수원천로 375</p>,\n",
              " <p class=\"etc \">서울특별시 강남구 역삼로 118</p>]"
            ]
          },
          "metadata": {},
          "execution_count": 9
        }
      ]
    },
    {
      "cell_type": "code",
      "source": [
        "address_list = []\n",
        "\n",
        "for i in soup.find_all('p','etc')[:10]:\n",
        "    dummy_txt = i.get_text().split()\n",
        "    address_list.append(' '.join(dummy_txt))\n",
        "    print(address_list)"
      ],
      "metadata": {
        "colab": {
          "base_uri": "https://localhost:8080/"
        },
        "id": "qSNnvrVGpeBY",
        "outputId": "340e51aa-14c6-43dd-d7e8-56157205b253"
      },
      "execution_count": null,
      "outputs": [
        {
          "output_type": "stream",
          "name": "stdout",
          "text": [
            "['서울특별시 성동구 서울숲2길 28-11']\n",
            "['서울특별시 성동구 서울숲2길 28-11', '경기도 수원시 영통구 웰빙타운로36번길 46-234']\n",
            "['서울특별시 성동구 서울숲2길 28-11', '경기도 수원시 영통구 웰빙타운로36번길 46-234', '서울특별시 용산구 신흥로20길 45 1-3F']\n",
            "['서울특별시 성동구 서울숲2길 28-11', '경기도 수원시 영통구 웰빙타운로36번길 46-234', '서울특별시 용산구 신흥로20길 45 1-3F', '서울특별시 마포구 양화로3길 66']\n",
            "['서울특별시 성동구 서울숲2길 28-11', '경기도 수원시 영통구 웰빙타운로36번길 46-234', '서울특별시 용산구 신흥로20길 45 1-3F', '서울특별시 마포구 양화로3길 66', '서울특별시 종로구 서순라길 153']\n",
            "['서울특별시 성동구 서울숲2길 28-11', '경기도 수원시 영통구 웰빙타운로36번길 46-234', '서울특별시 용산구 신흥로20길 45 1-3F', '서울특별시 마포구 양화로3길 66', '서울특별시 종로구 서순라길 153', '서울특별시 마포구 동교로38길 13 3F']\n",
            "['서울특별시 성동구 서울숲2길 28-11', '경기도 수원시 영통구 웰빙타운로36번길 46-234', '서울특별시 용산구 신흥로20길 45 1-3F', '서울특별시 마포구 양화로3길 66', '서울특별시 종로구 서순라길 153', '서울특별시 마포구 동교로38길 13 3F', '경기도 수원시 팔달구 창룡대로74번길 15']\n",
            "['서울특별시 성동구 서울숲2길 28-11', '경기도 수원시 영통구 웰빙타운로36번길 46-234', '서울특별시 용산구 신흥로20길 45 1-3F', '서울특별시 마포구 양화로3길 66', '서울특별시 종로구 서순라길 153', '서울특별시 마포구 동교로38길 13 3F', '경기도 수원시 팔달구 창룡대로74번길 15', '경기도 과천시 찬우물로 21 3F']\n",
            "['서울특별시 성동구 서울숲2길 28-11', '경기도 수원시 영통구 웰빙타운로36번길 46-234', '서울특별시 용산구 신흥로20길 45 1-3F', '서울특별시 마포구 양화로3길 66', '서울특별시 종로구 서순라길 153', '서울특별시 마포구 동교로38길 13 3F', '경기도 수원시 팔달구 창룡대로74번길 15', '경기도 과천시 찬우물로 21 3F', '경기도 수원시 팔달구 수원천로 375']\n",
            "['서울특별시 성동구 서울숲2길 28-11', '경기도 수원시 영통구 웰빙타운로36번길 46-234', '서울특별시 용산구 신흥로20길 45 1-3F', '서울특별시 마포구 양화로3길 66', '서울특별시 종로구 서순라길 153', '서울특별시 마포구 동교로38길 13 3F', '경기도 수원시 팔달구 창룡대로74번길 15', '경기도 과천시 찬우물로 21 3F', '경기도 수원시 팔달구 수원천로 375', '서울특별시 강남구 역삼로 118']\n"
          ]
        }
      ]
    },
    {
      "cell_type": "code",
      "source": [
        "rank_list,name_list, address_list\n"
      ],
      "metadata": {
        "colab": {
          "base_uri": "https://localhost:8080/"
        },
        "id": "QLrQlc2apBWd",
        "outputId": "d76bb01c-0524-4e2b-b809-3ea4d1836d16"
      },
      "execution_count": null,
      "outputs": [
        {
          "output_type": "execute_result",
          "data": {
            "text/plain": [
              "(['1.', '2.', '3.', '4.', '5.', '6.', '7.', '8.', '9.', '10.'],\n",
              " ['센터커피',\n",
              "  '르디투어',\n",
              "  '더백푸드트럭',\n",
              "  '포비',\n",
              "  '이다',\n",
              "  '어반루프',\n",
              "  '카페메이븐',\n",
              "  '비비커피',\n",
              "  '정지영커피로스터즈',\n",
              "  '구스아일랜드 브루하우스'],\n",
              " ['서울특별시 성동구 서울숲2길 28-11',\n",
              "  '경기도 수원시 영통구 웰빙타운로36번길 46-234',\n",
              "  '서울특별시 용산구 신흥로20길 45 1-3F',\n",
              "  '서울특별시 마포구 양화로3길 66',\n",
              "  '서울특별시 종로구 서순라길 153',\n",
              "  '서울특별시 마포구 동교로38길 13 3F',\n",
              "  '경기도 수원시 팔달구 창룡대로74번길 15',\n",
              "  '경기도 과천시 찬우물로 21 3F',\n",
              "  '경기도 수원시 팔달구 수원천로 375',\n",
              "  '서울특별시 강남구 역삼로 118'])"
            ]
          },
          "metadata": {},
          "execution_count": 11
        }
      ]
    },
    {
      "cell_type": "markdown",
      "source": [
        "**랭크**"
      ],
      "metadata": {
        "id": "1ASUyA2ftWMO"
      }
    },
    {
      "cell_type": "code",
      "source": [
        "soup.find_all('strong','point')[:10]"
      ],
      "metadata": {
        "colab": {
          "base_uri": "https://localhost:8080/"
        },
        "id": "7LMs-VsSraI0",
        "outputId": "65705c97-165c-44a0-8076-1cbb3b71e275"
      },
      "execution_count": null,
      "outputs": [
        {
          "output_type": "execute_result",
          "data": {
            "text/plain": [
              "[<strong class=\"point \">\n",
              " <span>4.4</span>\n",
              " </strong>, <strong class=\"point \">\n",
              " <span>4.4</span>\n",
              " </strong>, <strong class=\"point \">\n",
              " <span>4.3</span>\n",
              " </strong>, <strong class=\"point \">\n",
              " <span>4.3</span>\n",
              " </strong>, <strong class=\"point \">\n",
              " <span>4.3</span>\n",
              " </strong>, <strong class=\"point \">\n",
              " <span>4.2</span>\n",
              " </strong>, <strong class=\"point expected \">\n",
              " <span>4.2</span>\n",
              " </strong>, <strong class=\"point \">\n",
              " <span>4.1</span>\n",
              " </strong>, <strong class=\"point \">\n",
              " <span>4.1</span>\n",
              " </strong>, <strong class=\"point \">\n",
              " <span>4.0</span>\n",
              " </strong>]"
            ]
          },
          "metadata": {},
          "execution_count": 12
        }
      ]
    },
    {
      "cell_type": "code",
      "source": [
        "point_list = []\n",
        "\n",
        "for i in soup.find_all('strong','point')[:10]:\n",
        "    dummy_txt = i.get_text().split()\n",
        "    point_list.append(' '.join(dummy_txt))\n",
        "    print(point_list)"
      ],
      "metadata": {
        "colab": {
          "base_uri": "https://localhost:8080/"
        },
        "id": "T9z_t9VythOq",
        "outputId": "2abb9ccf-30db-4552-e36e-29707df4fb71"
      },
      "execution_count": null,
      "outputs": [
        {
          "output_type": "stream",
          "name": "stdout",
          "text": [
            "['4.4']\n",
            "['4.4', '4.4']\n",
            "['4.4', '4.4', '4.3']\n",
            "['4.4', '4.4', '4.3', '4.3']\n",
            "['4.4', '4.4', '4.3', '4.3', '4.3']\n",
            "['4.4', '4.4', '4.3', '4.3', '4.3', '4.2']\n",
            "['4.4', '4.4', '4.3', '4.3', '4.3', '4.2', '4.2']\n",
            "['4.4', '4.4', '4.3', '4.3', '4.3', '4.2', '4.2', '4.1']\n",
            "['4.4', '4.4', '4.3', '4.3', '4.3', '4.2', '4.2', '4.1', '4.1']\n",
            "['4.4', '4.4', '4.3', '4.3', '4.3', '4.2', '4.2', '4.1', '4.1', '4.0']\n"
          ]
        }
      ]
    },
    {
      "cell_type": "code",
      "source": [
        "rank_list,name_list, address_list, point_list"
      ],
      "metadata": {
        "colab": {
          "base_uri": "https://localhost:8080/"
        },
        "id": "8H02_1-4tusV",
        "outputId": "22db9d95-6760-4880-dfc0-803e95821521"
      },
      "execution_count": null,
      "outputs": [
        {
          "output_type": "execute_result",
          "data": {
            "text/plain": [
              "(['1.', '2.', '3.', '4.', '5.', '6.', '7.', '8.', '9.', '10.'],\n",
              " ['센터커피',\n",
              "  '르디투어',\n",
              "  '더백푸드트럭',\n",
              "  '포비',\n",
              "  '이다',\n",
              "  '어반루프',\n",
              "  '카페메이븐',\n",
              "  '비비커피',\n",
              "  '정지영커피로스터즈',\n",
              "  '구스아일랜드 브루하우스'],\n",
              " ['서울특별시 성동구 서울숲2길 28-11',\n",
              "  '경기도 수원시 영통구 웰빙타운로36번길 46-234',\n",
              "  '서울특별시 용산구 신흥로20길 45 1-3F',\n",
              "  '서울특별시 마포구 양화로3길 66',\n",
              "  '서울특별시 종로구 서순라길 153',\n",
              "  '서울특별시 마포구 동교로38길 13 3F',\n",
              "  '경기도 수원시 팔달구 창룡대로74번길 15',\n",
              "  '경기도 과천시 찬우물로 21 3F',\n",
              "  '경기도 수원시 팔달구 수원천로 375',\n",
              "  '서울특별시 강남구 역삼로 118'],\n",
              " ['4.4', '4.4', '4.3', '4.3', '4.3', '4.2', '4.2', '4.1', '4.1', '4.0'])"
            ]
          },
          "metadata": {},
          "execution_count": 14
        }
      ]
    },
    {
      "cell_type": "markdown",
      "source": [
        "데이타 선언"
      ],
      "metadata": {
        "id": "CKB8X9zNt3UY"
      }
    },
    {
      "cell_type": "code",
      "source": [
        "data = {'rank' : rank_list, 'name': name_list, 'point' : point_list, 'address': address_list}"
      ],
      "metadata": {
        "id": "t9pEhgPBt24B"
      },
      "execution_count": null,
      "outputs": []
    },
    {
      "cell_type": "code",
      "source": [
        "data"
      ],
      "metadata": {
        "colab": {
          "base_uri": "https://localhost:8080/"
        },
        "id": "qVYl9hM_t-VS",
        "outputId": "6f03856d-02d1-4424-fa52-85d3e8dde052"
      },
      "execution_count": null,
      "outputs": [
        {
          "output_type": "execute_result",
          "data": {
            "text/plain": [
              "{'address': ['서울특별시 성동구 서울숲2길 28-11',\n",
              "  '경기도 수원시 영통구 웰빙타운로36번길 46-234',\n",
              "  '서울특별시 용산구 신흥로20길 45 1-3F',\n",
              "  '서울특별시 마포구 양화로3길 66',\n",
              "  '서울특별시 종로구 서순라길 153',\n",
              "  '서울특별시 마포구 동교로38길 13 3F',\n",
              "  '경기도 수원시 팔달구 창룡대로74번길 15',\n",
              "  '경기도 과천시 찬우물로 21 3F',\n",
              "  '경기도 수원시 팔달구 수원천로 375',\n",
              "  '서울특별시 강남구 역삼로 118'],\n",
              " 'name': ['센터커피',\n",
              "  '르디투어',\n",
              "  '더백푸드트럭',\n",
              "  '포비',\n",
              "  '이다',\n",
              "  '어반루프',\n",
              "  '카페메이븐',\n",
              "  '비비커피',\n",
              "  '정지영커피로스터즈',\n",
              "  '구스아일랜드 브루하우스'],\n",
              " 'point': ['4.4',\n",
              "  '4.4',\n",
              "  '4.3',\n",
              "  '4.3',\n",
              "  '4.3',\n",
              "  '4.2',\n",
              "  '4.2',\n",
              "  '4.1',\n",
              "  '4.1',\n",
              "  '4.0'],\n",
              " 'rank': ['1.', '2.', '3.', '4.', '5.', '6.', '7.', '8.', '9.', '10.']}"
            ]
          },
          "metadata": {},
          "execution_count": 16
        }
      ]
    },
    {
      "cell_type": "code",
      "source": [
        "import pandas as pd"
      ],
      "metadata": {
        "id": "Z3zilkHduCTP"
      },
      "execution_count": null,
      "outputs": []
    },
    {
      "cell_type": "code",
      "source": [
        "df = pd.DataFrame(data)"
      ],
      "metadata": {
        "id": "qPzeV5yauEo3"
      },
      "execution_count": null,
      "outputs": []
    },
    {
      "cell_type": "code",
      "source": [
        "df"
      ],
      "metadata": {
        "colab": {
          "base_uri": "https://localhost:8080/",
          "height": 363
        },
        "id": "N-KIhyGUuGz6",
        "outputId": "f0f69041-fee2-49d5-dd09-eb8df34985e3"
      },
      "execution_count": null,
      "outputs": [
        {
          "output_type": "execute_result",
          "data": {
            "text/plain": [
              "  rank          name point                       address\n",
              "0   1.          센터커피   4.4         서울특별시 성동구 서울숲2길 28-11\n",
              "1   2.          르디투어   4.4  경기도 수원시 영통구 웰빙타운로36번길 46-234\n",
              "2   3.        더백푸드트럭   4.3      서울특별시 용산구 신흥로20길 45 1-3F\n",
              "3   4.            포비   4.3            서울특별시 마포구 양화로3길 66\n",
              "4   5.            이다   4.3            서울특별시 종로구 서순라길 153\n",
              "5   6.          어반루프   4.2        서울특별시 마포구 동교로38길 13 3F\n",
              "6   7.         카페메이븐   4.2       경기도 수원시 팔달구 창룡대로74번길 15\n",
              "7   8.          비비커피   4.1            경기도 과천시 찬우물로 21 3F\n",
              "8   9.     정지영커피로스터즈   4.1          경기도 수원시 팔달구 수원천로 375\n",
              "9  10.  구스아일랜드 브루하우스   4.0             서울특별시 강남구 역삼로 118"
            ],
            "text/html": [
              "\n",
              "  <div id=\"df-a1850b8f-20c7-49a8-b595-86bb7b4ec622\">\n",
              "    <div class=\"colab-df-container\">\n",
              "      <div>\n",
              "<style scoped>\n",
              "    .dataframe tbody tr th:only-of-type {\n",
              "        vertical-align: middle;\n",
              "    }\n",
              "\n",
              "    .dataframe tbody tr th {\n",
              "        vertical-align: top;\n",
              "    }\n",
              "\n",
              "    .dataframe thead th {\n",
              "        text-align: right;\n",
              "    }\n",
              "</style>\n",
              "<table border=\"1\" class=\"dataframe\">\n",
              "  <thead>\n",
              "    <tr style=\"text-align: right;\">\n",
              "      <th></th>\n",
              "      <th>rank</th>\n",
              "      <th>name</th>\n",
              "      <th>point</th>\n",
              "      <th>address</th>\n",
              "    </tr>\n",
              "  </thead>\n",
              "  <tbody>\n",
              "    <tr>\n",
              "      <th>0</th>\n",
              "      <td>1.</td>\n",
              "      <td>센터커피</td>\n",
              "      <td>4.4</td>\n",
              "      <td>서울특별시 성동구 서울숲2길 28-11</td>\n",
              "    </tr>\n",
              "    <tr>\n",
              "      <th>1</th>\n",
              "      <td>2.</td>\n",
              "      <td>르디투어</td>\n",
              "      <td>4.4</td>\n",
              "      <td>경기도 수원시 영통구 웰빙타운로36번길 46-234</td>\n",
              "    </tr>\n",
              "    <tr>\n",
              "      <th>2</th>\n",
              "      <td>3.</td>\n",
              "      <td>더백푸드트럭</td>\n",
              "      <td>4.3</td>\n",
              "      <td>서울특별시 용산구 신흥로20길 45 1-3F</td>\n",
              "    </tr>\n",
              "    <tr>\n",
              "      <th>3</th>\n",
              "      <td>4.</td>\n",
              "      <td>포비</td>\n",
              "      <td>4.3</td>\n",
              "      <td>서울특별시 마포구 양화로3길 66</td>\n",
              "    </tr>\n",
              "    <tr>\n",
              "      <th>4</th>\n",
              "      <td>5.</td>\n",
              "      <td>이다</td>\n",
              "      <td>4.3</td>\n",
              "      <td>서울특별시 종로구 서순라길 153</td>\n",
              "    </tr>\n",
              "    <tr>\n",
              "      <th>5</th>\n",
              "      <td>6.</td>\n",
              "      <td>어반루프</td>\n",
              "      <td>4.2</td>\n",
              "      <td>서울특별시 마포구 동교로38길 13 3F</td>\n",
              "    </tr>\n",
              "    <tr>\n",
              "      <th>6</th>\n",
              "      <td>7.</td>\n",
              "      <td>카페메이븐</td>\n",
              "      <td>4.2</td>\n",
              "      <td>경기도 수원시 팔달구 창룡대로74번길 15</td>\n",
              "    </tr>\n",
              "    <tr>\n",
              "      <th>7</th>\n",
              "      <td>8.</td>\n",
              "      <td>비비커피</td>\n",
              "      <td>4.1</td>\n",
              "      <td>경기도 과천시 찬우물로 21 3F</td>\n",
              "    </tr>\n",
              "    <tr>\n",
              "      <th>8</th>\n",
              "      <td>9.</td>\n",
              "      <td>정지영커피로스터즈</td>\n",
              "      <td>4.1</td>\n",
              "      <td>경기도 수원시 팔달구 수원천로 375</td>\n",
              "    </tr>\n",
              "    <tr>\n",
              "      <th>9</th>\n",
              "      <td>10.</td>\n",
              "      <td>구스아일랜드 브루하우스</td>\n",
              "      <td>4.0</td>\n",
              "      <td>서울특별시 강남구 역삼로 118</td>\n",
              "    </tr>\n",
              "  </tbody>\n",
              "</table>\n",
              "</div>\n",
              "      <button class=\"colab-df-convert\" onclick=\"convertToInteractive('df-a1850b8f-20c7-49a8-b595-86bb7b4ec622')\"\n",
              "              title=\"Convert this dataframe to an interactive table.\"\n",
              "              style=\"display:none;\">\n",
              "        \n",
              "  <svg xmlns=\"http://www.w3.org/2000/svg\" height=\"24px\"viewBox=\"0 0 24 24\"\n",
              "       width=\"24px\">\n",
              "    <path d=\"M0 0h24v24H0V0z\" fill=\"none\"/>\n",
              "    <path d=\"M18.56 5.44l.94 2.06.94-2.06 2.06-.94-2.06-.94-.94-2.06-.94 2.06-2.06.94zm-11 1L8.5 8.5l.94-2.06 2.06-.94-2.06-.94L8.5 2.5l-.94 2.06-2.06.94zm10 10l.94 2.06.94-2.06 2.06-.94-2.06-.94-.94-2.06-.94 2.06-2.06.94z\"/><path d=\"M17.41 7.96l-1.37-1.37c-.4-.4-.92-.59-1.43-.59-.52 0-1.04.2-1.43.59L10.3 9.45l-7.72 7.72c-.78.78-.78 2.05 0 2.83L4 21.41c.39.39.9.59 1.41.59.51 0 1.02-.2 1.41-.59l7.78-7.78 2.81-2.81c.8-.78.8-2.07 0-2.86zM5.41 20L4 18.59l7.72-7.72 1.47 1.35L5.41 20z\"/>\n",
              "  </svg>\n",
              "      </button>\n",
              "      \n",
              "  <style>\n",
              "    .colab-df-container {\n",
              "      display:flex;\n",
              "      flex-wrap:wrap;\n",
              "      gap: 12px;\n",
              "    }\n",
              "\n",
              "    .colab-df-convert {\n",
              "      background-color: #E8F0FE;\n",
              "      border: none;\n",
              "      border-radius: 50%;\n",
              "      cursor: pointer;\n",
              "      display: none;\n",
              "      fill: #1967D2;\n",
              "      height: 32px;\n",
              "      padding: 0 0 0 0;\n",
              "      width: 32px;\n",
              "    }\n",
              "\n",
              "    .colab-df-convert:hover {\n",
              "      background-color: #E2EBFA;\n",
              "      box-shadow: 0px 1px 2px rgba(60, 64, 67, 0.3), 0px 1px 3px 1px rgba(60, 64, 67, 0.15);\n",
              "      fill: #174EA6;\n",
              "    }\n",
              "\n",
              "    [theme=dark] .colab-df-convert {\n",
              "      background-color: #3B4455;\n",
              "      fill: #D2E3FC;\n",
              "    }\n",
              "\n",
              "    [theme=dark] .colab-df-convert:hover {\n",
              "      background-color: #434B5C;\n",
              "      box-shadow: 0px 1px 3px 1px rgba(0, 0, 0, 0.15);\n",
              "      filter: drop-shadow(0px 1px 2px rgba(0, 0, 0, 0.3));\n",
              "      fill: #FFFFFF;\n",
              "    }\n",
              "  </style>\n",
              "\n",
              "      <script>\n",
              "        const buttonEl =\n",
              "          document.querySelector('#df-a1850b8f-20c7-49a8-b595-86bb7b4ec622 button.colab-df-convert');\n",
              "        buttonEl.style.display =\n",
              "          google.colab.kernel.accessAllowed ? 'block' : 'none';\n",
              "\n",
              "        async function convertToInteractive(key) {\n",
              "          const element = document.querySelector('#df-a1850b8f-20c7-49a8-b595-86bb7b4ec622');\n",
              "          const dataTable =\n",
              "            await google.colab.kernel.invokeFunction('convertToInteractive',\n",
              "                                                     [key], {});\n",
              "          if (!dataTable) return;\n",
              "\n",
              "          const docLinkHtml = 'Like what you see? Visit the ' +\n",
              "            '<a target=\"_blank\" href=https://colab.research.google.com/notebooks/data_table.ipynb>data table notebook</a>'\n",
              "            + ' to learn more about interactive tables.';\n",
              "          element.innerHTML = '';\n",
              "          dataTable['output_type'] = 'display_data';\n",
              "          await google.colab.output.renderOutput(dataTable, element);\n",
              "          const docLink = document.createElement('div');\n",
              "          docLink.innerHTML = docLinkHtml;\n",
              "          element.appendChild(docLink);\n",
              "        }\n",
              "      </script>\n",
              "    </div>\n",
              "  </div>\n",
              "  "
            ]
          },
          "metadata": {},
          "execution_count": 19
        }
      ]
    },
    {
      "cell_type": "code",
      "source": [
        "print(df)"
      ],
      "metadata": {
        "colab": {
          "base_uri": "https://localhost:8080/"
        },
        "id": "982DBs-0vai7",
        "outputId": "8f2d468e-cc1b-4351-b174-cea6f467813a"
      },
      "execution_count": null,
      "outputs": [
        {
          "output_type": "stream",
          "name": "stdout",
          "text": [
            "  rank          name point                       address\n",
            "0   1.          센터커피   4.4         서울특별시 성동구 서울숲2길 28-11\n",
            "1   2.          르디투어   4.4  경기도 수원시 영통구 웰빙타운로36번길 46-234\n",
            "2   3.        더백푸드트럭   4.3      서울특별시 용산구 신흥로20길 45 1-3F\n",
            "3   4.            포비   4.3            서울특별시 마포구 양화로3길 66\n",
            "4   5.            이다   4.3            서울특별시 종로구 서순라길 153\n",
            "5   6.          어반루프   4.2        서울특별시 마포구 동교로38길 13 3F\n",
            "6   7.         카페메이븐   4.2       경기도 수원시 팔달구 창룡대로74번길 15\n",
            "7   8.          비비커피   4.1            경기도 과천시 찬우물로 21 3F\n",
            "8   9.     정지영커피로스터즈   4.1          경기도 수원시 팔달구 수원천로 375\n",
            "9  10.  구스아일랜드 브루하우스   4.0             서울특별시 강남구 역삼로 118\n"
          ]
        }
      ]
    },
    {
      "cell_type": "markdown",
      "source": [
        "# **영화 표 판매량 조사**"
      ],
      "metadata": {
        "id": "7Cn8fMPW3hSi"
      }
    },
    {
      "cell_type": "code",
      "source": [
        "url = 'http://www.kobis.or.kr/kobisopenapi/webservice/rest/boxoffice/searchDailyBoxOfficeList.json?key=c3a0fa760324363ef7cde2afa0d73297&targetDt=20220524'\n"
      ],
      "metadata": {
        "id": "VqGQ4N8c3gcZ"
      },
      "execution_count": null,
      "outputs": []
    },
    {
      "cell_type": "code",
      "source": [
        "import requests"
      ],
      "metadata": {
        "id": "pnOZysGA39ab"
      },
      "execution_count": null,
      "outputs": []
    },
    {
      "cell_type": "code",
      "source": [
        "resp = requests.get(url)"
      ],
      "metadata": {
        "id": "t4gLTmhv4IFv"
      },
      "execution_count": null,
      "outputs": []
    },
    {
      "cell_type": "code",
      "source": [
        "resp"
      ],
      "metadata": {
        "colab": {
          "base_uri": "https://localhost:8080/"
        },
        "id": "TL0FSHyK4X9A",
        "outputId": "d3e4b196-7b59-4ef7-aecf-d927630334cf"
      },
      "execution_count": null,
      "outputs": [
        {
          "output_type": "execute_result",
          "data": {
            "text/plain": [
              "<Response [200]>"
            ]
          },
          "metadata": {},
          "execution_count": 308
        }
      ]
    },
    {
      "cell_type": "code",
      "source": [
        "data = resp.json()"
      ],
      "metadata": {
        "id": "Zij1CYo94d33"
      },
      "execution_count": null,
      "outputs": []
    },
    {
      "cell_type": "code",
      "source": [
        "type(data)"
      ],
      "metadata": {
        "colab": {
          "base_uri": "https://localhost:8080/"
        },
        "id": "PYBoP2Ou5Xe1",
        "outputId": "d3aec0ba-a767-4525-b3da-a7e86d9af833"
      },
      "execution_count": null,
      "outputs": [
        {
          "output_type": "execute_result",
          "data": {
            "text/plain": [
              "dict"
            ]
          },
          "metadata": {},
          "execution_count": 310
        }
      ]
    },
    {
      "cell_type": "code",
      "source": [
        "data.keys()"
      ],
      "metadata": {
        "colab": {
          "base_uri": "https://localhost:8080/"
        },
        "id": "J7jXw61Q6mdI",
        "outputId": "404f7250-c0a2-4cd8-8086-8d193e1354d7"
      },
      "execution_count": null,
      "outputs": [
        {
          "output_type": "execute_result",
          "data": {
            "text/plain": [
              "dict_keys(['boxOfficeResult'])"
            ]
          },
          "metadata": {},
          "execution_count": 311
        }
      ]
    },
    {
      "cell_type": "code",
      "source": [
        "type(data['boxOfficeResult'])"
      ],
      "metadata": {
        "colab": {
          "base_uri": "https://localhost:8080/"
        },
        "id": "eI56onbR6nzq",
        "outputId": "9f348d9c-39a6-433a-ad34-d231918cbff1"
      },
      "execution_count": null,
      "outputs": [
        {
          "output_type": "execute_result",
          "data": {
            "text/plain": [
              "dict"
            ]
          },
          "metadata": {},
          "execution_count": 314
        }
      ]
    },
    {
      "cell_type": "code",
      "source": [
        "data['boxOfficeResult'].keys()"
      ],
      "metadata": {
        "colab": {
          "base_uri": "https://localhost:8080/"
        },
        "id": "7bJkVXVP6t5X",
        "outputId": "59d14f5c-92e9-45bb-db08-b205cf031576"
      },
      "execution_count": null,
      "outputs": [
        {
          "output_type": "execute_result",
          "data": {
            "text/plain": [
              "dict_keys(['boxofficeType', 'showRange', 'dailyBoxOfficeList'])"
            ]
          },
          "metadata": {},
          "execution_count": 315
        }
      ]
    },
    {
      "cell_type": "code",
      "source": [
        "data['boxOfficeResult']['boxofficeType']"
      ],
      "metadata": {
        "colab": {
          "base_uri": "https://localhost:8080/",
          "height": 35
        },
        "id": "LMJLQnch6xRE",
        "outputId": "8f521dfe-51ee-49b1-96b8-136a4298bb80"
      },
      "execution_count": null,
      "outputs": [
        {
          "output_type": "execute_result",
          "data": {
            "text/plain": [
              "'일별 박스오피스'"
            ],
            "application/vnd.google.colaboratory.intrinsic+json": {
              "type": "string"
            }
          },
          "metadata": {},
          "execution_count": 316
        }
      ]
    },
    {
      "cell_type": "code",
      "source": [
        "data['boxOfficeResult']['showRange']"
      ],
      "metadata": {
        "colab": {
          "base_uri": "https://localhost:8080/",
          "height": 35
        },
        "id": "m_L9GHUS69W9",
        "outputId": "c69f8502-7052-4d4a-b1f2-999a89f9b24d"
      },
      "execution_count": null,
      "outputs": [
        {
          "output_type": "execute_result",
          "data": {
            "text/plain": [
              "'20220524~20220524'"
            ],
            "application/vnd.google.colaboratory.intrinsic+json": {
              "type": "string"
            }
          },
          "metadata": {},
          "execution_count": 317
        }
      ]
    },
    {
      "cell_type": "code",
      "source": [
        "type(data['boxOfficeResult']['dailyBoxOfficeList'])"
      ],
      "metadata": {
        "colab": {
          "base_uri": "https://localhost:8080/"
        },
        "id": "83tzxAZu74VB",
        "outputId": "178df9d3-2058-44d8-bead-5d9cbba12dea"
      },
      "execution_count": null,
      "outputs": [
        {
          "output_type": "execute_result",
          "data": {
            "text/plain": [
              "list"
            ]
          },
          "metadata": {},
          "execution_count": 319
        }
      ]
    },
    {
      "cell_type": "code",
      "source": [
        "import pandas as pd"
      ],
      "metadata": {
        "id": "t87XTVIt8dBm"
      },
      "execution_count": null,
      "outputs": []
    },
    {
      "cell_type": "code",
      "source": [
        "data_raw = data['boxOfficeResult']['dailyBoxOfficeList']"
      ],
      "metadata": {
        "id": "w8VH3TW58fVs"
      },
      "execution_count": null,
      "outputs": []
    },
    {
      "cell_type": "code",
      "source": [
        "df_movie = pd.DataFrame(data_raw)"
      ],
      "metadata": {
        "id": "v5HSVKiU8hRT"
      },
      "execution_count": null,
      "outputs": []
    },
    {
      "cell_type": "code",
      "source": [
        "df_movie"
      ],
      "metadata": {
        "colab": {
          "base_uri": "https://localhost:8080/",
          "height": 670
        },
        "id": "JpAUqDbQ8oko",
        "outputId": "a311f7b3-182b-401b-bd8b-9578370fa819"
      },
      "execution_count": null,
      "outputs": [
        {
          "output_type": "execute_result",
          "data": {
            "text/plain": [
              "  rnum rank rankInten rankOldAndNew   movieCd              movieNm  \\\n",
              "0    1    1         0           OLD  20204548               범죄도시 2   \n",
              "1    2    2         0           OLD  20212855  닥터 스트레인지: 대혼돈의 멀티버스   \n",
              "2    3    3         0           NEW  20224634               그대가 조국   \n",
              "3    4    4         0           OLD  20211568          아치의 노래, 정태춘   \n",
              "4    5    5         0           OLD  20224270               배드 가이즈   \n",
              "5    6    6         1           OLD  20211421                   매스   \n",
              "6    7    7         0           NEW  20217688              광대: 소리꾼   \n",
              "7    8    8         1           OLD  20204665           EBS 댄스파티!    \n",
              "8    9    9         1           OLD  20210962               우연과 상상   \n",
              "9   10   10         0           NEW  19888010               시네마 천국   \n",
              "\n",
              "       openDt    salesAmt salesShare  salesInten salesChange     salesAcc  \\\n",
              "0  2022-05-18  2865885830       88.2  -535978910       -15.8  43525355560   \n",
              "1  2022-05-04   260195560        8.0   -36413440       -12.3  58874126460   \n",
              "2  2022-05-25    38542600        1.2    38542600         100     43391600   \n",
              "3  2022-05-18    14290100        0.4     1383400        10.7    167211220   \n",
              "4  2022-05-04     7743200        0.2    -3232100       -29.4   3596142650   \n",
              "5  2022-05-18     6991900        0.2     3181400        83.5     60929700   \n",
              "6  2022-02-24     4368000        0.1     4368000         100    118735170   \n",
              "7                 2742000        0.1      810000        41.9     44789000   \n",
              "8  2022-05-04     3881400        0.1      782500        25.3    191551500   \n",
              "9  1990-07-07     2400000        0.1     2400000         100    376314000   \n",
              "\n",
              "  audiCnt audiInten audiChange  audiAcc scrnCnt showCnt  \n",
              "0  283589    -53073      -15.8  4171033    2311   12533  \n",
              "1   26062     -3340      -11.4  5527573     983    3708  \n",
              "2    4075      4075        100     4589      17      17  \n",
              "3    1492       130        9.5    17190     132     185  \n",
              "4     902      -259      -22.3   377468     148     190  \n",
              "5     818       395       93.4     6602      61      96  \n",
              "6     624       624        100    15059       2       4  \n",
              "7     457       135       41.9     7686      13      13  \n",
              "8     414        95       29.8    19213      42      58  \n",
              "9     400       400        100    60918       2       2  "
            ],
            "text/html": [
              "\n",
              "  <div id=\"df-d81dbbaa-a65d-4ff9-9fd9-804e5b190d7b\">\n",
              "    <div class=\"colab-df-container\">\n",
              "      <div>\n",
              "<style scoped>\n",
              "    .dataframe tbody tr th:only-of-type {\n",
              "        vertical-align: middle;\n",
              "    }\n",
              "\n",
              "    .dataframe tbody tr th {\n",
              "        vertical-align: top;\n",
              "    }\n",
              "\n",
              "    .dataframe thead th {\n",
              "        text-align: right;\n",
              "    }\n",
              "</style>\n",
              "<table border=\"1\" class=\"dataframe\">\n",
              "  <thead>\n",
              "    <tr style=\"text-align: right;\">\n",
              "      <th></th>\n",
              "      <th>rnum</th>\n",
              "      <th>rank</th>\n",
              "      <th>rankInten</th>\n",
              "      <th>rankOldAndNew</th>\n",
              "      <th>movieCd</th>\n",
              "      <th>movieNm</th>\n",
              "      <th>openDt</th>\n",
              "      <th>salesAmt</th>\n",
              "      <th>salesShare</th>\n",
              "      <th>salesInten</th>\n",
              "      <th>salesChange</th>\n",
              "      <th>salesAcc</th>\n",
              "      <th>audiCnt</th>\n",
              "      <th>audiInten</th>\n",
              "      <th>audiChange</th>\n",
              "      <th>audiAcc</th>\n",
              "      <th>scrnCnt</th>\n",
              "      <th>showCnt</th>\n",
              "    </tr>\n",
              "  </thead>\n",
              "  <tbody>\n",
              "    <tr>\n",
              "      <th>0</th>\n",
              "      <td>1</td>\n",
              "      <td>1</td>\n",
              "      <td>0</td>\n",
              "      <td>OLD</td>\n",
              "      <td>20204548</td>\n",
              "      <td>범죄도시 2</td>\n",
              "      <td>2022-05-18</td>\n",
              "      <td>2865885830</td>\n",
              "      <td>88.2</td>\n",
              "      <td>-535978910</td>\n",
              "      <td>-15.8</td>\n",
              "      <td>43525355560</td>\n",
              "      <td>283589</td>\n",
              "      <td>-53073</td>\n",
              "      <td>-15.8</td>\n",
              "      <td>4171033</td>\n",
              "      <td>2311</td>\n",
              "      <td>12533</td>\n",
              "    </tr>\n",
              "    <tr>\n",
              "      <th>1</th>\n",
              "      <td>2</td>\n",
              "      <td>2</td>\n",
              "      <td>0</td>\n",
              "      <td>OLD</td>\n",
              "      <td>20212855</td>\n",
              "      <td>닥터 스트레인지: 대혼돈의 멀티버스</td>\n",
              "      <td>2022-05-04</td>\n",
              "      <td>260195560</td>\n",
              "      <td>8.0</td>\n",
              "      <td>-36413440</td>\n",
              "      <td>-12.3</td>\n",
              "      <td>58874126460</td>\n",
              "      <td>26062</td>\n",
              "      <td>-3340</td>\n",
              "      <td>-11.4</td>\n",
              "      <td>5527573</td>\n",
              "      <td>983</td>\n",
              "      <td>3708</td>\n",
              "    </tr>\n",
              "    <tr>\n",
              "      <th>2</th>\n",
              "      <td>3</td>\n",
              "      <td>3</td>\n",
              "      <td>0</td>\n",
              "      <td>NEW</td>\n",
              "      <td>20224634</td>\n",
              "      <td>그대가 조국</td>\n",
              "      <td>2022-05-25</td>\n",
              "      <td>38542600</td>\n",
              "      <td>1.2</td>\n",
              "      <td>38542600</td>\n",
              "      <td>100</td>\n",
              "      <td>43391600</td>\n",
              "      <td>4075</td>\n",
              "      <td>4075</td>\n",
              "      <td>100</td>\n",
              "      <td>4589</td>\n",
              "      <td>17</td>\n",
              "      <td>17</td>\n",
              "    </tr>\n",
              "    <tr>\n",
              "      <th>3</th>\n",
              "      <td>4</td>\n",
              "      <td>4</td>\n",
              "      <td>0</td>\n",
              "      <td>OLD</td>\n",
              "      <td>20211568</td>\n",
              "      <td>아치의 노래, 정태춘</td>\n",
              "      <td>2022-05-18</td>\n",
              "      <td>14290100</td>\n",
              "      <td>0.4</td>\n",
              "      <td>1383400</td>\n",
              "      <td>10.7</td>\n",
              "      <td>167211220</td>\n",
              "      <td>1492</td>\n",
              "      <td>130</td>\n",
              "      <td>9.5</td>\n",
              "      <td>17190</td>\n",
              "      <td>132</td>\n",
              "      <td>185</td>\n",
              "    </tr>\n",
              "    <tr>\n",
              "      <th>4</th>\n",
              "      <td>5</td>\n",
              "      <td>5</td>\n",
              "      <td>0</td>\n",
              "      <td>OLD</td>\n",
              "      <td>20224270</td>\n",
              "      <td>배드 가이즈</td>\n",
              "      <td>2022-05-04</td>\n",
              "      <td>7743200</td>\n",
              "      <td>0.2</td>\n",
              "      <td>-3232100</td>\n",
              "      <td>-29.4</td>\n",
              "      <td>3596142650</td>\n",
              "      <td>902</td>\n",
              "      <td>-259</td>\n",
              "      <td>-22.3</td>\n",
              "      <td>377468</td>\n",
              "      <td>148</td>\n",
              "      <td>190</td>\n",
              "    </tr>\n",
              "    <tr>\n",
              "      <th>5</th>\n",
              "      <td>6</td>\n",
              "      <td>6</td>\n",
              "      <td>1</td>\n",
              "      <td>OLD</td>\n",
              "      <td>20211421</td>\n",
              "      <td>매스</td>\n",
              "      <td>2022-05-18</td>\n",
              "      <td>6991900</td>\n",
              "      <td>0.2</td>\n",
              "      <td>3181400</td>\n",
              "      <td>83.5</td>\n",
              "      <td>60929700</td>\n",
              "      <td>818</td>\n",
              "      <td>395</td>\n",
              "      <td>93.4</td>\n",
              "      <td>6602</td>\n",
              "      <td>61</td>\n",
              "      <td>96</td>\n",
              "    </tr>\n",
              "    <tr>\n",
              "      <th>6</th>\n",
              "      <td>7</td>\n",
              "      <td>7</td>\n",
              "      <td>0</td>\n",
              "      <td>NEW</td>\n",
              "      <td>20217688</td>\n",
              "      <td>광대: 소리꾼</td>\n",
              "      <td>2022-02-24</td>\n",
              "      <td>4368000</td>\n",
              "      <td>0.1</td>\n",
              "      <td>4368000</td>\n",
              "      <td>100</td>\n",
              "      <td>118735170</td>\n",
              "      <td>624</td>\n",
              "      <td>624</td>\n",
              "      <td>100</td>\n",
              "      <td>15059</td>\n",
              "      <td>2</td>\n",
              "      <td>4</td>\n",
              "    </tr>\n",
              "    <tr>\n",
              "      <th>7</th>\n",
              "      <td>8</td>\n",
              "      <td>8</td>\n",
              "      <td>1</td>\n",
              "      <td>OLD</td>\n",
              "      <td>20204665</td>\n",
              "      <td>EBS 댄스파티!</td>\n",
              "      <td></td>\n",
              "      <td>2742000</td>\n",
              "      <td>0.1</td>\n",
              "      <td>810000</td>\n",
              "      <td>41.9</td>\n",
              "      <td>44789000</td>\n",
              "      <td>457</td>\n",
              "      <td>135</td>\n",
              "      <td>41.9</td>\n",
              "      <td>7686</td>\n",
              "      <td>13</td>\n",
              "      <td>13</td>\n",
              "    </tr>\n",
              "    <tr>\n",
              "      <th>8</th>\n",
              "      <td>9</td>\n",
              "      <td>9</td>\n",
              "      <td>1</td>\n",
              "      <td>OLD</td>\n",
              "      <td>20210962</td>\n",
              "      <td>우연과 상상</td>\n",
              "      <td>2022-05-04</td>\n",
              "      <td>3881400</td>\n",
              "      <td>0.1</td>\n",
              "      <td>782500</td>\n",
              "      <td>25.3</td>\n",
              "      <td>191551500</td>\n",
              "      <td>414</td>\n",
              "      <td>95</td>\n",
              "      <td>29.8</td>\n",
              "      <td>19213</td>\n",
              "      <td>42</td>\n",
              "      <td>58</td>\n",
              "    </tr>\n",
              "    <tr>\n",
              "      <th>9</th>\n",
              "      <td>10</td>\n",
              "      <td>10</td>\n",
              "      <td>0</td>\n",
              "      <td>NEW</td>\n",
              "      <td>19888010</td>\n",
              "      <td>시네마 천국</td>\n",
              "      <td>1990-07-07</td>\n",
              "      <td>2400000</td>\n",
              "      <td>0.1</td>\n",
              "      <td>2400000</td>\n",
              "      <td>100</td>\n",
              "      <td>376314000</td>\n",
              "      <td>400</td>\n",
              "      <td>400</td>\n",
              "      <td>100</td>\n",
              "      <td>60918</td>\n",
              "      <td>2</td>\n",
              "      <td>2</td>\n",
              "    </tr>\n",
              "  </tbody>\n",
              "</table>\n",
              "</div>\n",
              "      <button class=\"colab-df-convert\" onclick=\"convertToInteractive('df-d81dbbaa-a65d-4ff9-9fd9-804e5b190d7b')\"\n",
              "              title=\"Convert this dataframe to an interactive table.\"\n",
              "              style=\"display:none;\">\n",
              "        \n",
              "  <svg xmlns=\"http://www.w3.org/2000/svg\" height=\"24px\"viewBox=\"0 0 24 24\"\n",
              "       width=\"24px\">\n",
              "    <path d=\"M0 0h24v24H0V0z\" fill=\"none\"/>\n",
              "    <path d=\"M18.56 5.44l.94 2.06.94-2.06 2.06-.94-2.06-.94-.94-2.06-.94 2.06-2.06.94zm-11 1L8.5 8.5l.94-2.06 2.06-.94-2.06-.94L8.5 2.5l-.94 2.06-2.06.94zm10 10l.94 2.06.94-2.06 2.06-.94-2.06-.94-.94-2.06-.94 2.06-2.06.94z\"/><path d=\"M17.41 7.96l-1.37-1.37c-.4-.4-.92-.59-1.43-.59-.52 0-1.04.2-1.43.59L10.3 9.45l-7.72 7.72c-.78.78-.78 2.05 0 2.83L4 21.41c.39.39.9.59 1.41.59.51 0 1.02-.2 1.41-.59l7.78-7.78 2.81-2.81c.8-.78.8-2.07 0-2.86zM5.41 20L4 18.59l7.72-7.72 1.47 1.35L5.41 20z\"/>\n",
              "  </svg>\n",
              "      </button>\n",
              "      \n",
              "  <style>\n",
              "    .colab-df-container {\n",
              "      display:flex;\n",
              "      flex-wrap:wrap;\n",
              "      gap: 12px;\n",
              "    }\n",
              "\n",
              "    .colab-df-convert {\n",
              "      background-color: #E8F0FE;\n",
              "      border: none;\n",
              "      border-radius: 50%;\n",
              "      cursor: pointer;\n",
              "      display: none;\n",
              "      fill: #1967D2;\n",
              "      height: 32px;\n",
              "      padding: 0 0 0 0;\n",
              "      width: 32px;\n",
              "    }\n",
              "\n",
              "    .colab-df-convert:hover {\n",
              "      background-color: #E2EBFA;\n",
              "      box-shadow: 0px 1px 2px rgba(60, 64, 67, 0.3), 0px 1px 3px 1px rgba(60, 64, 67, 0.15);\n",
              "      fill: #174EA6;\n",
              "    }\n",
              "\n",
              "    [theme=dark] .colab-df-convert {\n",
              "      background-color: #3B4455;\n",
              "      fill: #D2E3FC;\n",
              "    }\n",
              "\n",
              "    [theme=dark] .colab-df-convert:hover {\n",
              "      background-color: #434B5C;\n",
              "      box-shadow: 0px 1px 3px 1px rgba(0, 0, 0, 0.15);\n",
              "      filter: drop-shadow(0px 1px 2px rgba(0, 0, 0, 0.3));\n",
              "      fill: #FFFFFF;\n",
              "    }\n",
              "  </style>\n",
              "\n",
              "      <script>\n",
              "        const buttonEl =\n",
              "          document.querySelector('#df-d81dbbaa-a65d-4ff9-9fd9-804e5b190d7b button.colab-df-convert');\n",
              "        buttonEl.style.display =\n",
              "          google.colab.kernel.accessAllowed ? 'block' : 'none';\n",
              "\n",
              "        async function convertToInteractive(key) {\n",
              "          const element = document.querySelector('#df-d81dbbaa-a65d-4ff9-9fd9-804e5b190d7b');\n",
              "          const dataTable =\n",
              "            await google.colab.kernel.invokeFunction('convertToInteractive',\n",
              "                                                     [key], {});\n",
              "          if (!dataTable) return;\n",
              "\n",
              "          const docLinkHtml = 'Like what you see? Visit the ' +\n",
              "            '<a target=\"_blank\" href=https://colab.research.google.com/notebooks/data_table.ipynb>data table notebook</a>'\n",
              "            + ' to learn more about interactive tables.';\n",
              "          element.innerHTML = '';\n",
              "          dataTable['output_type'] = 'display_data';\n",
              "          await google.colab.output.renderOutput(dataTable, element);\n",
              "          const docLink = document.createElement('div');\n",
              "          docLink.innerHTML = docLinkHtml;\n",
              "          element.appendChild(docLink);\n",
              "        }\n",
              "      </script>\n",
              "    </div>\n",
              "  </div>\n",
              "  "
            ]
          },
          "metadata": {},
          "execution_count": 323
        }
      ]
    },
    {
      "cell_type": "code",
      "source": [
        "df_movie.to_csv('movie.csv')"
      ],
      "metadata": {
        "id": "S7x-zG3p9N8C"
      },
      "execution_count": null,
      "outputs": []
    },
    {
      "cell_type": "markdown",
      "source": [
        "dna 시퀀스가 두개가 있습니다.\n",
        "- ATG CGC CTG CGT CTG TAC TAG\n",
        "\n",
        "- ATG CGC TGC GTC TGT ACT AG\n",
        "\n",
        "그런데 하나는 DNA로 기능하지만 다른 하나는 DNA기능을 하지 못합니다.\n",
        "\n",
        "인-5탄당-A = T-5탄당-인\n",
        "\n",
        "A-T\n",
        "\n",
        "G-C\n",
        "\n",
        "- 조건\n",
        "ATG : 시작코돈\n",
        "\n",
        "TAA, TAG, TGA : 종료 코돈\n",
        "\n",
        "종료코돈이 중간에 나오면 안됨"
      ],
      "metadata": {
        "id": "arFpRk-ZAwgR"
      }
    },
    {
      "cell_type": "markdown",
      "source": [
        "ATGCGCTGCGTCTGTACTAG\n",
        "ATGCGCCTGCGTCTGTACTAG"
      ],
      "metadata": {
        "id": "QQdFK06NB_gD"
      }
    },
    {
      "cell_type": "code",
      "source": [
        "import pandas as pd\n",
        "import numpy as np\n",
        "import matplotlib.pyplot as plt\n",
        "%matplotlib inline"
      ],
      "metadata": {
        "id": "0sI4shLCAFGl"
      },
      "execution_count": null,
      "outputs": []
    },
    {
      "cell_type": "code",
      "source": [
        "def t_o_f():\n",
        "    dna_front1=list(a)[:3]\n",
        "    if dna_front1 != source:\n",
        "        print('일치하지 않습니다.')\n",
        "    else:\n",
        "        print('일치합니다.')\n",
        "        "
      ],
      "metadata": {
        "id": "LLHwxV4GAYmw"
      },
      "execution_count": null,
      "outputs": []
    },
    {
      "cell_type": "code",
      "source": [
        "t_o_f()"
      ],
      "metadata": {
        "colab": {
          "base_uri": "https://localhost:8080/"
        },
        "id": "89xTzj2xEUL4",
        "outputId": "fb12797d-75c5-4ae7-8dc8-b9fe1b4dde64"
      },
      "execution_count": null,
      "outputs": [
        {
          "output_type": "stream",
          "name": "stdout",
          "text": [
            "일치합니다.\n"
          ]
        }
      ]
    },
    {
      "cell_type": "code",
      "source": [
        "dna_1 = ['ATG','CGC','TGC','GTC','TGT','ACT','AG']"
      ],
      "metadata": {
        "id": "paF0xRlIHACp"
      },
      "execution_count": null,
      "outputs": []
    },
    {
      "cell_type": "code",
      "source": [
        "dna_2 = ['ATG','CGC','CTG','CGT','CTG','TAC','TAG']"
      ],
      "metadata": {
        "id": "9Sf4A5giG87Q"
      },
      "execution_count": null,
      "outputs": []
    },
    {
      "cell_type": "code",
      "source": [
        "def t_o_f():\n",
        "    base1 = ['ATG','CGC','TGC','GTC','TGT','ACT','AG']\n",
        "    base2 = ['ATG','CGC','CTG','CGT','CTG','TAC','TAG']\n",
        "    source = ['ATG','TAA','TAG','TGA']\n",
        "    if base1[0] == source[0]:\n",
        "        print('앞부분이 일치합니다.')\n",
        "        if base1[-1] == source[-1]:\n",
        "            print('뒷부분이 일치합니다.')\n",
        "            #return source \n",
        "        else:\n",
        "            #return source\n",
        "            print('일치하지 않습니다.')\n",
        "    else:\n",
        "        #return source\n",
        "        print('일치하지 않습니다.')\n",
        "    if base2[0] == source[0]:\n",
        "        print('앞부분이 일치합니다.')\n",
        "        if base2[-1] == source[-1]:\n",
        "            print('전체 일치합니다.')\n",
        "            #return source\n",
        "        else:\n",
        "            #return source\n",
        "            print('일치하지 않습니다.')\n",
        "    else:\n",
        "        #return source\n",
        "        print('일치하지 않습니다.')"
      ],
      "metadata": {
        "id": "-M53Hs_cLQVV"
      },
      "execution_count": null,
      "outputs": []
    },
    {
      "cell_type": "code",
      "source": [
        "t_o_f()"
      ],
      "metadata": {
        "id": "bj2eNFeBLRai",
        "outputId": "7f6387b6-bba0-4309-ffff-609239a4864c",
        "colab": {
          "base_uri": "https://localhost:8080/"
        }
      },
      "execution_count": null,
      "outputs": [
        {
          "output_type": "stream",
          "name": "stdout",
          "text": [
            "앞부분이 일치합니다.\n",
            "일치하지 않습니다.\n",
            "앞부분이 일치합니다.\n",
            "일치하지 않습니다.\n"
          ]
        }
      ]
    },
    {
      "cell_type": "code",
      "source": [
        "base1 = 'ATGCGCTGCGTCTGTACTAG'"
      ],
      "metadata": {
        "id": "bKwYygtjNao2"
      },
      "execution_count": null,
      "outputs": []
    },
    {
      "cell_type": "code",
      "source": [
        "base2 = 'ATGCGCCTGCGTCTGTACTAG'"
      ],
      "metadata": {
        "id": "mujZkiG7Nh2P"
      },
      "execution_count": null,
      "outputs": []
    },
    {
      "cell_type": "code",
      "source": [
        "def isPotentialGene(base):\n",
        "    if (len(base)%3) !=0:\n",
        "        return False\n",
        "    if not base.startswith('ATG'):\n",
        "        return False\n",
        "    for i in range(len(base)-3):\n",
        "        print(base[i:i+3])\n",
        "        if i %3 ==0:\n",
        "            if base[i:i+3] =='TAA':\n",
        "                return False\n",
        "            if base[i:i+3] =='TGA':\n",
        "                return False\n",
        "            if base[i:i+3] =='TAG':\n",
        "                return False\n",
        "    if base.endswith('TTA'):\n",
        "        return True\n",
        "    if base.endswith('TGA'):\n",
        "        return True\n",
        "    if base.endswith('TAG'):\n",
        "        return True\n",
        "    return False"
      ],
      "metadata": {
        "id": "Vay1KT9JL9AM"
      },
      "execution_count": null,
      "outputs": []
    },
    {
      "cell_type": "code",
      "source": [
        "base1 = 'ATGCGCCTGCGTCTGTACTAG'"
      ],
      "metadata": {
        "id": "wmi2qM_FOQOz"
      },
      "execution_count": null,
      "outputs": []
    },
    {
      "cell_type": "code",
      "source": [
        "isPotentialGene(base1)"
      ],
      "metadata": {
        "colab": {
          "base_uri": "https://localhost:8080/"
        },
        "id": "jh394A4UMR6d",
        "outputId": "b4c23a46-0e37-411d-8441-e5e7f4f076ab"
      },
      "execution_count": null,
      "outputs": [
        {
          "output_type": "stream",
          "name": "stdout",
          "text": [
            "ATG\n",
            "TGC\n",
            "GCG\n",
            "CGC\n",
            "GCC\n",
            "CCT\n",
            "CTG\n",
            "TGC\n",
            "GCG\n",
            "CGT\n",
            "GTC\n",
            "TCT\n",
            "CTG\n",
            "TGT\n",
            "GTA\n",
            "TAC\n",
            "ACT\n",
            "CTA\n"
          ]
        },
        {
          "output_type": "execute_result",
          "data": {
            "text/plain": [
              "True"
            ]
          },
          "metadata": {},
          "execution_count": 391
        }
      ]
    },
    {
      "cell_type": "code",
      "source": [
        "base2 = 'ATGCGCTGCGTCTGTACTAG'"
      ],
      "metadata": {
        "id": "17pNBqHjOSYt"
      },
      "execution_count": null,
      "outputs": []
    },
    {
      "cell_type": "code",
      "source": [
        "isPotentialGene(base2)"
      ],
      "metadata": {
        "colab": {
          "base_uri": "https://localhost:8080/"
        },
        "id": "oIkZsZ0HOUEQ",
        "outputId": "5dc89bc1-f1b5-4bb6-9592-901666070bb3"
      },
      "execution_count": null,
      "outputs": [
        {
          "output_type": "execute_result",
          "data": {
            "text/plain": [
              "False"
            ]
          },
          "metadata": {},
          "execution_count": 393
        }
      ]
    },
    {
      "cell_type": "code",
      "source": [
        "30000000/86400"
      ],
      "metadata": {
        "colab": {
          "base_uri": "https://localhost:8080/"
        },
        "id": "-RPQ9yvHRn6s",
        "outputId": "ded52426-0f37-4dfd-dc3c-f6563a29ead5"
      },
      "execution_count": null,
      "outputs": [
        {
          "output_type": "execute_result",
          "data": {
            "text/plain": [
              "347.22222222222223"
            ]
          },
          "metadata": {},
          "execution_count": 394
        }
      ]
    },
    {
      "cell_type": "code",
      "source": [
        "import pandas as pd\n",
        "import numpy as np\n",
        "import matplotlib.pyplot as plt\n",
        "%matplotlib inline"
      ],
      "metadata": {
        "id": "jcExXSpXSX6x"
      },
      "execution_count": null,
      "outputs": []
    },
    {
      "cell_type": "code",
      "source": [
        "obj = pd.Series([4,7,-5,3])\n",
        "obj"
      ],
      "metadata": {
        "colab": {
          "base_uri": "https://localhost:8080/"
        },
        "id": "AlSPq-lsR3rI",
        "outputId": "c0e56a8e-5c11-4a46-9889-359e3a51033f"
      },
      "execution_count": null,
      "outputs": [
        {
          "output_type": "execute_result",
          "data": {
            "text/plain": [
              "0    4\n",
              "1    7\n",
              "2   -5\n",
              "3    3\n",
              "dtype: int64"
            ]
          },
          "metadata": {},
          "execution_count": 395
        }
      ]
    },
    {
      "cell_type": "code",
      "source": [
        "type(obj)"
      ],
      "metadata": {
        "colab": {
          "base_uri": "https://localhost:8080/"
        },
        "id": "BPB_BYYgSmvh",
        "outputId": "e51ec37d-20e9-4375-a4e5-0abc18b7b938"
      },
      "execution_count": null,
      "outputs": [
        {
          "output_type": "execute_result",
          "data": {
            "text/plain": [
              "pandas.core.series.Series"
            ]
          },
          "metadata": {},
          "execution_count": 396
        }
      ]
    },
    {
      "cell_type": "code",
      "source": [
        "data_list = [4,7,-5,3]"
      ],
      "metadata": {
        "id": "tp7hIOirSsex"
      },
      "execution_count": null,
      "outputs": []
    },
    {
      "cell_type": "code",
      "source": [
        "obj2 = pd.Series(data_list)"
      ],
      "metadata": {
        "id": "_Aip0NxoSx0N"
      },
      "execution_count": null,
      "outputs": []
    },
    {
      "cell_type": "code",
      "source": [
        "obj2"
      ],
      "metadata": {
        "colab": {
          "base_uri": "https://localhost:8080/"
        },
        "id": "lniNjUItS1Cm",
        "outputId": "35dc9d07-5821-4b89-d852-85a0405bbaf7"
      },
      "execution_count": null,
      "outputs": [
        {
          "output_type": "execute_result",
          "data": {
            "text/plain": [
              "0    4\n",
              "1    7\n",
              "2   -5\n",
              "3    3\n",
              "dtype: int64"
            ]
          },
          "metadata": {},
          "execution_count": 405
        }
      ]
    },
    {
      "cell_type": "markdown",
      "source": [
        "- numpy : 단일 산술 배열 데이터를 다루는데 특화\n",
        "- pandas ; 표 형식의 데이터, 다양한 종류의 데이터 처리,\n",
        "\n",
        "Numpy,Scipy, statsmodels, scikit-learn, matplotlib 과 주로 활용\n",
        "- pandas의 대표적인 자료구조 : series , DataFrame\n",
        "- series : 1차원 배열같은 자료구조"
      ],
      "metadata": {
        "id": "29-wjl04TeXF"
      }
    },
    {
      "cell_type": "code",
      "source": [
        "type(df_movie['rank'])"
      ],
      "metadata": {
        "colab": {
          "base_uri": "https://localhost:8080/"
        },
        "id": "vjUVHz8QS5RW",
        "outputId": "5ff3acef-8559-47e4-9bf4-03ea22342e85"
      },
      "execution_count": null,
      "outputs": [
        {
          "output_type": "execute_result",
          "data": {
            "text/plain": [
              "pandas.core.series.Series"
            ]
          },
          "metadata": {},
          "execution_count": 409
        }
      ]
    },
    {
      "cell_type": "code",
      "source": [
        "obj.values"
      ],
      "metadata": {
        "colab": {
          "base_uri": "https://localhost:8080/"
        },
        "id": "kK1L7WHYUpJC",
        "outputId": "7338866a-da4f-49ed-9bd7-94c645bbdaac"
      },
      "execution_count": null,
      "outputs": [
        {
          "output_type": "execute_result",
          "data": {
            "text/plain": [
              "array([ 4,  7, -5,  3])"
            ]
          },
          "metadata": {},
          "execution_count": 411
        }
      ]
    },
    {
      "cell_type": "code",
      "source": [
        "obj.index"
      ],
      "metadata": {
        "colab": {
          "base_uri": "https://localhost:8080/"
        },
        "id": "N0rg0J5eUyTX",
        "outputId": "40b2b708-5ef5-4251-d01d-d210bb2deee1"
      },
      "execution_count": null,
      "outputs": [
        {
          "output_type": "execute_result",
          "data": {
            "text/plain": [
              "RangeIndex(start=0, stop=4, step=1)"
            ]
          },
          "metadata": {},
          "execution_count": 412
        }
      ]
    },
    {
      "cell_type": "code",
      "source": [
        "type(obj.values)"
      ],
      "metadata": {
        "colab": {
          "base_uri": "https://localhost:8080/"
        },
        "id": "AEweGArBU60H",
        "outputId": "c72cf014-8d5b-48b2-c41d-cdf16bde83b5"
      },
      "execution_count": null,
      "outputs": [
        {
          "output_type": "execute_result",
          "data": {
            "text/plain": [
              "numpy.ndarray"
            ]
          },
          "metadata": {},
          "execution_count": 413
        }
      ]
    },
    {
      "cell_type": "code",
      "source": [
        "for i in obj.index:\n",
        "    print(i,obj[i])"
      ],
      "metadata": {
        "colab": {
          "base_uri": "https://localhost:8080/"
        },
        "id": "TjVMJ0kSU-RB",
        "outputId": "3a94b3a3-ce94-4f43-aaf9-52c31d507862"
      },
      "execution_count": null,
      "outputs": [
        {
          "output_type": "stream",
          "name": "stdout",
          "text": [
            "0 4\n",
            "1 7\n",
            "2 -5\n",
            "3 3\n"
          ]
        }
      ]
    }
  ]
}