{
  "nbformat": 4,
  "nbformat_minor": 0,
  "metadata": {
    "colab": {
      "name": "0706 40일차 증식부분.ipynb",
      "provenance": [],
      "collapsed_sections": [],
      "mount_file_id": "1ZPj6sMkFu6ZJ2u_YA0eAhziVfo6Ffgmc",
      "authorship_tag": "ABX9TyPF+tvzwLJZFxz6yuIRePZu",
      "include_colab_link": true
    },
    "kernelspec": {
      "name": "python3",
      "display_name": "Python 3"
    },
    "language_info": {
      "name": "python"
    },
    "accelerator": "GPU",
    "gpuClass": "standard"
  },
  "cells": [
    {
      "cell_type": "markdown",
      "metadata": {
        "id": "view-in-github",
        "colab_type": "text"
      },
      "source": [
        "<a href=\"https://colab.research.google.com/github/Angorith/acorn_python/blob/main/0706_40%EC%9D%BC%EC%B0%A8_%EC%A6%9D%EC%8B%9D%EB%B6%80%EB%B6%84.ipynb\" target=\"_parent\"><img src=\"https://colab.research.google.com/assets/colab-badge.svg\" alt=\"Open In Colab\"/></a>"
      ]
    },
    {
      "cell_type": "code",
      "execution_count": null,
      "metadata": {
        "colab": {
          "base_uri": "https://localhost:8080/"
        },
        "id": "AbxqOLkRgtJc",
        "outputId": "4e4e702c-a0d1-4fd6-8697-6de2855f9089"
      },
      "outputs": [
        {
          "output_type": "stream",
          "name": "stdout",
          "text": [
            "Name: keras\n",
            "Version: 2.8.0\n",
            "Summary: Deep learning for humans.\n",
            "Home-page: https://keras.io/\n",
            "Author: Keras team\n",
            "Author-email: keras-users@googlegroups.com\n",
            "License: Apache 2.0\n",
            "Location: /usr/local/lib/python3.7/dist-packages\n",
            "Requires: \n",
            "Required-by: tensorflow, keras-vis\n"
          ]
        }
      ],
      "source": [
        "!pip show keras"
      ]
    },
    {
      "cell_type": "code",
      "source": [
        "!pip show tensorflow"
      ],
      "metadata": {
        "colab": {
          "base_uri": "https://localhost:8080/"
        },
        "id": "DR8GmX42hIPz",
        "outputId": "d283e40c-12ab-47ca-83ef-1e13e220f0b2"
      },
      "execution_count": null,
      "outputs": [
        {
          "output_type": "stream",
          "name": "stdout",
          "text": [
            "Name: tensorflow\n",
            "Version: 2.8.2+zzzcolab20220527125636\n",
            "Summary: TensorFlow is an open source machine learning framework for everyone.\n",
            "Home-page: https://www.tensorflow.org/\n",
            "Author: Google Inc.\n",
            "Author-email: packages@tensorflow.org\n",
            "License: Apache 2.0\n",
            "Location: /usr/local/lib/python3.7/dist-packages\n",
            "Requires: flatbuffers, keras-preprocessing, absl-py, gast, opt-einsum, grpcio, wrapt, protobuf, google-pasta, h5py, six, astunparse, setuptools, tensorflow-estimator, typing-extensions, keras, tensorboard, numpy, libclang, tensorflow-io-gcs-filesystem, termcolor\n",
            "Required-by: kapre\n"
          ]
        }
      ]
    },
    {
      "cell_type": "code",
      "source": [
        "!pip uninstall keras"
      ],
      "metadata": {
        "colab": {
          "base_uri": "https://localhost:8080/"
        },
        "id": "_pmgEWrHhMi2",
        "outputId": "3972fbcb-d988-4998-be67-2d337a06964b"
      },
      "execution_count": null,
      "outputs": [
        {
          "output_type": "stream",
          "name": "stdout",
          "text": [
            "Found existing installation: keras 2.8.0\n",
            "Uninstalling keras-2.8.0:\n",
            "  Would remove:\n",
            "    /usr/local/lib/python3.7/dist-packages/keras-2.8.0.dist-info/*\n",
            "    /usr/local/lib/python3.7/dist-packages/keras/*\n",
            "Proceed (y/n)? y\n",
            "  Successfully uninstalled keras-2.8.0\n"
          ]
        }
      ]
    },
    {
      "cell_type": "code",
      "source": [
        "!pip uninstall tensorflow"
      ],
      "metadata": {
        "colab": {
          "base_uri": "https://localhost:8080/"
        },
        "id": "7ZhcKZyOhPay",
        "outputId": "b4244e4d-8371-4240-eed3-370b7095cfeb"
      },
      "execution_count": null,
      "outputs": [
        {
          "output_type": "stream",
          "name": "stdout",
          "text": [
            "Found existing installation: tensorflow 2.8.2+zzzcolab20220527125636\n",
            "Uninstalling tensorflow-2.8.2+zzzcolab20220527125636:\n",
            "  Would remove:\n",
            "    /usr/local/bin/estimator_ckpt_converter\n",
            "    /usr/local/bin/import_pb_to_tensorboard\n",
            "    /usr/local/bin/saved_model_cli\n",
            "    /usr/local/bin/tensorboard\n",
            "    /usr/local/bin/tf_upgrade_v2\n",
            "    /usr/local/bin/tflite_convert\n",
            "    /usr/local/bin/toco\n",
            "    /usr/local/bin/toco_from_protos\n",
            "    /usr/local/lib/python3.7/dist-packages/tensorflow-2.8.2+zzzcolab20220527125636.dist-info/*\n",
            "    /usr/local/lib/python3.7/dist-packages/tensorflow/*\n",
            "Proceed (y/n)? y\n",
            "  Successfully uninstalled tensorflow-2.8.2+zzzcolab20220527125636\n"
          ]
        }
      ]
    },
    {
      "cell_type": "code",
      "source": [
        "!pip install tensorflow==2.2.0"
      ],
      "metadata": {
        "colab": {
          "base_uri": "https://localhost:8080/"
        },
        "id": "jaUZlWXnhhWp",
        "outputId": "a2067bf0-0a7f-4271-eb61-2978c48d5b6c"
      },
      "execution_count": null,
      "outputs": [
        {
          "output_type": "stream",
          "name": "stdout",
          "text": [
            "Looking in indexes: https://pypi.org/simple, https://us-python.pkg.dev/colab-wheels/public/simple/\n",
            "Collecting tensorflow==2.2.0\n",
            "  Downloading tensorflow-2.2.0-cp37-cp37m-manylinux2010_x86_64.whl (516.2 MB)\n",
            "\u001b[K     |████████████████████████████████| 516.2 MB 4.5 kB/s \n",
            "\u001b[?25hRequirement already satisfied: protobuf>=3.8.0 in /usr/local/lib/python3.7/dist-packages (from tensorflow==2.2.0) (3.17.3)\n",
            "Requirement already satisfied: absl-py>=0.7.0 in /usr/local/lib/python3.7/dist-packages (from tensorflow==2.2.0) (1.1.0)\n",
            "Requirement already satisfied: wheel>=0.26 in /usr/local/lib/python3.7/dist-packages (from tensorflow==2.2.0) (0.37.1)\n",
            "Collecting gast==0.3.3\n",
            "  Downloading gast-0.3.3-py2.py3-none-any.whl (9.7 kB)\n",
            "Requirement already satisfied: wrapt>=1.11.1 in /usr/local/lib/python3.7/dist-packages (from tensorflow==2.2.0) (1.14.1)\n",
            "Requirement already satisfied: six>=1.12.0 in /usr/local/lib/python3.7/dist-packages (from tensorflow==2.2.0) (1.15.0)\n",
            "Requirement already satisfied: google-pasta>=0.1.8 in /usr/local/lib/python3.7/dist-packages (from tensorflow==2.2.0) (0.2.0)\n",
            "Requirement already satisfied: grpcio>=1.8.6 in /usr/local/lib/python3.7/dist-packages (from tensorflow==2.2.0) (1.46.3)\n",
            "Requirement already satisfied: keras-preprocessing>=1.1.0 in /usr/local/lib/python3.7/dist-packages (from tensorflow==2.2.0) (1.1.2)\n",
            "Requirement already satisfied: opt-einsum>=2.3.2 in /usr/local/lib/python3.7/dist-packages (from tensorflow==2.2.0) (3.3.0)\n",
            "Collecting h5py<2.11.0,>=2.10.0\n",
            "  Downloading h5py-2.10.0-cp37-cp37m-manylinux1_x86_64.whl (2.9 MB)\n",
            "\u001b[K     |████████████████████████████████| 2.9 MB 49.2 MB/s \n",
            "\u001b[?25hRequirement already satisfied: termcolor>=1.1.0 in /usr/local/lib/python3.7/dist-packages (from tensorflow==2.2.0) (1.1.0)\n",
            "Requirement already satisfied: numpy<2.0,>=1.16.0 in /usr/local/lib/python3.7/dist-packages (from tensorflow==2.2.0) (1.21.6)\n",
            "Requirement already satisfied: scipy==1.4.1 in /usr/local/lib/python3.7/dist-packages (from tensorflow==2.2.0) (1.4.1)\n",
            "Requirement already satisfied: astunparse==1.6.3 in /usr/local/lib/python3.7/dist-packages (from tensorflow==2.2.0) (1.6.3)\n",
            "Collecting tensorflow-estimator<2.3.0,>=2.2.0\n",
            "  Downloading tensorflow_estimator-2.2.0-py2.py3-none-any.whl (454 kB)\n",
            "\u001b[K     |████████████████████████████████| 454 kB 57.6 MB/s \n",
            "\u001b[?25hCollecting tensorboard<2.3.0,>=2.2.0\n",
            "  Downloading tensorboard-2.2.2-py3-none-any.whl (3.0 MB)\n",
            "\u001b[K     |████████████████████████████████| 3.0 MB 52.2 MB/s \n",
            "\u001b[?25hRequirement already satisfied: setuptools>=41.0.0 in /usr/local/lib/python3.7/dist-packages (from tensorboard<2.3.0,>=2.2.0->tensorflow==2.2.0) (57.4.0)\n",
            "Requirement already satisfied: google-auth<2,>=1.6.3 in /usr/local/lib/python3.7/dist-packages (from tensorboard<2.3.0,>=2.2.0->tensorflow==2.2.0) (1.35.0)\n",
            "Requirement already satisfied: tensorboard-plugin-wit>=1.6.0 in /usr/local/lib/python3.7/dist-packages (from tensorboard<2.3.0,>=2.2.0->tensorflow==2.2.0) (1.8.1)\n",
            "Requirement already satisfied: requests<3,>=2.21.0 in /usr/local/lib/python3.7/dist-packages (from tensorboard<2.3.0,>=2.2.0->tensorflow==2.2.0) (2.23.0)\n",
            "Requirement already satisfied: google-auth-oauthlib<0.5,>=0.4.1 in /usr/local/lib/python3.7/dist-packages (from tensorboard<2.3.0,>=2.2.0->tensorflow==2.2.0) (0.4.6)\n",
            "Requirement already satisfied: werkzeug>=0.11.15 in /usr/local/lib/python3.7/dist-packages (from tensorboard<2.3.0,>=2.2.0->tensorflow==2.2.0) (1.0.1)\n",
            "Requirement already satisfied: markdown>=2.6.8 in /usr/local/lib/python3.7/dist-packages (from tensorboard<2.3.0,>=2.2.0->tensorflow==2.2.0) (3.3.7)\n",
            "Requirement already satisfied: rsa<5,>=3.1.4 in /usr/local/lib/python3.7/dist-packages (from google-auth<2,>=1.6.3->tensorboard<2.3.0,>=2.2.0->tensorflow==2.2.0) (4.8)\n",
            "Requirement already satisfied: pyasn1-modules>=0.2.1 in /usr/local/lib/python3.7/dist-packages (from google-auth<2,>=1.6.3->tensorboard<2.3.0,>=2.2.0->tensorflow==2.2.0) (0.2.8)\n",
            "Requirement already satisfied: cachetools<5.0,>=2.0.0 in /usr/local/lib/python3.7/dist-packages (from google-auth<2,>=1.6.3->tensorboard<2.3.0,>=2.2.0->tensorflow==2.2.0) (4.2.4)\n",
            "Requirement already satisfied: requests-oauthlib>=0.7.0 in /usr/local/lib/python3.7/dist-packages (from google-auth-oauthlib<0.5,>=0.4.1->tensorboard<2.3.0,>=2.2.0->tensorflow==2.2.0) (1.3.1)\n",
            "Requirement already satisfied: importlib-metadata>=4.4 in /usr/local/lib/python3.7/dist-packages (from markdown>=2.6.8->tensorboard<2.3.0,>=2.2.0->tensorflow==2.2.0) (4.11.4)\n",
            "Requirement already satisfied: zipp>=0.5 in /usr/local/lib/python3.7/dist-packages (from importlib-metadata>=4.4->markdown>=2.6.8->tensorboard<2.3.0,>=2.2.0->tensorflow==2.2.0) (3.8.0)\n",
            "Requirement already satisfied: typing-extensions>=3.6.4 in /usr/local/lib/python3.7/dist-packages (from importlib-metadata>=4.4->markdown>=2.6.8->tensorboard<2.3.0,>=2.2.0->tensorflow==2.2.0) (4.1.1)\n",
            "Requirement already satisfied: pyasn1<0.5.0,>=0.4.6 in /usr/local/lib/python3.7/dist-packages (from pyasn1-modules>=0.2.1->google-auth<2,>=1.6.3->tensorboard<2.3.0,>=2.2.0->tensorflow==2.2.0) (0.4.8)\n",
            "Requirement already satisfied: urllib3!=1.25.0,!=1.25.1,<1.26,>=1.21.1 in /usr/local/lib/python3.7/dist-packages (from requests<3,>=2.21.0->tensorboard<2.3.0,>=2.2.0->tensorflow==2.2.0) (1.24.3)\n",
            "Requirement already satisfied: certifi>=2017.4.17 in /usr/local/lib/python3.7/dist-packages (from requests<3,>=2.21.0->tensorboard<2.3.0,>=2.2.0->tensorflow==2.2.0) (2022.6.15)\n",
            "Requirement already satisfied: chardet<4,>=3.0.2 in /usr/local/lib/python3.7/dist-packages (from requests<3,>=2.21.0->tensorboard<2.3.0,>=2.2.0->tensorflow==2.2.0) (3.0.4)\n",
            "Requirement already satisfied: idna<3,>=2.5 in /usr/local/lib/python3.7/dist-packages (from requests<3,>=2.21.0->tensorboard<2.3.0,>=2.2.0->tensorflow==2.2.0) (2.10)\n",
            "Requirement already satisfied: oauthlib>=3.0.0 in /usr/local/lib/python3.7/dist-packages (from requests-oauthlib>=0.7.0->google-auth-oauthlib<0.5,>=0.4.1->tensorboard<2.3.0,>=2.2.0->tensorflow==2.2.0) (3.2.0)\n",
            "Installing collected packages: tensorflow-estimator, tensorboard, h5py, gast, tensorflow\n",
            "  Attempting uninstall: tensorflow-estimator\n",
            "    Found existing installation: tensorflow-estimator 2.8.0\n",
            "    Uninstalling tensorflow-estimator-2.8.0:\n",
            "      Successfully uninstalled tensorflow-estimator-2.8.0\n",
            "  Attempting uninstall: tensorboard\n",
            "    Found existing installation: tensorboard 2.8.0\n",
            "    Uninstalling tensorboard-2.8.0:\n",
            "      Successfully uninstalled tensorboard-2.8.0\n",
            "  Attempting uninstall: h5py\n",
            "    Found existing installation: h5py 3.1.0\n",
            "    Uninstalling h5py-3.1.0:\n",
            "      Successfully uninstalled h5py-3.1.0\n",
            "  Attempting uninstall: gast\n",
            "    Found existing installation: gast 0.5.3\n",
            "    Uninstalling gast-0.5.3:\n",
            "      Successfully uninstalled gast-0.5.3\n",
            "\u001b[31mERROR: pip's dependency resolver does not currently take into account all the packages that are installed. This behaviour is the source of the following dependency conflicts.\n",
            "keras-vis 0.4.1 requires keras, which is not installed.\u001b[0m\n",
            "Successfully installed gast-0.3.3 h5py-2.10.0 tensorboard-2.2.2 tensorflow-2.2.0 tensorflow-estimator-2.2.0\n"
          ]
        }
      ]
    },
    {
      "cell_type": "code",
      "source": [
        "!pip install keras==2.3.1"
      ],
      "metadata": {
        "colab": {
          "base_uri": "https://localhost:8080/"
        },
        "id": "VHieaQ-jhiWm",
        "outputId": "f74eee89-bbb8-4d82-a59b-6fd2e160bcba"
      },
      "execution_count": null,
      "outputs": [
        {
          "output_type": "stream",
          "name": "stdout",
          "text": [
            "Looking in indexes: https://pypi.org/simple, https://us-python.pkg.dev/colab-wheels/public/simple/\n",
            "Collecting keras==2.3.1\n",
            "  Downloading Keras-2.3.1-py2.py3-none-any.whl (377 kB)\n",
            "\u001b[K     |████████████████████████████████| 377 kB 35.5 MB/s \n",
            "\u001b[?25hRequirement already satisfied: six>=1.9.0 in /usr/local/lib/python3.7/dist-packages (from keras==2.3.1) (1.15.0)\n",
            "Requirement already satisfied: pyyaml in /usr/local/lib/python3.7/dist-packages (from keras==2.3.1) (3.13)\n",
            "Requirement already satisfied: scipy>=0.14 in /usr/local/lib/python3.7/dist-packages (from keras==2.3.1) (1.4.1)\n",
            "Requirement already satisfied: keras-preprocessing>=1.0.5 in /usr/local/lib/python3.7/dist-packages (from keras==2.3.1) (1.1.2)\n",
            "Requirement already satisfied: numpy>=1.9.1 in /usr/local/lib/python3.7/dist-packages (from keras==2.3.1) (1.21.6)\n",
            "Requirement already satisfied: h5py in /usr/local/lib/python3.7/dist-packages (from keras==2.3.1) (2.10.0)\n",
            "Collecting keras-applications>=1.0.6\n",
            "  Downloading Keras_Applications-1.0.8-py3-none-any.whl (50 kB)\n",
            "\u001b[K     |████████████████████████████████| 50 kB 6.2 MB/s \n",
            "\u001b[?25hInstalling collected packages: keras-applications, keras\n",
            "Successfully installed keras-2.3.1 keras-applications-1.0.8\n"
          ]
        }
      ]
    },
    {
      "cell_type": "code",
      "source": [
        "import numpy as np\n",
        "from keras.models import Sequential\n",
        "from keras.layers import Dense\n",
        "from keras.layers import Flatten\n",
        "from keras.layers.convolutional import Conv2D\n",
        "from keras.layers.convolutional import MaxPooling2D\n",
        "from keras.preprocessing.image import ImageDataGenerator\n",
        "\n",
        "np.random.seed(3)"
      ],
      "metadata": {
        "id": "9QoIgxbKjlVL"
      },
      "execution_count": null,
      "outputs": []
    },
    {
      "cell_type": "code",
      "source": [
        "!cp ./drive/MyDrive/train.zip ./"
      ],
      "metadata": {
        "id": "Jn4rOHZpkEe1"
      },
      "execution_count": null,
      "outputs": []
    },
    {
      "cell_type": "code",
      "source": [
        "!mkdir ./cat_dog\n",
        "!mkdir cat_dog/raw_data\n",
        "!unzip train.zip -d ./cat_dog/raw_data/"
      ],
      "metadata": {
        "id": "Zw1TVhQNkqNi"
      },
      "execution_count": null,
      "outputs": []
    },
    {
      "cell_type": "code",
      "source": [
        "import os\n",
        "import shutil\n",
        "import numpy as np\n",
        "from keras.models import Sequential\n",
        "from keras.layers import Dense, Dropout, Flatten\n",
        "from keras.layers.convolutional import Conv2D, MaxPooling2D\n",
        "from keras.preprocessing.image import ImageDataGenerator\n",
        "from tensorflow.keras import optimizers\n",
        "\n",
        "np.random.seed(3)\n",
        "\n",
        "def pre_process(base_dir):\n",
        "    middle_dir = ['train','validation','test']\n",
        "    dir_name = ['cats','dogs']\n",
        "    for i in middle_dir:\n",
        "        for j in dir_name:\n",
        "            target_dir = base_dir + i+'/'+j\n",
        "            os.makedirs(target_dir)\n",
        "            \n",
        "def data_copy(base_dir):\n",
        "    file_name = base_dir + 'raw_data/'\n",
        "    file_mv = base_dir\n",
        "    for i in range(0,2000):\n",
        "        if i < 1000:\n",
        "            shutil.copy(file_name+f'cat.{i}.jpg',file_mv+\"train/cats/\")\n",
        "            shutil.copy(file_name+f'dog.{i}.jpg',file_mv+\"train/dogs/\")\n",
        "        elif i <1500:\n",
        "            shutil.copy(file_name+f'cat.{i}.jpg',file_mv+\"validation/cats/\")\n",
        "            shutil.copy(file_name+f'dog.{i}.jpg',file_mv+\"validation/dogs/\")\n",
        "        else:\n",
        "            shutil.copy(file_name+f'cat.{i}.jpg',file_mv+\"test/cats/\")\n",
        "            shutil.copy(file_name+f'dog.{i}.jpg',file_mv+\"test/dogs/\")"
      ],
      "metadata": {
        "id": "r_HgWajukZwJ"
      },
      "execution_count": null,
      "outputs": []
    },
    {
      "cell_type": "code",
      "source": [
        "def read_images(base_dir):\n",
        "    train_datagen = ImageDataGenerator(rescale=1./255)\n",
        "    validation_datagen = ImageDataGenerator(rescale=1./255)\n",
        "    test_datagen = ImageDataGenerator(rescale=1./255)\n",
        "    train_generator = train_datagen.flow_from_directory(\n",
        "        base_dir + 'train',\n",
        "        target_size = (150, 150),\n",
        "        batch_size=20,\n",
        "        class_mode='binary')\n",
        "    validation_generator = validation_datagen.flow_from_directory(\n",
        "        base_dir+'validation',\n",
        "        target_size=(150, 150),\n",
        "        batch_size=20,\n",
        "        class_mode='binary')\n",
        "    #print(train_generator.class_indices, validation_generator.class_indices)\n",
        "    test_generator = test_datagen.flow_from_directory(\n",
        "        base_dir + 'test',\n",
        "        target_size=(150,150),\n",
        "        batch_size=20,\n",
        "        class_mode='binary')\n",
        "    return (train_generator, validation_generator, test_generator)"
      ],
      "metadata": {
        "id": "vISnxW6QkzZT"
      },
      "execution_count": null,
      "outputs": []
    },
    {
      "cell_type": "code",
      "source": [
        "def build_model():\n",
        "    model = Sequential()\n",
        "    #conv layer\n",
        "    model.add(Conv2D(32, (3,3), activation='relu', input_shape = (150, 150, 3))) #32 필터 사이즈, 3,3 커널 사이즈\n",
        "    #maxpool layer\n",
        "    model.add(MaxPooling2D((2,2)))\n",
        "    model.add(Conv2D(64, (3,3), activation='relu'))\n",
        "    model.add(MaxPooling2D((2,2)))\n",
        "    model.add(Conv2D(128, (3,3), activation='relu'))\n",
        "    model.add(MaxPooling2D((2,2)))\n",
        "    model.add(Conv2D(128, (3,3), activation='relu')) \n",
        "    model.add(MaxPooling2D((2,2)))\n",
        "    #flat layer\n",
        "    model.add(Flatten())\n",
        "    #classifier\n",
        "        #Dense layer\n",
        "    model.add(Dense(512, activation='relu'))\n",
        "\n",
        "        #Dense layer\n",
        "    model.add(Dense(1, activation='sigmoid'))   #고양이(0)와 강아지(1) 이진 분류하기 위해 sigmoid 함수를 사용\n",
        "\n",
        "    #model compile\n",
        "    model.compile(loss='binary_crossentropy',optimizer= optimizers.RMSprop(learning_rate=1e-4), metrics=['acc']) \n",
        "    #learning rate시 optimizer를 이렇게도 쓴다\n",
        "    return model"
      ],
      "metadata": {
        "id": "-afPYSRMld0J"
      },
      "execution_count": null,
      "outputs": []
    },
    {
      "cell_type": "code",
      "source": [
        "def Augmentation(base_dir):\n",
        "\ttrain_datagen = ImageDataGenerator(rescale=1./255, \n",
        "\t\trotation_range=40,\n",
        "\t\twidth_shift_range=0.2,\n",
        "    \theight_shift_range=0.2,\n",
        "    \tshear_range=0.2,\n",
        "    \tzoom_range=0.2,\n",
        "    \thorizontal_flip=True)\n",
        "\ttrain_generator = train_datagen.flow_from_directory(\n",
        "        base_dir+'train',\n",
        "        target_size=(150, 150),\n",
        "        batch_size=20,\n",
        "        class_mode='binary')\n",
        "\tvalidation_datagen = ImageDataGenerator(rescale=1./255)\n",
        "\tvalidation_generator = validation_datagen.flow_from_directory(\n",
        "\t\tbase_dir+'validation',\n",
        "\t\ttarget_size=(150, 150),\n",
        "\t\tbatch_size=20, \n",
        "\t\tclass_mode='binary')\n",
        "\t#print(train_generator.class_indices, validation_generator.class_indices)\n",
        "\treturn (train_generator, validation_generator)"
      ],
      "metadata": {
        "id": "VHOMsFctmNXY"
      },
      "execution_count": null,
      "outputs": []
    },
    {
      "cell_type": "code",
      "source": [
        "def build_augmentation_model():\n",
        "    model = Sequential()\n",
        "\n",
        "    model.add(Conv2D(32, (3,3), activation='relu', \n",
        "                     input_shape = (150, 150, 3)))\n",
        "\n",
        "    model.add(MaxPooling2D((2,2)))\n",
        "    model.add(Conv2D(64, (3,3), activation='relu'))\n",
        "    model.add(MaxPooling2D((2,2)))\n",
        "    model.add(Conv2D(128, (3,3), activation='relu'))\n",
        "    model.add(MaxPooling2D((2,2)))\n",
        "    model.add(Conv2D(128, (3,3), activation='relu')) \n",
        "    model.add(MaxPooling2D((2,2)))\n",
        "\n",
        "    model.add(Flatten())\n",
        "    model.add(Dropout(0.5))\n",
        "\n",
        "    model.add(Dense(512, activation='relu'))\n",
        "    model.add(Dense(1, activation='sigmoid')) \n",
        "\n",
        "    model.compile(loss='binary_crossentropy',optimizer= optimizers.RMSprop(learning_rate=1e-4), metrics=['acc']) \n",
        "\n",
        "    return model"
      ],
      "metadata": {
        "id": "o6cCMz4TmNJl"
      },
      "execution_count": null,
      "outputs": []
    },
    {
      "cell_type": "code",
      "source": [
        "base_dir = './cat_dog/'"
      ],
      "metadata": {
        "id": "MTWf_wrtk3JI"
      },
      "execution_count": null,
      "outputs": []
    },
    {
      "cell_type": "code",
      "source": [
        "pre_process(base_dir)"
      ],
      "metadata": {
        "id": "_o7Y4YdCk66S"
      },
      "execution_count": null,
      "outputs": []
    },
    {
      "cell_type": "code",
      "source": [
        "data_copy(base_dir)"
      ],
      "metadata": {
        "id": "0TP7Epl6k8fn"
      },
      "execution_count": null,
      "outputs": []
    },
    {
      "cell_type": "code",
      "source": [
        "(train_generator,validation_generator,test_generator) = read_images(base_dir)"
      ],
      "metadata": {
        "colab": {
          "base_uri": "https://localhost:8080/"
        },
        "id": "21wDQeBOk-7D",
        "outputId": "cebfa18e-3846-4799-ef91-32579831e521"
      },
      "execution_count": null,
      "outputs": [
        {
          "output_type": "stream",
          "name": "stdout",
          "text": [
            "Found 2000 images belonging to 2 classes.\n",
            "Found 1000 images belonging to 2 classes.\n",
            "Found 1000 images belonging to 2 classes.\n"
          ]
        }
      ]
    },
    {
      "cell_type": "code",
      "source": [
        "(train_generator,validation_generator) = Augmentation(base_dir)"
      ],
      "metadata": {
        "colab": {
          "base_uri": "https://localhost:8080/"
        },
        "id": "iyx-3T2ZlCUP",
        "outputId": "b74c83cf-48a7-4ce9-c251-ffd80ab1aef9"
      },
      "execution_count": null,
      "outputs": [
        {
          "output_type": "stream",
          "name": "stdout",
          "text": [
            "Found 2000 images belonging to 2 classes.\n",
            "Found 1000 images belonging to 2 classes.\n"
          ]
        }
      ]
    },
    {
      "cell_type": "code",
      "source": [
        "model = build_augmentation_model()"
      ],
      "metadata": {
        "id": "r0gqOWQmmYTo"
      },
      "execution_count": null,
      "outputs": []
    },
    {
      "cell_type": "code",
      "source": [
        "history = model.fit_generator(train_generator, \n",
        "                                steps_per_epoch=200,\n",
        "                                epochs=6, \n",
        "                                validation_data= validation_generator,\n",
        "                                validation_steps=50)   "
      ],
      "metadata": {
        "colab": {
          "base_uri": "https://localhost:8080/"
        },
        "id": "Wy7Wa9SLmd2j",
        "outputId": "8bf2a3f6-a5e5-4a55-af8e-22169cb5dabb"
      },
      "execution_count": null,
      "outputs": [
        {
          "output_type": "stream",
          "name": "stdout",
          "text": [
            "Epoch 1/6\n",
            "200/200 [==============================] - 35s 177ms/step - loss: 0.6910 - acc: 0.5282 - val_loss: 0.6600 - val_acc: 0.5740\n",
            "Epoch 2/6\n",
            "200/200 [==============================] - 31s 154ms/step - loss: 0.6758 - acc: 0.5745 - val_loss: 0.6741 - val_acc: 0.6260\n",
            "Epoch 3/6\n",
            "200/200 [==============================] - 31s 153ms/step - loss: 0.6590 - acc: 0.6093 - val_loss: 0.6375 - val_acc: 0.6020\n",
            "Epoch 4/6\n",
            "200/200 [==============================] - 31s 153ms/step - loss: 0.6304 - acc: 0.6420 - val_loss: 0.6316 - val_acc: 0.6660\n",
            "Epoch 5/6\n",
            "200/200 [==============================] - 31s 154ms/step - loss: 0.6088 - acc: 0.6658 - val_loss: 0.5775 - val_acc: 0.6810\n",
            "Epoch 6/6\n",
            "200/200 [==============================] - 32s 161ms/step - loss: 0.5881 - acc: 0.6913 - val_loss: 0.4928 - val_acc: 0.6840\n"
          ]
        }
      ]
    },
    {
      "cell_type": "code",
      "source": [
        "from drive.MyDrive import history_plot as hp\n",
        "hp.history_plot(history)"
      ],
      "metadata": {
        "colab": {
          "base_uri": "https://localhost:8080/",
          "height": 400
        },
        "id": "9reBPI61nckq",
        "outputId": "5283bd09-a746-4981-90e7-b7bc44f6db17"
      },
      "execution_count": null,
      "outputs": [
        {
          "output_type": "display_data",
          "data": {
            "text/plain": [
              "<Figure size 576x432 with 2 Axes>"
            ],
            "image/png": "[encoded data removed]"
          },
          "metadata": {
            "needs_background": "light"
          }
        }
      ]
    },
    {
      "cell_type": "code",
      "source": [
        "print(\"--Evaluate--\")\n",
        "scores = model.evaluate_generator(test_generator, steps=50)\n",
        "print(\"%s: %.2f%%\" %(model.metrics_names[1], scores[1]*100))"
      ],
      "metadata": {
        "colab": {
          "base_uri": "https://localhost:8080/"
        },
        "id": "lkHUuTikntin",
        "outputId": "74f354bc-5684-43a9-d736-3dd83a37b77d"
      },
      "execution_count": null,
      "outputs": [
        {
          "output_type": "stream",
          "name": "stdout",
          "text": [
            "--Evaluate--\n",
            "acc: 69.20%\n"
          ]
        }
      ]
    },
    {
      "cell_type": "code",
      "source": [
        "from tensorflow.keras.preprocessing.image import load_img, img_to_array\n",
        "\n",
        "file_name = './cat_dog/raw_data/cat.345.jpg'\n",
        "\n",
        "img = load_img(file_name, target_size=(150,150))\n",
        "x= img_to_array(img)\n",
        "print(x.shape)\n",
        "x= x.astype('float32')/255.0\n",
        "x= np.expand_dims(x, axis=0)\n",
        "print(x.shape)"
      ],
      "metadata": {
        "colab": {
          "base_uri": "https://localhost:8080/"
        },
        "id": "wVmU0dhHnt1j",
        "outputId": "6d4b944c-50c1-41da-c673-ee7060ebfded"
      },
      "execution_count": null,
      "outputs": [
        {
          "output_type": "stream",
          "name": "stdout",
          "text": [
            "(150, 150, 3)\n",
            "(1, 150, 150, 3)\n"
          ]
        }
      ]
    },
    {
      "cell_type": "code",
      "source": [
        "#x 준비완료\n",
        "print(\"--- Predict ---\")\n",
        "output = model.predict(x)\n",
        "if output[0]>0.5:\n",
        "    print('dog')\n",
        "else:\n",
        "    print('cat')\n",
        "np.set_printoptions(formatter={'float': lambda x:\"{0:0.3f}\".format(x)})\n",
        "print(output)"
      ],
      "metadata": {
        "colab": {
          "base_uri": "https://localhost:8080/"
        },
        "id": "sWpQdK5_n4KU",
        "outputId": "e8db8d44-5cfd-4c08-c068-4edfae9e1ad5"
      },
      "execution_count": null,
      "outputs": [
        {
          "output_type": "stream",
          "name": "stdout",
          "text": [
            "--- Predict ---\n",
            "cat\n",
            "[[0.222]]\n"
          ]
        }
      ]
    }
  ]
}