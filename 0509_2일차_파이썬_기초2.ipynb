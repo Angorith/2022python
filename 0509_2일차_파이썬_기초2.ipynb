{
  "nbformat": 4,
  "nbformat_minor": 0,
  "metadata": {
    "colab": {
      "name": "0509 2일차 파이썬 기초2.ipynb",
      "provenance": [],
      "collapsed_sections": [],
      "authorship_tag": "ABX9TyOaLt5fXeD10IG+Y42YnFQZ",
      "include_colab_link": true
    },
    "kernelspec": {
      "name": "python3",
      "display_name": "Python 3"
    },
    "language_info": {
      "name": "python"
    }
  },
  "cells": [
    {
      "cell_type": "markdown",
      "metadata": {
        "id": "view-in-github",
        "colab_type": "text"
      },
      "source": [
        "<a href=\"https://colab.research.google.com/github/Angorith/2022python/blob/main/0509_2%EC%9D%BC%EC%B0%A8_%ED%8C%8C%EC%9D%B4%EC%8D%AC_%EA%B8%B0%EC%B4%882.ipynb\" target=\"_parent\"><img src=\"https://colab.research.google.com/assets/colab-badge.svg\" alt=\"Open In Colab\"/></a>"
      ]
    },
    {
      "cell_type": "code",
      "execution_count": null,
      "metadata": {
        "colab": {
          "base_uri": "https://localhost:8080/"
        },
        "id": "VyFrQu3-HtZY",
        "outputId": "6fca4384-3962-4778-a2ce-59a32320a85a"
      },
      "outputs": [
        {
          "output_type": "execute_result",
          "data": {
            "text/plain": [
              "[1, 2, 3, 'test']"
            ]
          },
          "metadata": {},
          "execution_count": 1
        }
      ],
      "source": [
        "[1,2,3,'test']"
      ]
    },
    {
      "cell_type": "code",
      "source": [
        "en = 1e-15"
      ],
      "metadata": {
        "id": "g453dWAYH8Vn"
      },
      "execution_count": null,
      "outputs": []
    },
    {
      "cell_type": "code",
      "source": [
        "en"
      ],
      "metadata": {
        "colab": {
          "base_uri": "https://localhost:8080/"
        },
        "id": "jwIYsdQdH_0K",
        "outputId": "c0e2673d-370a-488d-945f-282cf91de162"
      },
      "execution_count": null,
      "outputs": [
        {
          "output_type": "execute_result",
          "data": {
            "text/plain": [
              "1e-15"
            ]
          },
          "metadata": {},
          "execution_count": 6
        }
      ]
    },
    {
      "cell_type": "code",
      "source": [
        "a = '파이썬'"
      ],
      "metadata": {
        "id": "xX6dL4dNIEPj"
      },
      "execution_count": null,
      "outputs": []
    },
    {
      "cell_type": "code",
      "source": [
        "b ='프로그래밍'"
      ],
      "metadata": {
        "id": "n9JJ_EeXII7E"
      },
      "execution_count": null,
      "outputs": []
    },
    {
      "cell_type": "code",
      "source": [
        "a + b"
      ],
      "metadata": {
        "colab": {
          "base_uri": "https://localhost:8080/",
          "height": 35
        },
        "id": "7nafpRxjIMqQ",
        "outputId": "8d014dfb-15b7-48f9-f67a-0f8277314f37"
      },
      "execution_count": null,
      "outputs": [
        {
          "output_type": "execute_result",
          "data": {
            "text/plain": [
              "'파이썬프로그래밍'"
            ],
            "application/vnd.google.colaboratory.intrinsic+json": {
              "type": "string"
            }
          },
          "metadata": {},
          "execution_count": 9
        }
      ]
    },
    {
      "cell_type": "code",
      "source": [
        "a =1 \n",
        "b=2\n",
        "a+b\n"
      ],
      "metadata": {
        "colab": {
          "base_uri": "https://localhost:8080/"
        },
        "id": "NROc_NUMIbPE",
        "outputId": "d755163f-7a83-46c6-9fa1-db909ab7ec6d"
      },
      "execution_count": null,
      "outputs": [
        {
          "output_type": "execute_result",
          "data": {
            "text/plain": [
              "3"
            ]
          },
          "metadata": {},
          "execution_count": 10
        }
      ]
    },
    {
      "cell_type": "code",
      "source": [
        "import math"
      ],
      "metadata": {
        "id": "nSiF3zPyIhJO"
      },
      "execution_count": null,
      "outputs": []
    },
    {
      "cell_type": "code",
      "source": [
        "math.sqrt(4.0)"
      ],
      "metadata": {
        "colab": {
          "base_uri": "https://localhost:8080/"
        },
        "id": "QBduobCoJKSZ",
        "outputId": "cdda1d50-1ef0-4867-b9ea-3ceea0686505"
      },
      "execution_count": null,
      "outputs": [
        {
          "output_type": "execute_result",
          "data": {
            "text/plain": [
              "2.0"
            ]
          },
          "metadata": {},
          "execution_count": 12
        }
      ]
    },
    {
      "cell_type": "code",
      "source": [
        "math.e"
      ],
      "metadata": {
        "colab": {
          "base_uri": "https://localhost:8080/"
        },
        "id": "Z0kdbd5mJQJh",
        "outputId": "b1d363c8-d8a0-4da1-f3cc-4c0dd535d3b8"
      },
      "execution_count": null,
      "outputs": [
        {
          "output_type": "execute_result",
          "data": {
            "text/plain": [
              "2.718281828459045"
            ]
          },
          "metadata": {},
          "execution_count": 13
        }
      ]
    },
    {
      "cell_type": "code",
      "source": [
        "math.pi"
      ],
      "metadata": {
        "colab": {
          "base_uri": "https://localhost:8080/"
        },
        "id": "xRgFc70TJSN9",
        "outputId": "43aa3d10-1fb5-4c54-c844-5a8b8c5a1a14"
      },
      "execution_count": null,
      "outputs": [
        {
          "output_type": "execute_result",
          "data": {
            "text/plain": [
              "3.141592653589793"
            ]
          },
          "metadata": {},
          "execution_count": 14
        }
      ]
    },
    {
      "cell_type": "code",
      "source": [
        "math.sqrt(-4.0)"
      ],
      "metadata": {
        "colab": {
          "base_uri": "https://localhost:8080/",
          "height": 173
        },
        "id": "R_ZiEt3eJUK-",
        "outputId": "7466e3d4-2312-4d17-8343-9f37b873ab05"
      },
      "execution_count": null,
      "outputs": [
        {
          "output_type": "error",
          "ename": "ValueError",
          "evalue": "ignored",
          "traceback": [
            "\u001b[0;31m---------------------------------------------------------------------------\u001b[0m",
            "\u001b[0;31mValueError\u001b[0m                                Traceback (most recent call last)",
            "\u001b[0;32m<ipython-input-15-8fea7e022a8f>\u001b[0m in \u001b[0;36m<module>\u001b[0;34m()\u001b[0m\n\u001b[0;32m----> 1\u001b[0;31m \u001b[0mmath\u001b[0m\u001b[0;34m.\u001b[0m\u001b[0msqrt\u001b[0m\u001b[0;34m(\u001b[0m\u001b[0;34m-\u001b[0m\u001b[0;36m4.0\u001b[0m\u001b[0;34m)\u001b[0m\u001b[0;34m\u001b[0m\u001b[0;34m\u001b[0m\u001b[0m\n\u001b[0m",
            "\u001b[0;31mValueError\u001b[0m: math domain error"
          ]
        }
      ]
    },
    {
      "cell_type": "code",
      "source": [
        "import cmath"
      ],
      "metadata": {
        "id": "alDOfL4jJY2d"
      },
      "execution_count": null,
      "outputs": []
    },
    {
      "cell_type": "code",
      "source": [
        "cmath.sqrt(-4.0)"
      ],
      "metadata": {
        "colab": {
          "base_uri": "https://localhost:8080/"
        },
        "id": "hkms3vGGJbiH",
        "outputId": "9700fbaf-eced-4767-deb1-efcf592c1bb4"
      },
      "execution_count": null,
      "outputs": [
        {
          "output_type": "execute_result",
          "data": {
            "text/plain": [
              "2j"
            ]
          },
          "metadata": {},
          "execution_count": 17
        }
      ]
    },
    {
      "cell_type": "markdown",
      "source": [
        "ax*x+bx+c=0"
      ],
      "metadata": {
        "id": "53QqjSOjJ0vm"
      }
    },
    {
      "cell_type": "code",
      "source": [
        "d=(b**2) - (4*a*c)"
      ],
      "metadata": {
        "colab": {
          "base_uri": "https://localhost:8080/",
          "height": 173
        },
        "id": "hsRios2FJzFH",
        "outputId": "7d019755-32a2-4f04-d250-8208e539d7a1"
      },
      "execution_count": null,
      "outputs": [
        {
          "output_type": "error",
          "ename": "NameError",
          "evalue": "ignored",
          "traceback": [
            "\u001b[0;31m---------------------------------------------------------------------------\u001b[0m",
            "\u001b[0;31mNameError\u001b[0m                                 Traceback (most recent call last)",
            "\u001b[0;32m<ipython-input-18-e6a36140da67>\u001b[0m in \u001b[0;36m<module>\u001b[0;34m()\u001b[0m\n\u001b[0;32m----> 1\u001b[0;31m \u001b[0md\u001b[0m\u001b[0;34m=\u001b[0m\u001b[0;34m(\u001b[0m\u001b[0mb\u001b[0m\u001b[0;34m**\u001b[0m\u001b[0;36m2\u001b[0m\u001b[0;34m)\u001b[0m \u001b[0;34m-\u001b[0m \u001b[0;34m(\u001b[0m\u001b[0;36m4\u001b[0m\u001b[0;34m*\u001b[0m\u001b[0ma\u001b[0m\u001b[0;34m*\u001b[0m\u001b[0mc\u001b[0m\u001b[0;34m)\u001b[0m\u001b[0;34m\u001b[0m\u001b[0;34m\u001b[0m\u001b[0m\n\u001b[0m",
            "\u001b[0;31mNameError\u001b[0m: name 'c' is not defined"
          ]
        }
      ]
    },
    {
      "cell_type": "code",
      "source": [
        "a=1\n",
        "b=2\n",
        "c=4"
      ],
      "metadata": {
        "id": "GbeRgJqlJzAF"
      },
      "execution_count": null,
      "outputs": []
    },
    {
      "cell_type": "code",
      "source": [
        "r1= (-b + (b**2-4*a*c)**0.5)/(2*a)\n",
        "r2 = (-b - (b**2-4*a*c)**0.5)/(2*a)\n",
        "print('해는 : ',r1, '또는 ',r2)"
      ],
      "metadata": {
        "colab": {
          "base_uri": "https://localhost:8080/"
        },
        "id": "prOXx-d1Kgbt",
        "outputId": "fd73893c-744e-47a4-a622-b093a72db906"
      },
      "execution_count": null,
      "outputs": [
        {
          "output_type": "stream",
          "name": "stdout",
          "text": [
            "해는 :  (-0.9999999999999999+1.7320508075688772j) 또는  (-1-1.7320508075688772j)\n"
          ]
        }
      ]
    },
    {
      "cell_type": "code",
      "source": [
        "a=1\n",
        "b=2\n",
        "c=4"
      ],
      "metadata": {
        "id": "OUxwm9sNLrqH"
      },
      "execution_count": null,
      "outputs": []
    },
    {
      "cell_type": "code",
      "source": [
        "d=(b**2) - (4*a*c)"
      ],
      "metadata": {
        "id": "uKFzBKd9Llch"
      },
      "execution_count": null,
      "outputs": []
    },
    {
      "cell_type": "code",
      "source": [
        "sol1 = (-b-cmath.sqrt(d))/(2*a)"
      ],
      "metadata": {
        "id": "pBip305RLeSc"
      },
      "execution_count": null,
      "outputs": []
    },
    {
      "cell_type": "code",
      "source": [
        "sol1"
      ],
      "metadata": {
        "colab": {
          "base_uri": "https://localhost:8080/"
        },
        "id": "WgLnOId3LttN",
        "outputId": "91f7fca7-93b9-4d44-8cee-954645e7c44a"
      },
      "execution_count": null,
      "outputs": [
        {
          "output_type": "execute_result",
          "data": {
            "text/plain": [
              "(-1-1.7320508075688772j)"
            ]
          },
          "metadata": {},
          "execution_count": 28
        }
      ]
    },
    {
      "cell_type": "code",
      "source": [
        "print(f'The solutin are {sol1 : .3f}')"
      ],
      "metadata": {
        "colab": {
          "base_uri": "https://localhost:8080/"
        },
        "id": "WBeS4C5kLvKy",
        "outputId": "ad2a9a51-02e2-4d17-f888-335c02ee3996"
      },
      "execution_count": null,
      "outputs": [
        {
          "output_type": "stream",
          "name": "stdout",
          "text": [
            "The solutin are -1.000-1.732j\n"
          ]
        }
      ]
    },
    {
      "cell_type": "code",
      "source": [
        "print('a={0:2d},b={1:3d}'.format(a,b))"
      ],
      "metadata": {
        "colab": {
          "base_uri": "https://localhost:8080/"
        },
        "id": "s0kINF2vMUMV",
        "outputId": "77baf275-97ee-45b8-c2bf-a2f33c4c4cf8"
      },
      "execution_count": null,
      "outputs": [
        {
          "output_type": "stream",
          "name": "stdout",
          "text": [
            "a=1,b=2\n"
          ]
        }
      ]
    },
    {
      "cell_type": "code",
      "source": [
        "print('a=%d'% a)"
      ],
      "metadata": {
        "colab": {
          "base_uri": "https://localhost:8080/"
        },
        "id": "dC_W9DScMi0c",
        "outputId": "306525d3-f962-4bb0-af80-75c43a2709e0"
      },
      "execution_count": null,
      "outputs": [
        {
          "output_type": "stream",
          "name": "stdout",
          "text": [
            "a=1\n"
          ]
        }
      ]
    },
    {
      "cell_type": "code",
      "source": [
        "a=6\n",
        "b=3\n",
        "a&b"
      ],
      "metadata": {
        "colab": {
          "base_uri": "https://localhost:8080/"
        },
        "id": "RDAuV_l9ND1I",
        "outputId": "d5c903a7-5f36-4607-f47b-93e34a19c95c"
      },
      "execution_count": null,
      "outputs": [
        {
          "output_type": "execute_result",
          "data": {
            "text/plain": [
              "2"
            ]
          },
          "metadata": {},
          "execution_count": 36
        }
      ]
    },
    {
      "cell_type": "markdown",
      "source": [
        "6 = (2진수) 110\n",
        "\n",
        "3 = (2진수) 011\n",
        "\n",
        "&연산은  = 010 = 2"
      ],
      "metadata": {
        "id": "IOXx3yxlODwu"
      }
    },
    {
      "cell_type": "code",
      "source": [
        "a | b"
      ],
      "metadata": {
        "colab": {
          "base_uri": "https://localhost:8080/"
        },
        "id": "Zlsu6vAyOYuv",
        "outputId": "93fa4fec-9080-4811-9fc0-bcf4ac0ddb98"
      },
      "execution_count": null,
      "outputs": [
        {
          "output_type": "execute_result",
          "data": {
            "text/plain": [
              "7"
            ]
          },
          "metadata": {},
          "execution_count": 37
        }
      ]
    },
    {
      "cell_type": "markdown",
      "source": [
        "6 = (2진수) 110\n",
        "\n",
        "3 = (2진수) 011\n",
        "\n",
        "| 연산은 = 101 = 7"
      ],
      "metadata": {
        "id": "8P4Ro0MHO1-b"
      }
    },
    {
      "cell_type": "code",
      "source": [
        "a^b"
      ],
      "metadata": {
        "colab": {
          "base_uri": "https://localhost:8080/"
        },
        "id": "wkbmrAuzOd28",
        "outputId": "fa9fedde-fdbd-4a69-c7e5-677e56dce8a7"
      },
      "execution_count": null,
      "outputs": [
        {
          "output_type": "execute_result",
          "data": {
            "text/plain": [
              "5"
            ]
          },
          "metadata": {},
          "execution_count": 38
        }
      ]
    },
    {
      "cell_type": "markdown",
      "source": [
        "6 = (2진수) 110\n",
        "\n",
        "3 = (2진수) 011\n",
        "\n",
        "^연산은 = 101 = 5"
      ],
      "metadata": {
        "id": "VhQMSPNOOvLt"
      }
    },
    {
      "cell_type": "code",
      "source": [
        "6<<3"
      ],
      "metadata": {
        "colab": {
          "base_uri": "https://localhost:8080/"
        },
        "id": "TulHQXQVO5GN",
        "outputId": "9a63703b-97ed-4ab4-9044-bb9e405e7b63"
      },
      "execution_count": null,
      "outputs": [
        {
          "output_type": "execute_result",
          "data": {
            "text/plain": [
              "48"
            ]
          },
          "metadata": {},
          "execution_count": 39
        }
      ]
    },
    {
      "cell_type": "markdown",
      "source": [
        "11000"
      ],
      "metadata": {
        "id": "JJUPKjM0PMr8"
      }
    },
    {
      "cell_type": "code",
      "source": [
        "a>>1"
      ],
      "metadata": {
        "colab": {
          "base_uri": "https://localhost:8080/"
        },
        "id": "jn_5vV2ZO7yh",
        "outputId": "00feffb8-b231-494c-f657-c1a138cbd79a"
      },
      "execution_count": null,
      "outputs": [
        {
          "output_type": "execute_result",
          "data": {
            "text/plain": [
              "3"
            ]
          },
          "metadata": {},
          "execution_count": 40
        }
      ]
    },
    {
      "cell_type": "markdown",
      "source": [
        "6 = (2진수) 110\n",
        "\n",
        ">>연산은 = 011 = 3"
      ],
      "metadata": {
        "id": "ANtL0WhRPObL"
      }
    },
    {
      "cell_type": "code",
      "source": [
        " a=6 \n",
        " b=3"
      ],
      "metadata": {
        "id": "Fk7sY9lBPU5q"
      },
      "execution_count": null,
      "outputs": []
    },
    {
      "cell_type": "code",
      "source": [
        "a,b"
      ],
      "metadata": {
        "colab": {
          "base_uri": "https://localhost:8080/"
        },
        "id": "ycjd0J_nPZpY",
        "outputId": "eff1767b-12bb-442f-ea9d-3c4d757d2804"
      },
      "execution_count": null,
      "outputs": [
        {
          "output_type": "execute_result",
          "data": {
            "text/plain": [
              "(6, 3)"
            ]
          },
          "metadata": {},
          "execution_count": 43
        }
      ]
    },
    {
      "cell_type": "code",
      "source": [
        "[1,2,3]"
      ],
      "metadata": {
        "colab": {
          "base_uri": "https://localhost:8080/"
        },
        "id": "Vj35mOz7PbFb",
        "outputId": "6f6065d1-5047-4870-a864-aa611c4fbd7b"
      },
      "execution_count": null,
      "outputs": [
        {
          "output_type": "execute_result",
          "data": {
            "text/plain": [
              "[1, 2, 3]"
            ]
          },
          "metadata": {},
          "execution_count": 44
        }
      ]
    },
    {
      "cell_type": "code",
      "source": [
        "(6,3)"
      ],
      "metadata": {
        "colab": {
          "base_uri": "https://localhost:8080/"
        },
        "id": "I2cvTRbEPc8m",
        "outputId": "b874ca33-ab6a-4303-dd13-ab7952d83ea9"
      },
      "execution_count": null,
      "outputs": [
        {
          "output_type": "execute_result",
          "data": {
            "text/plain": [
              "(6, 3)"
            ]
          },
          "metadata": {},
          "execution_count": 45
        }
      ]
    },
    {
      "cell_type": "code",
      "source": [
        "a,b = b,a"
      ],
      "metadata": {
        "id": "F-WjIyGaPhYj"
      },
      "execution_count": null,
      "outputs": []
    },
    {
      "cell_type": "code",
      "source": [
        "a,b"
      ],
      "metadata": {
        "colab": {
          "base_uri": "https://localhost:8080/"
        },
        "id": "KzPH__yVPxqL",
        "outputId": "f04cf2bf-a931-47d4-c052-cb3e250b63a3"
      },
      "execution_count": null,
      "outputs": [
        {
          "output_type": "execute_result",
          "data": {
            "text/plain": [
              "(3, 6)"
            ]
          },
          "metadata": {},
          "execution_count": 48
        }
      ]
    },
    {
      "cell_type": "markdown",
      "source": [
        "1.4로 나눠지면 윤년이다.\n",
        "\n",
        "2. 100으로도 나눠지면 윤년이 아니다.\n",
        "\n",
        "3. 그런데, 400으로 나눠지면 윤년이다."
      ],
      "metadata": {
        "id": "YHMGZEtAQAzX"
      }
    },
    {
      "cell_type": "code",
      "source": [
        "year = 2000"
      ],
      "metadata": {
        "id": "nVhWdh1VQ1s0"
      },
      "execution_count": null,
      "outputs": []
    },
    {
      "cell_type": "code",
      "source": [
        "if ((year % 4==0)\n",
        "  and (year %100 !=0)\n",
        "  or year% 400 == 0):\n",
        "  print(year , '년은 윤년입니다')\n",
        "else:\n",
        "  print(year, '년은 윤년이 아닙니다')"
      ],
      "metadata": {
        "colab": {
          "base_uri": "https://localhost:8080/"
        },
        "id": "GE7E2WauQ3Ec",
        "outputId": "4765d6e3-fef2-4589-d506-2e5de20d6f77"
      },
      "execution_count": null,
      "outputs": [
        {
          "output_type": "stream",
          "name": "stdout",
          "text": [
            "2000 년은 윤년입니다\n"
          ]
        }
      ]
    },
    {
      "cell_type": "code",
      "source": [
        "case=((year %4 == 0)and (year %100 != 0) or year%400==0)"
      ],
      "metadata": {
        "id": "K7AGCenbQ0dm"
      },
      "execution_count": null,
      "outputs": []
    },
    {
      "cell_type": "code",
      "source": [
        "year = 1900\n",
        "case=((year %4 == 0)and (year %100 != 0) or year%400==0)\n",
        "if  case : \n",
        "  print('윤년')\n",
        "else : \n",
        "  print('윤년이 아닙니다.')"
      ],
      "metadata": {
        "colab": {
          "base_uri": "https://localhost:8080/"
        },
        "id": "mSpPwue7S05w",
        "outputId": "6540dbb0-4eb2-4dab-e18b-694b4ea1b015"
      },
      "execution_count": null,
      "outputs": [
        {
          "output_type": "stream",
          "name": "stdout",
          "text": [
            "윤년이 아닙니다.\n"
          ]
        }
      ]
    },
    {
      "cell_type": "code",
      "source": [
        "year = 2000\n",
        "isLeapYear = (year%4==0)\n",
        "isLeapYear = isLeapYear and((year%100) !=0)\n",
        "isLeapYear = isLeapYear or ((year%400)==0)\n",
        "print(isLeapYear)"
      ],
      "metadata": {
        "colab": {
          "base_uri": "https://localhost:8080/"
        },
        "id": "YPK9TY2UTM1U",
        "outputId": "9593a01f-950b-4e34-9519-1ab6d78559ff"
      },
      "execution_count": null,
      "outputs": [
        {
          "output_type": "stream",
          "name": "stdout",
          "text": [
            "True\n"
          ]
        }
      ]
    },
    {
      "cell_type": "code",
      "source": [
        "num1 = 10\n",
        "num2 = 14\n",
        "num3 = 12"
      ],
      "metadata": {
        "id": "nynxzEHCT2R0"
      },
      "execution_count": null,
      "outputs": []
    },
    {
      "cell_type": "code",
      "source": [
        "if (num1 >=num2 and num1>=num3):\n",
        "  largest = num1\n",
        "elif(num2 >= num1 and num2>= num3):\n",
        "  largest = num2\n",
        "else:\n",
        "  largest = num3\n",
        "\n",
        "print('가장 큰 수는' , largest)"
      ],
      "metadata": {
        "colab": {
          "base_uri": "https://localhost:8080/"
        },
        "id": "dlmwRTknT_kN",
        "outputId": "6deb7bd2-76bd-4039-c017-eb5ed244557b"
      },
      "execution_count": null,
      "outputs": [
        {
          "output_type": "stream",
          "name": "stdout",
          "text": [
            "가장 큰 수는 14\n"
          ]
        }
      ]
    },
    {
      "cell_type": "code",
      "source": [
        "\n",
        "num1 = 10\n",
        "num2 = 14\n",
        "num3 = 12\n",
        "\n",
        "maximum = num1\n",
        "\n",
        "if num2 > maximum :\n",
        "    maximum = num2\n",
        "if num3 > maximum :\n",
        "    maximum = num3\n",
        "\n",
        "print(f'최대 값은 {maximum} 입니다.' )"
      ],
      "metadata": {
        "colab": {
          "base_uri": "https://localhost:8080/"
        },
        "id": "ci_NkI5UVM21",
        "outputId": "9bb3b74f-6855-434b-823f-a9ab4a12e3f7"
      },
      "execution_count": null,
      "outputs": [
        {
          "output_type": "stream",
          "name": "stdout",
          "text": [
            "최대 값은 14 입니다.\n"
          ]
        }
      ]
    },
    {
      "cell_type": "code",
      "source": [
        "min = num1\n",
        "if num2 < min :\n",
        "  min = num2\n",
        "if num3 < min:\n",
        "  min = num3\n",
        "\n",
        "print(f'최소 값은 {min}입니다.')\n"
      ],
      "metadata": {
        "colab": {
          "base_uri": "https://localhost:8080/"
        },
        "id": "sdO4qzJsWY8t",
        "outputId": "c792728b-e605-4dde-f443-d602ea5ec063"
      },
      "execution_count": null,
      "outputs": [
        {
          "output_type": "stream",
          "name": "stdout",
          "text": [
            "최소 값은 10입니다.\n"
          ]
        }
      ]
    },
    {
      "cell_type": "code",
      "source": [
        "k = [10, 14,12]"
      ],
      "metadata": {
        "id": "uWoFd37XXd98"
      },
      "execution_count": null,
      "outputs": []
    },
    {
      "cell_type": "code",
      "source": [
        "isMax = 1e-15\n",
        "for i in[10, 14,12]:\n",
        "  print(f'i={i},isMax={isMax}')\n",
        "  if i>isMax:\n",
        "    isMax = i"
      ],
      "metadata": {
        "colab": {
          "base_uri": "https://localhost:8080/"
        },
        "id": "0bpoj4IHXgg2",
        "outputId": "12897dd2-6bc4-4fe7-df5e-5e8edf0ac7c4"
      },
      "execution_count": null,
      "outputs": [
        {
          "output_type": "stream",
          "name": "stdout",
          "text": [
            "i=10,isMax=1e-15\n",
            "i=14,isMax=10\n",
            "i=12,isMax=14\n"
          ]
        }
      ]
    },
    {
      "cell_type": "code",
      "source": [
        "isMax"
      ],
      "metadata": {
        "colab": {
          "base_uri": "https://localhost:8080/"
        },
        "id": "wCUqeLsXX24m",
        "outputId": "e02d4f25-4909-4043-fbb5-657bd8ce9852"
      },
      "execution_count": null,
      "outputs": [
        {
          "output_type": "execute_result",
          "data": {
            "text/plain": [
              "14"
            ]
          },
          "metadata": {},
          "execution_count": 75
        }
      ]
    },
    {
      "cell_type": "code",
      "source": [
        "1e-3"
      ],
      "metadata": {
        "colab": {
          "base_uri": "https://localhost:8080/"
        },
        "id": "99AayO6wY9vA",
        "outputId": "61587055-0de9-48e4-e3fc-c786fb3218fc"
      },
      "execution_count": null,
      "outputs": [
        {
          "output_type": "execute_result",
          "data": {
            "text/plain": [
              "0.001"
            ]
          },
          "metadata": {},
          "execution_count": 77
        }
      ]
    },
    {
      "cell_type": "code",
      "source": [
        "1e-15"
      ],
      "metadata": {
        "colab": {
          "base_uri": "https://localhost:8080/"
        },
        "id": "dTxOpjNHZAJk",
        "outputId": "92ea608a-694b-4b27-a648-3117ea272287"
      },
      "execution_count": null,
      "outputs": [
        {
          "output_type": "execute_result",
          "data": {
            "text/plain": [
              "1e-15"
            ]
          },
          "metadata": {},
          "execution_count": 78
        }
      ]
    },
    {
      "cell_type": "code",
      "source": [
        "1e+3"
      ],
      "metadata": {
        "colab": {
          "base_uri": "https://localhost:8080/"
        },
        "id": "jWKzPHvDZN1h",
        "outputId": "e4059171-9f44-430c-8ce7-c5ca9c730848"
      },
      "execution_count": null,
      "outputs": [
        {
          "output_type": "execute_result",
          "data": {
            "text/plain": [
              "1000.0"
            ]
          },
          "metadata": {},
          "execution_count": 79
        }
      ]
    },
    {
      "cell_type": "code",
      "source": [
        "math.e"
      ],
      "metadata": {
        "colab": {
          "base_uri": "https://localhost:8080/"
        },
        "id": "8loKW4LjZPTu",
        "outputId": "06a5ce99-0e57-4c28-f736-e3672494c1dc"
      },
      "execution_count": null,
      "outputs": [
        {
          "output_type": "execute_result",
          "data": {
            "text/plain": [
              "2.718281828459045"
            ]
          },
          "metadata": {},
          "execution_count": 80
        }
      ]
    },
    {
      "cell_type": "code",
      "source": [
        "1e-4"
      ],
      "metadata": {
        "colab": {
          "base_uri": "https://localhost:8080/"
        },
        "id": "iH3Kx2r7ZRSu",
        "outputId": "5aab2d8e-bf5e-4f19-ef2b-a4da936424d7"
      },
      "execution_count": null,
      "outputs": [
        {
          "output_type": "execute_result",
          "data": {
            "text/plain": [
              "0.0001"
            ]
          },
          "metadata": {},
          "execution_count": 81
        }
      ]
    },
    {
      "cell_type": "code",
      "source": [
        "1e+5"
      ],
      "metadata": {
        "colab": {
          "base_uri": "https://localhost:8080/"
        },
        "id": "QAGImO-2ZS6g",
        "outputId": "90dcb61f-d43a-4a70-ea66-aab48b120a03"
      },
      "execution_count": null,
      "outputs": [
        {
          "output_type": "execute_result",
          "data": {
            "text/plain": [
              "100000.0"
            ]
          },
          "metadata": {},
          "execution_count": 82
        }
      ]
    },
    {
      "cell_type": "code",
      "source": [
        "import random"
      ],
      "metadata": {
        "id": "1k56w7eXZ8aE"
      },
      "execution_count": null,
      "outputs": []
    },
    {
      "cell_type": "code",
      "source": [
        "for i in range(100):\n",
        "  print(random.randrange(0,2), end = ' ')"
      ],
      "metadata": {
        "colab": {
          "base_uri": "https://localhost:8080/"
        },
        "id": "JpNpk2QrZ-fi",
        "outputId": "c9cb3aa8-91e4-4a87-91ee-c2879ebefc7f"
      },
      "execution_count": null,
      "outputs": [
        {
          "output_type": "stream",
          "name": "stdout",
          "text": [
            "1 0 0 0 1 1 0 1 1 0 0 1 0 1 1 1 0 0 0 0 1 1 1 1 1 1 1 1 1 0 0 1 0 0 1 1 1 1 0 0 0 0 0 1 0 0 1 1 0 1 0 1 0 1 1 0 1 0 0 1 0 0 0 0 1 0 1 0 0 0 1 0 0 1 1 1 1 1 1 0 0 0 0 0 0 0 1 0 0 1 1 1 0 1 1 1 1 1 1 1 "
          ]
        }
      ]
    },
    {
      "cell_type": "code",
      "source": [
        "if random.randrange(0,2):\n",
        "  print('앞')\n",
        "else:\n",
        "  print('뒤')"
      ],
      "metadata": {
        "colab": {
          "base_uri": "https://localhost:8080/"
        },
        "id": "hwRwY-ctazTb",
        "outputId": "b1c836e0-3e7b-45af-8db8-9842e5431e81"
      },
      "execution_count": null,
      "outputs": [
        {
          "output_type": "stream",
          "name": "stdout",
          "text": [
            "뒤\n"
          ]
        }
      ]
    },
    {
      "cell_type": "code",
      "source": [
        "a=['호','랑','이']\n",
        "for i in a :\n",
        "  print(i)"
      ],
      "metadata": {
        "id": "mcQIgyLhb7BV"
      },
      "execution_count": null,
      "outputs": []
    },
    {
      "cell_type": "code",
      "source": [
        "k"
      ],
      "metadata": {
        "colab": {
          "base_uri": "https://localhost:8080/"
        },
        "id": "0kz_cYYvclmL",
        "outputId": "503c8c3e-a357-4c1b-a323-0d51288b04ce"
      },
      "execution_count": null,
      "outputs": [
        {
          "output_type": "execute_result",
          "data": {
            "text/plain": [
              "[10, 14, 12]"
            ]
          },
          "metadata": {},
          "execution_count": 96
        }
      ]
    },
    {
      "cell_type": "code",
      "source": [
        "type(k)"
      ],
      "metadata": {
        "colab": {
          "base_uri": "https://localhost:8080/"
        },
        "id": "zfh9h_zycm2g",
        "outputId": "ad74b4d1-eb8b-471f-9983-b51f67efa534"
      },
      "execution_count": null,
      "outputs": [
        {
          "output_type": "execute_result",
          "data": {
            "text/plain": [
              "list"
            ]
          },
          "metadata": {},
          "execution_count": 97
        }
      ]
    },
    {
      "cell_type": "code",
      "source": [
        "type('test')"
      ],
      "metadata": {
        "colab": {
          "base_uri": "https://localhost:8080/"
        },
        "id": "Gn8L2jtncop5",
        "outputId": "3fe22951-42f9-4069-9804-886ba9202ecf"
      },
      "execution_count": null,
      "outputs": [
        {
          "output_type": "execute_result",
          "data": {
            "text/plain": [
              "str"
            ]
          },
          "metadata": {},
          "execution_count": 100
        }
      ]
    },
    {
      "cell_type": "code",
      "source": [
        "len(k)"
      ],
      "metadata": {
        "colab": {
          "base_uri": "https://localhost:8080/"
        },
        "id": "YlM57NlgdAli",
        "outputId": "05437b44-8e86-4bc4-b857-9ecd863c00a3"
      },
      "execution_count": null,
      "outputs": [
        {
          "output_type": "execute_result",
          "data": {
            "text/plain": [
              "3"
            ]
          },
          "metadata": {},
          "execution_count": 103
        }
      ]
    },
    {
      "cell_type": "code",
      "source": [
        "len('test')"
      ],
      "metadata": {
        "colab": {
          "base_uri": "https://localhost:8080/"
        },
        "id": "NKMwZ1VcdEqG",
        "outputId": "db629ebe-4bdb-4f68-d054-5caf7bf08ae4"
      },
      "execution_count": null,
      "outputs": [
        {
          "output_type": "execute_result",
          "data": {
            "text/plain": [
              "4"
            ]
          },
          "metadata": {},
          "execution_count": 104
        }
      ]
    },
    {
      "cell_type": "code",
      "source": [
        "k=[1,2,3,4,5]"
      ],
      "metadata": {
        "id": "K4_M5qw2dGXH"
      },
      "execution_count": null,
      "outputs": []
    },
    {
      "cell_type": "code",
      "source": [
        "sums=0\n",
        "for i in k:\n",
        "  sums+=i\n",
        "  print(sums)"
      ],
      "metadata": {
        "colab": {
          "base_uri": "https://localhost:8080/"
        },
        "id": "U6diNlPXdJPs",
        "outputId": "bcc19630-ebdb-4981-e42e-36e9a74c6814"
      },
      "execution_count": null,
      "outputs": [
        {
          "output_type": "stream",
          "name": "stdout",
          "text": [
            "1\n",
            "3\n",
            "6\n",
            "10\n",
            "15\n"
          ]
        }
      ]
    },
    {
      "cell_type": "code",
      "source": [
        "i=1\n",
        "j=0\n",
        "meal=['아침','점심','저녁','야식']"
      ],
      "metadata": {
        "id": "DKWrkHQKeGqv"
      },
      "execution_count": null,
      "outputs": []
    },
    {
      "cell_type": "code",
      "source": [
        "while i>0:\n",
        "  i=int(input(\"(종료,'0')며칠이 지났습니까: \"))\n",
        "  j=i\n",
        "\n",
        "  while j>0:\n",
        "    for k in meal :\n",
        "      print(k)\n",
        "    j=j-1"
      ],
      "metadata": {
        "colab": {
          "base_uri": "https://localhost:8080/",
          "height": 910
        },
        "id": "ZQF3jjpXeVdH",
        "outputId": "952df175-6a35-4a24-bcdd-4cc144c67947"
      },
      "execution_count": null,
      "outputs": [
        {
          "output_type": "stream",
          "name": "stdout",
          "text": [
            "(종료,'0')며칠이 지났습니까:4\n",
            "아침\n",
            "점심\n",
            "저녁\n",
            "야식\n",
            "아침\n",
            "점심\n",
            "저녁\n",
            "야식\n",
            "아침\n",
            "점심\n",
            "저녁\n",
            "야식\n",
            "아침\n",
            "점심\n",
            "저녁\n",
            "야식\n"
          ]
        },
        {
          "output_type": "error",
          "ename": "KeyboardInterrupt",
          "evalue": "ignored",
          "traceback": [
            "\u001b[0;31m---------------------------------------------------------------------------\u001b[0m",
            "\u001b[0;31mKeyboardInterrupt\u001b[0m                         Traceback (most recent call last)",
            "\u001b[0;32m/usr/local/lib/python3.7/dist-packages/ipykernel/kernelbase.py\u001b[0m in \u001b[0;36m_input_request\u001b[0;34m(self, prompt, ident, parent, password)\u001b[0m\n\u001b[1;32m    728\u001b[0m             \u001b[0;32mtry\u001b[0m\u001b[0;34m:\u001b[0m\u001b[0;34m\u001b[0m\u001b[0;34m\u001b[0m\u001b[0m\n\u001b[0;32m--> 729\u001b[0;31m                 \u001b[0mident\u001b[0m\u001b[0;34m,\u001b[0m \u001b[0mreply\u001b[0m \u001b[0;34m=\u001b[0m \u001b[0mself\u001b[0m\u001b[0;34m.\u001b[0m\u001b[0msession\u001b[0m\u001b[0;34m.\u001b[0m\u001b[0mrecv\u001b[0m\u001b[0;34m(\u001b[0m\u001b[0mself\u001b[0m\u001b[0;34m.\u001b[0m\u001b[0mstdin_socket\u001b[0m\u001b[0;34m,\u001b[0m \u001b[0;36m0\u001b[0m\u001b[0;34m)\u001b[0m\u001b[0;34m\u001b[0m\u001b[0;34m\u001b[0m\u001b[0m\n\u001b[0m\u001b[1;32m    730\u001b[0m             \u001b[0;32mexcept\u001b[0m \u001b[0mException\u001b[0m\u001b[0;34m:\u001b[0m\u001b[0;34m\u001b[0m\u001b[0;34m\u001b[0m\u001b[0m\n",
            "\u001b[0;32m/usr/local/lib/python3.7/dist-packages/jupyter_client/session.py\u001b[0m in \u001b[0;36mrecv\u001b[0;34m(self, socket, mode, content, copy)\u001b[0m\n\u001b[1;32m    802\u001b[0m         \u001b[0;32mtry\u001b[0m\u001b[0;34m:\u001b[0m\u001b[0;34m\u001b[0m\u001b[0;34m\u001b[0m\u001b[0m\n\u001b[0;32m--> 803\u001b[0;31m             \u001b[0mmsg_list\u001b[0m \u001b[0;34m=\u001b[0m \u001b[0msocket\u001b[0m\u001b[0;34m.\u001b[0m\u001b[0mrecv_multipart\u001b[0m\u001b[0;34m(\u001b[0m\u001b[0mmode\u001b[0m\u001b[0;34m,\u001b[0m \u001b[0mcopy\u001b[0m\u001b[0;34m=\u001b[0m\u001b[0mcopy\u001b[0m\u001b[0;34m)\u001b[0m\u001b[0;34m\u001b[0m\u001b[0;34m\u001b[0m\u001b[0m\n\u001b[0m\u001b[1;32m    804\u001b[0m         \u001b[0;32mexcept\u001b[0m \u001b[0mzmq\u001b[0m\u001b[0;34m.\u001b[0m\u001b[0mZMQError\u001b[0m \u001b[0;32mas\u001b[0m \u001b[0me\u001b[0m\u001b[0;34m:\u001b[0m\u001b[0;34m\u001b[0m\u001b[0;34m\u001b[0m\u001b[0m\n",
            "\u001b[0;32m/usr/local/lib/python3.7/dist-packages/zmq/sugar/socket.py\u001b[0m in \u001b[0;36mrecv_multipart\u001b[0;34m(self, flags, copy, track)\u001b[0m\n\u001b[1;32m    624\u001b[0m         \"\"\"\n\u001b[0;32m--> 625\u001b[0;31m         \u001b[0mparts\u001b[0m \u001b[0;34m=\u001b[0m \u001b[0;34m[\u001b[0m\u001b[0mself\u001b[0m\u001b[0;34m.\u001b[0m\u001b[0mrecv\u001b[0m\u001b[0;34m(\u001b[0m\u001b[0mflags\u001b[0m\u001b[0;34m,\u001b[0m \u001b[0mcopy\u001b[0m\u001b[0;34m=\u001b[0m\u001b[0mcopy\u001b[0m\u001b[0;34m,\u001b[0m \u001b[0mtrack\u001b[0m\u001b[0;34m=\u001b[0m\u001b[0mtrack\u001b[0m\u001b[0;34m)\u001b[0m\u001b[0;34m]\u001b[0m\u001b[0;34m\u001b[0m\u001b[0;34m\u001b[0m\u001b[0m\n\u001b[0m\u001b[1;32m    626\u001b[0m         \u001b[0;31m# have first part already, only loop while more to receive\u001b[0m\u001b[0;34m\u001b[0m\u001b[0;34m\u001b[0m\u001b[0;34m\u001b[0m\u001b[0m\n",
            "\u001b[0;32mzmq/backend/cython/socket.pyx\u001b[0m in \u001b[0;36mzmq.backend.cython.socket.Socket.recv\u001b[0;34m()\u001b[0m\n",
            "\u001b[0;32mzmq/backend/cython/socket.pyx\u001b[0m in \u001b[0;36mzmq.backend.cython.socket.Socket.recv\u001b[0;34m()\u001b[0m\n",
            "\u001b[0;32mzmq/backend/cython/socket.pyx\u001b[0m in \u001b[0;36mzmq.backend.cython.socket._recv_copy\u001b[0;34m()\u001b[0m\n",
            "\u001b[0;32m/usr/local/lib/python3.7/dist-packages/zmq/backend/cython/checkrc.pxd\u001b[0m in \u001b[0;36mzmq.backend.cython.checkrc._check_rc\u001b[0;34m()\u001b[0m\n",
            "\u001b[0;31mKeyboardInterrupt\u001b[0m: ",
            "\nDuring handling of the above exception, another exception occurred:\n",
            "\u001b[0;31mKeyboardInterrupt\u001b[0m                         Traceback (most recent call last)",
            "\u001b[0;32m<ipython-input-122-52ff9c6c8f68>\u001b[0m in \u001b[0;36m<module>\u001b[0;34m()\u001b[0m\n\u001b[1;32m      1\u001b[0m \u001b[0;32mwhile\u001b[0m \u001b[0mi\u001b[0m\u001b[0;34m>\u001b[0m\u001b[0;36m0\u001b[0m\u001b[0;34m:\u001b[0m\u001b[0;34m\u001b[0m\u001b[0;34m\u001b[0m\u001b[0m\n\u001b[0;32m----> 2\u001b[0;31m   \u001b[0mi\u001b[0m\u001b[0;34m=\u001b[0m\u001b[0mint\u001b[0m\u001b[0;34m(\u001b[0m\u001b[0minput\u001b[0m\u001b[0;34m(\u001b[0m\u001b[0;34m\"(종료,'0')며칠이 지났습니까:\"\u001b[0m\u001b[0;34m)\u001b[0m\u001b[0;34m)\u001b[0m\u001b[0;34m\u001b[0m\u001b[0;34m\u001b[0m\u001b[0m\n\u001b[0m\u001b[1;32m      3\u001b[0m   \u001b[0mj\u001b[0m\u001b[0;34m=\u001b[0m\u001b[0mi\u001b[0m\u001b[0;34m\u001b[0m\u001b[0;34m\u001b[0m\u001b[0m\n\u001b[1;32m      4\u001b[0m \u001b[0;34m\u001b[0m\u001b[0m\n\u001b[1;32m      5\u001b[0m   \u001b[0;32mwhile\u001b[0m \u001b[0mj\u001b[0m\u001b[0;34m>\u001b[0m\u001b[0;36m0\u001b[0m\u001b[0;34m:\u001b[0m\u001b[0;34m\u001b[0m\u001b[0;34m\u001b[0m\u001b[0m\n",
            "\u001b[0;32m/usr/local/lib/python3.7/dist-packages/ipykernel/kernelbase.py\u001b[0m in \u001b[0;36mraw_input\u001b[0;34m(self, prompt)\u001b[0m\n\u001b[1;32m    702\u001b[0m             \u001b[0mself\u001b[0m\u001b[0;34m.\u001b[0m\u001b[0m_parent_ident\u001b[0m\u001b[0;34m,\u001b[0m\u001b[0;34m\u001b[0m\u001b[0;34m\u001b[0m\u001b[0m\n\u001b[1;32m    703\u001b[0m             \u001b[0mself\u001b[0m\u001b[0;34m.\u001b[0m\u001b[0m_parent_header\u001b[0m\u001b[0;34m,\u001b[0m\u001b[0;34m\u001b[0m\u001b[0;34m\u001b[0m\u001b[0m\n\u001b[0;32m--> 704\u001b[0;31m             \u001b[0mpassword\u001b[0m\u001b[0;34m=\u001b[0m\u001b[0;32mFalse\u001b[0m\u001b[0;34m,\u001b[0m\u001b[0;34m\u001b[0m\u001b[0;34m\u001b[0m\u001b[0m\n\u001b[0m\u001b[1;32m    705\u001b[0m         )\n\u001b[1;32m    706\u001b[0m \u001b[0;34m\u001b[0m\u001b[0m\n",
            "\u001b[0;32m/usr/local/lib/python3.7/dist-packages/ipykernel/kernelbase.py\u001b[0m in \u001b[0;36m_input_request\u001b[0;34m(self, prompt, ident, parent, password)\u001b[0m\n\u001b[1;32m    732\u001b[0m             \u001b[0;32mexcept\u001b[0m \u001b[0mKeyboardInterrupt\u001b[0m\u001b[0;34m:\u001b[0m\u001b[0;34m\u001b[0m\u001b[0;34m\u001b[0m\u001b[0m\n\u001b[1;32m    733\u001b[0m                 \u001b[0;31m# re-raise KeyboardInterrupt, to truncate traceback\u001b[0m\u001b[0;34m\u001b[0m\u001b[0;34m\u001b[0m\u001b[0;34m\u001b[0m\u001b[0m\n\u001b[0;32m--> 734\u001b[0;31m                 \u001b[0;32mraise\u001b[0m \u001b[0mKeyboardInterrupt\u001b[0m\u001b[0;34m\u001b[0m\u001b[0;34m\u001b[0m\u001b[0m\n\u001b[0m\u001b[1;32m    735\u001b[0m             \u001b[0;32melse\u001b[0m\u001b[0;34m:\u001b[0m\u001b[0;34m\u001b[0m\u001b[0;34m\u001b[0m\u001b[0m\n\u001b[1;32m    736\u001b[0m                 \u001b[0;32mbreak\u001b[0m\u001b[0;34m\u001b[0m\u001b[0;34m\u001b[0m\u001b[0m\n",
            "\u001b[0;31mKeyboardInterrupt\u001b[0m: "
          ]
        }
      ]
    },
    {
      "cell_type": "code",
      "source": [
        "n = 2\n",
        "for i in range(n):\n",
        "  print(i)"
      ],
      "metadata": {
        "colab": {
          "base_uri": "https://localhost:8080/"
        },
        "id": "GDC7XuGUg69V",
        "outputId": "3af634be-fb59-4e39-9db1-f7e03f4e8832"
      },
      "execution_count": null,
      "outputs": [
        {
          "output_type": "stream",
          "name": "stdout",
          "text": [
            "0\n",
            "1\n"
          ]
        }
      ]
    },
    {
      "cell_type": "code",
      "source": [
        "i = 1\n",
        "while i<10:\n",
        "  print(i)\n",
        "  i+=1"
      ],
      "metadata": {
        "colab": {
          "base_uri": "https://localhost:8080/"
        },
        "id": "YIpVQvK8kCyJ",
        "outputId": "abb58048-413f-4183-ab47-3a31ddfcae3f"
      },
      "execution_count": null,
      "outputs": [
        {
          "output_type": "stream",
          "name": "stdout",
          "text": [
            "1\n",
            "2\n",
            "3\n",
            "4\n",
            "5\n",
            "6\n",
            "7\n",
            "8\n",
            "9\n"
          ]
        }
      ]
    },
    {
      "cell_type": "code",
      "source": [
        "n=2\n",
        "meal = ['아침','점심','저녁']\n",
        "for i in range(n):\n",
        "  for j in meal:\n",
        "    print(j)"
      ],
      "metadata": {
        "colab": {
          "base_uri": "https://localhost:8080/"
        },
        "id": "jzXh3IPdkmHH",
        "outputId": "9023d83c-7d26-4075-a36f-355958ff1424"
      },
      "execution_count": null,
      "outputs": [
        {
          "output_type": "stream",
          "name": "stdout",
          "text": [
            "아침\n",
            "점심\n",
            "저녁\n",
            "아침\n",
            "점심\n",
            "저녁\n"
          ]
        }
      ]
    },
    {
      "cell_type": "code",
      "source": [
        "k = range(10)\n"
      ],
      "metadata": {
        "id": "jehcAXR9kvIr"
      },
      "execution_count": null,
      "outputs": []
    },
    {
      "cell_type": "code",
      "source": [
        "k"
      ],
      "metadata": {
        "colab": {
          "base_uri": "https://localhost:8080/"
        },
        "id": "16m0-KR_k-Fi",
        "outputId": "51e7b1a2-b77c-4d1e-e785-fd8da88202ff"
      },
      "execution_count": null,
      "outputs": [
        {
          "output_type": "execute_result",
          "data": {
            "text/plain": [
              "range(0, 10)"
            ]
          },
          "metadata": {},
          "execution_count": 129
        }
      ]
    },
    {
      "cell_type": "code",
      "source": [
        "list(k)"
      ],
      "metadata": {
        "colab": {
          "base_uri": "https://localhost:8080/"
        },
        "id": "72EJhylklKCr",
        "outputId": "1630a687-166c-412c-80e2-0455e6458623"
      },
      "execution_count": null,
      "outputs": [
        {
          "output_type": "execute_result",
          "data": {
            "text/plain": [
              "[0, 1, 2, 3, 4, 5, 6, 7, 8, 9]"
            ]
          },
          "metadata": {},
          "execution_count": 130
        }
      ]
    },
    {
      "cell_type": "code",
      "source": [
        "k = range(11,21)"
      ],
      "metadata": {
        "id": "4wnwmGT_lNHC"
      },
      "execution_count": null,
      "outputs": []
    },
    {
      "cell_type": "code",
      "source": [
        "k"
      ],
      "metadata": {
        "colab": {
          "base_uri": "https://localhost:8080/"
        },
        "id": "hWRgk-0ilPte",
        "outputId": "36a809dd-497c-4fcd-8908-67b1090dd30c"
      },
      "execution_count": null,
      "outputs": [
        {
          "output_type": "execute_result",
          "data": {
            "text/plain": [
              "range(11, 21)"
            ]
          },
          "metadata": {},
          "execution_count": 132
        }
      ]
    },
    {
      "cell_type": "code",
      "source": [
        "type(k)"
      ],
      "metadata": {
        "colab": {
          "base_uri": "https://localhost:8080/"
        },
        "id": "SmApS-sPlSMG",
        "outputId": "95958af3-e239-4f2e-895a-868e0bbfcd3a"
      },
      "execution_count": null,
      "outputs": [
        {
          "output_type": "execute_result",
          "data": {
            "text/plain": [
              "range"
            ]
          },
          "metadata": {},
          "execution_count": 133
        }
      ]
    },
    {
      "cell_type": "code",
      "source": [
        "list(k)"
      ],
      "metadata": {
        "colab": {
          "base_uri": "https://localhost:8080/"
        },
        "id": "qVQzeljNlZmg",
        "outputId": "a539fcf3-e1f8-4402-b997-192c52d2f754"
      },
      "execution_count": null,
      "outputs": [
        {
          "output_type": "execute_result",
          "data": {
            "text/plain": [
              "[11, 12, 13, 14, 15, 16, 17, 18, 19, 20]"
            ]
          },
          "metadata": {},
          "execution_count": 134
        }
      ]
    },
    {
      "cell_type": "code",
      "source": [
        "k = list(range(10))\n",
        "l = list(range(10,15))\n",
        "m = list(range(10,20,2))"
      ],
      "metadata": {
        "id": "DzFqtDlulscF"
      },
      "execution_count": null,
      "outputs": []
    },
    {
      "cell_type": "code",
      "source": [
        "k,l,m"
      ],
      "metadata": {
        "colab": {
          "base_uri": "https://localhost:8080/"
        },
        "id": "pZJHZwaxlxgD",
        "outputId": "1bd71a05-debc-4808-d902-75f9bf119a88"
      },
      "execution_count": null,
      "outputs": [
        {
          "output_type": "execute_result",
          "data": {
            "text/plain": [
              "([0, 1, 2, 3, 4, 5, 6, 7, 8, 9], [10, 11, 12, 13, 14], [10, 12, 14, 16, 18])"
            ]
          },
          "metadata": {},
          "execution_count": 138
        }
      ]
    },
    {
      "cell_type": "code",
      "source": [
        "for i in range(5,10,2):\n",
        "  print(i)"
      ],
      "metadata": {
        "colab": {
          "base_uri": "https://localhost:8080/"
        },
        "id": "XTegHXP1mI5N",
        "outputId": "277d99eb-f3a0-4dfb-dd45-62fe50d80f57"
      },
      "execution_count": null,
      "outputs": [
        {
          "output_type": "stream",
          "name": "stdout",
          "text": [
            "5\n",
            "7\n",
            "9\n"
          ]
        }
      ]
    },
    {
      "cell_type": "code",
      "source": [
        "sums = 0\n",
        "for i in range(1,101):\n",
        "  sums+=i\n",
        "print(sums)"
      ],
      "metadata": {
        "colab": {
          "base_uri": "https://localhost:8080/"
        },
        "id": "qXMdYVVCmgFR",
        "outputId": "c56109e2-665d-4095-a954-b9443005dabe"
      },
      "execution_count": null,
      "outputs": [
        {
          "output_type": "stream",
          "name": "stdout",
          "text": [
            "5050\n"
          ]
        }
      ]
    },
    {
      "cell_type": "code",
      "source": [
        "def reverse_sums(number) :\n",
        "  sum_number = 0\n",
        "  for count_number in range(number) :\n",
        "    sum_number += 1 / (count_number+1)\n",
        "  return sum_number\n",
        "\n",
        "print(reverse_sums(200))\n"
      ],
      "metadata": {
        "colab": {
          "base_uri": "https://localhost:8080/"
        },
        "id": "ifnJ7mYyosaV",
        "outputId": "6d8bd5fb-2554-44a7-849b-d7ada7623947"
      },
      "execution_count": null,
      "outputs": [
        {
          "output_type": "stream",
          "name": "stdout",
          "text": [
            "5.878030948121446\n"
          ]
        }
      ]
    },
    {
      "cell_type": "code",
      "source": [
        "n = 200\n",
        "total = 0.0\n",
        "\n",
        "for i in range(1,n+1):\n",
        "  total += 1.0/i\n",
        "print(total)"
      ],
      "metadata": {
        "colab": {
          "base_uri": "https://localhost:8080/"
        },
        "id": "odg_2t83out5",
        "outputId": "01d67ff7-893f-4296-cd35-6c951af23f0a"
      },
      "execution_count": null,
      "outputs": [
        {
          "output_type": "stream",
          "name": "stdout",
          "text": [
            "5.878030948121446\n"
          ]
        }
      ]
    },
    {
      "cell_type": "code",
      "source": [
        "def harmonic(n):\n",
        "  total = 0.0\n",
        "  for i in range(1,n+1):\n",
        "    total +=1.0/i\n",
        "  print(total)"
      ],
      "metadata": {
        "id": "_oLpjhhopRtz"
      },
      "execution_count": null,
      "outputs": []
    },
    {
      "cell_type": "code",
      "source": [
        "harmonic(200)"
      ],
      "metadata": {
        "colab": {
          "base_uri": "https://localhost:8080/"
        },
        "id": "copMXiQIpk50",
        "outputId": "d867db5c-20c7-4a08-ade1-42f2caea00bd"
      },
      "execution_count": null,
      "outputs": [
        {
          "output_type": "stream",
          "name": "stdout",
          "text": [
            "5.878030948121446\n"
          ]
        }
      ]
    },
    {
      "cell_type": "code",
      "source": [
        "for i in range(5):\n",
        "  print(i)"
      ],
      "metadata": {
        "colab": {
          "base_uri": "https://localhost:8080/"
        },
        "id": "3-A5OMNfqbXb",
        "outputId": "70149e6b-0147-424b-c77b-3eed1be8876e"
      },
      "execution_count": null,
      "outputs": [
        {
          "output_type": "stream",
          "name": "stdout",
          "text": [
            "0\n",
            "1\n",
            "2\n",
            "3\n",
            "4\n"
          ]
        }
      ]
    },
    {
      "cell_type": "code",
      "source": [
        "range(5), range(0,5), range(0,5,2)"
      ],
      "metadata": {
        "colab": {
          "base_uri": "https://localhost:8080/"
        },
        "id": "sMII3q4Oqwm2",
        "outputId": "dea9b514-9706-43d8-b7c2-1a2515b0c92d"
      },
      "execution_count": null,
      "outputs": [
        {
          "output_type": "execute_result",
          "data": {
            "text/plain": [
              "(range(0, 5), range(0, 5), range(0, 5, 2))"
            ]
          },
          "metadata": {},
          "execution_count": 160
        }
      ]
    },
    {
      "cell_type": "code",
      "source": [
        "import random"
      ],
      "metadata": {
        "id": "N8VFxpJlq1DU"
      },
      "execution_count": null,
      "outputs": []
    },
    {
      "cell_type": "code",
      "source": [
        "random.randint(1,6)"
      ],
      "metadata": {
        "colab": {
          "base_uri": "https://localhost:8080/"
        },
        "id": "4lOpqBrFq2mR",
        "outputId": "54846b59-4147-4726-8a05-7ee5e7d06c86"
      },
      "execution_count": null,
      "outputs": [
        {
          "output_type": "execute_result",
          "data": {
            "text/plain": [
              "6"
            ]
          },
          "metadata": {},
          "execution_count": 164
        }
      ]
    },
    {
      "cell_type": "code",
      "source": [
        "for i in range(100):\n",
        "  print(random.randint(1,6), end=' ')"
      ],
      "metadata": {
        "colab": {
          "base_uri": "https://localhost:8080/"
        },
        "id": "oVzu1H2irXDK",
        "outputId": "a4f664e2-3a22-4908-c269-3ebb1e313a0b"
      },
      "execution_count": null,
      "outputs": [
        {
          "output_type": "stream",
          "name": "stdout",
          "text": [
            "3 4 3 2 6 2 6 1 2 3 3 1 2 1 4 1 6 6 5 1 4 4 6 2 4 6 2 1 2 4 5 1 5 2 6 2 3 4 4 4 5 3 5 4 1 2 5 1 3 6 4 3 6 5 6 1 6 1 2 6 5 3 2 4 5 5 5 3 3 4 4 3 4 3 2 5 5 4 4 1 5 5 1 4 5 4 5 4 6 6 5 4 5 2 2 4 5 3 4 3 "
          ]
        }
      ]
    },
    {
      "cell_type": "code",
      "source": [
        "random.randrange(1,7)"
      ],
      "metadata": {
        "colab": {
          "base_uri": "https://localhost:8080/"
        },
        "id": "UNsTn1PTsAgw",
        "outputId": "2992b659-5653-41ac-8ac1-717912d1384a"
      },
      "execution_count": null,
      "outputs": [
        {
          "output_type": "execute_result",
          "data": {
            "text/plain": [
              "3"
            ]
          },
          "metadata": {},
          "execution_count": 167
        }
      ]
    },
    {
      "cell_type": "code",
      "source": [
        "random.sample(range(100),2)"
      ],
      "metadata": {
        "colab": {
          "base_uri": "https://localhost:8080/"
        },
        "id": "lcL5tjwZswS6",
        "outputId": "ae7ec9ea-5163-422d-ed0f-ed4c3ca85b73"
      },
      "execution_count": null,
      "outputs": [
        {
          "output_type": "execute_result",
          "data": {
            "text/plain": [
              "[86, 22]"
            ]
          },
          "metadata": {},
          "execution_count": 169
        }
      ]
    },
    {
      "cell_type": "code",
      "source": [
        "random.choice(range(100))"
      ],
      "metadata": {
        "colab": {
          "base_uri": "https://localhost:8080/"
        },
        "id": "7QhzLSHls56K",
        "outputId": "b4ff1ad5-2175-434e-df09-6652f17561b5"
      },
      "execution_count": null,
      "outputs": [
        {
          "output_type": "execute_result",
          "data": {
            "text/plain": [
              "31"
            ]
          },
          "metadata": {},
          "execution_count": 171
        }
      ]
    },
    {
      "cell_type": "code",
      "source": [
        "random.shuffle([11,21,31,41,51,61])"
      ],
      "metadata": {
        "id": "-SxxCtNetCjn"
      },
      "execution_count": null,
      "outputs": []
    },
    {
      "cell_type": "code",
      "source": [
        "import numpy as np"
      ],
      "metadata": {
        "id": "GCBfpTZJs3iS"
      },
      "execution_count": null,
      "outputs": []
    },
    {
      "cell_type": "code",
      "source": [
        "np.random.randint(1,6)"
      ],
      "metadata": {
        "colab": {
          "base_uri": "https://localhost:8080/"
        },
        "id": "z_pw21mys-pv",
        "outputId": "4050acc0-f37c-4f83-8f67-d05b6c3b72df"
      },
      "execution_count": null,
      "outputs": [
        {
          "output_type": "execute_result",
          "data": {
            "text/plain": [
              "1"
            ]
          },
          "metadata": {},
          "execution_count": 172
        }
      ]
    },
    {
      "cell_type": "code",
      "source": [
        "np.random.rand(10)"
      ],
      "metadata": {
        "colab": {
          "base_uri": "https://localhost:8080/"
        },
        "id": "12vRvBoKt31r",
        "outputId": "12d58c2c-60a2-4e0c-d46c-2c5d5a51990e"
      },
      "execution_count": null,
      "outputs": [
        {
          "output_type": "execute_result",
          "data": {
            "text/plain": [
              "array([0.09242391, 0.05699391, 0.5964225 , 0.27661198, 0.69735445,\n",
              "       0.83417442, 0.03804861, 0.19651337, 0.73228129, 0.69070939])"
            ]
          },
          "metadata": {},
          "execution_count": 174
        }
      ]
    },
    {
      "cell_type": "code",
      "source": [
        "[1,2]"
      ],
      "metadata": {
        "colab": {
          "base_uri": "https://localhost:8080/"
        },
        "id": "u35f0PERt6ng",
        "outputId": "09b905c5-decc-44b1-d988-e0f3f566c5e4"
      },
      "execution_count": null,
      "outputs": [
        {
          "output_type": "execute_result",
          "data": {
            "text/plain": [
              "[1, 2]"
            ]
          },
          "metadata": {},
          "execution_count": 175
        }
      ]
    },
    {
      "cell_type": "code",
      "source": [
        "(1,2)"
      ],
      "metadata": {
        "colab": {
          "base_uri": "https://localhost:8080/"
        },
        "id": "jFcfS4vCxSqE",
        "outputId": "709a7e08-9e8a-4a7c-87d0-7d2c4d309d8f"
      },
      "execution_count": null,
      "outputs": [
        {
          "output_type": "execute_result",
          "data": {
            "text/plain": [
              "(1, 2)"
            ]
          },
          "metadata": {},
          "execution_count": 176
        }
      ]
    },
    {
      "cell_type": "code",
      "source": [
        "{1:2}"
      ],
      "metadata": {
        "colab": {
          "base_uri": "https://localhost:8080/"
        },
        "id": "ALnru5psxULu",
        "outputId": "b64173b3-e19f-4a5e-9181-65e22ff4d1ad"
      },
      "execution_count": null,
      "outputs": [
        {
          "output_type": "execute_result",
          "data": {
            "text/plain": [
              "{1: 2}"
            ]
          },
          "metadata": {},
          "execution_count": 177
        }
      ]
    },
    {
      "cell_type": "code",
      "source": [
        "{1,2,3,4}"
      ],
      "metadata": {
        "colab": {
          "base_uri": "https://localhost:8080/"
        },
        "id": "K0WAX4ZNxWOQ",
        "outputId": "2eeeb22e-9be4-47ca-e414-ea78de34a88d"
      },
      "execution_count": null,
      "outputs": [
        {
          "output_type": "execute_result",
          "data": {
            "text/plain": [
              "{1, 2, 3, 4}"
            ]
          },
          "metadata": {},
          "execution_count": 178
        }
      ]
    },
    {
      "cell_type": "code",
      "source": [
        "a = [1,2]\n",
        "b= list(range(10))"
      ],
      "metadata": {
        "id": "G-xv1IQxxX7X"
      },
      "execution_count": null,
      "outputs": []
    },
    {
      "cell_type": "code",
      "source": [
        "b"
      ],
      "metadata": {
        "colab": {
          "base_uri": "https://localhost:8080/"
        },
        "id": "6logxVVsxfX6",
        "outputId": "8583c354-fdc2-429d-9170-5803c8d6e77f"
      },
      "execution_count": null,
      "outputs": [
        {
          "output_type": "execute_result",
          "data": {
            "text/plain": [
              "[0, 1, 2, 3, 4, 5, 6, 7, 8, 9]"
            ]
          },
          "metadata": {},
          "execution_count": 182
        }
      ]
    },
    {
      "cell_type": "code",
      "source": [
        "score = [50,60,70,80,90]"
      ],
      "metadata": {
        "id": "Xa6Fq1XBxjWi"
      },
      "execution_count": null,
      "outputs": []
    },
    {
      "cell_type": "code",
      "source": [
        "num =0\n",
        "for i in score:\n",
        "  num +=1\n",
        "  if(i>=70):\n",
        "    print(num, '번 학생은 1급입니다.')\n",
        "  elif(i>=60):\n",
        "    print(num, '번 학생은 2급입니다')\n",
        "  else:\n",
        "    print(num,'번 학생은 불합격입니다')\n",
        "\n"
      ],
      "metadata": {
        "colab": {
          "base_uri": "https://localhost:8080/"
        },
        "id": "3sPGXIaAxp2b",
        "outputId": "ecd3e09a-7292-41ae-d5d4-707df544101d"
      },
      "execution_count": null,
      "outputs": [
        {
          "output_type": "stream",
          "name": "stdout",
          "text": [
            "1 번 학생은 불합격입니다\n",
            "2 번 학생은 2급입니다\n",
            "3 번 학생은 1급입니다.\n",
            "4 번 학생은 1급입니다.\n",
            "5 번 학생은 1급입니다.\n"
          ]
        }
      ]
    },
    {
      "cell_type": "code",
      "source": [
        "name= ['토미','지미','낸시','불독']\n",
        "fes = ['OT','concert','mt','play']\n",
        "for a in name:\n",
        "  for b in fes:\n",
        "    print(a,b)"
      ],
      "metadata": {
        "colab": {
          "base_uri": "https://localhost:8080/"
        },
        "id": "Y-YaGUor0Zse",
        "outputId": "d866fd2d-c3bc-4a54-c2ff-8fb54fe5620a"
      },
      "execution_count": null,
      "outputs": [
        {
          "output_type": "stream",
          "name": "stdout",
          "text": [
            "토미 OT\n",
            "토미 concert\n",
            "토미 mt\n",
            "토미 play\n",
            "지미 OT\n",
            "지미 concert\n",
            "지미 mt\n",
            "지미 play\n",
            "낸시 OT\n",
            "낸시 concert\n",
            "낸시 mt\n",
            "낸시 play\n",
            "불독 OT\n",
            "불독 concert\n",
            "불독 mt\n",
            "불독 play\n"
          ]
        }
      ]
    },
    {
      "cell_type": "code",
      "source": [
        "import random"
      ],
      "metadata": {
        "id": "E4ZkcQte2HH8"
      },
      "execution_count": null,
      "outputs": []
    },
    {
      "cell_type": "code",
      "source": [
        "name= ['토미','지미','낸시','불독']\n",
        "fes = ['OT','concert','mt','play']\n",
        "random.shuffle(fes)"
      ],
      "metadata": {
        "id": "Nl_O1bnV2PaJ"
      },
      "execution_count": null,
      "outputs": []
    },
    {
      "cell_type": "code",
      "source": [
        "fes"
      ],
      "metadata": {
        "colab": {
          "base_uri": "https://localhost:8080/"
        },
        "id": "AS4prCZy1eUg",
        "outputId": "c40fb574-1424-4ea3-de38-825b7b5c4c8a"
      },
      "execution_count": null,
      "outputs": [
        {
          "output_type": "execute_result",
          "data": {
            "text/plain": [
              "['mt', 'play', 'concert', 'OT']"
            ]
          },
          "metadata": {},
          "execution_count": 215
        }
      ]
    },
    {
      "cell_type": "code",
      "source": [
        "for a in range(4):\n",
        "  print(name[a],fes[a])"
      ],
      "metadata": {
        "colab": {
          "base_uri": "https://localhost:8080/"
        },
        "id": "cKJov9G02mF1",
        "outputId": "7a2570b3-f5fe-4b28-9913-903f3417c8e3"
      },
      "execution_count": null,
      "outputs": [
        {
          "output_type": "stream",
          "name": "stdout",
          "text": [
            "토미 mt\n",
            "지미 play\n",
            "낸시 concert\n",
            "불독 OT\n"
          ]
        }
      ]
    },
    {
      "cell_type": "code",
      "source": [
        "for i in range(11):\n",
        "  print(i)"
      ],
      "metadata": {
        "colab": {
          "base_uri": "https://localhost:8080/"
        },
        "id": "w0fSqJRg2u1C",
        "outputId": "deb937d9-9d1a-4fc9-bd30-e8b068853215"
      },
      "execution_count": null,
      "outputs": [
        {
          "output_type": "stream",
          "name": "stdout",
          "text": [
            "0\n",
            "1\n",
            "2\n",
            "3\n",
            "4\n",
            "5\n",
            "6\n",
            "7\n",
            "8\n",
            "9\n",
            "10\n"
          ]
        }
      ]
    },
    {
      "cell_type": "code",
      "source": [
        "for i in range(5,16):\n",
        "  print(i)"
      ],
      "metadata": {
        "colab": {
          "base_uri": "https://localhost:8080/"
        },
        "id": "XSqS98Lq23rD",
        "outputId": "74b4f742-d9da-4b86-cc21-0dd129db3307"
      },
      "execution_count": null,
      "outputs": [
        {
          "output_type": "stream",
          "name": "stdout",
          "text": [
            "5\n",
            "6\n",
            "7\n",
            "8\n",
            "9\n",
            "10\n",
            "11\n",
            "12\n",
            "13\n",
            "14\n",
            "15\n"
          ]
        }
      ]
    },
    {
      "cell_type": "code",
      "source": [
        "for i in range(0,22,2):\n",
        "  print(i)"
      ],
      "metadata": {
        "colab": {
          "base_uri": "https://localhost:8080/"
        },
        "id": "gEu8hGVn3Sq0",
        "outputId": "f5fe0403-d65a-4c89-fd0b-d3d5df3b7895"
      },
      "execution_count": null,
      "outputs": [
        {
          "output_type": "stream",
          "name": "stdout",
          "text": [
            "0\n",
            "2\n",
            "4\n",
            "6\n",
            "8\n",
            "10\n",
            "12\n",
            "14\n",
            "16\n",
            "18\n",
            "20\n"
          ]
        }
      ]
    },
    {
      "cell_type": "code",
      "source": [
        "for i in range(-100, 101, 4):\n",
        "  print(i)"
      ],
      "metadata": {
        "colab": {
          "base_uri": "https://localhost:8080/"
        },
        "id": "A5bl01zE3aiv",
        "outputId": "13389c21-c94d-4c58-a98c-ac5dcc5caf9d"
      },
      "execution_count": null,
      "outputs": [
        {
          "output_type": "stream",
          "name": "stdout",
          "text": [
            "-100\n",
            "-96\n",
            "-92\n",
            "-88\n",
            "-84\n",
            "-80\n",
            "-76\n",
            "-72\n",
            "-68\n",
            "-64\n",
            "-60\n",
            "-56\n",
            "-52\n",
            "-48\n",
            "-44\n",
            "-40\n",
            "-36\n",
            "-32\n",
            "-28\n",
            "-24\n",
            "-20\n",
            "-16\n",
            "-12\n",
            "-8\n",
            "-4\n",
            "0\n",
            "4\n",
            "8\n",
            "12\n",
            "16\n",
            "20\n",
            "24\n",
            "28\n",
            "32\n",
            "36\n",
            "40\n",
            "44\n",
            "48\n",
            "52\n",
            "56\n",
            "60\n",
            "64\n",
            "68\n",
            "72\n",
            "76\n",
            "80\n",
            "84\n",
            "88\n",
            "92\n",
            "96\n",
            "100\n"
          ]
        }
      ]
    },
    {
      "cell_type": "code",
      "source": [
        "i=0\n",
        "while i<6:\n",
        "  i+=1\n",
        "  if i==3:\n",
        "    continue\n",
        "  print(i,'번째 반복입니다.')"
      ],
      "metadata": {
        "colab": {
          "base_uri": "https://localhost:8080/"
        },
        "id": "tInsuCjy4lxA",
        "outputId": "1b12bdd9-e102-4bd6-b3d9-5c180091e947"
      },
      "execution_count": null,
      "outputs": [
        {
          "output_type": "stream",
          "name": "stdout",
          "text": [
            "1 번째 반복입니다.\n",
            "2 번째 반복입니다.\n",
            "4 번째 반복입니다.\n",
            "5 번째 반복입니다.\n",
            "6 번째 반복입니다.\n"
          ]
        }
      ]
    },
    {
      "cell_type": "code",
      "source": [
        "for i in range(2, 979):\n",
        "  if 979%i ==0:\n",
        "    break\n",
        "  print(i)"
      ],
      "metadata": {
        "colab": {
          "base_uri": "https://localhost:8080/"
        },
        "id": "ByIWptiz6fDM",
        "outputId": "6f80e138-100b-48a6-9109-f6d16a4d329c"
      },
      "execution_count": null,
      "outputs": [
        {
          "output_type": "stream",
          "name": "stdout",
          "text": [
            "2\n",
            "3\n",
            "4\n",
            "5\n",
            "6\n",
            "7\n",
            "8\n",
            "9\n",
            "10\n"
          ]
        }
      ]
    },
    {
      "cell_type": "code",
      "source": [
        "for i in range(2, 407):\n",
        "  if 407%i==0:\n",
        "    break\n",
        "  print(i,'는 소수가아닙니다.')\n"
      ],
      "metadata": {
        "colab": {
          "base_uri": "https://localhost:8080/"
        },
        "id": "vgthJQ_77Edc",
        "outputId": "4ac49a8a-209c-4c5c-a200-e970746a357f"
      },
      "execution_count": null,
      "outputs": [
        {
          "output_type": "stream",
          "name": "stdout",
          "text": [
            "2 는 소수가아닙니다.\n",
            "3 는 소수가아닙니다.\n",
            "4 는 소수가아닙니다.\n",
            "5 는 소수가아닙니다.\n",
            "6 는 소수가아닙니다.\n",
            "7 는 소수가아닙니다.\n",
            "8 는 소수가아닙니다.\n",
            "9 는 소수가아닙니다.\n",
            "10 는 소수가아닙니다.\n"
          ]
        }
      ]
    },
    {
      "cell_type": "code",
      "source": [
        "def is_prime_num(n):\n",
        "    for i in range(2, n):\n",
        "        if n % i == 0:\n",
        "            return False # i로 나누어 떨어지면 소수가 아니므로 False 리턴\n",
        "    \n",
        "    return True \n",
        "    "
      ],
      "metadata": {
        "id": "XTYU3cV58LE7"
      },
      "execution_count": null,
      "outputs": []
    },
    {
      "cell_type": "code",
      "source": [
        "print(n)"
      ],
      "metadata": {
        "colab": {
          "base_uri": "https://localhost:8080/"
        },
        "id": "E_LZOJeS8OKK",
        "outputId": "b5e78ba0-70c0-4107-cfc5-ae6b714ad321"
      },
      "execution_count": null,
      "outputs": [
        {
          "output_type": "stream",
          "name": "stdout",
          "text": [
            "200\n"
          ]
        }
      ]
    },
    {
      "cell_type": "code",
      "source": [
        "n=10\n",
        "for j in ['a','b']:\n",
        "  for i in range(10):\n",
        "    if i==7: \n",
        "      continue\n",
        "      print('seven')\n",
        "      #continue\n",
        "    if i ==9:\n",
        "      break\n",
        "    print(f'{j},i={i}')"
      ],
      "metadata": {
        "colab": {
          "base_uri": "https://localhost:8080/"
        },
        "id": "zIZIpBryMUg3",
        "outputId": "135f4709-dcd6-42cc-dcba-11607e1ed93a"
      },
      "execution_count": null,
      "outputs": [
        {
          "output_type": "stream",
          "name": "stdout",
          "text": [
            "a,i=0\n",
            "a,i=1\n",
            "a,i=2\n",
            "a,i=3\n",
            "a,i=4\n",
            "a,i=5\n",
            "a,i=6\n",
            "a,i=8\n",
            "b,i=0\n",
            "b,i=1\n",
            "b,i=2\n",
            "b,i=3\n",
            "b,i=4\n",
            "b,i=5\n",
            "b,i=6\n",
            "b,i=8\n"
          ]
        }
      ]
    },
    {
      "cell_type": "code",
      "source": [
        "n=407"
      ],
      "metadata": {
        "id": "Q05PJlJJNWi4"
      },
      "execution_count": null,
      "outputs": []
    },
    {
      "cell_type": "code",
      "source": [
        "def test_prime(n):\n",
        "  if(n==1):\n",
        "    return False\n",
        "  elif(n==2):\n",
        "    return True\n",
        "  else:\n",
        "    for x in range(2,n):\n",
        "      if(n%x==0):\n",
        "        return False\n",
        "    return True"
      ],
      "metadata": {
        "id": "SaOxbPUWQRSo"
      },
      "execution_count": null,
      "outputs": []
    },
    {
      "cell_type": "code",
      "source": [
        "num = 407\n",
        "if num>1:\n",
        "  # check for factors\n",
        "  for i in range(2, num):\n",
        "    if(num%i)==0:\n",
        "      print (num,\"is not a prime number\")\n",
        "      print (i, \"times\", num//i,'is',num)\n",
        "      break\n",
        "  else:\n",
        "    print(num,'is a prime number')\n",
        "# if input number is less than or equal to 1,  it is not prime\n",
        "else:\n",
        "  print(num,'is not a prime number')"
      ],
      "metadata": {
        "colab": {
          "base_uri": "https://localhost:8080/"
        },
        "id": "-eRSzGefN2Y-",
        "outputId": "dc905742-4fe4-4833-ed62-6013429ebbde"
      },
      "execution_count": null,
      "outputs": [
        {
          "output_type": "stream",
          "name": "stdout",
          "text": [
            "407 is not a prime number\n",
            "11 times 37 is 407\n"
          ]
        }
      ]
    },
    {
      "cell_type": "code",
      "source": [
        "lower = 900\n",
        "upper = 1200\n",
        "\n",
        "for num in range(lower, upper+1):\n",
        "  if num>1:\n",
        "    for i in range(2, num):\n",
        "      if(num%i)==0:\n",
        "        on_off = False\n",
        "        break\n",
        "    else:\n",
        "      print(num)"
      ],
      "metadata": {
        "colab": {
          "base_uri": "https://localhost:8080/"
        },
        "id": "-FkJlsElRGnJ",
        "outputId": "37f8800e-c47d-4ea0-c467-58a3d2c68f13"
      },
      "execution_count": null,
      "outputs": [
        {
          "output_type": "stream",
          "name": "stdout",
          "text": [
            "907\n",
            "911\n",
            "919\n",
            "929\n",
            "937\n",
            "941\n",
            "947\n",
            "953\n",
            "967\n",
            "971\n",
            "977\n",
            "983\n",
            "991\n",
            "997\n",
            "1009\n",
            "1013\n",
            "1019\n",
            "1021\n",
            "1031\n",
            "1033\n",
            "1039\n",
            "1049\n",
            "1051\n",
            "1061\n",
            "1063\n",
            "1069\n",
            "1087\n",
            "1091\n",
            "1093\n",
            "1097\n",
            "1103\n",
            "1109\n",
            "1117\n",
            "1123\n",
            "1129\n",
            "1151\n",
            "1153\n",
            "1163\n",
            "1171\n",
            "1181\n",
            "1187\n",
            "1193\n"
          ]
        }
      ]
    },
    {
      "cell_type": "code",
      "source": [
        "isPrime=[True, True, True,True,True,True]"
      ],
      "metadata": {
        "id": "A9bhgBG9R1v0"
      },
      "execution_count": null,
      "outputs": []
    },
    {
      "cell_type": "code",
      "source": [
        "n=25"
      ],
      "metadata": {
        "id": "bm99p0FMTXUY"
      },
      "execution_count": null,
      "outputs": []
    },
    {
      "cell_type": "code",
      "source": [
        "isPrime= [True]*(n+1)"
      ],
      "metadata": {
        "id": "rPCY4p1QTZQ-"
      },
      "execution_count": null,
      "outputs": []
    },
    {
      "cell_type": "code",
      "source": [
        "len(isPrime)"
      ],
      "metadata": {
        "colab": {
          "base_uri": "https://localhost:8080/"
        },
        "id": "LmRXBr5_TcwB",
        "outputId": "cb0d4a9b-c65f-4161-8765-ff3bae3ea518"
      },
      "execution_count": null,
      "outputs": [
        {
          "output_type": "execute_result",
          "data": {
            "text/plain": [
              "26"
            ]
          },
          "metadata": {},
          "execution_count": 247
        }
      ]
    },
    {
      "cell_type": "code",
      "source": [
        "for i in range(2, n):\n",
        "  if(isPrime[i]):\n",
        "    for j in range(2, n//i +1):\n",
        "      if(num%i)==0:\n",
        "        break\n",
        "    else:\n",
        "      print(num)"
      ],
      "metadata": {
        "id": "35mKbO_dTixH"
      },
      "execution_count": null,
      "outputs": []
    },
    {
      "cell_type": "code",
      "source": [
        "print('최대공약수 구하기')\n",
        "a =int(input('첫번째 숫자:'))\n",
        "b=int(input('두번째 숫자 :'))\n",
        "\n",
        "if b >a :\n",
        "  a,b = b,a\n",
        "while(b != 0):\n",
        "  a = a%b\n",
        "  a,b = b,a\n",
        "print(\"최대공약수는:\", a)\n",
        "\n"
      ],
      "metadata": {
        "colab": {
          "base_uri": "https://localhost:8080/"
        },
        "id": "01mJ69Y8Z2S9",
        "outputId": "60131960-2a23-405a-f653-43c39b1b9658"
      },
      "execution_count": null,
      "outputs": [
        {
          "output_type": "stream",
          "name": "stdout",
          "text": [
            "최대공약수 구하기\n",
            "첫번째 숫자:21\n",
            "두번째 숫자 :9\n",
            "최대공약수는: 3\n"
          ]
        }
      ]
    },
    {
      "cell_type": "code",
      "source": [
        "n=21\n",
        "if n<2:\n",
        "  on_off = False\n",
        "else: \n",
        "  on_off = True\n",
        "for i in range(2,n):\n",
        "  if(n%i)==0:\n",
        "    on_off = False\n",
        "    break\n",
        "print(on_off)"
      ],
      "metadata": {
        "colab": {
          "base_uri": "https://localhost:8080/"
        },
        "id": "ji1ZkZp1awmo",
        "outputId": "89906146-7aaf-47ba-eb3c-352e886be8db"
      },
      "execution_count": null,
      "outputs": [
        {
          "output_type": "stream",
          "name": "stdout",
          "text": [
            "False\n"
          ]
        }
      ]
    },
    {
      "cell_type": "code",
      "source": [
        "n=16"
      ],
      "metadata": {
        "id": "R-4h9QrVbiuc"
      },
      "execution_count": null,
      "outputs": []
    },
    {
      "cell_type": "code",
      "source": [
        "n=16\n",
        "power =1\n",
        "for i in range(n):\n",
        "  power=power*2\n",
        "print(power)"
      ],
      "metadata": {
        "colab": {
          "base_uri": "https://localhost:8080/"
        },
        "id": "6p-PN55Hc2e0",
        "outputId": "a6518343-9e57-4e97-bedb-16b45202ccba"
      },
      "execution_count": null,
      "outputs": [
        {
          "output_type": "stream",
          "name": "stdout",
          "text": [
            "65536\n"
          ]
        }
      ]
    },
    {
      "cell_type": "code",
      "source": [
        "2**n"
      ],
      "metadata": {
        "colab": {
          "base_uri": "https://localhost:8080/"
        },
        "id": "opnHB3eocy_W",
        "outputId": "a3d6ed84-5a1e-4372-e331-ae2fd76fa6ba"
      },
      "execution_count": null,
      "outputs": [
        {
          "output_type": "execute_result",
          "data": {
            "text/plain": [
              "65536"
            ]
          },
          "metadata": {},
          "execution_count": 256
        }
      ]
    },
    {
      "cell_type": "code",
      "source": [
        "2**16"
      ],
      "metadata": {
        "colab": {
          "base_uri": "https://localhost:8080/"
        },
        "id": "SWpH3u6KcaGV",
        "outputId": "faaabc82-1d3f-4953-fbf2-8b94494deab6"
      },
      "execution_count": null,
      "outputs": [
        {
          "output_type": "execute_result",
          "data": {
            "text/plain": [
              "65536"
            ]
          },
          "metadata": {},
          "execution_count": 253
        }
      ]
    },
    {
      "cell_type": "code",
      "source": [
        "print(bin(19))\n",
        "\n"
      ],
      "metadata": {
        "colab": {
          "base_uri": "https://localhost:8080/"
        },
        "id": "ChOsx4oefT_j",
        "outputId": "98026544-44e9-45d4-f393-718cfda2138d"
      },
      "execution_count": null,
      "outputs": [
        {
          "output_type": "stream",
          "name": "stdout",
          "text": [
            "0b10011\n"
          ]
        }
      ]
    },
    {
      "cell_type": "code",
      "source": [
        "print(\"10진수\")\n",
        "x = int(input())\n",
        "y=\"\"\n",
        "while x>0:\n",
        "    y=str(x%2)+y\n",
        "    x//=2\n",
        "print(\"2진수:\",y)"
      ],
      "metadata": {
        "colab": {
          "base_uri": "https://localhost:8080/"
        },
        "id": "QzrVZSPbgIiN",
        "outputId": "d477b747-2782-4eff-8cdb-dee3efef7f10"
      },
      "execution_count": null,
      "outputs": [
        {
          "output_type": "stream",
          "name": "stdout",
          "text": [
            "10진수\n",
            "19\n",
            "2진수: 10011\n"
          ]
        }
      ]
    },
    {
      "cell_type": "code",
      "source": [
        "n=19\n",
        "s=''\n",
        "while n>0:\n",
        "  s=str(n%2)+s\n",
        "  n//=2\n",
        "  print(f's={s}, ={n}')"
      ],
      "metadata": {
        "colab": {
          "base_uri": "https://localhost:8080/"
        },
        "id": "zilI8HNTj51F",
        "outputId": "20486559-0927-413c-821a-b64ce60aa85a"
      },
      "execution_count": null,
      "outputs": [
        {
          "output_type": "stream",
          "name": "stdout",
          "text": [
            "s=1, =9\n",
            "s=11, =4\n",
            "s=011, =2\n",
            "s=0011, =1\n",
            "s=10011, =0\n"
          ]
        }
      ]
    },
    {
      "cell_type": "code",
      "source": [
        "n =19\n",
        "\n",
        "v=1\n",
        "\n",
        "while v<=n//2:\n",
        "  v *=2\n",
        "\n",
        "while v>0:\n",
        "  if n<v:\n",
        "    print(0,end='')\n",
        "  else:\n",
        "    print(1,end='')\n",
        "    n-=v\n",
        "  v//=2\n",
        "print()\n",
        "\n"
      ],
      "metadata": {
        "colab": {
          "base_uri": "https://localhost:8080/"
        },
        "id": "nzbfJpLXkDPA",
        "outputId": "783ab3bb-dc18-4fe1-8854-8e87d7f585bc"
      },
      "execution_count": null,
      "outputs": [
        {
          "output_type": "stream",
          "name": "stdout",
          "text": [
            "10011\n"
          ]
        }
      ]
    },
    {
      "cell_type": "code",
      "source": [
        "a ='Python'\n",
        "type(a)"
      ],
      "metadata": {
        "colab": {
          "base_uri": "https://localhost:8080/"
        },
        "id": "ynTMXTwAu6zx",
        "outputId": "1c286846-4d4f-4f2c-f229-75560bb044b7"
      },
      "execution_count": null,
      "outputs": [
        {
          "output_type": "execute_result",
          "data": {
            "text/plain": [
              "str"
            ]
          },
          "metadata": {},
          "execution_count": 275
        }
      ]
    },
    {
      "cell_type": "code",
      "source": [
        "a= 'Python is easy'\n",
        "b= 'to handle strings'\n",
        "a+b "
      ],
      "metadata": {
        "colab": {
          "base_uri": "https://localhost:8080/",
          "height": 35
        },
        "id": "u2-Cj3W1voXy",
        "outputId": "9625595d-3087-48a8-b85a-1a544cde766f"
      },
      "execution_count": null,
      "outputs": [
        {
          "output_type": "execute_result",
          "data": {
            "text/plain": [
              "'Python is easyto handle strings'"
            ],
            "application/vnd.google.colaboratory.intrinsic+json": {
              "type": "string"
            }
          },
          "metadata": {},
          "execution_count": 276
        }
      ]
    },
    {
      "cell_type": "code",
      "source": [
        "a='문자열'\n",
        "a*3"
      ],
      "metadata": {
        "colab": {
          "base_uri": "https://localhost:8080/",
          "height": 35
        },
        "id": "gn9c8yA5vvod",
        "outputId": "81f0a11b-9f26-4196-dda5-b6e06c8f4ace"
      },
      "execution_count": null,
      "outputs": [
        {
          "output_type": "execute_result",
          "data": {
            "text/plain": [
              "'문자열문자열문자열'"
            ],
            "application/vnd.google.colaboratory.intrinsic+json": {
              "type": "string"
            }
          },
          "metadata": {},
          "execution_count": 277
        }
      ]
    },
    {
      "cell_type": "code",
      "source": [
        "(a+' ')*3"
      ],
      "metadata": {
        "colab": {
          "base_uri": "https://localhost:8080/",
          "height": 35
        },
        "id": "OMqI2tEUvy47",
        "outputId": "4476914a-3962-445c-e8d8-16df68077308"
      },
      "execution_count": null,
      "outputs": [
        {
          "output_type": "execute_result",
          "data": {
            "text/plain": [
              "'문자열 문자열 문자열 '"
            ],
            "application/vnd.google.colaboratory.intrinsic+json": {
              "type": "string"
            }
          },
          "metadata": {},
          "execution_count": 278
        }
      ]
    },
    {
      "cell_type": "code",
      "source": [
        "a=\"\"\"\n",
        "First line\n",
        "Second line\"\"\"\n",
        "print(a)"
      ],
      "metadata": {
        "colab": {
          "base_uri": "https://localhost:8080/"
        },
        "id": "wIrSUS1Dv9iU",
        "outputId": "865991c1-89da-4923-e5fb-9ffa4c76740b"
      },
      "execution_count": null,
      "outputs": [
        {
          "output_type": "stream",
          "name": "stdout",
          "text": [
            "\n",
            "First line\n",
            "Second line\n"
          ]
        }
      ]
    },
    {
      "cell_type": "code",
      "source": [
        "address = '''존경하는 국민 여러분,\n",
        "\n",
        "대통령으로서 무거운 짐을 내려놓습니다.\n",
        "그동안 과분한 사랑과 지지로 성원해 주신 국민 여러분께 무한한 감사의 말씀을 드립니다.\n",
        "저는 이제 평범한 시민의 삶으로 돌아가 국민 모두의 행복을 기원하며  성공하는 대한민국의 역사를 응원하겠습니다. \n",
        "\n",
        "지난 5년은 국민과 함께 격동하는 세계사의 한복판에서 연속되는 국가적 위기를 헤쳐온 시기였습니다.\n",
        "힘들었지만 우리 국민들은 위기 앞에 하나가 되어주셨습니다.\n",
        "대한민국은 위기 속에서 더욱 강해졌고, 더 큰 도약을 이뤘습니다.\n",
        "대한민국의 국격도 높아졌습니다.\n",
        "대한민국은 이제 선진국이며, 선도국가가 되었습니다.\n",
        "우리 국민은 참으로 위대합니다.\n",
        "저는 위대한 국민과 함께한 것이 더 없이 자랑스럽습니다.\n",
        "저의 퇴임사는 위대한 국민께 바치는 헌사입니다.\n",
        "\n",
        "국정농단 사건으로 헌정질서가 무너졌을 때 우리 국민은 가장 평화적이고 문화적인 촛불집회를 통해, 그리고 헌법과 법률이 정한 탄핵이라는 적법절차에 따라, 정부를 교체하고 민주주의를 다시 일으켜 세웠습니다.\n",
        "전 세계가 한국 국민들의 성숙함에 찬탄을 보냈습니다.\n",
        "우리 국민은 위기를 겪고 있는 세계 민주주의에 희망이 되었습니다.\n",
        "나라다운 나라를 요구한 촛불광장의 열망에 우리 정부가 얼마나 부응했는지 숙연한 마음이 됩니다.\n",
        "그러나 우리 정부가 다 이루지 못했더라도, 나라다운 나라를 향한 국민의 열망은 결코 멈추지 않을 것입니다.\n",
        "촛불의 염원은 여전히 우리의 희망이자 동력으로 피어날 것입니다.\n",
        "\n",
        "우리 국민은 평창동계올림픽을 평화올림픽으로 성공시켜 냈습니다.\n",
        "세계가 또다시 대한민국에 열광했습니다.\n",
        "임기 초부터 고조되던 한반도의 전쟁위기 상황을 대화와 외교의 국면으로 전환시키며, 평화와 번영의 새로운 한반도 시대에 대한 희망을 키웠습니다.\n",
        "\n",
        "더 이상 앞으로 나아가지 못한 것은 우리의 의지와 노력이 부족한 탓 만은 아니었습니다.\n",
        "한편으로 우리의 의지만으로 넘기 힘든 장벽이 있었습니다.\n",
        "우리가 넘어야 할 벽입니다.\n",
        "평화는 우리에게 생존의 조건이고, 번영의 조건입니다.\n",
        "남북 간에 대화 재개와 함께 비핵화와 평화의 제도화를 위한 노력이 지속되길 간절히 바랍니다.\n",
        "\n",
        "일본의 부당한 수출규제로 인한 위기를 온 국민의 단합된 힘으로 극복해 낸 것도 결코 잊을 수 없습니다.\n",
        "우리는 소·부·장 자립의 기회로 삼았고, 소·부·장 산업의 경쟁력 강화는 제조업의 경쟁력 강화로 이어졌습니다.\n",
        "우리가 코로나19로 인한 세계 경기의 침체 속에서 사상 최대의 수출 실적을 올릴 수 있었던 것도 우리 제조업이 가진 세계적인 경쟁력 덕분이었습니다.\n",
        "\n",
        "무엇보다 좋았던 것은 우리가 문제해결의 성공방식을 알게 된 것입니다.\n",
        "정부 부처를 뛰어넘는 협업체계, 대·중소 기업과 연구자들의 협력, 정부의 적극적인 R&D투자와 규제를 허문 전폭적인 지원, 그리고 무엇보다도 온 국민의 격려와 성원이 우리도 할 수 있다는 자신감을 주었습니다.\n",
        "\n",
        "그 성공의 방식은 뒷날 코로나 진단키트를 개발할 때도, 마스크 생산을 빠르게 늘릴 때도, 백신 접종용 특수 주사기의 효율을 높일 때도, 요소수 부족사태를 해결할 때도 똑같이 작동하였습니다.\n",
        "\n",
        "\n",
        "국민 여러분,\n",
        "\n",
        "제가 마지막으로 받은 코로나19 대처상황보고서는 969보였습니다.\n",
        "국내에서 코로나 확진자가 처음 판명된 2020년 1월 20일부터, 휴일이나 해외 순방 중에도 빠지지 않고 매일 눈뜨면서 처음 읽었고, 상황이 엄중할 때는 하루에 몇 개씩 올라왔던 보고서가 969보까지 이어졌습니다.\n",
        "그 속에는 정부와 방역진, 의료진의 노고와 헌신이 담겨있습니다.\n",
        "오랜 기간 계속된 국민의 고통과 고단한 삶이 생생하게 담겨있습니다.\n",
        "국민도, 정부도, 대통령도 정말 고생 많았습니다.\n",
        "그러나, 저는 위기 때 더욱 강해지는 우리 국민의 높은 역량에 끊임없이 감동받았습니다.\n",
        "\n",
        "우리 정부 동안 있었던 많은 자랑스러운 일들이 대부분 코로나 위기 상황 속에서 일어났다는 것이 너무나 놀랍습니다.\n",
        "그야말로 위기에 강한 대한민국의 저력이었습니다.\n",
        "전 세계가 함께 코로나 위기를 겪고 보니, 대한민국은 뜻밖에 세계에서 앞서가는 방역 모범국가였습니다.\n",
        "선진국의 방역과 의료 수준을 부러워했었는데, 막상 위기를 겪어보니 우리가 제일 잘하는 편이었습니다.\n",
        "아직도 우리가 약하고 뒤떨어졌다고 생각해온 많은 국민들이 우리 자신을 재발견하며 자존감을 가지게 되었습니다.\n",
        "\n",
        "코로나 위기 속에서 한국은 가장 빠르게 경제를 회복했고, 1인당 국민소득 3만 5천 달러로 크게 성장했습니다.\n",
        "한국의 한류 문화는 전 세계가 코로나로 고통받을 때 더욱 돋보였고, 세계인들에게 위로를 주었습니다.\n",
        "우리 정부가 코로나 위기 속에서 선언한 한국판 뉴딜은 한국을 디지털과 혁신 등 첨단 과학기술 분야의 강국으로 각인시켰고, 그린 뉴딜과 탄소중립 선언은 기후위기 대응과 국제협력에서 한국을 선도국가로 만들었습니다.\n",
        "코로나 위기를 겪으면서 대한민국은 어느덧 민주주의, 경제, 수출, 디지털, 혁신, 방역, 보건의료, 문화, 군사력, 방산, 기후위기 대응, 외교와 국제협력 등 많은 분야에서 선도국가가 되어 있었습니다.\n",
        "\n",
        "마침내 우리는 마스크를 벗고 얼굴을 마주보게 되었습니다.\n",
        "코로나 감염병 등급을 1등급에서 2등급으로 낮출 수 있게 되었습니다.\n",
        "아직 위기는 끝나는 않았습니다.\n",
        "새로운 위기가 닥치고 있습니다.\n",
        "그러나 우리 국민들은 어떤 위기라도 이겨낼 것이며, 위기를 기회로 만들어 낼 것입니다.\n",
        "\n",
        "\n",
        "국민 여러분,\n",
        "\n",
        "대한민국 성공의 역사는 온갖 시련과 역경을 딛고 일어선 것이기에 더욱 값집니다.\n",
        "우리나라는 2차 세계대전 후 지난 70년간 세계에서 가장 성공한 나라, 2차 세계대전 후 개발도상국에서 선진국으로 진입한 유일한 나라가 되었습니다.\n",
        "누구도 부정 못 할 빛나는 대한민국의 업적이며 자부심입니다.\n",
        "\n",
        "우리 정부도 국민과 함께 위기를 극복하고 선도국가로 도약함으로써 대한민국의 국격과 자부심을 한 단계 더 높일 수 있게 되어 매우 감사한 마음입니다.\n",
        "대한민국은 세계적인 위기 속에서 ‘위기에 강한 나라’, ‘아무도 흔들 수 없는 나라’, ‘세계를 선도하는 나라’로 도약했습니다.\n",
        "\n",
        "그 주역은 단연 우리 국민입니다.\n",
        "대한민국은 세계로부터 인정받고, 부러움을 받는, 그야말로 ‘위대한 국민의 나라’입니다.\n",
        "우리 모두 위대한 국민으로서 높아진 우리의 국격에 당당하게 자부심을 가지시길 바랍니다.\n",
        "\n",
        "저는 위대한 국민과 함께 성공하는 대한민국 역사에 동행하게 된 것이 매우 자랑스럽습니다.\n",
        "위대한 국민과 함께 할 수 있어서 정말 영광이었습니다.\n",
        "\n",
        "다음 정부에서도 성공하는 대한민국의 역사를 계속 이어나가길 기대합니다.\n",
        "이전 정부들의 축적된 성과를 계승하고 발전시켜 더 국력이 커지고 더 나은 미래로 나아가길 기원합니다.\n",
        "국민의 마음을 하나로 모으는 것이 무엇보다 중요합니다.\n",
        "선거 과정에서 더욱 깊어진 갈등의 골을 메우며 국민 통합의 길로 나아갈 때 대한민국은 진정한 성공의 길로 더욱 힘차게 전진할 것입니다.\n",
        "\n",
        "감사합니다. '''"
      ],
      "metadata": {
        "id": "gWxDwfQPwERk"
      },
      "execution_count": null,
      "outputs": []
    },
    {
      "cell_type": "code",
      "source": [
        "address"
      ],
      "metadata": {
        "colab": {
          "base_uri": "https://localhost:8080/",
          "height": 401
        },
        "id": "qfvvZYfNwpo1",
        "outputId": "207b87f9-96cf-4ed7-a00a-5a9fca7f0737"
      },
      "execution_count": null,
      "outputs": [
        {
          "output_type": "execute_result",
          "data": {
            "text/plain": [
              "'존경하는 국민 여러분,\\n\\n대통령으로서 무거운 짐을 내려놓습니다.\\n그동안 과분한 사랑과 지지로 성원해 주신 국민 여러분께 무한한 감사의 말씀을 드립니다.\\n저는 이제 평범한 시민의 삶으로 돌아가 국민 모두의 행복을 기원하며  성공하는 대한민국의 역사를 응원하겠습니다. \\n\\n지난 5년은 국민과 함께 격동하는 세계사의 한복판에서 연속되는 국가적 위기를 헤쳐온 시기였습니다.\\n힘들었지만 우리 국민들은 위기 앞에 하나가 되어주셨습니다.\\n대한민국은 위기 속에서 더욱 강해졌고, 더 큰 도약을 이뤘습니다.\\n대한민국의 국격도 높아졌습니다.\\n대한민국은 이제 선진국이며, 선도국가가 되었습니다.\\n우리 국민은 참으로 위대합니다.\\n저는 위대한 국민과 함께한 것이 더 없이 자랑스럽습니다.\\n저의 퇴임사는 위대한 국민께 바치는 헌사입니다.\\n\\n국정농단 사건으로 헌정질서가 무너졌을 때 우리 국민은 가장 평화적이고 문화적인 촛불집회를 통해, 그리고 헌법과 법률이 정한 탄핵이라는 적법절차에 따라, 정부를 교체하고 민주주의를 다시 일으켜 세웠습니다.\\n전 세계가 한국 국민들의 성숙함에 찬탄을 보냈습니다.\\n우리 국민은 위기를 겪고 있는 세계 민주주의에 희망이 되었습니다.\\n나라다운 나라를 요구한 촛불광장의 열망에 우리 정부가 얼마나 부응했는지 숙연한 마음이 됩니다.\\n그러나 우리 정부가 다 이루지 못했더라도, 나라다운 나라를 향한 국민의 열망은 결코 멈추지 않을 것입니다.\\n촛불의 염원은 여전히 우리의 희망이자 동력으로 피어날 것입니다.\\n\\n우리 국민은 평창동계올림픽을 평화올림픽으로 성공시켜 냈습니다.\\n세계가 또다시 대한민국에 열광했습니다.\\n임기 초부터 고조되던 한반도의 전쟁위기 상황을 대화와 외교의 국면으로 전환시키며, 평화와 번영의 새로운 한반도 시대에 대한 희망을 키웠습니다.\\n\\n더 이상 앞으로 나아가지 못한 것은 우리의 의지와 노력이 부족한 탓 만은 아니었습니다.\\n한편으로 우리의 의지만으로 넘기 힘든 장벽이 있었습니다.\\n우리가 넘어야 할 벽입니다.\\n평화는 우리에게 생존의 조건이고, 번영의 조건입니다.\\n남북 간에 대화 재개와 함께 비핵화와 평화의 제도화를 위한 노력이 지속되길 간절히 바랍니다.\\n\\n일본의 부당한 수출규제로 인한 위기를 온 국민의 단합된 힘으로 극복해 낸 것도 결코 잊을 수 없습니다.\\n우리는 소·부·장 자립의 기회로 삼았고, 소·부·장 산업의 경쟁력 강화는 제조업의 경쟁력 강화로 이어졌습니다.\\n우리가 코로나19로 인한 세계 경기의 침체 속에서 사상 최대의 수출 실적을 올릴 수 있었던 것도 우리 제조업이 가진 세계적인 경쟁력 덕분이었습니다.\\n\\n무엇보다 좋았던 것은 우리가 문제해결의 성공방식을 알게 된 것입니다.\\n정부 부처를 뛰어넘는 협업체계, 대·중소 기업과 연구자들의 협력, 정부의 적극적인 R&D투자와 규제를 허문 전폭적인 지원, 그리고 무엇보다도 온 국민의 격려와 성원이 우리도 할 수 있다는 자신감을 주었습니다.\\n\\n그 성공의 방식은 뒷날 코로나 진단키트를 개발할 때도, 마스크 생산을 빠르게 늘릴 때도, 백신 접종용 특수 주사기의 효율을 높일 때도, 요소수 부족사태를 해결할 때도 똑같이 작동하였습니다.\\n\\n\\n국민 여러분,\\n\\n제가 마지막으로 받은 코로나19 대처상황보고서는 969보였습니다.\\n국내에서 코로나 확진자가 처음 판명된 2020년 1월 20일부터, 휴일이나 해외 순방 중에도 빠지지 않고 매일 눈뜨면서 처음 읽었고, 상황이 엄중할 때는 하루에 몇 개씩 올라왔던 보고서가 969보까지 이어졌습니다.\\n그 속에는 정부와 방역진, 의료진의 노고와 헌신이 담겨있습니다.\\n오랜 기간 계속된 국민의 고통과 고단한 삶이 생생하게 담겨있습니다.\\n국민도, 정부도, 대통령도 정말 고생 많았습니다.\\n그러나, 저는 위기 때 더욱 강해지는 우리 국민의 높은 역량에 끊임없이 감동받았습니다.\\n\\n우리 정부 동안 있었던 많은 자랑스러운 일들이 대부분 코로나 위기 상황 속에서 일어났다는 것이 너무나 놀랍습니다.\\n그야말로 위기에 강한 대한민국의 저력이었습니다.\\n전 세계가 함께 코로나 위기를 겪고 보니, 대한민국은 뜻밖에 세계에서 앞서가는 방역 모범국가였습니다.\\n선진국의 방역과 의료 수준을 부러워했었는데, 막상 위기를 겪어보니 우리가 제일 잘하는 편이었습니다.\\n아직도 우리가 약하고 뒤떨어졌다고 생각해온 많은 국민들이 우리 자신을 재발견하며 자존감을 가지게 되었습니다.\\n\\n코로나 위기 속에서 한국은 가장 빠르게 경제를 회복했고, 1인당 국민소득 3만 5천 달러로 크게 성장했습니다.\\n한국의 한류 문화는 전 세계가 코로나로 고통받을 때 더욱 돋보였고, 세계인들에게 위로를 주었습니다.\\n우리 정부가 코로나 위기 속에서 선언한 한국판 뉴딜은 한국을 디지털과 혁신 등 첨단 과학기술 분야의 강국으로 각인시켰고, 그린 뉴딜과 탄소중립 선언은 기후위기 대응과 국제협력에서 한국을 선도국가로 만들었습니다.\\n코로나 위기를 겪으면서 대한민국은 어느덧 민주주의, 경제, 수출, 디지털, 혁신, 방역, 보건의료, 문화, 군사력, 방산, 기후위기 대응, 외교와 국제협력 등 많은 분야에서 선도국가가 되어 있었습니다.\\n\\n마침내 우리는 마스크를 벗고 얼굴을 마주보게 되었습니다.\\n코로나 감염병 등급을 1등급에서 2등급으로 낮출 수 있게 되었습니다.\\n아직 위기는 끝나는 않았습니다.\\n새로운 위기가 닥치고 있습니다.\\n그러나 우리 국민들은 어떤 위기라도 이겨낼 것이며, 위기를 기회로 만들어 낼 것입니다.\\n\\n\\n국민 여러분,\\n\\n대한민국 성공의 역사는 온갖 시련과 역경을 딛고 일어선 것이기에 더욱 값집니다.\\n우리나라는 2차 세계대전 후 지난 70년간 세계에서 가장 성공한 나라, 2차 세계대전 후 개발도상국에서 선진국으로 진입한 유일한 나라가 되었습니다.\\n누구도 부정 못 할 빛나는 대한민국의 업적이며 자부심입니다.\\n\\n우리 정부도 국민과 함께 위기를 극복하고 선도국가로 도약함으로써 대한민국의 국격과 자부심을 한 단계 더 높일 수 있게 되어 매우 감사한 마음입니다.\\n대한민국은 세계적인 위기 속에서 ‘위기에 강한 나라’, ‘아무도 흔들 수 없는 나라’, ‘세계를 선도하는 나라’로 도약했습니다.\\n\\n그 주역은 단연 우리 국민입니다.\\n대한민국은 세계로부터 인정받고, 부러움을 받는, 그야말로 ‘위대한 국민의 나라’입니다.\\n우리 모두 위대한 국민으로서 높아진 우리의 국격에 당당하게 자부심을 가지시길 바랍니다.\\n\\n저는 위대한 국민과 함께 성공하는 대한민국 역사에 동행하게 된 것이 매우 자랑스럽습니다.\\n위대한 국민과 함께 할 수 있어서 정말 영광이었습니다.\\n\\n다음 정부에서도 성공하는 대한민국의 역사를 계속 이어나가길 기대합니다.\\n이전 정부들의 축적된 성과를 계승하고 발전시켜 더 국력이 커지고 더 나은 미래로 나아가길 기원합니다.\\n국민의 마음을 하나로 모으는 것이 무엇보다 중요합니다.\\n선거 과정에서 더욱 깊어진 갈등의 골을 메우며 국민 통합의 길로 나아갈 때 대한민국은 진정한 성공의 길로 더욱 힘차게 전진할 것입니다.\\n\\n감사합니다. '"
            ],
            "application/vnd.google.colaboratory.intrinsic+json": {
              "type": "string"
            }
          },
          "metadata": {},
          "execution_count": 283
        }
      ]
    },
    {
      "cell_type": "code",
      "source": [
        "address.count('평화')"
      ],
      "metadata": {
        "colab": {
          "base_uri": "https://localhost:8080/"
        },
        "id": "kc3n7wEzwuD8",
        "outputId": "0cc66cdc-7e65-4a74-f68b-c91136e24fa7"
      },
      "execution_count": null,
      "outputs": [
        {
          "output_type": "execute_result",
          "data": {
            "text/plain": [
              "5"
            ]
          },
          "metadata": {},
          "execution_count": 284
        }
      ]
    },
    {
      "cell_type": "code",
      "source": [
        "address.count('전쟁')"
      ],
      "metadata": {
        "colab": {
          "base_uri": "https://localhost:8080/"
        },
        "id": "1ADmBYMswxWe",
        "outputId": "ad84fae6-9b8f-4832-dd53-0d7e402fdef0"
      },
      "execution_count": null,
      "outputs": [
        {
          "output_type": "execute_result",
          "data": {
            "text/plain": [
              "1"
            ]
          },
          "metadata": {},
          "execution_count": 285
        }
      ]
    },
    {
      "cell_type": "code",
      "source": [
        "address.count('핵')"
      ],
      "metadata": {
        "colab": {
          "base_uri": "https://localhost:8080/"
        },
        "id": "gOOiZ8mLw5H2",
        "outputId": "59a23b1a-2b2b-41fc-d9f0-5fe344f25cb5"
      },
      "execution_count": null,
      "outputs": [
        {
          "output_type": "execute_result",
          "data": {
            "text/plain": [
              "2"
            ]
          },
          "metadata": {},
          "execution_count": 286
        }
      ]
    },
    {
      "cell_type": "code",
      "source": [
        "abab=20"
      ],
      "metadata": {
        "id": "yjbtj0PPxOWg"
      },
      "execution_count": null,
      "outputs": []
    },
    {
      "cell_type": "code",
      "source": [
        "abab"
      ],
      "metadata": {
        "colab": {
          "base_uri": "https://localhost:8080/"
        },
        "id": "bZtuUeArxQUp",
        "outputId": "7ffa0305-4fa1-48f9-a414-2e376b461d1a"
      },
      "execution_count": null,
      "outputs": [
        {
          "output_type": "execute_result",
          "data": {
            "text/plain": [
              "20"
            ]
          },
          "metadata": {},
          "execution_count": 289
        }
      ]
    },
    {
      "cell_type": "code",
      "source": [
        "address[:20]"
      ],
      "metadata": {
        "colab": {
          "base_uri": "https://localhost:8080/",
          "height": 35
        },
        "id": "5pv1haSMxVvk",
        "outputId": "1b56a56a-a04e-48b9-c32f-fa7f07bc692d"
      },
      "execution_count": null,
      "outputs": [
        {
          "output_type": "execute_result",
          "data": {
            "text/plain": [
              "'존경하는 국민 여러분,\\n\\n대통령으로서'"
            ],
            "application/vnd.google.colaboratory.intrinsic+json": {
              "type": "string"
            }
          },
          "metadata": {},
          "execution_count": 290
        }
      ]
    },
    {
      "cell_type": "code",
      "source": [
        "len(address)"
      ],
      "metadata": {
        "colab": {
          "base_uri": "https://localhost:8080/"
        },
        "id": "NmRhV_qiyDNX",
        "outputId": "b03e2606-10ab-4fd7-d6c2-c245272341ac"
      },
      "execution_count": null,
      "outputs": [
        {
          "output_type": "execute_result",
          "data": {
            "text/plain": [
              "3350"
            ]
          },
          "metadata": {},
          "execution_count": 291
        }
      ]
    },
    {
      "cell_type": "code",
      "source": [
        "a=[1,2,3,4]"
      ],
      "metadata": {
        "id": "dIpw8EQZyFZ0"
      },
      "execution_count": null,
      "outputs": []
    },
    {
      "cell_type": "code",
      "source": [
        "len(a)"
      ],
      "metadata": {
        "colab": {
          "base_uri": "https://localhost:8080/"
        },
        "id": "4mPKCCG-yG5c",
        "outputId": "82d29a3a-70b3-4b26-e1c4-87760f4b1a5e"
      },
      "execution_count": null,
      "outputs": [
        {
          "output_type": "execute_result",
          "data": {
            "text/plain": [
              "4"
            ]
          },
          "metadata": {},
          "execution_count": 293
        }
      ]
    },
    {
      "cell_type": "code",
      "source": [
        "address[0],address[1]"
      ],
      "metadata": {
        "colab": {
          "base_uri": "https://localhost:8080/"
        },
        "id": "pEiFQDWNyYMC",
        "outputId": "47c31e35-d781-46c8-cad6-641daf9832af"
      },
      "execution_count": null,
      "outputs": [
        {
          "output_type": "execute_result",
          "data": {
            "text/plain": [
              "('존', '경')"
            ]
          },
          "metadata": {},
          "execution_count": 294
        }
      ]
    },
    {
      "cell_type": "code",
      "source": [
        "len(address)"
      ],
      "metadata": {
        "colab": {
          "base_uri": "https://localhost:8080/"
        },
        "id": "DjFTTFdrybIw",
        "outputId": "2e0b1479-8db7-46cb-ac2c-f76c925d2ece"
      },
      "execution_count": null,
      "outputs": [
        {
          "output_type": "execute_result",
          "data": {
            "text/plain": [
              "3350"
            ]
          },
          "metadata": {},
          "execution_count": 295
        }
      ]
    },
    {
      "cell_type": "code",
      "source": [
        "address[0],address[1:4]"
      ],
      "metadata": {
        "colab": {
          "base_uri": "https://localhost:8080/"
        },
        "id": "RsYX0TfJykk1",
        "outputId": "2a76486c-1e69-4c6c-b7aa-e040b0c1c730"
      },
      "execution_count": null,
      "outputs": [
        {
          "output_type": "execute_result",
          "data": {
            "text/plain": [
              "('존', '경하는')"
            ]
          },
          "metadata": {},
          "execution_count": 296
        }
      ]
    },
    {
      "cell_type": "code",
      "source": [
        "type(address[:20])"
      ],
      "metadata": {
        "colab": {
          "base_uri": "https://localhost:8080/"
        },
        "id": "wjrmbOqJynxY",
        "outputId": "459dba7c-d959-469f-e6c5-491ca30745dc"
      },
      "execution_count": null,
      "outputs": [
        {
          "output_type": "execute_result",
          "data": {
            "text/plain": [
              "str"
            ]
          },
          "metadata": {},
          "execution_count": 298
        }
      ]
    },
    {
      "cell_type": "code",
      "source": [
        "address[:20].replace('\\n',' ')"
      ],
      "metadata": {
        "colab": {
          "base_uri": "https://localhost:8080/",
          "height": 35
        },
        "id": "YjB7QsTuzhEN",
        "outputId": "b90906c4-42ff-42a5-fd23-28d03816253d"
      },
      "execution_count": null,
      "outputs": [
        {
          "output_type": "execute_result",
          "data": {
            "text/plain": [
              "'존경하는 국민 여러분,  대통령으로서'"
            ],
            "application/vnd.google.colaboratory.intrinsic+json": {
              "type": "string"
            }
          },
          "metadata": {},
          "execution_count": 305
        }
      ]
    },
    {
      "cell_type": "code",
      "source": [
        "address[:20].replace('\\n',' ').replace('  ',' ')"
      ],
      "metadata": {
        "colab": {
          "base_uri": "https://localhost:8080/",
          "height": 35
        },
        "id": "TX0-kCPMytwh",
        "outputId": "1136695b-e214-4de8-d284-ed584e8c9ef8"
      },
      "execution_count": null,
      "outputs": [
        {
          "output_type": "execute_result",
          "data": {
            "text/plain": [
              "'존경하는 국민 여러분, 대통령으로서'"
            ],
            "application/vnd.google.colaboratory.intrinsic+json": {
              "type": "string"
            }
          },
          "metadata": {},
          "execution_count": 306
        }
      ]
    },
    {
      "cell_type": "code",
      "source": [
        "def summation(a,b):\n",
        "  '''\n",
        "  a: int, real, str\n",
        "  b: int, real, str\n",
        "  a+b == summation(a,b)\n",
        "  ex>\n",
        "  '''\n",
        "  return a+b"
      ],
      "metadata": {
        "id": "qGK0nL8A3Tsz"
      },
      "execution_count": null,
      "outputs": []
    },
    {
      "cell_type": "code",
      "source": [
        "age=21\n",
        "line = \"살 입니다\"\n",
        "\n",
        "str(age)+line"
      ],
      "metadata": {
        "colab": {
          "base_uri": "https://localhost:8080/",
          "height": 35
        },
        "id": "r6BWo52W4xzm",
        "outputId": "9a1f01c5-ab92-456c-c65b-c920265306a5"
      },
      "execution_count": null,
      "outputs": [
        {
          "output_type": "execute_result",
          "data": {
            "text/plain": [
              "'21살 입니다'"
            ],
            "application/vnd.google.colaboratory.intrinsic+json": {
              "type": "string"
            }
          },
          "metadata": {},
          "execution_count": 310
        }
      ]
    },
    {
      "cell_type": "code",
      "source": [
        "a= 'Strings in Python'\n",
        "a[0]\n",
        "a[7]\n",
        "a[16]"
      ],
      "metadata": {
        "colab": {
          "base_uri": "https://localhost:8080/",
          "height": 35
        },
        "id": "cDqX5L_c5Q5S",
        "outputId": "5f8c6991-54ec-4533-d16d-fb88512f291e"
      },
      "execution_count": null,
      "outputs": [
        {
          "output_type": "execute_result",
          "data": {
            "text/plain": [
              "'n'"
            ],
            "application/vnd.google.colaboratory.intrinsic+json": {
              "type": "string"
            }
          },
          "metadata": {},
          "execution_count": 313
        }
      ]
    },
    {
      "cell_type": "code",
      "source": [
        "short_string = address[:20].replace('\\n', ' ').replace('  ',' ')"
      ],
      "metadata": {
        "id": "MsP2bt-35zw4"
      },
      "execution_count": null,
      "outputs": []
    },
    {
      "cell_type": "code",
      "source": [
        "short_string"
      ],
      "metadata": {
        "colab": {
          "base_uri": "https://localhost:8080/",
          "height": 35
        },
        "id": "tRxx6Xow59B4",
        "outputId": "d0d798e8-130e-4455-a043-3df631b63667"
      },
      "execution_count": null,
      "outputs": [
        {
          "output_type": "execute_result",
          "data": {
            "text/plain": [
              "'존경하는 국민 여러분, 대통령으로서'"
            ],
            "application/vnd.google.colaboratory.intrinsic+json": {
              "type": "string"
            }
          },
          "metadata": {},
          "execution_count": 315
        }
      ]
    },
    {
      "cell_type": "code",
      "source": [
        "short_string[-2]"
      ],
      "metadata": {
        "colab": {
          "base_uri": "https://localhost:8080/",
          "height": 35
        },
        "id": "5pBqkTi75_Xj",
        "outputId": "e347b44c-889c-4cf1-c1cd-a458062fd117"
      },
      "execution_count": null,
      "outputs": [
        {
          "output_type": "execute_result",
          "data": {
            "text/plain": [
              "'로'"
            ],
            "application/vnd.google.colaboratory.intrinsic+json": {
              "type": "string"
            }
          },
          "metadata": {},
          "execution_count": 316
        }
      ]
    },
    {
      "cell_type": "code",
      "source": [
        "a=1"
      ],
      "metadata": {
        "id": "zqRrt_mm6CKv"
      },
      "execution_count": null,
      "outputs": []
    },
    {
      "cell_type": "code",
      "source": [
        "type(a)"
      ],
      "metadata": {
        "colab": {
          "base_uri": "https://localhost:8080/"
        },
        "id": "EZViS57S6DeU",
        "outputId": "8367df74-be3f-43dd-cba9-8e6773f73d2c"
      },
      "execution_count": null,
      "outputs": [
        {
          "output_type": "execute_result",
          "data": {
            "text/plain": [
              "int"
            ]
          },
          "metadata": {},
          "execution_count": 318
        }
      ]
    },
    {
      "cell_type": "code",
      "source": [
        "a='string'\n",
        "type(a)"
      ],
      "metadata": {
        "colab": {
          "base_uri": "https://localhost:8080/"
        },
        "id": "hh8j8oJN6Ey1",
        "outputId": "9d25ba03-3726-434f-e78c-641ede039a96"
      },
      "execution_count": null,
      "outputs": [
        {
          "output_type": "execute_result",
          "data": {
            "text/plain": [
              "str"
            ]
          },
          "metadata": {},
          "execution_count": 320
        }
      ]
    },
    {
      "cell_type": "code",
      "source": [
        "for i  in short_string:\n",
        "  print(i, end='')"
      ],
      "metadata": {
        "colab": {
          "base_uri": "https://localhost:8080/"
        },
        "id": "rLrtFd-C6eFt",
        "outputId": "dc787bd3-3aef-4c9e-e1f3-da031e789c3e"
      },
      "execution_count": null,
      "outputs": [
        {
          "output_type": "stream",
          "name": "stdout",
          "text": [
            "존경하는 국민 여러분, 대통령으로서"
          ]
        }
      ]
    },
    {
      "cell_type": "code",
      "source": [
        "for i in [12,3,45]:\n",
        "  print(i)"
      ],
      "metadata": {
        "colab": {
          "base_uri": "https://localhost:8080/"
        },
        "id": "ETHNWwxf63tU",
        "outputId": "cef054d7-50a7-4a03-8467-0a17b2cab3ae"
      },
      "execution_count": null,
      "outputs": [
        {
          "output_type": "stream",
          "name": "stdout",
          "text": [
            "12\n",
            "3\n",
            "45\n"
          ]
        }
      ]
    },
    {
      "cell_type": "code",
      "source": [
        "short_string[:12]"
      ],
      "metadata": {
        "colab": {
          "base_uri": "https://localhost:8080/",
          "height": 35
        },
        "id": "hfalFPkJ9MWu",
        "outputId": "ce6c5a33-2169-4551-8bb3-2ea38949b478"
      },
      "execution_count": null,
      "outputs": [
        {
          "output_type": "execute_result",
          "data": {
            "text/plain": [
              "'존경하는 국민 여러분,'"
            ],
            "application/vnd.google.colaboratory.intrinsic+json": {
              "type": "string"
            }
          },
          "metadata": {},
          "execution_count": 325
        }
      ]
    },
    {
      "cell_type": "code",
      "source": [
        ""
      ],
      "metadata": {
        "id": "VxQ-cP539f5_"
      },
      "execution_count": null,
      "outputs": []
    },
    {
      "cell_type": "code",
      "source": [
        "start=1\n",
        "end=15\n",
        "step=2\n",
        "short_string[start:end:step]"
      ],
      "metadata": {
        "colab": {
          "base_uri": "https://localhost:8080/",
          "height": 35
        },
        "id": "7myBiTft9Pbh",
        "outputId": "f72d88d3-dee9-43da-feae-4e03f07a54c3"
      },
      "execution_count": null,
      "outputs": [
        {
          "output_type": "execute_result",
          "data": {
            "text/plain": [
              "'경는국 러,대'"
            ],
            "application/vnd.google.colaboratory.intrinsic+json": {
              "type": "string"
            }
          },
          "metadata": {},
          "execution_count": 329
        }
      ]
    },
    {
      "cell_type": "code",
      "source": [
        "for i in range(1,20):\n",
        "  i=-1*i\n",
        "  print(i, '=' ,short_string[i])"
      ],
      "metadata": {
        "colab": {
          "base_uri": "https://localhost:8080/"
        },
        "id": "-JSqJat5-rgJ",
        "outputId": "5f6165da-2ed1-45f0-ec5d-96110884d69d"
      },
      "execution_count": null,
      "outputs": [
        {
          "output_type": "stream",
          "name": "stdout",
          "text": [
            "-1 = 서\n",
            "-2 = 로\n",
            "-3 = 으\n",
            "-4 = 령\n",
            "-5 = 통\n",
            "-6 = 대\n",
            "-7 =  \n",
            "-8 = ,\n",
            "-9 = 분\n",
            "-10 = 러\n",
            "-11 = 여\n",
            "-12 =  \n",
            "-13 = 민\n",
            "-14 = 국\n",
            "-15 =  \n",
            "-16 = 는\n",
            "-17 = 하\n",
            "-18 = 경\n",
            "-19 = 존\n"
          ]
        }
      ]
    }
  ]
}