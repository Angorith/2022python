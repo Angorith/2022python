{
  "nbformat": 4,
  "nbformat_minor": 0,
  "metadata": {
    "colab": {
      "name": "0809 64일차 ML(LDA, 특잇값 분해 1과).ipynb",
      "provenance": [],
      "collapsed_sections": [],
      "authorship_tag": "ABX9TyMiMnodrqIqX8gie5bdsoPc",
      "include_colab_link": true
    },
    "kernelspec": {
      "name": "python3",
      "display_name": "Python 3"
    },
    "language_info": {
      "name": "python"
    }
  },
  "cells": [
    {
      "cell_type": "markdown",
      "metadata": {
        "id": "view-in-github",
        "colab_type": "text"
      },
      "source": [
        "<a href=\"https://colab.research.google.com/github/myungjinma/acorn_python/blob/main/0809_64%EC%9D%BC%EC%B0%A8_ML(LDA%2C_%ED%8A%B9%EC%9E%87%EA%B0%92_%EB%B6%84%ED%95%B4_1%EA%B3%BC).ipynb\" target=\"_parent\"><img src=\"https://colab.research.google.com/assets/colab-badge.svg\" alt=\"Open In Colab\"/></a>"
      ]
    },
    {
      "cell_type": "markdown",
      "source": [
        "#선형판별식 LDA"
      ],
      "metadata": {
        "id": "52dzvLge6VGD"
      }
    },
    {
      "cell_type": "code",
      "execution_count": 1,
      "metadata": {
        "id": "GiYac3pQ4aOM"
      },
      "outputs": [],
      "source": [
        "import pandas as pd\n",
        "import numpy as np\n",
        "import matplotlib.pyplot as plt\n",
        "%matplotlib inline"
      ]
    },
    {
      "cell_type": "markdown",
      "source": [
        "#Linear Discriminant Analysis\n",
        "\n",
        ":데이터를 잘 분리해 낼 수 있는 축을 찾는다.\n",
        "- 클래스 간의 거리는 최대화\n",
        "- 같은 클래스에서의 내부 분산은 최소화 시키는 방식으로 찾음\n",
        "\n",
        "1. 클래스간 거리 최대화 => 두 클래스의 평균 (m1, m2)이 제일 먼 축(w)를 잡는다.\n",
        "$$\n",
        "(m_1 -m_2)^2\n",
        "$$\n",
        "2. 클래스 내부의 분산을 최소화 => 두 클래스의 분산 (S1, S2)이 제일 작게하는 조건을 찾는다.\n",
        "\n",
        "$$\n",
        "s_1^2 + s_2^2\n",
        "$$\n",
        "\n",
        "$$\n",
        "J(w) = {(m_1 -m_2)^2 \\over s_1^2 + s_2^2} = {w^TS_B W \\over w^Ts_b w}\n",
        "$$\n",
        "\n",
        "$$\n",
        "S_W : 클래스 내부 분산\n",
        "$$\n",
        "\n",
        "$$\n",
        "S_B : 클래슥간 분산\n",
        "$$"
      ],
      "metadata": {
        "id": "5_hN5cG86h9L"
      }
    },
    {
      "cell_type": "markdown",
      "source": [
        ""
      ],
      "metadata": {
        "id": "mB0RqWzr76rQ"
      }
    },
    {
      "cell_type": "markdown",
      "source": [
        "#프로그램 적용 방법\n",
        "\n",
        "1. 분산 행렬을 구한다.\n",
        "\n",
        "2. 고유값과 고유벡터를 구한다.\n",
        "\n",
        "3. 고유벡터를 이용해 데이터를 변환한다."
      ],
      "metadata": {
        "id": "A_PB0lX27ocX"
      }
    },
    {
      "cell_type": "code",
      "source": [
        "from sklearn.datasets import make_classification\n",
        "from sklearn.discriminant_analysis import LinearDiscriminantAnalysis\n",
        "from sklearn.preprocessing import StandardScaler\n",
        "from sklearn.model_selection import train_test_split"
      ],
      "metadata": {
        "id": "a8Akekby6SbH"
      },
      "execution_count": 3,
      "outputs": []
    },
    {
      "cell_type": "code",
      "source": [
        "x , y = make_classification(n_samples=500, n_features=2, \n",
        "                            n_informative=1, n_redundant=0, \n",
        "                            n_clusters_per_class=1, n_classes=2, \n",
        "                            random_state=42)\n"
      ],
      "metadata": {
        "id": "N9sZbRvk8Xl9"
      },
      "execution_count": 6,
      "outputs": []
    },
    {
      "cell_type": "markdown",
      "source": [
        "make_classification함수는 설정에 따른 분류용 가상 데이터를 생성하는 명령이다. 이 함수의 인수와 반환값은 다음과 같다.\n",
        "\n",
        "인수:\n",
        "\n",
        "n_samples : 표본 데이터의 수, 디폴트 100\n",
        "\n",
        "n_features : 독립 변수의 수, 디폴트 20\n",
        "\n",
        "n_informative : 독립 변수 중 종속 변수와 상관 관계가 있는 성분의 수, 디폴트 2\n",
        "\n",
        "n_redundant : 독립 변수 중 다른 독립 변수의 선형 조합으로 나타나는 성분의 수, 디폴트 2\n",
        "\n",
        "n_repeated : 독립 변수 중 단순 중복된 성분의 수, 디폴트 0\n",
        "\n",
        "n_classes : 종속 변수의 클래스 수, 디폴트 2\n",
        "\n",
        "n_clusters_per_class : 클래스 당 클러스터의 수, 디폴트 2\n",
        "\n",
        "weights : 각 클래스에 할당된 표본 수\n",
        "\n",
        "random_state : 난수 발생 시드\n",
        "\n",
        "반환값:\n",
        "\n",
        "X : [n_samples, n_features] 크기의 배열\n",
        "\n",
        "독립 변수\n",
        "\n",
        "y : [n_samples] 크기의 배열\n",
        "\n",
        "종속 변수"
      ],
      "metadata": {
        "id": "itTnL6UE92kX"
      }
    },
    {
      "cell_type": "code",
      "source": [
        "train_input, test_input, train_target, test_target = train_test_split(x, y, random_state=42)"
      ],
      "metadata": {
        "id": "01M3sMko9Pmp"
      },
      "execution_count": 8,
      "outputs": []
    },
    {
      "cell_type": "code",
      "source": [
        "scaler = StandardScaler()\n",
        "scaler.fit(train_input)\n",
        "train_scaled = scaler.transform(train_input)\n",
        "test_scaled = scaler.transform(test_input)"
      ],
      "metadata": {
        "id": "h9atWA2-9hCV"
      },
      "execution_count": 9,
      "outputs": []
    },
    {
      "cell_type": "code",
      "source": [
        "clf = LinearDiscriminantAnalysis()\n",
        "clf.fit(train_scaled, train_target)\n",
        "train_lda = clf.transform(train_scaled)\n",
        "test_lda = clf.transform(test_input)"
      ],
      "metadata": {
        "id": "vzbLJNr59w5w"
      },
      "execution_count": 10,
      "outputs": []
    },
    {
      "cell_type": "code",
      "source": [
        "slope = clf.coef_[0,1] / clf.coef_[0,0]\n",
        "t = np.arange(np.min(x[:,0]), np.max(x[:,0]), 0.1)"
      ],
      "metadata": {
        "id": "o6lSiUnH-X51"
      },
      "execution_count": 11,
      "outputs": []
    },
    {
      "cell_type": "code",
      "source": [
        "label0 = y==0\n",
        "label1 = y==1\n",
        "#plt.subplot(1,3,1)\n",
        "plt.plot(t, slope *t , color = 'red')\n",
        "plt.scatter(x[label0, 0], x[label0,1])\n",
        "plt.scatter(x[label1, 0] , x[label1,1])\n",
        "plt.xlim(np.min(x[:,0])-0.1, np.max(x[:,0])+0.1)\n",
        "plt.ylim(np.min(x[:,1])-0.1, np.max(x[:,1])+0.1)\n",
        "plt.xlabel('feature #1')\n",
        "plt.ylabel('feature #2')\n",
        "\n",
        "plt.legend(labels=['w', 'class 0', 'class 1'])\n",
        "plt.title('before transform')\n",
        "\n",
        "plt.figure()\n",
        "plt.hist(train_lda[train_target==0], 100)\n",
        "plt.hist(train_lda[train_target==1], 100)\n",
        "plt.title('train data')\n",
        "\n",
        "plt.figure()\n",
        "plt.hist(test_lda[test_target==0], 100)\n",
        "plt.hist(test_lda[test_target==1], 100)\n",
        "plt.title('test data')\n"
      ],
      "metadata": {
        "colab": {
          "base_uri": "https://localhost:8080/",
          "height": 841
        },
        "id": "ZbbX7SZ6_BZM",
        "outputId": "b41bdb3f-5c0f-40f1-c9bb-d20f1ea5845c"
      },
      "execution_count": 13,
      "outputs": [
        {
          "output_type": "execute_result",
          "data": {
            "text/plain": [
              "Text(0.5, 1.0, 'test data')"
            ]
          },
          "metadata": {},
          "execution_count": 13
        },
        {
          "output_type": "display_data",
          "data": {
            "text/plain": [
              "<Figure size 432x288 with 1 Axes>"
            ],
            "image/png": "[encoded data removed]"
          },
          "metadata": {
            "needs_background": "light"
          }
        },
        {
          "output_type": "display_data",
          "data": {
            "text/plain": [
              "<Figure size 432x288 with 1 Axes>"
            ],
            "image/png": "[encoded data removed]"
          },
          "metadata": {
            "needs_background": "light"
          }
        },
        {
          "output_type": "display_data",
          "data": {
            "text/plain": [
              "<Figure size 432x288 with 1 Axes>"
            ],
            "image/png": "[encoded data removed]"
          },
          "metadata": {
            "needs_background": "light"
          }
        }
      ]
    },
    {
      "cell_type": "code",
      "source": [
        "from sklearn.datasets import load_iris\n",
        "\n",
        "iris= load_iris()\n",
        "iris_scaled = StandardScaler().fit_transform(iris.data)"
      ],
      "metadata": {
        "id": "BO_RqTR2AQyJ"
      },
      "execution_count": 14,
      "outputs": []
    },
    {
      "cell_type": "code",
      "source": [
        "lda = LinearDiscriminantAnalysis(n_components=2)\n",
        "lda.fit(iris_scaled, iris.target)\n",
        "iris_lda = lda.transform(iris_scaled)\n",
        "print(iris_lda.shape)"
      ],
      "metadata": {
        "colab": {
          "base_uri": "https://localhost:8080/"
        },
        "id": "Sy2dxxL7DvJw",
        "outputId": "ebd016c0-42ba-4946-c48c-8b2b05d9412a"
      },
      "execution_count": 16,
      "outputs": [
        {
          "output_type": "stream",
          "name": "stdout",
          "text": [
            "(150, 2)\n"
          ]
        }
      ]
    },
    {
      "cell_type": "code",
      "source": [
        "iris_scaled.shape"
      ],
      "metadata": {
        "colab": {
          "base_uri": "https://localhost:8080/"
        },
        "id": "B3BlOdcREBzd",
        "outputId": "01d5a529-c4fb-415f-9193-bc655df546f8"
      },
      "execution_count": 17,
      "outputs": [
        {
          "output_type": "execute_result",
          "data": {
            "text/plain": [
              "(150, 4)"
            ]
          },
          "metadata": {},
          "execution_count": 17
        }
      ]
    },
    {
      "cell_type": "code",
      "source": [
        "lda_columns = ['lda_component_1', 'lda_component_2']\n",
        "irisDF_lda = pd.DataFrame(iris_lda, columns= lda_columns)\n",
        "irisDF_lda['target'] = iris.target"
      ],
      "metadata": {
        "id": "4eBsfjWFEhi5"
      },
      "execution_count": 19,
      "outputs": []
    },
    {
      "cell_type": "code",
      "source": [
        "markers=['^', 's', 'o']\n",
        "\n",
        "#pca_component_1 을 x축, pc_component_2 를 y축으로 scatter plot 수행\n",
        "for i, marker in enumerate(markers):\n",
        "    x_axis_data = irisDF_lda[irisDF_lda['target']==i]['lda_component_1']\n",
        "    y_axis_data = irisDF_lda[irisDF_lda['target']==i]['lda_component_2']\n",
        "    plt.scatter(x_axis_data, y_axis_data, marker=marker,label=iris.target_names[i])\n",
        "\n",
        "plt.legend(loc = 'upper right')\n",
        "plt.xlabel('lda_component_1')\n",
        "plt.ylabel('lda_component_2')\n",
        "plt.show()"
      ],
      "metadata": {
        "colab": {
          "base_uri": "https://localhost:8080/",
          "height": 284
        },
        "id": "yD5MwIXhE-ph",
        "outputId": "9a2f36a3-f159-447b-a7bf-71282ce6b779"
      },
      "execution_count": 20,
      "outputs": [
        {
          "output_type": "display_data",
          "data": {
            "text/plain": [
              "<Figure size 432x288 with 1 Axes>"
            ],
            "image/png": "[encoded data removed]"
          },
          "metadata": {
            "needs_background": "light"
          }
        }
      ]
    },
    {
      "cell_type": "code",
      "source": [
        "from sklearn.ensemble import RandomForestClassifier\n",
        "from sklearn.model_selection import cross_val_score"
      ],
      "metadata": {
        "id": "vy_sA0_BHtT0"
      },
      "execution_count": 21,
      "outputs": []
    },
    {
      "cell_type": "code",
      "source": [
        "rcf = RandomForestClassifier(random_state=156)\n",
        "scores = cross_val_score(rcf, iris.data, iris.target, scoring= 'accuracy', cv=3)\n",
        "print('원본 데이터 교차 검증 개별 정확도:', scores)\n",
        "print('원본 데이터 평균 정확도 : ', np.mean(scores))"
      ],
      "metadata": {
        "colab": {
          "base_uri": "https://localhost:8080/"
        },
        "id": "XmzjL0oYINWo",
        "outputId": "06c9d91f-0bc9-479e-a030-527e1b2797c0"
      },
      "execution_count": 23,
      "outputs": [
        {
          "output_type": "stream",
          "name": "stdout",
          "text": [
            "원본 데이터 교차 검증 개별 정확도: [0.98 0.94 0.96]\n",
            "원본 데이터 평균 정확도 :  0.96\n"
          ]
        }
      ]
    },
    {
      "cell_type": "code",
      "source": [
        "lda_X = irisDF_lda[lda_columns]"
      ],
      "metadata": {
        "id": "669t9UTFIg-K"
      },
      "execution_count": 28,
      "outputs": []
    },
    {
      "cell_type": "code",
      "source": [
        "lda_X"
      ],
      "metadata": {
        "colab": {
          "base_uri": "https://localhost:8080/",
          "height": 424
        },
        "id": "vHaYLUkZImqL",
        "outputId": "e65a8139-8f4c-4dd6-a5b2-70380d00a6f1"
      },
      "execution_count": 30,
      "outputs": [
        {
          "output_type": "execute_result",
          "data": {
            "text/plain": [
              "     lda_component_1  lda_component_2\n",
              "0           8.061800         0.300421\n",
              "1           7.128688        -0.786660\n",
              "2           7.489828        -0.265384\n",
              "3           6.813201        -0.670631\n",
              "4           8.132309         0.514463\n",
              "..               ...              ...\n",
              "145        -5.645003         1.677717\n",
              "146        -5.179565        -0.363475\n",
              "147        -4.967741         0.821141\n",
              "148        -5.886145         2.345091\n",
              "149        -4.683154         0.332034\n",
              "\n",
              "[150 rows x 2 columns]"
            ],
            "text/html": [
              "\n",
              "  <div id=\"df-979624e0-1492-4da0-8386-8da50b066bba\">\n",
              "    <div class=\"colab-df-container\">\n",
              "      <div>\n",
              "<style scoped>\n",
              "    .dataframe tbody tr th:only-of-type {\n",
              "        vertical-align: middle;\n",
              "    }\n",
              "\n",
              "    .dataframe tbody tr th {\n",
              "        vertical-align: top;\n",
              "    }\n",
              "\n",
              "    .dataframe thead th {\n",
              "        text-align: right;\n",
              "    }\n",
              "</style>\n",
              "<table border=\"1\" class=\"dataframe\">\n",
              "  <thead>\n",
              "    <tr style=\"text-align: right;\">\n",
              "      <th></th>\n",
              "      <th>lda_component_1</th>\n",
              "      <th>lda_component_2</th>\n",
              "    </tr>\n",
              "  </thead>\n",
              "  <tbody>\n",
              "    <tr>\n",
              "      <th>0</th>\n",
              "      <td>8.061800</td>\n",
              "      <td>0.300421</td>\n",
              "    </tr>\n",
              "    <tr>\n",
              "      <th>1</th>\n",
              "      <td>7.128688</td>\n",
              "      <td>-0.786660</td>\n",
              "    </tr>\n",
              "    <tr>\n",
              "      <th>2</th>\n",
              "      <td>7.489828</td>\n",
              "      <td>-0.265384</td>\n",
              "    </tr>\n",
              "    <tr>\n",
              "      <th>3</th>\n",
              "      <td>6.813201</td>\n",
              "      <td>-0.670631</td>\n",
              "    </tr>\n",
              "    <tr>\n",
              "      <th>4</th>\n",
              "      <td>8.132309</td>\n",
              "      <td>0.514463</td>\n",
              "    </tr>\n",
              "    <tr>\n",
              "      <th>...</th>\n",
              "      <td>...</td>\n",
              "      <td>...</td>\n",
              "    </tr>\n",
              "    <tr>\n",
              "      <th>145</th>\n",
              "      <td>-5.645003</td>\n",
              "      <td>1.677717</td>\n",
              "    </tr>\n",
              "    <tr>\n",
              "      <th>146</th>\n",
              "      <td>-5.179565</td>\n",
              "      <td>-0.363475</td>\n",
              "    </tr>\n",
              "    <tr>\n",
              "      <th>147</th>\n",
              "      <td>-4.967741</td>\n",
              "      <td>0.821141</td>\n",
              "    </tr>\n",
              "    <tr>\n",
              "      <th>148</th>\n",
              "      <td>-5.886145</td>\n",
              "      <td>2.345091</td>\n",
              "    </tr>\n",
              "    <tr>\n",
              "      <th>149</th>\n",
              "      <td>-4.683154</td>\n",
              "      <td>0.332034</td>\n",
              "    </tr>\n",
              "  </tbody>\n",
              "</table>\n",
              "<p>150 rows × 2 columns</p>\n",
              "</div>\n",
              "      <button class=\"colab-df-convert\" onclick=\"convertToInteractive('df-979624e0-1492-4da0-8386-8da50b066bba')\"\n",
              "              title=\"Convert this dataframe to an interactive table.\"\n",
              "              style=\"display:none;\">\n",
              "        \n",
              "  <svg xmlns=\"http://www.w3.org/2000/svg\" height=\"24px\"viewBox=\"0 0 24 24\"\n",
              "       width=\"24px\">\n",
              "    <path d=\"M0 0h24v24H0V0z\" fill=\"none\"/>\n",
              "    <path d=\"M18.56 5.44l.94 2.06.94-2.06 2.06-.94-2.06-.94-.94-2.06-.94 2.06-2.06.94zm-11 1L8.5 8.5l.94-2.06 2.06-.94-2.06-.94L8.5 2.5l-.94 2.06-2.06.94zm10 10l.94 2.06.94-2.06 2.06-.94-2.06-.94-.94-2.06-.94 2.06-2.06.94z\"/><path d=\"M17.41 7.96l-1.37-1.37c-.4-.4-.92-.59-1.43-.59-.52 0-1.04.2-1.43.59L10.3 9.45l-7.72 7.72c-.78.78-.78 2.05 0 2.83L4 21.41c.39.39.9.59 1.41.59.51 0 1.02-.2 1.41-.59l7.78-7.78 2.81-2.81c.8-.78.8-2.07 0-2.86zM5.41 20L4 18.59l7.72-7.72 1.47 1.35L5.41 20z\"/>\n",
              "  </svg>\n",
              "      </button>\n",
              "      \n",
              "  <style>\n",
              "    .colab-df-container {\n",
              "      display:flex;\n",
              "      flex-wrap:wrap;\n",
              "      gap: 12px;\n",
              "    }\n",
              "\n",
              "    .colab-df-convert {\n",
              "      background-color: #E8F0FE;\n",
              "      border: none;\n",
              "      border-radius: 50%;\n",
              "      cursor: pointer;\n",
              "      display: none;\n",
              "      fill: #1967D2;\n",
              "      height: 32px;\n",
              "      padding: 0 0 0 0;\n",
              "      width: 32px;\n",
              "    }\n",
              "\n",
              "    .colab-df-convert:hover {\n",
              "      background-color: #E2EBFA;\n",
              "      box-shadow: 0px 1px 2px rgba(60, 64, 67, 0.3), 0px 1px 3px 1px rgba(60, 64, 67, 0.15);\n",
              "      fill: #174EA6;\n",
              "    }\n",
              "\n",
              "    [theme=dark] .colab-df-convert {\n",
              "      background-color: #3B4455;\n",
              "      fill: #D2E3FC;\n",
              "    }\n",
              "\n",
              "    [theme=dark] .colab-df-convert:hover {\n",
              "      background-color: #434B5C;\n",
              "      box-shadow: 0px 1px 3px 1px rgba(0, 0, 0, 0.15);\n",
              "      filter: drop-shadow(0px 1px 2px rgba(0, 0, 0, 0.3));\n",
              "      fill: #FFFFFF;\n",
              "    }\n",
              "  </style>\n",
              "\n",
              "      <script>\n",
              "        const buttonEl =\n",
              "          document.querySelector('#df-979624e0-1492-4da0-8386-8da50b066bba button.colab-df-convert');\n",
              "        buttonEl.style.display =\n",
              "          google.colab.kernel.accessAllowed ? 'block' : 'none';\n",
              "\n",
              "        async function convertToInteractive(key) {\n",
              "          const element = document.querySelector('#df-979624e0-1492-4da0-8386-8da50b066bba');\n",
              "          const dataTable =\n",
              "            await google.colab.kernel.invokeFunction('convertToInteractive',\n",
              "                                                     [key], {});\n",
              "          if (!dataTable) return;\n",
              "\n",
              "          const docLinkHtml = 'Like what you see? Visit the ' +\n",
              "            '<a target=\"_blank\" href=https://colab.research.google.com/notebooks/data_table.ipynb>data table notebook</a>'\n",
              "            + ' to learn more about interactive tables.';\n",
              "          element.innerHTML = '';\n",
              "          dataTable['output_type'] = 'display_data';\n",
              "          await google.colab.output.renderOutput(dataTable, element);\n",
              "          const docLink = document.createElement('div');\n",
              "          docLink.innerHTML = docLinkHtml;\n",
              "          element.appendChild(docLink);\n",
              "        }\n",
              "      </script>\n",
              "    </div>\n",
              "  </div>\n",
              "  "
            ]
          },
          "metadata": {},
          "execution_count": 30
        }
      ]
    },
    {
      "cell_type": "code",
      "source": [
        "rcf = RandomForestClassifier(random_state=156)\n",
        "scores = cross_val_score(rcf, lda_X, iris.target, scoring= 'accuracy', cv=3)\n",
        "print('원본 데이터 교차 검증 개별 정확도 : ', scores)\n",
        "print('원본 데이터 평균 정확도 : ', np.mean(scores))"
      ],
      "metadata": {
        "colab": {
          "base_uri": "https://localhost:8080/"
        },
        "id": "NlvMz2X_IoPc",
        "outputId": "c767266b-a31f-4442-fae9-d1f6f2aa9162"
      },
      "execution_count": 29,
      "outputs": [
        {
          "output_type": "stream",
          "name": "stdout",
          "text": [
            "원본 데이터 교차 검증 개별 정확도 :  [1.   0.9  0.96]\n",
            "원본 데이터 평균 정확도 :  0.9533333333333333\n"
          ]
        }
      ]
    },
    {
      "cell_type": "markdown",
      "source": [
        "#특잇값 분해\n",
        "\n",
        "정방 행렬이 아닌 m * n  일반 행렬 A 에 대해\n",
        "\n",
        "$$A= U\\sum V^T$$\n",
        "\n",
        "1.U\n",
        "$$AA^T$$\n",
        "의 고유 벡터를 열에 배치한 m*m행렬\n",
        "\n",
        "2. V\n",
        "$$\n",
        "A^T A\n",
        "$$\n",
        "의 고유벡터를 열에 배치한 n*n 행렬\n",
        "\n",
        "3. Sigma\n",
        "\n",
        "$$AA^T$$\n",
        "의 고유값의 제곱근을 대각선에 배치한 m*n대각 행렬"
      ],
      "metadata": {
        "id": "pJTvDeRIJaKg"
      }
    }
  ]
}