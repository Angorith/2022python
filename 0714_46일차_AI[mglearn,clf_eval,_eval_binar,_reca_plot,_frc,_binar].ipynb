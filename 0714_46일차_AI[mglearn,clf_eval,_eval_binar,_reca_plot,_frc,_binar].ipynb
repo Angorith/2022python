{
  "nbformat": 4,
  "nbformat_minor": 0,
  "metadata": {
    "colab": {
      "name": "0714 46일차 AI[mglearn,clf_eval, eval_binar, reca_plot, frc, binar].ipynb",
      "provenance": [],
      "collapsed_sections": [],
      "mount_file_id": "1OS34E6EPfQBHiWzeo3ksjjIU182MqpQy",
      "authorship_tag": "ABX9TyMSnxCM3WNzR2wsBmJYzjGf",
      "include_colab_link": true
    },
    "kernelspec": {
      "name": "python3",
      "display_name": "Python 3"
    },
    "language_info": {
      "name": "python"
    }
  },
  "cells": [
    {
      "cell_type": "markdown",
      "metadata": {
        "id": "view-in-github",
        "colab_type": "text"
      },
      "source": [
        "<a href=\"https://colab.research.google.com/github/Angorith/acorn_python/blob/main/0714_46%EC%9D%BC%EC%B0%A8_AI%5Bmglearn%2Cclf_eval%2C_eval_binar%2C_reca_plot%2C_frc%2C_binar%5D.ipynb\" target=\"_parent\"><img src=\"https://colab.research.google.com/assets/colab-badge.svg\" alt=\"Open In Colab\"/></a>"
      ]
    },
    {
      "cell_type": "code",
      "execution_count": 1,
      "metadata": {
        "id": "unibnP8DTBrL"
      },
      "outputs": [],
      "source": [
        "import numpy as np\n",
        "import pandas as pd\n",
        "import matplotlib.pyplot as plt\n",
        "%matplotlib inline"
      ]
    },
    {
      "cell_type": "code",
      "source": [
        "pip install mglearn"
      ],
      "metadata": {
        "id": "oS8Uj7FXBkZ8"
      },
      "execution_count": null,
      "outputs": []
    },
    {
      "cell_type": "code",
      "source": [
        "import mglearn"
      ],
      "metadata": {
        "id": "cRQgzoprBYT1"
      },
      "execution_count": 4,
      "outputs": []
    },
    {
      "cell_type": "code",
      "source": [
        "mglearn.plots.plot_binary_confusion_matrix() #confusion matrix 보여주기"
      ],
      "metadata": {
        "colab": {
          "base_uri": "https://localhost:8080/",
          "height": 270
        },
        "id": "EWxJVIjDBnx4",
        "outputId": "795300be-0b27-440e-f181-24b64b807571"
      },
      "execution_count": 5,
      "outputs": [
        {
          "output_type": "display_data",
          "data": {
            "text/plain": [
              "<Figure size 432x288 with 1 Axes>"
            ],
            "image/png": "[encoded data removed]"
          },
          "metadata": {
            "needs_background": "light"
          }
        }
      ]
    },
    {
      "cell_type": "markdown",
      "source": [
        ""
      ],
      "metadata": {
        "id": "j5hLKi55Ipad"
      }
    },
    {
      "cell_type": "code",
      "source": [
        "from sklearn.tree import DecisionTreeClassifier\n",
        "from sklearn.ensemble import RandomForestClassifier\n",
        "from sklearn.linear_model import LogisticRegression\n",
        "from sklearn.metrics import accuracy_score\n",
        "from sklearn.model_selection import train_test_split, KFold, cross_val_score, GridSearchCV\n",
        "from sklearn.preprocessing import LabelEncoder\n",
        "from sklearn.metrics import confusion_matrix, accuracy_score, precision_score, recall_score"
      ],
      "metadata": {
        "id": "oHX_bJUyDn86"
      },
      "execution_count": 40,
      "outputs": []
    },
    {
      "cell_type": "code",
      "source": [
        "def get_clf_eval(y_test, pred):\n",
        "    confusion= confusion_matrix(y_test, pred)\n",
        "    accuracy= accuracy_score(y_test, pred)\n",
        "    precision= precision_score(y_test, pred)\n",
        "    recall= recall_score(y_test, pred)\n",
        "    print(confusion, accuracy, precision, recall)"
      ],
      "metadata": {
        "id": "Pzd4iUHhBvKj"
      },
      "execution_count": 41,
      "outputs": []
    },
    {
      "cell_type": "code",
      "source": [
        "titanic = pd.read_csv('./drive/MyDrive/titanic_train.csv')"
      ],
      "metadata": {
        "id": "LXcS5NCrC2Yc"
      },
      "execution_count": 23,
      "outputs": []
    },
    {
      "cell_type": "code",
      "source": [
        "# Null 처리 함수\n",
        "def fillna(df):\n",
        "    df['Age'].fillna(df['Age'].mean(), inplace=True)\n",
        "    df['Cabin'].fillna('N', inplace=True)\n",
        "    df['Embarked'].fillna('N', inplace=True)\n",
        "    return df\n",
        "\n",
        "\n",
        "# 러닝 알고리즘에 불필요한 속성 제거\n",
        "def drop_features(df):\n",
        "    df.drop(['PassengerId', 'Name', 'Ticket'], axis=1, inplace=True)\n",
        "    return df\n",
        "\n",
        "\n",
        "# 라벨 인코딩 수행\n",
        "def format_features(df):\n",
        "    df['Cabin'] = df['Cabin'].str[:1]\n",
        "    features = ['Cabin', 'Sex', 'Embarked']\n",
        "    for feature in features:\n",
        "        le = LabelEncoder()\n",
        "        le.fit(df[feature])\n",
        "        df[feature] = le.transform(df[feature])\n",
        "    return df\n",
        "from sklearn.preprocessing import MinMaxScaler\n",
        "def adj_scale(df):\n",
        "    scaler = MinMaxScaler()\n",
        "    scaler.fit(df)\n",
        "    scaled_array = scaler.transform(df)\n",
        "    df_scaled = pd.DataFrame(data=scaled_array, columns=df.columns)\n",
        "    return df_scaled\n",
        "\n",
        "# 앞에서 설정한 데이터 전처리 함수 호출\n",
        "def transform_features(df):\n",
        "    df = fillna(df)\n",
        "    df = drop_features(df)\n",
        "    df = format_features(df)\n",
        "    df = adj_scale(df)\n",
        "    return df"
      ],
      "metadata": {
        "id": "DXXJzZieDAWf"
      },
      "execution_count": 25,
      "outputs": []
    },
    {
      "cell_type": "code",
      "source": [
        "y_titanic = titanic.Survived\n",
        "X_titanic = titanic.drop('Survived', axis=1)"
      ],
      "metadata": {
        "id": "itmzuyDYDRrG"
      },
      "execution_count": 26,
      "outputs": []
    },
    {
      "cell_type": "code",
      "source": [
        "X_titanic = transform_features(X_titanic)"
      ],
      "metadata": {
        "id": "Kiy3uVMQDZkP"
      },
      "execution_count": 27,
      "outputs": []
    },
    {
      "cell_type": "code",
      "source": [
        "X_train, X_test, y_train, y_test = train_test_split(X_titanic, y_titanic)"
      ],
      "metadata": {
        "id": "slHh4avIDhBD"
      },
      "execution_count": 28,
      "outputs": []
    },
    {
      "cell_type": "code",
      "source": [
        "dt_clf = DecisionTreeClassifier(random_state=156)"
      ],
      "metadata": {
        "id": "dTi_laMVESi5"
      },
      "execution_count": 29,
      "outputs": []
    },
    {
      "cell_type": "code",
      "source": [
        "dt_clf.fit(X_train, y_train)\n",
        "pred = dt_clf.predict(X_test)\n",
        "get_clf_eval(y_test, pred)"
      ],
      "metadata": {
        "colab": {
          "base_uri": "https://localhost:8080/"
        },
        "id": "OW14RGVNEX0I",
        "outputId": "58cc1ab5-b5a7-4efa-f4de-87c534812795"
      },
      "execution_count": 30,
      "outputs": [
        {
          "output_type": "stream",
          "name": "stdout",
          "text": [
            "[[108  26]\n",
            " [ 23  66]] 0.7802690582959642 0.717391304347826 0.7415730337078652\n"
          ]
        }
      ]
    },
    {
      "cell_type": "code",
      "source": [
        "#확률값을 산출해주는 method\n",
        "pred_proba = dt_clf.predict_proba(X_test)"
      ],
      "metadata": {
        "id": "Br1_LsLCEgU1"
      },
      "execution_count": 32,
      "outputs": []
    },
    {
      "cell_type": "code",
      "source": [
        "pred_proba[:3]"
      ],
      "metadata": {
        "colab": {
          "base_uri": "https://localhost:8080/"
        },
        "id": "7fUyUQf7FZC4",
        "outputId": "17e9c290-037c-4072-ea9a-1027edfed8b2"
      },
      "execution_count": 35,
      "outputs": [
        {
          "output_type": "execute_result",
          "data": {
            "text/plain": [
              "array([[1., 0.],\n",
              "       [1., 0.],\n",
              "       [1., 0.]])"
            ]
          },
          "metadata": {},
          "execution_count": 35
        }
      ]
    },
    {
      "cell_type": "code",
      "source": [
        "pred[:3]"
      ],
      "metadata": {
        "colab": {
          "base_uri": "https://localhost:8080/"
        },
        "id": "8LBmww2RGhA4",
        "outputId": "2b5e90ee-a8cf-4400-9214-42bb8340f3d3"
      },
      "execution_count": 34,
      "outputs": [
        {
          "output_type": "execute_result",
          "data": {
            "text/plain": [
              "array([0, 0, 0])"
            ]
          },
          "metadata": {},
          "execution_count": 34
        }
      ]
    },
    {
      "cell_type": "code",
      "source": [
        "lr_clf = LogisticRegression(max_iter=5000)"
      ],
      "metadata": {
        "id": "5aL7bglkG1XF"
      },
      "execution_count": 36,
      "outputs": []
    },
    {
      "cell_type": "code",
      "source": [
        "lr_clf.fit(X_train, y_train)\n",
        "pred = lr_clf.predict(X_test)\n",
        "get_clf_eval(y_test, pred)"
      ],
      "metadata": {
        "colab": {
          "base_uri": "https://localhost:8080/"
        },
        "id": "0KDmtrsFGiDL",
        "outputId": "952f4ba4-ff6b-4086-f5f2-f00556362fe0"
      },
      "execution_count": 37,
      "outputs": [
        {
          "output_type": "stream",
          "name": "stdout",
          "text": [
            "[[116  18]\n",
            " [ 21  68]] 0.8251121076233184 0.7906976744186046 0.7640449438202247\n"
          ]
        }
      ]
    },
    {
      "cell_type": "code",
      "source": [
        "pred_proba = lr_clf.predict_proba(X_test)"
      ],
      "metadata": {
        "id": "96Di_sDRHDMm"
      },
      "execution_count": 38,
      "outputs": []
    },
    {
      "cell_type": "code",
      "source": [
        "pred_proba[:3]"
      ],
      "metadata": {
        "colab": {
          "base_uri": "https://localhost:8080/"
        },
        "id": "Ky3MiJp9HHUb",
        "outputId": "fb7ffba6-676b-4c97-fb18-702d8d2f9ae8"
      },
      "execution_count": 39,
      "outputs": [
        {
          "output_type": "execute_result",
          "data": {
            "text/plain": [
              "array([[0.37636451, 0.62363549],\n",
              "       [0.47404787, 0.52595213],\n",
              "       [0.87164117, 0.12835883]])"
            ]
          },
          "metadata": {},
          "execution_count": 39
        }
      ]
    },
    {
      "cell_type": "code",
      "source": [
        "pred_proba.shape, pred.shape"
      ],
      "metadata": {
        "colab": {
          "base_uri": "https://localhost:8080/"
        },
        "id": "52Ny2b4qI83Y",
        "outputId": "e8e59b36-6cdd-4bd0-90f8-b4c15bb8c5fa"
      },
      "execution_count": 42,
      "outputs": [
        {
          "output_type": "execute_result",
          "data": {
            "text/plain": [
              "((223, 2), (223,))"
            ]
          },
          "metadata": {},
          "execution_count": 42
        }
      ]
    },
    {
      "cell_type": "code",
      "source": [
        "pred_proba[222], pred[222]"
      ],
      "metadata": {
        "colab": {
          "base_uri": "https://localhost:8080/"
        },
        "id": "U68kxAedI-6A",
        "outputId": "e59e056e-78f4-43cb-dcda-68605d7a9cd0"
      },
      "execution_count": 43,
      "outputs": [
        {
          "output_type": "execute_result",
          "data": {
            "text/plain": [
              "(array([0.8358544, 0.1641456]), 0)"
            ]
          },
          "metadata": {},
          "execution_count": 43
        }
      ]
    },
    {
      "cell_type": "code",
      "source": [
        "np.concatenate([pred_proba[:3], pred[:3,np.newaxis]], axis=1)"
      ],
      "metadata": {
        "colab": {
          "base_uri": "https://localhost:8080/"
        },
        "id": "Nsp680QOJM14",
        "outputId": "b8485294-c5f1-4646-ce9f-0a0095171a14"
      },
      "execution_count": 44,
      "outputs": [
        {
          "output_type": "execute_result",
          "data": {
            "text/plain": [
              "array([[0.37636451, 0.62363549, 1.        ],\n",
              "       [0.47404787, 0.52595213, 1.        ],\n",
              "       [0.87164117, 0.12835883, 0.        ]])"
            ]
          },
          "metadata": {},
          "execution_count": 44
        }
      ]
    },
    {
      "cell_type": "markdown",
      "source": [
        "임계값을 조절하여, 정밀도와 재현율을 변경할 수 있다.\n",
        "\n",
        "임계값 -> 확률 : pred_proba\n",
        "\n",
        "확률이 0.2 이상이면 1\n",
        "\n",
        "0.2 미만이면 0으로 해라 : Bianarizer\n",
        "\n"
      ],
      "metadata": {
        "id": "Eubj3N5nJpwU"
      }
    },
    {
      "cell_type": "code",
      "source": [
        "from sklearn.preprocessing import Binarizer"
      ],
      "metadata": {
        "id": "XTeAOTFjJWlb"
      },
      "execution_count": 45,
      "outputs": []
    },
    {
      "cell_type": "code",
      "source": [
        "x = [[1, -1, 2], [2, 0, 0],[0, 1.1, 1.5]]"
      ],
      "metadata": {
        "id": "1X5mV5wmKEqb"
      },
      "execution_count": 47,
      "outputs": []
    },
    {
      "cell_type": "code",
      "source": [
        "binar = Binarizer(threshold=1.1)\n",
        "print(binar.fit_transform(x))"
      ],
      "metadata": {
        "colab": {
          "base_uri": "https://localhost:8080/"
        },
        "id": "CHo2dVRbKW6C",
        "outputId": "23a0e0af-2b84-4566-ad0d-b127c7c1f824"
      },
      "execution_count": 49,
      "outputs": [
        {
          "output_type": "stream",
          "name": "stdout",
          "text": [
            "[[0. 0. 1.]\n",
            " [1. 0. 0.]\n",
            " [0. 0. 1.]]\n"
          ]
        }
      ]
    },
    {
      "cell_type": "code",
      "source": [
        "binar = Binarizer(threshold=0.5)\n",
        "y_binar = binar.fit_transform(pred_proba)\n",
        "y_binar[:,1]"
      ],
      "metadata": {
        "colab": {
          "base_uri": "https://localhost:8080/"
        },
        "id": "F7FgIjKeKq_U",
        "outputId": "39c4cd16-64f1-4003-c8f2-56d8158c1e87"
      },
      "execution_count": 50,
      "outputs": [
        {
          "output_type": "execute_result",
          "data": {
            "text/plain": [
              "array([1., 1., 0., 1., 0., 0., 0., 1., 1., 0., 1., 0., 0., 1., 1., 1., 1.,\n",
              "       1., 0., 1., 0., 1., 1., 0., 1., 0., 0., 0., 0., 1., 1., 0., 1., 0.,\n",
              "       1., 0., 0., 1., 1., 0., 0., 0., 0., 0., 1., 0., 0., 1., 0., 1., 0.,\n",
              "       0., 0., 0., 0., 0., 1., 0., 0., 1., 1., 0., 0., 1., 1., 0., 1., 0.,\n",
              "       1., 0., 0., 1., 0., 1., 1., 1., 1., 0., 0., 0., 1., 0., 0., 0., 0.,\n",
              "       0., 0., 0., 0., 0., 0., 0., 1., 1., 1., 0., 0., 0., 1., 1., 0., 1.,\n",
              "       0., 0., 0., 0., 0., 0., 0., 0., 0., 1., 0., 1., 0., 0., 1., 1., 0.,\n",
              "       1., 0., 0., 0., 0., 1., 0., 1., 0., 0., 0., 0., 0., 0., 1., 0., 1.,\n",
              "       1., 1., 1., 1., 0., 0., 1., 1., 0., 0., 0., 1., 0., 0., 0., 0., 0.,\n",
              "       0., 1., 1., 1., 0., 1., 0., 1., 1., 0., 0., 0., 0., 1., 0., 1., 1.,\n",
              "       0., 1., 0., 0., 1., 0., 0., 1., 0., 1., 0., 0., 0., 1., 0., 0., 0.,\n",
              "       1., 0., 1., 0., 1., 1., 1., 1., 0., 0., 0., 0., 0., 1., 0., 0., 1.,\n",
              "       0., 0., 0., 1., 1., 0., 0., 0., 0., 1., 0., 0., 1., 1., 0., 0., 0.,\n",
              "       0., 0.])"
            ]
          },
          "metadata": {},
          "execution_count": 50
        }
      ]
    },
    {
      "cell_type": "code",
      "source": [
        "y_test.shape, y_binar[:, 1].shape"
      ],
      "metadata": {
        "colab": {
          "base_uri": "https://localhost:8080/"
        },
        "id": "cGgFsug8LbXh",
        "outputId": "84830b6d-3df2-4bff-9b12-3d7dc65736ab"
      },
      "execution_count": 51,
      "outputs": [
        {
          "output_type": "execute_result",
          "data": {
            "text/plain": [
              "((223,), (223,))"
            ]
          },
          "metadata": {},
          "execution_count": 51
        }
      ]
    },
    {
      "cell_type": "code",
      "source": [
        "get_clf_eval(y_test, y_binar[:,1])"
      ],
      "metadata": {
        "colab": {
          "base_uri": "https://localhost:8080/"
        },
        "id": "8AQ11GzRL3LQ",
        "outputId": "6edd4a6a-9b13-4840-a473-11814d1e7dc9"
      },
      "execution_count": 52,
      "outputs": [
        {
          "output_type": "stream",
          "name": "stdout",
          "text": [
            "[[116  18]\n",
            " [ 21  68]] 0.8251121076233184 0.7906976744186046 0.7640449438202247\n"
          ]
        }
      ]
    },
    {
      "cell_type": "code",
      "source": [
        "def get_eval_binar(thresholds, y_tests, pred_probas):\n",
        "  binar = Binarizer(threshold = thresholds)\n",
        "  y_binar = binar.fit_transform(pred_probas)\n",
        "  print(\"##\", thresholds, ':')\n",
        "  get_clf_eval(y_tests, y_binar[:,1])"
      ],
      "metadata": {
        "id": "xw02wEmNL6m5"
      },
      "execution_count": 53,
      "outputs": []
    },
    {
      "cell_type": "code",
      "source": [
        "thresholds = [0.40, 0.45, 0.50, 0.55, 0.60]\n",
        "for i in thresholds:\n",
        "  get_eval_binar(i, y_test, pred_proba)"
      ],
      "metadata": {
        "colab": {
          "base_uri": "https://localhost:8080/"
        },
        "id": "h64irmHJPTQN",
        "outputId": "5f6e02a5-0613-4950-d5b8-a264de5e4245"
      },
      "execution_count": 54,
      "outputs": [
        {
          "output_type": "stream",
          "name": "stdout",
          "text": [
            "## 0.4 :\n",
            "[[107  27]\n",
            " [ 17  72]] 0.8026905829596412 0.7272727272727273 0.8089887640449438\n",
            "## 0.45 :\n",
            "[[111  23]\n",
            " [ 17  72]] 0.820627802690583 0.7578947368421053 0.8089887640449438\n",
            "## 0.5 :\n",
            "[[116  18]\n",
            " [ 21  68]] 0.8251121076233184 0.7906976744186046 0.7640449438202247\n",
            "## 0.55 :\n",
            "[[119  15]\n",
            " [ 23  66]] 0.8295964125560538 0.8148148148148148 0.7415730337078652\n",
            "## 0.6 :\n",
            "[[123  11]\n",
            " [ 30  59]] 0.8161434977578476 0.8428571428571429 0.6629213483146067\n"
          ]
        }
      ]
    },
    {
      "cell_type": "code",
      "source": [
        "from sklearn.metrics import precision_recall_curve"
      ],
      "metadata": {
        "id": "sdjdTNQcP6xZ"
      },
      "execution_count": 55,
      "outputs": []
    },
    {
      "cell_type": "code",
      "source": [
        "pred_proba = lr_clf.predict_proba(X_test)[:,1]"
      ],
      "metadata": {
        "id": "wq8RTsynQ_tE"
      },
      "execution_count": 56,
      "outputs": []
    },
    {
      "cell_type": "code",
      "source": [
        "precisions, recalls, thresholds = precision_recall_curve(y_test, pred_proba)"
      ],
      "metadata": {
        "id": "0wqAJelgREEZ"
      },
      "execution_count": 57,
      "outputs": []
    },
    {
      "cell_type": "code",
      "source": [
        "idx = thresholds.shape[0]"
      ],
      "metadata": {
        "id": "mH1y9RSUTJP7"
      },
      "execution_count": 62,
      "outputs": []
    },
    {
      "cell_type": "code",
      "source": [
        "idx"
      ],
      "metadata": {
        "colab": {
          "base_uri": "https://localhost:8080/"
        },
        "id": "Rn54c0kTTOr3",
        "outputId": "4b65cb73-3823-490e-d2de-34d49aefed51"
      },
      "execution_count": 63,
      "outputs": [
        {
          "output_type": "execute_result",
          "data": {
            "text/plain": [
              "189"
            ]
          },
          "metadata": {},
          "execution_count": 63
        }
      ]
    },
    {
      "cell_type": "code",
      "source": [
        "sample_index = np.arange(0, thresholds.shape[0], 15)\n",
        "print(sample_index)\n",
        "print()\n",
        "print('선택된 임계값 : ', thresholds[sample_index])\n",
        "print()\n",
        "print('정밀도 : ', precisions[sample_index] )\n",
        "print()\n",
        "print('재현율 : ', recalls[sample_index] )"
      ],
      "metadata": {
        "colab": {
          "base_uri": "https://localhost:8080/"
        },
        "id": "kyXm218YRRz9",
        "outputId": "6012fbe5-188c-44b7-a06d-8d1825b9073a"
      },
      "execution_count": 58,
      "outputs": [
        {
          "output_type": "stream",
          "name": "stdout",
          "text": [
            "[  0  15  30  45  60  75  90 105 120 135 150 165 180]\n",
            "\n",
            "선택된 임계값 :  [0.0988518  0.11221033 0.1267148  0.14122028 0.19008207 0.22676762\n",
            " 0.37916911 0.50022166 0.59699612 0.67670774 0.75064558 0.80891325\n",
            " 0.92793859]\n",
            "\n",
            "정밀도 :  [0.44278607 0.47513812 0.51515152 0.55333333 0.61363636 0.66666667\n",
            " 0.72277228 0.79069767 0.84507042 0.88888889 0.8974359  0.95833333\n",
            " 1.        ]\n",
            "\n",
            "재현율 :  [1.         0.96629213 0.95505618 0.93258427 0.91011236 0.87640449\n",
            " 0.82022472 0.76404494 0.6741573  0.53932584 0.39325843 0.25842697\n",
            " 0.1011236 ]\n"
          ]
        }
      ]
    },
    {
      "cell_type": "code",
      "source": [
        "def pre_reca_plot(precisions, recalls, thresholds):\n",
        "  fig, axes = plt.subplots()\n",
        "  axes.plot(thresholds, precisions, 'k--', label = 'precisions')\n",
        "  axes.plot(thresholds, recalls, 'g-', label='recalls')\n",
        "  axes.legend()\n",
        "  axes.set_xlabel('threshold')\n",
        "  axes.set_ylabel('Precision & Recall')\n",
        "  axes.grid()"
      ],
      "metadata": {
        "id": "tHZ9xMhKSmVd"
      },
      "execution_count": 59,
      "outputs": []
    },
    {
      "cell_type": "code",
      "source": [
        "pre_reca_plot(precisions[:idx], recalls[:idx], thresholds[:idx])"
      ],
      "metadata": {
        "colab": {
          "base_uri": "https://localhost:8080/",
          "height": 279
        },
        "id": "RzJek3f7TCGD",
        "outputId": "ccb532bd-c118-448f-c8b5-0eb4c2792b64"
      },
      "execution_count": 64,
      "outputs": [
        {
          "output_type": "display_data",
          "data": {
            "text/plain": [
              "<Figure size 432x288 with 1 Axes>"
            ],
            "image/png": "[encoded data removed]"
          },
          "metadata": {
            "needs_background": "light"
          }
        }
      ]
    },
    {
      "cell_type": "markdown",
      "source": [
        "$$precision = {TP \\over TP+FP} =1$$"
      ],
      "metadata": {
        "id": "JM76iwj9UnMj"
      }
    },
    {
      "cell_type": "markdown",
      "source": [
        "fp = 0, tp=1\n",
        "\n",
        "fp = 0 -> 전부다 Negative 예측"
      ],
      "metadata": {
        "id": "L7AaCcSaUuIK"
      }
    },
    {
      "cell_type": "markdown",
      "source": [
        "재현율, 정밀도 높다 => TP가 크다\n",
        "\n",
        "TP가 같다고 가정하고,\n",
        "\n",
        "recall : FN이 작아야한다 => \n",
        "\n",
        "Precision : FP 가 작아야한다. =>"
      ],
      "metadata": {
        "id": "fTmjYNPIlg7S"
      }
    },
    {
      "cell_type": "markdown",
      "source": [
        "$$recall = {TP \\over TP+FN} =1$$"
      ],
      "metadata": {
        "id": "xyFdLf_CVNmd"
      }
    },
    {
      "cell_type": "markdown",
      "source": [
        "fn = 0 -> 전부다 positive 예측"
      ],
      "metadata": {
        "id": "2yqPRu1yVRS5"
      }
    },
    {
      "cell_type": "markdown",
      "source": [
        "#F1_score\n",
        "\n",
        "정밀도와 재현율이 ,TN, TP, FP, FN의 어느 한쪽만 참조하면 극단적인 수치 조작이 가능하므로 이런 맹점을 어느정도 해소하기위한 정의\n",
        "\n",
        "$$F1 = {2 \\over {1 \\over recall} + {1 \\over precision}}$$"
      ],
      "metadata": {
        "id": "r56NGyPYVlmp"
      }
    },
    {
      "cell_type": "code",
      "source": [
        "from sklearn.metrics import f1_score\n",
        "f1 = f1_score(y_test, pred)\n",
        "f1"
      ],
      "metadata": {
        "colab": {
          "base_uri": "https://localhost:8080/"
        },
        "id": "It1THyy5TEBX",
        "outputId": "0c8a4875-99d8-4274-c20a-a6321887a24e"
      },
      "execution_count": 65,
      "outputs": [
        {
          "output_type": "execute_result",
          "data": {
            "text/plain": [
              "0.7771428571428571"
            ]
          },
          "metadata": {},
          "execution_count": 65
        }
      ]
    },
    {
      "cell_type": "code",
      "source": [
        "def get_frc(y_test, pred):\n",
        "  confusion = confusion_matrix(y_test, pred)\n",
        "  accuracy = accuracy_score(y_test, pred)\n",
        "  precision = precision_score(y_test, pred)\n",
        "  recall = recall_score(y_test, pred)\n",
        "  f1 = f1_score(y_test, pred)\n",
        "  print(confusion, np.round(accuracy, 3), np.round(precision, 3), np.round(recall, 3), f1)"
      ],
      "metadata": {
        "id": "6-2gif_JWfuT"
      },
      "execution_count": 78,
      "outputs": []
    },
    {
      "cell_type": "code",
      "source": [
        "def get_binar(thresholds, y_tests, pred_probas):\n",
        "  binar = Binarizer(threshold = thresholds)\n",
        "  y_binar = binar.fit_transform(pred_probas)\n",
        "  print(\"##\", thresholds, ':')\n",
        "  get_frc(y_tests, y_binar[:,1])"
      ],
      "metadata": {
        "id": "_c9zktQRYCn6"
      },
      "execution_count": 79,
      "outputs": []
    },
    {
      "cell_type": "code",
      "source": [
        "thresholds = [0.40, 0.45, 0.50, 0.55, 0.60]\n",
        "pred_proba = lr_clf.predict_proba(X_test)"
      ],
      "metadata": {
        "id": "EPggkliRXVtU"
      },
      "execution_count": 80,
      "outputs": []
    },
    {
      "cell_type": "code",
      "source": [
        "for i in thresholds:\n",
        "  get_binar(i, y_test, pred_proba)"
      ],
      "metadata": {
        "colab": {
          "base_uri": "https://localhost:8080/"
        },
        "id": "wlls6SwVXeY4",
        "outputId": "64ea870e-4886-4310-b2bc-2e6f4c75facb"
      },
      "execution_count": 81,
      "outputs": [
        {
          "output_type": "stream",
          "name": "stdout",
          "text": [
            "## 0.4 :\n",
            "[[107  27]\n",
            " [ 17  72]] 0.803 0.727 0.809 0.7659574468085106\n",
            "## 0.45 :\n",
            "[[111  23]\n",
            " [ 17  72]] 0.821 0.758 0.809 0.782608695652174\n",
            "## 0.5 :\n",
            "[[116  18]\n",
            " [ 21  68]] 0.825 0.791 0.764 0.7771428571428571\n",
            "## 0.55 :\n",
            "[[119  15]\n",
            " [ 23  66]] 0.83 0.815 0.742 0.7764705882352941\n",
            "## 0.6 :\n",
            "[[123  11]\n",
            " [ 30  59]] 0.816 0.843 0.663 0.7421383647798743\n"
          ]
        }
      ]
    },
    {
      "cell_type": "markdown",
      "source": [
        "#ROC AUC"
      ],
      "metadata": {
        "id": "_tPKikDycKSd"
      }
    },
    {
      "cell_type": "markdown",
      "source": [
        "**TPR = TP / (FN + TP)**\n",
        "\n",
        "```\n",
        "  FN + TP : 실제 모두 양성인 수\n",
        "\n",
        "  TP/ (FN + TP) : 양성인 것 중에서 양성으로 잘 분류 해낸 비율\n",
        "\n",
        "  1을 1로 분류한 비율\n",
        "```\n",
        "\n",
        "\n",
        "**FPR = FP / (TN + FP)**\n",
        "\n",
        "```\n",
        "  TN  + FP : 실제 모두 음성인 수\n",
        "\n",
        "  FP / (TN + FP) : 음성인 것 중에서 양성으로 잘못 분류해낸 비율\n",
        "\n",
        "  0을 1로 분류한 비율(1-TNF)\n",
        "```\n",
        "\n"
      ],
      "metadata": {
        "id": "5y3ns6F0cNrd"
      }
    },
    {
      "cell_type": "code",
      "source": [
        "from sklearn.metrics import roc_curve"
      ],
      "metadata": {
        "id": "LeTS3pKOcNO7"
      },
      "execution_count": 82,
      "outputs": []
    },
    {
      "cell_type": "code",
      "source": [
        "pred_proba_class1 = lr_clf.predict_proba(X_test)[:,1]"
      ],
      "metadata": {
        "id": "MYPduKC-drrV"
      },
      "execution_count": 83,
      "outputs": []
    },
    {
      "cell_type": "code",
      "source": [
        "fprs, tprs , thresholds = roc_curve(y_test, pred_proba_class1)"
      ],
      "metadata": {
        "id": "1QFGXmJfdwYf"
      },
      "execution_count": 84,
      "outputs": []
    },
    {
      "cell_type": "code",
      "source": [
        "plt.figure(figsize=(6,6))\n",
        "plt.plot(fprs, tprs, label = 'Random')\n",
        "plt.plot([0, 1],[0,1], 'k--', label = 'Random')\n",
        "plt.xlabel('FPR', fontsize=25)\n",
        "plt.ylabel('TPR', fontsize=25)\n",
        "plt.tick_params(length=10, labelsize= 20)\n",
        "plt.title('ROC Curve', fontsize =25)\n",
        "plt.tight_layout()\n",
        "plt.grid()\n",
        "plt.legend(loc= 'lower right')"
      ],
      "metadata": {
        "colab": {
          "base_uri": "https://localhost:8080/",
          "height": 459
        },
        "id": "ZQxugXv5eTdp",
        "outputId": "db364890-b197-4228-f32a-a045ced645be"
      },
      "execution_count": 88,
      "outputs": [
        {
          "output_type": "execute_result",
          "data": {
            "text/plain": [
              "<matplotlib.legend.Legend at 0x7f416503fb90>"
            ]
          },
          "metadata": {},
          "execution_count": 88
        },
        {
          "output_type": "display_data",
          "data": {
            "text/plain": [
              "<Figure size 432x432 with 1 Axes>"
            ],
            "image/png": "[encoded data removed]"
          },
          "metadata": {
            "needs_background": "light"
          }
        }
      ]
    },
    {
      "cell_type": "code",
      "source": [
        "from sklearn.metrics import roc_auc_score\n",
        "r_auc_s = roc_auc_score(y_test, pred_proba_class1)"
      ],
      "metadata": {
        "id": "z6AeZlSSfOD0"
      },
      "execution_count": 89,
      "outputs": []
    },
    {
      "cell_type": "code",
      "source": [
        "r_auc_s"
      ],
      "metadata": {
        "colab": {
          "base_uri": "https://localhost:8080/"
        },
        "id": "x_fCs8NSfvNg",
        "outputId": "ac8312c0-7c84-4d3b-b549-fc0faab760cc"
      },
      "execution_count": 90,
      "outputs": [
        {
          "output_type": "execute_result",
          "data": {
            "text/plain": [
              "0.8829448264296496"
            ]
          },
          "metadata": {},
          "execution_count": 90
        }
      ]
    },
    {
      "cell_type": "code",
      "source": [
        "def get_frc(y_test, pred=None, pred_probas = None):\n",
        "  confusion = confusion_matrix(y_test, pred)\n",
        "  accuracy = accuracy_score(y_test, pred)\n",
        "  precision = precision_score(y_test, pred)\n",
        "  recall = recall_score(y_test, pred)\n",
        "  f1 = f1_score(y_test, pred)\n",
        "  roc_aucs = roc_auc_score(y_test,pred_probas)\n",
        "  print(confusion, accuracy, precision, recall, f1, roc_aucs)"
      ],
      "metadata": {
        "id": "pQxufc1CgOvy"
      },
      "execution_count": 92,
      "outputs": []
    },
    {
      "cell_type": "code",
      "source": [
        "get_frc(y_test, pred, pred_proba_class1)"
      ],
      "metadata": {
        "colab": {
          "base_uri": "https://localhost:8080/"
        },
        "id": "PEx4oSa1gjz9",
        "outputId": "f6eb553f-6829-4c5b-d10d-2a56a01328e0"
      },
      "execution_count": 93,
      "outputs": [
        {
          "output_type": "stream",
          "name": "stdout",
          "text": [
            "[[116  18]\n",
            " [ 21  68]] 0.8251121076233184 0.7906976744186046 0.7640449438202247 0.7771428571428571 0.8829448264296496\n"
          ]
        }
      ]
    }
  ]
}