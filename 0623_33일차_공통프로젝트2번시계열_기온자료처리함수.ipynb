{
  "nbformat": 4,
  "nbformat_minor": 0,
  "metadata": {
    "colab": {
      "name": "0623 33일차 공통프로젝트2번시계열 기온자료처리함수.ipynb",
      "provenance": [],
      "authorship_tag": "ABX9TyPj2hU7gDSD5MSfu9AHBRuq",
      "include_colab_link": true
    },
    "kernelspec": {
      "name": "python3",
      "display_name": "Python 3"
    },
    "language_info": {
      "name": "python"
    }
  },
  "cells": [
    {
      "cell_type": "markdown",
      "metadata": {
        "id": "view-in-github",
        "colab_type": "text"
      },
      "source": [
        "<a href=\"https://colab.research.google.com/github/Angorith/acorn_python/blob/main/0623_33%EC%9D%BC%EC%B0%A8_%EA%B3%B5%ED%86%B5%ED%94%84%EB%A1%9C%EC%A0%9D%ED%8A%B82%EB%B2%88%EC%8B%9C%EA%B3%84%EC%97%B4_%EA%B8%B0%EC%98%A8%EC%9E%90%EB%A3%8C%EC%B2%98%EB%A6%AC%ED%95%A8%EC%88%98.ipynb\" target=\"_parent\"><img src=\"https://colab.research.google.com/assets/colab-badge.svg\" alt=\"Open In Colab\"/></a>"
      ]
    },
    {
      "cell_type": "code",
      "execution_count": 3,
      "metadata": {
        "colab": {
          "base_uri": "https://localhost:8080/"
        },
        "id": "Q0NH6RdB4L2D",
        "outputId": "28fa04b6-6fd3-42bd-ac65-35997d3dfad9"
      },
      "outputs": [
        {
          "output_type": "stream",
          "name": "stdout",
          "text": [
            "Writing timeseries_module.py\n"
          ]
        }
      ],
      "source": [
        "%%writefile timeseries_module.py\n",
        "import pandas as pd\n",
        "import numpy as np\n",
        "import matplotlib.pyplot as plt\n",
        "import datetime as dt\n",
        "import glob\n",
        "\n",
        "def get_filelist(paths):\n",
        "\tfile_list = glob.glob(paths+'*')\n",
        "\thourly_data = []\n",
        "\tevery_minute_data = []\n",
        "\tfile_list_dict = {}\n",
        "\tfor i in file_list:\n",
        "\t\tif 'TIM' in i:\n",
        "\t\t\thourly_data.append(i)\n",
        "\t\telse:\n",
        "\t\t\tevery_minute_data.append(i)\n",
        "\tfile_list_dict['TIM'] = hourly_data\n",
        "\tfile_list_dict['MI'] = every_minute_data\n",
        "\treturn file_list_dict\n",
        "\n",
        "def get_data(file_list, index_column=2, parse_date=[2]):\n",
        "\tfile_list.sort()\n",
        "\tdata={}\n",
        "\tfor fn in file_list:\n",
        "\t\tdf = pd.read_csv(fn, index_col=index_column, \\\n",
        "\t\t\tparse_dates=parse_date, encoding='cp949', \\\n",
        "\t\t\tskiprows=[0], \\\n",
        "\t\t\tnames=['site', 'name', 'time', 'temp'])\n",
        "\t\tdf.drop(['site', 'name'], axis=1, inplace=True)\n",
        "\t\tdata[fn] = df\n",
        "\treturn (data)\n",
        "\n",
        "def missing_check(df, freqs):\n",
        "\tstart = df.index[0]\n",
        "\tend = df.index[-1]\n",
        "\ttimestamp = pd.date_range(start, end, freq=freqs)\n",
        "\t#print(timestamp)\n",
        "\tdf = df.reindex(timestamp)\n",
        "\treturn (df)\n",
        "\n",
        "def physical_check(df):\n",
        "\tdf[df<-33.0] = np.nan\n",
        "\tdf[df>40] = np.nan\n",
        "\treturn (df)\n",
        "\n",
        "def step_check1(df):\n",
        "\ttemp = df.iloc[0, 0]\n",
        "\tdf['step_check'] = df.diff().fillna(-999999.9)\n",
        "\tdf[df.step_check<-3.0] = np.nan\n",
        "\tdf[df.step_check>3.0] = np.nan\n",
        "\tif temp:\n",
        "\t\tdf.iloc[0, 0] = temp\n",
        "\treturn (df)\n",
        "\n",
        "def persistence_check(df):\n",
        "\tdf['persis'] = df.step_check.abs()\n",
        "\tdummy_data = df.resample('H').sum()\n",
        "\tdummy_data.drop(dummy_data.index[-1], inplace=True)\n",
        "\thour = dummy_data[dummy_data.persis<0.1].index.hour\n",
        "\tif len(hour):\n",
        "\t\tfor i in hour:\n",
        "\t\t\tdf[df.index.hour == i] = np.nan\n",
        "\treturn (df)\n",
        "\n",
        "def keep_data(df, file_name='bird'):\n",
        "\tstart = dt.datetime.strftime(df.index[0], '%Y%m%d%H%M%S')\n",
        "\tend = dt.datetime.strftime(df.index[-1], '%Y%m%d%H%M%S')\n",
        "\tif file_name == 'bird':\n",
        "\t\tfile_name = 'OBS_108_AirTemp_'+start+'_'+end+'.csv'\n",
        "\tdf.to_csv(file_name)\n",
        "\treturn (file_name)\n",
        "\n",
        "def resample_hour(m_data):\n",
        "\tfor key, df in m_data.items():\n",
        "\t\tdf = df.dropna().resample('H').agg({'temp':['size', 'mean']})\n",
        "\t\tdf = df.droplevel(level=0, axis=1)\n",
        "\t\tdf.loc[df['size']<48, 'mean'] = np.nan\n",
        "\t\tdf.dropna(inplace=True)\n",
        "\t\tdf = missing_check(df, 'H')\n",
        "\t\tif 'result' in locals():\n",
        "\t\t\tresult = pd.concat([result, df])\n",
        "\t\t\tcontinue\n",
        "\t\tresult=df\n",
        "\treturn result\n",
        "\n",
        "def resample_day(df, col_name='mean'):\n",
        "\tdf = df.dropna().resample('D').agg({col_name:['size', 'mean']})\n",
        "\tdf = df.droplevel(level=0, axis=1)\n",
        "\tdf.loc[df['size']<20, 'mean'] = np.nan\n",
        "\treturn (df)\n",
        "\n",
        "def resample_month(df, col_name='mean'):\n",
        "\tdf = df.dropna().resample('M').agg({col_name:['size', 'mean']})\n",
        "\tdf = df.droplevel(level=0, axis=1)\n",
        "\tdf.loc[df['size']<24, 'mean'] = np.nan\n",
        "\treturn (df)\n",
        "\n",
        "def timeseries_plot(df):\n",
        "\tdf.iloc[[11, 20, 21], :] = np.nan\n",
        "\tdf.columns=['sizes', 'means']\t\n",
        "\tdata = df.loc[:'2021-09-01', 'means']\n",
        "\tmethods = ['linear', 'quadratic', 'cubic']\n",
        "\tdf_gapfilled = pd.DataFrame({m: data.interpolate(method=m) for m in methods})\n",
        "\tdf_gapfilled.plot()\n",
        "\t#data.plot()\n",
        "\tplt.grid()\n",
        "\tplt.savefig('gf.png')\n",
        "\tdata = data.round(2)\n",
        "\tdf_gapfilled = df_gapfilled.round(2)\n",
        "\tdata.to_csv('pre_gap_filling.csv')\n",
        "\tdf_gapfilled.to_csv('gap_filled.csv')"
      ]
    },
    {
      "cell_type": "code",
      "source": [
        "%%writefile client.py\n",
        "import timeseries_module as tm\n",
        "\n",
        "paths = './drive/MyDrive/data/'\n",
        "\n",
        "file_list_dict = tm.get_filelist(paths)\n",
        "\n",
        "#print(file_list_dict)\n",
        "\n",
        "data = tm.get_data(file_list_dict['MI'])\n",
        "\n",
        "#print(data)\n",
        "\n",
        "m_data = {}\n",
        "for key, value in data.items():\n",
        "\tdf = tm.missing_check(value, 'T')\n",
        "\tdf = tm.physical_check(df)\n",
        "\tdf = tm.step_check1(df)\n",
        "\tprint(df)\n",
        "\tdf = tm.persistence_check(df)\n",
        "\tkey_f = tm.keep_data(df)\n",
        "\tm_data[key_f] = df\n",
        "\n",
        "hourly = tm.resample_hour(m_data)\n",
        "tm.keep_data(hourly, 'OBS_108_AirTemp_hourly_data') \n",
        "diurnal = tm.resample_day(hourly)\n",
        "tm.keep_data(diurnal, 'OBS_108_AirTemp_diurnal_data')\n",
        "\n",
        "h_data = tm.get_data(file_list_dict['TIM'])\n",
        "\n",
        "for i in h_data:\n",
        "\tdf = h_data[i]\n",
        "\tdf = tm.resample_day(df,'temp') \n",
        "\ttm.keep_data(df, 'OBS_108_AirTemp_2021_data')\n",
        "\n",
        "df_month = tm.resample_month(df)\n",
        "#print(df_month)\n",
        "\n",
        "tm.timeseries_plot(df)"
      ],
      "metadata": {
        "colab": {
          "base_uri": "https://localhost:8080/"
        },
        "id": "V5zuaQpr4crK",
        "outputId": "bdfffe78-1e7b-4b85-a342-357105798a2c"
      },
      "execution_count": 6,
      "outputs": [
        {
          "output_type": "stream",
          "name": "stdout",
          "text": [
            "Overwriting client.py\n"
          ]
        }
      ]
    },
    {
      "cell_type": "code",
      "source": [
        "%run client.py"
      ],
      "metadata": {
        "id": "90Pg91l34yGa"
      },
      "execution_count": null,
      "outputs": []
    }
  ]
}