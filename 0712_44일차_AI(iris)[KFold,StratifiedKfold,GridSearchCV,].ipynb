{
  "nbformat": 4,
  "nbformat_minor": 0,
  "metadata": {
    "colab": {
      "name": "0712 44일차 AI(iris)[KFold,StratifiedKfold,GridSearchCV,].ipynb",
      "provenance": [],
      "collapsed_sections": [],
      "authorship_tag": "ABX9TyOFq2tVPxaYAlUIte117Gz/",
      "include_colab_link": true
    },
    "kernelspec": {
      "name": "python3",
      "display_name": "Python 3"
    },
    "language_info": {
      "name": "python"
    }
  },
  "cells": [
    {
      "cell_type": "markdown",
      "metadata": {
        "id": "view-in-github",
        "colab_type": "text"
      },
      "source": [
        "<a href=\"https://colab.research.google.com/github/Angorith/acorn_python/blob/main/0712_44%EC%9D%BC%EC%B0%A8_AI(iris)%5BKFold%2CStratifiedKfold%2CGridSearchCV%2C%5D.ipynb\" target=\"_parent\"><img src=\"https://colab.research.google.com/assets/colab-badge.svg\" alt=\"Open In Colab\"/></a>"
      ]
    },
    {
      "cell_type": "code",
      "execution_count": 1,
      "metadata": {
        "id": "l0MefHmjt9YV"
      },
      "outputs": [],
      "source": [
        "from sklearn.tree import DecisionTreeClassifier\n",
        "from sklearn.model_selection import cross_val_score\n",
        "from sklearn.datasets import load_iris"
      ]
    },
    {
      "cell_type": "code",
      "source": [
        "import numpy as np\n",
        "import pandas as pd\n",
        "import matplotlib.pyplot as plt\n",
        "%matplotlib inline"
      ],
      "metadata": {
        "id": "1lfjCeUPvP-j"
      },
      "execution_count": 2,
      "outputs": []
    },
    {
      "cell_type": "code",
      "source": [
        "iris_data = load_iris()"
      ],
      "metadata": {
        "id": "HMq-e8HOvWzm"
      },
      "execution_count": 3,
      "outputs": []
    },
    {
      "cell_type": "code",
      "source": [
        "iris_data"
      ],
      "metadata": {
        "id": "WbuTi5ERvk6Y"
      },
      "execution_count": null,
      "outputs": []
    },
    {
      "cell_type": "code",
      "source": [
        "dt_clf = DecisionTreeClassifier(random_state =156)\n",
        "\n",
        "data = iris_data.data       #아이리스 \n",
        "label = iris_data.target    #정답지\n",
        "#성능 지표는 정확도 (accuracy) , 교차 검증 세트는 3개\n",
        "\n",
        "scores = cross_val_score(dt_clf, data, label, scoring='accuracy', cv=3)\n",
        "print('교차 검증별 정확도 :' , np.round(scores, 4))\n",
        "print('평균 검증 정확도 :', np.round(np.mean(scores), 4))"
      ],
      "metadata": {
        "colab": {
          "base_uri": "https://localhost:8080/"
        },
        "id": "Ea34LWtDvlxe",
        "outputId": "f03b5aa9-b4ab-4c6a-c5ae-af33315cf639"
      },
      "execution_count": 5,
      "outputs": [
        {
          "output_type": "stream",
          "name": "stdout",
          "text": [
            "교차 검증별 정확도 : [0.98 0.94 0.98]\n",
            "평균 검증 정확도 : 0.9667\n"
          ]
        }
      ]
    },
    {
      "cell_type": "markdown",
      "source": [
        "KFold : 3( 훈련 데이터를 세개로 나눠서 교차해가며 훈련과 검증을 수행하는 것)\n",
        "\n",
        "3, 5, 7 로 나오게 되는데 \n",
        "\n",
        "StratifiedKFold : label의 분포를 고려하여 train, test에 나눠주는 역할"
      ],
      "metadata": {
        "id": "B7ZOsBI-widx"
      }
    },
    {
      "cell_type": "code",
      "source": [
        "from sklearn.model_selection import StratifiedKFold\n",
        "from sklearn.metrics import accuracy_score"
      ],
      "metadata": {
        "id": "3JmEamZ73-LL"
      },
      "execution_count": 7,
      "outputs": []
    },
    {
      "cell_type": "code",
      "source": [
        "iris = load_iris()\n",
        "features = iris.data\n",
        "label = iris.target"
      ],
      "metadata": {
        "id": "ad8dntDy4EL_"
      },
      "execution_count": 8,
      "outputs": []
    },
    {
      "cell_type": "code",
      "source": [
        "dt_clf = DecisionTreeClassifier(random_state=156)\n",
        "\n",
        "skfold = StratifiedKFold(n_splits=3)\n",
        "n_iter=0\n",
        "cv_accuracy=[]\n",
        "\n",
        "# StratifiedKFold의 split( ) 호출시 반드시 레이블 데이터 셋도 추가 입력 필요  \n",
        "for train_index, test_index  in skfold.split(features, label):  #label = iris.target, features= iris.data\n",
        "    # split( )으로 반환된 인덱스를 이용하여 학습용, 검증용 테스트 데이터 추출\n",
        "    X_train, X_test = features[train_index], features[test_index]\n",
        "    y_train, y_test = label[train_index], label[test_index]\n",
        "    #학습 및 예측 \n",
        "    dt_clf.fit(X_train , y_train)    \n",
        "    pred = dt_clf.predict(X_test)\n",
        "\n",
        "    # 반복 시 마다 정확도 측정 \n",
        "    n_iter += 1\n",
        "    accuracy = np.round(accuracy_score(y_test,pred), 4)\n",
        "    train_size = X_train.shape[0]\n",
        "    test_size = X_test.shape[0]\n",
        "    print('\\n#{0} 교차 검증 정확도 :{1}, 학습 데이터 크기: {2}, 검증 데이터 크기: {3}'\n",
        "          .format(n_iter, accuracy, train_size, test_size))\n",
        "    print('#{0} 검증 세트 인덱스:{1}'.format(n_iter,test_index))\n",
        "    cv_accuracy.append(accuracy)\n",
        "    \n",
        "# 교차 검증별 정확도 및 평균 정확도 계산 \n",
        "print('\\n## 교차 검증별 정확도:', np.round(cv_accuracy, 4))\n",
        "print('## 평균 검증 정확도:', np.mean(cv_accuracy))"
      ],
      "metadata": {
        "colab": {
          "base_uri": "https://localhost:8080/"
        },
        "id": "I3UW9Wvivxkb",
        "outputId": "340b6b28-045e-49d5-b415-309656f5df8b"
      },
      "execution_count": 9,
      "outputs": [
        {
          "output_type": "stream",
          "name": "stdout",
          "text": [
            "\n",
            "#1 교차 검증 정확도 :0.98, 학습 데이터 크기: 100, 검증 데이터 크기: 50\n",
            "#1 검증 세트 인덱스:[  0   1   2   3   4   5   6   7   8   9  10  11  12  13  14  15  16  50\n",
            "  51  52  53  54  55  56  57  58  59  60  61  62  63  64  65  66 100 101\n",
            " 102 103 104 105 106 107 108 109 110 111 112 113 114 115]\n",
            "\n",
            "#2 교차 검증 정확도 :0.94, 학습 데이터 크기: 100, 검증 데이터 크기: 50\n",
            "#2 검증 세트 인덱스:[ 17  18  19  20  21  22  23  24  25  26  27  28  29  30  31  32  33  67\n",
            "  68  69  70  71  72  73  74  75  76  77  78  79  80  81  82 116 117 118\n",
            " 119 120 121 122 123 124 125 126 127 128 129 130 131 132]\n",
            "\n",
            "#3 교차 검증 정확도 :0.98, 학습 데이터 크기: 100, 검증 데이터 크기: 50\n",
            "#3 검증 세트 인덱스:[ 34  35  36  37  38  39  40  41  42  43  44  45  46  47  48  49  83  84\n",
            "  85  86  87  88  89  90  91  92  93  94  95  96  97  98  99 133 134 135\n",
            " 136 137 138 139 140 141 142 143 144 145 146 147 148 149]\n",
            "\n",
            "## 교차 검증별 정확도: [0.98 0.94 0.98]\n",
            "## 평균 검증 정확도: 0.9666666666666667\n"
          ]
        }
      ]
    },
    {
      "cell_type": "markdown",
      "source": [
        "#GridSearchCV\n",
        "\n",
        "교차 검증과 최적 하이버 파라미터 튜닝을 한번에 해주는 함수\n",
        "\n",
        "- estimator = 추정기로 classifier, regressor, pipeline 등 사용\n",
        "\n",
        "- refit = True가 default임. True 이면 가장 좋은 파라미터 설정으로 재학습 시킴\n",
        "- cv 가 정수이거나, 입력이 없으면 stratified fold가 사용된다.\n",
        "- scoring = 성능평가 방법 결정하는 옵션"
      ],
      "metadata": {
        "id": "n6Psc768yDGA"
      }
    },
    {
      "cell_type": "code",
      "source": [
        "from sklearn.model_selection import GridSearchCV\n",
        "from sklearn.model_selection import train_test_split"
      ],
      "metadata": {
        "id": "6tCk1YZ8yfn0"
      },
      "execution_count": 10,
      "outputs": []
    },
    {
      "cell_type": "code",
      "source": [
        "iris.data"
      ],
      "metadata": {
        "id": "KXJJonp6vvLo"
      },
      "execution_count": null,
      "outputs": []
    },
    {
      "cell_type": "code",
      "source": [
        "iris.target"
      ],
      "metadata": {
        "colab": {
          "base_uri": "https://localhost:8080/"
        },
        "id": "H5R7FtxLvv8j",
        "outputId": "946cd6ea-5119-469a-fc06-a25d31200ca9"
      },
      "execution_count": 12,
      "outputs": [
        {
          "output_type": "execute_result",
          "data": {
            "text/plain": [
              "array([0, 0, 0, 0, 0, 0, 0, 0, 0, 0, 0, 0, 0, 0, 0, 0, 0, 0, 0, 0, 0, 0,\n",
              "       0, 0, 0, 0, 0, 0, 0, 0, 0, 0, 0, 0, 0, 0, 0, 0, 0, 0, 0, 0, 0, 0,\n",
              "       0, 0, 0, 0, 0, 0, 1, 1, 1, 1, 1, 1, 1, 1, 1, 1, 1, 1, 1, 1, 1, 1,\n",
              "       1, 1, 1, 1, 1, 1, 1, 1, 1, 1, 1, 1, 1, 1, 1, 1, 1, 1, 1, 1, 1, 1,\n",
              "       1, 1, 1, 1, 1, 1, 1, 1, 1, 1, 1, 1, 2, 2, 2, 2, 2, 2, 2, 2, 2, 2,\n",
              "       2, 2, 2, 2, 2, 2, 2, 2, 2, 2, 2, 2, 2, 2, 2, 2, 2, 2, 2, 2, 2, 2,\n",
              "       2, 2, 2, 2, 2, 2, 2, 2, 2, 2, 2, 2, 2, 2, 2, 2, 2, 2])"
            ]
          },
          "metadata": {},
          "execution_count": 12
        }
      ]
    },
    {
      "cell_type": "code",
      "source": [
        "X_train, X_test, y_train, y_test = train_test_split(iris.data , iris.target,\n",
        "                                                    test_size=0.2, random_state=121)"
      ],
      "metadata": {
        "id": "IzoLlJpW0RAY"
      },
      "execution_count": 13,
      "outputs": []
    },
    {
      "cell_type": "code",
      "source": [
        "#parameter 들을 dictionary형태로 설정\n",
        "parameters = {'max_depth':[1,2,3], 'min_samples_split':[2,3]}\n",
        "#max_depth:  트리의 층 깊이를 결정\n",
        "#min_samples_split : 분할 할 수 있는 샘플 수 의 최소값"
      ],
      "metadata": {
        "id": "Ad8JgW_F1T0X"
      },
      "execution_count": 14,
      "outputs": []
    },
    {
      "cell_type": "markdown",
      "source": [
        "![다운로드 (1).png](data:image/png;base64,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)"
      ],
      "metadata": {
        "id": "fP633kfRv1ZZ"
      }
    },
    {
      "cell_type": "code",
      "source": [
        "iris.data[:13]"
      ],
      "metadata": {
        "id": "fY5yXfaw2WVz",
        "colab": {
          "base_uri": "https://localhost:8080/"
        },
        "outputId": "223ce84f-30c4-4be8-ee60-f7ae7fd3102a"
      },
      "execution_count": 15,
      "outputs": [
        {
          "output_type": "execute_result",
          "data": {
            "text/plain": [
              "array([[5.1, 3.5, 1.4, 0.2],\n",
              "       [4.9, 3. , 1.4, 0.2],\n",
              "       [4.7, 3.2, 1.3, 0.2],\n",
              "       [4.6, 3.1, 1.5, 0.2],\n",
              "       [5. , 3.6, 1.4, 0.2],\n",
              "       [5.4, 3.9, 1.7, 0.4],\n",
              "       [4.6, 3.4, 1.4, 0.3],\n",
              "       [5. , 3.4, 1.5, 0.2],\n",
              "       [4.4, 2.9, 1.4, 0.2],\n",
              "       [4.9, 3.1, 1.5, 0.1],\n",
              "       [5.4, 3.7, 1.5, 0.2],\n",
              "       [4.8, 3.4, 1.6, 0.2],\n",
              "       [4.8, 3. , 1.4, 0.1]])"
            ]
          },
          "metadata": {},
          "execution_count": 15
        }
      ]
    },
    {
      "cell_type": "code",
      "source": [
        "dtree= DecisionTreeClassifier()"
      ],
      "metadata": {
        "id": "nULxjrKU4-oa"
      },
      "execution_count": 16,
      "outputs": []
    },
    {
      "cell_type": "code",
      "source": [
        "#param_grid의 hyper parameters을 3개의 train, test set fold로 나누어서 테스트 수행 설정.\n",
        "grid_dtree = GridSearchCV(dtree, param_grid = parameters, cv=3, refit=True)"
      ],
      "metadata": {
        "id": "hz0k6ihV2bLz"
      },
      "execution_count": 17,
      "outputs": []
    },
    {
      "cell_type": "code",
      "source": [
        "#붓꽃 Train 데이터로 param_grid 의 하이퍼 파라미터들을 순차적으로 학습/평가\n",
        "grid_dtree.fit(X_train, y_train)"
      ],
      "metadata": {
        "colab": {
          "base_uri": "https://localhost:8080/"
        },
        "id": "C8s-d_7u4748",
        "outputId": "187e87ba-545f-4414-cb2c-2222d33fa82e"
      },
      "execution_count": 18,
      "outputs": [
        {
          "output_type": "execute_result",
          "data": {
            "text/plain": [
              "GridSearchCV(cv=3, estimator=DecisionTreeClassifier(),\n",
              "             param_grid={'max_depth': [1, 2, 3], 'min_samples_split': [2, 3]})"
            ]
          },
          "metadata": {},
          "execution_count": 18
        }
      ]
    },
    {
      "cell_type": "code",
      "source": [
        "score_df = pd.DataFrame(grid_dtree.cv_results_)"
      ],
      "metadata": {
        "id": "RSwXA5vp5Kij"
      },
      "execution_count": 19,
      "outputs": []
    },
    {
      "cell_type": "code",
      "source": [
        "grid_dtree.cv_results_"
      ],
      "metadata": {
        "colab": {
          "base_uri": "https://localhost:8080/"
        },
        "id": "AcW79KXF7xfj",
        "outputId": "efdd2cc0-3576-4336-d2ed-6b643405b5eb"
      },
      "execution_count": 20,
      "outputs": [
        {
          "output_type": "execute_result",
          "data": {
            "text/plain": [
              "{'mean_fit_time': array([0.00084074, 0.00039164, 0.0003856 , 0.00035445, 0.00036836,\n",
              "        0.0003744 ]),\n",
              " 'mean_score_time': array([0.00076358, 0.00020885, 0.00020234, 0.00019956, 0.00020194,\n",
              "        0.00020623]),\n",
              " 'mean_test_score': array([0.7       , 0.7       , 0.95833333, 0.95833333, 0.975     ,\n",
              "        0.975     ]),\n",
              " 'param_max_depth': masked_array(data=[1, 1, 2, 2, 3, 3],\n",
              "              mask=[False, False, False, False, False, False],\n",
              "        fill_value='?',\n",
              "             dtype=object),\n",
              " 'param_min_samples_split': masked_array(data=[2, 3, 2, 3, 2, 3],\n",
              "              mask=[False, False, False, False, False, False],\n",
              "        fill_value='?',\n",
              "             dtype=object),\n",
              " 'params': [{'max_depth': 1, 'min_samples_split': 2},\n",
              "  {'max_depth': 1, 'min_samples_split': 3},\n",
              "  {'max_depth': 2, 'min_samples_split': 2},\n",
              "  {'max_depth': 2, 'min_samples_split': 3},\n",
              "  {'max_depth': 3, 'min_samples_split': 2},\n",
              "  {'max_depth': 3, 'min_samples_split': 3}],\n",
              " 'rank_test_score': array([5, 5, 3, 3, 1, 1], dtype=int32),\n",
              " 'split0_test_score': array([0.7  , 0.7  , 0.925, 0.925, 0.975, 0.975]),\n",
              " 'split1_test_score': array([0.7, 0.7, 1. , 1. , 1. , 1. ]),\n",
              " 'split2_test_score': array([0.7 , 0.7 , 0.95, 0.95, 0.95, 0.95]),\n",
              " 'std_fit_time': array([3.34674999e-04, 1.67508730e-05, 1.38259937e-05, 2.72766786e-06,\n",
              "        1.03394160e-05, 4.10344780e-06]),\n",
              " 'std_score_time': array([6.13755441e-04, 5.10238041e-06, 9.52149868e-06, 1.07966154e-05,\n",
              "        7.24991135e-06, 1.22145416e-05]),\n",
              " 'std_test_score': array([1.11022302e-16, 1.11022302e-16, 3.11804782e-02, 3.11804782e-02,\n",
              "        2.04124145e-02, 2.04124145e-02])}"
            ]
          },
          "metadata": {},
          "execution_count": 20
        }
      ]
    },
    {
      "cell_type": "code",
      "source": [
        "score_df[['params', 'mean_test_score', 'rank_test_score', 'split0_test_score', 'split1_test_score', 'split2_test_score']]"
      ],
      "metadata": {
        "colab": {
          "base_uri": "https://localhost:8080/",
          "height": 510
        },
        "id": "uiGPNACN8MdY",
        "outputId": "e230f26a-9e90-43ad-90a9-4dbe212bb117"
      },
      "execution_count": 21,
      "outputs": [
        {
          "output_type": "execute_result",
          "data": {
            "text/plain": [
              "                                     params  mean_test_score  rank_test_score  \\\n",
              "0  {'max_depth': 1, 'min_samples_split': 2}         0.700000                5   \n",
              "1  {'max_depth': 1, 'min_samples_split': 3}         0.700000                5   \n",
              "2  {'max_depth': 2, 'min_samples_split': 2}         0.958333                3   \n",
              "3  {'max_depth': 2, 'min_samples_split': 3}         0.958333                3   \n",
              "4  {'max_depth': 3, 'min_samples_split': 2}         0.975000                1   \n",
              "5  {'max_depth': 3, 'min_samples_split': 3}         0.975000                1   \n",
              "\n",
              "   split0_test_score  split1_test_score  split2_test_score  \n",
              "0              0.700                0.7               0.70  \n",
              "1              0.700                0.7               0.70  \n",
              "2              0.925                1.0               0.95  \n",
              "3              0.925                1.0               0.95  \n",
              "4              0.975                1.0               0.95  \n",
              "5              0.975                1.0               0.95  "
            ],
            "text/html": [
              "\n",
              "  <div id=\"df-fca2dab2-8d90-448c-ab42-1c30ff0d7926\">\n",
              "    <div class=\"colab-df-container\">\n",
              "      <div>\n",
              "<style scoped>\n",
              "    .dataframe tbody tr th:only-of-type {\n",
              "        vertical-align: middle;\n",
              "    }\n",
              "\n",
              "    .dataframe tbody tr th {\n",
              "        vertical-align: top;\n",
              "    }\n",
              "\n",
              "    .dataframe thead th {\n",
              "        text-align: right;\n",
              "    }\n",
              "</style>\n",
              "<table border=\"1\" class=\"dataframe\">\n",
              "  <thead>\n",
              "    <tr style=\"text-align: right;\">\n",
              "      <th></th>\n",
              "      <th>params</th>\n",
              "      <th>mean_test_score</th>\n",
              "      <th>rank_test_score</th>\n",
              "      <th>split0_test_score</th>\n",
              "      <th>split1_test_score</th>\n",
              "      <th>split2_test_score</th>\n",
              "    </tr>\n",
              "  </thead>\n",
              "  <tbody>\n",
              "    <tr>\n",
              "      <th>0</th>\n",
              "      <td>{'max_depth': 1, 'min_samples_split': 2}</td>\n",
              "      <td>0.700000</td>\n",
              "      <td>5</td>\n",
              "      <td>0.700</td>\n",
              "      <td>0.7</td>\n",
              "      <td>0.70</td>\n",
              "    </tr>\n",
              "    <tr>\n",
              "      <th>1</th>\n",
              "      <td>{'max_depth': 1, 'min_samples_split': 3}</td>\n",
              "      <td>0.700000</td>\n",
              "      <td>5</td>\n",
              "      <td>0.700</td>\n",
              "      <td>0.7</td>\n",
              "      <td>0.70</td>\n",
              "    </tr>\n",
              "    <tr>\n",
              "      <th>2</th>\n",
              "      <td>{'max_depth': 2, 'min_samples_split': 2}</td>\n",
              "      <td>0.958333</td>\n",
              "      <td>3</td>\n",
              "      <td>0.925</td>\n",
              "      <td>1.0</td>\n",
              "      <td>0.95</td>\n",
              "    </tr>\n",
              "    <tr>\n",
              "      <th>3</th>\n",
              "      <td>{'max_depth': 2, 'min_samples_split': 3}</td>\n",
              "      <td>0.958333</td>\n",
              "      <td>3</td>\n",
              "      <td>0.925</td>\n",
              "      <td>1.0</td>\n",
              "      <td>0.95</td>\n",
              "    </tr>\n",
              "    <tr>\n",
              "      <th>4</th>\n",
              "      <td>{'max_depth': 3, 'min_samples_split': 2}</td>\n",
              "      <td>0.975000</td>\n",
              "      <td>1</td>\n",
              "      <td>0.975</td>\n",
              "      <td>1.0</td>\n",
              "      <td>0.95</td>\n",
              "    </tr>\n",
              "    <tr>\n",
              "      <th>5</th>\n",
              "      <td>{'max_depth': 3, 'min_samples_split': 3}</td>\n",
              "      <td>0.975000</td>\n",
              "      <td>1</td>\n",
              "      <td>0.975</td>\n",
              "      <td>1.0</td>\n",
              "      <td>0.95</td>\n",
              "    </tr>\n",
              "  </tbody>\n",
              "</table>\n",
              "</div>\n",
              "      <button class=\"colab-df-convert\" onclick=\"convertToInteractive('df-fca2dab2-8d90-448c-ab42-1c30ff0d7926')\"\n",
              "              title=\"Convert this dataframe to an interactive table.\"\n",
              "              style=\"display:none;\">\n",
              "        \n",
              "  <svg xmlns=\"http://www.w3.org/2000/svg\" height=\"24px\"viewBox=\"0 0 24 24\"\n",
              "       width=\"24px\">\n",
              "    <path d=\"M0 0h24v24H0V0z\" fill=\"none\"/>\n",
              "    <path d=\"M18.56 5.44l.94 2.06.94-2.06 2.06-.94-2.06-.94-.94-2.06-.94 2.06-2.06.94zm-11 1L8.5 8.5l.94-2.06 2.06-.94-2.06-.94L8.5 2.5l-.94 2.06-2.06.94zm10 10l.94 2.06.94-2.06 2.06-.94-2.06-.94-.94-2.06-.94 2.06-2.06.94z\"/><path d=\"M17.41 7.96l-1.37-1.37c-.4-.4-.92-.59-1.43-.59-.52 0-1.04.2-1.43.59L10.3 9.45l-7.72 7.72c-.78.78-.78 2.05 0 2.83L4 21.41c.39.39.9.59 1.41.59.51 0 1.02-.2 1.41-.59l7.78-7.78 2.81-2.81c.8-.78.8-2.07 0-2.86zM5.41 20L4 18.59l7.72-7.72 1.47 1.35L5.41 20z\"/>\n",
              "  </svg>\n",
              "      </button>\n",
              "      \n",
              "  <style>\n",
              "    .colab-df-container {\n",
              "      display:flex;\n",
              "      flex-wrap:wrap;\n",
              "      gap: 12px;\n",
              "    }\n",
              "\n",
              "    .colab-df-convert {\n",
              "      background-color: #E8F0FE;\n",
              "      border: none;\n",
              "      border-radius: 50%;\n",
              "      cursor: pointer;\n",
              "      display: none;\n",
              "      fill: #1967D2;\n",
              "      height: 32px;\n",
              "      padding: 0 0 0 0;\n",
              "      width: 32px;\n",
              "    }\n",
              "\n",
              "    .colab-df-convert:hover {\n",
              "      background-color: #E2EBFA;\n",
              "      box-shadow: 0px 1px 2px rgba(60, 64, 67, 0.3), 0px 1px 3px 1px rgba(60, 64, 67, 0.15);\n",
              "      fill: #174EA6;\n",
              "    }\n",
              "\n",
              "    [theme=dark] .colab-df-convert {\n",
              "      background-color: #3B4455;\n",
              "      fill: #D2E3FC;\n",
              "    }\n",
              "\n",
              "    [theme=dark] .colab-df-convert:hover {\n",
              "      background-color: #434B5C;\n",
              "      box-shadow: 0px 1px 3px 1px rgba(0, 0, 0, 0.15);\n",
              "      filter: drop-shadow(0px 1px 2px rgba(0, 0, 0, 0.3));\n",
              "      fill: #FFFFFF;\n",
              "    }\n",
              "  </style>\n",
              "\n",
              "      <script>\n",
              "        const buttonEl =\n",
              "          document.querySelector('#df-fca2dab2-8d90-448c-ab42-1c30ff0d7926 button.colab-df-convert');\n",
              "        buttonEl.style.display =\n",
              "          google.colab.kernel.accessAllowed ? 'block' : 'none';\n",
              "\n",
              "        async function convertToInteractive(key) {\n",
              "          const element = document.querySelector('#df-fca2dab2-8d90-448c-ab42-1c30ff0d7926');\n",
              "          const dataTable =\n",
              "            await google.colab.kernel.invokeFunction('convertToInteractive',\n",
              "                                                     [key], {});\n",
              "          if (!dataTable) return;\n",
              "\n",
              "          const docLinkHtml = 'Like what you see? Visit the ' +\n",
              "            '<a target=\"_blank\" href=https://colab.research.google.com/notebooks/data_table.ipynb>data table notebook</a>'\n",
              "            + ' to learn more about interactive tables.';\n",
              "          element.innerHTML = '';\n",
              "          dataTable['output_type'] = 'display_data';\n",
              "          await google.colab.output.renderOutput(dataTable, element);\n",
              "          const docLink = document.createElement('div');\n",
              "          docLink.innerHTML = docLinkHtml;\n",
              "          element.appendChild(docLink);\n",
              "        }\n",
              "      </script>\n",
              "    </div>\n",
              "  </div>\n",
              "  "
            ]
          },
          "metadata": {},
          "execution_count": 21
        }
      ]
    },
    {
      "cell_type": "markdown",
      "source": [
        "GridSearchCV scoring의 default값이 무엇인지 확인해보자"
      ],
      "metadata": {
        "id": "j8fGVYBB9dn-"
      }
    },
    {
      "cell_type": "code",
      "source": [
        "grid_dtree_acc =GridSearchCV(dtree, param_grid=parameters, scoring='accuracy', cv=3, refit=True)\n",
        "grid_dtree_acc.fit(X_train, y_train)\n",
        "sdf_acc = pd.DataFrame(grid_dtree_acc.cv_results_)\n",
        "sdf_acc[['params', 'mean_test_score', 'rank_test_score', 'split0_test_score', 'split1_test_score', 'split2_test_score']]"
      ],
      "metadata": {
        "colab": {
          "base_uri": "https://localhost:8080/",
          "height": 510
        },
        "id": "--cm7TBh8TwY",
        "outputId": "866fd928-f75b-48a2-ded6-1b62de3a4d66"
      },
      "execution_count": 22,
      "outputs": [
        {
          "output_type": "execute_result",
          "data": {
            "text/plain": [
              "                                     params  mean_test_score  rank_test_score  \\\n",
              "0  {'max_depth': 1, 'min_samples_split': 2}         0.700000                5   \n",
              "1  {'max_depth': 1, 'min_samples_split': 3}         0.700000                5   \n",
              "2  {'max_depth': 2, 'min_samples_split': 2}         0.958333                3   \n",
              "3  {'max_depth': 2, 'min_samples_split': 3}         0.958333                3   \n",
              "4  {'max_depth': 3, 'min_samples_split': 2}         0.975000                1   \n",
              "5  {'max_depth': 3, 'min_samples_split': 3}         0.975000                1   \n",
              "\n",
              "   split0_test_score  split1_test_score  split2_test_score  \n",
              "0              0.700                0.7               0.70  \n",
              "1              0.700                0.7               0.70  \n",
              "2              0.925                1.0               0.95  \n",
              "3              0.925                1.0               0.95  \n",
              "4              0.975                1.0               0.95  \n",
              "5              0.975                1.0               0.95  "
            ],
            "text/html": [
              "\n",
              "  <div id=\"df-0cc8a4fb-ad7f-4bfa-b8f4-8e41a92c8343\">\n",
              "    <div class=\"colab-df-container\">\n",
              "      <div>\n",
              "<style scoped>\n",
              "    .dataframe tbody tr th:only-of-type {\n",
              "        vertical-align: middle;\n",
              "    }\n",
              "\n",
              "    .dataframe tbody tr th {\n",
              "        vertical-align: top;\n",
              "    }\n",
              "\n",
              "    .dataframe thead th {\n",
              "        text-align: right;\n",
              "    }\n",
              "</style>\n",
              "<table border=\"1\" class=\"dataframe\">\n",
              "  <thead>\n",
              "    <tr style=\"text-align: right;\">\n",
              "      <th></th>\n",
              "      <th>params</th>\n",
              "      <th>mean_test_score</th>\n",
              "      <th>rank_test_score</th>\n",
              "      <th>split0_test_score</th>\n",
              "      <th>split1_test_score</th>\n",
              "      <th>split2_test_score</th>\n",
              "    </tr>\n",
              "  </thead>\n",
              "  <tbody>\n",
              "    <tr>\n",
              "      <th>0</th>\n",
              "      <td>{'max_depth': 1, 'min_samples_split': 2}</td>\n",
              "      <td>0.700000</td>\n",
              "      <td>5</td>\n",
              "      <td>0.700</td>\n",
              "      <td>0.7</td>\n",
              "      <td>0.70</td>\n",
              "    </tr>\n",
              "    <tr>\n",
              "      <th>1</th>\n",
              "      <td>{'max_depth': 1, 'min_samples_split': 3}</td>\n",
              "      <td>0.700000</td>\n",
              "      <td>5</td>\n",
              "      <td>0.700</td>\n",
              "      <td>0.7</td>\n",
              "      <td>0.70</td>\n",
              "    </tr>\n",
              "    <tr>\n",
              "      <th>2</th>\n",
              "      <td>{'max_depth': 2, 'min_samples_split': 2}</td>\n",
              "      <td>0.958333</td>\n",
              "      <td>3</td>\n",
              "      <td>0.925</td>\n",
              "      <td>1.0</td>\n",
              "      <td>0.95</td>\n",
              "    </tr>\n",
              "    <tr>\n",
              "      <th>3</th>\n",
              "      <td>{'max_depth': 2, 'min_samples_split': 3}</td>\n",
              "      <td>0.958333</td>\n",
              "      <td>3</td>\n",
              "      <td>0.925</td>\n",
              "      <td>1.0</td>\n",
              "      <td>0.95</td>\n",
              "    </tr>\n",
              "    <tr>\n",
              "      <th>4</th>\n",
              "      <td>{'max_depth': 3, 'min_samples_split': 2}</td>\n",
              "      <td>0.975000</td>\n",
              "      <td>1</td>\n",
              "      <td>0.975</td>\n",
              "      <td>1.0</td>\n",
              "      <td>0.95</td>\n",
              "    </tr>\n",
              "    <tr>\n",
              "      <th>5</th>\n",
              "      <td>{'max_depth': 3, 'min_samples_split': 3}</td>\n",
              "      <td>0.975000</td>\n",
              "      <td>1</td>\n",
              "      <td>0.975</td>\n",
              "      <td>1.0</td>\n",
              "      <td>0.95</td>\n",
              "    </tr>\n",
              "  </tbody>\n",
              "</table>\n",
              "</div>\n",
              "      <button class=\"colab-df-convert\" onclick=\"convertToInteractive('df-0cc8a4fb-ad7f-4bfa-b8f4-8e41a92c8343')\"\n",
              "              title=\"Convert this dataframe to an interactive table.\"\n",
              "              style=\"display:none;\">\n",
              "        \n",
              "  <svg xmlns=\"http://www.w3.org/2000/svg\" height=\"24px\"viewBox=\"0 0 24 24\"\n",
              "       width=\"24px\">\n",
              "    <path d=\"M0 0h24v24H0V0z\" fill=\"none\"/>\n",
              "    <path d=\"M18.56 5.44l.94 2.06.94-2.06 2.06-.94-2.06-.94-.94-2.06-.94 2.06-2.06.94zm-11 1L8.5 8.5l.94-2.06 2.06-.94-2.06-.94L8.5 2.5l-.94 2.06-2.06.94zm10 10l.94 2.06.94-2.06 2.06-.94-2.06-.94-.94-2.06-.94 2.06-2.06.94z\"/><path d=\"M17.41 7.96l-1.37-1.37c-.4-.4-.92-.59-1.43-.59-.52 0-1.04.2-1.43.59L10.3 9.45l-7.72 7.72c-.78.78-.78 2.05 0 2.83L4 21.41c.39.39.9.59 1.41.59.51 0 1.02-.2 1.41-.59l7.78-7.78 2.81-2.81c.8-.78.8-2.07 0-2.86zM5.41 20L4 18.59l7.72-7.72 1.47 1.35L5.41 20z\"/>\n",
              "  </svg>\n",
              "      </button>\n",
              "      \n",
              "  <style>\n",
              "    .colab-df-container {\n",
              "      display:flex;\n",
              "      flex-wrap:wrap;\n",
              "      gap: 12px;\n",
              "    }\n",
              "\n",
              "    .colab-df-convert {\n",
              "      background-color: #E8F0FE;\n",
              "      border: none;\n",
              "      border-radius: 50%;\n",
              "      cursor: pointer;\n",
              "      display: none;\n",
              "      fill: #1967D2;\n",
              "      height: 32px;\n",
              "      padding: 0 0 0 0;\n",
              "      width: 32px;\n",
              "    }\n",
              "\n",
              "    .colab-df-convert:hover {\n",
              "      background-color: #E2EBFA;\n",
              "      box-shadow: 0px 1px 2px rgba(60, 64, 67, 0.3), 0px 1px 3px 1px rgba(60, 64, 67, 0.15);\n",
              "      fill: #174EA6;\n",
              "    }\n",
              "\n",
              "    [theme=dark] .colab-df-convert {\n",
              "      background-color: #3B4455;\n",
              "      fill: #D2E3FC;\n",
              "    }\n",
              "\n",
              "    [theme=dark] .colab-df-convert:hover {\n",
              "      background-color: #434B5C;\n",
              "      box-shadow: 0px 1px 3px 1px rgba(0, 0, 0, 0.15);\n",
              "      filter: drop-shadow(0px 1px 2px rgba(0, 0, 0, 0.3));\n",
              "      fill: #FFFFFF;\n",
              "    }\n",
              "  </style>\n",
              "\n",
              "      <script>\n",
              "        const buttonEl =\n",
              "          document.querySelector('#df-0cc8a4fb-ad7f-4bfa-b8f4-8e41a92c8343 button.colab-df-convert');\n",
              "        buttonEl.style.display =\n",
              "          google.colab.kernel.accessAllowed ? 'block' : 'none';\n",
              "\n",
              "        async function convertToInteractive(key) {\n",
              "          const element = document.querySelector('#df-0cc8a4fb-ad7f-4bfa-b8f4-8e41a92c8343');\n",
              "          const dataTable =\n",
              "            await google.colab.kernel.invokeFunction('convertToInteractive',\n",
              "                                                     [key], {});\n",
              "          if (!dataTable) return;\n",
              "\n",
              "          const docLinkHtml = 'Like what you see? Visit the ' +\n",
              "            '<a target=\"_blank\" href=https://colab.research.google.com/notebooks/data_table.ipynb>data table notebook</a>'\n",
              "            + ' to learn more about interactive tables.';\n",
              "          element.innerHTML = '';\n",
              "          dataTable['output_type'] = 'display_data';\n",
              "          await google.colab.output.renderOutput(dataTable, element);\n",
              "          const docLink = document.createElement('div');\n",
              "          docLink.innerHTML = docLinkHtml;\n",
              "          element.appendChild(docLink);\n",
              "        }\n",
              "      </script>\n",
              "    </div>\n",
              "  </div>\n",
              "  "
            ]
          },
          "metadata": {},
          "execution_count": 22
        }
      ]
    },
    {
      "cell_type": "code",
      "source": [
        "grid_dtree.best_params_"
      ],
      "metadata": {
        "colab": {
          "base_uri": "https://localhost:8080/"
        },
        "id": "90y0cbMH-AHf",
        "outputId": "d2373930-cc19-44fc-8138-f496e8e08083"
      },
      "execution_count": 23,
      "outputs": [
        {
          "output_type": "execute_result",
          "data": {
            "text/plain": [
              "{'max_depth': 3, 'min_samples_split': 2}"
            ]
          },
          "metadata": {},
          "execution_count": 23
        }
      ]
    },
    {
      "cell_type": "code",
      "source": [
        "grid_dtree.best_score_"
      ],
      "metadata": {
        "colab": {
          "base_uri": "https://localhost:8080/"
        },
        "id": "flIIpkR5-ZTL",
        "outputId": "0e57b3a5-3294-4a4b-ac12-a3a55932e032"
      },
      "execution_count": 24,
      "outputs": [
        {
          "output_type": "execute_result",
          "data": {
            "text/plain": [
              "0.975"
            ]
          },
          "metadata": {},
          "execution_count": 24
        }
      ]
    },
    {
      "cell_type": "code",
      "source": [
        "#GridSearchCV 의 refit으로 이미 학습된 estimator 반환\n",
        "estimator = grid_dtree.best_estimator_"
      ],
      "metadata": {
        "id": "rKmP4UYH_D-2"
      },
      "execution_count": 25,
      "outputs": []
    },
    {
      "cell_type": "code",
      "source": [
        "pred = estimator.predict(X_test)"
      ],
      "metadata": {
        "id": "XHz2YHqo_Pzq"
      },
      "execution_count": 26,
      "outputs": []
    },
    {
      "cell_type": "code",
      "source": [
        "accuracy_score(y_test, pred)"
      ],
      "metadata": {
        "colab": {
          "base_uri": "https://localhost:8080/"
        },
        "id": "KFEMoseA_9Ml",
        "outputId": "57abc7af-6e32-439a-f47d-9d82f68adff0"
      },
      "execution_count": 27,
      "outputs": [
        {
          "output_type": "execute_result",
          "data": {
            "text/plain": [
              "0.9666666666666667"
            ]
          },
          "metadata": {},
          "execution_count": 27
        }
      ]
    }
  ]
}