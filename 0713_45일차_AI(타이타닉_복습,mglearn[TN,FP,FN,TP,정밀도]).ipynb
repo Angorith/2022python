{
  "nbformat": 4,
  "nbformat_minor": 0,
  "metadata": {
    "colab": {
      "name": "0713 45일차 AI(타이타닉 복습,mglearn[TN,FP,FN,TP,정밀도]).ipynb",
      "provenance": [],
      "collapsed_sections": [],
      "authorship_tag": "ABX9TyPTme6dCXlJ4CVk/YlR7rgU",
      "include_colab_link": true
    },
    "kernelspec": {
      "name": "python3",
      "display_name": "Python 3"
    },
    "language_info": {
      "name": "python"
    }
  },
  "cells": [
    {
      "cell_type": "markdown",
      "metadata": {
        "id": "view-in-github",
        "colab_type": "text"
      },
      "source": [
        "<a href=\"https://colab.research.google.com/github/Angorith/acorn_python/blob/main/0713_45%EC%9D%BC%EC%B0%A8_AI(%ED%83%80%EC%9D%B4%ED%83%80%EB%8B%89_%EB%B3%B5%EC%8A%B5%2Cmglearn%5BTN%2CFP%2CFN%2CTP%2C%EC%A0%95%EB%B0%80%EB%8F%84%5D).ipynb\" target=\"_parent\"><img src=\"https://colab.research.google.com/assets/colab-badge.svg\" alt=\"Open In Colab\"/></a>"
      ]
    },
    {
      "cell_type": "code",
      "source": [
        "import numpy as np\n",
        "import pandas as pd\n",
        "from sklearn.preprocessing import LabelEncoder, MinMaxScaler\n",
        "import matplotlib.pyplot as plt\n",
        "%matplotlib inline"
      ],
      "metadata": {
        "id": "iliAD-_ZH3-3"
      },
      "execution_count": 29,
      "outputs": []
    },
    {
      "cell_type": "code",
      "source": [
        "from google.colab import drive\n",
        "drive.mount('/content/drive')"
      ],
      "metadata": {
        "colab": {
          "base_uri": "https://localhost:8080/"
        },
        "id": "cE07-TAuH8tw",
        "outputId": "00311912-9e40-4f13-bc06-432e78f6a090"
      },
      "execution_count": null,
      "outputs": [
        {
          "output_type": "stream",
          "name": "stdout",
          "text": [
            "Mounted at /content/drive\n"
          ]
        }
      ]
    },
    {
      "cell_type": "code",
      "source": [
        "# Null 처리 함수\n",
        "def fillna(df):\n",
        "    df['Age'].fillna(df['Age'].mean(), inplace=True)\n",
        "    df['Cabin'].fillna('N', inplace=True)\n",
        "    df['Embarked'].fillna('N', inplace=True)\n",
        "    return df\n",
        "\n",
        "\n",
        "# 러닝 알고리즘에 불필요한 속성 제거\n",
        "def drop_features(df):\n",
        "    df.drop(['PassengerId', 'Name', 'Ticket'], axis=1, inplace=True)\n",
        "    return df\n",
        "\n",
        "\n",
        "# 라벨 인코딩 수행\n",
        "def format_features(df):\n",
        "    df['Cabin'] = df['Cabin'].str[:1]\n",
        "    features = ['Cabin', 'Sex', 'Embarked']\n",
        "    for feature in features:\n",
        "        le = LabelEncoder()\n",
        "        le.fit(df[feature])\n",
        "        df[feature] = le.transform(df[feature])\n",
        "    return df\n",
        "\n",
        "def adj_scale(df):\n",
        "    scaler = MinMaxScaler()\n",
        "    scaler.fit(df)\n",
        "    scaled_array = scaler.transform(df)\n",
        "    df_scaled = pd.DataFrame(data=scaled_array, columns=df.columns)\n",
        "    return df_scaled\n",
        "\n",
        "# 앞에서 설정한 데이터 전처리 함수 호출\n",
        "def transform_features(df):\n",
        "    df = fillna(df)\n",
        "    df = drop_features(df)\n",
        "    df = format_features(df)\n",
        "    df = adj_scale(df)\n",
        "    return df\n"
      ],
      "metadata": {
        "id": "8IRHo0DqFmij"
      },
      "execution_count": 25,
      "outputs": []
    },
    {
      "cell_type": "code",
      "execution_count": 31,
      "metadata": {
        "id": "inodist0FvjU"
      },
      "outputs": [],
      "source": [
        "def fit_transform_predict(estimator, X_train, y_train, X_test, y_test):\n",
        "    estimator.fit(X_train, y_train)\n",
        "    pred = estimator.predict(X_test)\n",
        "    return (accuracy_score(y_test.pred))"
      ]
    },
    {
      "cell_type": "code",
      "source": [
        "!cp ./drive/MyDrive/titanic_train.csv ./"
      ],
      "metadata": {
        "id": "kEBwuXK0H-tl"
      },
      "execution_count": null,
      "outputs": []
    },
    {
      "cell_type": "code",
      "source": [
        "titanic_sample = pd.read_csv('titanic_train.csv')"
      ],
      "metadata": {
        "id": "gMPfE9FBFxUh"
      },
      "execution_count": 21,
      "outputs": []
    },
    {
      "cell_type": "code",
      "source": [
        "y_titanic_df = titanic_sample['Survived']\n",
        "X_titanic_df = titanic_sample.drop('Survived', axis=1)"
      ],
      "metadata": {
        "id": "eXkNOKmgFxUi"
      },
      "execution_count": 22,
      "outputs": []
    },
    {
      "cell_type": "code",
      "source": [
        "X_titanic_df = transform_features(X_titanic_df)"
      ],
      "metadata": {
        "id": "kqfZ25uEFxUi"
      },
      "execution_count": 23,
      "outputs": []
    },
    {
      "cell_type": "code",
      "source": [
        "from sklearn.model_selection import train_test_split, KFold, cross_val_score, GridSearchCV\n",
        "X_train, X_test, y_train, y_test = train_test_split(X_titanic_df, y_titanic_df, test_size =0.2, random_state=11)"
      ],
      "metadata": {
        "id": "aaFMeBuiFxUi"
      },
      "execution_count": 24,
      "outputs": []
    },
    {
      "cell_type": "code",
      "source": [
        "from sklearn.tree import DecisionTreeClassifier\n",
        "from sklearn.ensemble import RandomForestClassifier\n",
        "from sklearn.linear_model import LogisticRegression\n",
        "from sklearn.metrics import accuracy_score"
      ],
      "metadata": {
        "id": "1Z-Hw_IWGJOd"
      },
      "execution_count": 30,
      "outputs": []
    },
    {
      "cell_type": "code",
      "source": [
        "dt_clf = DecisionTreeClassifier()"
      ],
      "metadata": {
        "id": "heYSZM_VJUNi"
      },
      "execution_count": 32,
      "outputs": []
    },
    {
      "cell_type": "code",
      "source": [
        "scores = cross_val_score(dt_clf, X_train, y_train,cv=5 )"
      ],
      "metadata": {
        "id": "x5XiOddTJoeq"
      },
      "execution_count": 33,
      "outputs": []
    },
    {
      "cell_type": "code",
      "source": [
        "scores"
      ],
      "metadata": {
        "id": "NGo8L-ICJ9im",
        "colab": {
          "base_uri": "https://localhost:8080/"
        },
        "outputId": "9ff4131e-b30c-490b-ce8b-85e270568ab7"
      },
      "execution_count": 34,
      "outputs": [
        {
          "output_type": "execute_result",
          "data": {
            "text/plain": [
              "array([0.74825175, 0.76923077, 0.77464789, 0.78873239, 0.76760563])"
            ]
          },
          "metadata": {},
          "execution_count": 34
        }
      ]
    },
    {
      "cell_type": "code",
      "source": [
        "np.mean(scores)"
      ],
      "metadata": {
        "colab": {
          "base_uri": "https://localhost:8080/"
        },
        "id": "2gtaeriJKCtN",
        "outputId": "001827eb-f88f-4c9a-b370-9dcd6de973b6"
      },
      "execution_count": 35,
      "outputs": [
        {
          "output_type": "execute_result",
          "data": {
            "text/plain": [
              "0.769693686595095"
            ]
          },
          "metadata": {},
          "execution_count": 35
        }
      ]
    },
    {
      "cell_type": "code",
      "source": [
        "parameters = {'max_depth' : [1,2,3,5,10], 'min_samples_split':[2,3,5],'min_samples_leaf':[1,5,8]}"
      ],
      "metadata": {
        "id": "3PxcXYMQKK0d"
      },
      "execution_count": 36,
      "outputs": []
    },
    {
      "cell_type": "code",
      "source": [
        "grid_dtree = GridSearchCV(dt_clf, param_grid=parameters, cv=5)\n",
        "grid_dtree.fit(X_train, y_train)\n",
        "print(grid_dtree.best_score_)\n",
        "best_esti = grid_dtree.best_estimator_\n",
        "pred = best_esti.predict(X_test)\n",
        "accuracy_score(y_test,pred)"
      ],
      "metadata": {
        "id": "euUIB9iFK6ok",
        "colab": {
          "base_uri": "https://localhost:8080/"
        },
        "outputId": "753cb0b7-ec33-45fe-a274-0ae7f59e66e1"
      },
      "execution_count": 39,
      "outputs": [
        {
          "output_type": "stream",
          "name": "stdout",
          "text": [
            "0.8005811090318133\n"
          ]
        },
        {
          "output_type": "execute_result",
          "data": {
            "text/plain": [
              "0.8715083798882681"
            ]
          },
          "metadata": {},
          "execution_count": 39
        }
      ]
    },
    {
      "cell_type": "markdown",
      "source": [
        "#평가"
      ],
      "metadata": {
        "id": "B5wzG0gnO0Fp"
      }
    },
    {
      "cell_type": "markdown",
      "source": [
        "정확도\n",
        "\n",
        "$$\n",
        "{정확도(Acuuracy)} = {예측이 맞은 자료의 수 \\over 전체 예측 자료수}\n",
        "$$\n",
        "\n",
        "이진(0,1) 분류의 경우 정확도가 잘못된 정보를 줄 수 있다.\n",
        "\n",
        "정밀도, 재현율, F1-score, ROC-AUC"
      ],
      "metadata": {
        "id": "v9AgX0JJO1dP"
      }
    },
    {
      "cell_type": "code",
      "source": [
        "#BeseEstimator 를 상속 받은 클래스를 정의할 경우, 사용자 정의 Estimator 를 만들 수 있다.\n",
        "#남자가 입력되면 죽고 여자는 무조건 산다는 말이 안되는 Estimator다....흐음...\n",
        "from sklearn.base import BaseEstimator\n",
        "class MyDummyClassifier(BaseEstimator):\n",
        "    def fit(self, X, y=None):\n",
        "        pass\n",
        "    def predict(self, X):\n",
        "        pred = np.zeros((X.shape[0], 1))\n",
        "        for i in range(X.shape[0]):\n",
        "            if X['Sex'].iloc[i] ==1 :\n",
        "                pred[i] = 0\n",
        "            else:\n",
        "                pred[i] = 1\n",
        "        return pred"
      ],
      "metadata": {
        "id": "87ilfJWJPMs0"
      },
      "execution_count": 41,
      "outputs": []
    },
    {
      "cell_type": "markdown",
      "source": [
        "#처리해보기"
      ],
      "metadata": {
        "id": "p-BGCp8JTkVM"
      }
    },
    {
      "cell_type": "code",
      "source": [
        "# Null 처리 함수\n",
        "def fillna(df):\n",
        "    df['Age'].fillna(df['Age'].mean(), inplace=True)\n",
        "    df['Cabin'].fillna('N', inplace=True)\n",
        "    df['Embarked'].fillna('N', inplace=True)\n",
        "    return df\n",
        "\n",
        "\n",
        "# 러닝 알고리즘에 불필요한 속성 제거\n",
        "def drop_features(df):\n",
        "    df.drop(['PassengerId', 'Name', 'Ticket'], axis=1, inplace=True)\n",
        "    return df\n",
        "\n",
        "\n",
        "# 라벨 인코딩 수행\n",
        "def format_features(df):\n",
        "    df['Cabin'] = df['Cabin'].str[:1]\n",
        "    features = ['Cabin', 'Sex', 'Embarked']\n",
        "    for feature in features:\n",
        "        le = LabelEncoder()\n",
        "        le.fit(df[feature])\n",
        "        df[feature] = le.transform(df[feature])\n",
        "    return df\n",
        "\n",
        "def adj_scale(df):\n",
        "    scaler = MinMaxScaler()\n",
        "    scaler.fit(df)\n",
        "    scaled_array = scaler.transform(df)\n",
        "    df_scaled = pd.DataFrame(data=scaled_array, columns=df.columns)\n",
        "    return df_scaled\n",
        "\n",
        "# 앞에서 설정한 데이터 전처리 함수 호출\n",
        "def transform_features(df):\n",
        "    df = fillna(df)\n",
        "    df = drop_features(df)\n",
        "    df = format_features(df)\n",
        "    df = adj_scale(df)\n",
        "    return df\n"
      ],
      "metadata": {
        "id": "G_0eXJg1TIeV"
      },
      "execution_count": 42,
      "outputs": []
    },
    {
      "cell_type": "code",
      "source": [
        "titanic_sample = pd.read_csv('titanic_train.csv')"
      ],
      "metadata": {
        "id": "8NvPcI0MTQSo"
      },
      "execution_count": 43,
      "outputs": []
    },
    {
      "cell_type": "code",
      "source": [
        "y_titanic_df = titanic_sample['Survived']\n",
        "X_titanic_df = titanic_sample.drop('Survived', axis=1)"
      ],
      "metadata": {
        "id": "jJE9u9g2TNRJ"
      },
      "execution_count": 44,
      "outputs": []
    },
    {
      "cell_type": "code",
      "source": [
        "X_titanic_df = transform_features(X_titanic_df)"
      ],
      "metadata": {
        "id": "YVKNq87cTYjs"
      },
      "execution_count": 45,
      "outputs": []
    },
    {
      "cell_type": "code",
      "source": [
        "from sklearn.model_selection import train_test_split, KFold, cross_val_score, GridSearchCV\n",
        "X_train, X_test, y_train, y_test = train_test_split(X_titanic_df, y_titanic_df, test_size =0.2, random_state=11)"
      ],
      "metadata": {
        "id": "Q7oMGomWTbNt"
      },
      "execution_count": 46,
      "outputs": []
    },
    {
      "cell_type": "code",
      "source": [
        "X_train.shape, X_test.shape, y_train.shape, y_test.shape"
      ],
      "metadata": {
        "colab": {
          "base_uri": "https://localhost:8080/"
        },
        "id": "cBGFLOGdSm3g",
        "outputId": "b1cb10a0-fd95-4b2f-a206-9e74f3c61be9"
      },
      "execution_count": 47,
      "outputs": [
        {
          "output_type": "execute_result",
          "data": {
            "text/plain": [
              "((712, 8), (179, 8), (712,), (179,))"
            ]
          },
          "metadata": {},
          "execution_count": 47
        }
      ]
    },
    {
      "cell_type": "code",
      "source": [
        "from sklearn.base import BaseEstimator"
      ],
      "metadata": {
        "id": "eQKmj_PJSr40"
      },
      "execution_count": 48,
      "outputs": []
    },
    {
      "cell_type": "markdown",
      "source": [
        "MyDummyClassifier의 인스턴스 생성, fit 실행, predict, accuracy_score"
      ],
      "metadata": {
        "id": "LSk1Q_6IH-E9"
      }
    },
    {
      "cell_type": "markdown",
      "source": [
        "![다운로드.png](data:image/png;base64,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)"
      ],
      "metadata": {
        "id": "lscYjnwBH2ZW"
      }
    },
    {
      "cell_type": "code",
      "source": [
        "BaseEstimator=MyDummyClassifier()\n",
        "#print(BaseEstimator)\n",
        "BaseEstimator.fit(X_train, y_train)\n",
        "BaseEstimator_pred=BaseEstimator.predict(X_test)\n",
        "#print(BaseEstimator_pred)\n",
        "print('BaseEstimator 정확도 :{0:.4f}'.format(accuracy_score(y_test, BaseEstimator_pred)))"
      ],
      "metadata": {
        "id": "9J2yTajQUrom",
        "colab": {
          "base_uri": "https://localhost:8080/"
        },
        "outputId": "eb2f1fa3-82e1-4fa5-f995-c3787742a7e8"
      },
      "execution_count": 54,
      "outputs": [
        {
          "output_type": "stream",
          "name": "stdout",
          "text": [
            "BaseEstimator 정확도 :0.8324\n"
          ]
        }
      ]
    },
    {
      "cell_type": "code",
      "source": [
        "#선생님\n",
        "mdcf = MyDummyClassifier()\n",
        "mdcf.fit(X_train, y_train)\n",
        "pred = mdcf.predict(X_test)\n",
        "accuracy_score(y_test, pred)"
      ],
      "metadata": {
        "colab": {
          "base_uri": "https://localhost:8080/"
        },
        "id": "5ca1X_JoXCo5",
        "outputId": "973ec05d-260f-4b00-e98f-207ff611042d"
      },
      "execution_count": 49,
      "outputs": [
        {
          "output_type": "execute_result",
          "data": {
            "text/plain": [
              "0.8324022346368715"
            ]
          },
          "metadata": {},
          "execution_count": 49
        }
      ]
    },
    {
      "cell_type": "code",
      "source": [
        "pip install mglearn"
      ],
      "metadata": {
        "colab": {
          "base_uri": "https://localhost:8080/"
        },
        "id": "_5VnhE6SYG-r",
        "outputId": "0b88c6f6-8efe-4ef0-e92b-c60a90796b08"
      },
      "execution_count": 55,
      "outputs": [
        {
          "output_type": "stream",
          "name": "stdout",
          "text": [
            "Looking in indexes: https://pypi.org/simple, https://us-python.pkg.dev/colab-wheels/public/simple/\n",
            "Collecting mglearn\n",
            "  Downloading mglearn-0.1.9.tar.gz (540 kB)\n",
            "\u001b[K     |████████████████████████████████| 540 kB 7.4 MB/s \n",
            "\u001b[?25hRequirement already satisfied: numpy in /usr/local/lib/python3.7/dist-packages (from mglearn) (1.21.6)\n",
            "Requirement already satisfied: matplotlib in /usr/local/lib/python3.7/dist-packages (from mglearn) (3.2.2)\n",
            "Requirement already satisfied: scikit-learn in /usr/local/lib/python3.7/dist-packages (from mglearn) (1.0.2)\n",
            "Requirement already satisfied: pandas in /usr/local/lib/python3.7/dist-packages (from mglearn) (1.3.5)\n",
            "Requirement already satisfied: pillow in /usr/local/lib/python3.7/dist-packages (from mglearn) (7.1.2)\n",
            "Requirement already satisfied: cycler in /usr/local/lib/python3.7/dist-packages (from mglearn) (0.11.0)\n",
            "Requirement already satisfied: imageio in /usr/local/lib/python3.7/dist-packages (from mglearn) (2.4.1)\n",
            "Requirement already satisfied: joblib in /usr/local/lib/python3.7/dist-packages (from mglearn) (1.1.0)\n",
            "Requirement already satisfied: kiwisolver>=1.0.1 in /usr/local/lib/python3.7/dist-packages (from matplotlib->mglearn) (1.4.3)\n",
            "Requirement already satisfied: pyparsing!=2.0.4,!=2.1.2,!=2.1.6,>=2.0.1 in /usr/local/lib/python3.7/dist-packages (from matplotlib->mglearn) (3.0.9)\n",
            "Requirement already satisfied: python-dateutil>=2.1 in /usr/local/lib/python3.7/dist-packages (from matplotlib->mglearn) (2.8.2)\n",
            "Requirement already satisfied: typing-extensions in /usr/local/lib/python3.7/dist-packages (from kiwisolver>=1.0.1->matplotlib->mglearn) (4.1.1)\n",
            "Requirement already satisfied: six>=1.5 in /usr/local/lib/python3.7/dist-packages (from python-dateutil>=2.1->matplotlib->mglearn) (1.15.0)\n",
            "Requirement already satisfied: pytz>=2017.3 in /usr/local/lib/python3.7/dist-packages (from pandas->mglearn) (2022.1)\n",
            "Requirement already satisfied: threadpoolctl>=2.0.0 in /usr/local/lib/python3.7/dist-packages (from scikit-learn->mglearn) (3.1.0)\n",
            "Requirement already satisfied: scipy>=1.1.0 in /usr/local/lib/python3.7/dist-packages (from scikit-learn->mglearn) (1.7.3)\n",
            "Building wheels for collected packages: mglearn\n",
            "  Building wheel for mglearn (setup.py) ... \u001b[?25l\u001b[?25hdone\n",
            "  Created wheel for mglearn: filename=mglearn-0.1.9-py2.py3-none-any.whl size=582639 sha256=ccdd0e53b2cb51909031dccbc6a51133892563b3389192f40c92e289ae4d363e\n",
            "  Stored in directory: /root/.cache/pip/wheels/f1/17/e1/1720d6dcd70187b6b6c3750cb3508798f2b1d57c9d3214b08b\n",
            "Successfully built mglearn\n",
            "Installing collected packages: mglearn\n",
            "Successfully installed mglearn-0.1.9\n"
          ]
        }
      ]
    },
    {
      "cell_type": "markdown",
      "source": [
        "#mglearn\n"
      ],
      "metadata": {
        "id": "wW98OmgbYlda"
      }
    },
    {
      "cell_type": "code",
      "source": [
        "import mglearn"
      ],
      "metadata": {
        "id": "m0cv4SWvYJEX"
      },
      "execution_count": 56,
      "outputs": []
    },
    {
      "cell_type": "code",
      "source": [
        "mglearn.plots.plot_binary_confusion_matrix() #confusion matrix 보여주기"
      ],
      "metadata": {
        "colab": {
          "base_uri": "https://localhost:8080/",
          "height": 270
        },
        "id": "9BOM-6YTYZwy",
        "outputId": "4946e757-745d-4a8c-f48a-9cf040434064"
      },
      "execution_count": 57,
      "outputs": [
        {
          "output_type": "display_data",
          "data": {
            "text/plain": [
              "<Figure size 432x288 with 1 Axes>"
            ],
            "image/png": "[encoded data removed]"
          },
          "metadata": {
            "needs_background": "light"
          }
        }
      ]
    },
    {
      "cell_type": "markdown",
      "source": [
        "모두 예측값 기준 N=0, P=1\n",
        "\n",
        "TN: 예측값 = N, 실제 = N\n",
        "\n",
        "FP: 예측값 = P, 실제 = N\n",
        "\n",
        "FN: 예측값 = N, 실제 = P\n",
        "\n",
        "TP: 예측값 = P, 실제 = P"
      ],
      "metadata": {
        "id": "dsRAhVCuY8xI"
      }
    },
    {
      "cell_type": "markdown",
      "source": [
        "$$\n",
        "accuracy = {TN + TP \\over TN + TP + FN + FP }\n",
        "$$"
      ],
      "metadata": {
        "id": "oHvQpMsGZfC1"
      }
    },
    {
      "cell_type": "markdown",
      "source": [
        "#정밀도"
      ],
      "metadata": {
        "id": "YEVt8REIZu4E"
      }
    },
    {
      "cell_type": "markdown",
      "source": [
        "$$\n",
        "precision = {TP \\over TP + FP}\n",
        "$$\n",
        "\n",
        "얼마나 정밀하게 맞추냐 = 얼마나 잘 맞추냐\n"
      ],
      "metadata": {
        "id": "_qWE24QQZwtA"
      }
    },
    {
      "cell_type": "markdown",
      "source": [
        "재현율 : recall\n",
        "\n",
        "$$\n",
        "recall = {TP \\over TP+FN}\n",
        "$$"
      ],
      "metadata": {
        "id": "3SZxWrC4acxy"
      }
    },
    {
      "cell_type": "markdown",
      "source": [
        "암을 양성 판단하는 분류기 개발 (음성을 양성으로 판정 - > 검사비용 지출, 양성을 음성으로 판정-> 갑작스러운 죽음)\n",
        "\n",
        "스팸메일 분류기 개발 (음성을 양성으로 판정 -> 스펨이 아닌데 스펨으로 판정 -> 메일 누락 -> 취업 탈락, 양성을 음성으로 판정 -> 귀찮음)"
      ],
      "metadata": {
        "id": "lW16xNgObAN8"
      }
    },
    {
      "cell_type": "code",
      "source": [
        "from sklearn.metrics import confusion_matrix, accuracy_score, precision_score, recall_score"
      ],
      "metadata": {
        "id": "s1Qs7B0sYeYX"
      },
      "execution_count": 58,
      "outputs": []
    },
    {
      "cell_type": "code",
      "source": [
        "def get_clf_eval(y_test, pred):\n",
        "    confusion= confusion_matrix(y_test, pred)\n",
        "    accuracy= accuracy_score(y_test, pred)\n",
        "    precision= precision_score(y_test, pred)\n",
        "    recall= recall_score(y_test, pred)\n",
        "    print(confusion, accuracy, precision, recall)"
      ],
      "metadata": {
        "id": "ducqw8Ebb_Lo"
      },
      "execution_count": 59,
      "outputs": []
    },
    {
      "cell_type": "code",
      "source": [
        "get_clf_eval(y_test, pred)"
      ],
      "metadata": {
        "colab": {
          "base_uri": "https://localhost:8080/"
        },
        "id": "MQqgecarcqTx",
        "outputId": "63261049-fbf7-4871-e651-aed73a54e8b9"
      },
      "execution_count": 60,
      "outputs": [
        {
          "output_type": "stream",
          "name": "stdout",
          "text": [
            "[[103  15]\n",
            " [ 15  46]] 0.8324022346368715 0.7540983606557377 0.7540983606557377\n"
          ]
        }
      ]
    }
  ]
}