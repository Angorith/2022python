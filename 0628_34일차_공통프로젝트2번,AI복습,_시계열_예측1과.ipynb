{
  "nbformat": 4,
  "nbformat_minor": 0,
  "metadata": {
    "colab": {
      "name": "0628 34일차 공통프로젝트2번,AI복습, 시계열 예측1과.ipynb",
      "provenance": [],
      "mount_file_id": "1sjWZJI-Jdx-TFohs_Vu9W1ii_lBbHRtd",
      "authorship_tag": "ABX9TyN0sxa85FSNnILl1Py/wiYa",
      "include_colab_link": true
    },
    "kernelspec": {
      "name": "python3",
      "display_name": "Python 3"
    },
    "language_info": {
      "name": "python"
    }
  },
  "cells": [
    {
      "cell_type": "markdown",
      "metadata": {
        "id": "view-in-github",
        "colab_type": "text"
      },
      "source": [
        "<a href=\"https://colab.research.google.com/github/Angorith/acorn_python/blob/main/0628_34%EC%9D%BC%EC%B0%A8_%EA%B3%B5%ED%86%B5%ED%94%84%EB%A1%9C%EC%A0%9D%ED%8A%B82%EB%B2%88%2CAI%EB%B3%B5%EC%8A%B5%2C_%EC%8B%9C%EA%B3%84%EC%97%B4_%EC%98%88%EC%B8%A11%EA%B3%BC.ipynb\" target=\"_parent\"><img src=\"https://colab.research.google.com/assets/colab-badge.svg\" alt=\"Open In Colab\"/></a>"
      ]
    },
    {
      "cell_type": "code",
      "execution_count": null,
      "metadata": {
        "id": "7FOhA7PCnWnZ"
      },
      "outputs": [],
      "source": [
        "#시간 \n",
        "#size = 분의 개수\n",
        "#mean = 평균값\n",
        "def resample_hour(m_data):\n",
        "    for key, df in m_data.items():\n",
        "        df = df.dropna().resample('H').agg({'temp':['size','mean']})    #size, mean = 함수\n",
        "        df = df.droplevel(level=0, axis=1) #level = 0 은 'temp'\n",
        "        df.loc[df['size']<48, 'mean'] = np.nan  #size가 48보다 작으면 mean에 결측처리\n",
        "        df.dropna(inplace=True) #결측 제거\n",
        "        df = missing_check(df, 'H')\n",
        "        if 'result' in locals():\n",
        "            result = pd.concat([result, df])\n",
        "            continue\n",
        "        result = df\n",
        "    return result"
      ]
    },
    {
      "cell_type": "markdown",
      "source": [
        "dropna() : QC에서 np.nan 삭제\n",
        "\n",
        "    QC 후, dropna()\n",
        "    1시간 동안 47개의 분자료\n",
        "    1시간 동안 60개의 분자료\n",
        "    01:00 분부터 01:59분까지 자료를 그룹화\n",
        "\n",
        "    'temp'칼럼에 대해서 size, mean 함수를 수행해라\n",
        "\n",
        "    'temp' = level 0 다중 컬럼\n",
        "    'size', 'mean' = level 1 : 'size', 'mean'은 칼럼이름\n",
        "\n",
        "    'size', 'mean'\n",
        "    47,      21.8\n",
        "    60,      22.8\n",
        "    58,      21.9"
      ],
      "metadata": {
        "id": "1rSOC_2goRHx"
      }
    },
    {
      "cell_type": "code",
      "source": [
        ""
      ],
      "metadata": {
        "colab": {
          "base_uri": "https://localhost:8080/"
        },
        "id": "_JKtHM5yvW2N",
        "outputId": "58222d9a-b34f-444d-9652-46425d06d524"
      },
      "execution_count": null,
      "outputs": [
        {
          "output_type": "stream",
          "name": "stdout",
          "text": [
            "Writing timeseries_module.py\n"
          ]
        }
      ]
    },
    {
      "cell_type": "code",
      "source": [
        ""
      ],
      "metadata": {
        "id": "4k1Fit9_vgwK"
      },
      "execution_count": null,
      "outputs": []
    },
    {
      "cell_type": "code",
      "source": [
        ""
      ],
      "metadata": {
        "colab": {
          "base_uri": "https://localhost:8080/",
          "height": 174
        },
        "id": "KDPpdy39vkyH",
        "outputId": "ef7bf3fa-a72d-4579-e2aa-633bb5102355"
      },
      "execution_count": null,
      "outputs": [
        {
          "output_type": "error",
          "ename": "TypeError",
          "evalue": "ignored",
          "traceback": [
            "\u001b[0;31m---------------------------------------------------------------------------\u001b[0m",
            "\u001b[0;31mTypeError\u001b[0m                                 Traceback (most recent call last)",
            "\u001b[0;32m<ipython-input-3-f9551808817f>\u001b[0m in \u001b[0;36m<module>\u001b[0;34m()\u001b[0m\n\u001b[0;32m----> 1\u001b[0;31m \u001b[0mget_filelist\u001b[0m\u001b[0;34m(\u001b[0m\u001b[0;34m)\u001b[0m\u001b[0;34m\u001b[0m\u001b[0;34m\u001b[0m\u001b[0m\n\u001b[0m",
            "\u001b[0;31mTypeError\u001b[0m: get_filelist() missing 1 required positional argument: 'paths'"
          ]
        }
      ]
    },
    {
      "cell_type": "code",
      "source": [
        "%%writefile timeseries_module.py\n",
        "import pandas as pd\n",
        "import numpy as np\n",
        "import matplotlib.pyplot as plt\n",
        "import datetime as dt\n",
        "import glob\n",
        "\n",
        "def get_filelist(paths):\n",
        "\tfile_list = glob.glob(paths+'*')    #모든 파일 불러오기\n",
        "\thourly_data = []\n",
        "\tevery_minute_data = []\n",
        "\tfile_list_dict = {}\n",
        "\tfor i in file_list:\n",
        "\t\tif 'TIM' in i:\n",
        "\t\t\thourly_data.append(i)\n",
        "\t\telse:\n",
        "\t\t\tevery_minute_data.append(i)\n",
        "\tfile_list_dict['TIM'] = hourly_data\n",
        "\tfile_list_dict['MI'] = every_minute_data\n",
        "\treturn file_list_dict\n",
        "def get_data(file_list, index_column=2, parse_date=[2]):\n",
        "\tfile_list.sort()\n",
        "\tdata={}\n",
        "\tfor fn in file_list:\n",
        "\t\tdf = pd.read_csv(fn, index_col=index_column, \\\n",
        "\t\t\tparse_dates=parse_date, encoding='cp949', \\\n",
        "\t\t\tskiprows=[0], \\\n",
        "\t\t\tnames=['site', 'name', 'time', 'temp'])\n",
        "\t\tdf.drop(['site', 'name'], axis=1, inplace=True)\n",
        "\t\tdata[fn] = df\n",
        "\treturn (data)\n",
        "\n",
        "def missing_check(df, freqs):\n",
        "\tstart = df.index[0]\n",
        "\tend = df.index[-1]\n",
        "\ttimestamp = pd.date_range(start, end, freq=freqs)\n",
        "\t#print(timestamp)\n",
        "\tdf = df.reindex(timestamp)\n",
        "\treturn (df)\n",
        "\n",
        "def physical_check(df):\n",
        "\tdf[df<-33.0] = np.nan\n",
        "\tdf[df>40] = np.nan\n",
        "\treturn (df)\n",
        "\n",
        "def step_check1(df):\n",
        "\ttemp = df.iloc[0, 0]    #diff를 하게 되면 0,0은 NaN이 되기때문에 따로 빼서 저장\n",
        "\tdf['step_check'] = df.diff().fillna(-999999.9)\n",
        "\tdf[df.step_check<-3.0] = np.nan\n",
        "\tdf[df.step_check>3.0] = np.nan\n",
        "\tif temp:\n",
        "\t\tdf.iloc[0, 0] = temp\n",
        "\treturn (df)\n",
        "\n",
        "def persistence_check(df):\n",
        "\tdf['persis'] = df.step_check.abs()  #정수 절대값 연산\n",
        "\tdummy_data = df.resample('H').sum()\n",
        "\tdummy_data.drop(dummy_data.index[-1], inplace=True)\n",
        "\thour = dummy_data[dummy_data.persis<0.1].index.hour\n",
        "\tif len(hour):\n",
        "\t\tfor i in hour:\n",
        "\t\t\tdf[df.index.hour == i] = np.nan\n",
        "\treturn (df)\n",
        "\n",
        "def keep_data(df, file_name='bird'):\n",
        "\tstart = dt.datetime.strftime(df.index[0], '%Y%m%d%H%M%S')\n",
        "\tend = dt.datetime.strftime(df.index[-1], '%Y%m%d%H%M%S')\n",
        "\tif file_name == 'bird':\n",
        "\t\tfile_name = 'OBS_108_AirTemp_'+start+'_'+end+'.csv'\n",
        "\tdf.to_csv(file_name)\n",
        "\treturn (file_name)\n",
        "\n",
        "def resample_hour(m_data):\n",
        "\tfor key, df in m_data.items():\n",
        "\t\tdf = df.dropna().resample('H').agg({'temp':['size', 'mean']})\n",
        "\t\tdf = df.droplevel(level=0, axis=1)\n",
        "\t\tdf.loc[df['size']<48, 'mean'] = np.nan\n",
        "\t\tdf.dropna(inplace=True)\n",
        "\t\tdf = missing_check(df, 'H')\n",
        "\t\tif 'result' in locals():\n",
        "\t\t\tresult = pd.concat([result, df])\n",
        "\t\t\tcontinue\n",
        "\t\tresult=df\n",
        "\treturn result\n",
        "\n",
        "def resample_day(df, col_name='mean'):\n",
        "\tdf = df.dropna().resample('D').agg({col_name:['size', 'mean']})\n",
        "\tdf = df.droplevel(level=0, axis=1)\n",
        "\tdf.loc[df['size']<20, 'mean'] = np.nan\n",
        "\treturn (df)\n",
        "\n",
        "def resample_month(df, col_name='mean'):\n",
        "\tdf = df.dropna().resample('M').agg({col_name:['size', 'mean']})\n",
        "\tdf = df.droplevel(level=0, axis=1)\n",
        "\tdf.loc[df['size']<24, 'mean'] = np.nan\n",
        "\treturn (df)\n",
        "\n",
        "def timeseries_plot(df):\n",
        "\tdf.iloc[[11, 20, 21], :] = np.nan\n",
        "\tdf.columns=['sizes', 'means']\t\n",
        "\tdata = df.loc[:'2021-09-01', 'means']\n",
        "\tmethods = ['linear', 'quadratic', 'cubic']\n",
        "\tdf_gapfilled = pd.DataFrame({m: data.interpolate(method=m) for m in methods})\n",
        "\tdf_gapfilled.plot()\n",
        "\t#data.plot()\n",
        "\tplt.grid()\n",
        "\tplt.savefig('gf.png')\n",
        "\tdata = data.round(2)\n",
        "\tdf_gapfilled = df_gapfilled.round(2)\n",
        "\tdata.to_csv('pre_gap_filling.csv')\n",
        "\tdf_gapfilled.to_csv('gap_filled.csv')"
      ],
      "metadata": {
        "colab": {
          "base_uri": "https://localhost:8080/"
        },
        "id": "rbNng89svNRI",
        "outputId": "81758557-f728-4da6-eb84-9bd1e02cf1fc"
      },
      "execution_count": null,
      "outputs": [
        {
          "output_type": "stream",
          "name": "stdout",
          "text": [
            "Overwriting timeseries_module.py\n"
          ]
        }
      ]
    },
    {
      "cell_type": "code",
      "source": [
        "%%writefile client.py\n",
        "import timeseries_module as tm\n",
        "\n",
        "paths = './drive/MyDrive/data/'\n",
        "\n",
        "file_list_dict = tm.get_filelist(paths)\n",
        "\n",
        "#print(file_list_dict)\n",
        "\n",
        "data = tm.get_data(file_list_dict['MI'])\n",
        "\n",
        "#print(data)\n",
        "\n",
        "m_data = {}\n",
        "for key, value in data.items():\n",
        "\tdf = tm.missing_check(value, 'T')\n",
        "\tdf = tm.physical_check(df)\n",
        "\tdf = tm.step_check1(df)\n",
        "\tprint(df)\n",
        "\tdf = tm.persistence_check(df)\n",
        "\tkey_f = tm.keep_data(df)\n",
        "\tm_data[key_f] = df\n",
        "\n",
        "hourly = tm.resample_hour(m_data)\n",
        "tm.keep_data(hourly, 'OBS_108_AirTemp_hourly_data') \n",
        "diurnal = tm.resample_day(hourly)\n",
        "tm.keep_data(diurnal, 'OBS_108_AirTemp_diurnal_data')\n",
        "\n",
        "h_data = tm.get_data(file_list_dict['TIM'])\n",
        "\n",
        "for i in h_data:\n",
        "\tdf = h_data[i]\n",
        "\tdf = tm.resample_day(df,'temp') \n",
        "\ttm.keep_data(df, 'OBS_108_AirTemp_2021_data')\n",
        "\n",
        "df_month = tm.resample_month(df)\n",
        "#print(df_month)\n",
        "\n",
        "tm.timeseries_plot(df)"
      ],
      "metadata": {
        "colab": {
          "base_uri": "https://localhost:8080/"
        },
        "id": "i7ZXTHadvRx0",
        "outputId": "9bd91b7d-a617-4dbe-ef0d-0b580f6cd511"
      },
      "execution_count": null,
      "outputs": [
        {
          "output_type": "stream",
          "name": "stdout",
          "text": [
            "Writing client.py\n"
          ]
        }
      ]
    },
    {
      "cell_type": "code",
      "source": [
        "%run client.py"
      ],
      "metadata": {
        "colab": {
          "base_uri": "https://localhost:8080/"
        },
        "id": "cBAJUR91vT1Q",
        "outputId": "87751f35-b1e3-4092-8f80-f2a58bae2d20"
      },
      "execution_count": null,
      "outputs": [
        {
          "output_type": "stream",
          "name": "stdout",
          "text": [
            "                     temp  step_check\n",
            "2022-06-01 00:01:00  18.6         NaN\n",
            "2022-06-01 00:02:00  18.6         0.0\n",
            "2022-06-01 00:03:00  18.6         0.0\n",
            "2022-06-01 00:04:00  18.6         0.0\n",
            "2022-06-01 00:05:00  18.6         0.0\n",
            "...                   ...         ...\n",
            "2022-06-01 23:56:00  18.2         0.0\n",
            "2022-06-01 23:57:00  18.2         0.0\n",
            "2022-06-01 23:58:00  18.2         0.0\n",
            "2022-06-01 23:59:00  18.2         0.0\n",
            "2022-06-02 00:00:00  18.1        -0.1\n",
            "\n",
            "[1440 rows x 2 columns]\n",
            "                     temp  step_check\n",
            "2022-06-02 00:01:00  18.1         NaN\n",
            "2022-06-02 00:02:00  18.1         0.0\n",
            "2022-06-02 00:03:00  18.1         0.0\n",
            "2022-06-02 00:04:00  18.1         0.0\n",
            "2022-06-02 00:05:00  18.1         0.0\n",
            "...                   ...         ...\n",
            "2022-06-02 23:56:00  18.9         0.0\n",
            "2022-06-02 23:57:00  18.9         0.0\n",
            "2022-06-02 23:58:00  18.9         0.0\n",
            "2022-06-02 23:59:00  18.9         0.0\n",
            "2022-06-03 00:00:00  18.9         0.0\n",
            "\n",
            "[1440 rows x 2 columns]\n",
            "                     temp  step_check\n",
            "2022-06-03 00:01:00  18.9         NaN\n",
            "2022-06-03 00:02:00  18.9         0.0\n",
            "2022-06-03 00:03:00  18.9         0.0\n",
            "2022-06-03 00:04:00  18.9         0.0\n",
            "2022-06-03 00:05:00  18.9         0.0\n",
            "...                   ...         ...\n",
            "2022-06-03 23:56:00  22.3         0.0\n",
            "2022-06-03 23:57:00  22.3         0.0\n",
            "2022-06-03 23:58:00  22.3         0.0\n",
            "2022-06-03 23:59:00  22.3         0.0\n",
            "2022-06-04 00:00:00  22.3         0.0\n",
            "\n",
            "[1440 rows x 2 columns]\n",
            "                     temp  step_check\n",
            "2022-06-04 00:01:00  22.3         NaN\n",
            "2022-06-04 00:02:00  22.3         0.0\n",
            "2022-06-04 00:03:00  22.3         0.0\n",
            "2022-06-04 00:04:00  22.3         0.0\n",
            "2022-06-04 00:05:00  22.2        -0.1\n",
            "...                   ...         ...\n",
            "2022-06-04 23:56:00  24.8         0.0\n",
            "2022-06-04 23:57:00  24.8         0.0\n",
            "2022-06-04 23:58:00  24.8         0.0\n",
            "2022-06-04 23:59:00  24.8         0.0\n",
            "2022-06-05 00:00:00  24.8         0.0\n",
            "\n",
            "[1440 rows x 2 columns]\n",
            "                     temp  step_check\n",
            "2022-06-05 00:01:00  24.8         NaN\n",
            "2022-06-05 00:02:00  24.8         0.0\n",
            "2022-06-05 00:03:00  24.7        -0.1\n",
            "2022-06-05 00:04:00  24.8         0.1\n",
            "2022-06-05 00:05:00  24.8         0.0\n",
            "...                   ...         ...\n",
            "2022-06-05 23:56:00  20.2         0.0\n",
            "2022-06-05 23:57:00  20.2         0.0\n",
            "2022-06-05 23:58:00  20.2         0.0\n",
            "2022-06-05 23:59:00  20.2         0.0\n",
            "2022-06-06 00:00:00  20.2         0.0\n",
            "\n",
            "[1440 rows x 2 columns]\n",
            "                     temp  step_check\n",
            "2022-06-06 00:01:00  20.2         NaN\n",
            "2022-06-06 00:02:00  20.2         0.0\n",
            "2022-06-06 00:03:00  20.2         0.0\n",
            "2022-06-06 00:04:00  20.2         0.0\n",
            "2022-06-06 00:05:00  20.2         0.0\n",
            "...                   ...         ...\n",
            "2022-06-06 23:56:00  16.7         0.0\n",
            "2022-06-06 23:57:00  16.7         0.0\n",
            "2022-06-06 23:58:00  16.7         0.0\n",
            "2022-06-06 23:59:00  16.7         0.0\n",
            "2022-06-07 00:00:00  16.7         0.0\n",
            "\n",
            "[1440 rows x 2 columns]\n",
            "                     temp  step_check\n",
            "2022-06-07 00:01:00  16.7         NaN\n",
            "2022-06-07 00:02:00   NaN         NaN\n",
            "2022-06-07 00:03:00   NaN         NaN\n",
            "2022-06-07 00:04:00  16.7        -0.1\n",
            "2022-06-07 00:05:00  16.7         0.0\n",
            "...                   ...         ...\n",
            "2022-06-07 23:56:00  19.0         0.0\n",
            "2022-06-07 23:57:00  19.0         0.0\n",
            "2022-06-07 23:58:00  19.0         0.0\n",
            "2022-06-07 23:59:00  19.0         0.0\n",
            "2022-06-08 00:00:00  19.0         0.0\n",
            "\n",
            "[1440 rows x 2 columns]\n"
          ]
        }
      ]
    },
    {
      "cell_type": "code",
      "source": [
        "import keras"
      ],
      "metadata": {
        "id": "yHefq-wj8eku"
      },
      "execution_count": null,
      "outputs": []
    },
    {
      "cell_type": "code",
      "source": [
        "from keras.utils import np_utils\n",
        "from keras.datasets import mnist\n",
        "from keras.models import Sequential\n",
        "from keras.layers import Dense, Activation\n",
        "import numpy as np\n",
        "\n",
        "\n",
        "# 1. 데이터 셋 생성\n",
        "(x_train, y_train), (x_test, y_test) = mnist.load_data()"
      ],
      "metadata": {
        "id": "7DJu40pG4Ypc"
      },
      "execution_count": null,
      "outputs": []
    },
    {
      "cell_type": "code",
      "source": [
        "x_train = x_train.reshape(60000, 784).astype('float32')/ 255.0\n",
        "x_test = x_test.reshape(10000, 784).astype('float32') / 255.0\n",
        "y_train = np_utils.to_categorical(y_train)\n",
        "y_test = np_utils.to_categorical(y_test)"
      ],
      "metadata": {
        "id": "AHWMJmb95EpJ"
      },
      "execution_count": null,
      "outputs": []
    },
    {
      "cell_type": "code",
      "source": [
        "#validation set 준비\n",
        "\n",
        "x_val = x_train[50000:]\n",
        "y_val = y_train[50000:]\n",
        "x_train = x_train[:50000]\n",
        "y_train = y_train[:50000]"
      ],
      "metadata": {
        "id": "ULhG0RsE5rzA"
      },
      "execution_count": null,
      "outputs": []
    },
    {
      "cell_type": "code",
      "source": [
        "#train set 고르기\n",
        "train_rand_idxs = np.random.choice(50000, 700)\n",
        "val_rand_idxs = np.random.choice(10000, 300)\n",
        "x_train = x_train[train_rand_idxs]\n",
        "y_train = y_train[train_rand_idxs]\n",
        "x_val = x_val[val_rand_idxs]\n",
        "y_val = y_val[val_rand_idxs]"
      ],
      "metadata": {
        "id": "dm8b1XnU54po"
      },
      "execution_count": null,
      "outputs": []
    },
    {
      "cell_type": "code",
      "source": [
        "#2. 모델 구성하기\n",
        "\n",
        "model = Sequential()\n",
        "model.add(Dense(units = 2, input_dim = 28*28, activation='relu'))\n",
        "model.add(Dense(units=10, activation='softmax'))\n",
        "\n",
        "#3. 모델 학습과정 설정하기\n",
        "model.compile(loss='categorical_crossentropy', optimizer='sgd', metrics=['accuracy'])"
      ],
      "metadata": {
        "id": "x79INA1X6PIF"
      },
      "execution_count": null,
      "outputs": []
    },
    {
      "cell_type": "code",
      "source": [
        "class CustomHistory(keras.callbacks.Callback):\n",
        "    def __init__(self):\n",
        "        self.loss=[]\n",
        "        self.val_loss=[]\n",
        "        self.accuracy = []\n",
        "        self.val_accuracy = []\n",
        "\n",
        "    def on_epoch_end(self, batch, logs={}):\n",
        "        self.loss.append(logs.get('loss'))\n",
        "        self.val_loss.append(logs.get('val_loss'))\n",
        "        self.accuracy.append(logs.get('accuracy'))\n",
        "        self.val_accuracy.append(logs.get('val_accuracy'))"
      ],
      "metadata": {
        "id": "EDsUt6gS8bEd"
      },
      "execution_count": null,
      "outputs": []
    },
    {
      "cell_type": "code",
      "source": [
        "custom_hist = CustomHistory()"
      ],
      "metadata": {
        "id": "LXh--mhe9FkV"
      },
      "execution_count": null,
      "outputs": []
    },
    {
      "cell_type": "code",
      "source": [
        "#from keras.callbacks import EarlyStopping\n",
        "#early_stopping = EarlyStopping(patience=2)\n",
        "#hist = model.fit(x_train, y_train, epoch=30, batch_size=32, validation= (x_val, y_val), callbacks=[early_stopping])\n",
        "\n",
        "#다른 얼리 스탑핑\n",
        "for epoch_idx in range(100):\n",
        "    print('epochs :' , str(epoch_idx))\n",
        "    model.fit(x_train, y_train, epochs=1, batch_size = 10, validation_data=(x_val, y_val), callbacks=[custom_hist])"
      ],
      "metadata": {
        "colab": {
          "base_uri": "https://localhost:8080/"
        },
        "id": "NfTQzfUj6tCP",
        "outputId": "bc49c7ec-8116-4959-d6fd-f3f2e82501ae"
      },
      "execution_count": null,
      "outputs": [
        {
          "output_type": "stream",
          "name": "stdout",
          "text": [
            "epochs : 0\n",
            "70/70 [==============================] - 1s 5ms/step - loss: 2.2866 - accuracy: 0.0986 - val_loss: 2.2439 - val_accuracy: 0.1567\n",
            "epochs : 1\n",
            "70/70 [==============================] - 0s 3ms/step - loss: 2.2279 - accuracy: 0.1529 - val_loss: 2.1784 - val_accuracy: 0.1767\n",
            "epochs : 2\n",
            "70/70 [==============================] - 0s 3ms/step - loss: 2.1786 - accuracy: 0.1671 - val_loss: 2.1273 - val_accuracy: 0.1633\n",
            "epochs : 3\n",
            "70/70 [==============================] - 0s 4ms/step - loss: 2.1381 - accuracy: 0.1700 - val_loss: 2.0883 - val_accuracy: 0.1867\n",
            "epochs : 4\n",
            "70/70 [==============================] - 0s 4ms/step - loss: 2.0996 - accuracy: 0.1943 - val_loss: 2.0530 - val_accuracy: 0.1967\n",
            "epochs : 5\n",
            "70/70 [==============================] - 0s 4ms/step - loss: 2.0607 - accuracy: 0.2043 - val_loss: 2.0194 - val_accuracy: 0.2300\n",
            "epochs : 6\n",
            "70/70 [==============================] - 0s 4ms/step - loss: 2.0214 - accuracy: 0.2357 - val_loss: 1.9781 - val_accuracy: 0.2467\n",
            "epochs : 7\n",
            "70/70 [==============================] - 0s 4ms/step - loss: 1.9827 - accuracy: 0.2900 - val_loss: 1.9385 - val_accuracy: 0.2967\n",
            "epochs : 8\n",
            "70/70 [==============================] - 0s 4ms/step - loss: 1.9399 - accuracy: 0.3057 - val_loss: 1.9051 - val_accuracy: 0.3500\n",
            "epochs : 9\n",
            "70/70 [==============================] - 0s 4ms/step - loss: 1.9017 - accuracy: 0.3329 - val_loss: 1.8631 - val_accuracy: 0.3567\n",
            "epochs : 10\n",
            "70/70 [==============================] - 0s 3ms/step - loss: 1.8627 - accuracy: 0.3471 - val_loss: 1.8280 - val_accuracy: 0.3567\n",
            "epochs : 11\n",
            "70/70 [==============================] - 0s 2ms/step - loss: 1.8293 - accuracy: 0.3486 - val_loss: 1.7973 - val_accuracy: 0.3700\n",
            "epochs : 12\n",
            "70/70 [==============================] - 0s 3ms/step - loss: 1.7994 - accuracy: 0.3557 - val_loss: 1.7707 - val_accuracy: 0.3733\n",
            "epochs : 13\n",
            "70/70 [==============================] - 0s 2ms/step - loss: 1.7733 - accuracy: 0.3571 - val_loss: 1.7485 - val_accuracy: 0.3667\n",
            "epochs : 14\n",
            "70/70 [==============================] - 0s 3ms/step - loss: 1.7498 - accuracy: 0.3614 - val_loss: 1.7287 - val_accuracy: 0.3800\n",
            "epochs : 15\n",
            "70/70 [==============================] - 0s 3ms/step - loss: 1.7289 - accuracy: 0.3614 - val_loss: 1.7101 - val_accuracy: 0.3800\n",
            "epochs : 16\n",
            " 1/70 [..............................] - ETA: 0s - loss: 1.8739 - accuracy: 0.4000WARNING:tensorflow:Callback method `on_train_batch_end` is slow compared to the batch time (batch time: 0.0009s vs `on_train_batch_end` time: 0.0015s). Check your callbacks.\n",
            "70/70 [==============================] - 0s 3ms/step - loss: 1.7101 - accuracy: 0.3614 - val_loss: 1.6935 - val_accuracy: 0.3800\n",
            "epochs : 17\n",
            "70/70 [==============================] - 0s 3ms/step - loss: 1.6918 - accuracy: 0.3671 - val_loss: 1.6805 - val_accuracy: 0.3733\n",
            "epochs : 18\n",
            "70/70 [==============================] - 0s 2ms/step - loss: 1.6761 - accuracy: 0.3671 - val_loss: 1.6650 - val_accuracy: 0.3833\n",
            "epochs : 19\n",
            "70/70 [==============================] - 0s 3ms/step - loss: 1.6617 - accuracy: 0.3671 - val_loss: 1.6524 - val_accuracy: 0.3867\n",
            "epochs : 20\n",
            "70/70 [==============================] - 0s 3ms/step - loss: 1.6477 - accuracy: 0.3629 - val_loss: 1.6412 - val_accuracy: 0.3800\n",
            "epochs : 21\n",
            "70/70 [==============================] - 0s 3ms/step - loss: 1.6342 - accuracy: 0.3671 - val_loss: 1.6303 - val_accuracy: 0.3800\n",
            "epochs : 22\n",
            " 1/70 [..............................] - ETA: 0s - loss: 1.4052 - accuracy: 0.6000WARNING:tensorflow:Callback method `on_train_batch_end` is slow compared to the batch time (batch time: 0.0010s vs `on_train_batch_end` time: 0.0013s). Check your callbacks.\n",
            "70/70 [==============================] - 0s 3ms/step - loss: 1.6217 - accuracy: 0.3771 - val_loss: 1.6199 - val_accuracy: 0.3900\n",
            "epochs : 23\n",
            "70/70 [==============================] - 0s 3ms/step - loss: 1.6080 - accuracy: 0.3843 - val_loss: 1.6101 - val_accuracy: 0.3900\n",
            "epochs : 24\n",
            "70/70 [==============================] - 0s 3ms/step - loss: 1.5983 - accuracy: 0.3843 - val_loss: 1.6021 - val_accuracy: 0.3900\n",
            "epochs : 25\n",
            "70/70 [==============================] - 0s 3ms/step - loss: 1.5876 - accuracy: 0.3843 - val_loss: 1.5949 - val_accuracy: 0.3867\n",
            "epochs : 26\n",
            "70/70 [==============================] - 0s 2ms/step - loss: 1.5767 - accuracy: 0.3829 - val_loss: 1.5850 - val_accuracy: 0.3933\n",
            "epochs : 27\n",
            "70/70 [==============================] - 0s 3ms/step - loss: 1.5664 - accuracy: 0.3914 - val_loss: 1.5774 - val_accuracy: 0.3900\n",
            "epochs : 28\n",
            "70/70 [==============================] - 0s 3ms/step - loss: 1.5564 - accuracy: 0.3943 - val_loss: 1.5696 - val_accuracy: 0.3900\n",
            "epochs : 29\n",
            "70/70 [==============================] - 0s 2ms/step - loss: 1.5476 - accuracy: 0.3971 - val_loss: 1.5646 - val_accuracy: 0.3900\n",
            "epochs : 30\n",
            "70/70 [==============================] - 0s 3ms/step - loss: 1.5385 - accuracy: 0.4057 - val_loss: 1.5529 - val_accuracy: 0.3900\n",
            "epochs : 31\n",
            "70/70 [==============================] - 0s 3ms/step - loss: 1.5282 - accuracy: 0.4086 - val_loss: 1.5479 - val_accuracy: 0.3933\n",
            "epochs : 32\n",
            "70/70 [==============================] - 0s 3ms/step - loss: 1.5205 - accuracy: 0.4129 - val_loss: 1.5392 - val_accuracy: 0.3900\n",
            "epochs : 33\n",
            "70/70 [==============================] - 0s 3ms/step - loss: 1.5125 - accuracy: 0.4171 - val_loss: 1.5328 - val_accuracy: 0.4000\n",
            "epochs : 34\n",
            "70/70 [==============================] - 0s 3ms/step - loss: 1.5031 - accuracy: 0.4214 - val_loss: 1.5263 - val_accuracy: 0.4100\n",
            "epochs : 35\n",
            "70/70 [==============================] - 0s 3ms/step - loss: 1.4954 - accuracy: 0.4214 - val_loss: 1.5199 - val_accuracy: 0.4167\n",
            "epochs : 36\n",
            "70/70 [==============================] - 0s 2ms/step - loss: 1.4876 - accuracy: 0.4143 - val_loss: 1.5131 - val_accuracy: 0.4133\n",
            "epochs : 37\n",
            "70/70 [==============================] - 0s 3ms/step - loss: 1.4794 - accuracy: 0.4300 - val_loss: 1.5082 - val_accuracy: 0.4133\n",
            "epochs : 38\n",
            "70/70 [==============================] - 0s 3ms/step - loss: 1.4714 - accuracy: 0.4143 - val_loss: 1.5031 - val_accuracy: 0.4100\n",
            "epochs : 39\n",
            "70/70 [==============================] - 0s 2ms/step - loss: 1.4630 - accuracy: 0.4371 - val_loss: 1.4949 - val_accuracy: 0.4200\n",
            "epochs : 40\n",
            "70/70 [==============================] - 0s 3ms/step - loss: 1.4574 - accuracy: 0.4357 - val_loss: 1.4907 - val_accuracy: 0.4167\n",
            "epochs : 41\n",
            "70/70 [==============================] - 0s 3ms/step - loss: 1.4486 - accuracy: 0.4257 - val_loss: 1.4857 - val_accuracy: 0.4333\n",
            "epochs : 42\n",
            "70/70 [==============================] - 0s 3ms/step - loss: 1.4416 - accuracy: 0.4357 - val_loss: 1.4800 - val_accuracy: 0.4200\n",
            "epochs : 43\n",
            "70/70 [==============================] - 0s 3ms/step - loss: 1.4332 - accuracy: 0.4343 - val_loss: 1.4753 - val_accuracy: 0.4333\n",
            "epochs : 44\n",
            "70/70 [==============================] - 0s 2ms/step - loss: 1.4257 - accuracy: 0.4486 - val_loss: 1.4689 - val_accuracy: 0.4233\n",
            "epochs : 45\n",
            "70/70 [==============================] - 0s 3ms/step - loss: 1.4162 - accuracy: 0.4386 - val_loss: 1.4723 - val_accuracy: 0.4367\n",
            "epochs : 46\n",
            "70/70 [==============================] - 0s 2ms/step - loss: 1.4123 - accuracy: 0.4500 - val_loss: 1.4633 - val_accuracy: 0.4233\n",
            "epochs : 47\n",
            "70/70 [==============================] - 0s 2ms/step - loss: 1.4049 - accuracy: 0.4471 - val_loss: 1.4574 - val_accuracy: 0.4300\n",
            "epochs : 48\n",
            "70/70 [==============================] - 0s 3ms/step - loss: 1.3986 - accuracy: 0.4471 - val_loss: 1.4554 - val_accuracy: 0.4300\n",
            "epochs : 49\n",
            "70/70 [==============================] - 0s 3ms/step - loss: 1.3900 - accuracy: 0.4557 - val_loss: 1.4476 - val_accuracy: 0.4233\n",
            "epochs : 50\n",
            "70/70 [==============================] - 0s 3ms/step - loss: 1.3840 - accuracy: 0.4600 - val_loss: 1.4453 - val_accuracy: 0.4333\n",
            "epochs : 51\n",
            "70/70 [==============================] - 0s 3ms/step - loss: 1.3778 - accuracy: 0.4514 - val_loss: 1.4418 - val_accuracy: 0.4300\n",
            "epochs : 52\n",
            "70/70 [==============================] - 0s 3ms/step - loss: 1.3711 - accuracy: 0.4600 - val_loss: 1.4372 - val_accuracy: 0.4333\n",
            "epochs : 53\n",
            "70/70 [==============================] - 0s 3ms/step - loss: 1.3624 - accuracy: 0.4757 - val_loss: 1.4348 - val_accuracy: 0.4267\n",
            "epochs : 54\n",
            "70/70 [==============================] - 0s 3ms/step - loss: 1.3561 - accuracy: 0.4729 - val_loss: 1.4269 - val_accuracy: 0.4267\n",
            "epochs : 55\n",
            "70/70 [==============================] - 0s 3ms/step - loss: 1.3499 - accuracy: 0.4771 - val_loss: 1.4266 - val_accuracy: 0.4400\n",
            "epochs : 56\n",
            "70/70 [==============================] - 0s 2ms/step - loss: 1.3433 - accuracy: 0.4786 - val_loss: 1.4197 - val_accuracy: 0.4233\n",
            "epochs : 57\n",
            "70/70 [==============================] - 0s 3ms/step - loss: 1.3378 - accuracy: 0.4771 - val_loss: 1.4209 - val_accuracy: 0.4300\n",
            "epochs : 58\n",
            "70/70 [==============================] - 0s 3ms/step - loss: 1.3324 - accuracy: 0.4843 - val_loss: 1.4128 - val_accuracy: 0.4433\n",
            "epochs : 59\n",
            "70/70 [==============================] - 0s 3ms/step - loss: 1.3255 - accuracy: 0.4900 - val_loss: 1.4073 - val_accuracy: 0.4200\n",
            "epochs : 60\n",
            "70/70 [==============================] - 0s 2ms/step - loss: 1.3194 - accuracy: 0.4886 - val_loss: 1.4063 - val_accuracy: 0.4233\n",
            "epochs : 61\n",
            "70/70 [==============================] - 0s 3ms/step - loss: 1.3148 - accuracy: 0.4900 - val_loss: 1.4080 - val_accuracy: 0.4133\n",
            "epochs : 62\n",
            "70/70 [==============================] - 0s 2ms/step - loss: 1.3105 - accuracy: 0.4900 - val_loss: 1.3983 - val_accuracy: 0.4333\n",
            "epochs : 63\n",
            "70/70 [==============================] - 0s 2ms/step - loss: 1.3038 - accuracy: 0.4914 - val_loss: 1.3957 - val_accuracy: 0.4367\n",
            "epochs : 64\n",
            "70/70 [==============================] - 0s 2ms/step - loss: 1.2974 - accuracy: 0.4986 - val_loss: 1.3966 - val_accuracy: 0.4300\n",
            "epochs : 65\n",
            "70/70 [==============================] - 0s 3ms/step - loss: 1.2934 - accuracy: 0.4957 - val_loss: 1.3876 - val_accuracy: 0.4367\n",
            "epochs : 66\n",
            "70/70 [==============================] - 0s 3ms/step - loss: 1.2863 - accuracy: 0.5043 - val_loss: 1.3816 - val_accuracy: 0.4267\n",
            "epochs : 67\n",
            "70/70 [==============================] - 0s 3ms/step - loss: 1.2821 - accuracy: 0.5014 - val_loss: 1.3803 - val_accuracy: 0.4333\n",
            "epochs : 68\n",
            "70/70 [==============================] - 0s 3ms/step - loss: 1.2769 - accuracy: 0.5129 - val_loss: 1.3767 - val_accuracy: 0.4333\n",
            "epochs : 69\n",
            "70/70 [==============================] - 0s 3ms/step - loss: 1.2731 - accuracy: 0.5086 - val_loss: 1.3696 - val_accuracy: 0.4400\n",
            "epochs : 70\n",
            " 1/70 [..............................] - ETA: 0s - loss: 1.2655 - accuracy: 0.6000WARNING:tensorflow:Callback method `on_train_batch_end` is slow compared to the batch time (batch time: 0.0010s vs `on_train_batch_end` time: 0.0011s). Check your callbacks.\n",
            "70/70 [==============================] - 0s 3ms/step - loss: 1.2664 - accuracy: 0.5057 - val_loss: 1.3709 - val_accuracy: 0.4400\n",
            "epochs : 71\n",
            "70/70 [==============================] - 0s 2ms/step - loss: 1.2605 - accuracy: 0.5143 - val_loss: 1.3633 - val_accuracy: 0.4400\n",
            "epochs : 72\n",
            "70/70 [==============================] - 0s 3ms/step - loss: 1.2585 - accuracy: 0.5214 - val_loss: 1.3644 - val_accuracy: 0.4433\n",
            "epochs : 73\n",
            "70/70 [==============================] - 0s 2ms/step - loss: 1.2525 - accuracy: 0.5171 - val_loss: 1.3547 - val_accuracy: 0.4433\n",
            "epochs : 74\n",
            "70/70 [==============================] - 0s 3ms/step - loss: 1.2473 - accuracy: 0.5243 - val_loss: 1.3562 - val_accuracy: 0.4467\n",
            "epochs : 75\n",
            "70/70 [==============================] - 0s 3ms/step - loss: 1.2436 - accuracy: 0.5300 - val_loss: 1.3483 - val_accuracy: 0.4567\n",
            "epochs : 76\n",
            "70/70 [==============================] - 0s 3ms/step - loss: 1.2380 - accuracy: 0.5300 - val_loss: 1.3433 - val_accuracy: 0.4667\n",
            "epochs : 77\n",
            "70/70 [==============================] - 0s 3ms/step - loss: 1.2344 - accuracy: 0.5343 - val_loss: 1.3433 - val_accuracy: 0.5067\n",
            "epochs : 78\n",
            "70/70 [==============================] - 0s 3ms/step - loss: 1.2297 - accuracy: 0.5329 - val_loss: 1.3399 - val_accuracy: 0.5267\n",
            "epochs : 79\n",
            "70/70 [==============================] - 0s 3ms/step - loss: 1.2242 - accuracy: 0.5486 - val_loss: 1.3360 - val_accuracy: 0.5300\n",
            "epochs : 80\n",
            "70/70 [==============================] - 0s 3ms/step - loss: 1.2204 - accuracy: 0.5471 - val_loss: 1.3373 - val_accuracy: 0.5133\n",
            "epochs : 81\n",
            "70/70 [==============================] - 0s 3ms/step - loss: 1.2176 - accuracy: 0.5600 - val_loss: 1.3328 - val_accuracy: 0.5267\n",
            "epochs : 82\n",
            "70/70 [==============================] - 0s 3ms/step - loss: 1.2135 - accuracy: 0.5543 - val_loss: 1.3336 - val_accuracy: 0.5133\n",
            "epochs : 83\n",
            "70/70 [==============================] - 0s 3ms/step - loss: 1.2080 - accuracy: 0.5671 - val_loss: 1.3314 - val_accuracy: 0.5100\n",
            "epochs : 84\n",
            "70/70 [==============================] - 0s 3ms/step - loss: 1.2050 - accuracy: 0.5671 - val_loss: 1.3271 - val_accuracy: 0.5200\n",
            "epochs : 85\n",
            "70/70 [==============================] - 0s 3ms/step - loss: 1.2013 - accuracy: 0.5629 - val_loss: 1.3183 - val_accuracy: 0.5300\n",
            "epochs : 86\n",
            "70/70 [==============================] - 0s 3ms/step - loss: 1.1977 - accuracy: 0.5643 - val_loss: 1.3238 - val_accuracy: 0.5200\n",
            "epochs : 87\n",
            "70/70 [==============================] - 0s 3ms/step - loss: 1.1932 - accuracy: 0.5729 - val_loss: 1.3209 - val_accuracy: 0.5200\n",
            "epochs : 88\n",
            "70/70 [==============================] - 0s 3ms/step - loss: 1.1915 - accuracy: 0.5586 - val_loss: 1.3236 - val_accuracy: 0.5033\n",
            "epochs : 89\n",
            "70/70 [==============================] - 0s 3ms/step - loss: 1.1878 - accuracy: 0.5643 - val_loss: 1.3131 - val_accuracy: 0.5300\n",
            "epochs : 90\n",
            "70/70 [==============================] - 0s 2ms/step - loss: 1.1836 - accuracy: 0.5771 - val_loss: 1.3110 - val_accuracy: 0.5300\n",
            "epochs : 91\n",
            "70/70 [==============================] - 0s 2ms/step - loss: 1.1807 - accuracy: 0.5771 - val_loss: 1.3155 - val_accuracy: 0.5167\n",
            "epochs : 92\n",
            "70/70 [==============================] - 0s 3ms/step - loss: 1.1776 - accuracy: 0.5729 - val_loss: 1.3118 - val_accuracy: 0.5167\n",
            "epochs : 93\n",
            "70/70 [==============================] - 0s 2ms/step - loss: 1.1734 - accuracy: 0.5729 - val_loss: 1.3012 - val_accuracy: 0.5400\n",
            "epochs : 94\n",
            "70/70 [==============================] - 0s 3ms/step - loss: 1.1702 - accuracy: 0.5757 - val_loss: 1.3042 - val_accuracy: 0.5267\n",
            "epochs : 95\n",
            "70/70 [==============================] - 0s 3ms/step - loss: 1.1678 - accuracy: 0.5800 - val_loss: 1.3050 - val_accuracy: 0.5200\n",
            "epochs : 96\n",
            "70/70 [==============================] - 0s 3ms/step - loss: 1.1670 - accuracy: 0.5743 - val_loss: 1.3031 - val_accuracy: 0.5300\n",
            "epochs : 97\n",
            "70/70 [==============================] - 0s 3ms/step - loss: 1.1619 - accuracy: 0.5814 - val_loss: 1.3022 - val_accuracy: 0.5200\n",
            "epochs : 98\n",
            "70/70 [==============================] - 0s 3ms/step - loss: 1.1597 - accuracy: 0.5757 - val_loss: 1.3010 - val_accuracy: 0.5233\n",
            "epochs : 99\n",
            "70/70 [==============================] - 0s 3ms/step - loss: 1.1570 - accuracy: 0.5714 - val_loss: 1.2961 - val_accuracy: 0.5333\n"
          ]
        }
      ]
    },
    {
      "cell_type": "code",
      "source": [
        "loss_and_metrics = model.evaluate(x_test, y_test, batch_size =32)\n",
        "print('## evaluation loss and metrics ##')\n",
        "print(loss_and_metrics)"
      ],
      "metadata": {
        "colab": {
          "base_uri": "https://localhost:8080/"
        },
        "id": "UyRoO4bu8ZyM",
        "outputId": "5fa188ed-f42c-42cb-aa7b-bfaeb6761a56"
      },
      "execution_count": null,
      "outputs": [
        {
          "output_type": "stream",
          "name": "stdout",
          "text": [
            "313/313 [==============================] - 1s 2ms/step - loss: 1.3763 - accuracy: 0.4932\n",
            "## evaluation loss and metrics ##\n",
            "[1.3762996196746826, 0.49320000410079956]\n"
          ]
        }
      ]
    },
    {
      "cell_type": "code",
      "source": [
        "x_train.shape, y_train.shape"
      ],
      "metadata": {
        "colab": {
          "base_uri": "https://localhost:8080/"
        },
        "id": "BWtVifEL_cHw",
        "outputId": "57315428-c57c-40f8-9e64-d49dbf93ce25"
      },
      "execution_count": null,
      "outputs": [
        {
          "output_type": "execute_result",
          "data": {
            "text/plain": [
              "((700, 784), (700, 10))"
            ]
          },
          "metadata": {},
          "execution_count": 12
        }
      ]
    },
    {
      "cell_type": "code",
      "source": [
        "x_test.shape, y_test.shape"
      ],
      "metadata": {
        "colab": {
          "base_uri": "https://localhost:8080/"
        },
        "id": "KcjJVT8o-ULB",
        "outputId": "026a8a5f-28ff-4f85-fcc4-e8841a67309b"
      },
      "execution_count": null,
      "outputs": [
        {
          "output_type": "execute_result",
          "data": {
            "text/plain": [
              "((10000, 784), (10000, 10))"
            ]
          },
          "metadata": {},
          "execution_count": 13
        }
      ]
    },
    {
      "cell_type": "code",
      "source": [
        "%matplotlib inline\n",
        "import matplotlib.pyplot as plt\n",
        "\n",
        "fig , loss_ax = plt.subplots()\n",
        "\n",
        "acc_ax = loss_ax.twinx()\n",
        "\n",
        "loss_ax.plot(custom_hist.loss, 'y', label = 'train loss')\n",
        "loss_ax.plot(custom_hist.val_loss, 'r', label='val loss')\n",
        "\n",
        "acc_ax.plot(custom_hist.accuracy, 'b', label='train acc')\n",
        "acc_ax.plot(custom_hist.val_accuracy,'g', label='val acc')\n",
        "\n",
        "loss_ax.set_xlabel('epoch')\n",
        "loss_ax.set_ylabel('loss')\n",
        "acc_ax.set_ylabel('accuracy')\n",
        "\n",
        "loss_ax.legend(loc='upper left')\n",
        "acc_ax.legend(loc ='lower left')\n",
        "\n",
        "plt.show()"
      ],
      "metadata": {
        "colab": {
          "base_uri": "https://localhost:8080/",
          "height": 281
        },
        "id": "Xw6GC789_mb6",
        "outputId": "10f3a96b-234b-4f81-d4a4-a8d5b2e43134"
      },
      "execution_count": null,
      "outputs": [
        {
          "output_type": "display_data",
          "data": {
            "text/plain": [
              "<Figure size 432x288 with 2 Axes>"
            ],
            "image/png": "[encoded data removed]"
          },
          "metadata": {
            "needs_background": "light"
          }
        }
      ]
    },
    {
      "cell_type": "markdown",
      "source": [
        "# 예측"
      ],
      "metadata": {
        "id": "RE74iz0QFlVi"
      }
    },
    {
      "cell_type": "markdown",
      "source": [
        "강수량, 기온, 평균, 증발산량"
      ],
      "metadata": {
        "id": "zfsorbjFG7ED"
      }
    },
    {
      "cell_type": "code",
      "source": [
        "import pandas as pd\n",
        "import numpy as np\n",
        "import matplotlib.pyplot as plt\n"
      ],
      "metadata": {
        "id": "kz7ukXyyHIf0"
      },
      "execution_count": null,
      "outputs": []
    },
    {
      "cell_type": "code",
      "source": [
        "df = pd.read_csv('OBS_ASOS_ANL_20220625151356.csv',skiprows=[0], names=['site','loca','year','airtemp','hpa','rain','hm','rn','ws','evapor'], encoding='cp949')"
      ],
      "metadata": {
        "id": "iOhdOatNFkj_",
        "outputId": "94d87110-62a3-4e9d-e664-9306dce827b5",
        "colab": {
          "base_uri": "https://localhost:8080/",
          "height": 327
        }
      },
      "execution_count": null,
      "outputs": [
        {
          "output_type": "error",
          "ename": "FileNotFoundError",
          "evalue": "ignored",
          "traceback": [
            "\u001b[0;31m---------------------------------------------------------------------------\u001b[0m",
            "\u001b[0;31mFileNotFoundError\u001b[0m                         Traceback (most recent call last)",
            "\u001b[0;32m<ipython-input-2-5a2e4603f71d>\u001b[0m in \u001b[0;36m<module>\u001b[0;34m()\u001b[0m\n\u001b[0;32m----> 1\u001b[0;31m \u001b[0mdf\u001b[0m \u001b[0;34m=\u001b[0m \u001b[0mpd\u001b[0m\u001b[0;34m.\u001b[0m\u001b[0mread_csv\u001b[0m\u001b[0;34m(\u001b[0m\u001b[0;34m'OBS_ASOS_ANL_20220625151356.csv'\u001b[0m\u001b[0;34m,\u001b[0m\u001b[0mskiprows\u001b[0m\u001b[0;34m=\u001b[0m\u001b[0;34m[\u001b[0m\u001b[0;36m0\u001b[0m\u001b[0;34m]\u001b[0m\u001b[0;34m,\u001b[0m \u001b[0mnames\u001b[0m\u001b[0;34m=\u001b[0m\u001b[0;34m[\u001b[0m\u001b[0;34m'site'\u001b[0m\u001b[0;34m,\u001b[0m\u001b[0;34m'loca'\u001b[0m\u001b[0;34m,\u001b[0m\u001b[0;34m'year'\u001b[0m\u001b[0;34m,\u001b[0m\u001b[0;34m'airtemp'\u001b[0m\u001b[0;34m,\u001b[0m\u001b[0;34m'hpa'\u001b[0m\u001b[0;34m,\u001b[0m\u001b[0;34m'rain'\u001b[0m\u001b[0;34m,\u001b[0m\u001b[0;34m'hm'\u001b[0m\u001b[0;34m,\u001b[0m\u001b[0;34m'rn'\u001b[0m\u001b[0;34m,\u001b[0m\u001b[0;34m'ws'\u001b[0m\u001b[0;34m,\u001b[0m\u001b[0;34m'evapor'\u001b[0m\u001b[0;34m]\u001b[0m\u001b[0;34m,\u001b[0m \u001b[0mencoding\u001b[0m\u001b[0;34m=\u001b[0m\u001b[0;34m'cp949'\u001b[0m\u001b[0;34m)\u001b[0m\u001b[0;34m\u001b[0m\u001b[0;34m\u001b[0m\u001b[0m\n\u001b[0m",
            "\u001b[0;32m/usr/local/lib/python3.7/dist-packages/pandas/util/_decorators.py\u001b[0m in \u001b[0;36mwrapper\u001b[0;34m(*args, **kwargs)\u001b[0m\n\u001b[1;32m    309\u001b[0m                     \u001b[0mstacklevel\u001b[0m\u001b[0;34m=\u001b[0m\u001b[0mstacklevel\u001b[0m\u001b[0;34m,\u001b[0m\u001b[0;34m\u001b[0m\u001b[0;34m\u001b[0m\u001b[0m\n\u001b[1;32m    310\u001b[0m                 )\n\u001b[0;32m--> 311\u001b[0;31m             \u001b[0;32mreturn\u001b[0m \u001b[0mfunc\u001b[0m\u001b[0;34m(\u001b[0m\u001b[0;34m*\u001b[0m\u001b[0margs\u001b[0m\u001b[0;34m,\u001b[0m \u001b[0;34m**\u001b[0m\u001b[0mkwargs\u001b[0m\u001b[0;34m)\u001b[0m\u001b[0;34m\u001b[0m\u001b[0;34m\u001b[0m\u001b[0m\n\u001b[0m\u001b[1;32m    312\u001b[0m \u001b[0;34m\u001b[0m\u001b[0m\n\u001b[1;32m    313\u001b[0m         \u001b[0;32mreturn\u001b[0m \u001b[0mwrapper\u001b[0m\u001b[0;34m\u001b[0m\u001b[0;34m\u001b[0m\u001b[0m\n",
            "\u001b[0;32m/usr/local/lib/python3.7/dist-packages/pandas/io/parsers/readers.py\u001b[0m in \u001b[0;36mread_csv\u001b[0;34m(filepath_or_buffer, sep, delimiter, header, names, index_col, usecols, squeeze, prefix, mangle_dupe_cols, dtype, engine, converters, true_values, false_values, skipinitialspace, skiprows, skipfooter, nrows, na_values, keep_default_na, na_filter, verbose, skip_blank_lines, parse_dates, infer_datetime_format, keep_date_col, date_parser, dayfirst, cache_dates, iterator, chunksize, compression, thousands, decimal, lineterminator, quotechar, quoting, doublequote, escapechar, comment, encoding, encoding_errors, dialect, error_bad_lines, warn_bad_lines, on_bad_lines, delim_whitespace, low_memory, memory_map, float_precision, storage_options)\u001b[0m\n\u001b[1;32m    584\u001b[0m     \u001b[0mkwds\u001b[0m\u001b[0;34m.\u001b[0m\u001b[0mupdate\u001b[0m\u001b[0;34m(\u001b[0m\u001b[0mkwds_defaults\u001b[0m\u001b[0;34m)\u001b[0m\u001b[0;34m\u001b[0m\u001b[0;34m\u001b[0m\u001b[0m\n\u001b[1;32m    585\u001b[0m \u001b[0;34m\u001b[0m\u001b[0m\n\u001b[0;32m--> 586\u001b[0;31m     \u001b[0;32mreturn\u001b[0m \u001b[0m_read\u001b[0m\u001b[0;34m(\u001b[0m\u001b[0mfilepath_or_buffer\u001b[0m\u001b[0;34m,\u001b[0m \u001b[0mkwds\u001b[0m\u001b[0;34m)\u001b[0m\u001b[0;34m\u001b[0m\u001b[0;34m\u001b[0m\u001b[0m\n\u001b[0m\u001b[1;32m    587\u001b[0m \u001b[0;34m\u001b[0m\u001b[0m\n\u001b[1;32m    588\u001b[0m \u001b[0;34m\u001b[0m\u001b[0m\n",
            "\u001b[0;32m/usr/local/lib/python3.7/dist-packages/pandas/io/parsers/readers.py\u001b[0m in \u001b[0;36m_read\u001b[0;34m(filepath_or_buffer, kwds)\u001b[0m\n\u001b[1;32m    480\u001b[0m \u001b[0;34m\u001b[0m\u001b[0m\n\u001b[1;32m    481\u001b[0m     \u001b[0;31m# Create the parser.\u001b[0m\u001b[0;34m\u001b[0m\u001b[0;34m\u001b[0m\u001b[0;34m\u001b[0m\u001b[0m\n\u001b[0;32m--> 482\u001b[0;31m     \u001b[0mparser\u001b[0m \u001b[0;34m=\u001b[0m \u001b[0mTextFileReader\u001b[0m\u001b[0;34m(\u001b[0m\u001b[0mfilepath_or_buffer\u001b[0m\u001b[0;34m,\u001b[0m \u001b[0;34m**\u001b[0m\u001b[0mkwds\u001b[0m\u001b[0;34m)\u001b[0m\u001b[0;34m\u001b[0m\u001b[0;34m\u001b[0m\u001b[0m\n\u001b[0m\u001b[1;32m    483\u001b[0m \u001b[0;34m\u001b[0m\u001b[0m\n\u001b[1;32m    484\u001b[0m     \u001b[0;32mif\u001b[0m \u001b[0mchunksize\u001b[0m \u001b[0;32mor\u001b[0m \u001b[0miterator\u001b[0m\u001b[0;34m:\u001b[0m\u001b[0;34m\u001b[0m\u001b[0;34m\u001b[0m\u001b[0m\n",
            "\u001b[0;32m/usr/local/lib/python3.7/dist-packages/pandas/io/parsers/readers.py\u001b[0m in \u001b[0;36m__init__\u001b[0;34m(self, f, engine, **kwds)\u001b[0m\n\u001b[1;32m    809\u001b[0m             \u001b[0mself\u001b[0m\u001b[0;34m.\u001b[0m\u001b[0moptions\u001b[0m\u001b[0;34m[\u001b[0m\u001b[0;34m\"has_index_names\"\u001b[0m\u001b[0;34m]\u001b[0m \u001b[0;34m=\u001b[0m \u001b[0mkwds\u001b[0m\u001b[0;34m[\u001b[0m\u001b[0;34m\"has_index_names\"\u001b[0m\u001b[0;34m]\u001b[0m\u001b[0;34m\u001b[0m\u001b[0;34m\u001b[0m\u001b[0m\n\u001b[1;32m    810\u001b[0m \u001b[0;34m\u001b[0m\u001b[0m\n\u001b[0;32m--> 811\u001b[0;31m         \u001b[0mself\u001b[0m\u001b[0;34m.\u001b[0m\u001b[0m_engine\u001b[0m \u001b[0;34m=\u001b[0m \u001b[0mself\u001b[0m\u001b[0;34m.\u001b[0m\u001b[0m_make_engine\u001b[0m\u001b[0;34m(\u001b[0m\u001b[0mself\u001b[0m\u001b[0;34m.\u001b[0m\u001b[0mengine\u001b[0m\u001b[0;34m)\u001b[0m\u001b[0;34m\u001b[0m\u001b[0;34m\u001b[0m\u001b[0m\n\u001b[0m\u001b[1;32m    812\u001b[0m \u001b[0;34m\u001b[0m\u001b[0m\n\u001b[1;32m    813\u001b[0m     \u001b[0;32mdef\u001b[0m \u001b[0mclose\u001b[0m\u001b[0;34m(\u001b[0m\u001b[0mself\u001b[0m\u001b[0;34m)\u001b[0m\u001b[0;34m:\u001b[0m\u001b[0;34m\u001b[0m\u001b[0;34m\u001b[0m\u001b[0m\n",
            "\u001b[0;32m/usr/local/lib/python3.7/dist-packages/pandas/io/parsers/readers.py\u001b[0m in \u001b[0;36m_make_engine\u001b[0;34m(self, engine)\u001b[0m\n\u001b[1;32m   1038\u001b[0m             )\n\u001b[1;32m   1039\u001b[0m         \u001b[0;31m# error: Too many arguments for \"ParserBase\"\u001b[0m\u001b[0;34m\u001b[0m\u001b[0;34m\u001b[0m\u001b[0;34m\u001b[0m\u001b[0m\n\u001b[0;32m-> 1040\u001b[0;31m         \u001b[0;32mreturn\u001b[0m \u001b[0mmapping\u001b[0m\u001b[0;34m[\u001b[0m\u001b[0mengine\u001b[0m\u001b[0;34m]\u001b[0m\u001b[0;34m(\u001b[0m\u001b[0mself\u001b[0m\u001b[0;34m.\u001b[0m\u001b[0mf\u001b[0m\u001b[0;34m,\u001b[0m \u001b[0;34m**\u001b[0m\u001b[0mself\u001b[0m\u001b[0;34m.\u001b[0m\u001b[0moptions\u001b[0m\u001b[0;34m)\u001b[0m  \u001b[0;31m# type: ignore[call-arg]\u001b[0m\u001b[0;34m\u001b[0m\u001b[0;34m\u001b[0m\u001b[0m\n\u001b[0m\u001b[1;32m   1041\u001b[0m \u001b[0;34m\u001b[0m\u001b[0m\n\u001b[1;32m   1042\u001b[0m     \u001b[0;32mdef\u001b[0m \u001b[0m_failover_to_python\u001b[0m\u001b[0;34m(\u001b[0m\u001b[0mself\u001b[0m\u001b[0;34m)\u001b[0m\u001b[0;34m:\u001b[0m\u001b[0;34m\u001b[0m\u001b[0;34m\u001b[0m\u001b[0m\n",
            "\u001b[0;32m/usr/local/lib/python3.7/dist-packages/pandas/io/parsers/c_parser_wrapper.py\u001b[0m in \u001b[0;36m__init__\u001b[0;34m(self, src, **kwds)\u001b[0m\n\u001b[1;32m     49\u001b[0m \u001b[0;34m\u001b[0m\u001b[0m\n\u001b[1;32m     50\u001b[0m         \u001b[0;31m# open handles\u001b[0m\u001b[0;34m\u001b[0m\u001b[0;34m\u001b[0m\u001b[0;34m\u001b[0m\u001b[0m\n\u001b[0;32m---> 51\u001b[0;31m         \u001b[0mself\u001b[0m\u001b[0;34m.\u001b[0m\u001b[0m_open_handles\u001b[0m\u001b[0;34m(\u001b[0m\u001b[0msrc\u001b[0m\u001b[0;34m,\u001b[0m \u001b[0mkwds\u001b[0m\u001b[0;34m)\u001b[0m\u001b[0;34m\u001b[0m\u001b[0;34m\u001b[0m\u001b[0m\n\u001b[0m\u001b[1;32m     52\u001b[0m         \u001b[0;32massert\u001b[0m \u001b[0mself\u001b[0m\u001b[0;34m.\u001b[0m\u001b[0mhandles\u001b[0m \u001b[0;32mis\u001b[0m \u001b[0;32mnot\u001b[0m \u001b[0;32mNone\u001b[0m\u001b[0;34m\u001b[0m\u001b[0;34m\u001b[0m\u001b[0m\n\u001b[1;32m     53\u001b[0m \u001b[0;34m\u001b[0m\u001b[0m\n",
            "\u001b[0;32m/usr/local/lib/python3.7/dist-packages/pandas/io/parsers/base_parser.py\u001b[0m in \u001b[0;36m_open_handles\u001b[0;34m(self, src, kwds)\u001b[0m\n\u001b[1;32m    227\u001b[0m             \u001b[0mmemory_map\u001b[0m\u001b[0;34m=\u001b[0m\u001b[0mkwds\u001b[0m\u001b[0;34m.\u001b[0m\u001b[0mget\u001b[0m\u001b[0;34m(\u001b[0m\u001b[0;34m\"memory_map\"\u001b[0m\u001b[0;34m,\u001b[0m \u001b[0;32mFalse\u001b[0m\u001b[0;34m)\u001b[0m\u001b[0;34m,\u001b[0m\u001b[0;34m\u001b[0m\u001b[0;34m\u001b[0m\u001b[0m\n\u001b[1;32m    228\u001b[0m             \u001b[0mstorage_options\u001b[0m\u001b[0;34m=\u001b[0m\u001b[0mkwds\u001b[0m\u001b[0;34m.\u001b[0m\u001b[0mget\u001b[0m\u001b[0;34m(\u001b[0m\u001b[0;34m\"storage_options\"\u001b[0m\u001b[0;34m,\u001b[0m \u001b[0;32mNone\u001b[0m\u001b[0;34m)\u001b[0m\u001b[0;34m,\u001b[0m\u001b[0;34m\u001b[0m\u001b[0;34m\u001b[0m\u001b[0m\n\u001b[0;32m--> 229\u001b[0;31m             \u001b[0merrors\u001b[0m\u001b[0;34m=\u001b[0m\u001b[0mkwds\u001b[0m\u001b[0;34m.\u001b[0m\u001b[0mget\u001b[0m\u001b[0;34m(\u001b[0m\u001b[0;34m\"encoding_errors\"\u001b[0m\u001b[0;34m,\u001b[0m \u001b[0;34m\"strict\"\u001b[0m\u001b[0;34m)\u001b[0m\u001b[0;34m,\u001b[0m\u001b[0;34m\u001b[0m\u001b[0;34m\u001b[0m\u001b[0m\n\u001b[0m\u001b[1;32m    230\u001b[0m         )\n\u001b[1;32m    231\u001b[0m \u001b[0;34m\u001b[0m\u001b[0m\n",
            "\u001b[0;32m/usr/local/lib/python3.7/dist-packages/pandas/io/common.py\u001b[0m in \u001b[0;36mget_handle\u001b[0;34m(path_or_buf, mode, encoding, compression, memory_map, is_text, errors, storage_options)\u001b[0m\n\u001b[1;32m    705\u001b[0m                 \u001b[0mencoding\u001b[0m\u001b[0;34m=\u001b[0m\u001b[0mioargs\u001b[0m\u001b[0;34m.\u001b[0m\u001b[0mencoding\u001b[0m\u001b[0;34m,\u001b[0m\u001b[0;34m\u001b[0m\u001b[0;34m\u001b[0m\u001b[0m\n\u001b[1;32m    706\u001b[0m                 \u001b[0merrors\u001b[0m\u001b[0;34m=\u001b[0m\u001b[0merrors\u001b[0m\u001b[0;34m,\u001b[0m\u001b[0;34m\u001b[0m\u001b[0;34m\u001b[0m\u001b[0m\n\u001b[0;32m--> 707\u001b[0;31m                 \u001b[0mnewline\u001b[0m\u001b[0;34m=\u001b[0m\u001b[0;34m\"\"\u001b[0m\u001b[0;34m,\u001b[0m\u001b[0;34m\u001b[0m\u001b[0;34m\u001b[0m\u001b[0m\n\u001b[0m\u001b[1;32m    708\u001b[0m             )\n\u001b[1;32m    709\u001b[0m         \u001b[0;32melse\u001b[0m\u001b[0;34m:\u001b[0m\u001b[0;34m\u001b[0m\u001b[0;34m\u001b[0m\u001b[0m\n",
            "\u001b[0;31mFileNotFoundError\u001b[0m: [Errno 2] No such file or directory: 'OBS_ASOS_ANL_20220625151356.csv'"
          ]
        }
      ]
    },
    {
      "cell_type": "code",
      "source": [
        "df.head()"
      ],
      "metadata": {
        "id": "gNAfzQYsHG6X"
      },
      "execution_count": null,
      "outputs": []
    },
    {
      "cell_type": "code",
      "source": [
        "df = df[['airtemp','rain','hm','evapor']]"
      ],
      "metadata": {
        "id": "_qLViT6nHPUo"
      },
      "execution_count": null,
      "outputs": []
    },
    {
      "cell_type": "code",
      "source": [
        "df.dropna(inplace=True)"
      ],
      "metadata": {
        "id": "qvDV3sInH78h"
      },
      "execution_count": null,
      "outputs": []
    },
    {
      "cell_type": "code",
      "source": [
        "df.head()"
      ],
      "metadata": {
        "id": "yJetiO8AJDjK"
      },
      "execution_count": null,
      "outputs": []
    },
    {
      "cell_type": "code",
      "source": [
        "df.info()"
      ],
      "metadata": {
        "id": "F1uKThRUIplE"
      },
      "execution_count": null,
      "outputs": []
    },
    {
      "cell_type": "markdown",
      "source": [
        "기온 10.4 -> 0~1 사이 값으로 바꿈\n",
        "\n",
        "AI model에서 계산 -> 예측값을 찾고\n",
        "\n",
        "예측값이 0.8일 경우 -> 실제기온으로는 얼마인지 알아내기 위해 복원할 수 있게 0~1사이로 고쳐줘야한다."
      ],
      "metadata": {
        "id": "QPicA4xNK7YV"
      }
    },
    {
      "cell_type": "code",
      "source": [
        "from sklearn.preprocessing import MinMaxScaler"
      ],
      "metadata": {
        "id": "MRmycw31Iqvs"
      },
      "execution_count": null,
      "outputs": []
    },
    {
      "cell_type": "code",
      "source": [
        "scaler = MinMaxScaler()\n",
        "signal_data = scaler.fit_transform(df)"
      ],
      "metadata": {
        "id": "gzvsIIk4LSr3"
      },
      "execution_count": null,
      "outputs": []
    },
    {
      "cell_type": "markdown",
      "source": [
        "X = 기온\n",
        "\n",
        "X_std = (X - X.min(axis=0)) / (X.max(axis=0)-X.min(axis=0))\n",
        "\n",
        "X_scaled = X_std * (max - min) +min"
      ],
      "metadata": {
        "id": "a8oGkbbeMM-3"
      }
    },
    {
      "cell_type": "code",
      "source": [
        "signal_data"
      ],
      "metadata": {
        "id": "w-S7tuvRLp9V"
      },
      "execution_count": null,
      "outputs": []
    },
    {
      "cell_type": "code",
      "source": [
        "signal_data.shape"
      ],
      "metadata": {
        "id": "WKGTFG3nNOHa"
      },
      "execution_count": null,
      "outputs": []
    },
    {
      "cell_type": "markdown",
      "source": [
        "시계열을 예측한다는것은 "
      ],
      "metadata": {
        "id": "OkFSwTcKNWgr"
      }
    },
    {
      "cell_type": "markdown",
      "source": [
        "시계열 데이터 인식하는 딥러닝 모델\n",
        "\n",
        "- 순환 신경망 recurrent neural network(RNN)\n",
        "\n",
        "- LSTM long short-term memory 선별 기억 능력을 갖춰 장기 문맥 처리에 유리"
      ],
      "metadata": {
        "id": "aDwek5b5OwsS"
      }
    },
    {
      "cell_type": "code",
      "source": [
        "def seq2dataset(seq, window, horizon):\n",
        "    X=[]\n",
        "    Y=[]\n",
        "    for i in range(len(seq)-(window + horizon)+1):\n",
        "        #print(i)    #0~102\n",
        "        #print(window)   #3\n",
        "        idx = i+window\n",
        "        #print(idx) #3~105\n",
        "        x=seq[i:idx]\n",
        "        #print('x :', x.shape)\n",
        "        y=seq[idx+horizon-1]\n",
        "        #print('y:' ,y.shape)\n",
        "        #y = (seq[idx+horizon-1])\n",
        "        X.append(x)\n",
        "        Y.append(y)\n",
        "    return np.array(X), np.array(Y)"
      ],
      "metadata": {
        "id": "drGCptf7NQZR"
      },
      "execution_count": null,
      "outputs": []
    },
    {
      "cell_type": "code",
      "source": [
        "X, Y = seq2dataset(signal_data, 3,1)"
      ],
      "metadata": {
        "id": "VgyvUsVqYLD3"
      },
      "execution_count": null,
      "outputs": []
    },
    {
      "cell_type": "code",
      "source": [
        "X"
      ],
      "metadata": {
        "id": "pz7GYcIXYdV8"
      },
      "execution_count": null,
      "outputs": []
    },
    {
      "cell_type": "code",
      "source": [
        "X.shape, Y.shape"
      ],
      "metadata": {
        "id": "ye0u8xn-YeID"
      },
      "execution_count": null,
      "outputs": []
    },
    {
      "cell_type": "code",
      "source": [
        "Y"
      ],
      "metadata": {
        "id": "8bz5or_UYxVd"
      },
      "execution_count": null,
      "outputs": []
    },
    {
      "cell_type": "code",
      "source": [
        "X[0]"
      ],
      "metadata": {
        "id": "PeybsHq2Yyrh"
      },
      "execution_count": null,
      "outputs": []
    },
    {
      "cell_type": "code",
      "source": [
        "x_train =X[:82]\n",
        "y_train =Y[:82]\n",
        "x_test = X[82:]\n",
        "y_test = Y[82:]"
      ],
      "metadata": {
        "id": "lD67R662ZMaX"
      },
      "execution_count": null,
      "outputs": []
    },
    {
      "cell_type": "code",
      "source": [
        "x_train.shape,y_train.shape ,x_test.shape, y_test.shape"
      ],
      "metadata": {
        "id": "eZciFtlCZgCU"
      },
      "execution_count": null,
      "outputs": []
    },
    {
      "cell_type": "code",
      "source": [
        "from keras.models import Sequential\n",
        "from keras.layers import Dense, LSTM, Dropout"
      ],
      "metadata": {
        "id": "dzr7kZjuamzK"
      },
      "execution_count": null,
      "outputs": []
    },
    {
      "cell_type": "code",
      "source": [
        "model = Sequential()\n",
        "model.add(LSTM(units=128, activation='relu', input_shape=x_train[0].shape))\n",
        "model.add(Dense(4))\n",
        "model.compile(loss='mae',optimizer = 'adam', metrics=['accuracy'])"
      ],
      "metadata": {
        "id": "TgB5jbOUZiEY"
      },
      "execution_count": null,
      "outputs": []
    },
    {
      "cell_type": "code",
      "source": [
        ""
      ],
      "metadata": {
        "id": "gbkyo7peakWt"
      },
      "execution_count": null,
      "outputs": []
    }
  ]
}