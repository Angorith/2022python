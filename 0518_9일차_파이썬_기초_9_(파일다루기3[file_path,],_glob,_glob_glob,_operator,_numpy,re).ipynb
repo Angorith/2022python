{
  "nbformat": 4,
  "nbformat_minor": 0,
  "metadata": {
    "colab": {
      "name": "0518 9일차 파이썬 기초 9 (파일다루기3[file_path,], glob, glob.glob, operator, numpy,re).ipynb",
      "provenance": [],
      "collapsed_sections": [],
      "authorship_tag": "ABX9TyNgf/UqYO3EImdVCrL0O/bv",
      "include_colab_link": true
    },
    "kernelspec": {
      "name": "python3",
      "display_name": "Python 3"
    },
    "language_info": {
      "name": "python"
    }
  },
  "cells": [
    {
      "cell_type": "markdown",
      "metadata": {
        "id": "view-in-github",
        "colab_type": "text"
      },
      "source": [
        "<a href=\"https://colab.research.google.com/github/Angorith/acorn_python/blob/main/0518_9%EC%9D%BC%EC%B0%A8_%ED%8C%8C%EC%9D%B4%EC%8D%AC_%EA%B8%B0%EC%B4%88_9_(%ED%8C%8C%EC%9D%BC%EB%8B%A4%EB%A3%A8%EA%B8%B03%5Bfile_path%2C%5D%2C_glob%2C_glob_glob%2C_operator%2C_numpy%2Cre).ipynb\" target=\"_parent\"><img src=\"https://colab.research.google.com/assets/colab-badge.svg\" alt=\"Open In Colab\"/></a>"
      ]
    },
    {
      "cell_type": "code",
      "execution_count": null,
      "metadata": {
        "colab": {
          "base_uri": "https://localhost:8080/"
        },
        "id": "3pepCnYljyku",
        "outputId": "d286f4ad-edea-4df2-e59c-d00fcca42f9b"
      },
      "outputs": [
        {
          "output_type": "stream",
          "name": "stdout",
          "text": [
            "Writing module_test.py\n"
          ]
        }
      ],
      "source": [
        "%%writefile module_test.py\n",
        "def add(a,b):\n",
        "  return a+b\n",
        "\n",
        "def f():\n",
        "  print('Python is becoming popular.')\n",
        "if __name__ == \"__main__\" : # __name__ = __main__, __name__== 'module_test'\n",
        "  print(add(1,10))\n",
        "  f()"
      ]
    },
    {
      "cell_type": "code",
      "source": [
        "ls"
      ],
      "metadata": {
        "colab": {
          "base_uri": "https://localhost:8080/"
        },
        "id": "LcdQvv3UkU8l",
        "outputId": "10cb98bc-e560-4220-f64b-d1535f0b6349"
      },
      "execution_count": null,
      "outputs": [
        {
          "output_type": "stream",
          "name": "stdout",
          "text": [
            "client.py  module_test.py  \u001b[0m\u001b[01;34msample_data\u001b[0m/  user_module.py\n"
          ]
        }
      ]
    },
    {
      "cell_type": "code",
      "source": [
        "%run module_test.py"
      ],
      "metadata": {
        "colab": {
          "base_uri": "https://localhost:8080/"
        },
        "id": "wZw2AoCZkWl1",
        "outputId": "20deb0f2-8da7-4844-e0b5-577226285c62"
      },
      "execution_count": null,
      "outputs": [
        {
          "output_type": "stream",
          "name": "stdout",
          "text": [
            "11\n",
            "Python is becoming popular.\n"
          ]
        }
      ]
    },
    {
      "cell_type": "code",
      "source": [
        "%%writefile client.py\n",
        "import module_test as mt"
      ],
      "metadata": {
        "colab": {
          "base_uri": "https://localhost:8080/"
        },
        "id": "BH28Bf3TkZCd",
        "outputId": "87fb1c41-0bd8-444c-ef7c-1323c59ffd7a"
      },
      "execution_count": null,
      "outputs": [
        {
          "output_type": "stream",
          "name": "stdout",
          "text": [
            "Overwriting client.py\n"
          ]
        }
      ]
    },
    {
      "cell_type": "code",
      "source": [
        "%run client.py"
      ],
      "metadata": {
        "id": "PHjUW3YVkfig"
      },
      "execution_count": null,
      "outputs": []
    },
    {
      "cell_type": "code",
      "source": [
        "sample_text = '내가 그의 이름을 불러주었을 때, 그는 나에게로 와서 꽃이 되었다.'"
      ],
      "metadata": {
        "id": "H4Sghx9Ok29E"
      },
      "execution_count": null,
      "outputs": []
    },
    {
      "cell_type": "code",
      "source": [
        "sample_text.replace('그','함수').replace('꽃이','자료가')"
      ],
      "metadata": {
        "colab": {
          "base_uri": "https://localhost:8080/",
          "height": 36
        },
        "id": "4_1-_MtNl_IO",
        "outputId": "ffc776da-00f9-4819-914d-f29c2fe41a74"
      },
      "execution_count": null,
      "outputs": [
        {
          "output_type": "execute_result",
          "data": {
            "text/plain": [
              "'내가 함수의 이름을 불러주었을 때, 함수는 나에게로 와서 자료가 되었다.'"
            ],
            "application/vnd.google.colaboratory.intrinsic+json": {
              "type": "string"
            }
          },
          "metadata": {},
          "execution_count": 12
        }
      ]
    },
    {
      "cell_type": "markdown",
      "source": [
        "import glob = "
      ],
      "metadata": {
        "id": "JGd6dkXWm23x"
      }
    },
    {
      "cell_type": "code",
      "source": [
        "from glob import glob\n",
        "glob('*.exe')\n",
        "['python.exe','pythonw.exe']"
      ],
      "metadata": {
        "colab": {
          "base_uri": "https://localhost:8080/"
        },
        "id": "GdQVMNSAmgpZ",
        "outputId": "9b88549b-0edc-4c12-993b-0e0e892b945d"
      },
      "execution_count": null,
      "outputs": [
        {
          "output_type": "execute_result",
          "data": {
            "text/plain": [
              "['python.exe', 'pythonw.exe']"
            ]
          },
          "metadata": {},
          "execution_count": 15
        }
      ]
    },
    {
      "cell_type": "code",
      "source": [
        "glob('*.txt')\n",
        "['LICENSE.txt','NEWS.txt']"
      ],
      "metadata": {
        "colab": {
          "base_uri": "https://localhost:8080/"
        },
        "id": "JAXdnarGm2Ro",
        "outputId": "50355a96-c078-4133-882b-3675109cb8df"
      },
      "execution_count": null,
      "outputs": [
        {
          "output_type": "execute_result",
          "data": {
            "text/plain": [
              "['LICENSE.txt', 'NEWS.txt']"
            ]
          },
          "metadata": {},
          "execution_count": 16
        }
      ]
    },
    {
      "cell_type": "code",
      "source": [
        "import glob"
      ],
      "metadata": {
        "id": "kCtzAyjWoFtV"
      },
      "execution_count": null,
      "outputs": []
    },
    {
      "cell_type": "markdown",
      "source": [
        "ls 는 화면으로 보여지지만 glob은 파일목록과 경로를 다 불러올 수 있다.\n"
      ],
      "metadata": {
        "id": "Q8gm2WIDo8Ar"
      }
    },
    {
      "cell_type": "code",
      "source": [
        "glob.glob('*')"
      ],
      "metadata": {
        "colab": {
          "base_uri": "https://localhost:8080/"
        },
        "id": "whcKOZvpoCkC",
        "outputId": "2b01730a-de48-4826-c5d2-4d8aace35a20"
      },
      "execution_count": null,
      "outputs": [
        {
          "output_type": "execute_result",
          "data": {
            "text/plain": [
              "['__pycache__', 'client.py', 'user_module.py', 'module_test.py', 'sample_data']"
            ]
          },
          "metadata": {},
          "execution_count": 24
        }
      ]
    },
    {
      "cell_type": "code",
      "source": [
        "ls"
      ],
      "metadata": {
        "colab": {
          "base_uri": "https://localhost:8080/"
        },
        "id": "fr4gL8HboHxW",
        "outputId": "199abb1d-efdb-43bb-a960-cfc5c110ce03"
      },
      "execution_count": null,
      "outputs": [
        {
          "output_type": "stream",
          "name": "stdout",
          "text": [
            "client.py  module_test.py  \u001b[0m\u001b[01;34m__pycache__\u001b[0m/  \u001b[01;34msample_data\u001b[0m/  user_module.py\n"
          ]
        }
      ]
    },
    {
      "cell_type": "code",
      "source": [
        "import glob"
      ],
      "metadata": {
        "id": "6C63VhxmpW0n"
      },
      "execution_count": null,
      "outputs": []
    },
    {
      "cell_type": "code",
      "source": [
        "file_list = glob.glob('*')"
      ],
      "metadata": {
        "id": "dl3AvjI8qoxc"
      },
      "execution_count": null,
      "outputs": []
    },
    {
      "cell_type": "code",
      "source": [
        "ls"
      ],
      "metadata": {
        "colab": {
          "base_uri": "https://localhost:8080/"
        },
        "id": "5Xhd7WSWqssU",
        "outputId": "aa46172d-076a-486e-9dc1-24540c1e082a"
      },
      "execution_count": null,
      "outputs": [
        {
          "output_type": "stream",
          "name": "stdout",
          "text": [
            "client.py  module_test.py  \u001b[0m\u001b[01;34m__pycache__\u001b[0m/  \u001b[01;34msample_data\u001b[0m/  user_module.py\n"
          ]
        }
      ]
    },
    {
      "cell_type": "code",
      "source": [
        "file_list"
      ],
      "metadata": {
        "colab": {
          "base_uri": "https://localhost:8080/"
        },
        "id": "sS1oF-oMqtq4",
        "outputId": "d1653f0a-a575-4b98-9175-2164d889c29d"
      },
      "execution_count": null,
      "outputs": [
        {
          "output_type": "execute_result",
          "data": {
            "text/plain": [
              "['__pycache__', 'client.py', 'user_module.py', 'module_test.py', 'sample_data']"
            ]
          },
          "metadata": {},
          "execution_count": 28
        }
      ]
    },
    {
      "cell_type": "code",
      "source": [
        "glob.glob('./**/*')"
      ],
      "metadata": {
        "id": "ppk6axR_qxyF"
      },
      "execution_count": null,
      "outputs": []
    },
    {
      "cell_type": "code",
      "source": [
        "pwd"
      ],
      "metadata": {
        "id": "No3f02b9sGz5"
      },
      "execution_count": null,
      "outputs": []
    },
    {
      "cell_type": "code",
      "source": [
        "glob.glob('/content/**/*')"
      ],
      "metadata": {
        "id": "Niykq8z4sITj"
      },
      "execution_count": null,
      "outputs": []
    },
    {
      "cell_type": "code",
      "source": [
        "ls /"
      ],
      "metadata": {
        "id": "vproXPczu3XK"
      },
      "execution_count": null,
      "outputs": []
    },
    {
      "cell_type": "code",
      "source": [
        "file_path = '/usr/local/lib/python3.7/dist-packages/numpy/'\n",
        "file_path_arg =file_path + '**/*'+'.py'"
      ],
      "metadata": {
        "id": "qRdPy6vLvOf0"
      },
      "execution_count": null,
      "outputs": []
    },
    {
      "cell_type": "code",
      "source": [
        "result = glob.glob(file_path_arg)"
      ],
      "metadata": {
        "id": "AD3OlzZYvcb-"
      },
      "execution_count": null,
      "outputs": []
    },
    {
      "cell_type": "code",
      "source": [
        "result"
      ],
      "metadata": {
        "id": "FJ1QSt35vtHb"
      },
      "execution_count": null,
      "outputs": []
    },
    {
      "cell_type": "code",
      "source": [
        "ls /etc"
      ],
      "metadata": {
        "colab": {
          "base_uri": "https://localhost:8080/"
        },
        "id": "Lzd0wRm0wAPl",
        "outputId": "aa41fb2c-f677-495f-da7e-16c51e1b7327"
      },
      "execution_count": null,
      "outputs": [
        {
          "output_type": "stream",
          "name": "stdout",
          "text": [
            "adduser.conf                   \u001b[0m\u001b[01;34mjava-11-openjdk\u001b[0m/  profile\n",
            "\u001b[01;34malternatives\u001b[0m/                  \u001b[01;34mjupyter\u001b[0m/          \u001b[01;34mprofile.d\u001b[0m/\n",
            "\u001b[01;34mapparmor.d\u001b[0m/                    \u001b[01;34mkernel\u001b[0m/           \u001b[01;34mpulse\u001b[0m/\n",
            "\u001b[01;34mapt\u001b[0m/                           \u001b[01;34mldap\u001b[0m/             \u001b[01;34mpython\u001b[0m/\n",
            "bash.bashrc                    ld.so.cache       \u001b[01;34mpython2.7\u001b[0m/\n",
            "\u001b[01;34mbash_completion.d\u001b[0m/             ld.so.conf        \u001b[01;34mpython3\u001b[0m/\n",
            "bindresvport.blacklist         \u001b[01;34mld.so.conf.d\u001b[0m/     \u001b[01;34mpython3.6\u001b[0m/\n",
            "\u001b[01;34mbinfmt.d\u001b[0m/                      legal             \u001b[01;34mpython3.7\u001b[0m/\n",
            "\u001b[01;34mca-certificates\u001b[0m/               libaudit.conf     \u001b[01;34mR\u001b[0m/\n",
            "ca-certificates.conf           \u001b[01;34mlibibverbs.d\u001b[0m/     \u001b[01;34mrc0.d\u001b[0m/\n",
            "ca-certificates.conf.dpkg-old  \u001b[01;34mlibnl-3\u001b[0m/          \u001b[01;34mrc1.d\u001b[0m/\n",
            "\u001b[01;34mcalendar\u001b[0m/                      \u001b[01;34mlibpaper.d\u001b[0m/       \u001b[01;34mrc2.d\u001b[0m/\n",
            "\u001b[01;34mcron.daily\u001b[0m/                    locale.alias      \u001b[01;34mrc3.d\u001b[0m/\n",
            "\u001b[01;34mcron.weekly\u001b[0m/                   locale.gen        \u001b[01;34mrc4.d\u001b[0m/\n",
            "\u001b[01;34mdbus-1\u001b[0m/                        \u001b[01;36mlocaltime\u001b[0m@        \u001b[01;34mrc5.d\u001b[0m/\n",
            "debconf.conf                   \u001b[01;34mlogcheck\u001b[0m/         \u001b[01;34mrc6.d\u001b[0m/\n",
            "debian_version                 login.defs        \u001b[01;34mrcS.d\u001b[0m/\n",
            "\u001b[01;34mdefault\u001b[0m/                       \u001b[01;34mlogrotate.d\u001b[0m/      resolv.conf\n",
            "deluser.conf                   lsb-release       \u001b[01;32mrmt\u001b[0m*\n",
            "\u001b[01;34mdepmod.d\u001b[0m/                      machine-id        securetty\n",
            "\u001b[01;34mdhcp\u001b[0m/                          mailcap           \u001b[01;34msecurity\u001b[0m/\n",
            "\u001b[01;34mdkms\u001b[0m/                          mailcap.order     \u001b[01;34mselinux\u001b[0m/\n",
            "\u001b[01;34mdpkg\u001b[0m/                          manpath.config    sensors3.conf\n",
            "\u001b[01;34memacs\u001b[0m/                         mime.types        \u001b[01;34msensors.d\u001b[0m/\n",
            "environment                    mke2fs.conf       shadow\n",
            "ffserver.conf                  \u001b[01;34mmodprobe.d\u001b[0m/       shadow-\n",
            "\u001b[01;34mfonts\u001b[0m/                         modules           shells\n",
            "fstab                          \u001b[01;34mmodules-load.d\u001b[0m/   \u001b[01;34mskel\u001b[0m/\n",
            "fuse.conf                      \u001b[01;36mmtab\u001b[0m@             \u001b[01;34mssh\u001b[0m/\n",
            "gai.conf                       \u001b[01;34mmysql\u001b[0m/            \u001b[01;34mssl\u001b[0m/\n",
            "\u001b[01;34mglvnd\u001b[0m/                         networks          subgid\n",
            "\u001b[01;34mgroff\u001b[0m/                         nsswitch.conf     subuid\n",
            "group                          \u001b[01;34mODBCDataSources\u001b[0m/  sudoers\n",
            "group-                         odbc.ini          \u001b[01;34msudoers.d\u001b[0m/\n",
            "gshadow                        odbcinst.ini      sysctl.conf\n",
            "gshadow-                       \u001b[01;34mopenal\u001b[0m/           \u001b[01;34msysctl.d\u001b[0m/\n",
            "\u001b[01;34mgss\u001b[0m/                           \u001b[01;34mOpenCL\u001b[0m/           \u001b[01;34msystemd\u001b[0m/\n",
            "\u001b[01;34mgtk-3.0\u001b[0m/                       \u001b[01;34mopenmpi\u001b[0m/          \u001b[01;34mterminfo\u001b[0m/\n",
            "host.conf                      \u001b[01;34mopt\u001b[0m/              timezone\n",
            "hostname                       \u001b[01;36mos-release\u001b[0m@       \u001b[01;34mtmpfiles.d\u001b[0m/\n",
            "hosts                          pam.conf          ucf.conf\n",
            "hosts.allow                    \u001b[01;34mpam.d\u001b[0m/            \u001b[01;34mudev\u001b[0m/\n",
            "hosts.deny                     papersize         \u001b[01;34mupdate-motd.d\u001b[0m/\n",
            "\u001b[01;34minit.d\u001b[0m/                        passwd            vdpau_wrapper.cfg\n",
            "inputrc                        passwd-           wgetrc\n",
            "\u001b[01;34mipython\u001b[0m/                       \u001b[01;34mperl\u001b[0m/             \u001b[01;34mX11\u001b[0m/\n",
            "issue                          \u001b[01;32mpip.conf\u001b[0m*         \u001b[01;34mxdg\u001b[0m/\n",
            "issue.net                      \u001b[01;34mpolkit-1\u001b[0m/\n"
          ]
        }
      ]
    },
    {
      "cell_type": "code",
      "source": [
        "len(result)"
      ],
      "metadata": {
        "colab": {
          "base_uri": "https://localhost:8080/"
        },
        "id": "UwKp1gbfwS8J",
        "outputId": "fc54519f-8c6f-49f7-f8fd-c95a6cb881df"
      },
      "execution_count": null,
      "outputs": [
        {
          "output_type": "execute_result",
          "data": {
            "text/plain": [
              "162"
            ]
          },
          "metadata": {},
          "execution_count": 62
        }
      ]
    },
    {
      "cell_type": "code",
      "source": [
        "import numpy"
      ],
      "metadata": {
        "id": "sJiBf2U9wVxq"
      },
      "execution_count": null,
      "outputs": []
    },
    {
      "cell_type": "code",
      "source": [
        "import keras"
      ],
      "metadata": {
        "id": "PmDe8aPgwhkN"
      },
      "execution_count": null,
      "outputs": []
    },
    {
      "cell_type": "code",
      "source": [
        "pip install keras"
      ],
      "metadata": {
        "id": "Q2r3mNMBwlJT"
      },
      "execution_count": null,
      "outputs": []
    },
    {
      "cell_type": "code",
      "source": [
        "__import__('numpy')"
      ],
      "metadata": {
        "colab": {
          "base_uri": "https://localhost:8080/"
        },
        "id": "QG5gXp-Hw5fJ",
        "outputId": "64ee4d9a-04cd-44c8-ab58-d7183400ee3f"
      },
      "execution_count": null,
      "outputs": [
        {
          "output_type": "execute_result",
          "data": {
            "text/plain": [
              "<module 'numpy' from '/usr/local/lib/python3.7/dist-packages/numpy/__init__.py'>"
            ]
          },
          "metadata": {},
          "execution_count": 50
        }
      ]
    },
    {
      "cell_type": "code",
      "source": [
        "__import__('keras')"
      ],
      "metadata": {
        "colab": {
          "base_uri": "https://localhost:8080/"
        },
        "id": "c1ydOXeTxuWF",
        "outputId": "4fafbd9a-883e-46f4-809e-ca72f0e251b9"
      },
      "execution_count": null,
      "outputs": [
        {
          "output_type": "execute_result",
          "data": {
            "text/plain": [
              "<module 'keras' from '/usr/local/lib/python3.7/dist-packages/keras/__init__.py'>"
            ]
          },
          "metadata": {},
          "execution_count": 51
        }
      ]
    },
    {
      "cell_type": "code",
      "source": [
        "__import__('glob')"
      ],
      "metadata": {
        "colab": {
          "base_uri": "https://localhost:8080/"
        },
        "id": "FJ4B60jyyaUh",
        "outputId": "e0429a72-96f6-4894-acd1-af197b9ea0c9"
      },
      "execution_count": null,
      "outputs": [
        {
          "output_type": "execute_result",
          "data": {
            "text/plain": [
              "<module 'glob' from '/usr/lib/python3.7/glob.py'>"
            ]
          },
          "metadata": {},
          "execution_count": 52
        }
      ]
    },
    {
      "cell_type": "code",
      "source": [
        "assert"
      ],
      "metadata": {
        "id": "5WzGsESbyzEX"
      },
      "execution_count": null,
      "outputs": []
    },
    {
      "cell_type": "code",
      "source": [
        "file_path = '/usr/local/lib/python3.7/dist-packages/numpy/'\n",
        "file_path_arg =file_path + '**/*'+'.py'"
      ],
      "metadata": {
        "id": "PToNRlDLzQBi"
      },
      "execution_count": null,
      "outputs": []
    },
    {
      "cell_type": "code",
      "source": [
        "result = glob.glob(file_path_arg)"
      ],
      "metadata": {
        "id": "KMV-LMZW1IWs"
      },
      "execution_count": null,
      "outputs": []
    },
    {
      "cell_type": "code",
      "source": [
        "result"
      ],
      "metadata": {
        "colab": {
          "base_uri": "https://localhost:8080/"
        },
        "id": "-xlduhzS1JRS",
        "outputId": "79fa6810-2a55-434b-86ef-672031724afb"
      },
      "execution_count": null,
      "outputs": [
        {
          "output_type": "execute_result",
          "data": {
            "text/plain": [
              "['/usr/local/lib/python3.7/dist-packages/numpy/tests/test_public_api.py',\n",
              " '/usr/local/lib/python3.7/dist-packages/numpy/tests/test_numpy_version.py',\n",
              " '/usr/local/lib/python3.7/dist-packages/numpy/tests/test_matlib.py',\n",
              " '/usr/local/lib/python3.7/dist-packages/numpy/tests/test_warnings.py',\n",
              " '/usr/local/lib/python3.7/dist-packages/numpy/tests/test_ctypeslib.py',\n",
              " '/usr/local/lib/python3.7/dist-packages/numpy/tests/__init__.py',\n",
              " '/usr/local/lib/python3.7/dist-packages/numpy/tests/test_scripts.py',\n",
              " '/usr/local/lib/python3.7/dist-packages/numpy/tests/test_reloading.py',\n",
              " '/usr/local/lib/python3.7/dist-packages/numpy/distutils/setup.py',\n",
              " '/usr/local/lib/python3.7/dist-packages/numpy/distutils/pathccompiler.py',\n",
              " '/usr/local/lib/python3.7/dist-packages/numpy/distutils/__config__.py',\n",
              " '/usr/local/lib/python3.7/dist-packages/numpy/distutils/ccompiler.py',\n",
              " '/usr/local/lib/python3.7/dist-packages/numpy/distutils/core.py',\n",
              " '/usr/local/lib/python3.7/dist-packages/numpy/distutils/line_endings.py',\n",
              " '/usr/local/lib/python3.7/dist-packages/numpy/distutils/numpy_distribution.py',\n",
              " '/usr/local/lib/python3.7/dist-packages/numpy/distutils/intelccompiler.py',\n",
              " '/usr/local/lib/python3.7/dist-packages/numpy/distutils/cpuinfo.py',\n",
              " '/usr/local/lib/python3.7/dist-packages/numpy/distutils/unixccompiler.py',\n",
              " '/usr/local/lib/python3.7/dist-packages/numpy/distutils/lib2def.py',\n",
              " '/usr/local/lib/python3.7/dist-packages/numpy/distutils/msvccompiler.py',\n",
              " '/usr/local/lib/python3.7/dist-packages/numpy/distutils/extension.py',\n",
              " '/usr/local/lib/python3.7/dist-packages/numpy/distutils/_shell_utils.py',\n",
              " '/usr/local/lib/python3.7/dist-packages/numpy/distutils/ccompiler_opt.py',\n",
              " '/usr/local/lib/python3.7/dist-packages/numpy/distutils/log.py',\n",
              " '/usr/local/lib/python3.7/dist-packages/numpy/distutils/__init__.py',\n",
              " '/usr/local/lib/python3.7/dist-packages/numpy/distutils/system_info.py',\n",
              " '/usr/local/lib/python3.7/dist-packages/numpy/distutils/from_template.py',\n",
              " '/usr/local/lib/python3.7/dist-packages/numpy/distutils/npy_pkg_config.py',\n",
              " '/usr/local/lib/python3.7/dist-packages/numpy/distutils/misc_util.py',\n",
              " '/usr/local/lib/python3.7/dist-packages/numpy/distutils/exec_command.py',\n",
              " '/usr/local/lib/python3.7/dist-packages/numpy/distutils/msvc9compiler.py',\n",
              " '/usr/local/lib/python3.7/dist-packages/numpy/distutils/conv_template.py',\n",
              " '/usr/local/lib/python3.7/dist-packages/numpy/distutils/mingw32ccompiler.py',\n",
              " '/usr/local/lib/python3.7/dist-packages/numpy/matrixlib/setup.py',\n",
              " '/usr/local/lib/python3.7/dist-packages/numpy/matrixlib/__init__.py',\n",
              " '/usr/local/lib/python3.7/dist-packages/numpy/matrixlib/defmatrix.py',\n",
              " '/usr/local/lib/python3.7/dist-packages/numpy/linalg/setup.py',\n",
              " '/usr/local/lib/python3.7/dist-packages/numpy/linalg/linalg.py',\n",
              " '/usr/local/lib/python3.7/dist-packages/numpy/linalg/__init__.py',\n",
              " '/usr/local/lib/python3.7/dist-packages/numpy/polynomial/setup.py',\n",
              " '/usr/local/lib/python3.7/dist-packages/numpy/polynomial/legendre.py',\n",
              " '/usr/local/lib/python3.7/dist-packages/numpy/polynomial/laguerre.py',\n",
              " '/usr/local/lib/python3.7/dist-packages/numpy/polynomial/polyutils.py',\n",
              " '/usr/local/lib/python3.7/dist-packages/numpy/polynomial/_polybase.py',\n",
              " '/usr/local/lib/python3.7/dist-packages/numpy/polynomial/polynomial.py',\n",
              " '/usr/local/lib/python3.7/dist-packages/numpy/polynomial/__init__.py',\n",
              " '/usr/local/lib/python3.7/dist-packages/numpy/polynomial/hermite.py',\n",
              " '/usr/local/lib/python3.7/dist-packages/numpy/polynomial/chebyshev.py',\n",
              " '/usr/local/lib/python3.7/dist-packages/numpy/polynomial/hermite_e.py',\n",
              " '/usr/local/lib/python3.7/dist-packages/numpy/typing/_dtype_like.py',\n",
              " '/usr/local/lib/python3.7/dist-packages/numpy/typing/setup.py',\n",
              " '/usr/local/lib/python3.7/dist-packages/numpy/typing/_callable.py',\n",
              " '/usr/local/lib/python3.7/dist-packages/numpy/typing/_nbit.py',\n",
              " '/usr/local/lib/python3.7/dist-packages/numpy/typing/_extended_precision.py',\n",
              " '/usr/local/lib/python3.7/dist-packages/numpy/typing/_generic_alias.py',\n",
              " '/usr/local/lib/python3.7/dist-packages/numpy/typing/_array_like.py',\n",
              " '/usr/local/lib/python3.7/dist-packages/numpy/typing/__init__.py',\n",
              " '/usr/local/lib/python3.7/dist-packages/numpy/typing/_shape.py',\n",
              " '/usr/local/lib/python3.7/dist-packages/numpy/typing/_char_codes.py',\n",
              " '/usr/local/lib/python3.7/dist-packages/numpy/typing/_add_docstring.py',\n",
              " '/usr/local/lib/python3.7/dist-packages/numpy/typing/mypy_plugin.py',\n",
              " '/usr/local/lib/python3.7/dist-packages/numpy/typing/_scalars.py',\n",
              " '/usr/local/lib/python3.7/dist-packages/numpy/doc/constants.py',\n",
              " '/usr/local/lib/python3.7/dist-packages/numpy/doc/ufuncs.py',\n",
              " '/usr/local/lib/python3.7/dist-packages/numpy/doc/__init__.py',\n",
              " '/usr/local/lib/python3.7/dist-packages/numpy/lib/setup.py',\n",
              " '/usr/local/lib/python3.7/dist-packages/numpy/lib/function_base.py',\n",
              " '/usr/local/lib/python3.7/dist-packages/numpy/lib/_datasource.py',\n",
              " '/usr/local/lib/python3.7/dist-packages/numpy/lib/stride_tricks.py',\n",
              " '/usr/local/lib/python3.7/dist-packages/numpy/lib/scimath.py',\n",
              " '/usr/local/lib/python3.7/dist-packages/numpy/lib/twodim_base.py',\n",
              " '/usr/local/lib/python3.7/dist-packages/numpy/lib/arraysetops.py',\n",
              " '/usr/local/lib/python3.7/dist-packages/numpy/lib/nanfunctions.py',\n",
              " '/usr/local/lib/python3.7/dist-packages/numpy/lib/format.py',\n",
              " '/usr/local/lib/python3.7/dist-packages/numpy/lib/arraypad.py',\n",
              " '/usr/local/lib/python3.7/dist-packages/numpy/lib/mixins.py',\n",
              " '/usr/local/lib/python3.7/dist-packages/numpy/lib/user_array.py',\n",
              " '/usr/local/lib/python3.7/dist-packages/numpy/lib/shape_base.py',\n",
              " '/usr/local/lib/python3.7/dist-packages/numpy/lib/recfunctions.py',\n",
              " '/usr/local/lib/python3.7/dist-packages/numpy/lib/ufunclike.py',\n",
              " '/usr/local/lib/python3.7/dist-packages/numpy/lib/polynomial.py',\n",
              " '/usr/local/lib/python3.7/dist-packages/numpy/lib/__init__.py',\n",
              " '/usr/local/lib/python3.7/dist-packages/numpy/lib/index_tricks.py',\n",
              " '/usr/local/lib/python3.7/dist-packages/numpy/lib/arrayterator.py',\n",
              " '/usr/local/lib/python3.7/dist-packages/numpy/lib/_version.py',\n",
              " '/usr/local/lib/python3.7/dist-packages/numpy/lib/type_check.py',\n",
              " '/usr/local/lib/python3.7/dist-packages/numpy/lib/_iotools.py',\n",
              " '/usr/local/lib/python3.7/dist-packages/numpy/lib/utils.py',\n",
              " '/usr/local/lib/python3.7/dist-packages/numpy/lib/npyio.py',\n",
              " '/usr/local/lib/python3.7/dist-packages/numpy/lib/histograms.py',\n",
              " '/usr/local/lib/python3.7/dist-packages/numpy/testing/setup.py',\n",
              " '/usr/local/lib/python3.7/dist-packages/numpy/testing/print_coercion_tables.py',\n",
              " '/usr/local/lib/python3.7/dist-packages/numpy/testing/__init__.py',\n",
              " '/usr/local/lib/python3.7/dist-packages/numpy/testing/utils.py',\n",
              " '/usr/local/lib/python3.7/dist-packages/numpy/ma/setup.py',\n",
              " '/usr/local/lib/python3.7/dist-packages/numpy/ma/testutils.py',\n",
              " '/usr/local/lib/python3.7/dist-packages/numpy/ma/core.py',\n",
              " '/usr/local/lib/python3.7/dist-packages/numpy/ma/bench.py',\n",
              " '/usr/local/lib/python3.7/dist-packages/numpy/ma/timer_comparison.py',\n",
              " '/usr/local/lib/python3.7/dist-packages/numpy/ma/__init__.py',\n",
              " '/usr/local/lib/python3.7/dist-packages/numpy/ma/extras.py',\n",
              " '/usr/local/lib/python3.7/dist-packages/numpy/ma/mrecords.py',\n",
              " '/usr/local/lib/python3.7/dist-packages/numpy/random/setup.py',\n",
              " '/usr/local/lib/python3.7/dist-packages/numpy/random/_pickle.py',\n",
              " '/usr/local/lib/python3.7/dist-packages/numpy/random/__init__.py',\n",
              " '/usr/local/lib/python3.7/dist-packages/numpy/f2py/setup.py',\n",
              " '/usr/local/lib/python3.7/dist-packages/numpy/f2py/cb_rules.py',\n",
              " '/usr/local/lib/python3.7/dist-packages/numpy/f2py/diagnose.py',\n",
              " '/usr/local/lib/python3.7/dist-packages/numpy/f2py/auxfuncs.py',\n",
              " '/usr/local/lib/python3.7/dist-packages/numpy/f2py/func2subr.py',\n",
              " '/usr/local/lib/python3.7/dist-packages/numpy/f2py/use_rules.py',\n",
              " '/usr/local/lib/python3.7/dist-packages/numpy/f2py/cfuncs.py',\n",
              " '/usr/local/lib/python3.7/dist-packages/numpy/f2py/__init__.py',\n",
              " '/usr/local/lib/python3.7/dist-packages/numpy/f2py/crackfortran.py',\n",
              " '/usr/local/lib/python3.7/dist-packages/numpy/f2py/__main__.py',\n",
              " '/usr/local/lib/python3.7/dist-packages/numpy/f2py/f2py_testing.py',\n",
              " '/usr/local/lib/python3.7/dist-packages/numpy/f2py/common_rules.py',\n",
              " '/usr/local/lib/python3.7/dist-packages/numpy/f2py/capi_maps.py',\n",
              " '/usr/local/lib/python3.7/dist-packages/numpy/f2py/rules.py',\n",
              " '/usr/local/lib/python3.7/dist-packages/numpy/f2py/f90mod_rules.py',\n",
              " '/usr/local/lib/python3.7/dist-packages/numpy/f2py/f2py2e.py',\n",
              " '/usr/local/lib/python3.7/dist-packages/numpy/f2py/__version__.py',\n",
              " '/usr/local/lib/python3.7/dist-packages/numpy/fft/setup.py',\n",
              " '/usr/local/lib/python3.7/dist-packages/numpy/fft/_pocketfft.py',\n",
              " '/usr/local/lib/python3.7/dist-packages/numpy/fft/__init__.py',\n",
              " '/usr/local/lib/python3.7/dist-packages/numpy/fft/helper.py',\n",
              " '/usr/local/lib/python3.7/dist-packages/numpy/core/multiarray.py',\n",
              " '/usr/local/lib/python3.7/dist-packages/numpy/core/setup.py',\n",
              " '/usr/local/lib/python3.7/dist-packages/numpy/core/memmap.py',\n",
              " '/usr/local/lib/python3.7/dist-packages/numpy/core/function_base.py',\n",
              " '/usr/local/lib/python3.7/dist-packages/numpy/core/overrides.py',\n",
              " '/usr/local/lib/python3.7/dist-packages/numpy/core/records.py',\n",
              " '/usr/local/lib/python3.7/dist-packages/numpy/core/_internal.py',\n",
              " '/usr/local/lib/python3.7/dist-packages/numpy/core/_asarray.py',\n",
              " '/usr/local/lib/python3.7/dist-packages/numpy/core/_string_helpers.py',\n",
              " '/usr/local/lib/python3.7/dist-packages/numpy/core/numerictypes.py',\n",
              " '/usr/local/lib/python3.7/dist-packages/numpy/core/machar.py',\n",
              " '/usr/local/lib/python3.7/dist-packages/numpy/core/_type_aliases.py',\n",
              " '/usr/local/lib/python3.7/dist-packages/numpy/core/_add_newdocs_scalars.py',\n",
              " '/usr/local/lib/python3.7/dist-packages/numpy/core/getlimits.py',\n",
              " '/usr/local/lib/python3.7/dist-packages/numpy/core/shape_base.py',\n",
              " '/usr/local/lib/python3.7/dist-packages/numpy/core/cversions.py',\n",
              " '/usr/local/lib/python3.7/dist-packages/numpy/core/__init__.py',\n",
              " '/usr/local/lib/python3.7/dist-packages/numpy/core/_dtype.py',\n",
              " '/usr/local/lib/python3.7/dist-packages/numpy/core/setup_common.py',\n",
              " '/usr/local/lib/python3.7/dist-packages/numpy/core/umath.py',\n",
              " '/usr/local/lib/python3.7/dist-packages/numpy/core/defchararray.py',\n",
              " '/usr/local/lib/python3.7/dist-packages/numpy/core/fromnumeric.py',\n",
              " '/usr/local/lib/python3.7/dist-packages/numpy/core/_dtype_ctypes.py',\n",
              " '/usr/local/lib/python3.7/dist-packages/numpy/core/_methods.py',\n",
              " '/usr/local/lib/python3.7/dist-packages/numpy/core/generate_numpy_api.py',\n",
              " '/usr/local/lib/python3.7/dist-packages/numpy/core/_add_newdocs.py',\n",
              " '/usr/local/lib/python3.7/dist-packages/numpy/core/arrayprint.py',\n",
              " '/usr/local/lib/python3.7/dist-packages/numpy/core/_ufunc_config.py',\n",
              " '/usr/local/lib/python3.7/dist-packages/numpy/core/numeric.py',\n",
              " '/usr/local/lib/python3.7/dist-packages/numpy/core/umath_tests.py',\n",
              " '/usr/local/lib/python3.7/dist-packages/numpy/core/_exceptions.py',\n",
              " '/usr/local/lib/python3.7/dist-packages/numpy/core/einsumfunc.py',\n",
              " '/usr/local/lib/python3.7/dist-packages/numpy/compat/setup.py',\n",
              " '/usr/local/lib/python3.7/dist-packages/numpy/compat/py3k.py',\n",
              " '/usr/local/lib/python3.7/dist-packages/numpy/compat/__init__.py',\n",
              " '/usr/local/lib/python3.7/dist-packages/numpy/compat/_inspect.py']"
            ]
          },
          "metadata": {},
          "execution_count": 88
        }
      ]
    },
    {
      "cell_type": "code",
      "source": [
        "len(glob.glob(r'/usr/local/lib/python3.7/dist-packages/numpy/**/*.py'))"
      ],
      "metadata": {
        "colab": {
          "base_uri": "https://localhost:8080/"
        },
        "id": "C4GD9biwShdF",
        "outputId": "39b335e6-d9a6-4044-f03d-450da5675152"
      },
      "execution_count": null,
      "outputs": [
        {
          "output_type": "execute_result",
          "data": {
            "text/plain": [
              "162"
            ]
          },
          "metadata": {},
          "execution_count": 89
        }
      ]
    },
    {
      "cell_type": "code",
      "source": [
        "import operator"
      ],
      "metadata": {
        "id": "4NJ_G_V88ADt"
      },
      "execution_count": null,
      "outputs": []
    },
    {
      "cell_type": "code",
      "source": [
        "sample_dict = {'c' : 1, 'b': 2, 'a':3}"
      ],
      "metadata": {
        "id": "pJX6rRWJ8WEl"
      },
      "execution_count": null,
      "outputs": []
    },
    {
      "cell_type": "code",
      "source": [
        "sorted(sample_dict.items(),key=operator.itemgetter(0))"
      ],
      "metadata": {
        "colab": {
          "base_uri": "https://localhost:8080/"
        },
        "id": "ZpQ_TOlP8Wwr",
        "outputId": "a845d031-f5e8-4705-a5ba-a39fefa6b525"
      },
      "execution_count": null,
      "outputs": [
        {
          "output_type": "execute_result",
          "data": {
            "text/plain": [
              "[('a', 3), ('b', 2), ('c', 1)]"
            ]
          },
          "metadata": {},
          "execution_count": 72
        }
      ]
    },
    {
      "cell_type": "code",
      "source": [
        "import glob, os\n",
        "os.chdir(\"/mydir\")\n",
        "for file in glob.glob(\"*.txt\"):\n",
        "    print(file)"
      ],
      "metadata": {
        "colab": {
          "base_uri": "https://localhost:8080/",
          "height": 229
        },
        "id": "yJqImw_u6Ctn",
        "outputId": "8f0cc88e-3bf7-4a91-d641-2a153d31325d"
      },
      "execution_count": null,
      "outputs": [
        {
          "output_type": "error",
          "ename": "FileNotFoundError",
          "evalue": "ignored",
          "traceback": [
            "\u001b[0;31m---------------------------------------------------------------------------\u001b[0m",
            "\u001b[0;31mFileNotFoundError\u001b[0m                         Traceback (most recent call last)",
            "\u001b[0;32m<ipython-input-66-6b2387577f9a>\u001b[0m in \u001b[0;36m<module>\u001b[0;34m()\u001b[0m\n\u001b[1;32m      1\u001b[0m \u001b[0;32mimport\u001b[0m \u001b[0mglob\u001b[0m\u001b[0;34m,\u001b[0m \u001b[0mos\u001b[0m\u001b[0;34m\u001b[0m\u001b[0;34m\u001b[0m\u001b[0m\n\u001b[0;32m----> 2\u001b[0;31m \u001b[0mos\u001b[0m\u001b[0;34m.\u001b[0m\u001b[0mchdir\u001b[0m\u001b[0;34m(\u001b[0m\u001b[0;34m\"/mydir\"\u001b[0m\u001b[0;34m)\u001b[0m\u001b[0;34m\u001b[0m\u001b[0;34m\u001b[0m\u001b[0m\n\u001b[0m\u001b[1;32m      3\u001b[0m \u001b[0;32mfor\u001b[0m \u001b[0mfile\u001b[0m \u001b[0;32min\u001b[0m \u001b[0mglob\u001b[0m\u001b[0;34m.\u001b[0m\u001b[0mglob\u001b[0m\u001b[0;34m(\u001b[0m\u001b[0;34m\"*.txt\"\u001b[0m\u001b[0;34m)\u001b[0m\u001b[0;34m:\u001b[0m\u001b[0;34m\u001b[0m\u001b[0;34m\u001b[0m\u001b[0m\n\u001b[1;32m      4\u001b[0m     \u001b[0mprint\u001b[0m\u001b[0;34m(\u001b[0m\u001b[0mfile\u001b[0m\u001b[0;34m)\u001b[0m\u001b[0;34m\u001b[0m\u001b[0;34m\u001b[0m\u001b[0m\n",
            "\u001b[0;31mFileNotFoundError\u001b[0m: [Errno 2] No such file or directory: '/mydir'"
          ]
        }
      ]
    },
    {
      "cell_type": "code",
      "source": [
        "__import__('numpy')"
      ],
      "metadata": {
        "colab": {
          "base_uri": "https://localhost:8080/"
        },
        "id": "uGTQJ63O6tkd",
        "outputId": "99e6c095-28fd-4e48-a542-3136e3608e4c"
      },
      "execution_count": null,
      "outputs": [
        {
          "output_type": "execute_result",
          "data": {
            "text/plain": [
              "<module 'numpy' from '/usr/local/lib/python3.7/dist-packages/numpy/__init__.py'>"
            ]
          },
          "metadata": {},
          "execution_count": 67
        }
      ]
    },
    {
      "cell_type": "code",
      "source": [
        "import numpy as np"
      ],
      "metadata": {
        "id": "HJ_-nFm06vCU"
      },
      "execution_count": null,
      "outputs": []
    },
    {
      "cell_type": "code",
      "source": [
        "with open('/usr/local/lib/python3.7/dist-packages/numpy/**/*.py','r')as file_data:\n",
        "  for line in file_data:\n",
        "    print"
      ],
      "metadata": {
        "id": "X1P2LkFy-hC7"
      },
      "execution_count": null,
      "outputs": []
    },
    {
      "cell_type": "code",
      "source": [
        "import glob\n",
        "import re\n",
        "\n",
        "s = 'assert'\n",
        "\n",
        "p = re.compile(s)\n",
        "\n",
        "for i in glob.glob(r'/usr/local/lib/python3.7/dist-packages/numpy/**/*.py'):\n",
        "    with open(i, 'r') as f:\n",
        "        for x, y in enumerate(f.readlines(),1):\n",
        "            m = p.findall(y)\n",
        "            if m:\n",
        "                print('File %s [ %d ] Line Searching : %s' %(i,x,m))\n",
        "                print('Full Line Text : %s' %y)\n",
        "        print()"
      ],
      "metadata": {
        "colab": {
          "base_uri": "https://localhost:8080/",
          "height": 745
        },
        "id": "A-8lSEY8_ZVU",
        "outputId": "6bf5bb5c-e79c-4e16-8ae7-490ccaf63d5b"
      },
      "execution_count": null,
      "outputs": [
        {
          "output_type": "stream",
          "name": "stdout",
          "text": [
            "File /usr/local/lib/python3.7/dist-packages/numpy/tests/test_public_api.py [ 74 ] Line Searching : ['assert']\n",
            "Full Line Text :     # pytest gives better error messages with the builtin assert than with\n",
            "\n",
            "File /usr/local/lib/python3.7/dist-packages/numpy/tests/test_public_api.py [ 75 ] Line Searching : ['assert']\n",
            "Full Line Text :     # assert_equal\n",
            "\n",
            "File /usr/local/lib/python3.7/dist-packages/numpy/tests/test_public_api.py [ 76 ] Line Searching : ['assert']\n",
            "Full Line Text :     assert bad_results == allowlist\n",
            "\n",
            "File /usr/local/lib/python3.7/dist-packages/numpy/tests/test_public_api.py [ 95 ] Line Searching : ['assert']\n",
            "Full Line Text :     assert not result\n",
            "\n",
            "File /usr/local/lib/python3.7/dist-packages/numpy/tests/test_public_api.py [ 98 ] Line Searching : ['assert']\n",
            "Full Line Text :     assert name in dir(np)\n",
            "\n",
            "File /usr/local/lib/python3.7/dist-packages/numpy/tests/test_public_api.py [ 104 ] Line Searching : ['assert']\n",
            "Full Line Text :     assert len(dir(np)) == len(set(dir(np)))\n",
            "\n",
            "File /usr/local/lib/python3.7/dist-packages/numpy/tests/test_public_api.py [ 109 ] Line Searching : ['assert']\n",
            "Full Line Text :     assert bad_results == {}\n",
            "\n",
            "File /usr/local/lib/python3.7/dist-packages/numpy/tests/test_public_api.py [ 114 ] Line Searching : ['assert']\n",
            "Full Line Text :     assert bad_results == {}\n",
            "\n",
            "File /usr/local/lib/python3.7/dist-packages/numpy/tests/test_public_api.py [ 123 ] Line Searching : ['assert']\n",
            "Full Line Text :     assert f is None, (\"'test_not_exported' is mistakenly exported, \"\n",
            "\n",
            "\n"
          ]
        },
        {
          "output_type": "error",
          "ename": "TypeError",
          "evalue": "ignored",
          "traceback": [
            "\u001b[0;31m---------------------------------------------------------------------------\u001b[0m",
            "\u001b[0;31mTypeError\u001b[0m                                 Traceback (most recent call last)",
            "\u001b[0;32m<ipython-input-83-3dea16ee9ea1>\u001b[0m in \u001b[0;36m<module>\u001b[0;34m()\u001b[0m\n\u001b[1;32m     14\u001b[0m                 \u001b[0mprint\u001b[0m\u001b[0;34m(\u001b[0m\u001b[0;34m'Full Line Text : %s'\u001b[0m \u001b[0;34m%\u001b[0m\u001b[0my\u001b[0m\u001b[0;34m)\u001b[0m\u001b[0;34m\u001b[0m\u001b[0;34m\u001b[0m\u001b[0m\n\u001b[1;32m     15\u001b[0m         \u001b[0mprint\u001b[0m\u001b[0;34m(\u001b[0m\u001b[0;34m)\u001b[0m\u001b[0;34m\u001b[0m\u001b[0;34m\u001b[0m\u001b[0m\n\u001b[0;32m---> 16\u001b[0;31m     \u001b[0mprint\u001b[0m\u001b[0;34m(\u001b[0m\u001b[0mlen\u001b[0m\u001b[0;34m(\u001b[0m\u001b[0mp\u001b[0m\u001b[0;34m)\u001b[0m\u001b[0;34m)\u001b[0m\u001b[0;34m\u001b[0m\u001b[0;34m\u001b[0m\u001b[0m\n\u001b[0m",
            "\u001b[0;31mTypeError\u001b[0m: object of type 're.Pattern' has no len()"
          ]
        }
      ]
    },
    {
      "cell_type": "code",
      "source": [
        "f = open('/usr/local/lib/python3.7/dist-packages/numpy/**/*.py','r')"
      ],
      "metadata": {
        "colab": {
          "base_uri": "https://localhost:8080/",
          "height": 193
        },
        "id": "hkAvNkVDIQ8I",
        "outputId": "d71c5c79-cfcf-4cba-bd51-bc48c377e4a3"
      },
      "execution_count": null,
      "outputs": [
        {
          "output_type": "error",
          "ename": "FileNotFoundError",
          "evalue": "ignored",
          "traceback": [
            "\u001b[0;31m---------------------------------------------------------------------------\u001b[0m",
            "\u001b[0;31mFileNotFoundError\u001b[0m                         Traceback (most recent call last)",
            "\u001b[0;32m<ipython-input-85-8adc3b439eeb>\u001b[0m in \u001b[0;36m<module>\u001b[0;34m()\u001b[0m\n\u001b[0;32m----> 1\u001b[0;31m \u001b[0mf\u001b[0m \u001b[0;34m=\u001b[0m \u001b[0mopen\u001b[0m\u001b[0;34m(\u001b[0m\u001b[0;34m'/usr/local/lib/python3.7/dist-packages/numpy/**/*.py'\u001b[0m\u001b[0;34m,\u001b[0m\u001b[0;34m'r'\u001b[0m\u001b[0;34m)\u001b[0m\u001b[0;34m\u001b[0m\u001b[0;34m\u001b[0m\u001b[0m\n\u001b[0m",
            "\u001b[0;31mFileNotFoundError\u001b[0m: [Errno 2] No such file or directory: '/usr/local/lib/python3.7/dist-packages/numpy/**/*.py'"
          ]
        }
      ]
    },
    {
      "cell_type": "code",
      "source": [
        "for i in list(second_dict.keys())[:3]:\n",
        "  print(file_path.rstrip('/')+i)"
      ],
      "metadata": {
        "id": "9C4u5yL6_yjm"
      },
      "execution_count": null,
      "outputs": []
    }
  ]
}