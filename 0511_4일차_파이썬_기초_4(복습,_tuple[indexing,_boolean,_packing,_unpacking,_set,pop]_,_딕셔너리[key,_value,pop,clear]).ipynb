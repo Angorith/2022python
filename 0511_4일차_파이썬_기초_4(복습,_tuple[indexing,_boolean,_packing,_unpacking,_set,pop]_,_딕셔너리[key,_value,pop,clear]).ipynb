{
  "nbformat": 4,
  "nbformat_minor": 0,
  "metadata": {
    "colab": {
      "name": "0511 4일차 파이썬 기초 4(복습, tuple[indexing, boolean, packing, unpacking, set,pop] , 딕셔너리[key, value,pop,clear]).ipynb",
      "provenance": [],
      "collapsed_sections": [],
      "authorship_tag": "ABX9TyPvWj2UZ4HKGHLphs4WHj4f",
      "include_colab_link": true
    },
    "kernelspec": {
      "name": "python3",
      "display_name": "Python 3"
    },
    "language_info": {
      "name": "python"
    }
  },
  "cells": [
    {
      "cell_type": "markdown",
      "metadata": {
        "id": "view-in-github",
        "colab_type": "text"
      },
      "source": [
        "<a href=\"https://colab.research.google.com/github/Angorith/acorn_python/blob/main/0511_4%EC%9D%BC%EC%B0%A8_%ED%8C%8C%EC%9D%B4%EC%8D%AC_%EA%B8%B0%EC%B4%88_4(%EB%B3%B5%EC%8A%B5%2C_tuple%5Bindexing%2C_boolean%2C_packing%2C_unpacking%2C_set%2Cpop%5D_%2C_%EB%94%95%EC%85%94%EB%84%88%EB%A6%AC%5Bkey%2C_value%2Cpop%2Cclear%5D).ipynb\" target=\"_parent\"><img src=\"https://colab.research.google.com/assets/colab-badge.svg\" alt=\"Open In Colab\"/></a>"
      ]
    },
    {
      "cell_type": "markdown",
      "source": [
        "# (복습) replace, strip, lstrip, rstrip, split , join 연습"
      ],
      "metadata": {
        "id": "3JpP8cPTbARJ"
      }
    },
    {
      "cell_type": "code",
      "execution_count": null,
      "metadata": {
        "id": "nHRzVIqwZjo_"
      },
      "outputs": [],
      "source": [
        "a=\"\"\"Humans are odd.\n",
        "They think order and chaos are somehwo opposites and try to control what wont' be. But there is grace in their failings\"\"\""
      ]
    },
    {
      "cell_type": "code",
      "source": [
        "a.replace('Humans','Men')"
      ],
      "metadata": {
        "colab": {
          "base_uri": "https://localhost:8080/",
          "height": 54
        },
        "id": "b20uER3CeNzl",
        "outputId": "becdbb97-202c-40ca-e5b7-16c4a8773f99"
      },
      "execution_count": null,
      "outputs": [
        {
          "output_type": "execute_result",
          "data": {
            "text/plain": [
              "\"Men are odd.\\nThey think order and chaos are somehwo opposites and try to control what wont' be. But there is grace in their failings\""
            ],
            "application/vnd.google.colaboratory.intrinsic+json": {
              "type": "string"
            }
          },
          "metadata": {},
          "execution_count": 81
        }
      ]
    },
    {
      "cell_type": "code",
      "source": [
        "a.strip('H')"
      ],
      "metadata": {
        "colab": {
          "base_uri": "https://localhost:8080/",
          "height": 54
        },
        "id": "yhhpsVxfeWXg",
        "outputId": "f6a4e31e-5db2-42b5-d6cb-f171e56a2dc8"
      },
      "execution_count": null,
      "outputs": [
        {
          "output_type": "execute_result",
          "data": {
            "text/plain": [
              "\"umans are odd.\\nThey think order and chaos are somehwo opposites and try to control what wont' be. But there is grace in their failings\""
            ],
            "application/vnd.google.colaboratory.intrinsic+json": {
              "type": "string"
            }
          },
          "metadata": {},
          "execution_count": 82
        }
      ]
    },
    {
      "cell_type": "code",
      "source": [
        "a.lstrip('H')"
      ],
      "metadata": {
        "colab": {
          "base_uri": "https://localhost:8080/",
          "height": 54
        },
        "id": "lVFjE0idfVHp",
        "outputId": "3e5d5e7d-149a-42c9-e9fc-7f182c802a90"
      },
      "execution_count": null,
      "outputs": [
        {
          "output_type": "execute_result",
          "data": {
            "text/plain": [
              "\"umans are odd.\\nThey think order and chaos are somehwo opposites and try to control what wont' be. But there is grace in their failings\""
            ],
            "application/vnd.google.colaboratory.intrinsic+json": {
              "type": "string"
            }
          },
          "metadata": {},
          "execution_count": 83
        }
      ]
    },
    {
      "cell_type": "code",
      "source": [
        "a.rstrip('s')"
      ],
      "metadata": {
        "colab": {
          "base_uri": "https://localhost:8080/",
          "height": 54
        },
        "id": "ptC0ZcMyfe3V",
        "outputId": "501cae66-6114-4faa-98cf-8429d3220ea3"
      },
      "execution_count": null,
      "outputs": [
        {
          "output_type": "execute_result",
          "data": {
            "text/plain": [
              "\"Humans are odd.\\nThey think order and chaos are somehwo opposites and try to control what wont' be. But there is grace in their failing\""
            ],
            "application/vnd.google.colaboratory.intrinsic+json": {
              "type": "string"
            }
          },
          "metadata": {},
          "execution_count": 84
        }
      ]
    },
    {
      "cell_type": "code",
      "source": [
        "a.split()"
      ],
      "metadata": {
        "colab": {
          "base_uri": "https://localhost:8080/"
        },
        "id": "C_9-NlFVeZoF",
        "outputId": "23c2ef6b-2a03-4ea9-bc67-22bbcbc8ca87"
      },
      "execution_count": null,
      "outputs": [
        {
          "output_type": "execute_result",
          "data": {
            "text/plain": [
              "['Humans',\n",
              " 'are',\n",
              " 'odd.',\n",
              " 'They',\n",
              " 'think',\n",
              " 'order',\n",
              " 'and',\n",
              " 'chaos',\n",
              " 'are',\n",
              " 'somehwo',\n",
              " 'opposites',\n",
              " 'and',\n",
              " 'try',\n",
              " 'to',\n",
              " 'control',\n",
              " 'what',\n",
              " \"wont'\",\n",
              " 'be.',\n",
              " 'But',\n",
              " 'there',\n",
              " 'is',\n",
              " 'grace',\n",
              " 'in',\n",
              " 'their',\n",
              " 'failings']"
            ]
          },
          "metadata": {},
          "execution_count": 85
        }
      ]
    },
    {
      "cell_type": "code",
      "source": [
        "':'.join('Humans')"
      ],
      "metadata": {
        "colab": {
          "base_uri": "https://localhost:8080/",
          "height": 36
        },
        "id": "vpJjnx_AecQE",
        "outputId": "a46bf83f-113d-4538-f534-6de368817e0e"
      },
      "execution_count": null,
      "outputs": [
        {
          "output_type": "execute_result",
          "data": {
            "text/plain": [
              "'H:u:m:a:n:s'"
            ],
            "application/vnd.google.colaboratory.intrinsic+json": {
              "type": "string"
            }
          },
          "metadata": {},
          "execution_count": 86
        }
      ]
    },
    {
      "cell_type": "code",
      "source": [
        "a.replace('Humans','Man').strip('').split()"
      ],
      "metadata": {
        "colab": {
          "base_uri": "https://localhost:8080/"
        },
        "id": "6YvkZ3v6fy1u",
        "outputId": "e6a08252-852c-4d97-eccc-fb269cbdef71"
      },
      "execution_count": null,
      "outputs": [
        {
          "output_type": "execute_result",
          "data": {
            "text/plain": [
              "['Man',\n",
              " 'are',\n",
              " 'odd.',\n",
              " 'They',\n",
              " 'think',\n",
              " 'order',\n",
              " 'and',\n",
              " 'chaos',\n",
              " 'are',\n",
              " 'somehwo',\n",
              " 'opposites',\n",
              " 'and',\n",
              " 'try',\n",
              " 'to',\n",
              " 'control',\n",
              " 'what',\n",
              " \"wont'\",\n",
              " 'be.',\n",
              " 'But',\n",
              " 'there',\n",
              " 'is',\n",
              " 'grace',\n",
              " 'in',\n",
              " 'their',\n",
              " 'failings']"
            ]
          },
          "metadata": {},
          "execution_count": 87
        }
      ]
    },
    {
      "cell_type": "code",
      "source": [
        "a"
      ],
      "metadata": {
        "colab": {
          "base_uri": "https://localhost:8080/",
          "height": 54
        },
        "id": "T5Cy7FcsgMR-",
        "outputId": "7e180247-72a8-47d9-acd9-735350edccae"
      },
      "execution_count": null,
      "outputs": [
        {
          "output_type": "execute_result",
          "data": {
            "text/plain": [
              "\"Humans are odd.\\nThey think order and chaos are somehwo opposites and try to control what wont' be. But there is grace in their failings\""
            ],
            "application/vnd.google.colaboratory.intrinsic+json": {
              "type": "string"
            }
          },
          "metadata": {},
          "execution_count": 88
        }
      ]
    },
    {
      "cell_type": "code",
      "source": [
        "b=a.replace('Humans','Man').strip('').split()"
      ],
      "metadata": {
        "id": "UrnWldFhiUJi"
      },
      "execution_count": null,
      "outputs": []
    },
    {
      "cell_type": "code",
      "source": [
        "b"
      ],
      "metadata": {
        "colab": {
          "base_uri": "https://localhost:8080/"
        },
        "id": "e6JQ923xiYkn",
        "outputId": "aa13a64d-961f-4f42-814f-4fef4806edbb"
      },
      "execution_count": null,
      "outputs": [
        {
          "output_type": "execute_result",
          "data": {
            "text/plain": [
              "['Man',\n",
              " 'are',\n",
              " 'odd.',\n",
              " 'They',\n",
              " 'think',\n",
              " 'order',\n",
              " 'and',\n",
              " 'chaos',\n",
              " 'are',\n",
              " 'somehwo',\n",
              " 'opposites',\n",
              " 'and',\n",
              " 'try',\n",
              " 'to',\n",
              " 'control',\n",
              " 'what',\n",
              " \"wont'\",\n",
              " 'be.',\n",
              " 'But',\n",
              " 'there',\n",
              " 'is',\n",
              " 'grace',\n",
              " 'in',\n",
              " 'their',\n",
              " 'failings']"
            ]
          },
          "metadata": {},
          "execution_count": 90
        }
      ]
    },
    {
      "cell_type": "code",
      "source": [
        "b[:10]"
      ],
      "metadata": {
        "colab": {
          "base_uri": "https://localhost:8080/"
        },
        "id": "W7oP_vDxiZvF",
        "outputId": "eb1351a6-e7bb-469a-f360-dcccb38f019b"
      },
      "execution_count": null,
      "outputs": [
        {
          "output_type": "execute_result",
          "data": {
            "text/plain": [
              "['Man',\n",
              " 'are',\n",
              " 'odd.',\n",
              " 'They',\n",
              " 'think',\n",
              " 'order',\n",
              " 'and',\n",
              " 'chaos',\n",
              " 'are',\n",
              " 'somehwo']"
            ]
          },
          "metadata": {},
          "execution_count": 91
        }
      ]
    },
    {
      "cell_type": "code",
      "source": [
        "b[5][:3]"
      ],
      "metadata": {
        "colab": {
          "base_uri": "https://localhost:8080/",
          "height": 36
        },
        "id": "O1JD6p-0icU9",
        "outputId": "7ad1a1fd-3813-4513-a996-54beab804d30"
      },
      "execution_count": null,
      "outputs": [
        {
          "output_type": "execute_result",
          "data": {
            "text/plain": [
              "'ord'"
            ],
            "application/vnd.google.colaboratory.intrinsic+json": {
              "type": "string"
            }
          },
          "metadata": {},
          "execution_count": 92
        }
      ]
    },
    {
      "cell_type": "code",
      "source": [
        "a_list = b[:3]"
      ],
      "metadata": {
        "id": "aGKRlo6UjAGi"
      },
      "execution_count": null,
      "outputs": []
    },
    {
      "cell_type": "code",
      "source": [
        "len(b)"
      ],
      "metadata": {
        "colab": {
          "base_uri": "https://localhost:8080/"
        },
        "id": "AjOWrjWnjGNr",
        "outputId": "e88b03a8-ca11-48c1-f3a7-c5c67099ede3"
      },
      "execution_count": null,
      "outputs": [
        {
          "output_type": "execute_result",
          "data": {
            "text/plain": [
              "25"
            ]
          },
          "metadata": {},
          "execution_count": 94
        }
      ]
    },
    {
      "cell_type": "code",
      "source": [
        "len(a)"
      ],
      "metadata": {
        "colab": {
          "base_uri": "https://localhost:8080/"
        },
        "id": "E81p9C_0jHd4",
        "outputId": "5bf0da51-26e9-4581-c31e-274256074560"
      },
      "execution_count": null,
      "outputs": [
        {
          "output_type": "execute_result",
          "data": {
            "text/plain": [
              "135"
            ]
          },
          "metadata": {},
          "execution_count": 95
        }
      ]
    },
    {
      "cell_type": "code",
      "source": [
        ""
      ],
      "metadata": {
        "id": "O1zyzEPajJHW"
      },
      "execution_count": null,
      "outputs": []
    },
    {
      "cell_type": "code",
      "source": [
        "a_list"
      ],
      "metadata": {
        "colab": {
          "base_uri": "https://localhost:8080/"
        },
        "id": "iFGqjMt-jDMO",
        "outputId": "50d58c5e-b762-4fc4-e0b3-032257d05afc"
      },
      "execution_count": null,
      "outputs": [
        {
          "output_type": "execute_result",
          "data": {
            "text/plain": [
              "['Man', 'are', 'odd.']"
            ]
          },
          "metadata": {},
          "execution_count": 96
        }
      ]
    },
    {
      "cell_type": "code",
      "source": [
        "a_list=b[:3]"
      ],
      "metadata": {
        "id": "Bx16ruJXjDEq"
      },
      "execution_count": null,
      "outputs": []
    },
    {
      "cell_type": "code",
      "source": [
        "a_list.append('test')"
      ],
      "metadata": {
        "id": "SYXY6_WmjRwB"
      },
      "execution_count": null,
      "outputs": []
    },
    {
      "cell_type": "code",
      "source": [
        "a_list"
      ],
      "metadata": {
        "colab": {
          "base_uri": "https://localhost:8080/"
        },
        "id": "Ckzs9ZJCjUjI",
        "outputId": "021d19ad-befc-48be-dcdd-1110c1e62ba5"
      },
      "execution_count": null,
      "outputs": [
        {
          "output_type": "execute_result",
          "data": {
            "text/plain": [
              "['Man', 'are', 'odd.', 'test']"
            ]
          },
          "metadata": {},
          "execution_count": 99
        }
      ]
    },
    {
      "cell_type": "code",
      "source": [
        "a_list.extend('programming')"
      ],
      "metadata": {
        "id": "xdJfpoehjVyS"
      },
      "execution_count": null,
      "outputs": []
    },
    {
      "cell_type": "code",
      "source": [
        "a_list"
      ],
      "metadata": {
        "colab": {
          "base_uri": "https://localhost:8080/"
        },
        "id": "DL5CMHGMjbFF",
        "outputId": "1dcb7aa1-03d1-4844-8869-c8c19e23e158"
      },
      "execution_count": null,
      "outputs": [
        {
          "output_type": "execute_result",
          "data": {
            "text/plain": [
              "['Man',\n",
              " 'are',\n",
              " 'odd.',\n",
              " 'test',\n",
              " 'p',\n",
              " 'r',\n",
              " 'o',\n",
              " 'g',\n",
              " 'r',\n",
              " 'a',\n",
              " 'm',\n",
              " 'm',\n",
              " 'i',\n",
              " 'n',\n",
              " 'g']"
            ]
          },
          "metadata": {},
          "execution_count": 101
        }
      ]
    },
    {
      "cell_type": "code",
      "source": [
        "b"
      ],
      "metadata": {
        "colab": {
          "base_uri": "https://localhost:8080/"
        },
        "id": "oYlEfmF9jd2u",
        "outputId": "0cc6f9e6-45a3-4b24-eef2-fef1e35cd38c"
      },
      "execution_count": null,
      "outputs": [
        {
          "output_type": "execute_result",
          "data": {
            "text/plain": [
              "['Man',\n",
              " 'are',\n",
              " 'odd.',\n",
              " 'They',\n",
              " 'think',\n",
              " 'order',\n",
              " 'and',\n",
              " 'chaos',\n",
              " 'are',\n",
              " 'somehwo',\n",
              " 'opposites',\n",
              " 'and',\n",
              " 'try',\n",
              " 'to',\n",
              " 'control',\n",
              " 'what',\n",
              " \"wont'\",\n",
              " 'be.',\n",
              " 'But',\n",
              " 'there',\n",
              " 'is',\n",
              " 'grace',\n",
              " 'in',\n",
              " 'their',\n",
              " 'failings']"
            ]
          },
          "metadata": {},
          "execution_count": 102
        }
      ]
    },
    {
      "cell_type": "code",
      "source": [
        "b[:10]"
      ],
      "metadata": {
        "colab": {
          "base_uri": "https://localhost:8080/"
        },
        "id": "oBK2gNq_jfp1",
        "outputId": "ae916d56-3eb5-43cf-b97d-472704eaf672"
      },
      "execution_count": null,
      "outputs": [
        {
          "output_type": "execute_result",
          "data": {
            "text/plain": [
              "['Man',\n",
              " 'are',\n",
              " 'odd.',\n",
              " 'They',\n",
              " 'think',\n",
              " 'order',\n",
              " 'and',\n",
              " 'chaos',\n",
              " 'are',\n",
              " 'somehwo']"
            ]
          },
          "metadata": {},
          "execution_count": 103
        }
      ]
    },
    {
      "cell_type": "code",
      "source": [
        "result='::'.join(b)"
      ],
      "metadata": {
        "id": "24TqfSBsjh-j"
      },
      "execution_count": null,
      "outputs": []
    },
    {
      "cell_type": "code",
      "source": [
        "result"
      ],
      "metadata": {
        "colab": {
          "base_uri": "https://localhost:8080/",
          "height": 72
        },
        "id": "II0BuRO7kHa7",
        "outputId": "1dbb1a56-3946-4f68-bc06-5dee43c96f75"
      },
      "execution_count": null,
      "outputs": [
        {
          "output_type": "execute_result",
          "data": {
            "text/plain": [
              "\"Man::are::odd.::They::think::order::and::chaos::are::somehwo::opposites::and::try::to::control::what::wont'::be.::But::there::is::grace::in::their::failings\""
            ],
            "application/vnd.google.colaboratory.intrinsic+json": {
              "type": "string"
            }
          },
          "metadata": {},
          "execution_count": 105
        }
      ]
    },
    {
      "cell_type": "code",
      "source": [
        "b=result.split('::')"
      ],
      "metadata": {
        "id": "GksALRxRkI2G"
      },
      "execution_count": null,
      "outputs": []
    },
    {
      "cell_type": "code",
      "source": [
        "b"
      ],
      "metadata": {
        "colab": {
          "base_uri": "https://localhost:8080/"
        },
        "id": "_IGeogEEkObn",
        "outputId": "f2f77114-689c-4240-96be-e9e92ec27e83"
      },
      "execution_count": null,
      "outputs": [
        {
          "output_type": "execute_result",
          "data": {
            "text/plain": [
              "['Man',\n",
              " 'are',\n",
              " 'odd.',\n",
              " 'They',\n",
              " 'think',\n",
              " 'order',\n",
              " 'and',\n",
              " 'chaos',\n",
              " 'are',\n",
              " 'somehwo',\n",
              " 'opposites',\n",
              " 'and',\n",
              " 'try',\n",
              " 'to',\n",
              " 'control',\n",
              " 'what',\n",
              " \"wont'\",\n",
              " 'be.',\n",
              " 'But',\n",
              " 'there',\n",
              " 'is',\n",
              " 'grace',\n",
              " 'in',\n",
              " 'their',\n",
              " 'failings']"
            ]
          },
          "metadata": {},
          "execution_count": 107
        }
      ]
    },
    {
      "cell_type": "code",
      "source": [
        "a_list = b[:3]"
      ],
      "metadata": {
        "id": "eqQohEBqkS5E"
      },
      "execution_count": null,
      "outputs": []
    },
    {
      "cell_type": "code",
      "source": [
        "a_list"
      ],
      "metadata": {
        "colab": {
          "base_uri": "https://localhost:8080/"
        },
        "id": "9uXpj4bckVkT",
        "outputId": "dcde2ba2-c60d-499f-f4b5-6e70e64135cc"
      },
      "execution_count": null,
      "outputs": [
        {
          "output_type": "execute_result",
          "data": {
            "text/plain": [
              "['Man', 'are', 'odd.']"
            ]
          },
          "metadata": {},
          "execution_count": 109
        }
      ]
    },
    {
      "cell_type": "code",
      "source": [
        "a_list.extend(['test'])"
      ],
      "metadata": {
        "id": "tPJUUT2Qkawm"
      },
      "execution_count": null,
      "outputs": []
    },
    {
      "cell_type": "code",
      "source": [
        "a_list.append('test')"
      ],
      "metadata": {
        "id": "FPELJ9fQkWmC"
      },
      "execution_count": null,
      "outputs": []
    },
    {
      "cell_type": "code",
      "source": [
        "a_list"
      ],
      "metadata": {
        "colab": {
          "base_uri": "https://localhost:8080/"
        },
        "id": "oATtLwNMkqpX",
        "outputId": "fc28ffbe-c2a4-49bc-9ece-3154e66fb83e"
      },
      "execution_count": null,
      "outputs": [
        {
          "output_type": "execute_result",
          "data": {
            "text/plain": [
              "['Man', 'are', 'odd.', 'test', 'test']"
            ]
          },
          "metadata": {},
          "execution_count": 112
        }
      ]
    },
    {
      "cell_type": "markdown",
      "source": [
        "# TUPLE"
      ],
      "metadata": {
        "id": "UTPw5mVilIpr"
      }
    },
    {
      "cell_type": "code",
      "source": [
        "at = ['이황','이이','원효']\n",
        "print('현재 학생은 %s'%at)\n",
        "a=input('전학온 학생은 누구입니까?')\n",
        "b=0\n",
        "at.append(a)\n",
        "print(at)\n",
        "print('번호 재정렬 중....')\n",
        "at.sort()\n",
        "\n",
        "for i in at:     #enumerate(at):\n",
        "  b=b+1           #print(i+1,j)\n",
        "  print(b,i)"
      ],
      "metadata": {
        "colab": {
          "base_uri": "https://localhost:8080/"
        },
        "id": "03taxIvylLEs",
        "outputId": "b3dbd501-dc74-4580-b88e-429ece376447"
      },
      "execution_count": null,
      "outputs": [
        {
          "output_type": "stream",
          "name": "stdout",
          "text": [
            "현재 학생은 ['이황', '이이', '원효']\n",
            "전학온 학생은 누구입니까?김종직\n",
            "['이황', '이이', '원효', '김종직']\n",
            "번호 재정렬 중....\n",
            "1 (0, '김종직')\n",
            "2 (1, '원효')\n",
            "3 (2, '이이')\n",
            "4 (3, '이황')\n"
          ]
        }
      ]
    },
    {
      "cell_type": "markdown",
      "source": [
        "원소의 추가, 삭제 변경 불가능한 자료형()"
      ],
      "metadata": {
        "id": "J9NKDxccqcAi"
      }
    },
    {
      "cell_type": "code",
      "source": [
        "a=(1,2,3)\n",
        "type(a)"
      ],
      "metadata": {
        "colab": {
          "base_uri": "https://localhost:8080/"
        },
        "id": "icntNQRrkru9",
        "outputId": "0d955453-e6df-4690-cdb2-c0de758dde5e"
      },
      "execution_count": null,
      "outputs": [
        {
          "output_type": "execute_result",
          "data": {
            "text/plain": [
              "tuple"
            ]
          },
          "metadata": {},
          "execution_count": 60
        }
      ]
    },
    {
      "cell_type": "code",
      "source": [
        "b=1,2,3"
      ],
      "metadata": {
        "id": "1SnsTL7qqJn2"
      },
      "execution_count": null,
      "outputs": []
    },
    {
      "cell_type": "code",
      "source": [
        "type(b)"
      ],
      "metadata": {
        "colab": {
          "base_uri": "https://localhost:8080/"
        },
        "id": "N92vc7xRqL8o",
        "outputId": "b3237ef6-27ea-4838-f6f7-add48d717036"
      },
      "execution_count": null,
      "outputs": [
        {
          "output_type": "execute_result",
          "data": {
            "text/plain": [
              "tuple"
            ]
          },
          "metadata": {},
          "execution_count": 62
        }
      ]
    },
    {
      "cell_type": "markdown",
      "source": [
        "tuple()로 튜플 생성/ range로 값 생성\n",
        "\n",
        "튜플 = (값1, 값2...)\n",
        "\n",
        "튜플 = tuple(자료)"
      ],
      "metadata": {
        "id": "I7k0vqYQqhSl"
      }
    },
    {
      "cell_type": "code",
      "source": [
        "a=[1,'가',2,'나']\n",
        "b= tuple(a)"
      ],
      "metadata": {
        "id": "QtdJF47hqN-C"
      },
      "execution_count": null,
      "outputs": []
    },
    {
      "cell_type": "code",
      "source": [
        "b"
      ],
      "metadata": {
        "colab": {
          "base_uri": "https://localhost:8080/"
        },
        "id": "HakBunJzqUZn",
        "outputId": "35db63f7-e278-4d8e-abcc-a717a5913318"
      },
      "execution_count": null,
      "outputs": [
        {
          "output_type": "execute_result",
          "data": {
            "text/plain": [
              "(1, '가', 2, '나')"
            ]
          },
          "metadata": {},
          "execution_count": 65
        }
      ]
    },
    {
      "cell_type": "code",
      "source": [
        "c=tuple(range(1,15,2))"
      ],
      "metadata": {
        "id": "-EGm8C9eqVPg"
      },
      "execution_count": null,
      "outputs": []
    },
    {
      "cell_type": "code",
      "source": [
        "c"
      ],
      "metadata": {
        "colab": {
          "base_uri": "https://localhost:8080/"
        },
        "id": "1iIbov6aqZHg",
        "outputId": "2df33a32-31f8-47fe-9b9d-4ab00f4d88c5"
      },
      "execution_count": null,
      "outputs": [
        {
          "output_type": "execute_result",
          "data": {
            "text/plain": [
              "(1, 3, 5, 7, 9, 11, 13)"
            ]
          },
          "metadata": {},
          "execution_count": 67
        }
      ]
    },
    {
      "cell_type": "markdown",
      "source": [
        "**Tuple 함수 **\n",
        "\n",
        "return (a+b) ====> 튜플"
      ],
      "metadata": {
        "id": "sMvMstBdrGBz"
      }
    },
    {
      "cell_type": "code",
      "source": [
        "def adds(a,b):\n",
        "  return (a+b)"
      ],
      "metadata": {
        "id": "3rDkWP4Hq3fF"
      },
      "execution_count": null,
      "outputs": []
    },
    {
      "cell_type": "code",
      "source": [
        "adds(1,2)"
      ],
      "metadata": {
        "colab": {
          "base_uri": "https://localhost:8080/"
        },
        "id": "6CtnveORrCn2",
        "outputId": "3a535244-df4f-45d6-b761-3fd1e0ac1849"
      },
      "execution_count": null,
      "outputs": [
        {
          "output_type": "execute_result",
          "data": {
            "text/plain": [
              "3"
            ]
          },
          "metadata": {},
          "execution_count": 69
        }
      ]
    },
    {
      "cell_type": "code",
      "source": [
        "result = adds(1,2)"
      ],
      "metadata": {
        "id": "dOG9NS0drPp9"
      },
      "execution_count": null,
      "outputs": []
    },
    {
      "cell_type": "code",
      "source": [
        "result"
      ],
      "metadata": {
        "colab": {
          "base_uri": "https://localhost:8080/"
        },
        "id": "to1vtHoSrTJZ",
        "outputId": "84c13171-a080-40ae-aedb-0311013ef9a8"
      },
      "execution_count": null,
      "outputs": [
        {
          "output_type": "execute_result",
          "data": {
            "text/plain": [
              "3"
            ]
          },
          "metadata": {},
          "execution_count": 71
        }
      ]
    },
    {
      "cell_type": "code",
      "source": [
        "type(result)"
      ],
      "metadata": {
        "colab": {
          "base_uri": "https://localhost:8080/"
        },
        "id": "ekZbQFC1rUSU",
        "outputId": "398780a7-fc7e-4714-eb9a-593af86bace2"
      },
      "execution_count": null,
      "outputs": [
        {
          "output_type": "execute_result",
          "data": {
            "text/plain": [
              "int"
            ]
          },
          "metadata": {},
          "execution_count": 72
        }
      ]
    },
    {
      "cell_type": "code",
      "source": [
        "a=(1,2,3)"
      ],
      "metadata": {
        "id": "oCzPuho8ribh"
      },
      "execution_count": null,
      "outputs": []
    },
    {
      "cell_type": "code",
      "source": [
        "a=(1)"
      ],
      "metadata": {
        "id": "ETSdcrTVrn5a"
      },
      "execution_count": null,
      "outputs": []
    },
    {
      "cell_type": "code",
      "source": [
        "type(a)"
      ],
      "metadata": {
        "colab": {
          "base_uri": "https://localhost:8080/"
        },
        "id": "ROGHfhssri0x",
        "outputId": "1b534dd4-36da-4b0c-e8ed-81973e6e6e99"
      },
      "execution_count": null,
      "outputs": [
        {
          "output_type": "execute_result",
          "data": {
            "text/plain": [
              "tuple"
            ]
          },
          "metadata": {},
          "execution_count": 114
        }
      ]
    },
    {
      "cell_type": "code",
      "source": [
        "(1,)"
      ],
      "metadata": {
        "colab": {
          "base_uri": "https://localhost:8080/"
        },
        "id": "PEL2xcgYr3kJ",
        "outputId": "e46d4a7d-2e65-4ecf-f73d-e3931f3fe528"
      },
      "execution_count": null,
      "outputs": [
        {
          "output_type": "execute_result",
          "data": {
            "text/plain": [
              "(1,)"
            ]
          },
          "metadata": {},
          "execution_count": 115
        }
      ]
    },
    {
      "cell_type": "code",
      "source": [
        "import numpy as np"
      ],
      "metadata": {
        "id": "65s30SmXsJxO"
      },
      "execution_count": null,
      "outputs": []
    },
    {
      "cell_type": "code",
      "source": [
        "k = np.array(range(10))"
      ],
      "metadata": {
        "id": "eSvf9UlXsMnR"
      },
      "execution_count": null,
      "outputs": []
    },
    {
      "cell_type": "code",
      "source": [
        "k.shape"
      ],
      "metadata": {
        "colab": {
          "base_uri": "https://localhost:8080/"
        },
        "id": "GDhcTkvCsQ2C",
        "outputId": "d705e6f6-f64c-4116-e27e-35709d58d647"
      },
      "execution_count": null,
      "outputs": [
        {
          "output_type": "execute_result",
          "data": {
            "text/plain": [
              "(10,)"
            ]
          },
          "metadata": {},
          "execution_count": 118
        }
      ]
    },
    {
      "cell_type": "code",
      "source": [
        "k"
      ],
      "metadata": {
        "colab": {
          "base_uri": "https://localhost:8080/"
        },
        "id": "P4PBrZ4UsmHA",
        "outputId": "8215b2e7-6a82-40ea-8ab1-539ab8356587"
      },
      "execution_count": null,
      "outputs": [
        {
          "output_type": "execute_result",
          "data": {
            "text/plain": [
              "array([0, 1, 2, 3, 4, 5, 6, 7, 8, 9])"
            ]
          },
          "metadata": {},
          "execution_count": 119
        }
      ]
    },
    {
      "cell_type": "code",
      "source": [
        "a=(1,)"
      ],
      "metadata": {
        "id": "rQWeM-Sxs2XX"
      },
      "execution_count": null,
      "outputs": []
    },
    {
      "cell_type": "code",
      "source": [
        "type(a)"
      ],
      "metadata": {
        "colab": {
          "base_uri": "https://localhost:8080/"
        },
        "id": "sP0P086xs4Cr",
        "outputId": "fe5ba402-d5d8-4fbf-ba34-95b3273e86c9"
      },
      "execution_count": null,
      "outputs": [
        {
          "output_type": "execute_result",
          "data": {
            "text/plain": [
              "tuple"
            ]
          },
          "metadata": {},
          "execution_count": 121
        }
      ]
    },
    {
      "cell_type": "code",
      "source": [
        "b=(1)"
      ],
      "metadata": {
        "id": "ED2eRCF5s5ix"
      },
      "execution_count": null,
      "outputs": []
    },
    {
      "cell_type": "code",
      "source": [
        "type(b)"
      ],
      "metadata": {
        "colab": {
          "base_uri": "https://localhost:8080/"
        },
        "id": "tnoFe3Iss686",
        "outputId": "1326d4bc-cc16-4edf-ca20-88e5879d2b70"
      },
      "execution_count": null,
      "outputs": [
        {
          "output_type": "execute_result",
          "data": {
            "text/plain": [
              "int"
            ]
          },
          "metadata": {},
          "execution_count": 123
        }
      ]
    },
    {
      "cell_type": "code",
      "source": [
        "a = (1,[1,2],3)"
      ],
      "metadata": {
        "id": "4kdJhPRks9Lm"
      },
      "execution_count": null,
      "outputs": []
    },
    {
      "cell_type": "code",
      "source": [
        "a[1]"
      ],
      "metadata": {
        "colab": {
          "base_uri": "https://localhost:8080/"
        },
        "id": "boiIFS7-tfr8",
        "outputId": "78be2c37-8c47-411e-edd8-2882ab4de354"
      },
      "execution_count": null,
      "outputs": [
        {
          "output_type": "execute_result",
          "data": {
            "text/plain": [
              "[1, 2]"
            ]
          },
          "metadata": {},
          "execution_count": 129
        }
      ]
    },
    {
      "cell_type": "code",
      "source": [
        "a[1][0]"
      ],
      "metadata": {
        "colab": {
          "base_uri": "https://localhost:8080/"
        },
        "id": "Pnp15O37twok",
        "outputId": "b6ef9a9d-02ec-4301-ef0f-24aa5fe61761"
      },
      "execution_count": null,
      "outputs": [
        {
          "output_type": "execute_result",
          "data": {
            "text/plain": [
              "1"
            ]
          },
          "metadata": {},
          "execution_count": 130
        }
      ]
    },
    {
      "cell_type": "code",
      "source": [
        "a[1][1]=20"
      ],
      "metadata": {
        "id": "RMCm74Q5typu"
      },
      "execution_count": null,
      "outputs": []
    },
    {
      "cell_type": "code",
      "source": [
        "a"
      ],
      "metadata": {
        "colab": {
          "base_uri": "https://localhost:8080/"
        },
        "id": "i73fP4Uyt08W",
        "outputId": "2221b690-4c1c-4fb5-da20-35918591a710"
      },
      "execution_count": null,
      "outputs": [
        {
          "output_type": "execute_result",
          "data": {
            "text/plain": [
              "(1, [1, 20], 3)"
            ]
          },
          "metadata": {},
          "execution_count": 132
        }
      ]
    },
    {
      "cell_type": "code",
      "source": [
        "a=(1,2)\n",
        "b=(3,4)\n",
        "a+b"
      ],
      "metadata": {
        "colab": {
          "base_uri": "https://localhost:8080/"
        },
        "id": "63SJm-pSt8H9",
        "outputId": "251f1cd8-f76b-4a01-e304-dcad19295d7e"
      },
      "execution_count": null,
      "outputs": [
        {
          "output_type": "execute_result",
          "data": {
            "text/plain": [
              "(1, 2, 3, 4)"
            ]
          },
          "metadata": {},
          "execution_count": 134
        }
      ]
    },
    {
      "cell_type": "markdown",
      "source": [
        "**튜플 인덱싱 , 슬라이싱, 리스트로 만들기**"
      ],
      "metadata": {
        "id": "60n1GAC6vUGM"
      }
    },
    {
      "cell_type": "code",
      "source": [
        "a =(1,2,3,4,5)"
      ],
      "metadata": {
        "id": "xl-oothyuygd"
      },
      "execution_count": null,
      "outputs": []
    },
    {
      "cell_type": "code",
      "source": [
        "a[2]    #인덱싱"
      ],
      "metadata": {
        "colab": {
          "base_uri": "https://localhost:8080/"
        },
        "id": "l5ibO5UUvGs7",
        "outputId": "11374e5a-0b21-48cf-c0f6-1cf733771dc2"
      },
      "execution_count": null,
      "outputs": [
        {
          "output_type": "execute_result",
          "data": {
            "text/plain": [
              "3"
            ]
          },
          "metadata": {},
          "execution_count": 136
        }
      ]
    },
    {
      "cell_type": "code",
      "source": [
        "a[1:3]  #슬라이싱"
      ],
      "metadata": {
        "colab": {
          "base_uri": "https://localhost:8080/"
        },
        "id": "yYSK7Gr-vIBR",
        "outputId": "1e58d1ee-d1e0-42a7-e465-c49d06d81ed7"
      },
      "execution_count": null,
      "outputs": [
        {
          "output_type": "execute_result",
          "data": {
            "text/plain": [
              "(2, 3)"
            ]
          },
          "metadata": {},
          "execution_count": 137
        }
      ]
    },
    {
      "cell_type": "code",
      "source": [
        "b=list(a) #튜플을 리스트로 만들기"
      ],
      "metadata": {
        "id": "VxidiN7JvJwv"
      },
      "execution_count": null,
      "outputs": []
    },
    {
      "cell_type": "code",
      "source": [
        "b"
      ],
      "metadata": {
        "colab": {
          "base_uri": "https://localhost:8080/"
        },
        "id": "tO1-3zPivMUi",
        "outputId": "4110c24c-a0e5-496d-f66d-fb926356cab4"
      },
      "execution_count": null,
      "outputs": [
        {
          "output_type": "execute_result",
          "data": {
            "text/plain": [
              "[1, 2, 3, 4, 5]"
            ]
          },
          "metadata": {},
          "execution_count": 139
        }
      ]
    },
    {
      "cell_type": "markdown",
      "source": [
        "**튜플 안의 값 확인(in, not in)(boolean 형으로 확인)**"
      ],
      "metadata": {
        "id": "SdXkU5sPvZEa"
      }
    },
    {
      "cell_type": "code",
      "source": [
        "a=(1,2,3,4,5,4,3,2,1)"
      ],
      "metadata": {
        "id": "2aZmxyNSvNVp"
      },
      "execution_count": null,
      "outputs": []
    },
    {
      "cell_type": "code",
      "source": [
        "3 in a"
      ],
      "metadata": {
        "colab": {
          "base_uri": "https://localhost:8080/"
        },
        "id": "Uqz57ksXvQfO",
        "outputId": "f9a6eead-2000-4648-e887-b03c00d940df"
      },
      "execution_count": null,
      "outputs": [
        {
          "output_type": "execute_result",
          "data": {
            "text/plain": [
              "True"
            ]
          },
          "metadata": {},
          "execution_count": 141
        }
      ]
    },
    {
      "cell_type": "code",
      "source": [
        "3 not in a"
      ],
      "metadata": {
        "colab": {
          "base_uri": "https://localhost:8080/"
        },
        "id": "seFj9pr5vRt2",
        "outputId": "d3b1d082-186e-45d4-9efd-2bfb17970d8f"
      },
      "execution_count": null,
      "outputs": [
        {
          "output_type": "execute_result",
          "data": {
            "text/plain": [
              "False"
            ]
          },
          "metadata": {},
          "execution_count": 142
        }
      ]
    },
    {
      "cell_type": "code",
      "source": [
        "a_list = list(range(11,21))"
      ],
      "metadata": {
        "id": "slI78zStvfqD"
      },
      "execution_count": null,
      "outputs": []
    },
    {
      "cell_type": "markdown",
      "source": [
        "**튜플 조작하기**"
      ],
      "metadata": {
        "id": "eS9JOvOrwKjC"
      }
    },
    {
      "cell_type": "code",
      "source": [
        "a = (1,2,3,4,5,4,3,2,1)\n",
        "a.count(3)"
      ],
      "metadata": {
        "colab": {
          "base_uri": "https://localhost:8080/"
        },
        "id": "fRmfs2FNvmoI",
        "outputId": "3f9e9214-3189-495e-ec43-7c50023e8797"
      },
      "execution_count": null,
      "outputs": [
        {
          "output_type": "execute_result",
          "data": {
            "text/plain": [
              "2"
            ]
          },
          "metadata": {},
          "execution_count": 145
        }
      ]
    },
    {
      "cell_type": "code",
      "source": [
        "a.index(5)"
      ],
      "metadata": {
        "colab": {
          "base_uri": "https://localhost:8080/"
        },
        "id": "niJKWFXxwRov",
        "outputId": "a5436791-191a-4bbe-a050-157bd39e730d"
      },
      "execution_count": null,
      "outputs": [
        {
          "output_type": "execute_result",
          "data": {
            "text/plain": [
              "4"
            ]
          },
          "metadata": {},
          "execution_count": 148
        }
      ]
    },
    {
      "cell_type": "markdown",
      "source": [
        "**튜플 패킹, 언패킹**"
      ],
      "metadata": {
        "id": "jXpABj7JwVbL"
      }
    },
    {
      "cell_type": "code",
      "source": [
        "pack = 1,2,3,4,5,4,3,2,1"
      ],
      "metadata": {
        "id": "8xjBuK4hwU3g"
      },
      "execution_count": null,
      "outputs": []
    },
    {
      "cell_type": "code",
      "source": [
        "a,b,*c = pack"
      ],
      "metadata": {
        "id": "QnKGzD8lwbqA"
      },
      "execution_count": null,
      "outputs": []
    },
    {
      "cell_type": "code",
      "source": [
        "print('a는 %d, b는 %d'%(a,b),'c는',c)"
      ],
      "metadata": {
        "colab": {
          "base_uri": "https://localhost:8080/"
        },
        "id": "y6e6qFV2weLV",
        "outputId": "9a23e391-a4b6-4a6e-ff61-d93a9b582bb9"
      },
      "execution_count": null,
      "outputs": [
        {
          "output_type": "stream",
          "name": "stdout",
          "text": [
            "a는 1, b는 2 c는 [3, 4, 5, 4, 3, 2, 1]\n"
          ]
        }
      ]
    },
    {
      "cell_type": "code",
      "source": [
        "a,b= b,a\n",
        "print('a는 %d,b는 %d'%(a,b))"
      ],
      "metadata": {
        "colab": {
          "base_uri": "https://localhost:8080/"
        },
        "id": "bgkAejy9wo4w",
        "outputId": "3e05b028-2f3d-4845-f380-7585750065d0"
      },
      "execution_count": null,
      "outputs": [
        {
          "output_type": "stream",
          "name": "stdout",
          "text": [
            "a는 2,b는 1\n"
          ]
        }
      ]
    },
    {
      "cell_type": "code",
      "source": [
        "a_tuple = tuple(a_list)"
      ],
      "metadata": {
        "id": "GCpIj6ZGwy7y"
      },
      "execution_count": null,
      "outputs": []
    },
    {
      "cell_type": "code",
      "source": [
        "a_tuple"
      ],
      "metadata": {
        "colab": {
          "base_uri": "https://localhost:8080/"
        },
        "id": "qpw69P3KxNI1",
        "outputId": "697a8f5f-abcd-4c4f-d590-7b518234a7a1"
      },
      "execution_count": null,
      "outputs": [
        {
          "output_type": "execute_result",
          "data": {
            "text/plain": [
              "(11, 12, 13, 14, 15, 16, 17, 18, 19, 20)"
            ]
          },
          "metadata": {},
          "execution_count": 154
        }
      ]
    },
    {
      "cell_type": "code",
      "source": [
        "x, *y, z = a_tuple"
      ],
      "metadata": {
        "id": "FMILO2SKxPe0"
      },
      "execution_count": null,
      "outputs": []
    },
    {
      "cell_type": "code",
      "source": [
        "x"
      ],
      "metadata": {
        "colab": {
          "base_uri": "https://localhost:8080/"
        },
        "id": "XMwrBxh5xUVf",
        "outputId": "a499814b-b1a5-4210-a91f-58bd6de6bf93"
      },
      "execution_count": null,
      "outputs": [
        {
          "output_type": "execute_result",
          "data": {
            "text/plain": [
              "11"
            ]
          },
          "metadata": {},
          "execution_count": 156
        }
      ]
    },
    {
      "cell_type": "code",
      "source": [
        "y"
      ],
      "metadata": {
        "colab": {
          "base_uri": "https://localhost:8080/"
        },
        "id": "GWsWhyqTxVY7",
        "outputId": "aff82da3-e851-40c8-fb65-d0eecb5b3cb5"
      },
      "execution_count": null,
      "outputs": [
        {
          "output_type": "execute_result",
          "data": {
            "text/plain": [
              "[12, 13, 14, 15, 16, 17, 18, 19]"
            ]
          },
          "metadata": {},
          "execution_count": 157
        }
      ]
    },
    {
      "cell_type": "code",
      "source": [
        "z"
      ],
      "metadata": {
        "colab": {
          "base_uri": "https://localhost:8080/"
        },
        "id": "GH6vArgAxWZA",
        "outputId": "c021bf84-c34a-4dd1-fa6f-4017b3e6454d"
      },
      "execution_count": null,
      "outputs": [
        {
          "output_type": "execute_result",
          "data": {
            "text/plain": [
              "20"
            ]
          },
          "metadata": {},
          "execution_count": 158
        }
      ]
    },
    {
      "cell_type": "code",
      "source": [
        "a_tuple"
      ],
      "metadata": {
        "colab": {
          "base_uri": "https://localhost:8080/"
        },
        "id": "b-YMtoZZxfku",
        "outputId": "2f46d927-4b27-4b63-80f3-8c28f9d9bab3"
      },
      "execution_count": null,
      "outputs": [
        {
          "output_type": "execute_result",
          "data": {
            "text/plain": [
              "(11, 12, 13, 14, 15, 16, 17, 18, 19, 20)"
            ]
          },
          "metadata": {},
          "execution_count": 159
        }
      ]
    },
    {
      "cell_type": "code",
      "source": [
        "*x, y ,z = a_tuple"
      ],
      "metadata": {
        "id": "JhqTKCSYxg3E"
      },
      "execution_count": null,
      "outputs": []
    },
    {
      "cell_type": "code",
      "source": [
        "x"
      ],
      "metadata": {
        "colab": {
          "base_uri": "https://localhost:8080/"
        },
        "id": "X7oNmlcGxkFT",
        "outputId": "30888005-a431-4707-f795-c0d1e241d601"
      },
      "execution_count": null,
      "outputs": [
        {
          "output_type": "execute_result",
          "data": {
            "text/plain": [
              "[11, 12, 13, 14, 15, 16, 17, 18]"
            ]
          },
          "metadata": {},
          "execution_count": 161
        }
      ]
    },
    {
      "cell_type": "code",
      "source": [
        "type(x)"
      ],
      "metadata": {
        "colab": {
          "base_uri": "https://localhost:8080/"
        },
        "id": "6VJcuNSrxlWC",
        "outputId": "2abd6855-4239-4236-eab5-3614eac7cfaf"
      },
      "execution_count": null,
      "outputs": [
        {
          "output_type": "execute_result",
          "data": {
            "text/plain": [
              "list"
            ]
          },
          "metadata": {},
          "execution_count": 162
        }
      ]
    },
    {
      "cell_type": "code",
      "source": [
        "y"
      ],
      "metadata": {
        "colab": {
          "base_uri": "https://localhost:8080/"
        },
        "id": "VeN_uCYgxmbk",
        "outputId": "7910ac80-d666-4010-df11-516a4c7d3588"
      },
      "execution_count": null,
      "outputs": [
        {
          "output_type": "execute_result",
          "data": {
            "text/plain": [
              "19"
            ]
          },
          "metadata": {},
          "execution_count": 163
        }
      ]
    },
    {
      "cell_type": "code",
      "source": [
        "type(y )"
      ],
      "metadata": {
        "colab": {
          "base_uri": "https://localhost:8080/"
        },
        "id": "z_YxUERCxrRe",
        "outputId": "6868373e-c33f-47a3-ec69-2a71337ddf6a"
      },
      "execution_count": null,
      "outputs": [
        {
          "output_type": "execute_result",
          "data": {
            "text/plain": [
              "int"
            ]
          },
          "metadata": {},
          "execution_count": 165
        }
      ]
    },
    {
      "cell_type": "code",
      "source": [
        "z"
      ],
      "metadata": {
        "colab": {
          "base_uri": "https://localhost:8080/"
        },
        "id": "cKmAbKoLxnef",
        "outputId": "03bfc5ae-b608-426d-adab-76e7f9b42955"
      },
      "execution_count": null,
      "outputs": [
        {
          "output_type": "execute_result",
          "data": {
            "text/plain": [
              "20"
            ]
          },
          "metadata": {},
          "execution_count": 164
        }
      ]
    },
    {
      "cell_type": "code",
      "source": [
        "a_tuple.index(11)"
      ],
      "metadata": {
        "colab": {
          "base_uri": "https://localhost:8080/"
        },
        "id": "tFXMmzrWxuer",
        "outputId": "ba873c2e-550c-4768-d16a-bfc942ac44c5"
      },
      "execution_count": null,
      "outputs": [
        {
          "output_type": "execute_result",
          "data": {
            "text/plain": [
              "0"
            ]
          },
          "metadata": {},
          "execution_count": 166
        }
      ]
    },
    {
      "cell_type": "code",
      "source": [
        "a_tuple.count(14)"
      ],
      "metadata": {
        "colab": {
          "base_uri": "https://localhost:8080/"
        },
        "id": "kUzUP33qxxrp",
        "outputId": "82086469-98af-4806-ef7a-3009c48a2d86"
      },
      "execution_count": null,
      "outputs": [
        {
          "output_type": "execute_result",
          "data": {
            "text/plain": [
              "1"
            ]
          },
          "metadata": {},
          "execution_count": 167
        }
      ]
    },
    {
      "cell_type": "code",
      "source": [
        "a = ('아','나','바','다',3,22,'일','개','최','다')"
      ],
      "metadata": {
        "id": "-i3w4DK6x4hy"
      },
      "execution_count": null,
      "outputs": []
    },
    {
      "cell_type": "code",
      "source": [
        "type(a)"
      ],
      "metadata": {
        "colab": {
          "base_uri": "https://localhost:8080/"
        },
        "id": "nixiUESjyC7h",
        "outputId": "54c75d51-bb03-42b6-fd88-f5206138e49c"
      },
      "execution_count": null,
      "outputs": [
        {
          "output_type": "execute_result",
          "data": {
            "text/plain": [
              "tuple"
            ]
          },
          "metadata": {},
          "execution_count": 206
        }
      ]
    },
    {
      "cell_type": "code",
      "source": [
        "print('튜플 조작기 ver1')\n",
        "print('튜플에 입력할 자료들으르 차례로 입력하세요')\n",
        "a = ('아','나','바','다','3','22','일','개','최','다')\n",
        "#a = input()\n",
        "#a= tuple(a.split(\"\"))\n",
        "\n",
        "while True:\n",
        "  b= input('작업할 내용을 입력하세요 \\n q=끝내기, s=슬라이싱, c=세기,i=존재여부 :')\n",
        "  if b =='s':\n",
        "    b1=int(input('From : '))\n",
        "    b2=int(input('To :'))\n",
        "    print(a[b1:b2])\n",
        "  elif b =='c':\n",
        "    c1=input('찾을 자료의 값은 : ')\n",
        "    print(a.count(c1),'번 있습니다.')\n",
        "  elif b =='i':\n",
        "    i1=input('찾을 자료의 값은 : ')\n",
        "    print(i1 in a)\n",
        "  elif b =='q':\n",
        "    print('종료합니다')\n",
        "    break"
      ],
      "metadata": {
        "colab": {
          "base_uri": "https://localhost:8080/"
        },
        "id": "XZCOKSGxyFP9",
        "outputId": "e36a3974-ec35-4918-d1d4-3700bc05d9d2"
      },
      "execution_count": null,
      "outputs": [
        {
          "output_type": "stream",
          "name": "stdout",
          "text": [
            "튜플 조작기 ver1\n",
            "튜플에 입력할 자료들으르 차례로 입력하세요\n",
            "작업할 내용을 입력하세요 \n",
            " q=끝내기, s=슬라이싱, c=세기,i=존재여부 :q\n",
            "종료합니다\n"
          ]
        }
      ]
    },
    {
      "cell_type": "markdown",
      "source": [
        "**집합 자료형(set)**\n",
        "\n",
        "순서와 중복 없이 저장된 자료형 {}"
      ],
      "metadata": {
        "id": "1keADsogEAkf"
      }
    },
    {
      "cell_type": "code",
      "source": [
        "a = set([1,2,3,4,5])"
      ],
      "metadata": {
        "id": "q_P1VlOP_wui"
      },
      "execution_count": null,
      "outputs": []
    },
    {
      "cell_type": "code",
      "source": [
        "b= {3,4,5,6,7}"
      ],
      "metadata": {
        "id": "bCMpuquPEGrK"
      },
      "execution_count": null,
      "outputs": []
    },
    {
      "cell_type": "code",
      "source": [
        "a |b"
      ],
      "metadata": {
        "colab": {
          "base_uri": "https://localhost:8080/"
        },
        "id": "R6NN1YonEKnN",
        "outputId": "125f7dd1-0bc7-4f4f-9081-16629a278428"
      },
      "execution_count": null,
      "outputs": [
        {
          "output_type": "execute_result",
          "data": {
            "text/plain": [
              "{1, 2, 3, 4, 5, 6, 7}"
            ]
          },
          "metadata": {},
          "execution_count": 219
        }
      ]
    },
    {
      "cell_type": "code",
      "source": [
        "a={1,2,3,1,2,3,4,5}"
      ],
      "metadata": {
        "id": "jjn9MXxTETnO"
      },
      "execution_count": null,
      "outputs": []
    },
    {
      "cell_type": "code",
      "source": [
        "a\n"
      ],
      "metadata": {
        "colab": {
          "base_uri": "https://localhost:8080/"
        },
        "id": "r1KcbNHPEaAT",
        "outputId": "1b285215-0169-4dd2-ad99-5189e8c46182"
      },
      "execution_count": null,
      "outputs": [
        {
          "output_type": "execute_result",
          "data": {
            "text/plain": [
              "{1, 2, 3, 4, 5}"
            ]
          },
          "metadata": {},
          "execution_count": 221
        }
      ]
    },
    {
      "cell_type": "code",
      "source": [
        "b=set([4,5,6,7])"
      ],
      "metadata": {
        "id": "WcTZfYOrEbe5"
      },
      "execution_count": null,
      "outputs": []
    },
    {
      "cell_type": "code",
      "source": [
        "c=a-b"
      ],
      "metadata": {
        "id": "OXbHYT_REs1E"
      },
      "execution_count": null,
      "outputs": []
    },
    {
      "cell_type": "code",
      "source": [
        "d=b-a"
      ],
      "metadata": {
        "id": "G29fneKmEuT8"
      },
      "execution_count": null,
      "outputs": []
    },
    {
      "cell_type": "code",
      "source": [
        "c|d"
      ],
      "metadata": {
        "colab": {
          "base_uri": "https://localhost:8080/"
        },
        "id": "T3DaXSvfEyNl",
        "outputId": "944aa0df-3040-4db0-8ef2-38cd8ee2cb5a"
      },
      "execution_count": null,
      "outputs": [
        {
          "output_type": "execute_result",
          "data": {
            "text/plain": [
              "{1, 2, 3, 6, 7}"
            ]
          },
          "metadata": {},
          "execution_count": 227
        }
      ]
    },
    {
      "cell_type": "code",
      "source": [
        "a^b"
      ],
      "metadata": {
        "colab": {
          "base_uri": "https://localhost:8080/"
        },
        "id": "PmrfujTwFFbS",
        "outputId": "c4494220-e525-496e-d243-7d0f515e4bae"
      },
      "execution_count": null,
      "outputs": [
        {
          "output_type": "execute_result",
          "data": {
            "text/plain": [
              "{1, 2, 3, 6, 7}"
            ]
          },
          "metadata": {},
          "execution_count": 228
        }
      ]
    },
    {
      "cell_type": "code",
      "source": [
        "a&b"
      ],
      "metadata": {
        "colab": {
          "base_uri": "https://localhost:8080/"
        },
        "id": "UBYsdZr8FOcX",
        "outputId": "82139909-62de-46e3-ffc2-ebcef4640681"
      },
      "execution_count": null,
      "outputs": [
        {
          "output_type": "execute_result",
          "data": {
            "text/plain": [
              "{4, 5}"
            ]
          },
          "metadata": {},
          "execution_count": 229
        }
      ]
    },
    {
      "cell_type": "code",
      "source": [
        "a-b"
      ],
      "metadata": {
        "colab": {
          "base_uri": "https://localhost:8080/"
        },
        "id": "DRtnVtq9FQUJ",
        "outputId": "e7daf3e1-8e4e-48a2-adf6-6802c8007ce6"
      },
      "execution_count": null,
      "outputs": [
        {
          "output_type": "execute_result",
          "data": {
            "text/plain": [
              "{1, 2, 3}"
            ]
          },
          "metadata": {},
          "execution_count": 230
        }
      ]
    },
    {
      "cell_type": "code",
      "source": [
        "c = {1,2,3}"
      ],
      "metadata": {
        "id": "46yh9PQgFRe4"
      },
      "execution_count": null,
      "outputs": []
    },
    {
      "cell_type": "code",
      "source": [
        "c<=a"
      ],
      "metadata": {
        "colab": {
          "base_uri": "https://localhost:8080/"
        },
        "id": "TkcfAlH6FX2t",
        "outputId": "9b76f9be-679a-4b87-b7cd-116070e170c4"
      },
      "execution_count": null,
      "outputs": [
        {
          "output_type": "execute_result",
          "data": {
            "text/plain": [
              "True"
            ]
          },
          "metadata": {},
          "execution_count": 232
        }
      ]
    },
    {
      "cell_type": "code",
      "source": [
        "c>=a"
      ],
      "metadata": {
        "colab": {
          "base_uri": "https://localhost:8080/"
        },
        "id": "HmD08Z9XFZSU",
        "outputId": "e1304e65-b579-4e25-c6ad-950a94e68386"
      },
      "execution_count": null,
      "outputs": [
        {
          "output_type": "execute_result",
          "data": {
            "text/plain": [
              "False"
            ]
          },
          "metadata": {},
          "execution_count": 233
        }
      ]
    },
    {
      "cell_type": "code",
      "source": [
        "a.difference(b)"
      ],
      "metadata": {
        "colab": {
          "base_uri": "https://localhost:8080/"
        },
        "id": "uyqk5Z3-Fgip",
        "outputId": "d700e475-38f7-4ba5-a7cb-407edd897c79"
      },
      "execution_count": null,
      "outputs": [
        {
          "output_type": "execute_result",
          "data": {
            "text/plain": [
              "{1, 2, 3}"
            ]
          },
          "metadata": {},
          "execution_count": 235
        }
      ]
    },
    {
      "cell_type": "markdown",
      "source": [
        "pop"
      ],
      "metadata": {
        "id": "zVGFk9qtF60c"
      }
    },
    {
      "cell_type": "code",
      "source": [
        "a"
      ],
      "metadata": {
        "colab": {
          "base_uri": "https://localhost:8080/"
        },
        "id": "RZMCyIPnFoFW",
        "outputId": "688f66ef-d351-45e3-8115-a9e59d4efa88"
      },
      "execution_count": null,
      "outputs": [
        {
          "output_type": "execute_result",
          "data": {
            "text/plain": [
              "{1, 2, 3, 4, 5}"
            ]
          },
          "metadata": {},
          "execution_count": 236
        }
      ]
    },
    {
      "cell_type": "code",
      "source": [
        "b"
      ],
      "metadata": {
        "colab": {
          "base_uri": "https://localhost:8080/"
        },
        "id": "7yIxNNMYF4qb",
        "outputId": "2191c0e2-2087-445b-ccaa-acf8e3844b50"
      },
      "execution_count": null,
      "outputs": [
        {
          "output_type": "execute_result",
          "data": {
            "text/plain": [
              "{4, 5, 6, 7}"
            ]
          },
          "metadata": {},
          "execution_count": 237
        }
      ]
    },
    {
      "cell_type": "code",
      "source": [
        "b.clear()"
      ],
      "metadata": {
        "id": "EMCBgDGUF9sV"
      },
      "execution_count": null,
      "outputs": []
    },
    {
      "cell_type": "code",
      "source": [
        "b"
      ],
      "metadata": {
        "colab": {
          "base_uri": "https://localhost:8080/"
        },
        "id": "LTvjtOVtF-_x",
        "outputId": "4e999faf-af3d-4df6-dbd9-be3d38cc4d7e"
      },
      "execution_count": null,
      "outputs": [
        {
          "output_type": "execute_result",
          "data": {
            "text/plain": [
              "set()"
            ]
          },
          "metadata": {},
          "execution_count": 239
        }
      ]
    },
    {
      "cell_type": "code",
      "source": [
        "a_list"
      ],
      "metadata": {
        "colab": {
          "base_uri": "https://localhost:8080/"
        },
        "id": "e7FVIF_MGAPG",
        "outputId": "41497318-f3f7-45b1-97d4-a39238f573b5"
      },
      "execution_count": null,
      "outputs": [
        {
          "output_type": "execute_result",
          "data": {
            "text/plain": [
              "[11, 12, 13, 14, 15, 16, 17, 18, 19, 20]"
            ]
          },
          "metadata": {},
          "execution_count": 240
        }
      ]
    },
    {
      "cell_type": "code",
      "source": [
        "a_list.pop()"
      ],
      "metadata": {
        "colab": {
          "base_uri": "https://localhost:8080/"
        },
        "id": "Z4mBDBDWGEr_",
        "outputId": "517f0670-2020-4883-9d46-fc0adb5fd964"
      },
      "execution_count": null,
      "outputs": [
        {
          "output_type": "execute_result",
          "data": {
            "text/plain": [
              "20"
            ]
          },
          "metadata": {},
          "execution_count": 241
        }
      ]
    },
    {
      "cell_type": "code",
      "source": [
        "a_list"
      ],
      "metadata": {
        "colab": {
          "base_uri": "https://localhost:8080/"
        },
        "id": "qvL4IpC6GHxJ",
        "outputId": "567ff2a4-9dc9-4e71-e15a-1b7e399caaec"
      },
      "execution_count": null,
      "outputs": [
        {
          "output_type": "execute_result",
          "data": {
            "text/plain": [
              "[11, 12, 13, 14, 15, 16, 17, 18, 19]"
            ]
          },
          "metadata": {},
          "execution_count": 242
        }
      ]
    },
    {
      "cell_type": "code",
      "source": [
        "a_list.pop()"
      ],
      "metadata": {
        "colab": {
          "base_uri": "https://localhost:8080/"
        },
        "id": "HuydPSAJGJJK",
        "outputId": "c1cfec5b-7173-492b-ba37-cd1f9b48dbd9"
      },
      "execution_count": null,
      "outputs": [
        {
          "output_type": "execute_result",
          "data": {
            "text/plain": [
              "19"
            ]
          },
          "metadata": {},
          "execution_count": 243
        }
      ]
    },
    {
      "cell_type": "code",
      "source": [
        "a_list.pop()"
      ],
      "metadata": {
        "colab": {
          "base_uri": "https://localhost:8080/"
        },
        "id": "EirySJ1eGK0b",
        "outputId": "31b03243-1408-410e-ebe1-225cb31c1368"
      },
      "execution_count": null,
      "outputs": [
        {
          "output_type": "execute_result",
          "data": {
            "text/plain": [
              "18"
            ]
          },
          "metadata": {},
          "execution_count": 244
        }
      ]
    },
    {
      "cell_type": "code",
      "source": [
        "for i in a_list:\n",
        "  print(a_list.pop())"
      ],
      "metadata": {
        "colab": {
          "base_uri": "https://localhost:8080/"
        },
        "id": "FCDXwMQfGN0H",
        "outputId": "3e5eba33-1c13-41df-aa26-c92847d40e09"
      },
      "execution_count": null,
      "outputs": [
        {
          "output_type": "stream",
          "name": "stdout",
          "text": [
            "13\n",
            "12\n"
          ]
        }
      ]
    },
    {
      "cell_type": "code",
      "source": [
        "a_list = [11,12,13,14,15,16,17,18,19,20]"
      ],
      "metadata": {
        "id": "fqyPfvOJGSd2"
      },
      "execution_count": null,
      "outputs": []
    },
    {
      "cell_type": "code",
      "source": [
        "a_list"
      ],
      "metadata": {
        "colab": {
          "base_uri": "https://localhost:8080/"
        },
        "id": "IdQPLW53Gq4y",
        "outputId": "fd8f3c3c-4150-469f-a562-9d2649ed547e"
      },
      "execution_count": null,
      "outputs": [
        {
          "output_type": "execute_result",
          "data": {
            "text/plain": [
              "[11, 12, 13, 14, 15, 16, 17, 18, 19, 20]"
            ]
          },
          "metadata": {},
          "execution_count": 249
        }
      ]
    },
    {
      "cell_type": "code",
      "source": [
        "for i in range(10):\n",
        "  print(a_list.pop())"
      ],
      "metadata": {
        "colab": {
          "base_uri": "https://localhost:8080/"
        },
        "id": "88xsa6NOGtJl",
        "outputId": "5e426b0e-9ae8-43b7-bb48-d132d0934ed1"
      },
      "execution_count": null,
      "outputs": [
        {
          "output_type": "stream",
          "name": "stdout",
          "text": [
            "20\n",
            "19\n",
            "18\n",
            "17\n",
            "16\n",
            "15\n",
            "14\n",
            "13\n",
            "12\n",
            "11\n"
          ]
        }
      ]
    },
    {
      "cell_type": "code",
      "source": [
        "a_list"
      ],
      "metadata": {
        "colab": {
          "base_uri": "https://localhost:8080/"
        },
        "id": "0lRTmW6PG5uA",
        "outputId": "77fa8ab1-d280-4d07-8fb8-03969431801d"
      },
      "execution_count": null,
      "outputs": [
        {
          "output_type": "execute_result",
          "data": {
            "text/plain": [
              "[11, 12, 13, 14, 15, 16, 17, 18, 19, 20]"
            ]
          },
          "metadata": {},
          "execution_count": 253
        }
      ]
    },
    {
      "cell_type": "code",
      "source": [
        "a_list.pop(1)"
      ],
      "metadata": {
        "colab": {
          "base_uri": "https://localhost:8080/"
        },
        "id": "hAnd-pKLHA68",
        "outputId": "091fceb0-66d7-4634-8d90-e168c579f7d4"
      },
      "execution_count": null,
      "outputs": [
        {
          "output_type": "execute_result",
          "data": {
            "text/plain": [
              "12"
            ]
          },
          "metadata": {},
          "execution_count": 254
        }
      ]
    },
    {
      "cell_type": "code",
      "source": [
        "a.pop()"
      ],
      "metadata": {
        "colab": {
          "base_uri": "https://localhost:8080/"
        },
        "id": "lKGnefs_HCXb",
        "outputId": "224528fc-8a7f-4a20-d8da-c908bfde71a5"
      },
      "execution_count": null,
      "outputs": [
        {
          "output_type": "execute_result",
          "data": {
            "text/plain": [
              "1"
            ]
          },
          "metadata": {},
          "execution_count": 255
        }
      ]
    },
    {
      "cell_type": "code",
      "source": [
        "#num1 = int(input('첫번째 수:'))\n",
        "#num2 = int(input('두번째 수:'))\n",
        "\n",
        "num1=(20)\n",
        "num2=(10)\n",
        "data=[]\n",
        "data2=[]\n",
        "for i in range(1, int(num1)+1):\n",
        "  if int(num1)%i ==0:\n",
        "    data.append(i)\n",
        "print('첫번째 수의 약수는',data)\n",
        "for i in range(1,int(num2)+1):\n",
        "  if int(num2)%i==0:\n",
        "    data2.append(i)\n",
        "print('두번째 수의 약수는',data2)\n",
        "\n",
        "data=set(data)\n",
        "data2=set(data2)\n",
        "datac=data&data2\n",
        "\n",
        "print('%d와 %d의 공약수는'%(num1,num2),datac)\n"
      ],
      "metadata": {
        "id": "IW3dTyyIH9IE"
      },
      "execution_count": null,
      "outputs": []
    },
    {
      "cell_type": "code",
      "source": [
        "a= int(input('첫번째 수 : '))\n",
        "b= int(input('두번째 수 : '))\n",
        "ad=set()\n",
        "bd=set()\n",
        "\n",
        "for i in range(1,a+1):\n",
        "  if a%i ==0:\n",
        "    ad.add(i)\n",
        "print('첫번째 수의 약수는',ad)\n",
        "\n",
        "for i in range(1, b+1):\n",
        "  if b%i ==0:\n",
        "    bd.add(i)\n",
        "print('두번째 수의 약수는',bd)\n",
        "\n",
        "print('%d 와 %d의 공약수는'%(a,b))\n",
        "print(ad&bd)"
      ],
      "metadata": {
        "colab": {
          "base_uri": "https://localhost:8080/"
        },
        "id": "6rDA4ytYQCpq",
        "outputId": "46b6fe83-fb3e-4bdd-b7d8-18c0006c0b34"
      },
      "execution_count": null,
      "outputs": [
        {
          "output_type": "stream",
          "name": "stdout",
          "text": [
            "첫번째 수 : 20\n",
            "두번째 수 : 10\n",
            "첫번째 수의 약수는 {1, 2, 4, 5, 10, 20}\n",
            "두번째 수의 약수는 {1, 2, 10, 5}\n",
            "20 와 10의 공약수는\n",
            "{1, 2, 10, 5}\n"
          ]
        }
      ]
    },
    {
      "cell_type": "markdown",
      "source": [
        "**딕셔너리(Dictionary)**\n",
        "\n",
        "생성법:\n",
        "\n",
        "딕셔너리명 = {'키1':'값1','키1':값2,...}"
      ],
      "metadata": {
        "id": "Ka55kqW6gjPj"
      }
    },
    {
      "cell_type": "markdown",
      "source": [
        "key-value 쌍으로 이루어진 자료형{:}"
      ],
      "metadata": {
        "id": "8FhHp_Org_lh"
      }
    },
    {
      "cell_type": "code",
      "source": [
        "a={1:'사과',2:'Banana','three':3333,'four':'4444'}"
      ],
      "metadata": {
        "id": "xx2jqNHNesqw"
      },
      "execution_count": null,
      "outputs": []
    },
    {
      "cell_type": "code",
      "source": [
        "a"
      ],
      "metadata": {
        "colab": {
          "base_uri": "https://localhost:8080/"
        },
        "id": "mF9N3GG-gOWG",
        "outputId": "0811b82c-ff0e-4305-9072-4b1db0ca53c4"
      },
      "execution_count": null,
      "outputs": [
        {
          "output_type": "execute_result",
          "data": {
            "text/plain": [
              "{1: '사과', 2: 'Banana', 'four': '4444', 'three': 3333}"
            ]
          },
          "metadata": {},
          "execution_count": 301
        }
      ]
    },
    {
      "cell_type": "markdown",
      "source": [
        "key : 변수 또는 튜플 Value : 거의 모든 자료형 가능\n",
        "\n",
        "*Key는 변경 불가능, Value는 변경 가능"
      ],
      "metadata": {
        "id": "ccBrLOiAhC3I"
      }
    },
    {
      "cell_type": "code",
      "source": [
        "b={(1,'가'):['리','스','트'],(2,'나'):(2,'나'),(3,'다'):{'가','나','나','다'}}"
      ],
      "metadata": {
        "id": "Jc5GMjOugPJW"
      },
      "execution_count": null,
      "outputs": []
    },
    {
      "cell_type": "code",
      "source": [
        "b"
      ],
      "metadata": {
        "colab": {
          "base_uri": "https://localhost:8080/"
        },
        "id": "xrF8ozzkgeX8",
        "outputId": "22f92214-fd0f-456e-ae3c-480be0e3469e"
      },
      "execution_count": null,
      "outputs": [
        {
          "output_type": "execute_result",
          "data": {
            "text/plain": [
              "{(1, '가'): ['리', '스', '트'], (2, '나'): (2, '나'), (3, '다'): {'가', '나', '다'}}"
            ]
          },
          "metadata": {},
          "execution_count": 303
        }
      ]
    },
    {
      "cell_type": "code",
      "source": [
        "b[(1,'가')]"
      ],
      "metadata": {
        "colab": {
          "base_uri": "https://localhost:8080/"
        },
        "id": "sgyPqaz6gfmo",
        "outputId": "aa84e7b3-a5ae-4a6e-fe27-78fd860dc6c0"
      },
      "execution_count": null,
      "outputs": [
        {
          "output_type": "execute_result",
          "data": {
            "text/plain": [
              "['리', '스', '트']"
            ]
          },
          "metadata": {},
          "execution_count": 304
        }
      ]
    },
    {
      "cell_type": "code",
      "source": [
        "b= {1:{2,3}}"
      ],
      "metadata": {
        "id": "bf60UsgkhMGN"
      },
      "execution_count": null,
      "outputs": []
    },
    {
      "cell_type": "code",
      "source": [
        "b"
      ],
      "metadata": {
        "colab": {
          "base_uri": "https://localhost:8080/"
        },
        "id": "Bul-bmiqhXuA",
        "outputId": "5de88bb4-5c9c-4d4a-b0cd-9b716aa750dc"
      },
      "execution_count": null,
      "outputs": [
        {
          "output_type": "execute_result",
          "data": {
            "text/plain": [
              "{1: {2, 3}}"
            ]
          },
          "metadata": {},
          "execution_count": 306
        }
      ]
    },
    {
      "cell_type": "code",
      "source": [
        "a={}"
      ],
      "metadata": {
        "id": "y37ILZDFhsHk"
      },
      "execution_count": null,
      "outputs": []
    },
    {
      "cell_type": "code",
      "source": [
        "type(a)"
      ],
      "metadata": {
        "colab": {
          "base_uri": "https://localhost:8080/"
        },
        "id": "CgnR2k_Chtan",
        "outputId": "ae505613-f5a2-4b8c-c8d6-1219a2a0c27b"
      },
      "execution_count": null,
      "outputs": [
        {
          "output_type": "execute_result",
          "data": {
            "text/plain": [
              "dict"
            ]
          },
          "metadata": {},
          "execution_count": 308
        }
      ]
    },
    {
      "cell_type": "code",
      "source": [
        "a['name']='John'"
      ],
      "metadata": {
        "id": "jn60CN8jhuxD"
      },
      "execution_count": null,
      "outputs": []
    },
    {
      "cell_type": "code",
      "source": [
        "a"
      ],
      "metadata": {
        "colab": {
          "base_uri": "https://localhost:8080/"
        },
        "id": "8qVA-nDihxL8",
        "outputId": "da2eaa19-374b-4a4c-9947-a55c83c0c54b"
      },
      "execution_count": null,
      "outputs": [
        {
          "output_type": "execute_result",
          "data": {
            "text/plain": [
              "{'name': 'John'}"
            ]
          },
          "metadata": {},
          "execution_count": 310
        }
      ]
    },
    {
      "cell_type": "code",
      "source": [
        "a['address']='서울'"
      ],
      "metadata": {
        "id": "HRV_dwiKh0Gt"
      },
      "execution_count": null,
      "outputs": []
    },
    {
      "cell_type": "code",
      "source": [
        "a"
      ],
      "metadata": {
        "colab": {
          "base_uri": "https://localhost:8080/"
        },
        "id": "osHM6c7Lh4bV",
        "outputId": "7b565315-5394-42f3-ce68-25874fff2c50"
      },
      "execution_count": null,
      "outputs": [
        {
          "output_type": "execute_result",
          "data": {
            "text/plain": [
              "{'address': '서울', 'name': 'John'}"
            ]
          },
          "metadata": {},
          "execution_count": 312
        }
      ]
    },
    {
      "cell_type": "code",
      "source": [
        "a={1:100,2:'2000',3:[1,2,3],4:(6,7),5:{1,2,3}}"
      ],
      "metadata": {
        "id": "Km0VHJfSh_yF"
      },
      "execution_count": null,
      "outputs": []
    },
    {
      "cell_type": "code",
      "source": [
        "a"
      ],
      "metadata": {
        "colab": {
          "base_uri": "https://localhost:8080/"
        },
        "id": "iEzaC5G8iVS6",
        "outputId": "8a8b9fb0-83f3-4820-f7a5-b87fac8abd40"
      },
      "execution_count": null,
      "outputs": [
        {
          "output_type": "execute_result",
          "data": {
            "text/plain": [
              "{1: 100, 2: '2000', 3: [1, 2, 3], 4: (6, 7), 5: {1, 2, 3}}"
            ]
          },
          "metadata": {},
          "execution_count": 314
        }
      ]
    },
    {
      "cell_type": "code",
      "source": [
        "a['dict']={'test':'dict','program':'python'}"
      ],
      "metadata": {
        "id": "OYiZI098ia_f"
      },
      "execution_count": null,
      "outputs": []
    },
    {
      "cell_type": "code",
      "source": [
        "a"
      ],
      "metadata": {
        "colab": {
          "base_uri": "https://localhost:8080/"
        },
        "id": "nB-5c5ZwijPd",
        "outputId": "e419521c-8fa8-4871-9a43-9cac3456fada"
      },
      "execution_count": null,
      "outputs": [
        {
          "output_type": "execute_result",
          "data": {
            "text/plain": [
              "{1: 100,\n",
              " 2: '2000',\n",
              " 3: [1, 2, 3],\n",
              " 4: (6, 7),\n",
              " 5: {1, 2, 3},\n",
              " 'dict': {'program': 'python', 'test': 'dict'}}"
            ]
          },
          "metadata": {},
          "execution_count": 316
        }
      ]
    },
    {
      "cell_type": "markdown",
      "source": [
        "Dict 조작1"
      ],
      "metadata": {
        "id": "jghfoHWMi1UL"
      }
    },
    {
      "cell_type": "code",
      "source": [
        "a={1:'사과',2:'Banana','three':3333,'four':'4444'}"
      ],
      "metadata": {
        "id": "OpWfvIjgi337"
      },
      "execution_count": null,
      "outputs": []
    },
    {
      "cell_type": "code",
      "source": [
        "a[2]"
      ],
      "metadata": {
        "colab": {
          "base_uri": "https://localhost:8080/",
          "height": 35
        },
        "id": "Uh1iaLwTi_mf",
        "outputId": "b385e1f6-7075-4b01-854a-8ed60a627f52"
      },
      "execution_count": null,
      "outputs": [
        {
          "output_type": "execute_result",
          "data": {
            "text/plain": [
              "'Banana'"
            ],
            "application/vnd.google.colaboratory.intrinsic+json": {
              "type": "string"
            }
          },
          "metadata": {},
          "execution_count": 318
        }
      ]
    },
    {
      "cell_type": "code",
      "source": [
        "a['three']"
      ],
      "metadata": {
        "colab": {
          "base_uri": "https://localhost:8080/"
        },
        "id": "J3np8dIHjBBf",
        "outputId": "9fb78e25-e4c5-4d1b-b3e2-14f150afe6ee"
      },
      "execution_count": null,
      "outputs": [
        {
          "output_type": "execute_result",
          "data": {
            "text/plain": [
              "3333"
            ]
          },
          "metadata": {},
          "execution_count": 319
        }
      ]
    },
    {
      "cell_type": "markdown",
      "source": [
        "key-Value추가하기"
      ],
      "metadata": {
        "id": "sxOs2vPEjDJa"
      }
    },
    {
      "cell_type": "code",
      "source": [
        "a={1:'A'}"
      ],
      "metadata": {
        "id": "4Q-uLvhkjCg1"
      },
      "execution_count": null,
      "outputs": []
    },
    {
      "cell_type": "code",
      "source": [
        "a"
      ],
      "metadata": {
        "colab": {
          "base_uri": "https://localhost:8080/"
        },
        "id": "e1Z77woOjIqz",
        "outputId": "c6bb9847-d72c-4e27-d9fd-fe9a74db10f6"
      },
      "execution_count": null,
      "outputs": [
        {
          "output_type": "execute_result",
          "data": {
            "text/plain": [
              "{1: 'A'}"
            ]
          },
          "metadata": {},
          "execution_count": 321
        }
      ]
    },
    {
      "cell_type": "code",
      "source": [
        "a['Second']=2"
      ],
      "metadata": {
        "id": "k-wrnagFjJK_"
      },
      "execution_count": null,
      "outputs": []
    },
    {
      "cell_type": "code",
      "source": [
        "a"
      ],
      "metadata": {
        "colab": {
          "base_uri": "https://localhost:8080/"
        },
        "id": "SeV0eyaojLG5",
        "outputId": "e2cb589f-590e-4641-afad-4c8551ff2ade"
      },
      "execution_count": null,
      "outputs": [
        {
          "output_type": "execute_result",
          "data": {
            "text/plain": [
              "{1: 'A', 'Second': 2}"
            ]
          },
          "metadata": {},
          "execution_count": 323
        }
      ]
    },
    {
      "cell_type": "code",
      "source": [
        "del a['Second']"
      ],
      "metadata": {
        "id": "fxZSRar_jMjL"
      },
      "execution_count": null,
      "outputs": []
    },
    {
      "cell_type": "code",
      "source": [
        "a"
      ],
      "metadata": {
        "colab": {
          "base_uri": "https://localhost:8080/"
        },
        "id": "GwKvT7ZtjPKv",
        "outputId": "dc0d2225-5762-4456-b2e9-74c3a056927d"
      },
      "execution_count": null,
      "outputs": [
        {
          "output_type": "execute_result",
          "data": {
            "text/plain": [
              "{1: 'A'}"
            ]
          },
          "metadata": {},
          "execution_count": 325
        }
      ]
    },
    {
      "cell_type": "markdown",
      "source": [
        "KEY 존재 여부"
      ],
      "metadata": {
        "id": "V3AJ4Nhtk0cq"
      }
    },
    {
      "cell_type": "code",
      "source": [
        "a={1:'사과',2:'Banana','three':3333,'four':'4444'}"
      ],
      "metadata": {
        "id": "856lI_5ek14J"
      },
      "execution_count": null,
      "outputs": []
    },
    {
      "cell_type": "code",
      "source": [
        "2 in a"
      ],
      "metadata": {
        "colab": {
          "base_uri": "https://localhost:8080/"
        },
        "id": "M1G8aGoOk5AS",
        "outputId": "e9e84a91-4143-401c-8d84-3dc2b454bc39"
      },
      "execution_count": null,
      "outputs": [
        {
          "output_type": "execute_result",
          "data": {
            "text/plain": [
              "True"
            ]
          },
          "metadata": {},
          "execution_count": 332
        }
      ]
    },
    {
      "cell_type": "code",
      "source": [
        "3333 in a"
      ],
      "metadata": {
        "colab": {
          "base_uri": "https://localhost:8080/"
        },
        "id": "fv4Q4US-k6Ej",
        "outputId": "3df1a719-d72b-44d2-d5b7-d404dcd2614b"
      },
      "execution_count": null,
      "outputs": [
        {
          "output_type": "execute_result",
          "data": {
            "text/plain": [
              "False"
            ]
          },
          "metadata": {},
          "execution_count": 333
        }
      ]
    },
    {
      "cell_type": "markdown",
      "source": [
        "문제)"
      ],
      "metadata": {
        "id": "_4Par8H_k-za"
      }
    },
    {
      "cell_type": "code",
      "source": [
        "a={'강감찬':'귀주대첩','을지문덕':'살수대첩','세종대왕':'집현전'}"
      ],
      "metadata": {
        "id": "6UjmTY_7j5CQ"
      },
      "execution_count": null,
      "outputs": []
    },
    {
      "cell_type": "code",
      "source": [
        "a"
      ],
      "metadata": {
        "colab": {
          "base_uri": "https://localhost:8080/"
        },
        "id": "VqptLxwQkfSq",
        "outputId": "3ee1d08a-83d4-4aa0-861a-26249bd1fe34"
      },
      "execution_count": null,
      "outputs": [
        {
          "output_type": "execute_result",
          "data": {
            "text/plain": [
              "{'강감찬': '귀주대첩', '세종대왕': '집현전', '을지문덕': '살수대첩'}"
            ]
          },
          "metadata": {},
          "execution_count": 335
        }
      ]
    },
    {
      "cell_type": "code",
      "source": [
        "a['서희']='강동6주'"
      ],
      "metadata": {
        "id": "PyWTGxYCkgij"
      },
      "execution_count": null,
      "outputs": []
    },
    {
      "cell_type": "code",
      "source": [
        "a"
      ],
      "metadata": {
        "colab": {
          "base_uri": "https://localhost:8080/"
        },
        "id": "Dmx4qkiGkx-E",
        "outputId": "a41a63b6-df17-4adc-914c-eb474facc977"
      },
      "execution_count": null,
      "outputs": [
        {
          "output_type": "execute_result",
          "data": {
            "text/plain": [
              "{'강감찬': '귀주대첩', '서희': '강동6주', '세종대왕': '집현전', '을지문덕': '살수대첩'}"
            ]
          },
          "metadata": {},
          "execution_count": 337
        }
      ]
    },
    {
      "cell_type": "code",
      "source": [
        "a['세종대왕']='한글'"
      ],
      "metadata": {
        "id": "Y_1jLlhtlB9O"
      },
      "execution_count": null,
      "outputs": []
    },
    {
      "cell_type": "code",
      "source": [
        "a"
      ],
      "metadata": {
        "colab": {
          "base_uri": "https://localhost:8080/"
        },
        "id": "ctKF9JuGlrNj",
        "outputId": "36ff2cce-619c-4665-898b-4dcde37a3d76"
      },
      "execution_count": null,
      "outputs": [
        {
          "output_type": "execute_result",
          "data": {
            "text/plain": [
              "{'강감찬': '귀주대첩', '서희': '강동6주', '세종대왕': '한글', '을지문덕': '살수대첩'}"
            ]
          },
          "metadata": {},
          "execution_count": 340
        }
      ]
    },
    {
      "cell_type": "code",
      "source": [
        "'을지문덕' in a"
      ],
      "metadata": {
        "colab": {
          "base_uri": "https://localhost:8080/"
        },
        "id": "D0Cq7RwJlsdI",
        "outputId": "1922baea-7722-459c-9137-78d5ff945656"
      },
      "execution_count": null,
      "outputs": [
        {
          "output_type": "execute_result",
          "data": {
            "text/plain": [
              "True"
            ]
          },
          "metadata": {},
          "execution_count": 341
        }
      ]
    },
    {
      "cell_type": "code",
      "source": [
        "del a['을지문덕']"
      ],
      "metadata": {
        "id": "CMNxwXQDly84"
      },
      "execution_count": null,
      "outputs": []
    },
    {
      "cell_type": "code",
      "source": [
        "a"
      ],
      "metadata": {
        "colab": {
          "base_uri": "https://localhost:8080/"
        },
        "id": "Qg22m2VEl6kS",
        "outputId": "ced3693b-03b8-4c5f-cd81-a62def77bc4d"
      },
      "execution_count": null,
      "outputs": [
        {
          "output_type": "execute_result",
          "data": {
            "text/plain": [
              "{'강감찬': '귀주대첩', '서희': '강동6주', '세종대왕': '한글'}"
            ]
          },
          "metadata": {},
          "execution_count": 346
        }
      ]
    },
    {
      "cell_type": "markdown",
      "source": [
        "**조작(2)**\n",
        "\n",
        "pop(), clear()"
      ],
      "metadata": {
        "id": "nhL_UUTgmJYX"
      }
    },
    {
      "cell_type": "code",
      "source": [
        "a={1:'사과',2:'Banana','three':3333,'four':'4444'}"
      ],
      "metadata": {
        "id": "JS-oux08mKcP"
      },
      "execution_count": null,
      "outputs": []
    },
    {
      "cell_type": "code",
      "source": [
        "a.pop('three')"
      ],
      "metadata": {
        "colab": {
          "base_uri": "https://localhost:8080/"
        },
        "id": "7Rd-22KPmNvX",
        "outputId": "b7fd02cf-cdbb-4748-a675-23968c3a5d65"
      },
      "execution_count": null,
      "outputs": [
        {
          "output_type": "execute_result",
          "data": {
            "text/plain": [
              "3333"
            ]
          },
          "metadata": {},
          "execution_count": 348
        }
      ]
    },
    {
      "cell_type": "code",
      "source": [
        "a"
      ],
      "metadata": {
        "colab": {
          "base_uri": "https://localhost:8080/"
        },
        "id": "zOUoPlTdmP8Q",
        "outputId": "b039ac71-c414-433b-b094-dd61830f8a33"
      },
      "execution_count": null,
      "outputs": [
        {
          "output_type": "execute_result",
          "data": {
            "text/plain": [
              "{1: '사과', 2: 'Banana', 'four': '4444'}"
            ]
          },
          "metadata": {},
          "execution_count": 349
        }
      ]
    },
    {
      "cell_type": "code",
      "source": [
        "a"
      ],
      "metadata": {
        "colab": {
          "base_uri": "https://localhost:8080/"
        },
        "id": "Bac8cdahmQ-K",
        "outputId": "9152ded4-ef1c-4e99-a0f2-2f6a51abea7d"
      },
      "execution_count": null,
      "outputs": [
        {
          "output_type": "execute_result",
          "data": {
            "text/plain": [
              "{1: '사과', 2: 'Banana', 'four': '4444'}"
            ]
          },
          "metadata": {},
          "execution_count": 350
        }
      ]
    },
    {
      "cell_type": "code",
      "source": [
        "a.clear()"
      ],
      "metadata": {
        "id": "69aNrxdAmSXT"
      },
      "execution_count": null,
      "outputs": []
    },
    {
      "cell_type": "code",
      "source": [
        "a"
      ],
      "metadata": {
        "colab": {
          "base_uri": "https://localhost:8080/"
        },
        "id": "NmSSAoPJmUIf",
        "outputId": "1aa157ea-4682-4d69-d639-d9d9180cd1e9"
      },
      "execution_count": null,
      "outputs": [
        {
          "output_type": "execute_result",
          "data": {
            "text/plain": [
              "{}"
            ]
          },
          "metadata": {},
          "execution_count": 352
        }
      ]
    },
    {
      "cell_type": "code",
      "source": [
        "a['정약용']='실학'"
      ],
      "metadata": {
        "id": "FmkME0tWnGyn"
      },
      "execution_count": null,
      "outputs": []
    },
    {
      "cell_type": "code",
      "source": [
        "a"
      ],
      "metadata": {
        "colab": {
          "base_uri": "https://localhost:8080/"
        },
        "id": "pAZMnEmTnLS8",
        "outputId": "a41dd322-5e57-48b8-e460-0487cf4807f9"
      },
      "execution_count": null,
      "outputs": [
        {
          "output_type": "execute_result",
          "data": {
            "text/plain": [
              "{'강감찬': '귀주대첩', '세종대왕': '집현전', '을지문덕': '살수대첩', '정약용': '실학'}"
            ]
          },
          "metadata": {},
          "execution_count": 355
        }
      ]
    },
    {
      "cell_type": "code",
      "source": [
        "a['세종대왕']='한글'"
      ],
      "metadata": {
        "id": "iqYo9DsDnQdC"
      },
      "execution_count": null,
      "outputs": []
    },
    {
      "cell_type": "code",
      "source": [
        "a"
      ],
      "metadata": {
        "colab": {
          "base_uri": "https://localhost:8080/"
        },
        "id": "eBYVN6uOnTng",
        "outputId": "a27b2a64-0f31-4f7a-d76b-ec7b87316763"
      },
      "execution_count": null,
      "outputs": [
        {
          "output_type": "execute_result",
          "data": {
            "text/plain": [
              "{'강감찬': '귀주대첩', '세종대왕': '한글', '을지문덕': '살수대첩', '정약용': '실학'}"
            ]
          },
          "metadata": {},
          "execution_count": 357
        }
      ]
    },
    {
      "cell_type": "code",
      "source": [
        "del a['을지문덕']"
      ],
      "metadata": {
        "id": "7e9pgv6xnV2M"
      },
      "execution_count": null,
      "outputs": []
    },
    {
      "cell_type": "code",
      "source": [
        "a"
      ],
      "metadata": {
        "colab": {
          "base_uri": "https://localhost:8080/"
        },
        "id": "2hIpmh_-naPs",
        "outputId": "e10a13c4-a9e0-4756-c754-ee78b6236b20"
      },
      "execution_count": null,
      "outputs": [
        {
          "output_type": "execute_result",
          "data": {
            "text/plain": [
              "{'강감찬': '귀주대첩', '세종대왕': '한글', '정약용': '실학'}"
            ]
          },
          "metadata": {},
          "execution_count": 359
        }
      ]
    },
    {
      "cell_type": "code",
      "source": [
        "for i in a:\n",
        "  print(f'key={i}, value={a[i]}')"
      ],
      "metadata": {
        "colab": {
          "base_uri": "https://localhost:8080/"
        },
        "id": "7JGXeKtGnbeo",
        "outputId": "6a8f00de-a4f4-47ff-d86d-a962279297fb"
      },
      "execution_count": null,
      "outputs": [
        {
          "output_type": "stream",
          "name": "stdout",
          "text": [
            "key=강감찬, value=귀주대첩\n",
            "key=세종대왕, value=한글\n",
            "key=정약용, value=실학\n"
          ]
        }
      ]
    },
    {
      "cell_type": "code",
      "source": [
        "for i in a.keys():\n",
        "  print(i,a[i])"
      ],
      "metadata": {
        "colab": {
          "base_uri": "https://localhost:8080/"
        },
        "id": "eKpN3VeOnqI_",
        "outputId": "39bd3995-a411-49ef-c5ea-d224babfb73d"
      },
      "execution_count": null,
      "outputs": [
        {
          "output_type": "stream",
          "name": "stdout",
          "text": [
            "강감찬 귀주대첩\n",
            "세종대왕 한글\n",
            "정약용 실학\n"
          ]
        }
      ]
    },
    {
      "cell_type": "code",
      "source": [
        "a.keys()"
      ],
      "metadata": {
        "colab": {
          "base_uri": "https://localhost:8080/"
        },
        "id": "QkbTQcJPnvNW",
        "outputId": "8f952e70-b72c-4258-c835-d2d1bef7dc5a"
      },
      "execution_count": null,
      "outputs": [
        {
          "output_type": "execute_result",
          "data": {
            "text/plain": [
              "dict_keys(['강감찬', '세종대왕', '정약용'])"
            ]
          },
          "metadata": {},
          "execution_count": 363
        }
      ]
    },
    {
      "cell_type": "code",
      "source": [
        "type(a.keys())"
      ],
      "metadata": {
        "colab": {
          "base_uri": "https://localhost:8080/"
        },
        "id": "8WVsOYRIoDaD",
        "outputId": "feb4f1b5-57a1-41ae-ba1f-67853e4832d2"
      },
      "execution_count": null,
      "outputs": [
        {
          "output_type": "execute_result",
          "data": {
            "text/plain": [
              "dict_keys"
            ]
          },
          "metadata": {},
          "execution_count": 364
        }
      ]
    },
    {
      "cell_type": "code",
      "source": [
        "list(a.keys())"
      ],
      "metadata": {
        "colab": {
          "base_uri": "https://localhost:8080/"
        },
        "id": "M4acQWruoGFF",
        "outputId": "5efbf018-de3b-4a50-9a6c-b11d192003b8"
      },
      "execution_count": null,
      "outputs": [
        {
          "output_type": "execute_result",
          "data": {
            "text/plain": [
              "['강감찬', '세종대왕', '정약용']"
            ]
          },
          "metadata": {},
          "execution_count": 365
        }
      ]
    },
    {
      "cell_type": "code",
      "source": [
        ""
      ],
      "metadata": {
        "id": "aAjQHRINoIvV"
      },
      "execution_count": null,
      "outputs": []
    },
    {
      "cell_type": "code",
      "source": [
        "for i in a.keys():\n",
        "  print(i)"
      ],
      "metadata": {
        "colab": {
          "base_uri": "https://localhost:8080/"
        },
        "id": "rNA6PhHjpQfL",
        "outputId": "199776b8-e636-4c14-eb2b-e49d31b97388"
      },
      "execution_count": null,
      "outputs": [
        {
          "output_type": "stream",
          "name": "stdout",
          "text": [
            "강감찬\n",
            "세종대왕\n",
            "정약용\n"
          ]
        }
      ]
    },
    {
      "cell_type": "markdown",
      "source": [
        "KOR_AIRFORCE_WMO_CLIMATE_AM_ASOS_3_20222"
      ],
      "metadata": {
        "id": "TaGAPr57pU77"
      }
    },
    {
      "cell_type": "code",
      "source": [
        "data= {'KOR_AIRFORCE_WMO_CLIMATE_AM_ASOS_3_20222' : 1}"
      ],
      "metadata": {
        "id": "EGl_enH9pa-n"
      },
      "execution_count": null,
      "outputs": []
    },
    {
      "cell_type": "code",
      "source": [
        "a.values()"
      ],
      "metadata": {
        "colab": {
          "base_uri": "https://localhost:8080/"
        },
        "id": "CZl8Y8yzp4gv",
        "outputId": "f34e9d7e-459c-4642-a646-4adff0e4e94c"
      },
      "execution_count": null,
      "outputs": [
        {
          "output_type": "execute_result",
          "data": {
            "text/plain": [
              "dict_values(['귀주대첩', '한글', '실학'])"
            ]
          },
          "metadata": {},
          "execution_count": 369
        }
      ]
    },
    {
      "cell_type": "code",
      "source": [
        "for i in a.values():\n",
        "  print(i)"
      ],
      "metadata": {
        "colab": {
          "base_uri": "https://localhost:8080/"
        },
        "id": "V9m7LcHppoOj",
        "outputId": "07dd0240-d807-4b0d-8c2b-6deada7d6a7d"
      },
      "execution_count": null,
      "outputs": [
        {
          "output_type": "stream",
          "name": "stdout",
          "text": [
            "귀주대첩\n",
            "한글\n",
            "실학\n"
          ]
        }
      ]
    },
    {
      "cell_type": "code",
      "source": [
        "for i , j in a.items():\n",
        "  print(i,j)"
      ],
      "metadata": {
        "colab": {
          "base_uri": "https://localhost:8080/"
        },
        "id": "-S56q9MlqH5g",
        "outputId": "85b5efe7-a1d0-4964-9c19-5dcb73e5e348"
      },
      "execution_count": null,
      "outputs": [
        {
          "output_type": "stream",
          "name": "stdout",
          "text": [
            "강감찬 귀주대첩\n",
            "세종대왕 한글\n",
            "정약용 실학\n"
          ]
        }
      ]
    },
    {
      "cell_type": "code",
      "source": [
        "a.values()"
      ],
      "metadata": {
        "colab": {
          "base_uri": "https://localhost:8080/"
        },
        "id": "NZ1CxI-msm_y",
        "outputId": "d5365f0a-eacd-4637-e537-b658360c9e86"
      },
      "execution_count": null,
      "outputs": [
        {
          "output_type": "execute_result",
          "data": {
            "text/plain": [
              "dict_values(['귀주대첩', '한글', '실학'])"
            ]
          },
          "metadata": {},
          "execution_count": 373
        }
      ]
    },
    {
      "cell_type": "code",
      "source": [
        "list(a.values())"
      ],
      "metadata": {
        "colab": {
          "base_uri": "https://localhost:8080/"
        },
        "id": "8a8NvQD3s-sw",
        "outputId": "544ceafe-3738-45c5-a323-4ee910809e41"
      },
      "execution_count": null,
      "outputs": [
        {
          "output_type": "execute_result",
          "data": {
            "text/plain": [
              "['귀주대첩', '한글', '실학']"
            ]
          },
          "metadata": {},
          "execution_count": 374
        }
      ]
    },
    {
      "cell_type": "code",
      "source": [
        "a_list = list(a.items())"
      ],
      "metadata": {
        "id": "FV00y2G7tBE6"
      },
      "execution_count": null,
      "outputs": []
    },
    {
      "cell_type": "code",
      "source": [
        "a_list[1][0]"
      ],
      "metadata": {
        "colab": {
          "base_uri": "https://localhost:8080/",
          "height": 35
        },
        "id": "GDkhD21rtD7r",
        "outputId": "5c1f8870-7641-4ad9-800b-edbcb903bd71"
      },
      "execution_count": null,
      "outputs": [
        {
          "output_type": "execute_result",
          "data": {
            "text/plain": [
              "'세종대왕'"
            ],
            "application/vnd.google.colaboratory.intrinsic+json": {
              "type": "string"
            }
          },
          "metadata": {},
          "execution_count": 377
        }
      ]
    },
    {
      "cell_type": "code",
      "source": [
        "data"
      ],
      "metadata": {
        "colab": {
          "base_uri": "https://localhost:8080/"
        },
        "id": "cj_G4ooqtKKd",
        "outputId": "3d15e682-4b76-4bbe-ba52-50e32fd03901"
      },
      "execution_count": null,
      "outputs": [
        {
          "output_type": "execute_result",
          "data": {
            "text/plain": [
              "{'KOR_AIRFORCE_WMO_CLIMATE_AM_ASOS_3_20222': 1}"
            ]
          },
          "metadata": {},
          "execution_count": 378
        }
      ]
    },
    {
      "cell_type": "code",
      "source": [
        "d={'서울':'세종대왕','파주':'윤관','성남':'이집'}"
      ],
      "metadata": {
        "id": "JQAFOSKYtdxY"
      },
      "execution_count": null,
      "outputs": []
    },
    {
      "cell_type": "code",
      "source": [
        "d"
      ],
      "metadata": {
        "colab": {
          "base_uri": "https://localhost:8080/"
        },
        "id": "de6DEvfetpod",
        "outputId": "b2f2538f-02b6-4e6c-d10f-afacb5da4311"
      },
      "execution_count": null,
      "outputs": [
        {
          "output_type": "execute_result",
          "data": {
            "text/plain": [
              "{'서울': '세종대왕', '성남': '이집', '파주': '윤관'}"
            ]
          },
          "metadata": {},
          "execution_count": 380
        }
      ]
    },
    {
      "cell_type": "code",
      "source": [
        "d['성남']"
      ],
      "metadata": {
        "colab": {
          "base_uri": "https://localhost:8080/",
          "height": 35
        },
        "id": "bXaXGl8Ptqf3",
        "outputId": "df6308b2-45cf-4e56-a009-c68ebb7c5c66"
      },
      "execution_count": null,
      "outputs": [
        {
          "output_type": "execute_result",
          "data": {
            "text/plain": [
              "'이집'"
            ],
            "application/vnd.google.colaboratory.intrinsic+json": {
              "type": "string"
            }
          },
          "metadata": {},
          "execution_count": 382
        }
      ]
    },
    {
      "cell_type": "code",
      "source": [
        "d.clear()"
      ],
      "metadata": {
        "id": "CSd-2pdWtxUF"
      },
      "execution_count": null,
      "outputs": []
    },
    {
      "cell_type": "code",
      "source": [
        "d"
      ],
      "metadata": {
        "colab": {
          "base_uri": "https://localhost:8080/"
        },
        "id": "OZXVfQIst3a2",
        "outputId": "9a879727-7809-4678-91cd-bd5c0cbc3ab9"
      },
      "execution_count": null,
      "outputs": [
        {
          "output_type": "execute_result",
          "data": {
            "text/plain": [
              "{'서울': '세종대왕', '성남': '이집', '파주': '윤관'}"
            ]
          },
          "metadata": {},
          "execution_count": 7
        }
      ]
    },
    {
      "cell_type": "code",
      "source": [
        "d['남양주']='정약용'"
      ],
      "metadata": {
        "id": "55aHp3PGt4bN"
      },
      "execution_count": null,
      "outputs": []
    },
    {
      "cell_type": "code",
      "source": [
        "d"
      ],
      "metadata": {
        "colab": {
          "base_uri": "https://localhost:8080/"
        },
        "id": "T1nkAVE1uBXR",
        "outputId": "6b6388d7-4157-4c7b-8642-c5a76c55940e"
      },
      "execution_count": null,
      "outputs": [
        {
          "output_type": "execute_result",
          "data": {
            "text/plain": [
              "{'남양주': '정약용', '서울': '세종대왕', '성남': '이집', '파주': '윤관'}"
            ]
          },
          "metadata": {},
          "execution_count": 9
        }
      ]
    },
    {
      "cell_type": "code",
      "source": [
        "d={'서울':'세종대왕','파주':'윤관','성남':'이집'}\n",
        "d['성남']\n",
        "del d['성남']\n",
        "d['남양주']='정약용'\n",
        "for count in d.items():\n",
        "  print(count)"
      ],
      "metadata": {
        "colab": {
          "base_uri": "https://localhost:8080/"
        },
        "id": "W0IBJzZ-ufZR",
        "outputId": "81aa6baf-6857-45eb-fd73-aa4212eacf00"
      },
      "execution_count": null,
      "outputs": [
        {
          "output_type": "stream",
          "name": "stdout",
          "text": [
            "('서울', '세종대왕')\n",
            "('파주', '윤관')\n",
            "('남양주', '정약용')\n"
          ]
        }
      ]
    },
    {
      "cell_type": "code",
      "source": [
        "students=[]\n",
        "n=2\n",
        "for i in range(n):\n",
        "  s_num= int(input('학번:'))\n",
        "  s_name = input('이름:')\n",
        "  s_bd= input('생년월일:')\n",
        "  s_tel = input('전화번호:')\n",
        "  s_address = input('주소:')\n",
        "\n",
        "  student = {'학번' : s_num,'이름':s_name, '생년월일':s_bd, '전화번호' : s_tel,'주소':s_address}\n",
        "  students.append(student)\n",
        "  print(f'{i+1}학생의 정보 입력 완료{students[-1]}')\n",
        "\n",
        "for i in students:\n",
        "  print(i)\n"
      ],
      "metadata": {
        "colab": {
          "base_uri": "https://localhost:8080/"
        },
        "id": "_KZ0MD8KzTtL",
        "outputId": "b55135d9-8da8-48da-9771-3e815f95dd3b"
      },
      "execution_count": null,
      "outputs": [
        {
          "output_type": "stream",
          "name": "stdout",
          "text": [
            "학번:20\n",
            "이름:홍길동\n",
            "생년월일:101010\n",
            "전화번호:01010101010\n",
            "주소:서울시\n",
            "1학생의 정보 입력 완료{'학번': 20, '이름': '홍길동', '생년월일': '101010', '전화번호': '01010101010', '주소': '서울시'}\n",
            "학번:20\n",
            "이름:나길동\n",
            "생년월일:121212\n",
            "전화번호:01012121212\n",
            "주소:경기\n",
            "2학생의 정보 입력 완료{'학번': 20, '이름': '나길동', '생년월일': '121212', '전화번호': '01012121212', '주소': '경기'}\n",
            "{'학번': 20, '이름': '홍길동', '생년월일': '101010', '전화번호': '01010101010', '주소': '서울시'}\n",
            "{'학번': 20, '이름': '나길동', '생년월일': '121212', '전화번호': '01012121212', '주소': '경기'}\n"
          ]
        }
      ]
    },
    {
      "cell_type": "code",
      "source": [
        "students[1]['이름']"
      ],
      "metadata": {
        "colab": {
          "base_uri": "https://localhost:8080/",
          "height": 35
        },
        "id": "qEpdKDFF1JKw",
        "outputId": "283b04ba-d8e4-452b-817f-1875e3605d09"
      },
      "execution_count": null,
      "outputs": [
        {
          "output_type": "execute_result",
          "data": {
            "text/plain": [
              "'나길동'"
            ],
            "application/vnd.google.colaboratory.intrinsic+json": {
              "type": "string"
            }
          },
          "metadata": {},
          "execution_count": 25
        }
      ]
    },
    {
      "cell_type": "code",
      "source": [
        "students[1].get('주소')"
      ],
      "metadata": {
        "colab": {
          "base_uri": "https://localhost:8080/",
          "height": 35
        },
        "id": "4FXJW4LO4trX",
        "outputId": "c3fea9f5-ef69-4881-898a-9c904703be68"
      },
      "execution_count": null,
      "outputs": [
        {
          "output_type": "execute_result",
          "data": {
            "text/plain": [
              "'경기'"
            ],
            "application/vnd.google.colaboratory.intrinsic+json": {
              "type": "string"
            }
          },
          "metadata": {},
          "execution_count": 26
        }
      ]
    },
    {
      "cell_type": "markdown",
      "source": [
        "1. 자동차 문제"
      ],
      "metadata": {
        "id": "VwpwmGcN_zYk"
      }
    },
    {
      "cell_type": "code",
      "source": [
        "cars=[]\n",
        "n=5\n",
        "for i in range(n):\n",
        "  c_name=input('차종')\n",
        "  c_birth = input('출시년도')\n",
        "  car = {'차종' : c_name, '출시년도':c_birth}\n",
        "  cars.append(car)\n",
        "  print(f'{i+1} 자동차 종류 입력 완료{cars[-1]}')\n",
        "for i in cars:\n",
        "  print(iL)"
      ],
      "metadata": {
        "colab": {
          "base_uri": "https://localhost:8080/"
        },
        "id": "QkfJ-34H5Mpo",
        "outputId": "72744a7d-8cc5-4da2-eb27-a4b6f066b607"
      },
      "execution_count": null,
      "outputs": [
        {
          "output_type": "stream",
          "name": "stdout",
          "text": [
            "차종Gene\n",
            "출시년도2000\n",
            "1 자동차 종류 입력 완료{'차종': 'Gene', '출시년도': '2000'}\n",
            "차종Lex\n",
            "출시년도Infini\n",
            "2 자동차 종류 입력 완료{'차종': 'Lex', '출시년도': 'Infini'}\n",
            "차종Infini\n",
            "출시년도2000\n",
            "3 자동차 종류 입력 완료{'차종': 'Infini', '출시년도': '2000'}\n",
            "차종Lambor\n",
            "출시년도2000\n",
            "4 자동차 종류 입력 완료{'차종': 'Lambor', '출시년도': '2000'}\n",
            "차종Linc\n",
            "출시년도2000\n",
            "5 자동차 종류 입력 완료{'차종': 'Linc', '출시년도': '2000'}\n",
            "{'차종': 'Gene', '출시년도': '2000'}\n",
            "{'차종': 'Lex', '출시년도': 'Infini'}\n",
            "{'차종': 'Infini', '출시년도': '2000'}\n",
            "{'차종': 'Lambor', '출시년도': '2000'}\n",
            "{'차종': 'Linc', '출시년도': '2000'}\n"
          ]
        }
      ]
    },
    {
      "cell_type": "code",
      "source": [
        "cars"
      ],
      "metadata": {
        "colab": {
          "base_uri": "https://localhost:8080/"
        },
        "id": "MMPOyNuj5WYk",
        "outputId": "46cf3cb4-b4f3-427e-8e8e-a9257f8692c2"
      },
      "execution_count": null,
      "outputs": [
        {
          "output_type": "execute_result",
          "data": {
            "text/plain": [
              "[{'차종': 'Gene', '출시년도': '2000'},\n",
              " {'차종': 'Lex', '출시년도': 'Infini'},\n",
              " {'차종': 'Infini', '출시년도': '2000'},\n",
              " {'차종': 'Lambor', '출시년도': '2000'},\n",
              " {'차종': 'Linc', '출시년도': '2000'}]"
            ]
          },
          "metadata": {},
          "execution_count": 40
        }
      ]
    },
    {
      "cell_type": "code",
      "source": [
        "car['차종']='Merce',['출시년도']='2000'"
      ],
      "metadata": {
        "colab": {
          "base_uri": "https://localhost:8080/",
          "height": 137
        },
        "id": "6Zd3cHQq7IJE",
        "outputId": "447649de-d30f-4a9a-eac4-9c061637250b"
      },
      "execution_count": null,
      "outputs": [
        {
          "output_type": "error",
          "ename": "SyntaxError",
          "evalue": "ignored",
          "traceback": [
            "\u001b[0;36m  File \u001b[0;32m\"<ipython-input-41-7c3d5441c62f>\"\u001b[0;36m, line \u001b[0;32m1\u001b[0m\n\u001b[0;31m    car['차종']='Merce',['출시년도']='2000'\u001b[0m\n\u001b[0m                 ^\u001b[0m\n\u001b[0;31mSyntaxError\u001b[0m\u001b[0;31m:\u001b[0m can't assign to literal\n"
          ]
        }
      ]
    },
    {
      "cell_type": "code",
      "source": [
        "cars=[]"
      ],
      "metadata": {
        "id": "usQUsQm174GS"
      },
      "execution_count": null,
      "outputs": []
    },
    {
      "cell_type": "code",
      "source": [
        "type(cars)"
      ],
      "metadata": {
        "colab": {
          "base_uri": "https://localhost:8080/"
        },
        "id": "ihZ3yBGC7618",
        "outputId": "6cbc158f-d6e2-4801-8e06-2f4788155ecc"
      },
      "execution_count": null,
      "outputs": [
        {
          "output_type": "execute_result",
          "data": {
            "text/plain": [
              "list"
            ]
          },
          "metadata": {},
          "execution_count": 43
        }
      ]
    },
    {
      "cell_type": "code",
      "source": [
        "a=['Gene','Lex','Infini','Lambor','Linc']"
      ],
      "metadata": {
        "id": "8YkPV7WH79Q-"
      },
      "execution_count": null,
      "outputs": []
    },
    {
      "cell_type": "code",
      "source": [
        "a.pop(1)"
      ],
      "metadata": {
        "colab": {
          "base_uri": "https://localhost:8080/",
          "height": 35
        },
        "id": "wxvExWcA8OJM",
        "outputId": "65321323-ee21-4382-a2bb-aa1ff525e092"
      },
      "execution_count": null,
      "outputs": [
        {
          "output_type": "execute_result",
          "data": {
            "text/plain": [
              "'Lex'"
            ],
            "application/vnd.google.colaboratory.intrinsic+json": {
              "type": "string"
            }
          },
          "metadata": {},
          "execution_count": 45
        }
      ]
    },
    {
      "cell_type": "code",
      "source": [
        "a"
      ],
      "metadata": {
        "colab": {
          "base_uri": "https://localhost:8080/"
        },
        "id": "oArIsOnt8P_F",
        "outputId": "409d1459-b94b-43f9-b262-8a3c8f155b36"
      },
      "execution_count": null,
      "outputs": [
        {
          "output_type": "execute_result",
          "data": {
            "text/plain": [
              "['Gene', 'Infini', 'Lambor', 'Linc']"
            ]
          },
          "metadata": {},
          "execution_count": 46
        }
      ]
    },
    {
      "cell_type": "code",
      "source": [
        "a.append('Merce')"
      ],
      "metadata": {
        "id": "gg3tjgIR8REf"
      },
      "execution_count": null,
      "outputs": []
    },
    {
      "cell_type": "code",
      "source": [
        "a"
      ],
      "metadata": {
        "colab": {
          "base_uri": "https://localhost:8080/"
        },
        "id": "jwXo57uA8q-h",
        "outputId": "dab0d14d-2bbd-45b4-9d5f-73a2e7513130"
      },
      "execution_count": null,
      "outputs": [
        {
          "output_type": "execute_result",
          "data": {
            "text/plain": [
              "['Gene', 'Infini', 'Lambor', 'Linc', 'Merce']"
            ]
          },
          "metadata": {},
          "execution_count": 48
        }
      ]
    },
    {
      "cell_type": "code",
      "source": [
        "a[0]='Gene 2019년형'"
      ],
      "metadata": {
        "id": "xiiAyC868r-A"
      },
      "execution_count": null,
      "outputs": []
    },
    {
      "cell_type": "code",
      "source": [
        "a"
      ],
      "metadata": {
        "colab": {
          "base_uri": "https://localhost:8080/"
        },
        "id": "k0NPMcwJ9EqT",
        "outputId": "179d9cac-d66b-4219-ec03-c8e35d0fe136"
      },
      "execution_count": null,
      "outputs": [
        {
          "output_type": "execute_result",
          "data": {
            "text/plain": [
              "['Gene 2019년형', 'Infini', 'Lambor', 'Linc', 'Merce']"
            ]
          },
          "metadata": {},
          "execution_count": 50
        }
      ]
    },
    {
      "cell_type": "code",
      "source": [
        "a[1:5]"
      ],
      "metadata": {
        "colab": {
          "base_uri": "https://localhost:8080/"
        },
        "id": "2r7uFFlF9FlS",
        "outputId": "05d29560-0685-4765-cf4c-1d9f2295404f"
      },
      "execution_count": null,
      "outputs": [
        {
          "output_type": "execute_result",
          "data": {
            "text/plain": [
              "['Infini', 'Lambor', 'Linc', 'Merce']"
            ]
          },
          "metadata": {},
          "execution_count": 53
        }
      ]
    },
    {
      "cell_type": "code",
      "source": [
        "a=['Gene','Lex','Infini','Lambor','Linc']\n",
        "a.append('Merce')\n",
        "a.pop(1)\n",
        "a.append('Gene')\n",
        "a[1:4]"
      ],
      "metadata": {
        "colab": {
          "base_uri": "https://localhost:8080/"
        },
        "id": "-J_Ogoa29WMp",
        "outputId": "5be55904-86ce-41d6-f652-9140e652e361"
      },
      "execution_count": null,
      "outputs": [
        {
          "output_type": "execute_result",
          "data": {
            "text/plain": [
              "['Infini', 'Lambor', 'Linc']"
            ]
          },
          "metadata": {},
          "execution_count": 57
        }
      ]
    },
    {
      "cell_type": "markdown",
      "source": [
        "2.수능날 바꾸기 문제 (tuple)"
      ],
      "metadata": {
        "id": "srhMC-2n_cTy"
      }
    },
    {
      "cell_type": "code",
      "source": [
        "exam=(1116,)"
      ],
      "metadata": {
        "id": "PCMZR_Eo_m38"
      },
      "execution_count": null,
      "outputs": []
    },
    {
      "cell_type": "code",
      "source": [
        "exam = (1117,)"
      ],
      "metadata": {
        "id": "afcsJdty_o9G"
      },
      "execution_count": null,
      "outputs": []
    },
    {
      "cell_type": "code",
      "source": [
        "exam"
      ],
      "metadata": {
        "colab": {
          "base_uri": "https://localhost:8080/"
        },
        "id": "SvHZsnPR_rIZ",
        "outputId": "a33f2391-a1c4-497f-87e7-45f36bb89fc2"
      },
      "execution_count": null,
      "outputs": [
        {
          "output_type": "execute_result",
          "data": {
            "text/plain": [
              "(1117,)"
            ]
          },
          "metadata": {},
          "execution_count": 62
        }
      ]
    },
    {
      "cell_type": "markdown",
      "source": [
        "3. 회사 문제(list)"
      ],
      "metadata": {
        "id": "CiZIv9Ce_3Q0"
      }
    },
    {
      "cell_type": "code",
      "source": [
        "comp1 = set(['회장1','이사1','영업1','영업2','생산1','생산2'])"
      ],
      "metadata": {
        "id": "3312OMG9_vPE"
      },
      "execution_count": null,
      "outputs": []
    },
    {
      "cell_type": "code",
      "source": [
        "comp1"
      ],
      "metadata": {
        "colab": {
          "base_uri": "https://localhost:8080/"
        },
        "id": "LcmB-RZGAyJg",
        "outputId": "d7c261ae-2150-4205-8280-a33aa3823bce"
      },
      "execution_count": null,
      "outputs": [
        {
          "output_type": "execute_result",
          "data": {
            "text/plain": [
              "{'생산1', '생산2', '영업1', '영업2', '이사1', '회장1'}"
            ]
          },
          "metadata": {},
          "execution_count": 64
        }
      ]
    },
    {
      "cell_type": "code",
      "source": [
        "comp2 = set(['회장1','사외이사1','영업1','홍보1'])"
      ],
      "metadata": {
        "id": "w0aI1lv2AzmC"
      },
      "execution_count": null,
      "outputs": []
    },
    {
      "cell_type": "code",
      "source": [
        "comp2"
      ],
      "metadata": {
        "colab": {
          "base_uri": "https://localhost:8080/"
        },
        "id": "7jTvmdbwA79Z",
        "outputId": "6bf5407b-d0c7-403e-91ef-b4fc1c57f6f6"
      },
      "execution_count": null,
      "outputs": [
        {
          "output_type": "execute_result",
          "data": {
            "text/plain": [
              "{'사외이사1', '영업1', '홍보1', '회장1'}"
            ]
          },
          "metadata": {},
          "execution_count": 66
        }
      ]
    },
    {
      "cell_type": "code",
      "source": [
        "comp1 |comp2"
      ],
      "metadata": {
        "colab": {
          "base_uri": "https://localhost:8080/"
        },
        "id": "njLAZCqQBRCL",
        "outputId": "ec58728f-83ef-4585-b7f6-e71f2655836d"
      },
      "execution_count": null,
      "outputs": [
        {
          "output_type": "execute_result",
          "data": {
            "text/plain": [
              "{'사외이사1', '생산1', '생산2', '영업1', '영업2', '이사1', '홍보1', '회장1'}"
            ]
          },
          "metadata": {},
          "execution_count": 68
        }
      ]
    },
    {
      "cell_type": "code",
      "source": [
        "comp1 = ['회장1','이사1','영업1','영업2','생산1','생산2']\n",
        "comp2 = ['회장1','사외이사1','영업1','홍보1']\n",
        "set(comp1 +comp2)"
      ],
      "metadata": {
        "colab": {
          "base_uri": "https://localhost:8080/"
        },
        "id": "ty1euB4cBQ9Z",
        "outputId": "1a38a012-a9a5-461c-b55c-d71d588f94a2"
      },
      "execution_count": null,
      "outputs": [
        {
          "output_type": "execute_result",
          "data": {
            "text/plain": [
              "{'사외이사1', '생산1', '생산2', '영업1', '영업2', '이사1', '홍보1', '회장1'}"
            ]
          },
          "metadata": {},
          "execution_count": 69
        }
      ]
    },
    {
      "cell_type": "markdown",
      "source": [
        "4. 학번과 이름을 묶어 관리 학번과 이름이 같을 경우 없애기(dict)\n",
        "\n",
        "정약용 81\n",
        "이순신 85"
      ],
      "metadata": {
        "id": "_bAkc7KhB9JE"
      }
    },
    {
      "cell_type": "code",
      "source": [
        "dict_stu = {81:'정약용', 80:'이순신'}"
      ],
      "metadata": {
        "id": "6LWeqO89Bkki"
      },
      "execution_count": null,
      "outputs": []
    },
    {
      "cell_type": "code",
      "source": [
        "dict_stu"
      ],
      "metadata": {
        "colab": {
          "base_uri": "https://localhost:8080/"
        },
        "id": "fui4hQSICrXO",
        "outputId": "f0f7b926-a821-4466-a250-9ba0adb7f323"
      },
      "execution_count": null,
      "outputs": [
        {
          "output_type": "execute_result",
          "data": {
            "text/plain": [
              "{80: '이순신', 81: '정약용'}"
            ]
          },
          "metadata": {},
          "execution_count": 71
        }
      ]
    },
    {
      "cell_type": "code",
      "source": [
        "dict_stu[80]=\"원균\""
      ],
      "metadata": {
        "id": "g3E9DkEjCue-"
      },
      "execution_count": null,
      "outputs": []
    },
    {
      "cell_type": "code",
      "source": [
        "dict_stu[88]='소인수'"
      ],
      "metadata": {
        "id": "Cr6eWOl8C0us"
      },
      "execution_count": null,
      "outputs": []
    },
    {
      "cell_type": "code",
      "source": [
        "dict_stu"
      ],
      "metadata": {
        "colab": {
          "base_uri": "https://localhost:8080/"
        },
        "id": "qedrChbWC95M",
        "outputId": "75cfc8f5-8f62-4dbf-9e5e-37ba10946f6a"
      },
      "execution_count": null,
      "outputs": [
        {
          "output_type": "execute_result",
          "data": {
            "text/plain": [
              "{80: '원균', 81: '정약용', 88: '소인수'}"
            ]
          },
          "metadata": {},
          "execution_count": 75
        }
      ]
    },
    {
      "cell_type": "code",
      "source": [
        "del dict_stu[80]"
      ],
      "metadata": {
        "id": "qOz0v7VADAtm"
      },
      "execution_count": null,
      "outputs": []
    },
    {
      "cell_type": "code",
      "source": [
        "dict_stu"
      ],
      "metadata": {
        "colab": {
          "base_uri": "https://localhost:8080/"
        },
        "id": "Lsoh0el3DDDe",
        "outputId": "20aa276f-df6a-4eb7-8a2d-5ef4854a35e2"
      },
      "execution_count": null,
      "outputs": [
        {
          "output_type": "execute_result",
          "data": {
            "text/plain": [
              "{81: '정약용', 88: '소인수'}"
            ]
          },
          "metadata": {},
          "execution_count": 77
        }
      ]
    },
    {
      "cell_type": "code",
      "source": [
        "dict_stu = {81:'정약용', 80:'이순신'}\n",
        "dict_stu[80]=\"원균\"\n",
        "dict_stu[88]='소인수'\n",
        "del dict_stu[88]"
      ],
      "metadata": {
        "id": "SZl8PgPPDMxR"
      },
      "execution_count": null,
      "outputs": []
    },
    {
      "cell_type": "markdown",
      "source": [
        "5.책기호, 책이름 관리 규칙과 자료형만들기"
      ],
      "metadata": {
        "id": "VnIG7MlKEjZl"
      }
    },
    {
      "cell_type": "code",
      "source": [
        "book={1:'어린왕자', '2':'노인과 산'}"
      ],
      "metadata": {
        "id": "UME2omiyEmhA"
      },
      "execution_count": null,
      "outputs": []
    },
    {
      "cell_type": "code",
      "source": [
        ""
      ],
      "metadata": {
        "id": "PfB4yY-iFnoX"
      },
      "execution_count": null,
      "outputs": []
    },
    {
      "cell_type": "markdown",
      "source": [
        "6. 가게의 상품과 가격을 매칭 "
      ],
      "metadata": {
        "id": "UJgJQopXEv-j"
      }
    },
    {
      "cell_type": "code",
      "source": [
        "store = {'마우스' : 35000, '키보드': 500000}"
      ],
      "metadata": {
        "id": "hQkulyGOFL8y"
      },
      "execution_count": null,
      "outputs": []
    },
    {
      "cell_type": "code",
      "source": [
        "store"
      ],
      "metadata": {
        "colab": {
          "base_uri": "https://localhost:8080/"
        },
        "id": "_PUCP4YGFNC3",
        "outputId": "c56a54d6-8a3c-407d-8739-bd7e36db807d"
      },
      "execution_count": null,
      "outputs": [
        {
          "output_type": "execute_result",
          "data": {
            "text/plain": [
              "{'가격': '3000', '상품명 ': '설레임'}"
            ]
          },
          "metadata": {},
          "execution_count": 81
        }
      ]
    },
    {
      "cell_type": "markdown",
      "source": [
        "7. 일회조직 5명 a,b,c,d,e,"
      ],
      "metadata": {
        "id": "p9eiNhv6FO8v"
      }
    },
    {
      "cell_type": "code",
      "source": [
        "a= {'a','b','c','d','e'}"
      ],
      "metadata": {
        "id": "fLsJXmjmF77Y"
      },
      "execution_count": null,
      "outputs": []
    },
    {
      "cell_type": "code",
      "source": [
        "b = {'b','c','d'}"
      ],
      "metadata": {
        "id": "r6rWJSJNGAOc"
      },
      "execution_count": null,
      "outputs": []
    },
    {
      "cell_type": "code",
      "source": [
        "b<=a"
      ],
      "metadata": {
        "colab": {
          "base_uri": "https://localhost:8080/"
        },
        "id": "upEmyITnGFYW",
        "outputId": "7666580d-95ff-4475-8b29-a2a7cdc5a1c3"
      },
      "execution_count": null,
      "outputs": [
        {
          "output_type": "execute_result",
          "data": {
            "text/plain": [
              "True"
            ]
          },
          "metadata": {},
          "execution_count": 88
        }
      ]
    },
    {
      "cell_type": "code",
      "source": [
        "if b<=a:\n",
        "  del b"
      ],
      "metadata": {
        "colab": {
          "base_uri": "https://localhost:8080/",
          "height": 193
        },
        "id": "6uInJiexGM4j",
        "outputId": "74fcdcc0-d5bd-463a-d0e1-ad454e08a434"
      },
      "execution_count": null,
      "outputs": [
        {
          "output_type": "error",
          "ename": "NameError",
          "evalue": "ignored",
          "traceback": [
            "\u001b[0;31m---------------------------------------------------------------------------\u001b[0m",
            "\u001b[0;31mNameError\u001b[0m                                 Traceback (most recent call last)",
            "\u001b[0;32m<ipython-input-92-c1e50344b5f0>\u001b[0m in \u001b[0;36m<module>\u001b[0;34m()\u001b[0m\n\u001b[0;32m----> 1\u001b[0;31m \u001b[0;32mif\u001b[0m \u001b[0mb\u001b[0m\u001b[0;34m<=\u001b[0m\u001b[0ma\u001b[0m\u001b[0;34m:\u001b[0m\u001b[0;34m\u001b[0m\u001b[0;34m\u001b[0m\u001b[0m\n\u001b[0m\u001b[1;32m      2\u001b[0m   \u001b[0;32mdel\u001b[0m \u001b[0mb\u001b[0m\u001b[0;34m\u001b[0m\u001b[0;34m\u001b[0m\u001b[0m\n",
            "\u001b[0;31mNameError\u001b[0m: name 'b' is not defined"
          ]
        }
      ]
    },
    {
      "cell_type": "code",
      "source": [
        "a= {'믹스':[2,6000]}\n",
        "b= {'종이컵':[3,15000]}\n",
        "c= {'커피스틱':[1,3000]}"
      ],
      "metadata": {
        "id": "o3q-rLNmJyi9"
      },
      "execution_count": null,
      "outputs": []
    },
    {
      "cell_type": "code",
      "source": [
        "store = {'품명':'믹스','가격':6000,'현재 개수':2},{'품명':'종이컵','가격':15000,'현재 개수':3},{'품명':'커피스틱','가격':3000,'현재 개수':1}"
      ],
      "metadata": {
        "id": "U_PILp9CSico"
      },
      "execution_count": null,
      "outputs": []
    },
    {
      "cell_type": "code",
      "source": [
        "store = {'믹스':[6000,2],'종이컵':[15000,3],'커피스틱':[3000,1]}\n",
        "money_sum =0\n",
        "for i in store:\n",
        "  ea = 3-store[i][1]\n",
        "  if ea>0:\n",
        "    money = ea*store[i][0]\n",
        "    print(i,ea,money)\n",
        "    money_sum += money\n",
        "print(f'총 필요비용 : {money_sum}')"
      ],
      "metadata": {
        "colab": {
          "base_uri": "https://localhost:8080/"
        },
        "id": "NkqZL2gPS1Qk",
        "outputId": "11d9f587-179f-41b5-e4a9-248ebacbb3ca"
      },
      "execution_count": null,
      "outputs": [
        {
          "output_type": "stream",
          "name": "stdout",
          "text": [
            "믹스 1 6000\n",
            "커피스틱 2 6000\n",
            "총 필요비용 : 12000\n"
          ]
        }
      ]
    },
    {
      "cell_type": "code",
      "source": [
        "for i in range(3):\n",
        "  if a<=3:\n",
        "    a.append()"
      ],
      "metadata": {
        "id": "7eGYnyZyPL7V"
      },
      "execution_count": null,
      "outputs": []
    },
    {
      "cell_type": "code",
      "source": [
        "numb = [2,7,11,15]\n",
        "target=9\n",
        "\n"
      ],
      "metadata": {
        "colab": {
          "base_uri": "https://localhost:8080/"
        },
        "id": "E2MSRU8lNBou",
        "outputId": "66fe1c08-704d-4b15-b4c6-5ad7eeec74c9"
      },
      "execution_count": null,
      "outputs": [
        {
          "output_type": "execute_result",
          "data": {
            "text/plain": [
              "9"
            ]
          },
          "metadata": {},
          "execution_count": 101
        }
      ]
    },
    {
      "cell_type": "code",
      "source": [
        "a = [0,1,2,3,4,5,6,7,8,9]"
      ],
      "metadata": {
        "id": "zV29zzkioOO1"
      },
      "execution_count": null,
      "outputs": []
    },
    {
      "cell_type": "code",
      "source": [
        "a_list[i=10 for i in range(10)]"
      ],
      "metadata": {
        "colab": {
          "base_uri": "https://localhost:8080/",
          "height": 137
        },
        "id": "1xYMpZwznVnn",
        "outputId": "db7db33f-0199-4954-e594-9a33812685cc"
      },
      "execution_count": null,
      "outputs": [
        {
          "output_type": "error",
          "ename": "SyntaxError",
          "evalue": "ignored",
          "traceback": [
            "\u001b[0;36m  File \u001b[0;32m\"<ipython-input-9-610ad351964c>\"\u001b[0;36m, line \u001b[0;32m1\u001b[0m\n\u001b[0;31m    a_list[i=10 for i in range(10)]\u001b[0m\n\u001b[0m            ^\u001b[0m\n\u001b[0;31mSyntaxError\u001b[0m\u001b[0;31m:\u001b[0m invalid syntax\n"
          ]
        }
      ]
    },
    {
      "cell_type": "code",
      "source": [
        "a_list"
      ],
      "metadata": {
        "colab": {
          "base_uri": "https://localhost:8080/",
          "height": 174
        },
        "id": "MoTL-H3HnbZ3",
        "outputId": "b2da0e81-c9b2-4955-a15c-128b54d0bb8d"
      },
      "execution_count": null,
      "outputs": [
        {
          "output_type": "error",
          "ename": "NameError",
          "evalue": "ignored",
          "traceback": [
            "\u001b[0;31m---------------------------------------------------------------------------\u001b[0m",
            "\u001b[0;31mNameError\u001b[0m                                 Traceback (most recent call last)",
            "\u001b[0;32m<ipython-input-10-4aaffda70770>\u001b[0m in \u001b[0;36m<module>\u001b[0;34m()\u001b[0m\n\u001b[0;32m----> 1\u001b[0;31m \u001b[0ma_list\u001b[0m\u001b[0;34m\u001b[0m\u001b[0;34m\u001b[0m\u001b[0m\n\u001b[0m",
            "\u001b[0;31mNameError\u001b[0m: name 'a_list' is not defined"
          ]
        }
      ]
    },
    {
      "cell_type": "code",
      "source": [
        "sudong_list = []\n",
        "for i in range(10):\n",
        "  sudong_list.append(i*10)"
      ],
      "metadata": {
        "id": "UAiZzUisnc6B"
      },
      "execution_count": null,
      "outputs": []
    },
    {
      "cell_type": "code",
      "source": [
        "sudong_list"
      ],
      "metadata": {
        "colab": {
          "base_uri": "https://localhost:8080/"
        },
        "id": "IcurhYcUnj1n",
        "outputId": "d82c5d07-e938-49c7-819c-398123c52411"
      },
      "execution_count": null,
      "outputs": [
        {
          "output_type": "execute_result",
          "data": {
            "text/plain": [
              "[0, 10, 20, 30, 40, 50, 60, 70, 80, 90]"
            ]
          },
          "metadata": {},
          "execution_count": 4
        }
      ]
    },
    {
      "cell_type": "code",
      "source": [
        "auto_dict = {i:i*10 for i in range(10)}"
      ],
      "metadata": {
        "id": "NoZI4AEOnl8G"
      },
      "execution_count": null,
      "outputs": []
    },
    {
      "cell_type": "code",
      "source": [
        "sudong_dict = {}  #set{}\n",
        "for i in range(10):\n",
        "  sudong_dict[i]=i*10"
      ],
      "metadata": {
        "id": "6vSirbCTnriS"
      },
      "execution_count": null,
      "outputs": []
    },
    {
      "cell_type": "code",
      "source": [
        "b_tuple = (i*10 for i in range(10))"
      ],
      "metadata": {
        "id": "-ebbk8QWnrdh"
      },
      "execution_count": null,
      "outputs": []
    },
    {
      "cell_type": "code",
      "source": [
        "for i in b_tuple:\n",
        "  print(i)"
      ],
      "metadata": {
        "colab": {
          "base_uri": "https://localhost:8080/"
        },
        "id": "kHAItITdpE06",
        "outputId": "c686685d-fb04-4bb8-f35a-492d02612311"
      },
      "execution_count": null,
      "outputs": [
        {
          "output_type": "stream",
          "name": "stdout",
          "text": [
            "0\n",
            "10\n",
            "20\n",
            "30\n",
            "40\n",
            "50\n",
            "60\n",
            "70\n",
            "80\n",
            "90\n"
          ]
        }
      ]
    },
    {
      "cell_type": "code",
      "source": [
        "type(b_tuple)"
      ],
      "metadata": {
        "colab": {
          "base_uri": "https://localhost:8080/"
        },
        "id": "QnbmBJtnpNZl",
        "outputId": "2bc46ca3-c630-417f-99f0-c8004ee14987"
      },
      "execution_count": null,
      "outputs": [
        {
          "output_type": "execute_result",
          "data": {
            "text/plain": [
              "generator"
            ]
          },
          "metadata": {},
          "execution_count": 15
        }
      ]
    },
    {
      "cell_type": "code",
      "source": [
        "b_tuple"
      ],
      "metadata": {
        "colab": {
          "base_uri": "https://localhost:8080/"
        },
        "id": "Fra4n4h4pPYH",
        "outputId": "6faf3517-7ace-495d-a8a3-9876ee061c79"
      },
      "execution_count": null,
      "outputs": [
        {
          "output_type": "execute_result",
          "data": {
            "text/plain": [
              "<generator object <genexpr> at 0x7f665e7c8950>"
            ]
          },
          "metadata": {},
          "execution_count": 19
        }
      ]
    },
    {
      "cell_type": "code",
      "source": [
        "b_list = [(i,j) for i in range(10) for j in range(10)]"
      ],
      "metadata": {
        "id": "IrBDtmwHppwk"
      },
      "execution_count": null,
      "outputs": []
    },
    {
      "cell_type": "code",
      "source": [
        "b_list"
      ],
      "metadata": {
        "colab": {
          "base_uri": "https://localhost:8080/"
        },
        "id": "V4qhZuCTpu69",
        "outputId": "e7a4b706-d4c7-4518-ba30-845d83608fd9"
      },
      "execution_count": null,
      "outputs": [
        {
          "output_type": "execute_result",
          "data": {
            "text/plain": [
              "[(0, 0),\n",
              " (0, 1),\n",
              " (0, 2),\n",
              " (0, 3),\n",
              " (0, 4),\n",
              " (0, 5),\n",
              " (0, 6),\n",
              " (0, 7),\n",
              " (0, 8),\n",
              " (0, 9),\n",
              " (1, 0),\n",
              " (1, 1),\n",
              " (1, 2),\n",
              " (1, 3),\n",
              " (1, 4),\n",
              " (1, 5),\n",
              " (1, 6),\n",
              " (1, 7),\n",
              " (1, 8),\n",
              " (1, 9),\n",
              " (2, 0),\n",
              " (2, 1),\n",
              " (2, 2),\n",
              " (2, 3),\n",
              " (2, 4),\n",
              " (2, 5),\n",
              " (2, 6),\n",
              " (2, 7),\n",
              " (2, 8),\n",
              " (2, 9),\n",
              " (3, 0),\n",
              " (3, 1),\n",
              " (3, 2),\n",
              " (3, 3),\n",
              " (3, 4),\n",
              " (3, 5),\n",
              " (3, 6),\n",
              " (3, 7),\n",
              " (3, 8),\n",
              " (3, 9),\n",
              " (4, 0),\n",
              " (4, 1),\n",
              " (4, 2),\n",
              " (4, 3),\n",
              " (4, 4),\n",
              " (4, 5),\n",
              " (4, 6),\n",
              " (4, 7),\n",
              " (4, 8),\n",
              " (4, 9),\n",
              " (5, 0),\n",
              " (5, 1),\n",
              " (5, 2),\n",
              " (5, 3),\n",
              " (5, 4),\n",
              " (5, 5),\n",
              " (5, 6),\n",
              " (5, 7),\n",
              " (5, 8),\n",
              " (5, 9),\n",
              " (6, 0),\n",
              " (6, 1),\n",
              " (6, 2),\n",
              " (6, 3),\n",
              " (6, 4),\n",
              " (6, 5),\n",
              " (6, 6),\n",
              " (6, 7),\n",
              " (6, 8),\n",
              " (6, 9),\n",
              " (7, 0),\n",
              " (7, 1),\n",
              " (7, 2),\n",
              " (7, 3),\n",
              " (7, 4),\n",
              " (7, 5),\n",
              " (7, 6),\n",
              " (7, 7),\n",
              " (7, 8),\n",
              " (7, 9),\n",
              " (8, 0),\n",
              " (8, 1),\n",
              " (8, 2),\n",
              " (8, 3),\n",
              " (8, 4),\n",
              " (8, 5),\n",
              " (8, 6),\n",
              " (8, 7),\n",
              " (8, 8),\n",
              " (8, 9),\n",
              " (9, 0),\n",
              " (9, 1),\n",
              " (9, 2),\n",
              " (9, 3),\n",
              " (9, 4),\n",
              " (9, 5),\n",
              " (9, 6),\n",
              " (9, 7),\n",
              " (9, 8),\n",
              " (9, 9)]"
            ]
          },
          "metadata": {},
          "execution_count": 21
        }
      ]
    },
    {
      "cell_type": "code",
      "source": [
        "a_list = [10,30,50,70,90]"
      ],
      "metadata": {
        "id": "ajP9qt9gpxiB"
      },
      "execution_count": null,
      "outputs": []
    },
    {
      "cell_type": "code",
      "source": [
        "a_list"
      ],
      "metadata": {
        "colab": {
          "base_uri": "https://localhost:8080/"
        },
        "id": "nUjHK4VDqz2U",
        "outputId": "535fcd97-a5a1-4eee-a199-8682b092ec6f"
      },
      "execution_count": null,
      "outputs": [
        {
          "output_type": "execute_result",
          "data": {
            "text/plain": [
              "[10, 30, 50, 70, 90]"
            ]
          },
          "metadata": {},
          "execution_count": 24
        }
      ]
    },
    {
      "cell_type": "code",
      "source": [
        "b_list[:3]"
      ],
      "metadata": {
        "colab": {
          "base_uri": "https://localhost:8080/"
        },
        "id": "O12GIxfJq0_i",
        "outputId": "8701fd55-dc9e-4c8b-d4d2-0785340122a1"
      },
      "execution_count": null,
      "outputs": [
        {
          "output_type": "execute_result",
          "data": {
            "text/plain": [
              "[(0, 0), (0, 1), (0, 2)]"
            ]
          },
          "metadata": {},
          "execution_count": 25
        }
      ]
    },
    {
      "cell_type": "code",
      "source": [
        "a_list.extend(b_list[:3])"
      ],
      "metadata": {
        "id": "3UnIMpn-rAsN"
      },
      "execution_count": null,
      "outputs": []
    },
    {
      "cell_type": "code",
      "source": [
        "a_list"
      ],
      "metadata": {
        "colab": {
          "base_uri": "https://localhost:8080/"
        },
        "id": "DYpS2X4WrE_F",
        "outputId": "6a97bd06-83e5-4560-c584-f4a66caa6178"
      },
      "execution_count": null,
      "outputs": [
        {
          "output_type": "execute_result",
          "data": {
            "text/plain": [
              "[10, 30, 50, 70, 90, (0, 0), (0, 1), (0, 2)]"
            ]
          },
          "metadata": {},
          "execution_count": 27
        }
      ]
    },
    {
      "cell_type": "code",
      "source": [
        "b_list = [i*10 for i  in range(10) ifi%2=0]"
      ],
      "metadata": {
        "colab": {
          "base_uri": "https://localhost:8080/",
          "height": 137
        },
        "id": "lxKmHl-vrWvN",
        "outputId": "2b40cc58-901b-43c8-bdb1-0a9e90d131b9"
      },
      "execution_count": null,
      "outputs": [
        {
          "output_type": "error",
          "ename": "SyntaxError",
          "evalue": "ignored",
          "traceback": [
            "\u001b[0;36m  File \u001b[0;32m\"<ipython-input-29-fe813f3be3fe>\"\u001b[0;36m, line \u001b[0;32m1\u001b[0m\n\u001b[0;31m    b_list = [i*10 for i  in range(10) ifi%2=0]\u001b[0m\n\u001b[0m                                         ^\u001b[0m\n\u001b[0;31mSyntaxError\u001b[0m\u001b[0;31m:\u001b[0m invalid syntax\n"
          ]
        }
      ]
    },
    {
      "cell_type": "code",
      "source": [
        "a_list"
      ],
      "metadata": {
        "colab": {
          "base_uri": "https://localhost:8080/"
        },
        "id": "T24Q6utPrzBK",
        "outputId": "ca614042-dcca-415a-8a0e-cf376516ecb5"
      },
      "execution_count": null,
      "outputs": [
        {
          "output_type": "execute_result",
          "data": {
            "text/plain": [
              "[10, 30, 50, 70, 90, (0, 0), (0, 1), (0, 2)]"
            ]
          },
          "metadata": {},
          "execution_count": 30
        }
      ]
    },
    {
      "cell_type": "code",
      "source": [
        "a_list[-1]"
      ],
      "metadata": {
        "colab": {
          "base_uri": "https://localhost:8080/"
        },
        "id": "BP5ddiumr0vV",
        "outputId": "c0055aed-af4f-4498-82c8-86666a359bbf"
      },
      "execution_count": null,
      "outputs": [
        {
          "output_type": "execute_result",
          "data": {
            "text/plain": [
              "(0, 2)"
            ]
          },
          "metadata": {},
          "execution_count": 31
        }
      ]
    },
    {
      "cell_type": "code",
      "source": [
        "dir()"
      ],
      "metadata": {
        "id": "uWLc6GuHsJSU",
        "outputId": "176b408b-aa1a-4c8a-c458-e78a308eca0a",
        "colab": {
          "base_uri": "https://localhost:8080/"
        }
      },
      "execution_count": null,
      "outputs": [
        {
          "output_type": "execute_result",
          "data": {
            "text/plain": [
              "['In',\n",
              " 'Out',\n",
              " '_',\n",
              " '_12',\n",
              " '_15',\n",
              " '_17',\n",
              " '_19',\n",
              " '_21',\n",
              " '_24',\n",
              " '_25',\n",
              " '_27',\n",
              " '_28',\n",
              " '_30',\n",
              " '_31',\n",
              " '_4',\n",
              " '__',\n",
              " '___',\n",
              " '__builtin__',\n",
              " '__builtins__',\n",
              " '__doc__',\n",
              " '__loader__',\n",
              " '__name__',\n",
              " '__package__',\n",
              " '__spec__',\n",
              " '_dh',\n",
              " '_i',\n",
              " '_i1',\n",
              " '_i10',\n",
              " '_i11',\n",
              " '_i12',\n",
              " '_i13',\n",
              " '_i14',\n",
              " '_i15',\n",
              " '_i16',\n",
              " '_i17',\n",
              " '_i18',\n",
              " '_i19',\n",
              " '_i2',\n",
              " '_i20',\n",
              " '_i21',\n",
              " '_i22',\n",
              " '_i23',\n",
              " '_i24',\n",
              " '_i25',\n",
              " '_i26',\n",
              " '_i27',\n",
              " '_i28',\n",
              " '_i29',\n",
              " '_i3',\n",
              " '_i30',\n",
              " '_i31',\n",
              " '_i32',\n",
              " '_i4',\n",
              " '_i5',\n",
              " '_i6',\n",
              " '_i7',\n",
              " '_i8',\n",
              " '_i9',\n",
              " '_ih',\n",
              " '_ii',\n",
              " '_iii',\n",
              " '_oh',\n",
              " '_sh',\n",
              " 'a',\n",
              " 'a_list',\n",
              " 'auto_dict',\n",
              " 'b_list',\n",
              " 'b_tuple',\n",
              " 'exit',\n",
              " 'get_ipython',\n",
              " 'i',\n",
              " 'quit',\n",
              " 'sudong_dict',\n",
              " 'sudong_list']"
            ]
          },
          "metadata": {},
          "execution_count": 32
        }
      ]
    }
  ]
}