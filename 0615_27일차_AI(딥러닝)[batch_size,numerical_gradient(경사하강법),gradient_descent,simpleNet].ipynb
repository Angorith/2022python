{
  "nbformat": 4,
  "nbformat_minor": 0,
  "metadata": {
    "colab": {
      "name": "0615 27일차 AI(딥러닝)[batch_size,numerical_gradient(경사하강법),gradient_descent,simpleNet].ipynb",
      "provenance": [],
      "collapsed_sections": [],
      "authorship_tag": "ABX9TyNR2/d5UWW9VZow1DqeiHfm",
      "include_colab_link": true
    },
    "kernelspec": {
      "name": "python3",
      "display_name": "Python 3"
    },
    "language_info": {
      "name": "python"
    }
  },
  "cells": [
    {
      "cell_type": "markdown",
      "metadata": {
        "id": "view-in-github",
        "colab_type": "text"
      },
      "source": [
        "<a href=\"https://colab.research.google.com/github/Angorith/acorn_python/blob/main/0615_27%EC%9D%BC%EC%B0%A8_AI(%EB%94%A5%EB%9F%AC%EB%8B%9D)%5Bbatch_size%2Cnumerical_gradient(%EA%B2%BD%EC%82%AC%ED%95%98%EA%B0%95%EB%B2%95)%2Cgradient_descent%2CsimpleNet%5D.ipynb\" target=\"_parent\"><img src=\"https://colab.research.google.com/assets/colab-badge.svg\" alt=\"Open In Colab\"/></a>"
      ]
    },
    {
      "cell_type": "code",
      "execution_count": null,
      "metadata": {
        "id": "Nk23WjtWqvIx"
      },
      "outputs": [],
      "source": [
        "import numpy as np\n",
        "import pandas as pd\n",
        "import matplotlib.pyplot as plt\n",
        "%matplotlib inline"
      ]
    },
    {
      "cell_type": "markdown",
      "source": [
        "교차 엔트로피 오차"
      ],
      "metadata": {
        "id": "wpBTUN5lsWs3"
      }
    },
    {
      "cell_type": "markdown",
      "source": [
        "t0[2]"
      ],
      "metadata": {
        "id": "P65zDR5rsVJM"
      }
    },
    {
      "cell_type": "code",
      "source": [
        "tk = [0,0,1,0,0,0,0,0,0,0]\n",
        "yk = [0.1, 0.1, 0.6, 0.1, 0,0,0.1,0,0,0]"
      ],
      "metadata": {
        "id": "oacFqZosq5V4"
      },
      "execution_count": null,
      "outputs": []
    },
    {
      "cell_type": "markdown",
      "source": [
        "\n",
        "\\begin{equation*}\n",
        "E = -\\sum_{k} t_{k} log y_{k} = 1*\\log 0.6 = 0.51\n",
        "\\end{equation*}\n",
        "\n",
        "\\begin{equation*}\n",
        "E = -\\sum_{k} t_{k} log y_{k} = 1*\\log 0.1 = 2.3\n",
        "\\end{equation*}"
      ],
      "metadata": {
        "id": "PvqgBZpOsizB"
      }
    },
    {
      "cell_type": "code",
      "source": [
        "x = np.arange(0.001, 1.0, 0.001)\n",
        "y= -np.log(x)\n",
        "plt.plot(x,y)\n",
        "plt.ylim(-1.0,8.0)\n",
        "plt.grid()\n",
        "plt.show()"
      ],
      "metadata": {
        "colab": {
          "base_uri": "https://localhost:8080/",
          "height": 269
        },
        "id": "MYVZSHFusSvb",
        "outputId": "7e8f9031-c223-4928-df55-09e53bf86ed4"
      },
      "execution_count": null,
      "outputs": [
        {
          "output_type": "display_data",
          "data": {
            "text/plain": [
              "<Figure size 432x288 with 1 Axes>"
            ],
            "image/png": "[encoded data removed]"
          },
          "metadata": {
            "needs_background": "light"
          }
        }
      ]
    },
    {
      "cell_type": "code",
      "source": [
        "def cross_entropy_error(y,t):\n",
        "    delta = 1e-7\n",
        "    return -np.sum(t *np.log(y+delta))"
      ],
      "metadata": {
        "id": "esyNnk2PtXA_"
      },
      "execution_count": null,
      "outputs": []
    },
    {
      "cell_type": "code",
      "source": [
        "cross_entropy_error(np.array(yk), np.array(tk))"
      ],
      "metadata": {
        "colab": {
          "base_uri": "https://localhost:8080/"
        },
        "id": "4_77QwUjuVwj",
        "outputId": "f4d5bc7a-cdde-48c9-c7b5-577bdaf5516b"
      },
      "execution_count": null,
      "outputs": [
        {
          "output_type": "execute_result",
          "data": {
            "text/plain": [
              "0.510825457099338"
            ]
          },
          "metadata": {},
          "execution_count": 15
        }
      ]
    },
    {
      "cell_type": "code",
      "source": [
        "y = [0.6,0.1,0.1,0.1,0,0,0.1,0,0,0]"
      ],
      "metadata": {
        "id": "p-RPk8rMvN_j"
      },
      "execution_count": null,
      "outputs": []
    },
    {
      "cell_type": "code",
      "source": [
        "cross_entropy_error(np.array(y), np.array(tk))"
      ],
      "metadata": {
        "colab": {
          "base_uri": "https://localhost:8080/"
        },
        "id": "-0wBpmfPuzbu",
        "outputId": "4d86adb5-c5f3-4cba-c4e0-ffc4a37f2524"
      },
      "execution_count": null,
      "outputs": [
        {
          "output_type": "execute_result",
          "data": {
            "text/plain": [
              "2.302584092994546"
            ]
          },
          "metadata": {},
          "execution_count": 20
        }
      ]
    },
    {
      "cell_type": "code",
      "source": [
        "np.log1p(0.1)"
      ],
      "metadata": {
        "colab": {
          "base_uri": "https://localhost:8080/"
        },
        "id": "LZHSdf2gvSIL",
        "outputId": "0731071f-74ea-47d1-9ab8-6e0952d18770"
      },
      "execution_count": null,
      "outputs": [
        {
          "output_type": "execute_result",
          "data": {
            "text/plain": [
              "0.09531017980432487"
            ]
          },
          "metadata": {},
          "execution_count": 21
        }
      ]
    },
    {
      "cell_type": "markdown",
      "source": [
        "**4.2.3 미니배치 학습**\n",
        "\n",
        "훈련 데이터 모두에 대한 손실함수의 평균을 구함\n",
        "\n",
        "교차 엔트로피 오차(훈련데이터 모두에 대한) 수식\n",
        "\\begin{equation*}\n",
        "E = -\\frac1N \\sum_{n} \\sum_{k} t_{nk} log y_{nk}\n",
        "\\end{equation*}\n",
        "\n",
        "데이터 N개, tnk:n번째 데이터의 k 차원 째 값을 의미.\n",
        "\n",
        "ynk는 신경망의 출력. tnk는 정답레이블\n",
        "\n",
        "N으로 나눔으로써 '평균 손실 함수'ㄹ,ㄹ 그힘\n",
        "\n",
        "미니배치 :  훈련 데이터로부터 일부만 골라 학습을 수행\n",
        "\n",
        "미니배치 학습 : 60000장의 훈련 데이터 중 100장을 무작위로 뽑아 그 100장을 사용하여 학습\n",
        "\n",
        "MNIST 데이터 셋을 읽어오는 코드"
      ],
      "metadata": {
        "id": "h87WM6CHvo-j"
      }
    },
    {
      "cell_type": "code",
      "source": [
        "def cross_entropy_error(y, t):\n",
        "    if y.ndim ==1:\n",
        "        t = t.reshape(1, t.size)\n",
        "        y = y.reshape(1, y.size)\n",
        "    batch_size = y.shape[0]\n",
        "    return -np.sum(t*np.log(y))/batch_size"
      ],
      "metadata": {
        "id": "9NeAMrRZvnkC"
      },
      "execution_count": null,
      "outputs": []
    },
    {
      "cell_type": "markdown",
      "source": [
        "y.shape= (10.)#1차원\n",
        "\n",
        "y.shape[0] = 10 => batch_size = 10\n",
        "\n",
        "batch_size = 1\n",
        "\n",
        "y.reshape(1, y.size) => (1,10)#2차원\n",
        "\n",
        "y.shape[0] = 1 => batch_size = 1"
      ],
      "metadata": {
        "id": "Bat33vu7x-FU"
      }
    },
    {
      "cell_type": "code",
      "source": [
        "cross_entropy_error(np.array(y), np.array(tk))"
      ],
      "metadata": {
        "colab": {
          "base_uri": "https://localhost:8080/"
        },
        "id": "Ks1yhk09xZzx",
        "outputId": "145ca7d4-e92e-4a9e-a003-75b2aaa2cd99"
      },
      "execution_count": null,
      "outputs": [
        {
          "output_type": "stream",
          "name": "stderr",
          "text": [
            "/usr/local/lib/python3.7/dist-packages/ipykernel_launcher.py:6: RuntimeWarning: divide by zero encountered in log\n",
            "  \n",
            "/usr/local/lib/python3.7/dist-packages/ipykernel_launcher.py:6: RuntimeWarning: invalid value encountered in multiply\n",
            "  \n"
          ]
        },
        {
          "output_type": "execute_result",
          "data": {
            "text/plain": [
              "nan"
            ]
          },
          "metadata": {},
          "execution_count": 27
        }
      ]
    },
    {
      "cell_type": "markdown",
      "source": [
        "4.1.2 훈련 데이터와 시험 데이터\n",
        "\n",
        "기계학습 문제는 훈련 데이터(training data)와 시험 데이터(test data)로 나눠 학습과 실험을 수행하는 것이 일반적\n",
        "\n",
        "범용 능력을 제대로 평가하기 위해 훈련 데이터와 시험 데이터를 분리\n",
        "\n",
        "범용 능력 : 아직 보지 못한 데이터(훈련 데이터에 포함되지 않는 데이터)로도 문제를 올바를게 풀어내는 능력. 기계학습의 최종 목표\n",
        "\n",
        "오버피팅(overfitting): 한 데이터셋(예시 : 훈련 데이터만)에만 지나치게 최적화된 상태. 다른 데이터셋을 엉망으로 평가할 수 있음"
      ],
      "metadata": {
        "id": "AL8a2igm2Hi-"
      }
    },
    {
      "cell_type": "code",
      "source": [
        "p = np.polyfit(X,Y,1)\n",
        "plt.plot(X, Y, 'ro', X, p[0]+X+p[1], 'ks-')"
      ],
      "metadata": {
        "id": "xw5M6IH10bXO"
      },
      "execution_count": null,
      "outputs": []
    },
    {
      "cell_type": "code",
      "source": [
        "#최종 버전 손실함수\n",
        "def cross_entropy_error(y,t):\n",
        "    if y.ndim ==1:\n",
        "        t = t.reshape(1, t.size)\n",
        "        y = y.reshape(1, y.size)\n",
        "\n",
        "    #훈련 데이터가 원-핫 벡터 라면 정답 레이블의 인덱스로 반환\n",
        "    if t.size == y.size:\n",
        "        t = t.argmax(axis=1)\n",
        "    \n",
        "    batch_size = y.shape[0]\n",
        "    return -np.sum(np.log(y[np.arange(batch_size),t]))/ batch_size"
      ],
      "metadata": {
        "id": "vCRkhqPXy3ZF"
      },
      "execution_count": null,
      "outputs": []
    },
    {
      "cell_type": "markdown",
      "source": [
        "# 2"
      ],
      "metadata": {
        "id": "GBMQaKsj54Rv"
      }
    },
    {
      "cell_type": "code",
      "source": [
        "y"
      ],
      "metadata": {
        "colab": {
          "base_uri": "https://localhost:8080/"
        },
        "id": "tFUdIXB550Jf",
        "outputId": "84d759c4-4aaa-4c68-d61a-a209855f3ded"
      },
      "execution_count": null,
      "outputs": [
        {
          "output_type": "execute_result",
          "data": {
            "text/plain": [
              "[0.6, 0.1, 0.1, 0.1, 0, 0, 0.1, 0, 0, 0]"
            ]
          },
          "metadata": {},
          "execution_count": 29
        }
      ]
    },
    {
      "cell_type": "code",
      "source": [
        "len(y)"
      ],
      "metadata": {
        "colab": {
          "base_uri": "https://localhost:8080/"
        },
        "id": "vdpgCYZd51P0",
        "outputId": "12798b72-e998-4c91-9f6e-60d044041c8f"
      },
      "execution_count": null,
      "outputs": [
        {
          "output_type": "execute_result",
          "data": {
            "text/plain": [
              "10"
            ]
          },
          "metadata": {},
          "execution_count": 30
        }
      ]
    },
    {
      "cell_type": "code",
      "source": [
        "len(tk)"
      ],
      "metadata": {
        "colab": {
          "base_uri": "https://localhost:8080/"
        },
        "id": "XDlUy2CX53x0",
        "outputId": "f046b88f-e5b7-41a5-fd78-98be65031e76"
      },
      "execution_count": null,
      "outputs": [
        {
          "output_type": "execute_result",
          "data": {
            "text/plain": [
              "10"
            ]
          },
          "metadata": {},
          "execution_count": 32
        }
      ]
    },
    {
      "cell_type": "code",
      "source": [
        "tk"
      ],
      "metadata": {
        "colab": {
          "base_uri": "https://localhost:8080/"
        },
        "id": "Dt4gix8h58DR",
        "outputId": "0d5d31cf-6f3e-45a7-c58c-5b7d821c9e9b"
      },
      "execution_count": null,
      "outputs": [
        {
          "output_type": "execute_result",
          "data": {
            "text/plain": [
              "[0, 0, 1, 0, 0, 0, 0, 0, 0, 0]"
            ]
          },
          "metadata": {},
          "execution_count": 33
        }
      ]
    },
    {
      "cell_type": "code",
      "source": [
        "t_array = np.array(tk)"
      ],
      "metadata": {
        "id": "xdNwg2RM59pB"
      },
      "execution_count": null,
      "outputs": []
    },
    {
      "cell_type": "code",
      "source": [
        "t_array"
      ],
      "metadata": {
        "colab": {
          "base_uri": "https://localhost:8080/"
        },
        "id": "pdR3zzSP6AqP",
        "outputId": "ad377287-b9a2-4efc-e5ea-27b88fadce5a"
      },
      "execution_count": null,
      "outputs": [
        {
          "output_type": "execute_result",
          "data": {
            "text/plain": [
              "array([0, 0, 1, 0, 0, 0, 0, 0, 0, 0])"
            ]
          },
          "metadata": {},
          "execution_count": 35
        }
      ]
    },
    {
      "cell_type": "code",
      "source": [
        "t_array.size"
      ],
      "metadata": {
        "colab": {
          "base_uri": "https://localhost:8080/"
        },
        "id": "oEAy3vV76BoE",
        "outputId": "cad8b6c7-465f-4ff5-f43d-ef8419cb98ea"
      },
      "execution_count": null,
      "outputs": [
        {
          "output_type": "execute_result",
          "data": {
            "text/plain": [
              "10"
            ]
          },
          "metadata": {},
          "execution_count": 37
        }
      ]
    },
    {
      "cell_type": "code",
      "source": [
        "t_array.shape"
      ],
      "metadata": {
        "colab": {
          "base_uri": "https://localhost:8080/"
        },
        "id": "Xyt2aECx6HoH",
        "outputId": "b26d5ded-b8ad-43c9-a645-34266386d046"
      },
      "execution_count": null,
      "outputs": [
        {
          "output_type": "execute_result",
          "data": {
            "text/plain": [
              "(10,)"
            ]
          },
          "metadata": {},
          "execution_count": 38
        }
      ]
    },
    {
      "cell_type": "code",
      "source": [
        "t_ = np.array([[1,2,3],[4,5,6]])"
      ],
      "metadata": {
        "id": "BKmCVvu86K2W"
      },
      "execution_count": null,
      "outputs": []
    },
    {
      "cell_type": "code",
      "source": [
        "t_"
      ],
      "metadata": {
        "colab": {
          "base_uri": "https://localhost:8080/"
        },
        "id": "AKIXitPa6edU",
        "outputId": "bb335cfc-e64d-4911-a9f4-dd6bc75616f6"
      },
      "execution_count": null,
      "outputs": [
        {
          "output_type": "execute_result",
          "data": {
            "text/plain": [
              "array([[1, 2, 3],\n",
              "       [4, 5, 6]])"
            ]
          },
          "metadata": {},
          "execution_count": 41
        }
      ]
    },
    {
      "cell_type": "code",
      "source": [
        "len(t_)"
      ],
      "metadata": {
        "colab": {
          "base_uri": "https://localhost:8080/"
        },
        "id": "gzqlN5JW6jKq",
        "outputId": "8f16625d-ea39-47b4-8139-6983d49233bb"
      },
      "execution_count": null,
      "outputs": [
        {
          "output_type": "execute_result",
          "data": {
            "text/plain": [
              "2"
            ]
          },
          "metadata": {},
          "execution_count": 42
        }
      ]
    },
    {
      "cell_type": "code",
      "source": [
        "t_.size"
      ],
      "metadata": {
        "colab": {
          "base_uri": "https://localhost:8080/"
        },
        "id": "7TK6fAWz6kVZ",
        "outputId": "60f37a72-16a0-490c-f769-9599dbc498b1"
      },
      "execution_count": null,
      "outputs": [
        {
          "output_type": "execute_result",
          "data": {
            "text/plain": [
              "6"
            ]
          },
          "metadata": {},
          "execution_count": 43
        }
      ]
    },
    {
      "cell_type": "code",
      "source": [
        "t_.shape"
      ],
      "metadata": {
        "colab": {
          "base_uri": "https://localhost:8080/"
        },
        "id": "P1IZQw3w6lzb",
        "outputId": "f890352c-7aee-46d3-8658-e8149241d881"
      },
      "execution_count": null,
      "outputs": [
        {
          "output_type": "execute_result",
          "data": {
            "text/plain": [
              "(2, 3)"
            ]
          },
          "metadata": {},
          "execution_count": 45
        }
      ]
    },
    {
      "cell_type": "markdown",
      "source": [
        "https://velog.io/@rapsby/%EA%B3%BC%EC%86%8C%EC%A0%81%ED%95%A9-%EA%B3%BC%EB%8C%80%EC%A0%81%ED%95%A9"
      ],
      "metadata": {
        "id": "cuzoEtuF66QB"
      }
    },
    {
      "cell_type": "markdown",
      "source": [
        "x_train, t_train\n",
        "\n",
        "x_val , t_val\n",
        "\n",
        "x_test, t_test"
      ],
      "metadata": {
        "id": "-ZwPHizK8kn_"
      }
    },
    {
      "cell_type": "markdown",
      "source": [
        "4.3.3 편미분\n",
        "\n",
        "변수가 다음처럼 2개 이상인 식\n",
        "$$\n",
        "f(x_0, x_1) = x_0^2 + x_1^2\n",
        "$$\n",
        "\n",
        "파이썬으로 다음과 같이 구현가능"
      ],
      "metadata": {
        "id": "QB_QYAOw-11R"
      }
    },
    {
      "cell_type": "code",
      "source": [
        "def function_2(x):\n",
        "    return x[0]**2 + x[1]**2\n",
        "    #또는 return np.sum(x**2)"
      ],
      "metadata": {
        "id": "u8wdVtNB6mzJ"
      },
      "execution_count": null,
      "outputs": []
    },
    {
      "cell_type": "markdown",
      "source": [
        "4.4 기울기\n",
        "\n",
        "기울기 (gradient): 모든 변수의 편미분을 벡터로 정리한 것.\n",
        "\n",
        "$$\n",
        "(\\frac {\\partial{f}} {\\partial x_0}, \\frac {\\partial f}{\\partial x_1}\n",
        "$$\n",
        "\n",
        "기울기 구현 예시"
      ],
      "metadata": {
        "id": "Yki-EV4a_RqJ"
      }
    },
    {
      "cell_type": "markdown",
      "source": [
        "$$\n",
        "x^2 \\quad -> 2 x\n",
        "\\\\\n",
        "x_0^2 \\quad -> 2 x_0\n",
        "\\\\\n",
        "x_1^2 \\quad -> 2 x_1\n",
        "$$"
      ],
      "metadata": {
        "id": "wQdzmQN8BZ8K"
      }
    },
    {
      "cell_type": "code",
      "source": [
        "def numerical_gradient(f, x):\n",
        "    h = 1e-4 #0.0001\n",
        "    grad = np.zeros_like(x)#x와 형상이 같은 배열을 생성\n",
        "\n",
        "    for idx in range(x.size):\n",
        "        tmp_val = x[idx]\n",
        "\n",
        "        #f(x+h)계산\n",
        "        x[idx]=tmp_val+h #x[0] = -> 0.00000001, 1.000000001\n",
        "        fxh1 = f(x)\n",
        "\n",
        "        #f(x-h) 계산\n",
        "        x[idx] = tmp_val - h\n",
        "        fxh2 = f(x)\n",
        "\n",
        "        grad[idx] =  (fxh1- fxh2)/(2*h)\n",
        "        x[idx] = tmp_val #값 복원\n",
        "\n",
        "    return grad"
      ],
      "metadata": {
        "id": "Cq7IZUT3ALnf"
      },
      "execution_count": null,
      "outputs": []
    },
    {
      "cell_type": "markdown",
      "source": [
        "$$\n",
        "x_0 = x_0 - \\eta {\\partial f \\over \\partial {x_0}}\n",
        "\\\\\n",
        "x_1 = x_1 - \\eta {\\partial f \\over \\partial {x_1}}\n",
        "$$"
      ],
      "metadata": {
        "id": "ULz8GiSIXX5H"
      }
    },
    {
      "cell_type": "markdown",
      "source": [
        "$$\n",
        "w_i \\leftarrow w_i - \\eta {\\partial L \\over \\partial {w_i}}\n",
        "$$"
      ],
      "metadata": {
        "id": "hxcQmBpq_7VB"
      }
    },
    {
      "cell_type": "markdown",
      "source": [
        "# 3"
      ],
      "metadata": {
        "id": "N__1_Hv3F-uU"
      }
    },
    {
      "cell_type": "markdown",
      "source": [
        "4.4.1 경사법 (경사 하강법)\n",
        "\n",
        "최적의 매개변수(가중치와 편향)을 학습 시에 찾음. 최적은 손실함수가 최소값이 될 때 매개변수값.\n",
        "\n",
        "경사법 : 기울기를 잘 이용해 함수의 최소값을 찾으려는 방법\n",
        "\n",
        "함수가 극소값, 최소갑스 안장점(saddle point)이 되는 장소에서는 기울기가 0\n",
        "\n",
        "극소값 : 한정된 범위에서의 최소값인 점\n",
        "\n",
        "안장점 :  어느방향에서 보면 극대값 다른 방향에서 보면 극소값이되는 점\n",
        "\n",
        "복잡하고 찌그러진 모양의 함수라면(대부분) 평평한 곳으로 파고들면서 고원(plateau, 플래토)이라 하는, 학습이 진행되지 않는 정체기에 빠질 수 있음.\n",
        "\n",
        "경사법(gradient method)\n",
        "\n",
        "현 위치에서 기울어진 방향으로 일정 거리만큼 이동. 다음 위치에서도 또 기울어진 방향으로 나아가는 일을 반복. hyper parameter\n",
        "\n",
        "경사 하강법(gradient descent method):최소값을 찾음. 신경망 (딥러닝) 분야에서 주로 사용.\n",
        "\n",
        "경사 상승법(gradient ascent method): 최대값을 찾음 \n",
        "\n",
        "경사법 수식\n",
        "\n",
        "$$\n",
        "x_0 = x_0 - \\eta {\\partial f \\over \\partial {x_0}}\n",
        "\\\\\n",
        "x_1 = x_1 - \\eta {\\partial f \\over \\partial {x_1}}\n",
        "$$\n",
        "\n",
        "학습률(learning rate) : 한번에 얼만큼 학습해야할 지, 매개변수 값을 얼마나 갱신하느냐를 정함\n",
        "\n",
        "위의 식은 1회에 해당하는 갱신이고, 이 단계를 반복\n",
        "\n",
        "변수의 값을 여러번 갱신하면서 서서히 함수의 값을 줄임\n",
        "\n",
        "학습률 값을 변경하면서 올바를게 학습하는지 확인하면서 진행. 너무 크거나 작으면 '좋은 장소'를 찾을 수 없음.\n",
        "\n",
        "경사 하강법 구현 코드"
      ],
      "metadata": {
        "id": "ywyA2HPjGRlO"
      }
    },
    {
      "cell_type": "code",
      "source": [
        "def numerical_gradient(f, x):\n",
        "    h = 1e-4 #0.0001\n",
        "    grad = np.zeros_like(x)#x와 형상이 같은 배열을 생성\n",
        "\n",
        "    it = np.nditer(x, flags=['multi_index'],op_flags=['readwrite'])\n",
        "\n",
        "    while not it.finished:\n",
        "        idx = it.multi_index\n",
        "        tmp_val = x[idx]\n",
        "        x[idx]= tmp_val + h\n",
        "        fxh1 = f(x)#f(x+h)\n",
        "\n",
        "        x[idx]= tmp_val -h\n",
        "        fxh2 = f(x) # f(x-h)\n",
        "        grad[idx] = (fxh1 - fxh2)/ (2*h)\n",
        "\n",
        "        x[idx] = tmp_val #값 복원\n",
        "        it.iternext()\n",
        "    return grad"
      ],
      "metadata": {
        "id": "9hTgPlTZ_Qxt"
      },
      "execution_count": null,
      "outputs": []
    },
    {
      "cell_type": "code",
      "source": [
        "def gradient_descent(f, init_x, lr = 0.01, step_num = 100):\n",
        "    x = init_x\n",
        "    for i in range(step_num):\n",
        "        grad = numerical_gradient(f,x)\n",
        "        x-= lr *grad\n",
        "    return x"
      ],
      "metadata": {
        "id": "v5wEnC1bJYhB"
      },
      "execution_count": null,
      "outputs": []
    },
    {
      "cell_type": "code",
      "source": [
        "init_x = np.array([-3.0, .40])\n",
        "gradient_descent(function_2, init_x = init_x, lr = 0.1, step_num= 100)"
      ],
      "metadata": {
        "colab": {
          "base_uri": "https://localhost:8080/"
        },
        "id": "6f48G3iQJ1lq",
        "outputId": "3f900ded-0bce-4b50-9474-3f3d9decf2a1"
      },
      "execution_count": null,
      "outputs": [
        {
          "output_type": "execute_result",
          "data": {
            "text/plain": [
              "array([-6.11110793e-10,  8.14814391e-11])"
            ]
          },
          "metadata": {},
          "execution_count": 53
        }
      ]
    },
    {
      "cell_type": "markdown",
      "source": [
        "$$\n",
        "x_0 = x_0 - \\eta {\\partial f \\over \\partial {x_0}}\n",
        "\\\\\n",
        "x_1 = x_1 - \\eta {\\partial f \\over \\partial {x_1}}\n",
        "$$"
      ],
      "metadata": {
        "id": "gb_UKnqZJxzN"
      }
    },
    {
      "cell_type": "markdown",
      "source": [
        "$$\n",
        "w_i \\leftarrow w_i - \\eta {\\partial L \\over \\partial {w_i}}\n",
        "$$"
      ],
      "metadata": {
        "id": "zse552uFJ2EQ"
      }
    },
    {
      "cell_type": "markdown",
      "source": [
        "L = function_2\n",
        "\n",
        "n = lr= 0.1\n",
        "\n",
        "식(\n",
        "$$\n",
        "w_i - \\eta {\\partial L \\over \\partial {w_i}}\n",
        "$$) => gradient_descent()"
      ],
      "metadata": {
        "id": "GBkPZaFNXziq"
      }
    },
    {
      "cell_type": "markdown",
      "source": [
        "![캡처.PNG](data:image/png;base64,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)"
      ],
      "metadata": {
        "id": "AAMCj7leYhdO"
      }
    },
    {
      "cell_type": "code",
      "source": [
        "x = np.arange(10).reshape((2,5))\n",
        "x"
      ],
      "metadata": {
        "colab": {
          "base_uri": "https://localhost:8080/"
        },
        "id": "lz2rtLNeKf76",
        "outputId": "8056093e-18f2-4bcc-ce07-f9d59ee94fcb"
      },
      "execution_count": null,
      "outputs": [
        {
          "output_type": "execute_result",
          "data": {
            "text/plain": [
              "array([[0, 1, 2, 3, 4],\n",
              "       [5, 6, 7, 8, 9]])"
            ]
          },
          "metadata": {},
          "execution_count": 55
        }
      ]
    },
    {
      "cell_type": "code",
      "source": [
        "it = np.nditer(x, flags=['multi_index'], op_flags=['readwrite'])\n",
        "while not it.finished:  #반복자가 다 끝났다면\n",
        "    idx = it.multi_index\n",
        "    print(idx)\n",
        "    it.iternext()   #다음 값을 불러줌"
      ],
      "metadata": {
        "colab": {
          "base_uri": "https://localhost:8080/"
        },
        "id": "IzDqD9ShMsF0",
        "outputId": "6777cd08-0e38-4b19-f9fc-603ec821f107"
      },
      "execution_count": null,
      "outputs": [
        {
          "output_type": "stream",
          "name": "stdout",
          "text": [
            "(0, 0)\n",
            "(0, 1)\n",
            "(0, 2)\n",
            "(0, 3)\n",
            "(0, 4)\n",
            "(1, 0)\n",
            "(1, 1)\n",
            "(1, 2)\n",
            "(1, 3)\n",
            "(1, 4)\n"
          ]
        }
      ]
    },
    {
      "cell_type": "code",
      "source": [
        "it = np.nditer(x, flags=['f_index'], op_flags=['readwrite'])    #f_index = fort index\n",
        "while not it.finished:  #반복자가 다 끝났다면\n",
        "    idx = it.index\n",
        "    print(idx)\n",
        "    it.iternext()   #다음 값을 불러줌"
      ],
      "metadata": {
        "colab": {
          "base_uri": "https://localhost:8080/"
        },
        "id": "l6Ut53jVM88z",
        "outputId": "7cd3942f-78c8-42c8-dff2-24ac463195d1"
      },
      "execution_count": null,
      "outputs": [
        {
          "output_type": "stream",
          "name": "stdout",
          "text": [
            "0\n",
            "2\n",
            "4\n",
            "6\n",
            "8\n",
            "1\n",
            "3\n",
            "5\n",
            "7\n",
            "9\n"
          ]
        }
      ]
    },
    {
      "cell_type": "code",
      "source": [
        "def gradient_descent(f, init_x, lr = 0.01, step_num = 100):\n",
        "    x = init_x\n",
        "    x_history = []\n",
        "\n",
        "    for i in range(step_num):\n",
        "        x_history.append(x.copy() )\n",
        "\n",
        "        grad = numerical_gradient(f,x)\n",
        "        x -= lr * grad\n",
        "    return x, np.array(x_history)\n",
        "init_x = np.array([-3.0, 4.0])\n",
        "\n",
        "\n",
        "\n",
        "lr = 0.1\n",
        "step_num =20\n",
        "x, x_history = gradient_descent(function_2, init_x, lr= lr, step_num= step_num)\n",
        "\n",
        "plt.plot([-5, 5],[0,0], '--b')\n",
        "plt.plot([0,0], [-5,5], '--b')\n",
        "plt.plot(x_history[:,0],x_history[:,1],'o')\n",
        "\n",
        "plt.xlim(-3.5, 3.5)\n",
        "plt.ylim(-4.5, 4.5)\n",
        "plt.xlabel('X0')\n",
        "plt.ylabel('X1')\n",
        "plt.show()"
      ],
      "metadata": {
        "colab": {
          "base_uri": "https://localhost:8080/",
          "height": 279
        },
        "id": "dhg5tw1cOGom",
        "outputId": "0894d96b-c203-4379-c614-06732cb5e275"
      },
      "execution_count": null,
      "outputs": [
        {
          "output_type": "display_data",
          "data": {
            "text/plain": [
              "<Figure size 432x288 with 1 Axes>"
            ],
            "image/png": "[encoded data removed]"
          },
          "metadata": {
            "needs_background": "light"
          }
        }
      ]
    },
    {
      "cell_type": "code",
      "source": [
        "x_history"
      ],
      "metadata": {
        "colab": {
          "base_uri": "https://localhost:8080/"
        },
        "id": "Tfn9UyOFRMTH",
        "outputId": "cf6d2012-2f7b-48ee-cdf2-68c18e8051cb"
      },
      "execution_count": null,
      "outputs": [
        {
          "output_type": "execute_result",
          "data": {
            "text/plain": [
              "array([[-3.        ,  4.        ],\n",
              "       [-2.4       ,  3.2       ],\n",
              "       [-1.92      ,  2.56      ],\n",
              "       [-1.536     ,  2.048     ],\n",
              "       [-1.2288    ,  1.6384    ],\n",
              "       [-0.98304   ,  1.31072   ],\n",
              "       [-0.786432  ,  1.048576  ],\n",
              "       [-0.6291456 ,  0.8388608 ],\n",
              "       [-0.50331648,  0.67108864],\n",
              "       [-0.40265318,  0.53687091],\n",
              "       [-0.32212255,  0.42949673],\n",
              "       [-0.25769804,  0.34359738],\n",
              "       [-0.20615843,  0.27487791],\n",
              "       [-0.16492674,  0.21990233],\n",
              "       [-0.1319414 ,  0.17592186],\n",
              "       [-0.10555312,  0.14073749],\n",
              "       [-0.08444249,  0.11258999],\n",
              "       [-0.06755399,  0.09007199],\n",
              "       [-0.0540432 ,  0.07205759],\n",
              "       [-0.04323456,  0.05764608]])"
            ]
          },
          "metadata": {},
          "execution_count": 60
        }
      ]
    },
    {
      "cell_type": "code",
      "source": [
        "def function_2(x):\n",
        "    return x[0]**2 + x[1]**2\n",
        "    #또는 return np.sum(x**2)\n",
        "    \n",
        "def numerical_gradient(f, x):\n",
        "    h = 1e-4 #0.0001\n",
        "    grad = np.zeros_like(x)#x와 형상이 같은 배열을 생성\n",
        "\n",
        "    it = np.nditer(x, flags=['multi_index'],op_flags=['readwrite'])\n",
        "\n",
        "    while not it.finished:\n",
        "        idx = it.multi_index\n",
        "        tmp_val = x[idx]\n",
        "        x[idx]= tmp_val + h\n",
        "        fxh1 = f(x)#f(x+h)\n",
        "\n",
        "        x[idx]= tmp_val -h\n",
        "        fxh2 = f(x) # f(x-h)\n",
        "        grad[idx] = (fxh1 - fxh2)/ (2*h)\n",
        "\n",
        "        x[idx] = tmp_val #값 복원\n",
        "        it.iternext()\n",
        "    return grad\n",
        "\n",
        "def gradient_descent(f, init_x, lr = 0.01, step_num = 100):\n",
        "    x = init_x\n",
        "    for i in range(step_num):\n",
        "        grad = numerical_gradient(f,x)\n",
        "        x-= lr *grad\n",
        "    return x"
      ],
      "metadata": {
        "id": "XvwC1BjAZMvx"
      },
      "execution_count": null,
      "outputs": []
    },
    {
      "cell_type": "code",
      "source": [
        "init_x = np.array([-3.0, 4.0])\n",
        "gradient_descent(function_2, init_x = init_x, lr= 0.1, step_num = 100)"
      ],
      "metadata": {
        "colab": {
          "base_uri": "https://localhost:8080/"
        },
        "id": "gZ7ntB69aJ2W",
        "outputId": "0a504272-8204-43bb-8a16-6592e5ecf8bb"
      },
      "execution_count": null,
      "outputs": [
        {
          "output_type": "execute_result",
          "data": {
            "text/plain": [
              "array([-6.11110793e-10,  8.14814391e-10])"
            ]
          },
          "metadata": {},
          "execution_count": 8
        }
      ]
    },
    {
      "cell_type": "markdown",
      "source": [
        "1. 학습률이 클 경우, lr = 10"
      ],
      "metadata": {
        "id": "aM6DWW-0ZguZ"
      }
    },
    {
      "cell_type": "code",
      "source": [
        "init_x = np.array([-3.0, 4.0])\n",
        "gradient_descent(function_2, init_x = init_x, lr= 10.0, step_num = 100)"
      ],
      "metadata": {
        "colab": {
          "base_uri": "https://localhost:8080/"
        },
        "id": "zeHJQEa0ZZfo",
        "outputId": "33ec7fa8-6ead-4eab-969a-e3caed43794f"
      },
      "execution_count": null,
      "outputs": [
        {
          "output_type": "execute_result",
          "data": {
            "text/plain": [
              "array([-2.58983747e+13, -1.29524862e+12])"
            ]
          },
          "metadata": {},
          "execution_count": 9
        }
      ]
    },
    {
      "cell_type": "markdown",
      "source": [
        "2. 학습률이 작은 경우, lr = 0.001"
      ],
      "metadata": {
        "id": "eDqIdDrwa24t"
      }
    },
    {
      "cell_type": "code",
      "source": [
        "init_x = np.array([-3.0, 4.0])\n",
        "gradient_descent(function_2, init_x = init_x, lr= 0.001, step_num = 100)"
      ],
      "metadata": {
        "colab": {
          "base_uri": "https://localhost:8080/"
        },
        "id": "Wo36XjzLa6mc",
        "outputId": "8492c20e-4e44-4234-d4fe-74cd1efc922a"
      },
      "execution_count": null,
      "outputs": [
        {
          "output_type": "execute_result",
          "data": {
            "text/plain": [
              "array([-2.45570041,  3.27426722])"
            ]
          },
          "metadata": {},
          "execution_count": 11
        }
      ]
    },
    {
      "cell_type": "code",
      "source": [
        "init_x = np.array([-3.0, 4.0])\n",
        "gradient_descent(function_2, init_x = init_x, lr= 0.01, step_num = 100)"
      ],
      "metadata": {
        "colab": {
          "base_uri": "https://localhost:8080/"
        },
        "id": "jIqLw_RdbOv9",
        "outputId": "70cabdaf-6aa4-4133-a012-24ed52a0fe68"
      },
      "execution_count": null,
      "outputs": [
        {
          "output_type": "execute_result",
          "data": {
            "text/plain": [
              "array([-0.39785867,  0.53047822])"
            ]
          },
          "metadata": {},
          "execution_count": 12
        }
      ]
    },
    {
      "cell_type": "markdown",
      "source": [
        "학습률이 너무 크면 큰 값으로 발산함\n",
        "\n",
        "학습률이 너무 작으면 거의 갱신되지 않은 채 끝남\n",
        "\n",
        "하이퍼파라미터(hyper parameter, 초 매개변수)\n"
      ],
      "metadata": {
        "id": "4sXpnHN0blqE"
      }
    },
    {
      "cell_type": "markdown",
      "source": [
        "4.4.2 신경망에서의 기울기\n",
        "\n",
        "신경망 기울기 : 가중치 매개변수에 관한 손실 함수의 기울기\n",
        "\n",
        "형상 2X3, 가중치 W, 손실함수 L인 신경망 수식\n",
        "\n",
        "\\begin{equation*}\n",
        "W = \\begin{vmatrix}\n",
        "w_{11} w_{12} w_{13}\\\\\n",
        "w_{21} w_{22} w_{23}\\\n",
        "\\end{vmatrix}\n",
        "\\end{equation*}\n",
        "\n",
        "\\begin{equation*}\n",
        "\\frac{\\partial{L}}{\\partial{W}} = \\begin{vmatrix}\n",
        "\\frac{\\partial{L}}{\\partial{W_{11}}} \\frac{\\partial{L}}\n",
        "{\\partial{W_{12}}} \\frac{\\partial{L}}{\\partial{W_{13}}}\\\\\n",
        "\\frac{\\partial{L}}{\\partial{W_{14}}} \\frac{\\partial{L}}\n",
        "{\\partial{W_{15}}} \\frac{\\partial{L}}{\\partial{W_{16}}}\\\\\n",
        "\\end{vmatrix}\n",
        "\\end{equation*}\n",
        "\n",
        "\n",
        "아래 행렬의 각 원소는 각각 원소에 대한 편미분\n",
        "\n",
        "$$\n",
        "f(x_0, x_1) = x_0^2 + x_1^2\n",
        "\\\\\n",
        "x^2 ->2x\n",
        "\\\\\n",
        "x^2_0 -> 2x_0\n",
        "\\\\\n",
        "x^2_1 -> 2x_1\n",
        "$$"
      ],
      "metadata": {
        "id": "63jI0LeObvRn"
      }
    },
    {
      "cell_type": "code",
      "source": [
        "#1\n",
        "def softmax(x):\n",
        "    if x.ndim ==2:\n",
        "        #print(x)\n",
        "        x = x.T     #x값 전치\n",
        "        x = x-np.max(x, axis=0)\n",
        "        y = np.exp(x)/np.sum(np.exp(x),axis=0)\n",
        "        return y.T\n",
        "    #print(x)\n",
        "    x = x- np.max(x)    #Overflow 대체\n",
        "    return np.exp(x)/ np.sum(np.exp(x))    \n",
        "#2\n",
        "def cross_entropy_error(y,t):\n",
        "    if y.ndim ==1:\n",
        "        t = t.reshape(1, t.size)\n",
        "        y = y.reshape(1, y.size)\n",
        "\n",
        "    #훈련 데이터가 원-핫 벡터 라면 정답 레이블의 인덱스로 반환\n",
        "    if t.size == y.size:\n",
        "        t = t.argmax(axis=1)\n",
        "    \n",
        "    batch_size = y.shape[0]\n",
        "    return -np.sum(np.log(y[np.arange(batch_size),t]))/ batch_size\n",
        "\n",
        "#3\n",
        "def numerical_gradient(f, x):\n",
        "    h = 1e-4 #0.0001\n",
        "    grad = np.zeros_like(x)#x와 형상이 같은 배열을 생성\n",
        "\n",
        "    it = np.nditer(x, flags=['multi_index'],op_flags=['readwrite'])\n",
        "\n",
        "    while not it.finished:\n",
        "        idx = it.multi_index\n",
        "        tmp_val = x[idx]\n",
        "        x[idx]= tmp_val + h\n",
        "        fxh1 = f(x)#f(x+h)\n",
        "\n",
        "        x[idx]= tmp_val -h\n",
        "        fxh2 = f(x) # f(x-h)\n",
        "        grad[idx] = (fxh1 - fxh2)/ (2*h)\n",
        "\n",
        "        x[idx] = tmp_val #값 복원\n",
        "        it.iternext()\n",
        "    return grad\n",
        "\n",
        "#4\n",
        "class simpleNet:\n",
        "    def __init__(self) -> None:\n",
        "        self.W = np.random.randn(2,3)   #W객체 생성\n",
        "\n",
        "    def predict(self,x):\n",
        "        return np.dot(x, self.W)\n",
        "    def loss(self,x,t):\n",
        "        z = self.predict(x)\n",
        "        y = softmax(z)\n",
        "        loss = cross_entropy_error(y,t)\n",
        "        return loss"
      ],
      "metadata": {
        "id": "0WsZ4d0nbler"
      },
      "execution_count": null,
      "outputs": []
    },
    {
      "cell_type": "code",
      "source": [
        "net = simpleNet()#인스턴스 생성"
      ],
      "metadata": {
        "id": "TB9pFPj6e6V4"
      },
      "execution_count": null,
      "outputs": []
    },
    {
      "cell_type": "code",
      "source": [
        "net.W"
      ],
      "metadata": {
        "colab": {
          "base_uri": "https://localhost:8080/"
        },
        "id": "Yh-5MiRVe773",
        "outputId": "7420d51b-fe9a-49d2-df7d-b267da13baca"
      },
      "execution_count": null,
      "outputs": [
        {
          "output_type": "execute_result",
          "data": {
            "text/plain": [
              "array([[ 0.04990274, -0.07131828,  1.58657938],\n",
              "       [-0.86203737,  1.2672999 ,  0.27565043]])"
            ]
          },
          "metadata": {},
          "execution_count": 17
        }
      ]
    },
    {
      "cell_type": "code",
      "source": [
        "x = np.array([0.6,0.9])\n",
        "p = net.predict(x)"
      ],
      "metadata": {
        "id": "hpIN4W3Le_Zm"
      },
      "execution_count": null,
      "outputs": []
    },
    {
      "cell_type": "code",
      "source": [
        "p"
      ],
      "metadata": {
        "colab": {
          "base_uri": "https://localhost:8080/"
        },
        "id": "MpjBMZYZfQpY",
        "outputId": "a8f69c34-c7e2-4994-cfa1-aa487d5e8f38"
      },
      "execution_count": null,
      "outputs": [
        {
          "output_type": "execute_result",
          "data": {
            "text/plain": [
              "array([-0.74589199,  1.09777894,  1.20003302])"
            ]
          },
          "metadata": {},
          "execution_count": 19
        }
      ]
    },
    {
      "cell_type": "code",
      "source": [
        "t = np.array([0,1,0])"
      ],
      "metadata": {
        "id": "nsI4Bz-lfQ6M"
      },
      "execution_count": null,
      "outputs": []
    },
    {
      "cell_type": "code",
      "source": [
        "net.loss(x,t)"
      ],
      "metadata": {
        "colab": {
          "base_uri": "https://localhost:8080/"
        },
        "id": "PS2M_5PIfb_Y",
        "outputId": "057f92df-b40c-4f98-c8cd-82c2c0b565bc"
      },
      "execution_count": null,
      "outputs": [
        {
          "output_type": "execute_result",
          "data": {
            "text/plain": [
              "0.8179721857299125"
            ]
          },
          "metadata": {},
          "execution_count": 23
        }
      ]
    },
    {
      "cell_type": "code",
      "source": [
        "t = np.array([1,0,0])"
      ],
      "metadata": {
        "id": "F2XTUt3ifclh"
      },
      "execution_count": null,
      "outputs": []
    },
    {
      "cell_type": "code",
      "source": [
        "np.argmax(p)"
      ],
      "metadata": {
        "colab": {
          "base_uri": "https://localhost:8080/"
        },
        "id": "rafGzK-Mv1bA",
        "outputId": "91d4922f-cf44-469d-c1c8-c49e466374bf"
      },
      "execution_count": null,
      "outputs": [
        {
          "output_type": "execute_result",
          "data": {
            "text/plain": [
              "2"
            ]
          },
          "metadata": {},
          "execution_count": 27
        }
      ]
    },
    {
      "cell_type": "code",
      "source": [
        "net.loss(x,t)"
      ],
      "metadata": {
        "colab": {
          "base_uri": "https://localhost:8080/"
        },
        "id": "Lsw4MuDSv38c",
        "outputId": "e573b587-eb48-434a-a601-e479c1adb9f0"
      },
      "execution_count": null,
      "outputs": [
        {
          "output_type": "execute_result",
          "data": {
            "text/plain": [
              "2.6616431207462274"
            ]
          },
          "metadata": {},
          "execution_count": 28
        }
      ]
    },
    {
      "cell_type": "code",
      "source": [
        "f = net.loss(x,t)\n",
        "dw = numerical_gradient(f,net.W)"
      ],
      "metadata": {
        "colab": {
          "base_uri": "https://localhost:8080/",
          "height": 321
        },
        "id": "NCaPvKlQv8S2",
        "outputId": "9ffbe63a-6ed7-41ee-e7e2-0784349b3a3b"
      },
      "execution_count": null,
      "outputs": [
        {
          "output_type": "error",
          "ename": "TypeError",
          "evalue": "ignored",
          "traceback": [
            "\u001b[0;31m---------------------------------------------------------------------------\u001b[0m",
            "\u001b[0;31mTypeError\u001b[0m                                 Traceback (most recent call last)",
            "\u001b[0;32m<ipython-input-29-ba9ad1c17f05>\u001b[0m in \u001b[0;36m<module>\u001b[0;34m()\u001b[0m\n\u001b[1;32m      1\u001b[0m \u001b[0mf\u001b[0m \u001b[0;34m=\u001b[0m \u001b[0mnet\u001b[0m\u001b[0;34m.\u001b[0m\u001b[0mloss\u001b[0m\u001b[0;34m(\u001b[0m\u001b[0mx\u001b[0m\u001b[0;34m,\u001b[0m\u001b[0mt\u001b[0m\u001b[0;34m)\u001b[0m\u001b[0;34m\u001b[0m\u001b[0;34m\u001b[0m\u001b[0m\n\u001b[0;32m----> 2\u001b[0;31m \u001b[0mdw\u001b[0m \u001b[0;34m=\u001b[0m \u001b[0mnumerical_gradient\u001b[0m\u001b[0;34m(\u001b[0m\u001b[0mf\u001b[0m\u001b[0;34m,\u001b[0m\u001b[0mnet\u001b[0m\u001b[0;34m.\u001b[0m\u001b[0mW\u001b[0m\u001b[0;34m)\u001b[0m\u001b[0;34m\u001b[0m\u001b[0;34m\u001b[0m\u001b[0m\n\u001b[0m",
            "\u001b[0;32m<ipython-input-14-a8e0ef2262a8>\u001b[0m in \u001b[0;36mnumerical_gradient\u001b[0;34m(f, x)\u001b[0m\n\u001b[1;32m     34\u001b[0m         \u001b[0mtmp_val\u001b[0m \u001b[0;34m=\u001b[0m \u001b[0mx\u001b[0m\u001b[0;34m[\u001b[0m\u001b[0midx\u001b[0m\u001b[0;34m]\u001b[0m\u001b[0;34m\u001b[0m\u001b[0;34m\u001b[0m\u001b[0m\n\u001b[1;32m     35\u001b[0m         \u001b[0mx\u001b[0m\u001b[0;34m[\u001b[0m\u001b[0midx\u001b[0m\u001b[0;34m]\u001b[0m\u001b[0;34m=\u001b[0m \u001b[0mtmp_val\u001b[0m \u001b[0;34m+\u001b[0m \u001b[0mh\u001b[0m\u001b[0;34m\u001b[0m\u001b[0;34m\u001b[0m\u001b[0m\n\u001b[0;32m---> 36\u001b[0;31m         \u001b[0mfxh1\u001b[0m \u001b[0;34m=\u001b[0m \u001b[0mf\u001b[0m\u001b[0;34m(\u001b[0m\u001b[0mx\u001b[0m\u001b[0;34m)\u001b[0m\u001b[0;31m#f(x+h)\u001b[0m\u001b[0;34m\u001b[0m\u001b[0;34m\u001b[0m\u001b[0m\n\u001b[0m\u001b[1;32m     37\u001b[0m \u001b[0;34m\u001b[0m\u001b[0m\n\u001b[1;32m     38\u001b[0m         \u001b[0mx\u001b[0m\u001b[0;34m[\u001b[0m\u001b[0midx\u001b[0m\u001b[0;34m]\u001b[0m\u001b[0;34m=\u001b[0m \u001b[0mtmp_val\u001b[0m \u001b[0;34m-\u001b[0m\u001b[0mh\u001b[0m\u001b[0;34m\u001b[0m\u001b[0;34m\u001b[0m\u001b[0m\n",
            "\u001b[0;31mTypeError\u001b[0m: 'numpy.float64' object is not callable"
          ]
        }
      ]
    },
    {
      "cell_type": "markdown",
      "source": [
        "TypeError: 'numpy.float64' object is not callable\n",
        "\n",
        "\n",
        "func_name() 구현된 함수 클래스 안에서 __callable__() 요 메서드가 구현이 되면 할 수 있음"
      ],
      "metadata": {
        "id": "v2bD3-XiyP8y"
      }
    },
    {
      "cell_type": "code",
      "source": [
        "def f(W):\n",
        "\n",
        "    return net.loss(x,t)\n",
        "dw = numerical_gradient(f,net.W)"
      ],
      "metadata": {
        "id": "n-PktflNyM3N"
      },
      "execution_count": null,
      "outputs": []
    },
    {
      "cell_type": "code",
      "source": [
        "dw"
      ],
      "metadata": {
        "colab": {
          "base_uri": "https://localhost:8080/"
        },
        "id": "XTk6_N5Tyj3f",
        "outputId": "2ce56e0c-ccc3-4284-b66e-f11d549a0232"
      },
      "execution_count": null,
      "outputs": [
        {
          "output_type": "execute_result",
          "data": {
            "text/plain": [
              "array([[-0.55809763,  0.2647943 ,  0.29330334],\n",
              "       [-0.83714645,  0.39719144,  0.43995501]])"
            ]
          },
          "metadata": {},
          "execution_count": 31
        }
      ]
    },
    {
      "cell_type": "code",
      "source": [
        ""
      ],
      "metadata": {
        "id": "x9e7t55xykLj"
      },
      "execution_count": null,
      "outputs": []
    }
  ]
}