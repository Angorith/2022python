{
  "nbformat": 4,
  "nbformat_minor": 0,
  "metadata": {
    "colab": {
      "name": "0513 6일차 파이썬 기초 6 (유니코드, pandas[주식차트2, dataframe], pickle, 함수1).ipynb",
      "provenance": [],
      "collapsed_sections": [],
      "authorship_tag": "ABX9TyObqQ50VIdUK8TGuWNTRP41",
      "include_colab_link": true
    },
    "kernelspec": {
      "name": "python3",
      "display_name": "Python 3"
    },
    "language_info": {
      "name": "python"
    }
  },
  "cells": [
    {
      "cell_type": "markdown",
      "metadata": {
        "id": "view-in-github",
        "colab_type": "text"
      },
      "source": [
        "<a href=\"https://colab.research.google.com/github/Angorith/acorn_python/blob/main/0513_6%EC%9D%BC%EC%B0%A8_%ED%8C%8C%EC%9D%B4%EC%8D%AC_%EA%B8%B0%EC%B4%88_6_(%EC%9C%A0%EB%8B%88%EC%BD%94%EB%93%9C%2C_pandas%5B%EC%A3%BC%EC%8B%9D%EC%B0%A8%ED%8A%B82%2C_dataframe%5D%2C_pickle%2C_%ED%95%A8%EC%88%981).ipynb\" target=\"_parent\"><img src=\"https://colab.research.google.com/assets/colab-badge.svg\" alt=\"Open In Colab\"/></a>"
      ]
    },
    {
      "cell_type": "markdown",
      "source": [
        "**유니코드 문자열을 바이트의 열로 반환하는 것을 인코딩이라고 한다. **\n"
      ],
      "metadata": {
        "id": "bdemrzZqxYC2"
      }
    },
    {
      "cell_type": "code",
      "execution_count": null,
      "metadata": {
        "colab": {
          "base_uri": "https://localhost:8080/"
        },
        "id": "ZtaQubMLrK-m",
        "outputId": "70c51205-33f9-4ce4-bbec-313eb77e3910"
      },
      "outputs": [
        {
          "output_type": "stream",
          "name": "stdout",
          "text": [
            "Overwriting main.c\n"
          ]
        }
      ],
      "source": [
        "%%writefile main.c\n",
        "#include <studio.h>\n",
        "\n",
        "int main()\n",
        "{\n",
        "    char number1 ='A';\n",
        "    int number2 = 0;\n",
        "    printf(\"number1 = %d, %#o, %#x, %#c\\n\", number1, number1, number1, number1);\n",
        "    printf(\"number2 = %d, %#o, %#x, %#c\", number2, number2, number2, number2);\n",
        " \n",
        "    return 0;\n",
        "}"
      ]
    },
    {
      "cell_type": "code",
      "source": [
        "%%shell\n",
        "gcc main.c\n",
        "./a.out"
      ],
      "metadata": {
        "colab": {
          "base_uri": "https://localhost:8080/",
          "height": 437
        },
        "id": "GBgvohySvwH8",
        "outputId": "a8ea52f8-21fe-40c8-ffe9-a456ade85a94"
      },
      "execution_count": null,
      "outputs": [
        {
          "output_type": "stream",
          "name": "stdout",
          "text": [
            "\u001b[01m\u001b[Kmain.c:1:10:\u001b[m\u001b[K \u001b[01;31m\u001b[Kfatal error: \u001b[m\u001b[Kstudio.h: No such file or directory\n",
            " #include \u001b[01;31m\u001b[K<studio.h>\u001b[m\u001b[K\n",
            "          \u001b[01;31m\u001b[K^~~~~~~~~~\u001b[m\u001b[K\n",
            "compilation terminated.\n",
            "/bin/bash: line 1: ./a.out: No such file or directory\n"
          ]
        },
        {
          "output_type": "error",
          "ename": "CalledProcessError",
          "evalue": "ignored",
          "traceback": [
            "\u001b[0;31m---------------------------------------------------------------------------\u001b[0m",
            "\u001b[0;31mCalledProcessError\u001b[0m                        Traceback (most recent call last)",
            "\u001b[0;32m<ipython-input-8-f4247e17ce7e>\u001b[0m in \u001b[0;36m<module>\u001b[0;34m()\u001b[0m\n\u001b[0;32m----> 1\u001b[0;31m \u001b[0mget_ipython\u001b[0m\u001b[0;34m(\u001b[0m\u001b[0;34m)\u001b[0m\u001b[0;34m.\u001b[0m\u001b[0mrun_cell_magic\u001b[0m\u001b[0;34m(\u001b[0m\u001b[0;34m'shell'\u001b[0m\u001b[0;34m,\u001b[0m \u001b[0;34m''\u001b[0m\u001b[0;34m,\u001b[0m \u001b[0;34m'gcc main.c\\n./a.out'\u001b[0m\u001b[0;34m)\u001b[0m\u001b[0;34m\u001b[0m\u001b[0;34m\u001b[0m\u001b[0m\n\u001b[0m",
            "\u001b[0;32m/usr/local/lib/python3.7/dist-packages/IPython/core/interactiveshell.py\u001b[0m in \u001b[0;36mrun_cell_magic\u001b[0;34m(self, magic_name, line, cell)\u001b[0m\n\u001b[1;32m   2115\u001b[0m             \u001b[0mmagic_arg_s\u001b[0m \u001b[0;34m=\u001b[0m \u001b[0mself\u001b[0m\u001b[0;34m.\u001b[0m\u001b[0mvar_expand\u001b[0m\u001b[0;34m(\u001b[0m\u001b[0mline\u001b[0m\u001b[0;34m,\u001b[0m \u001b[0mstack_depth\u001b[0m\u001b[0;34m)\u001b[0m\u001b[0;34m\u001b[0m\u001b[0;34m\u001b[0m\u001b[0m\n\u001b[1;32m   2116\u001b[0m             \u001b[0;32mwith\u001b[0m \u001b[0mself\u001b[0m\u001b[0;34m.\u001b[0m\u001b[0mbuiltin_trap\u001b[0m\u001b[0;34m:\u001b[0m\u001b[0;34m\u001b[0m\u001b[0;34m\u001b[0m\u001b[0m\n\u001b[0;32m-> 2117\u001b[0;31m                 \u001b[0mresult\u001b[0m \u001b[0;34m=\u001b[0m \u001b[0mfn\u001b[0m\u001b[0;34m(\u001b[0m\u001b[0mmagic_arg_s\u001b[0m\u001b[0;34m,\u001b[0m \u001b[0mcell\u001b[0m\u001b[0;34m)\u001b[0m\u001b[0;34m\u001b[0m\u001b[0;34m\u001b[0m\u001b[0m\n\u001b[0m\u001b[1;32m   2118\u001b[0m             \u001b[0;32mreturn\u001b[0m \u001b[0mresult\u001b[0m\u001b[0;34m\u001b[0m\u001b[0;34m\u001b[0m\u001b[0m\n\u001b[1;32m   2119\u001b[0m \u001b[0;34m\u001b[0m\u001b[0m\n",
            "\u001b[0;32m/usr/local/lib/python3.7/dist-packages/google/colab/_system_commands.py\u001b[0m in \u001b[0;36m_shell_cell_magic\u001b[0;34m(args, cmd)\u001b[0m\n\u001b[1;32m    111\u001b[0m   \u001b[0mresult\u001b[0m \u001b[0;34m=\u001b[0m \u001b[0m_run_command\u001b[0m\u001b[0;34m(\u001b[0m\u001b[0mcmd\u001b[0m\u001b[0;34m,\u001b[0m \u001b[0mclear_streamed_output\u001b[0m\u001b[0;34m=\u001b[0m\u001b[0;32mFalse\u001b[0m\u001b[0;34m)\u001b[0m\u001b[0;34m\u001b[0m\u001b[0;34m\u001b[0m\u001b[0m\n\u001b[1;32m    112\u001b[0m   \u001b[0;32mif\u001b[0m \u001b[0;32mnot\u001b[0m \u001b[0mparsed_args\u001b[0m\u001b[0;34m.\u001b[0m\u001b[0mignore_errors\u001b[0m\u001b[0;34m:\u001b[0m\u001b[0;34m\u001b[0m\u001b[0;34m\u001b[0m\u001b[0m\n\u001b[0;32m--> 113\u001b[0;31m     \u001b[0mresult\u001b[0m\u001b[0;34m.\u001b[0m\u001b[0mcheck_returncode\u001b[0m\u001b[0;34m(\u001b[0m\u001b[0;34m)\u001b[0m\u001b[0;34m\u001b[0m\u001b[0;34m\u001b[0m\u001b[0m\n\u001b[0m\u001b[1;32m    114\u001b[0m   \u001b[0;32mreturn\u001b[0m \u001b[0mresult\u001b[0m\u001b[0;34m\u001b[0m\u001b[0;34m\u001b[0m\u001b[0m\n\u001b[1;32m    115\u001b[0m \u001b[0;34m\u001b[0m\u001b[0m\n",
            "\u001b[0;32m/usr/local/lib/python3.7/dist-packages/google/colab/_system_commands.py\u001b[0m in \u001b[0;36mcheck_returncode\u001b[0;34m(self)\u001b[0m\n\u001b[1;32m    137\u001b[0m     \u001b[0;32mif\u001b[0m \u001b[0mself\u001b[0m\u001b[0;34m.\u001b[0m\u001b[0mreturncode\u001b[0m\u001b[0;34m:\u001b[0m\u001b[0;34m\u001b[0m\u001b[0;34m\u001b[0m\u001b[0m\n\u001b[1;32m    138\u001b[0m       raise subprocess.CalledProcessError(\n\u001b[0;32m--> 139\u001b[0;31m           returncode=self.returncode, cmd=self.args, output=self.output)\n\u001b[0m\u001b[1;32m    140\u001b[0m \u001b[0;34m\u001b[0m\u001b[0m\n\u001b[1;32m    141\u001b[0m   \u001b[0;32mdef\u001b[0m \u001b[0m_repr_pretty_\u001b[0m\u001b[0;34m(\u001b[0m\u001b[0mself\u001b[0m\u001b[0;34m,\u001b[0m \u001b[0mp\u001b[0m\u001b[0;34m,\u001b[0m \u001b[0mcycle\u001b[0m\u001b[0;34m)\u001b[0m\u001b[0;34m:\u001b[0m  \u001b[0;31m# pylint:disable=unused-argument\u001b[0m\u001b[0;34m\u001b[0m\u001b[0;34m\u001b[0m\u001b[0m\n",
            "\u001b[0;31mCalledProcessError\u001b[0m: Command 'gcc main.c\n./a.out' returned non-zero exit status 127."
          ]
        }
      ]
    },
    {
      "cell_type": "markdown",
      "source": [
        "48= 0011 0000\n",
        "\n",
        "\n",
        "\n",
        "0000 0001\n",
        "\n",
        "1111 1110\n",
        "+1\n",
        "\n",
        "1111 1111"
      ],
      "metadata": {
        "id": "lAgE68bxwkrZ"
      }
    },
    {
      "cell_type": "code",
      "source": [
        "%ls"
      ],
      "metadata": {
        "colab": {
          "base_uri": "https://localhost:8080/"
        },
        "id": "9LihroPf5u_z",
        "outputId": "8ca68878-1a63-4250-ba5a-5a272fb01461"
      },
      "execution_count": null,
      "outputs": [
        {
          "output_type": "stream",
          "name": "stdout",
          "text": [
            "main.c  \u001b[0m\u001b[01;34msample_data\u001b[0m/\n"
          ]
        }
      ]
    },
    {
      "cell_type": "code",
      "source": [
        "f = open('test.b','wd')\n",
        "f.write\n",
        "f.close"
      ],
      "metadata": {
        "id": "7jqgo7vc6Vwd"
      },
      "execution_count": null,
      "outputs": []
    },
    {
      "cell_type": "code",
      "source": [
        "%%writefile score.py\n",
        "file_name = 'test.b'\n",
        "s = '에이지 오브 울트론'\n",
        "with open(file_name, 'wb')as f:\n",
        "  f.write(s.encode('cp949'))"
      ],
      "metadata": {
        "colab": {
          "base_uri": "https://localhost:8080/"
        },
        "id": "ouzVz5JO5wxu",
        "outputId": "6cc33e39-e632-479b-b9bd-8c6652b41e10"
      },
      "execution_count": null,
      "outputs": [
        {
          "output_type": "stream",
          "name": "stdout",
          "text": [
            "Overwriting score.py\n"
          ]
        }
      ]
    },
    {
      "cell_type": "code",
      "source": [
        "%run score.py"
      ],
      "metadata": {
        "id": "6w6J-5_s7c7Z"
      },
      "execution_count": null,
      "outputs": []
    },
    {
      "cell_type": "code",
      "source": [
        "cat test.b"
      ],
      "metadata": {
        "colab": {
          "base_uri": "https://localhost:8080/"
        },
        "id": "8yZ3xVqX7_-j",
        "outputId": "f9535894-f951-4c93-fc92-159aa0aacc67"
      },
      "execution_count": null,
      "outputs": [
        {
          "output_type": "stream",
          "name": "stdout",
          "text": [
            "������ ���� ��Ʈ�"
          ]
        }
      ]
    },
    {
      "cell_type": "code",
      "source": [
        "file_name = 'test.b'\n",
        "s = '에이지 오브 울트론'\n",
        "with open(file_name, 'wb')as f:\n",
        "  f.write(s.encode('cp949'))"
      ],
      "metadata": {
        "id": "19H2wZcp8BZL"
      },
      "execution_count": null,
      "outputs": []
    },
    {
      "cell_type": "code",
      "source": [
        "cat test.b"
      ],
      "metadata": {
        "colab": {
          "base_uri": "https://localhost:8080/"
        },
        "id": "4OvoN4ui8L9p",
        "outputId": "76ea287e-ea19-45a6-8094-82919d7ebdfd"
      },
      "execution_count": null,
      "outputs": [
        {
          "output_type": "stream",
          "name": "stdout",
          "text": [
            "������ ���� ��Ʈ�"
          ]
        }
      ]
    },
    {
      "cell_type": "code",
      "source": [
        "with open(file_name, 'rb')as f:\n",
        "  se = f.read()"
      ],
      "metadata": {
        "id": "x-9FOtBN8NXz"
      },
      "execution_count": null,
      "outputs": []
    },
    {
      "cell_type": "code",
      "source": [
        "se.decode('cp949')"
      ],
      "metadata": {
        "colab": {
          "base_uri": "https://localhost:8080/",
          "height": 35
        },
        "id": "5lWxZ4s38SG8",
        "outputId": "9b397b7d-2727-420e-f5ed-751a9ce91583"
      },
      "execution_count": null,
      "outputs": [
        {
          "output_type": "execute_result",
          "data": {
            "text/plain": [
              "'에이지 오브 울트론'"
            ],
            "application/vnd.google.colaboratory.intrinsic+json": {
              "type": "string"
            }
          },
          "metadata": {},
          "execution_count": 22
        }
      ]
    },
    {
      "cell_type": "code",
      "source": [
        "import pandas"
      ],
      "metadata": {
        "id": "qww8MeIuAj2v"
      },
      "execution_count": null,
      "outputs": []
    },
    {
      "cell_type": "code",
      "source": [
        "pip install --upgrade pandas-datareader"
      ],
      "metadata": {
        "colab": {
          "base_uri": "https://localhost:8080/"
        },
        "id": "-bWOIw4hAlZy",
        "outputId": "7b6a8edd-99ff-4a6e-c204-888bd96853ee"
      },
      "execution_count": null,
      "outputs": [
        {
          "output_type": "stream",
          "name": "stdout",
          "text": [
            "Requirement already satisfied: pandas-datareader in /usr/local/lib/python3.7/dist-packages (0.10.0)\n",
            "Requirement already satisfied: requests>=2.19.0 in /usr/local/lib/python3.7/dist-packages (from pandas-datareader) (2.23.0)\n",
            "Requirement already satisfied: pandas>=0.23 in /usr/local/lib/python3.7/dist-packages (from pandas-datareader) (1.3.5)\n",
            "Requirement already satisfied: lxml in /usr/local/lib/python3.7/dist-packages (from pandas-datareader) (4.2.6)\n",
            "Requirement already satisfied: numpy>=1.17.3 in /usr/local/lib/python3.7/dist-packages (from pandas>=0.23->pandas-datareader) (1.21.6)\n",
            "Requirement already satisfied: python-dateutil>=2.7.3 in /usr/local/lib/python3.7/dist-packages (from pandas>=0.23->pandas-datareader) (2.8.2)\n",
            "Requirement already satisfied: pytz>=2017.3 in /usr/local/lib/python3.7/dist-packages (from pandas>=0.23->pandas-datareader) (2022.1)\n",
            "Requirement already satisfied: six>=1.5 in /usr/local/lib/python3.7/dist-packages (from python-dateutil>=2.7.3->pandas>=0.23->pandas-datareader) (1.15.0)\n",
            "Requirement already satisfied: chardet<4,>=3.0.2 in /usr/local/lib/python3.7/dist-packages (from requests>=2.19.0->pandas-datareader) (3.0.4)\n",
            "Requirement already satisfied: certifi>=2017.4.17 in /usr/local/lib/python3.7/dist-packages (from requests>=2.19.0->pandas-datareader) (2021.10.8)\n",
            "Requirement already satisfied: urllib3!=1.25.0,!=1.25.1,<1.26,>=1.21.1 in /usr/local/lib/python3.7/dist-packages (from requests>=2.19.0->pandas-datareader) (1.24.3)\n",
            "Requirement already satisfied: idna<3,>=2.5 in /usr/local/lib/python3.7/dist-packages (from requests>=2.19.0->pandas-datareader) (2.10)\n"
          ]
        }
      ]
    },
    {
      "cell_type": "code",
      "source": [
        "import pandas_datareader.data as web"
      ],
      "metadata": {
        "id": "F_e2ZcY__rAM"
      },
      "execution_count": null,
      "outputs": []
    },
    {
      "cell_type": "code",
      "source": [
        "data = {i:web.get_data_yahoo(i) for i in ['AAPL','IBM','MSFT','GOOG']}"
      ],
      "metadata": {
        "id": "Wkp_wNvZAuI5"
      },
      "execution_count": null,
      "outputs": []
    },
    {
      "cell_type": "code",
      "source": [
        "data.keys()"
      ],
      "metadata": {
        "colab": {
          "base_uri": "https://localhost:8080/"
        },
        "id": "gkSgHZtgBSvT",
        "outputId": "951fab23-f1af-453d-8aa7-a576648de550"
      },
      "execution_count": null,
      "outputs": [
        {
          "output_type": "execute_result",
          "data": {
            "text/plain": [
              "dict_keys(['AAPL', 'IBM', 'MSFT', 'GOOG'])"
            ]
          },
          "metadata": {},
          "execution_count": 3
        }
      ]
    },
    {
      "cell_type": "code",
      "source": [
        "data['AAPL']"
      ],
      "metadata": {
        "colab": {
          "base_uri": "https://localhost:8080/",
          "height": 455
        },
        "id": "Pl7h-JZ3BWDY",
        "outputId": "788d8ccd-9e72-4b52-9604-e03cae334aa7"
      },
      "execution_count": null,
      "outputs": [
        {
          "output_type": "execute_result",
          "data": {
            "text/plain": [
              "                  High         Low        Open       Close       Volume  \\\n",
              "Date                                                                      \n",
              "2017-05-15   39.162498   38.762501   39.002499   38.924999  104038800.0   \n",
              "2017-05-16   39.014999   38.680000   38.985001   38.867500   80194000.0   \n",
              "2017-05-17   38.642502   37.427502   38.400002   37.562500  203070800.0   \n",
              "2017-05-18   38.334999   37.782501   37.817501   38.134998  134272800.0   \n",
              "2017-05-19   38.494999   38.157501   38.345001   38.264999  107843200.0   \n",
              "...                ...         ...         ...         ...          ...   \n",
              "2022-05-06  159.440002  154.179993  156.009995  157.279999  116055700.0   \n",
              "2022-05-09  155.830002  151.490005  154.929993  152.059998  131577900.0   \n",
              "2022-05-10  156.740005  152.929993  155.520004  154.509995  115366700.0   \n",
              "2022-05-11  155.449997  145.809998  153.500000  146.500000  142689800.0   \n",
              "2022-05-12  146.190002  138.800003  142.770004  142.559998  182602041.0   \n",
              "\n",
              "             Adj Close  \n",
              "Date                    \n",
              "2017-05-15   36.848980  \n",
              "2017-05-16   36.794548  \n",
              "2017-05-17   35.559143  \n",
              "2017-05-18   36.101105  \n",
              "2017-05-19   36.224171  \n",
              "...                ...  \n",
              "2022-05-06  157.279999  \n",
              "2022-05-09  152.059998  \n",
              "2022-05-10  154.509995  \n",
              "2022-05-11  146.500000  \n",
              "2022-05-12  142.559998  \n",
              "\n",
              "[1259 rows x 6 columns]"
            ],
            "text/html": [
              "\n",
              "  <div id=\"df-a5fc92a8-b3cd-4294-b269-2afc9fa33e25\">\n",
              "    <div class=\"colab-df-container\">\n",
              "      <div>\n",
              "<style scoped>\n",
              "    .dataframe tbody tr th:only-of-type {\n",
              "        vertical-align: middle;\n",
              "    }\n",
              "\n",
              "    .dataframe tbody tr th {\n",
              "        vertical-align: top;\n",
              "    }\n",
              "\n",
              "    .dataframe thead th {\n",
              "        text-align: right;\n",
              "    }\n",
              "</style>\n",
              "<table border=\"1\" class=\"dataframe\">\n",
              "  <thead>\n",
              "    <tr style=\"text-align: right;\">\n",
              "      <th></th>\n",
              "      <th>High</th>\n",
              "      <th>Low</th>\n",
              "      <th>Open</th>\n",
              "      <th>Close</th>\n",
              "      <th>Volume</th>\n",
              "      <th>Adj Close</th>\n",
              "    </tr>\n",
              "    <tr>\n",
              "      <th>Date</th>\n",
              "      <th></th>\n",
              "      <th></th>\n",
              "      <th></th>\n",
              "      <th></th>\n",
              "      <th></th>\n",
              "      <th></th>\n",
              "    </tr>\n",
              "  </thead>\n",
              "  <tbody>\n",
              "    <tr>\n",
              "      <th>2017-05-15</th>\n",
              "      <td>39.162498</td>\n",
              "      <td>38.762501</td>\n",
              "      <td>39.002499</td>\n",
              "      <td>38.924999</td>\n",
              "      <td>104038800.0</td>\n",
              "      <td>36.848980</td>\n",
              "    </tr>\n",
              "    <tr>\n",
              "      <th>2017-05-16</th>\n",
              "      <td>39.014999</td>\n",
              "      <td>38.680000</td>\n",
              "      <td>38.985001</td>\n",
              "      <td>38.867500</td>\n",
              "      <td>80194000.0</td>\n",
              "      <td>36.794548</td>\n",
              "    </tr>\n",
              "    <tr>\n",
              "      <th>2017-05-17</th>\n",
              "      <td>38.642502</td>\n",
              "      <td>37.427502</td>\n",
              "      <td>38.400002</td>\n",
              "      <td>37.562500</td>\n",
              "      <td>203070800.0</td>\n",
              "      <td>35.559143</td>\n",
              "    </tr>\n",
              "    <tr>\n",
              "      <th>2017-05-18</th>\n",
              "      <td>38.334999</td>\n",
              "      <td>37.782501</td>\n",
              "      <td>37.817501</td>\n",
              "      <td>38.134998</td>\n",
              "      <td>134272800.0</td>\n",
              "      <td>36.101105</td>\n",
              "    </tr>\n",
              "    <tr>\n",
              "      <th>2017-05-19</th>\n",
              "      <td>38.494999</td>\n",
              "      <td>38.157501</td>\n",
              "      <td>38.345001</td>\n",
              "      <td>38.264999</td>\n",
              "      <td>107843200.0</td>\n",
              "      <td>36.224171</td>\n",
              "    </tr>\n",
              "    <tr>\n",
              "      <th>...</th>\n",
              "      <td>...</td>\n",
              "      <td>...</td>\n",
              "      <td>...</td>\n",
              "      <td>...</td>\n",
              "      <td>...</td>\n",
              "      <td>...</td>\n",
              "    </tr>\n",
              "    <tr>\n",
              "      <th>2022-05-06</th>\n",
              "      <td>159.440002</td>\n",
              "      <td>154.179993</td>\n",
              "      <td>156.009995</td>\n",
              "      <td>157.279999</td>\n",
              "      <td>116055700.0</td>\n",
              "      <td>157.279999</td>\n",
              "    </tr>\n",
              "    <tr>\n",
              "      <th>2022-05-09</th>\n",
              "      <td>155.830002</td>\n",
              "      <td>151.490005</td>\n",
              "      <td>154.929993</td>\n",
              "      <td>152.059998</td>\n",
              "      <td>131577900.0</td>\n",
              "      <td>152.059998</td>\n",
              "    </tr>\n",
              "    <tr>\n",
              "      <th>2022-05-10</th>\n",
              "      <td>156.740005</td>\n",
              "      <td>152.929993</td>\n",
              "      <td>155.520004</td>\n",
              "      <td>154.509995</td>\n",
              "      <td>115366700.0</td>\n",
              "      <td>154.509995</td>\n",
              "    </tr>\n",
              "    <tr>\n",
              "      <th>2022-05-11</th>\n",
              "      <td>155.449997</td>\n",
              "      <td>145.809998</td>\n",
              "      <td>153.500000</td>\n",
              "      <td>146.500000</td>\n",
              "      <td>142689800.0</td>\n",
              "      <td>146.500000</td>\n",
              "    </tr>\n",
              "    <tr>\n",
              "      <th>2022-05-12</th>\n",
              "      <td>146.190002</td>\n",
              "      <td>138.800003</td>\n",
              "      <td>142.770004</td>\n",
              "      <td>142.559998</td>\n",
              "      <td>182602041.0</td>\n",
              "      <td>142.559998</td>\n",
              "    </tr>\n",
              "  </tbody>\n",
              "</table>\n",
              "<p>1259 rows × 6 columns</p>\n",
              "</div>\n",
              "      <button class=\"colab-df-convert\" onclick=\"convertToInteractive('df-a5fc92a8-b3cd-4294-b269-2afc9fa33e25')\"\n",
              "              title=\"Convert this dataframe to an interactive table.\"\n",
              "              style=\"display:none;\">\n",
              "        \n",
              "  <svg xmlns=\"http://www.w3.org/2000/svg\" height=\"24px\"viewBox=\"0 0 24 24\"\n",
              "       width=\"24px\">\n",
              "    <path d=\"M0 0h24v24H0V0z\" fill=\"none\"/>\n",
              "    <path d=\"M18.56 5.44l.94 2.06.94-2.06 2.06-.94-2.06-.94-.94-2.06-.94 2.06-2.06.94zm-11 1L8.5 8.5l.94-2.06 2.06-.94-2.06-.94L8.5 2.5l-.94 2.06-2.06.94zm10 10l.94 2.06.94-2.06 2.06-.94-2.06-.94-.94-2.06-.94 2.06-2.06.94z\"/><path d=\"M17.41 7.96l-1.37-1.37c-.4-.4-.92-.59-1.43-.59-.52 0-1.04.2-1.43.59L10.3 9.45l-7.72 7.72c-.78.78-.78 2.05 0 2.83L4 21.41c.39.39.9.59 1.41.59.51 0 1.02-.2 1.41-.59l7.78-7.78 2.81-2.81c.8-.78.8-2.07 0-2.86zM5.41 20L4 18.59l7.72-7.72 1.47 1.35L5.41 20z\"/>\n",
              "  </svg>\n",
              "      </button>\n",
              "      \n",
              "  <style>\n",
              "    .colab-df-container {\n",
              "      display:flex;\n",
              "      flex-wrap:wrap;\n",
              "      gap: 12px;\n",
              "    }\n",
              "\n",
              "    .colab-df-convert {\n",
              "      background-color: #E8F0FE;\n",
              "      border: none;\n",
              "      border-radius: 50%;\n",
              "      cursor: pointer;\n",
              "      display: none;\n",
              "      fill: #1967D2;\n",
              "      height: 32px;\n",
              "      padding: 0 0 0 0;\n",
              "      width: 32px;\n",
              "    }\n",
              "\n",
              "    .colab-df-convert:hover {\n",
              "      background-color: #E2EBFA;\n",
              "      box-shadow: 0px 1px 2px rgba(60, 64, 67, 0.3), 0px 1px 3px 1px rgba(60, 64, 67, 0.15);\n",
              "      fill: #174EA6;\n",
              "    }\n",
              "\n",
              "    [theme=dark] .colab-df-convert {\n",
              "      background-color: #3B4455;\n",
              "      fill: #D2E3FC;\n",
              "    }\n",
              "\n",
              "    [theme=dark] .colab-df-convert:hover {\n",
              "      background-color: #434B5C;\n",
              "      box-shadow: 0px 1px 3px 1px rgba(0, 0, 0, 0.15);\n",
              "      filter: drop-shadow(0px 1px 2px rgba(0, 0, 0, 0.3));\n",
              "      fill: #FFFFFF;\n",
              "    }\n",
              "  </style>\n",
              "\n",
              "      <script>\n",
              "        const buttonEl =\n",
              "          document.querySelector('#df-a5fc92a8-b3cd-4294-b269-2afc9fa33e25 button.colab-df-convert');\n",
              "        buttonEl.style.display =\n",
              "          google.colab.kernel.accessAllowed ? 'block' : 'none';\n",
              "\n",
              "        async function convertToInteractive(key) {\n",
              "          const element = document.querySelector('#df-a5fc92a8-b3cd-4294-b269-2afc9fa33e25');\n",
              "          const dataTable =\n",
              "            await google.colab.kernel.invokeFunction('convertToInteractive',\n",
              "                                                     [key], {});\n",
              "          if (!dataTable) return;\n",
              "\n",
              "          const docLinkHtml = 'Like what you see? Visit the ' +\n",
              "            '<a target=\"_blank\" href=https://colab.research.google.com/notebooks/data_table.ipynb>data table notebook</a>'\n",
              "            + ' to learn more about interactive tables.';\n",
              "          element.innerHTML = '';\n",
              "          dataTable['output_type'] = 'display_data';\n",
              "          await google.colab.output.renderOutput(dataTable, element);\n",
              "          const docLink = document.createElement('div');\n",
              "          docLink.innerHTML = docLinkHtml;\n",
              "          element.appendChild(docLink);\n",
              "        }\n",
              "      </script>\n",
              "    </div>\n",
              "  </div>\n",
              "  "
            ]
          },
          "metadata": {},
          "execution_count": 4
        }
      ]
    },
    {
      "cell_type": "code",
      "source": [
        "data['AAPL'].to_csv('aapl.csv')"
      ],
      "metadata": {
        "id": "dEplYl8UC6KR"
      },
      "execution_count": null,
      "outputs": []
    },
    {
      "cell_type": "code",
      "source": [
        "cat aapl.csv"
      ],
      "metadata": {
        "id": "QDbwsKjKDh7X"
      },
      "execution_count": null,
      "outputs": []
    },
    {
      "cell_type": "code",
      "source": [
        "import pandas as pd"
      ],
      "metadata": {
        "id": "6b8W3yfaEvQY"
      },
      "execution_count": null,
      "outputs": []
    },
    {
      "cell_type": "code",
      "source": [
        "price = pd.DataFrame({i:data_frame['Close']for i, data_frame in data.items()})"
      ],
      "metadata": {
        "id": "PKBwbWNCEx5R"
      },
      "execution_count": null,
      "outputs": []
    },
    {
      "cell_type": "code",
      "source": [
        "price"
      ],
      "metadata": {
        "colab": {
          "base_uri": "https://localhost:8080/",
          "height": 455
        },
        "id": "Kt9Q-VejGIMw",
        "outputId": "64ebbf31-59aa-4bb4-9c26-c24f02d4cee8"
      },
      "execution_count": null,
      "outputs": [
        {
          "output_type": "execute_result",
          "data": {
            "text/plain": [
              "                  AAPL         IBM        MSFT         GOOG\n",
              "Date                                                       \n",
              "2017-05-15   38.924999  144.847031   68.430000   937.080017\n",
              "2017-05-16   38.867500  146.921600   69.410004   943.000000\n",
              "2017-05-17   37.562500  144.292542   67.480003   919.619995\n",
              "2017-05-18   38.134998  144.149139   67.709999   930.239990\n",
              "2017-05-19   38.264999  145.296371   67.690002   934.010010\n",
              "...                ...         ...         ...          ...\n",
              "2022-05-06  157.279999  137.669998  274.730011  2313.199951\n",
              "2022-05-09  152.059998  134.440002  264.579987  2261.679932\n",
              "2022-05-10  154.509995  129.130005  269.500000  2291.689941\n",
              "2022-05-11  146.500000  130.750000  260.549988  2279.219971\n",
              "2022-05-12  142.559998  132.899994  255.350006  2263.219971\n",
              "\n",
              "[1259 rows x 4 columns]"
            ],
            "text/html": [
              "\n",
              "  <div id=\"df-19679301-9cd3-4012-9665-63d048c70adc\">\n",
              "    <div class=\"colab-df-container\">\n",
              "      <div>\n",
              "<style scoped>\n",
              "    .dataframe tbody tr th:only-of-type {\n",
              "        vertical-align: middle;\n",
              "    }\n",
              "\n",
              "    .dataframe tbody tr th {\n",
              "        vertical-align: top;\n",
              "    }\n",
              "\n",
              "    .dataframe thead th {\n",
              "        text-align: right;\n",
              "    }\n",
              "</style>\n",
              "<table border=\"1\" class=\"dataframe\">\n",
              "  <thead>\n",
              "    <tr style=\"text-align: right;\">\n",
              "      <th></th>\n",
              "      <th>AAPL</th>\n",
              "      <th>IBM</th>\n",
              "      <th>MSFT</th>\n",
              "      <th>GOOG</th>\n",
              "    </tr>\n",
              "    <tr>\n",
              "      <th>Date</th>\n",
              "      <th></th>\n",
              "      <th></th>\n",
              "      <th></th>\n",
              "      <th></th>\n",
              "    </tr>\n",
              "  </thead>\n",
              "  <tbody>\n",
              "    <tr>\n",
              "      <th>2017-05-15</th>\n",
              "      <td>38.924999</td>\n",
              "      <td>144.847031</td>\n",
              "      <td>68.430000</td>\n",
              "      <td>937.080017</td>\n",
              "    </tr>\n",
              "    <tr>\n",
              "      <th>2017-05-16</th>\n",
              "      <td>38.867500</td>\n",
              "      <td>146.921600</td>\n",
              "      <td>69.410004</td>\n",
              "      <td>943.000000</td>\n",
              "    </tr>\n",
              "    <tr>\n",
              "      <th>2017-05-17</th>\n",
              "      <td>37.562500</td>\n",
              "      <td>144.292542</td>\n",
              "      <td>67.480003</td>\n",
              "      <td>919.619995</td>\n",
              "    </tr>\n",
              "    <tr>\n",
              "      <th>2017-05-18</th>\n",
              "      <td>38.134998</td>\n",
              "      <td>144.149139</td>\n",
              "      <td>67.709999</td>\n",
              "      <td>930.239990</td>\n",
              "    </tr>\n",
              "    <tr>\n",
              "      <th>2017-05-19</th>\n",
              "      <td>38.264999</td>\n",
              "      <td>145.296371</td>\n",
              "      <td>67.690002</td>\n",
              "      <td>934.010010</td>\n",
              "    </tr>\n",
              "    <tr>\n",
              "      <th>...</th>\n",
              "      <td>...</td>\n",
              "      <td>...</td>\n",
              "      <td>...</td>\n",
              "      <td>...</td>\n",
              "    </tr>\n",
              "    <tr>\n",
              "      <th>2022-05-06</th>\n",
              "      <td>157.279999</td>\n",
              "      <td>137.669998</td>\n",
              "      <td>274.730011</td>\n",
              "      <td>2313.199951</td>\n",
              "    </tr>\n",
              "    <tr>\n",
              "      <th>2022-05-09</th>\n",
              "      <td>152.059998</td>\n",
              "      <td>134.440002</td>\n",
              "      <td>264.579987</td>\n",
              "      <td>2261.679932</td>\n",
              "    </tr>\n",
              "    <tr>\n",
              "      <th>2022-05-10</th>\n",
              "      <td>154.509995</td>\n",
              "      <td>129.130005</td>\n",
              "      <td>269.500000</td>\n",
              "      <td>2291.689941</td>\n",
              "    </tr>\n",
              "    <tr>\n",
              "      <th>2022-05-11</th>\n",
              "      <td>146.500000</td>\n",
              "      <td>130.750000</td>\n",
              "      <td>260.549988</td>\n",
              "      <td>2279.219971</td>\n",
              "    </tr>\n",
              "    <tr>\n",
              "      <th>2022-05-12</th>\n",
              "      <td>142.559998</td>\n",
              "      <td>132.899994</td>\n",
              "      <td>255.350006</td>\n",
              "      <td>2263.219971</td>\n",
              "    </tr>\n",
              "  </tbody>\n",
              "</table>\n",
              "<p>1259 rows × 4 columns</p>\n",
              "</div>\n",
              "      <button class=\"colab-df-convert\" onclick=\"convertToInteractive('df-19679301-9cd3-4012-9665-63d048c70adc')\"\n",
              "              title=\"Convert this dataframe to an interactive table.\"\n",
              "              style=\"display:none;\">\n",
              "        \n",
              "  <svg xmlns=\"http://www.w3.org/2000/svg\" height=\"24px\"viewBox=\"0 0 24 24\"\n",
              "       width=\"24px\">\n",
              "    <path d=\"M0 0h24v24H0V0z\" fill=\"none\"/>\n",
              "    <path d=\"M18.56 5.44l.94 2.06.94-2.06 2.06-.94-2.06-.94-.94-2.06-.94 2.06-2.06.94zm-11 1L8.5 8.5l.94-2.06 2.06-.94-2.06-.94L8.5 2.5l-.94 2.06-2.06.94zm10 10l.94 2.06.94-2.06 2.06-.94-2.06-.94-.94-2.06-.94 2.06-2.06.94z\"/><path d=\"M17.41 7.96l-1.37-1.37c-.4-.4-.92-.59-1.43-.59-.52 0-1.04.2-1.43.59L10.3 9.45l-7.72 7.72c-.78.78-.78 2.05 0 2.83L4 21.41c.39.39.9.59 1.41.59.51 0 1.02-.2 1.41-.59l7.78-7.78 2.81-2.81c.8-.78.8-2.07 0-2.86zM5.41 20L4 18.59l7.72-7.72 1.47 1.35L5.41 20z\"/>\n",
              "  </svg>\n",
              "      </button>\n",
              "      \n",
              "  <style>\n",
              "    .colab-df-container {\n",
              "      display:flex;\n",
              "      flex-wrap:wrap;\n",
              "      gap: 12px;\n",
              "    }\n",
              "\n",
              "    .colab-df-convert {\n",
              "      background-color: #E8F0FE;\n",
              "      border: none;\n",
              "      border-radius: 50%;\n",
              "      cursor: pointer;\n",
              "      display: none;\n",
              "      fill: #1967D2;\n",
              "      height: 32px;\n",
              "      padding: 0 0 0 0;\n",
              "      width: 32px;\n",
              "    }\n",
              "\n",
              "    .colab-df-convert:hover {\n",
              "      background-color: #E2EBFA;\n",
              "      box-shadow: 0px 1px 2px rgba(60, 64, 67, 0.3), 0px 1px 3px 1px rgba(60, 64, 67, 0.15);\n",
              "      fill: #174EA6;\n",
              "    }\n",
              "\n",
              "    [theme=dark] .colab-df-convert {\n",
              "      background-color: #3B4455;\n",
              "      fill: #D2E3FC;\n",
              "    }\n",
              "\n",
              "    [theme=dark] .colab-df-convert:hover {\n",
              "      background-color: #434B5C;\n",
              "      box-shadow: 0px 1px 3px 1px rgba(0, 0, 0, 0.15);\n",
              "      filter: drop-shadow(0px 1px 2px rgba(0, 0, 0, 0.3));\n",
              "      fill: #FFFFFF;\n",
              "    }\n",
              "  </style>\n",
              "\n",
              "      <script>\n",
              "        const buttonEl =\n",
              "          document.querySelector('#df-19679301-9cd3-4012-9665-63d048c70adc button.colab-df-convert');\n",
              "        buttonEl.style.display =\n",
              "          google.colab.kernel.accessAllowed ? 'block' : 'none';\n",
              "\n",
              "        async function convertToInteractive(key) {\n",
              "          const element = document.querySelector('#df-19679301-9cd3-4012-9665-63d048c70adc');\n",
              "          const dataTable =\n",
              "            await google.colab.kernel.invokeFunction('convertToInteractive',\n",
              "                                                     [key], {});\n",
              "          if (!dataTable) return;\n",
              "\n",
              "          const docLinkHtml = 'Like what you see? Visit the ' +\n",
              "            '<a target=\"_blank\" href=https://colab.research.google.com/notebooks/data_table.ipynb>data table notebook</a>'\n",
              "            + ' to learn more about interactive tables.';\n",
              "          element.innerHTML = '';\n",
              "          dataTable['output_type'] = 'display_data';\n",
              "          await google.colab.output.renderOutput(dataTable, element);\n",
              "          const docLink = document.createElement('div');\n",
              "          docLink.innerHTML = docLinkHtml;\n",
              "          element.appendChild(docLink);\n",
              "        }\n",
              "      </script>\n",
              "    </div>\n",
              "  </div>\n",
              "  "
            ]
          },
          "metadata": {},
          "execution_count": 9
        }
      ]
    },
    {
      "cell_type": "code",
      "source": [
        "price_year = price.resample('A').agg(['count','mean','max','min'])"
      ],
      "metadata": {
        "id": "4fyLE15RHVLZ"
      },
      "execution_count": null,
      "outputs": []
    },
    {
      "cell_type": "code",
      "source": [
        "price_year"
      ],
      "metadata": {
        "colab": {
          "base_uri": "https://localhost:8080/",
          "height": 468
        },
        "id": "7qQ4SLxWISsV",
        "outputId": "e0aeb389-5733-40eb-f54e-c4cb66e183e6"
      },
      "execution_count": null,
      "outputs": [
        {
          "output_type": "execute_result",
          "data": {
            "text/plain": [
              "            AAPL                                       IBM              \\\n",
              "           count        mean         max         min count        mean   \n",
              "Date                                                                     \n",
              "2017-12-31   160   39.688031   44.105000   35.567501   160  143.247670   \n",
              "2018-12-31   251   47.263357   58.017502   36.707500   251  137.529233   \n",
              "2019-12-31   252   52.063988   73.412498   35.547501   252  130.964218   \n",
              "2020-12-31   253   95.347075  136.690002   56.092499   253  118.929519   \n",
              "2021-12-31   252  140.989365  180.330002  116.360001   252  128.959140   \n",
              "2022-12-31    91  166.546154  182.009995  142.559998    91  130.982638   \n",
              "\n",
              "                                    MSFT                                      \\\n",
              "                   max         min count        mean         max         min   \n",
              "Date                                                                           \n",
              "2017-12-31  154.942642  133.556412   160   75.922813   86.849998   67.480003   \n",
              "2018-12-31  161.682602  102.839386   251  101.033984  115.610001   85.010002   \n",
              "2019-12-31  144.703629  107.944550   252  130.382024  158.960007   97.400002   \n",
              "2020-12-31  149.866150   90.602295   253  193.026126  231.649994  135.419998   \n",
              "2021-12-31  144.627151  113.365204   252  275.940754  343.109985  212.250000   \n",
              "2022-12-31  139.850006  121.349998    91  295.466374  334.750000  255.350006   \n",
              "\n",
              "            GOOG                                         \n",
              "           count         mean          max          min  \n",
              "Date                                                     \n",
              "2017-12-31   160   969.955814  1077.140015   898.700012  \n",
              "2018-12-31   251  1113.225134  1268.329956   976.219971  \n",
              "2019-12-31   252  1188.393057  1361.170044  1016.059998  \n",
              "2020-12-31   253  1481.403811  1827.989990  1056.619995  \n",
              "2021-12-31   252  2510.613731  3014.179932  1728.239990  \n",
              "2022-12-31    91  2647.538250  2960.729980  2261.679932  "
            ],
            "text/html": [
              "\n",
              "  <div id=\"df-c329ca39-713d-42e0-84d4-35ce60fb9765\">\n",
              "    <div class=\"colab-df-container\">\n",
              "      <div>\n",
              "<style scoped>\n",
              "    .dataframe tbody tr th:only-of-type {\n",
              "        vertical-align: middle;\n",
              "    }\n",
              "\n",
              "    .dataframe tbody tr th {\n",
              "        vertical-align: top;\n",
              "    }\n",
              "\n",
              "    .dataframe thead tr th {\n",
              "        text-align: left;\n",
              "    }\n",
              "\n",
              "    .dataframe thead tr:last-of-type th {\n",
              "        text-align: right;\n",
              "    }\n",
              "</style>\n",
              "<table border=\"1\" class=\"dataframe\">\n",
              "  <thead>\n",
              "    <tr>\n",
              "      <th></th>\n",
              "      <th colspan=\"4\" halign=\"left\">AAPL</th>\n",
              "      <th colspan=\"4\" halign=\"left\">IBM</th>\n",
              "      <th colspan=\"4\" halign=\"left\">MSFT</th>\n",
              "      <th colspan=\"4\" halign=\"left\">GOOG</th>\n",
              "    </tr>\n",
              "    <tr>\n",
              "      <th></th>\n",
              "      <th>count</th>\n",
              "      <th>mean</th>\n",
              "      <th>max</th>\n",
              "      <th>min</th>\n",
              "      <th>count</th>\n",
              "      <th>mean</th>\n",
              "      <th>max</th>\n",
              "      <th>min</th>\n",
              "      <th>count</th>\n",
              "      <th>mean</th>\n",
              "      <th>max</th>\n",
              "      <th>min</th>\n",
              "      <th>count</th>\n",
              "      <th>mean</th>\n",
              "      <th>max</th>\n",
              "      <th>min</th>\n",
              "    </tr>\n",
              "    <tr>\n",
              "      <th>Date</th>\n",
              "      <th></th>\n",
              "      <th></th>\n",
              "      <th></th>\n",
              "      <th></th>\n",
              "      <th></th>\n",
              "      <th></th>\n",
              "      <th></th>\n",
              "      <th></th>\n",
              "      <th></th>\n",
              "      <th></th>\n",
              "      <th></th>\n",
              "      <th></th>\n",
              "      <th></th>\n",
              "      <th></th>\n",
              "      <th></th>\n",
              "      <th></th>\n",
              "    </tr>\n",
              "  </thead>\n",
              "  <tbody>\n",
              "    <tr>\n",
              "      <th>2017-12-31</th>\n",
              "      <td>160</td>\n",
              "      <td>39.688031</td>\n",
              "      <td>44.105000</td>\n",
              "      <td>35.567501</td>\n",
              "      <td>160</td>\n",
              "      <td>143.247670</td>\n",
              "      <td>154.942642</td>\n",
              "      <td>133.556412</td>\n",
              "      <td>160</td>\n",
              "      <td>75.922813</td>\n",
              "      <td>86.849998</td>\n",
              "      <td>67.480003</td>\n",
              "      <td>160</td>\n",
              "      <td>969.955814</td>\n",
              "      <td>1077.140015</td>\n",
              "      <td>898.700012</td>\n",
              "    </tr>\n",
              "    <tr>\n",
              "      <th>2018-12-31</th>\n",
              "      <td>251</td>\n",
              "      <td>47.263357</td>\n",
              "      <td>58.017502</td>\n",
              "      <td>36.707500</td>\n",
              "      <td>251</td>\n",
              "      <td>137.529233</td>\n",
              "      <td>161.682602</td>\n",
              "      <td>102.839386</td>\n",
              "      <td>251</td>\n",
              "      <td>101.033984</td>\n",
              "      <td>115.610001</td>\n",
              "      <td>85.010002</td>\n",
              "      <td>251</td>\n",
              "      <td>1113.225134</td>\n",
              "      <td>1268.329956</td>\n",
              "      <td>976.219971</td>\n",
              "    </tr>\n",
              "    <tr>\n",
              "      <th>2019-12-31</th>\n",
              "      <td>252</td>\n",
              "      <td>52.063988</td>\n",
              "      <td>73.412498</td>\n",
              "      <td>35.547501</td>\n",
              "      <td>252</td>\n",
              "      <td>130.964218</td>\n",
              "      <td>144.703629</td>\n",
              "      <td>107.944550</td>\n",
              "      <td>252</td>\n",
              "      <td>130.382024</td>\n",
              "      <td>158.960007</td>\n",
              "      <td>97.400002</td>\n",
              "      <td>252</td>\n",
              "      <td>1188.393057</td>\n",
              "      <td>1361.170044</td>\n",
              "      <td>1016.059998</td>\n",
              "    </tr>\n",
              "    <tr>\n",
              "      <th>2020-12-31</th>\n",
              "      <td>253</td>\n",
              "      <td>95.347075</td>\n",
              "      <td>136.690002</td>\n",
              "      <td>56.092499</td>\n",
              "      <td>253</td>\n",
              "      <td>118.929519</td>\n",
              "      <td>149.866150</td>\n",
              "      <td>90.602295</td>\n",
              "      <td>253</td>\n",
              "      <td>193.026126</td>\n",
              "      <td>231.649994</td>\n",
              "      <td>135.419998</td>\n",
              "      <td>253</td>\n",
              "      <td>1481.403811</td>\n",
              "      <td>1827.989990</td>\n",
              "      <td>1056.619995</td>\n",
              "    </tr>\n",
              "    <tr>\n",
              "      <th>2021-12-31</th>\n",
              "      <td>252</td>\n",
              "      <td>140.989365</td>\n",
              "      <td>180.330002</td>\n",
              "      <td>116.360001</td>\n",
              "      <td>252</td>\n",
              "      <td>128.959140</td>\n",
              "      <td>144.627151</td>\n",
              "      <td>113.365204</td>\n",
              "      <td>252</td>\n",
              "      <td>275.940754</td>\n",
              "      <td>343.109985</td>\n",
              "      <td>212.250000</td>\n",
              "      <td>252</td>\n",
              "      <td>2510.613731</td>\n",
              "      <td>3014.179932</td>\n",
              "      <td>1728.239990</td>\n",
              "    </tr>\n",
              "    <tr>\n",
              "      <th>2022-12-31</th>\n",
              "      <td>91</td>\n",
              "      <td>166.546154</td>\n",
              "      <td>182.009995</td>\n",
              "      <td>142.559998</td>\n",
              "      <td>91</td>\n",
              "      <td>130.982638</td>\n",
              "      <td>139.850006</td>\n",
              "      <td>121.349998</td>\n",
              "      <td>91</td>\n",
              "      <td>295.466374</td>\n",
              "      <td>334.750000</td>\n",
              "      <td>255.350006</td>\n",
              "      <td>91</td>\n",
              "      <td>2647.538250</td>\n",
              "      <td>2960.729980</td>\n",
              "      <td>2261.679932</td>\n",
              "    </tr>\n",
              "  </tbody>\n",
              "</table>\n",
              "</div>\n",
              "      <button class=\"colab-df-convert\" onclick=\"convertToInteractive('df-c329ca39-713d-42e0-84d4-35ce60fb9765')\"\n",
              "              title=\"Convert this dataframe to an interactive table.\"\n",
              "              style=\"display:none;\">\n",
              "        \n",
              "  <svg xmlns=\"http://www.w3.org/2000/svg\" height=\"24px\"viewBox=\"0 0 24 24\"\n",
              "       width=\"24px\">\n",
              "    <path d=\"M0 0h24v24H0V0z\" fill=\"none\"/>\n",
              "    <path d=\"M18.56 5.44l.94 2.06.94-2.06 2.06-.94-2.06-.94-.94-2.06-.94 2.06-2.06.94zm-11 1L8.5 8.5l.94-2.06 2.06-.94-2.06-.94L8.5 2.5l-.94 2.06-2.06.94zm10 10l.94 2.06.94-2.06 2.06-.94-2.06-.94-.94-2.06-.94 2.06-2.06.94z\"/><path d=\"M17.41 7.96l-1.37-1.37c-.4-.4-.92-.59-1.43-.59-.52 0-1.04.2-1.43.59L10.3 9.45l-7.72 7.72c-.78.78-.78 2.05 0 2.83L4 21.41c.39.39.9.59 1.41.59.51 0 1.02-.2 1.41-.59l7.78-7.78 2.81-2.81c.8-.78.8-2.07 0-2.86zM5.41 20L4 18.59l7.72-7.72 1.47 1.35L5.41 20z\"/>\n",
              "  </svg>\n",
              "      </button>\n",
              "      \n",
              "  <style>\n",
              "    .colab-df-container {\n",
              "      display:flex;\n",
              "      flex-wrap:wrap;\n",
              "      gap: 12px;\n",
              "    }\n",
              "\n",
              "    .colab-df-convert {\n",
              "      background-color: #E8F0FE;\n",
              "      border: none;\n",
              "      border-radius: 50%;\n",
              "      cursor: pointer;\n",
              "      display: none;\n",
              "      fill: #1967D2;\n",
              "      height: 32px;\n",
              "      padding: 0 0 0 0;\n",
              "      width: 32px;\n",
              "    }\n",
              "\n",
              "    .colab-df-convert:hover {\n",
              "      background-color: #E2EBFA;\n",
              "      box-shadow: 0px 1px 2px rgba(60, 64, 67, 0.3), 0px 1px 3px 1px rgba(60, 64, 67, 0.15);\n",
              "      fill: #174EA6;\n",
              "    }\n",
              "\n",
              "    [theme=dark] .colab-df-convert {\n",
              "      background-color: #3B4455;\n",
              "      fill: #D2E3FC;\n",
              "    }\n",
              "\n",
              "    [theme=dark] .colab-df-convert:hover {\n",
              "      background-color: #434B5C;\n",
              "      box-shadow: 0px 1px 3px 1px rgba(0, 0, 0, 0.15);\n",
              "      filter: drop-shadow(0px 1px 2px rgba(0, 0, 0, 0.3));\n",
              "      fill: #FFFFFF;\n",
              "    }\n",
              "  </style>\n",
              "\n",
              "      <script>\n",
              "        const buttonEl =\n",
              "          document.querySelector('#df-c329ca39-713d-42e0-84d4-35ce60fb9765 button.colab-df-convert');\n",
              "        buttonEl.style.display =\n",
              "          google.colab.kernel.accessAllowed ? 'block' : 'none';\n",
              "\n",
              "        async function convertToInteractive(key) {\n",
              "          const element = document.querySelector('#df-c329ca39-713d-42e0-84d4-35ce60fb9765');\n",
              "          const dataTable =\n",
              "            await google.colab.kernel.invokeFunction('convertToInteractive',\n",
              "                                                     [key], {});\n",
              "          if (!dataTable) return;\n",
              "\n",
              "          const docLinkHtml = 'Like what you see? Visit the ' +\n",
              "            '<a target=\"_blank\" href=https://colab.research.google.com/notebooks/data_table.ipynb>data table notebook</a>'\n",
              "            + ' to learn more about interactive tables.';\n",
              "          element.innerHTML = '';\n",
              "          dataTable['output_type'] = 'display_data';\n",
              "          await google.colab.output.renderOutput(dataTable, element);\n",
              "          const docLink = document.createElement('div');\n",
              "          docLink.innerHTML = docLinkHtml;\n",
              "          element.appendChild(docLink);\n",
              "        }\n",
              "      </script>\n",
              "    </div>\n",
              "  </div>\n",
              "  "
            ]
          },
          "metadata": {},
          "execution_count": 12
        }
      ]
    },
    {
      "cell_type": "code",
      "source": [
        "price_year.to_csv('annual_stock.csv')"
      ],
      "metadata": {
        "id": "78DNrZBGIqNi"
      },
      "execution_count": null,
      "outputs": []
    },
    {
      "cell_type": "code",
      "source": [
        "cat annual_stock.csv"
      ],
      "metadata": {
        "colab": {
          "base_uri": "https://localhost:8080/"
        },
        "id": "ZNp-_gRmIyJL",
        "outputId": "bba43910-0467-48ca-e195-832e8a3b8525"
      },
      "execution_count": null,
      "outputs": [
        {
          "output_type": "stream",
          "name": "stdout",
          "text": [
            ",AAPL,AAPL,AAPL,AAPL,IBM,IBM,IBM,IBM,MSFT,MSFT,MSFT,MSFT,GOOG,GOOG,GOOG,GOOG\n",
            ",count,mean,max,min,count,mean,max,min,count,mean,max,min,count,mean,max,min\n",
            "Date,,,,,,,,,,,,,,,,\n",
            "2017-12-31,160,39.688031220436095,44.10499954223633,35.567501068115234,160,143.2476697921753,154.94264221191406,133.55641174316406,160,75.92281284332276,86.8499984741211,67.4800033569336,160,969.9558135986329,1077.1400146484375,898.7000122070312\n",
            "2018-12-31,251,47.263356698936676,58.01750183105469,36.70750045776367,251,137.52923325618426,161.68260192871094,102.83938598632812,251,101.03398411967365,115.61000061035156,85.01000213623047,251,1113.225134131443,1268.3299560546875,976.219970703125\n",
            "2019-12-31,252,52.063988049825035,73.4124984741211,35.54750061035156,252,130.96421762496706,144.70362854003906,107.94454956054688,252,130.38202400813026,158.9600067138672,97.4000015258789,252,1188.393057444739,1361.1700439453125,1016.0599975585938\n",
            "2020-12-31,253,95.34707487807444,136.69000244140625,56.092498779296875,253,118.92951862802619,149.86614990234375,90.602294921875,253,193.02612642431447,231.64999389648438,135.4199981689453,253,1481.4038110062068,1827.989990234375,1056.6199951171875\n",
            "2021-12-31,252,140.98936516898019,180.3300018310547,116.36000061035156,252,128.95913962712365,144.6271514892578,113.36520385742188,252,275.94075375511534,343.1099853515625,212.25,252,2510.613731263176,3014.179931640625,1728.239990234375\n",
            "2022-12-31,91,166.54615398029705,182.00999450683594,142.55999755859375,91,130.98263801323188,139.85000610351562,121.3499984741211,91,295.46637365320225,334.75,255.35000610351562,91,2647.5382495922045,2960.72998046875,2261.679931640625\n"
          ]
        }
      ]
    },
    {
      "cell_type": "code",
      "source": [
        "price_year_array = price_year.values"
      ],
      "metadata": {
        "id": "_RKi3_KKIqGL"
      },
      "execution_count": null,
      "outputs": []
    },
    {
      "cell_type": "code",
      "source": [
        "price_year_array.shape"
      ],
      "metadata": {
        "colab": {
          "base_uri": "https://localhost:8080/"
        },
        "id": "jhXQCGUjJntv",
        "outputId": "505ed731-3044-49b6-f8ae-8f1d5284af5b"
      },
      "execution_count": null,
      "outputs": [
        {
          "output_type": "execute_result",
          "data": {
            "text/plain": [
              "(6, 16)"
            ]
          },
          "metadata": {},
          "execution_count": 16
        }
      ]
    },
    {
      "cell_type": "code",
      "source": [
        "import pickle"
      ],
      "metadata": {
        "id": "y1515CZuKZ-P"
      },
      "execution_count": null,
      "outputs": []
    },
    {
      "cell_type": "code",
      "source": [
        "file_name = 'stock.pickle'"
      ],
      "metadata": {
        "id": "NSDPYPXmKRrw"
      },
      "execution_count": null,
      "outputs": []
    },
    {
      "cell_type": "code",
      "source": [
        "with open(file_name,'wb') as f:\n",
        "  pickle.dump(price_year,f)"
      ],
      "metadata": {
        "id": "-DNY9sEqKVHj"
      },
      "execution_count": null,
      "outputs": []
    },
    {
      "cell_type": "code",
      "source": [
        "cat stock.pickle"
      ],
      "metadata": {
        "id": "M0K4GJgzOoIr"
      },
      "execution_count": null,
      "outputs": []
    },
    {
      "cell_type": "code",
      "source": [
        "with open(file_name,'rb') as f:\n",
        "  x = pickle.load(f)"
      ],
      "metadata": {
        "id": "qsVz9iG5Or5q"
      },
      "execution_count": null,
      "outputs": []
    },
    {
      "cell_type": "code",
      "source": [
        "x"
      ],
      "metadata": {
        "colab": {
          "base_uri": "https://localhost:8080/",
          "height": 468
        },
        "id": "OcSvcoQYO8zN",
        "outputId": "7803f1a3-d85a-4575-cb30-66a453624867"
      },
      "execution_count": null,
      "outputs": [
        {
          "output_type": "execute_result",
          "data": {
            "text/plain": [
              "            AAPL                                       IBM              \\\n",
              "           count        mean         max         min count        mean   \n",
              "Date                                                                     \n",
              "2017-12-31   160   39.688031   44.105000   35.567501   160  143.247670   \n",
              "2018-12-31   251   47.263357   58.017502   36.707500   251  137.529233   \n",
              "2019-12-31   252   52.063988   73.412498   35.547501   252  130.964218   \n",
              "2020-12-31   253   95.347075  136.690002   56.092499   253  118.929519   \n",
              "2021-12-31   252  140.989365  180.330002  116.360001   252  128.959140   \n",
              "2022-12-31    91  166.546154  182.009995  142.559998    91  130.982638   \n",
              "\n",
              "                                    MSFT                                      \\\n",
              "                   max         min count        mean         max         min   \n",
              "Date                                                                           \n",
              "2017-12-31  154.942642  133.556412   160   75.922813   86.849998   67.480003   \n",
              "2018-12-31  161.682602  102.839386   251  101.033984  115.610001   85.010002   \n",
              "2019-12-31  144.703629  107.944550   252  130.382024  158.960007   97.400002   \n",
              "2020-12-31  149.866150   90.602295   253  193.026126  231.649994  135.419998   \n",
              "2021-12-31  144.627151  113.365204   252  275.940754  343.109985  212.250000   \n",
              "2022-12-31  139.850006  121.349998    91  295.466374  334.750000  255.350006   \n",
              "\n",
              "            GOOG                                         \n",
              "           count         mean          max          min  \n",
              "Date                                                     \n",
              "2017-12-31   160   969.955814  1077.140015   898.700012  \n",
              "2018-12-31   251  1113.225134  1268.329956   976.219971  \n",
              "2019-12-31   252  1188.393057  1361.170044  1016.059998  \n",
              "2020-12-31   253  1481.403811  1827.989990  1056.619995  \n",
              "2021-12-31   252  2510.613731  3014.179932  1728.239990  \n",
              "2022-12-31    91  2647.538250  2960.729980  2261.679932  "
            ],
            "text/html": [
              "\n",
              "  <div id=\"df-df1e7ba0-57e8-469b-830c-45c8980cb980\">\n",
              "    <div class=\"colab-df-container\">\n",
              "      <div>\n",
              "<style scoped>\n",
              "    .dataframe tbody tr th:only-of-type {\n",
              "        vertical-align: middle;\n",
              "    }\n",
              "\n",
              "    .dataframe tbody tr th {\n",
              "        vertical-align: top;\n",
              "    }\n",
              "\n",
              "    .dataframe thead tr th {\n",
              "        text-align: left;\n",
              "    }\n",
              "\n",
              "    .dataframe thead tr:last-of-type th {\n",
              "        text-align: right;\n",
              "    }\n",
              "</style>\n",
              "<table border=\"1\" class=\"dataframe\">\n",
              "  <thead>\n",
              "    <tr>\n",
              "      <th></th>\n",
              "      <th colspan=\"4\" halign=\"left\">AAPL</th>\n",
              "      <th colspan=\"4\" halign=\"left\">IBM</th>\n",
              "      <th colspan=\"4\" halign=\"left\">MSFT</th>\n",
              "      <th colspan=\"4\" halign=\"left\">GOOG</th>\n",
              "    </tr>\n",
              "    <tr>\n",
              "      <th></th>\n",
              "      <th>count</th>\n",
              "      <th>mean</th>\n",
              "      <th>max</th>\n",
              "      <th>min</th>\n",
              "      <th>count</th>\n",
              "      <th>mean</th>\n",
              "      <th>max</th>\n",
              "      <th>min</th>\n",
              "      <th>count</th>\n",
              "      <th>mean</th>\n",
              "      <th>max</th>\n",
              "      <th>min</th>\n",
              "      <th>count</th>\n",
              "      <th>mean</th>\n",
              "      <th>max</th>\n",
              "      <th>min</th>\n",
              "    </tr>\n",
              "    <tr>\n",
              "      <th>Date</th>\n",
              "      <th></th>\n",
              "      <th></th>\n",
              "      <th></th>\n",
              "      <th></th>\n",
              "      <th></th>\n",
              "      <th></th>\n",
              "      <th></th>\n",
              "      <th></th>\n",
              "      <th></th>\n",
              "      <th></th>\n",
              "      <th></th>\n",
              "      <th></th>\n",
              "      <th></th>\n",
              "      <th></th>\n",
              "      <th></th>\n",
              "      <th></th>\n",
              "    </tr>\n",
              "  </thead>\n",
              "  <tbody>\n",
              "    <tr>\n",
              "      <th>2017-12-31</th>\n",
              "      <td>160</td>\n",
              "      <td>39.688031</td>\n",
              "      <td>44.105000</td>\n",
              "      <td>35.567501</td>\n",
              "      <td>160</td>\n",
              "      <td>143.247670</td>\n",
              "      <td>154.942642</td>\n",
              "      <td>133.556412</td>\n",
              "      <td>160</td>\n",
              "      <td>75.922813</td>\n",
              "      <td>86.849998</td>\n",
              "      <td>67.480003</td>\n",
              "      <td>160</td>\n",
              "      <td>969.955814</td>\n",
              "      <td>1077.140015</td>\n",
              "      <td>898.700012</td>\n",
              "    </tr>\n",
              "    <tr>\n",
              "      <th>2018-12-31</th>\n",
              "      <td>251</td>\n",
              "      <td>47.263357</td>\n",
              "      <td>58.017502</td>\n",
              "      <td>36.707500</td>\n",
              "      <td>251</td>\n",
              "      <td>137.529233</td>\n",
              "      <td>161.682602</td>\n",
              "      <td>102.839386</td>\n",
              "      <td>251</td>\n",
              "      <td>101.033984</td>\n",
              "      <td>115.610001</td>\n",
              "      <td>85.010002</td>\n",
              "      <td>251</td>\n",
              "      <td>1113.225134</td>\n",
              "      <td>1268.329956</td>\n",
              "      <td>976.219971</td>\n",
              "    </tr>\n",
              "    <tr>\n",
              "      <th>2019-12-31</th>\n",
              "      <td>252</td>\n",
              "      <td>52.063988</td>\n",
              "      <td>73.412498</td>\n",
              "      <td>35.547501</td>\n",
              "      <td>252</td>\n",
              "      <td>130.964218</td>\n",
              "      <td>144.703629</td>\n",
              "      <td>107.944550</td>\n",
              "      <td>252</td>\n",
              "      <td>130.382024</td>\n",
              "      <td>158.960007</td>\n",
              "      <td>97.400002</td>\n",
              "      <td>252</td>\n",
              "      <td>1188.393057</td>\n",
              "      <td>1361.170044</td>\n",
              "      <td>1016.059998</td>\n",
              "    </tr>\n",
              "    <tr>\n",
              "      <th>2020-12-31</th>\n",
              "      <td>253</td>\n",
              "      <td>95.347075</td>\n",
              "      <td>136.690002</td>\n",
              "      <td>56.092499</td>\n",
              "      <td>253</td>\n",
              "      <td>118.929519</td>\n",
              "      <td>149.866150</td>\n",
              "      <td>90.602295</td>\n",
              "      <td>253</td>\n",
              "      <td>193.026126</td>\n",
              "      <td>231.649994</td>\n",
              "      <td>135.419998</td>\n",
              "      <td>253</td>\n",
              "      <td>1481.403811</td>\n",
              "      <td>1827.989990</td>\n",
              "      <td>1056.619995</td>\n",
              "    </tr>\n",
              "    <tr>\n",
              "      <th>2021-12-31</th>\n",
              "      <td>252</td>\n",
              "      <td>140.989365</td>\n",
              "      <td>180.330002</td>\n",
              "      <td>116.360001</td>\n",
              "      <td>252</td>\n",
              "      <td>128.959140</td>\n",
              "      <td>144.627151</td>\n",
              "      <td>113.365204</td>\n",
              "      <td>252</td>\n",
              "      <td>275.940754</td>\n",
              "      <td>343.109985</td>\n",
              "      <td>212.250000</td>\n",
              "      <td>252</td>\n",
              "      <td>2510.613731</td>\n",
              "      <td>3014.179932</td>\n",
              "      <td>1728.239990</td>\n",
              "    </tr>\n",
              "    <tr>\n",
              "      <th>2022-12-31</th>\n",
              "      <td>91</td>\n",
              "      <td>166.546154</td>\n",
              "      <td>182.009995</td>\n",
              "      <td>142.559998</td>\n",
              "      <td>91</td>\n",
              "      <td>130.982638</td>\n",
              "      <td>139.850006</td>\n",
              "      <td>121.349998</td>\n",
              "      <td>91</td>\n",
              "      <td>295.466374</td>\n",
              "      <td>334.750000</td>\n",
              "      <td>255.350006</td>\n",
              "      <td>91</td>\n",
              "      <td>2647.538250</td>\n",
              "      <td>2960.729980</td>\n",
              "      <td>2261.679932</td>\n",
              "    </tr>\n",
              "  </tbody>\n",
              "</table>\n",
              "</div>\n",
              "      <button class=\"colab-df-convert\" onclick=\"convertToInteractive('df-df1e7ba0-57e8-469b-830c-45c8980cb980')\"\n",
              "              title=\"Convert this dataframe to an interactive table.\"\n",
              "              style=\"display:none;\">\n",
              "        \n",
              "  <svg xmlns=\"http://www.w3.org/2000/svg\" height=\"24px\"viewBox=\"0 0 24 24\"\n",
              "       width=\"24px\">\n",
              "    <path d=\"M0 0h24v24H0V0z\" fill=\"none\"/>\n",
              "    <path d=\"M18.56 5.44l.94 2.06.94-2.06 2.06-.94-2.06-.94-.94-2.06-.94 2.06-2.06.94zm-11 1L8.5 8.5l.94-2.06 2.06-.94-2.06-.94L8.5 2.5l-.94 2.06-2.06.94zm10 10l.94 2.06.94-2.06 2.06-.94-2.06-.94-.94-2.06-.94 2.06-2.06.94z\"/><path d=\"M17.41 7.96l-1.37-1.37c-.4-.4-.92-.59-1.43-.59-.52 0-1.04.2-1.43.59L10.3 9.45l-7.72 7.72c-.78.78-.78 2.05 0 2.83L4 21.41c.39.39.9.59 1.41.59.51 0 1.02-.2 1.41-.59l7.78-7.78 2.81-2.81c.8-.78.8-2.07 0-2.86zM5.41 20L4 18.59l7.72-7.72 1.47 1.35L5.41 20z\"/>\n",
              "  </svg>\n",
              "      </button>\n",
              "      \n",
              "  <style>\n",
              "    .colab-df-container {\n",
              "      display:flex;\n",
              "      flex-wrap:wrap;\n",
              "      gap: 12px;\n",
              "    }\n",
              "\n",
              "    .colab-df-convert {\n",
              "      background-color: #E8F0FE;\n",
              "      border: none;\n",
              "      border-radius: 50%;\n",
              "      cursor: pointer;\n",
              "      display: none;\n",
              "      fill: #1967D2;\n",
              "      height: 32px;\n",
              "      padding: 0 0 0 0;\n",
              "      width: 32px;\n",
              "    }\n",
              "\n",
              "    .colab-df-convert:hover {\n",
              "      background-color: #E2EBFA;\n",
              "      box-shadow: 0px 1px 2px rgba(60, 64, 67, 0.3), 0px 1px 3px 1px rgba(60, 64, 67, 0.15);\n",
              "      fill: #174EA6;\n",
              "    }\n",
              "\n",
              "    [theme=dark] .colab-df-convert {\n",
              "      background-color: #3B4455;\n",
              "      fill: #D2E3FC;\n",
              "    }\n",
              "\n",
              "    [theme=dark] .colab-df-convert:hover {\n",
              "      background-color: #434B5C;\n",
              "      box-shadow: 0px 1px 3px 1px rgba(0, 0, 0, 0.15);\n",
              "      filter: drop-shadow(0px 1px 2px rgba(0, 0, 0, 0.3));\n",
              "      fill: #FFFFFF;\n",
              "    }\n",
              "  </style>\n",
              "\n",
              "      <script>\n",
              "        const buttonEl =\n",
              "          document.querySelector('#df-df1e7ba0-57e8-469b-830c-45c8980cb980 button.colab-df-convert');\n",
              "        buttonEl.style.display =\n",
              "          google.colab.kernel.accessAllowed ? 'block' : 'none';\n",
              "\n",
              "        async function convertToInteractive(key) {\n",
              "          const element = document.querySelector('#df-df1e7ba0-57e8-469b-830c-45c8980cb980');\n",
              "          const dataTable =\n",
              "            await google.colab.kernel.invokeFunction('convertToInteractive',\n",
              "                                                     [key], {});\n",
              "          if (!dataTable) return;\n",
              "\n",
              "          const docLinkHtml = 'Like what you see? Visit the ' +\n",
              "            '<a target=\"_blank\" href=https://colab.research.google.com/notebooks/data_table.ipynb>data table notebook</a>'\n",
              "            + ' to learn more about interactive tables.';\n",
              "          element.innerHTML = '';\n",
              "          dataTable['output_type'] = 'display_data';\n",
              "          await google.colab.output.renderOutput(dataTable, element);\n",
              "          const docLink = document.createElement('div');\n",
              "          docLink.innerHTML = docLinkHtml;\n",
              "          element.appendChild(docLink);\n",
              "        }\n",
              "      </script>\n",
              "    </div>\n",
              "  </div>\n",
              "  "
            ]
          },
          "metadata": {},
          "execution_count": 26
        }
      ]
    },
    {
      "cell_type": "code",
      "source": [
        "def add_(a,b):\n",
        "  return(a+b)"
      ],
      "metadata": {
        "id": "Y8juw1OjT1u6"
      },
      "execution_count": null,
      "outputs": []
    },
    {
      "cell_type": "code",
      "source": [
        "add_(10,20)"
      ],
      "metadata": {
        "colab": {
          "base_uri": "https://localhost:8080/"
        },
        "id": "TwthJ5uGT4tp",
        "outputId": "b8e24e64-dbec-44ad-d6d7-2635f1504729"
      },
      "execution_count": null,
      "outputs": [
        {
          "output_type": "execute_result",
          "data": {
            "text/plain": [
              "30"
            ]
          },
          "metadata": {},
          "execution_count": 31
        }
      ]
    },
    {
      "cell_type": "code",
      "source": [
        "def add_():\n",
        "  '''\n",
        "  합계를 구하는 함수\n",
        "  파라미터 : a, b\n",
        "  a= 정수\n",
        "  b = 정수\n",
        "  결과 : 정수형 자료\n",
        "  예저 > add_(10,20)\n",
        "  '''\n",
        "\n",
        "  a = 10\n",
        "  b= 20 \n",
        "  return(a+b)"
      ],
      "metadata": {
        "id": "D-F24MrnVfoI"
      },
      "execution_count": null,
      "outputs": []
    },
    {
      "cell_type": "code",
      "source": [
        "add_()"
      ],
      "metadata": {
        "colab": {
          "base_uri": "https://localhost:8080/",
          "height": 174
        },
        "id": "LdPe6K_hVwou",
        "outputId": "85bf3b5f-3c3d-4dad-83f5-a805112f3f89"
      },
      "execution_count": null,
      "outputs": [
        {
          "output_type": "error",
          "ename": "TypeError",
          "evalue": "ignored",
          "traceback": [
            "\u001b[0;31m---------------------------------------------------------------------------\u001b[0m",
            "\u001b[0;31mTypeError\u001b[0m                                 Traceback (most recent call last)",
            "\u001b[0;32m<ipython-input-32-1d74a06cc386>\u001b[0m in \u001b[0;36m<module>\u001b[0;34m()\u001b[0m\n\u001b[0;32m----> 1\u001b[0;31m \u001b[0madd_\u001b[0m\u001b[0;34m(\u001b[0m\u001b[0;34m)\u001b[0m\u001b[0;34m\u001b[0m\u001b[0;34m\u001b[0m\u001b[0m\n\u001b[0m",
            "\u001b[0;31mTypeError\u001b[0m: add_() missing 2 required positional arguments: 'a' and 'b'"
          ]
        }
      ]
    },
    {
      "cell_type": "code",
      "source": [
        "가 = 10"
      ],
      "metadata": {
        "id": "Rht4Pf-dVyei"
      },
      "execution_count": null,
      "outputs": []
    },
    {
      "cell_type": "code",
      "source": [
        "def greet(name):\n",
        "  '''\n",
        "  This function greets to \n",
        "  the person passed in as \n",
        "  a parameter\n",
        "  '''\n",
        "\n",
        "  print('Hello, ' + name + '. Good morning!' )\n",
        "\n",
        "greet('Paul')"
      ],
      "metadata": {
        "colab": {
          "base_uri": "https://localhost:8080/"
        },
        "id": "l2Cf2F3jZV0C",
        "outputId": "60cefb27-618a-4e1f-aa36-45739fae6cdd"
      },
      "execution_count": null,
      "outputs": [
        {
          "output_type": "stream",
          "name": "stdout",
          "text": [
            "Hello, Paul. Good morning!\n"
          ]
        }
      ]
    },
    {
      "cell_type": "code",
      "source": [
        "def minuss(height , width):\n",
        "  return height-width\n",
        "\n",
        "print('positional arguments (10,100) : ' , minuss(10,100))\n",
        "print('positional arguments (100,10) : ' , minuss(100,10))\n",
        "print('keyword arguments (width = 100, height = 10) : ' , minuss(width = 100,height = 10))\n",
        "print('positional & keyword arguments (100,width = 10) : ' , minuss(100, width = 10))\n",
        "#print('positional & keyword arguments (100,width = 10) : ' , minuss(100, height = 10))\n"
      ],
      "metadata": {
        "colab": {
          "base_uri": "https://localhost:8080/"
        },
        "id": "gFKLp5VLaND0",
        "outputId": "1c8f7a33-7c18-4479-f441-4d9a3e563b1c"
      },
      "execution_count": null,
      "outputs": [
        {
          "output_type": "stream",
          "name": "stdout",
          "text": [
            "positional arguments (10,100) :  -90\n",
            "positional arguments (100,10) :  90\n",
            "keyword arguments (width = 100, height = 10) :  -90\n",
            "positional & keyword arguments (100,width = 10) :  90\n"
          ]
        }
      ]
    },
    {
      "cell_type": "code",
      "source": [
        "try:\n",
        "    minuss(10, height=100)\n",
        "except Exception as e :\n",
        "  #pass\n",
        "  print(e)"
      ],
      "metadata": {
        "colab": {
          "base_uri": "https://localhost:8080/"
        },
        "id": "5rQjsAZxcmmk",
        "outputId": "ec7dc71f-ffbd-49d3-8263-185c902981e6"
      },
      "execution_count": null,
      "outputs": [
        {
          "output_type": "stream",
          "name": "stdout",
          "text": [
            "minuss() got multiple values for argument 'height'\n"
          ]
        }
      ]
    },
    {
      "cell_type": "code",
      "source": [
        "def my_sum(*integers):\n",
        "  result = 0\n",
        "  #print(integers)\n",
        "  for x in integers:\n",
        "    result+=x\n",
        "  return result\n",
        "\n",
        "#print(my_sum(1,2,3))\n",
        "result_from_my_sum = my_sum(10,20,30,40)\n",
        "print(result_from_my_sum)"
      ],
      "metadata": {
        "colab": {
          "base_uri": "https://localhost:8080/"
        },
        "id": "2EBNYh86eeW5",
        "outputId": "de215283-d1d8-4e4a-8ed8-ffa59bf8e564"
      },
      "execution_count": null,
      "outputs": [
        {
          "output_type": "stream",
          "name": "stdout",
          "text": [
            "100\n"
          ]
        }
      ]
    },
    {
      "cell_type": "code",
      "source": [
        "def string_sum(**words):\n",
        "  result = 0\n",
        "  print(words)\n",
        "  for arg in words.values():\n",
        "    print(arg)\n",
        "    result+= arg\n",
        "  return result\n",
        "\n",
        "print(string_sum(a=10,b=20,c=30,d=40,e=50))"
      ],
      "metadata": {
        "colab": {
          "base_uri": "https://localhost:8080/"
        },
        "id": "dc-IqqeyhVza",
        "outputId": "130924ba-a9be-4108-f8e3-fbda656bd9f7"
      },
      "execution_count": null,
      "outputs": [
        {
          "output_type": "stream",
          "name": "stdout",
          "text": [
            "{'a': 10, 'b': 20, 'c': 30, 'd': 40, 'e': 50}\n",
            "10\n",
            "20\n",
            "30\n",
            "40\n",
            "50\n",
            "150\n"
          ]
        }
      ]
    },
    {
      "cell_type": "code",
      "source": [
        "def g(a,b,*args,**kwargs):\n",
        "  print(a,b)\n",
        "  print(args)\n",
        "  print(kwargs)\n",
        "\n",
        "g(1,2,3,4,c=5,d=6)\n",
        "g(10,3,4,c=5,d=6)\n",
        "g(100,b=20,c=7)"
      ],
      "metadata": {
        "colab": {
          "base_uri": "https://localhost:8080/"
        },
        "id": "efRAhu5jho4t",
        "outputId": "f4ba70ed-5892-4083-ae65-63d09bfac388"
      },
      "execution_count": null,
      "outputs": [
        {
          "output_type": "stream",
          "name": "stdout",
          "text": [
            "1 2\n",
            "(3, 4)\n",
            "{'c': 5, 'd': 6}\n",
            "10 3\n",
            "(4,)\n",
            "{'c': 5, 'd': 6}\n",
            "100 20\n",
            "()\n",
            "{'c': 7}\n"
          ]
        }
      ]
    },
    {
      "cell_type": "markdown",
      "source": [
        "a =1 ,b=2\n",
        "args = (3,4)\n",
        "kwargs = {'c': 5, 'd': 6}\n",
        "\n",
        "(10 ,3 (4,){'c': 5, 'd': 6}\n",
        "\n",
        "(100 20,() ,{'c' : 7}\n"
      ],
      "metadata": {
        "id": "Q0sVUBIJzedZ"
      }
    },
    {
      "cell_type": "code",
      "source": [
        "g(1)"
      ],
      "metadata": {
        "colab": {
          "base_uri": "https://localhost:8080/",
          "height": 174
        },
        "id": "stoUrjq7059s",
        "outputId": "240db629-595b-4f64-ba69-40c4e461978a"
      },
      "execution_count": null,
      "outputs": [
        {
          "output_type": "error",
          "ename": "TypeError",
          "evalue": "ignored",
          "traceback": [
            "\u001b[0;31m---------------------------------------------------------------------------\u001b[0m",
            "\u001b[0;31mTypeError\u001b[0m                                 Traceback (most recent call last)",
            "\u001b[0;32m<ipython-input-40-3580407364ae>\u001b[0m in \u001b[0;36m<module>\u001b[0;34m()\u001b[0m\n\u001b[0;32m----> 1\u001b[0;31m \u001b[0mg\u001b[0m\u001b[0;34m(\u001b[0m\u001b[0;36m1\u001b[0m\u001b[0;34m)\u001b[0m\u001b[0;34m\u001b[0m\u001b[0;34m\u001b[0m\u001b[0m\n\u001b[0m",
            "\u001b[0;31mTypeError\u001b[0m: g() missing 1 required positional argument: 'b'"
          ]
        }
      ]
    },
    {
      "cell_type": "code",
      "source": [
        "dir"
      ],
      "metadata": {
        "colab": {
          "base_uri": "https://localhost:8080/"
        },
        "id": "_XCAIAtf2j4M",
        "outputId": "30201b1b-b535-40e9-a981-e31334d9b2f4"
      },
      "execution_count": null,
      "outputs": [
        {
          "output_type": "execute_result",
          "data": {
            "text/plain": [
              "<function dir>"
            ]
          },
          "metadata": {},
          "execution_count": 41
        }
      ]
    },
    {
      "cell_type": "code",
      "source": [
        "dir()"
      ],
      "metadata": {
        "colab": {
          "base_uri": "https://localhost:8080/"
        },
        "id": "ewe6dxn62lel",
        "outputId": "59ff6fc9-77e4-464a-fa7a-b65175fa196a"
      },
      "execution_count": null,
      "outputs": [
        {
          "output_type": "execute_result",
          "data": {
            "text/plain": [
              "['In',\n",
              " 'Out',\n",
              " '_',\n",
              " '_12',\n",
              " '_16',\n",
              " '_26',\n",
              " '_3',\n",
              " '_31',\n",
              " '_4',\n",
              " '_41',\n",
              " '_9',\n",
              " '__',\n",
              " '___',\n",
              " '__builtin__',\n",
              " '__builtins__',\n",
              " '__doc__',\n",
              " '__loader__',\n",
              " '__name__',\n",
              " '__package__',\n",
              " '__spec__',\n",
              " '_dh',\n",
              " '_exit_code',\n",
              " '_i',\n",
              " '_i1',\n",
              " '_i10',\n",
              " '_i11',\n",
              " '_i12',\n",
              " '_i13',\n",
              " '_i14',\n",
              " '_i15',\n",
              " '_i16',\n",
              " '_i17',\n",
              " '_i18',\n",
              " '_i19',\n",
              " '_i2',\n",
              " '_i20',\n",
              " '_i21',\n",
              " '_i22',\n",
              " '_i23',\n",
              " '_i24',\n",
              " '_i25',\n",
              " '_i26',\n",
              " '_i27',\n",
              " '_i28',\n",
              " '_i29',\n",
              " '_i3',\n",
              " '_i30',\n",
              " '_i31',\n",
              " '_i32',\n",
              " '_i33',\n",
              " '_i34',\n",
              " '_i35',\n",
              " '_i36',\n",
              " '_i37',\n",
              " '_i38',\n",
              " '_i39',\n",
              " '_i4',\n",
              " '_i40',\n",
              " '_i41',\n",
              " '_i42',\n",
              " '_i5',\n",
              " '_i6',\n",
              " '_i7',\n",
              " '_i8',\n",
              " '_i9',\n",
              " '_ih',\n",
              " '_ii',\n",
              " '_iii',\n",
              " '_oh',\n",
              " '_sh',\n",
              " 'add_',\n",
              " 'data',\n",
              " 'exit',\n",
              " 'f',\n",
              " 'file_name',\n",
              " 'g',\n",
              " 'get_ipython',\n",
              " 'greet',\n",
              " 'minuss',\n",
              " 'my_sum',\n",
              " 'pd',\n",
              " 'pickle',\n",
              " 'price',\n",
              " 'price_year',\n",
              " 'price_year_array',\n",
              " 'quit',\n",
              " 'result_from_my_sum',\n",
              " 'string_sum',\n",
              " 'web',\n",
              " 'x']"
            ]
          },
          "metadata": {},
          "execution_count": 42
        }
      ]
    },
    {
      "cell_type": "code",
      "source": [
        "def h (a,b,c):\n",
        "  print(a,b,c)\n",
        "a=(1,2,3)\n",
        "h(*a)"
      ],
      "metadata": {
        "colab": {
          "base_uri": "https://localhost:8080/"
        },
        "id": "dtZ6KXTy3FSw",
        "outputId": "c105de32-2342-4948-cccb-0680247e57da"
      },
      "execution_count": null,
      "outputs": [
        {
          "output_type": "stream",
          "name": "stdout",
          "text": [
            "1 2 3\n"
          ]
        }
      ]
    },
    {
      "cell_type": "code",
      "source": [
        "dargs ={'a':1, 'b':2,'c':3}\n",
        "h(**dargs)"
      ],
      "metadata": {
        "colab": {
          "base_uri": "https://localhost:8080/"
        },
        "id": "nDFefTfn3L3K",
        "outputId": "f3c73765-70aa-406b-e98b-732655923e67"
      },
      "execution_count": null,
      "outputs": [
        {
          "output_type": "stream",
          "name": "stdout",
          "text": [
            "1 2 3\n"
          ]
        }
      ]
    },
    {
      "cell_type": "code",
      "source": [
        "args = (1,2)\n",
        "dargs = {'c':3}\n",
        "h(*args, **dargs)"
      ],
      "metadata": {
        "colab": {
          "base_uri": "https://localhost:8080/"
        },
        "id": "Jl2DKPp64HVk",
        "outputId": "96e986d8-cc07-4a9c-99d3-cd6cfaf8700f"
      },
      "execution_count": null,
      "outputs": [
        {
          "output_type": "stream",
          "name": "stdout",
          "text": [
            "1 2 3\n"
          ]
        }
      ]
    },
    {
      "cell_type": "code",
      "source": [
        "def my_sum(*args):\n",
        "  result = 0\n",
        "  print(args)\n",
        "  type(args)\n",
        "  for x in args :\n",
        "    result +=x\n",
        "  return result\n",
        "\n",
        "list1 = [1,2,3]\n",
        "list2 = [4,5]\n",
        "list3 = [6,7,8,9]\n",
        "print(my_sum(*list1, *list2, *list3, 10))"
      ],
      "metadata": {
        "colab": {
          "base_uri": "https://localhost:8080/"
        },
        "id": "zcVyjQFG4Vls",
        "outputId": "53a48d4c-f765-42ce-f021-9e96d7cdcbd7"
      },
      "execution_count": null,
      "outputs": [
        {
          "output_type": "stream",
          "name": "stdout",
          "text": [
            "(1, 2, 3, 4, 5, 6, 7, 8, 9, 10)\n",
            "55\n"
          ]
        }
      ]
    },
    {
      "cell_type": "code",
      "source": [
        "k = [11,12,13]\n",
        "h(*k)"
      ],
      "metadata": {
        "colab": {
          "base_uri": "https://localhost:8080/"
        },
        "id": "Tif2QUI663LI",
        "outputId": "6f3dd3e7-2a06-4895-a741-30469cec6153"
      },
      "execution_count": null,
      "outputs": [
        {
          "output_type": "stream",
          "name": "stdout",
          "text": [
            "11 12 13\n"
          ]
        }
      ]
    },
    {
      "cell_type": "markdown",
      "source": [
        "*하나는 args(parameter)를 unpacking\n",
        "\n"
      ],
      "metadata": {
        "id": "EHAijDF7-Km8"
      }
    },
    {
      "cell_type": "code",
      "source": [
        "summs()"
      ],
      "metadata": {
        "colab": {
          "base_uri": "https://localhost:8080/"
        },
        "id": "I4I17W1pBtxp",
        "outputId": "b7ea5433-9adb-47b7-a592-e8ffe0ca60bc"
      },
      "execution_count": null,
      "outputs": [
        {
          "output_type": "stream",
          "name": "stdout",
          "text": [
            "5\n"
          ]
        }
      ]
    },
    {
      "cell_type": "code",
      "source": [
        "def summs():\n",
        "  a =2\n",
        "  b=3\n",
        "  print(a+b)\n",
        "  "
      ],
      "metadata": {
        "id": "9WqcyCSFByjT"
      },
      "execution_count": null,
      "outputs": []
    },
    {
      "cell_type": "code",
      "source": [
        "def triple(x):\n",
        "  print(x*x*x)\n",
        "triple(3)"
      ],
      "metadata": {
        "colab": {
          "base_uri": "https://localhost:8080/"
        },
        "id": "pZRkIzQ1CUxD",
        "outputId": "e39971ef-495e-4673-f62f-36e61724948b"
      },
      "execution_count": null,
      "outputs": [
        {
          "output_type": "stream",
          "name": "stdout",
          "text": [
            "27\n"
          ]
        }
      ]
    },
    {
      "cell_type": "code",
      "source": [
        "def multiple(x,y):\n",
        "  print(x*y)\n",
        "multiple(7,9)"
      ],
      "metadata": {
        "colab": {
          "base_uri": "https://localhost:8080/"
        },
        "id": "ZSbx-cVHCYLi",
        "outputId": "a6ed5a3b-582a-414c-85f1-01daf3c256cd"
      },
      "execution_count": null,
      "outputs": [
        {
          "output_type": "stream",
          "name": "stdout",
          "text": [
            "63\n"
          ]
        }
      ]
    },
    {
      "cell_type": "code",
      "source": [
        "def add_(a,b,c):\n",
        "  result = (a+b)*c\n",
        "  print(result)\n",
        "add_(10,20,30)"
      ],
      "metadata": {
        "colab": {
          "base_uri": "https://localhost:8080/"
        },
        "id": "Qd6Rr5EYDMQr",
        "outputId": "eab5809b-701d-4c2c-f5c4-46969c5465ee"
      },
      "execution_count": null,
      "outputs": [
        {
          "output_type": "stream",
          "name": "stdout",
          "text": [
            "900\n"
          ]
        }
      ]
    },
    {
      "cell_type": "code",
      "source": [
        "def f1(x):\n",
        "  a = 10\n",
        "  b = 20\n",
        "  y = (a+b)*x\n",
        "  return y \n",
        "\n",
        "c = f1(30)\n",
        "print(c)"
      ],
      "metadata": {
        "colab": {
          "base_uri": "https://localhost:8080/"
        },
        "id": "h_GaebzGD7Pf",
        "outputId": "bf793b57-67e8-41e3-fffd-ea8f49dea742"
      },
      "execution_count": null,
      "outputs": [
        {
          "output_type": "stream",
          "name": "stdout",
          "text": [
            "900\n"
          ]
        }
      ]
    },
    {
      "cell_type": "code",
      "source": [
        "def summs (a,b,c):\n",
        "  result = (a+b)*c\n",
        "  return (result)"
      ],
      "metadata": {
        "id": "MwplZ9qFEyHe"
      },
      "execution_count": null,
      "outputs": []
    },
    {
      "cell_type": "code",
      "source": [
        "result = summs(10,20,30)"
      ],
      "metadata": {
        "id": "XPHAezbZE4rt"
      },
      "execution_count": null,
      "outputs": []
    },
    {
      "cell_type": "code",
      "source": [
        "print(result)"
      ],
      "metadata": {
        "colab": {
          "base_uri": "https://localhost:8080/"
        },
        "id": "por43oO3E99O",
        "outputId": "9d442e47-be6e-4ba7-d241-23471d6212c1"
      },
      "execution_count": null,
      "outputs": [
        {
          "output_type": "stream",
          "name": "stdout",
          "text": [
            "900\n"
          ]
        }
      ]
    },
    {
      "cell_type": "code",
      "source": [
        "%%writefile python_module.py\n",
        "def summs (a,b,c):\n",
        "  result = (a+b)*c\n",
        "  return (result)"
      ],
      "metadata": {
        "colab": {
          "base_uri": "https://localhost:8080/"
        },
        "id": "coh0e9soJm4A",
        "outputId": "1bf8a025-df67-472f-de24-7a72163ec231"
      },
      "execution_count": null,
      "outputs": [
        {
          "output_type": "stream",
          "name": "stdout",
          "text": [
            "Writing python_module.py\n"
          ]
        }
      ]
    },
    {
      "cell_type": "code",
      "source": [
        "%%writefile client.py\n",
        "import python_module as pm\n",
        "result = pm.summs(10,20,30)\n",
        "print(result)"
      ],
      "metadata": {
        "colab": {
          "base_uri": "https://localhost:8080/"
        },
        "id": "ELj1Ez3THtv8",
        "outputId": "57eb20e4-73d0-4221-f27e-4df81c9a18cf"
      },
      "execution_count": null,
      "outputs": [
        {
          "output_type": "stream",
          "name": "stdout",
          "text": [
            "Overwriting client.py\n"
          ]
        }
      ]
    },
    {
      "cell_type": "code",
      "source": [
        "ls"
      ],
      "metadata": {
        "colab": {
          "base_uri": "https://localhost:8080/"
        },
        "id": "QPYyiSviIAOr",
        "outputId": "4968065e-9a16-43e3-a558-06d882a08ef1"
      },
      "execution_count": null,
      "outputs": [
        {
          "output_type": "stream",
          "name": "stdout",
          "text": [
            "aapl.csv          client.py  python_module.py  \u001b[0m\u001b[01;34msample_data\u001b[0m/  stock.pickle\n",
            "annual_stock.csv  main.c     python_modul.py   score.py      test.b\n"
          ]
        }
      ]
    },
    {
      "cell_type": "code",
      "source": [
        "%run client.py"
      ],
      "metadata": {
        "colab": {
          "base_uri": "https://localhost:8080/"
        },
        "id": "j0SBZNs0IDTq",
        "outputId": "e8105378-ebbc-4c4c-98da-617fb289f8ac"
      },
      "execution_count": null,
      "outputs": [
        {
          "output_type": "stream",
          "name": "stdout",
          "text": [
            "900\n"
          ]
        }
      ]
    },
    {
      "cell_type": "code",
      "source": [
        "f = lambda x : x*10"
      ],
      "metadata": {
        "id": "oq6w95VAcUbL"
      },
      "execution_count": null,
      "outputs": []
    },
    {
      "cell_type": "code",
      "source": [
        "f(3)"
      ],
      "metadata": {
        "colab": {
          "base_uri": "https://localhost:8080/"
        },
        "id": "A6W_YCu5cXNN",
        "outputId": "40270034-61d0-40f9-aabe-d806e8963844"
      },
      "execution_count": null,
      "outputs": [
        {
          "output_type": "execute_result",
          "data": {
            "text/plain": [
              "30"
            ]
          },
          "metadata": {},
          "execution_count": 85
        }
      ]
    },
    {
      "cell_type": "code",
      "source": [
        "g = lambda y : y+10"
      ],
      "metadata": {
        "id": "zGlA3zcyciDw"
      },
      "execution_count": null,
      "outputs": []
    },
    {
      "cell_type": "code",
      "source": [
        "g(3)"
      ],
      "metadata": {
        "colab": {
          "base_uri": "https://localhost:8080/"
        },
        "id": "oeHUtaBwcsSL",
        "outputId": "d9e2bcc6-205d-487b-9996-c17d01208ae2"
      },
      "execution_count": null,
      "outputs": [
        {
          "output_type": "execute_result",
          "data": {
            "text/plain": [
              "13"
            ]
          },
          "metadata": {},
          "execution_count": 87
        }
      ]
    },
    {
      "cell_type": "code",
      "source": [
        "a= ['123','456','789']\n",
        "type(a)"
      ],
      "metadata": {
        "colab": {
          "base_uri": "https://localhost:8080/"
        },
        "id": "lpVI19mFc06Y",
        "outputId": "0f37534c-4b2d-47d2-e830-d6b91ea8ad12"
      },
      "execution_count": null,
      "outputs": [
        {
          "output_type": "execute_result",
          "data": {
            "text/plain": [
              "list"
            ]
          },
          "metadata": {},
          "execution_count": 92
        }
      ]
    },
    {
      "cell_type": "code",
      "source": [
        "print(type(a[0]),type(a[1]),type(a[2]))"
      ],
      "metadata": {
        "colab": {
          "base_uri": "https://localhost:8080/"
        },
        "id": "YxBy0o_gc4tO",
        "outputId": "94a3da10-66a3-46dd-f8b9-08e89cc3a1ef"
      },
      "execution_count": null,
      "outputs": [
        {
          "output_type": "stream",
          "name": "stdout",
          "text": [
            "<class 'str'> <class 'str'> <class 'str'>\n"
          ]
        }
      ]
    },
    {
      "cell_type": "code",
      "source": [
        "a = list(map(int,a))"
      ],
      "metadata": {
        "id": "VJubv0Ipc-pY"
      },
      "execution_count": null,
      "outputs": []
    },
    {
      "cell_type": "code",
      "source": [
        "print(type(a[0]),type(a[1]),type(a[2]))"
      ],
      "metadata": {
        "colab": {
          "base_uri": "https://localhost:8080/"
        },
        "id": "IdO_nhNadBJI",
        "outputId": "2de74391-9595-46ee-b5de-5db747c960f9"
      },
      "execution_count": null,
      "outputs": [
        {
          "output_type": "stream",
          "name": "stdout",
          "text": [
            "<class 'int'> <class 'int'> <class 'int'>\n"
          ]
        }
      ]
    },
    {
      "cell_type": "code",
      "source": [
        ""
      ],
      "metadata": {
        "id": "hKcBZwYfeNCJ"
      },
      "execution_count": null,
      "outputs": []
    }
  ]
}