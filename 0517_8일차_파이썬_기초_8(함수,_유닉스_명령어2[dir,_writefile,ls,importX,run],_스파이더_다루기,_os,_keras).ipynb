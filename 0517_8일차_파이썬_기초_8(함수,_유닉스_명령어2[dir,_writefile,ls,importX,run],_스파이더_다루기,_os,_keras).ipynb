{
  "nbformat": 4,
  "nbformat_minor": 0,
  "metadata": {
    "colab": {
      "name": "0517 8일차 파이썬 기초 8(함수, 유닉스 명령어2[dir, writefile,ls,importX,run], 스파이더 다루기, os, keras).ipynb",
      "provenance": [],
      "collapsed_sections": [],
      "authorship_tag": "ABX9TyMu0Jt9JI/mr48Xb/vl+0uh",
      "include_colab_link": true
    },
    "kernelspec": {
      "name": "python3",
      "display_name": "Python 3"
    },
    "language_info": {
      "name": "python"
    }
  },
  "cells": [
    {
      "cell_type": "markdown",
      "metadata": {
        "id": "view-in-github",
        "colab_type": "text"
      },
      "source": [
        "<a href=\"https://colab.research.google.com/github/Angorith/acorn_python/blob/main/0517_8%EC%9D%BC%EC%B0%A8_%ED%8C%8C%EC%9D%B4%EC%8D%AC_%EA%B8%B0%EC%B4%88_8(%ED%95%A8%EC%88%98%2C_%EC%9C%A0%EB%8B%89%EC%8A%A4_%EB%AA%85%EB%A0%B9%EC%96%B42%5Bdir%2C_writefile%2Cls%2CimportX%2Crun%5D%2C_%EC%8A%A4%ED%8C%8C%EC%9D%B4%EB%8D%94_%EB%8B%A4%EB%A3%A8%EA%B8%B0%2C_os%2C_keras).ipynb\" target=\"_parent\"><img src=\"https://colab.research.google.com/assets/colab-badge.svg\" alt=\"Open In Colab\"/></a>"
      ]
    },
    {
      "cell_type": "code",
      "execution_count": null,
      "metadata": {
        "id": "Ws2cmxpIxvnf"
      },
      "outputs": [],
      "source": [
        "prices = [7,1,5,3,6,4]"
      ]
    },
    {
      "cell_type": "code",
      "source": [
        "print(min(prices))"
      ],
      "metadata": {
        "colab": {
          "base_uri": "https://localhost:8080/"
        },
        "id": "RKn7jMJbx8aF",
        "outputId": "a3a2cb67-85d7-4f19-cf14-669767c74f17"
      },
      "execution_count": null,
      "outputs": [
        {
          "output_type": "stream",
          "name": "stdout",
          "text": [
            "1\n"
          ]
        }
      ]
    },
    {
      "cell_type": "code",
      "source": [
        "print(max(prices))"
      ],
      "metadata": {
        "colab": {
          "base_uri": "https://localhost:8080/"
        },
        "id": "Knzjtnp0ybew",
        "outputId": "6666c34e-0b77-4f65-d9d2-76e57353a74e"
      },
      "execution_count": null,
      "outputs": [
        {
          "output_type": "stream",
          "name": "stdout",
          "text": [
            "7\n"
          ]
        }
      ]
    },
    {
      "cell_type": "code",
      "source": [
        "for i in prices:\n",
        "  print(i)\n",
        "  if i < max(prices):\n",
        "    continue\n",
        "  elif i > min(prices):\n",
        "    if i== prices([i]):\n",
        "      a = a - min(prices) \n",
        "      print(a) "
      ],
      "metadata": {
        "colab": {
          "base_uri": "https://localhost:8080/",
          "height": 259
        },
        "id": "g6-v2QzhzQK5",
        "outputId": "052c233b-b502-43e4-e95d-c7904ded131b"
      },
      "execution_count": null,
      "outputs": [
        {
          "output_type": "stream",
          "name": "stdout",
          "text": [
            "7\n"
          ]
        },
        {
          "output_type": "error",
          "ename": "TypeError",
          "evalue": "ignored",
          "traceback": [
            "\u001b[0;31m---------------------------------------------------------------------------\u001b[0m",
            "\u001b[0;31mTypeError\u001b[0m                                 Traceback (most recent call last)",
            "\u001b[0;32m<ipython-input-14-d2447f8cd905>\u001b[0m in \u001b[0;36m<module>\u001b[0;34m()\u001b[0m\n\u001b[1;32m      4\u001b[0m     \u001b[0;32mcontinue\u001b[0m\u001b[0;34m\u001b[0m\u001b[0;34m\u001b[0m\u001b[0m\n\u001b[1;32m      5\u001b[0m   \u001b[0;32melif\u001b[0m \u001b[0mi\u001b[0m\u001b[0;34m>\u001b[0m\u001b[0mmin\u001b[0m\u001b[0;34m(\u001b[0m\u001b[0mprices\u001b[0m\u001b[0;34m)\u001b[0m\u001b[0;34m:\u001b[0m\u001b[0;34m\u001b[0m\u001b[0;34m\u001b[0m\u001b[0m\n\u001b[0;32m----> 6\u001b[0;31m     \u001b[0;32mif\u001b[0m \u001b[0mi\u001b[0m\u001b[0;34m==\u001b[0m \u001b[0mprices\u001b[0m\u001b[0;34m(\u001b[0m\u001b[0;34m[\u001b[0m\u001b[0mi\u001b[0m\u001b[0;34m]\u001b[0m\u001b[0;34m)\u001b[0m\u001b[0;34m:\u001b[0m\u001b[0;34m\u001b[0m\u001b[0;34m\u001b[0m\u001b[0m\n\u001b[0m\u001b[1;32m      7\u001b[0m       \u001b[0ma\u001b[0m \u001b[0;34m=\u001b[0m \u001b[0ma\u001b[0m\u001b[0;34m-\u001b[0m\u001b[0mmin\u001b[0m\u001b[0;34m(\u001b[0m\u001b[0mprices\u001b[0m\u001b[0;34m)\u001b[0m\u001b[0;34m\u001b[0m\u001b[0;34m\u001b[0m\u001b[0m\n\u001b[1;32m      8\u001b[0m       \u001b[0mprint\u001b[0m\u001b[0;34m(\u001b[0m\u001b[0ma\u001b[0m\u001b[0;34m)\u001b[0m\u001b[0;34m\u001b[0m\u001b[0;34m\u001b[0m\u001b[0m\n",
            "\u001b[0;31mTypeError\u001b[0m: 'list' object is not callable"
          ]
        }
      ]
    },
    {
      "cell_type": "code",
      "source": [
        "def stock(prices):\n",
        "  low_price = prices[0]\n",
        "  profit = 0\n",
        "\n",
        "  for won in prices:\n",
        "    if won < low_price:\n",
        "      low_price = won\n",
        "    if profit < (won - low_price):\n",
        "      profit = won - low_price\n",
        "  return profit\n",
        "\n",
        "stock(prices)"
      ],
      "metadata": {
        "colab": {
          "base_uri": "https://localhost:8080/"
        },
        "id": "KVGBnk4Q1jdf",
        "outputId": "11f42d1a-c404-4b2a-b2f9-92b1cfcc4f76"
      },
      "execution_count": null,
      "outputs": [
        {
          "output_type": "execute_result",
          "data": {
            "text/plain": [
              "5"
            ]
          },
          "metadata": {},
          "execution_count": 17
        }
      ]
    },
    {
      "cell_type": "code",
      "source": [
        "print(dir())"
      ],
      "metadata": {
        "colab": {
          "base_uri": "https://localhost:8080/"
        },
        "id": "oZA7ja5EehoH",
        "outputId": "b5272a54-e833-4655-cfa1-e96550fd53d7"
      },
      "execution_count": null,
      "outputs": [
        {
          "output_type": "stream",
          "name": "stdout",
          "text": [
            "['In', 'Out', '_', '__', '___', '__builtin__', '__builtins__', '__doc__', '__loader__', '__name__', '__package__', '__spec__', '_dh', '_i', '_i1', '_ih', '_ii', '_iii', '_oh', '_sh', 'exit', 'get_ipython', 'quit']\n"
          ]
        }
      ]
    },
    {
      "cell_type": "code",
      "source": [
        "print(dir(object))"
      ],
      "metadata": {
        "colab": {
          "base_uri": "https://localhost:8080/"
        },
        "id": "o04lxLroekPq",
        "outputId": "e483421e-5ad5-4c50-9ef1-5f54e221526b"
      },
      "execution_count": null,
      "outputs": [
        {
          "output_type": "stream",
          "name": "stdout",
          "text": [
            "['__class__', '__delattr__', '__dir__', '__doc__', '__eq__', '__format__', '__ge__', '__getattribute__', '__gt__', '__hash__', '__init__', '__init_subclass__', '__le__', '__lt__', '__ne__', '__new__', '__reduce__', '__reduce_ex__', '__repr__', '__setattr__', '__sizeof__', '__str__', '__subclasshook__']\n"
          ]
        }
      ]
    },
    {
      "cell_type": "code",
      "source": [
        "class test_class:\n",
        "  pass"
      ],
      "metadata": {
        "id": "Xt7XU7F8e40j"
      },
      "execution_count": null,
      "outputs": []
    },
    {
      "cell_type": "code",
      "source": [
        "object_test_class = test_class()"
      ],
      "metadata": {
        "id": "14O2m5cBe7KL"
      },
      "execution_count": null,
      "outputs": []
    },
    {
      "cell_type": "code",
      "source": [
        "object_test_class.__dir__()"
      ],
      "metadata": {
        "colab": {
          "base_uri": "https://localhost:8080/"
        },
        "id": "G5PLkF6qe-BA",
        "outputId": "5d237d73-8700-45ea-cf86-1c45f84db31c"
      },
      "execution_count": null,
      "outputs": [
        {
          "output_type": "execute_result",
          "data": {
            "text/plain": [
              "['__module__',\n",
              " '__dict__',\n",
              " '__weakref__',\n",
              " '__doc__',\n",
              " '__repr__',\n",
              " '__hash__',\n",
              " '__str__',\n",
              " '__getattribute__',\n",
              " '__setattr__',\n",
              " '__delattr__',\n",
              " '__lt__',\n",
              " '__le__',\n",
              " '__eq__',\n",
              " '__ne__',\n",
              " '__gt__',\n",
              " '__ge__',\n",
              " '__init__',\n",
              " '__new__',\n",
              " '__reduce_ex__',\n",
              " '__reduce__',\n",
              " '__subclasshook__',\n",
              " '__init_subclass__',\n",
              " '__format__',\n",
              " '__sizeof__',\n",
              " '__dir__',\n",
              " '__class__']"
            ]
          },
          "metadata": {},
          "execution_count": 5
        }
      ]
    },
    {
      "cell_type": "code",
      "source": [
        "dir()"
      ],
      "metadata": {
        "colab": {
          "base_uri": "https://localhost:8080/"
        },
        "id": "GI-_TO26fUqO",
        "outputId": "0c0edd97-a336-4392-9cd7-3a8e2f39c7c6"
      },
      "execution_count": null,
      "outputs": [
        {
          "output_type": "execute_result",
          "data": {
            "text/plain": [
              "['In',\n",
              " 'Out',\n",
              " '_',\n",
              " '_5',\n",
              " '__',\n",
              " '___',\n",
              " '__builtin__',\n",
              " '__builtins__',\n",
              " '__doc__',\n",
              " '__loader__',\n",
              " '__name__',\n",
              " '__package__',\n",
              " '__spec__',\n",
              " '_dh',\n",
              " '_i',\n",
              " '_i1',\n",
              " '_i2',\n",
              " '_i3',\n",
              " '_i4',\n",
              " '_i5',\n",
              " '_i6',\n",
              " '_ih',\n",
              " '_ii',\n",
              " '_iii',\n",
              " '_oh',\n",
              " '_sh',\n",
              " 'exit',\n",
              " 'get_ipython',\n",
              " 'object_test_class',\n",
              " 'quit',\n",
              " 'test_class']"
            ]
          },
          "metadata": {},
          "execution_count": 6
        }
      ]
    },
    {
      "cell_type": "code",
      "source": [
        "a = {11:222}"
      ],
      "metadata": {
        "id": "L2X3EjaMfWMe"
      },
      "execution_count": null,
      "outputs": []
    },
    {
      "cell_type": "code",
      "source": [
        "dir(a)"
      ],
      "metadata": {
        "colab": {
          "base_uri": "https://localhost:8080/"
        },
        "id": "ciy0GCeQflKu",
        "outputId": "8dc69da0-c8f9-4566-cc62-c6ba483dc529"
      },
      "execution_count": null,
      "outputs": [
        {
          "output_type": "execute_result",
          "data": {
            "text/plain": [
              "['__class__',\n",
              " '__contains__',\n",
              " '__delattr__',\n",
              " '__delitem__',\n",
              " '__dir__',\n",
              " '__doc__',\n",
              " '__eq__',\n",
              " '__format__',\n",
              " '__ge__',\n",
              " '__getattribute__',\n",
              " '__getitem__',\n",
              " '__gt__',\n",
              " '__hash__',\n",
              " '__init__',\n",
              " '__init_subclass__',\n",
              " '__iter__',\n",
              " '__le__',\n",
              " '__len__',\n",
              " '__lt__',\n",
              " '__ne__',\n",
              " '__new__',\n",
              " '__reduce__',\n",
              " '__reduce_ex__',\n",
              " '__repr__',\n",
              " '__setattr__',\n",
              " '__setitem__',\n",
              " '__sizeof__',\n",
              " '__str__',\n",
              " '__subclasshook__',\n",
              " 'clear',\n",
              " 'copy',\n",
              " 'fromkeys',\n",
              " 'get',\n",
              " 'items',\n",
              " 'keys',\n",
              " 'pop',\n",
              " 'popitem',\n",
              " 'setdefault',\n",
              " 'update',\n",
              " 'values']"
            ]
          },
          "metadata": {},
          "execution_count": 8
        }
      ]
    },
    {
      "cell_type": "markdown",
      "source": [
        "**파일 생성**"
      ],
      "metadata": {
        "id": "hF6QnikGonwB"
      }
    },
    {
      "cell_type": "code",
      "source": [
        "%%writefile user_module.py\n",
        "def print_seq():\n",
        "  for i in range(10):\n",
        "    print(i)"
      ],
      "metadata": {
        "colab": {
          "base_uri": "https://localhost:8080/"
        },
        "id": "LFQJRimGnn9x",
        "outputId": "85924012-0d8d-456b-9ba1-ffc26dfec9fb"
      },
      "execution_count": null,
      "outputs": [
        {
          "output_type": "stream",
          "name": "stdout",
          "text": [
            "Writing user_module.py\n"
          ]
        }
      ]
    },
    {
      "cell_type": "code",
      "source": [
        "ls"
      ],
      "metadata": {
        "colab": {
          "base_uri": "https://localhost:8080/"
        },
        "id": "033qvIVVnxdi",
        "outputId": "2ce9582e-4ec3-42fd-d140-b41bac3adf34"
      },
      "execution_count": null,
      "outputs": [
        {
          "output_type": "stream",
          "name": "stdout",
          "text": [
            "\u001b[0m\u001b[01;34msample_data\u001b[0m/  user_module.py\n"
          ]
        }
      ]
    },
    {
      "cell_type": "code",
      "source": [
        "import user_module as um"
      ],
      "metadata": {
        "id": "LyXVwIgKnytL"
      },
      "execution_count": null,
      "outputs": []
    },
    {
      "cell_type": "code",
      "source": [
        "um.print_seq()"
      ],
      "metadata": {
        "colab": {
          "base_uri": "https://localhost:8080/"
        },
        "id": "kQ-RKxl2n1h0",
        "outputId": "058c2e1d-68d5-4133-b2c1-67a597f31ccd"
      },
      "execution_count": null,
      "outputs": [
        {
          "output_type": "stream",
          "name": "stdout",
          "text": [
            "0\n",
            "1\n",
            "2\n",
            "3\n",
            "4\n",
            "5\n",
            "6\n",
            "7\n",
            "8\n",
            "9\n"
          ]
        }
      ]
    },
    {
      "cell_type": "code",
      "source": [
        "!mkdir pyum"
      ],
      "metadata": {
        "id": "NjHvQC0LopfL"
      },
      "execution_count": null,
      "outputs": []
    },
    {
      "cell_type": "code",
      "source": [
        "ls"
      ],
      "metadata": {
        "colab": {
          "base_uri": "https://localhost:8080/"
        },
        "id": "EplaPADoowkc",
        "outputId": "58188aa3-dee9-49a2-c581-a28b1d070d99"
      },
      "execution_count": null,
      "outputs": [
        {
          "output_type": "stream",
          "name": "stdout",
          "text": [
            "\u001b[0m\u001b[01;34m__pycache__\u001b[0m/  \u001b[01;34mpyum\u001b[0m/  \u001b[01;34msample_data\u001b[0m/  user_module.py\n"
          ]
        }
      ]
    },
    {
      "cell_type": "code",
      "source": [
        "mv user_module.py pyum"
      ],
      "metadata": {
        "id": "K0eMRJxmozfX"
      },
      "execution_count": null,
      "outputs": []
    },
    {
      "cell_type": "code",
      "source": [
        "ls pyum/"
      ],
      "metadata": {
        "colab": {
          "base_uri": "https://localhost:8080/"
        },
        "id": "JE9XvOZfo5e0",
        "outputId": "80d7e4c2-922e-4801-a3f4-ebe4fc871b47"
      },
      "execution_count": null,
      "outputs": [
        {
          "output_type": "stream",
          "name": "stdout",
          "text": [
            "user_module.py\n"
          ]
        }
      ]
    },
    {
      "cell_type": "markdown",
      "source": [
        "*pyum폴더로 이동했기때문에 에러가남*"
      ],
      "metadata": {
        "id": "l1Bye5z2pIw_"
      }
    },
    {
      "cell_type": "code",
      "source": [
        "import user_module as um"
      ],
      "metadata": {
        "colab": {
          "base_uri": "https://localhost:8080/",
          "height": 321
        },
        "id": "ydRzo06Uo9fj",
        "outputId": "e3bd2dfd-c6db-48e7-94e3-910decc20599"
      },
      "execution_count": null,
      "outputs": [
        {
          "output_type": "error",
          "ename": "ModuleNotFoundError",
          "evalue": "ignored",
          "traceback": [
            "\u001b[0;31m---------------------------------------------------------------------------\u001b[0m",
            "\u001b[0;31mModuleNotFoundError\u001b[0m                       Traceback (most recent call last)",
            "\u001b[0;32m<ipython-input-1-552aa3839598>\u001b[0m in \u001b[0;36m<module>\u001b[0;34m()\u001b[0m\n\u001b[0;32m----> 1\u001b[0;31m \u001b[0;32mimport\u001b[0m \u001b[0muser_module\u001b[0m \u001b[0;32mas\u001b[0m \u001b[0mum\u001b[0m\u001b[0;34m\u001b[0m\u001b[0;34m\u001b[0m\u001b[0m\n\u001b[0m",
            "\u001b[0;31mModuleNotFoundError\u001b[0m: No module named 'user_module'",
            "",
            "\u001b[0;31m---------------------------------------------------------------------------\u001b[0;32m\nNOTE: If your import is failing due to a missing package, you can\nmanually install dependencies using either !pip or !apt.\n\nTo view examples of installing some common dependencies, click the\n\"Open Examples\" button below.\n\u001b[0;31m---------------------------------------------------------------------------\u001b[0m\n"
          ],
          "errorDetails": {
            "actions": [
              {
                "action": "open_url",
                "actionText": "Open Examples",
                "url": "/notebooks/snippets/importing_libraries.ipynb"
              }
            ]
          }
        }
      ]
    },
    {
      "cell_type": "code",
      "source": [
        "ls"
      ],
      "metadata": {
        "colab": {
          "base_uri": "https://localhost:8080/"
        },
        "id": "DPecQlo3pAy8",
        "outputId": "c0d47c27-7f44-4664-9119-448e048f34b4"
      },
      "execution_count": null,
      "outputs": [
        {
          "output_type": "stream",
          "name": "stdout",
          "text": [
            "\u001b[0m\u001b[01;34m__pycache__\u001b[0m/  \u001b[01;34mpyum\u001b[0m/  \u001b[01;34msample_data\u001b[0m/\n"
          ]
        }
      ]
    },
    {
      "cell_type": "code",
      "source": [
        "ls pyum/"
      ],
      "metadata": {
        "colab": {
          "base_uri": "https://localhost:8080/"
        },
        "id": "urR9ZYUEpNz2",
        "outputId": "4ace9bc0-2c29-4ace-d7a2-897468c32761"
      },
      "execution_count": null,
      "outputs": [
        {
          "output_type": "stream",
          "name": "stdout",
          "text": [
            "user_module.py\n"
          ]
        }
      ]
    },
    {
      "cell_type": "code",
      "source": [
        "import pyum.user_module as um"
      ],
      "metadata": {
        "id": "i_XNiedIpVaW"
      },
      "execution_count": null,
      "outputs": []
    },
    {
      "cell_type": "markdown",
      "source": [
        "**이건 가능**"
      ],
      "metadata": {
        "id": "PW3CUejhpZPb"
      }
    },
    {
      "cell_type": "code",
      "source": [
        "print(__name__)"
      ],
      "metadata": {
        "colab": {
          "base_uri": "https://localhost:8080/"
        },
        "id": "RVOub-Kfpb27",
        "outputId": "f8693de7-6684-4a80-e8b1-a567c8883331"
      },
      "execution_count": null,
      "outputs": [
        {
          "output_type": "stream",
          "name": "stdout",
          "text": [
            "__main__\n"
          ]
        }
      ]
    },
    {
      "cell_type": "code",
      "source": [
        "um.__name__"
      ],
      "metadata": {
        "colab": {
          "base_uri": "https://localhost:8080/",
          "height": 35
        },
        "id": "dLMnM1c3ycQE",
        "outputId": "0568e493-7bce-4109-a239-3ac74a2d2820"
      },
      "execution_count": null,
      "outputs": [
        {
          "output_type": "execute_result",
          "data": {
            "text/plain": [
              "'pyum.user_module'"
            ],
            "application/vnd.google.colaboratory.intrinsic+json": {
              "type": "string"
            }
          },
          "metadata": {},
          "execution_count": 7
        }
      ]
    },
    {
      "cell_type": "markdown",
      "source": [
        "importX \n",
        "\n",
        "직접 실행\n",
        "%run은 파이썬 명령어가 X\n"
      ],
      "metadata": {
        "id": "EPxBN60vyt9y"
      }
    },
    {
      "cell_type": "code",
      "source": [
        "%run pyum/user_module.py"
      ],
      "metadata": {
        "id": "1vReUNXfydzf"
      },
      "execution_count": null,
      "outputs": []
    },
    {
      "cell_type": "code",
      "source": [
        "import prname\n",
        "print(prname.__name__)"
      ],
      "metadata": {
        "colab": {
          "base_uri": "https://localhost:8080/",
          "height": 339
        },
        "id": "L3zLtcAZ2jMY",
        "outputId": "a133595a-19d6-4fce-9876-be70e8a5aeaa"
      },
      "execution_count": null,
      "outputs": [
        {
          "output_type": "error",
          "ename": "ModuleNotFoundError",
          "evalue": "ignored",
          "traceback": [
            "\u001b[0;31m---------------------------------------------------------------------------\u001b[0m",
            "\u001b[0;31mModuleNotFoundError\u001b[0m                       Traceback (most recent call last)",
            "\u001b[0;32m<ipython-input-10-a97c9b9965a2>\u001b[0m in \u001b[0;36m<module>\u001b[0;34m()\u001b[0m\n\u001b[0;32m----> 1\u001b[0;31m \u001b[0;32mimport\u001b[0m \u001b[0mprname\u001b[0m\u001b[0;34m\u001b[0m\u001b[0;34m\u001b[0m\u001b[0m\n\u001b[0m\u001b[1;32m      2\u001b[0m \u001b[0mprint\u001b[0m\u001b[0;34m(\u001b[0m\u001b[0mprname\u001b[0m\u001b[0;34m.\u001b[0m\u001b[0m__name__\u001b[0m\u001b[0;34m)\u001b[0m\u001b[0;34m\u001b[0m\u001b[0;34m\u001b[0m\u001b[0m\n",
            "\u001b[0;31mModuleNotFoundError\u001b[0m: No module named 'prname'",
            "",
            "\u001b[0;31m---------------------------------------------------------------------------\u001b[0;32m\nNOTE: If your import is failing due to a missing package, you can\nmanually install dependencies using either !pip or !apt.\n\nTo view examples of installing some common dependencies, click the\n\"Open Examples\" button below.\n\u001b[0;31m---------------------------------------------------------------------------\u001b[0m\n"
          ],
          "errorDetails": {
            "actions": [
              {
                "action": "open_url",
                "actionText": "Open Examples",
                "url": "/notebooks/snippets/importing_libraries.ipynb"
              }
            ]
          }
        }
      ]
    },
    {
      "cell_type": "code",
      "source": [
        "import string\n",
        "print(string.__name__)"
      ],
      "metadata": {
        "colab": {
          "base_uri": "https://localhost:8080/"
        },
        "id": "QTcuDnIsyj9U",
        "outputId": "0a8f11fe-8f1a-48d7-8eff-8727c30c6c90"
      },
      "execution_count": null,
      "outputs": [
        {
          "output_type": "stream",
          "name": "stdout",
          "text": [
            "string\n"
          ]
        }
      ]
    },
    {
      "cell_type": "code",
      "source": [
        "import re\n",
        "print(re.__name__)"
      ],
      "metadata": {
        "colab": {
          "base_uri": "https://localhost:8080/"
        },
        "id": "1lGsGd7p2hCs",
        "outputId": "edf6e5e2-2782-4a9e-f4aa-8549559e3472"
      },
      "execution_count": null,
      "outputs": [
        {
          "output_type": "stream",
          "name": "stdout",
          "text": [
            "re\n"
          ]
        }
      ]
    },
    {
      "cell_type": "code",
      "source": [
        "import os\n",
        "print(os.__name__)"
      ],
      "metadata": {
        "colab": {
          "base_uri": "https://localhost:8080/"
        },
        "id": "NBpwJk3kzaLt",
        "outputId": "a53757b0-97de-4d22-c633-314560fa11af"
      },
      "execution_count": null,
      "outputs": [
        {
          "output_type": "stream",
          "name": "stdout",
          "text": [
            "os\n"
          ]
        }
      ]
    },
    {
      "cell_type": "code",
      "source": [
        "#file : module_test.py\n",
        "def add(a,b):\n",
        "  return a+b\n",
        "\n",
        "def f():\n",
        "  print('Python is becoming popular.')\n",
        "\n",
        "if __name__ ==\"__main__\": # __name__ == __main__, __name__ == 'module_test'\n",
        "  print(add(1,10))\n",
        "  f()"
      ],
      "metadata": {
        "id": "a0Jvv4lYziFf"
      },
      "execution_count": null,
      "outputs": []
    },
    {
      "cell_type": "markdown",
      "source": [
        "from 모듈명 import *\n",
        "\n",
        "해당 모듈에 존재하는 '__' 로 시작되는 이름들을 제외하고 전부 import"
      ],
      "metadata": {
        "id": "qk7rzsTF1ZRn"
      }
    },
    {
      "cell_type": "code",
      "source": [
        "from math import floor as flr, ceil as cel\n",
        "\n"
      ],
      "metadata": {
        "id": "6Vdx1tji1YAA"
      },
      "execution_count": null,
      "outputs": []
    },
    {
      "cell_type": "markdown",
      "source": [
        "**회문 확인 알고리즘**"
      ],
      "metadata": {
        "id": "Do06i3Bi8IUo"
      }
    },
    {
      "cell_type": "markdown",
      "source": [
        "기본"
      ],
      "metadata": {
        "id": "y1g1L9djC0S5"
      }
    },
    {
      "cell_type": "code",
      "source": [
        "test_string = 'amanaplanacanalpanama'\n",
        "\n",
        "if str(test_string) == str(test_string)[::-1] :\n",
        "    print('True')\n",
        "else:\n",
        "    print('False')"
      ],
      "metadata": {
        "colab": {
          "base_uri": "https://localhost:8080/"
        },
        "id": "Xwino-h97Htf",
        "outputId": "29e0e420-d993-43c4-b34a-972f12af0c85"
      },
      "execution_count": null,
      "outputs": [
        {
          "output_type": "stream",
          "name": "stdout",
          "text": [
            "True\n"
          ]
        }
      ]
    },
    {
      "cell_type": "markdown",
      "source": [
        "spyder 버전"
      ],
      "metadata": {
        "id": "iHqIuGHlCxwA"
      }
    },
    {
      "cell_type": "code",
      "source": [
        "def palindrome(test_string):\n",
        "  if str(test_string) == str(test_string)[::-1] :\n",
        "    return ('True')\n",
        "  else:\n",
        "    return ('False')"
      ],
      "metadata": {
        "id": "BKdu_Gha8WqM"
      },
      "execution_count": null,
      "outputs": []
    },
    {
      "cell_type": "code",
      "source": [
        "test_string = 'amanaplanacanalpanama'\n",
        "\n",
        "result = pm.palindrome\n",
        "print(result)"
      ],
      "metadata": {
        "id": "kEocLkOh8mY-"
      },
      "execution_count": null,
      "outputs": []
    },
    {
      "cell_type": "markdown",
      "source": [
        "다른 버전"
      ],
      "metadata": {
        "id": "XTcOsqflC1j4"
      }
    },
    {
      "cell_type": "code",
      "source": [
        "test_string = 'amanaplanacanalpanama'\n",
        " \n",
        "is_palindrome = True                 # 회문 판별값을 저장할 변수, 초깃값은 True\n",
        "for i in range(len(test_string) // 2):      # 0부터 문자열 길이의 절반만큼 반복\n",
        "    if test_string[i] != test_string[-1 - i]:      # 왼쪽 문자와 오른쪽 문자를 비교하여 문자가 다르면\n",
        "        is_palindrome = False        # 회문이 아님\n",
        "        break\n",
        " \n",
        "print(is_palindrome)                 # 회문 판별값 출력"
      ],
      "metadata": {
        "colab": {
          "base_uri": "https://localhost:8080/"
        },
        "id": "eyG71iHN7itr",
        "outputId": "4d09bbbd-0162-4a45-c6c4-e1e84e416bfe"
      },
      "execution_count": null,
      "outputs": [
        {
          "output_type": "stream",
          "name": "stdout",
          "text": [
            "True\n"
          ]
        }
      ]
    },
    {
      "cell_type": "markdown",
      "source": [
        "다른버전 3"
      ],
      "metadata": {
        "id": "E2e6mBpjC4f-"
      }
    },
    {
      "cell_type": "code",
      "source": [
        "def palindrome(word):\n",
        "    for i in range(len(word) // 2):\n",
        "        if word[i] != word[-1 -i]:\n",
        "            return False\n",
        "\n",
        "        return True\n",
        "\n",
        "print(palindrome('level'))"
      ],
      "metadata": {
        "id": "DTUYI7i9-lt-"
      },
      "execution_count": null,
      "outputs": []
    },
    {
      "cell_type": "markdown",
      "source": [
        "선생님 버전"
      ],
      "metadata": {
        "id": "dGjpvnTvC56a"
      }
    },
    {
      "cell_type": "code",
      "source": [
        "test_string = 'a man a plan a canal panama'\n",
        "\n",
        "def convert_list(test_string):  #공백 사라지게 하기\n",
        "  str_list = []\n",
        "  for i in test_string:\n",
        "    if i ==' ':\n",
        "      pass\n",
        "    else:\n",
        "      str_list.append(i)\n",
        "  return str_list\n",
        "\n",
        "def dp(str_list):               #회문 확인 함수\n",
        "  while len(str_list) > 1 :\n",
        "    #print(len(str_list))\n",
        "    if str_list.pop(0) != str_list.pop():\n",
        "      return False\n",
        "  return True\n",
        "\n",
        "str_list = convert_list(test_string)\n",
        "\n",
        "print(dp(str_list))"
      ],
      "metadata": {
        "colab": {
          "base_uri": "https://localhost:8080/"
        },
        "id": "IDpCZgV4_Xb8",
        "outputId": "74630a9d-ce7e-43e9-846e-43e8c8831636"
      },
      "execution_count": null,
      "outputs": [
        {
          "output_type": "stream",
          "name": "stdout",
          "text": [
            "True\n"
          ]
        }
      ]
    },
    {
      "cell_type": "markdown",
      "source": [
        "선생님 버전 2"
      ],
      "metadata": {
        "id": "smlmFfkLEKHt"
      }
    },
    {
      "cell_type": "code",
      "source": [
        "def d_p_2(str_):\n",
        "  dummy = str_.replace(' ','')\n",
        "  #print(dummy)\n",
        "  return dummy == dummy[::-1]\n",
        "\n",
        "test_string = 'a man a plan a canal panama'\n",
        "d_p_2(test_string)"
      ],
      "metadata": {
        "colab": {
          "base_uri": "https://localhost:8080/"
        },
        "id": "Jw7zPVL6AP98",
        "outputId": "1dab22c4-ddc3-448e-92a3-2b1500ade2fa"
      },
      "execution_count": null,
      "outputs": [
        {
          "output_type": "execute_result",
          "data": {
            "text/plain": [
              "True"
            ]
          },
          "metadata": {},
          "execution_count": 29
        }
      ]
    },
    {
      "cell_type": "code",
      "source": [
        "i = 0,j=1\n",
        "i= 0,1,2,3 j=i-1"
      ],
      "metadata": {
        "id": "h3pBkX2-GdkK"
      },
      "execution_count": null,
      "outputs": []
    },
    {
      "cell_type": "code",
      "source": [
        "str_list[i]== str_list[i]"
      ],
      "metadata": {
        "colab": {
          "base_uri": "https://localhost:8080/",
          "height": 174
        },
        "id": "xdmi8zywGYWm",
        "outputId": "3790bdcd-6c3c-4c39-e387-36956a42b988"
      },
      "execution_count": null,
      "outputs": [
        {
          "output_type": "error",
          "ename": "IndexError",
          "evalue": "ignored",
          "traceback": [
            "\u001b[0;31m---------------------------------------------------------------------------\u001b[0m",
            "\u001b[0;31mIndexError\u001b[0m                                Traceback (most recent call last)",
            "\u001b[0;32m<ipython-input-30-a075db1975b9>\u001b[0m in \u001b[0;36m<module>\u001b[0;34m()\u001b[0m\n\u001b[0;32m----> 1\u001b[0;31m \u001b[0mstr_list\u001b[0m\u001b[0;34m[\u001b[0m\u001b[0mi\u001b[0m\u001b[0;34m]\u001b[0m\u001b[0;34m=\u001b[0m \u001b[0mstr_list\u001b[0m\u001b[0;34m[\u001b[0m\u001b[0mi\u001b[0m\u001b[0;34m]\u001b[0m\u001b[0;34m\u001b[0m\u001b[0;34m\u001b[0m\u001b[0m\n\u001b[0m",
            "\u001b[0;31mIndexError\u001b[0m: list index out of range"
          ]
        }
      ]
    },
    {
      "cell_type": "code",
      "source": [
        "s = 'MBC'"
      ],
      "metadata": {
        "id": "GI4HgBG8HGFx"
      },
      "execution_count": null,
      "outputs": []
    },
    {
      "cell_type": "code",
      "source": [
        "s[::-1]"
      ],
      "metadata": {
        "colab": {
          "base_uri": "https://localhost:8080/",
          "height": 35
        },
        "id": "vsy0K7qoHI2t",
        "outputId": "d340f7ca-218b-4b86-8d90-4f95e4fae0ff"
      },
      "execution_count": null,
      "outputs": [
        {
          "output_type": "execute_result",
          "data": {
            "text/plain": [
              "'CBM'"
            ],
            "application/vnd.google.colaboratory.intrinsic+json": {
              "type": "string"
            }
          },
          "metadata": {},
          "execution_count": 33
        }
      ]
    },
    {
      "cell_type": "code",
      "source": [
        "sample_list = [10,20,30]"
      ],
      "metadata": {
        "id": "FNfCv0weHaDV"
      },
      "execution_count": null,
      "outputs": []
    },
    {
      "cell_type": "code",
      "source": [
        "sample_list.pop()"
      ],
      "metadata": {
        "colab": {
          "base_uri": "https://localhost:8080/"
        },
        "id": "rWaQ8SGDHcr8",
        "outputId": "69ad2795-b13f-4158-e291-02fd59aab172"
      },
      "execution_count": null,
      "outputs": [
        {
          "output_type": "execute_result",
          "data": {
            "text/plain": [
              "30"
            ]
          },
          "metadata": {},
          "execution_count": 35
        }
      ]
    },
    {
      "cell_type": "code",
      "source": [
        "s = 'SBS'"
      ],
      "metadata": {
        "id": "RGhVq4MhHe_4"
      },
      "execution_count": null,
      "outputs": []
    },
    {
      "cell_type": "code",
      "source": [
        "s[::-1]"
      ],
      "metadata": {
        "colab": {
          "base_uri": "https://localhost:8080/",
          "height": 35
        },
        "id": "KGBVFXbXH6sZ",
        "outputId": "1c9723dc-f00e-48af-f2ea-22095b1f754e"
      },
      "execution_count": null,
      "outputs": [
        {
          "output_type": "execute_result",
          "data": {
            "text/plain": [
              "'SBS'"
            ],
            "application/vnd.google.colaboratory.intrinsic+json": {
              "type": "string"
            }
          },
          "metadata": {},
          "execution_count": 38
        }
      ]
    },
    {
      "cell_type": "code",
      "source": [
        "list = s"
      ],
      "metadata": {
        "id": "CJybdx-RH5rk"
      },
      "execution_count": null,
      "outputs": []
    },
    {
      "cell_type": "code",
      "source": [
        "import os"
      ],
      "metadata": {
        "id": "10VqB908J1F5"
      },
      "execution_count": null,
      "outputs": []
    },
    {
      "cell_type": "code",
      "source": [
        "dir"
      ],
      "metadata": {
        "colab": {
          "base_uri": "https://localhost:8080/"
        },
        "id": "cfOFqS71J2a-",
        "outputId": "d6d585b6-01fa-431e-dd18-c3caac5d6573"
      },
      "execution_count": null,
      "outputs": [
        {
          "output_type": "execute_result",
          "data": {
            "text/plain": [
              "<function dir>"
            ]
          },
          "metadata": {},
          "execution_count": 41
        }
      ]
    },
    {
      "cell_type": "code",
      "source": [
        "import os\n",
        "def filetype(fpath):\n",
        "  print(fpath, ':', end='')\n",
        "\n",
        "  if os.path.isfile(fpath):\n",
        "    print('Regular file')\n",
        "  if os.path.isdir(fpath):\n",
        "    print('Directory')\n",
        "  if os.path.islink(fpath):\n",
        "    print('Symbolic link')\n",
        "\n",
        "flist = os.listdir('.')\n",
        "for fname in flist:\n",
        "  filetype(fname)"
      ],
      "metadata": {
        "colab": {
          "base_uri": "https://localhost:8080/"
        },
        "id": "VKmsuDGoKlwQ",
        "outputId": "cadb6ba1-2749-44e0-9838-304c67b2b6c7"
      },
      "execution_count": null,
      "outputs": [
        {
          "output_type": "stream",
          "name": "stdout",
          "text": [
            ".config :Directory\n",
            "__pycache__ :Directory\n",
            "pyum :Directory\n",
            "sample_data :Directory\n"
          ]
        }
      ]
    },
    {
      "cell_type": "code",
      "source": [
        "import keras"
      ],
      "metadata": {
        "id": "St-xZG_0Nhhk"
      },
      "execution_count": null,
      "outputs": []
    },
    {
      "cell_type": "code",
      "source": [
        "pip install keras"
      ],
      "metadata": {
        "id": "RoPW3yVPNmSb"
      },
      "execution_count": null,
      "outputs": []
    }
  ]
}