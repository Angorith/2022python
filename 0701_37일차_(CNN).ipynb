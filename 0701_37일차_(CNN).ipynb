{
  "nbformat": 4,
  "nbformat_minor": 0,
  "metadata": {
    "colab": {
      "name": "0701 37일차 (CNN).ipynb",
      "provenance": [],
      "collapsed_sections": [],
      "mount_file_id": "1EjJGa-dnmRCabDZYgfsc7bRGNZljWFE7",
      "authorship_tag": "ABX9TyOC7YeqFeup3TdFKITCwEff",
      "include_colab_link": true
    },
    "kernelspec": {
      "name": "python3",
      "display_name": "Python 3"
    },
    "language_info": {
      "name": "python"
    },
    "accelerator": "GPU",
    "gpuClass": "standard"
  },
  "cells": [
    {
      "cell_type": "markdown",
      "metadata": {
        "id": "view-in-github",
        "colab_type": "text"
      },
      "source": [
        "<a href=\"https://colab.research.google.com/github/Angorith/acorn_python/blob/main/0701_37%EC%9D%BC%EC%B0%A8_(CNN).ipynb\" target=\"_parent\"><img src=\"https://colab.research.google.com/assets/colab-badge.svg\" alt=\"Open In Colab\"/></a>"
      ]
    },
    {
      "cell_type": "code",
      "execution_count": null,
      "metadata": {
        "id": "acn_Wz9DHBzD"
      },
      "outputs": [],
      "source": [
        "import numpy as np\n",
        "from keras.models import Sequential\n",
        "from keras.layers import Dense\n",
        "from keras.layers import Flatten\n",
        "from keras.layers.convolutional import Conv2D\n",
        "from keras.layers.convolutional import MaxPooling2D\n",
        "from keras.utils import np_utils\n",
        "model = Sequential()\n",
        "model.add(Conv2D(2, (3, 3), padding = 'same', activation='relu', input_shape=(8, 8, 1)))\n",
        "model.add(MaxPooling2D(pool_size=(2,2)))\n",
        "model.add(Conv2D(3, (2, 2), padding = 'same', activation='relu'))\n",
        "model.add(MaxPooling2D(pool_size=(2,2)))\n",
        "model.add(Flatten())\n",
        "model.add(Dense(8, activation='relu'))\n",
        "model.add(Dense(3, activation='softmax'))"
      ]
    },
    {
      "cell_type": "markdown",
      "source": [
        "Conv2D(2, (3, 3)\n",
        "\n",
        "필터 (2 커널 사이즈(3,3))\n",
        "\n",
        "padding = 'same'\n",
        "\n",
        "*패딩?\n",
        "\n",
        "same =  입력과 출력을 같게 한다. 그래서 padding을 같게 해야한다.\n",
        "\n",
        "same대신 valid가 들어갈 수 있는데 valid는 패딩을 안하는거랑 같다\n",
        "\n",
        "input_shape=(8, 8, 1)\n",
        "1은 필터의 C\n",
        "\n",
        "Flatten = Dense layer를 위해 펼치는 곳\n"
      ],
      "metadata": {
        "id": "BcnEzYbIJct_"
      }
    },
    {
      "cell_type": "markdown",
      "source": [
        "# Input_shape\n",
        "\n",
        "batch_size = 입력층으로 한번에 입력되는 자료의 개수\n",
        "\n",
        "(batch_size, rows, columns, channels): data_format= 'channels_last'\n",
        "\n",
        "\n",
        "(batch_size,channels, rows, columns): data_format= 'channels_first'\n",
        "\n",
        "일반적으로 input_shape = (rows,columns,channels)를 사용한다.\n",
        "\n"
      ],
      "metadata": {
        "id": "QimX_cgxKc6A"
      }
    },
    {
      "cell_type": "markdown",
      "source": [
        "# output_shape\n",
        "\n",
        "(batch_size, filters, new_rows, now_colums): data_format = 'channels_first'\n",
        "\n",
        "(batch_size, new_rows, now_colums,filters): data_format = 'channels_last'"
      ],
      "metadata": {
        "id": "tXggKfa9LbHJ"
      }
    },
    {
      "cell_type": "code",
      "source": [
        "from IPython.display import SVG\n",
        "from keras.utils.vis_utils import model_to_dot\n",
        "%matplotlib inline\n",
        "\n",
        "SVG(model_to_dot(model, show_shapes=True, dpi=70).create(prog='dot', format='svg'))"
      ],
      "metadata": {
        "colab": {
          "base_uri": "https://localhost:8080/",
          "height": 844
        },
        "id": "dnAnDjU2JAN1",
        "outputId": "66a09b77-e5da-42ab-b8af-32a616201787"
      },
      "execution_count": null,
      "outputs": [
        {
          "output_type": "execute_result",
          "data": {
            "text/plain": [
              "<IPython.core.display.SVG object>"
            ],
            "image/svg+xml": "<svg height=\"618pt\" viewBox=\"0.00 0.00 394.00 636.00\" width=\"383pt\" xmlns=\"http://www.w3.org/2000/svg\" xmlns:xlink=\"http://www.w3.org/1999/xlink\">\n<g class=\"graph\" id=\"graph0\" transform=\"scale(.9722 .9722) rotate(0) translate(4 632)\">\n<title>G</title>\n<polygon fill=\"#ffffff\" points=\"-4,4 -4,-632 390,-632 390,4 -4,4\" stroke=\"transparent\"/>\n<!-- 139949851915600 -->\n<g class=\"node\" id=\"node1\">\n<title>139949851915600</title>\n<polygon fill=\"none\" points=\"4,-581.5 4,-627.5 382,-627.5 382,-581.5 4,-581.5\" stroke=\"#000000\"/>\n<text fill=\"#000000\" font-family=\"Times,serif\" font-size=\"14.00\" text-anchor=\"middle\" x=\"53\" y=\"-612.3\">conv2d_input</text>\n<polyline fill=\"none\" points=\"4,-604.5 102,-604.5 \" stroke=\"#000000\"/>\n<text fill=\"#000000\" font-family=\"Times,serif\" font-size=\"14.00\" text-anchor=\"middle\" x=\"53\" y=\"-589.3\">InputLayer</text>\n<polyline fill=\"none\" points=\"102,-581.5 102,-627.5 \" stroke=\"#000000\"/>\n<text fill=\"#000000\" font-family=\"Times,serif\" font-size=\"14.00\" text-anchor=\"middle\" x=\"131\" y=\"-612.3\">input:</text>\n<polyline fill=\"none\" points=\"102,-604.5 160,-604.5 \" stroke=\"#000000\"/>\n<text fill=\"#000000\" font-family=\"Times,serif\" font-size=\"14.00\" text-anchor=\"middle\" x=\"131\" y=\"-589.3\">output:</text>\n<polyline fill=\"none\" points=\"160,-581.5 160,-627.5 \" stroke=\"#000000\"/>\n<text fill=\"#000000\" font-family=\"Times,serif\" font-size=\"14.00\" text-anchor=\"middle\" x=\"215.5\" y=\"-600.8\">[(None, 8, 8, 1)]</text>\n<polyline fill=\"none\" points=\"271,-581.5 271,-627.5 \" stroke=\"#000000\"/>\n<text fill=\"#000000\" font-family=\"Times,serif\" font-size=\"14.00\" text-anchor=\"middle\" x=\"326.5\" y=\"-600.8\">[(None, 8, 8, 1)]</text>\n</g>\n<!-- 139951944114576 -->\n<g class=\"node\" id=\"node2\">\n<title>139951944114576</title>\n<polygon fill=\"none\" points=\"28.5,-498.5 28.5,-544.5 357.5,-544.5 357.5,-498.5 28.5,-498.5\" stroke=\"#000000\"/>\n<text fill=\"#000000\" font-family=\"Times,serif\" font-size=\"14.00\" text-anchor=\"middle\" x=\"62\" y=\"-529.3\">conv2d</text>\n<polyline fill=\"none\" points=\"28.5,-521.5 95.5,-521.5 \" stroke=\"#000000\"/>\n<text fill=\"#000000\" font-family=\"Times,serif\" font-size=\"14.00\" text-anchor=\"middle\" x=\"62\" y=\"-506.3\">Conv2D</text>\n<polyline fill=\"none\" points=\"95.5,-498.5 95.5,-544.5 \" stroke=\"#000000\"/>\n<text fill=\"#000000\" font-family=\"Times,serif\" font-size=\"14.00\" text-anchor=\"middle\" x=\"124.5\" y=\"-529.3\">input:</text>\n<polyline fill=\"none\" points=\"95.5,-521.5 153.5,-521.5 \" stroke=\"#000000\"/>\n<text fill=\"#000000\" font-family=\"Times,serif\" font-size=\"14.00\" text-anchor=\"middle\" x=\"124.5\" y=\"-506.3\">output:</text>\n<polyline fill=\"none\" points=\"153.5,-498.5 153.5,-544.5 \" stroke=\"#000000\"/>\n<text fill=\"#000000\" font-family=\"Times,serif\" font-size=\"14.00\" text-anchor=\"middle\" x=\"204.5\" y=\"-517.8\">(None, 8, 8, 1)</text>\n<polyline fill=\"none\" points=\"255.5,-498.5 255.5,-544.5 \" stroke=\"#000000\"/>\n<text fill=\"#000000\" font-family=\"Times,serif\" font-size=\"14.00\" text-anchor=\"middle\" x=\"306.5\" y=\"-517.8\">(None, 8, 8, 2)</text>\n</g>\n<!-- 139949851915600&#45;&gt;139951944114576 -->\n<g class=\"edge\" id=\"edge1\">\n<title>139949851915600-&gt;139951944114576</title>\n<path d=\"M193,-581.3799C193,-573.1745 193,-563.7679 193,-554.8786\" fill=\"none\" stroke=\"#000000\"/>\n<polygon fill=\"#000000\" points=\"196.5001,-554.784 193,-544.784 189.5001,-554.784 196.5001,-554.784\" stroke=\"#000000\"/>\n</g>\n<!-- 139949950541264 -->\n<g class=\"node\" id=\"node3\">\n<title>139949950541264</title>\n<polygon fill=\"none\" points=\"7.5,-415.5 7.5,-461.5 378.5,-461.5 378.5,-415.5 7.5,-415.5\" stroke=\"#000000\"/>\n<text fill=\"#000000\" font-family=\"Times,serif\" font-size=\"14.00\" text-anchor=\"middle\" x=\"62\" y=\"-446.3\">max_pooling2d</text>\n<polyline fill=\"none\" points=\"7.5,-438.5 116.5,-438.5 \" stroke=\"#000000\"/>\n<text fill=\"#000000\" font-family=\"Times,serif\" font-size=\"14.00\" text-anchor=\"middle\" x=\"62\" y=\"-423.3\">MaxPooling2D</text>\n<polyline fill=\"none\" points=\"116.5,-415.5 116.5,-461.5 \" stroke=\"#000000\"/>\n<text fill=\"#000000\" font-family=\"Times,serif\" font-size=\"14.00\" text-anchor=\"middle\" x=\"145.5\" y=\"-446.3\">input:</text>\n<polyline fill=\"none\" points=\"116.5,-438.5 174.5,-438.5 \" stroke=\"#000000\"/>\n<text fill=\"#000000\" font-family=\"Times,serif\" font-size=\"14.00\" text-anchor=\"middle\" x=\"145.5\" y=\"-423.3\">output:</text>\n<polyline fill=\"none\" points=\"174.5,-415.5 174.5,-461.5 \" stroke=\"#000000\"/>\n<text fill=\"#000000\" font-family=\"Times,serif\" font-size=\"14.00\" text-anchor=\"middle\" x=\"225.5\" y=\"-434.8\">(None, 8, 8, 2)</text>\n<polyline fill=\"none\" points=\"276.5,-415.5 276.5,-461.5 \" stroke=\"#000000\"/>\n<text fill=\"#000000\" font-family=\"Times,serif\" font-size=\"14.00\" text-anchor=\"middle\" x=\"327.5\" y=\"-434.8\">(None, 4, 4, 2)</text>\n</g>\n<!-- 139951944114576&#45;&gt;139949950541264 -->\n<g class=\"edge\" id=\"edge2\">\n<title>139951944114576-&gt;139949950541264</title>\n<path d=\"M193,-498.3799C193,-490.1745 193,-480.7679 193,-471.8786\" fill=\"none\" stroke=\"#000000\"/>\n<polygon fill=\"#000000\" points=\"196.5001,-471.784 193,-461.784 189.5001,-471.784 196.5001,-471.784\" stroke=\"#000000\"/>\n</g>\n<!-- 139949858499920 -->\n<g class=\"node\" id=\"node4\">\n<title>139949858499920</title>\n<polygon fill=\"none\" points=\"24.5,-332.5 24.5,-378.5 361.5,-378.5 361.5,-332.5 24.5,-332.5\" stroke=\"#000000\"/>\n<text fill=\"#000000\" font-family=\"Times,serif\" font-size=\"14.00\" text-anchor=\"middle\" x=\"62\" y=\"-363.3\">conv2d_1</text>\n<polyline fill=\"none\" points=\"24.5,-355.5 99.5,-355.5 \" stroke=\"#000000\"/>\n<text fill=\"#000000\" font-family=\"Times,serif\" font-size=\"14.00\" text-anchor=\"middle\" x=\"62\" y=\"-340.3\">Conv2D</text>\n<polyline fill=\"none\" points=\"99.5,-332.5 99.5,-378.5 \" stroke=\"#000000\"/>\n<text fill=\"#000000\" font-family=\"Times,serif\" font-size=\"14.00\" text-anchor=\"middle\" x=\"128.5\" y=\"-363.3\">input:</text>\n<polyline fill=\"none\" points=\"99.5,-355.5 157.5,-355.5 \" stroke=\"#000000\"/>\n<text fill=\"#000000\" font-family=\"Times,serif\" font-size=\"14.00\" text-anchor=\"middle\" x=\"128.5\" y=\"-340.3\">output:</text>\n<polyline fill=\"none\" points=\"157.5,-332.5 157.5,-378.5 \" stroke=\"#000000\"/>\n<text fill=\"#000000\" font-family=\"Times,serif\" font-size=\"14.00\" text-anchor=\"middle\" x=\"208.5\" y=\"-351.8\">(None, 4, 4, 2)</text>\n<polyline fill=\"none\" points=\"259.5,-332.5 259.5,-378.5 \" stroke=\"#000000\"/>\n<text fill=\"#000000\" font-family=\"Times,serif\" font-size=\"14.00\" text-anchor=\"middle\" x=\"310.5\" y=\"-351.8\">(None, 4, 4, 3)</text>\n</g>\n<!-- 139949950541264&#45;&gt;139949858499920 -->\n<g class=\"edge\" id=\"edge3\">\n<title>139949950541264-&gt;139949858499920</title>\n<path d=\"M193,-415.3799C193,-407.1745 193,-397.7679 193,-388.8786\" fill=\"none\" stroke=\"#000000\"/>\n<polygon fill=\"#000000\" points=\"196.5001,-388.784 193,-378.784 189.5001,-388.784 196.5001,-388.784\" stroke=\"#000000\"/>\n</g>\n<!-- 139949638299472 -->\n<g class=\"node\" id=\"node5\">\n<title>139949638299472</title>\n<polygon fill=\"none\" points=\"0,-249.5 0,-295.5 386,-295.5 386,-249.5 0,-249.5\" stroke=\"#000000\"/>\n<text fill=\"#000000\" font-family=\"Times,serif\" font-size=\"14.00\" text-anchor=\"middle\" x=\"62\" y=\"-280.3\">max_pooling2d_1</text>\n<polyline fill=\"none\" points=\"0,-272.5 124,-272.5 \" stroke=\"#000000\"/>\n<text fill=\"#000000\" font-family=\"Times,serif\" font-size=\"14.00\" text-anchor=\"middle\" x=\"62\" y=\"-257.3\">MaxPooling2D</text>\n<polyline fill=\"none\" points=\"124,-249.5 124,-295.5 \" stroke=\"#000000\"/>\n<text fill=\"#000000\" font-family=\"Times,serif\" font-size=\"14.00\" text-anchor=\"middle\" x=\"153\" y=\"-280.3\">input:</text>\n<polyline fill=\"none\" points=\"124,-272.5 182,-272.5 \" stroke=\"#000000\"/>\n<text fill=\"#000000\" font-family=\"Times,serif\" font-size=\"14.00\" text-anchor=\"middle\" x=\"153\" y=\"-257.3\">output:</text>\n<polyline fill=\"none\" points=\"182,-249.5 182,-295.5 \" stroke=\"#000000\"/>\n<text fill=\"#000000\" font-family=\"Times,serif\" font-size=\"14.00\" text-anchor=\"middle\" x=\"233\" y=\"-268.8\">(None, 4, 4, 3)</text>\n<polyline fill=\"none\" points=\"284,-249.5 284,-295.5 \" stroke=\"#000000\"/>\n<text fill=\"#000000\" font-family=\"Times,serif\" font-size=\"14.00\" text-anchor=\"middle\" x=\"335\" y=\"-268.8\">(None, 2, 2, 3)</text>\n</g>\n<!-- 139949858499920&#45;&gt;139949638299472 -->\n<g class=\"edge\" id=\"edge4\">\n<title>139949858499920-&gt;139949638299472</title>\n<path d=\"M193,-332.3799C193,-324.1745 193,-314.7679 193,-305.8786\" fill=\"none\" stroke=\"#000000\"/>\n<polygon fill=\"#000000\" points=\"196.5001,-305.784 193,-295.784 189.5001,-305.784 196.5001,-305.784\" stroke=\"#000000\"/>\n</g>\n<!-- 139949638296976 -->\n<g class=\"node\" id=\"node6\">\n<title>139949638296976</title>\n<polygon fill=\"none\" points=\"45,-166.5 45,-212.5 341,-212.5 341,-166.5 45,-166.5\" stroke=\"#000000\"/>\n<text fill=\"#000000\" font-family=\"Times,serif\" font-size=\"14.00\" text-anchor=\"middle\" x=\"73\" y=\"-197.3\">flatten</text>\n<polyline fill=\"none\" points=\"45,-189.5 101,-189.5 \" stroke=\"#000000\"/>\n<text fill=\"#000000\" font-family=\"Times,serif\" font-size=\"14.00\" text-anchor=\"middle\" x=\"73\" y=\"-174.3\">Flatten</text>\n<polyline fill=\"none\" points=\"101,-166.5 101,-212.5 \" stroke=\"#000000\"/>\n<text fill=\"#000000\" font-family=\"Times,serif\" font-size=\"14.00\" text-anchor=\"middle\" x=\"130\" y=\"-197.3\">input:</text>\n<polyline fill=\"none\" points=\"101,-189.5 159,-189.5 \" stroke=\"#000000\"/>\n<text fill=\"#000000\" font-family=\"Times,serif\" font-size=\"14.00\" text-anchor=\"middle\" x=\"130\" y=\"-174.3\">output:</text>\n<polyline fill=\"none\" points=\"159,-166.5 159,-212.5 \" stroke=\"#000000\"/>\n<text fill=\"#000000\" font-family=\"Times,serif\" font-size=\"14.00\" text-anchor=\"middle\" x=\"210\" y=\"-185.8\">(None, 2, 2, 3)</text>\n<polyline fill=\"none\" points=\"261,-166.5 261,-212.5 \" stroke=\"#000000\"/>\n<text fill=\"#000000\" font-family=\"Times,serif\" font-size=\"14.00\" text-anchor=\"middle\" x=\"301\" y=\"-185.8\">(None, 12)</text>\n</g>\n<!-- 139949638299472&#45;&gt;139949638296976 -->\n<g class=\"edge\" id=\"edge5\">\n<title>139949638299472-&gt;139949638296976</title>\n<path d=\"M193,-249.3799C193,-241.1745 193,-231.7679 193,-222.8786\" fill=\"none\" stroke=\"#000000\"/>\n<polygon fill=\"#000000\" points=\"196.5001,-222.784 193,-212.784 189.5001,-222.784 196.5001,-222.784\" stroke=\"#000000\"/>\n</g>\n<!-- 139949637570384 -->\n<g class=\"node\" id=\"node7\">\n<title>139949637570384</title>\n<polygon fill=\"none\" points=\"62,-83.5 62,-129.5 324,-129.5 324,-83.5 62,-83.5\" stroke=\"#000000\"/>\n<text fill=\"#000000\" font-family=\"Times,serif\" font-size=\"14.00\" text-anchor=\"middle\" x=\"88\" y=\"-114.3\">dense</text>\n<polyline fill=\"none\" points=\"62,-106.5 114,-106.5 \" stroke=\"#000000\"/>\n<text fill=\"#000000\" font-family=\"Times,serif\" font-size=\"14.00\" text-anchor=\"middle\" x=\"88\" y=\"-91.3\">Dense</text>\n<polyline fill=\"none\" points=\"114,-83.5 114,-129.5 \" stroke=\"#000000\"/>\n<text fill=\"#000000\" font-family=\"Times,serif\" font-size=\"14.00\" text-anchor=\"middle\" x=\"143\" y=\"-114.3\">input:</text>\n<polyline fill=\"none\" points=\"114,-106.5 172,-106.5 \" stroke=\"#000000\"/>\n<text fill=\"#000000\" font-family=\"Times,serif\" font-size=\"14.00\" text-anchor=\"middle\" x=\"143\" y=\"-91.3\">output:</text>\n<polyline fill=\"none\" points=\"172,-83.5 172,-129.5 \" stroke=\"#000000\"/>\n<text fill=\"#000000\" font-family=\"Times,serif\" font-size=\"14.00\" text-anchor=\"middle\" x=\"212\" y=\"-102.8\">(None, 12)</text>\n<polyline fill=\"none\" points=\"252,-83.5 252,-129.5 \" stroke=\"#000000\"/>\n<text fill=\"#000000\" font-family=\"Times,serif\" font-size=\"14.00\" text-anchor=\"middle\" x=\"288\" y=\"-102.8\">(None, 8)</text>\n</g>\n<!-- 139949638296976&#45;&gt;139949637570384 -->\n<g class=\"edge\" id=\"edge6\">\n<title>139949638296976-&gt;139949637570384</title>\n<path d=\"M193,-166.3799C193,-158.1745 193,-148.7679 193,-139.8786\" fill=\"none\" stroke=\"#000000\"/>\n<polygon fill=\"#000000\" points=\"196.5001,-139.784 193,-129.784 189.5001,-139.784 196.5001,-139.784\" stroke=\"#000000\"/>\n</g>\n<!-- 139949638296784 -->\n<g class=\"node\" id=\"node8\">\n<title>139949638296784</title>\n<polygon fill=\"none\" points=\"60,-.5 60,-46.5 326,-46.5 326,-.5 60,-.5\" stroke=\"#000000\"/>\n<text fill=\"#000000\" font-family=\"Times,serif\" font-size=\"14.00\" text-anchor=\"middle\" x=\"92\" y=\"-31.3\">dense_1</text>\n<polyline fill=\"none\" points=\"60,-23.5 124,-23.5 \" stroke=\"#000000\"/>\n<text fill=\"#000000\" font-family=\"Times,serif\" font-size=\"14.00\" text-anchor=\"middle\" x=\"92\" y=\"-8.3\">Dense</text>\n<polyline fill=\"none\" points=\"124,-.5 124,-46.5 \" stroke=\"#000000\"/>\n<text fill=\"#000000\" font-family=\"Times,serif\" font-size=\"14.00\" text-anchor=\"middle\" x=\"153\" y=\"-31.3\">input:</text>\n<polyline fill=\"none\" points=\"124,-23.5 182,-23.5 \" stroke=\"#000000\"/>\n<text fill=\"#000000\" font-family=\"Times,serif\" font-size=\"14.00\" text-anchor=\"middle\" x=\"153\" y=\"-8.3\">output:</text>\n<polyline fill=\"none\" points=\"182,-.5 182,-46.5 \" stroke=\"#000000\"/>\n<text fill=\"#000000\" font-family=\"Times,serif\" font-size=\"14.00\" text-anchor=\"middle\" x=\"218\" y=\"-19.8\">(None, 8)</text>\n<polyline fill=\"none\" points=\"254,-.5 254,-46.5 \" stroke=\"#000000\"/>\n<text fill=\"#000000\" font-family=\"Times,serif\" font-size=\"14.00\" text-anchor=\"middle\" x=\"290\" y=\"-19.8\">(None, 3)</text>\n</g>\n<!-- 139949637570384&#45;&gt;139949638296784 -->\n<g class=\"edge\" id=\"edge7\">\n<title>139949637570384-&gt;139949638296784</title>\n<path d=\"M193,-83.3799C193,-75.1745 193,-65.7679 193,-56.8786\" fill=\"none\" stroke=\"#000000\"/>\n<polygon fill=\"#000000\" points=\"196.5001,-56.784 193,-46.784 189.5001,-56.784 196.5001,-56.784\" stroke=\"#000000\"/>\n</g>\n</g>\n</svg>"
          },
          "metadata": {},
          "execution_count": 2
        }
      ]
    },
    {
      "cell_type": "code",
      "source": [
        "import tensorflow as tf\n",
        "from tensorflow.keras.datasets import mnist\n",
        "from tensorflow.keras.models import Sequential\n",
        "from tensorflow.keras.layers import Conv2D, MaxPooling2D, Flatten, Dense, Dropout\n",
        "from tensorflow.keras.optimizers import Adam"
      ],
      "metadata": {
        "id": "EKfXO7cmM4uf"
      },
      "execution_count": null,
      "outputs": []
    },
    {
      "cell_type": "code",
      "source": [
        "import numpy as np\n",
        "from keras.utils import np_utils\n",
        "from keras.datasets import mnist\n",
        "from keras.models import Sequential\n",
        "from keras.layers import Dense, Conv2D, Flatten, Dropout, MaxPooling2D\n",
        "import matplotlib.pyplot as plt"
      ],
      "metadata": {
        "id": "1m6avigfvMgg"
      },
      "execution_count": null,
      "outputs": []
    },
    {
      "cell_type": "code",
      "source": [
        "import numpy as np\n",
        "from keras.utils import np_utils\n",
        "from keras.datasets import mnist\n",
        "from keras.models import Sequential\n",
        "from keras.layers import Dense, Conv2D, Flatten, Dropout, MaxPooling2D\n",
        "import matplotlib.pyplot as plt\n",
        "%matplotlib inline\n",
        "(x_train,y_train),(x_test,y_test)=mnist.load_data()\n"
      ],
      "metadata": {
        "id": "cUExs53gPDrn"
      },
      "execution_count": null,
      "outputs": []
    },
    {
      "cell_type": "code",
      "source": [
        "x_train = x_train.reshape(60000,28,28,1)\n",
        "x_test = x_test.reshape(10000,28,28,1)"
      ],
      "metadata": {
        "id": "w4PP1BUQOuNh"
      },
      "execution_count": null,
      "outputs": []
    },
    {
      "cell_type": "code",
      "source": [
        "x_train = x_train.astype(np.float32)/255.0\n",
        "x_test = x_test.astype(np.float32)/255.0\n",
        "y_train = np_utils.to_categorical(y_train)\n",
        "y_test = np_utils.to_categorical(y_test)"
      ],
      "metadata": {
        "id": "aYUx5_NdPI_t"
      },
      "execution_count": null,
      "outputs": []
    },
    {
      "cell_type": "code",
      "source": [
        "cnn = Sequential()\n",
        "cnn.add(Conv2D(32, (3,3), activation='relu', input_shape=(28,28,1)))\n",
        "cnn.add(Conv2D(64,(3,3), activation='relu'))\n",
        "cnn.add(MaxPooling2D(pool_size=(2,2)))\n",
        "cnn.add(Dropout(0.25))\n",
        "cnn.add(Flatten())\n",
        "cnn.add(Dense(128, activation='relu'))\n",
        "cnn.add(Dropout(0.5))\n",
        "cnn.add(Dense(10, activation='softmax'))\n",
        "cnn.compile(loss='categorical_crossentropy', optimizer='adam', metrics=['accuracy'])"
      ],
      "metadata": {
        "id": "f-fAgQFdRnmR"
      },
      "execution_count": null,
      "outputs": []
    },
    {
      "cell_type": "code",
      "source": [
        "hist = cnn.fit(x_train, y_train, batch_size = 128, epochs=12, validation_data=(x_test, y_test), verbose=2)"
      ],
      "metadata": {
        "colab": {
          "base_uri": "https://localhost:8080/"
        },
        "id": "tqPD6arvSWKp",
        "outputId": "2c14ea6b-d775-41a8-c737-7cd5bd1ed6bb"
      },
      "execution_count": null,
      "outputs": [
        {
          "output_type": "stream",
          "name": "stdout",
          "text": [
            "Epoch 1/12\n",
            "469/469 - 5s - loss: 0.2340 - accuracy: 0.9286 - val_loss: 0.0491 - val_accuracy: 0.9852 - 5s/epoch - 10ms/step\n",
            "Epoch 2/12\n",
            "469/469 - 4s - loss: 0.0852 - accuracy: 0.9741 - val_loss: 0.0369 - val_accuracy: 0.9875 - 4s/epoch - 8ms/step\n",
            "Epoch 3/12\n",
            "469/469 - 4s - loss: 0.0614 - accuracy: 0.9815 - val_loss: 0.0318 - val_accuracy: 0.9887 - 4s/epoch - 8ms/step\n",
            "Epoch 4/12\n",
            "469/469 - 4s - loss: 0.0529 - accuracy: 0.9837 - val_loss: 0.0285 - val_accuracy: 0.9894 - 4s/epoch - 8ms/step\n",
            "Epoch 5/12\n",
            "469/469 - 5s - loss: 0.0414 - accuracy: 0.9880 - val_loss: 0.0260 - val_accuracy: 0.9915 - 5s/epoch - 10ms/step\n",
            "Epoch 6/12\n",
            "469/469 - 6s - loss: 0.0385 - accuracy: 0.9880 - val_loss: 0.0288 - val_accuracy: 0.9914 - 6s/epoch - 12ms/step\n",
            "Epoch 7/12\n",
            "469/469 - 6s - loss: 0.0341 - accuracy: 0.9892 - val_loss: 0.0254 - val_accuracy: 0.9919 - 6s/epoch - 12ms/step\n",
            "Epoch 8/12\n",
            "469/469 - 5s - loss: 0.0304 - accuracy: 0.9903 - val_loss: 0.0277 - val_accuracy: 0.9910 - 5s/epoch - 11ms/step\n",
            "Epoch 9/12\n",
            "469/469 - 5s - loss: 0.0272 - accuracy: 0.9912 - val_loss: 0.0281 - val_accuracy: 0.9916 - 5s/epoch - 11ms/step\n",
            "Epoch 10/12\n",
            "469/469 - 5s - loss: 0.0250 - accuracy: 0.9921 - val_loss: 0.0323 - val_accuracy: 0.9909 - 5s/epoch - 11ms/step\n",
            "Epoch 11/12\n",
            "469/469 - 5s - loss: 0.0225 - accuracy: 0.9924 - val_loss: 0.0280 - val_accuracy: 0.9925 - 5s/epoch - 10ms/step\n",
            "Epoch 12/12\n",
            "469/469 - 5s - loss: 0.0217 - accuracy: 0.9930 - val_loss: 0.0289 - val_accuracy: 0.9918 - 5s/epoch - 11ms/step\n"
          ]
        }
      ]
    },
    {
      "cell_type": "code",
      "source": [
        "loss_and_metrics = cnn.evaluate(x_test, y_test, batch_size=128)\n",
        "print('## evaluation loss and_metrics ##')\n",
        "print(loss_and_metrics)"
      ],
      "metadata": {
        "colab": {
          "base_uri": "https://localhost:8080/"
        },
        "id": "31K2udM-cWXj",
        "outputId": "c5be8727-3cdd-48ae-de48-6d6700ebf7c6"
      },
      "execution_count": null,
      "outputs": [
        {
          "output_type": "stream",
          "name": "stdout",
          "text": [
            "79/79 [==============================] - 0s 5ms/step - loss: 0.2260 - accuracy: 0.9225\n",
            "## evaluation loss and_metrics ##\n",
            "[0.22600220143795013, 0.9225000143051147]\n"
          ]
        }
      ]
    },
    {
      "cell_type": "code",
      "source": [
        "#정확률 그래프\n",
        "plt.plot(hist.history['accuracy'])\n",
        "plt.plot(hist.history['val_accuracy'])\n",
        "plt.title('Model accuracy')\n",
        "plt.ylabel('Accuracy')\n",
        "plt.xlabel('Epoch')\n",
        "plt.legend(['Train', 'Validation'], loc = 'best')\n",
        "plt.grid()\n",
        "plt.show()\n",
        "\n",
        "#손실함수 그래프\n",
        "plt.plot(hist.history['loss'])\n",
        "plt.plot(hist.history['val_loss'])\n",
        "plt.title('Model loss')\n",
        "plt.ylabel('Loss')\n",
        "plt.xlabel('Epoch')\n",
        "plt.legend(['Train', 'Validation'], loc = 'best')\n",
        "plt.grid()\n",
        "plt.show()"
      ],
      "metadata": {
        "id": "mgY7Jl_sSi4S",
        "colab": {
          "base_uri": "https://localhost:8080/",
          "height": 573
        },
        "outputId": "9b79eaea-cbce-45aa-ab02-e619e111ea73"
      },
      "execution_count": null,
      "outputs": [
        {
          "output_type": "display_data",
          "data": {
            "text/plain": [
              "<Figure size 432x288 with 1 Axes>"
            ],
            "image/png": "[encoded data removed]"
          },
          "metadata": {
            "needs_background": "light"
          }
        },
        {
          "output_type": "display_data",
          "data": {
            "text/plain": [
              "<Figure size 432x288 with 1 Axes>"
            ],
            "image/png": "[encoded data removed]"
          },
          "metadata": {
            "needs_background": "light"
          }
        }
      ]
    },
    {
      "cell_type": "code",
      "source": [
        "from tensorflow.keras.datasets import fashion_mnist"
      ],
      "metadata": {
        "id": "rohgOn0HZcOz"
      },
      "execution_count": null,
      "outputs": []
    },
    {
      "cell_type": "code",
      "source": [
        "(x_train, y_train),(x_test, y_test) = fashion_mnist.load_data()"
      ],
      "metadata": {
        "colab": {
          "base_uri": "https://localhost:8080/"
        },
        "id": "X0gV1G7XZh-j",
        "outputId": "b4a21fc4-1fe4-4d55-a0b6-17603fc1cc56"
      },
      "execution_count": null,
      "outputs": [
        {
          "output_type": "stream",
          "name": "stdout",
          "text": [
            "Downloading data from https://storage.googleapis.com/tensorflow/tf-keras-datasets/train-labels-idx1-ubyte.gz\n",
            "32768/29515 [=================================] - 0s 0us/step\n",
            "40960/29515 [=========================================] - 0s 0us/step\n",
            "Downloading data from https://storage.googleapis.com/tensorflow/tf-keras-datasets/train-images-idx3-ubyte.gz\n",
            "26427392/26421880 [==============================] - 0s 0us/step\n",
            "26435584/26421880 [==============================] - 0s 0us/step\n",
            "Downloading data from https://storage.googleapis.com/tensorflow/tf-keras-datasets/t10k-labels-idx1-ubyte.gz\n",
            "16384/5148 [===============================================================================================] - 0s 0us/step\n",
            "Downloading data from https://storage.googleapis.com/tensorflow/tf-keras-datasets/t10k-images-idx3-ubyte.gz\n",
            "4423680/4422102 [==============================] - 0s 0us/step\n",
            "4431872/4422102 [==============================] - 0s 0us/step\n"
          ]
        }
      ]
    },
    {
      "cell_type": "code",
      "source": [
        "plt.imshow(x_train[3])"
      ],
      "metadata": {
        "colab": {
          "base_uri": "https://localhost:8080/",
          "height": 283
        },
        "id": "63nuR041YR2H",
        "outputId": "aea6150c-bb5d-4d07-93e6-09c8fdc1051d"
      },
      "execution_count": null,
      "outputs": [
        {
          "output_type": "execute_result",
          "data": {
            "text/plain": [
              "<matplotlib.image.AxesImage at 0x7f3a64a44450>"
            ]
          },
          "metadata": {},
          "execution_count": 24
        },
        {
          "output_type": "display_data",
          "data": {
            "text/plain": [
              "<Figure size 432x288 with 1 Axes>"
            ],
            "image/png": "[encoded data removed]"
          },
          "metadata": {
            "needs_background": "light"
          }
        }
      ]
    },
    {
      "cell_type": "markdown",
      "source": [
        "train_images는 0에서 255 사이의 값을 갖는 28x28 크기의 NumPy 어레이를 갖는 어레이이고,\n",
        "\n",
        "train_labels는 0에서 9까지의 정수 값을 갖는 어레이입니다.\n",
        "\n",
        "0에서 9까지의 정수 값은 이미지(옷)의 클래스를 나타내는 레이블입니다. 각각의 레이블과 클래스는 아래와 같습니다.\n",
        "\n",
        "0 : T-shirt/top\n",
        "1 : Trouser\n",
        "2 : Pullover\n",
        "3 : Dress\n",
        "4 : Coat\n",
        "5 : Sandal\n",
        "6 : Shirt\n",
        "7 : Sneaker\n",
        "8 : Bag\n",
        "9 : Ankel boot"
      ],
      "metadata": {
        "id": "2XE4vVJxjWHX"
      }
    },
    {
      "cell_type": "code",
      "source": [
        "print(x_train.shape)\n",
        "print(y_train.shape)\n",
        "print(x_test.shape)\n",
        "print(y_test.shape)"
      ],
      "metadata": {
        "colab": {
          "base_uri": "https://localhost:8080/"
        },
        "id": "EUc-h-r9Zakc",
        "outputId": "27134cfb-82f7-4d8c-e7ce-d98e73675d84"
      },
      "execution_count": null,
      "outputs": [
        {
          "output_type": "stream",
          "name": "stdout",
          "text": [
            "(60000, 28, 28)\n",
            "(60000,)\n",
            "(10000, 28, 28)\n",
            "(10000,)\n"
          ]
        }
      ]
    },
    {
      "cell_type": "code",
      "source": [
        "x_train = x_train.reshape(60000,28,28,1)\n",
        "x_test = x_test.reshape(10000,28,28,1)"
      ],
      "metadata": {
        "id": "zWKl5ro0aHE9"
      },
      "execution_count": null,
      "outputs": []
    },
    {
      "cell_type": "code",
      "source": [
        "x_train = x_train.astype(np.float32)/255.0\n",
        "x_test = x_test.astype(np.float32)/255.0\n",
        "y_train = np_utils.to_categorical(y_train)\n",
        "y_test = np_utils.to_categorical(y_test)"
      ],
      "metadata": {
        "id": "RQ2pCnfWaH98"
      },
      "execution_count": null,
      "outputs": []
    },
    {
      "cell_type": "code",
      "source": [
        "cnn = Sequential()\n",
        "cnn.add(Conv2D(32, (3,3), activation='relu', input_shape=(28,28,1)))\n",
        "cnn.add(Conv2D(64,(3,3), activation='relu'))\n",
        "cnn.add(MaxPooling2D(pool_size=(2,2)))\n",
        "cnn.add(Dropout(0.25))\n",
        "cnn.add(Flatten())\n",
        "cnn.add(Dense(128, activation='relu'))\n",
        "cnn.add(Dropout(0.5))\n",
        "cnn.add(Dense(10, activation='softmax'))\n",
        "cnn.compile(loss='categorical_crossentropy', optimizer='adam', metrics=['accuracy'])"
      ],
      "metadata": {
        "id": "hsILtXANaOgM"
      },
      "execution_count": null,
      "outputs": []
    },
    {
      "cell_type": "code",
      "source": [
        "hist = cnn.fit(x_train, y_train, batch_size = 128, epochs=12, validation_data=(x_test, y_test), verbose=2)"
      ],
      "metadata": {
        "colab": {
          "base_uri": "https://localhost:8080/"
        },
        "id": "qH37mIXGaait",
        "outputId": "c06f9d68-8c13-4b7d-bac4-1d58edb2ad2c"
      },
      "execution_count": null,
      "outputs": [
        {
          "output_type": "stream",
          "name": "stdout",
          "text": [
            "Epoch 1/12\n",
            "469/469 - 5s - loss: 0.5290 - accuracy: 0.8134 - val_loss: 0.3433 - val_accuracy: 0.8742 - 5s/epoch - 10ms/step\n",
            "Epoch 2/12\n",
            "469/469 - 4s - loss: 0.3440 - accuracy: 0.8775 - val_loss: 0.2891 - val_accuracy: 0.8935 - 4s/epoch - 8ms/step\n",
            "Epoch 3/12\n",
            "469/469 - 4s - loss: 0.2961 - accuracy: 0.8936 - val_loss: 0.2712 - val_accuracy: 0.8981 - 4s/epoch - 8ms/step\n",
            "Epoch 4/12\n",
            "469/469 - 4s - loss: 0.2648 - accuracy: 0.9032 - val_loss: 0.2455 - val_accuracy: 0.9087 - 4s/epoch - 8ms/step\n",
            "Epoch 5/12\n",
            "469/469 - 4s - loss: 0.2390 - accuracy: 0.9135 - val_loss: 0.2448 - val_accuracy: 0.9120 - 4s/epoch - 9ms/step\n",
            "Epoch 6/12\n",
            "469/469 - 4s - loss: 0.2228 - accuracy: 0.9183 - val_loss: 0.2255 - val_accuracy: 0.9178 - 4s/epoch - 8ms/step\n",
            "Epoch 7/12\n",
            "469/469 - 4s - loss: 0.2051 - accuracy: 0.9238 - val_loss: 0.2224 - val_accuracy: 0.9194 - 4s/epoch - 8ms/step\n",
            "Epoch 8/12\n",
            "469/469 - 4s - loss: 0.1915 - accuracy: 0.9293 - val_loss: 0.2204 - val_accuracy: 0.9181 - 4s/epoch - 8ms/step\n",
            "Epoch 9/12\n",
            "469/469 - 4s - loss: 0.1781 - accuracy: 0.9333 - val_loss: 0.2083 - val_accuracy: 0.9256 - 4s/epoch - 8ms/step\n",
            "Epoch 10/12\n",
            "469/469 - 4s - loss: 0.1673 - accuracy: 0.9389 - val_loss: 0.2281 - val_accuracy: 0.9210 - 4s/epoch - 8ms/step\n",
            "Epoch 11/12\n",
            "469/469 - 4s - loss: 0.1548 - accuracy: 0.9422 - val_loss: 0.2138 - val_accuracy: 0.9257 - 4s/epoch - 8ms/step\n",
            "Epoch 12/12\n",
            "469/469 - 4s - loss: 0.1449 - accuracy: 0.9455 - val_loss: 0.2260 - val_accuracy: 0.9225 - 4s/epoch - 8ms/step\n"
          ]
        }
      ]
    },
    {
      "cell_type": "code",
      "source": [
        "#정확률 그래프\n",
        "plt.plot(hist.history['accuracy'])\n",
        "plt.plot(hist.history['val_accuracy'])\n",
        "plt.title('Model accuracy')\n",
        "plt.ylabel('Accuracy')\n",
        "plt.xlabel('Epoch')\n",
        "plt.legend(['Train', 'Validation'], loc = 'best')\n",
        "plt.grid()\n",
        "plt.show()\n",
        "\n",
        "#손실함수 그래프\n",
        "plt.plot(hist.history['loss'])\n",
        "plt.plot(hist.history['val_loss'])\n",
        "plt.title('Model loss')\n",
        "plt.ylabel('Loss')\n",
        "plt.xlabel('Epoch')\n",
        "plt.legend(['Train', 'Validation'], loc = 'best')\n",
        "plt.grid()\n",
        "plt.show()"
      ],
      "metadata": {
        "colab": {
          "base_uri": "https://localhost:8080/",
          "height": 573
        },
        "id": "s0ZfGLMIbozX",
        "outputId": "d3990627-4772-457e-c548-43c86b0d6383"
      },
      "execution_count": null,
      "outputs": [
        {
          "output_type": "display_data",
          "data": {
            "text/plain": [
              "<Figure size 432x288 with 1 Axes>"
            ],
            "image/png": "[encoded data removed]"
          },
          "metadata": {
            "needs_background": "light"
          }
        },
        {
          "output_type": "display_data",
          "data": {
            "text/plain": [
              "<Figure size 432x288 with 1 Axes>"
            ],
            "image/png": "[encoded data removed]"
          },
          "metadata": {
            "needs_background": "light"
          }
        }
      ]
    },
    {
      "cell_type": "code",
      "source": [
        "cnn = Sequential()\n",
        "cnn.add(Conv2D(32, (3,3), activation='relu', input_shape=(28,28,1)))\n",
        "cnn.add(Conv2D(64,(3,3), activation='relu'))\n",
        "cnn.add(MaxPooling2D(pool_size=(2,2)))\n",
        "cnn.add(Dropout(0.25))\n",
        "cnn.add(Flatten())\n",
        "cnn.add(Dense(128, activation='relu'))\n",
        "cnn.add(Dropout(0.5))\n",
        "cnn.add(Dense(10, activation='softmax'))\n",
        "\n",
        "cnn.compile(loss='categorical_crossentropy', optimizer='adam', metrics=['accuracy'])\n",
        "hist = cnn.fit(x_train, y_train, batch_size = 128, epochs=12, validation_data=(x_test, y_test), verbose=2)"
      ],
      "metadata": {
        "id": "9OTo82JljirD"
      },
      "execution_count": null,
      "outputs": []
    },
    {
      "cell_type": "code",
      "source": [
        "from tensorflow.keras.datasets import cifar10\n",
        "(x_train, y_train),(x_test, y_test)=cifar10.load_data()"
      ],
      "metadata": {
        "id": "iOp431bllXpU"
      },
      "execution_count": null,
      "outputs": []
    },
    {
      "cell_type": "code",
      "source": [
        "plt.imshow(x_train[4])"
      ],
      "metadata": {
        "colab": {
          "base_uri": "https://localhost:8080/",
          "height": 284
        },
        "id": "7p-npKWfljsZ",
        "outputId": "02e8d4d2-4335-4a2d-829b-19ad6ead87a1"
      },
      "execution_count": null,
      "outputs": [
        {
          "output_type": "execute_result",
          "data": {
            "text/plain": [
              "<matplotlib.image.AxesImage at 0x7f138b61c850>"
            ]
          },
          "metadata": {},
          "execution_count": 4
        },
        {
          "output_type": "display_data",
          "data": {
            "text/plain": [
              "<Figure size 432x288 with 1 Axes>"
            ],
            "image/png": "[encoded data removed]"
          },
          "metadata": {
            "needs_background": "light"
          }
        }
      ]
    },
    {
      "cell_type": "code",
      "source": [
        "print (\"Training data:\")\n",
        "print (\"Number of examples: \", x_train.shape[0])\n",
        "print (\"Number of channels:\",x_train.shape[3]) \n",
        "print (\"Image size:\", x_train.shape[1], x_train.shape[2])\n",
        "print\n",
        "print (\"Test data:\")\n",
        "print (\"Number of examples:\", x_test.shape[0])\n",
        "print (\"Number of channels:\", x_test.shape[3])\n",
        "print (\"Image size:\", x_test.shape[1], x_test.shape[2]) "
      ],
      "metadata": {
        "colab": {
          "base_uri": "https://localhost:8080/"
        },
        "id": "KAVW8QDEmfx_",
        "outputId": "5f944aed-149d-4c8b-8a6f-0d6aead71d5f"
      },
      "execution_count": null,
      "outputs": [
        {
          "output_type": "stream",
          "name": "stdout",
          "text": [
            "Training data:\n",
            "Number of examples:  50000\n",
            "Number of channels: 3\n",
            "Image size: 32 32\n",
            "Test data:\n",
            "Number of examples: 10000\n",
            "Number of channels: 3\n",
            "Image size: 32 32\n"
          ]
        }
      ]
    },
    {
      "cell_type": "code",
      "source": [
        "print(x_train.shape)\n",
        "print(y_train.shape)\n",
        "print(x_test.shape)\n",
        "print(y_test.shape)"
      ],
      "metadata": {
        "colab": {
          "base_uri": "https://localhost:8080/"
        },
        "id": "9bffX8czlxnr",
        "outputId": "ae56f6a6-b2d6-4fe8-ea82-96bbbbf12a45"
      },
      "execution_count": null,
      "outputs": [
        {
          "output_type": "stream",
          "name": "stdout",
          "text": [
            "(50000, 32, 32, 3)\n",
            "(50000, 1)\n",
            "(10000, 32, 32, 3)\n",
            "(10000, 1)\n"
          ]
        }
      ]
    },
    {
      "cell_type": "code",
      "source": [
        "x_train = x_train.reshape(50000,32,32,3)\n",
        "x_test = x_test.reshape(10000,32,32,3)"
      ],
      "metadata": {
        "id": "GVCe8jN0l765"
      },
      "execution_count": null,
      "outputs": []
    },
    {
      "cell_type": "code",
      "source": [
        "x_train = x_train.astype(np.float32)/255.0\n",
        "x_test = x_test.astype(np.float32)/255.0\n",
        "y_train = np_utils.to_categorical(y_train)\n",
        "y_test = np_utils.to_categorical(y_test)"
      ],
      "metadata": {
        "id": "KnWVZRVPmAko"
      },
      "execution_count": null,
      "outputs": []
    },
    {
      "cell_type": "code",
      "source": [
        "cnn = Sequential()\n",
        "cnn.add(Conv2D(32,(3,3), activation='relu', input_shape=(32,32,3)))\n",
        "cnn.add(Conv2D(64,(3,3), activation='relu'))\n",
        "cnn.add(MaxPooling2D(pool_size=(2,2)))\n",
        "cnn.add(Dropout(0.5))\n",
        "cnn.add(Flatten())\n",
        "cnn.add(Dense(128, activation='relu'))\n",
        "cnn.add(Dropout(0.5))\n",
        "cnn.add(Dense(10, activation='softmax'))\n",
        "\n",
        "cnn.compile(loss='categorical_crossentropy', optimizer='adam', metrics=['accuracy'])\n",
        "hist = cnn.fit(x_train, y_train, batch_size = 128, epochs=15, validation_data=(x_test, y_test), verbose=2)"
      ],
      "metadata": {
        "colab": {
          "base_uri": "https://localhost:8080/"
        },
        "id": "jz2C5N-Nm_WZ",
        "outputId": "550aefac-4505-4322-92b0-441fe4df246e"
      },
      "execution_count": null,
      "outputs": [
        {
          "output_type": "stream",
          "name": "stdout",
          "text": [
            "Epoch 1/15\n",
            "391/391 - 5s - loss: 1.6622 - accuracy: 0.3974 - val_loss: 1.2483 - val_accuracy: 0.5615 - 5s/epoch - 12ms/step\n",
            "Epoch 2/15\n",
            "391/391 - 4s - loss: 1.3177 - accuracy: 0.5300 - val_loss: 1.1014 - val_accuracy: 0.6130 - 4s/epoch - 11ms/step\n",
            "Epoch 3/15\n",
            "391/391 - 4s - loss: 1.1906 - accuracy: 0.5798 - val_loss: 1.0198 - val_accuracy: 0.6505 - 4s/epoch - 11ms/step\n",
            "Epoch 4/15\n",
            "391/391 - 4s - loss: 1.1102 - accuracy: 0.6080 - val_loss: 0.9595 - val_accuracy: 0.6714 - 4s/epoch - 11ms/step\n",
            "Epoch 5/15\n",
            "391/391 - 4s - loss: 1.0488 - accuracy: 0.6319 - val_loss: 0.9273 - val_accuracy: 0.6788 - 4s/epoch - 11ms/step\n",
            "Epoch 6/15\n",
            "391/391 - 4s - loss: 1.0125 - accuracy: 0.6418 - val_loss: 0.8994 - val_accuracy: 0.6914 - 4s/epoch - 10ms/step\n",
            "Epoch 7/15\n",
            "391/391 - 4s - loss: 0.9726 - accuracy: 0.6545 - val_loss: 0.9010 - val_accuracy: 0.6882 - 4s/epoch - 10ms/step\n",
            "Epoch 8/15\n",
            "391/391 - 4s - loss: 0.9372 - accuracy: 0.6675 - val_loss: 0.8745 - val_accuracy: 0.6980 - 4s/epoch - 10ms/step\n",
            "Epoch 9/15\n",
            "391/391 - 4s - loss: 0.9173 - accuracy: 0.6759 - val_loss: 0.8602 - val_accuracy: 0.7005 - 4s/epoch - 11ms/step\n",
            "Epoch 10/15\n",
            "391/391 - 4s - loss: 0.8930 - accuracy: 0.6838 - val_loss: 0.8514 - val_accuracy: 0.7043 - 4s/epoch - 10ms/step\n",
            "Epoch 11/15\n",
            "391/391 - 4s - loss: 0.8670 - accuracy: 0.6933 - val_loss: 0.8506 - val_accuracy: 0.7068 - 4s/epoch - 11ms/step\n",
            "Epoch 12/15\n",
            "391/391 - 4s - loss: 0.8404 - accuracy: 0.6984 - val_loss: 0.8301 - val_accuracy: 0.7107 - 4s/epoch - 11ms/step\n",
            "Epoch 13/15\n",
            "391/391 - 4s - loss: 0.8150 - accuracy: 0.7094 - val_loss: 0.8320 - val_accuracy: 0.7108 - 4s/epoch - 10ms/step\n",
            "Epoch 14/15\n",
            "391/391 - 4s - loss: 0.8036 - accuracy: 0.7124 - val_loss: 0.8557 - val_accuracy: 0.7048 - 4s/epoch - 11ms/step\n",
            "Epoch 15/15\n",
            "391/391 - 4s - loss: 0.7831 - accuracy: 0.7176 - val_loss: 0.8088 - val_accuracy: 0.7228 - 4s/epoch - 10ms/step\n"
          ]
        }
      ]
    },
    {
      "cell_type": "code",
      "source": [
        "loss_and_metrics = cnn.evaluate(x_test, y_test, batch_size=128)\n",
        "print('## evaluation loss and_metrics ##')\n",
        "print(loss_and_metrics)"
      ],
      "metadata": {
        "colab": {
          "base_uri": "https://localhost:8080/"
        },
        "id": "5e2sZShnnZfy",
        "outputId": "bb30fee7-2531-4cb2-ef42-ced695bb7eb0"
      },
      "execution_count": null,
      "outputs": [
        {
          "output_type": "stream",
          "name": "stdout",
          "text": [
            "79/79 [==============================] - 1s 6ms/step - loss: 0.8088 - accuracy: 0.7228\n",
            "## evaluation loss and_metrics ##\n",
            "[0.8087584376335144, 0.7228000164031982]\n"
          ]
        }
      ]
    },
    {
      "cell_type": "code",
      "source": [
        "res = cnn.evaluate(x_test, y_test, verbose=0)\n",
        "print('정확률은', res[1]*100)"
      ],
      "metadata": {
        "colab": {
          "base_uri": "https://localhost:8080/"
        },
        "id": "U_FPHyTYxLXC",
        "outputId": "4a8705c0-66ef-4016-fb49-c0e0aa8b8a62"
      },
      "execution_count": null,
      "outputs": [
        {
          "output_type": "stream",
          "name": "stdout",
          "text": [
            "정확률은 71.64000272750854\n"
          ]
        }
      ]
    },
    {
      "cell_type": "code",
      "source": [
        "model = Sequential()\n",
        "\n",
        "#-- layer 1\n",
        "model.add(Conv2D(64, 3, 3,activation='relu',input_shape=(32, 32,3)))\n",
        "model.add(Dropout(0.5))  \n",
        "model.add(Conv2D(64, 3, 3, activation='relu'))\n",
        "model.add(Dropout(0.5))\n",
        "model.add(MaxPooling2D(pool_size=(2, 2)))\n",
        "\n",
        "\n",
        "    ##-- layer 4\n",
        "model.add(Flatten())\n",
        "model.add(Dense(512, activation='relu'))\n",
        "\n",
        "    #-- layer 5\n",
        "model.add(Dense(512, activation='relu'))\n",
        "\n",
        "    #-- layer 6\n",
        "model.add(Dense(512, activation='softmax'))\n",
        "    \n",
        "model.compile(loss='categorical_crossentropy',optimizer='sgd', metrics=['accuracy'])\n",
        "hist = cnn.fit(x_train, y_train, batch_size = 512, epochs=15, validation_data=(x_test, y_test), verbose=2)"
      ],
      "metadata": {
        "colab": {
          "base_uri": "https://localhost:8080/"
        },
        "id": "cFapdVnTxQGs",
        "outputId": "9895ae08-8e26-443d-f56a-ab92b680809b"
      },
      "execution_count": null,
      "outputs": [
        {
          "output_type": "stream",
          "name": "stdout",
          "text": [
            "Epoch 1/15\n",
            "98/98 - 4s - loss: 0.7200 - accuracy: 0.7417 - val_loss: 0.7914 - val_accuracy: 0.7284 - 4s/epoch - 43ms/step\n",
            "Epoch 2/15\n",
            "98/98 - 3s - loss: 0.7030 - accuracy: 0.7470 - val_loss: 0.7916 - val_accuracy: 0.7250 - 3s/epoch - 32ms/step\n",
            "Epoch 3/15\n",
            "98/98 - 3s - loss: 0.6911 - accuracy: 0.7504 - val_loss: 0.7881 - val_accuracy: 0.7275 - 3s/epoch - 32ms/step\n",
            "Epoch 4/15\n",
            "98/98 - 3s - loss: 0.6917 - accuracy: 0.7508 - val_loss: 0.7875 - val_accuracy: 0.7252 - 3s/epoch - 32ms/step\n",
            "Epoch 5/15\n",
            "98/98 - 3s - loss: 0.6775 - accuracy: 0.7561 - val_loss: 0.7836 - val_accuracy: 0.7312 - 3s/epoch - 31ms/step\n",
            "Epoch 6/15\n",
            "98/98 - 3s - loss: 0.6706 - accuracy: 0.7564 - val_loss: 0.7855 - val_accuracy: 0.7269 - 3s/epoch - 32ms/step\n",
            "Epoch 7/15\n",
            "98/98 - 3s - loss: 0.6626 - accuracy: 0.7613 - val_loss: 0.7884 - val_accuracy: 0.7324 - 3s/epoch - 32ms/step\n",
            "Epoch 8/15\n",
            "98/98 - 3s - loss: 0.6542 - accuracy: 0.7631 - val_loss: 0.7750 - val_accuracy: 0.7290 - 3s/epoch - 32ms/step\n",
            "Epoch 9/15\n",
            "98/98 - 3s - loss: 0.6502 - accuracy: 0.7643 - val_loss: 0.7779 - val_accuracy: 0.7300 - 3s/epoch - 32ms/step\n",
            "Epoch 10/15\n",
            "98/98 - 3s - loss: 0.6382 - accuracy: 0.7698 - val_loss: 0.7756 - val_accuracy: 0.7323 - 3s/epoch - 32ms/step\n",
            "Epoch 11/15\n",
            "98/98 - 3s - loss: 0.6310 - accuracy: 0.7730 - val_loss: 0.7877 - val_accuracy: 0.7287 - 3s/epoch - 32ms/step\n",
            "Epoch 12/15\n",
            "98/98 - 3s - loss: 0.6341 - accuracy: 0.7710 - val_loss: 0.7774 - val_accuracy: 0.7307 - 3s/epoch - 32ms/step\n",
            "Epoch 13/15\n",
            "98/98 - 3s - loss: 0.6139 - accuracy: 0.7755 - val_loss: 0.7766 - val_accuracy: 0.7331 - 3s/epoch - 32ms/step\n",
            "Epoch 14/15\n",
            "98/98 - 3s - loss: 0.6123 - accuracy: 0.7755 - val_loss: 0.7752 - val_accuracy: 0.7336 - 3s/epoch - 32ms/step\n",
            "Epoch 15/15\n",
            "98/98 - 3s - loss: 0.6129 - accuracy: 0.7754 - val_loss: 0.7769 - val_accuracy: 0.7317 - 3s/epoch - 34ms/step\n"
          ]
        }
      ]
    },
    {
      "cell_type": "code",
      "source": [
        "loss_and_metrics = cnn.evaluate(x_test, y_test, verbose=0)\n",
        "print('## evaluation loss and_metrics ##')\n",
        "print(loss_and_metrics)"
      ],
      "metadata": {
        "colab": {
          "base_uri": "https://localhost:8080/"
        },
        "id": "aDlx9s0Bz2iY",
        "outputId": "84dd7d94-8a26-4d43-a935-897da148ea41"
      },
      "execution_count": null,
      "outputs": [
        {
          "output_type": "stream",
          "name": "stdout",
          "text": [
            "## evaluation loss and_metrics ##\n",
            "[0.7769280672073364, 0.7317000031471252]\n"
          ]
        }
      ]
    },
    {
      "cell_type": "markdown",
      "source": [
        "# 태양광 먼지 유무"
      ],
      "metadata": {
        "id": "JEKAZOLqz_2r"
      }
    },
    {
      "cell_type": "markdown",
      "source": [
        "1. 데이터 준비\n",
        "\n",
        "데이터는 임의의 해상도를 가진 이미지에 각 픽셀마다 0과 1을 표시\n",
        "\n",
        "만들어진 이미지에서 1의 총 개수를 각 이미지에 넣기"
      ],
      "metadata": {
        "id": "BCzJXFKA0C4S"
      }
    },
    {
      "cell_type": "code",
      "source": [
        "import numpy as np"
      ],
      "metadata": {
        "id": "c-8fEWJ93lum"
      },
      "execution_count": null,
      "outputs": []
    },
    {
      "cell_type": "code",
      "source": [
        "import random"
      ],
      "metadata": {
        "id": "YEPymSUyz-Bl"
      },
      "execution_count": null,
      "outputs": []
    },
    {
      "cell_type": "code",
      "source": [
        "def generate_image(a=None, width=16,height=16): \n",
        "    '''\n",
        "        array : 특정 픽셀에 1 이 찍혀 있는 배열, 나머지는 0\n",
        "        nop : array 에 있는 1의 개수, 정답 역활을 한다. \n",
        "        \n",
        "        resolution = 256\n",
        "        number_of_points 는 찍혀야 할 점의 개수 : 2, 40, 140, 54......\n",
        "        idx : 점들의 위치 인덱스 ex> 점이 2개인 경우에는 idx = [11, 250]\n",
        "        row_list = [0, 0, .., 1, 0, 0, ... 1, 0, 0, ..]\n",
        "        array = 11, 250만 1인 16x16 배열\n",
        "        nop = array([2])\n",
        "    '''\n",
        "    random.seed(a)\n",
        "    resolution = range(width*height)\n",
        "    number_of_points = random.choice(resolution)\n",
        "    idx = random.sample(resolution,number_of_points)\n",
        "    row_list = [1 if (i in idx) else 0 for i in resolution]\n",
        "    array = np.array(row_list).reshape(width, height)\n",
        "    nop = np.array([number_of_points])\n",
        "    return (array, nop)\n",
        "\n",
        "\n",
        "# data set 만들기\n",
        "def data_set(samples):\n",
        "    ds_x = []\n",
        "    ds_y = []\n",
        "    for i in range(samples):\n",
        "        x,y = generate_image(i)\n",
        "        ds_x.append(x)\n",
        "        ds_y.append(y)\n",
        "    ds_x = np.array(ds_x)\n",
        "    ds_y = np.array(ds_y)\n",
        "    return (ds_x, ds_y)\n"
      ],
      "metadata": {
        "id": "jevqM6hi0Mjv"
      },
      "execution_count": null,
      "outputs": []
    },
    {
      "cell_type": "code",
      "source": [
        "x_train, y_train = data_set(1500)\n",
        "x_val, y_val = data_set(300)\n",
        "x_test, y_test = data_set(100)"
      ],
      "metadata": {
        "id": "b_k2OK-j3UlD"
      },
      "execution_count": null,
      "outputs": []
    },
    {
      "cell_type": "code",
      "source": [
        "x_train.shape,y_train.shape,x_test.shape,y_test.shape"
      ],
      "metadata": {
        "colab": {
          "base_uri": "https://localhost:8080/"
        },
        "id": "k76JsLlb5ibJ",
        "outputId": "c3401ce3-3ec6-4957-ee76-036f6a1df062"
      },
      "execution_count": null,
      "outputs": [
        {
          "output_type": "execute_result",
          "data": {
            "text/plain": [
              "((1500, 16, 16), (1500, 1), (100, 16, 16), (100, 1))"
            ]
          },
          "metadata": {},
          "execution_count": 31
        }
      ]
    },
    {
      "cell_type": "code",
      "source": [
        "import matplotlib.pyplot as plt\n",
        "%matplotlib inline\n",
        "\n",
        "plt_row = 5\n",
        "plt_col =5\n",
        "\n",
        "plt.rcParams['figure.figsize'] = (10,10)\n",
        "f, ax = plt.subplots(plt_row, plt_col)\n",
        "\n",
        "for i in range(plt_row * plt_col):\n",
        "    sub_plt = ax[i//plt_row, i%plt_col]\n",
        "    sub_plt.imshow(x_train[i])\n",
        "    sub_plt.set_title('label =' + str(y_train[i][0]))\n",
        "    sub_plt.axis('off')\n",
        "plt.show()"
      ],
      "metadata": {
        "colab": {
          "base_uri": "https://localhost:8080/",
          "height": 591
        },
        "id": "MheMl-AM3cuU",
        "outputId": "c8247363-78fe-4252-bda4-d056dd60b90b"
      },
      "execution_count": null,
      "outputs": [
        {
          "output_type": "display_data",
          "data": {
            "text/plain": [
              "<Figure size 720x720 with 25 Axes>"
            ],
            "image/png": "[encoded data removed]"
          },
          "metadata": {
            "needs_background": "light"
          }
        }
      ]
    },
    {
      "cell_type": "markdown",
      "source": [
        "1. Dense layer만 사용해서 모델 생성\n",
        "\n",
        "2. Conv2D를 사용해서\n",
        "\n",
        "3. 회귀식 loss= mse, metrics = ['mae']"
      ],
      "metadata": {
        "id": "Da5Iql5C4g8c"
      }
    },
    {
      "cell_type": "code",
      "source": [
        ""
      ],
      "metadata": {
        "id": "qFb315Hj4gik"
      },
      "execution_count": null,
      "outputs": []
    }
  ]
}