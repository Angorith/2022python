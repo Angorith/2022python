{
  "nbformat": 4,
  "nbformat_minor": 0,
  "metadata": {
    "colab": {
      "name": "0707 41일차 AI[다중분류문제,회귀문제, 컨브넷].ipynb",
      "provenance": [],
      "collapsed_sections": [],
      "authorship_tag": "ABX9TyNNsEHztXX8VMUiMv0zITYt",
      "include_colab_link": true
    },
    "kernelspec": {
      "name": "python3",
      "display_name": "Python 3"
    },
    "language_info": {
      "name": "python"
    }
  },
  "cells": [
    {
      "cell_type": "markdown",
      "metadata": {
        "id": "view-in-github",
        "colab_type": "text"
      },
      "source": [
        "<a href=\"https://colab.research.google.com/github/Angorith/acorn_python/blob/main/0707_41%EC%9D%BC%EC%B0%A8_AI%5B%EB%8B%A4%EC%A4%91%EB%B6%84%EB%A5%98%EB%AC%B8%EC%A0%9C%2C%ED%9A%8C%EA%B7%80%EB%AC%B8%EC%A0%9C%2C_%EC%BB%A8%EB%B8%8C%EB%84%B7%5D.ipynb\" target=\"_parent\"><img src=\"https://colab.research.google.com/assets/colab-badge.svg\" alt=\"Open In Colab\"/></a>"
      ]
    },
    {
      "cell_type": "code",
      "execution_count": null,
      "metadata": {
        "id": "Qtqm41D_AYmP"
      },
      "outputs": [],
      "source": [
        "from keras.backend import binary_crossentropy\n",
        "from keras import models\n",
        "from keras import layers\n",
        "\n",
        "model = models.Sequential()\n",
        "model.add(layers.Dense(32, activation='relu', input_shape=(num_features,)))\n",
        "model.add(layers.Dense(32, activation='relu'))\n",
        "model.add(layers.Dense(32, activation='sigmoid'))\n",
        "\n",
        "model.compile(optimizer='rmsprop', loss='binary_crossentropy')"
      ]
    },
    {
      "cell_type": "markdown",
      "source": [
        "#다중 분류 문제\n",
        "- 완전 연결(Dense)층 사용\n",
        "- 입력 자료 형태 : (samples, num_features)\n",
        "- 입력 자료 처리 : 정규화\n",
        "- 정답 레이블 : 원-핫 인코딩(to_categorical), 단일 정수값\n",
        "- 마지막층의 units = 클래스의 개수(num_classes)\n",
        "- 마지막 층의 활성화 함수 : softmax\n",
        "- loss = categorical_crossentropy, sparse_categorical_crossentropy"
      ],
      "metadata": {
        "id": "nhfURUC4O2XI"
      }
    },
    {
      "cell_type": "code",
      "source": [
        "model = models.Sequential()\n",
        "model.add(layers.Dense(32, activation='relu', input_shape=(num_features,)))\n",
        "model.add(layers.Dense(32, activation='relu'))\n",
        "model.add(layers.Dense(num_classes, activation='softmax'))\n",
        "\n",
        "model.compile(optimizer='rmsprop', loss='binary_crossentropy')"
      ],
      "metadata": {
        "id": "VsxLxhi1GMXx"
      },
      "execution_count": null,
      "outputs": []
    },
    {
      "cell_type": "markdown",
      "source": [
        "#회귀 문제\n",
        "\n",
        "- 완전 연결(Dense)층 사용\n",
        "- 입력 자료 형태 : (samples, num_features)\n",
        "- 입력 자료 처리 :정규화\n",
        "- 정답 레이블 : 예측하려는 값(대부분 하나의 값)\n",
        "- 마지막층의 units = 예측하려는 값의 개수 (num_values)\n",
        "- 마지막층의 활성화 함수 : 사용하지 않음\n",
        "- loss = mse, mae\n",
        "- metrics = 사용하지 않을 경우 기본 값(mae는 참고용)"
      ],
      "metadata": {
        "id": "kPWZPfhqEm7U"
      }
    },
    {
      "cell_type": "code",
      "source": [
        "model = models.Sequential()\n",
        "model.add(layers.Dense(32, activation='relu', input_shape=(num_features, )))\n",
        "model.add(layers.Dense(32, activation='relu'))\n",
        "model.add(layers.Dense(num_values))\n",
        "model.compile(optimizer='rmsprop', loss='mse')"
      ],
      "metadata": {
        "id": "qVTbvzDPFHjq"
      },
      "execution_count": null,
      "outputs": []
    },
    {
      "cell_type": "markdown",
      "source": [
        "#컨브넷\n",
        "\n",
        "- 합성곱(Conv2D)층 , MaxPooling2D 사용\n",
        "- 입력 자료 형태 : (samples, height, width, channels)\n",
        "- 입력 자료 처리 : 정규화, to_categorical(다중 분류시) , imageDataGenerator\n",
        "- 정답 레이블 : 분휴, 회귀의 형태\n",
        "- 마지막층 : 분류, 회귀에 따라 Dense층 연결"
      ],
      "metadata": {
        "id": "0cCBrTFnGaIp"
      }
    },
    {
      "cell_type": "code",
      "source": [
        "#다중 분류 예시\n",
        "model = models.Sequential()\n",
        "model.add(layers.Conv2D(32, (3,3), activation='relu', input_shape=(width,height,channels)))\n",
        "model.add(layers.Conv2D(64, (3,3), activation='relu'))\n",
        "model.add(layers.MaxPooling2D(pool_size=(2,2)))\n",
        "\n",
        "model.add(layers.Conv2D(64,(3,3), activation='relu'))\n",
        "model.add(layers.Conv2D(128,(3,3), activation='relu'))\n",
        "model.add(layers.MaxPooling2D(pool_size=(2,2)))\n",
        "\n",
        "model.add(layers.Conv2D(64,(3,3), activation='relu'))\n",
        "model.add(layers.Conv2D(128,(3,3), activation='relu'))\n",
        "model.add(layers.MaxPooling2D(pool_size=(2,2)))\n",
        "\n",
        "model.add(layers.Flatten())\n",
        "model.add(layers.Dense(32, activation='relu'))\n",
        "model.add(layers.Dense(num_classes, activation='softmax'))\n",
        "#모델 학습과정 설정\n",
        "model.compile(loss='rmsprop', optimizer='categorical_crossentropy')"
      ],
      "metadata": {
        "id": "LYkCV2lIICTv"
      },
      "execution_count": null,
      "outputs": []
    }
  ]
}