{
  "nbformat": 4,
  "nbformat_minor": 0,
  "metadata": {
    "colab": {
      "name": "0822 72일차 ML(다중 손잡이 밴딧 문제).ipynb",
      "provenance": [],
      "authorship_tag": "ABX9TyMzFcl+3Z7TkNAlfjc4JRQ/",
      "include_colab_link": true
    },
    "kernelspec": {
      "name": "python3",
      "display_name": "Python 3"
    },
    "language_info": {
      "name": "python"
    }
  },
  "cells": [
    {
      "cell_type": "markdown",
      "metadata": {
        "id": "view-in-github",
        "colab_type": "text"
      },
      "source": [
        "<a href=\"https://colab.research.google.com/github/myungjinma/Python_Study/blob/main/0822_72%EC%9D%BC%EC%B0%A8_ML(%EB%8B%A4%EC%A4%91_%EC%86%90%EC%9E%A1%EC%9D%B4_%EB%B0%B4%EB%94%A7_%EB%AC%B8%EC%A0%9C).ipynb\" target=\"_parent\"><img src=\"https://colab.research.google.com/assets/colab-badge.svg\" alt=\"Open In Colab\"/></a>"
      ]
    },
    {
      "cell_type": "code",
      "execution_count": 1,
      "metadata": {
        "id": "Wvo55S923QGV"
      },
      "outputs": [],
      "source": [
        "import numpy as np\n",
        "\n",
        "#다중 손잡이 밴딧 문제 설정\n",
        "arms_profit = [0.4,0.12, 0.52, 0.6, 0.25] #플레이어에겐 비공개\n",
        "n_arms = len(arms_profit)\n",
        "\n",
        "n_trial = 10000         #손잡이를 당기는 횟수(에피소드 길이)\n",
        "\n",
        "#손잡이 당기는 행위를 시뮬레이션하는 함수(handle은 손잡이 번호)\n",
        "\n",
        "def pull_bandit(handle):\n",
        "  q = np.random.random()\n",
        "  if q<arms_profit[handle]:\n",
        "    return 1\n",
        "  else:\n",
        "    return -1"
      ]
    },
    {
      "cell_type": "code",
      "source": [
        "pull_bandit(0)"
      ],
      "metadata": {
        "colab": {
          "base_uri": "https://localhost:8080/"
        },
        "id": "p8NS1SEKAhdp",
        "outputId": "3197d6a6-359c-4933-dadb-abf2f4ddaf47"
      },
      "execution_count": 14,
      "outputs": [
        {
          "output_type": "execute_result",
          "data": {
            "text/plain": [
              "1"
            ]
          },
          "metadata": {},
          "execution_count": 14
        }
      ]
    },
    {
      "cell_type": "code",
      "source": [
        "def random_exploration():\n",
        "  episode=[]\n",
        "  num = np.zeros(n_arms)              #손잡이별로 당긴 횟수\n",
        "  wins = np.zeros(n_arms)             #손잡이별로 승리 횟수\n",
        "  for i in range(n_trial):\n",
        "    h= np.random.randint(0, n_arms)   #0, 1, 2, 3, 4 중에서 하나 선택\n",
        "    reward = pull_bandit(h)           #h =1, reward = 1, -1\n",
        "    episode.append([h, reward])       #[(1, -1)]\n",
        "    num[h]+=1 \n",
        "    wins[h]+=1 if reward ==1 else 0\n",
        "  return episode, (num,wins)"
      ],
      "metadata": {
        "id": "3rtdZm2LAlpe"
      },
      "execution_count": 25,
      "outputs": []
    },
    {
      "cell_type": "code",
      "source": [
        "e, r = random_exploration()"
      ],
      "metadata": {
        "id": "4l4j-ai5E8vZ"
      },
      "execution_count": 26,
      "outputs": []
    },
    {
      "cell_type": "code",
      "source": [
        "r"
      ],
      "metadata": {
        "colab": {
          "base_uri": "https://localhost:8080/"
        },
        "id": "-JWrTdT5FeiI",
        "outputId": "b49baaa1-a7c6-4da8-ab9e-0abb534c51bf"
      },
      "execution_count": 27,
      "outputs": [
        {
          "output_type": "execute_result",
          "data": {
            "text/plain": [
              "(array([2049., 1991., 2005., 1928., 2027.]),\n",
              " array([ 820.,  251., 1055., 1162.,  508.]))"
            ]
          },
          "metadata": {},
          "execution_count": 27
        }
      ]
    },
    {
      "cell_type": "code",
      "source": [
        "print('손잡이별 승리 확률 :' , [\"%6.4f\"% (r[1][i]/r[0][i]) if r[0][i]>0 else 0.0 for i in range(n_arms)])"
      ],
      "metadata": {
        "colab": {
          "base_uri": "https://localhost:8080/"
        },
        "id": "rVUIinPXFwA4",
        "outputId": "e0233a5d-3fff-4971-ab7c-2247fa94c764"
      },
      "execution_count": 28,
      "outputs": [
        {
          "output_type": "stream",
          "name": "stdout",
          "text": [
            "손잡이별 승리 확률 : ['0.4002', '0.1261', '0.5262', '0.6027', '0.2506']\n"
          ]
        }
      ]
    },
    {
      "cell_type": "code",
      "source": [
        "print('손잡이별 수익($):' , ['%d'% (2*r[1][i] - r[0][i])for i in range(n_arms)])"
      ],
      "metadata": {
        "colab": {
          "base_uri": "https://localhost:8080/"
        },
        "id": "f8RV8bsHGXE-",
        "outputId": "338215f4-5dda-476e-ec5f-163b2563c9df"
      },
      "execution_count": 29,
      "outputs": [
        {
          "output_type": "stream",
          "name": "stdout",
          "text": [
            "손잡이별 수익($): ['-409', '-1489', '105', '396', '-1011']\n"
          ]
        }
      ]
    },
    {
      "cell_type": "code",
      "source": [
        "-39-161-15+54-119"
      ],
      "metadata": {
        "colab": {
          "base_uri": "https://localhost:8080/"
        },
        "id": "DVEEINxFG2DC",
        "outputId": "13557e09-0ea3-4740-d921-97370741336c"
      },
      "execution_count": 30,
      "outputs": [
        {
          "output_type": "execute_result",
          "data": {
            "text/plain": [
              "-280"
            ]
          },
          "metadata": {},
          "execution_count": 30
        }
      ]
    },
    {
      "cell_type": "code",
      "source": [
        "print('순 수익 ($):', sum(np.asarray(e)[:,1]))"
      ],
      "metadata": {
        "colab": {
          "base_uri": "https://localhost:8080/"
        },
        "id": "hYtCNSiEG61r",
        "outputId": "12ab50f7-e2e1-4a71-c418-7be90b2b3cb9"
      },
      "execution_count": 31,
      "outputs": [
        {
          "output_type": "stream",
          "name": "stdout",
          "text": [
            "순 수익 ($): -2408\n"
          ]
        }
      ]
    },
    {
      "cell_type": "code",
      "source": [
        "def epsilon_greedy(eps):\n",
        "  episode = []\n",
        "  num= np.zeros(n_arms)\n",
        "  wins = np.zeros(n_arms)\n",
        "  for i in range(n_trial):\n",
        "    r = np.random.random()\n",
        "    if(r<eps or sum(wins) == 0): \n",
        "      h = np.random.randint(0,n_arms)\n",
        "    else:\n",
        "      prob=np.array([wins[i]/num[i] if  num[i]>0 else 0.0 for i in range(n_arms)])\n",
        "      prob = prob/sum(prob)\n",
        "      h = np.random.choice(range(n_arms), p= prob)\n",
        "    reward = pull_bandit(h)\n",
        "    episode.append([h, reward])\n",
        "    num[h]+=1\n",
        "    wins[h]+=1 if reward == 1 else 0\n",
        "  return episode, (num, wins)"
      ],
      "metadata": {
        "id": "88HA0VxgHAHu"
      },
      "execution_count": 24,
      "outputs": []
    },
    {
      "cell_type": "markdown",
      "source": [
        "eps : 탐험형 - 무작위로 선택하여 손잡이를 당긴다.\n",
        "\n",
        "1-eps : 탐사형 - 현재의 보상값을 고려하여 가장 높은 보상값인 손잡이를 선택한다."
      ],
      "metadata": {
        "id": "tFYsMVMZJp54"
      }
    },
    {
      "cell_type": "code",
      "source": [
        "e, r = epsilon_greedy(0.1)"
      ],
      "metadata": {
        "id": "6M9-Vqy2Kd8D"
      },
      "execution_count": 33,
      "outputs": []
    },
    {
      "cell_type": "code",
      "source": [
        "np.random.choice([1,2,3,4,5])"
      ],
      "metadata": {
        "colab": {
          "base_uri": "https://localhost:8080/"
        },
        "id": "jkWp6FcIKl3j",
        "outputId": "bd760677-f754-4d1e-b967-bba89bd88087"
      },
      "execution_count": 34,
      "outputs": [
        {
          "output_type": "execute_result",
          "data": {
            "text/plain": [
              "2"
            ]
          },
          "metadata": {},
          "execution_count": 34
        }
      ]
    },
    {
      "cell_type": "code",
      "source": [
        "np.random.choice(range(n_arms))"
      ],
      "metadata": {
        "colab": {
          "base_uri": "https://localhost:8080/"
        },
        "id": "FFWqk0SwK_Hs",
        "outputId": "cba0a164-4189-482d-edf0-962c57f5f130"
      },
      "execution_count": 35,
      "outputs": [
        {
          "output_type": "execute_result",
          "data": {
            "text/plain": [
              "4"
            ]
          },
          "metadata": {},
          "execution_count": 35
        }
      ]
    },
    {
      "cell_type": "code",
      "source": [
        ""
      ],
      "metadata": {
        "id": "1X4jbiKrOK6k"
      },
      "execution_count": null,
      "outputs": []
    }
  ]
}