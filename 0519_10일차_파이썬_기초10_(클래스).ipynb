{
  "nbformat": 4,
  "nbformat_minor": 0,
  "metadata": {
    "colab": {
      "name": "0519 10일차 파이썬 기초10 (클래스).ipynb",
      "provenance": [],
      "collapsed_sections": [],
      "authorship_tag": "ABX9TyMW+gN4pkkH40h+e+rtBdPC",
      "include_colab_link": true
    },
    "kernelspec": {
      "name": "python3",
      "display_name": "Python 3"
    },
    "language_info": {
      "name": "python"
    }
  },
  "cells": [
    {
      "cell_type": "markdown",
      "metadata": {
        "id": "view-in-github",
        "colab_type": "text"
      },
      "source": [
        "<a href=\"https://colab.research.google.com/github/Angorith/acorn_python/blob/main/0519_10%EC%9D%BC%EC%B0%A8_%ED%8C%8C%EC%9D%B4%EC%8D%AC_%EA%B8%B0%EC%B4%8810_(%ED%81%B4%EB%9E%98%EC%8A%A4).ipynb\" target=\"_parent\"><img src=\"https://colab.research.google.com/assets/colab-badge.svg\" alt=\"Open In Colab\"/></a>"
      ]
    },
    {
      "cell_type": "markdown",
      "source": [
        "# **클래스**"
      ],
      "metadata": {
        "id": "tLofkwqVXNrU"
      }
    },
    {
      "cell_type": "markdown",
      "source": [
        "더하는 계산기 생성"
      ],
      "metadata": {
        "id": "dkiYvDO8X2Tc"
      }
    },
    {
      "cell_type": "code",
      "execution_count": null,
      "metadata": {
        "id": "KEF66JxzXIF2"
      },
      "outputs": [],
      "source": [
        "def add(num):\n",
        "  result =0\n",
        "  #global result\n",
        "  result +=num\n",
        "  return result"
      ]
    },
    {
      "cell_type": "code",
      "source": [
        "add(10)"
      ],
      "metadata": {
        "colab": {
          "base_uri": "https://localhost:8080/"
        },
        "id": "a2wtq-pfXaAX",
        "outputId": "5ee367d2-f492-43c7-80dc-2b3ed533700b"
      },
      "execution_count": null,
      "outputs": [
        {
          "output_type": "execute_result",
          "data": {
            "text/plain": [
              "10"
            ]
          },
          "metadata": {},
          "execution_count": 3
        }
      ]
    },
    {
      "cell_type": "code",
      "source": [
        "add(3)"
      ],
      "metadata": {
        "colab": {
          "base_uri": "https://localhost:8080/"
        },
        "id": "ee2Sy0C_Xdy_",
        "outputId": "774c3d46-96b8-49d2-bfbb-fc470bf28b34"
      },
      "execution_count": null,
      "outputs": [
        {
          "output_type": "execute_result",
          "data": {
            "text/plain": [
              "3"
            ]
          },
          "metadata": {},
          "execution_count": 4
        }
      ]
    },
    {
      "cell_type": "markdown",
      "source": [
        "이 계산기론 안됨"
      ],
      "metadata": {
        "id": "BNNQHs6sXhLB"
      }
    },
    {
      "cell_type": "code",
      "source": [
        "def add(num):\n",
        "  #result =0\n",
        "  global result #global은 동일한 모듈에서 함수내부의 지역변수를 전역으로 설정\n",
        "  result +=num\n",
        "  return result"
      ],
      "metadata": {
        "id": "7tIJEgTzXiub"
      },
      "execution_count": null,
      "outputs": []
    },
    {
      "cell_type": "code",
      "source": [
        "result = 0\n",
        "add(10)"
      ],
      "metadata": {
        "colab": {
          "base_uri": "https://localhost:8080/"
        },
        "id": "7WSVzorDXkKw",
        "outputId": "f6d9ba19-3a97-4bb2-e750-869553860e45"
      },
      "execution_count": null,
      "outputs": [
        {
          "output_type": "execute_result",
          "data": {
            "text/plain": [
              "10"
            ]
          },
          "metadata": {},
          "execution_count": 6
        }
      ]
    },
    {
      "cell_type": "code",
      "source": [
        "add(3)"
      ],
      "metadata": {
        "colab": {
          "base_uri": "https://localhost:8080/"
        },
        "id": "N9tbsg8fXpm9",
        "outputId": "7a7d8010-42f6-4688-c717-4e7a53ec026b"
      },
      "execution_count": null,
      "outputs": [
        {
          "output_type": "execute_result",
          "data": {
            "text/plain": [
              "13"
            ]
          },
          "metadata": {},
          "execution_count": 7
        }
      ]
    },
    {
      "cell_type": "markdown",
      "source": [
        "된다 "
      ],
      "metadata": {
        "id": "MjAcHL1-Xqse"
      }
    },
    {
      "cell_type": "code",
      "source": [
        "add(7)"
      ],
      "metadata": {
        "colab": {
          "base_uri": "https://localhost:8080/"
        },
        "id": "vXbovpHVXzPJ",
        "outputId": "98979464-702d-4d1e-ec69-f412f3773a59"
      },
      "execution_count": null,
      "outputs": [
        {
          "output_type": "execute_result",
          "data": {
            "text/plain": [
              "20"
            ]
          },
          "metadata": {},
          "execution_count": 8
        }
      ]
    },
    {
      "cell_type": "code",
      "source": [
        "#결국 계산기 2대가 필요하다!\n",
        "result1= 0\n",
        "result2 =0\n",
        "\n",
        "def add1(num):\n",
        "  global result1 \n",
        "  result1 +=num\n",
        "  return result1\n",
        "def add2(num):\n",
        "  global result2\n",
        "  result2 += num\n",
        "  return result2\n",
        "\n",
        "print(add1(3))\n",
        "print(add1(4))\n",
        "print(add2(12))\n",
        "print(add2(8))"
      ],
      "metadata": {
        "colab": {
          "base_uri": "https://localhost:8080/"
        },
        "id": "wsEM3GeUX495",
        "outputId": "b7daac6d-6a9c-4012-8cd6-467129c243b6"
      },
      "execution_count": null,
      "outputs": [
        {
          "output_type": "stream",
          "name": "stdout",
          "text": [
            "3\n",
            "7\n",
            "12\n",
            "20\n"
          ]
        }
      ]
    },
    {
      "cell_type": "markdown",
      "source": [
        "해결은 되나 다른 점이 뚜렸하게 나와있다.\n",
        "함수는 기능만 하는데 클래스는 기능 + data"
      ],
      "metadata": {
        "id": "6ajpSzd7YQCk"
      }
    },
    {
      "cell_type": "code",
      "source": [
        "#클래스를 사용해서 실제 계산기를 모델링하는 데이터 타입(사용자가 정의한)을 만들면 아래와 같이 간단하게 해결된다.\n",
        "\n",
        "class Calculator:\n",
        "  def __init__(self):\n",
        "    self.result =0\n",
        "\n",
        "  def add(self, num):\n",
        "    self.result+= num\n",
        "    return self.result\n",
        "\n",
        "cal1 = Calculator() #lvalue가 rvalue의 instance object입니다\n",
        "cal2 = Calculator()\n",
        "\n",
        "print(cal1.add(3))\n",
        "print(cal1.add(4))\n",
        "print(cal2.add(12))\n",
        "print(cal2.add(8))"
      ],
      "metadata": {
        "colab": {
          "base_uri": "https://localhost:8080/"
        },
        "id": "2_HyVCJwYUeL",
        "outputId": "6d3f4889-3af2-4fd5-d915-84b625bf04ed"
      },
      "execution_count": null,
      "outputs": [
        {
          "output_type": "stream",
          "name": "stdout",
          "text": [
            "3\n",
            "7\n",
            "12\n",
            "20\n"
          ]
        }
      ]
    },
    {
      "cell_type": "code",
      "source": [
        ""
      ],
      "metadata": {
        "id": "Ng73nW08bj6B"
      },
      "execution_count": null,
      "outputs": []
    }
  ]
}