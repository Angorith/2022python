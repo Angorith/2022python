{
  "nbformat": 4,
  "nbformat_minor": 0,
  "metadata": {
    "colab": {
      "name": "0826 76일차 ML.ipynb",
      "provenance": [],
      "collapsed_sections": [],
      "authorship_tag": "ABX9TyP9W0qC3erlYg/rLnBFz2Mr",
      "include_colab_link": true
    },
    "kernelspec": {
      "name": "python3",
      "display_name": "Python 3"
    },
    "language_info": {
      "name": "python"
    }
  },
  "cells": [
    {
      "cell_type": "markdown",
      "metadata": {
        "id": "view-in-github",
        "colab_type": "text"
      },
      "source": [
        "<a href=\"https://colab.research.google.com/github/myungjinma/Python_Study/blob/main/0826_76%EC%9D%BC%EC%B0%A8_ML.ipynb\" target=\"_parent\"><img src=\"https://colab.research.google.com/assets/colab-badge.svg\" alt=\"Open In Colab\"/></a>"
      ]
    },
    {
      "cell_type": "markdown",
      "source": [
        "#복습\n",
        "\n",
        "파이썬\n",
        "\n",
        "    함수\n",
        "    클래스\n",
        "    모듈\n",
        "    라이브러리\n",
        "    pandas\n",
        "    numpy\n",
        "    matplotlib\n",
        "    딥러닝 - DNN, CNN, RNN(LSTM)\n",
        "    통계적 머신러닝 - 회귀, 분류, 앙상블, SVM , 차원 축소, 행렬 분해, 추천시스템\n",
        "    감화학습 - 벨만 기대방정식"
      ],
      "metadata": {
        "id": "MKO4eYakdga5"
      }
    },
    {
      "cell_type": "markdown",
      "source": [
        "1. Object = data + functions 데이터 + 기능\n",
        "\n",
        "2. Machine"
      ],
      "metadata": {
        "id": "ulgMDHb0fZmM"
      }
    }
  ]
}