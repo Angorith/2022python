{
  "nbformat": 4,
  "nbformat_minor": 0,
  "metadata": {
    "colab": {
      "name": "0516 7일차 파이썬 기초(함수2[global, LEGB, nonlocal]).ipynb",
      "provenance": [],
      "collapsed_sections": [],
      "authorship_tag": "ABX9TyM2OtTyCUpftuE56eJ0MWEa",
      "include_colab_link": true
    },
    "kernelspec": {
      "name": "python3",
      "display_name": "Python 3"
    },
    "language_info": {
      "name": "python"
    }
  },
  "cells": [
    {
      "cell_type": "markdown",
      "metadata": {
        "id": "view-in-github",
        "colab_type": "text"
      },
      "source": [
        "<a href=\"https://colab.research.google.com/github/Angorith/acorn_python/blob/main/0516_7%EC%9D%BC%EC%B0%A8_%ED%8C%8C%EC%9D%B4%EC%8D%AC_%EA%B8%B0%EC%B4%88(%ED%95%A8%EC%88%982%5Bglobal%2C_LEGB%2C_nonlocal%5D).ipynb\" target=\"_parent\"><img src=\"https://colab.research.google.com/assets/colab-badge.svg\" alt=\"Open In Colab\"/></a>"
      ]
    },
    {
      "cell_type": "code",
      "source": [
        "def swaps(a,b):\n",
        "    return b,a\n",
        "\n",
        "a=10\n",
        "b=20\n",
        "print(swaps(a, b))"
      ],
      "metadata": {
        "colab": {
          "base_uri": "https://localhost:8080/"
        },
        "id": "ODeggI2mZjFq",
        "outputId": "128a870a-35a3-4c2d-cf66-74ba00635931"
      },
      "execution_count": null,
      "outputs": [
        {
          "output_type": "stream",
          "name": "stdout",
          "text": [
            "(20, 10)\n"
          ]
        }
      ]
    },
    {
      "cell_type": "code",
      "source": [
        "def list_edit(data,s1,s2):\n",
        "    data.append(s1)\n",
        "    data.extend([s2])   #string값은 글자 마다 따로 나오기때문에 []로 한번 감싸기\n",
        "    return data\n",
        "\n",
        "data = [1,2,3]\n",
        "s1 = 'python'\n",
        "s2 = 'program'"
      ],
      "metadata": {
        "id": "NZNJtjnnZqLt"
      },
      "execution_count": null,
      "outputs": []
    },
    {
      "cell_type": "code",
      "source": [
        "result = list_edit(data, s1, s2)\n",
        "print(result)"
      ],
      "metadata": {
        "colab": {
          "base_uri": "https://localhost:8080/"
        },
        "id": "CzrpxOedZuFg",
        "outputId": "1db58b4c-e24e-476a-ca35-1f6eaba6bbdf"
      },
      "execution_count": null,
      "outputs": [
        {
          "output_type": "stream",
          "name": "stdout",
          "text": [
            "[1, 2, 3, 'python', 'program']\n"
          ]
        }
      ]
    },
    {
      "cell_type": "markdown",
      "source": [
        "**함수형 변경**"
      ],
      "metadata": {
        "id": "rXw5OWD4Z2y3"
      }
    },
    {
      "cell_type": "markdown",
      "source": [
        "변경가능 형 (Mutable) : list,dict,set\n",
        "\n",
        "변경 불가능형(Immumtable) : int float colplex str tupe frozenset"
      ],
      "metadata": {
        "id": "oc4BIAySaFej"
      }
    },
    {
      "cell_type": "code",
      "source": [
        "def gg(t):\n",
        "    t = [5,6,7]\n",
        "\n",
        "\n",
        "\n",
        "b=[8,9,10]\n",
        "gg(b)\n",
        "print(b)\n"
      ],
      "metadata": {
        "colab": {
          "base_uri": "https://localhost:8080/"
        },
        "id": "X_Zn5QpjZyYA",
        "outputId": "60c1ea99-1563-43ce-895f-45053d4e22a6"
      },
      "execution_count": null,
      "outputs": [
        {
          "output_type": "stream",
          "name": "stdout",
          "text": [
            "[8, 9, 10]\n"
          ]
        }
      ]
    },
    {
      "cell_type": "code",
      "execution_count": null,
      "metadata": {
        "colab": {
          "base_uri": "https://localhost:8080/"
        },
        "id": "fUJRIjcPYjCL",
        "outputId": "ef694d85-9347-433a-fae1-e69710d2a6ad"
      },
      "outputs": [
        {
          "output_type": "stream",
          "name": "stdout",
          "text": [
            "[8, 10, 10]\n"
          ]
        }
      ],
      "source": [
        "def hh(t):\n",
        "    t[1]=10 #참조 (indexing)으로 하면 변경 가능\n",
        "\n",
        "hh(b)    #return 문이 없지만 인덱싱으로 내부 객체 변경하니 반영됨\n",
        "print(b)"
      ]
    },
    {
      "cell_type": "markdown",
      "source": [
        "**Python Scope**\n",
        "\n",
        "A variable is only avaulavle from inside the region it is created . This is called scope.\n",
        "\n",
        "**Local Scope**\n",
        "\n",
        "A variable created inside a function belongs to the local scope of that function, and cna only be used inside that function."
      ],
      "metadata": {
        "id": "C6UNL_B-cEGE"
      }
    },
    {
      "cell_type": "markdown",
      "source": [
        "**LEGB**\n",
        "\n",
        "파이썬에서 변수에 값을 바인딩하거나 변수의 값을 참조하는 경우 LEGB규칙을 따릅니다.\n",
        "\n",
        "L - Local 의 약자 함수안을 의미\n",
        "\n",
        "E - Enclosed function locals 의 약자로 내부함수에서 자신의 외부 함수의 범위를 의미합니다.\n",
        "\n",
        "G - Global 의 약자로 함수 바깥 즉, 모듈 범위입니다.\n",
        "\n",
        "B - Bulit-in 의 약자로, open, range와 같은 파이썬 내장 함수들을 의미합니다.\n"
      ],
      "metadata": {
        "id": "QSxVTMjdeqpT"
      }
    },
    {
      "cell_type": "code",
      "source": [
        "x= 10           #G\n",
        "y=11\n",
        "\n",
        "def foo():  \n",
        "  x =20             #foo 함수의 L에 , bar 함수의 E에 해당\n",
        "  def bar():\n",
        "    a = 30          #L에 해당\n",
        "    print(a,x,y)    #각 순서대로 L, E, G에 해당\n",
        "  bar()             #30,20,11\n",
        "  x=40\n",
        "  bar()             #30,40,11\n",
        "\n",
        "foo()"
      ],
      "metadata": {
        "colab": {
          "base_uri": "https://localhost:8080/"
        },
        "id": "AscTw3Bies6A",
        "outputId": "9f99c7d1-26ff-4a00-d1f8-7681a51f5856"
      },
      "execution_count": null,
      "outputs": [
        {
          "output_type": "stream",
          "name": "stdout",
          "text": [
            "30 20 11\n",
            "30 40 11\n"
          ]
        }
      ]
    },
    {
      "cell_type": "markdown",
      "source": [
        "Built-In\n",
        "\n",
        "   => Global\n",
        "\n",
        "      =>  Encolosed\n",
        "\n",
        "          =>    Local"
      ],
      "metadata": {
        "id": "MBTobZaagR7I"
      }
    },
    {
      "cell_type": "code",
      "source": [
        "def myfunc1():\n",
        "    x=300\n",
        "    def innerfunc():\n",
        "        print(x-50)\n",
        "    innerfunc()"
      ],
      "metadata": {
        "id": "xgCB6OifhQOh"
      },
      "execution_count": null,
      "outputs": []
    },
    {
      "cell_type": "code",
      "source": [
        "myfunc1()"
      ],
      "metadata": {
        "colab": {
          "base_uri": "https://localhost:8080/"
        },
        "id": "9T73dHFPhVIz",
        "outputId": "fbd3ee3b-809b-4710-d6ed-6353dbf44866"
      },
      "execution_count": null,
      "outputs": [
        {
          "output_type": "stream",
          "name": "stdout",
          "text": [
            "250\n"
          ]
        }
      ]
    },
    {
      "cell_type": "code",
      "source": [
        "def myfunc2():\n",
        "    x=300\n",
        "    def innerfunc():\n",
        "      nonlocal x\n",
        "      x = x- 50\n",
        "      print(x)\n",
        "    innerfunc()\n"
      ],
      "metadata": {
        "id": "WZQZFDi0g3wc"
      },
      "execution_count": null,
      "outputs": []
    },
    {
      "cell_type": "code",
      "source": [
        "myfunc2()"
      ],
      "metadata": {
        "colab": {
          "base_uri": "https://localhost:8080/"
        },
        "id": "5pVauxCug3m1",
        "outputId": "8f5bb95c-18ee-4be0-cfa2-50e7ccfa9887"
      },
      "execution_count": null,
      "outputs": [
        {
          "output_type": "stream",
          "name": "stdout",
          "text": [
            "250\n"
          ]
        }
      ]
    },
    {
      "cell_type": "markdown",
      "source": [
        "nonlocal 문\n",
        "\n",
        "\n",
        "*   전역 영역이 아닌곳에서\n",
        "*   중첩된 함수의 변수를 사용하고자 할 때 nonlocal을 선언한다.\n",
        "\n"
      ],
      "metadata": {
        "id": "E21C5BeHix4_"
      }
    },
    {
      "cell_type": "code",
      "source": [
        "def f(a):       #a는 지역변수\n",
        "  global h\n",
        "  h= a+10"
      ],
      "metadata": {
        "id": "PNuk13ybhBv7"
      },
      "execution_count": null,
      "outputs": []
    },
    {
      "cell_type": "code",
      "source": [
        "g = 10\n",
        "f(11)"
      ],
      "metadata": {
        "id": "5LhzF-DvjCV6"
      },
      "execution_count": null,
      "outputs": []
    },
    {
      "cell_type": "code",
      "source": [
        "h"
      ],
      "metadata": {
        "colab": {
          "base_uri": "https://localhost:8080/"
        },
        "id": "GnlYimI2jEJm",
        "outputId": "760be192-0703-48af-9aa8-5845d92fdd4f"
      },
      "execution_count": null,
      "outputs": [
        {
          "output_type": "execute_result",
          "data": {
            "text/plain": [
              "21"
            ]
          },
          "metadata": {},
          "execution_count": 34
        }
      ]
    },
    {
      "cell_type": "markdown",
      "source": [
        "시간 측정"
      ],
      "metadata": {
        "id": "Z6uf5m__3QWT"
      }
    },
    {
      "cell_type": "code",
      "source": [
        "import time\n",
        "time.time()"
      ],
      "metadata": {
        "colab": {
          "base_uri": "https://localhost:8080/"
        },
        "id": "quiVMTMq3RZX",
        "outputId": "bfafcd74-6fac-4e7c-da77-783d45408372"
      },
      "execution_count": null,
      "outputs": [
        {
          "output_type": "execute_result",
          "data": {
            "text/plain": [
              "1652670948.4072375"
            ]
          },
          "metadata": {},
          "execution_count": 35
        }
      ]
    },
    {
      "cell_type": "code",
      "source": [
        "def minus(a,b):\n",
        "  c= a-b\n",
        "  return c"
      ],
      "metadata": {
        "id": "finPq2EpSRH1"
      },
      "execution_count": null,
      "outputs": []
    },
    {
      "cell_type": "code",
      "source": [
        "d=20\n",
        "f=70"
      ],
      "metadata": {
        "id": "GI6oOrdXSXSy"
      },
      "execution_count": null,
      "outputs": []
    },
    {
      "cell_type": "code",
      "source": [
        "minus(f,d), minus(d,f)"
      ],
      "metadata": {
        "colab": {
          "base_uri": "https://localhost:8080/"
        },
        "id": "d4xJ5MAmSZ6Y",
        "outputId": "25cd630b-155b-44d5-87a5-7d764e6165f1"
      },
      "execution_count": null,
      "outputs": [
        {
          "output_type": "execute_result",
          "data": {
            "text/plain": [
              "(50, -50)"
            ]
          },
          "metadata": {},
          "execution_count": 39
        }
      ]
    },
    {
      "cell_type": "code",
      "source": [
        "\n",
        "table =[('A', '.-'),    ('B', '-...'),  ('C', '-.-.'),  ('D', '-..'),\n",
        "        ('E', '.'),     ('F', '..-.'),  ('G', '--.'),   ('H', '....'),\n",
        "        ('I', '..'),    ('J', '.---'),  ('K', '-.-'),   ('L', '.-..'),\n",
        "        ('M', '--'),    ('N', '-.'),    ('O', '---'),   ('P', '.--.'),\n",
        "        ('Q', '--.-'),  ('R', '.-.'),   ('S', '...'),   ('T', '-'),\n",
        "        ('U', '..-'),   ('V', '...-'),  ('W', '.--'),   ('X', '-..-'),\n",
        "        ('Y', '-.--'),  ('Z', '--..') ]"
      ],
      "metadata": {
        "id": "qxzkZg63TY99"
      },
      "execution_count": null,
      "outputs": []
    },
    {
      "cell_type": "code",
      "source": [
        "type(table)"
      ],
      "metadata": {
        "colab": {
          "base_uri": "https://localhost:8080/"
        },
        "id": "bfARiuJTTcc8",
        "outputId": "18644fa5-d4b8-4cb8-ebd0-271dea1bb81d"
      },
      "execution_count": null,
      "outputs": [
        {
          "output_type": "execute_result",
          "data": {
            "text/plain": [
              "list"
            ]
          },
          "metadata": {},
          "execution_count": 41
        }
      ]
    },
    {
      "cell_type": "code",
      "source": [
        "string = 'SBS'"
      ],
      "metadata": {
        "id": "zFy-oUmgT58n"
      },
      "execution_count": null,
      "outputs": []
    },
    {
      "cell_type": "code",
      "source": [
        "for i in 'SBS':\n",
        "  idx = ord(i)-ord('A')\n",
        "  print(table[idx][1])"
      ],
      "metadata": {
        "colab": {
          "base_uri": "https://localhost:8080/"
        },
        "id": "gBgGVfHeUbPT",
        "outputId": "e66af6e8-ade0-40c7-d871-e7ab809a4b51"
      },
      "execution_count": null,
      "outputs": [
        {
          "output_type": "stream",
          "name": "stdout",
          "text": [
            "...\n",
            "-...\n",
            "...\n"
          ]
        }
      ]
    },
    {
      "cell_type": "code",
      "source": [
        "for i in table:\n",
        "  idx = ord(i[0])-ord('A')\n",
        "  print(idx)"
      ],
      "metadata": {
        "colab": {
          "base_uri": "https://localhost:8080/"
        },
        "id": "6m_FIl2nTfdz",
        "outputId": "55667be4-be95-472b-8bc6-34a65bef006f"
      },
      "execution_count": null,
      "outputs": [
        {
          "output_type": "stream",
          "name": "stdout",
          "text": [
            "0\n",
            "1\n",
            "2\n",
            "3\n",
            "4\n",
            "5\n",
            "6\n",
            "7\n",
            "8\n",
            "9\n",
            "10\n",
            "11\n",
            "12\n",
            "13\n",
            "14\n",
            "15\n",
            "16\n",
            "17\n",
            "18\n",
            "19\n",
            "20\n",
            "21\n",
            "22\n",
            "23\n",
            "24\n",
            "25\n"
          ]
        }
      ]
    },
    {
      "cell_type": "code",
      "source": [
        "for i in enumerate(table):\n",
        "  print(i[0],i[1][0],i[1][1])"
      ],
      "metadata": {
        "colab": {
          "base_uri": "https://localhost:8080/"
        },
        "id": "h-113UD9T4hM",
        "outputId": "03de9a85-7cc1-432b-b3ae-34cc14eec245"
      },
      "execution_count": null,
      "outputs": [
        {
          "output_type": "stream",
          "name": "stdout",
          "text": [
            "0 A .-\n",
            "1 B -...\n",
            "2 C -.-.\n",
            "3 D -..\n",
            "4 E .\n",
            "5 F ..-.\n",
            "6 G --.\n",
            "7 H ....\n",
            "8 I ..\n",
            "9 J .---\n",
            "10 K -.-\n",
            "11 L .-..\n",
            "12 M --\n",
            "13 N -.\n",
            "14 O ---\n",
            "15 P .--.\n",
            "16 Q --.-\n",
            "17 R .-.\n",
            "18 S ...\n",
            "19 T -\n",
            "20 U ..-\n",
            "21 V ...-\n",
            "22 W .--\n",
            "23 X -..-\n",
            "24 Y -.--\n",
            "25 Z --..\n"
          ]
        }
      ]
    },
    {
      "cell_type": "code",
      "source": [
        "def encode_morse(word):\n",
        "  morse_list = []\n",
        "  for i in word:\n",
        "    idx = ord(i)-ord('A')\n",
        "    morse_list.append(table[idx][1])\n",
        "  return morse_list"
      ],
      "metadata": {
        "id": "YFJXKAqZVrDz"
      },
      "execution_count": null,
      "outputs": []
    },
    {
      "cell_type": "code",
      "source": [
        "encode_morse('SBS')"
      ],
      "metadata": {
        "colab": {
          "base_uri": "https://localhost:8080/"
        },
        "id": "ao0fkSRnV-kw",
        "outputId": "e3c9f41f-a481-4b41-d88b-1513add33596"
      },
      "execution_count": null,
      "outputs": [
        {
          "output_type": "execute_result",
          "data": {
            "text/plain": [
              "['...', '-...', '...']"
            ]
          },
          "metadata": {},
          "execution_count": 71
        }
      ]
    },
    {
      "cell_type": "code",
      "source": [
        "for i in 'PYTHON':\n",
        "  idx = ord(i)-ord('A')\n",
        "  print(table[idx][1])"
      ],
      "metadata": {
        "colab": {
          "base_uri": "https://localhost:8080/"
        },
        "id": "fHCLI9MVX2Ei",
        "outputId": "8d87967e-c63e-4867-cc2e-eb877814499b"
      },
      "execution_count": null,
      "outputs": [
        {
          "output_type": "stream",
          "name": "stdout",
          "text": [
            ".--.\n",
            "-.--\n",
            "-\n",
            "....\n",
            "---\n",
            "-.\n"
          ]
        }
      ]
    },
    {
      "cell_type": "code",
      "source": [
        "word = 'SBS'"
      ],
      "metadata": {
        "id": "L3nXtfQ7X70a"
      },
      "execution_count": null,
      "outputs": []
    },
    {
      "cell_type": "code",
      "source": [
        "for i in range(len(word)):\n",
        "  print(i)"
      ],
      "metadata": {
        "colab": {
          "base_uri": "https://localhost:8080/"
        },
        "id": "E3f6DC4FX9Q4",
        "outputId": "e984ea2e-6327-4fa3-df84-31883e7fb8f4"
      },
      "execution_count": null,
      "outputs": [
        {
          "output_type": "stream",
          "name": "stdout",
          "text": [
            "0\n",
            "1\n",
            "2\n"
          ]
        }
      ]
    },
    {
      "cell_type": "code",
      "source": [
        "for i in enumerate(table):\n",
        "  print(i[0],i[1][0],i[1][1])"
      ],
      "metadata": {
        "colab": {
          "base_uri": "https://localhost:8080/"
        },
        "id": "qfvo65IsYAeg",
        "outputId": "5ec512e9-d18f-4d94-c900-9502c97f0761"
      },
      "execution_count": null,
      "outputs": [
        {
          "output_type": "stream",
          "name": "stdout",
          "text": [
            "0 A .-\n",
            "1 B -...\n",
            "2 C -.-.\n",
            "3 D -..\n",
            "4 E .\n",
            "5 F ..-.\n",
            "6 G --.\n",
            "7 H ....\n",
            "8 I ..\n",
            "9 J .---\n",
            "10 K -.-\n",
            "11 L .-..\n",
            "12 M --\n",
            "13 N -.\n",
            "14 O ---\n",
            "15 P .--.\n",
            "16 Q --.-\n",
            "17 R .-.\n",
            "18 S ...\n",
            "19 T -\n",
            "20 U ..-\n",
            "21 V ...-\n",
            "22 W .--\n",
            "23 X -..-\n",
            "24 Y -.--\n",
            "25 Z --..\n"
          ]
        }
      ]
    },
    {
      "cell_type": "code",
      "source": [
        "table_dict = {}\n",
        "for i in table:\n",
        "  table_dict[i[0]]=i[1]"
      ],
      "metadata": {
        "id": "Nk1SmIJ-ZENN"
      },
      "execution_count": null,
      "outputs": []
    },
    {
      "cell_type": "code",
      "source": [
        "table_dict"
      ],
      "metadata": {
        "colab": {
          "base_uri": "https://localhost:8080/"
        },
        "id": "KEze1qbYZiK0",
        "outputId": "ceda3ef1-3ab8-485a-d809-46eee2afddbc"
      },
      "execution_count": null,
      "outputs": [
        {
          "output_type": "execute_result",
          "data": {
            "text/plain": [
              "{'A': '.-',\n",
              " 'B': '-...',\n",
              " 'C': '-.-.',\n",
              " 'D': '-..',\n",
              " 'E': '.',\n",
              " 'F': '..-.',\n",
              " 'G': '--.',\n",
              " 'H': '....',\n",
              " 'I': '..',\n",
              " 'J': '.---',\n",
              " 'K': '-.-',\n",
              " 'L': '.-..',\n",
              " 'M': '--',\n",
              " 'N': '-.',\n",
              " 'O': '---',\n",
              " 'P': '.--.',\n",
              " 'Q': '--.-',\n",
              " 'R': '.-.',\n",
              " 'S': '...',\n",
              " 'T': '-',\n",
              " 'U': '..-',\n",
              " 'V': '...-',\n",
              " 'W': '.--',\n",
              " 'X': '-..-',\n",
              " 'Y': '-.--',\n",
              " 'Z': '--..'}"
            ]
          },
          "metadata": {},
          "execution_count": 91
        }
      ]
    },
    {
      "cell_type": "code",
      "source": [
        "morse_list = []\n",
        "for i in 'SBS':\n",
        "  morse_list.append(table_dict[i])\n",
        "  "
      ],
      "metadata": {
        "id": "O7KGI1VuZn0P"
      },
      "execution_count": null,
      "outputs": []
    },
    {
      "cell_type": "code",
      "source": [
        "for i in ['.--.', '-.--', '-', '....', '---', '-.']:\n",
        "  print(table_dict[i])"
      ],
      "metadata": {
        "colab": {
          "base_uri": "https://localhost:8080/",
          "height": 193
        },
        "id": "8YtoLyJqaDO8",
        "outputId": "29d27e9b-3093-4c20-dcb5-ae48bd67c2ac"
      },
      "execution_count": null,
      "outputs": [
        {
          "output_type": "error",
          "ename": "KeyError",
          "evalue": "ignored",
          "traceback": [
            "\u001b[0;31m---------------------------------------------------------------------------\u001b[0m",
            "\u001b[0;31mKeyError\u001b[0m                                  Traceback (most recent call last)",
            "\u001b[0;32m<ipython-input-93-c69edb83336a>\u001b[0m in \u001b[0;36m<module>\u001b[0;34m()\u001b[0m\n\u001b[1;32m      1\u001b[0m \u001b[0;32mfor\u001b[0m \u001b[0mi\u001b[0m \u001b[0;32min\u001b[0m \u001b[0;34m[\u001b[0m\u001b[0;34m'.--.'\u001b[0m\u001b[0;34m,\u001b[0m \u001b[0;34m'-.--'\u001b[0m\u001b[0;34m,\u001b[0m \u001b[0;34m'-'\u001b[0m\u001b[0;34m,\u001b[0m \u001b[0;34m'....'\u001b[0m\u001b[0;34m,\u001b[0m \u001b[0;34m'---'\u001b[0m\u001b[0;34m,\u001b[0m \u001b[0;34m'-.'\u001b[0m\u001b[0;34m]\u001b[0m\u001b[0;34m:\u001b[0m\u001b[0;34m\u001b[0m\u001b[0;34m\u001b[0m\u001b[0m\n\u001b[0;32m----> 2\u001b[0;31m   \u001b[0mprint\u001b[0m\u001b[0;34m(\u001b[0m\u001b[0mtable_dict\u001b[0m\u001b[0;34m[\u001b[0m\u001b[0mi\u001b[0m\u001b[0;34m]\u001b[0m\u001b[0;34m)\u001b[0m\u001b[0;34m\u001b[0m\u001b[0;34m\u001b[0m\u001b[0m\n\u001b[0m",
            "\u001b[0;31mKeyError\u001b[0m: '.--.'"
          ]
        }
      ]
    },
    {
      "cell_type": "code",
      "source": [
        "morse_list"
      ],
      "metadata": {
        "colab": {
          "base_uri": "https://localhost:8080/"
        },
        "id": "TBCmEqJfZ_yd",
        "outputId": "3da301e0-90d9-4ba8-a46a-97ded3e4a73b"
      },
      "execution_count": null,
      "outputs": [
        {
          "output_type": "execute_result",
          "data": {
            "text/plain": [
              "['...', '-...', '...']"
            ]
          },
          "metadata": {},
          "execution_count": 84
        }
      ]
    },
    {
      "cell_type": "code",
      "source": [
        "number = [1,2,3]\n",
        "letters = ['a','b','c']\n",
        "k = zip(number,letters)"
      ],
      "metadata": {
        "id": "IUpql91goVeU"
      },
      "execution_count": null,
      "outputs": []
    },
    {
      "cell_type": "code",
      "source": [
        "k_dict = dict(k)"
      ],
      "metadata": {
        "id": "UFGgk7ZKohdT"
      },
      "execution_count": null,
      "outputs": []
    },
    {
      "cell_type": "code",
      "source": [
        "k_dict"
      ],
      "metadata": {
        "colab": {
          "base_uri": "https://localhost:8080/"
        },
        "id": "eAsYeRU3oGWd",
        "outputId": "c6ed1e01-1a40-452f-c285-823df1d7ccfc"
      },
      "execution_count": null,
      "outputs": [
        {
          "output_type": "execute_result",
          "data": {
            "text/plain": [
              "{1: 'a', 2: 'b', 3: 'c'}"
            ]
          },
          "metadata": {},
          "execution_count": 98
        }
      ]
    },
    {
      "cell_type": "code",
      "source": [
        "for i in k:\n",
        "  print(i)"
      ],
      "metadata": {
        "colab": {
          "base_uri": "https://localhost:8080/"
        },
        "id": "6mzelihPol-k",
        "outputId": "84431f9f-0a17-4121-fc74-6a48f3e021e2"
      },
      "execution_count": null,
      "outputs": [
        {
          "output_type": "stream",
          "name": "stdout",
          "text": [
            "(1, 'a')\n",
            "(2, 'b')\n",
            "(3, 'c')\n"
          ]
        }
      ]
    },
    {
      "cell_type": "code",
      "source": [
        "k_dict = dict(k)"
      ],
      "metadata": {
        "id": "I-N-878kon6-"
      },
      "execution_count": null,
      "outputs": []
    },
    {
      "cell_type": "code",
      "source": [
        "k_dict"
      ],
      "metadata": {
        "colab": {
          "base_uri": "https://localhost:8080/"
        },
        "id": "_E5fgBhoouCk",
        "outputId": "7334b43d-3939-4e06-da5d-5d8cf4875786"
      },
      "execution_count": null,
      "outputs": [
        {
          "output_type": "execute_result",
          "data": {
            "text/plain": [
              "{}"
            ]
          },
          "metadata": {},
          "execution_count": 103
        }
      ]
    },
    {
      "cell_type": "code",
      "source": [
        "number"
      ],
      "metadata": {
        "colab": {
          "base_uri": "https://localhost:8080/"
        },
        "id": "zDh_kZcCtQVp",
        "outputId": "05028ccd-ca08-43a5-c4bb-343e3b54a2f7"
      },
      "execution_count": null,
      "outputs": [
        {
          "output_type": "execute_result",
          "data": {
            "text/plain": [
              "[1, 2, 3]"
            ]
          },
          "metadata": {},
          "execution_count": 104
        }
      ]
    },
    {
      "cell_type": "code",
      "source": [
        "len(number)"
      ],
      "metadata": {
        "colab": {
          "base_uri": "https://localhost:8080/"
        },
        "id": "zEUxTzuitSYD",
        "outputId": "72089380-4db2-4ea4-9392-8810fbb5a8f4"
      },
      "execution_count": null,
      "outputs": [
        {
          "output_type": "execute_result",
          "data": {
            "text/plain": [
              "3"
            ]
          },
          "metadata": {},
          "execution_count": 105
        }
      ]
    },
    {
      "cell_type": "code",
      "source": [
        "len('tests')"
      ],
      "metadata": {
        "colab": {
          "base_uri": "https://localhost:8080/"
        },
        "id": "93Fgy4ojtTz1",
        "outputId": "857e4572-d96a-43bf-8db6-bea39e189442"
      },
      "execution_count": null,
      "outputs": [
        {
          "output_type": "execute_result",
          "data": {
            "text/plain": [
              "5"
            ]
          },
          "metadata": {},
          "execution_count": 106
        }
      ]
    },
    {
      "cell_type": "code",
      "source": [
        "a = ['abcdef','xyz','aba','1221']"
      ],
      "metadata": {
        "id": "Ay4qVdIjtWXe"
      },
      "execution_count": null,
      "outputs": []
    }
  ]
}