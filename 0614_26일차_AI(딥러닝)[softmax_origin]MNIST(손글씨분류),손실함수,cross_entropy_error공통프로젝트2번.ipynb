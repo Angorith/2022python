{
  "nbformat": 4,
  "nbformat_minor": 0,
  "metadata": {
    "colab": {
      "name": "0614 26일차 AI(딥러닝)[softmax_origin]MNIST(손글씨분류),손실함수,cross_entropy_error공통프로젝트2번.ipynb",
      "provenance": [],
      "collapsed_sections": [],
      "mount_file_id": "1py_p48oP6izM_15ZVL8lKiuHDEUQBsES",
      "authorship_tag": "ABX9TyPNiyv/zDx+TS26ajGZNkTd",
      "include_colab_link": true
    },
    "kernelspec": {
      "name": "python3",
      "display_name": "Python 3"
    },
    "language_info": {
      "name": "python"
    }
  },
  "cells": [
    {
      "cell_type": "markdown",
      "metadata": {
        "id": "view-in-github",
        "colab_type": "text"
      },
      "source": [
        "<a href=\"https://colab.research.google.com/github/Angorith/acorn_python/blob/main/0614_26%EC%9D%BC%EC%B0%A8_AI(%EB%94%A5%EB%9F%AC%EB%8B%9D)%5Bsoftmax_origin%5DMNIST(%EC%86%90%EA%B8%80%EC%94%A8%EB%B6%84%EB%A5%98)%2C%EC%86%90%EC%8B%A4%ED%95%A8%EC%88%98%2Ccross_entropy_error%EA%B3%B5%ED%86%B5%ED%94%84%EB%A1%9C%EC%A0%9D%ED%8A%B82%EB%B2%88.ipynb\" target=\"_parent\"><img src=\"https://colab.research.google.com/assets/colab-badge.svg\" alt=\"Open In Colab\"/></a>"
      ]
    },
    {
      "cell_type": "code",
      "execution_count": null,
      "metadata": {
        "id": "g6vGMfe1jnuA"
      },
      "outputs": [],
      "source": [
        "import numpy as np\n",
        "import pandas as pd\n",
        "import matplotlib.pyplot as plt\n",
        "%matplotlib inline"
      ]
    },
    {
      "cell_type": "code",
      "source": [
        "df = pd.read_csv('seoul0606hour.csv', encoding='cp949')"
      ],
      "metadata": {
        "id": "_6LsKWdsjxrI"
      },
      "execution_count": null,
      "outputs": []
    },
    {
      "cell_type": "code",
      "source": [
        "df"
      ],
      "metadata": {
        "id": "ABo4k1QKj29m"
      },
      "execution_count": null,
      "outputs": []
    },
    {
      "cell_type": "code",
      "source": [
        "df.columns=['num','loc','time(hour)','tem(°C)']"
      ],
      "metadata": {
        "id": "0ASvE2A5j7sl"
      },
      "execution_count": null,
      "outputs": []
    },
    {
      "cell_type": "code",
      "source": [
        "df = df.replace('서울','Seoul')"
      ],
      "metadata": {
        "id": "sfT2ZqEukApe"
      },
      "execution_count": null,
      "outputs": []
    },
    {
      "cell_type": "code",
      "source": [
        "df"
      ],
      "metadata": {
        "id": "j0NHtkIokCuE"
      },
      "execution_count": null,
      "outputs": []
    },
    {
      "cell_type": "code",
      "source": [
        "df.info()"
      ],
      "metadata": {
        "colab": {
          "base_uri": "https://localhost:8080/"
        },
        "id": "TpcvchZW9yI9",
        "outputId": "392d5775-a89a-462c-f023-bb756b31aa74"
      },
      "execution_count": null,
      "outputs": [
        {
          "output_type": "stream",
          "name": "stdout",
          "text": [
            "<class 'pandas.core.frame.DataFrame'>\n",
            "RangeIndex: 144 entries, 0 to 143\n",
            "Data columns (total 4 columns):\n",
            " #   Column      Non-Null Count  Dtype  \n",
            "---  ------      --------------  -----  \n",
            " 0   num         144 non-null    int64  \n",
            " 1   loc         144 non-null    object \n",
            " 2   time(hour)  144 non-null    object \n",
            " 3   tem(°C)     144 non-null    float64\n",
            "dtypes: float64(1), int64(1), object(2)\n",
            "memory usage: 4.6+ KB\n"
          ]
        }
      ]
    },
    {
      "cell_type": "code",
      "source": [
        "df['new_Date'] = pd.to_datetime(df['time(hour)'])"
      ],
      "metadata": {
        "id": "sq3xM_ut-HSu"
      },
      "execution_count": null,
      "outputs": []
    },
    {
      "cell_type": "code",
      "source": [
        "df.head()"
      ],
      "metadata": {
        "id": "sXhl73iy-P_n"
      },
      "execution_count": null,
      "outputs": []
    },
    {
      "cell_type": "code",
      "source": [
        "df.drop('time(hour)', axis = 1, inplace=True)\n",
        "df.set_index('new_Date', inplace=True)"
      ],
      "metadata": {
        "id": "uwGXbXBB-XO6"
      },
      "execution_count": null,
      "outputs": []
    },
    {
      "cell_type": "code",
      "source": [
        "df.head()"
      ],
      "metadata": {
        "colab": {
          "base_uri": "https://localhost:8080/",
          "height": 238
        },
        "id": "-05CAaqV-cX-",
        "outputId": "0ae2ab33-8985-4127-ace9-020b473c10ee"
      },
      "execution_count": null,
      "outputs": [
        {
          "output_type": "execute_result",
          "data": {
            "text/plain": [
              "                     num    loc  tem(°C)\n",
              "new_Date                                \n",
              "2022-05-31 01:00:00  108  Seoul     16.7\n",
              "2022-05-31 02:00:00  108  Seoul     16.2\n",
              "2022-05-31 03:00:00  108  Seoul     15.4\n",
              "2022-05-31 04:00:00  108  Seoul     14.9\n",
              "2022-05-31 05:00:00  108  Seoul     14.4"
            ],
            "text/html": [
              "\n",
              "  <div id=\"df-9a874955-9830-4994-8eb6-937aa2aefd66\">\n",
              "    <div class=\"colab-df-container\">\n",
              "      <div>\n",
              "<style scoped>\n",
              "    .dataframe tbody tr th:only-of-type {\n",
              "        vertical-align: middle;\n",
              "    }\n",
              "\n",
              "    .dataframe tbody tr th {\n",
              "        vertical-align: top;\n",
              "    }\n",
              "\n",
              "    .dataframe thead th {\n",
              "        text-align: right;\n",
              "    }\n",
              "</style>\n",
              "<table border=\"1\" class=\"dataframe\">\n",
              "  <thead>\n",
              "    <tr style=\"text-align: right;\">\n",
              "      <th></th>\n",
              "      <th>num</th>\n",
              "      <th>loc</th>\n",
              "      <th>tem(°C)</th>\n",
              "    </tr>\n",
              "    <tr>\n",
              "      <th>new_Date</th>\n",
              "      <th></th>\n",
              "      <th></th>\n",
              "      <th></th>\n",
              "    </tr>\n",
              "  </thead>\n",
              "  <tbody>\n",
              "    <tr>\n",
              "      <th>2022-05-31 01:00:00</th>\n",
              "      <td>108</td>\n",
              "      <td>Seoul</td>\n",
              "      <td>16.7</td>\n",
              "    </tr>\n",
              "    <tr>\n",
              "      <th>2022-05-31 02:00:00</th>\n",
              "      <td>108</td>\n",
              "      <td>Seoul</td>\n",
              "      <td>16.2</td>\n",
              "    </tr>\n",
              "    <tr>\n",
              "      <th>2022-05-31 03:00:00</th>\n",
              "      <td>108</td>\n",
              "      <td>Seoul</td>\n",
              "      <td>15.4</td>\n",
              "    </tr>\n",
              "    <tr>\n",
              "      <th>2022-05-31 04:00:00</th>\n",
              "      <td>108</td>\n",
              "      <td>Seoul</td>\n",
              "      <td>14.9</td>\n",
              "    </tr>\n",
              "    <tr>\n",
              "      <th>2022-05-31 05:00:00</th>\n",
              "      <td>108</td>\n",
              "      <td>Seoul</td>\n",
              "      <td>14.4</td>\n",
              "    </tr>\n",
              "  </tbody>\n",
              "</table>\n",
              "</div>\n",
              "      <button class=\"colab-df-convert\" onclick=\"convertToInteractive('df-9a874955-9830-4994-8eb6-937aa2aefd66')\"\n",
              "              title=\"Convert this dataframe to an interactive table.\"\n",
              "              style=\"display:none;\">\n",
              "        \n",
              "  <svg xmlns=\"http://www.w3.org/2000/svg\" height=\"24px\"viewBox=\"0 0 24 24\"\n",
              "       width=\"24px\">\n",
              "    <path d=\"M0 0h24v24H0V0z\" fill=\"none\"/>\n",
              "    <path d=\"M18.56 5.44l.94 2.06.94-2.06 2.06-.94-2.06-.94-.94-2.06-.94 2.06-2.06.94zm-11 1L8.5 8.5l.94-2.06 2.06-.94-2.06-.94L8.5 2.5l-.94 2.06-2.06.94zm10 10l.94 2.06.94-2.06 2.06-.94-2.06-.94-.94-2.06-.94 2.06-2.06.94z\"/><path d=\"M17.41 7.96l-1.37-1.37c-.4-.4-.92-.59-1.43-.59-.52 0-1.04.2-1.43.59L10.3 9.45l-7.72 7.72c-.78.78-.78 2.05 0 2.83L4 21.41c.39.39.9.59 1.41.59.51 0 1.02-.2 1.41-.59l7.78-7.78 2.81-2.81c.8-.78.8-2.07 0-2.86zM5.41 20L4 18.59l7.72-7.72 1.47 1.35L5.41 20z\"/>\n",
              "  </svg>\n",
              "      </button>\n",
              "      \n",
              "  <style>\n",
              "    .colab-df-container {\n",
              "      display:flex;\n",
              "      flex-wrap:wrap;\n",
              "      gap: 12px;\n",
              "    }\n",
              "\n",
              "    .colab-df-convert {\n",
              "      background-color: #E8F0FE;\n",
              "      border: none;\n",
              "      border-radius: 50%;\n",
              "      cursor: pointer;\n",
              "      display: none;\n",
              "      fill: #1967D2;\n",
              "      height: 32px;\n",
              "      padding: 0 0 0 0;\n",
              "      width: 32px;\n",
              "    }\n",
              "\n",
              "    .colab-df-convert:hover {\n",
              "      background-color: #E2EBFA;\n",
              "      box-shadow: 0px 1px 2px rgba(60, 64, 67, 0.3), 0px 1px 3px 1px rgba(60, 64, 67, 0.15);\n",
              "      fill: #174EA6;\n",
              "    }\n",
              "\n",
              "    [theme=dark] .colab-df-convert {\n",
              "      background-color: #3B4455;\n",
              "      fill: #D2E3FC;\n",
              "    }\n",
              "\n",
              "    [theme=dark] .colab-df-convert:hover {\n",
              "      background-color: #434B5C;\n",
              "      box-shadow: 0px 1px 3px 1px rgba(0, 0, 0, 0.15);\n",
              "      filter: drop-shadow(0px 1px 2px rgba(0, 0, 0, 0.3));\n",
              "      fill: #FFFFFF;\n",
              "    }\n",
              "  </style>\n",
              "\n",
              "      <script>\n",
              "        const buttonEl =\n",
              "          document.querySelector('#df-9a874955-9830-4994-8eb6-937aa2aefd66 button.colab-df-convert');\n",
              "        buttonEl.style.display =\n",
              "          google.colab.kernel.accessAllowed ? 'block' : 'none';\n",
              "\n",
              "        async function convertToInteractive(key) {\n",
              "          const element = document.querySelector('#df-9a874955-9830-4994-8eb6-937aa2aefd66');\n",
              "          const dataTable =\n",
              "            await google.colab.kernel.invokeFunction('convertToInteractive',\n",
              "                                                     [key], {});\n",
              "          if (!dataTable) return;\n",
              "\n",
              "          const docLinkHtml = 'Like what you see? Visit the ' +\n",
              "            '<a target=\"_blank\" href=https://colab.research.google.com/notebooks/data_table.ipynb>data table notebook</a>'\n",
              "            + ' to learn more about interactive tables.';\n",
              "          element.innerHTML = '';\n",
              "          dataTable['output_type'] = 'display_data';\n",
              "          await google.colab.output.renderOutput(dataTable, element);\n",
              "          const docLink = document.createElement('div');\n",
              "          docLink.innerHTML = docLinkHtml;\n",
              "          element.appendChild(docLink);\n",
              "        }\n",
              "      </script>\n",
              "    </div>\n",
              "  </div>\n",
              "  "
            ]
          },
          "metadata": {},
          "execution_count": 11
        }
      ]
    },
    {
      "cell_type": "code",
      "source": [
        "df.info()"
      ],
      "metadata": {
        "colab": {
          "base_uri": "https://localhost:8080/"
        },
        "id": "Uqw6LW-V-hZ3",
        "outputId": "e368bbb2-48c1-428b-a929-3a6463692f42"
      },
      "execution_count": null,
      "outputs": [
        {
          "output_type": "stream",
          "name": "stdout",
          "text": [
            "<class 'pandas.core.frame.DataFrame'>\n",
            "DatetimeIndex: 144 entries, 2022-05-31 01:00:00 to 2022-06-06 00:00:00\n",
            "Data columns (total 3 columns):\n",
            " #   Column   Non-Null Count  Dtype  \n",
            "---  ------   --------------  -----  \n",
            " 0   num      144 non-null    int64  \n",
            " 1   loc      144 non-null    object \n",
            " 2   tem(°C)  144 non-null    float64\n",
            "dtypes: float64(1), int64(1), object(1)\n",
            "memory usage: 4.5+ KB\n"
          ]
        }
      ]
    },
    {
      "cell_type": "code",
      "source": [
        "hour = df['time(hour)'].str.split(\" \")\n",
        "\n",
        "hour_list = []\n",
        "date_list = []\n",
        "for i in hour :\n",
        "    date_list.append(i[0])\n",
        "    hour_list.append(i[1])\n",
        "\n",
        "    #추출완료\n",
        "    #'min' 컬럼 생성\n",
        "df['date'] = date_list\n",
        "df['hour'] = hour_list"
      ],
      "metadata": {
        "id": "-z83vmGgkEgg"
      },
      "execution_count": null,
      "outputs": []
    },
    {
      "cell_type": "code",
      "source": [
        "df"
      ],
      "metadata": {
        "id": "yAnInXBHkfzT"
      },
      "execution_count": null,
      "outputs": []
    },
    {
      "cell_type": "code",
      "source": [
        "plt.figure(figsize=(16,10))\n",
        "plt.title('2022-06-06 Seoul temp.', fontsize = 20)\n",
        "plt.plot(df['new_Date'], df['tem(°C)'])\n",
        "#plt.xticks(['01:00','03:22','06:43','10:09','13:40','17:11','20:39','00:00'],rotation=45)\n",
        "plt.xlabel('HOUR.', fontsize = 15)\n",
        "plt.ylabel('TEMP(°C)',fontsize = 15)\n",
        "plt.show()"
      ],
      "metadata": {
        "id": "LW_DOr0ZkgWu"
      },
      "execution_count": null,
      "outputs": []
    },
    {
      "cell_type": "code",
      "source": [
        "df2 = pd.read_csv('seoul0606min.csv', encoding='cp949')"
      ],
      "metadata": {
        "id": "Y4KrlFFpFL2K"
      },
      "execution_count": null,
      "outputs": []
    },
    {
      "cell_type": "code",
      "source": [
        "df2.describe()"
      ],
      "metadata": {
        "colab": {
          "base_uri": "https://localhost:8080/",
          "height": 300
        },
        "id": "hvV5WWV_FOcb",
        "outputId": "41c46bb0-0d7f-4d21-d93d-3154ae485b70"
      },
      "execution_count": null,
      "outputs": [
        {
          "output_type": "execute_result",
          "data": {
            "text/plain": [
              "           지점       기온(°C)\n",
              "count  1397.0  1397.000000\n",
              "mean    108.0    19.856335\n",
              "std       0.0     2.316277\n",
              "min     108.0    16.700000\n",
              "25%     108.0    17.900000\n",
              "50%     108.0    19.300000\n",
              "75%     108.0    21.700000\n",
              "max     108.0    24.500000"
            ],
            "text/html": [
              "\n",
              "  <div id=\"df-4b8b7226-a6be-4bb9-bf73-75d7bbf115b6\">\n",
              "    <div class=\"colab-df-container\">\n",
              "      <div>\n",
              "<style scoped>\n",
              "    .dataframe tbody tr th:only-of-type {\n",
              "        vertical-align: middle;\n",
              "    }\n",
              "\n",
              "    .dataframe tbody tr th {\n",
              "        vertical-align: top;\n",
              "    }\n",
              "\n",
              "    .dataframe thead th {\n",
              "        text-align: right;\n",
              "    }\n",
              "</style>\n",
              "<table border=\"1\" class=\"dataframe\">\n",
              "  <thead>\n",
              "    <tr style=\"text-align: right;\">\n",
              "      <th></th>\n",
              "      <th>지점</th>\n",
              "      <th>기온(°C)</th>\n",
              "    </tr>\n",
              "  </thead>\n",
              "  <tbody>\n",
              "    <tr>\n",
              "      <th>count</th>\n",
              "      <td>1397.0</td>\n",
              "      <td>1397.000000</td>\n",
              "    </tr>\n",
              "    <tr>\n",
              "      <th>mean</th>\n",
              "      <td>108.0</td>\n",
              "      <td>19.856335</td>\n",
              "    </tr>\n",
              "    <tr>\n",
              "      <th>std</th>\n",
              "      <td>0.0</td>\n",
              "      <td>2.316277</td>\n",
              "    </tr>\n",
              "    <tr>\n",
              "      <th>min</th>\n",
              "      <td>108.0</td>\n",
              "      <td>16.700000</td>\n",
              "    </tr>\n",
              "    <tr>\n",
              "      <th>25%</th>\n",
              "      <td>108.0</td>\n",
              "      <td>17.900000</td>\n",
              "    </tr>\n",
              "    <tr>\n",
              "      <th>50%</th>\n",
              "      <td>108.0</td>\n",
              "      <td>19.300000</td>\n",
              "    </tr>\n",
              "    <tr>\n",
              "      <th>75%</th>\n",
              "      <td>108.0</td>\n",
              "      <td>21.700000</td>\n",
              "    </tr>\n",
              "    <tr>\n",
              "      <th>max</th>\n",
              "      <td>108.0</td>\n",
              "      <td>24.500000</td>\n",
              "    </tr>\n",
              "  </tbody>\n",
              "</table>\n",
              "</div>\n",
              "      <button class=\"colab-df-convert\" onclick=\"convertToInteractive('df-4b8b7226-a6be-4bb9-bf73-75d7bbf115b6')\"\n",
              "              title=\"Convert this dataframe to an interactive table.\"\n",
              "              style=\"display:none;\">\n",
              "        \n",
              "  <svg xmlns=\"http://www.w3.org/2000/svg\" height=\"24px\"viewBox=\"0 0 24 24\"\n",
              "       width=\"24px\">\n",
              "    <path d=\"M0 0h24v24H0V0z\" fill=\"none\"/>\n",
              "    <path d=\"M18.56 5.44l.94 2.06.94-2.06 2.06-.94-2.06-.94-.94-2.06-.94 2.06-2.06.94zm-11 1L8.5 8.5l.94-2.06 2.06-.94-2.06-.94L8.5 2.5l-.94 2.06-2.06.94zm10 10l.94 2.06.94-2.06 2.06-.94-2.06-.94-.94-2.06-.94 2.06-2.06.94z\"/><path d=\"M17.41 7.96l-1.37-1.37c-.4-.4-.92-.59-1.43-.59-.52 0-1.04.2-1.43.59L10.3 9.45l-7.72 7.72c-.78.78-.78 2.05 0 2.83L4 21.41c.39.39.9.59 1.41.59.51 0 1.02-.2 1.41-.59l7.78-7.78 2.81-2.81c.8-.78.8-2.07 0-2.86zM5.41 20L4 18.59l7.72-7.72 1.47 1.35L5.41 20z\"/>\n",
              "  </svg>\n",
              "      </button>\n",
              "      \n",
              "  <style>\n",
              "    .colab-df-container {\n",
              "      display:flex;\n",
              "      flex-wrap:wrap;\n",
              "      gap: 12px;\n",
              "    }\n",
              "\n",
              "    .colab-df-convert {\n",
              "      background-color: #E8F0FE;\n",
              "      border: none;\n",
              "      border-radius: 50%;\n",
              "      cursor: pointer;\n",
              "      display: none;\n",
              "      fill: #1967D2;\n",
              "      height: 32px;\n",
              "      padding: 0 0 0 0;\n",
              "      width: 32px;\n",
              "    }\n",
              "\n",
              "    .colab-df-convert:hover {\n",
              "      background-color: #E2EBFA;\n",
              "      box-shadow: 0px 1px 2px rgba(60, 64, 67, 0.3), 0px 1px 3px 1px rgba(60, 64, 67, 0.15);\n",
              "      fill: #174EA6;\n",
              "    }\n",
              "\n",
              "    [theme=dark] .colab-df-convert {\n",
              "      background-color: #3B4455;\n",
              "      fill: #D2E3FC;\n",
              "    }\n",
              "\n",
              "    [theme=dark] .colab-df-convert:hover {\n",
              "      background-color: #434B5C;\n",
              "      box-shadow: 0px 1px 3px 1px rgba(0, 0, 0, 0.15);\n",
              "      filter: drop-shadow(0px 1px 2px rgba(0, 0, 0, 0.3));\n",
              "      fill: #FFFFFF;\n",
              "    }\n",
              "  </style>\n",
              "\n",
              "      <script>\n",
              "        const buttonEl =\n",
              "          document.querySelector('#df-4b8b7226-a6be-4bb9-bf73-75d7bbf115b6 button.colab-df-convert');\n",
              "        buttonEl.style.display =\n",
              "          google.colab.kernel.accessAllowed ? 'block' : 'none';\n",
              "\n",
              "        async function convertToInteractive(key) {\n",
              "          const element = document.querySelector('#df-4b8b7226-a6be-4bb9-bf73-75d7bbf115b6');\n",
              "          const dataTable =\n",
              "            await google.colab.kernel.invokeFunction('convertToInteractive',\n",
              "                                                     [key], {});\n",
              "          if (!dataTable) return;\n",
              "\n",
              "          const docLinkHtml = 'Like what you see? Visit the ' +\n",
              "            '<a target=\"_blank\" href=https://colab.research.google.com/notebooks/data_table.ipynb>data table notebook</a>'\n",
              "            + ' to learn more about interactive tables.';\n",
              "          element.innerHTML = '';\n",
              "          dataTable['output_type'] = 'display_data';\n",
              "          await google.colab.output.renderOutput(dataTable, element);\n",
              "          const docLink = document.createElement('div');\n",
              "          docLink.innerHTML = docLinkHtml;\n",
              "          element.appendChild(docLink);\n",
              "        }\n",
              "      </script>\n",
              "    </div>\n",
              "  </div>\n",
              "  "
            ]
          },
          "metadata": {},
          "execution_count": 18
        }
      ]
    },
    {
      "cell_type": "code",
      "source": [
        "df = pd.read_csv('seoul0606min.csv', encoding='cp949')\n",
        "\n",
        "    #컬럼 영어변환\n",
        "df.columns=['num','loc','time(min)','tem(°C)']\n",
        "\n",
        "\n",
        "    #'서울'을 seoul로 변환\n",
        "df = df.replace('서울','Seoul')\n",
        "\n",
        "\n",
        "    #dataframe에 분만 표시하는 값 만들기\n",
        "min = df['time(min)'].str.split(\" \")\n",
        "\n",
        "min_list = []\n",
        "for i in min :\n",
        "    min_list.append(i[1])\n",
        "    #추출완료\n",
        "    #'min' 컬럼 생성\n",
        "df['min'] = min_list"
      ],
      "metadata": {
        "id": "miZQE3rCGJjM"
      },
      "execution_count": null,
      "outputs": []
    },
    {
      "cell_type": "code",
      "source": [
        "df"
      ],
      "metadata": {
        "colab": {
          "base_uri": "https://localhost:8080/",
          "height": 424
        },
        "id": "8YcHbZpHGKYk",
        "outputId": "5767bd90-9144-4cd6-aa05-94a79b589836"
      },
      "execution_count": null,
      "outputs": [
        {
          "output_type": "execute_result",
          "data": {
            "text/plain": [
              "      num    loc         time(min)  tem(°C)    min\n",
              "0     108  Seoul  2022-06-06 00:01     20.2  00:01\n",
              "1     108  Seoul  2022-06-06 00:02     20.2  00:02\n",
              "2     108  Seoul  2022-06-06 00:03     20.2  00:03\n",
              "3     108  Seoul  2022-06-06 00:04     20.2  00:04\n",
              "4     108  Seoul  2022-06-06 00:05     20.2  00:05\n",
              "...   ...    ...               ...      ...    ...\n",
              "1392  108  Seoul  2022-06-06 23:56     16.7  23:56\n",
              "1393  108  Seoul  2022-06-06 23:57     16.7  23:57\n",
              "1394  108  Seoul  2022-06-06 23:58     16.7  23:58\n",
              "1395  108  Seoul  2022-06-06 23:59     16.7  23:59\n",
              "1396  108  Seoul  2022-06-07 00:00     16.7  00:00\n",
              "\n",
              "[1397 rows x 5 columns]"
            ],
            "text/html": [
              "\n",
              "  <div id=\"df-590645c5-f792-41de-8885-322619dbe8f5\">\n",
              "    <div class=\"colab-df-container\">\n",
              "      <div>\n",
              "<style scoped>\n",
              "    .dataframe tbody tr th:only-of-type {\n",
              "        vertical-align: middle;\n",
              "    }\n",
              "\n",
              "    .dataframe tbody tr th {\n",
              "        vertical-align: top;\n",
              "    }\n",
              "\n",
              "    .dataframe thead th {\n",
              "        text-align: right;\n",
              "    }\n",
              "</style>\n",
              "<table border=\"1\" class=\"dataframe\">\n",
              "  <thead>\n",
              "    <tr style=\"text-align: right;\">\n",
              "      <th></th>\n",
              "      <th>num</th>\n",
              "      <th>loc</th>\n",
              "      <th>time(min)</th>\n",
              "      <th>tem(°C)</th>\n",
              "      <th>min</th>\n",
              "    </tr>\n",
              "  </thead>\n",
              "  <tbody>\n",
              "    <tr>\n",
              "      <th>0</th>\n",
              "      <td>108</td>\n",
              "      <td>Seoul</td>\n",
              "      <td>2022-06-06 00:01</td>\n",
              "      <td>20.2</td>\n",
              "      <td>00:01</td>\n",
              "    </tr>\n",
              "    <tr>\n",
              "      <th>1</th>\n",
              "      <td>108</td>\n",
              "      <td>Seoul</td>\n",
              "      <td>2022-06-06 00:02</td>\n",
              "      <td>20.2</td>\n",
              "      <td>00:02</td>\n",
              "    </tr>\n",
              "    <tr>\n",
              "      <th>2</th>\n",
              "      <td>108</td>\n",
              "      <td>Seoul</td>\n",
              "      <td>2022-06-06 00:03</td>\n",
              "      <td>20.2</td>\n",
              "      <td>00:03</td>\n",
              "    </tr>\n",
              "    <tr>\n",
              "      <th>3</th>\n",
              "      <td>108</td>\n",
              "      <td>Seoul</td>\n",
              "      <td>2022-06-06 00:04</td>\n",
              "      <td>20.2</td>\n",
              "      <td>00:04</td>\n",
              "    </tr>\n",
              "    <tr>\n",
              "      <th>4</th>\n",
              "      <td>108</td>\n",
              "      <td>Seoul</td>\n",
              "      <td>2022-06-06 00:05</td>\n",
              "      <td>20.2</td>\n",
              "      <td>00:05</td>\n",
              "    </tr>\n",
              "    <tr>\n",
              "      <th>...</th>\n",
              "      <td>...</td>\n",
              "      <td>...</td>\n",
              "      <td>...</td>\n",
              "      <td>...</td>\n",
              "      <td>...</td>\n",
              "    </tr>\n",
              "    <tr>\n",
              "      <th>1392</th>\n",
              "      <td>108</td>\n",
              "      <td>Seoul</td>\n",
              "      <td>2022-06-06 23:56</td>\n",
              "      <td>16.7</td>\n",
              "      <td>23:56</td>\n",
              "    </tr>\n",
              "    <tr>\n",
              "      <th>1393</th>\n",
              "      <td>108</td>\n",
              "      <td>Seoul</td>\n",
              "      <td>2022-06-06 23:57</td>\n",
              "      <td>16.7</td>\n",
              "      <td>23:57</td>\n",
              "    </tr>\n",
              "    <tr>\n",
              "      <th>1394</th>\n",
              "      <td>108</td>\n",
              "      <td>Seoul</td>\n",
              "      <td>2022-06-06 23:58</td>\n",
              "      <td>16.7</td>\n",
              "      <td>23:58</td>\n",
              "    </tr>\n",
              "    <tr>\n",
              "      <th>1395</th>\n",
              "      <td>108</td>\n",
              "      <td>Seoul</td>\n",
              "      <td>2022-06-06 23:59</td>\n",
              "      <td>16.7</td>\n",
              "      <td>23:59</td>\n",
              "    </tr>\n",
              "    <tr>\n",
              "      <th>1396</th>\n",
              "      <td>108</td>\n",
              "      <td>Seoul</td>\n",
              "      <td>2022-06-07 00:00</td>\n",
              "      <td>16.7</td>\n",
              "      <td>00:00</td>\n",
              "    </tr>\n",
              "  </tbody>\n",
              "</table>\n",
              "<p>1397 rows × 5 columns</p>\n",
              "</div>\n",
              "      <button class=\"colab-df-convert\" onclick=\"convertToInteractive('df-590645c5-f792-41de-8885-322619dbe8f5')\"\n",
              "              title=\"Convert this dataframe to an interactive table.\"\n",
              "              style=\"display:none;\">\n",
              "        \n",
              "  <svg xmlns=\"http://www.w3.org/2000/svg\" height=\"24px\"viewBox=\"0 0 24 24\"\n",
              "       width=\"24px\">\n",
              "    <path d=\"M0 0h24v24H0V0z\" fill=\"none\"/>\n",
              "    <path d=\"M18.56 5.44l.94 2.06.94-2.06 2.06-.94-2.06-.94-.94-2.06-.94 2.06-2.06.94zm-11 1L8.5 8.5l.94-2.06 2.06-.94-2.06-.94L8.5 2.5l-.94 2.06-2.06.94zm10 10l.94 2.06.94-2.06 2.06-.94-2.06-.94-.94-2.06-.94 2.06-2.06.94z\"/><path d=\"M17.41 7.96l-1.37-1.37c-.4-.4-.92-.59-1.43-.59-.52 0-1.04.2-1.43.59L10.3 9.45l-7.72 7.72c-.78.78-.78 2.05 0 2.83L4 21.41c.39.39.9.59 1.41.59.51 0 1.02-.2 1.41-.59l7.78-7.78 2.81-2.81c.8-.78.8-2.07 0-2.86zM5.41 20L4 18.59l7.72-7.72 1.47 1.35L5.41 20z\"/>\n",
              "  </svg>\n",
              "      </button>\n",
              "      \n",
              "  <style>\n",
              "    .colab-df-container {\n",
              "      display:flex;\n",
              "      flex-wrap:wrap;\n",
              "      gap: 12px;\n",
              "    }\n",
              "\n",
              "    .colab-df-convert {\n",
              "      background-color: #E8F0FE;\n",
              "      border: none;\n",
              "      border-radius: 50%;\n",
              "      cursor: pointer;\n",
              "      display: none;\n",
              "      fill: #1967D2;\n",
              "      height: 32px;\n",
              "      padding: 0 0 0 0;\n",
              "      width: 32px;\n",
              "    }\n",
              "\n",
              "    .colab-df-convert:hover {\n",
              "      background-color: #E2EBFA;\n",
              "      box-shadow: 0px 1px 2px rgba(60, 64, 67, 0.3), 0px 1px 3px 1px rgba(60, 64, 67, 0.15);\n",
              "      fill: #174EA6;\n",
              "    }\n",
              "\n",
              "    [theme=dark] .colab-df-convert {\n",
              "      background-color: #3B4455;\n",
              "      fill: #D2E3FC;\n",
              "    }\n",
              "\n",
              "    [theme=dark] .colab-df-convert:hover {\n",
              "      background-color: #434B5C;\n",
              "      box-shadow: 0px 1px 3px 1px rgba(0, 0, 0, 0.15);\n",
              "      filter: drop-shadow(0px 1px 2px rgba(0, 0, 0, 0.3));\n",
              "      fill: #FFFFFF;\n",
              "    }\n",
              "  </style>\n",
              "\n",
              "      <script>\n",
              "        const buttonEl =\n",
              "          document.querySelector('#df-590645c5-f792-41de-8885-322619dbe8f5 button.colab-df-convert');\n",
              "        buttonEl.style.display =\n",
              "          google.colab.kernel.accessAllowed ? 'block' : 'none';\n",
              "\n",
              "        async function convertToInteractive(key) {\n",
              "          const element = document.querySelector('#df-590645c5-f792-41de-8885-322619dbe8f5');\n",
              "          const dataTable =\n",
              "            await google.colab.kernel.invokeFunction('convertToInteractive',\n",
              "                                                     [key], {});\n",
              "          if (!dataTable) return;\n",
              "\n",
              "          const docLinkHtml = 'Like what you see? Visit the ' +\n",
              "            '<a target=\"_blank\" href=https://colab.research.google.com/notebooks/data_table.ipynb>data table notebook</a>'\n",
              "            + ' to learn more about interactive tables.';\n",
              "          element.innerHTML = '';\n",
              "          dataTable['output_type'] = 'display_data';\n",
              "          await google.colab.output.renderOutput(dataTable, element);\n",
              "          const docLink = document.createElement('div');\n",
              "          docLink.innerHTML = docLinkHtml;\n",
              "          element.appendChild(docLink);\n",
              "        }\n",
              "      </script>\n",
              "    </div>\n",
              "  </div>\n",
              "  "
            ]
          },
          "metadata": {},
          "execution_count": 22
        }
      ]
    },
    {
      "cell_type": "code",
      "source": [
        "df['tem(°C)'].mean()"
      ],
      "metadata": {
        "colab": {
          "base_uri": "https://localhost:8080/"
        },
        "id": "ylC2p5PAGLnk",
        "outputId": "cbc68282-6c90-470c-f31f-6df27c0d59ad"
      },
      "execution_count": null,
      "outputs": [
        {
          "output_type": "execute_result",
          "data": {
            "text/plain": [
              "19.85633500357909"
            ]
          },
          "metadata": {},
          "execution_count": 23
        }
      ]
    },
    {
      "cell_type": "code",
      "source": [
        "  #그래프 그리기\n",
        "plt.figure(figsize=(16,10))\n",
        "plt.title('2022-06-06 Seoul temp.', fontsize = 20)\n",
        "plt.plot(df['min'], df['tem(°C)'])\n",
        "plt.hline(df['tem(°C)'].mean())\n",
        "plt.xticks(['00:01','03:22','06:43','10:09','13:40','17:11','20:39','00:00'],rotation=45)\n",
        "plt.xlabel('MIN.', fontsize = 15)\n",
        "plt.ylabel('TEMP(°C)',fontsize = 15)\n",
        "plt.show()"
      ],
      "metadata": {
        "colab": {
          "base_uri": "https://localhost:8080/",
          "height": 669
        },
        "id": "XsslP1LDFHPj",
        "outputId": "2e30d8e4-e164-41d5-feef-0ece1513483c"
      },
      "execution_count": null,
      "outputs": [
        {
          "output_type": "error",
          "ename": "AttributeError",
          "evalue": "ignored",
          "traceback": [
            "\u001b[0;31m---------------------------------------------------------------------------\u001b[0m",
            "\u001b[0;31mAttributeError\u001b[0m                            Traceback (most recent call last)",
            "\u001b[0;32m<ipython-input-25-bad79b663ae2>\u001b[0m in \u001b[0;36m<module>\u001b[0;34m()\u001b[0m\n\u001b[1;32m      3\u001b[0m \u001b[0mplt\u001b[0m\u001b[0;34m.\u001b[0m\u001b[0mtitle\u001b[0m\u001b[0;34m(\u001b[0m\u001b[0;34m'2022-06-06 Seoul temp.'\u001b[0m\u001b[0;34m,\u001b[0m \u001b[0mfontsize\u001b[0m \u001b[0;34m=\u001b[0m \u001b[0;36m20\u001b[0m\u001b[0;34m)\u001b[0m\u001b[0;34m\u001b[0m\u001b[0;34m\u001b[0m\u001b[0m\n\u001b[1;32m      4\u001b[0m \u001b[0mplt\u001b[0m\u001b[0;34m.\u001b[0m\u001b[0mplot\u001b[0m\u001b[0;34m(\u001b[0m\u001b[0mdf\u001b[0m\u001b[0;34m[\u001b[0m\u001b[0;34m'min'\u001b[0m\u001b[0;34m]\u001b[0m\u001b[0;34m,\u001b[0m \u001b[0mdf\u001b[0m\u001b[0;34m[\u001b[0m\u001b[0;34m'tem(°C)'\u001b[0m\u001b[0;34m]\u001b[0m\u001b[0;34m)\u001b[0m\u001b[0;34m\u001b[0m\u001b[0;34m\u001b[0m\u001b[0m\n\u001b[0;32m----> 5\u001b[0;31m \u001b[0mplt\u001b[0m\u001b[0;34m.\u001b[0m\u001b[0mhline\u001b[0m\u001b[0;34m(\u001b[0m\u001b[0mdf\u001b[0m\u001b[0;34m[\u001b[0m\u001b[0;34m'tem(°C)'\u001b[0m\u001b[0;34m]\u001b[0m\u001b[0;34m.\u001b[0m\u001b[0mmean\u001b[0m\u001b[0;34m(\u001b[0m\u001b[0;34m)\u001b[0m\u001b[0;34m)\u001b[0m\u001b[0;34m\u001b[0m\u001b[0;34m\u001b[0m\u001b[0m\n\u001b[0m\u001b[1;32m      6\u001b[0m \u001b[0mplt\u001b[0m\u001b[0;34m.\u001b[0m\u001b[0mxticks\u001b[0m\u001b[0;34m(\u001b[0m\u001b[0;34m[\u001b[0m\u001b[0;34m'00:01'\u001b[0m\u001b[0;34m,\u001b[0m\u001b[0;34m'03:22'\u001b[0m\u001b[0;34m,\u001b[0m\u001b[0;34m'06:43'\u001b[0m\u001b[0;34m,\u001b[0m\u001b[0;34m'10:09'\u001b[0m\u001b[0;34m,\u001b[0m\u001b[0;34m'13:40'\u001b[0m\u001b[0;34m,\u001b[0m\u001b[0;34m'17:11'\u001b[0m\u001b[0;34m,\u001b[0m\u001b[0;34m'20:39'\u001b[0m\u001b[0;34m,\u001b[0m\u001b[0;34m'00:00'\u001b[0m\u001b[0;34m]\u001b[0m\u001b[0;34m,\u001b[0m\u001b[0mrotation\u001b[0m\u001b[0;34m=\u001b[0m\u001b[0;36m45\u001b[0m\u001b[0;34m)\u001b[0m\u001b[0;34m\u001b[0m\u001b[0;34m\u001b[0m\u001b[0m\n\u001b[1;32m      7\u001b[0m \u001b[0mplt\u001b[0m\u001b[0;34m.\u001b[0m\u001b[0mxlabel\u001b[0m\u001b[0;34m(\u001b[0m\u001b[0;34m'MIN.'\u001b[0m\u001b[0;34m,\u001b[0m \u001b[0mfontsize\u001b[0m \u001b[0;34m=\u001b[0m \u001b[0;36m15\u001b[0m\u001b[0;34m)\u001b[0m\u001b[0;34m\u001b[0m\u001b[0;34m\u001b[0m\u001b[0m\n",
            "\u001b[0;31mAttributeError\u001b[0m: module 'matplotlib.pyplot' has no attribute 'hline'"
          ]
        },
        {
          "output_type": "display_data",
          "data": {
            "text/plain": [
              "<Figure size 1152x720 with 1 Axes>"
            ],
            "image/png": "[encoded data removed]"
          },
          "metadata": {
            "needs_background": "light"
          }
        }
      ]
    },
    {
      "cell_type": "code",
      "source": [
        ""
      ],
      "metadata": {
        "id": "578Lz2JcF_Vl"
      },
      "execution_count": null,
      "outputs": []
    },
    {
      "cell_type": "markdown",
      "source": [
        "# 1"
      ],
      "metadata": {
        "id": "vgkJDep3hMi-"
      }
    },
    {
      "cell_type": "code",
      "source": [
        "x = np.array([1,2,3,4])"
      ],
      "metadata": {
        "id": "vG-l8YgyhNhq"
      },
      "execution_count": null,
      "outputs": []
    },
    {
      "cell_type": "code",
      "source": [
        "np.exp(x)/np.sum(np.exp(x))"
      ],
      "metadata": {
        "colab": {
          "base_uri": "https://localhost:8080/"
        },
        "id": "_eXm9qDihQJB",
        "outputId": "e628b933-2508-45e9-d904-5e9f00d0a2ee"
      },
      "execution_count": null,
      "outputs": [
        {
          "output_type": "execute_result",
          "data": {
            "text/plain": [
              "array([0.0320586 , 0.08714432, 0.23688282, 0.64391426])"
            ]
          },
          "metadata": {},
          "execution_count": 57
        }
      ]
    },
    {
      "cell_type": "code",
      "source": [
        "adj_x = x-np.max(x) #softmax에 적용시킬 함수"
      ],
      "metadata": {
        "id": "v79se0dKhTjQ"
      },
      "execution_count": null,
      "outputs": []
    },
    {
      "cell_type": "code",
      "source": [
        "adj_x"
      ],
      "metadata": {
        "colab": {
          "base_uri": "https://localhost:8080/"
        },
        "id": "E5QUofgchWPU",
        "outputId": "596298d5-7bae-420d-8986-11c512c68b21"
      },
      "execution_count": null,
      "outputs": [
        {
          "output_type": "execute_result",
          "data": {
            "text/plain": [
              "array([-3, -2, -1,  0])"
            ]
          },
          "metadata": {},
          "execution_count": 59
        }
      ]
    },
    {
      "cell_type": "code",
      "source": [
        "np.exp(adj_x)/np.sum(np.exp(adj_x))"
      ],
      "metadata": {
        "colab": {
          "base_uri": "https://localhost:8080/"
        },
        "id": "h53RbctThXQ_",
        "outputId": "19f0b9df-69a7-4a7d-9302-deebba10a3b2"
      },
      "execution_count": null,
      "outputs": [
        {
          "output_type": "execute_result",
          "data": {
            "text/plain": [
              "array([0.0320586 , 0.08714432, 0.23688282, 0.64391426])"
            ]
          },
          "metadata": {},
          "execution_count": 60
        }
      ]
    },
    {
      "cell_type": "code",
      "source": [
        "def softmax_origin(a):\n",
        "    c=np.max(a)\n",
        "    exp_a = np.exp(a-c) #Overflow 대칭\n",
        "    sum_exp_a = np.sum(exp_a)\n",
        "    y = exp_a / sum_exp_a\n",
        "    return y"
      ],
      "metadata": {
        "id": "wCsAaMqDhdIc"
      },
      "execution_count": null,
      "outputs": []
    },
    {
      "cell_type": "code",
      "source": [
        "softmax_origin(x)"
      ],
      "metadata": {
        "colab": {
          "base_uri": "https://localhost:8080/"
        },
        "id": "8ALL-HG3h0Mv",
        "outputId": "ac909424-218d-43f4-8521-f44557e90047"
      },
      "execution_count": null,
      "outputs": [
        {
          "output_type": "execute_result",
          "data": {
            "text/plain": [
              "array([0.0320586 , 0.08714432, 0.23688282, 0.64391426])"
            ]
          },
          "metadata": {},
          "execution_count": 62
        }
      ]
    },
    {
      "cell_type": "code",
      "source": [
        "def softmax(x):\n",
        "    if x.ndim ==2:\n",
        "        #print(x)\n",
        "        x = x.T     #x값 전치\n",
        "        x = x-np.max(x, axis=0)\n",
        "        y = np.exp(x)/np.sum(np.exp(x),axis=0)\n",
        "        return y.T\n",
        "    #print(x)\n",
        "    x = x- np.max(x)    #Overflow 대체\n",
        "    return np.exp(x)/ np.sum(np.exp(x))"
      ],
      "metadata": {
        "id": "DU6l40zch6hc"
      },
      "execution_count": null,
      "outputs": []
    },
    {
      "cell_type": "code",
      "source": [
        "softmax(x)"
      ],
      "metadata": {
        "colab": {
          "base_uri": "https://localhost:8080/"
        },
        "id": "JDRljwLci1ps",
        "outputId": "99eb64a6-178b-46e7-950c-0b07467d4cbf"
      },
      "execution_count": null,
      "outputs": [
        {
          "output_type": "stream",
          "name": "stdout",
          "text": [
            "[1 2 3 4]\n"
          ]
        },
        {
          "output_type": "execute_result",
          "data": {
            "text/plain": [
              "array([0.0320586 , 0.08714432, 0.23688282, 0.64391426])"
            ]
          },
          "metadata": {},
          "execution_count": 64
        }
      ]
    },
    {
      "cell_type": "code",
      "source": [
        "x = np.array([[1,2,3],[4,2,1]])"
      ],
      "metadata": {
        "id": "vooXc1vgi4bj"
      },
      "execution_count": null,
      "outputs": []
    },
    {
      "cell_type": "code",
      "source": [
        "x.T"
      ],
      "metadata": {
        "colab": {
          "base_uri": "https://localhost:8080/"
        },
        "id": "EqgngL0tjQAe",
        "outputId": "141cab98-f798-4329-f825-4d01d6a44f42"
      },
      "execution_count": null,
      "outputs": [
        {
          "output_type": "execute_result",
          "data": {
            "text/plain": [
              "array([[1, 4],\n",
              "       [2, 2],\n",
              "       [3, 1]])"
            ]
          },
          "metadata": {},
          "execution_count": 66
        }
      ]
    },
    {
      "cell_type": "code",
      "source": [
        "np.max(x.T, axis=0)"
      ],
      "metadata": {
        "colab": {
          "base_uri": "https://localhost:8080/"
        },
        "id": "w5b8AjbmjhE9",
        "outputId": "7dfe5005-8927-47b8-d6e6-e5baace952e7"
      },
      "execution_count": null,
      "outputs": [
        {
          "output_type": "execute_result",
          "data": {
            "text/plain": [
              "array([3, 4])"
            ]
          },
          "metadata": {},
          "execution_count": 67
        }
      ]
    },
    {
      "cell_type": "code",
      "source": [
        "x.T- np.max(x.T, axis=0)"
      ],
      "metadata": {
        "colab": {
          "base_uri": "https://localhost:8080/"
        },
        "id": "0shuoZhfjk9a",
        "outputId": "b6aa7beb-54b7-430c-b628-f180550de040"
      },
      "execution_count": null,
      "outputs": [
        {
          "output_type": "execute_result",
          "data": {
            "text/plain": [
              "array([[-2,  0],\n",
              "       [-1, -2],\n",
              "       [ 0, -3]])"
            ]
          },
          "metadata": {},
          "execution_count": 68
        }
      ]
    },
    {
      "cell_type": "code",
      "source": [
        "x - np.max(x.T, axis=1)"
      ],
      "metadata": {
        "colab": {
          "base_uri": "https://localhost:8080/"
        },
        "id": "CLeYQKjujon0",
        "outputId": "b1175760-ac1a-42ea-dffa-ff9137c96739"
      },
      "execution_count": null,
      "outputs": [
        {
          "output_type": "execute_result",
          "data": {
            "text/plain": [
              "array([[-3,  0,  0],\n",
              "       [ 0,  0, -2]])"
            ]
          },
          "metadata": {},
          "execution_count": 51
        }
      ]
    },
    {
      "cell_type": "code",
      "source": [
        "x - np.max(x.T, axis=0) #위치들의 값이 안맞음 ValueError: operands could not be broadcast together with shapes (2,3) (2,) "
      ],
      "metadata": {
        "id": "0E43o6n1kidx"
      },
      "execution_count": null,
      "outputs": []
    },
    {
      "cell_type": "code",
      "source": [
        "x "
      ],
      "metadata": {
        "colab": {
          "base_uri": "https://localhost:8080/"
        },
        "id": "a2yW4a4Rkj2u",
        "outputId": "c65011f0-fe5b-49f9-d29e-61ec92858a84"
      },
      "execution_count": null,
      "outputs": [
        {
          "output_type": "execute_result",
          "data": {
            "text/plain": [
              "array([[1, 2, 3],\n",
              "       [4, 2, 1]])"
            ]
          },
          "metadata": {},
          "execution_count": 69
        }
      ]
    },
    {
      "cell_type": "code",
      "source": [
        "x_result = softmax(x)"
      ],
      "metadata": {
        "id": "rIOgnPMwkqAx"
      },
      "execution_count": null,
      "outputs": []
    },
    {
      "cell_type": "code",
      "source": [
        "x_result"
      ],
      "metadata": {
        "id": "Fdd-pZfrkr7l"
      },
      "execution_count": null,
      "outputs": []
    },
    {
      "cell_type": "code",
      "source": [
        "np.sum(x_result[0])"
      ],
      "metadata": {
        "id": "abc-NfBukw3N"
      },
      "execution_count": null,
      "outputs": []
    },
    {
      "cell_type": "code",
      "source": [
        "np.sum(x_result[1])"
      ],
      "metadata": {
        "id": "hWeiIcGulAK7"
      },
      "execution_count": null,
      "outputs": []
    },
    {
      "cell_type": "code",
      "source": [
        "x = np.array([2,6])"
      ],
      "metadata": {
        "id": "2deHISGJlbHG"
      },
      "execution_count": null,
      "outputs": []
    },
    {
      "cell_type": "code",
      "source": [
        "softmax(x)"
      ],
      "metadata": {
        "colab": {
          "base_uri": "https://localhost:8080/"
        },
        "id": "7tLmxkOLldqS",
        "outputId": "00e3aebf-279c-4fa2-be2a-3b6dc55394e2"
      },
      "execution_count": null,
      "outputs": [
        {
          "output_type": "stream",
          "name": "stdout",
          "text": [
            "[2 6]\n"
          ]
        },
        {
          "output_type": "execute_result",
          "data": {
            "text/plain": [
              "array([0.01798621, 0.98201379])"
            ]
          },
          "metadata": {},
          "execution_count": 72
        }
      ]
    },
    {
      "cell_type": "markdown",
      "source": [
        "index = 0일확률 1.7%\n",
        "\n",
        "index = 1일 확률 98.2%"
      ],
      "metadata": {
        "id": "UC4Bm5Q7lm13"
      }
    },
    {
      "cell_type": "markdown",
      "source": [
        "![캡처13.PNG](data:image/png;base64,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)"
      ],
      "metadata": {
        "id": "C36gsUcRmR0Q"
      }
    },
    {
      "cell_type": "markdown",
      "source": [
        "MNIST : 손글씨 숫자 이미지 집합\n",
        "\n",
        "0부터 0까지의 숫자 이미지로 구성\n",
        "\n",
        "훈련 이미지가 60000장, 시험 이미지가 10000장 준비된\n",
        "\n",
        "훈련 이미지로 모델을 학습, 시험 이미지들을 얼마나 정확하게 분류하는지를 평가함\n",
        "\n",
        "MNIST의 이미지 데이터는 28X28크기의 회색조 이미지, 각 픽셀값은 0~255. 각 이미지에는 실제 의미하는 숫자가 레이블로 붙어있음.\n"
      ],
      "metadata": {
        "id": "8RNkp7KGnWH7"
      }
    },
    {
      "cell_type": "code",
      "source": [
        "%%writefile mnist.py\n",
        "# coding: utf-8\n",
        "try:\n",
        "    import urllib.request\n",
        "except ImportError:\n",
        "    raise ImportError('You should use Python 3.x')  #너는 파이썬 3.0이상 써야한다\n",
        "import os.path\n",
        "import gzip     #압축해주는 라이브러리\n",
        "import pickle   #바이너리파일 만들어주는거\n",
        "import os\n",
        "import numpy as np\n",
        "\n",
        "\n",
        "url_base = 'http://yann.lecun.com/exdb/mnist/'  #URL에서 가져옴\n",
        "key_file = {        #딕셔너리로 설정\n",
        "    'train_img':'train-images-idx3-ubyte.gz',\n",
        "    'train_label':'train-labels-idx1-ubyte.gz',\n",
        "    'test_img':'t10k-images-idx3-ubyte.gz',\n",
        "    'test_label':'t10k-labels-idx1-ubyte.gz'\n",
        "}\n",
        "\n",
        "dataset_dir = os.path.dirname(os.path.abspath(__file__))#abs절대경로, __file__은 현재 파일\n",
        "save_file = dataset_dir + \"/mnist.pkl\"  #절대경로에다가 mnist.pkl생성\n",
        "\n",
        "train_num = 60000\n",
        "test_num = 10000\n",
        "img_dim = (1, 28, 28)\n",
        "img_size = 784\n",
        "\n",
        "\n",
        "def _download(file_name):\n",
        "    file_path = dataset_dir + \"/\" + file_name\n",
        "    \n",
        "    if os.path.exists(file_path):\n",
        "        return\n",
        "\n",
        "    print(\"Downloading \" + file_name + \" ... \")\n",
        "    urllib.request.urlretrieve(url_base + file_name, file_path)\n",
        "    #urlretrieve: Url로 표시된 네트워크 객체를 파일로 복사해준다\n",
        "    #내꺼에 복사해준다.\n",
        "    print(\"Done\")\n",
        "    \n",
        "def download_mnist():\n",
        "    for v in key_file.values():\n",
        "       _download(v)\n",
        "        \n",
        "def _load_label(file_name):\n",
        "    file_path = dataset_dir + \"/\" + file_name\n",
        "    \n",
        "    print(\"Converting \" + file_name + \" to NumPy Array ...\")\n",
        "    with gzip.open(file_path, 'rb') as f:\n",
        "            labels = np.frombuffer(f.read(), np.uint8, offset=8)\n",
        "    print(\"Done\")\n",
        "    \n",
        "    return labels\n",
        "\n",
        "def _load_img(file_name):\n",
        "    file_path = dataset_dir + \"/\" + file_name\n",
        "    \n",
        "    print(\"Converting \" + file_name + \" to NumPy Array ...\")    \n",
        "    with gzip.open(file_path, 'rb') as f:\n",
        "            data = np.frombuffer(f.read(), np.uint8, offset=16) #buffer로 부터 파일을 읽는다. offset = \n",
        "    data = data.reshape(-1, img_size)\n",
        "    print(\"Done\")\n",
        "    \n",
        "    return data\n",
        "    \n",
        "def _convert_numpy():\n",
        "    dataset = {}\n",
        "    dataset['train_img'] =  _load_img(key_file['train_img'])\n",
        "    dataset['train_label'] = _load_label(key_file['train_label'])    \n",
        "    dataset['test_img'] = _load_img(key_file['test_img'])\n",
        "    dataset['test_label'] = _load_label(key_file['test_label'])\n",
        "    #각 딕셔너리 값을 load_img\n",
        "    return dataset\n",
        "\n",
        "def init_mnist():\n",
        "    download_mnist()\n",
        "    dataset = _convert_numpy()\n",
        "    print(\"Creating pickle file ...\")\n",
        "    with open(save_file, 'wb') as f:\n",
        "        pickle.dump(dataset, f, -1)\n",
        "         #-1 : 바이너리 파일이라 저장방식이 여러가지인데 런타임이 제공하는 가장높은 프로토콜(방식)로 맞춰줌\n",
        "         #만든 파일이 좋은니 공유했을때 좋으니 dump해라\n",
        "    print(\"Done!\")\n",
        "\n",
        "def _change_one_hot_label(X):\n",
        "    T = np.zeros((X.size, 10))\n",
        "    for idx, row in enumerate(T):   #X 가 data_set의 레이블이니 \n",
        "        row[X[idx]] = 1             #idx가 0일때 X의 0(t_train)이 5,  X[idx]==5\n",
        "        \n",
        "    return T\n",
        "    \n",
        "\n",
        "def load_mnist(normalize=True, flatten=True, one_hot_label=False):\n",
        "    \"\"\"MNIST 데이터셋 읽기\n",
        "    \n",
        "    Parameters\n",
        "    ----------\n",
        "    normalize : 이미지의 픽셀 값을 0.0~1.0 사이의 값으로 정규화할지 정한다.\n",
        "    one_hot_label : \n",
        "        정답이[5]로 표현되어야하는데, => [0,0,0,0,0,1,0,0,0,0,]\n",
        "        one_hot_label이 True면、레이블을 원-핫(one-hot) 배열로 돌려준다.\n",
        "        one-hot 배열은 예를 들어 [0,0,1,0,0,0,0,0,0,0]처럼 한 원소만 1인 배열이다.\n",
        "    flatten : 입력 이미지를 1차원 배열로 만들지를 정한다. \n",
        "    \n",
        "    Returns\n",
        "    -------\n",
        "    (훈련 이미지, 훈련 레이블), (시험 이미지, 시험 레이블)\n",
        "    \"\"\"\n",
        "    if not os.path.exists(save_file):\n",
        "        init_mnist()\n",
        "        \n",
        "    with open(save_file, 'rb') as f:\n",
        "        dataset = pickle.load(f)\n",
        "    \n",
        "    if normalize:\n",
        "        for key in ('train_img', 'test_img'):\n",
        "            dataset[key] = dataset[key].astype(np.float32)  #실수로 바꾸고\n",
        "            dataset[key] /= 255.0       #나누기\n",
        "            \n",
        "    if one_hot_label:\n",
        "        dataset['train_label'] = _change_one_hot_label(dataset['train_label'])\n",
        "        dataset['test_label'] = _change_one_hot_label(dataset['test_label'])    \n",
        "    \n",
        "    if not flatten:\n",
        "         for key in ('train_img', 'test_img'):\n",
        "            dataset[key] = dataset[key].reshape(-1, 1, 28, 28)\n",
        "\n",
        "    return (dataset['train_img'], dataset['train_label']), (dataset['test_img'], dataset['test_label']) \n",
        "\n",
        "\n",
        "if __name__ == '__main__':\n",
        "    init_mnist()"
      ],
      "metadata": {
        "colab": {
          "base_uri": "https://localhost:8080/"
        },
        "id": "6eDCxso5lfqv",
        "outputId": "9acf3339-8739-42bd-ddcd-ff92cfdf4b9a"
      },
      "execution_count": null,
      "outputs": [
        {
          "output_type": "stream",
          "name": "stdout",
          "text": [
            "Writing mnist.py\n"
          ]
        }
      ]
    },
    {
      "cell_type": "code",
      "source": [
        "from mnist import load_mnist"
      ],
      "metadata": {
        "id": "stqXl0WNo2HK"
      },
      "execution_count": null,
      "outputs": []
    },
    {
      "cell_type": "code",
      "source": [
        "(x_train, t_train),(x_test, t_test) = load_mnist(normalize= False)  #싸이트에가서 다운받음"
      ],
      "metadata": {
        "colab": {
          "base_uri": "https://localhost:8080/"
        },
        "id": "phFfPemoo4Ms",
        "outputId": "80a91a73-3765-4860-84e0-7ffec9c674cf"
      },
      "execution_count": null,
      "outputs": [
        {
          "output_type": "stream",
          "name": "stdout",
          "text": [
            "Downloading train-images-idx3-ubyte.gz ... \n",
            "Done\n",
            "Downloading train-labels-idx1-ubyte.gz ... \n",
            "Done\n",
            "Downloading t10k-images-idx3-ubyte.gz ... \n",
            "Done\n",
            "Downloading t10k-labels-idx1-ubyte.gz ... \n",
            "Done\n",
            "Converting train-images-idx3-ubyte.gz to NumPy Array ...\n",
            "Done\n",
            "Converting train-labels-idx1-ubyte.gz to NumPy Array ...\n",
            "Done\n",
            "Converting t10k-images-idx3-ubyte.gz to NumPy Array ...\n",
            "Done\n",
            "Converting t10k-labels-idx1-ubyte.gz to NumPy Array ...\n",
            "Done\n",
            "Creating pickle file ...\n",
            "Done!\n"
          ]
        }
      ]
    },
    {
      "cell_type": "code",
      "source": [
        "x_train.shape, t_train.shape"
      ],
      "metadata": {
        "colab": {
          "base_uri": "https://localhost:8080/"
        },
        "id": "QmWGkzYYpXkn",
        "outputId": "dcf57b5d-3caa-4db8-f908-e02583db6777"
      },
      "execution_count": null,
      "outputs": [
        {
          "output_type": "execute_result",
          "data": {
            "text/plain": [
              "((60000, 784), (60000,))"
            ]
          },
          "metadata": {},
          "execution_count": 79
        }
      ]
    },
    {
      "cell_type": "code",
      "source": [
        "28*28   #해상도를 쭉 펼친것"
      ],
      "metadata": {
        "colab": {
          "base_uri": "https://localhost:8080/"
        },
        "id": "S2MTTfjmqJK5",
        "outputId": "c046b5ca-73c9-4e23-81a4-917a141a9cb4"
      },
      "execution_count": null,
      "outputs": [
        {
          "output_type": "execute_result",
          "data": {
            "text/plain": [
              "784"
            ]
          },
          "metadata": {},
          "execution_count": 80
        }
      ]
    },
    {
      "cell_type": "code",
      "source": [
        "x_test.shape, t_test.shape"
      ],
      "metadata": {
        "colab": {
          "base_uri": "https://localhost:8080/"
        },
        "id": "GGUQOa-QqO_k",
        "outputId": "4330615d-811a-4aa5-b92a-8911fa0d1c95"
      },
      "execution_count": null,
      "outputs": [
        {
          "output_type": "execute_result",
          "data": {
            "text/plain": [
              "((10000, 784), (10000,))"
            ]
          },
          "metadata": {},
          "execution_count": 81
        }
      ]
    },
    {
      "cell_type": "code",
      "source": [
        "x_train[0]"
      ],
      "metadata": {
        "id": "3ka-kbQlrLGp"
      },
      "execution_count": null,
      "outputs": []
    },
    {
      "cell_type": "code",
      "source": [
        "len(x_train[0])"
      ],
      "metadata": {
        "colab": {
          "base_uri": "https://localhost:8080/"
        },
        "id": "yFWhTLLordl2",
        "outputId": "93718184-2b47-4715-fbc9-5fef23ba8e7a"
      },
      "execution_count": null,
      "outputs": [
        {
          "output_type": "execute_result",
          "data": {
            "text/plain": [
              "784"
            ]
          },
          "metadata": {},
          "execution_count": 83
        }
      ]
    },
    {
      "cell_type": "code",
      "source": [
        "t_train[0]"
      ],
      "metadata": {
        "colab": {
          "base_uri": "https://localhost:8080/"
        },
        "id": "Vk9gm0kArhme",
        "outputId": "501463cd-92f4-48b1-caff-2239571c7932"
      },
      "execution_count": null,
      "outputs": [
        {
          "output_type": "execute_result",
          "data": {
            "text/plain": [
              "5"
            ]
          },
          "metadata": {},
          "execution_count": 84
        }
      ]
    },
    {
      "cell_type": "code",
      "source": [
        "img = x_train[0]\n",
        "label = t_train[0]"
      ],
      "metadata": {
        "id": "tUkwz3XervL7"
      },
      "execution_count": null,
      "outputs": []
    },
    {
      "cell_type": "code",
      "source": [
        "img = img.reshape(28,28)"
      ],
      "metadata": {
        "id": "jfAQUjCir0-w"
      },
      "execution_count": null,
      "outputs": []
    },
    {
      "cell_type": "code",
      "source": [
        "img.shape"
      ],
      "metadata": {
        "colab": {
          "base_uri": "https://localhost:8080/"
        },
        "id": "oGolptQ2r-z_",
        "outputId": "f6ca2937-cd93-4788-d489-4a9d83a8ae54"
      },
      "execution_count": null,
      "outputs": [
        {
          "output_type": "execute_result",
          "data": {
            "text/plain": [
              "(28, 28)"
            ]
          },
          "metadata": {},
          "execution_count": 88
        }
      ]
    },
    {
      "cell_type": "code",
      "source": [
        "plt.imshow(img)"
      ],
      "metadata": {
        "colab": {
          "base_uri": "https://localhost:8080/",
          "height": 283
        },
        "id": "pbdnWI7ar_Qw",
        "outputId": "e72ea3bb-9a58-43f5-ef20-aa097d97df7c"
      },
      "execution_count": null,
      "outputs": [
        {
          "output_type": "execute_result",
          "data": {
            "text/plain": [
              "<matplotlib.image.AxesImage at 0x7f5e02413dd0>"
            ]
          },
          "metadata": {},
          "execution_count": 89
        },
        {
          "output_type": "display_data",
          "data": {
            "text/plain": [
              "<Figure size 432x288 with 1 Axes>"
            ],
            "image/png": "[encoded data removed]"
          },
          "metadata": {
            "needs_background": "light"
          }
        }
      ]
    },
    {
      "cell_type": "markdown",
      "source": [
        "# 2"
      ],
      "metadata": {
        "id": "GCrLjFCMuZsZ"
      }
    },
    {
      "cell_type": "markdown",
      "source": [
        "위 함수 분석"
      ],
      "metadata": {
        "id": "c6taBwjf0Tq9"
      }
    },
    {
      "cell_type": "markdown",
      "source": [
        "이미지를 불러와 신경망에 적용"
      ],
      "metadata": {
        "id": "c1d0UKnM0gpN"
      }
    },
    {
      "cell_type": "code",
      "source": [
        "import pickle"
      ],
      "metadata": {
        "id": "p-Zj-Hb9sDSD"
      },
      "execution_count": null,
      "outputs": []
    },
    {
      "cell_type": "code",
      "source": [
        "def get_data():\n",
        "    (x_train, t_train), (x_test, t_test) = load_mnist(normalize=True, flatten=True, one_hot_label=False)\n",
        "    return x_test, t_test"
      ],
      "metadata": {
        "id": "0VxY8-mq1lzh"
      },
      "execution_count": null,
      "outputs": []
    },
    {
      "cell_type": "code",
      "source": [
        "ls ./drive/MyDrive/sam*"
      ],
      "metadata": {
        "colab": {
          "base_uri": "https://localhost:8080/"
        },
        "id": "5Aj_fRcO2wbI",
        "outputId": "031c1a08-6d8b-419a-a2cf-9c2d2f8f98a2"
      },
      "execution_count": null,
      "outputs": [
        {
          "output_type": "stream",
          "name": "stdout",
          "text": [
            "./drive/MyDrive/sample_weight.pkl\n"
          ]
        }
      ]
    },
    {
      "cell_type": "code",
      "source": [
        "def init_network():\n",
        "    with open('/content/drive/MyDrive/sample_weight.pkl','rb') as f:\n",
        "        network = pickle.load(f)\n",
        "        return network"
      ],
      "metadata": {
        "id": "-jYlNVzG20JY"
      },
      "execution_count": null,
      "outputs": []
    },
    {
      "cell_type": "code",
      "source": [
        "def predict(network, x):\n",
        "    W1, W2, W3 = network['W1'],network['W2'],network['W3']\n",
        "    b1, b2, b3 = network['b1'],network['b2'],network['b3']\n",
        "\n",
        "    a1 = np.dot(x,W1)+b1\n",
        "    z1 = sigmoid(a1)\n",
        "    a2 = np.dot(z1,W2)+b2\n",
        "    z2 = sigmoid(a2)\n",
        "    a3 = np.dot(z2, W3)+b3\n",
        "    y = softmax(a3)\n",
        "    return y"
      ],
      "metadata": {
        "id": "bZmiN-CU3QTU"
      },
      "execution_count": null,
      "outputs": []
    },
    {
      "cell_type": "code",
      "source": [
        "def sigmoid(x):\n",
        "    return 1/(1 + np.exp(-x))"
      ],
      "metadata": {
        "id": "Hzw0HuKN4aS2"
      },
      "execution_count": null,
      "outputs": []
    },
    {
      "cell_type": "code",
      "source": [
        "x , t = get_data()\n",
        "network = init_network()\n"
      ],
      "metadata": {
        "id": "bIH30vvo4fz9"
      },
      "execution_count": null,
      "outputs": []
    },
    {
      "cell_type": "code",
      "source": [
        "accuracy_cnt = 0\n",
        "for i in range(len(x)):\n",
        "    y = predict(network, x[i])\n",
        "    p = np.argmax(y) #최대값을 나타내는 인덱스 번호\n",
        "    if p ==t[i]:\n",
        "        accuracy_cnt += 1\n",
        "print('Accuracy : ', accuracy_cnt/len(x),'%')"
      ],
      "metadata": {
        "id": "IyPGue9C5B9A"
      },
      "execution_count": null,
      "outputs": []
    },
    {
      "cell_type": "markdown",
      "source": [
        "# 3"
      ],
      "metadata": {
        "id": "td6d4-L_-eqe"
      }
    },
    {
      "cell_type": "code",
      "source": [
        "y"
      ],
      "metadata": {
        "colab": {
          "base_uri": "https://localhost:8080/"
        },
        "id": "ESDOFXm45DkE",
        "outputId": "47bd2272-2aac-4111-d021-4260df77baae"
      },
      "execution_count": null,
      "outputs": [
        {
          "output_type": "execute_result",
          "data": {
            "text/plain": [
              "array([4.2882870e-04, 2.0043001e-06, 2.5405674e-03, 2.0168900e-06,\n",
              "       5.5917702e-04, 3.1262045e-04, 9.9614763e-01, 4.3499372e-07,\n",
              "       6.3756811e-06, 3.7751411e-07], dtype=float32)"
            ]
          },
          "metadata": {},
          "execution_count": 138
        }
      ]
    },
    {
      "cell_type": "markdown",
      "source": [
        "array([4.2882870e-04, 2.0043001e-06, 2.5405674e-03, 2.0168900e-06,\n",
        "       5.5917702e-04, 3.1262045e-04, 9.9614763e-01, 4.3499372e-07,\n",
        "       6.3756811e-06, 3.7751411e-07], dtype=float32)"
      ],
      "metadata": {
        "id": "wzmf3i5j-u-p"
      }
    },
    {
      "cell_type": "code",
      "source": [
        "p"
      ],
      "metadata": {
        "colab": {
          "base_uri": "https://localhost:8080/"
        },
        "id": "KSsFaltk-rqs",
        "outputId": "d9e62310-827f-4c9b-8c1b-cf39de40f588"
      },
      "execution_count": null,
      "outputs": [
        {
          "output_type": "execute_result",
          "data": {
            "text/plain": [
              "6"
            ]
          },
          "metadata": {},
          "execution_count": 139
        }
      ]
    },
    {
      "cell_type": "code",
      "source": [
        "t[i]"
      ],
      "metadata": {
        "colab": {
          "base_uri": "https://localhost:8080/"
        },
        "id": "U8Okfdtv-ypW",
        "outputId": "c982d718-9729-444f-c7b7-a5536c495394"
      },
      "execution_count": null,
      "outputs": [
        {
          "output_type": "execute_result",
          "data": {
            "text/plain": [
              "6"
            ]
          },
          "metadata": {},
          "execution_count": 140
        }
      ]
    },
    {
      "cell_type": "code",
      "source": [
        "network['W1'].shape"
      ],
      "metadata": {
        "colab": {
          "base_uri": "https://localhost:8080/"
        },
        "id": "v_ITnii8-17D",
        "outputId": "a82ccaef-60c3-4a33-cdbb-7264a17217fa"
      },
      "execution_count": null,
      "outputs": [
        {
          "output_type": "execute_result",
          "data": {
            "text/plain": [
              "(784, 50)"
            ]
          },
          "metadata": {},
          "execution_count": 141
        }
      ]
    },
    {
      "cell_type": "code",
      "source": [
        "network['b1'].shape"
      ],
      "metadata": {
        "colab": {
          "base_uri": "https://localhost:8080/"
        },
        "id": "Dr1835lyGobf",
        "outputId": "3172d760-6204-4d27-baeb-03011fdb31c0"
      },
      "execution_count": null,
      "outputs": [
        {
          "output_type": "execute_result",
          "data": {
            "text/plain": [
              "(50,)"
            ]
          },
          "metadata": {},
          "execution_count": 142
        }
      ]
    },
    {
      "cell_type": "code",
      "source": [
        "network['W2'].shape"
      ],
      "metadata": {
        "colab": {
          "base_uri": "https://localhost:8080/"
        },
        "id": "73zrSld9Gpx9",
        "outputId": "8c5af487-f54c-4f85-ece4-75a88f22dd2a"
      },
      "execution_count": null,
      "outputs": [
        {
          "output_type": "execute_result",
          "data": {
            "text/plain": [
              "(50, 100)"
            ]
          },
          "metadata": {},
          "execution_count": 144
        }
      ]
    },
    {
      "cell_type": "code",
      "source": [
        "network['W3'].shape"
      ],
      "metadata": {
        "colab": {
          "base_uri": "https://localhost:8080/"
        },
        "id": "lXbrA06wGryJ",
        "outputId": "42115a39-5179-465c-ee14-535696621f3a"
      },
      "execution_count": null,
      "outputs": [
        {
          "output_type": "execute_result",
          "data": {
            "text/plain": [
              "(100, 10)"
            ]
          },
          "metadata": {},
          "execution_count": 145
        }
      ]
    },
    {
      "cell_type": "code",
      "source": [
        "x.shape, network['W1'].shape,network['W2'].shape,network['W3'].shape"
      ],
      "metadata": {
        "colab": {
          "base_uri": "https://localhost:8080/"
        },
        "id": "Wbgc8VtOGvEh",
        "outputId": "d40f74b9-cfd3-4e6c-d9aa-213bf394ce70"
      },
      "execution_count": null,
      "outputs": [
        {
          "output_type": "execute_result",
          "data": {
            "text/plain": [
              "((10000, 784), (784, 50), (50, 100), (100, 10))"
            ]
          },
          "metadata": {},
          "execution_count": 146
        }
      ]
    },
    {
      "cell_type": "code",
      "source": [
        "y.shape"
      ],
      "metadata": {
        "colab": {
          "base_uri": "https://localhost:8080/"
        },
        "id": "w1vjF-YlG3IU",
        "outputId": "aeb8cb1a-dff7-4d5d-bbca-4c4f1f5133df"
      },
      "execution_count": null,
      "outputs": [
        {
          "output_type": "execute_result",
          "data": {
            "text/plain": [
              "(10,)"
            ]
          },
          "metadata": {},
          "execution_count": 147
        }
      ]
    },
    {
      "cell_type": "markdown",
      "source": [
        "# 4"
      ],
      "metadata": {
        "id": "klYIXtN5LREh"
      }
    },
    {
      "cell_type": "markdown",
      "source": [
        "![캡처2.PNG](data:image/png;base64,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)"
      ],
      "metadata": {
        "id": "dhr-ZRr-LYAl"
      }
    },
    {
      "cell_type": "markdown",
      "source": [
        "![캡처3.PNG](data:image/png;base64,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)"
      ],
      "metadata": {
        "id": "_LIjpuvbLdKe"
      }
    },
    {
      "cell_type": "markdown",
      "source": [
        "묶음 처리한다"
      ],
      "metadata": {
        "id": "WFLomKOfL1Xs"
      }
    },
    {
      "cell_type": "code",
      "source": [
        "accuracy_cnt = 0\n",
        "for i in range(len(x)):\n",
        "    y = predict(network, x[i])\n",
        "    p = np.argmax(y) #최대값을 나타내는 인덱스 번호\n",
        "    if p ==t[i]:\n",
        "        accuracy_cnt += 1\n",
        "print('Accuracy : ', accuracy_cnt/len(x)*100,'%')"
      ],
      "metadata": {
        "colab": {
          "base_uri": "https://localhost:8080/"
        },
        "id": "8qkAyLIZG3xZ",
        "outputId": "f74bf4f9-cdef-45f1-b337-4256b8df0428"
      },
      "execution_count": null,
      "outputs": [
        {
          "output_type": "stream",
          "name": "stdout",
          "text": [
            "Accuracy :  93.52000000000001 %\n"
          ]
        }
      ]
    },
    {
      "cell_type": "code",
      "source": [
        "x , t = get_data()\n",
        "network = init_network()\n",
        "batch_size = 100\n",
        "accuracy_cnt = 0\n",
        "for i in range(0, len(x),batch_size):\n",
        "    x_batch = x[i:i+batch_size]\n",
        "    y_batch = predict(network, x_batch)\n",
        "    p = np.argmax(y_batch, axis=1)\n",
        "    accuracy_cnt += np.sum(p==t[i:i+batch_size])\n",
        "print('Accuracy : ', accuracy_cnt/len(x)*100,'%')"
      ],
      "metadata": {
        "colab": {
          "base_uri": "https://localhost:8080/"
        },
        "id": "Ogv72l3OMsWt",
        "outputId": "e024520e-4c6e-4653-a639-60b76dde30d6"
      },
      "execution_count": null,
      "outputs": [
        {
          "output_type": "stream",
          "name": "stdout",
          "text": [
            "Accuracy :  93.52000000000001 %\n"
          ]
        }
      ]
    },
    {
      "cell_type": "code",
      "source": [
        "k = np.arange(20)"
      ],
      "metadata": {
        "id": "aKh34aaXNJdv"
      },
      "execution_count": null,
      "outputs": []
    },
    {
      "cell_type": "code",
      "source": [
        "for i in range(0, len(k), 3):\n",
        "    #print(i)\n",
        "    print(k[i:i+3])"
      ],
      "metadata": {
        "colab": {
          "base_uri": "https://localhost:8080/"
        },
        "id": "6KlYpzKmNLTp",
        "outputId": "f4ba4978-b982-4d17-9c21-9ccd99497f9d"
      },
      "execution_count": null,
      "outputs": [
        {
          "output_type": "stream",
          "name": "stdout",
          "text": [
            "[0 1 2]\n",
            "[3 4 5]\n",
            "[6 7 8]\n",
            "[ 9 10 11]\n",
            "[12 13 14]\n",
            "[15 16 17]\n",
            "[18 19]\n"
          ]
        }
      ]
    },
    {
      "cell_type": "code",
      "source": [
        "y_batch.shape"
      ],
      "metadata": {
        "colab": {
          "base_uri": "https://localhost:8080/"
        },
        "id": "xeGEdl3HNQWU",
        "outputId": "837e1b66-95d2-4fe2-8ecc-d38c5526d32b"
      },
      "execution_count": null,
      "outputs": [
        {
          "output_type": "execute_result",
          "data": {
            "text/plain": [
              "(100, 10)"
            ]
          },
          "metadata": {},
          "execution_count": 166
        }
      ]
    },
    {
      "cell_type": "code",
      "source": [
        "x.shape"
      ],
      "metadata": {
        "colab": {
          "base_uri": "https://localhost:8080/"
        },
        "id": "8Q-SNCv9QUvp",
        "outputId": "765daa7b-023c-4a9f-834d-f415973c6a12"
      },
      "execution_count": null,
      "outputs": [
        {
          "output_type": "execute_result",
          "data": {
            "text/plain": [
              "(10000, 784)"
            ]
          },
          "metadata": {},
          "execution_count": 167
        }
      ]
    },
    {
      "cell_type": "code",
      "source": [
        "x_batch.shape"
      ],
      "metadata": {
        "colab": {
          "base_uri": "https://localhost:8080/"
        },
        "id": "FYdIAbx8QWDe",
        "outputId": "2b8eb6f4-c1b0-426a-af92-39eb98b982fd"
      },
      "execution_count": null,
      "outputs": [
        {
          "output_type": "execute_result",
          "data": {
            "text/plain": [
              "(100, 784)"
            ]
          },
          "metadata": {},
          "execution_count": 168
        }
      ]
    },
    {
      "cell_type": "code",
      "source": [
        "p.sum(p==t[i:i+batch_size])"
      ],
      "metadata": {
        "id": "-N0oImVYQXu6"
      },
      "execution_count": null,
      "outputs": []
    },
    {
      "cell_type": "code",
      "source": [
        "y = np.array([1,2,1,0])\n",
        "t = np.array([1,2,0,0])\n",
        "print(y==t)"
      ],
      "metadata": {
        "colab": {
          "base_uri": "https://localhost:8080/"
        },
        "id": "2dt9w_diQ02N",
        "outputId": "90df2040-959a-443d-ba80-975383bdd7e8"
      },
      "execution_count": null,
      "outputs": [
        {
          "output_type": "stream",
          "name": "stdout",
          "text": [
            "[ True  True False  True]\n"
          ]
        }
      ]
    },
    {
      "cell_type": "code",
      "source": [
        ""
      ],
      "metadata": {
        "id": "Rek6k2Q9RadM"
      },
      "execution_count": null,
      "outputs": []
    },
    {
      "cell_type": "code",
      "source": [
        "np.sum(y==t)"
      ],
      "metadata": {
        "colab": {
          "base_uri": "https://localhost:8080/"
        },
        "id": "ihFpeywORdJr",
        "outputId": "4c140c86-a0fb-4a10-ab76-15217fef90fb"
      },
      "execution_count": null,
      "outputs": [
        {
          "output_type": "execute_result",
          "data": {
            "text/plain": [
              "3"
            ]
          },
          "metadata": {},
          "execution_count": 172
        }
      ]
    },
    {
      "cell_type": "markdown",
      "source": [
        "손실 함수\n",
        "\n",
        "신경망 학습에서는 현재의 상태를 '하나의 지표' 로 표현, 그 지표를 가장 좋게 만들어주는 가중치 매개변수의 값을 탐색.\n",
        "\n",
        "손실함수 (loss function): 신경망 성능의 나쁨을 나타내는 지표\n",
        "\n",
        "- 평균 제곱 오차\n",
        "- 교차 엔트로피 오차\n"
      ],
      "metadata": {
        "id": "RjY-rFpYSLnv"
      }
    },
    {
      "cell_type": "markdown",
      "source": [
        "평균 제곱 오차\n",
        "\n",
        "평균 제곱오차(mean squared error, MSE)수식\n",
        "\n",
        "$$\n",
        "E = \\frac12∑_k(y_k - t_k)2\n",
        "$$\n",
        "\n",
        "- yk 신경망의 출력(신경망이 추정한 값)\n",
        "- tk 정답 레이블\n",
        "- k 데이터의 차원수"
      ],
      "metadata": {
        "id": "tX_JEV0VSo5a"
      }
    },
    {
      "cell_type": "code",
      "source": [
        "y = [0.1,0.05,0.6,0.0,0.05,0.1,0.0,0.1,0.0,0.0] #softmax()를 통과한 값 = 0.1이 0일 확률인거고, 0.05는 숫자 1일 확률, 0.6은 숫자 2일 확률.....\n",
        "t = [0,0,1,0,0,0,0,0,0,0] # = 레이블이 [2]이다. "
      ],
      "metadata": {
        "id": "4Fd_FG_BReU-"
      },
      "execution_count": null,
      "outputs": []
    },
    {
      "cell_type": "code",
      "source": [
        "def mean_squared_error(y,t):\n",
        "    return 0.5*np.sum((y - t)**2)"
      ],
      "metadata": {
        "id": "i-EK7wbyTMMk"
      },
      "execution_count": null,
      "outputs": []
    },
    {
      "cell_type": "code",
      "source": [
        "mean_squared_error(np.array(y),np.array(t))"
      ],
      "metadata": {
        "colab": {
          "base_uri": "https://localhost:8080/"
        },
        "id": "B6L3mIL_UK1j",
        "outputId": "7f2a5acf-19e1-46d5-b077-c60afa0c851c"
      },
      "execution_count": null,
      "outputs": [
        {
          "output_type": "execute_result",
          "data": {
            "text/plain": [
              "0.09750000000000003"
            ]
          },
          "metadata": {},
          "execution_count": 175
        }
      ]
    },
    {
      "cell_type": "code",
      "source": [
        "y = [0.1,0.05,0.1,0.0,0.05,0.1,0.0,0.6,0.0,0.0]"
      ],
      "metadata": {
        "id": "stX02eShUPgp"
      },
      "execution_count": null,
      "outputs": []
    },
    {
      "cell_type": "markdown",
      "source": [
        "교차 엔트로피 오차\n",
        "\n",
        "교차 엔트로피 오차(cross entropy error, CEE) 수식\n",
        "$$\n",
        "E = -∑_{k}{t_k}{logy_k}\n",
        "$$\n",
        "- log는 밑이 e인 자연로그\n",
        "- yk 신경망의 출력(신경망이 추정한 값)\n",
        "- tk 정답 레이블 : 정답에 해당하는 인덱스의 원고만 1,  나머지는 0(원 - 핫 인코딩)\n",
        "\n",
        "tk =1일때만 값이 있으므로\n",
        "\n",
        "정답 레이블은 '2'가 정답. 신경망 출력이 0.6이라면 교차 엔트로피 오차는 -log0.6 = 0.51\n",
        "\n",
        "같은 조건에서 신경망 출력이 0.1 이라면 -log0.1 = 2.3\n",
        "\n",
        "그림 4-3 자연로그 y =logx그래프"
      ],
      "metadata": {
        "id": "Bat-RiK7U-gz"
      }
    },
    {
      "cell_type": "code",
      "source": [
        "x = np.arange(0.001, 1.0, 0.001)\n",
        "y= np.log(x)\n",
        "plt.plot(x,y)"
      ],
      "metadata": {
        "colab": {
          "base_uri": "https://localhost:8080/",
          "height": 283
        },
        "id": "3Uw-9Lg1Uv7C",
        "outputId": "c5bc718d-6787-4462-bf8a-60ba26760214"
      },
      "execution_count": null,
      "outputs": [
        {
          "output_type": "execute_result",
          "data": {
            "text/plain": [
              "[<matplotlib.lines.Line2D at 0x7f5dfdf20e50>]"
            ]
          },
          "metadata": {},
          "execution_count": 177
        },
        {
          "output_type": "display_data",
          "data": {
            "text/plain": [
              "<Figure size 432x288 with 1 Axes>"
            ],
            "image/png": "[encoded data removed]"
          },
          "metadata": {
            "needs_background": "light"
          }
        }
      ]
    },
    {
      "cell_type": "code",
      "source": [
        ""
      ],
      "metadata": {
        "id": "2I9ZgItqVb05"
      },
      "execution_count": null,
      "outputs": []
    }
  ]
}