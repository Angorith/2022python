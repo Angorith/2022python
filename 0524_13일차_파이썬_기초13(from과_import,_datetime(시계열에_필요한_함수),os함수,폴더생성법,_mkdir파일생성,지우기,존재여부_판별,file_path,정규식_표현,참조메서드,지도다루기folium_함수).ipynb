{
  "nbformat": 4,
  "nbformat_minor": 0,
  "metadata": {
    "colab": {
      "name": "0524 13일차 파이썬 기초13(from과 import, datetime(시계열에 필요한 함수),os함수,폴더생성법, mkdir파일생성,지우기,존재여부 판별,file_path,정규식 표현,참조메서드,지도다루기folium 함수).ipynb",
      "provenance": [],
      "collapsed_sections": [],
      "authorship_tag": "ABX9TyNEhlTByI/kk4DbBW1zZB2E",
      "include_colab_link": true
    },
    "kernelspec": {
      "name": "python3",
      "display_name": "Python 3"
    },
    "language_info": {
      "name": "python"
    }
  },
  "cells": [
    {
      "cell_type": "markdown",
      "metadata": {
        "id": "view-in-github",
        "colab_type": "text"
      },
      "source": [
        "<a href=\"https://colab.research.google.com/github/Angorith/acorn_python/blob/main/0524_13%EC%9D%BC%EC%B0%A8_%ED%8C%8C%EC%9D%B4%EC%8D%AC_%EA%B8%B0%EC%B4%8813(from%EA%B3%BC_import%2C_datetime(%EC%8B%9C%EA%B3%84%EC%97%B4%EC%97%90_%ED%95%84%EC%9A%94%ED%95%9C_%ED%95%A8%EC%88%98)%2Cos%ED%95%A8%EC%88%98%2C%ED%8F%B4%EB%8D%94%EC%83%9D%EC%84%B1%EB%B2%95%2C_mkdir%ED%8C%8C%EC%9D%BC%EC%83%9D%EC%84%B1%2C%EC%A7%80%EC%9A%B0%EA%B8%B0%2C%EC%A1%B4%EC%9E%AC%EC%97%AC%EB%B6%80_%ED%8C%90%EB%B3%84%2Cfile_path%2C%EC%A0%95%EA%B7%9C%EC%8B%9D_%ED%91%9C%ED%98%84%2C%EC%B0%B8%EC%A1%B0%EB%A9%94%EC%84%9C%EB%93%9C%2C%EC%A7%80%EB%8F%84%EB%8B%A4%EB%A3%A8%EA%B8%B0folium_%ED%95%A8%EC%88%98).ipynb\" target=\"_parent\"><img src=\"https://colab.research.google.com/assets/colab-badge.svg\" alt=\"Open In Colab\"/></a>"
      ]
    },
    {
      "cell_type": "markdown",
      "source": [
        "from 다음은 module이름까지"
      ],
      "metadata": {
        "id": "FETT05O8aAXS"
      }
    },
    {
      "cell_type": "code",
      "execution_count": null,
      "metadata": {
        "id": "618o1wVuXsjO"
      },
      "outputs": [],
      "source": [
        "from datetime import datetime, timedelta"
      ]
    },
    {
      "cell_type": "code",
      "source": [
        "!touch __init__.py"
      ],
      "metadata": {
        "id": "U_I1A6ggZDxo"
      },
      "execution_count": null,
      "outputs": []
    },
    {
      "cell_type": "markdown",
      "source": [
        ". 현재 디렉토리\n",
        ".. 상위 디렉토리\n",
        "d 시작하는건 디렉토리 \n",
        "rwxr-xr읽고 쓰고 실행가능\n",
        "- 파일 \n",
        "x = 실행\n",
        "r-- r-- 같은 그룹에 읽기만 가능\n"
      ],
      "metadata": {
        "id": "dzaMexzkZLx_"
      }
    },
    {
      "cell_type": "code",
      "source": [
        "!ls -al"
      ],
      "metadata": {
        "colab": {
          "base_uri": "https://localhost:8080/"
        },
        "id": "lOfTZSPpZGLG",
        "outputId": "3642a4cd-fd68-45b1-f6c4-89c679b1a4a9"
      },
      "execution_count": null,
      "outputs": [
        {
          "output_type": "stream",
          "name": "stdout",
          "text": [
            "total 16\n",
            "drwxr-xr-x 1 root root 4096 May 24 00:08 .\n",
            "drwxr-xr-x 1 root root 4096 May 24 00:00 ..\n",
            "drwxr-xr-x 4 root root 4096 May 17 13:38 .config\n",
            "-rw-r--r-- 1 root root    0 May 24 00:08 __init__.py\n",
            "drwxr-xr-x 1 root root 4096 May 17 13:39 sample_data\n"
          ]
        }
      ]
    },
    {
      "cell_type": "code",
      "source": [
        "import python_module"
      ],
      "metadata": {
        "id": "1s5JTpLtaWXT"
      },
      "execution_count": null,
      "outputs": []
    },
    {
      "cell_type": "code",
      "source": [
        "cat python_module.py"
      ],
      "metadata": {
        "id": "LtqFlI4UaZt5"
      },
      "execution_count": null,
      "outputs": []
    },
    {
      "cell_type": "code",
      "source": [
        "!cat >__init__.py"
      ],
      "metadata": {
        "colab": {
          "base_uri": "https://localhost:8080/"
        },
        "id": "ugdwKVSYad_c",
        "outputId": "b1904ddf-64dd-4489-e1ad-a34464adaa9e"
      },
      "execution_count": null,
      "outputs": [
        {
          "output_type": "stream",
          "name": "stdout",
          "text": [
            "__all\n",
            "__all__=['python_module']\n",
            "^C\n"
          ]
        }
      ]
    },
    {
      "cell_type": "code",
      "source": [
        "dt = datetime.now()"
      ],
      "metadata": {
        "id": "8eXr4irib4uE"
      },
      "execution_count": null,
      "outputs": []
    },
    {
      "cell_type": "code",
      "source": [
        "dt"
      ],
      "metadata": {
        "colab": {
          "base_uri": "https://localhost:8080/"
        },
        "id": "ylFtrm4kcMps",
        "outputId": "0874c104-3b2f-4a3a-8fa8-2025f9ad5948"
      },
      "execution_count": null,
      "outputs": [
        {
          "output_type": "execute_result",
          "data": {
            "text/plain": [
              "datetime.datetime(2022, 5, 24, 0, 21, 36, 753002)"
            ]
          },
          "metadata": {},
          "execution_count": 9
        }
      ]
    },
    {
      "cell_type": "code",
      "source": [
        "dt.year , dt.month, dt.day, dt.hour, dt.minute, dt.second"
      ],
      "metadata": {
        "colab": {
          "base_uri": "https://localhost:8080/"
        },
        "id": "h5s2vkpZcOlV",
        "outputId": "3e7c3a58-0b72-4142-8a64-08c231615603"
      },
      "execution_count": null,
      "outputs": [
        {
          "output_type": "execute_result",
          "data": {
            "text/plain": [
              "(2022, 5, 24, 0, 21, 36)"
            ]
          },
          "metadata": {},
          "execution_count": 14
        }
      ]
    },
    {
      "cell_type": "code",
      "source": [
        "type(dt.year)"
      ],
      "metadata": {
        "colab": {
          "base_uri": "https://localhost:8080/"
        },
        "id": "2TkrM53vcew0",
        "outputId": "500f1022-0312-4d11-b277-d4f5d17caf82"
      },
      "execution_count": null,
      "outputs": [
        {
          "output_type": "execute_result",
          "data": {
            "text/plain": [
              "int"
            ]
          },
          "metadata": {},
          "execution_count": 15
        }
      ]
    },
    {
      "cell_type": "code",
      "source": [
        "dt.strftime('%m/%d/%Y %H:%M')"
      ],
      "metadata": {
        "colab": {
          "base_uri": "https://localhost:8080/",
          "height": 35
        },
        "id": "fb4GapBvcwGB",
        "outputId": "03cbc13d-c3b5-4f65-f1a2-be49a9122028"
      },
      "execution_count": null,
      "outputs": [
        {
          "output_type": "execute_result",
          "data": {
            "text/plain": [
              "'05/24/2022 00:21'"
            ],
            "application/vnd.google.colaboratory.intrinsic+json": {
              "type": "string"
            }
          },
          "metadata": {},
          "execution_count": 16
        }
      ]
    },
    {
      "cell_type": "code",
      "source": [
        "type(dt.strftime('%m/%d/%Y %H:%M'))"
      ],
      "metadata": {
        "colab": {
          "base_uri": "https://localhost:8080/"
        },
        "id": "6GEmwaZgdSAj",
        "outputId": "a3fd2809-6183-494a-9007-6d3d806a0614"
      },
      "execution_count": null,
      "outputs": [
        {
          "output_type": "execute_result",
          "data": {
            "text/plain": [
              "str"
            ]
          },
          "metadata": {},
          "execution_count": 17
        }
      ]
    },
    {
      "cell_type": "code",
      "source": [
        "day_string='20220524'"
      ],
      "metadata": {
        "id": "adMoBMavdUra"
      },
      "execution_count": null,
      "outputs": []
    },
    {
      "cell_type": "code",
      "source": [
        "type(day_string)"
      ],
      "metadata": {
        "colab": {
          "base_uri": "https://localhost:8080/"
        },
        "id": "eh7bZWi-dXWI",
        "outputId": "9da65179-1bd1-421a-fefc-2ab919ff8040"
      },
      "execution_count": null,
      "outputs": [
        {
          "output_type": "execute_result",
          "data": {
            "text/plain": [
              "str"
            ]
          },
          "metadata": {},
          "execution_count": 19
        }
      ]
    },
    {
      "cell_type": "code",
      "source": [
        "today_ = datetime.strptime(day_string, '%Y%m%d')"
      ],
      "metadata": {
        "id": "2GMDRJEYdulD"
      },
      "execution_count": null,
      "outputs": []
    },
    {
      "cell_type": "code",
      "source": [
        "type(today_)"
      ],
      "metadata": {
        "colab": {
          "base_uri": "https://localhost:8080/"
        },
        "id": "BMKtbP5GeAe9",
        "outputId": "94c19f82-22ee-4d8a-efb9-155faca49ce1"
      },
      "execution_count": null,
      "outputs": [
        {
          "output_type": "execute_result",
          "data": {
            "text/plain": [
              "datetime.datetime"
            ]
          },
          "metadata": {},
          "execution_count": 25
        }
      ]
    },
    {
      "cell_type": "code",
      "source": [
        "today_"
      ],
      "metadata": {
        "colab": {
          "base_uri": "https://localhost:8080/"
        },
        "id": "ErInLsFXew4U",
        "outputId": "0e90ca78-8476-4f6d-b57c-525f242b5ae0"
      },
      "execution_count": null,
      "outputs": [
        {
          "output_type": "execute_result",
          "data": {
            "text/plain": [
              "datetime.datetime(2022, 5, 24, 0, 0)"
            ]
          },
          "metadata": {},
          "execution_count": 26
        }
      ]
    },
    {
      "cell_type": "code",
      "source": [
        "dt - today_"
      ],
      "metadata": {
        "colab": {
          "base_uri": "https://localhost:8080/"
        },
        "id": "bihCkU-6eyPs",
        "outputId": "61828bc0-da57-48ca-82ef-81b07c7e8413"
      },
      "execution_count": null,
      "outputs": [
        {
          "output_type": "execute_result",
          "data": {
            "text/plain": [
              "datetime.timedelta(seconds=1296, microseconds=753002)"
            ]
          },
          "metadata": {},
          "execution_count": 27
        }
      ]
    },
    {
      "cell_type": "code",
      "source": [
        "dt"
      ],
      "metadata": {
        "colab": {
          "base_uri": "https://localhost:8080/"
        },
        "id": "aB6o_seZe02n",
        "outputId": "0ad9bf46-5b98-441e-c85b-18f30197d399"
      },
      "execution_count": null,
      "outputs": [
        {
          "output_type": "execute_result",
          "data": {
            "text/plain": [
              "datetime.datetime(2022, 5, 24, 0, 21, 36, 753002)"
            ]
          },
          "metadata": {},
          "execution_count": 28
        }
      ]
    },
    {
      "cell_type": "code",
      "source": [
        "dt+timedelta(hours=2)"
      ],
      "metadata": {
        "colab": {
          "base_uri": "https://localhost:8080/"
        },
        "id": "bR0oLEwOe9OL",
        "outputId": "fe034cc3-d44b-4da9-cbbb-6c0278e3b77a"
      },
      "execution_count": null,
      "outputs": [
        {
          "output_type": "execute_result",
          "data": {
            "text/plain": [
              "datetime.datetime(2022, 5, 24, 2, 21, 36, 753002)"
            ]
          },
          "metadata": {},
          "execution_count": 31
        }
      ]
    },
    {
      "cell_type": "code",
      "source": [
        "dt+timedelta(days=100)"
      ],
      "metadata": {
        "colab": {
          "base_uri": "https://localhost:8080/"
        },
        "id": "B0gCEBbKfpXI",
        "outputId": "7d3fc5e7-a1cc-43b5-80e4-edca5fdf6e46"
      },
      "execution_count": null,
      "outputs": [
        {
          "output_type": "execute_result",
          "data": {
            "text/plain": [
              "datetime.datetime(2022, 9, 1, 0, 21, 36, 753002)"
            ]
          },
          "metadata": {},
          "execution_count": 34
        }
      ]
    },
    {
      "cell_type": "code",
      "source": [
        "import os"
      ],
      "metadata": {
        "id": "fAmd5O_GgqSd"
      },
      "execution_count": null,
      "outputs": []
    },
    {
      "cell_type": "code",
      "source": [
        "os.listdir('../')"
      ],
      "metadata": {
        "colab": {
          "base_uri": "https://localhost:8080/"
        },
        "id": "C8BHQ7qsgsBg",
        "outputId": "dc38abb2-9c27-47a2-9878-24c6a34c4a31"
      },
      "execution_count": null,
      "outputs": [
        {
          "output_type": "execute_result",
          "data": {
            "text/plain": [
              "['bin',\n",
              " 'var',\n",
              " 'opt',\n",
              " 'lib',\n",
              " 'mnt',\n",
              " 'proc',\n",
              " 'etc',\n",
              " 'root',\n",
              " 'home',\n",
              " 'boot',\n",
              " 'run',\n",
              " 'lib64',\n",
              " 'sbin',\n",
              " 'sys',\n",
              " 'media',\n",
              " 'dev',\n",
              " 'srv',\n",
              " 'tmp',\n",
              " 'usr',\n",
              " 'content',\n",
              " '.dockerenv',\n",
              " 'datalab',\n",
              " 'tools',\n",
              " 'tensorflow-1.15.2',\n",
              " 'lib32',\n",
              " 'python-apt']"
            ]
          },
          "metadata": {},
          "execution_count": 40
        }
      ]
    },
    {
      "cell_type": "code",
      "source": [
        "?os.chmod"
      ],
      "metadata": {
        "id": "vKK-9B5qhqJO"
      },
      "execution_count": null,
      "outputs": []
    },
    {
      "cell_type": "code",
      "source": [
        "os.listdir()"
      ],
      "metadata": {
        "colab": {
          "base_uri": "https://localhost:8080/"
        },
        "id": "2NmNbbEnh1fK",
        "outputId": "8fc43145-427e-4479-bd41-7a9e91d16682"
      },
      "execution_count": null,
      "outputs": [
        {
          "output_type": "execute_result",
          "data": {
            "text/plain": [
              "['.config', 'python_module.py', '__init__.py', '__pycache__', 'sample_data']"
            ]
          },
          "metadata": {},
          "execution_count": 42
        }
      ]
    },
    {
      "cell_type": "code",
      "source": [
        "!ls -al"
      ],
      "metadata": {
        "colab": {
          "base_uri": "https://localhost:8080/"
        },
        "id": "vFD3xgL5h4LF",
        "outputId": "c2e6e7a7-f970-4881-acca-0978a90a30bc"
      },
      "execution_count": null,
      "outputs": [
        {
          "output_type": "stream",
          "name": "stdout",
          "text": [
            "total 32\n",
            "drwxr-xr-x 1 root root 4096 May 24 00:13 .\n",
            "drwxr-xr-x 1 root root 4096 May 24 00:00 ..\n",
            "drwxr-xr-x 4 root root 4096 May 17 13:38 .config\n",
            "-rw-r--r-- 1 root root   32 May 24 00:17 __init__.py\n",
            "drwxr-xr-x 2 root root 4096 May 24 00:13 __pycache__\n",
            "-rw-r--r-- 1 root root 7192 May 24 00:13 python_module.py\n",
            "drwxr-xr-x 1 root root 4096 May 17 13:39 sample_data\n"
          ]
        }
      ]
    },
    {
      "cell_type": "code",
      "source": [
        "os.chmod('./__init__.py',0o777)"
      ],
      "metadata": {
        "id": "hawL8ccDh_Ek"
      },
      "execution_count": null,
      "outputs": []
    },
    {
      "cell_type": "code",
      "source": [
        "!ls -al"
      ],
      "metadata": {
        "colab": {
          "base_uri": "https://localhost:8080/"
        },
        "id": "a7Q_cOaLiEO1",
        "outputId": "72a8cc80-7716-490a-e96b-cfaca88dd5d9"
      },
      "execution_count": null,
      "outputs": [
        {
          "output_type": "stream",
          "name": "stdout",
          "text": [
            "total 32\n",
            "drwxr-xr-x 1 root root 4096 May 24 00:50 .\n",
            "drwxr-xr-x 1 root root 4096 May 24 00:00 ..\n",
            "drwxr-xr-x 4 root root 4096 May 17 13:38 .config\n",
            "-rwxrwxrwx 1 root root   32 May 24 00:17 __init__.py\n",
            "drwxr-xr-x 2 root root 4096 May 24 00:13 __pycache__\n",
            "-rw-r--r-- 1 root root 7192 May 24 00:13 python_module.py\n",
            "drwxr-xr-x 1 root root 4096 May 17 13:39 sample_data\n",
            "-rw-r--r-- 1 root root    0 May 24 00:50 test\n"
          ]
        }
      ]
    },
    {
      "cell_type": "code",
      "source": [
        "!touch test"
      ],
      "metadata": {
        "id": "idp74Mhjixc5"
      },
      "execution_count": null,
      "outputs": []
    },
    {
      "cell_type": "code",
      "source": [
        "!ls -al"
      ],
      "metadata": {
        "colab": {
          "base_uri": "https://localhost:8080/"
        },
        "id": "rvaOjG8Zi2lh",
        "outputId": "afac110d-15ad-4fb4-c560-f8bf340cd175"
      },
      "execution_count": null,
      "outputs": [
        {
          "output_type": "stream",
          "name": "stdout",
          "text": [
            "total 32\n",
            "drwxr-xr-x 1 root root 4096 May 24 00:50 .\n",
            "drwxr-xr-x 1 root root 4096 May 24 00:00 ..\n",
            "drwxr-xr-x 4 root root 4096 May 17 13:38 .config\n",
            "-r----x--t 1 root root   32 May 24 00:17 __init__.py\n",
            "drwxr-xr-x 2 root root 4096 May 24 00:13 __pycache__\n",
            "-rw-r--r-- 1 root root 7192 May 24 00:13 python_module.py\n",
            "drwxr-xr-x 1 root root 4096 May 17 13:39 sample_data\n",
            "-rw-r--r-- 1 root root    0 May 24 00:50 test\n"
          ]
        }
      ]
    },
    {
      "cell_type": "code",
      "source": [
        "ls"
      ],
      "metadata": {
        "colab": {
          "base_uri": "https://localhost:8080/"
        },
        "id": "S3REsPqil3U7",
        "outputId": "2b055614-5e69-4be4-c51c-49e023714c63"
      },
      "execution_count": null,
      "outputs": [
        {
          "output_type": "stream",
          "name": "stdout",
          "text": [
            "\u001b[0m\u001b[01;32m__init__.py\u001b[0m*  \u001b[01;34m__pycache__\u001b[0m/  python_module.py  \u001b[01;34msample_data\u001b[0m/  test\n"
          ]
        }
      ]
    },
    {
      "cell_type": "code",
      "source": [
        "os.mkdir('./data')"
      ],
      "metadata": {
        "id": "hdGyJ_b9l4vB"
      },
      "execution_count": null,
      "outputs": []
    },
    {
      "cell_type": "code",
      "source": [
        "ls"
      ],
      "metadata": {
        "colab": {
          "base_uri": "https://localhost:8080/"
        },
        "id": "WE9Y6KVIl7G5",
        "outputId": "c562ae08-f0ae-45e5-83d2-d6d8d238129e"
      },
      "execution_count": null,
      "outputs": [
        {
          "output_type": "stream",
          "name": "stdout",
          "text": [
            "\u001b[0m\u001b[01;34mdata\u001b[0m/  \u001b[01;32m__init__.py\u001b[0m*  \u001b[01;34m__pycache__\u001b[0m/  python_module.py  \u001b[01;34msample_data\u001b[0m/  test\n"
          ]
        }
      ]
    },
    {
      "cell_type": "markdown",
      "source": [
        "폴더 생성법"
      ],
      "metadata": {
        "id": "kx3Ju-42mPuZ"
      }
    },
    {
      "cell_type": "code",
      "source": [
        "os.makedirs('./data/sub/train')"
      ],
      "metadata": {
        "id": "NXpeB4Jwl8BQ"
      },
      "execution_count": null,
      "outputs": []
    },
    {
      "cell_type": "markdown",
      "source": [
        "mkdir 파일 생성"
      ],
      "metadata": {
        "id": "E6xtMZ4XmNl6"
      }
    },
    {
      "cell_type": "code",
      "source": [
        "os.mkdir('./data/main/validation')"
      ],
      "metadata": {
        "colab": {
          "base_uri": "https://localhost:8080/",
          "height": 174
        },
        "id": "-yYyqU3hmBDh",
        "outputId": "5067a448-0667-43c3-e090-09e32d844885"
      },
      "execution_count": null,
      "outputs": [
        {
          "output_type": "error",
          "ename": "FileNotFoundError",
          "evalue": "ignored",
          "traceback": [
            "\u001b[0;31m---------------------------------------------------------------------------\u001b[0m",
            "\u001b[0;31mFileNotFoundError\u001b[0m                         Traceback (most recent call last)",
            "\u001b[0;32m<ipython-input-61-a2b96a249a66>\u001b[0m in \u001b[0;36m<module>\u001b[0;34m()\u001b[0m\n\u001b[0;32m----> 1\u001b[0;31m \u001b[0mos\u001b[0m\u001b[0;34m.\u001b[0m\u001b[0mmkdir\u001b[0m\u001b[0;34m(\u001b[0m\u001b[0;34m'./data/main/validation'\u001b[0m\u001b[0;34m)\u001b[0m\u001b[0;34m\u001b[0m\u001b[0;34m\u001b[0m\u001b[0m\n\u001b[0m",
            "\u001b[0;31mFileNotFoundError\u001b[0m: [Errno 2] No such file or directory: './data/main/validation'"
          ]
        }
      ]
    },
    {
      "cell_type": "markdown",
      "source": [
        "폴더 지우기"
      ],
      "metadata": {
        "id": "LwGM7c9MmfOI"
      }
    },
    {
      "cell_type": "code",
      "source": [
        "os.rmdir('./data/sub')"
      ],
      "metadata": {
        "id": "a6A9gLU7mWeh"
      },
      "execution_count": null,
      "outputs": []
    },
    {
      "cell_type": "markdown",
      "source": [
        "폴더가 있는지 없는지 판별\n",
        "os.path.isdir()"
      ],
      "metadata": {
        "id": "btLq3d0Tm0Z9"
      }
    },
    {
      "cell_type": "code",
      "source": [
        "base_folder = './data/sub/train'\n",
        "os.path.isdir(base_folder)"
      ],
      "metadata": {
        "colab": {
          "base_uri": "https://localhost:8080/"
        },
        "id": "WXY3_u2nmhFd",
        "outputId": "2580fff2-2068-4958-9653-51ed839cf402"
      },
      "execution_count": null,
      "outputs": [
        {
          "output_type": "execute_result",
          "data": {
            "text/plain": [
              "True"
            ]
          },
          "metadata": {},
          "execution_count": 65
        }
      ]
    },
    {
      "cell_type": "code",
      "source": [
        "os.path.isdir(base_folder + '/test-data')"
      ],
      "metadata": {
        "colab": {
          "base_uri": "https://localhost:8080/"
        },
        "id": "KA3SK1wqm45I",
        "outputId": "edc7385c-7507-4f92-b579-9f73a296f44f"
      },
      "execution_count": null,
      "outputs": [
        {
          "output_type": "execute_result",
          "data": {
            "text/plain": [
              "False"
            ]
          },
          "metadata": {},
          "execution_count": 66
        }
      ]
    },
    {
      "cell_type": "markdown",
      "source": [
        "파일인지 아닌지 확인 "
      ],
      "metadata": {
        "id": "URoBaEHZnCyK"
      }
    },
    {
      "cell_type": "code",
      "source": [
        "os.path.isfile('./__init__.py')"
      ],
      "metadata": {
        "colab": {
          "base_uri": "https://localhost:8080/"
        },
        "id": "jaGxZ6J3m9cu",
        "outputId": "1e49fe8e-8099-4bea-8ce1-d6f3f6c545da"
      },
      "execution_count": null,
      "outputs": [
        {
          "output_type": "execute_result",
          "data": {
            "text/plain": [
              "True"
            ]
          },
          "metadata": {},
          "execution_count": 67
        }
      ]
    },
    {
      "cell_type": "code",
      "source": [
        "os.path.isfile(base_folder)"
      ],
      "metadata": {
        "colab": {
          "base_uri": "https://localhost:8080/"
        },
        "id": "LK2QGpcinCfR",
        "outputId": "bd8dd5e4-6d84-488a-86fa-e0917488cb65"
      },
      "execution_count": null,
      "outputs": [
        {
          "output_type": "execute_result",
          "data": {
            "text/plain": [
              "False"
            ]
          },
          "metadata": {},
          "execution_count": 68
        }
      ]
    },
    {
      "cell_type": "markdown",
      "source": [
        "존재 유무"
      ],
      "metadata": {
        "id": "mmGZ6IY_nSt7"
      }
    },
    {
      "cell_type": "code",
      "source": [
        "os.path.exists(base_folder)"
      ],
      "metadata": {
        "colab": {
          "base_uri": "https://localhost:8080/"
        },
        "id": "7alDMPU4nJae",
        "outputId": "c67f8e3f-8d51-4f7a-cada-90112d786a59"
      },
      "execution_count": null,
      "outputs": [
        {
          "output_type": "execute_result",
          "data": {
            "text/plain": [
              "True"
            ]
          },
          "metadata": {},
          "execution_count": 69
        }
      ]
    },
    {
      "cell_type": "code",
      "source": [
        "fn = '/content/__init__.py'"
      ],
      "metadata": {
        "id": "hE0GuPujnMcP"
      },
      "execution_count": null,
      "outputs": []
    },
    {
      "cell_type": "code",
      "source": [
        "os.path.exists(fn)"
      ],
      "metadata": {
        "colab": {
          "base_uri": "https://localhost:8080/"
        },
        "id": "xbJM5E0MnQEC",
        "outputId": "21552f7d-0571-42f1-b1dc-7c199aacaf0b"
      },
      "execution_count": null,
      "outputs": [
        {
          "output_type": "execute_result",
          "data": {
            "text/plain": [
              "True"
            ]
          },
          "metadata": {},
          "execution_count": 72
        }
      ]
    },
    {
      "cell_type": "markdown",
      "source": [
        "size 체크"
      ],
      "metadata": {
        "id": "CjzZGNKynZzm"
      }
    },
    {
      "cell_type": "code",
      "source": [
        "os.path.getsize(fn)"
      ],
      "metadata": {
        "colab": {
          "base_uri": "https://localhost:8080/"
        },
        "id": "VcE_AVj_nVLK",
        "outputId": "aabf0f1f-982f-4ea9-cee0-3b3985c3bdfa"
      },
      "execution_count": null,
      "outputs": [
        {
          "output_type": "execute_result",
          "data": {
            "text/plain": [
              "32"
            ]
          },
          "metadata": {},
          "execution_count": 73
        }
      ]
    },
    {
      "cell_type": "markdown",
      "source": [
        "경로명과 파일명 분리"
      ],
      "metadata": {
        "id": "jd1Yf653nfm8"
      }
    },
    {
      "cell_type": "code",
      "source": [
        "os.path.split(fn)"
      ],
      "metadata": {
        "colab": {
          "base_uri": "https://localhost:8080/"
        },
        "id": "cPbIUg5rnbi4",
        "outputId": "7144dc14-e17d-4645-ff6d-362a819650c4"
      },
      "execution_count": null,
      "outputs": [
        {
          "output_type": "execute_result",
          "data": {
            "text/plain": [
              "('/content', '__init__.py')"
            ]
          },
          "metadata": {},
          "execution_count": 76
        }
      ]
    },
    {
      "cell_type": "code",
      "source": [
        "!touch data/sub/train/exer_file"
      ],
      "metadata": {
        "id": "_2TerD3hnoQK"
      },
      "execution_count": null,
      "outputs": []
    },
    {
      "cell_type": "code",
      "source": [
        "os.listdir(base_folder)"
      ],
      "metadata": {
        "colab": {
          "base_uri": "https://localhost:8080/"
        },
        "id": "GUXSrr8Jnsx7",
        "outputId": "469b1741-40c7-425e-fa19-c7a26b19a959"
      },
      "execution_count": null,
      "outputs": [
        {
          "output_type": "execute_result",
          "data": {
            "text/plain": [
              "['exer_file']"
            ]
          },
          "metadata": {},
          "execution_count": 78
        }
      ]
    },
    {
      "cell_type": "markdown",
      "source": [
        "폴더경로, 파일명 나누고 붙이기"
      ],
      "metadata": {
        "id": "IBAk3r4OoWio"
      }
    },
    {
      "cell_type": "code",
      "source": [
        "os.path.split('/content/data/sub/train/exer_file')"
      ],
      "metadata": {
        "colab": {
          "base_uri": "https://localhost:8080/"
        },
        "id": "6BqSGrxon2Fn",
        "outputId": "378e7674-023b-45ad-9039-54b7d45bd003"
      },
      "execution_count": null,
      "outputs": [
        {
          "output_type": "execute_result",
          "data": {
            "text/plain": [
              "('/content/data/sub/train', 'exer_file')"
            ]
          },
          "metadata": {},
          "execution_count": 79
        }
      ]
    },
    {
      "cell_type": "code",
      "source": [
        "os.path.join('/content/data/sub/train', 'exer_file')"
      ],
      "metadata": {
        "colab": {
          "base_uri": "https://localhost:8080/",
          "height": 35
        },
        "id": "xdErveD3n-mb",
        "outputId": "1c9df05f-f76e-49e6-b1d8-fbff026a4aee"
      },
      "execution_count": null,
      "outputs": [
        {
          "output_type": "execute_result",
          "data": {
            "text/plain": [
              "'/content/data/sub/train/exer_file'"
            ],
            "application/vnd.google.colaboratory.intrinsic+json": {
              "type": "string"
            }
          },
          "metadata": {},
          "execution_count": 80
        }
      ]
    },
    {
      "cell_type": "markdown",
      "source": [
        ""
      ],
      "metadata": {
        "id": "0Q3qkTvSo8qw"
      }
    },
    {
      "cell_type": "code",
      "source": [
        "import shutil"
      ],
      "metadata": {
        "id": "6ymhI8xFo930"
      },
      "execution_count": null,
      "outputs": []
    },
    {
      "cell_type": "markdown",
      "source": [
        "파일 복사 (어디에 있는걸 , 여기로)"
      ],
      "metadata": {
        "id": "1pekC-IMpKWh"
      }
    },
    {
      "cell_type": "code",
      "source": [
        "shutil.copy('/content/data/sub/train/exer_file', './')"
      ],
      "metadata": {
        "colab": {
          "base_uri": "https://localhost:8080/",
          "height": 35
        },
        "id": "myWShzfBpAf7",
        "outputId": "9e6b41c0-00bb-4a4e-ff50-3205f97d3d74"
      },
      "execution_count": null,
      "outputs": [
        {
          "output_type": "execute_result",
          "data": {
            "text/plain": [
              "'./exer_file'"
            ],
            "application/vnd.google.colaboratory.intrinsic+json": {
              "type": "string"
            }
          },
          "metadata": {},
          "execution_count": 82
        }
      ]
    },
    {
      "cell_type": "code",
      "source": [
        "ls"
      ],
      "metadata": {
        "colab": {
          "base_uri": "https://localhost:8080/"
        },
        "id": "DF0yDFk7pIwC",
        "outputId": "9f752b0c-ca9f-4e25-ba02-cc8557ac183c"
      },
      "execution_count": null,
      "outputs": [
        {
          "output_type": "stream",
          "name": "stdout",
          "text": [
            "\u001b[0m\u001b[01;34mdata\u001b[0m/      \u001b[01;32m__init__.py\u001b[0m*  python_module.py  test\n",
            "exer_file  \u001b[01;34m__pycache__\u001b[0m/  \u001b[01;34msample_data\u001b[0m/\n"
          ]
        }
      ]
    },
    {
      "cell_type": "code",
      "source": [
        "with open('test','w') as f:\n",
        "    f.write('test')"
      ],
      "metadata": {
        "id": "IAq6AZbrpT7b"
      },
      "execution_count": null,
      "outputs": []
    },
    {
      "cell_type": "code",
      "source": [
        "shutil.copy('test', 'output')"
      ],
      "metadata": {
        "colab": {
          "base_uri": "https://localhost:8080/",
          "height": 35
        },
        "id": "sPCwBymRprVU",
        "outputId": "e80b8234-91c0-416b-bb8d-cae8d2c17d9a"
      },
      "execution_count": null,
      "outputs": [
        {
          "output_type": "execute_result",
          "data": {
            "text/plain": [
              "'output'"
            ],
            "application/vnd.google.colaboratory.intrinsic+json": {
              "type": "string"
            }
          },
          "metadata": {},
          "execution_count": 87
        }
      ]
    },
    {
      "cell_type": "code",
      "source": [
        "ls"
      ],
      "metadata": {
        "colab": {
          "base_uri": "https://localhost:8080/"
        },
        "id": "n27JyL5mpwQO",
        "outputId": "d981f318-a1cb-4f7d-ee74-89b2746bda06"
      },
      "execution_count": null,
      "outputs": [
        {
          "output_type": "stream",
          "name": "stdout",
          "text": [
            "\u001b[0m\u001b[01;34mdata\u001b[0m/      \u001b[01;32m__init__.py\u001b[0m*  \u001b[01;34m__pycache__\u001b[0m/      \u001b[01;34msample_data\u001b[0m/\n",
            "exer_file  output        python_module.py  test\n"
          ]
        }
      ]
    },
    {
      "cell_type": "code",
      "source": [
        "import sys"
      ],
      "metadata": {
        "id": "VmyALjllqAxA"
      },
      "execution_count": null,
      "outputs": []
    },
    {
      "cell_type": "code",
      "source": [
        "!cp output input"
      ],
      "metadata": {
        "id": "ZiRg2U-lqB4n"
      },
      "execution_count": null,
      "outputs": []
    },
    {
      "cell_type": "code",
      "source": [
        "ls"
      ],
      "metadata": {
        "colab": {
          "base_uri": "https://localhost:8080/"
        },
        "id": "wUP7P9cSqD_3",
        "outputId": "4abfcd1c-8eab-44ae-ddbb-52909ed538c9"
      },
      "execution_count": null,
      "outputs": [
        {
          "output_type": "stream",
          "name": "stdout",
          "text": [
            "\u001b[0m\u001b[01;34mdata\u001b[0m/      \u001b[01;32m__init__.py\u001b[0m*  output        python_module.py  test\n",
            "exer_file  input         \u001b[01;34m__pycache__\u001b[0m/  \u001b[01;34msample_data\u001b[0m/\n"
          ]
        }
      ]
    },
    {
      "cell_type": "code",
      "source": [
        "pwd"
      ],
      "metadata": {
        "colab": {
          "base_uri": "https://localhost:8080/",
          "height": 35
        },
        "id": "51ypjbkLucnM",
        "outputId": "614444c9-bc78-463b-cf01-6e6be8193125"
      },
      "execution_count": null,
      "outputs": [
        {
          "output_type": "execute_result",
          "data": {
            "text/plain": [
              "'/content'"
            ],
            "application/vnd.google.colaboratory.intrinsic+json": {
              "type": "string"
            }
          },
          "metadata": {},
          "execution_count": 92
        }
      ]
    },
    {
      "cell_type": "code",
      "source": [
        "import os"
      ],
      "metadata": {
        "id": "-g8VOnpOuq0P"
      },
      "execution_count": null,
      "outputs": []
    },
    {
      "cell_type": "code",
      "source": [
        "os.makedirs('C:/Users/Administrator/cat_dog/train/dogs')"
      ],
      "metadata": {
        "colab": {
          "base_uri": "https://localhost:8080/",
          "height": 303
        },
        "id": "46Mnr0akudyF",
        "outputId": "7244ff89-a16f-4b18-fdd1-4d8bcee268cb"
      },
      "execution_count": null,
      "outputs": [
        {
          "output_type": "error",
          "ename": "FileExistsError",
          "evalue": "ignored",
          "traceback": [
            "\u001b[0;31m---------------------------------------------------------------------------\u001b[0m",
            "\u001b[0;31mFileExistsError\u001b[0m                           Traceback (most recent call last)",
            "\u001b[0;32m<ipython-input-107-240c10603ebe>\u001b[0m in \u001b[0;36m<module>\u001b[0;34m()\u001b[0m\n\u001b[0;32m----> 1\u001b[0;31m \u001b[0mos\u001b[0m\u001b[0;34m.\u001b[0m\u001b[0mmakedirs\u001b[0m\u001b[0;34m(\u001b[0m\u001b[0;34m'C:/Users/Administrator/cat_dog/train/dogs'\u001b[0m\u001b[0;34m)\u001b[0m\u001b[0;34m\u001b[0m\u001b[0;34m\u001b[0m\u001b[0m\n\u001b[0m",
            "\u001b[0;32m/usr/lib/python3.7/os.py\u001b[0m in \u001b[0;36mmakedirs\u001b[0;34m(name, mode, exist_ok)\u001b[0m\n\u001b[1;32m    221\u001b[0m             \u001b[0;32mreturn\u001b[0m\u001b[0;34m\u001b[0m\u001b[0;34m\u001b[0m\u001b[0m\n\u001b[1;32m    222\u001b[0m     \u001b[0;32mtry\u001b[0m\u001b[0;34m:\u001b[0m\u001b[0;34m\u001b[0m\u001b[0;34m\u001b[0m\u001b[0m\n\u001b[0;32m--> 223\u001b[0;31m         \u001b[0mmkdir\u001b[0m\u001b[0;34m(\u001b[0m\u001b[0mname\u001b[0m\u001b[0;34m,\u001b[0m \u001b[0mmode\u001b[0m\u001b[0;34m)\u001b[0m\u001b[0;34m\u001b[0m\u001b[0;34m\u001b[0m\u001b[0m\n\u001b[0m\u001b[1;32m    224\u001b[0m     \u001b[0;32mexcept\u001b[0m \u001b[0mOSError\u001b[0m\u001b[0;34m:\u001b[0m\u001b[0;34m\u001b[0m\u001b[0;34m\u001b[0m\u001b[0m\n\u001b[1;32m    225\u001b[0m         \u001b[0;31m# Cannot rely on checking for EEXIST, since the operating system\u001b[0m\u001b[0;34m\u001b[0m\u001b[0;34m\u001b[0m\u001b[0;34m\u001b[0m\u001b[0m\n",
            "\u001b[0;31mFileExistsError\u001b[0m: [Errno 17] File exists: 'C:/Users/Administrator/cat_dog/train/dogs'"
          ]
        }
      ]
    },
    {
      "cell_type": "code",
      "source": [
        "os.makedirs('C:/Users/Administrator/cat_dog/train/cats')"
      ],
      "metadata": {
        "id": "Jp0GAqR6uxjl"
      },
      "execution_count": null,
      "outputs": []
    },
    {
      "cell_type": "code",
      "source": [
        "os.makedirs('C:/Users/Administrator/cat_dog/validation/dogs')"
      ],
      "metadata": {
        "id": "FrqGv0n2uz9a"
      },
      "execution_count": null,
      "outputs": []
    },
    {
      "cell_type": "code",
      "source": [
        "os.makedirs('C:/Users/Administrator/cat_dog/validation/cats')"
      ],
      "metadata": {
        "id": "Z7XwhDJMu5Mr"
      },
      "execution_count": null,
      "outputs": []
    },
    {
      "cell_type": "code",
      "source": [
        "os.makedirs('C:/Users/Administrator/cat_dog/test/dogs')"
      ],
      "metadata": {
        "id": "73FWxCpOu7gK"
      },
      "execution_count": null,
      "outputs": []
    },
    {
      "cell_type": "code",
      "source": [
        "os.makedirs('C:/Users/Administrator/cat_dog/test/cats')"
      ],
      "metadata": {
        "id": "5Q189sJcu9d7"
      },
      "execution_count": null,
      "outputs": []
    },
    {
      "cell_type": "code",
      "source": [
        "os.rmdir('./C:')"
      ],
      "metadata": {
        "colab": {
          "base_uri": "https://localhost:8080/",
          "height": 174
        },
        "id": "rHV_-yN1w-7P",
        "outputId": "c1f54761-0d1c-4c9a-be00-cbdc49359b94"
      },
      "execution_count": null,
      "outputs": [
        {
          "output_type": "error",
          "ename": "OSError",
          "evalue": "ignored",
          "traceback": [
            "\u001b[0;31m---------------------------------------------------------------------------\u001b[0m",
            "\u001b[0;31mOSError\u001b[0m                                   Traceback (most recent call last)",
            "\u001b[0;32m<ipython-input-108-11de9adfb004>\u001b[0m in \u001b[0;36m<module>\u001b[0;34m()\u001b[0m\n\u001b[0;32m----> 1\u001b[0;31m \u001b[0mos\u001b[0m\u001b[0;34m.\u001b[0m\u001b[0mrmdir\u001b[0m\u001b[0;34m(\u001b[0m\u001b[0;34m'./C:'\u001b[0m\u001b[0;34m)\u001b[0m\u001b[0;34m\u001b[0m\u001b[0;34m\u001b[0m\u001b[0m\n\u001b[0m",
            "\u001b[0;31mOSError\u001b[0m: [Errno 39] Directory not empty: './C:'"
          ]
        }
      ]
    },
    {
      "cell_type": "code",
      "source": [
        "import os\n",
        "import shutil\n",
        "\n",
        "#path 파일이 위치한 폴더\n",
        "path = 'C:/Users/Administrator/Desktop/cats_and_dogs/train/'\n",
        "#new_path 복사할 경로\n",
        "new_path = 'C:/Users/Administrator/cat_dog/train/dogs/'\n",
        "\n",
        "#파일 추출\n",
        "\n",
        "for i in range(1000):\n",
        "    print(f'cat.{i}.jpg')\n",
        "    \n",
        "#파일 존재 여부\n",
        "if not os.path.exists(new_path):\n",
        "    os.mkdir(new_path)\n",
        "\n",
        "#파일 복사\n",
        "for j in files():\n",
        "    if 'jpg' in j:\n",
        "        shutil.copy(path + j, new_path + j)\n",
        "        print('{} 복사완료'.format(j))"
      ],
      "metadata": {
        "id": "xoCJMdglzIZK"
      },
      "execution_count": null,
      "outputs": []
    },
    {
      "cell_type": "markdown",
      "source": [
        "정규 표현식 "
      ],
      "metadata": {
        "id": "pvfzHj2sJjVK"
      }
    },
    {
      "cell_type": "code",
      "source": [
        "import re"
      ],
      "metadata": {
        "id": "YEX-UoPC7HZQ"
      },
      "execution_count": null,
      "outputs": []
    },
    {
      "cell_type": "code",
      "source": [
        "cat\n",
        "cbt\n",
        "cct"
      ],
      "metadata": {
        "colab": {
          "base_uri": "https://localhost:8080/",
          "height": 211
        },
        "id": "IHUSjow-Lwgn",
        "outputId": "b9aa58b1-1987-4e80-c09a-4853a791ef5b"
      },
      "execution_count": null,
      "outputs": [
        {
          "output_type": "error",
          "ename": "NameError",
          "evalue": "ignored",
          "traceback": [
            "\u001b[0;31m---------------------------------------------------------------------------\u001b[0m",
            "\u001b[0;31mNameError\u001b[0m                                 Traceback (most recent call last)",
            "\u001b[0;32m<ipython-input-113-faed51a1ce2b>\u001b[0m in \u001b[0;36m<module>\u001b[0;34m()\u001b[0m\n\u001b[0;32m----> 1\u001b[0;31m \u001b[0mcat\u001b[0m\u001b[0;34m\u001b[0m\u001b[0;34m\u001b[0m\u001b[0m\n\u001b[0m\u001b[1;32m      2\u001b[0m \u001b[0mcbt\u001b[0m\u001b[0;34m\u001b[0m\u001b[0;34m\u001b[0m\u001b[0m\n\u001b[1;32m      3\u001b[0m \u001b[0mcct\u001b[0m\u001b[0;34m\u001b[0m\u001b[0;34m\u001b[0m\u001b[0m\n",
            "\u001b[0;31mNameError\u001b[0m: name 'cat' is not defined"
          ]
        }
      ]
    },
    {
      "cell_type": "code",
      "source": [
        "re.match('c?t','cbt')"
      ],
      "metadata": {
        "id": "LgOAioy9Lyp6"
      },
      "execution_count": null,
      "outputs": []
    },
    {
      "cell_type": "code",
      "source": [
        "ls sample_data/*.csv"
      ],
      "metadata": {
        "colab": {
          "base_uri": "https://localhost:8080/"
        },
        "id": "3UF7rQelzrqz",
        "outputId": "39aadfff-1131-41dc-b163-5f451d3604a0"
      },
      "execution_count": null,
      "outputs": [
        {
          "output_type": "stream",
          "name": "stdout",
          "text": [
            "sample_data/california_housing_test.csv   sample_data/mnist_test.csv\n",
            "sample_data/california_housing_train.csv  sample_data/mnist_train_small.csv\n"
          ]
        }
      ]
    },
    {
      "cell_type": "code",
      "source": [
        "middle_dir = ['test','train','validation']"
      ],
      "metadata": {
        "id": "ZmnhoppicydX"
      },
      "execution_count": null,
      "outputs": []
    },
    {
      "cell_type": "code",
      "source": [
        "dir_name = ['cats', 'dogs']"
      ],
      "metadata": {
        "id": "8aJClddcdEmC"
      },
      "execution_count": null,
      "outputs": []
    },
    {
      "cell_type": "code",
      "source": [
        "import os"
      ],
      "metadata": {
        "id": "harl-PhDcrNM"
      },
      "execution_count": null,
      "outputs": []
    },
    {
      "cell_type": "code",
      "source": [
        "for i in middle_dir:\n",
        "    for j in dir_name:\n",
        "        target_dir = base_dir + '/'+i+'/'+j\n",
        "        os.makedirs(target_dir)"
      ],
      "metadata": {
        "id": "hKk2mbfTcs_H"
      },
      "execution_count": null,
      "outputs": []
    },
    {
      "cell_type": "code",
      "source": [
        "for i in range(0,2000):\n",
        "    fn = f'cat {i}.jpg'\n",
        "    source = file_path +fn\n",
        "    dest = file_mv+'train'\n"
      ],
      "metadata": {
        "id": "aJHu7AKKdYDt"
      },
      "execution_count": null,
      "outputs": []
    },
    {
      "cell_type": "code",
      "source": [
        "import re"
      ],
      "metadata": {
        "id": "3Rexc2-dkVRW"
      },
      "execution_count": null,
      "outputs": []
    },
    {
      "cell_type": "code",
      "source": [
        "re.match('https?','https')"
      ],
      "metadata": {
        "colab": {
          "base_uri": "https://localhost:8080/"
        },
        "id": "vWNs6iZYkXey",
        "outputId": "4f9204ef-d4fa-4d5e-eac7-ecd4c9d3e090"
      },
      "execution_count": null,
      "outputs": [
        {
          "output_type": "execute_result",
          "data": {
            "text/plain": [
              "<re.Match object; span=(0, 5), match='https'>"
            ]
          },
          "metadata": {},
          "execution_count": 117
        }
      ]
    },
    {
      "cell_type": "code",
      "source": [
        "re.match('a[0-5]c','a2c')"
      ],
      "metadata": {
        "colab": {
          "base_uri": "https://localhost:8080/"
        },
        "id": "VnORhbtWk0Nl",
        "outputId": "08b1d935-0568-4ccb-dcbc-42812ad7c0a1"
      },
      "execution_count": null,
      "outputs": [
        {
          "output_type": "execute_result",
          "data": {
            "text/plain": [
              "<re.Match object; span=(0, 3), match='a2c'>"
            ]
          },
          "metadata": {},
          "execution_count": 118
        }
      ]
    },
    {
      "cell_type": "code",
      "source": [
        "cat\n",
        "cbt\n",
        "cct\n"
      ],
      "metadata": {
        "id": "qCFCAihUmlRW"
      },
      "execution_count": null,
      "outputs": []
    },
    {
      "cell_type": "code",
      "source": [
        "re.match('c[abc]t','cbt')"
      ],
      "metadata": {
        "colab": {
          "base_uri": "https://localhost:8080/"
        },
        "id": "Ef8rQ54Dmn_P",
        "outputId": "d3276b21-a67d-46cd-a482-5cd28ec364f2"
      },
      "execution_count": null,
      "outputs": [
        {
          "output_type": "execute_result",
          "data": {
            "text/plain": [
              "<re.Match object; span=(0, 3), match='cbt'>"
            ]
          },
          "metadata": {},
          "execution_count": 119
        }
      ]
    },
    {
      "cell_type": "code",
      "source": [
        "print(re.match('c[abc]t','cct'))\n",
        "print(re.match('c[abc]t','cat'))\n",
        "print(re.match('c[abc]t','ct'))"
      ],
      "metadata": {
        "colab": {
          "base_uri": "https://localhost:8080/"
        },
        "id": "uIYDWm6zmvq5",
        "outputId": "ed294d61-6cd0-42b2-8c53-a6d13bfb0a64"
      },
      "execution_count": null,
      "outputs": [
        {
          "output_type": "stream",
          "name": "stdout",
          "text": [
            "<re.Match object; span=(0, 3), match='cct'>\n",
            "<re.Match object; span=(0, 3), match='cat'>\n",
            "None\n"
          ]
        }
      ]
    },
    {
      "cell_type": "markdown",
      "source": [
        "**참조할 Method()들**\n",
        "\n",
        "group() 매치된 문자열을 돌려준다.\n",
        "\n",
        "start() 매치된 문자열의 시작위치를 \n",
        "돌려준다.\n",
        "\n",
        "end() 매치된 문자열의 끝 위치를 돌려준다.\n",
        "\n",
        "span() 매치된 문자열의 (시작,끝)에 해당하는 튜플을 돌려준다."
      ],
      "metadata": {
        "id": "ObmzGWjKnGfM"
      }
    },
    {
      "cell_type": "code",
      "source": [
        "re.match('[1-4]','84567')"
      ],
      "metadata": {
        "id": "hCsFX8gFnR_g"
      },
      "execution_count": null,
      "outputs": []
    },
    {
      "cell_type": "code",
      "source": [
        "re.match('[1-4]','284567').group()"
      ],
      "metadata": {
        "colab": {
          "base_uri": "https://localhost:8080/",
          "height": 35
        },
        "id": "AVbic4N2nfno",
        "outputId": "bf8febe0-90aa-4e83-c1e2-11c96561913b"
      },
      "execution_count": null,
      "outputs": [
        {
          "output_type": "execute_result",
          "data": {
            "text/plain": [
              "'2'"
            ],
            "application/vnd.google.colaboratory.intrinsic+json": {
              "type": "string"
            }
          },
          "metadata": {},
          "execution_count": 121
        }
      ]
    },
    {
      "cell_type": "code",
      "source": [
        "print(re.match('[0-9]','567').group())\n",
        "print(re.match('[1-4]','45367').group())\n",
        "print(re.match('5[1-4]','51267').group())\n",
        "print(re.match('[0-9]+','512367').group())"
      ],
      "metadata": {
        "colab": {
          "base_uri": "https://localhost:8080/"
        },
        "id": "FHGyF55Onl4R",
        "outputId": "9cb57e8b-9fce-49f2-a619-610de6edbf43"
      },
      "execution_count": null,
      "outputs": [
        {
          "output_type": "stream",
          "name": "stdout",
          "text": [
            "5\n",
            "4\n",
            "51\n",
            "512367\n"
          ]
        }
      ]
    },
    {
      "cell_type": "code",
      "source": [
        "print(re.match('[0-9]','3245').group())\n",
        "print(re.match('\\d','3245').group())"
      ],
      "metadata": {
        "colab": {
          "base_uri": "https://localhost:8080/"
        },
        "id": "YkVNA4YXqCj0",
        "outputId": "68a83bff-47df-4aa9-d088-609904f44f8c"
      },
      "execution_count": null,
      "outputs": [
        {
          "output_type": "stream",
          "name": "stdout",
          "text": [
            "3\n",
            "3\n"
          ]
        }
      ]
    },
    {
      "cell_type": "code",
      "source": [
        "print(re.match('[0-9]+','3245').group())\n",
        "print(re.match('\\d+','3245').group())"
      ],
      "metadata": {
        "colab": {
          "base_uri": "https://localhost:8080/"
        },
        "id": "dUcbbNXvqRJY",
        "outputId": "0de96e98-08f0-4d9a-abaf-185bee8e3873"
      },
      "execution_count": null,
      "outputs": [
        {
          "output_type": "stream",
          "name": "stdout",
          "text": [
            "3245\n",
            "3245\n"
          ]
        }
      ]
    },
    {
      "cell_type": "code",
      "source": [
        "print(re.match('https?','https'))"
      ],
      "metadata": {
        "colab": {
          "base_uri": "https://localhost:8080/"
        },
        "id": "he4sRYwgqmoe",
        "outputId": "15d9f1f9-f099-42d0-90a2-870d85915a10"
      },
      "execution_count": null,
      "outputs": [
        {
          "output_type": "stream",
          "name": "stdout",
          "text": [
            "<re.Match object; span=(0, 5), match='https'>\n"
          ]
        }
      ]
    },
    {
      "cell_type": "code",
      "source": [
        "print(re.match(r'https?','http'))\n",
        "#r 은 데이타와 문자가 혼동될 때 쓰는기법"
      ],
      "metadata": {
        "colab": {
          "base_uri": "https://localhost:8080/"
        },
        "id": "lASCSOQ8qfBN",
        "outputId": "8d79a73b-071a-454c-d78c-1bb0e1c932d9"
      },
      "execution_count": null,
      "outputs": [
        {
          "output_type": "stream",
          "name": "stdout",
          "text": [
            "<re.Match object; span=(0, 4), match='http'>\n"
          ]
        }
      ]
    },
    {
      "cell_type": "code",
      "source": [
        "re.match('python','10 python')"
      ],
      "metadata": {
        "id": "zTuN3lt4rca4"
      },
      "execution_count": null,
      "outputs": []
    },
    {
      "cell_type": "code",
      "source": [
        "re.search('python','10 python').span()"
      ],
      "metadata": {
        "colab": {
          "base_uri": "https://localhost:8080/"
        },
        "id": "ra1-nmgorgmF",
        "outputId": "9ce5b0a5-0e70-4aa2-b19f-376fc3f88d1e"
      },
      "execution_count": null,
      "outputs": [
        {
          "output_type": "execute_result",
          "data": {
            "text/plain": [
              "(3, 9)"
            ]
          },
          "metadata": {},
          "execution_count": 132
        }
      ]
    },
    {
      "cell_type": "markdown",
      "source": [
        "- findall: 인수 문자열에서 패턴을 만족하는 모든 문자열을 추출한다.\n",
        "\n",
        "- 인수 문자열 : 검색대상이 되는 문자열을 지칭\n",
        "\n",
        "- 패턴 : 찾으려 하는 문자열 형식"
      ],
      "metadata": {
        "id": "zuMeRRpYrvh6"
      }
    },
    {
      "cell_type": "code",
      "source": [
        "re.findall('[a-z]+','python 3 version programing')"
      ],
      "metadata": {
        "colab": {
          "base_uri": "https://localhost:8080/"
        },
        "id": "GnNlLxE9r9TW",
        "outputId": "97a660b8-b163-422b-e0d7-9f8d23a68184"
      },
      "execution_count": null,
      "outputs": [
        {
          "output_type": "execute_result",
          "data": {
            "text/plain": [
              "['python', 'version', 'programing']"
            ]
          },
          "metadata": {},
          "execution_count": 133
        }
      ]
    },
    {
      "cell_type": "code",
      "source": [
        "re.findall('[a-z]+','python 3 version programing').group()"
      ],
      "metadata": {
        "colab": {
          "base_uri": "https://localhost:8080/",
          "height": 174
        },
        "id": "kiGRULfIsMMy",
        "outputId": "b0c40c58-167b-4381-f772-90aed8bf98b3"
      },
      "execution_count": null,
      "outputs": [
        {
          "output_type": "error",
          "ename": "AttributeError",
          "evalue": "ignored",
          "traceback": [
            "\u001b[0;31m---------------------------------------------------------------------------\u001b[0m",
            "\u001b[0;31mAttributeError\u001b[0m                            Traceback (most recent call last)",
            "\u001b[0;32m<ipython-input-134-0119496601fc>\u001b[0m in \u001b[0;36m<module>\u001b[0;34m()\u001b[0m\n\u001b[0;32m----> 1\u001b[0;31m \u001b[0mre\u001b[0m\u001b[0;34m.\u001b[0m\u001b[0mfindall\u001b[0m\u001b[0;34m(\u001b[0m\u001b[0;34m'[a-z]+'\u001b[0m\u001b[0;34m,\u001b[0m\u001b[0;34m'python 3 version programing'\u001b[0m\u001b[0;34m)\u001b[0m\u001b[0;34m.\u001b[0m\u001b[0mgroup\u001b[0m\u001b[0;34m(\u001b[0m\u001b[0;34m)\u001b[0m\u001b[0;34m\u001b[0m\u001b[0;34m\u001b[0m\u001b[0m\n\u001b[0m",
            "\u001b[0;31mAttributeError\u001b[0m: 'list' object has no attribute 'group'"
          ]
        }
      ]
    },
    {
      "cell_type": "markdown",
      "source": [
        "- compile: 인수 패턴을 컴파일 하여 정규식 객체를 반환한다."
      ],
      "metadata": {
        "id": "LehJJhp7sn-Q"
      }
    },
    {
      "cell_type": "code",
      "source": [
        "print(re.search(r'[A-Z]','a =123 : B = 456'))\n",
        "print(re.search(r'[a-z]','a =123'))"
      ],
      "metadata": {
        "colab": {
          "base_uri": "https://localhost:8080/"
        },
        "id": "AYIwCQc6swMP",
        "outputId": "46a85087-ebe5-47ea-be84-6f5562e3d58f"
      },
      "execution_count": null,
      "outputs": [
        {
          "output_type": "stream",
          "name": "stdout",
          "text": [
            "<re.Match object; span=(9, 10), match='B'>\n",
            "<re.Match object; span=(0, 1), match='a'>\n"
          ]
        }
      ]
    },
    {
      "cell_type": "code",
      "source": [
        "p = re.compile(r'[a-z]')"
      ],
      "metadata": {
        "id": "GVxknVaLtE9z"
      },
      "execution_count": null,
      "outputs": []
    },
    {
      "cell_type": "code",
      "source": [
        "p.match('a=123')"
      ],
      "metadata": {
        "colab": {
          "base_uri": "https://localhost:8080/"
        },
        "id": "iWWWg-u6tIYE",
        "outputId": "99e7f0d5-1b21-486c-8fcf-55b7a3930938"
      },
      "execution_count": null,
      "outputs": [
        {
          "output_type": "execute_result",
          "data": {
            "text/plain": [
              "<re.Match object; span=(0, 1), match='a'>"
            ]
          },
          "metadata": {},
          "execution_count": 138
        }
      ]
    },
    {
      "cell_type": "code",
      "source": [
        "n = p.search('a=123')"
      ],
      "metadata": {
        "id": "I-tzF-HWtv3R"
      },
      "execution_count": null,
      "outputs": []
    },
    {
      "cell_type": "code",
      "source": [
        "n"
      ],
      "metadata": {
        "colab": {
          "base_uri": "https://localhost:8080/"
        },
        "id": "brO5wRpetzEp",
        "outputId": "b242f8fb-f137-482d-b2ca-a1c652fff768"
      },
      "execution_count": null,
      "outputs": [
        {
          "output_type": "execute_result",
          "data": {
            "text/plain": [
              "<re.Match object; span=(0, 1), match='a'>"
            ]
          },
          "metadata": {},
          "execution_count": 140
        }
      ]
    },
    {
      "cell_type": "code",
      "source": [
        "p = re.compile(r'([A-Za-z]\\w*)\\s*=\\s*(\\d+)')\n",
        "m = p.search('a =123')\n",
        "m.groups()"
      ],
      "metadata": {
        "colab": {
          "base_uri": "https://localhost:8080/"
        },
        "id": "7hL6uaD6xAWe",
        "outputId": "366a0107-480b-4a47-bde9-aea3c4f575ec"
      },
      "execution_count": null,
      "outputs": [
        {
          "output_type": "execute_result",
          "data": {
            "text/plain": [
              "('a', '123')"
            ]
          },
          "metadata": {},
          "execution_count": 141
        }
      ]
    },
    {
      "cell_type": "code",
      "source": [
        "p = re.compile('(\\d{6})[-]\\d{7}')\n",
        "#주민번호"
      ],
      "metadata": {
        "id": "0XRhg-DwynQC"
      },
      "execution_count": null,
      "outputs": []
    },
    {
      "cell_type": "code",
      "source": [
        "import random"
      ],
      "metadata": {
        "id": "4xQ6qwtr4ih7"
      },
      "execution_count": null,
      "outputs": []
    },
    {
      "cell_type": "code",
      "source": [
        "data_list = range(1,46)"
      ],
      "metadata": {
        "id": "buE18zwF4khT"
      },
      "execution_count": null,
      "outputs": []
    },
    {
      "cell_type": "code",
      "source": [
        "list(data_list)"
      ],
      "metadata": {
        "id": "vk_Wh13i4n_i"
      },
      "execution_count": null,
      "outputs": []
    },
    {
      "cell_type": "code",
      "source": [
        "random.sample(data_list,6)"
      ],
      "metadata": {
        "colab": {
          "base_uri": "https://localhost:8080/"
        },
        "id": "Z8WDGUNi4u-3",
        "outputId": "3d3af9fd-f43b-4185-9658-862e87386412"
      },
      "execution_count": null,
      "outputs": [
        {
          "output_type": "execute_result",
          "data": {
            "text/plain": [
              "[19, 15, 31, 41, 32, 35]"
            ]
          },
          "metadata": {},
          "execution_count": 147
        }
      ]
    },
    {
      "cell_type": "code",
      "source": [
        "raffle_list = []\n",
        "for i in range(100000):\n",
        "    raffle_number = random.sample(data_list ,6)\n",
        "    raffle_list.append(raffle_number)\n",
        "    "
      ],
      "metadata": {
        "id": "lf0KCQUK4144"
      },
      "execution_count": null,
      "outputs": []
    },
    {
      "cell_type": "code",
      "source": [
        "len(raffle_list)"
      ],
      "metadata": {
        "colab": {
          "base_uri": "https://localhost:8080/"
        },
        "id": "eqFEimjP5XPX",
        "outputId": "a6960d5c-c110-42b5-babc-4c76779f1995"
      },
      "execution_count": null,
      "outputs": [
        {
          "output_type": "execute_result",
          "data": {
            "text/plain": [
              "100000"
            ]
          },
          "metadata": {},
          "execution_count": 149
        }
      ]
    },
    {
      "cell_type": "code",
      "source": [
        "random.choice(raffle_list)"
      ],
      "metadata": {
        "colab": {
          "base_uri": "https://localhost:8080/"
        },
        "id": "mSxfmEOy5ZIj",
        "outputId": "117d6e1b-fd97-4065-f678-9f07fc6befb2"
      },
      "execution_count": null,
      "outputs": [
        {
          "output_type": "execute_result",
          "data": {
            "text/plain": [
              "[32, 3, 26, 30, 8, 15]"
            ]
          },
          "metadata": {},
          "execution_count": 155
        }
      ]
    },
    {
      "cell_type": "code",
      "source": [
        "import folium\n",
        "#지도 다루기"
      ],
      "metadata": {
        "id": "XS1FFkhB-znm"
      },
      "execution_count": null,
      "outputs": []
    },
    {
      "cell_type": "code",
      "source": [
        "def FoliumMap(datas, save_files):\n",
        "    maps = folium.Map(location=[37.5602, 126.982], zoom_start = 7, tiles= 'Stamen Terrain') #지도 열었을 때, 어디가 나오는지\n",
        "\n",
        "    for name in datas:\n",
        "        latitude = datas[name][0]#위도\n",
        "        longitude = datas[name][1]#경도\n",
        "        folium.CircleMarker([latitude, longitude], radius =4, color='red', fill_color='red',popup=name).add_to(maps)\n",
        "    maps.save(save_files)"
      ],
      "metadata": {
        "id": "91qAInKV-3B6"
      },
      "execution_count": null,
      "outputs": []
    },
    {
      "cell_type": "code",
      "source": [
        "data ={\n",
        "    'Ieodo':[32.116883, 125.166683]\n",
        "}"
      ],
      "metadata": {
        "id": "f_7EttrL_ZIQ"
      },
      "execution_count": null,
      "outputs": []
    },
    {
      "cell_type": "code",
      "source": [
        "FoliumMap(data, 'test.html')"
      ],
      "metadata": {
        "id": "C4nMU9IjBffI"
      },
      "execution_count": null,
      "outputs": []
    },
    {
      "cell_type": "code",
      "source": [
        "import json"
      ],
      "metadata": {
        "id": "L9Uo3mJtHjsO"
      },
      "execution_count": null,
      "outputs": []
    },
    {
      "cell_type": "code",
      "source": [
        "with open('restroom.json') as f:\n",
        "    datas = json.load(f)"
      ],
      "metadata": {
        "id": "LX5k6cJ4LLKs",
        "colab": {
          "base_uri": "https://localhost:8080/",
          "height": 193
        },
        "outputId": "3dd240d5-3b01-47b1-9ff5-553cc084d2ea"
      },
      "execution_count": null,
      "outputs": [
        {
          "output_type": "error",
          "ename": "FileNotFoundError",
          "evalue": "ignored",
          "traceback": [
            "\u001b[0;31m---------------------------------------------------------------------------\u001b[0m",
            "\u001b[0;31mFileNotFoundError\u001b[0m                         Traceback (most recent call last)",
            "\u001b[0;32m<ipython-input-3-82ff8b3cc85e>\u001b[0m in \u001b[0;36m<module>\u001b[0;34m()\u001b[0m\n\u001b[0;32m----> 1\u001b[0;31m \u001b[0;32mwith\u001b[0m \u001b[0mopen\u001b[0m\u001b[0;34m(\u001b[0m\u001b[0;34m'restroom.json'\u001b[0m\u001b[0;34m)\u001b[0m \u001b[0;32mas\u001b[0m \u001b[0mf\u001b[0m\u001b[0;34m:\u001b[0m\u001b[0;34m\u001b[0m\u001b[0;34m\u001b[0m\u001b[0m\n\u001b[0m\u001b[1;32m      2\u001b[0m     \u001b[0mdatas\u001b[0m \u001b[0;34m=\u001b[0m \u001b[0mjson\u001b[0m\u001b[0;34m.\u001b[0m\u001b[0mload\u001b[0m\u001b[0;34m(\u001b[0m\u001b[0mf\u001b[0m\u001b[0;34m)\u001b[0m\u001b[0;34m\u001b[0m\u001b[0;34m\u001b[0m\u001b[0m\n",
            "\u001b[0;31mFileNotFoundError\u001b[0m: [Errno 2] No such file or directory: 'restroom.json'"
          ]
        }
      ]
    },
    {
      "cell_type": "code",
      "source": [
        "len(datas)"
      ],
      "metadata": {
        "colab": {
          "base_uri": "https://localhost:8080/"
        },
        "id": "I8TKDtVjLhk5",
        "outputId": "5f3ab92e-3dd2-4007-bfca-8672fa7d581b"
      },
      "execution_count": null,
      "outputs": [
        {
          "output_type": "execute_result",
          "data": {
            "text/plain": [
              "11083"
            ]
          },
          "metadata": {},
          "execution_count": 170
        }
      ]
    },
    {
      "cell_type": "code",
      "source": [
        "datas[0][12]"
      ],
      "metadata": {
        "colab": {
          "base_uri": "https://localhost:8080/",
          "height": 174
        },
        "id": "-qfKDUYlLevC",
        "outputId": "dcee6e08-2116-4d08-a006-46114ad854ae"
      },
      "execution_count": null,
      "outputs": [
        {
          "output_type": "error",
          "ename": "NameError",
          "evalue": "ignored",
          "traceback": [
            "\u001b[0;31m---------------------------------------------------------------------------\u001b[0m",
            "\u001b[0;31mNameError\u001b[0m                                 Traceback (most recent call last)",
            "\u001b[0;32m<ipython-input-1-5b4f6aa8d9fc>\u001b[0m in \u001b[0;36m<module>\u001b[0;34m()\u001b[0m\n\u001b[0;32m----> 1\u001b[0;31m \u001b[0mdatas\u001b[0m\u001b[0;34m[\u001b[0m\u001b[0;36m0\u001b[0m\u001b[0;34m]\u001b[0m\u001b[0;34m[\u001b[0m\u001b[0;36m12\u001b[0m\u001b[0;34m]\u001b[0m\u001b[0;34m\u001b[0m\u001b[0;34m\u001b[0m\u001b[0m\n\u001b[0m",
            "\u001b[0;31mNameError\u001b[0m: name 'datas' is not defined"
          ]
        }
      ]
    },
    {
      "cell_type": "code",
      "source": [
        ""
      ],
      "metadata": {
        "id": "QyNAhmkWf6Cs"
      },
      "execution_count": null,
      "outputs": []
    },
    {
      "cell_type": "code",
      "source": [
        " encoding ='utf-8'\n",
        " encoding = 'cp949'\n",
        " encoding = 'euc-kr'"
      ],
      "metadata": {
        "id": "514E8HjRMWXQ"
      },
      "execution_count": null,
      "outputs": []
    },
    {
      "cell_type": "markdown",
      "source": [
        "모든 화장실 위치 지도에 표시하기\n",
        "(위도 경도, 이름)"
      ],
      "metadata": {
        "id": "m-2X--9oO9fM"
      }
    }
  ]
}