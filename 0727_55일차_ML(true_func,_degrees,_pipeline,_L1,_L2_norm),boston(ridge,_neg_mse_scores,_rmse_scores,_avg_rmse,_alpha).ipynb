{
  "nbformat": 4,
  "nbformat_minor": 0,
  "metadata": {
    "colab": {
      "name": "0727 55일차 ML(true_func, degrees, pipeline, L1, L2 norm),boston(ridge, neg_mse_scores, rmse_scores, avg_rmse, alpha).ipynb",
      "provenance": [],
      "collapsed_sections": [],
      "authorship_tag": "ABX9TyPdO8MZWO/lxPVAD9N/xEV7",
      "include_colab_link": true
    },
    "kernelspec": {
      "name": "python3",
      "display_name": "Python 3"
    },
    "language_info": {
      "name": "python"
    }
  },
  "cells": [
    {
      "cell_type": "markdown",
      "metadata": {
        "id": "view-in-github",
        "colab_type": "text"
      },
      "source": [
        "<a href=\"https://colab.research.google.com/github/myungjinma/acorn_python/blob/main/0727_55%EC%9D%BC%EC%B0%A8_ML(true_func%2C_degrees%2C_pipeline%2C_L1%2C_L2_norm)%2Cboston(ridge%2C_neg_mse_scores%2C_rmse_scores%2C_avg_rmse%2C_alpha).ipynb\" target=\"_parent\"><img src=\"https://colab.research.google.com/assets/colab-badge.svg\" alt=\"Open In Colab\"/></a>"
      ]
    },
    {
      "cell_type": "code",
      "execution_count": 31,
      "metadata": {
        "id": "qVmMCb0iB24p"
      },
      "outputs": [],
      "source": [
        "import numpy as np\n",
        "import matplotlib.pyplot as plt\n",
        "%matplotlib inline\n",
        "from sklearn.pipeline import Pipeline\n",
        "from sklearn.preprocessing import  PolynomialFeatures\n",
        "from sklearn.linear_model import LinearRegression\n",
        "from sklearn.model_selection import cross_val_score"
      ]
    },
    {
      "cell_type": "code",
      "source": [
        "def true_func(X):\n",
        "  return np.cos(1.5 * np.pi * X)"
      ],
      "metadata": {
        "id": "imYsDE8LCjZc"
      },
      "execution_count": 33,
      "outputs": []
    },
    {
      "cell_type": "code",
      "source": [
        "np.random.rand(4)"
      ],
      "metadata": {
        "colab": {
          "base_uri": "https://localhost:8080/"
        },
        "id": "AM5rn5QPCqSe",
        "outputId": "c45561eb-86ff-41d5-990f-de6dabb2543a"
      },
      "execution_count": 34,
      "outputs": [
        {
          "output_type": "execute_result",
          "data": {
            "text/plain": [
              "array([0.19658236, 0.36872517, 0.82099323, 0.09710128])"
            ]
          },
          "metadata": {},
          "execution_count": 34
        }
      ]
    },
    {
      "cell_type": "code",
      "source": [
        "np.random.seed(0)\n",
        "n_samples =30\n",
        "X = np.sort(np.random.rand(n_samples))"
      ],
      "metadata": {
        "id": "g3ZcPbpCCsUE"
      },
      "execution_count": 35,
      "outputs": []
    },
    {
      "cell_type": "code",
      "source": [
        "X"
      ],
      "metadata": {
        "colab": {
          "base_uri": "https://localhost:8080/"
        },
        "id": "LEJAhIy5CzKr",
        "outputId": "ba146df8-8578-4a8e-e76c-5e70716aa7fa"
      },
      "execution_count": 36,
      "outputs": [
        {
          "output_type": "execute_result",
          "data": {
            "text/plain": [
              "array([0.0202184 , 0.07103606, 0.0871293 , 0.11827443, 0.14335329,\n",
              "       0.38344152, 0.41466194, 0.4236548 , 0.43758721, 0.46147936,\n",
              "       0.52184832, 0.52889492, 0.54488318, 0.5488135 , 0.56804456,\n",
              "       0.60276338, 0.63992102, 0.64589411, 0.71518937, 0.77815675,\n",
              "       0.78052918, 0.79172504, 0.79915856, 0.83261985, 0.87001215,\n",
              "       0.891773  , 0.92559664, 0.94466892, 0.96366276, 0.97861834])"
            ]
          },
          "metadata": {},
          "execution_count": 36
        }
      ]
    },
    {
      "cell_type": "code",
      "source": [
        "X.shape"
      ],
      "metadata": {
        "colab": {
          "base_uri": "https://localhost:8080/"
        },
        "id": "xDuRQfrjC2OG",
        "outputId": "344f00b3-d5a4-4e25-e99a-00c9eb782dcd"
      },
      "execution_count": 37,
      "outputs": [
        {
          "output_type": "execute_result",
          "data": {
            "text/plain": [
              "(30,)"
            ]
          },
          "metadata": {},
          "execution_count": 37
        }
      ]
    },
    {
      "cell_type": "code",
      "source": [
        "y = true_func(X) + np.random.randn(n_samples) * 0.1"
      ],
      "metadata": {
        "id": "iXsM96ntDqZr"
      },
      "execution_count": 38,
      "outputs": []
    },
    {
      "cell_type": "code",
      "source": [
        "plt.scatter(X, y)"
      ],
      "metadata": {
        "colab": {
          "base_uri": "https://localhost:8080/",
          "height": 283
        },
        "id": "ZZpSMjgkDw4C",
        "outputId": "cbb98b41-5751-449f-ae1c-50fea80602ad"
      },
      "execution_count": 39,
      "outputs": [
        {
          "output_type": "execute_result",
          "data": {
            "text/plain": [
              "<matplotlib.collections.PathCollection at 0x7efcad3e4ad0>"
            ]
          },
          "metadata": {},
          "execution_count": 39
        },
        {
          "output_type": "display_data",
          "data": {
            "text/plain": [
              "<Figure size 432x288 with 1 Axes>"
            ],
            "image/png": "[encoded data removed]"
          },
          "metadata": {
            "needs_background": "light"
          }
        }
      ]
    },
    {
      "cell_type": "code",
      "source": [
        "X_test = np.linspace(0,1, 100)\n",
        "y_test = true_func(X_test)\n",
        "plt.scatter(X, y , c='k')\n",
        "plt.plot(X_test, y_test, '--', label=\"True function\")"
      ],
      "metadata": {
        "colab": {
          "base_uri": "https://localhost:8080/",
          "height": 283
        },
        "id": "pRw-oFN2Dz2W",
        "outputId": "b95067d2-8aac-4adb-d5ff-7ef3e472a727"
      },
      "execution_count": 40,
      "outputs": [
        {
          "output_type": "execute_result",
          "data": {
            "text/plain": [
              "[<matplotlib.lines.Line2D at 0x7efcad45ac10>]"
            ]
          },
          "metadata": {},
          "execution_count": 40
        },
        {
          "output_type": "display_data",
          "data": {
            "text/plain": [
              "<Figure size 432x288 with 1 Axes>"
            ],
            "image/png": "[encoded data removed]"
          },
          "metadata": {
            "needs_background": "light"
          }
        }
      ]
    },
    {
      "cell_type": "code",
      "source": [
        "degrees = [1, 4, 15]  #15차 항 까지 고려"
      ],
      "metadata": {
        "id": "Ktnqw7LXC454"
      },
      "execution_count": 41,
      "outputs": []
    },
    {
      "cell_type": "code",
      "source": [
        "result = {}\n",
        "for i in degrees :\n",
        "  pipeline = Pipeline([(\"polynomial_features\", PolynomialFeatures(degree=i, include_bias = False)),\n",
        "                      (\"linear_regression\", LinearRegression())])\n",
        "  scores = cross_val_score(pipeline, X.reshape(-1, 1), y, scoring=\"neg_mean_squared_error\", cv=10)\n",
        "  pipeline.fit(X.reshape(-1, 1),y)\n",
        "  result[i] = (pipeline, -scores.mean(), scores.std())"
      ],
      "metadata": {
        "id": "QawyCpNWC86d"
      },
      "execution_count": 42,
      "outputs": []
    },
    {
      "cell_type": "code",
      "source": [
        "result"
      ],
      "metadata": {
        "colab": {
          "base_uri": "https://localhost:8080/"
        },
        "id": "yyzRp9oJDoMi",
        "outputId": "3d06333a-d6cb-4561-abb3-95c8d6e109f4"
      },
      "execution_count": 43,
      "outputs": [
        {
          "output_type": "execute_result",
          "data": {
            "text/plain": [
              "{1: (Pipeline(steps=[('polynomial_features',\n",
              "                   PolynomialFeatures(degree=1, include_bias=False)),\n",
              "                  ('linear_regression', LinearRegression())]),\n",
              "  0.4077289625098685,\n",
              "  0.4254685884064717),\n",
              " 4: (Pipeline(steps=[('polynomial_features',\n",
              "                   PolynomialFeatures(degree=4, include_bias=False)),\n",
              "                  ('linear_regression', LinearRegression())]),\n",
              "  0.04320874987232072,\n",
              "  0.07077938529772176),\n",
              " 15: (Pipeline(steps=[('polynomial_features',\n",
              "                   PolynomialFeatures(degree=15, include_bias=False)),\n",
              "                  ('linear_regression', LinearRegression())]),\n",
              "  180526263.3177066,\n",
              "  541566374.0840327)}"
            ]
          },
          "metadata": {},
          "execution_count": 43
        }
      ]
    },
    {
      "cell_type": "code",
      "source": [
        "for i in result :\n",
        "  w = result[i][0].named_steps['linear_regression'].coef_\n",
        "  s = result[i][1]\n",
        "  print(f''' degree={i}의 MSE : {s:.2e}''')\n",
        "  print(f''' degree={i}의 회귀 계수 \\n {w} ''')\n",
        "  print()"
      ],
      "metadata": {
        "colab": {
          "base_uri": "https://localhost:8080/"
        },
        "id": "lJr_Cx59EL1D",
        "outputId": "555f8e34-5dc5-4e35-e3e3-1ebed99e717b"
      },
      "execution_count": 44,
      "outputs": [
        {
          "output_type": "stream",
          "name": "stdout",
          "text": [
            " degree=1의 MSE : 4.08e-01\n",
            " degree=1의 회귀 계수 \n",
            " [-1.60931179] \n",
            "\n",
            " degree=4의 MSE : 4.32e-02\n",
            " degree=4의 회귀 계수 \n",
            " [  0.46754142 -17.78954475  23.5926603   -7.26289872] \n",
            "\n",
            " degree=15의 MSE : 1.81e+08\n",
            " degree=15의 회귀 계수 \n",
            " [-2.98291188e+03  1.03898766e+05 -1.87415056e+06  2.03715125e+07\n",
            " -1.44872551e+08  7.09311979e+08 -2.47064676e+09  6.24558367e+09\n",
            " -1.15676035e+10  1.56894317e+10 -1.54005437e+10  1.06456871e+10\n",
            " -4.91375763e+09  1.35919168e+09 -1.70380199e+08] \n",
            "\n"
          ]
        }
      ]
    },
    {
      "cell_type": "code",
      "source": [
        "i"
      ],
      "metadata": {
        "colab": {
          "base_uri": "https://localhost:8080/"
        },
        "id": "xV-7RwE-E3W7",
        "outputId": "18496343-98d1-4644-b647-4bec319b0959"
      },
      "execution_count": 45,
      "outputs": [
        {
          "output_type": "execute_result",
          "data": {
            "text/plain": [
              "15"
            ]
          },
          "metadata": {},
          "execution_count": 45
        }
      ]
    },
    {
      "cell_type": "code",
      "source": [
        "#w 값\n",
        "result[i][0].named_steps['linear_regression'].coef_"
      ],
      "metadata": {
        "colab": {
          "base_uri": "https://localhost:8080/"
        },
        "id": "z6u-Ca-uE7sy",
        "outputId": "a4dfb82a-5eda-4e14-e352-dea81cce522a"
      },
      "execution_count": 46,
      "outputs": [
        {
          "output_type": "execute_result",
          "data": {
            "text/plain": [
              "array([-2.98291188e+03,  1.03898766e+05, -1.87415056e+06,  2.03715125e+07,\n",
              "       -1.44872551e+08,  7.09311979e+08, -2.47064676e+09,  6.24558367e+09,\n",
              "       -1.15676035e+10,  1.56894317e+10, -1.54005437e+10,  1.06456871e+10,\n",
              "       -4.91375763e+09,  1.35919168e+09, -1.70380199e+08])"
            ]
          },
          "metadata": {},
          "execution_count": 46
        }
      ]
    },
    {
      "cell_type": "code",
      "source": [
        "#s값\n",
        "result[i][0]"
      ],
      "metadata": {
        "colab": {
          "base_uri": "https://localhost:8080/"
        },
        "id": "0n48589nFH6_",
        "outputId": "60bf56a6-f29e-4285-d2c3-f613c09dac7a"
      },
      "execution_count": 47,
      "outputs": [
        {
          "output_type": "execute_result",
          "data": {
            "text/plain": [
              "Pipeline(steps=[('polynomial_features',\n",
              "                 PolynomialFeatures(degree=15, include_bias=False)),\n",
              "                ('linear_regression', LinearRegression())])"
            ]
          },
          "metadata": {},
          "execution_count": 47
        }
      ]
    },
    {
      "cell_type": "code",
      "source": [
        "#예측값 보기"
      ],
      "metadata": {
        "id": "Aiu-RCmdFRHt"
      },
      "execution_count": 48,
      "outputs": []
    },
    {
      "cell_type": "code",
      "source": [
        "for i in result :\n",
        "  pipelines = result[i][0]\n",
        "  pred = pipelines.predict(X_test[:, np.newaxis])\n",
        "  print(pred)"
      ],
      "metadata": {
        "colab": {
          "base_uri": "https://localhost:8080/"
        },
        "id": "cB5GBhyiGUkD",
        "outputId": "9db099f9-dc4c-4355-9d18-3f9c96cdb875"
      },
      "execution_count": 49,
      "outputs": [
        {
          "output_type": "stream",
          "name": "stdout",
          "text": [
            "[ 5.36680330e-01  5.20424656e-01  5.04168981e-01  4.87913306e-01\n",
            "  4.71657632e-01  4.55401957e-01  4.39146282e-01  4.22890608e-01\n",
            "  4.06634933e-01  3.90379258e-01  3.74123584e-01  3.57867909e-01\n",
            "  3.41612234e-01  3.25356560e-01  3.09100885e-01  2.92845210e-01\n",
            "  2.76589536e-01  2.60333861e-01  2.44078186e-01  2.27822512e-01\n",
            "  2.11566837e-01  1.95311162e-01  1.79055488e-01  1.62799813e-01\n",
            "  1.46544138e-01  1.30288464e-01  1.14032789e-01  9.77771145e-02\n",
            "  8.15214398e-02  6.52657651e-02  4.90100905e-02  3.27544158e-02\n",
            "  1.64987412e-02  2.43066497e-04 -1.60126082e-02 -3.22682828e-02\n",
            " -4.85239575e-02 -6.47796321e-02 -8.10353068e-02 -9.72909815e-02\n",
            " -1.13546656e-01 -1.29802331e-01 -1.46058005e-01 -1.62313680e-01\n",
            " -1.78569355e-01 -1.94825029e-01 -2.11080704e-01 -2.27336379e-01\n",
            " -2.43592053e-01 -2.59847728e-01 -2.76103403e-01 -2.92359077e-01\n",
            " -3.08614752e-01 -3.24870427e-01 -3.41126101e-01 -3.57381776e-01\n",
            " -3.73637451e-01 -3.89893125e-01 -4.06148800e-01 -4.22404475e-01\n",
            " -4.38660149e-01 -4.54915824e-01 -4.71171499e-01 -4.87427173e-01\n",
            " -5.03682848e-01 -5.19938523e-01 -5.36194197e-01 -5.52449872e-01\n",
            " -5.68705547e-01 -5.84961221e-01 -6.01216896e-01 -6.17472571e-01\n",
            " -6.33728245e-01 -6.49983920e-01 -6.66239595e-01 -6.82495269e-01\n",
            " -6.98750944e-01 -7.15006619e-01 -7.31262293e-01 -7.47517968e-01\n",
            " -7.63773643e-01 -7.80029317e-01 -7.96284992e-01 -8.12540667e-01\n",
            " -8.28796341e-01 -8.45052016e-01 -8.61307691e-01 -8.77563365e-01\n",
            " -8.93819040e-01 -9.10074715e-01 -9.26330389e-01 -9.42586064e-01\n",
            " -9.58841739e-01 -9.75097413e-01 -9.91353088e-01 -1.00760876e+00\n",
            " -1.02386444e+00 -1.04012011e+00 -1.05637579e+00 -1.07263146e+00]\n",
            "[ 1.03107515  1.03400696  1.03345345  1.02955778  1.02246132  1.0123036\n",
            "  0.99922233  0.98335344  0.96483102  0.94378734  0.92035287  0.89465626\n",
            "  0.86682434  0.83698214  0.80525287  0.77175791  0.73661685  0.69994744\n",
            "  0.66186563  0.62248556  0.58191954  0.54027809  0.49766989  0.45420181\n",
            "  0.40997892  0.36510446  0.31967986  0.27380475  0.22757691  0.18109235\n",
            "  0.13444523  0.08772791  0.04103093 -0.00555697 -0.05194889 -0.09805971\n",
            " -0.14380616 -0.18910677 -0.23388187 -0.27805364 -0.32154603 -0.36428484\n",
            " -0.40619767 -0.44721394 -0.48726488 -0.52628353 -0.56420476 -0.60096524\n",
            " -0.63650345 -0.67075972 -0.70367614 -0.73519667 -0.76526704 -0.79383481\n",
            " -0.82084937 -0.84626191 -0.87002544 -0.89209477 -0.91242654 -0.9309792\n",
            " -0.94771302 -0.96259007 -0.97557426 -0.98663128 -0.99572867 -1.00283576\n",
            " -1.00792369 -1.01096545 -1.01193581 -1.01081137 -1.00757054 -1.00219355\n",
            " -0.99466242 -0.98496103 -0.97307504 -0.95899193 -0.942701   -0.92419336\n",
            " -0.90346195 -0.8805015  -0.85530858 -0.82788154 -0.79822059 -0.76632772\n",
            " -0.73220674 -0.69586328 -0.6573048  -0.61654055 -0.57358159 -0.52844083\n",
            " -0.48113297 -0.43167451 -0.3800838  -0.32638098 -0.27058801 -0.21272867\n",
            " -0.15282854 -0.09091504 -0.02701738  0.0388334 ]\n",
            "[31.44929241 10.18574925  1.09028381 -1.71405098 -1.69256071 -0.74061621\n",
            "  0.22444513  0.85828197  1.12183936  1.11244302  0.96414611  0.7950202\n",
            "  0.68486897  0.67141204  0.75654375  0.91699807  1.11579844  1.31237381\n",
            "  1.47028959  1.56226989  1.57265335  1.49769447  1.34424826  1.12740189\n",
            "  0.86757587  0.58753671  0.30966243  0.05369628 -0.16487563 -0.33577589\n",
            " -0.45424086 -0.52075812 -0.54035116 -0.52154573 -0.47515728 -0.4130315\n",
            " -0.34685417 -0.28712319 -0.2423498  -0.21852809 -0.21888545 -0.24390227\n",
            " -0.29156962 -0.35783754 -0.4371972  -0.52333493 -0.60979656 -0.69060527\n",
            " -0.76078477 -0.81675095 -0.85654843 -0.87992255 -0.88823117 -0.88421333\n",
            " -0.87164258 -0.85490101 -0.83851492 -0.82669473 -0.82292065 -0.82960939\n",
            " -0.84789203 -0.87751939 -0.91690507 -0.96329837 -1.01307229 -1.06209919\n",
            " -1.10617693 -1.14146422 -1.16488244 -1.17443917 -1.16943763 -1.15054553\n",
            " -1.11970938 -1.07991605 -1.03481833 -0.9882661  -0.94379372 -0.90412144\n",
            " -0.87075631 -0.84374464 -0.82164205 -0.80174137 -0.78055991 -0.7545274\n",
            " -0.72083736 -0.6782654  -0.62779857 -0.57285715 -0.51888288 -0.47214247\n",
            " -0.43769623 -0.41676784 -0.40410758 -0.3866017  -0.34520222 -0.26353575\n",
            " -0.14819075 -0.06797005 -0.22218204 -1.05191017]\n"
          ]
        }
      ]
    },
    {
      "cell_type": "code",
      "source": [
        "#그래프 그리기\n",
        "plt.figure(figsize=(14,5))\n",
        "j = 0\n",
        "for i in result:\n",
        "  pipelines = result[i][0]\n",
        "  mean_score = result[i][1]\n",
        "  std_score = result[i][2]\n",
        "  pred = pipelines.predict(X_test[:, np.newaxis])\n",
        "  j+=1\n",
        "  ax = plt.subplot(1, len(degrees), j)\n",
        "  plt.plot(X_test, pred, label = 'Model')\n",
        "  plt.scatter(X, y , c= 'k', label = 'samples')\n",
        "  plt.plot(X_test, y_test, '--', label = 'True function')\n",
        "  plt.xlim((0,1))\n",
        "  plt.ylim((-2, 2))\n",
        "  plt.xlabel('x')\n",
        "  plt.ylabel('y')\n",
        "  plt.legend(loc='best')\n",
        "  plt.title(f'''Degree {i}\\nMSE = {mean_score:.2e}(+/- {std_score:.2e})''')\n",
        "  plt.setp(ax, xticks=(), yticks=())"
      ],
      "metadata": {
        "colab": {
          "base_uri": "https://localhost:8080/",
          "height": 274
        },
        "id": "qeyKU3eUGhLK",
        "outputId": "9540d202-00fd-43a6-a74e-5d11bda3b1e4"
      },
      "execution_count": 50,
      "outputs": [
        {
          "output_type": "display_data",
          "data": {
            "text/plain": [
              "<Figure size 1008x360 with 3 Axes>"
            ],
            "image/png": "[encoded data removed]"
          },
          "metadata": {}
        }
      ]
    },
    {
      "cell_type": "markdown",
      "source": [
        "1. 모델 단수  - 데이터를 제대로 표현하지 못하고 있다. 데이터에 적합된 정도가 작다. 과소 적합\n",
        "\n",
        "왼쪽상단의 예측값은 실제값에 비해 아래로 치우쳐져 있고, 오른쪽 하단은 위로 치우쳐져 있다. \n",
        "\n",
        "편향이 큰 모델\n",
        "\n",
        "2. 모델 적절\n",
        "\n",
        "3. 모델 복잡 - 모든 데이터를 표현하였지만, 새로운 데이터가 있을경우 잘못된 예측을 나타낸다 - 과대적합"
      ],
      "metadata": {
        "id": "hkQHr6TvLja1"
      }
    },
    {
      "cell_type": "markdown",
      "source": [
        "편향이 너무 높으면 전체 오류가 높다.\n",
        "\n",
        "편향을 낮추면 분산이 높아지지만 전체오류는 낮아진다.\n",
        "\n",
        "편향을 더 낮추고 분산이 높아지면 전체 오류가 높아진다."
      ],
      "metadata": {
        "id": "Vsf6Si5tME9-"
      }
    },
    {
      "cell_type": "markdown",
      "source": [
        "#최적화  = RSS 최소화 하기 + 회귀계수 제어하기"
      ],
      "metadata": {
        "id": "xtIhSJESPAwP"
      }
    },
    {
      "cell_type": "markdown",
      "source": [
        "$$\n",
        "L_R(w) = RSS + α||X||_p\n",
        "$$"
      ],
      "metadata": {
        "id": "z2gmqNWKP21t"
      }
    },
    {
      "cell_type": "markdown",
      "source": [
        "$$RSS = \\sum(y_i - y_i)^2 = \\sum (y_i - (w_i × x + w_0))^2$$\n",
        "\n",
        "의 식을 일반화 하면,\n",
        "\n",
        "$$L(w) = {1 \\over 2} \\sum(y_i - \\0 (w))^2$$\n",
        "\n",
        "노름은 다음과 같이 정의된다\n",
        "\n",
        "$$||X||_p = (\\sum_{i=1,d}|x_i|^p) ^{1 \\over p}$$\n",
        "\n",
        "노름 예제를 들어 알아보자\n",
        "\n",
        "$$X = (3, -4, 1)$$\n",
        "$$\n",
        "||X||_3 = (3^2 + |-4|^2 + 1^2)^{1/2} = 5.099\n",
        "$$\n",
        "\n",
        "$$\n",
        "||X||_3 = (3^3 + |-4|^3 +1^3)^{1/3} = 4.514\n",
        "$$\n",
        "\n",
        "Euclidean norm \n",
        "$$unit vector = {x \\over ||x||_2}$$"
      ],
      "metadata": {
        "id": "J6QXjtZhQX_1"
      }
    },
    {
      "cell_type": "markdown",
      "source": [
        "#P 값으로 1과 2를 주로 사용하며, 각각 L1노름,  L2 노름 이라 부른다.\n",
        "\n",
        "L(W) 를 적절히 수정(규제, Regularization)하기 위해 다음과 같은 두 식을 사용한다.\n",
        "\n",
        "L1 노름:\n",
        "$$L_R(w) = L(w) + α∑^{d}_{j=1} |w_j|$$\n",
        "L2 노름:\n",
        "$$L_R(w) = L(w) + α∑^{d}_{j=1} w^2_j$$"
      ],
      "metadata": {
        "id": "E5INnBErSZuV"
      }
    },
    {
      "cell_type": "markdown",
      "source": [
        "alpha의 의미\n",
        "\n",
        "alpha 가 작을 경우, \n",
        "$$L_R(W)  L(W)$$\n",
        "\n",
        "alpha 가 클 경우 \n",
        "$$RSS (W) << ||X||\n",
        "_p$$\n",
        "\n",
        "비용함수를 최소화하기 위해서는 W가 0에 가까운 값이 되어야한다.\n",
        "\n",
        "L1 norm : 라쏘회귀 : 회귀 계수를 0으로 만들어 불필요한 회귀계수는 삭제 -> 회귀계수 선택\n",
        "\n",
        "L2 norm : 릿지 회귀 : 회귀 계수를 감소싯키나 0으로 만들지는 않음\n"
      ],
      "metadata": {
        "id": "F5Nl8ENqTd4h"
      }
    },
    {
      "cell_type": "code",
      "source": [
        "from sklearn.linear_model import Ridge\n",
        "from sklearn.model_selection import cross_val_score\n",
        "import pandas as pd\n",
        "\n",
        "# boston 데이타셋 로드\n",
        "from sklearn import datasets\n",
        "boston = datasets.load_boston()\n",
        "\n",
        "# boston 데이타셋 DataFrame 변환 \n",
        "bostonDF = pd.DataFrame(boston.data , columns = boston.feature_names)\n",
        "\n",
        "# boston dataset의 target array는 주택 가격임. 이를 PRICE 컬럼으로 DataFrame에 추가함. \n",
        "bostonDF['PRICE'] = boston.target\n",
        "print('Boston 데이타셋 크기 :',bostonDF.shape)\n",
        "\n",
        "y_target = bostonDF['PRICE']\n",
        "X_data = bostonDF.drop(['PRICE'],axis=1,inplace=False)"
      ],
      "metadata": {
        "colab": {
          "base_uri": "https://localhost:8080/"
        },
        "id": "hiwIOJOZHy78",
        "outputId": "638e03a0-6735-4d86-a1e9-7fb597aafe48"
      },
      "execution_count": 54,
      "outputs": [
        {
          "output_type": "stream",
          "name": "stdout",
          "text": [
            "Boston 데이타셋 크기 : (506, 14)\n"
          ]
        },
        {
          "output_type": "stream",
          "name": "stderr",
          "text": [
            "/usr/local/lib/python3.7/dist-packages/sklearn/utils/deprecation.py:87: FutureWarning: Function load_boston is deprecated; `load_boston` is deprecated in 1.0 and will be removed in 1.2.\n",
            "\n",
            "    The Boston housing prices dataset has an ethical problem. You can refer to\n",
            "    the documentation of this function for further details.\n",
            "\n",
            "    The scikit-learn maintainers therefore strongly discourage the use of this\n",
            "    dataset unless the purpose of the code is to study and educate about\n",
            "    ethical issues in data science and machine learning.\n",
            "\n",
            "    In this special case, you can fetch the dataset from the original\n",
            "    source::\n",
            "\n",
            "        import pandas as pd\n",
            "        import numpy as np\n",
            "\n",
            "\n",
            "        data_url = \"http://lib.stat.cmu.edu/datasets/boston\"\n",
            "        raw_df = pd.read_csv(data_url, sep=\"\\s+\", skiprows=22, header=None)\n",
            "        data = np.hstack([raw_df.values[::2, :], raw_df.values[1::2, :2]])\n",
            "        target = raw_df.values[1::2, 2]\n",
            "\n",
            "    Alternative datasets include the California housing dataset (i.e.\n",
            "    :func:`~sklearn.datasets.fetch_california_housing`) and the Ames housing\n",
            "    dataset. You can load the datasets as follows::\n",
            "\n",
            "        from sklearn.datasets import fetch_california_housing\n",
            "        housing = fetch_california_housing()\n",
            "\n",
            "    for the California housing dataset and::\n",
            "\n",
            "        from sklearn.datasets import fetch_openml\n",
            "        housing = fetch_openml(name=\"house_prices\", as_frame=True)\n",
            "\n",
            "    for the Ames housing dataset.\n",
            "    \n",
            "  warnings.warn(msg, category=FutureWarning)\n"
          ]
        }
      ]
    },
    {
      "cell_type": "code",
      "source": [
        "ridge = Ridge(alpha = 10)\n",
        "neg_mse_scores = cross_val_score(ridge, X_data, y_target, scoring=\"neg_mean_squared_error\", cv = 5)\n",
        "rmse_scores  = np.sqrt(-1 * neg_mse_scores)\n",
        "avg_rmse = np.mean(rmse_scores)\n",
        "print(' 5 folds 의 개별 Negative MSE scores: ', np.round(neg_mse_scores, 3))\n",
        "print(' 5 folds 의 개별 RMSE scores : ', np.round(rmse_scores,3))\n",
        "print(' 5 folds 의 평균 RMSE : {0:.3f} '.format(avg_rmse))"
      ],
      "metadata": {
        "colab": {
          "base_uri": "https://localhost:8080/"
        },
        "id": "HIoWDk94VsO8",
        "outputId": "d35d2889-fbeb-402d-dcea-6d3a163e5756"
      },
      "execution_count": 55,
      "outputs": [
        {
          "output_type": "stream",
          "name": "stdout",
          "text": [
            " 5 folds 의 개별 Negative MSE scores:  [-11.422 -24.294 -28.144 -74.599 -28.517]\n",
            " 5 folds 의 개별 RMSE scores :  [3.38  4.929 5.305 8.637 5.34 ]\n",
            " 5 folds 의 평균 RMSE : 5.518 \n"
          ]
        }
      ]
    },
    {
      "cell_type": "code",
      "source": [
        "alphas = [0, 0.1, 1, 10, 100]"
      ],
      "metadata": {
        "id": "vu2FB-K_anzJ"
      },
      "execution_count": 28,
      "outputs": []
    },
    {
      "cell_type": "code",
      "source": [
        "for i in alphas:\n",
        "  ridge = Ridge(alpha =i)\n",
        "  neg_mse_scores = cross_val_score(ridge, X_data, y_target, scoring='neg_mean_squared_error', cv=5)\n",
        "  avg_rmse = np.mean(np.sqrt(-1 * neg_mse_scores))\n",
        "  print(i, ':', avg_rmse)"
      ],
      "metadata": {
        "colab": {
          "base_uri": "https://localhost:8080/"
        },
        "id": "77hduOMHbKRP",
        "outputId": "ef9b0627-2652-40d8-bbfc-8a90c03277a1"
      },
      "execution_count": 56,
      "outputs": [
        {
          "output_type": "stream",
          "name": "stdout",
          "text": [
            "0 : 5.828658946215809\n",
            "0.1 : 5.7884866270324125\n",
            "1 : 5.652570965613546\n",
            "10 : 5.518166280868968\n",
            "100 : 5.329589628472143\n"
          ]
        }
      ]
    },
    {
      "cell_type": "code",
      "source": [
        "for alpha in alphas:\n",
        "  ridge = Ridge(alpha = alpha)\n",
        "  ridge.fit(X_data, y_target)\n",
        "  coeff = pd.Series(data = ridge.coef_, index= X_data.columns)\n",
        "  print('-----', alpha, '-----')\n",
        "  print(coeff)"
      ],
      "metadata": {
        "colab": {
          "base_uri": "https://localhost:8080/"
        },
        "id": "2mVWXxfMbfjn",
        "outputId": "a819e9c2-3bca-4204-bd8d-c54c83712096"
      },
      "execution_count": 57,
      "outputs": [
        {
          "output_type": "stream",
          "name": "stdout",
          "text": [
            "----- 0 -----\n",
            "CRIM       -0.108011\n",
            "ZN          0.046420\n",
            "INDUS       0.020559\n",
            "CHAS        2.686734\n",
            "NOX       -17.766611\n",
            "RM          3.809865\n",
            "AGE         0.000692\n",
            "DIS        -1.475567\n",
            "RAD         0.306049\n",
            "TAX        -0.012335\n",
            "PTRATIO    -0.952747\n",
            "B           0.009312\n",
            "LSTAT      -0.524758\n",
            "dtype: float64\n",
            "----- 0.1 -----\n",
            "CRIM       -0.107474\n",
            "ZN          0.046572\n",
            "INDUS       0.015999\n",
            "CHAS        2.670019\n",
            "NOX       -16.684645\n",
            "RM          3.818233\n",
            "AGE        -0.000269\n",
            "DIS        -1.459626\n",
            "RAD         0.303515\n",
            "TAX        -0.012421\n",
            "PTRATIO    -0.940759\n",
            "B           0.009368\n",
            "LSTAT      -0.525966\n",
            "dtype: float64\n",
            "----- 1 -----\n",
            "CRIM       -0.104595\n",
            "ZN          0.047443\n",
            "INDUS      -0.008805\n",
            "CHAS        2.552393\n",
            "NOX       -10.777015\n",
            "RM          3.854000\n",
            "AGE        -0.005415\n",
            "DIS        -1.372654\n",
            "RAD         0.290142\n",
            "TAX        -0.012912\n",
            "PTRATIO    -0.876074\n",
            "B           0.009673\n",
            "LSTAT      -0.533343\n",
            "dtype: float64\n",
            "----- 10 -----\n",
            "CRIM      -0.101435\n",
            "ZN         0.049579\n",
            "INDUS     -0.042962\n",
            "CHAS       1.952021\n",
            "NOX       -2.371619\n",
            "RM         3.702272\n",
            "AGE       -0.010707\n",
            "DIS       -1.248808\n",
            "RAD        0.279596\n",
            "TAX       -0.013993\n",
            "PTRATIO   -0.797945\n",
            "B          0.010037\n",
            "LSTAT     -0.559366\n",
            "dtype: float64\n",
            "----- 100 -----\n",
            "CRIM      -0.102202\n",
            "ZN         0.054496\n",
            "INDUS     -0.052826\n",
            "CHAS       0.638335\n",
            "NOX       -0.262847\n",
            "RM         2.334536\n",
            "AGE        0.001212\n",
            "DIS       -1.153390\n",
            "RAD        0.315358\n",
            "TAX       -0.015856\n",
            "PTRATIO   -0.829218\n",
            "B          0.009393\n",
            "LSTAT     -0.660764\n",
            "dtype: float64\n"
          ]
        }
      ]
    },
    {
      "cell_type": "code",
      "source": [
        "import seaborn as sns"
      ],
      "metadata": {
        "id": "hkbv3rD2d6hw"
      },
      "execution_count": 59,
      "outputs": []
    },
    {
      "cell_type": "code",
      "source": [
        "def alpha_w_plot(alpha, coeffs, pos, fig, axes):\n",
        "  plot_title = 'alpha : ' + str(alpha)\n",
        "  coeff = coeffs.sort_values(ascending = False)\n",
        "  axes[pos].set_title(plot_title)\n",
        "  axes[pos].set_xlim(-3,6)\n",
        "  sns.barplot(x=coeff.values, y = coeff.index, ax= axes[pos])"
      ],
      "metadata": {
        "id": "WxQMMH_Ac_b1"
      },
      "execution_count": 62,
      "outputs": []
    },
    {
      "cell_type": "code",
      "source": [
        "fig, axes = plt.subplots(figsize=(18,6), nrows=1, ncols=5)\n",
        "for pos, alpha in enumerate(alphas):\n",
        "  ridge = Ridge(alpha = alpha)\n",
        "  ridge.fit(X_data, y_target)\n",
        "  coeff = pd.Series(data = ridge.coef_, index= X_data.columns)\n",
        "  alpha_w_plot(alpha, coeff, pos, fig, axes)"
      ],
      "metadata": {
        "colab": {
          "base_uri": "https://localhost:8080/",
          "height": 236
        },
        "id": "-A1QX821d5li",
        "outputId": "35b3a90f-0510-4a11-ca9a-84b5e225fec0"
      },
      "execution_count": 63,
      "outputs": [
        {
          "output_type": "display_data",
          "data": {
            "text/plain": [
              "<Figure size 1296x432 with 5 Axes>"
            ],
            "image/png": "[encoded data removed]"
          },
          "metadata": {
            "needs_background": "light"
          }
        }
      ]
    },
    {
      "cell_type": "code",
      "source": [
        ""
      ],
      "metadata": {
        "id": "gpgCxKd5eV-S"
      },
      "execution_count": null,
      "outputs": []
    }
  ]
}