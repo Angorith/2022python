{
  "nbformat": 4,
  "nbformat_minor": 0,
  "metadata": {
    "colab": {
      "name": "0819 71일차 ML(Surprise 책 유사도).ipynb",
      "provenance": [],
      "collapsed_sections": [],
      "mount_file_id": "18d6o46wwZEEVg68i4DetNI0VUR6XpWsT",
      "authorship_tag": "ABX9TyPql22CIPXZ9dV7ei/0qafn",
      "include_colab_link": true
    },
    "kernelspec": {
      "name": "python3",
      "display_name": "Python 3"
    },
    "language_info": {
      "name": "python"
    }
  },
  "cells": [
    {
      "cell_type": "markdown",
      "metadata": {
        "id": "view-in-github",
        "colab_type": "text"
      },
      "source": [
        "<a href=\"https://colab.research.google.com/github/myungjinma/Python_Study/blob/main/0819_71%EC%9D%BC%EC%B0%A8_ML(Surprise_%EC%B1%85_%EC%9C%A0%EC%82%AC%EB%8F%84).ipynb\" target=\"_parent\"><img src=\"https://colab.research.google.com/assets/colab-badge.svg\" alt=\"Open In Colab\"/></a>"
      ]
    },
    {
      "cell_type": "code",
      "execution_count": 1,
      "metadata": {
        "colab": {
          "base_uri": "https://localhost:8080/"
        },
        "id": "lDrg_4pOY6QJ",
        "outputId": "7d36771d-9798-4d1e-ea05-229607405d46"
      },
      "outputs": [
        {
          "output_type": "stream",
          "name": "stdout",
          "text": [
            "Looking in indexes: https://pypi.org/simple, https://us-python.pkg.dev/colab-wheels/public/simple/\n",
            "Collecting scikit-surprise\n",
            "  Downloading scikit-surprise-1.1.1.tar.gz (11.8 MB)\n",
            "\u001b[K     |████████████████████████████████| 11.8 MB 8.6 MB/s \n",
            "\u001b[?25hRequirement already satisfied: joblib>=0.11 in /usr/local/lib/python3.7/dist-packages (from scikit-surprise) (1.1.0)\n",
            "Requirement already satisfied: numpy>=1.11.2 in /usr/local/lib/python3.7/dist-packages (from scikit-surprise) (1.21.6)\n",
            "Requirement already satisfied: scipy>=1.0.0 in /usr/local/lib/python3.7/dist-packages (from scikit-surprise) (1.7.3)\n",
            "Requirement already satisfied: six>=1.10.0 in /usr/local/lib/python3.7/dist-packages (from scikit-surprise) (1.15.0)\n",
            "Building wheels for collected packages: scikit-surprise\n",
            "  Building wheel for scikit-surprise (setup.py) ... \u001b[?25l\u001b[?25hdone\n",
            "  Created wheel for scikit-surprise: filename=scikit_surprise-1.1.1-cp37-cp37m-linux_x86_64.whl size=1633973 sha256=27ab58551ccc3cccec9001904194bbf781746144fa6d36c9cc414c1883b14b90\n",
            "  Stored in directory: /root/.cache/pip/wheels/76/44/74/b498c42be47b2406bd27994e16c5188e337c657025ab400c1c\n",
            "Successfully built scikit-surprise\n",
            "Installing collected packages: scikit-surprise\n",
            "Successfully installed scikit-surprise-1.1.1\n"
          ]
        }
      ],
      "source": [
        "pip install scikit-surprise"
      ]
    },
    {
      "cell_type": "code",
      "source": [
        "from surprise import SVD\n",
        "from surprise import Dataset\n",
        "from surprise import accuracy\n",
        "from surprise.model_selection import train_test_split\n",
        "from surprise.dataset import DatasetAutoFolds"
      ],
      "metadata": {
        "id": "OicfVFdlaOiu"
      },
      "execution_count": 2,
      "outputs": []
    },
    {
      "cell_type": "code",
      "source": [
        "from surprise import Reader"
      ],
      "metadata": {
        "id": "eGbUmJ3oap_V"
      },
      "execution_count": 5,
      "outputs": []
    },
    {
      "cell_type": "code",
      "source": [
        "!cp drive/MyDrive/class_data/*.csv ./"
      ],
      "metadata": {
        "id": "7ufW73fIaW3c"
      },
      "execution_count": 3,
      "outputs": []
    },
    {
      "cell_type": "code",
      "source": [
        "import numpy as np\n",
        "import pandas as pd"
      ],
      "metadata": {
        "id": "ruBUZRmRaZYu"
      },
      "execution_count": 6,
      "outputs": []
    },
    {
      "cell_type": "code",
      "source": [
        "file1 = './BX-Book-Ratings.csv'\n",
        "file2 = './BX_Books.csv'"
      ],
      "metadata": {
        "id": "5kSzUetza6GN"
      },
      "execution_count": 13,
      "outputs": []
    },
    {
      "cell_type": "code",
      "source": [
        "def pred_data(file1, file2):\n",
        "  ratings = pd.read_table(file1, sep=';', encoding='latin-1')\n",
        "  with open('./bbs_edit','w') as g:\n",
        "    with open(file2, encoding='latin-1') as f:\n",
        "      line = f.readline()\n",
        "      while(line):\n",
        "        real_line = line.replace('\\\";\\\"', '###').replace('\\\"', '')\n",
        "        g.write(real_line)\n",
        "        line = f.readline()\n",
        "  books = pd.read_table('./bbs_edit', sep='###', encoding='latin-1', engine= 'python')\n",
        "  bookratings = pd.merge(ratings, books, on='ISBN')\n",
        "  bookratings.rename(columns={'ISBN':'item'}, inplace=True)\n",
        "  books.rename(columns={'Book-Title':'title', \"ISBN\":'item'}, inplace=True)\n",
        "  bookratings.to_csv('./Book-Ratings_noh.csv', index=False, header=False)"
      ],
      "metadata": {
        "id": "r3ea7pNdbnYL"
      },
      "execution_count": 14,
      "outputs": []
    },
    {
      "cell_type": "code",
      "source": [
        "pred_data(file1, file2)"
      ],
      "metadata": {
        "id": "BPZqhjTQfmy7"
      },
      "execution_count": 15,
      "outputs": []
    },
    {
      "cell_type": "code",
      "source": [
        "!more bbs_edit"
      ],
      "metadata": {
        "colab": {
          "base_uri": "https://localhost:8080/"
        },
        "id": "yl7-BT0_fwmH",
        "outputId": "d35b0b7b-6aac-42a8-8570-e58e93efabda"
      },
      "execution_count": 16,
      "outputs": [
        {
          "output_type": "stream",
          "name": "stdout",
          "text": [
            "ISBN###Book-Title###Book-Author###Year-Of-Publication###Publisher###Image-URL-S#\n",
            "##Image-URL-M###Image-URL-L\n",
            "0195153448###Classical Mythology###Mark P. O. Morford###2002###Oxford University\n",
            " Press###http://images.amazon.com/images/P/0195153448.01.THUMBZZZ.jpg###http://i\n",
            "mages.amazon.com/images/P/0195153448.01.MZZZZZZZ.jpg###http://images.amazon.com/\n",
            "images/P/0195153448.01.LZZZZZZZ.jpg\n",
            "0002005018###Clara Callan###Richard Bruce Wright###2001###HarperFlamingo Canada#\n",
            "##http://images.amazon.com/images/P/0002005018.01.THUMBZZZ.jpg###http://images.a\n",
            "mazon.com/images/P/0002005018.01.MZZZZZZZ.jpg###http://images.amazon.com/images/\n",
            "P/0002005018.01.LZZZZZZZ.jpg\n",
            "0060973129###Decision in Normandy###Carlo D'Este###1991###HarperPerennial###http\n",
            "://images.amazon.com/images/P/0060973129.01.THUMBZZZ.jpg###http://images.amazon.\n",
            "com/images/P/0060973129.01.MZZZZZZZ.jpg###http://images.amazon.com/images/P/0060\n",
            "973129.01.LZZZZZZZ.jpg\n",
            "0374157065###Flu: The Story of the Great Influenza Pandemic of 1918 and the Sear\n",
            "ch for the Virus That Caused It###Gina Bari Kolata###1999###Farrar Straus Giroux\n",
            "###http://images.amazon.com/images/P/0374157065.01.THUMBZZZ.jpg###http://images.\n",
            "amazon.com/images/P/0374157065.01.MZZZZZZZ.jpg###http://images.amazon.com/images\n",
            "/P/0374157065.01.LZZZZZZZ.jpg\n",
            "0393045218###The Mummies of Urumchi###E. J. W. Barber###1999###W. W. Norton & Co\n",
            "mpany###http://images.amazon.com/images/P/0393045218.01.THUMBZZZ.jpg###http://im\n",
            "ages.amazon.com/images/P/0393045218.01.MZZZZZZZ.jpg###http://images.amazon.com/i\n",
            "mages/P/0393045218.01.LZZZZZZZ.jpg\n",
            "\u001b[K"
          ]
        }
      ]
    },
    {
      "cell_type": "code",
      "source": [
        "!head Book-Ratings_noh.csv"
      ],
      "metadata": {
        "colab": {
          "base_uri": "https://localhost:8080/"
        },
        "id": "VT3Q93qxgI-0",
        "outputId": "8f76d5cc-ff5c-4dbb-9d24-08bffa6acc10"
      },
      "execution_count": 18,
      "outputs": [
        {
          "output_type": "stream",
          "name": "stdout",
          "text": [
            "276725,034545104X,0,Flesh Tones: A Novel,M. J. Rose,2002,Ballantine Books,http://images.amazon.com/images/P/034545104X.01.THUMBZZZ.jpg,http://images.amazon.com/images/P/034545104X.01.MZZZZZZZ.jpg,http://images.amazon.com/images/P/034545104X.01.LZZZZZZZ.jpg\n",
            "2313,034545104X,5,Flesh Tones: A Novel,M. J. Rose,2002,Ballantine Books,http://images.amazon.com/images/P/034545104X.01.THUMBZZZ.jpg,http://images.amazon.com/images/P/034545104X.01.MZZZZZZZ.jpg,http://images.amazon.com/images/P/034545104X.01.LZZZZZZZ.jpg\n",
            "6543,034545104X,0,Flesh Tones: A Novel,M. J. Rose,2002,Ballantine Books,http://images.amazon.com/images/P/034545104X.01.THUMBZZZ.jpg,http://images.amazon.com/images/P/034545104X.01.MZZZZZZZ.jpg,http://images.amazon.com/images/P/034545104X.01.LZZZZZZZ.jpg\n",
            "8680,034545104X,5,Flesh Tones: A Novel,M. J. Rose,2002,Ballantine Books,http://images.amazon.com/images/P/034545104X.01.THUMBZZZ.jpg,http://images.amazon.com/images/P/034545104X.01.MZZZZZZZ.jpg,http://images.amazon.com/images/P/034545104X.01.LZZZZZZZ.jpg\n",
            "10314,034545104X,9,Flesh Tones: A Novel,M. J. Rose,2002,Ballantine Books,http://images.amazon.com/images/P/034545104X.01.THUMBZZZ.jpg,http://images.amazon.com/images/P/034545104X.01.MZZZZZZZ.jpg,http://images.amazon.com/images/P/034545104X.01.LZZZZZZZ.jpg\n",
            "23768,034545104X,0,Flesh Tones: A Novel,M. J. Rose,2002,Ballantine Books,http://images.amazon.com/images/P/034545104X.01.THUMBZZZ.jpg,http://images.amazon.com/images/P/034545104X.01.MZZZZZZZ.jpg,http://images.amazon.com/images/P/034545104X.01.LZZZZZZZ.jpg\n",
            "28266,034545104X,0,Flesh Tones: A Novel,M. J. Rose,2002,Ballantine Books,http://images.amazon.com/images/P/034545104X.01.THUMBZZZ.jpg,http://images.amazon.com/images/P/034545104X.01.MZZZZZZZ.jpg,http://images.amazon.com/images/P/034545104X.01.LZZZZZZZ.jpg\n",
            "28523,034545104X,0,Flesh Tones: A Novel,M. J. Rose,2002,Ballantine Books,http://images.amazon.com/images/P/034545104X.01.THUMBZZZ.jpg,http://images.amazon.com/images/P/034545104X.01.MZZZZZZZ.jpg,http://images.amazon.com/images/P/034545104X.01.LZZZZZZZ.jpg\n",
            "39002,034545104X,0,Flesh Tones: A Novel,M. J. Rose,2002,Ballantine Books,http://images.amazon.com/images/P/034545104X.01.THUMBZZZ.jpg,http://images.amazon.com/images/P/034545104X.01.MZZZZZZZ.jpg,http://images.amazon.com/images/P/034545104X.01.LZZZZZZZ.jpg\n",
            "50403,034545104X,9,Flesh Tones: A Novel,M. J. Rose,2002,Ballantine Books,http://images.amazon.com/images/P/034545104X.01.THUMBZZZ.jpg,http://images.amazon.com/images/P/034545104X.01.MZZZZZZZ.jpg,http://images.amazon.com/images/P/034545104X.01.LZZZZZZZ.jpg\n"
          ]
        }
      ]
    },
    {
      "cell_type": "code",
      "source": [
        "def get_data():\n",
        "  col = 'user item rating'\n",
        "  reader = Reader(line_format=col, sep=',', rating_scale=(0,10))\n",
        "  data = Dataset.load_from_file('./Book-Ratings_noh.csv', reader= reader)\n",
        "  trainset, testset = train_test_split(data, test_size=.25, random_state=0)\n",
        "  return trainset, testset"
      ],
      "metadata": {
        "id": "hvw0EXBKgYyt"
      },
      "execution_count": 20,
      "outputs": []
    },
    {
      "cell_type": "code",
      "source": [
        "trainset, testset = get_data()"
      ],
      "metadata": {
        "id": "-65bRgV8he9F"
      },
      "execution_count": 21,
      "outputs": []
    },
    {
      "cell_type": "code",
      "source": [
        "trainset"
      ],
      "metadata": {
        "colab": {
          "base_uri": "https://localhost:8080/"
        },
        "id": "4FS5VhPbhhUJ",
        "outputId": "1ace2758-a92d-43ac-b238-94e7a5d88fd6"
      },
      "execution_count": 22,
      "outputs": [
        {
          "output_type": "execute_result",
          "data": {
            "text/plain": [
              "<surprise.trainset.Trainset at 0x7f7637c1f710>"
            ]
          },
          "metadata": {},
          "execution_count": 22
        }
      ]
    },
    {
      "cell_type": "code",
      "source": [
        "testset"
      ],
      "metadata": {
        "id": "Z6Ea59WEhmZd"
      },
      "execution_count": null,
      "outputs": []
    },
    {
      "cell_type": "code",
      "source": [
        "def learning_test(trainset, testset):\n",
        "  algo=SVD()\n",
        "  algo.fit(trainset)\n",
        "  predictions = algo.test(testset)\n",
        "  accuracy.rmse(predictions)\n",
        "  return algo"
      ],
      "metadata": {
        "id": "yCi7Bv7gh1r2"
      },
      "execution_count": 24,
      "outputs": []
    },
    {
      "cell_type": "code",
      "source": [
        "algo = learning_test(trainset, testset)"
      ],
      "metadata": {
        "colab": {
          "base_uri": "https://localhost:8080/"
        },
        "id": "YtjaSu1giDnp",
        "outputId": "2798bb74-ddd6-4a9c-dd02-8c048ae05aeb"
      },
      "execution_count": 25,
      "outputs": [
        {
          "output_type": "stream",
          "name": "stdout",
          "text": [
            "RMSE: 3.5104\n"
          ]
        }
      ]
    },
    {
      "cell_type": "code",
      "source": [
        "def full_data_learning():\n",
        "  col = 'user item rating'\n",
        "  reader = Reader(line_format=col, sep=',', rating_scale=(0,10))\n",
        "  data_folds = DatasetAutoFolds(ratings_file='./Book-Ratings_noh.csv', reader = reader)\n",
        "  trainset = data_folds.build_full_trainset()\n",
        "  algo = SVD(n_epochs=20, n_factors=50, random_state=0)\n",
        "  algo.fit(trainset)\n",
        "  return algo"
      ],
      "metadata": {
        "id": "UAugh0M7iIar"
      },
      "execution_count": 27,
      "outputs": []
    },
    {
      "cell_type": "code",
      "source": [
        "algo = full_data_learning()"
      ],
      "metadata": {
        "id": "i893GaBvlGys"
      },
      "execution_count": 28,
      "outputs": []
    },
    {
      "cell_type": "markdown",
      "source": [
        "임의의 사용자 uid = 276847이 읽지 않은 책들의 ISBN을 얻어낸다."
      ],
      "metadata": {
        "id": "KsyfF9IfpWfs"
      }
    },
    {
      "cell_type": "code",
      "source": [
        "def isbn_of_unread(puid):\n",
        "  data = pd.read_csv('./Book-Ratings_noh.csv', names = ['uid', 'isbn', 'rating', 'title', 'author', 'year','publisher','IS','IM','IL'])\n",
        "  str_expr = 'uid != @puid'\n",
        "  df_q = data.query(str_expr)['isbn'].unique()\n",
        "  return df_q"
      ],
      "metadata": {
        "id": "VzZrn1AWpWJL"
      },
      "execution_count": 31,
      "outputs": []
    },
    {
      "cell_type": "code",
      "source": [
        "puid = 276847\n",
        "unread_ISBN_array = isbn_of_unread(puid)"
      ],
      "metadata": {
        "id": "z5yEoFeJp3VF"
      },
      "execution_count": 32,
      "outputs": []
    },
    {
      "cell_type": "code",
      "source": [
        "unread_ISBN_array"
      ],
      "metadata": {
        "colab": {
          "base_uri": "https://localhost:8080/"
        },
        "id": "hnB0gm_Wp_c6",
        "outputId": "849e26de-41fb-4165-cff8-c015b04752ca"
      },
      "execution_count": 33,
      "outputs": [
        {
          "output_type": "execute_result",
          "data": {
            "text/plain": [
              "array(['034545104X', '0155061224', '0446520802', ..., '0590907301',\n",
              "       '0679752714', '0806917695'], dtype=object)"
            ]
          },
          "metadata": {},
          "execution_count": 33
        }
      ]
    },
    {
      "cell_type": "code",
      "source": [
        "unread_ISBN_array.shape"
      ],
      "metadata": {
        "colab": {
          "base_uri": "https://localhost:8080/"
        },
        "id": "BXLwkX5vqE8A",
        "outputId": "203c3d99-8a8c-404b-dc06-5f13c1f4f22c"
      },
      "execution_count": 34,
      "outputs": [
        {
          "output_type": "execute_result",
          "data": {
            "text/plain": [
              "(270162,)"
            ]
          },
          "metadata": {},
          "execution_count": 34
        }
      ]
    },
    {
      "cell_type": "markdown",
      "source": [
        "읽지 않은 책에 대해 예측 평점 구하기"
      ],
      "metadata": {
        "id": "4VvxYVpaqZSA"
      }
    },
    {
      "cell_type": "code",
      "source": [
        "def prediction(algo, uid, uia):\n",
        "  pred = [algo.predict(uid=str(uid), iid = str(isbn)) for isbn in uia[:100]]\n",
        "  ests = lambda x: x.est\n",
        "  pred.sort(key=ests, reverse=True)\n",
        "  top10_pred = pred[:10]\n",
        "  isbn_est_list = [(pr.iid, pr.est)for pr in top10_pred]\n",
        "  return isbn_est_list"
      ],
      "metadata": {
        "id": "kvpOoCZkqJbL"
      },
      "execution_count": 35,
      "outputs": []
    },
    {
      "cell_type": "code",
      "source": [
        "isbn_est_list = prediction(algo, puid, unread_ISBN_array)"
      ],
      "metadata": {
        "id": "6fcvW1aXq20S"
      },
      "execution_count": 36,
      "outputs": []
    },
    {
      "cell_type": "code",
      "source": [
        "isbn_est_list #276847 이 읽지 않은 책중 평점 높은 순 리스트"
      ],
      "metadata": {
        "colab": {
          "base_uri": "https://localhost:8080/"
        },
        "id": "xCL8SLPOsb4E",
        "outputId": "b16a7167-6a8d-4bec-c5db-6d8b0f2e8554"
      },
      "execution_count": 37,
      "outputs": [
        {
          "output_type": "execute_result",
          "data": {
            "text/plain": [
              "[('0060096195', 8.856477559499961),\n",
              " ('0440414121', 7.889920872477146),\n",
              " ('0440498058', 7.487994845731043),\n",
              " ('043935806X', 7.397499186356904),\n",
              " ('0439104769', 7.281217315478902),\n",
              " ('3442131340', 7.213855518651504),\n",
              " ('3548603203', 7.169508155420552),\n",
              " ('1562827898', 6.9363309257583206),\n",
              " ('3404122879', 6.891915281327378),\n",
              " ('0061054151', 6.810686878764974)]"
            ]
          },
          "metadata": {},
          "execution_count": 37
        }
      ]
    },
    {
      "cell_type": "markdown",
      "source": [
        "정렬된 ISBN을 이용하여 실제 책 정보 얻어내기"
      ],
      "metadata": {
        "id": "YCrZcCUNswsR"
      }
    },
    {
      "cell_type": "code",
      "source": [
        "def book_info(prediction):\n",
        "  books = pd.read_table('./bbs_edit', sep=\"###\", encoding='latin-1', engine='python')\n",
        "  isbn_list = []\n",
        "  for i in prediction:\n",
        "    isbn_list.append(i[0])\n",
        "  str_expr = 'ISBN in @isbn_list'\n",
        "  df_q = books.query(str_expr)\n",
        "  return df_q"
      ],
      "metadata": {
        "id": "UREbKs49s0V7"
      },
      "execution_count": 38,
      "outputs": []
    },
    {
      "cell_type": "code",
      "source": [
        "df = book_info(isbn_est_list)"
      ],
      "metadata": {
        "id": "CO3WvE2htMa_"
      },
      "execution_count": 40,
      "outputs": []
    },
    {
      "cell_type": "code",
      "source": [
        "print(df)"
      ],
      "metadata": {
        "colab": {
          "base_uri": "https://localhost:8080/"
        },
        "id": "ZM2fyhoMuKs8",
        "outputId": "8b1a37ce-5298-474b-a7f7-aa5cd98730fc"
      },
      "execution_count": 41,
      "outputs": [
        {
          "output_type": "stream",
          "name": "stdout",
          "text": [
            "              ISBN                                         Book-Title  \\\n",
            "3217    3548603203                                      Artemis Fowl.   \n",
            "5506    043935806X  Harry Potter and the Order of the Phoenix (Boo...   \n",
            "5731    0440414121  The Watsons Go to Birmingham - 1963 (Yearling ...   \n",
            "16781   0440498058                                  A Wrinkle In Time   \n",
            "17084   0060096195                                  The Boy Next Door   \n",
            "25384   0061054151                            Whirlwind (The X-Files)   \n",
            "82228   3442131340  Ein Fall fÃ?ÃÂ¼r Kay Scarpetta / Ein Mord fÃ...   \n",
            "132925  0439104769                                       Bloomability   \n",
            "173728  3404122879                         Vater Himmel, Mutter Erde.   \n",
            "246871  1562827898  Storm Surge: A Quin St. James and Mike McClear...   \n",
            "\n",
            "                    Book-Author  Year-Of-Publication            Publisher  \\\n",
            "3217                Eoin Colfer                 2003      Ullstein TB-Vlg   \n",
            "5506              J. K. Rowling                 2003           Scholastic   \n",
            "5731    CHRISTOPHER PAUL CURTIS                 1997             Yearling   \n",
            "16781         MADELEINE L'ENGLE                 1998             Yearling   \n",
            "17084              Meggin Cabot                 2002           Avon Trade   \n",
            "25384             Charles Grant                 1995  HarperEntertainment   \n",
            "82228         Patricia Cornwell                 2001             Goldmann   \n",
            "132925            Sharon Creech                    0       Scholastic Inc   \n",
            "173728             Sue Harrison                 1995          LÃ?ÃÂ¼bbe   \n",
            "246871          T. J. MacGregor                 1993       Hyperion Books   \n",
            "\n",
            "                                              Image-URL-S  \\\n",
            "3217    http://images.amazon.com/images/P/3548603203.0...   \n",
            "5506    http://images.amazon.com/images/P/043935806X.0...   \n",
            "5731    http://images.amazon.com/images/P/0440414121.0...   \n",
            "16781   http://images.amazon.com/images/P/0440498058.0...   \n",
            "17084   http://images.amazon.com/images/P/0060096195.0...   \n",
            "25384   http://images.amazon.com/images/P/0061054151.0...   \n",
            "82228   http://images.amazon.com/images/P/3442131340.0...   \n",
            "132925  http://images.amazon.com/images/P/0439104769.0...   \n",
            "173728  http://images.amazon.com/images/P/3404122879.0...   \n",
            "246871  http://images.amazon.com/images/P/1562827898.0...   \n",
            "\n",
            "                                              Image-URL-M  \\\n",
            "3217    http://images.amazon.com/images/P/3548603203.0...   \n",
            "5506    http://images.amazon.com/images/P/043935806X.0...   \n",
            "5731    http://images.amazon.com/images/P/0440414121.0...   \n",
            "16781   http://images.amazon.com/images/P/0440498058.0...   \n",
            "17084   http://images.amazon.com/images/P/0060096195.0...   \n",
            "25384   http://images.amazon.com/images/P/0061054151.0...   \n",
            "82228   http://images.amazon.com/images/P/3442131340.0...   \n",
            "132925  http://images.amazon.com/images/P/0439104769.0...   \n",
            "173728  http://images.amazon.com/images/P/3404122879.0...   \n",
            "246871  http://images.amazon.com/images/P/1562827898.0...   \n",
            "\n",
            "                                              Image-URL-L  \n",
            "3217    http://images.amazon.com/images/P/3548603203.0...  \n",
            "5506    http://images.amazon.com/images/P/043935806X.0...  \n",
            "5731    http://images.amazon.com/images/P/0440414121.0...  \n",
            "16781   http://images.amazon.com/images/P/0440498058.0...  \n",
            "17084   http://images.amazon.com/images/P/0060096195.0...  \n",
            "25384   http://images.amazon.com/images/P/0061054151.0...  \n",
            "82228   http://images.amazon.com/images/P/3442131340.0...  \n",
            "132925  http://images.amazon.com/images/P/0439104769.0...  \n",
            "173728  http://images.amazon.com/images/P/3404122879.0...  \n",
            "246871  http://images.amazon.com/images/P/1562827898.0...  \n"
          ]
        }
      ]
    },
    {
      "cell_type": "markdown",
      "source": [
        "#영화의 장르 유사도 측정 유사도 측정 방법\n",
        "\n",
        "한 영화는 여러가지 장르를 가질 수 있다.\n",
        "\n",
        "g_sample= [Action, Fantasy, Fiction]\n",
        "\n",
        "g_sample을 한 문장으로 바꾼다. :'Action Fantasy Fiction'\n",
        "\n",
        "sklearn.feature_extraction.test.CountVetorizer 사용\n",
        "\n",
        "이 형태로 여러 영화의 장르를 한 문장으로 바꾼 데이터를 준비하여 문서처럼 간주한다.\n",
        "\n",
        "각 개별 장르를 중복없이 나열하고, 각 장르별로 빈도수를 세어 벡터로 만든다.\n",
        "\n",
        "n_gram_range(1,1) 단어 하나를 토큰화 한다.\n",
        "\n",
        "n_gram_range(1,2) 단어 하나 뿐만 아니라, 나타난 순서대로 단어 2개씩으로도 토큰화 한다. (1,2) == (범위 최솟값,범위 최댓값)의 의미이다."
      ],
      "metadata": {
        "id": "KiTmb5m5vgGQ"
      }
    },
    {
      "cell_type": "code",
      "source": [
        "(7 ,3, 1, 4, 1) & (8, 4, 1, 3, 1)= 56 + 12 + 1 + 12 + 1"
      ],
      "metadata": {
        "id": "YcEaF1LZwsUn"
      },
      "execution_count": null,
      "outputs": []
    }
  ]
}